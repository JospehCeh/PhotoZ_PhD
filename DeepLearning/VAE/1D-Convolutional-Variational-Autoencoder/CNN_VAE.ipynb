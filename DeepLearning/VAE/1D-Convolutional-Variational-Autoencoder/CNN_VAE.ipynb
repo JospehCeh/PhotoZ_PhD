{
 "cells": [
  {
   "cell_type": "markdown",
   "metadata": {},
   "source": [
    "#  1D-Convolutional-Variational-Autoencoder"
   ]
  },
  {
   "cell_type": "markdown",
   "metadata": {},
   "source": [
    "https://github.com/leoniloris/1D-Convolutional-Variational-Autoencoder"
   ]
  },
  {
   "cell_type": "code",
   "execution_count": 1,
   "metadata": {},
   "outputs": [],
   "source": [
    "# import bcolz \n",
    "import importlib\n",
    "import numpy as np\n",
    "import torch.utils.data\n",
    "import matplotlib.pyplot as plt\n",
    "from tqdm import tqdm_notebook as tqdm\n",
    "\n",
    "from torch.autograd import Variable\n",
    "import torch"
   ]
  },
  {
   "cell_type": "code",
   "execution_count": 2,
   "metadata": {
    "tags": []
   },
   "outputs": [],
   "source": [
    "from sklearn.model_selection import train_test_split\n",
    "from sklearn.preprocessing import OneHotEncoder\n",
    "import h5py"
   ]
  },
  {
   "cell_type": "code",
   "execution_count": 3,
   "metadata": {
    "tags": []
   },
   "outputs": [
    {
     "name": "stdout",
     "output_type": "stream",
     "text": [
      "Using device: cpu\n",
      "\n"
     ]
    }
   ],
   "source": [
    "DEVICE = torch.device('cuda' if torch.cuda.is_available() else 'cpu')\n",
    "print('Using device:', DEVICE)\n",
    "print()"
   ]
  },
  {
   "cell_type": "markdown",
   "metadata": {},
   "source": [
    "# Load Dataset\n"
   ]
  },
  {
   "cell_type": "markdown",
   "metadata": {},
   "source": [
    "## Load your favorite dataset"
   ]
  },
  {
   "cell_type": "code",
   "execution_count": 4,
   "metadata": {
    "tags": []
   },
   "outputs": [
    {
     "name": "stdout",
     "output_type": "stream",
     "text": [
      "<KeysViewHDF5 ['RT', 'RV', 'Rmag', 'dec', 'flambda', 'num', 'quantile', 'ra', 'redshift', 'wl']>\n"
     ]
    }
   ],
   "source": [
    "hf = h5py.File('SLspectra.hdf5', 'r') \n",
    "data_in = hf['flambda'][:]\n",
    "wl_in = hf['wl'][:]\n",
    "target = hf['quantile'][:]\n",
    "print(hf.keys())"
   ]
  },
  {
   "cell_type": "code",
   "execution_count": 5,
   "metadata": {
    "ExecuteTime": {
     "end_time": "2017-07-08T01:08:48.889834Z",
     "start_time": "2017-07-08T01:08:48.643672Z"
    }
   },
   "outputs": [],
   "source": [
    "# you're supposed to come up with \n",
    "# x_val (VALIDATION_SIZE, TIME_STEPS), y_val (VALIDATION_SIZE, N_CLASSES) => validataion dataset \n",
    "# x_train (TRAIN_SIZE, TIME_STEPS), y_train (TRAIN_SIZE, N_CLASSES)       => train dataset"
   ]
  },
  {
   "cell_type": "code",
   "execution_count": 6,
   "metadata": {
    "tags": []
   },
   "outputs": [],
   "source": [
    "x_train, x_val, y_train, y_val = train_test_split(data_in,target,test_size=0.2)"
   ]
  },
  {
   "cell_type": "code",
   "execution_count": 7,
   "metadata": {
    "tags": []
   },
   "outputs": [],
   "source": [
    "y_train_cat = (y_train-1).astype(int)\n",
    "y_val_cat = (y_val-1).astype(int)"
   ]
  },
  {
   "cell_type": "code",
   "execution_count": 8,
   "metadata": {
    "tags": []
   },
   "outputs": [],
   "source": [
    "NCAT = len(np.unique(y_train_cat))"
   ]
  },
  {
   "cell_type": "code",
   "execution_count": 9,
   "metadata": {
    "tags": []
   },
   "outputs": [
    {
     "data": {
      "text/plain": [
       "11"
      ]
     },
     "execution_count": 9,
     "metadata": {},
     "output_type": "execute_result"
    }
   ],
   "source": [
    "NCAT"
   ]
  },
  {
   "cell_type": "code",
   "execution_count": 10,
   "metadata": {
    "tags": []
   },
   "outputs": [],
   "source": [
    "def one_hot(a, num_classes):\n",
    "    return np.squeeze(np.eye(num_classes)[a.reshape(-1)])"
   ]
  },
  {
   "cell_type": "code",
   "execution_count": 11,
   "metadata": {
    "tags": []
   },
   "outputs": [
    {
     "data": {
      "text/plain": [
       "array([[1., 0.],\n",
       "       [0., 1.]])"
      ]
     },
     "execution_count": 11,
     "metadata": {},
     "output_type": "execute_result"
    }
   ],
   "source": [
    "one_hot(np.array([0, 1]), 2)"
   ]
  },
  {
   "cell_type": "code",
   "execution_count": 12,
   "metadata": {
    "tags": []
   },
   "outputs": [],
   "source": [
    "y_train = one_hot(y_train_cat,NCAT)\n",
    "y_val = one_hot(y_train_cat,NCAT)"
   ]
  },
  {
   "cell_type": "markdown",
   "metadata": {},
   "source": [
    "## Size params"
   ]
  },
  {
   "cell_type": "code",
   "execution_count": 13,
   "metadata": {},
   "outputs": [],
   "source": [
    "LENGTH = x_train.shape[-1]\n",
    "NCLASSES = y_train.shape[-1]"
   ]
  },
  {
   "cell_type": "markdown",
   "metadata": {},
   "source": [
    "## Normalize by max"
   ]
  },
  {
   "cell_type": "code",
   "execution_count": 14,
   "metadata": {
    "ExecuteTime": {
     "end_time": "2017-06-22T20:33:30.787459Z",
     "start_time": "2017-06-22T20:33:30.785255Z"
    }
   },
   "outputs": [],
   "source": [
    "x_val = x_val / x_val.max(axis=-1, keepdims=True)\n",
    "x_train = x_train / x_train.max(axis=-1, keepdims=True)\n",
    "y_train_oh = np.argmax(y_train, axis=-1) # one hot\n",
    "y_val_oh = np.argmax(y_val, axis=-1)     # one hot"
   ]
  },
  {
   "cell_type": "markdown",
   "metadata": {},
   "source": [
    "## Compute Class Weights"
   ]
  },
  {
   "cell_type": "code",
   "execution_count": 15,
   "metadata": {
    "ExecuteTime": {
     "end_time": "2017-07-08T01:09:06.313789Z",
     "start_time": "2017-07-08T01:09:06.301761Z"
    }
   },
   "outputs": [],
   "source": [
    "weights = 1.0 / np.sum(y_train, axis=0)\n",
    "normalized_weights = weights / np.max(weights)\n",
    "class_weight = {i : normalized_weights[i] for i in range(len(normalized_weights))}\n",
    "weights = torch.from_numpy(np.array(list(class_weight.values()))).float().to(DEVICE)\n",
    "#weights = torch.from_numpy(np.array(list(class_weight.values()))).float()"
   ]
  },
  {
   "cell_type": "markdown",
   "metadata": {},
   "source": [
    "# Construct Model"
   ]
  },
  {
   "cell_type": "code",
   "execution_count": 16,
   "metadata": {},
   "outputs": [
    {
     "data": {
      "text/plain": [
       "0"
      ]
     },
     "execution_count": 16,
     "metadata": {},
     "output_type": "execute_result"
    }
   ],
   "source": [
    "import gc; gc.collect()"
   ]
  },
  {
   "cell_type": "markdown",
   "metadata": {},
   "source": [
    "## (De)Convolution block\n"
   ]
  },
  {
   "cell_type": "code",
   "execution_count": 17,
   "metadata": {},
   "outputs": [],
   "source": [
    "class Conv_block(torch.nn.Module):\n",
    "    def __init__(self, in_channels, out_channels, kernel_size, padding, is_conv=True):\n",
    "        super(Conv_block, self).__init__()\n",
    "        self.in_channels = in_channels\n",
    "        self.out_channels = out_channels\n",
    "        self.kernel_size = kernel_size\n",
    "        self.padding = padding \n",
    "        self.pool_op = torch.nn.AvgPool1d(2, ) if is_conv \\\n",
    "                  else torch.nn.Upsample(scale_factor=2, mode='linear')\n",
    "        self.conv = torch.nn.Conv1d(in_channels, out_channels, kernel_size, padding=padding)\n",
    "        self.bn = torch.nn.BatchNorm1d(out_channels, eps=0.001, momentum=0.99)\n",
    "        self.relu = torch.nn.ReLU()\n",
    "    def forward(self, x):\n",
    "        x = self.conv(x)\n",
    "        x = self.bn(x)\n",
    "        x = self.relu(x)\n",
    "        return self.pool_op(x)"
   ]
  },
  {
   "cell_type": "markdown",
   "metadata": {},
   "source": [
    "## Encoder/Classifier block\n"
   ]
  },
  {
   "cell_type": "code",
   "execution_count": 18,
   "metadata": {},
   "outputs": [],
   "source": [
    "class Encoder(torch.nn.Module):\n",
    "    def __init__(self, in_channels, in_length, nclasses, latent_size, encoder_out_channels):\n",
    "        super(Encoder, self).__init__()\n",
    "        \n",
    "        self.in_channels = in_channels\n",
    "        self.in_length = in_length\n",
    "        self.nclasses = nclasses\n",
    "        self.latent_size = latent_size\n",
    "        self.encoder_out_channels = encoder_out_channels\n",
    "        length = self.in_length\n",
    "        self.bn0 = torch.nn.BatchNorm1d(self.in_channels, eps=0.001, momentum=0.99)\n",
    "        # Layer 1\n",
    "        in_channels = self.in_channels\n",
    "        out_channels = 32\n",
    "        kernel_size = 201\n",
    "        padding = kernel_size // 2\n",
    "        self.conv_block_1 = Conv_block(in_channels, out_channels, kernel_size, padding)\n",
    "        length = length // 2\n",
    "        # Layer 2\n",
    "        in_channels = out_channels\n",
    "        out_channels = 32\n",
    "        kernel_size = 201\n",
    "        padding = kernel_size // 2\n",
    "        self.conv_block_2 = Conv_block(in_channels, out_channels, kernel_size, padding)\n",
    "        length = length // 2\n",
    "        \n",
    "        # Layer 3\n",
    "        in_channels = out_channels\n",
    "        last_featuremaps_channels = 64\n",
    "        kernel_size = 201\n",
    "        padding = kernel_size // 2\n",
    "        self.conv_block_3 = Conv_block(in_channels, last_featuremaps_channels, kernel_size, padding)\n",
    "        length = length // 2\n",
    "        \n",
    "        in_channels = last_featuremaps_channels\n",
    "        out_channels = NCLASSES\n",
    "        kernel_size = 30\n",
    "        padding = kernel_size // 2\n",
    "        self.conv_final = torch.nn.Conv1d(in_channels, out_channels, kernel_size, padding=padding)\n",
    "        self.gp_final = torch.nn.AvgPool1d(length)\n",
    "        \n",
    "        # encoder\n",
    "        in_channels = last_featuremaps_channels\n",
    "        out_channels = self.encoder_out_channels\n",
    "        kernel_size = 51\n",
    "        padding = kernel_size // 2\n",
    "        self.adapt_pool = torch.nn.AvgPool1d(2); length = length // 2\n",
    "        self.adapt_conv = torch.nn.Conv1d(in_channels, out_channels, kernel_size, padding=padding)\n",
    "        self.encode_mean = torch.nn.Linear(length*out_channels, self.latent_size)\n",
    "        self.encode_logvar = torch.nn.Linear(length*out_channels, self.latent_size)\n",
    "        self.relu = torch.nn.ReLU()\n",
    "        length = 1\n",
    "\n",
    "    def forward(self, x):\n",
    "        x = x.view(-1, self.in_channels, self.in_length)\n",
    "        x = self.bn0(x)\n",
    "        x = self.conv_block_1(x)\n",
    "        x = self.conv_block_2(x)\n",
    "        x = self.conv_block_3(x)\n",
    "        cv_final = self.conv_final(x)\n",
    "        oh_class = self.gp_final(cv_final)\n",
    "        x = self.adapt_pool(x)\n",
    "        x = self.adapt_conv(x)\n",
    "        x = x.view(x.size(0), -1)\n",
    "        mean = self.relu(self.encode_mean(x)) \n",
    "        logvar = self.relu(self.encode_logvar(x))\n",
    "        return [oh_class.view(oh_class.size(0), self.nclasses), \n",
    "                mean, logvar, \n",
    "                self._sample_latent(mean, logvar)]\n",
    "        \n",
    "    def _sample_latent(self, mean, logvar): # z ~ N(mean, var (sigma^2))   \n",
    "        z_std = torch.from_numpy(np.random.normal(0, 1, size=mean.size())).float()\n",
    "        sigma = torch.exp(logvar).cuda()\n",
    "        return mean + sigma * Variable(z_std, requires_grad=False).cuda()"
   ]
  },
  {
   "cell_type": "markdown",
   "metadata": {},
   "source": [
    "## Decoder block"
   ]
  },
  {
   "cell_type": "code",
   "execution_count": 19,
   "metadata": {},
   "outputs": [],
   "source": [
    "class Decoder(torch.nn.Module):\n",
    "    def __init__(self, length, in_channels, nclasses, latent_size):\n",
    "        super(Decoder, self).__init__()\n",
    "        \n",
    "        self.in_channels = in_channels\n",
    "        self.length = length\n",
    "        self.latent_size = latent_size\n",
    "        length = self.length  \n",
    "        length = length // 2 // 2 // 2 \n",
    "        # Adapt Layer\n",
    "        self.relu = torch.nn.ReLU()\n",
    "        self.tanh = torch.nn.Tanh()\n",
    "        self.adapt_nn = torch.nn.Linear(latent_size, self.in_channels*length)\n",
    "        # Layer 1\n",
    "        in_channels = self.in_channels\n",
    "        out_channels = 64\n",
    "        kernel_size = 200\n",
    "        padding = kernel_size // 2\n",
    "        self.deconv_block_1 = Conv_block(in_channels, out_channels, kernel_size, padding, is_conv=False)\n",
    "        length = length * 2\n",
    "        # Layer 2\n",
    "        in_channels = out_channels\n",
    "        out_channels = 32\n",
    "        kernel_size = 200\n",
    "        padding = kernel_size // 2\n",
    "        self.deconv_block_2 = Conv_block(in_channels, out_channels, kernel_size, padding, is_conv=False)\n",
    "        length = length * 2\n",
    "        \n",
    "        # Layer 3\n",
    "        in_channels = out_channels\n",
    "        out_channels = 32\n",
    "        kernel_size = 200\n",
    "        padding = kernel_size // 2\n",
    "        self.deconv_block_3 = Conv_block(in_channels, out_channels, kernel_size, padding, is_conv=False)\n",
    "        length = length * 2\n",
    "        \n",
    "        in_channels = out_channels\n",
    "        out_channels = 1\n",
    "        kernel_size = 200\n",
    "        padding = kernel_size // 2\n",
    "        self.decode_conv = torch.nn.Conv1d(in_channels, out_channels, kernel_size, padding=padding)\n",
    "        \n",
    "    def forward(self, z):\n",
    "\n",
    "        x = self.relu(self.adapt_nn(z)).cuda()\n",
    "        x = x.view(x.size(0), self.in_channels, self.length // 2 // 2 // 2)\n",
    "        x = self.deconv_block_1(x)\n",
    "        x = self.deconv_block_2(x)\n",
    "        x = self.deconv_block_3(x)\n",
    "        x = self.decode_conv(x)\n",
    "        out = self.tanh(x)\n",
    "        return out"
   ]
  },
  {
   "cell_type": "markdown",
   "metadata": {},
   "source": [
    "## Variational autoencoder"
   ]
  },
  {
   "cell_type": "code",
   "execution_count": 20,
   "metadata": {},
   "outputs": [],
   "source": [
    "class VAE(torch.nn.Module):\n",
    "    def __init__(self, length, nclasses, latent_size, transition_channels):\n",
    "        super(VAE, self).__init__()\n",
    "        self.encoder = Encoder(1, length, nclasses, latent_size, transition_channels)\n",
    "        self.decoder = Decoder(length, transition_channels, nclasses, latent_size)\n",
    "    def count_parameters(self):\n",
    "        return np.sum([np.prod(x.size()) for x in self.parameters()])\n",
    "    def forward(self, x):\n",
    "        oh_class, mean, z = self.encoder(x)\n",
    "        x_decoded = self.decoder(z)\n",
    "        return oh_class, mean, z, x_decoded"
   ]
  },
  {
   "cell_type": "code",
   "execution_count": 21,
   "metadata": {},
   "outputs": [
    {
     "data": {
      "text/plain": [
       "1435886"
      ]
     },
     "execution_count": 21,
     "metadata": {},
     "output_type": "execute_result"
    }
   ],
   "source": [
    "#model = VAE(LENGTH, NCLASSES, 10, 4).cuda()\n",
    "model = VAE(LENGTH, NCLASSES, 10, 4).to(DEVICE)\n",
    "model.count_parameters()"
   ]
  },
  {
   "cell_type": "code",
   "execution_count": 22,
   "metadata": {},
   "outputs": [
    {
     "ename": "AssertionError",
     "evalue": "Torch not compiled with CUDA enabled",
     "output_type": "error",
     "traceback": [
      "\u001b[0;31m---------------------------------------------------------------------------\u001b[0m",
      "\u001b[0;31mAssertionError\u001b[0m                            Traceback (most recent call last)",
      "Cell \u001b[0;32mIn[22], line 2\u001b[0m\n\u001b[1;32m      1\u001b[0m x \u001b[38;5;241m=\u001b[39m Variable(torch\u001b[38;5;241m.\u001b[39mfrom_numpy(x_train[:\u001b[38;5;241m2\u001b[39m]))\u001b[38;5;241m.\u001b[39mto(DEVICE)\u001b[38;5;241m.\u001b[39mfloat()\n\u001b[0;32m----> 2\u001b[0m a \u001b[38;5;241m=\u001b[39m \u001b[43mmodel\u001b[49m\u001b[38;5;241;43m.\u001b[39;49m\u001b[43mencoder\u001b[49m\u001b[43m(\u001b[49m\u001b[43mx\u001b[49m\u001b[43m)\u001b[49m\n",
      "File \u001b[0;32m~/anaconda3/envs/fidle23/lib/python3.9/site-packages/torch/nn/modules/module.py:1194\u001b[0m, in \u001b[0;36mModule._call_impl\u001b[0;34m(self, *input, **kwargs)\u001b[0m\n\u001b[1;32m   1190\u001b[0m \u001b[38;5;66;03m# If we don't have any hooks, we want to skip the rest of the logic in\u001b[39;00m\n\u001b[1;32m   1191\u001b[0m \u001b[38;5;66;03m# this function, and just call forward.\u001b[39;00m\n\u001b[1;32m   1192\u001b[0m \u001b[38;5;28;01mif\u001b[39;00m \u001b[38;5;129;01mnot\u001b[39;00m (\u001b[38;5;28mself\u001b[39m\u001b[38;5;241m.\u001b[39m_backward_hooks \u001b[38;5;129;01mor\u001b[39;00m \u001b[38;5;28mself\u001b[39m\u001b[38;5;241m.\u001b[39m_forward_hooks \u001b[38;5;129;01mor\u001b[39;00m \u001b[38;5;28mself\u001b[39m\u001b[38;5;241m.\u001b[39m_forward_pre_hooks \u001b[38;5;129;01mor\u001b[39;00m _global_backward_hooks\n\u001b[1;32m   1193\u001b[0m         \u001b[38;5;129;01mor\u001b[39;00m _global_forward_hooks \u001b[38;5;129;01mor\u001b[39;00m _global_forward_pre_hooks):\n\u001b[0;32m-> 1194\u001b[0m     \u001b[38;5;28;01mreturn\u001b[39;00m \u001b[43mforward_call\u001b[49m\u001b[43m(\u001b[49m\u001b[38;5;241;43m*\u001b[39;49m\u001b[38;5;28;43minput\u001b[39;49m\u001b[43m,\u001b[49m\u001b[43m \u001b[49m\u001b[38;5;241;43m*\u001b[39;49m\u001b[38;5;241;43m*\u001b[39;49m\u001b[43mkwargs\u001b[49m\u001b[43m)\u001b[49m\n\u001b[1;32m   1195\u001b[0m \u001b[38;5;66;03m# Do not call functions when jit is used\u001b[39;00m\n\u001b[1;32m   1196\u001b[0m full_backward_hooks, non_full_backward_hooks \u001b[38;5;241m=\u001b[39m [], []\n",
      "Cell \u001b[0;32mIn[18], line 69\u001b[0m, in \u001b[0;36mEncoder.forward\u001b[0;34m(self, x)\u001b[0m\n\u001b[1;32m     65\u001b[0m mean \u001b[38;5;241m=\u001b[39m \u001b[38;5;28mself\u001b[39m\u001b[38;5;241m.\u001b[39mrelu(\u001b[38;5;28mself\u001b[39m\u001b[38;5;241m.\u001b[39mencode_mean(x)) \n\u001b[1;32m     66\u001b[0m logvar \u001b[38;5;241m=\u001b[39m \u001b[38;5;28mself\u001b[39m\u001b[38;5;241m.\u001b[39mrelu(\u001b[38;5;28mself\u001b[39m\u001b[38;5;241m.\u001b[39mencode_logvar(x))\n\u001b[1;32m     67\u001b[0m \u001b[38;5;28;01mreturn\u001b[39;00m [oh_class\u001b[38;5;241m.\u001b[39mview(oh_class\u001b[38;5;241m.\u001b[39msize(\u001b[38;5;241m0\u001b[39m), \u001b[38;5;28mself\u001b[39m\u001b[38;5;241m.\u001b[39mnclasses), \n\u001b[1;32m     68\u001b[0m         mean, logvar, \n\u001b[0;32m---> 69\u001b[0m         \u001b[38;5;28;43mself\u001b[39;49m\u001b[38;5;241;43m.\u001b[39;49m\u001b[43m_sample_latent\u001b[49m\u001b[43m(\u001b[49m\u001b[43mmean\u001b[49m\u001b[43m,\u001b[49m\u001b[43m \u001b[49m\u001b[43mlogvar\u001b[49m\u001b[43m)\u001b[49m]\n",
      "Cell \u001b[0;32mIn[18], line 73\u001b[0m, in \u001b[0;36mEncoder._sample_latent\u001b[0;34m(self, mean, logvar)\u001b[0m\n\u001b[1;32m     71\u001b[0m \u001b[38;5;28;01mdef\u001b[39;00m \u001b[38;5;21m_sample_latent\u001b[39m(\u001b[38;5;28mself\u001b[39m, mean, logvar): \u001b[38;5;66;03m# z ~ N(mean, var (sigma^2))   \u001b[39;00m\n\u001b[1;32m     72\u001b[0m     z_std \u001b[38;5;241m=\u001b[39m torch\u001b[38;5;241m.\u001b[39mfrom_numpy(np\u001b[38;5;241m.\u001b[39mrandom\u001b[38;5;241m.\u001b[39mnormal(\u001b[38;5;241m0\u001b[39m, \u001b[38;5;241m1\u001b[39m, size\u001b[38;5;241m=\u001b[39mmean\u001b[38;5;241m.\u001b[39msize()))\u001b[38;5;241m.\u001b[39mfloat()\n\u001b[0;32m---> 73\u001b[0m     sigma \u001b[38;5;241m=\u001b[39m \u001b[43mtorch\u001b[49m\u001b[38;5;241;43m.\u001b[39;49m\u001b[43mexp\u001b[49m\u001b[43m(\u001b[49m\u001b[43mlogvar\u001b[49m\u001b[43m)\u001b[49m\u001b[38;5;241;43m.\u001b[39;49m\u001b[43mcuda\u001b[49m\u001b[43m(\u001b[49m\u001b[43m)\u001b[49m\n\u001b[1;32m     74\u001b[0m     \u001b[38;5;28;01mreturn\u001b[39;00m mean \u001b[38;5;241m+\u001b[39m sigma \u001b[38;5;241m*\u001b[39m Variable(z_std, requires_grad\u001b[38;5;241m=\u001b[39m\u001b[38;5;28;01mFalse\u001b[39;00m)\u001b[38;5;241m.\u001b[39mcuda()\n",
      "File \u001b[0;32m~/anaconda3/envs/fidle23/lib/python3.9/site-packages/torch/cuda/__init__.py:221\u001b[0m, in \u001b[0;36m_lazy_init\u001b[0;34m()\u001b[0m\n\u001b[1;32m    217\u001b[0m     \u001b[38;5;28;01mraise\u001b[39;00m \u001b[38;5;167;01mRuntimeError\u001b[39;00m(\n\u001b[1;32m    218\u001b[0m         \u001b[38;5;124m\"\u001b[39m\u001b[38;5;124mCannot re-initialize CUDA in forked subprocess. To use CUDA with \u001b[39m\u001b[38;5;124m\"\u001b[39m\n\u001b[1;32m    219\u001b[0m         \u001b[38;5;124m\"\u001b[39m\u001b[38;5;124mmultiprocessing, you must use the \u001b[39m\u001b[38;5;124m'\u001b[39m\u001b[38;5;124mspawn\u001b[39m\u001b[38;5;124m'\u001b[39m\u001b[38;5;124m start method\u001b[39m\u001b[38;5;124m\"\u001b[39m)\n\u001b[1;32m    220\u001b[0m \u001b[38;5;28;01mif\u001b[39;00m \u001b[38;5;129;01mnot\u001b[39;00m \u001b[38;5;28mhasattr\u001b[39m(torch\u001b[38;5;241m.\u001b[39m_C, \u001b[38;5;124m'\u001b[39m\u001b[38;5;124m_cuda_getDeviceCount\u001b[39m\u001b[38;5;124m'\u001b[39m):\n\u001b[0;32m--> 221\u001b[0m     \u001b[38;5;28;01mraise\u001b[39;00m \u001b[38;5;167;01mAssertionError\u001b[39;00m(\u001b[38;5;124m\"\u001b[39m\u001b[38;5;124mTorch not compiled with CUDA enabled\u001b[39m\u001b[38;5;124m\"\u001b[39m)\n\u001b[1;32m    222\u001b[0m \u001b[38;5;28;01mif\u001b[39;00m _cudart \u001b[38;5;129;01mis\u001b[39;00m \u001b[38;5;28;01mNone\u001b[39;00m:\n\u001b[1;32m    223\u001b[0m     \u001b[38;5;28;01mraise\u001b[39;00m \u001b[38;5;167;01mAssertionError\u001b[39;00m(\n\u001b[1;32m    224\u001b[0m         \u001b[38;5;124m\"\u001b[39m\u001b[38;5;124mlibcudart functions unavailable. It looks like you have a broken build?\u001b[39m\u001b[38;5;124m\"\u001b[39m)\n",
      "\u001b[0;31mAssertionError\u001b[0m: Torch not compiled with CUDA enabled"
     ]
    }
   ],
   "source": [
    "x = Variable(torch.from_numpy(x_train[:2])).to(DEVICE).float()\n",
    "a = model.encoder(x)"
   ]
  },
  {
   "cell_type": "markdown",
   "metadata": {},
   "source": [
    "## Losses"
   ]
  },
  {
   "cell_type": "code",
   "execution_count": null,
   "metadata": {},
   "outputs": [],
   "source": [
    "class SSD(torch.nn.Module):\n",
    "    def __init__(self):\n",
    "        super(SSD, self).__init__()\n",
    "    def forward(self, x_decoded, x):\n",
    "        loss = torch.sum(torch.pow(x - x_decoded, 2))\n",
    "        return loss / x_decoded.size(0)\n",
    "class Variational_loss(torch.nn.Module):\n",
    "    def __init__(self):\n",
    "        super(Variational_loss, self).__init__()\n",
    "    def forward(self, x_decoded, x, mu, logvar):\n",
    "        return SSD()(x_decoded, x) + torch.sum(0.5 * (mu ** 2 + torch.exp(logvar) - logvar - 1))\n",
    "\n",
    "class VAE_loss(torch.nn.Module):\n",
    "    def __init__(self, weights):\n",
    "        super(VAE_loss, self).__init__()\n",
    "        self.classification_loss = torch.nn.CrossEntropyLoss(weights)\n",
    "        self.variational_loss = Variational_loss()\n",
    "        self.c = 0.001\n",
    "    def forward(self, x_decoded, x, mu, oh_class, y):\n",
    "        \n",
    "        a = self.classification_loss(oh_class.cuda(), y)\n",
    "        b = self.variational_loss(\n",
    "            x_decoded.squeeze()[:,:LENGTH].cuda(), \n",
    "            x.squeeze()[:,:LENGTH].cuda(), \n",
    "            mu) * self.c\n",
    "        return a + b, a, b"
   ]
  },
  {
   "cell_type": "markdown",
   "metadata": {},
   "source": [
    "## Data loader"
   ]
  },
  {
   "cell_type": "code",
   "execution_count": null,
   "metadata": {},
   "outputs": [],
   "source": [
    "class Dataset(torch.utils.data.Dataset):\n",
    "    def __init__(self, x, y):\n",
    "        self.x = x\n",
    "        self.y = y\n",
    "    def __getitem__(self, idx):\n",
    "        return self.x[idx], self.y[idx]\n",
    "    def __len__(self):\n",
    "        return len(self.x)\n",
    "batch_size = 256\n",
    "\n",
    "train_loader = torch.utils.data.DataLoader(\n",
    "    dataset=Dataset(x_train, y_train_oh), \n",
    "    batch_size=batch_size, \n",
    "    shuffle=True)\n",
    "val_loader = torch.utils.data.DataLoader(\n",
    "    dataset=Dataset(x_val, y_val_oh), \n",
    "    batch_size=batch_size, \n",
    "    shuffle=True)"
   ]
  },
  {
   "cell_type": "markdown",
   "metadata": {},
   "source": [
    "## Tester"
   ]
  },
  {
   "cell_type": "code",
   "execution_count": null,
   "metadata": {},
   "outputs": [],
   "source": [
    "def test(model, loader):\n",
    "    acc = []\n",
    "    for batch_id, (x, y) in tqdm(enumerate(loader), total=len(loader)):\n",
    "        x = Variable(x).float().cuda()\n",
    "        y = Variable(y).cuda()\n",
    "        out = model(x)\n",
    "        y_pred = out[0]\n",
    "        _, index = torch.max(y_pred, -1)\n",
    "        acc.append((index == y).cpu().data.numpy())\n",
    "    acc = np.concatenate(acc).mean()\n",
    "    return acc"
   ]
  },
  {
   "cell_type": "markdown",
   "metadata": {},
   "source": [
    "# Train"
   ]
  },
  {
   "cell_type": "markdown",
   "metadata": {},
   "source": [
    "## Train Classifier/Encoder first"
   ]
  },
  {
   "cell_type": "markdown",
   "metadata": {},
   "source": [
    "### Freeze variational encoder layers"
   ]
  },
  {
   "cell_type": "code",
   "execution_count": null,
   "metadata": {},
   "outputs": [],
   "source": [
    "classifier = model.encoder\n",
    "parameters = []\n",
    "layers = (classifier.adapt_conv, classifier.adapt_pool, classifier.encode_mean, classifier.encode_logvar)\n",
    "for layer in layers:\n",
    "    for param in layer.parameters():\n",
    "        param.requires_grad = False\n",
    "for param in classifier.parameters():\n",
    "    if param.requires_grad == True:\n",
    "        parameters.append(param)\n",
    "classifier_parameters = iter(parameters)"
   ]
  },
  {
   "cell_type": "markdown",
   "metadata": {},
   "source": [
    "### Create optimizer and classifier"
   ]
  },
  {
   "cell_type": "code",
   "execution_count": null,
   "metadata": {},
   "outputs": [],
   "source": [
    "optim_classifier = torch.optim.Adam(classifier_parameters)\n",
    "Loss = torch.nn.CrossEntropyLoss(weights)"
   ]
  },
  {
   "cell_type": "markdown",
   "metadata": {},
   "source": [
    "## Train"
   ]
  },
  {
   "cell_type": "code",
   "execution_count": null,
   "metadata": {},
   "outputs": [],
   "source": [
    "learning_rates = [0.01] * 4 + [0.001] * 4 + [0.0001] * 3 + [0.00001] * 3 \n",
    "for lr in tqdm(learning_rates, total=len(learning_rates)):\n",
    "    optim_classifier.param_groups[0]['lr'] = lr\n",
    "    for i, (x, y) in tqdm(enumerate(train_loader), total=len(train_loader)):\n",
    "        #x = Variable(x).float().cuda()\n",
    "        #y = Variable(y.long()).cuda()\n",
    "        x = Variable(x).float()\n",
    "        y = Variable(y.long())\n",
    "\n",
    "        oh_class, mu, logvar, z = model.encoder(x)\n",
    "        #loss = Loss(oh_class.cuda(), y)\n",
    "        loss = Loss(oh_class, y)\n",
    "        optim_classifier.zero_grad()\n",
    "        loss.backward()\n",
    "        optim_classifier.step()\n",
    "    print('Loss:' ,loss.data)\n",
    "    print('Train Accuracy: ', test(model.encoder, train_loader))\n",
    "    print('Validation Accuracy:', test(model.encoder, val_loader))\n"
   ]
  },
  {
   "cell_type": "markdown",
   "metadata": {},
   "source": [
    "## Train Decoder"
   ]
  },
  {
   "cell_type": "code",
   "execution_count": null,
   "metadata": {},
   "outputs": [],
   "source": [
    "nepochs = 50\n",
    "for epoch in tqdm(range(nepochs), total=nepochs):\n",
    "    optim.param_groups[0]['lr'] *= 0.912011 # 0.001*(a^50) = 0.00001, a = 0.912011\n",
    "    \n",
    "    for i, (x, y) in tqdm(enumerate(train_loader), total=len(train_loader)):\n",
    "        x = Variable(x).float().cuda()\n",
    "        y = Variable(y.long()).cuda()\n",
    "\n",
    "        oh_class, mu, z, x_decoded = model(x)\n",
    "        loss, class_loss, var_loss = \\\n",
    "            Loss(x_decoded.cuda(), x, mu.cuda(), oh_class.cuda(), y) # x_decoded, x, mu, oh_class, y\n",
    "        optim.zero_grad()\n",
    "        loss.backward()\n",
    "        optim.step()\n",
    "        if not i % 50:\n",
    "            print('training encoder only\\n')\n",
    "            oh_class, _, _ = model.encoder(x)\n",
    "            enc_aux_loss = torch.nn.CrossEntropyLoss(weights)(oh_class.cuda(), y)\n",
    "            optim.zero_grad()\n",
    "            enc_aux_loss.backward()\n",
    "            optim.step()\n",
    "        print('Loss:' ,loss.data)\n",
    "        print('Class loss:' ,class_loss.data)\n",
    "        print('Var loss:' ,var_loss.data)\n",
    "        \n",
    "        \n",
    "    print('Train Accuracy: ', test(model, train_loader))\n",
    "    print('Validation Accuracy:', test(model, val_loader))\n"
   ]
  }
 ],
 "metadata": {
  "kernelspec": {
   "display_name": "fidle2023",
   "language": "python",
   "name": "fidle2023"
  },
  "language_info": {
   "codemirror_mode": {
    "name": "ipython",
    "version": 3
   },
   "file_extension": ".py",
   "mimetype": "text/x-python",
   "name": "python",
   "nbconvert_exporter": "python",
   "pygments_lexer": "ipython3",
   "version": "3.9.16"
  },
  "toc": {
   "base_numbering": 1,
   "nav_menu": {
    "height": "419px",
    "width": "252px"
   },
   "number_sections": true,
   "sideBar": true,
   "skip_h1_title": false,
   "title_cell": "Table of Contents",
   "title_sidebar": "Contents",
   "toc_cell": false,
   "toc_position": {
    "height": "512px",
    "left": "0px",
    "right": "1246px",
    "top": "133px",
    "width": "228px"
   },
   "toc_section_display": "block",
   "toc_window_display": true
  },
  "varInspector": {
   "cols": {
    "lenName": 16,
    "lenType": 16,
    "lenVar": 40
   },
   "kernels_config": {
    "python": {
     "delete_cmd_postfix": "",
     "delete_cmd_prefix": "del ",
     "library": "var_list.py",
     "varRefreshCmd": "print(var_dic_list())"
    },
    "r": {
     "delete_cmd_postfix": ") ",
     "delete_cmd_prefix": "rm(",
     "library": "var_list.r",
     "varRefreshCmd": "cat(var_dic_list()) "
    }
   },
   "types_to_exclude": [
    "module",
    "function",
    "builtin_function_or_method",
    "instance",
    "_Feature"
   ],
   "window_display": false
  }
 },
 "nbformat": 4,
 "nbformat_minor": 4
}
