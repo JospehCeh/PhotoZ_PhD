{
 "cells": [
  {
   "cell_type": "markdown",
   "id": "e7762bb4-8955-4545-a340-c61a48760bc6",
   "metadata": {
    "tags": []
   },
   "source": [
    "# Variational Autoencoders with 1 layer NN\n",
    "\n",
    "Variational autoencoders view autoencoding from a statistical perspective. Like classical autoencoders, they encode a dataset into a lower dimensional latent space. Additionally, though, variational autoencoders constrain the encoded vectors to roughly follow a probability distribution, e.g. a normal distribution. Here’s an example of a variational autoencoder for the same 1D sequence to sequence monochromatic signal encoding problem."
   ]
  },
  {
   "cell_type": "markdown",
   "id": "77165d98-0046-4d70-818b-d287a0939dd5",
   "metadata": {},
   "source": [
    "https://mlgeophysics.github.io/community/projects/auto-encoder/vae/"
   ]
  },
  {
   "cell_type": "markdown",
   "id": "332938bc-a315-4bf8-8b17-010092cef9f6",
   "metadata": {},
   "source": [
    "## Variational Autoencoder¶\n",
    "\n",
    "Much of this code is from https://blog.keras.io/building-autoencoders-in-keras.html and https://github.com/keras-team/keras/blob/master/examples/variational_autoencoder.py\n",
    "\n",
    "Tutorials can be found at https://towardsdatascience.com/intuitively-understanding-variational-autoencoders-1bfe67eb5daf, https://jaan.io/what-is-variational-autoencoder-vae-tutorial/, and https://arxiv.org/abs/1606.05908\n",
    "\n",
    "This notebook uses the same toy problem as the autoencoding notebook. Here we demonstrate the use of a variational autoencoder.\n"
   ]
  },
  {
   "cell_type": "code",
   "execution_count": 1,
   "id": "db09009d-e006-4be0-baa8-faacbce6ebe3",
   "metadata": {
    "tags": []
   },
   "outputs": [
    {
     "name": "stderr",
     "output_type": "stream",
     "text": [
      "2023-04-13 20:18:12.358174: I tensorflow/core/platform/cpu_feature_guard.cc:182] This TensorFlow binary is optimized to use available CPU instructions in performance-critical operations.\n",
      "To enable the following instructions: AVX2 FMA, in other operations, rebuild TensorFlow with the appropriate compiler flags.\n"
     ]
    }
   ],
   "source": [
    "import numpy as np \n",
    "import matplotlib.pyplot as plt\n",
    "import scipy.stats\n",
    "\n",
    "import tensorflow as tf\n",
    "\n",
    "#from keras.models import Input \n",
    "from keras.models import Model\n",
    "from keras.models import load_model\n",
    "\n",
    "from keras.layers import Dense, LeakyReLU, Lambda, Input\n",
    "from keras.callbacks import EarlyStopping, ModelCheckpoint\n",
    "from keras.utils import plot_model\n",
    "from keras.losses import mse\n",
    "from keras import backend as K\n",
    "\n",
    "from sklearn.model_selection import train_test_split\n",
    "\n",
    "# Init Fidle environment\n",
    "import fidle\n"
   ]
  },
  {
   "cell_type": "code",
   "execution_count": 2,
   "id": "a849b785-6f6f-4e68-882e-062d59d8061c",
   "metadata": {},
   "outputs": [],
   "source": [
    "from tensorflow.python.framework.ops import disable_eager_execution\n",
    "disable_eager_execution()"
   ]
  },
  {
   "cell_type": "code",
   "execution_count": 3,
   "id": "7ddfd537-1ff6-418e-b0d1-84bea45c46c7",
   "metadata": {
    "tags": []
   },
   "outputs": [],
   "source": [
    "import tensorflow as tf\n",
    "tf.compat.v1.disable_eager_execution()"
   ]
  },
  {
   "cell_type": "code",
   "execution_count": 4,
   "id": "a5594784-baec-4d25-b096-935cd23c6f2c",
   "metadata": {
    "tags": []
   },
   "outputs": [
    {
     "name": "stdout",
     "output_type": "stream",
     "text": [
      "WARNING:tensorflow:From /Users/dagoret/anaconda3/envs/fidle23/lib/python3.9/site-packages/tensorflow/python/compat/v2_compat.py:107: disable_resource_variables (from tensorflow.python.ops.variable_scope) is deprecated and will be removed in a future version.\n",
      "Instructions for updating:\n",
      "non-resource variables are not supported in the long term\n"
     ]
    }
   ],
   "source": [
    "import tensorflow._api.v2.compat.v1 as tf\n",
    "tf.disable_v2_behavior()"
   ]
  },
  {
   "cell_type": "code",
   "execution_count": 5,
   "id": "798447e8-246d-407e-9ea3-4e2760300dc3",
   "metadata": {
    "tags": []
   },
   "outputs": [],
   "source": [
    "tf.config.run_functions_eagerly(False)"
   ]
  },
  {
   "cell_type": "code",
   "execution_count": 6,
   "id": "59dfb161-edb6-4906-b645-d0cbe4c05f9a",
   "metadata": {
    "tags": []
   },
   "outputs": [
    {
     "data": {
      "text/html": [
       "<style>\n",
       "\n",
       "div.warn {    \n",
       "    background-color: #fcf2f2;\n",
       "    border-color: #dFb5b4;\n",
       "    border-left: 5px solid #dfb5b4;\n",
       "    padding: 0.5em;\n",
       "    font-weight: bold;\n",
       "    font-size: 1.1em;;\n",
       "    }\n",
       "\n",
       "\n",
       "\n",
       "div.nota {    \n",
       "    background-color: #DAFFDE;\n",
       "    border-left: 5px solid #92CC99;\n",
       "    padding: 0.5em;\n",
       "    }\n",
       "\n",
       "div.todo:before { content:url(data:image/svg+xml;base64,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);\n",
       "    float:left;\n",
       "    margin-right:20px;\n",
       "    margin-top:-20px;\n",
       "    margin-bottom:20px;\n",
       "}\n",
       "div.todo{\n",
       "    font-weight: bold;\n",
       "    font-size: 1.1em;\n",
       "    margin-top:40px;\n",
       "}\n",
       "div.todo ul{\n",
       "    margin: 0.2em;\n",
       "}\n",
       "div.todo li{\n",
       "    margin-left:60px;\n",
       "    margin-top:0;\n",
       "    margin-bottom:0;\n",
       "}\n",
       "\n",
       "div .comment{\n",
       "    font-size:0.8em;\n",
       "    color:#696969;\n",
       "}\n",
       "\n",
       "\n",
       "\n",
       "</style>\n",
       "\n"
      ],
      "text/plain": [
       "<IPython.core.display.HTML object>"
      ]
     },
     "metadata": {},
     "output_type": "display_data"
    },
    {
     "data": {
      "text/markdown": [
       "<br>**FIDLE - Environment initialization**"
      ],
      "text/plain": [
       "<IPython.core.display.Markdown object>"
      ]
     },
     "metadata": {},
     "output_type": "display_data"
    },
    {
     "name": "stdout",
     "output_type": "stream",
     "text": [
      "Version              : 2.0b56\n",
      "Run id               : MNIST1\n",
      "Run dir              : ./run/MNIST1\n",
      "Datasets dir         : /Users/dagoret/MacOSX/Fidle2023/fidle-tp/datasets-fidle\n",
      "Start time           : 13/04/23 20:18:16\n",
      "Hostname             : MacBook-Pro-de-admin.local (Darwin)\n",
      "Tensorflow log level : Warning + Error  (=1)\n",
      "Update keras cache   : False\n",
      "Save figs            : ./run/MNIST1/figs (False)\n",
      "tensorflow           : 2.12.0\n",
      "numpy                : 1.23.5\n",
      "sklearn              : 1.2.2\n",
      "matplotlib           : 3.7.1\n",
      "pandas               : 2.0.0\n"
     ]
    }
   ],
   "source": [
    "run_id, run_dir, datasets_dir = fidle.init('MNIST1')"
   ]
  },
  {
   "cell_type": "code",
   "execution_count": 7,
   "id": "54dfc75e-b536-499c-9423-7e85951e7972",
   "metadata": {
    "tags": []
   },
   "outputs": [],
   "source": [
    "from sklearn.model_selection import train_test_split\n",
    "import h5py"
   ]
  },
  {
   "cell_type": "markdown",
   "id": "5c27f6c5-bea1-45ed-ae43-05750797b712",
   "metadata": {},
   "source": [
    "## generate training, test, and validation data"
   ]
  },
  {
   "cell_type": "code",
   "execution_count": 8,
   "id": "64d900ef-551b-46cd-a805-d7e6da491f5a",
   "metadata": {},
   "outputs": [
    {
     "name": "stdout",
     "output_type": "stream",
     "text": [
      "<KeysViewHDF5 ['RT', 'RV', 'Rmag', 'dec', 'flambda', 'num', 'quantile', 'ra', 'redshift', 'wl']>\n"
     ]
    }
   ],
   "source": [
    "hf = h5py.File('SLspectra.hdf5', 'r') \n",
    "data_in = hf['flambda'][:]\n",
    "wl_in = hf['wl'][:]\n",
    "target = hf['quantile'][:]\n",
    "print(hf.keys())"
   ]
  },
  {
   "cell_type": "code",
   "execution_count": 9,
   "id": "638a4570-9d25-4916-b283-6c3f0b3ce473",
   "metadata": {
    "tags": []
   },
   "outputs": [
    {
     "data": {
      "text/plain": [
       "(550, 10000)"
      ]
     },
     "execution_count": 9,
     "metadata": {},
     "output_type": "execute_result"
    }
   ],
   "source": [
    "data_in.shape"
   ]
  },
  {
   "cell_type": "code",
   "execution_count": 10,
   "id": "e16040f6-adb1-4c57-bd27-4fd2ccccb4c3",
   "metadata": {
    "tags": []
   },
   "outputs": [
    {
     "data": {
      "text/plain": [
       "(550,)"
      ]
     },
     "execution_count": 10,
     "metadata": {},
     "output_type": "execute_result"
    }
   ],
   "source": [
    "target.shape"
   ]
  },
  {
   "cell_type": "code",
   "execution_count": 11,
   "id": "4f8fda2e-d8da-4388-a440-8346a7682953",
   "metadata": {
    "tags": []
   },
   "outputs": [],
   "source": [
    "NWL = data_in.shape[1]\n",
    "NSAMPL = data_in.shape[0]"
   ]
  },
  {
   "cell_type": "code",
   "execution_count": 12,
   "id": "9341ea45-ddd3-41f8-8ef4-d80dc28ac3c7",
   "metadata": {
    "tags": []
   },
   "outputs": [],
   "source": [
    "x_train, x_test, y_train, y_test = train_test_split(data_in,\n",
    "                                          target,\n",
    "                                          test_size=0.2)"
   ]
  },
  {
   "cell_type": "code",
   "execution_count": 13,
   "id": "124a8614-ba8e-4e5a-8f27-2806057ff729",
   "metadata": {
    "tags": []
   },
   "outputs": [],
   "source": [
    "# specify training parameters and callback functions\n",
    "\n",
    "# batch size for stochastic solver  \n",
    "batch_size = 16\n",
    "\n",
    "# number of times entire dataset is considered in stochastic solver\n",
    "epochs = 50\n",
    "\n",
    "# unique name for the network for saving\n",
    "unique_name = \"NN_VAE_1layers\"\n",
    "model_filename = 'model' + unique_name+'.h5'\n",
    "\n",
    "\n",
    "\n",
    "# training history file name\n",
    "history_filename = 'results_'+unique_name+'.npz'\n",
    "\n",
    "# stop early after no improvement past epochs=patience and be verbose\n",
    "earlystopper = EarlyStopping(patience=100, verbose=1)\n",
    "\n",
    "# checkpoint and save model when improvement occurs \n",
    "checkpointer = ModelCheckpoint(model_filename, verbose=1, save_best_only=True)\n",
    "\n",
    "# consolidate callback functions for convenience \n",
    "callbacks = [earlystopper, checkpointer]"
   ]
  },
  {
   "cell_type": "markdown",
   "id": "f5fc6937-e4bd-4fda-ae8d-1a1b64e26e81",
   "metadata": {},
   "source": [
    "Now things get a bit different from a vanilla autoencoder. First, we set the dimensions of the latent space. For this example we can get away with only one dimension. Intuitively, since the only difference between training examples is the phase, we only need one to encode one dimension."
   ]
  },
  {
   "cell_type": "code",
   "execution_count": 14,
   "id": "921945df-dafe-4765-ae87-a4e649336154",
   "metadata": {
    "tags": []
   },
   "outputs": [],
   "source": [
    "# encoding dimension; i.e. dimensionality of the latent space\n",
    "encoding_dim=1"
   ]
  },
  {
   "cell_type": "markdown",
   "id": "9f49e2c1-1a4c-45b5-ba17-960ffeda9d50",
   "metadata": {},
   "source": [
    "Next we define a function to draw samples from a Gaussian, given the mean and standard deviation. We sample to encode in the latent space. Further, the way this function is defined, it lets us use backpropagation on the mean and standard deviation, even though there's a probabilistic element to this operation (this is the \"reparameterization trick\")."
   ]
  },
  {
   "cell_type": "code",
   "execution_count": 15,
   "id": "a729bcbd-ad54-4ec2-bdb6-2e872904ff8e",
   "metadata": {
    "tags": []
   },
   "outputs": [],
   "source": [
    "# define a function to sample from gaussian, given mean and log variance\n",
    "def sampling(args):\n",
    "    z_mean, z_log_sigma = args\n",
    "    epsilon = K.random_normal(shape=(encoding_dim,))\n",
    "    return z_mean + K.exp(z_log_sigma) * epsilon"
   ]
  },
  {
   "cell_type": "markdown",
   "id": "bed6bfac-5066-4d7c-9b4a-2f1412251903",
   "metadata": {},
   "source": [
    "Network structure is similar to the autoencoder. The main difference is in the middle of the network: z_mean and z_log_sigma. These layers encode a mean and log(std) that determine the pdf that we draw the encoding in the latent space from. \n",
    "\n",
    "\n",
    "\n",
    "The \"Lambda\" layer then draws a sample from that pdf, and z is the encoded signal in the latent space."
   ]
  },
  {
   "cell_type": "markdown",
   "id": "11c38ac5-5a97-4184-a03c-eac760440462",
   "metadata": {},
   "source": [
    "## input layer is full time series of length nt"
   ]
  },
  {
   "cell_type": "code",
   "execution_count": 16,
   "id": "ed201cbc-4729-429a-949a-26b0d58d8694",
   "metadata": {
    "tags": []
   },
   "outputs": [],
   "source": [
    "# input layer is full time series of length nt\n",
    "inputs = Input((NWL,))"
   ]
  },
  {
   "cell_type": "markdown",
   "id": "93f870c4-2a34-42b7-b545-e2c34f30cf17",
   "metadata": {},
   "source": [
    "## encoder hidden layers"
   ]
  },
  {
   "cell_type": "code",
   "execution_count": 17,
   "id": "776ba9e3-8cfc-4f29-8af6-ecf7b18c6ed5",
   "metadata": {
    "tags": []
   },
   "outputs": [],
   "source": [
    "# encoder hidden layers\n",
    "encoded = Dense(64)(inputs) \n",
    "encoded = LeakyReLU(alpha=0.2)(encoded)\n",
    "z_mean = Dense(encoding_dim)(encoded)\n",
    "z_log_sigma = Dense(encoding_dim)(encoded)\n",
    "z = Lambda(sampling,output_shape=(encoding_dim,))([z_mean,z_log_sigma])"
   ]
  },
  {
   "cell_type": "markdown",
   "id": "f96169a4-fa4f-4a29-b0ca-0b42119657a5",
   "metadata": {
    "tags": []
   },
   "source": [
    "## decoder hidden layers"
   ]
  },
  {
   "cell_type": "code",
   "execution_count": 18,
   "id": "00408d87-4795-47ff-b841-e9c34c4d0844",
   "metadata": {
    "tags": []
   },
   "outputs": [],
   "source": [
    "decoded = Dense(64)(z)\n",
    "decoded = LeakyReLU(alpha=0.2)(decoded)\n",
    "# output layer is same length as input\n",
    "outputs = Dense(NWL,activation='tanh')(decoded)"
   ]
  },
  {
   "cell_type": "markdown",
   "id": "a7bfabcc-c113-4bb2-b4cc-d5ffa7c77e76",
   "metadata": {},
   "source": [
    "## consolidate to define autoencoder model inputs and outputs"
   ]
  },
  {
   "cell_type": "code",
   "execution_count": 19,
   "id": "f752f71a-5860-4515-8249-7fb7da7471ec",
   "metadata": {
    "tags": []
   },
   "outputs": [],
   "source": [
    "# consolidate to define autoencoder model inputs and outputs\n",
    "vae = Model(inputs=inputs, outputs=outputs)"
   ]
  },
  {
   "cell_type": "code",
   "execution_count": 20,
   "id": "70f2106c-541e-43ba-8de5-64beac8be52f",
   "metadata": {
    "tags": []
   },
   "outputs": [],
   "source": [
    "# specify encoder and decoder model for easy encoding and decoding later\n",
    "encoder = Model(inputs=inputs, outputs=[z_mean,z_log_sigma,z],name='encoder')\n",
    "# create a placeholder for an encoded input\n",
    "encoded_input = Input(shape=(encoding_dim,))"
   ]
  },
  {
   "cell_type": "code",
   "execution_count": 21,
   "id": "40bbbcdd-1af0-4d80-b09b-6771da7823ee",
   "metadata": {
    "tags": []
   },
   "outputs": [
    {
     "name": "stdout",
     "output_type": "stream",
     "text": [
      "Model: \"encoder\"\n",
      "__________________________________________________________________________________________________\n",
      " Layer (type)                   Output Shape         Param #     Connected to                     \n",
      "==================================================================================================\n",
      " input_1 (InputLayer)           [(None, 10000)]      0           []                               \n",
      "                                                                                                  \n",
      " dense (Dense)                  (None, 64)           640064      ['input_1[0][0]']                \n",
      "                                                                                                  \n",
      " leaky_re_lu (LeakyReLU)        (None, 64)           0           ['dense[0][0]']                  \n",
      "                                                                                                  \n",
      " dense_1 (Dense)                (None, 1)            65          ['leaky_re_lu[0][0]']            \n",
      "                                                                                                  \n",
      " dense_2 (Dense)                (None, 1)            65          ['leaky_re_lu[0][0]']            \n",
      "                                                                                                  \n",
      " lambda (Lambda)                (None, 1)            0           ['dense_1[0][0]',                \n",
      "                                                                  'dense_2[0][0]']                \n",
      "                                                                                                  \n",
      "==================================================================================================\n",
      "Total params: 640,194\n",
      "Trainable params: 640,194\n",
      "Non-trainable params: 0\n",
      "__________________________________________________________________________________________________\n"
     ]
    }
   ],
   "source": [
    "encoder.summary()"
   ]
  },
  {
   "cell_type": "code",
   "execution_count": 22,
   "id": "21b2edbc-fb66-48ac-a064-9275bfd85d98",
   "metadata": {
    "tags": []
   },
   "outputs": [],
   "source": [
    "# retrieve the last layers of the autoencoder model\n",
    "decoded_output = vae.layers[-3](encoded_input)\n",
    "decoded_output = vae.layers[-2](decoded_output)\n",
    "decoded_output = vae.layers[-1](decoded_output)\n",
    "# create the decoder model\n",
    "decoder = Model(inputs=encoded_input, outputs=decoded_output, name='decoder')"
   ]
  },
  {
   "cell_type": "code",
   "execution_count": 23,
   "id": "09055a9e-d264-47e0-9180-52b3b6fba383",
   "metadata": {
    "tags": []
   },
   "outputs": [
    {
     "name": "stdout",
     "output_type": "stream",
     "text": [
      "Model: \"decoder\"\n",
      "_________________________________________________________________\n",
      " Layer (type)                Output Shape              Param #   \n",
      "=================================================================\n",
      " input_2 (InputLayer)        [(None, 1)]               0         \n",
      "                                                                 \n",
      " dense_3 (Dense)             (None, 64)                128       \n",
      "                                                                 \n",
      " leaky_re_lu_1 (LeakyReLU)   (None, 64)                0         \n",
      "                                                                 \n",
      " dense_4 (Dense)             (None, 10000)             650000    \n",
      "                                                                 \n",
      "=================================================================\n",
      "Total params: 650,128\n",
      "Trainable params: 650,128\n",
      "Non-trainable params: 0\n",
      "_________________________________________________________________\n"
     ]
    }
   ],
   "source": [
    "decoder.summary()"
   ]
  },
  {
   "cell_type": "code",
   "execution_count": 24,
   "id": "f86adf25-a12d-4b60-b2e4-c7208efea080",
   "metadata": {
    "tags": []
   },
   "outputs": [
    {
     "name": "stdout",
     "output_type": "stream",
     "text": [
      "Full autoencoder\n",
      "Model: \"model\"\n",
      "__________________________________________________________________________________________________\n",
      " Layer (type)                   Output Shape         Param #     Connected to                     \n",
      "==================================================================================================\n",
      " input_1 (InputLayer)           [(None, 10000)]      0           []                               \n",
      "                                                                                                  \n",
      " dense (Dense)                  (None, 64)           640064      ['input_1[0][0]']                \n",
      "                                                                                                  \n",
      " leaky_re_lu (LeakyReLU)        (None, 64)           0           ['dense[0][0]']                  \n",
      "                                                                                                  \n",
      " dense_1 (Dense)                (None, 1)            65          ['leaky_re_lu[0][0]']            \n",
      "                                                                                                  \n",
      " dense_2 (Dense)                (None, 1)            65          ['leaky_re_lu[0][0]']            \n",
      "                                                                                                  \n",
      " lambda (Lambda)                (None, 1)            0           ['dense_1[0][0]',                \n",
      "                                                                  'dense_2[0][0]']                \n",
      "                                                                                                  \n",
      " dense_3 (Dense)                (None, 64)           128         ['lambda[0][0]']                 \n",
      "                                                                                                  \n",
      " leaky_re_lu_1 (LeakyReLU)      (None, 64)           0           ['dense_3[0][0]']                \n",
      "                                                                                                  \n",
      " dense_4 (Dense)                (None, 10000)        650000      ['leaky_re_lu_1[0][0]']          \n",
      "                                                                                                  \n",
      "==================================================================================================\n",
      "Total params: 1,290,322\n",
      "Trainable params: 1,290,322\n",
      "Non-trainable params: 0\n",
      "__________________________________________________________________________________________________\n",
      "None\n"
     ]
    }
   ],
   "source": [
    "print('Full autoencoder')\n",
    "print(vae.summary())"
   ]
  },
  {
   "cell_type": "markdown",
   "id": "b8c6191b-4ddf-4fb4-bc9a-4f90d6bd666a",
   "metadata": {},
   "source": [
    "## VAE loss"
   ]
  },
  {
   "cell_type": "markdown",
   "id": "07b89a8f-b3ae-432b-8044-0e99964db409",
   "metadata": {},
   "source": [
    "The loss function is another key difference between standard autoencoders and variational autoencoders. A standard autoencoder simply minimizes reconstruction loss. \n",
    "\n",
    "- A variational autoencoder minimizes both reconstruction loss and the KL divergence. \n",
    "\n",
    "- The KL divergence is a measure of how much two probability distributions differ. \n",
    "\n",
    "\n",
    "Minimizing the KL divergence here means that we are encouraging the latent space encodings to have a normal distribution. The regularization parameter balances between reconstruction loss and enforcing a normal distribution in the latent space."
   ]
  },
  {
   "cell_type": "code",
   "execution_count": 25,
   "id": "9d1ccac0-4d67-4a49-848c-eedb01039085",
   "metadata": {
    "tags": []
   },
   "outputs": [],
   "source": [
    "# specify loss\n",
    "# regularization balances signal reconstruction with\n",
    "# a Gaussian distribution in the latent space \n",
    "# regularization = 10\n",
    "regularization = 5\n",
    "\n",
    "def vae_loss(input_img, output):\n",
    "    # compute the average MSE error, then scale it up, ie. simply sum on all axes\n",
    "    reconstruction_loss = K.sum(K.square(output-input_img))\n",
    "    kl_loss = - 0.5 * K.sum(1 + z_log_sigma - K.square(z_mean) - K.square(K.exp(z_log_sigma)), axis=-1)\n",
    "    # return the average loss over all images in batch\n",
    "    total_loss = K.mean(reconstruction_loss + regularization*kl_loss)    \n",
    "    return total_loss\n",
    "\n",
    "vae.compile(optimizer='adam', loss=vae_loss, metrics=['mse'],experimental_run_tf_function=False,run_eagerly=False)\n",
    "vae.run_eagerly = False"
   ]
  },
  {
   "cell_type": "markdown",
   "id": "1a6b3e85-c81e-4474-a8a5-fece81413716",
   "metadata": {},
   "source": [
    "## train variational autoencoder"
   ]
  },
  {
   "cell_type": "code",
   "execution_count": 26,
   "id": "ff91d562-d98f-46e3-a32a-cc4f30a71b9b",
   "metadata": {
    "tags": []
   },
   "outputs": [
    {
     "name": "stdout",
     "output_type": "stream",
     "text": [
      "Train on 440 samples, validate on 110 samples\n",
      "Epoch 1/50\n"
     ]
    },
    {
     "name": "stderr",
     "output_type": "stream",
     "text": [
      "2023-04-13 20:18:17.155679: W tensorflow/c/c_api.cc:300] Operation '{name:'training/Adam/dense_4/bias/v/Assign' id:493 op device:{requested: '', assigned: ''} def:{{{node training/Adam/dense_4/bias/v/Assign}} = AssignVariableOp[_has_manual_control_dependencies=true, dtype=DT_FLOAT, validate_shape=false](training/Adam/dense_4/bias/v, training/Adam/dense_4/bias/v/Initializer/zeros)}}' was changed by setting attribute after it was run by a session. This mutation will have no effect, and will trigger an error in the future. Either don't modify nodes after running them or create a new session.\n"
     ]
    },
    {
     "name": "stdout",
     "output_type": "stream",
     "text": [
      "384/440 [=========================>....] - ETA: 0s - loss: 9.0998 - mean_squared_error: 5.7830e-05 \n",
      "Epoch 1: val_loss improved from inf to 4.41698, saving model to modelNN_VAE_1layers.h5\n"
     ]
    },
    {
     "name": "stderr",
     "output_type": "stream",
     "text": [
      "/Users/dagoret/anaconda3/envs/fidle23/lib/python3.9/site-packages/keras/engine/training_v1.py:2335: UserWarning: `Model.state_updates` will be removed in a future version. This property should not be used in TensorFlow 2.0, as `updates` are applied automatically.\n",
      "  updates = self.state_updates\n",
      "2023-04-13 20:18:17.643502: W tensorflow/c/c_api.cc:300] Operation '{name:'loss/mul' id:190 op device:{requested: '', assigned: ''} def:{{{node loss/mul}} = Mul[T=DT_FLOAT, _has_manual_control_dependencies=true](loss/mul/x, loss/dense_4_loss/value)}}' was changed by setting attribute after it was run by a session. This mutation will have no effect, and will trigger an error in the future. Either don't modify nodes after running them or create a new session.\n"
     ]
    },
    {
     "name": "stdout",
     "output_type": "stream",
     "text": [
      "440/440 [==============================] - 1s 1ms/sample - loss: 8.1796 - mean_squared_error: 5.2543e-05 - val_loss: 4.4170 - val_mean_squared_error: 2.9493e-05\n",
      "Epoch 2/50\n",
      "384/440 [=========================>....] - ETA: 0s - loss: 1.9522 - mean_squared_error: 1.4282e-05\n",
      "Epoch 2: val_loss improved from 4.41698 to 0.46183, saving model to modelNN_VAE_1layers.h5\n",
      "440/440 [==============================] - 0s 465us/sample - loss: 1.7146 - mean_squared_error: 1.2828e-05 - val_loss: 0.4618 - val_mean_squared_error: 5.2856e-06\n",
      "Epoch 3/50\n",
      "368/440 [========================>.....] - ETA: 0s - loss: -0.0057 - mean_squared_error: 2.2873e-06\n",
      "Epoch 3: val_loss improved from 0.46183 to -0.13991, saving model to modelNN_VAE_1layers.h5\n",
      "440/440 [==============================] - 0s 478us/sample - loss: -0.0188 - mean_squared_error: 2.2203e-06 - val_loss: -0.1399 - val_mean_squared_error: 1.4964e-06\n",
      "Epoch 4/50\n",
      "368/440 [========================>.....] - ETA: 0s - loss: -0.2555 - mean_squared_error: 7.6908e-07\n",
      "Epoch 4: val_loss improved from -0.13991 to -0.33906, saving model to modelNN_VAE_1layers.h5\n",
      "440/440 [==============================] - 0s 501us/sample - loss: -0.2683 - mean_squared_error: 6.9295e-07 - val_loss: -0.3391 - val_mean_squared_error: 2.6053e-07\n",
      "Epoch 5/50\n",
      "320/440 [====================>.........] - ETA: 0s - loss: -0.3465 - mean_squared_error: 2.1596e-07\n",
      "Epoch 5: val_loss did not improve from -0.33906\n",
      "440/440 [==============================] - 0s 408us/sample - loss: -0.3265 - mean_squared_error: 3.4464e-07 - val_loss: -0.3338 - val_mean_squared_error: 3.0489e-07\n",
      "Epoch 6/50\n",
      "336/440 [=====================>........] - ETA: 0s - loss: -0.3338 - mean_squared_error: 3.0228e-07\n",
      "Epoch 6: val_loss improved from -0.33906 to -0.35282, saving model to modelNN_VAE_1layers.h5\n",
      "440/440 [==============================] - 0s 483us/sample - loss: -0.3269 - mean_squared_error: 3.5259e-07 - val_loss: -0.3528 - val_mean_squared_error: 1.8942e-07\n",
      "Epoch 7/50\n",
      "352/440 [=======================>......] - ETA: 0s - loss: -0.2653 - mean_squared_error: 7.3506e-07\n",
      "Epoch 7: val_loss did not improve from -0.35282\n",
      "440/440 [==============================] - 0s 341us/sample - loss: -0.1745 - mean_squared_error: 1.3490e-06 - val_loss: -0.0856 - val_mean_squared_error: 1.8627e-06\n",
      "Epoch 8/50\n",
      "368/440 [========================>.....] - ETA: 0s - loss: 0.1969 - mean_squared_error: 3.6101e-06\n",
      "Epoch 8: val_loss did not improve from -0.35282\n",
      "440/440 [==============================] - 0s 356us/sample - loss: 0.2706 - mean_squared_error: 4.0714e-06 - val_loss: -0.1580 - val_mean_squared_error: 1.3823e-06\n",
      "Epoch 9/50\n",
      "352/440 [=======================>......] - ETA: 0s - loss: -0.0260 - mean_squared_error: 2.1672e-06\n",
      "Epoch 9: val_loss did not improve from -0.35282\n",
      "440/440 [==============================] - 0s 357us/sample - loss: -0.0518 - mean_squared_error: 2.0601e-06 - val_loss: -0.1021 - val_mean_squared_error: 1.6683e-06\n",
      "Epoch 10/50\n",
      "320/440 [====================>.........] - ETA: 0s - loss: 0.0579 - mean_squared_error: 2.6304e-06\n",
      "Epoch 10: val_loss did not improve from -0.35282\n",
      "440/440 [==============================] - 0s 403us/sample - loss: -0.0078 - mean_squared_error: 2.2195e-06 - val_loss: -0.1306 - val_mean_squared_error: 1.4329e-06\n",
      "Epoch 11/50\n",
      "336/440 [=====================>........] - ETA: 0s - loss: -0.2261 - mean_squared_error: 8.3948e-07\n",
      "Epoch 11: val_loss did not improve from -0.35282\n",
      "440/440 [==============================] - 0s 358us/sample - loss: -0.2474 - mean_squared_error: 7.1315e-07 - val_loss: -0.3384 - val_mean_squared_error: 1.6903e-07\n",
      "Epoch 12/50\n",
      "384/440 [=========================>....] - ETA: 0s - loss: -0.3176 - mean_squared_error: 3.2144e-07\n",
      "Epoch 12: val_loss did not improve from -0.35282\n",
      "440/440 [==============================] - 0s 331us/sample - loss: -0.3073 - mean_squared_error: 3.9133e-07 - val_loss: -0.3138 - val_mean_squared_error: 3.7604e-07\n",
      "Epoch 13/50\n",
      "352/440 [=======================>......] - ETA: 0s - loss: -0.1359 - mean_squared_error: 1.4897e-06\n",
      "Epoch 13: val_loss did not improve from -0.35282\n",
      "440/440 [==============================] - 0s 353us/sample - loss: -0.1171 - mean_squared_error: 1.7022e-06 - val_loss: 0.1388 - val_mean_squared_error: 3.1979e-06\n",
      "Epoch 14/50\n",
      "352/440 [=======================>......] - ETA: 0s - loss: 0.5337 - mean_squared_error: 5.5733e-06\n",
      "Epoch 14: val_loss did not improve from -0.35282\n",
      "440/440 [==============================] - 0s 365us/sample - loss: 0.4054 - mean_squared_error: 4.7376e-06 - val_loss: -0.2211 - val_mean_squared_error: 6.1071e-07\n",
      "Epoch 15/50\n",
      "352/440 [=======================>......] - ETA: 0s - loss: -0.1977 - mean_squared_error: 7.5519e-07\n",
      "Epoch 15: val_loss did not improve from -0.35282\n",
      "440/440 [==============================] - 0s 348us/sample - loss: -0.2121 - mean_squared_error: 6.8417e-07 - val_loss: -0.3162 - val_mean_squared_error: 1.4115e-07\n",
      "Epoch 16/50\n",
      "336/440 [=====================>........] - ETA: 0s - loss: -0.3181 - mean_squared_error: 2.0510e-07\n",
      "Epoch 16: val_loss did not improve from -0.35282\n",
      "440/440 [==============================] - 0s 398us/sample - loss: -0.3262 - mean_squared_error: 1.7473e-07 - val_loss: -0.2933 - val_mean_squared_error: 4.6349e-07\n",
      "Epoch 17/50\n",
      "336/440 [=====================>........] - ETA: 0s - loss: -0.3611 - mean_squared_error: 7.1457e-08\n",
      "Epoch 17: val_loss improved from -0.35282 to -0.36457, saving model to modelNN_VAE_1layers.h5\n",
      "440/440 [==============================] - 0s 499us/sample - loss: -0.3632 - mean_squared_error: 6.6234e-08 - val_loss: -0.3646 - val_mean_squared_error: 8.9718e-08\n",
      "Epoch 18/50\n",
      "368/440 [========================>.....] - ETA: 0s - loss: -0.3626 - mean_squared_error: 1.1011e-07\n",
      "Epoch 18: val_loss did not improve from -0.36457\n",
      "440/440 [==============================] - 0s 329us/sample - loss: -0.3619 - mean_squared_error: 1.1632e-07 - val_loss: -0.3638 - val_mean_squared_error: 1.1375e-07\n",
      "Epoch 19/50\n",
      "384/440 [=========================>....] - ETA: 0s - loss: -0.3644 - mean_squared_error: 1.1238e-07\n",
      "Epoch 19: val_loss improved from -0.36457 to -0.37423, saving model to modelNN_VAE_1layers.h5\n",
      "440/440 [==============================] - 0s 424us/sample - loss: -0.3636 - mean_squared_error: 1.1870e-07 - val_loss: -0.3742 - val_mean_squared_error: 5.4480e-08\n",
      "Epoch 20/50\n",
      "400/440 [==========================>...] - ETA: 0s - loss: -0.3576 - mean_squared_error: 1.5925e-07\n",
      "Epoch 20: val_loss did not improve from -0.37423\n",
      "440/440 [==============================] - 0s 308us/sample - loss: -0.3590 - mean_squared_error: 1.5160e-07 - val_loss: -0.3174 - val_mean_squared_error: 4.1322e-07\n",
      "Epoch 21/50\n",
      "400/440 [==========================>...] - ETA: 0s - loss: -0.2997 - mean_squared_error: 5.2104e-07\n",
      "Epoch 21: val_loss did not improve from -0.37423\n",
      "440/440 [==============================] - 0s 307us/sample - loss: -0.3060 - mean_squared_error: 4.8281e-07 - val_loss: -0.3119 - val_mean_squared_error: 4.4300e-07\n",
      "Epoch 22/50\n",
      "400/440 [==========================>...] - ETA: 0s - loss: -0.1531 - mean_squared_error: 1.4288e-06\n",
      "Epoch 22: val_loss did not improve from -0.37423\n",
      "440/440 [==============================] - 0s 303us/sample - loss: -0.1619 - mean_squared_error: 1.3834e-06 - val_loss: -0.1670 - val_mean_squared_error: 1.3507e-06\n",
      "Epoch 23/50\n",
      "368/440 [========================>.....] - ETA: 0s - loss: -0.0684 - mean_squared_error: 1.9387e-06\n",
      "Epoch 23: val_loss did not improve from -0.37423\n",
      "440/440 [==============================] - 0s 344us/sample - loss: -0.0935 - mean_squared_error: 1.7944e-06 - val_loss: -0.0683 - val_mean_squared_error: 1.9379e-06\n",
      "Epoch 24/50\n",
      "384/440 [=========================>....] - ETA: 0s - loss: -0.1247 - mean_squared_error: 1.5265e-06\n",
      "Epoch 24: val_loss did not improve from -0.37423\n",
      "440/440 [==============================] - 0s 316us/sample - loss: -0.1502 - mean_squared_error: 1.3812e-06 - val_loss: -0.3443 - val_mean_squared_error: 1.4542e-07\n",
      "Epoch 25/50\n",
      "352/440 [=======================>......] - ETA: 0s - loss: -0.2852 - mean_squared_error: 5.3879e-07\n",
      "Epoch 25: val_loss did not improve from -0.37423\n",
      "440/440 [==============================] - 0s 373us/sample - loss: -0.2874 - mean_squared_error: 5.3259e-07 - val_loss: -0.3063 - val_mean_squared_error: 4.3883e-07\n",
      "Epoch 26/50\n",
      "336/440 [=====================>........] - ETA: 0s - loss: -0.3408 - mean_squared_error: 2.2493e-07\n",
      "Epoch 26: val_loss did not improve from -0.37423\n",
      "440/440 [==============================] - 0s 347us/sample - loss: -0.3470 - mean_squared_error: 1.9066e-07 - val_loss: -0.3738 - val_mean_squared_error: 3.9730e-08\n",
      "Epoch 27/50\n",
      "368/440 [========================>.....] - ETA: 0s - loss: -0.2756 - mean_squared_error: 6.5946e-07\n",
      "Epoch 27: val_loss did not improve from -0.37423\n",
      "440/440 [==============================] - 0s 333us/sample - loss: -0.2815 - mean_squared_error: 6.2301e-07 - val_loss: -0.2447 - val_mean_squared_error: 8.6923e-07\n",
      "Epoch 28/50\n",
      "320/440 [====================>.........] - ETA: 0s - loss: -0.2870 - mean_squared_error: 5.8323e-07\n",
      "Epoch 28: val_loss did not improve from -0.37423\n",
      "440/440 [==============================] - 0s 346us/sample - loss: -0.2993 - mean_squared_error: 5.0657e-07 - val_loss: -0.3138 - val_mean_squared_error: 4.3297e-07\n",
      "Epoch 29/50\n",
      "336/440 [=====================>........] - ETA: 0s - loss: -0.3572 - mean_squared_error: 1.4782e-07\n",
      "Epoch 29: val_loss did not improve from -0.37423\n",
      "440/440 [==============================] - 0s 383us/sample - loss: -0.3485 - mean_squared_error: 2.0424e-07 - val_loss: -0.2046 - val_mean_squared_error: 1.1096e-06\n",
      "Epoch 30/50\n",
      "336/440 [=====================>........] - ETA: 0s - loss: -0.2772 - mean_squared_error: 6.5497e-07\n",
      "Epoch 30: val_loss did not improve from -0.37423\n",
      "440/440 [==============================] - 0s 373us/sample - loss: -0.2704 - mean_squared_error: 6.9677e-07 - val_loss: -0.3472 - val_mean_squared_error: 2.1863e-07\n",
      "Epoch 31/50\n",
      "400/440 [==========================>...] - ETA: 0s - loss: -0.3452 - mean_squared_error: 2.2464e-07\n",
      "Epoch 31: val_loss did not improve from -0.37423\n",
      "440/440 [==============================] - 0s 316us/sample - loss: -0.3461 - mean_squared_error: 2.1894e-07 - val_loss: -0.3474 - val_mean_squared_error: 2.1829e-07\n",
      "Epoch 32/50\n",
      "352/440 [=======================>......] - ETA: 0s - loss: -0.3162 - mean_squared_error: 4.1176e-07\n",
      "Epoch 32: val_loss did not improve from -0.37423\n",
      "440/440 [==============================] - 0s 341us/sample - loss: -0.3060 - mean_squared_error: 4.8351e-07 - val_loss: -0.3254 - val_mean_squared_error: 3.7579e-07\n",
      "Epoch 33/50\n",
      "384/440 [=========================>....] - ETA: 0s - loss: -0.2271 - mean_squared_error: 9.6433e-07\n",
      "Epoch 33: val_loss did not improve from -0.37423\n",
      "440/440 [==============================] - 0s 334us/sample - loss: -0.2184 - mean_squared_error: 1.0194e-06 - val_loss: -0.3059 - val_mean_squared_error: 4.6639e-07\n",
      "Epoch 34/50\n",
      "336/440 [=====================>........] - ETA: 0s - loss: -0.3093 - mean_squared_error: 4.4231e-07\n",
      "Epoch 34: val_loss did not improve from -0.37423\n",
      "440/440 [==============================] - 0s 356us/sample - loss: -0.3167 - mean_squared_error: 3.9739e-07 - val_loss: -0.3123 - val_mean_squared_error: 4.3187e-07\n",
      "Epoch 35/50\n",
      "336/440 [=====================>........] - ETA: 0s - loss: -0.3566 - mean_squared_error: 1.5600e-07\n",
      "Epoch 35: val_loss did not improve from -0.37423\n",
      "440/440 [==============================] - 0s 373us/sample - loss: -0.3586 - mean_squared_error: 1.4515e-07 - val_loss: -0.3630 - val_mean_squared_error: 1.2229e-07\n",
      "Epoch 36/50\n",
      "336/440 [=====================>........] - ETA: 0s - loss: -0.3563 - mean_squared_error: 1.6613e-07\n",
      "Epoch 36: val_loss did not improve from -0.37423\n",
      "440/440 [==============================] - 0s 404us/sample - loss: -0.3603 - mean_squared_error: 1.4162e-07 - val_loss: -0.3612 - val_mean_squared_error: 1.3837e-07\n",
      "Epoch 37/50\n",
      "336/440 [=====================>........] - ETA: 0s - loss: -0.3752 - mean_squared_error: 5.0814e-08\n",
      "Epoch 37: val_loss did not improve from -0.37423\n",
      "440/440 [==============================] - 0s 379us/sample - loss: -0.3751 - mean_squared_error: 5.2311e-08 - val_loss: -0.3658 - val_mean_squared_error: 1.1066e-07\n",
      "Epoch 38/50\n",
      "440/440 [==============================] - ETA: 0s - loss: -0.3787 - mean_squared_error: 3.0110e-08\n",
      "Epoch 38: val_loss improved from -0.37423 to -0.37917, saving model to modelNN_VAE_1layers.h5\n",
      "440/440 [==============================] - 0s 530us/sample - loss: -0.3787 - mean_squared_error: 3.0110e-08 - val_loss: -0.3792 - val_mean_squared_error: 2.7577e-08\n",
      "Epoch 39/50\n",
      "368/440 [========================>.....] - ETA: 0s - loss: -0.3646 - mean_squared_error: 1.1809e-07\n",
      "Epoch 39: val_loss did not improve from -0.37917\n",
      "440/440 [==============================] - 0s 342us/sample - loss: -0.3653 - mean_squared_error: 1.1550e-07 - val_loss: -0.3707 - val_mean_squared_error: 8.0278e-08\n",
      "Epoch 40/50\n",
      "440/440 [==============================] - ETA: 0s - loss: -0.3573 - mean_squared_error: 1.6406e-07\n",
      "Epoch 40: val_loss did not improve from -0.37917\n",
      "440/440 [==============================] - 0s 421us/sample - loss: -0.3573 - mean_squared_error: 1.6406e-07 - val_loss: -0.3227 - val_mean_squared_error: 3.8004e-07\n",
      "Epoch 41/50\n",
      "432/440 [============================>.] - ETA: 0s - loss: -0.3307 - mean_squared_error: 3.2877e-07\n",
      "Epoch 41: val_loss did not improve from -0.37917\n",
      "440/440 [==============================] - 0s 425us/sample - loss: -0.3315 - mean_squared_error: 3.2454e-07 - val_loss: -0.3696 - val_mean_squared_error: 8.4820e-08\n",
      "Epoch 42/50\n",
      "384/440 [=========================>....] - ETA: 0s - loss: -0.3444 - mean_squared_error: 2.4157e-07\n",
      "Epoch 42: val_loss did not improve from -0.37917\n",
      "440/440 [==============================] - 0s 488us/sample - loss: -0.3480 - mean_squared_error: 2.2284e-07 - val_loss: -0.3508 - val_mean_squared_error: 2.0800e-07\n",
      "Epoch 43/50\n",
      "440/440 [==============================] - ETA: 0s - loss: -0.3646 - mean_squared_error: 1.3735e-07\n",
      "Epoch 43: val_loss did not improve from -0.37917\n",
      "440/440 [==============================] - 0s 417us/sample - loss: -0.3646 - mean_squared_error: 1.3735e-07 - val_loss: -0.3258 - val_mean_squared_error: 3.6171e-07\n",
      "Epoch 44/50\n",
      "320/440 [====================>.........] - ETA: 0s - loss: -0.3635 - mean_squared_error: 1.2374e-07\n",
      "Epoch 44: val_loss did not improve from -0.37917\n",
      "440/440 [==============================] - 0s 418us/sample - loss: -0.3643 - mean_squared_error: 1.2015e-07 - val_loss: -0.3743 - val_mean_squared_error: 5.7319e-08\n",
      "Epoch 45/50\n",
      "440/440 [==============================] - ETA: 0s - loss: -0.3563 - mean_squared_error: 1.7096e-07\n",
      "Epoch 45: val_loss did not improve from -0.37917\n",
      "440/440 [==============================] - 0s 419us/sample - loss: -0.3563 - mean_squared_error: 1.7096e-07 - val_loss: -0.3254 - val_mean_squared_error: 3.6990e-07\n",
      "Epoch 46/50\n",
      "320/440 [====================>.........] - ETA: 0s - loss: -0.3637 - mean_squared_error: 1.2264e-07\n",
      "Epoch 46: val_loss did not improve from -0.37917\n",
      "440/440 [==============================] - 0s 389us/sample - loss: -0.3653 - mean_squared_error: 1.1289e-07 - val_loss: -0.3756 - val_mean_squared_error: 5.1186e-08\n",
      "Epoch 47/50\n",
      "400/440 [==========================>...] - ETA: 0s - loss: -0.3720 - mean_squared_error: 7.1794e-08\n",
      "Epoch 47: val_loss did not improve from -0.37917\n",
      "440/440 [==============================] - 0s 482us/sample - loss: -0.3712 - mean_squared_error: 8.0913e-08 - val_loss: -0.3757 - val_mean_squared_error: 4.8791e-08\n",
      "Epoch 48/50\n",
      "304/440 [===================>..........] - ETA: 0s - loss: -0.3773 - mean_squared_error: 3.8660e-08\n",
      "Epoch 48: val_loss did not improve from -0.37917\n",
      "440/440 [==============================] - 0s 410us/sample - loss: -0.3765 - mean_squared_error: 4.3890e-08 - val_loss: -0.3269 - val_mean_squared_error: 3.7824e-07\n",
      "Epoch 49/50\n",
      "320/440 [====================>.........] - ETA: 0s - loss: -0.3511 - mean_squared_error: 2.0273e-07\n",
      "Epoch 49: val_loss did not improve from -0.37917\n",
      "440/440 [==============================] - 0s 408us/sample - loss: -0.3393 - mean_squared_error: 2.8030e-07 - val_loss: -0.3573 - val_mean_squared_error: 1.6477e-07\n",
      "Epoch 50/50\n",
      "440/440 [==============================] - ETA: 0s - loss: -0.3537 - mean_squared_error: 1.9078e-07\n",
      "Epoch 50: val_loss did not improve from -0.37917\n",
      "440/440 [==============================] - 0s 421us/sample - loss: -0.3537 - mean_squared_error: 1.9078e-07 - val_loss: -0.3336 - val_mean_squared_error: 3.1141e-07\n"
     ]
    }
   ],
   "source": [
    "# train variational autoencoder\n",
    "results = vae.fit(x_train,x_train,\n",
    "                      shuffle=True,\n",
    "                      batch_size = batch_size, \n",
    "                      epochs = epochs,\n",
    "                      validation_data = (x_test,x_test),\n",
    "                      callbacks = callbacks)"
   ]
  },
  {
   "cell_type": "code",
   "execution_count": 27,
   "id": "9d6190ae-c76f-4052-8b62-d60931fe07c3",
   "metadata": {
    "tags": []
   },
   "outputs": [
    {
     "data": {
      "image/png": "[encoded data removed]",
      "text/plain": [
       "<Figure size 800x800 with 1 Axes>"
      ]
     },
     "metadata": {},
     "output_type": "display_data"
    }
   ],
   "source": [
    "# QC training and validation curves (should follow eachother)\n",
    "plt.figure(figsize=(8,8))\n",
    "plt.plot(results.history['val_loss'], label='val')\n",
    "plt.plot(results.history['loss'], label='train')\n",
    "plt.xlabel('epoch index')\n",
    "plt.ylabel('loss value (MSE)')\n",
    "plt.legend()\n",
    "plt.show()"
   ]
  },
  {
   "cell_type": "markdown",
   "id": "75492832-c5a7-4699-ab0f-a890e5ddc1cd",
   "metadata": {},
   "source": [
    "## First, let's check to see how well the encoder is working."
   ]
  },
  {
   "cell_type": "code",
   "execution_count": 28,
   "id": "33ca6c08-0d9f-4972-a14c-ccada33c1f48",
   "metadata": {
    "tags": []
   },
   "outputs": [
    {
     "name": "stderr",
     "output_type": "stream",
     "text": [
      "/Users/dagoret/anaconda3/envs/fidle23/lib/python3.9/site-packages/keras/engine/training_v1.py:2359: UserWarning: `Model.state_updates` will be removed in a future version. This property should not be used in TensorFlow 2.0, as `updates` are applied automatically.\n",
      "  updates=self.state_updates,\n",
      "2023-04-13 20:18:26.662609: W tensorflow/c/c_api.cc:300] Operation '{name:'dense_1/BiasAdd' id:43 op device:{requested: '', assigned: ''} def:{{{node dense_1/BiasAdd}} = BiasAdd[T=DT_FLOAT, _has_manual_control_dependencies=true, data_format=\"NHWC\"](dense_1/MatMul, dense_1/BiasAdd/ReadVariableOp)}}' was changed by setting attribute after it was run by a session. This mutation will have no effect, and will trigger an error in the future. Either don't modify nodes after running them or create a new session.\n",
      "2023-04-13 20:18:26.765048: W tensorflow/c/c_api.cc:300] Operation '{name:'dense_4/Tanh' id:116 op device:{requested: '', assigned: ''} def:{{{node dense_4/Tanh}} = Tanh[T=DT_FLOAT, _has_manual_control_dependencies=true](dense_4/BiasAdd)}}' was changed by setting attribute after it was run by a session. This mutation will have no effect, and will trigger an error in the future. Either don't modify nodes after running them or create a new session.\n"
     ]
    }
   ],
   "source": [
    "encoded_test = np.array(encoder.predict(x_test))\n",
    "vae_test = vae.predict(x_test)"
   ]
  },
  {
   "cell_type": "code",
   "execution_count": 29,
   "id": "195f829b-f9eb-4e00-a9a2-7c8fb0d50dc3",
   "metadata": {
    "tags": []
   },
   "outputs": [
    {
     "data": {
      "image/png": "[encoded data removed]",
      "text/plain": [
       "<Figure size 640x480 with 1 Axes>"
      ]
     },
     "metadata": {},
     "output_type": "display_data"
    }
   ],
   "source": [
    "plt.plot(x_test[2],label='true signal')\n",
    "plt.plot(vae_test[2],label='encoded-decoded signal',alpha=0.5)\n",
    "plt.legend()\n",
    "plt.show()"
   ]
  },
  {
   "cell_type": "markdown",
   "id": "8f13770f-f8c7-4864-9b44-a50fa5bb8f0f",
   "metadata": {},
   "source": [
    "## Now let's look at the distribution of samples in the latent space, to see how gaussian it is."
   ]
  },
  {
   "cell_type": "code",
   "execution_count": 30,
   "id": "7221cdd5-9611-40d1-b35b-fca15d2033ef",
   "metadata": {
    "tags": []
   },
   "outputs": [
    {
     "data": {
      "image/png": "[encoded data removed]",
      "text/plain": [
       "<Figure size 640x480 with 1 Axes>"
      ]
     },
     "metadata": {},
     "output_type": "display_data"
    }
   ],
   "source": [
    "import matplotlib.mlab as mlab\n",
    "n,bins,patches=plt.hist(encoded_test[2,:,:].flatten(),bins=100,density=True)\n",
    "plt.plot(bins,scipy.stats.norm.pdf(bins,0,1))\n",
    "plt.show()"
   ]
  },
  {
   "cell_type": "markdown",
   "id": "07a7ce18-c555-4c91-954f-1a256caf75e1",
   "metadata": {},
   "source": [
    "## Now let's see how the decoded signal depends on the latent vector."
   ]
  },
  {
   "cell_type": "markdown",
   "id": "d39d5037-4b94-4094-a12e-f4661b7b968f",
   "metadata": {},
   "source": [
    "Interestingly, the autoencoder has learned to use the latent vector (value in this case, since we specified an encoding dimension of 1) as a proxy for phase. As the latent value changes, the phase of the decoded signal changes. Latent values near zero reproduce a sine wave well, while values far from zero produce signals that aren't exactly sinusoidal."
   ]
  },
  {
   "cell_type": "code",
   "execution_count": null,
   "id": "6e4855d0-4b37-47a0-948a-ca2882ac0e91",
   "metadata": {},
   "outputs": [],
   "source": []
  }
 ],
 "metadata": {
  "kernelspec": {
   "display_name": "fidle23",
   "language": "python",
   "name": "fidle23"
  },
  "language_info": {
   "codemirror_mode": {
    "name": "ipython",
    "version": 3
   },
   "file_extension": ".py",
   "mimetype": "text/x-python",
   "name": "python",
   "nbconvert_exporter": "python",
   "pygments_lexer": "ipython3",
   "version": "3.9.16"
  }
 },
 "nbformat": 4,
 "nbformat_minor": 5
}
