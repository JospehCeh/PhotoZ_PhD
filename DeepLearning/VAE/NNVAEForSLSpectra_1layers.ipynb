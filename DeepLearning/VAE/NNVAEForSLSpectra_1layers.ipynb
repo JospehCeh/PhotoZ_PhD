{
 "cells": [
  {
   "cell_type": "markdown",
   "id": "e7762bb4-8955-4545-a340-c61a48760bc6",
   "metadata": {
    "tags": []
   },
   "source": [
    "# Variational Autoencoders with 1 layer NN\n",
    "\n",
    "Variational autoencoders view autoencoding from a statistical perspective. Like classical autoencoders, they encode a dataset into a lower dimensional latent space. Additionally, though, variational autoencoders constrain the encoded vectors to roughly follow a probability distribution, e.g. a normal distribution. Here’s an example of a variational autoencoder for the same 1D sequence to sequence monochromatic signal encoding problem."
   ]
  },
  {
   "cell_type": "markdown",
   "id": "77165d98-0046-4d70-818b-d287a0939dd5",
   "metadata": {},
   "source": [
    "https://mlgeophysics.github.io/community/projects/auto-encoder/vae/"
   ]
  },
  {
   "cell_type": "markdown",
   "id": "332938bc-a315-4bf8-8b17-010092cef9f6",
   "metadata": {},
   "source": [
    "## Variational Autoencoder¶\n",
    "\n",
    "Much of this code is from https://blog.keras.io/building-autoencoders-in-keras.html and https://github.com/keras-team/keras/blob/master/examples/variational_autoencoder.py\n",
    "\n",
    "Tutorials can be found at https://towardsdatascience.com/intuitively-understanding-variational-autoencoders-1bfe67eb5daf, https://jaan.io/what-is-variational-autoencoder-vae-tutorial/, and https://arxiv.org/abs/1606.05908\n",
    "\n",
    "This notebook uses the same toy problem as the autoencoding notebook. Here we demonstrate the use of a variational autoencoder.\n"
   ]
  },
  {
   "cell_type": "code",
   "execution_count": 1,
   "id": "db09009d-e006-4be0-baa8-faacbce6ebe3",
   "metadata": {
    "tags": []
   },
   "outputs": [
    {
     "name": "stderr",
     "output_type": "stream",
     "text": [
      "2023-03-26 14:10:47.174857: I tensorflow/core/platform/cpu_feature_guard.cc:193] This TensorFlow binary is optimized with oneAPI Deep Neural Network Library (oneDNN) to use the following CPU instructions in performance-critical operations:  AVX2 FMA\n",
      "To enable them in other operations, rebuild TensorFlow with the appropriate compiler flags.\n"
     ]
    }
   ],
   "source": [
    "import numpy as np \n",
    "import matplotlib.pyplot as plt\n",
    "import scipy.stats\n",
    "\n",
    "import tensorflow as tf\n",
    "\n",
    "#from keras.models import Input \n",
    "from keras.models import Model\n",
    "from keras.models import load_model\n",
    "\n",
    "from keras.layers import Dense, LeakyReLU, Lambda, Input\n",
    "from keras.callbacks import EarlyStopping, ModelCheckpoint\n",
    "from keras.utils import plot_model\n",
    "from keras.losses import mse\n",
    "from keras import backend as K\n",
    "\n",
    "from sklearn.model_selection import train_test_split\n",
    "\n",
    "# Init Fidle environment\n",
    "import fidle\n"
   ]
  },
  {
   "cell_type": "code",
   "execution_count": 2,
   "id": "a849b785-6f6f-4e68-882e-062d59d8061c",
   "metadata": {},
   "outputs": [],
   "source": [
    "from tensorflow.python.framework.ops import disable_eager_execution\n",
    "disable_eager_execution()"
   ]
  },
  {
   "cell_type": "code",
   "execution_count": 3,
   "id": "7ddfd537-1ff6-418e-b0d1-84bea45c46c7",
   "metadata": {
    "tags": []
   },
   "outputs": [],
   "source": [
    "import tensorflow as tf\n",
    "tf.compat.v1.disable_eager_execution()"
   ]
  },
  {
   "cell_type": "code",
   "execution_count": 4,
   "id": "a5594784-baec-4d25-b096-935cd23c6f2c",
   "metadata": {
    "tags": []
   },
   "outputs": [
    {
     "name": "stdout",
     "output_type": "stream",
     "text": [
      "WARNING:tensorflow:From /Users/dagoret/anaconda3/envs/fidle23/lib/python3.9/site-packages/tensorflow/python/compat/v2_compat.py:107: disable_resource_variables (from tensorflow.python.ops.variable_scope) is deprecated and will be removed in a future version.\n",
      "Instructions for updating:\n",
      "non-resource variables are not supported in the long term\n"
     ]
    }
   ],
   "source": [
    "import tensorflow._api.v2.compat.v1 as tf\n",
    "tf.disable_v2_behavior()"
   ]
  },
  {
   "cell_type": "code",
   "execution_count": 5,
   "id": "798447e8-246d-407e-9ea3-4e2760300dc3",
   "metadata": {
    "tags": []
   },
   "outputs": [],
   "source": [
    "tf.config.run_functions_eagerly(False)"
   ]
  },
  {
   "cell_type": "code",
   "execution_count": 6,
   "id": "59dfb161-edb6-4906-b645-d0cbe4c05f9a",
   "metadata": {
    "tags": []
   },
   "outputs": [
    {
     "data": {
      "text/html": [
       "<style>\n",
       "\n",
       "div.warn {    \n",
       "    background-color: #fcf2f2;\n",
       "    border-color: #dFb5b4;\n",
       "    border-left: 5px solid #dfb5b4;\n",
       "    padding: 0.5em;\n",
       "    font-weight: bold;\n",
       "    font-size: 1.1em;;\n",
       "    }\n",
       "\n",
       "\n",
       "\n",
       "div.nota {    \n",
       "    background-color: #DAFFDE;\n",
       "    border-left: 5px solid #92CC99;\n",
       "    padding: 0.5em;\n",
       "    }\n",
       "\n",
       "div.todo:before { content:url(data:image/svg+xml;base64,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);\n",
       "    float:left;\n",
       "    margin-right:20px;\n",
       "    margin-top:-20px;\n",
       "    margin-bottom:20px;\n",
       "}\n",
       "div.todo{\n",
       "    font-weight: bold;\n",
       "    font-size: 1.1em;\n",
       "    margin-top:40px;\n",
       "}\n",
       "div.todo ul{\n",
       "    margin: 0.2em;\n",
       "}\n",
       "div.todo li{\n",
       "    margin-left:60px;\n",
       "    margin-top:0;\n",
       "    margin-bottom:0;\n",
       "}\n",
       "\n",
       "div .comment{\n",
       "    font-size:0.8em;\n",
       "    color:#696969;\n",
       "}\n",
       "\n",
       "\n",
       "\n",
       "</style>\n",
       "\n"
      ],
      "text/plain": [
       "<IPython.core.display.HTML object>"
      ]
     },
     "metadata": {},
     "output_type": "display_data"
    },
    {
     "data": {
      "text/markdown": [
       "<br>**FIDLE - Environment initialization**"
      ],
      "text/plain": [
       "<IPython.core.display.Markdown object>"
      ]
     },
     "metadata": {},
     "output_type": "display_data"
    },
    {
     "name": "stdout",
     "output_type": "stream",
     "text": [
      "Version              : 2.0b56\n",
      "Run id               : MNIST1\n",
      "Run dir              : ./run/MNIST1\n",
      "Datasets dir         : /Users/dagoret/MacOSX/Fidle2023/fidle-tp/datasets-fidle\n",
      "Start time           : 26/03/23 14:10:53\n",
      "Hostname             : MacBook-Pro-de-admin.local (Darwin)\n",
      "Tensorflow log level : Info + Warning + Error  (=0)\n",
      "Update keras cache   : False\n",
      "Save figs            : ./run/MNIST1/figs (False)\n",
      "tensorflow           : 2.11.0\n",
      "numpy                : 1.24.2\n",
      "sklearn              : 1.2.2\n",
      "matplotlib           : 3.7.1\n",
      "pandas               : 1.5.3\n"
     ]
    }
   ],
   "source": [
    "run_id, run_dir, datasets_dir = fidle.init('MNIST1')"
   ]
  },
  {
   "cell_type": "code",
   "execution_count": 7,
   "id": "54dfc75e-b536-499c-9423-7e85951e7972",
   "metadata": {
    "tags": []
   },
   "outputs": [],
   "source": [
    "from sklearn.model_selection import train_test_split\n",
    "import h5py"
   ]
  },
  {
   "cell_type": "markdown",
   "id": "5c27f6c5-bea1-45ed-ae43-05750797b712",
   "metadata": {},
   "source": [
    "## generate training, test, and validation data"
   ]
  },
  {
   "cell_type": "code",
   "execution_count": 8,
   "id": "64d900ef-551b-46cd-a805-d7e6da491f5a",
   "metadata": {},
   "outputs": [
    {
     "name": "stdout",
     "output_type": "stream",
     "text": [
      "<KeysViewHDF5 ['RT', 'RV', 'Rmag', 'dec', 'flambda', 'num', 'quantile', 'ra', 'redshift', 'wl']>\n"
     ]
    }
   ],
   "source": [
    "hf = h5py.File('SLspectra.hdf5', 'r') \n",
    "data_in = hf['flambda'][:]\n",
    "wl_in = hf['wl'][:]\n",
    "target = hf['quantile'][:]\n",
    "print(hf.keys())"
   ]
  },
  {
   "cell_type": "code",
   "execution_count": 9,
   "id": "638a4570-9d25-4916-b283-6c3f0b3ce473",
   "metadata": {
    "tags": []
   },
   "outputs": [
    {
     "data": {
      "text/plain": [
       "(550, 10000)"
      ]
     },
     "execution_count": 9,
     "metadata": {},
     "output_type": "execute_result"
    }
   ],
   "source": [
    "data_in.shape"
   ]
  },
  {
   "cell_type": "code",
   "execution_count": 10,
   "id": "e16040f6-adb1-4c57-bd27-4fd2ccccb4c3",
   "metadata": {
    "tags": []
   },
   "outputs": [
    {
     "data": {
      "text/plain": [
       "(550,)"
      ]
     },
     "execution_count": 10,
     "metadata": {},
     "output_type": "execute_result"
    }
   ],
   "source": [
    "target.shape"
   ]
  },
  {
   "cell_type": "code",
   "execution_count": 11,
   "id": "4f8fda2e-d8da-4388-a440-8346a7682953",
   "metadata": {
    "tags": []
   },
   "outputs": [],
   "source": [
    "NWL = data_in.shape[1]\n",
    "NSAMPL = data_in.shape[0]"
   ]
  },
  {
   "cell_type": "code",
   "execution_count": 12,
   "id": "9341ea45-ddd3-41f8-8ef4-d80dc28ac3c7",
   "metadata": {
    "tags": []
   },
   "outputs": [],
   "source": [
    "x_train, x_test, y_train, y_test = train_test_split(data_in,\n",
    "                                          target,\n",
    "                                          test_size=0.2)"
   ]
  },
  {
   "cell_type": "code",
   "execution_count": 13,
   "id": "124a8614-ba8e-4e5a-8f27-2806057ff729",
   "metadata": {
    "tags": []
   },
   "outputs": [],
   "source": [
    "# specify training parameters and callback functions\n",
    "\n",
    "# batch size for stochastic solver  \n",
    "batch_size = 16\n",
    "\n",
    "# number of times entire dataset is considered in stochastic solver\n",
    "epochs = 50\n",
    "\n",
    "# unique name for the network for saving\n",
    "unique_name = \"NN_VAE_1layers\"\n",
    "model_filename = 'model' + unique_name+'.h5'\n",
    "\n",
    "\n",
    "\n",
    "# training history file name\n",
    "history_filename = 'results_'+unique_name+'.npz'\n",
    "\n",
    "# stop early after no improvement past epochs=patience and be verbose\n",
    "earlystopper = EarlyStopping(patience=100, verbose=1)\n",
    "\n",
    "# checkpoint and save model when improvement occurs \n",
    "checkpointer = ModelCheckpoint(model_filename, verbose=1, save_best_only=True)\n",
    "\n",
    "# consolidate callback functions for convenience \n",
    "callbacks = [earlystopper, checkpointer]"
   ]
  },
  {
   "cell_type": "markdown",
   "id": "f5fc6937-e4bd-4fda-ae8d-1a1b64e26e81",
   "metadata": {},
   "source": [
    "Now things get a bit different from a vanilla autoencoder. First, we set the dimensions of the latent space. For this example we can get away with only one dimension. Intuitively, since the only difference between training examples is the phase, we only need one to encode one dimension."
   ]
  },
  {
   "cell_type": "code",
   "execution_count": 14,
   "id": "921945df-dafe-4765-ae87-a4e649336154",
   "metadata": {
    "tags": []
   },
   "outputs": [],
   "source": [
    "# encoding dimension; i.e. dimensionality of the latent space\n",
    "encoding_dim=1"
   ]
  },
  {
   "cell_type": "markdown",
   "id": "9f49e2c1-1a4c-45b5-ba17-960ffeda9d50",
   "metadata": {},
   "source": [
    "Next we define a function to draw samples from a Gaussian, given the mean and standard deviation. We sample to encode in the latent space. Further, the way this function is defined, it lets us use backpropagation on the mean and standard deviation, even though there's a probabilistic element to this operation (this is the \"reparameterization trick\")."
   ]
  },
  {
   "cell_type": "code",
   "execution_count": 15,
   "id": "a729bcbd-ad54-4ec2-bdb6-2e872904ff8e",
   "metadata": {
    "tags": []
   },
   "outputs": [],
   "source": [
    "# define a function to sample from gaussian, given mean and log variance\n",
    "def sampling(args):\n",
    "    z_mean, z_log_sigma = args\n",
    "    epsilon = K.random_normal(shape=(encoding_dim,))\n",
    "    return z_mean + K.exp(z_log_sigma) * epsilon"
   ]
  },
  {
   "cell_type": "markdown",
   "id": "bed6bfac-5066-4d7c-9b4a-2f1412251903",
   "metadata": {},
   "source": [
    "Network structure is similar to the autoencoder. The main difference is in the middle of the network: z_mean and z_log_sigma. These layers encode a mean and log(std) that determine the pdf that we draw the encoding in the latent space from. \n",
    "\n",
    "\n",
    "\n",
    "The \"Lambda\" layer then draws a sample from that pdf, and z is the encoded signal in the latent space."
   ]
  },
  {
   "cell_type": "markdown",
   "id": "11c38ac5-5a97-4184-a03c-eac760440462",
   "metadata": {},
   "source": [
    "## input layer is full time series of length nt"
   ]
  },
  {
   "cell_type": "code",
   "execution_count": 16,
   "id": "ed201cbc-4729-429a-949a-26b0d58d8694",
   "metadata": {
    "tags": []
   },
   "outputs": [],
   "source": [
    "# input layer is full time series of length nt\n",
    "inputs = Input((NWL,))"
   ]
  },
  {
   "cell_type": "markdown",
   "id": "93f870c4-2a34-42b7-b545-e2c34f30cf17",
   "metadata": {},
   "source": [
    "## encoder hidden layers"
   ]
  },
  {
   "cell_type": "code",
   "execution_count": 17,
   "id": "776ba9e3-8cfc-4f29-8af6-ecf7b18c6ed5",
   "metadata": {
    "tags": []
   },
   "outputs": [],
   "source": [
    "# encoder hidden layers\n",
    "encoded = Dense(64)(inputs) \n",
    "encoded = LeakyReLU(alpha=0.2)(encoded)\n",
    "z_mean = Dense(encoding_dim)(encoded)\n",
    "z_log_sigma = Dense(encoding_dim)(encoded)\n",
    "z = Lambda(sampling,output_shape=(encoding_dim,))([z_mean,z_log_sigma])"
   ]
  },
  {
   "cell_type": "markdown",
   "id": "f96169a4-fa4f-4a29-b0ca-0b42119657a5",
   "metadata": {
    "tags": []
   },
   "source": [
    "## decoder hidden layers"
   ]
  },
  {
   "cell_type": "code",
   "execution_count": 18,
   "id": "00408d87-4795-47ff-b841-e9c34c4d0844",
   "metadata": {
    "tags": []
   },
   "outputs": [],
   "source": [
    "decoded = Dense(64)(z)\n",
    "decoded = LeakyReLU(alpha=0.2)(decoded)\n",
    "# output layer is same length as input\n",
    "outputs = Dense(NWL,activation='tanh')(decoded)"
   ]
  },
  {
   "cell_type": "markdown",
   "id": "a7bfabcc-c113-4bb2-b4cc-d5ffa7c77e76",
   "metadata": {},
   "source": [
    "## consolidate to define autoencoder model inputs and outputs"
   ]
  },
  {
   "cell_type": "code",
   "execution_count": 19,
   "id": "f752f71a-5860-4515-8249-7fb7da7471ec",
   "metadata": {
    "tags": []
   },
   "outputs": [],
   "source": [
    "# consolidate to define autoencoder model inputs and outputs\n",
    "vae = Model(inputs=inputs, outputs=outputs)"
   ]
  },
  {
   "cell_type": "code",
   "execution_count": 20,
   "id": "70f2106c-541e-43ba-8de5-64beac8be52f",
   "metadata": {
    "tags": []
   },
   "outputs": [],
   "source": [
    "# specify encoder and decoder model for easy encoding and decoding later\n",
    "encoder = Model(inputs=inputs, outputs=[z_mean,z_log_sigma,z],name='encoder')\n",
    "# create a placeholder for an encoded input\n",
    "encoded_input = Input(shape=(encoding_dim,))"
   ]
  },
  {
   "cell_type": "code",
   "execution_count": 21,
   "id": "40bbbcdd-1af0-4d80-b09b-6771da7823ee",
   "metadata": {
    "tags": []
   },
   "outputs": [
    {
     "name": "stdout",
     "output_type": "stream",
     "text": [
      "Model: \"encoder\"\n",
      "__________________________________________________________________________________________________\n",
      " Layer (type)                   Output Shape         Param #     Connected to                     \n",
      "==================================================================================================\n",
      " input_1 (InputLayer)           [(None, 10000)]      0           []                               \n",
      "                                                                                                  \n",
      " dense (Dense)                  (None, 64)           640064      ['input_1[0][0]']                \n",
      "                                                                                                  \n",
      " leaky_re_lu (LeakyReLU)        (None, 64)           0           ['dense[0][0]']                  \n",
      "                                                                                                  \n",
      " dense_1 (Dense)                (None, 1)            65          ['leaky_re_lu[0][0]']            \n",
      "                                                                                                  \n",
      " dense_2 (Dense)                (None, 1)            65          ['leaky_re_lu[0][0]']            \n",
      "                                                                                                  \n",
      " lambda (Lambda)                (None, 1)            0           ['dense_1[0][0]',                \n",
      "                                                                  'dense_2[0][0]']                \n",
      "                                                                                                  \n",
      "==================================================================================================\n",
      "Total params: 640,194\n",
      "Trainable params: 640,194\n",
      "Non-trainable params: 0\n",
      "__________________________________________________________________________________________________\n"
     ]
    }
   ],
   "source": [
    "encoder.summary()"
   ]
  },
  {
   "cell_type": "code",
   "execution_count": 22,
   "id": "21b2edbc-fb66-48ac-a064-9275bfd85d98",
   "metadata": {
    "tags": []
   },
   "outputs": [],
   "source": [
    "# retrieve the last layers of the autoencoder model\n",
    "decoded_output = vae.layers[-3](encoded_input)\n",
    "decoded_output = vae.layers[-2](decoded_output)\n",
    "decoded_output = vae.layers[-1](decoded_output)\n",
    "# create the decoder model\n",
    "decoder = Model(inputs=encoded_input, outputs=decoded_output, name='decoder')"
   ]
  },
  {
   "cell_type": "code",
   "execution_count": 23,
   "id": "09055a9e-d264-47e0-9180-52b3b6fba383",
   "metadata": {
    "tags": []
   },
   "outputs": [
    {
     "name": "stdout",
     "output_type": "stream",
     "text": [
      "Model: \"decoder\"\n",
      "_________________________________________________________________\n",
      " Layer (type)                Output Shape              Param #   \n",
      "=================================================================\n",
      " input_2 (InputLayer)        [(None, 1)]               0         \n",
      "                                                                 \n",
      " dense_3 (Dense)             (None, 64)                128       \n",
      "                                                                 \n",
      " leaky_re_lu_1 (LeakyReLU)   (None, 64)                0         \n",
      "                                                                 \n",
      " dense_4 (Dense)             (None, 10000)             650000    \n",
      "                                                                 \n",
      "=================================================================\n",
      "Total params: 650,128\n",
      "Trainable params: 650,128\n",
      "Non-trainable params: 0\n",
      "_________________________________________________________________\n"
     ]
    }
   ],
   "source": [
    "decoder.summary()"
   ]
  },
  {
   "cell_type": "code",
   "execution_count": 24,
   "id": "f86adf25-a12d-4b60-b2e4-c7208efea080",
   "metadata": {
    "tags": []
   },
   "outputs": [
    {
     "name": "stdout",
     "output_type": "stream",
     "text": [
      "Full autoencoder\n",
      "Model: \"model\"\n",
      "__________________________________________________________________________________________________\n",
      " Layer (type)                   Output Shape         Param #     Connected to                     \n",
      "==================================================================================================\n",
      " input_1 (InputLayer)           [(None, 10000)]      0           []                               \n",
      "                                                                                                  \n",
      " dense (Dense)                  (None, 64)           640064      ['input_1[0][0]']                \n",
      "                                                                                                  \n",
      " leaky_re_lu (LeakyReLU)        (None, 64)           0           ['dense[0][0]']                  \n",
      "                                                                                                  \n",
      " dense_1 (Dense)                (None, 1)            65          ['leaky_re_lu[0][0]']            \n",
      "                                                                                                  \n",
      " dense_2 (Dense)                (None, 1)            65          ['leaky_re_lu[0][0]']            \n",
      "                                                                                                  \n",
      " lambda (Lambda)                (None, 1)            0           ['dense_1[0][0]',                \n",
      "                                                                  'dense_2[0][0]']                \n",
      "                                                                                                  \n",
      " dense_3 (Dense)                (None, 64)           128         ['lambda[0][0]']                 \n",
      "                                                                                                  \n",
      " leaky_re_lu_1 (LeakyReLU)      (None, 64)           0           ['dense_3[0][0]']                \n",
      "                                                                                                  \n",
      " dense_4 (Dense)                (None, 10000)        650000      ['leaky_re_lu_1[0][0]']          \n",
      "                                                                                                  \n",
      "==================================================================================================\n",
      "Total params: 1,290,322\n",
      "Trainable params: 1,290,322\n",
      "Non-trainable params: 0\n",
      "__________________________________________________________________________________________________\n",
      "None\n"
     ]
    }
   ],
   "source": [
    "print('Full autoencoder')\n",
    "print(vae.summary())"
   ]
  },
  {
   "cell_type": "markdown",
   "id": "b8c6191b-4ddf-4fb4-bc9a-4f90d6bd666a",
   "metadata": {},
   "source": [
    "## VAE loss"
   ]
  },
  {
   "cell_type": "markdown",
   "id": "07b89a8f-b3ae-432b-8044-0e99964db409",
   "metadata": {},
   "source": [
    "The loss function is another key difference between standard autoencoders and variational autoencoders. A standard autoencoder simply minimizes reconstruction loss. \n",
    "\n",
    "- A variational autoencoder minimizes both reconstruction loss and the KL divergence. \n",
    "\n",
    "- The KL divergence is a measure of how much two probability distributions differ. \n",
    "\n",
    "\n",
    "Minimizing the KL divergence here means that we are encouraging the latent space encodings to have a normal distribution. The regularization parameter balances between reconstruction loss and enforcing a normal distribution in the latent space."
   ]
  },
  {
   "cell_type": "code",
   "execution_count": 25,
   "id": "9d1ccac0-4d67-4a49-848c-eedb01039085",
   "metadata": {
    "tags": []
   },
   "outputs": [],
   "source": [
    "# specify loss\n",
    "# regularization balances signal reconstruction with\n",
    "# a Gaussian distribution in the latent space \n",
    "# regularization = 10\n",
    "regularization = 5\n",
    "\n",
    "def vae_loss(input_img, output):\n",
    "    # compute the average MSE error, then scale it up, ie. simply sum on all axes\n",
    "    reconstruction_loss = K.sum(K.square(output-input_img))\n",
    "    kl_loss = - 0.5 * K.sum(1 + z_log_sigma - K.square(z_mean) - K.square(K.exp(z_log_sigma)), axis=-1)\n",
    "    # return the average loss over all images in batch\n",
    "    total_loss = K.mean(reconstruction_loss + regularization*kl_loss)    \n",
    "    return total_loss\n",
    "\n",
    "vae.compile(optimizer='adam', loss=vae_loss, metrics=['mse'],experimental_run_tf_function=False,run_eagerly=False)\n",
    "vae.run_eagerly = False"
   ]
  },
  {
   "cell_type": "markdown",
   "id": "1a6b3e85-c81e-4474-a8a5-fece81413716",
   "metadata": {},
   "source": [
    "## train variational autoencoder"
   ]
  },
  {
   "cell_type": "code",
   "execution_count": 26,
   "id": "ff91d562-d98f-46e3-a32a-cc4f30a71b9b",
   "metadata": {
    "tags": []
   },
   "outputs": [
    {
     "name": "stdout",
     "output_type": "stream",
     "text": [
      "Train on 440 samples, validate on 110 samples\n"
     ]
    },
    {
     "name": "stderr",
     "output_type": "stream",
     "text": [
      "2023-03-26 14:10:54.762454: I tensorflow/core/platform/cpu_feature_guard.cc:193] This TensorFlow binary is optimized with oneAPI Deep Neural Network Library (oneDNN) to use the following CPU instructions in performance-critical operations:  AVX2 FMA\n",
      "To enable them in other operations, rebuild TensorFlow with the appropriate compiler flags.\n",
      "2023-03-26 14:10:54.812709: I tensorflow/compiler/mlir/mlir_graph_optimization_pass.cc:357] MLIR V1 optimization pass is not enabled\n",
      "2023-03-26 14:10:54.895966: W tensorflow/c/c_api.cc:291] Operation '{name:'training/Adam/dense_1/kernel/m/Assign' id:398 op device:{requested: '', assigned: ''} def:{{{node training/Adam/dense_1/kernel/m/Assign}} = AssignVariableOp[_has_manual_control_dependencies=true, dtype=DT_FLOAT, validate_shape=false](training/Adam/dense_1/kernel/m, training/Adam/dense_1/kernel/m/Initializer/zeros)}}' was changed by setting attribute after it was run by a session. This mutation will have no effect, and will trigger an error in the future. Either don't modify nodes after running them or create a new session.\n"
     ]
    },
    {
     "name": "stdout",
     "output_type": "stream",
     "text": [
      "Epoch 1/50\n",
      "384/440 [=========================>....] - ETA: 0s - loss: 7.7768 - mean_squared_error: 4.9769e-05 \n",
      "Epoch 1: val_loss improved from inf to 2.25943, saving model to modelNN_VAE_2layers.h5\n"
     ]
    },
    {
     "name": "stderr",
     "output_type": "stream",
     "text": [
      "/Users/dagoret/anaconda3/envs/fidle23/lib/python3.9/site-packages/keras/engine/training_v1.py:2333: UserWarning: `Model.state_updates` will be removed in a future version. This property should not be used in TensorFlow 2.0, as `updates` are applied automatically.\n",
      "  updates = self.state_updates\n",
      "2023-03-26 14:10:55.396293: W tensorflow/c/c_api.cc:291] Operation '{name:'loss/mul' id:190 op device:{requested: '', assigned: ''} def:{{{node loss/mul}} = Mul[T=DT_FLOAT, _has_manual_control_dependencies=true](loss/mul/x, loss/dense_4_loss/value)}}' was changed by setting attribute after it was run by a session. This mutation will have no effect, and will trigger an error in the future. Either don't modify nodes after running them or create a new session.\n"
     ]
    },
    {
     "name": "stdout",
     "output_type": "stream",
     "text": [
      "440/440 [==============================] - 1s 1ms/sample - loss: 7.0459 - mean_squared_error: 4.5436e-05 - val_loss: 2.2594 - val_mean_squared_error: 1.6465e-05\n",
      "Epoch 2/50\n",
      "336/440 [=====================>........] - ETA: 0s - loss: 1.0045 - mean_squared_error: 8.5313e-06\n",
      "Epoch 2: val_loss improved from 2.25943 to 0.14737, saving model to modelNN_VAE_2layers.h5\n",
      "440/440 [==============================] - 0s 489us/sample - loss: 0.7596 - mean_squared_error: 7.0329e-06 - val_loss: 0.1474 - val_mean_squared_error: 3.5311e-06\n",
      "Epoch 3/50\n",
      "320/440 [====================>.........] - ETA: 0s - loss: -0.1585 - mean_squared_error: 1.3954e-06\n",
      "Epoch 3: val_loss improved from 0.14737 to -0.28470, saving model to modelNN_VAE_2layers.h5\n",
      "440/440 [==============================] - 0s 522us/sample - loss: -0.1315 - mean_squared_error: 1.5707e-06 - val_loss: -0.2847 - val_mean_squared_error: 6.2268e-07\n",
      "Epoch 4/50\n",
      "336/440 [=====================>........] - ETA: 0s - loss: -0.2107 - mean_squared_error: 1.0757e-06\n",
      "Epoch 4: val_loss improved from -0.28470 to -0.34667, saving model to modelNN_VAE_2layers.h5\n",
      "440/440 [==============================] - 0s 491us/sample - loss: -0.2377 - mean_squared_error: 9.0792e-07 - val_loss: -0.3467 - val_mean_squared_error: 2.2386e-07\n",
      "Epoch 5/50\n",
      "384/440 [=========================>....] - ETA: 0s - loss: -0.3537 - mean_squared_error: 1.7756e-07\n",
      "Epoch 5: val_loss did not improve from -0.34667\n",
      "440/440 [==============================] - 0s 339us/sample - loss: -0.3518 - mean_squared_error: 1.9000e-07 - val_loss: -0.2895 - val_mean_squared_error: 5.8198e-07\n",
      "Epoch 6/50\n",
      "320/440 [====================>.........] - ETA: 0s - loss: -0.3489 - mean_squared_error: 2.1056e-07\n",
      "Epoch 6: val_loss did not improve from -0.34667\n",
      "440/440 [==============================] - 0s 396us/sample - loss: -0.3475 - mean_squared_error: 2.2088e-07 - val_loss: -0.0096 - val_mean_squared_error: 2.3355e-06\n",
      "Epoch 7/50\n",
      "304/440 [===================>..........] - ETA: 0s - loss: -0.0729 - mean_squared_error: 1.9331e-06\n",
      "Epoch 7: val_loss did not improve from -0.34667\n",
      "440/440 [==============================] - 0s 412us/sample - loss: -0.1330 - mean_squared_error: 1.5587e-06 - val_loss: -0.1940 - val_mean_squared_error: 1.1998e-06\n",
      "Epoch 8/50\n",
      "336/440 [=====================>........] - ETA: 0s - loss: -0.2781 - mean_squared_error: 6.3839e-07\n",
      "Epoch 8: val_loss improved from -0.34667 to -0.35806, saving model to modelNN_VAE_2layers.h5\n",
      "440/440 [==============================] - 0s 509us/sample - loss: -0.2927 - mean_squared_error: 5.4877e-07 - val_loss: -0.3581 - val_mean_squared_error: 1.4683e-07\n",
      "Epoch 9/50\n",
      "352/440 [=======================>......] - ETA: 0s - loss: -0.3567 - mean_squared_error: 1.5433e-07\n",
      "Epoch 9: val_loss improved from -0.35806 to -0.37429, saving model to modelNN_VAE_2layers.h5\n",
      "440/440 [==============================] - 0s 481us/sample - loss: -0.3535 - mean_squared_error: 1.7578e-07 - val_loss: -0.3743 - val_mean_squared_error: 5.0679e-08\n",
      "Epoch 10/50\n",
      "336/440 [=====================>........] - ETA: 0s - loss: -0.2255 - mean_squared_error: 9.7976e-07\n",
      "Epoch 10: val_loss did not improve from -0.37429\n",
      "440/440 [==============================] - 0s 380us/sample - loss: -0.2005 - mean_squared_error: 1.1363e-06 - val_loss: -0.3320 - val_mean_squared_error: 3.0315e-07\n",
      "Epoch 11/50\n",
      "352/440 [=======================>......] - ETA: 0s - loss: -0.2911 - mean_squared_error: 5.4855e-07\n",
      "Epoch 11: val_loss did not improve from -0.37429\n",
      "440/440 [==============================] - 0s 357us/sample - loss: -0.3040 - mean_squared_error: 4.6921e-07 - val_loss: -0.3332 - val_mean_squared_error: 2.9911e-07\n",
      "Epoch 12/50\n",
      "336/440 [=====================>........] - ETA: 0s - loss: -0.3408 - mean_squared_error: 2.5022e-07\n",
      "Epoch 12: val_loss did not improve from -0.37429\n",
      "440/440 [==============================] - 0s 375us/sample - loss: -0.3384 - mean_squared_error: 2.6715e-07 - val_loss: -0.3627 - val_mean_squared_error: 1.2053e-07\n",
      "Epoch 13/50\n",
      "320/440 [====================>.........] - ETA: 0s - loss: -0.3451 - mean_squared_error: 2.3215e-07\n",
      "Epoch 13: val_loss did not improve from -0.37429\n",
      "440/440 [==============================] - 0s 396us/sample - loss: -0.3469 - mean_squared_error: 2.2655e-07 - val_loss: -0.0871 - val_mean_squared_error: 1.8665e-06\n",
      "Epoch 14/50\n",
      "320/440 [====================>.........] - ETA: 0s - loss: -0.1511 - mean_squared_error: 1.4422e-06\n",
      "Epoch 14: val_loss did not improve from -0.37429\n",
      "440/440 [==============================] - 0s 401us/sample - loss: -0.1783 - mean_squared_error: 1.2686e-06 - val_loss: -0.2970 - val_mean_squared_error: 5.1256e-07\n",
      "Epoch 15/50\n",
      "320/440 [====================>.........] - ETA: 0s - loss: -0.2743 - mean_squared_error: 6.4424e-07\n",
      "Epoch 15: val_loss did not improve from -0.37429\n",
      "440/440 [==============================] - 0s 379us/sample - loss: -0.2874 - mean_squared_error: 5.7364e-07 - val_loss: -0.1674 - val_mean_squared_error: 1.3637e-06\n",
      "Epoch 16/50\n",
      "336/440 [=====================>........] - ETA: 0s - loss: -0.2250 - mean_squared_error: 9.6490e-07\n",
      "Epoch 16: val_loss did not improve from -0.37429\n",
      "440/440 [==============================] - 0s 376us/sample - loss: -0.0224 - mean_squared_error: 2.2297e-06 - val_loss: 0.0372 - val_mean_squared_error: 2.6831e-06\n",
      "Epoch 17/50\n",
      "352/440 [=======================>......] - ETA: 0s - loss: 0.1621 - mean_squared_error: 3.1916e-06\n",
      "Epoch 17: val_loss did not improve from -0.37429\n",
      "440/440 [==============================] - 0s 638us/sample - loss: 0.2481 - mean_squared_error: 3.7080e-06 - val_loss: 0.9649 - val_mean_squared_error: 8.4398e-06\n",
      "Epoch 18/50\n",
      "400/440 [==========================>...] - ETA: 0s - loss: 0.4754 - mean_squared_error: 4.8054e-06\n",
      "Epoch 18: val_loss did not improve from -0.37429\n",
      "440/440 [==============================] - 0s 640us/sample - loss: 0.4329 - mean_squared_error: 4.5169e-06 - val_loss: -0.0664 - val_mean_squared_error: 1.1025e-06\n",
      "Epoch 19/50\n",
      "416/440 [===========================>..] - ETA: 0s - loss: 0.4766 - mean_squared_error: 4.4411e-06\n",
      "Epoch 19: val_loss did not improve from -0.37429\n",
      "440/440 [==============================] - 0s 511us/sample - loss: 0.4537 - mean_squared_error: 4.3097e-06 - val_loss: 0.0043 - val_mean_squared_error: 1.3439e-06\n",
      "Epoch 20/50\n",
      "384/440 [=========================>....] - ETA: 0s - loss: 0.0403 - mean_squared_error: 1.6371e-06\n",
      "Epoch 20: val_loss did not improve from -0.37429\n",
      "440/440 [==============================] - 0s 661us/sample - loss: 0.0436 - mean_squared_error: 1.6924e-06 - val_loss: 0.2115 - val_mean_squared_error: 3.0943e-06\n",
      "Epoch 21/50\n",
      "400/440 [==========================>...] - ETA: 0s - loss: 0.2609 - mean_squared_error: 3.3325e-06\n",
      "Epoch 21: val_loss did not improve from -0.37429\n",
      "440/440 [==============================] - 0s 662us/sample - loss: 0.2191 - mean_squared_error: 3.0726e-06 - val_loss: -0.1602 - val_mean_squared_error: 7.5087e-07\n",
      "Epoch 22/50\n",
      "352/440 [=======================>......] - ETA: 0s - loss: -0.2773 - mean_squared_error: 1.7366e-07\n",
      "Epoch 22: val_loss did not improve from -0.37429\n",
      "440/440 [==============================] - 0s 686us/sample - loss: -0.2840 - mean_squared_error: 1.9046e-07 - val_loss: -0.3433 - val_mean_squared_error: 6.6776e-08\n",
      "Epoch 23/50\n",
      "400/440 [==========================>...] - ETA: 0s - loss: -0.3516 - mean_squared_error: 9.7955e-08\n",
      "Epoch 23: val_loss did not improve from -0.37429\n",
      "440/440 [==============================] - 0s 648us/sample - loss: -0.3532 - mean_squared_error: 9.5876e-08 - val_loss: -0.3498 - val_mean_squared_error: 1.8136e-07\n",
      "Epoch 24/50\n",
      "400/440 [==========================>...] - ETA: 0s - loss: -0.3529 - mean_squared_error: 1.7521e-07\n",
      "Epoch 24: val_loss did not improve from -0.37429\n",
      "440/440 [==============================] - 0s 653us/sample - loss: -0.3520 - mean_squared_error: 1.8192e-07 - val_loss: -0.3528 - val_mean_squared_error: 1.8753e-07\n",
      "Epoch 25/50\n",
      "368/440 [========================>.....] - ETA: 0s - loss: -0.2920 - mean_squared_error: 5.6575e-07\n",
      "Epoch 25: val_loss did not improve from -0.37429\n",
      "440/440 [==============================] - 0s 689us/sample - loss: -0.2515 - mean_squared_error: 1.0447e-06 - val_loss: -0.3038 - val_mean_squared_error: 4.8325e-07\n",
      "Epoch 26/50\n",
      "432/440 [============================>.] - ETA: 0s - loss: 0.0343 - mean_squared_error: 2.4585e-06\n",
      "Epoch 26: val_loss did not improve from -0.37429\n",
      "440/440 [==============================] - 0s 617us/sample - loss: 0.0286 - mean_squared_error: 2.4264e-06 - val_loss: -0.1254 - val_mean_squared_error: 1.3078e-06\n",
      "Epoch 27/50\n",
      "384/440 [=========================>....] - ETA: 0s - loss: -0.2721 - mean_squared_error: 4.1753e-07\n",
      "Epoch 27: val_loss did not improve from -0.37429\n",
      "440/440 [==============================] - 0s 638us/sample - loss: -0.2780 - mean_squared_error: 3.9602e-07 - val_loss: -0.3508 - val_mean_squared_error: 6.0519e-08\n",
      "Epoch 28/50\n",
      "400/440 [==========================>...] - ETA: 0s - loss: -0.3589 - mean_squared_error: 7.8881e-08\n",
      "Epoch 28: val_loss improved from -0.37429 to -0.37577, saving model to modelNN_VAE_2layers.h5\n",
      "440/440 [==============================] - 0s 840us/sample - loss: -0.3605 - mean_squared_error: 7.3760e-08 - val_loss: -0.3758 - val_mean_squared_error: 2.8342e-08\n",
      "Epoch 29/50\n",
      "384/440 [=========================>....] - ETA: 0s - loss: -0.3701 - mean_squared_error: 7.4296e-08\n",
      "Epoch 29: val_loss did not improve from -0.37577\n",
      "440/440 [==============================] - 0s 814us/sample - loss: -0.3699 - mean_squared_error: 7.6691e-08 - val_loss: -0.3692 - val_mean_squared_error: 8.7303e-08\n",
      "Epoch 30/50\n",
      "368/440 [========================>.....] - ETA: 0s - loss: -0.3676 - mean_squared_error: 9.7866e-08\n",
      "Epoch 30: val_loss did not improve from -0.37577\n",
      "440/440 [==============================] - 0s 706us/sample - loss: -0.3666 - mean_squared_error: 1.0695e-07 - val_loss: -0.3697 - val_mean_squared_error: 8.6121e-08\n",
      "Epoch 31/50\n",
      "416/440 [===========================>..] - ETA: 0s - loss: -0.3674 - mean_squared_error: 9.9955e-08\n",
      "Epoch 31: val_loss did not improve from -0.37577\n",
      "440/440 [==============================] - 0s 638us/sample - loss: -0.3680 - mean_squared_error: 9.7514e-08 - val_loss: -0.3739 - val_mean_squared_error: 6.0518e-08\n",
      "Epoch 32/50\n",
      "416/440 [===========================>..] - ETA: 0s - loss: -0.3671 - mean_squared_error: 1.0197e-07\n",
      "Epoch 32: val_loss did not improve from -0.37577\n",
      "440/440 [==============================] - 0s 629us/sample - loss: -0.3657 - mean_squared_error: 1.1114e-07 - val_loss: -0.3705 - val_mean_squared_error: 8.1209e-08\n",
      "Epoch 33/50\n",
      "440/440 [==============================] - ETA: 0s - loss: -0.3696 - mean_squared_error: 8.9123e-08\n",
      "Epoch 33: val_loss did not improve from -0.37577\n",
      "440/440 [==============================] - 0s 707us/sample - loss: -0.3696 - mean_squared_error: 8.9123e-08 - val_loss: -0.3747 - val_mean_squared_error: 5.5320e-08\n",
      "Epoch 34/50\n",
      "368/440 [========================>.....] - ETA: 0s - loss: -0.3669 - mean_squared_error: 1.0317e-07\n",
      "Epoch 34: val_loss did not improve from -0.37577\n",
      "440/440 [==============================] - 0s 693us/sample - loss: -0.3680 - mean_squared_error: 9.6977e-08 - val_loss: -0.3524 - val_mean_squared_error: 2.1671e-07\n",
      "Epoch 35/50\n",
      "400/440 [==========================>...] - ETA: 0s - loss: -0.3514 - mean_squared_error: 2.0034e-07\n",
      "Epoch 35: val_loss did not improve from -0.37577\n",
      "440/440 [==============================] - 0s 687us/sample - loss: -0.3525 - mean_squared_error: 1.9425e-07 - val_loss: -0.3612 - val_mean_squared_error: 1.4118e-07\n",
      "Epoch 36/50\n",
      "384/440 [=========================>....] - ETA: 0s - loss: -0.2889 - mean_squared_error: 5.8857e-07\n",
      "Epoch 36: val_loss did not improve from -0.37577\n",
      "440/440 [==============================] - 0s 647us/sample - loss: -0.2802 - mean_squared_error: 6.4619e-07 - val_loss: -0.2654 - val_mean_squared_error: 7.3743e-07\n",
      "Epoch 37/50\n",
      "384/440 [=========================>....] - ETA: 0s - loss: -0.1476 - mean_squared_error: 1.4581e-06\n",
      "Epoch 37: val_loss did not improve from -0.37577\n",
      "440/440 [==============================] - 0s 514us/sample - loss: -0.1073 - mean_squared_error: 1.7108e-06 - val_loss: 0.1649 - val_mean_squared_error: 3.3853e-06\n",
      "Epoch 38/50\n",
      "440/440 [==============================] - ETA: 0s - loss: -0.0547 - mean_squared_error: 1.8301e-06   \n",
      "Epoch 38: val_loss did not improve from -0.37577\n",
      "440/440 [==============================] - 0s 573us/sample - loss: -0.0547 - mean_squared_error: 1.8301e-06 - val_loss: 0.1012 - val_mean_squared_error: 2.7836e-06\n",
      "Epoch 39/50\n",
      "352/440 [=======================>......] - ETA: 0s - loss: -0.3169 - mean_squared_error: 2.5902e-07\n",
      "Epoch 39: val_loss did not improve from -0.37577\n",
      "440/440 [==============================] - 0s 552us/sample - loss: -0.2914 - mean_squared_error: 4.3869e-07 - val_loss: -0.3491 - val_mean_squared_error: 1.5661e-07\n",
      "Epoch 40/50\n",
      "368/440 [========================>.....] - ETA: 0s - loss: -0.3443 - mean_squared_error: 1.9914e-07\n",
      "Epoch 40: val_loss did not improve from -0.37577\n",
      "440/440 [==============================] - 0s 486us/sample - loss: -0.3216 - mean_squared_error: 3.4534e-07 - val_loss: -0.0876 - val_mean_squared_error: 2.0332e-06\n",
      "Epoch 41/50\n",
      "400/440 [==========================>...] - ETA: 0s - loss: -0.3082 - mean_squared_error: 4.4467e-07\n",
      "Epoch 41: val_loss did not improve from -0.37577\n",
      "440/440 [==============================] - 0s 503us/sample - loss: -0.3108 - mean_squared_error: 4.3002e-07 - val_loss: -0.3387 - val_mean_squared_error: 2.6468e-07\n",
      "Epoch 42/50\n",
      "432/440 [============================>.] - ETA: 0s - loss: -0.2879 - mean_squared_error: 5.7676e-07\n",
      "Epoch 42: val_loss did not improve from -0.37577\n",
      "440/440 [==============================] - 0s 449us/sample - loss: -0.2894 - mean_squared_error: 5.6816e-07 - val_loss: -0.3538 - val_mean_squared_error: 1.6521e-07\n",
      "Epoch 43/50\n",
      "368/440 [========================>.....] - ETA: 0s - loss: -0.3713 - mean_squared_error: 6.4214e-08\n",
      "Epoch 43: val_loss did not improve from -0.37577\n",
      "440/440 [==============================] - 0s 518us/sample - loss: -0.3727 - mean_squared_error: 5.7177e-08 - val_loss: -0.3729 - val_mean_squared_error: 6.3157e-08\n",
      "Epoch 44/50\n",
      "352/440 [=======================>......] - ETA: 0s - loss: -0.3508 - mean_squared_error: 2.0275e-07\n",
      "Epoch 44: val_loss improved from -0.37577 to -0.37596, saving model to modelNN_VAE_2layers.h5\n",
      "440/440 [==============================] - 0s 720us/sample - loss: -0.3514 - mean_squared_error: 2.0683e-07 - val_loss: -0.3760 - val_mean_squared_error: 4.5608e-08\n",
      "Epoch 45/50\n",
      "384/440 [=========================>....] - ETA: 0s - loss: -0.3570 - mean_squared_error: 1.6347e-07\n",
      "Epoch 45: val_loss did not improve from -0.37596\n",
      "440/440 [==============================] - 0s 482us/sample - loss: -0.3591 - mean_squared_error: 1.5130e-07 - val_loss: -0.3711 - val_mean_squared_error: 7.7058e-08\n",
      "Epoch 46/50\n",
      "368/440 [========================>.....] - ETA: 0s - loss: -0.3757 - mean_squared_error: 4.7930e-08\n",
      "Epoch 46: val_loss improved from -0.37596 to -0.37808, saving model to modelNN_VAE_2layers.h5\n",
      "440/440 [==============================] - 0s 736us/sample - loss: -0.3764 - mean_squared_error: 4.4001e-08 - val_loss: -0.3781 - val_mean_squared_error: 3.4220e-08\n",
      "Epoch 47/50\n",
      "440/440 [==============================] - ETA: 0s - loss: -0.3743 - mean_squared_error: 5.7678e-08\n",
      "Epoch 47: val_loss did not improve from -0.37808\n",
      "440/440 [==============================] - 0s 566us/sample - loss: -0.3743 - mean_squared_error: 5.7678e-08 - val_loss: -0.3759 - val_mean_squared_error: 4.8245e-08\n",
      "Epoch 48/50\n",
      "400/440 [==========================>...] - ETA: 0s - loss: -0.3795 - mean_squared_error: 2.5357e-08\n",
      "Epoch 48: val_loss improved from -0.37808 to -0.37916, saving model to modelNN_VAE_2layers.h5\n",
      "440/440 [==============================] - 0s 733us/sample - loss: -0.3790 - mean_squared_error: 2.8275e-08 - val_loss: -0.3792 - val_mean_squared_error: 2.7814e-08\n",
      "Epoch 49/50\n",
      "432/440 [============================>.] - ETA: 0s - loss: -0.3802 - mean_squared_error: 2.1222e-08\n",
      "Epoch 49: val_loss did not improve from -0.37916\n",
      "440/440 [==============================] - 0s 623us/sample - loss: -0.3802 - mean_squared_error: 2.0959e-08 - val_loss: -0.3788 - val_mean_squared_error: 2.9884e-08\n",
      "Epoch 50/50\n",
      "400/440 [==========================>...] - ETA: 0s - loss: -0.3791 - mean_squared_error: 2.8009e-08\n",
      "Epoch 50: val_loss did not improve from -0.37916\n",
      "440/440 [==============================] - 0s 648us/sample - loss: -0.3794 - mean_squared_error: 2.6431e-08 - val_loss: -0.3745 - val_mean_squared_error: 5.6679e-08\n"
     ]
    }
   ],
   "source": [
    "# train variational autoencoder\n",
    "results = vae.fit(x_train,x_train,\n",
    "                      shuffle=True,\n",
    "                      batch_size = batch_size, \n",
    "                      epochs = epochs,\n",
    "                      validation_data = (x_test,x_test),\n",
    "                      callbacks = callbacks)"
   ]
  },
  {
   "cell_type": "code",
   "execution_count": 27,
   "id": "9d6190ae-c76f-4052-8b62-d60931fe07c3",
   "metadata": {
    "tags": []
   },
   "outputs": [
    {
     "data": {
      "image/png": "[encoded data removed]",
      "text/plain": [
       "<Figure size 800x800 with 1 Axes>"
      ]
     },
     "metadata": {},
     "output_type": "display_data"
    }
   ],
   "source": [
    "# QC training and validation curves (should follow eachother)\n",
    "plt.figure(figsize=(8,8))\n",
    "plt.plot(results.history['val_loss'], label='val')\n",
    "plt.plot(results.history['loss'], label='train')\n",
    "plt.xlabel('epoch index')\n",
    "plt.ylabel('loss value (MSE)')\n",
    "plt.legend()\n",
    "plt.show()"
   ]
  },
  {
   "cell_type": "markdown",
   "id": "75492832-c5a7-4699-ab0f-a890e5ddc1cd",
   "metadata": {},
   "source": [
    "## First, let's check to see how well the encoder is working."
   ]
  },
  {
   "cell_type": "code",
   "execution_count": 28,
   "id": "33ca6c08-0d9f-4972-a14c-ccada33c1f48",
   "metadata": {
    "tags": []
   },
   "outputs": [
    {
     "name": "stderr",
     "output_type": "stream",
     "text": [
      "/Users/dagoret/anaconda3/envs/fidle23/lib/python3.9/site-packages/keras/engine/training_v1.py:2357: UserWarning: `Model.state_updates` will be removed in a future version. This property should not be used in TensorFlow 2.0, as `updates` are applied automatically.\n",
      "  updates=self.state_updates,\n",
      "2023-03-26 14:11:08.635579: W tensorflow/c/c_api.cc:291] Operation '{name:'dense_1/BiasAdd' id:43 op device:{requested: '', assigned: ''} def:{{{node dense_1/BiasAdd}} = BiasAdd[T=DT_FLOAT, _has_manual_control_dependencies=true, data_format=\"NHWC\"](dense_1/MatMul, dense_1/BiasAdd/ReadVariableOp)}}' was changed by setting attribute after it was run by a session. This mutation will have no effect, and will trigger an error in the future. Either don't modify nodes after running them or create a new session.\n",
      "2023-03-26 14:11:08.750708: W tensorflow/c/c_api.cc:291] Operation '{name:'dense_4/Tanh' id:116 op device:{requested: '', assigned: ''} def:{{{node dense_4/Tanh}} = Tanh[T=DT_FLOAT, _has_manual_control_dependencies=true](dense_4/BiasAdd)}}' was changed by setting attribute after it was run by a session. This mutation will have no effect, and will trigger an error in the future. Either don't modify nodes after running them or create a new session.\n"
     ]
    }
   ],
   "source": [
    "encoded_test = np.array(encoder.predict(x_test))\n",
    "vae_test = vae.predict(x_test)"
   ]
  },
  {
   "cell_type": "code",
   "execution_count": 29,
   "id": "195f829b-f9eb-4e00-a9a2-7c8fb0d50dc3",
   "metadata": {
    "tags": []
   },
   "outputs": [
    {
     "data": {
      "image/png": "[encoded data removed]",
      "text/plain": [
       "<Figure size 640x480 with 1 Axes>"
      ]
     },
     "metadata": {},
     "output_type": "display_data"
    }
   ],
   "source": [
    "plt.plot(x_test[2],label='true signal')\n",
    "plt.plot(vae_test[2],label='encoded-decoded signal',alpha=0.5)\n",
    "plt.legend()\n",
    "plt.show()"
   ]
  },
  {
   "cell_type": "markdown",
   "id": "8f13770f-f8c7-4864-9b44-a50fa5bb8f0f",
   "metadata": {},
   "source": [
    "## Now let's look at the distribution of samples in the latent space, to see how gaussian it is."
   ]
  },
  {
   "cell_type": "code",
   "execution_count": 30,
   "id": "7221cdd5-9611-40d1-b35b-fca15d2033ef",
   "metadata": {
    "tags": []
   },
   "outputs": [
    {
     "data": {
      "image/png": "[encoded data removed]",
      "text/plain": [
       "<Figure size 640x480 with 1 Axes>"
      ]
     },
     "metadata": {},
     "output_type": "display_data"
    }
   ],
   "source": [
    "import matplotlib.mlab as mlab\n",
    "n,bins,patches=plt.hist(encoded_test[2,:,:].flatten(),bins=100,density=True)\n",
    "plt.plot(bins,scipy.stats.norm.pdf(bins,0,1))\n",
    "plt.show()"
   ]
  },
  {
   "cell_type": "markdown",
   "id": "07a7ce18-c555-4c91-954f-1a256caf75e1",
   "metadata": {},
   "source": [
    "## Now let's see how the decoded signal depends on the latent vector."
   ]
  },
  {
   "cell_type": "markdown",
   "id": "d39d5037-4b94-4094-a12e-f4661b7b968f",
   "metadata": {},
   "source": [
    "Interestingly, the autoencoder has learned to use the latent vector (value in this case, since we specified an encoding dimension of 1) as a proxy for phase. As the latent value changes, the phase of the decoded signal changes. Latent values near zero reproduce a sine wave well, while values far from zero produce signals that aren't exactly sinusoidal."
   ]
  },
  {
   "cell_type": "code",
   "execution_count": null,
   "id": "6e4855d0-4b37-47a0-948a-ca2882ac0e91",
   "metadata": {},
   "outputs": [],
   "source": []
  }
 ],
 "metadata": {
  "kernelspec": {
   "display_name": "fidle2023",
   "language": "python",
   "name": "fidle2023"
  },
  "language_info": {
   "codemirror_mode": {
    "name": "ipython",
    "version": 3
   },
   "file_extension": ".py",
   "mimetype": "text/x-python",
   "name": "python",
   "nbconvert_exporter": "python",
   "pygments_lexer": "ipython3",
   "version": "3.9.16"
  }
 },
 "nbformat": 4,
 "nbformat_minor": 5
}
