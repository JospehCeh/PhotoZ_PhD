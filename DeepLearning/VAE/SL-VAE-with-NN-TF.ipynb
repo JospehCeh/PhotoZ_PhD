{
 "cells": [
  {
   "cell_type": "markdown",
   "metadata": {},
   "source": [
    "\n",
    "\n",
    "# <!-- TITLE --> [VAE1] - First VAE, using functional API \n",
    "<!-- DESC --> Construction and training of a VAE, using functional APPI, with a latent space of small dimension.\n",
    "\n",
    "\n",
    "## Objectives :\n",
    " - Understanding and implementing a **variational autoencoder** neurals network (VAE)\n",
    " - Understanding **Keras functional API**, using two custom layers\n",
    "\n",
    "The calculation needs being important, it is preferable to use a very simple dataset such as MNIST to start with.  \n",
    "...MNIST with a small scale if you haven't a GPU ;-)\n",
    "\n",
    "## What we're going to do :\n",
    "\n",
    " - Defining a VAE model\n",
    " - Build the model\n",
    " - Train it\n",
    " - Have a look on the train process\n",
    "\n",
    "## Acknowledgements :\n",
    "Thanks to **François Chollet** who is at the base of this example (and the creator of Keras !!).  \n",
    "See : https://keras.io/examples/generative/vae\n"
   ]
  },
  {
   "cell_type": "markdown",
   "metadata": {},
   "source": [
    "## Step 1 - Init python stuff"
   ]
  },
  {
   "cell_type": "code",
   "execution_count": 1,
   "metadata": {},
   "outputs": [
    {
     "name": "stderr",
     "output_type": "stream",
     "text": [
      "2023-04-10 21:00:37.363578: I tensorflow/core/platform/cpu_feature_guard.cc:182] This TensorFlow binary is optimized to use available CPU instructions in performance-critical operations.\n",
      "To enable the following instructions: AVX2 FMA, in other operations, rebuild TensorFlow with the appropriate compiler flags.\n"
     ]
    },
    {
     "data": {
      "text/html": [
       "<style>\n",
       "\n",
       "div.warn {    \n",
       "    background-color: #fcf2f2;\n",
       "    border-color: #dFb5b4;\n",
       "    border-left: 5px solid #dfb5b4;\n",
       "    padding: 0.5em;\n",
       "    font-weight: bold;\n",
       "    font-size: 1.1em;;\n",
       "    }\n",
       "\n",
       "\n",
       "\n",
       "div.nota {    \n",
       "    background-color: #DAFFDE;\n",
       "    border-left: 5px solid #92CC99;\n",
       "    padding: 0.5em;\n",
       "    }\n",
       "\n",
       "div.todo:before { content:url(data:image/svg+xml;base64,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);\n",
       "    float:left;\n",
       "    margin-right:20px;\n",
       "    margin-top:-20px;\n",
       "    margin-bottom:20px;\n",
       "}\n",
       "div.todo{\n",
       "    font-weight: bold;\n",
       "    font-size: 1.1em;\n",
       "    margin-top:40px;\n",
       "}\n",
       "div.todo ul{\n",
       "    margin: 0.2em;\n",
       "}\n",
       "div.todo li{\n",
       "    margin-left:60px;\n",
       "    margin-top:0;\n",
       "    margin-bottom:0;\n",
       "}\n",
       "\n",
       "div .comment{\n",
       "    font-size:0.8em;\n",
       "    color:#696969;\n",
       "}\n",
       "\n",
       "\n",
       "\n",
       "</style>\n",
       "\n"
      ],
      "text/plain": [
       "<IPython.core.display.HTML object>"
      ]
     },
     "metadata": {},
     "output_type": "display_data"
    },
    {
     "data": {
      "text/markdown": [
       "<br>**FIDLE - Environment initialization**"
      ],
      "text/plain": [
       "<IPython.core.display.Markdown object>"
      ]
     },
     "metadata": {},
     "output_type": "display_data"
    },
    {
     "name": "stdout",
     "output_type": "stream",
     "text": [
      "Version              : 2.0b56\n",
      "Run id               : VAE1\n",
      "Run dir              : ./run/VAE1\n",
      "Datasets dir         : /Users/dagoret/MacOSX/Fidle2023/fidle-tp/datasets-fidle\n",
      "Start time           : 10/04/23 21:00:41\n",
      "Hostname             : MacBook-Pro-de-admin.local (Darwin)\n",
      "Tensorflow log level : Warning + Error  (=1)\n",
      "Update keras cache   : False\n",
      "Save figs            : ./run/VAE1/figs (False)\n",
      "tensorflow           : 2.12.0\n",
      "tensorflow.keras     : 2.12.0\n",
      "numpy                : 1.23.5\n",
      "sklearn              : 1.2.2\n",
      "skimage              : 0.20.0\n",
      "matplotlib           : 3.7.1\n",
      "pandas               : 2.0.0\n"
     ]
    }
   ],
   "source": [
    "import numpy as np\n",
    "import matplotlib.pyplot as plt\n",
    "import tensorflow as tf\n",
    "from tensorflow import keras\n",
    "from tensorflow.keras import layers\n",
    "from tensorflow.keras.callbacks import TensorBoard\n",
    "\n",
    "from modules.layers    import SamplingLayer, VariationalLossLayer\n",
    "from modules.callbacks import ImagesCallback, BestModelCallback\n",
    "\n",
    "import sys\n",
    "import fidle\n",
    "\n",
    "# Init Fidle environment\n",
    "run_id, run_dir, datasets_dir = fidle.init('VAE1')\n"
   ]
  },
  {
   "cell_type": "code",
   "execution_count": 2,
   "metadata": {},
   "outputs": [],
   "source": [
    "import h5py"
   ]
  },
  {
   "cell_type": "code",
   "execution_count": 3,
   "metadata": {},
   "outputs": [],
   "source": [
    "# to enlarge the sizes\n",
    "params = {'legend.fontsize': 'x-large',\n",
    "          'figure.figsize': (8, 8),\n",
    "         'axes.labelsize': 'xx-large',\n",
    "         'axes.titlesize':'xx-large',\n",
    "         'xtick.labelsize':'xx-large',\n",
    "         'ytick.labelsize':'xx-large'}\n",
    "plt.rcParams.update(params)\n"
   ]
  },
  {
   "cell_type": "markdown",
   "metadata": {},
   "source": [
    "## Step 2 - Parameters\n",
    "`scale` : With scale=1, we need 1'30s on a GPU V100 ...and >20' on a CPU !\\\n",
    "`latent_dim` : 2 dimensions is small, but usefull to draw !\\\n",
    "`fit_verbosity`: Verbosity of training progress bar: 0=silent, 1=progress bar, 2=One line  \n",
    "\n",
    "`loss_weights` : Our **loss function** is the weighted sum of two loss:\n",
    " - `r_loss` which measures the loss during reconstruction.  \n",
    " - `kl_loss` which measures the dispersion.  \n",
    "\n",
    "The weights are defined by: `loss_weights=[k1,k2]` where : `total_loss = k1*r_loss + k2*kl_loss`  \n",
    "In practice, a value of \\[1,.001\\] gives good results here.\n"
   ]
  },
  {
   "cell_type": "code",
   "execution_count": 4,
   "metadata": {},
   "outputs": [],
   "source": [
    "latent_dim    = 2\n",
    "loss_weights  = [1,1]\n",
    "\n",
    "scale         = 0.2\n",
    "seed          = 123\n",
    "\n",
    "batch_size    = 16\n",
    "epochs        = 100\n",
    "fit_verbosity = 1"
   ]
  },
  {
   "cell_type": "markdown",
   "metadata": {},
   "source": [
    "Override parameters (batch mode) - Just forget this cell"
   ]
  },
  {
   "cell_type": "code",
   "execution_count": 5,
   "metadata": {},
   "outputs": [],
   "source": [
    "fidle.override('latent_dim', 'loss_weights', 'scale', 'seed', 'batch_size', 'epochs', 'fit_verbosity')"
   ]
  },
  {
   "cell_type": "markdown",
   "metadata": {},
   "source": [
    "## Step 3 - Prepare data\n"
   ]
  },
  {
   "cell_type": "code",
   "execution_count": 6,
   "metadata": {},
   "outputs": [
    {
     "name": "stdout",
     "output_type": "stream",
     "text": [
      "<KeysViewHDF5 ['RT', 'RV', 'Rmag', 'dec', 'flambda', 'num', 'quantile', 'ra', 'redshift', 'wl']>\n"
     ]
    }
   ],
   "source": [
    "hf = h5py.File('SLspectra.hdf5', 'r') \n",
    "data_in = hf['flambda'][:]\n",
    "wl_in = hf['wl'][:]\n",
    "target = hf['quantile'][:]\n",
    "print(hf.keys())"
   ]
  },
  {
   "cell_type": "code",
   "execution_count": 7,
   "metadata": {},
   "outputs": [],
   "source": [
    "NWL = data_in.shape[1]\n",
    "NSAMPL = data_in.shape[0]"
   ]
  },
  {
   "cell_type": "code",
   "execution_count": 8,
   "metadata": {},
   "outputs": [],
   "source": [
    "spectra = data_in\n",
    "wavelengths = wl_in\n",
    "\n",
    "# normalize spectra by integrated flux and subtract out mean, for easier training\n",
    "spectranorms = np.mean(spectra, axis=1)\n",
    "normedspectra = spectra / spectranorms[:, None]\n",
    "meanspectrum = np.mean(normedspectra, axis=0)\n",
    "normedspectra -= meanspectrum[None, :]\n"
   ]
  },
  {
   "cell_type": "markdown",
   "metadata": {},
   "source": [
    "## Step 4 - Build model\n",
    "In this example, we will use the **functional API.**  \n",
    "For this, we will use two custom layers :\n",
    " - `SamplingLayer`, which generates a vector z from the parameters z_mean and z_log_var - See : [SamplingLayer.py](./modules/layers/SamplingLayer.py)\n",
    " - `VariationalLossLayer`, which allows us to calculate the loss function, loss - See : [VariationalLossLayer.py](./modules/layers/VariationalLossLayer.py)"
   ]
  },
  {
   "cell_type": "markdown",
   "metadata": {},
   "source": [
    "#### Encoder"
   ]
  },
  {
   "cell_type": "code",
   "execution_count": 9,
   "metadata": {},
   "outputs": [
    {
     "name": "stdout",
     "output_type": "stream",
     "text": [
      "Model: \"encoder\"\n",
      "__________________________________________________________________________________________________\n",
      " Layer (type)                   Output Shape         Param #     Connected to                     \n",
      "==================================================================================================\n",
      " input_1 (InputLayer)           [(None, 10000)]      0           []                               \n",
      "                                                                                                  \n",
      " dense (Dense)                  (None, 256)          2560256     ['input_1[0][0]']                \n",
      "                                                                                                  \n",
      " z_mean (Dense)                 (None, 2)            514         ['dense[0][0]']                  \n",
      "                                                                                                  \n",
      " z_log_var (Dense)              (None, 2)            514         ['dense[0][0]']                  \n",
      "                                                                                                  \n",
      " sampling_layer (SamplingLayer)  (None, 2)           0           ['z_mean[0][0]',                 \n",
      "                                                                  'z_log_var[0][0]']              \n",
      "                                                                                                  \n",
      "==================================================================================================\n",
      "Total params: 2,561,284\n",
      "Trainable params: 2,561,284\n",
      "Non-trainable params: 0\n",
      "__________________________________________________________________________________________________\n"
     ]
    }
   ],
   "source": [
    "inputs    = keras.Input(shape=(NWL,))\n",
    "x         = layers.Dense(256, activation=\"relu\")(inputs)\n",
    "#x         = layers.Dense(64, activation=\"relu\")(x)\n",
    "#x         = layers.Flatten()(x)\n",
    "\n",
    "\n",
    "z_mean    = layers.Dense(latent_dim, name=\"z_mean\")(x)\n",
    "z_log_var = layers.Dense(latent_dim, name=\"z_log_var\")(x)\n",
    "z         = SamplingLayer()([z_mean, z_log_var])\n",
    "\n",
    "encoder = keras.Model(inputs, [z_mean, z_log_var, z], name=\"encoder\")\n",
    "encoder.summary()"
   ]
  },
  {
   "cell_type": "markdown",
   "metadata": {},
   "source": [
    "#### Decoder"
   ]
  },
  {
   "cell_type": "code",
   "execution_count": 10,
   "metadata": {},
   "outputs": [
    {
     "name": "stdout",
     "output_type": "stream",
     "text": [
      "Model: \"decoder\"\n",
      "_________________________________________________________________\n",
      " Layer (type)                Output Shape              Param #   \n",
      "=================================================================\n",
      " input_2 (InputLayer)        [(None, 2)]               0         \n",
      "                                                                 \n",
      " dense_1 (Dense)             (None, 256)               768       \n",
      "                                                                 \n",
      " dense_2 (Dense)             (None, 10000)             2570000   \n",
      "                                                                 \n",
      "=================================================================\n",
      "Total params: 2,570,768\n",
      "Trainable params: 2,570,768\n",
      "Non-trainable params: 0\n",
      "_________________________________________________________________\n"
     ]
    }
   ],
   "source": [
    "inputs  = keras.Input(shape=(latent_dim,))\n",
    "#x       = layers.Dense(64, activation=\"relu\")(inputs)\n",
    "x       = layers.Dense(256,activation=\"relu\") (inputs)\n",
    "outputs = layers.Dense(NWL, activation=\"relu\")(x)\n",
    "\n",
    "decoder = keras.Model(inputs, outputs, name=\"decoder\")\n",
    "\n",
    "decoder.summary()"
   ]
  },
  {
   "cell_type": "markdown",
   "metadata": {},
   "source": [
    "#### VAE\n",
    "\n",
    "We will calculate the loss with a specific layer: `VariationalLossLayer` - See : [VariationalLossLayer.py](./modules/layers/VariationalLossLayer.py)"
   ]
  },
  {
   "cell_type": "code",
   "execution_count": 11,
   "metadata": {},
   "outputs": [],
   "source": [
    "\n",
    "inputs = keras.Input(shape=(None, NWL))\n",
    "\n",
    "z_mean, z_log_var, z = encoder(inputs)\n",
    "outputs              = decoder(z)\n",
    "\n",
    "outputs = VariationalLossLayer(loss_weights=loss_weights)([inputs, z_mean, z_log_var, outputs])\n",
    "\n",
    "vae=keras.Model(inputs,outputs)\n",
    "\n",
    "vae.compile(optimizer='adam', loss=None)"
   ]
  },
  {
   "cell_type": "markdown",
   "metadata": {},
   "source": [
    "## Step 5 - Train\n",
    "### 5.1 - Using two nice custom callbacks :-)\n",
    "Two custom callbacks are used:\n",
    " - `ImagesCallback` : qui va sauvegarder des images durant l'apprentissage - See [ImagesCallback.py](./modules/callbacks/ImagesCallback.py)\n",
    " - `BestModelCallback` : qui sauvegardera le meilleur model - See [BestModelCallback.py](./modules/callbacks/BestModelCallback.py)"
   ]
  },
  {
   "cell_type": "code",
   "execution_count": 12,
   "metadata": {},
   "outputs": [],
   "source": [
    "callback_images      = ImagesCallback(x=x_data, z_dim=latent_dim, nb_images=5, from_z=True, from_random=True, run_dir=run_dir)\n",
    "callback_bestmodel   = BestModelCallback( run_dir + '/models/best_model.h5' )\n",
    "#callback_tensorboard = TensorBoard(log_dir=run_dir + '/logs', histogram_freq=1)\n",
    "\n",
    "#callbacks_list = [callback_images, callback_bestmodel]"
   ]
  },
  {
   "cell_type": "markdown",
   "metadata": {},
   "source": [
    "### 5.2 - Let's train !\n"
   ]
  },
  {
   "cell_type": "code",
   "execution_count": 13,
   "metadata": {},
   "outputs": [
    {
     "name": "stdout",
     "output_type": "stream",
     "text": [
      "Epoch 1/100\n",
      "35/35 [==============================] - 4s 57ms/step - loss: 15632558897233920.0000 - r_loss: 0.1798 - kl_loss: 15632558897233920.0000\n",
      "Epoch 2/100\n",
      "35/35 [==============================] - 2s 49ms/step - loss: 18.9274 - r_loss: -0.1154 - kl_loss: 19.0428\n",
      "Epoch 3/100\n",
      "35/35 [==============================] - 2s 52ms/step - loss: 7.6231 - r_loss: -0.5013 - kl_loss: 8.1244\n",
      "Epoch 4/100\n",
      "35/35 [==============================] - 2s 46ms/step - loss: 3.2021 - r_loss: -0.5740 - kl_loss: 3.7761\n",
      "Epoch 5/100\n",
      "35/35 [==============================] - 2s 53ms/step - loss: 3.3239 - r_loss: -0.5260 - kl_loss: 3.8499\n",
      "Epoch 6/100\n",
      "35/35 [==============================] - 2s 52ms/step - loss: 3.5949 - r_loss: -0.5280 - kl_loss: 4.1230\n",
      "Epoch 7/100\n",
      "35/35 [==============================] - 2s 53ms/step - loss: 3.2147 - r_loss: -0.4369 - kl_loss: 3.6516\n",
      "Epoch 8/100\n",
      "35/35 [==============================] - 2s 51ms/step - loss: 6.9938 - r_loss: -0.3860 - kl_loss: 7.3797\n",
      "Epoch 9/100\n",
      "35/35 [==============================] - 2s 47ms/step - loss: 4.5383 - r_loss: -0.4048 - kl_loss: 4.9430\n",
      "Epoch 10/100\n",
      "35/35 [==============================] - 2s 47ms/step - loss: 9.7703 - r_loss: -0.0089 - kl_loss: 9.7793\n",
      "Epoch 11/100\n",
      "35/35 [==============================] - 2s 43ms/step - loss: 4.9728 - r_loss: -0.2610 - kl_loss: 5.2338\n",
      "Epoch 12/100\n",
      "35/35 [==============================] - 2s 51ms/step - loss: 1.6405 - r_loss: -0.3688 - kl_loss: 2.0093\n",
      "Epoch 13/100\n",
      "35/35 [==============================] - 2s 56ms/step - loss: 6.4514 - r_loss: -0.1397 - kl_loss: 6.5912\n",
      "Epoch 14/100\n",
      "35/35 [==============================] - 2s 49ms/step - loss: 15.8182 - r_loss: -0.0947 - kl_loss: 15.9129\n",
      "Epoch 15/100\n",
      "35/35 [==============================] - 2s 47ms/step - loss: 9.3457 - r_loss: -0.0693 - kl_loss: 9.4150\n",
      "Epoch 16/100\n",
      "35/35 [==============================] - 2s 61ms/step - loss: 1.9430 - r_loss: -0.2851 - kl_loss: 2.2281\n",
      "Epoch 17/100\n",
      "35/35 [==============================] - 2s 67ms/step - loss: 1.3198 - r_loss: -0.3816 - kl_loss: 1.7014\n",
      "Epoch 18/100\n",
      "35/35 [==============================] - 3s 72ms/step - loss: 1.6604 - r_loss: -0.2212 - kl_loss: 1.8816\n",
      "Epoch 19/100\n",
      "35/35 [==============================] - 3s 77ms/step - loss: 1.5244 - r_loss: -0.2737 - kl_loss: 1.7981\n",
      "Epoch 20/100\n",
      "35/35 [==============================] - 2s 53ms/step - loss: 2.1825 - r_loss: -0.0968 - kl_loss: 2.2793\n",
      "Epoch 21/100\n",
      "35/35 [==============================] - 2s 59ms/step - loss: 2.1725 - r_loss: -0.1376 - kl_loss: 2.3102\n",
      "Epoch 22/100\n",
      "35/35 [==============================] - 2s 66ms/step - loss: 1.7527 - r_loss: -0.2745 - kl_loss: 2.0272\n",
      "Epoch 23/100\n",
      "35/35 [==============================] - 2s 56ms/step - loss: 0.9105 - r_loss: -0.2952 - kl_loss: 1.2057\n",
      "Epoch 24/100\n",
      "35/35 [==============================] - 2s 61ms/step - loss: 1.2311 - r_loss: -0.2586 - kl_loss: 1.4897\n",
      "Epoch 25/100\n",
      "35/35 [==============================] - 3s 74ms/step - loss: 1.5035 - r_loss: -0.2666 - kl_loss: 1.7702\n",
      "Epoch 26/100\n",
      "35/35 [==============================] - 2s 55ms/step - loss: 2.9676 - r_loss: -0.1628 - kl_loss: 3.1304\n",
      "Epoch 27/100\n",
      "35/35 [==============================] - 2s 51ms/step - loss: 2.9036 - r_loss: -0.2342 - kl_loss: 3.1378\n",
      "Epoch 28/100\n",
      "35/35 [==============================] - 2s 49ms/step - loss: 5.0204 - r_loss: -0.3143 - kl_loss: 5.3346\n",
      "Epoch 29/100\n",
      "35/35 [==============================] - 2s 49ms/step - loss: 5.2126 - r_loss: -0.0801 - kl_loss: 5.2927\n",
      "Epoch 30/100\n",
      "35/35 [==============================] - 2s 65ms/step - loss: 2.9264 - r_loss: -0.3287 - kl_loss: 3.2551\n",
      "Epoch 31/100\n",
      "35/35 [==============================] - 2s 65ms/step - loss: 1.3727 - r_loss: -0.3297 - kl_loss: 1.7023\n",
      "Epoch 32/100\n",
      "35/35 [==============================] - 2s 58ms/step - loss: 1.2135 - r_loss: -0.2406 - kl_loss: 1.4541\n",
      "Epoch 33/100\n",
      "35/35 [==============================] - 2s 67ms/step - loss: 1.0509 - r_loss: -0.2155 - kl_loss: 1.2664\n",
      "Epoch 34/100\n",
      "35/35 [==============================] - 2s 65ms/step - loss: 0.9859 - r_loss: -0.2682 - kl_loss: 1.2541\n",
      "Epoch 35/100\n",
      "35/35 [==============================] - 2s 58ms/step - loss: 4.1377 - r_loss: 0.0341 - kl_loss: 4.1036\n",
      "Epoch 36/100\n",
      "35/35 [==============================] - 2s 61ms/step - loss: 1.2744 - r_loss: -0.2886 - kl_loss: 1.5631\n",
      "Epoch 37/100\n",
      "35/35 [==============================] - 2s 51ms/step - loss: 2.1403 - r_loss: -0.1531 - kl_loss: 2.2935\n",
      "Epoch 38/100\n",
      "35/35 [==============================] - 2s 48ms/step - loss: 0.6334 - r_loss: -0.2140 - kl_loss: 0.8474\n",
      "Epoch 39/100\n",
      "35/35 [==============================] - 2s 50ms/step - loss: 5.6162 - r_loss: -0.1354 - kl_loss: 5.7515\n",
      "Epoch 40/100\n",
      "35/35 [==============================] - 2s 50ms/step - loss: 4.3259 - r_loss: -0.2104 - kl_loss: 4.5363\n",
      "Epoch 41/100\n",
      "35/35 [==============================] - 2s 47ms/step - loss: 2.4547 - r_loss: -0.1574 - kl_loss: 2.6121\n",
      "Epoch 42/100\n",
      "35/35 [==============================] - 2s 53ms/step - loss: 0.6859 - r_loss: -0.3415 - kl_loss: 1.0274\n",
      "Epoch 43/100\n",
      "35/35 [==============================] - 2s 47ms/step - loss: 2.3237 - r_loss: -0.2084 - kl_loss: 2.5322\n",
      "Epoch 44/100\n",
      "35/35 [==============================] - 2s 52ms/step - loss: 2.5077 - r_loss: -0.2857 - kl_loss: 2.7934\n",
      "Epoch 45/100\n",
      "35/35 [==============================] - 2s 63ms/step - loss: 6.7124 - r_loss: -0.1968 - kl_loss: 6.9092\n",
      "Epoch 46/100\n",
      "35/35 [==============================] - 2s 66ms/step - loss: 8.8195 - r_loss: -0.3895 - kl_loss: 9.2090\n",
      "Epoch 47/100\n",
      "35/35 [==============================] - 2s 53ms/step - loss: 11.4726 - r_loss: -0.3432 - kl_loss: 11.8159\n",
      "Epoch 48/100\n",
      "35/35 [==============================] - 2s 52ms/step - loss: 9.8031 - r_loss: -0.3022 - kl_loss: 10.1053\n",
      "Epoch 49/100\n",
      "35/35 [==============================] - 2s 63ms/step - loss: 2.0750 - r_loss: -0.3263 - kl_loss: 2.4013\n",
      "Epoch 50/100\n",
      "35/35 [==============================] - 2s 49ms/step - loss: 2.6748 - r_loss: -0.0955 - kl_loss: 2.7703\n",
      "Epoch 51/100\n",
      "35/35 [==============================] - 2s 49ms/step - loss: 0.9654 - r_loss: -0.2981 - kl_loss: 1.2635\n",
      "Epoch 52/100\n",
      "35/35 [==============================] - 2s 53ms/step - loss: 0.7733 - r_loss: -0.2772 - kl_loss: 1.0505\n",
      "Epoch 53/100\n",
      "35/35 [==============================] - 2s 45ms/step - loss: 0.2504 - r_loss: -0.3832 - kl_loss: 0.6336\n",
      "Epoch 54/100\n",
      "35/35 [==============================] - 2s 53ms/step - loss: 0.9406 - r_loss: -0.2732 - kl_loss: 1.2137\n",
      "Epoch 55/100\n",
      "35/35 [==============================] - 2s 48ms/step - loss: 4.4308 - r_loss: -0.1733 - kl_loss: 4.6040\n",
      "Epoch 56/100\n",
      "35/35 [==============================] - 2s 51ms/step - loss: 7.3799 - r_loss: -0.3003 - kl_loss: 7.6802\n",
      "Epoch 57/100\n",
      "35/35 [==============================] - 2s 49ms/step - loss: 4.8644 - r_loss: -0.2173 - kl_loss: 5.0818\n",
      "Epoch 58/100\n",
      "35/35 [==============================] - 2s 46ms/step - loss: 1.6277 - r_loss: -0.2137 - kl_loss: 1.8414\n",
      "Epoch 59/100\n",
      "35/35 [==============================] - 2s 49ms/step - loss: 3.0115 - r_loss: -0.2235 - kl_loss: 3.2350\n",
      "Epoch 60/100\n",
      "35/35 [==============================] - 2s 56ms/step - loss: 1.2597 - r_loss: -0.2360 - kl_loss: 1.4957\n",
      "Epoch 61/100\n",
      "35/35 [==============================] - 2s 50ms/step - loss: 0.4432 - r_loss: -0.3135 - kl_loss: 0.7567\n",
      "Epoch 62/100\n",
      "35/35 [==============================] - 2s 67ms/step - loss: 1.2545 - r_loss: -0.3207 - kl_loss: 1.5752\n",
      "Epoch 63/100\n",
      "35/35 [==============================] - 2s 49ms/step - loss: 1.7077 - r_loss: -0.2056 - kl_loss: 1.9133\n",
      "Epoch 64/100\n",
      "35/35 [==============================] - 2s 55ms/step - loss: 1.8616 - r_loss: -0.3047 - kl_loss: 2.1664\n",
      "Epoch 65/100\n",
      "35/35 [==============================] - 2s 45ms/step - loss: 0.6484 - r_loss: -0.2615 - kl_loss: 0.9099\n",
      "Epoch 66/100\n",
      "35/35 [==============================] - 2s 46ms/step - loss: 0.6144 - r_loss: -0.2576 - kl_loss: 0.8720\n",
      "Epoch 67/100\n",
      "35/35 [==============================] - 2s 47ms/step - loss: 0.4975 - r_loss: -0.3098 - kl_loss: 0.8073\n",
      "Epoch 68/100\n",
      "35/35 [==============================] - 2s 51ms/step - loss: 0.3729 - r_loss: -0.2494 - kl_loss: 0.6223\n",
      "Epoch 69/100\n",
      "35/35 [==============================] - 2s 52ms/step - loss: 2.8349 - r_loss: -0.3075 - kl_loss: 3.1424\n",
      "Epoch 70/100\n",
      "35/35 [==============================] - 2s 57ms/step - loss: 4.3167 - r_loss: -0.1825 - kl_loss: 4.4991\n",
      "Epoch 71/100\n",
      "35/35 [==============================] - 2s 45ms/step - loss: 2.6624 - r_loss: -0.2263 - kl_loss: 2.8887\n",
      "Epoch 72/100\n",
      "35/35 [==============================] - 2s 47ms/step - loss: 0.9884 - r_loss: -0.2550 - kl_loss: 1.2434\n",
      "Epoch 73/100\n",
      "35/35 [==============================] - 2s 45ms/step - loss: 1.8314 - r_loss: -0.1520 - kl_loss: 1.9834\n",
      "Epoch 74/100\n",
      "35/35 [==============================] - 2s 64ms/step - loss: 63.2003 - r_loss: -0.0065 - kl_loss: 63.2067\n",
      "Epoch 75/100\n",
      "35/35 [==============================] - 2s 50ms/step - loss: 6961.0684 - r_loss: 0.1501 - kl_loss: 6960.9189\n",
      "Epoch 76/100\n",
      "35/35 [==============================] - 2s 51ms/step - loss: 395.7593 - r_loss: 0.2645 - kl_loss: 395.4947\n",
      "Epoch 77/100\n",
      "35/35 [==============================] - 2s 56ms/step - loss: 301.1915 - r_loss: -0.0973 - kl_loss: 301.2888\n",
      "Epoch 78/100\n",
      "35/35 [==============================] - 2s 65ms/step - loss: 368.4238 - r_loss: 0.0108 - kl_loss: 368.4131\n",
      "Epoch 79/100\n",
      "35/35 [==============================] - 2s 57ms/step - loss: 332.2147 - r_loss: 0.0212 - kl_loss: 332.1935\n",
      "Epoch 80/100\n",
      "35/35 [==============================] - 2s 48ms/step - loss: 263.2865 - r_loss: -0.0545 - kl_loss: 263.3410\n",
      "Epoch 81/100\n",
      "35/35 [==============================] - 2s 50ms/step - loss: 214.9781 - r_loss: -0.1101 - kl_loss: 215.0883\n",
      "Epoch 82/100\n",
      "35/35 [==============================] - 2s 59ms/step - loss: 190.8408 - r_loss: -0.0715 - kl_loss: 190.9123\n",
      "Epoch 83/100\n",
      "35/35 [==============================] - 2s 58ms/step - loss: nan - r_loss: nan - kl_loss: nan                                                  \n",
      "Epoch 84/100\n",
      "35/35 [==============================] - 2s 57ms/step - loss: nan - r_loss: nan - kl_loss: nan\n",
      "Epoch 85/100\n",
      "35/35 [==============================] - 2s 54ms/step - loss: nan - r_loss: nan - kl_loss: nan\n",
      "Epoch 86/100\n",
      "35/35 [==============================] - 2s 45ms/step - loss: nan - r_loss: nan - kl_loss: nan\n",
      "Epoch 87/100\n",
      "35/35 [==============================] - 2s 47ms/step - loss: nan - r_loss: nan - kl_loss: nan\n",
      "Epoch 88/100\n",
      "35/35 [==============================] - 2s 60ms/step - loss: nan - r_loss: nan - kl_loss: nan\n",
      "Epoch 89/100\n",
      "35/35 [==============================] - 2s 51ms/step - loss: nan - r_loss: nan - kl_loss: nan\n",
      "Epoch 90/100\n",
      "35/35 [==============================] - 2s 54ms/step - loss: nan - r_loss: nan - kl_loss: nan\n",
      "Epoch 91/100\n",
      "35/35 [==============================] - 2s 50ms/step - loss: nan - r_loss: nan - kl_loss: nan\n",
      "Epoch 92/100\n",
      "35/35 [==============================] - 2s 48ms/step - loss: nan - r_loss: nan - kl_loss: nan\n",
      "Epoch 93/100\n",
      "35/35 [==============================] - 2s 47ms/step - loss: nan - r_loss: nan - kl_loss: nan\n",
      "Epoch 94/100\n",
      "35/35 [==============================] - 1s 42ms/step - loss: nan - r_loss: nan - kl_loss: nan\n",
      "Epoch 95/100\n",
      "35/35 [==============================] - 2s 45ms/step - loss: nan - r_loss: nan - kl_loss: nan\n",
      "Epoch 96/100\n",
      "35/35 [==============================] - 2s 47ms/step - loss: nan - r_loss: nan - kl_loss: nan\n",
      "Epoch 97/100\n",
      "35/35 [==============================] - 2s 51ms/step - loss: nan - r_loss: nan - kl_loss: nan\n",
      "Epoch 98/100\n",
      "35/35 [==============================] - 2s 51ms/step - loss: nan - r_loss: nan - kl_loss: nan\n",
      "Epoch 99/100\n",
      "35/35 [==============================] - 2s 47ms/step - loss: nan - r_loss: nan - kl_loss: nan\n",
      "Epoch 100/100\n",
      "35/35 [==============================] - 2s 46ms/step - loss: nan - r_loss: nan - kl_loss: nan\n",
      "Duration :  189.48 seconds\n"
     ]
    }
   ],
   "source": [
    "chrono=fidle.Chrono()\n",
    "chrono.start()\n",
    "\n",
    "history = vae.fit(normedspectra, epochs=epochs, batch_size=batch_size, verbose=fit_verbosity)\n",
    "\n",
    "chrono.show()"
   ]
  },
  {
   "cell_type": "markdown",
   "metadata": {},
   "source": [
    "## Step 6 - Training review\n",
    "### 6.1 - History"
   ]
  },
  {
   "cell_type": "code",
   "execution_count": 21,
   "metadata": {},
   "outputs": [
    {
     "data": {
      "text/plain": [
       "<keras.callbacks.History at 0x15aa1bca0>"
      ]
     },
     "execution_count": 21,
     "metadata": {},
     "output_type": "execute_result"
    }
   ],
   "source": [
    "history"
   ]
  },
  {
   "cell_type": "code",
   "execution_count": 14,
   "metadata": {},
   "outputs": [
    {
     "data": {
      "image/png": "[encoded data removed]",
      "text/plain": [
       "<Figure size 800x600 with 1 Axes>"
      ]
     },
     "metadata": {},
     "output_type": "display_data"
    }
   ],
   "source": [
    "fidle.scrawler.history(history,  plot={\"Loss\":['loss','r_loss', 'kl_loss']}, save_as='history')"
   ]
  },
  {
   "cell_type": "markdown",
   "metadata": {},
   "source": [
    "### 6.2 - Reconstruction during training\n",
    "At the end of each epoch, our callback saved some reconstructed images.  \n",
    "Where :  \n",
    "Original image -> encoder -> z -> decoder -> Reconstructed image"
   ]
  },
  {
   "cell_type": "markdown",
   "metadata": {},
   "source": [
    "## Annexe - Model Save and reload "
   ]
  },
  {
   "cell_type": "code",
   "execution_count": 15,
   "metadata": {},
   "outputs": [],
   "source": [
    "filename = run_dir+'/models/my_model.h5'\n",
    "\n",
    "# ---- Save our model :\n",
    "\n",
    "vae.save(filename)\n",
    "\n",
    "# ---- Reload it\n",
    "\n",
    "vae = keras.models.load_model(filename, custom_objects={'SamplingLayer': SamplingLayer, 'VariationalLossLayer':VariationalLossLayer})\n",
    "\n",
    "# ---- Retrieve a layer\n",
    "\n",
    "decoder = vae.get_layer('decoder')\n"
   ]
  },
  {
   "cell_type": "code",
   "execution_count": 16,
   "metadata": {},
   "outputs": [
    {
     "data": {
      "text/markdown": [
       "**End time :** 10/04/23 21:03:52  \n",
       "**Duration :** 00:03:11 989ms  \n",
       "This notebook ends here :-)  \n",
       "[https://fidle.cnrs.fr](https://fidle.cnrs.fr)"
      ],
      "text/plain": [
       "<IPython.core.display.Markdown object>"
      ]
     },
     "metadata": {},
     "output_type": "display_data"
    }
   ],
   "source": [
    "fidle.end()"
   ]
  },
  {
   "cell_type": "markdown",
   "metadata": {},
   "source": []
  },
  {
   "cell_type": "code",
   "execution_count": null,
   "metadata": {},
   "outputs": [],
   "source": []
  }
 ],
 "metadata": {
  "kernelspec": {
   "display_name": "fidle23",
   "language": "python",
   "name": "fidle23"
  },
  "language_info": {
   "codemirror_mode": {
    "name": "ipython",
    "version": 3
   },
   "file_extension": ".py",
   "mimetype": "text/x-python",
   "name": "python",
   "nbconvert_exporter": "python",
   "pygments_lexer": "ipython3",
   "version": "3.9.16"
  },
  "vscode": {
   "interpreter": {
    "hash": "b3929042cc22c1274d74e3e946c52b845b57cb6d84f2d591ffe0519b38e4896d"
   }
  }
 },
 "nbformat": 4,
 "nbformat_minor": 4
}
