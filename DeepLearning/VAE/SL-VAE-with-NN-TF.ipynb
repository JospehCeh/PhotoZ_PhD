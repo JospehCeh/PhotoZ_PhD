{
 "cells": [
  {
   "cell_type": "markdown",
   "metadata": {},
   "source": [
    "\n",
    "\n",
    "# <!-- TITLE --> [VAE1] - First VAE, using functional API \n",
    "<!-- DESC --> Construction and training of a VAE, using functional APPI, with a latent space of small dimension.\n",
    "\n",
    "\n",
    "## Objectives :\n",
    " - Understanding and implementing a **variational autoencoder** neurals network (VAE)\n",
    " - Understanding **Keras functional API**, using two custom layers\n",
    "\n",
    "The calculation needs being important, it is preferable to use a very simple dataset such as MNIST to start with.  \n",
    "...MNIST with a small scale if you haven't a GPU ;-)\n",
    "\n",
    "## What we're going to do :\n",
    "\n",
    " - Defining a VAE model\n",
    " - Build the model\n",
    " - Train it\n",
    " - Have a look on the train process\n",
    "\n",
    "## Acknowledgements :\n",
    "Thanks to **François Chollet** who is at the base of this example (and the creator of Keras !!).  \n",
    "See : https://keras.io/examples/generative/vae\n"
   ]
  },
  {
   "cell_type": "markdown",
   "metadata": {},
   "source": [
    "## Step 1 - Init python stuff"
   ]
  },
  {
   "cell_type": "code",
   "execution_count": 1,
   "metadata": {},
   "outputs": [
    {
     "name": "stderr",
     "output_type": "stream",
     "text": [
      "2023-04-13 20:12:31.608974: I tensorflow/core/platform/cpu_feature_guard.cc:182] This TensorFlow binary is optimized to use available CPU instructions in performance-critical operations.\n",
      "To enable the following instructions: AVX2 FMA, in other operations, rebuild TensorFlow with the appropriate compiler flags.\n"
     ]
    },
    {
     "data": {
      "text/html": [
       "<style>\n",
       "\n",
       "div.warn {    \n",
       "    background-color: #fcf2f2;\n",
       "    border-color: #dFb5b4;\n",
       "    border-left: 5px solid #dfb5b4;\n",
       "    padding: 0.5em;\n",
       "    font-weight: bold;\n",
       "    font-size: 1.1em;;\n",
       "    }\n",
       "\n",
       "\n",
       "\n",
       "div.nota {    \n",
       "    background-color: #DAFFDE;\n",
       "    border-left: 5px solid #92CC99;\n",
       "    padding: 0.5em;\n",
       "    }\n",
       "\n",
       "div.todo:before { content:url(data:image/svg+xml;base64,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);\n",
       "    float:left;\n",
       "    margin-right:20px;\n",
       "    margin-top:-20px;\n",
       "    margin-bottom:20px;\n",
       "}\n",
       "div.todo{\n",
       "    font-weight: bold;\n",
       "    font-size: 1.1em;\n",
       "    margin-top:40px;\n",
       "}\n",
       "div.todo ul{\n",
       "    margin: 0.2em;\n",
       "}\n",
       "div.todo li{\n",
       "    margin-left:60px;\n",
       "    margin-top:0;\n",
       "    margin-bottom:0;\n",
       "}\n",
       "\n",
       "div .comment{\n",
       "    font-size:0.8em;\n",
       "    color:#696969;\n",
       "}\n",
       "\n",
       "\n",
       "\n",
       "</style>\n",
       "\n"
      ],
      "text/plain": [
       "<IPython.core.display.HTML object>"
      ]
     },
     "metadata": {},
     "output_type": "display_data"
    },
    {
     "data": {
      "text/markdown": [
       "<br>**FIDLE - Environment initialization**"
      ],
      "text/plain": [
       "<IPython.core.display.Markdown object>"
      ]
     },
     "metadata": {},
     "output_type": "display_data"
    },
    {
     "name": "stdout",
     "output_type": "stream",
     "text": [
      "Version              : 2.0b56\n",
      "Run id               : VAE1\n",
      "Run dir              : ./run/VAE1\n",
      "Datasets dir         : /Users/dagoret/MacOSX/Fidle2023/fidle-tp/datasets-fidle\n",
      "Start time           : 13/04/23 20:12:38\n",
      "Hostname             : MacBook-Pro-de-admin.local (Darwin)\n",
      "Tensorflow log level : Warning + Error  (=1)\n",
      "Update keras cache   : False\n",
      "Save figs            : ./run/VAE1/figs (False)\n",
      "tensorflow           : 2.12.0\n",
      "tensorflow.keras     : 2.12.0\n",
      "numpy                : 1.23.5\n",
      "sklearn              : 1.2.2\n",
      "skimage              : 0.20.0\n",
      "matplotlib           : 3.7.1\n",
      "pandas               : 2.0.0\n"
     ]
    }
   ],
   "source": [
    "import numpy as np\n",
    "import matplotlib.pyplot as plt\n",
    "import tensorflow as tf\n",
    "from tensorflow import keras\n",
    "from tensorflow.keras import layers\n",
    "from tensorflow.keras.callbacks import TensorBoard\n",
    "\n",
    "from modules.layers    import SamplingLayer, VariationalLossLayer\n",
    "from modules.callbacks import ImagesCallback, BestModelCallback\n",
    "\n",
    "import sys\n",
    "import fidle\n",
    "\n",
    "# Init Fidle environment\n",
    "run_id, run_dir, datasets_dir = fidle.init('VAE1')\n"
   ]
  },
  {
   "cell_type": "code",
   "execution_count": 2,
   "metadata": {},
   "outputs": [],
   "source": [
    "import h5py"
   ]
  },
  {
   "cell_type": "code",
   "execution_count": 3,
   "metadata": {},
   "outputs": [],
   "source": [
    "# to enlarge the sizes\n",
    "params = {'legend.fontsize': 'x-large',\n",
    "          'figure.figsize': (8, 8),\n",
    "         'axes.labelsize': 'xx-large',\n",
    "         'axes.titlesize':'xx-large',\n",
    "         'xtick.labelsize':'xx-large',\n",
    "         'ytick.labelsize':'xx-large'}\n",
    "plt.rcParams.update(params)\n"
   ]
  },
  {
   "cell_type": "markdown",
   "metadata": {},
   "source": [
    "## Step 2 - Parameters\n",
    "`scale` : With scale=1, we need 1'30s on a GPU V100 ...and >20' on a CPU !\\\n",
    "`latent_dim` : 2 dimensions is small, but usefull to draw !\\\n",
    "`fit_verbosity`: Verbosity of training progress bar: 0=silent, 1=progress bar, 2=One line  \n",
    "\n",
    "`loss_weights` : Our **loss function** is the weighted sum of two loss:\n",
    " - `r_loss` which measures the loss during reconstruction.  \n",
    " - `kl_loss` which measures the dispersion.  \n",
    "\n",
    "The weights are defined by: `loss_weights=[k1,k2]` where : `total_loss = k1*r_loss + k2*kl_loss`  \n",
    "In practice, a value of \\[1,.001\\] gives good results here.\n"
   ]
  },
  {
   "cell_type": "code",
   "execution_count": 4,
   "metadata": {},
   "outputs": [],
   "source": [
    "latent_dim    = 2\n",
    "loss_weights  = [1,.1]\n",
    "\n",
    "scale         = 1\n",
    "seed          = 123\n",
    "\n",
    "batch_size    = 16\n",
    "epochs        = 70\n",
    "fit_verbosity = 1"
   ]
  },
  {
   "cell_type": "markdown",
   "metadata": {},
   "source": [
    "Override parameters (batch mode) - Just forget this cell"
   ]
  },
  {
   "cell_type": "code",
   "execution_count": 5,
   "metadata": {},
   "outputs": [],
   "source": [
    "fidle.override('latent_dim', 'loss_weights', 'scale', 'seed', 'batch_size', 'epochs', 'fit_verbosity')"
   ]
  },
  {
   "cell_type": "markdown",
   "metadata": {},
   "source": [
    "## Step 3 - Prepare data\n"
   ]
  },
  {
   "cell_type": "code",
   "execution_count": 6,
   "metadata": {},
   "outputs": [
    {
     "name": "stdout",
     "output_type": "stream",
     "text": [
      "<KeysViewHDF5 ['RT', 'RV', 'Rmag', 'dec', 'flambda', 'num', 'quantile', 'ra', 'redshift', 'wl']>\n"
     ]
    }
   ],
   "source": [
    "hf = h5py.File('SLspectra.hdf5', 'r') \n",
    "data_in = hf['flambda'][:]\n",
    "wl_in = hf['wl'][:]\n",
    "target = hf['quantile'][:]\n",
    "print(hf.keys())"
   ]
  },
  {
   "cell_type": "code",
   "execution_count": 7,
   "metadata": {},
   "outputs": [],
   "source": [
    "NWL = data_in.shape[1]\n",
    "NSAMPL = data_in.shape[0]"
   ]
  },
  {
   "cell_type": "code",
   "execution_count": 8,
   "metadata": {},
   "outputs": [],
   "source": [
    "spectra = data_in\n",
    "wavelengths = wl_in\n",
    "\n",
    "# normalize spectra by integrated flux and subtract out mean, for easier training\n",
    "spectranorms = np.mean(spectra, axis=1)\n",
    "normedspectra = spectra / spectranorms[:, None]\n",
    "meanspectrum = np.mean(normedspectra, axis=0)\n",
    "normedspectra -= meanspectrum[None, :]\n"
   ]
  },
  {
   "cell_type": "markdown",
   "metadata": {},
   "source": [
    "## Step 4 - Build model\n",
    "In this example, we will use the **functional API.**  \n",
    "For this, we will use two custom layers :\n",
    " - `SamplingLayer`, which generates a vector z from the parameters z_mean and z_log_var - See : [SamplingLayer.py](./modules/layers/SamplingLayer.py)\n",
    " - `VariationalLossLayer`, which allows us to calculate the loss function, loss - See : [VariationalLossLayer.py](./modules/layers/VariationalLossLayer.py)"
   ]
  },
  {
   "cell_type": "markdown",
   "metadata": {},
   "source": [
    "#### Encoder"
   ]
  },
  {
   "cell_type": "code",
   "execution_count": 9,
   "metadata": {},
   "outputs": [
    {
     "name": "stdout",
     "output_type": "stream",
     "text": [
      "Model: \"encoder\"\n",
      "__________________________________________________________________________________________________\n",
      " Layer (type)                   Output Shape         Param #     Connected to                     \n",
      "==================================================================================================\n",
      " input_1 (InputLayer)           [(None, 10000)]      0           []                               \n",
      "                                                                                                  \n",
      " dense (Dense)                  (None, 256)          2560256     ['input_1[0][0]']                \n",
      "                                                                                                  \n",
      " dense_1 (Dense)                (None, 64)           16448       ['dense[0][0]']                  \n",
      "                                                                                                  \n",
      " dense_2 (Dense)                (None, 32)           2080        ['dense_1[0][0]']                \n",
      "                                                                                                  \n",
      " z_mean (Dense)                 (None, 2)            66          ['dense_2[0][0]']                \n",
      "                                                                                                  \n",
      " z_log_var (Dense)              (None, 2)            66          ['dense_2[0][0]']                \n",
      "                                                                                                  \n",
      " sampling_layer (SamplingLayer)  (None, 2)           0           ['z_mean[0][0]',                 \n",
      "                                                                  'z_log_var[0][0]']              \n",
      "                                                                                                  \n",
      "==================================================================================================\n",
      "Total params: 2,578,916\n",
      "Trainable params: 2,578,916\n",
      "Non-trainable params: 0\n",
      "__________________________________________________________________________________________________\n"
     ]
    }
   ],
   "source": [
    "inputs    = keras.Input(shape=(NWL,))\n",
    "x         = layers.Dense(256, activation=\"relu\")(inputs)\n",
    "x         = layers.Dense(64, activation=\"relu\")(x)\n",
    "x         = layers.Dense(32, activation=\"relu\")(x)\n",
    "\n",
    "\n",
    "z_mean    = layers.Dense(latent_dim, name=\"z_mean\")(x)\n",
    "z_log_var = layers.Dense(latent_dim, name=\"z_log_var\")(x)\n",
    "z         = SamplingLayer()([z_mean, z_log_var])\n",
    "\n",
    "encoder = keras.Model(inputs, [z_mean, z_log_var, z], name=\"encoder\")\n",
    "encoder.summary()"
   ]
  },
  {
   "cell_type": "markdown",
   "metadata": {},
   "source": [
    "#### Decoder"
   ]
  },
  {
   "cell_type": "code",
   "execution_count": 10,
   "metadata": {},
   "outputs": [
    {
     "name": "stdout",
     "output_type": "stream",
     "text": [
      "Model: \"decoder\"\n",
      "_________________________________________________________________\n",
      " Layer (type)                Output Shape              Param #   \n",
      "=================================================================\n",
      " input_2 (InputLayer)        [(None, 2)]               0         \n",
      "                                                                 \n",
      " dense_3 (Dense)             (None, 32)                96        \n",
      "                                                                 \n",
      " dense_4 (Dense)             (None, 64)                2112      \n",
      "                                                                 \n",
      " dense_5 (Dense)             (None, 256)               16640     \n",
      "                                                                 \n",
      " dense_6 (Dense)             (None, 10000)             2570000   \n",
      "                                                                 \n",
      "=================================================================\n",
      "Total params: 2,588,848\n",
      "Trainable params: 2,588,848\n",
      "Non-trainable params: 0\n",
      "_________________________________________________________________\n"
     ]
    }
   ],
   "source": [
    "inputs  = keras.Input(shape=(latent_dim,))\n",
    "x       = layers.Dense(32, activation=\"relu\")(inputs)\n",
    "x       = layers.Dense(64, activation=\"relu\")(x)\n",
    "x       = layers.Dense(256,activation=\"relu\") (x)\n",
    "outputs = layers.Dense(NWL, activation=\"relu\")(x)\n",
    "\n",
    "decoder = keras.Model(inputs, outputs, name=\"decoder\")\n",
    "\n",
    "decoder.summary()"
   ]
  },
  {
   "cell_type": "markdown",
   "metadata": {},
   "source": [
    "#### VAE\n",
    "\n",
    "We will calculate the loss with a specific layer: `VariationalLossLayer` - See : [VariationalLossLayer.py](./modules/layers/VariationalLossLayer.py)"
   ]
  },
  {
   "cell_type": "code",
   "execution_count": 11,
   "metadata": {},
   "outputs": [],
   "source": [
    "\n",
    "inputs = keras.Input(shape=(None, NWL))\n",
    "\n",
    "z_mean, z_log_var, z = encoder(inputs)\n",
    "outputs              = decoder(z)\n",
    "\n",
    "outputs = VariationalLossLayer(loss_weights=loss_weights)([inputs, z_mean, z_log_var, outputs])\n",
    "\n",
    "vae=keras.Model(inputs,outputs)\n",
    "\n",
    "vae.compile(optimizer='adam', loss=None)"
   ]
  },
  {
   "cell_type": "markdown",
   "metadata": {},
   "source": [
    "## Step 5 - Train\n",
    "### 5.1 - Using two nice custom callbacks :-)\n",
    "Two custom callbacks are used:\n",
    " - `ImagesCallback` : qui va sauvegarder des images durant l'apprentissage - See [ImagesCallback.py](./modules/callbacks/ImagesCallback.py)\n",
    " - `BestModelCallback` : qui sauvegardera le meilleur model - See [BestModelCallback.py](./modules/callbacks/BestModelCallback.py)"
   ]
  },
  {
   "cell_type": "code",
   "execution_count": 12,
   "metadata": {},
   "outputs": [],
   "source": [
    "#callback_images      = ImagesCallback(x=x_data, z_dim=latent_dim, nb_images=5, from_z=True, from_random=True, run_dir=run_dir)\n",
    "callback_bestmodel   = BestModelCallback( run_dir + '/models/best_model.h5' )\n",
    "#callback_tensorboard = TensorBoard(log_dir=run_dir + '/logs', histogram_freq=1)\n",
    "\n",
    "callbacks_list = [callback_bestmodel]"
   ]
  },
  {
   "cell_type": "markdown",
   "metadata": {},
   "source": [
    "### 5.2 - Let's train !\n"
   ]
  },
  {
   "cell_type": "code",
   "execution_count": 13,
   "metadata": {},
   "outputs": [
    {
     "name": "stdout",
     "output_type": "stream",
     "text": [
      "Epoch 1/70\n",
      "35/35 [==============================] - 4s 57ms/step - loss: 0.7673 - r_loss: -0.5471 - kl_loss: 1.3144\n",
      "Epoch 2/70\n",
      "35/35 [==============================] - 2s 54ms/step - loss: 0.1517 - r_loss: -0.9846 - kl_loss: 1.1363\n",
      "Epoch 3/70\n",
      "35/35 [==============================] - 2s 52ms/step - loss: -0.9844 - r_loss: -1.1976 - kl_loss: 0.2131\n",
      "Epoch 4/70\n",
      "35/35 [==============================] - 2s 72ms/step - loss: -1.2644 - r_loss: -1.5431 - kl_loss: 0.2787\n",
      "Epoch 5/70\n",
      "35/35 [==============================] - 2s 58ms/step - loss: -1.3390 - r_loss: -1.6738 - kl_loss: 0.3348\n",
      "Epoch 6/70\n",
      "35/35 [==============================] - 2s 62ms/step - loss: -1.4534 - r_loss: -1.6536 - kl_loss: 0.2002\n",
      "Epoch 7/70\n",
      "35/35 [==============================] - 2s 56ms/step - loss: -1.4452 - r_loss: -1.7083 - kl_loss: 0.2630\n",
      "Epoch 8/70\n",
      "35/35 [==============================] - 2s 65ms/step - loss: -1.2877 - r_loss: -1.7991 - kl_loss: 0.5114\n",
      "Epoch 9/70\n",
      "35/35 [==============================] - 2s 59ms/step - loss: -1.5341 - r_loss: -1.8596 - kl_loss: 0.3254\n",
      "Epoch 10/70\n",
      "35/35 [==============================] - 2s 46ms/step - loss: -1.4293 - r_loss: -1.7036 - kl_loss: 0.2743\n",
      "Epoch 11/70\n",
      "35/35 [==============================] - 2s 56ms/step - loss: -1.5858 - r_loss: -1.9296 - kl_loss: 0.3438\n",
      "Epoch 12/70\n",
      "35/35 [==============================] - 2s 54ms/step - loss: -1.6508 - r_loss: -1.9170 - kl_loss: 0.2662\n",
      "Epoch 13/70\n",
      "35/35 [==============================] - 2s 63ms/step - loss: -1.7248 - r_loss: -1.9609 - kl_loss: 0.2361\n",
      "Epoch 14/70\n",
      "35/35 [==============================] - 2s 62ms/step - loss: -1.4654 - r_loss: -1.9060 - kl_loss: 0.4407\n",
      "Epoch 15/70\n",
      "35/35 [==============================] - 2s 58ms/step - loss: -1.2505 - r_loss: -1.6569 - kl_loss: 0.4064\n",
      "Epoch 16/70\n",
      "35/35 [==============================] - 2s 53ms/step - loss: -0.3159 - r_loss: -1.7292 - kl_loss: 1.4133\n",
      "Epoch 17/70\n",
      "35/35 [==============================] - 2s 52ms/step - loss: -1.5697 - r_loss: -1.8071 - kl_loss: 0.2374\n",
      "Epoch 18/70\n",
      "35/35 [==============================] - 2s 58ms/step - loss: -1.7295 - r_loss: -1.9738 - kl_loss: 0.2443\n",
      "Epoch 19/70\n",
      "35/35 [==============================] - 2s 54ms/step - loss: -1.6099 - r_loss: -1.9053 - kl_loss: 0.2953\n",
      "Epoch 20/70\n",
      "35/35 [==============================] - 2s 60ms/step - loss: -1.6368 - r_loss: -1.9751 - kl_loss: 0.3383\n",
      "Epoch 21/70\n",
      "35/35 [==============================] - 2s 50ms/step - loss: -1.0168 - r_loss: -1.8938 - kl_loss: 0.8770\n",
      "Epoch 22/70\n",
      "35/35 [==============================] - 2s 53ms/step - loss: -1.6681 - r_loss: -1.8826 - kl_loss: 0.2145\n",
      "Epoch 23/70\n",
      "35/35 [==============================] - 2s 60ms/step - loss: -1.7014 - r_loss: -1.9091 - kl_loss: 0.2077\n",
      "Epoch 24/70\n",
      "35/35 [==============================] - 2s 68ms/step - loss: -1.7590 - r_loss: -2.0048 - kl_loss: 0.2458\n",
      "Epoch 25/70\n",
      "35/35 [==============================] - 2s 66ms/step - loss: -1.8485 - r_loss: -2.0330 - kl_loss: 0.1844\n",
      "Epoch 26/70\n",
      "35/35 [==============================] - 2s 47ms/step - loss: -1.7993 - r_loss: -2.0040 - kl_loss: 0.2047\n",
      "Epoch 27/70\n",
      "35/35 [==============================] - 2s 55ms/step - loss: -1.8483 - r_loss: -2.0479 - kl_loss: 0.1996\n",
      "Epoch 28/70\n",
      "35/35 [==============================] - 2s 52ms/step - loss: -1.7876 - r_loss: -2.0611 - kl_loss: 0.2735\n",
      "Epoch 29/70\n",
      "35/35 [==============================] - 2s 54ms/step - loss: -1.7569 - r_loss: -1.9424 - kl_loss: 0.1855\n",
      "Epoch 30/70\n",
      "35/35 [==============================] - 2s 59ms/step - loss: -1.8229 - r_loss: -2.0168 - kl_loss: 0.1939\n",
      "Epoch 31/70\n",
      "35/35 [==============================] - 2s 60ms/step - loss: -1.8951 - r_loss: -2.1168 - kl_loss: 0.2218\n",
      "Epoch 32/70\n",
      "35/35 [==============================] - 2s 52ms/step - loss: -1.8655 - r_loss: -2.0448 - kl_loss: 0.1794\n",
      "Epoch 33/70\n",
      "35/35 [==============================] - 2s 57ms/step - loss: -1.8475 - r_loss: -2.1171 - kl_loss: 0.2696\n",
      "Epoch 34/70\n",
      "35/35 [==============================] - 2s 53ms/step - loss: -1.8311 - r_loss: -2.0610 - kl_loss: 0.2299\n",
      "Epoch 35/70\n",
      "35/35 [==============================] - 2s 54ms/step - loss: -1.8753 - r_loss: -2.0829 - kl_loss: 0.2076\n",
      "Epoch 36/70\n",
      "35/35 [==============================] - 2s 58ms/step - loss: -1.8953 - r_loss: -2.0811 - kl_loss: 0.1858\n",
      "Epoch 37/70\n",
      "35/35 [==============================] - 2s 48ms/step - loss: -1.8295 - r_loss: -2.0235 - kl_loss: 0.1940\n",
      "Epoch 38/70\n",
      "35/35 [==============================] - 2s 68ms/step - loss: -1.9426 - r_loss: -2.1819 - kl_loss: 0.2392\n",
      "Epoch 39/70\n",
      "35/35 [==============================] - 2s 60ms/step - loss: -1.8855 - r_loss: -2.1177 - kl_loss: 0.2322\n",
      "Epoch 40/70\n",
      "35/35 [==============================] - 2s 62ms/step - loss: -1.8999 - r_loss: -2.0392 - kl_loss: 0.1392\n",
      "Epoch 41/70\n",
      "35/35 [==============================] - 2s 64ms/step - loss: -1.9341 - r_loss: -2.1632 - kl_loss: 0.2290\n",
      "Epoch 42/70\n",
      "35/35 [==============================] - 2s 58ms/step - loss: -1.9052 - r_loss: -2.1519 - kl_loss: 0.2467\n",
      "Epoch 43/70\n",
      "35/35 [==============================] - 2s 57ms/step - loss: -1.9658 - r_loss: -2.1784 - kl_loss: 0.2127\n",
      "Epoch 44/70\n",
      "35/35 [==============================] - 2s 55ms/step - loss: -1.9493 - r_loss: -2.1743 - kl_loss: 0.2250\n",
      "Epoch 45/70\n",
      "35/35 [==============================] - 2s 65ms/step - loss: -1.9116 - r_loss: -2.1229 - kl_loss: 0.2113\n",
      "Epoch 46/70\n",
      "35/35 [==============================] - 2s 58ms/step - loss: -1.9097 - r_loss: -2.1011 - kl_loss: 0.1914\n",
      "Epoch 47/70\n",
      "35/35 [==============================] - 2s 48ms/step - loss: -1.7616 - r_loss: -2.0339 - kl_loss: 0.2723\n",
      "Epoch 48/70\n",
      "35/35 [==============================] - 2s 52ms/step - loss: -1.8852 - r_loss: -2.0779 - kl_loss: 0.1928\n",
      "Epoch 49/70\n",
      "35/35 [==============================] - 2s 51ms/step - loss: -1.9081 - r_loss: -2.0912 - kl_loss: 0.1831\n",
      "Epoch 50/70\n",
      "35/35 [==============================] - 2s 50ms/step - loss: -1.8924 - r_loss: -2.0925 - kl_loss: 0.2001\n",
      "Epoch 51/70\n",
      "35/35 [==============================] - 2s 56ms/step - loss: -1.9450 - r_loss: -2.1688 - kl_loss: 0.2238\n",
      "Epoch 52/70\n",
      "35/35 [==============================] - 2s 57ms/step - loss: -1.9568 - r_loss: -2.1442 - kl_loss: 0.1874\n",
      "Epoch 53/70\n",
      "35/35 [==============================] - 2s 68ms/step - loss: -1.9721 - r_loss: -2.1229 - kl_loss: 0.1507\n",
      "Epoch 54/70\n",
      "35/35 [==============================] - 2s 72ms/step - loss: -1.9822 - r_loss: -2.1378 - kl_loss: 0.1556\n",
      "Epoch 55/70\n",
      "35/35 [==============================] - 2s 65ms/step - loss: -1.8771 - r_loss: -2.0795 - kl_loss: 0.2025\n",
      "Epoch 56/70\n",
      "35/35 [==============================] - 2s 57ms/step - loss: -1.9859 - r_loss: -2.2341 - kl_loss: 0.2482\n",
      "Epoch 57/70\n",
      "35/35 [==============================] - 2s 55ms/step - loss: -1.9366 - r_loss: -2.1809 - kl_loss: 0.2443\n",
      "Epoch 58/70\n",
      "35/35 [==============================] - 2s 53ms/step - loss: -1.9283 - r_loss: -2.1535 - kl_loss: 0.2253\n",
      "Epoch 59/70\n",
      "35/35 [==============================] - 2s 53ms/step - loss: -1.9208 - r_loss: -2.0879 - kl_loss: 0.1671\n",
      "Epoch 60/70\n",
      "35/35 [==============================] - 2s 60ms/step - loss: -1.8643 - r_loss: -2.1822 - kl_loss: 0.3178\n",
      "Epoch 61/70\n",
      "35/35 [==============================] - 2s 55ms/step - loss: -1.9593 - r_loss: -2.1564 - kl_loss: 0.1971\n",
      "Epoch 62/70\n",
      "35/35 [==============================] - 2s 56ms/step - loss: -1.8612 - r_loss: -2.2050 - kl_loss: 0.3438\n",
      "Epoch 63/70\n",
      "35/35 [==============================] - 2s 52ms/step - loss: -1.9719 - r_loss: -2.1637 - kl_loss: 0.1918\n",
      "Epoch 64/70\n",
      "35/35 [==============================] - 2s 56ms/step - loss: -2.0096 - r_loss: -2.1857 - kl_loss: 0.1761\n",
      "Epoch 65/70\n",
      "35/35 [==============================] - 2s 60ms/step - loss: -2.0659 - r_loss: -2.2027 - kl_loss: 0.1368\n",
      "Epoch 66/70\n",
      "35/35 [==============================] - 2s 56ms/step - loss: -2.0720 - r_loss: -2.2051 - kl_loss: 0.1331\n",
      "Epoch 67/70\n",
      "35/35 [==============================] - 2s 61ms/step - loss: -2.1026 - r_loss: -2.2774 - kl_loss: 0.1748\n",
      "Epoch 68/70\n",
      "35/35 [==============================] - 2s 55ms/step - loss: -2.0471 - r_loss: -2.1828 - kl_loss: 0.1357\n",
      "Epoch 69/70\n",
      "35/35 [==============================] - 2s 53ms/step - loss: -2.0972 - r_loss: -2.2755 - kl_loss: 0.1783\n",
      "Epoch 70/70\n",
      "35/35 [==============================] - 2s 55ms/step - loss: -2.0651 - r_loss: -2.2311 - kl_loss: 0.1660\n",
      "Duration :  144.11 seconds\n"
     ]
    }
   ],
   "source": [
    "chrono=fidle.Chrono()\n",
    "chrono.start()\n",
    "\n",
    "history = vae.fit(normedspectra, epochs=epochs, batch_size=batch_size, callbacks=callbacks_list,verbose=fit_verbosity)\n",
    "\n",
    "chrono.show()"
   ]
  },
  {
   "cell_type": "markdown",
   "metadata": {},
   "source": [
    "## Step 6 - Training review\n",
    "### 6.1 - History"
   ]
  },
  {
   "cell_type": "code",
   "execution_count": 14,
   "metadata": {},
   "outputs": [
    {
     "data": {
      "image/png": "[encoded data removed]",
      "text/plain": [
       "<Figure size 800x600 with 1 Axes>"
      ]
     },
     "metadata": {},
     "output_type": "display_data"
    }
   ],
   "source": [
    "fidle.scrawler.history(history,  plot={\"Loss\":['loss','r_loss', 'kl_loss']}, save_as='history')"
   ]
  },
  {
   "cell_type": "markdown",
   "metadata": {},
   "source": [
    "### 6.2 - Reconstruction during training\n",
    "At the end of each epoch, our callback saved some reconstructed images.  \n",
    "Where :  \n",
    "Original image -> encoder -> z -> decoder -> Reconstructed image"
   ]
  },
  {
   "cell_type": "markdown",
   "metadata": {},
   "source": [
    "## Annexe - Model Save and reload "
   ]
  },
  {
   "cell_type": "code",
   "execution_count": 15,
   "metadata": {},
   "outputs": [],
   "source": [
    "filename = run_dir+'/models/my_model.h5'\n",
    "\n",
    "# ---- Save our model :\n",
    "\n",
    "vae.save(filename)\n",
    "\n",
    "# ---- Reload it\n",
    "\n",
    "vae = keras.models.load_model(filename, custom_objects={'SamplingLayer': SamplingLayer, 'VariationalLossLayer':VariationalLossLayer})\n",
    "\n",
    "# ---- Retrieve a layer\n",
    "\n",
    "decoder = vae.get_layer('decoder')\n"
   ]
  },
  {
   "cell_type": "code",
   "execution_count": 16,
   "metadata": {},
   "outputs": [
    {
     "data": {
      "text/markdown": [
       "**End time :** 13/04/23 20:15:04  \n",
       "**Duration :** 00:02:26 315ms  \n",
       "This notebook ends here :-)  \n",
       "[https://fidle.cnrs.fr](https://fidle.cnrs.fr)"
      ],
      "text/plain": [
       "<IPython.core.display.Markdown object>"
      ]
     },
     "metadata": {},
     "output_type": "display_data"
    }
   ],
   "source": [
    "fidle.end()"
   ]
  },
  {
   "cell_type": "markdown",
   "metadata": {},
   "source": []
  },
  {
   "cell_type": "code",
   "execution_count": null,
   "metadata": {},
   "outputs": [],
   "source": []
  }
 ],
 "metadata": {
  "kernelspec": {
   "display_name": "fidle23",
   "language": "python",
   "name": "fidle23"
  },
  "language_info": {
   "codemirror_mode": {
    "name": "ipython",
    "version": 3
   },
   "file_extension": ".py",
   "mimetype": "text/x-python",
   "name": "python",
   "nbconvert_exporter": "python",
   "pygments_lexer": "ipython3",
   "version": "3.9.16"
  },
  "vscode": {
   "interpreter": {
    "hash": "b3929042cc22c1274d74e3e946c52b845b57cb6d84f2d591ffe0519b38e4896d"
   }
  }
 },
 "nbformat": 4,
 "nbformat_minor": 4
}
