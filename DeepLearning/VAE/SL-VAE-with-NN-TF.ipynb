{
 "cells": [
  {
   "cell_type": "markdown",
   "metadata": {},
   "source": [
    "\n",
    "\n",
    "# <!-- TITLE --> [VAE1] - First VAE, using functional API \n",
    "<!-- DESC --> Construction and training of a VAE, using functional APPI, with a latent space of small dimension.\n",
    "\n",
    "\n",
    "## Objectives :\n",
    " - Understanding and implementing a **variational autoencoder** neurals network (VAE)\n",
    " - Understanding **Keras functional API**, using two custom layers\n",
    "\n",
    "The calculation needs being important, it is preferable to use a very simple dataset such as MNIST to start with.  \n",
    "...MNIST with a small scale if you haven't a GPU ;-)\n",
    "\n",
    "## What we're going to do :\n",
    "\n",
    " - Defining a VAE model\n",
    " - Build the model\n",
    " - Train it\n",
    " - Have a look on the train process\n",
    "\n",
    "## Acknowledgements :\n",
    "Thanks to **François Chollet** who is at the base of this example (and the creator of Keras !!).  \n",
    "See : https://keras.io/examples/generative/vae\n"
   ]
  },
  {
   "cell_type": "markdown",
   "metadata": {},
   "source": [
    "## Step 1 - Init python stuff"
   ]
  },
  {
   "cell_type": "code",
   "execution_count": 1,
   "metadata": {},
   "outputs": [
    {
     "name": "stderr",
     "output_type": "stream",
     "text": [
      "2023-04-10 23:24:44.346125: I tensorflow/core/platform/cpu_feature_guard.cc:182] This TensorFlow binary is optimized to use available CPU instructions in performance-critical operations.\n",
      "To enable the following instructions: AVX2 FMA, in other operations, rebuild TensorFlow with the appropriate compiler flags.\n"
     ]
    },
    {
     "data": {
      "text/html": [
       "<style>\n",
       "\n",
       "div.warn {    \n",
       "    background-color: #fcf2f2;\n",
       "    border-color: #dFb5b4;\n",
       "    border-left: 5px solid #dfb5b4;\n",
       "    padding: 0.5em;\n",
       "    font-weight: bold;\n",
       "    font-size: 1.1em;;\n",
       "    }\n",
       "\n",
       "\n",
       "\n",
       "div.nota {    \n",
       "    background-color: #DAFFDE;\n",
       "    border-left: 5px solid #92CC99;\n",
       "    padding: 0.5em;\n",
       "    }\n",
       "\n",
       "div.todo:before { content:url(data:image/svg+xml;base64,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);\n",
       "    float:left;\n",
       "    margin-right:20px;\n",
       "    margin-top:-20px;\n",
       "    margin-bottom:20px;\n",
       "}\n",
       "div.todo{\n",
       "    font-weight: bold;\n",
       "    font-size: 1.1em;\n",
       "    margin-top:40px;\n",
       "}\n",
       "div.todo ul{\n",
       "    margin: 0.2em;\n",
       "}\n",
       "div.todo li{\n",
       "    margin-left:60px;\n",
       "    margin-top:0;\n",
       "    margin-bottom:0;\n",
       "}\n",
       "\n",
       "div .comment{\n",
       "    font-size:0.8em;\n",
       "    color:#696969;\n",
       "}\n",
       "\n",
       "\n",
       "\n",
       "</style>\n",
       "\n"
      ],
      "text/plain": [
       "<IPython.core.display.HTML object>"
      ]
     },
     "metadata": {},
     "output_type": "display_data"
    },
    {
     "data": {
      "text/markdown": [
       "<br>**FIDLE - Environment initialization**"
      ],
      "text/plain": [
       "<IPython.core.display.Markdown object>"
      ]
     },
     "metadata": {},
     "output_type": "display_data"
    },
    {
     "name": "stdout",
     "output_type": "stream",
     "text": [
      "Version              : 2.0b56\n",
      "Run id               : VAE1\n",
      "Run dir              : ./run/VAE1\n",
      "Datasets dir         : /Users/dagoret/MacOSX/Fidle2023/fidle-tp/datasets-fidle\n",
      "Start time           : 10/04/23 23:24:49\n",
      "Hostname             : MacBook-Pro-de-admin.local (Darwin)\n",
      "Tensorflow log level : Warning + Error  (=1)\n",
      "Update keras cache   : False\n",
      "Save figs            : ./run/VAE1/figs (False)\n",
      "tensorflow           : 2.12.0\n",
      "tensorflow.keras     : 2.12.0\n",
      "numpy                : 1.23.5\n",
      "sklearn              : 1.2.2\n",
      "skimage              : 0.20.0\n",
      "matplotlib           : 3.7.1\n",
      "pandas               : 2.0.0\n"
     ]
    }
   ],
   "source": [
    "import numpy as np\n",
    "import matplotlib.pyplot as plt\n",
    "import tensorflow as tf\n",
    "from tensorflow import keras\n",
    "from tensorflow.keras import layers\n",
    "from tensorflow.keras.callbacks import TensorBoard\n",
    "\n",
    "from modules.layers    import SamplingLayer, VariationalLossLayer\n",
    "from modules.callbacks import ImagesCallback, BestModelCallback\n",
    "\n",
    "import sys\n",
    "import fidle\n",
    "\n",
    "# Init Fidle environment\n",
    "run_id, run_dir, datasets_dir = fidle.init('VAE1')\n"
   ]
  },
  {
   "cell_type": "code",
   "execution_count": 2,
   "metadata": {},
   "outputs": [],
   "source": [
    "import h5py"
   ]
  },
  {
   "cell_type": "code",
   "execution_count": 3,
   "metadata": {},
   "outputs": [],
   "source": [
    "# to enlarge the sizes\n",
    "params = {'legend.fontsize': 'x-large',\n",
    "          'figure.figsize': (8, 8),\n",
    "         'axes.labelsize': 'xx-large',\n",
    "         'axes.titlesize':'xx-large',\n",
    "         'xtick.labelsize':'xx-large',\n",
    "         'ytick.labelsize':'xx-large'}\n",
    "plt.rcParams.update(params)\n"
   ]
  },
  {
   "cell_type": "markdown",
   "metadata": {},
   "source": [
    "## Step 2 - Parameters\n",
    "`scale` : With scale=1, we need 1'30s on a GPU V100 ...and >20' on a CPU !\\\n",
    "`latent_dim` : 2 dimensions is small, but usefull to draw !\\\n",
    "`fit_verbosity`: Verbosity of training progress bar: 0=silent, 1=progress bar, 2=One line  \n",
    "\n",
    "`loss_weights` : Our **loss function** is the weighted sum of two loss:\n",
    " - `r_loss` which measures the loss during reconstruction.  \n",
    " - `kl_loss` which measures the dispersion.  \n",
    "\n",
    "The weights are defined by: `loss_weights=[k1,k2]` where : `total_loss = k1*r_loss + k2*kl_loss`  \n",
    "In practice, a value of \\[1,.001\\] gives good results here.\n"
   ]
  },
  {
   "cell_type": "code",
   "execution_count": 4,
   "metadata": {},
   "outputs": [],
   "source": [
    "latent_dim    = 2\n",
    "loss_weights  = [1,.1]\n",
    "\n",
    "scale         = 1\n",
    "seed          = 123\n",
    "\n",
    "batch_size    = 16\n",
    "epochs        = 70\n",
    "fit_verbosity = 1"
   ]
  },
  {
   "cell_type": "markdown",
   "metadata": {},
   "source": [
    "Override parameters (batch mode) - Just forget this cell"
   ]
  },
  {
   "cell_type": "code",
   "execution_count": 5,
   "metadata": {},
   "outputs": [],
   "source": [
    "fidle.override('latent_dim', 'loss_weights', 'scale', 'seed', 'batch_size', 'epochs', 'fit_verbosity')"
   ]
  },
  {
   "cell_type": "markdown",
   "metadata": {},
   "source": [
    "## Step 3 - Prepare data\n"
   ]
  },
  {
   "cell_type": "code",
   "execution_count": 6,
   "metadata": {},
   "outputs": [
    {
     "name": "stdout",
     "output_type": "stream",
     "text": [
      "<KeysViewHDF5 ['RT', 'RV', 'Rmag', 'dec', 'flambda', 'num', 'quantile', 'ra', 'redshift', 'wl']>\n"
     ]
    }
   ],
   "source": [
    "hf = h5py.File('SLspectra.hdf5', 'r') \n",
    "data_in = hf['flambda'][:]\n",
    "wl_in = hf['wl'][:]\n",
    "target = hf['quantile'][:]\n",
    "print(hf.keys())"
   ]
  },
  {
   "cell_type": "code",
   "execution_count": 7,
   "metadata": {},
   "outputs": [],
   "source": [
    "NWL = data_in.shape[1]\n",
    "NSAMPL = data_in.shape[0]"
   ]
  },
  {
   "cell_type": "code",
   "execution_count": 8,
   "metadata": {},
   "outputs": [],
   "source": [
    "spectra = data_in\n",
    "wavelengths = wl_in\n",
    "\n",
    "# normalize spectra by integrated flux and subtract out mean, for easier training\n",
    "spectranorms = np.mean(spectra, axis=1)\n",
    "normedspectra = spectra / spectranorms[:, None]\n",
    "meanspectrum = np.mean(normedspectra, axis=0)\n",
    "normedspectra -= meanspectrum[None, :]\n"
   ]
  },
  {
   "cell_type": "markdown",
   "metadata": {},
   "source": [
    "## Step 4 - Build model\n",
    "In this example, we will use the **functional API.**  \n",
    "For this, we will use two custom layers :\n",
    " - `SamplingLayer`, which generates a vector z from the parameters z_mean and z_log_var - See : [SamplingLayer.py](./modules/layers/SamplingLayer.py)\n",
    " - `VariationalLossLayer`, which allows us to calculate the loss function, loss - See : [VariationalLossLayer.py](./modules/layers/VariationalLossLayer.py)"
   ]
  },
  {
   "cell_type": "markdown",
   "metadata": {},
   "source": [
    "#### Encoder"
   ]
  },
  {
   "cell_type": "code",
   "execution_count": 9,
   "metadata": {},
   "outputs": [
    {
     "name": "stdout",
     "output_type": "stream",
     "text": [
      "Model: \"encoder\"\n",
      "__________________________________________________________________________________________________\n",
      " Layer (type)                   Output Shape         Param #     Connected to                     \n",
      "==================================================================================================\n",
      " input_1 (InputLayer)           [(None, 10000)]      0           []                               \n",
      "                                                                                                  \n",
      " dense (Dense)                  (None, 256)          2560256     ['input_1[0][0]']                \n",
      "                                                                                                  \n",
      " dense_1 (Dense)                (None, 64)           16448       ['dense[0][0]']                  \n",
      "                                                                                                  \n",
      " dense_2 (Dense)                (None, 32)           2080        ['dense_1[0][0]']                \n",
      "                                                                                                  \n",
      " z_mean (Dense)                 (None, 2)            66          ['dense_2[0][0]']                \n",
      "                                                                                                  \n",
      " z_log_var (Dense)              (None, 2)            66          ['dense_2[0][0]']                \n",
      "                                                                                                  \n",
      " sampling_layer (SamplingLayer)  (None, 2)           0           ['z_mean[0][0]',                 \n",
      "                                                                  'z_log_var[0][0]']              \n",
      "                                                                                                  \n",
      "==================================================================================================\n",
      "Total params: 2,578,916\n",
      "Trainable params: 2,578,916\n",
      "Non-trainable params: 0\n",
      "__________________________________________________________________________________________________\n"
     ]
    }
   ],
   "source": [
    "inputs    = keras.Input(shape=(NWL,))\n",
    "x         = layers.Dense(256, activation=\"relu\")(inputs)\n",
    "x         = layers.Dense(64, activation=\"relu\")(x)\n",
    "x         = layers.Dense(32, activation=\"relu\")(x)\n",
    "\n",
    "\n",
    "z_mean    = layers.Dense(latent_dim, name=\"z_mean\")(x)\n",
    "z_log_var = layers.Dense(latent_dim, name=\"z_log_var\")(x)\n",
    "z         = SamplingLayer()([z_mean, z_log_var])\n",
    "\n",
    "encoder = keras.Model(inputs, [z_mean, z_log_var, z], name=\"encoder\")\n",
    "encoder.summary()"
   ]
  },
  {
   "cell_type": "markdown",
   "metadata": {},
   "source": [
    "#### Decoder"
   ]
  },
  {
   "cell_type": "code",
   "execution_count": 10,
   "metadata": {},
   "outputs": [
    {
     "name": "stdout",
     "output_type": "stream",
     "text": [
      "Model: \"decoder\"\n",
      "_________________________________________________________________\n",
      " Layer (type)                Output Shape              Param #   \n",
      "=================================================================\n",
      " input_2 (InputLayer)        [(None, 2)]               0         \n",
      "                                                                 \n",
      " dense_3 (Dense)             (None, 32)                96        \n",
      "                                                                 \n",
      " dense_4 (Dense)             (None, 64)                2112      \n",
      "                                                                 \n",
      " dense_5 (Dense)             (None, 256)               16640     \n",
      "                                                                 \n",
      " dense_6 (Dense)             (None, 10000)             2570000   \n",
      "                                                                 \n",
      "=================================================================\n",
      "Total params: 2,588,848\n",
      "Trainable params: 2,588,848\n",
      "Non-trainable params: 0\n",
      "_________________________________________________________________\n"
     ]
    }
   ],
   "source": [
    "inputs  = keras.Input(shape=(latent_dim,))\n",
    "x       = layers.Dense(32, activation=\"relu\")(inputs)\n",
    "x       = layers.Dense(64, activation=\"relu\")(x)\n",
    "x       = layers.Dense(256,activation=\"relu\") (x)\n",
    "outputs = layers.Dense(NWL, activation=\"relu\")(x)\n",
    "\n",
    "decoder = keras.Model(inputs, outputs, name=\"decoder\")\n",
    "\n",
    "decoder.summary()"
   ]
  },
  {
   "cell_type": "markdown",
   "metadata": {},
   "source": [
    "#### VAE\n",
    "\n",
    "We will calculate the loss with a specific layer: `VariationalLossLayer` - See : [VariationalLossLayer.py](./modules/layers/VariationalLossLayer.py)"
   ]
  },
  {
   "cell_type": "code",
   "execution_count": 11,
   "metadata": {},
   "outputs": [],
   "source": [
    "\n",
    "inputs = keras.Input(shape=(None, NWL))\n",
    "\n",
    "z_mean, z_log_var, z = encoder(inputs)\n",
    "outputs              = decoder(z)\n",
    "\n",
    "outputs = VariationalLossLayer(loss_weights=loss_weights)([inputs, z_mean, z_log_var, outputs])\n",
    "\n",
    "vae=keras.Model(inputs,outputs)\n",
    "\n",
    "vae.compile(optimizer='adam', loss=None)"
   ]
  },
  {
   "cell_type": "markdown",
   "metadata": {},
   "source": [
    "## Step 5 - Train\n",
    "### 5.1 - Using two nice custom callbacks :-)\n",
    "Two custom callbacks are used:\n",
    " - `ImagesCallback` : qui va sauvegarder des images durant l'apprentissage - See [ImagesCallback.py](./modules/callbacks/ImagesCallback.py)\n",
    " - `BestModelCallback` : qui sauvegardera le meilleur model - See [BestModelCallback.py](./modules/callbacks/BestModelCallback.py)"
   ]
  },
  {
   "cell_type": "code",
   "execution_count": 12,
   "metadata": {},
   "outputs": [],
   "source": [
    "#callback_images      = ImagesCallback(x=x_data, z_dim=latent_dim, nb_images=5, from_z=True, from_random=True, run_dir=run_dir)\n",
    "callback_bestmodel   = BestModelCallback( run_dir + '/models/best_model.h5' )\n",
    "#callback_tensorboard = TensorBoard(log_dir=run_dir + '/logs', histogram_freq=1)\n",
    "\n",
    "callbacks_list = [callback_bestmodel]"
   ]
  },
  {
   "cell_type": "markdown",
   "metadata": {},
   "source": [
    "### 5.2 - Let's train !\n"
   ]
  },
  {
   "cell_type": "code",
   "execution_count": 13,
   "metadata": {},
   "outputs": [
    {
     "name": "stdout",
     "output_type": "stream",
     "text": [
      "Epoch 1/50\n",
      "35/35 [==============================] - 6s 81ms/step - loss: 1.1493 - r_loss: -0.9765 - kl_loss: 2.1258\n",
      "Epoch 2/50\n",
      "35/35 [==============================] - 2s 58ms/step - loss: 2.1703 - r_loss: -1.7557 - kl_loss: 3.9260\n",
      "Epoch 3/50\n",
      "35/35 [==============================] - 2s 51ms/step - loss: 1.5764 - r_loss: -1.8411 - kl_loss: 3.4175\n",
      "Epoch 4/50\n",
      "35/35 [==============================] - 3s 92ms/step - loss: 0.2663 - r_loss: -2.0961 - kl_loss: 2.3625\n",
      "Epoch 5/50\n",
      "35/35 [==============================] - 3s 86ms/step - loss: 2.1136 - r_loss: -1.8157 - kl_loss: 3.9293\n",
      "Epoch 6/50\n",
      "35/35 [==============================] - 2s 61ms/step - loss: 0.7453 - r_loss: -1.6578 - kl_loss: 2.4031\n",
      "Epoch 7/50\n",
      "35/35 [==============================] - 3s 75ms/step - loss: -0.0153 - r_loss: -2.0699 - kl_loss: 2.0546\n",
      "Epoch 8/50\n",
      "35/35 [==============================] - 3s 97ms/step - loss: -0.5659 - r_loss: -2.1090 - kl_loss: 1.5431\n",
      "Epoch 9/50\n",
      "35/35 [==============================] - 3s 81ms/step - loss: 0.8818 - r_loss: -2.0818 - kl_loss: 2.9636\n",
      "Epoch 10/50\n",
      "35/35 [==============================] - 2s 67ms/step - loss: 0.6787 - r_loss: -1.9949 - kl_loss: 2.6736\n",
      "Epoch 11/50\n",
      "35/35 [==============================] - 3s 90ms/step - loss: 10.7841 - r_loss: -0.3482 - kl_loss: 11.1323\n",
      "Epoch 12/50\n",
      "35/35 [==============================] - 3s 94ms/step - loss: 4.5157 - r_loss: -1.0871 - kl_loss: 5.6029\n",
      "Epoch 13/50\n",
      "35/35 [==============================] - 2s 65ms/step - loss: 1.9415 - r_loss: -1.9024 - kl_loss: 3.8438\n",
      "Epoch 14/50\n",
      "35/35 [==============================] - 2s 67ms/step - loss: 1.1473 - r_loss: -1.7437 - kl_loss: 2.8911\n",
      "Epoch 15/50\n",
      "35/35 [==============================] - 3s 95ms/step - loss: 4.1897 - r_loss: -1.2359 - kl_loss: 5.4256\n",
      "Epoch 16/50\n",
      "35/35 [==============================] - 3s 90ms/step - loss: 2.5233 - r_loss: -1.5401 - kl_loss: 4.0634\n",
      "Epoch 17/50\n",
      "35/35 [==============================] - 2s 64ms/step - loss: 0.4976 - r_loss: -2.1690 - kl_loss: 2.6666\n",
      "Epoch 18/50\n",
      "35/35 [==============================] - 3s 82ms/step - loss: -0.4396 - r_loss: -1.8042 - kl_loss: 1.3646\n",
      "Epoch 19/50\n",
      "35/35 [==============================] - 4s 101ms/step - loss: -0.8506 - r_loss: -1.7688 - kl_loss: 0.9182\n",
      "Epoch 20/50\n",
      "35/35 [==============================] - 2s 71ms/step - loss: 9.2725 - r_loss: -0.7901 - kl_loss: 10.0626\n",
      "Epoch 21/50\n",
      "35/35 [==============================] - 2s 65ms/step - loss: 3.5668 - r_loss: -2.1348 - kl_loss: 5.7017\n",
      "Epoch 22/50\n",
      "35/35 [==============================] - 3s 98ms/step - loss: 2.6998 - r_loss: -2.1632 - kl_loss: 4.8630\n",
      "Epoch 23/50\n",
      "35/35 [==============================] - 3s 86ms/step - loss: 1.9705 - r_loss: -2.1730 - kl_loss: 4.1435\n",
      "Epoch 24/50\n",
      "35/35 [==============================] - 2s 71ms/step - loss: 2.1634 - r_loss: -2.1841 - kl_loss: 4.3475\n",
      "Epoch 25/50\n",
      "35/35 [==============================] - 3s 85ms/step - loss: 3.1151 - r_loss: -1.9324 - kl_loss: 5.0475\n",
      "Epoch 26/50\n",
      "35/35 [==============================] - 3s 93ms/step - loss: 0.8006 - r_loss: -2.2243 - kl_loss: 3.0249\n",
      "Epoch 27/50\n",
      "35/35 [==============================] - 3s 75ms/step - loss: 0.3353 - r_loss: -2.2149 - kl_loss: 2.5501\n",
      "Epoch 28/50\n",
      "35/35 [==============================] - 2s 62ms/step - loss: 2.4585 - r_loss: -1.8937 - kl_loss: 4.3522\n",
      "Epoch 29/50\n",
      "35/35 [==============================] - 3s 97ms/step - loss: 1.6311 - r_loss: -2.2358 - kl_loss: 3.8668\n",
      "Epoch 30/50\n",
      "35/35 [==============================] - 3s 92ms/step - loss: -0.4163 - r_loss: -2.2269 - kl_loss: 1.8106\n",
      "Epoch 31/50\n",
      "35/35 [==============================] - 2s 70ms/step - loss: -0.6719 - r_loss: -2.2349 - kl_loss: 1.5630\n",
      "Epoch 32/50\n",
      "35/35 [==============================] - 3s 76ms/step - loss: -0.8153 - r_loss: -2.2389 - kl_loss: 1.4237\n",
      "Epoch 33/50\n",
      "35/35 [==============================] - 4s 109ms/step - loss: -1.0090 - r_loss: -2.2866 - kl_loss: 1.2776\n",
      "Epoch 34/50\n",
      "35/35 [==============================] - 3s 80ms/step - loss: -1.1128 - r_loss: -2.2840 - kl_loss: 1.1712\n",
      "Epoch 35/50\n",
      "35/35 [==============================] - 3s 72ms/step - loss: -1.3155 - r_loss: -2.3395 - kl_loss: 1.0241\n",
      "Epoch 36/50\n",
      "35/35 [==============================] - 4s 105ms/step - loss: -1.5288 - r_loss: -2.2983 - kl_loss: 0.7696\n",
      "Epoch 37/50\n",
      "35/35 [==============================] - 3s 84ms/step - loss: -1.5754 - r_loss: -2.3103 - kl_loss: 0.7349\n",
      "Epoch 38/50\n",
      "35/35 [==============================] - 2s 67ms/step - loss: -1.5965 - r_loss: -2.2697 - kl_loss: 0.6732\n",
      "Epoch 39/50\n",
      "35/35 [==============================] - 3s 86ms/step - loss: -1.6785 - r_loss: -2.3247 - kl_loss: 0.6462\n",
      "Epoch 40/50\n",
      "35/35 [==============================] - 3s 98ms/step - loss: -1.8335 - r_loss: -2.3408 - kl_loss: 0.5073\n",
      "Epoch 41/50\n",
      "35/35 [==============================] - 2s 70ms/step - loss: -2.0461 - r_loss: -2.3537 - kl_loss: 0.3076\n",
      "Epoch 42/50\n",
      "35/35 [==============================] - 3s 72ms/step - loss: -2.1640 - r_loss: -2.3924 - kl_loss: 0.2284\n",
      "Epoch 43/50\n",
      "35/35 [==============================] - 3s 94ms/step - loss: -2.1597 - r_loss: -2.3357 - kl_loss: 0.1760\n",
      "Epoch 44/50\n",
      "35/35 [==============================] - 3s 84ms/step - loss: -2.1218 - r_loss: -2.4098 - kl_loss: 0.2880\n",
      "Epoch 45/50\n",
      "35/35 [==============================] - 2s 64ms/step - loss: -2.0843 - r_loss: -2.3680 - kl_loss: 0.2837\n",
      "Epoch 46/50\n",
      "35/35 [==============================] - 2s 70ms/step - loss: -2.1981 - r_loss: -2.4112 - kl_loss: 0.2131\n",
      "Epoch 47/50\n",
      "35/35 [==============================] - 4s 103ms/step - loss: -2.2068 - r_loss: -2.4255 - kl_loss: 0.2187\n",
      "Epoch 48/50\n",
      "35/35 [==============================] - 3s 72ms/step - loss: -2.2060 - r_loss: -2.4147 - kl_loss: 0.2086\n",
      "Epoch 49/50\n",
      "35/35 [==============================] - 2s 62ms/step - loss: -2.1173 - r_loss: -2.4044 - kl_loss: 0.2871\n",
      "Epoch 50/50\n",
      "35/35 [==============================] - 3s 80ms/step - loss: -2.2505 - r_loss: -2.5213 - kl_loss: 0.2709\n",
      "Duration :  143.48 seconds\n"
     ]
    }
   ],
   "source": [
    "chrono=fidle.Chrono()\n",
    "chrono.start()\n",
    "\n",
    "history = vae.fit(normedspectra, epochs=epochs, batch_size=batch_size, callbacks=callbacks_list,verbose=fit_verbosity)\n",
    "\n",
    "chrono.show()"
   ]
  },
  {
   "cell_type": "markdown",
   "metadata": {},
   "source": [
    "## Step 6 - Training review\n",
    "### 6.1 - History"
   ]
  },
  {
   "cell_type": "code",
   "execution_count": 14,
   "metadata": {},
   "outputs": [
    {
     "data": {
      "image/png": "[encoded data removed]",
      "text/plain": [
       "<Figure size 800x600 with 1 Axes>"
      ]
     },
     "metadata": {},
     "output_type": "display_data"
    }
   ],
   "source": [
    "fidle.scrawler.history(history,  plot={\"Loss\":['loss','r_loss', 'kl_loss']}, save_as='history')"
   ]
  },
  {
   "cell_type": "markdown",
   "metadata": {},
   "source": [
    "### 6.2 - Reconstruction during training\n",
    "At the end of each epoch, our callback saved some reconstructed images.  \n",
    "Where :  \n",
    "Original image -> encoder -> z -> decoder -> Reconstructed image"
   ]
  },
  {
   "cell_type": "markdown",
   "metadata": {},
   "source": [
    "## Annexe - Model Save and reload "
   ]
  },
  {
   "cell_type": "code",
   "execution_count": 15,
   "metadata": {},
   "outputs": [],
   "source": [
    "filename = run_dir+'/models/my_model.h5'\n",
    "\n",
    "# ---- Save our model :\n",
    "\n",
    "vae.save(filename)\n",
    "\n",
    "# ---- Reload it\n",
    "\n",
    "vae = keras.models.load_model(filename, custom_objects={'SamplingLayer': SamplingLayer, 'VariationalLossLayer':VariationalLossLayer})\n",
    "\n",
    "# ---- Retrieve a layer\n",
    "\n",
    "decoder = vae.get_layer('decoder')\n"
   ]
  },
  {
   "cell_type": "code",
   "execution_count": 16,
   "metadata": {},
   "outputs": [
    {
     "data": {
      "text/markdown": [
       "**End time :** 10/04/23 23:27:15  \n",
       "**Duration :** 00:02:26 396ms  \n",
       "This notebook ends here :-)  \n",
       "[https://fidle.cnrs.fr](https://fidle.cnrs.fr)"
      ],
      "text/plain": [
       "<IPython.core.display.Markdown object>"
      ]
     },
     "metadata": {},
     "output_type": "display_data"
    }
   ],
   "source": [
    "fidle.end()"
   ]
  },
  {
   "cell_type": "markdown",
   "metadata": {},
   "source": []
  },
  {
   "cell_type": "code",
   "execution_count": null,
   "metadata": {},
   "outputs": [],
   "source": []
  }
 ],
 "metadata": {
  "kernelspec": {
   "display_name": "fidle23",
   "language": "python",
   "name": "fidle23"
  },
  "language_info": {
   "codemirror_mode": {
    "name": "ipython",
    "version": 3
   },
   "file_extension": ".py",
   "mimetype": "text/x-python",
   "name": "python",
   "nbconvert_exporter": "python",
   "pygments_lexer": "ipython3",
   "version": "3.9.16"
  },
  "vscode": {
   "interpreter": {
    "hash": "b3929042cc22c1274d74e3e946c52b845b57cb6d84f2d591ffe0519b38e4896d"
   }
  }
 },
 "nbformat": 4,
 "nbformat_minor": 4
}
