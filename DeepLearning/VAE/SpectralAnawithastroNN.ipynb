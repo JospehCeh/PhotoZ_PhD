{
 "cells": [
  {
   "cell_type": "markdown",
   "id": "26a7d2b2-c9ab-47ad-90d7-b936db916cd9",
   "metadata": {},
   "source": [
    "# Spectral analysis\n",
    "\n",
    "https://astronn.readthedocs.io/en/latest/neuralnets/apogee_cvae.html"
   ]
  },
  {
   "cell_type": "code",
   "execution_count": 18,
   "id": "8290a36c-fae8-41fd-8723-c380ea092b13",
   "metadata": {
    "tags": []
   },
   "outputs": [],
   "source": [
    "from astroNN.models import ApogeeCVAE\n",
    "from astroNN.datasets import H5Loader\n",
    "import h5py\n",
    "from sklearn.model_selection import train_test_split\n",
    "import numpy as np"
   ]
  },
  {
   "cell_type": "code",
   "execution_count": 34,
   "id": "ba03e4dd-dc58-4792-8a5b-9bc3cad46f4f",
   "metadata": {
    "tags": []
   },
   "outputs": [],
   "source": [
    "import os\n",
    "import numpy as np\n",
    "import matplotlib.pyplot as plt\n",
    "import matplotlib.colors as colors\n",
    "import matplotlib.cm as cmx\n",
    "\n",
    "from matplotlib.backends.backend_pdf import PdfPages\n",
    "\n",
    "%matplotlib inline"
   ]
  },
  {
   "cell_type": "code",
   "execution_count": 7,
   "id": "56031f77-cd88-4b82-bf52-ebe808344d83",
   "metadata": {
    "tags": []
   },
   "outputs": [],
   "source": [
    "with h5py.File('SLspectra.hdf5', 'r') as hf:\n",
    "    data_in = hf['flambda'][:]\n",
    "    wl_in = hf['wl'][:]"
   ]
  },
  {
   "cell_type": "code",
   "execution_count": 8,
   "id": "85a4897e-e163-49dc-85af-23a855985cb3",
   "metadata": {
    "tags": []
   },
   "outputs": [
    {
     "data": {
      "text/plain": [
       "(550, 10000)"
      ]
     },
     "execution_count": 8,
     "metadata": {},
     "output_type": "execute_result"
    }
   ],
   "source": [
    "data_in.shape"
   ]
  },
  {
   "cell_type": "code",
   "execution_count": 11,
   "id": "5d6e22e4-e470-4886-97e1-d9dfa474a6b4",
   "metadata": {
    "tags": []
   },
   "outputs": [],
   "source": [
    "x_train,x_test=train_test_split(data_in,test_size=0.33, random_state=42)"
   ]
  },
  {
   "cell_type": "code",
   "execution_count": 25,
   "id": "b37fe463-8ccc-4445-b2c3-b02b2dfd84e7",
   "metadata": {
    "tags": []
   },
   "outputs": [],
   "source": [
    "y_train = np.random.randint(2, size=x_train.shape[0])\n",
    "y_test = np.random.randint(2, size=x_test.shape[0])"
   ]
  },
  {
   "cell_type": "code",
   "execution_count": 23,
   "id": "4ced33f0-b5ee-4354-b761-69739c296dd2",
   "metadata": {
    "tags": []
   },
   "outputs": [],
   "source": [
    "# And then create an object of Bayesian Convolutional Neural Network classs\n",
    "cvae_net = ApogeeCVAE()\n",
    "\n",
    "# Set max_epochs to 10 for a quick result. You should train more epochs normally, especially with dropout\n",
    "cvae_net.max_epochs = 10\n"
   ]
  },
  {
   "cell_type": "code",
   "execution_count": 24,
   "id": "4053c237-f462-4455-93d7-4e8813aa3c4b",
   "metadata": {
    "tags": []
   },
   "outputs": [
    {
     "name": "stderr",
     "output_type": "stream",
     "text": [
      "/var/folders/rk/cnrspsj13_3cgmh8p4m_mxww0000gp/T/ipykernel_17144/1617019894.py:1: UserWarning: Call to function train() is deprecated and will be removed in future. Use fit() instead.\n"
     ]
    },
    {
     "name": "stdout",
     "output_type": "stream",
     "text": [
      "Number of Training Data: 332, Number of Validation Data: 36\n",
      "====Message from Normalizer====\n",
      "You selected mode: 2\n",
      "Featurewise Center: {'input': True}\n",
      "Datawise Center: {'input': False} \n",
      "Featurewise std Center: {'input': True}\n",
      "Datawise std Center: {'input': False} \n",
      "====Message ends====\n",
      "====Message from Normalizer====\n",
      "You selected mode: 2\n",
      "Featurewise Center: {'output': True}\n",
      "Datawise Center: {'output': False} \n",
      "Featurewise std Center: {'output': True}\n",
      "Datawise std Center: {'output': False} \n",
      "====Message ends====\n",
      "Epoch 1/10\n",
      "5/5 - 10s - loss: 38450.0352 - reconstruction_loss: 38447.5312 - kl_loss: 2.5046 - val_loss: 13397.1465 - val_reconstruction_loss: 13396.5781 - val_kl_loss: 0.5681 - lr: 5.0000e-04 - 10s/epoch - 2s/step\n",
      "Epoch 2/10\n",
      "5/5 - 7s - loss: 19019.8809 - reconstruction_loss: 19017.2852 - kl_loss: 2.5977 - val_loss: 11960.1201 - val_reconstruction_loss: 11959.2686 - val_kl_loss: 0.8518 - lr: 5.0000e-04 - 7s/epoch - 1s/step\n",
      "Epoch 3/10\n",
      "5/5 - 7s - loss: 17609.8789 - reconstruction_loss: 17606.8008 - kl_loss: 3.0812 - val_loss: 12714.2920 - val_reconstruction_loss: 12713.5400 - val_kl_loss: 0.7522 - lr: 5.0000e-04 - 7s/epoch - 1s/step\n",
      "Epoch 4/10\n",
      "5/5 - 7s - loss: 16195.1582 - reconstruction_loss: 16192.5176 - kl_loss: 2.6421 - val_loss: 11844.0352 - val_reconstruction_loss: 11843.3770 - val_kl_loss: 0.6586 - lr: 5.0000e-04 - 7s/epoch - 1s/step\n",
      "Epoch 5/10\n",
      "5/5 - 7s - loss: 14141.8926 - reconstruction_loss: 14139.7090 - kl_loss: 2.1827 - val_loss: 11448.1582 - val_reconstruction_loss: 11447.5762 - val_kl_loss: 0.5823 - lr: 5.0000e-04 - 7s/epoch - 1s/step\n",
      "Epoch 6/10\n",
      "5/5 - 7s - loss: 12828.4951 - reconstruction_loss: 12826.4717 - kl_loss: 2.0240 - val_loss: 11150.1318 - val_reconstruction_loss: 11149.5967 - val_kl_loss: 0.5348 - lr: 5.0000e-04 - 7s/epoch - 1s/step\n",
      "Epoch 7/10\n",
      "5/5 - 7s - loss: 12368.9902 - reconstruction_loss: 12367.1084 - kl_loss: 1.8813 - val_loss: 11434.9316 - val_reconstruction_loss: 11434.4336 - val_kl_loss: 0.4979 - lr: 5.0000e-04 - 7s/epoch - 1s/step\n",
      "Epoch 8/10\n",
      "5/5 - 7s - loss: 11937.9512 - reconstruction_loss: 11936.2188 - kl_loss: 1.7319 - val_loss: 11036.9062 - val_reconstruction_loss: 11036.4199 - val_kl_loss: 0.4865 - lr: 5.0000e-04 - 7s/epoch - 1s/step\n",
      "Epoch 9/10\n",
      "5/5 - 7s - loss: 11721.9189 - reconstruction_loss: 11720.1855 - kl_loss: 1.7330 - val_loss: 10600.5898 - val_reconstruction_loss: 10600.0938 - val_kl_loss: 0.4961 - lr: 5.0000e-04 - 7s/epoch - 1s/step\n",
      "Epoch 10/10\n",
      "5/5 - 7s - loss: 11346.8955 - reconstruction_loss: 11345.1191 - kl_loss: 1.7754 - val_loss: 10730.2715 - val_reconstruction_loss: 10729.7676 - val_kl_loss: 0.5036 - lr: 5.0000e-04 - 7s/epoch - 1s/step\n",
      "Completed Training, 75.36s in total\n"
     ]
    }
   ],
   "source": [
    "cvae_net.train(x_train,y_train)"
   ]
  },
  {
   "cell_type": "code",
   "execution_count": 37,
   "id": "a8e21dc0-0892-497f-a1fb-78931ccc3ba2",
   "metadata": {
    "tags": []
   },
   "outputs": [
    {
     "name": "stderr",
     "output_type": "stream",
     "text": [
      "/var/folders/rk/cnrspsj13_3cgmh8p4m_mxww0000gp/T/ipykernel_17144/1917556474.py:2: UserWarning: Call to function test_encoder() is deprecated and will be removed in future. Use predict_encoder() instead.\n",
      "Prediction progress: 100%|█████████████████████████████████████████████████████████████████████████████████████| 182/182 [00:00<00:00, 841.33sample/s]\n"
     ]
    }
   ],
   "source": [
    "# Get latent space representation\n",
    "latent_space_value = cvae_net.test_encoder(x_test)[0]"
   ]
  },
  {
   "cell_type": "code",
   "execution_count": 38,
   "id": "dd8eb250-f745-4f42-994a-0884ea3b6712",
   "metadata": {
    "tags": []
   },
   "outputs": [
    {
     "data": {
      "text/plain": [
       "array([[-0.08478323, -0.19683988],\n",
       "       [-0.06827664, -0.02643103],\n",
       "       [-0.04765802, -0.09668121],\n",
       "       [-0.03780709, -0.04188341],\n",
       "       [-0.1388493 , -0.08481807],\n",
       "       [-0.11543087, -0.04213332],\n",
       "       [-0.13635896, -0.0691778 ],\n",
       "       [-0.10110508, -0.14690523],\n",
       "       [-0.03716377, -0.03508704],\n",
       "       [-0.05399958, -0.03846932],\n",
       "       [-0.06542622, -0.01081748],\n",
       "       [-0.14078195, -0.06869388],\n",
       "       [-0.12966336, -0.14169045],\n",
       "       [-0.109772  , -0.05495955],\n",
       "       [-0.06608041, -0.09250879],\n",
       "       [-0.10395111, -0.09811022],\n",
       "       [-0.11324004, -0.12650689],\n",
       "       [-0.05656423, -0.10291295],\n",
       "       [-0.11993796, -0.08585767],\n",
       "       [-0.16202095, -0.04940508],\n",
       "       [-0.04458997, -0.06829437],\n",
       "       [-0.07623657, -0.02451519],\n",
       "       [-0.0609493 , -0.02180713],\n",
       "       [-0.03888493, -0.10186248],\n",
       "       [-0.10340758, -0.07180613],\n",
       "       [-0.11487354, -0.05620602],\n",
       "       [-0.01610626, -0.09942855],\n",
       "       [-0.13091831, -0.1159637 ],\n",
       "       [-0.1471388 , -0.15391801],\n",
       "       [-0.05754661, -0.11849739],\n",
       "       [-0.05020801, -0.05806389],\n",
       "       [-0.10629479, -0.03374222],\n",
       "       [-0.12561904, -0.0676644 ],\n",
       "       [-0.06725971, -0.1186024 ],\n",
       "       [-0.14241445, -0.11597895],\n",
       "       [-0.14433278, -0.07937872],\n",
       "       [-0.08922803, -0.03765872],\n",
       "       [-0.10073537, -0.03170541],\n",
       "       [-0.07194448, -0.08228955],\n",
       "       [-0.03731957, -0.04906626],\n",
       "       [ 0.00069   , -0.03727365],\n",
       "       [-0.03329566, -0.09246103],\n",
       "       [-0.10106862,  0.00272337],\n",
       "       [-0.03929874, -0.0266655 ],\n",
       "       [-0.04512743, -0.0242615 ],\n",
       "       [-0.02885682, -0.01462111],\n",
       "       [-0.07386182, -0.09167731],\n",
       "       [-0.0768976 , -0.03025759],\n",
       "       [-0.07689897, -0.03634015],\n",
       "       [-0.17266113, -0.13201033],\n",
       "       [-0.04676735, -0.0220135 ],\n",
       "       [-0.1685193 , -0.08783745],\n",
       "       [-0.13556813, -0.08208301],\n",
       "       [-0.11972962, -0.10877851],\n",
       "       [-0.09398142, -0.17693911],\n",
       "       [-0.05101194, -0.0714342 ],\n",
       "       [-0.1270646 , -0.10652357],\n",
       "       [-0.01213091, -0.09681994],\n",
       "       [-0.0953486 , -0.03758525],\n",
       "       [-0.10603977, -0.04252668],\n",
       "       [-0.06300742, -0.0609704 ],\n",
       "       [-0.14492656, -0.11439603],\n",
       "       [-0.11321824, -0.04670805],\n",
       "       [-0.05121979, -0.07629298],\n",
       "       [-0.07242855, -0.01164975],\n",
       "       [-0.133967  , -0.0744051 ],\n",
       "       [-0.12561382, -0.0446747 ],\n",
       "       [-0.14445092, -0.0850333 ],\n",
       "       [-0.11723763, -0.05255684],\n",
       "       [-0.0928675 , -0.03387923],\n",
       "       [-0.09848527, -0.04183098],\n",
       "       [-0.0318889 , -0.01286286],\n",
       "       [-0.11056282, -0.12442567],\n",
       "       [-0.00536998, -0.01147376],\n",
       "       [-0.03612252, -0.18466315],\n",
       "       [-0.0807457 , -0.13463809],\n",
       "       [-0.11386804, -0.06458395],\n",
       "       [ 0.00919533, -0.06254017],\n",
       "       [-0.08823546, -0.11425496],\n",
       "       [-0.07188512, -0.10602992],\n",
       "       [-0.10593122, -0.1022687 ],\n",
       "       [-0.13955921, -0.11185273],\n",
       "       [-0.08894686, -0.03327869],\n",
       "       [-0.09665177, -0.03294521],\n",
       "       [-0.09766418, -0.04077189],\n",
       "       [-0.07918865, -0.02285022],\n",
       "       [ 0.00930198, -0.05212396],\n",
       "       [-0.09023101, -0.05727718],\n",
       "       [-0.11267222, -0.04287984],\n",
       "       [-0.00157397, -0.050716  ],\n",
       "       [-0.02331264, -0.02297445],\n",
       "       [-0.12501864, -0.08229238],\n",
       "       [ 0.03008205, -0.07933185],\n",
       "       [-0.09471742, -0.03692869],\n",
       "       [-0.07167096, -0.11802243],\n",
       "       [-0.02328866, -0.03576347],\n",
       "       [-0.14293914, -0.13572077],\n",
       "       [-0.17466195, -0.08053458],\n",
       "       [-0.12835288, -0.12248946],\n",
       "       [-0.15183951, -0.09779701],\n",
       "       [-0.19820429, -0.08165417],\n",
       "       [-0.05253881, -0.05484017],\n",
       "       [-0.12101272, -0.06117271],\n",
       "       [-0.12166048, -0.0554355 ],\n",
       "       [-0.03448324, -0.08963975],\n",
       "       [-0.15558715, -0.08398391],\n",
       "       [-0.0586386 , -0.06195364],\n",
       "       [-0.14793091, -0.12827668],\n",
       "       [-0.14908344, -0.06170002],\n",
       "       [-0.13175581, -0.08387347],\n",
       "       [-0.04700342, -0.05657363],\n",
       "       [-0.0262039 , -0.12374098],\n",
       "       [-0.02840732, -0.11660445],\n",
       "       [-0.16556872, -0.09858921],\n",
       "       [-0.13711876, -0.1641929 ],\n",
       "       [-0.03290291, -0.12324513],\n",
       "       [-0.14467384, -0.10875825],\n",
       "       [-0.13892283, -0.07713509],\n",
       "       [-0.01735726, -0.09017121],\n",
       "       [-0.10946362, -0.08572365],\n",
       "       [-0.11457215, -0.11174306],\n",
       "       [-0.05166173, -0.05291057],\n",
       "       [-0.11868719, -0.12317391],\n",
       "       [-0.03724676, -0.0378832 ],\n",
       "       [-0.12232033, -0.05870036],\n",
       "       [-0.07093009, -0.10023762],\n",
       "       [-0.00940829, -0.02726682],\n",
       "       [-0.07601396, -0.132909  ],\n",
       "       [-0.06940388, -0.03684917],\n",
       "       [-0.17939146, -0.10792936],\n",
       "       [-0.10464901, -0.03043194],\n",
       "       [-0.09438722, -0.08118401],\n",
       "       [-0.06667016, -0.07021879],\n",
       "       [-0.04544286, -0.16559066],\n",
       "       [-0.09699307, -0.03723267],\n",
       "       [-0.03240083, -0.07668826],\n",
       "       [-0.08198544, -0.07655639],\n",
       "       [-0.02854757, -0.02066249],\n",
       "       [-0.07087327, -0.12406673],\n",
       "       [-0.08189816, -0.11155676],\n",
       "       [-0.09481607, -0.0336461 ],\n",
       "       [-0.02204315, -0.06465251],\n",
       "       [ 0.00199661, -0.06596783],\n",
       "       [-0.07852478, -0.10700396],\n",
       "       [-0.03793428, -0.02094783],\n",
       "       [-0.09704562, -0.11194066],\n",
       "       [-0.10309873, -0.03915474],\n",
       "       [-0.04940101, -0.08167133],\n",
       "       [-0.01542925, -0.02760253],\n",
       "       [-0.13081087, -0.13420101],\n",
       "       [-0.05322547, -0.01561878],\n",
       "       [-0.0519577 , -0.03362126],\n",
       "       [-0.03825094, -0.07399546],\n",
       "       [-0.09078822, -0.03196372],\n",
       "       [-0.07958511, -0.06956524],\n",
       "       [-0.01851914, -0.11324614],\n",
       "       [-0.01904761, -0.02009652],\n",
       "       [-0.05399939, -0.0775858 ],\n",
       "       [-0.09392371, -0.0874416 ],\n",
       "       [-0.0504185 , -0.03519777],\n",
       "       [ 0.01848442, -0.07399018],\n",
       "       [-0.0976303 , -0.03307753],\n",
       "       [-0.13814013, -0.07460466],\n",
       "       [-0.04132006, -0.06480887],\n",
       "       [-0.01762472, -0.0616356 ],\n",
       "       [-0.18048124, -0.08947598],\n",
       "       [-0.14057182, -0.0780831 ],\n",
       "       [-0.10485388, -0.03337241],\n",
       "       [-0.1051134 , -0.1053996 ],\n",
       "       [-0.0896828 , -0.02971547],\n",
       "       [-0.11226908, -0.13427593],\n",
       "       [-0.07858977, -0.14881107],\n",
       "       [-0.05353175, -0.04244827],\n",
       "       [-0.09183971, -0.03574948],\n",
       "       [-0.05955458, -0.08220712],\n",
       "       [-0.04465517, -0.10945087],\n",
       "       [-0.05369125, -0.18420753],\n",
       "       [-0.00967083, -0.03855765],\n",
       "       [-0.07892234, -0.02988164],\n",
       "       [-0.04739847, -0.08189305],\n",
       "       [-0.10395568, -0.10498876],\n",
       "       [-0.13018158, -0.08287244]])"
      ]
     },
     "execution_count": 38,
     "metadata": {},
     "output_type": "execute_result"
    }
   ],
   "source": [
    "latent_space_value"
   ]
  },
  {
   "cell_type": "code",
   "execution_count": 39,
   "id": "b8b92baf-af76-4a0c-ae5d-fa6d14c87c8b",
   "metadata": {
    "tags": []
   },
   "outputs": [
    {
     "data": {
      "image/png": "[encoded data removed]",
      "text/plain": [
       "<Figure size 640x480 with 1 Axes>"
      ]
     },
     "metadata": {},
     "output_type": "display_data"
    }
   ],
   "source": [
    "plt.scatter(latent_space_value[:,0],latent_space_value[:,1])\n",
    "plt.show()"
   ]
  },
  {
   "cell_type": "code",
   "execution_count": 41,
   "id": "fe90e4d0-7eb5-49f4-b00f-77e344b73ef8",
   "metadata": {
    "tags": []
   },
   "outputs": [
    {
     "name": "stderr",
     "output_type": "stream",
     "text": [
      "Prediction progress: 100%|█████████████████████████████████████████████████████████████████████████████████████| 182/182 [00:00<00:00, 520.32sample/s]\n"
     ]
    },
    {
     "ename": "ValueError",
     "evalue": "could not broadcast input array from shape (182,10000,1) into shape (182,1,1)",
     "output_type": "error",
     "traceback": [
      "\u001b[0;31m---------------------------------------------------------------------------\u001b[0m",
      "\u001b[0;31mValueError\u001b[0m                                Traceback (most recent call last)",
      "Cell \u001b[0;32mIn[41], line 2\u001b[0m\n\u001b[1;32m      1\u001b[0m \u001b[38;5;66;03m# Get spectra reconstruction\u001b[39;00m\n\u001b[0;32m----> 2\u001b[0m spectra_recon \u001b[38;5;241m=\u001b[39m \u001b[43mcvae_net\u001b[49m\u001b[38;5;241;43m.\u001b[39;49m\u001b[43mpredict\u001b[49m\u001b[43m(\u001b[49m\u001b[43mx_test\u001b[49m\u001b[43m)\u001b[49m\n",
      "File \u001b[0;32m~/anaconda3/envs/fidle23/lib/python3.9/site-packages/astroNN/models/base_vae.py:703\u001b[0m, in \u001b[0;36mConvVAEBase.predict\u001b[0;34m(self, input_data)\u001b[0m\n\u001b[1;32m    698\u001b[0m         remainder_result \u001b[38;5;241m=\u001b[39m np\u001b[38;5;241m.\u001b[39masarray(\n\u001b[1;32m    699\u001b[0m             \u001b[38;5;28mself\u001b[39m\u001b[38;5;241m.\u001b[39mkeras_model\u001b[38;5;241m.\u001b[39mpredict(remainder_generator, verbose\u001b[38;5;241m=\u001b[39m\u001b[38;5;241m0\u001b[39m)\n\u001b[1;32m    700\u001b[0m         )\n\u001b[1;32m    701\u001b[0m         result \u001b[38;5;241m=\u001b[39m np\u001b[38;5;241m.\u001b[39mconcatenate((result, remainder_result))\n\u001b[0;32m--> 703\u001b[0m \u001b[43mpredictions\u001b[49m\u001b[43m[\u001b[49m\u001b[43m:\u001b[49m\u001b[43m]\u001b[49m \u001b[38;5;241m=\u001b[39m result\n\u001b[1;32m    705\u001b[0m \u001b[38;5;28;01mif\u001b[39;00m \u001b[38;5;28mself\u001b[39m\u001b[38;5;241m.\u001b[39mlabels_normalizer \u001b[38;5;129;01mis\u001b[39;00m \u001b[38;5;129;01mnot\u001b[39;00m \u001b[38;5;28;01mNone\u001b[39;00m:\n\u001b[1;32m    706\u001b[0m     \u001b[38;5;66;03m# TODO: handle named output in the future\u001b[39;00m\n\u001b[1;32m    707\u001b[0m     predictions[:, :, \u001b[38;5;241m0\u001b[39m] \u001b[38;5;241m=\u001b[39m \u001b[38;5;28mself\u001b[39m\u001b[38;5;241m.\u001b[39mlabels_normalizer\u001b[38;5;241m.\u001b[39mdenormalize(\n\u001b[1;32m    708\u001b[0m         list_to_dict(\u001b[38;5;28mself\u001b[39m\u001b[38;5;241m.\u001b[39mkeras_model\u001b[38;5;241m.\u001b[39moutput_names, predictions[:, :, \u001b[38;5;241m0\u001b[39m])\n\u001b[1;32m    709\u001b[0m     )[\u001b[38;5;124m\"\u001b[39m\u001b[38;5;124moutput\u001b[39m\u001b[38;5;124m\"\u001b[39m]\n",
      "\u001b[0;31mValueError\u001b[0m: could not broadcast input array from shape (182,10000,1) into shape (182,1,1)"
     ]
    }
   ],
   "source": [
    "# Get spectra reconstruction\n",
    "spectra_recon = cvae_net.predict(x_test)\n"
   ]
  },
  {
   "cell_type": "code",
   "execution_count": null,
   "id": "ddfc0fee-e533-4c3e-bb31-27d8c674423f",
   "metadata": {},
   "outputs": [],
   "source": []
  }
 ],
 "metadata": {
  "kernelspec": {
   "display_name": "fidle2023",
   "language": "python",
   "name": "fidle2023"
  },
  "language_info": {
   "codemirror_mode": {
    "name": "ipython",
    "version": 3
   },
   "file_extension": ".py",
   "mimetype": "text/x-python",
   "name": "python",
   "nbconvert_exporter": "python",
   "pygments_lexer": "ipython3",
   "version": "3.9.16"
  }
 },
 "nbformat": 4,
 "nbformat_minor": 5
}
