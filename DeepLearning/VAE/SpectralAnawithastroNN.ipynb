{
 "cells": [
  {
   "cell_type": "markdown",
   "id": "26a7d2b2-c9ab-47ad-90d7-b936db916cd9",
   "metadata": {},
   "source": [
    "# Spectral analysis\n",
    "\n",
    "https://astronn.readthedocs.io/en/latest/neuralnets/apogee_cvae.html\n",
    "\n",
    "\n",
    "Try to use astroNN"
   ]
  },
  {
   "cell_type": "code",
   "execution_count": 1,
   "id": "8290a36c-fae8-41fd-8723-c380ea092b13",
   "metadata": {
    "tags": []
   },
   "outputs": [
    {
     "name": "stderr",
     "output_type": "stream",
     "text": [
      "2023-04-13 20:14:54.337686: I tensorflow/core/platform/cpu_feature_guard.cc:182] This TensorFlow binary is optimized to use available CPU instructions in performance-critical operations.\n",
      "To enable the following instructions: AVX2 FMA, in other operations, rebuild TensorFlow with the appropriate compiler flags.\n"
     ]
    }
   ],
   "source": [
    "from astroNN.models import ApogeeCVAE\n",
    "from astroNN.datasets import H5Loader\n",
    "import h5py\n",
    "from sklearn.model_selection import train_test_split\n",
    "import numpy as np"
   ]
  },
  {
   "cell_type": "code",
   "execution_count": 2,
   "id": "ba03e4dd-dc58-4792-8a5b-9bc3cad46f4f",
   "metadata": {
    "tags": []
   },
   "outputs": [],
   "source": [
    "import os\n",
    "import numpy as np\n",
    "import matplotlib.pyplot as plt\n",
    "import matplotlib.colors as colors\n",
    "import matplotlib.cm as cmx\n",
    "\n",
    "from matplotlib.backends.backend_pdf import PdfPages\n",
    "\n",
    "%matplotlib inline"
   ]
  },
  {
   "cell_type": "code",
   "execution_count": 3,
   "id": "56031f77-cd88-4b82-bf52-ebe808344d83",
   "metadata": {
    "tags": []
   },
   "outputs": [],
   "source": [
    "with h5py.File('SLspectra.hdf5', 'r') as hf:\n",
    "    data_in = hf['flambda'][:]\n",
    "    wl_in = hf['wl'][:]"
   ]
  },
  {
   "cell_type": "code",
   "execution_count": 4,
   "id": "85a4897e-e163-49dc-85af-23a855985cb3",
   "metadata": {
    "tags": []
   },
   "outputs": [
    {
     "data": {
      "text/plain": [
       "(550, 10000)"
      ]
     },
     "execution_count": 4,
     "metadata": {},
     "output_type": "execute_result"
    }
   ],
   "source": [
    "data_in.shape"
   ]
  },
  {
   "cell_type": "code",
   "execution_count": 5,
   "id": "5d6e22e4-e470-4886-97e1-d9dfa474a6b4",
   "metadata": {
    "tags": []
   },
   "outputs": [],
   "source": [
    "x_train,x_test=train_test_split(data_in,test_size=0.33, random_state=42)"
   ]
  },
  {
   "cell_type": "code",
   "execution_count": 6,
   "id": "b37fe463-8ccc-4445-b2c3-b02b2dfd84e7",
   "metadata": {
    "tags": []
   },
   "outputs": [],
   "source": [
    "y_train = np.random.randint(2, size=x_train.shape[0])\n",
    "y_test = np.random.randint(2, size=x_test.shape[0])"
   ]
  },
  {
   "cell_type": "code",
   "execution_count": 7,
   "id": "4ced33f0-b5ee-4354-b761-69739c296dd2",
   "metadata": {
    "tags": []
   },
   "outputs": [],
   "source": [
    "# And then create an object of Bayesian Convolutional Neural Network classs\n",
    "cvae_net = ApogeeCVAE()\n",
    "\n",
    "# Set max_epochs to 10 for a quick result. You should train more epochs normally, especially with dropout\n",
    "cvae_net.max_epochs = 10\n"
   ]
  },
  {
   "cell_type": "code",
   "execution_count": 8,
   "id": "4053c237-f462-4455-93d7-4e8813aa3c4b",
   "metadata": {
    "tags": []
   },
   "outputs": [
    {
     "name": "stderr",
     "output_type": "stream",
     "text": [
      "/var/folders/rk/cnrspsj13_3cgmh8p4m_mxww0000gp/T/ipykernel_92558/1617019894.py:1: UserWarning: Call to function train() is deprecated and will be removed in future. Use fit() instead.\n"
     ]
    },
    {
     "name": "stdout",
     "output_type": "stream",
     "text": [
      "Number of Training Data: 332, Number of Validation Data: 36\n",
      "====Message from Normalizer====\n",
      "You selected mode: 2\n",
      "Featurewise Center: {'input': True}\n",
      "Datawise Center: {'input': False} \n",
      "Featurewise std Center: {'input': True}\n",
      "Datawise std Center: {'input': False} \n",
      "====Message ends====\n",
      "====Message from Normalizer====\n",
      "You selected mode: 2\n",
      "Featurewise Center: {'output': True}\n",
      "Datawise Center: {'output': False} \n",
      "Featurewise std Center: {'output': True}\n",
      "Datawise std Center: {'output': False} \n",
      "====Message ends====\n",
      "Epoch 1/10\n"
     ]
    },
    {
     "name": "stderr",
     "output_type": "stream",
     "text": [
      "2023-04-13 20:15:08.206690: I tensorflow/core/common_runtime/executor.cc:1197] [/device:CPU:0] (DEBUG INFO) Executor start aborting (this does not indicate an error and you can ignore this message): INVALID_ARGUMENT: You must feed a value for placeholder tensor 'Placeholder/_0' with dtype int32\n",
      "\t [[{{node Placeholder/_0}}]]\n",
      "2023-04-13 20:15:13.851311: I tensorflow/core/common_runtime/executor.cc:1197] [/device:CPU:0] (DEBUG INFO) Executor start aborting (this does not indicate an error and you can ignore this message): INVALID_ARGUMENT: You must feed a value for placeholder tensor 'Placeholder/_0' with dtype int32\n",
      "\t [[{{node Placeholder/_0}}]]\n"
     ]
    },
    {
     "name": "stdout",
     "output_type": "stream",
     "text": [
      "5/5 - 11s - loss: 56326028.0000 - reconstruction_loss: 56321784.0000 - kl_loss: 4241.0850 - val_loss: 145462.6875 - val_reconstruction_loss: 145457.5000 - val_kl_loss: 5.1847 - lr: 5.0000e-04 - 11s/epoch - 2s/step\n",
      "Epoch 2/10\n",
      "5/5 - 7s - loss: 1427546.7500 - reconstruction_loss: 1427517.7500 - kl_loss: 28.9766 - val_loss: 133709.0625 - val_reconstruction_loss: 133701.3594 - val_kl_loss: 7.7004 - lr: 5.0000e-04 - 7s/epoch - 1s/step\n",
      "Epoch 3/10\n",
      "5/5 - 7s - loss: 991264.1875 - reconstruction_loss: 991233.8125 - kl_loss: 30.3606 - val_loss: 74064.9766 - val_reconstruction_loss: 74057.5234 - val_kl_loss: 7.4570 - lr: 5.0000e-04 - 7s/epoch - 1s/step\n",
      "Epoch 4/10\n",
      "5/5 - 7s - loss: 980714.6875 - reconstruction_loss: 980681.6250 - kl_loss: 33.1212 - val_loss: 35672.0625 - val_reconstruction_loss: 35665.1992 - val_kl_loss: 6.8644 - lr: 5.0000e-04 - 7s/epoch - 1s/step\n",
      "Epoch 5/10\n",
      "5/5 - 7s - loss: 853375.0000 - reconstruction_loss: 853344.5000 - kl_loss: 30.5387 - val_loss: 30518.9258 - val_reconstruction_loss: 30511.9531 - val_kl_loss: 6.9721 - lr: 5.0000e-04 - 7s/epoch - 1s/step\n",
      "Epoch 6/10\n",
      "5/5 - 7s - loss: 863288.1875 - reconstruction_loss: 863258.1250 - kl_loss: 30.1403 - val_loss: 24194.6816 - val_reconstruction_loss: 24187.7988 - val_kl_loss: 6.8834 - lr: 5.0000e-04 - 7s/epoch - 1s/step\n",
      "Epoch 7/10\n",
      "5/5 - 7s - loss: 831333.3125 - reconstruction_loss: 831302.6250 - kl_loss: 30.7240 - val_loss: 25251.5059 - val_reconstruction_loss: 25244.4180 - val_kl_loss: 7.0884 - lr: 5.0000e-04 - 7s/epoch - 1s/step\n",
      "Epoch 8/10\n",
      "5/5 - 7s - loss: 660573.2500 - reconstruction_loss: 660546.2500 - kl_loss: 27.0152 - val_loss: 31043.0918 - val_reconstruction_loss: 31035.7305 - val_kl_loss: 7.3608 - lr: 5.0000e-04 - 7s/epoch - 1s/step\n",
      "Epoch 9/10\n",
      "5/5 - 7s - loss: 775290.3750 - reconstruction_loss: 775258.0625 - kl_loss: 32.4070 - val_loss: 29334.9160 - val_reconstruction_loss: 29327.6211 - val_kl_loss: 7.2943 - lr: 5.0000e-04 - 7s/epoch - 1s/step\n",
      "Epoch 10/10\n",
      "5/5 - 7s - loss: 688766.6875 - reconstruction_loss: 688738.6250 - kl_loss: 28.1340 - val_loss: 29530.7246 - val_reconstruction_loss: 29523.3516 - val_kl_loss: 7.3734 - lr: 5.0000e-04 - 7s/epoch - 1s/step\n",
      "Completed Training, 74.24s in total\n"
     ]
    }
   ],
   "source": [
    "cvae_net.train(x_train,y_train)"
   ]
  },
  {
   "cell_type": "code",
   "execution_count": 9,
   "id": "a8e21dc0-0892-497f-a1fb-78931ccc3ba2",
   "metadata": {
    "tags": []
   },
   "outputs": [
    {
     "name": "stderr",
     "output_type": "stream",
     "text": [
      "/var/folders/rk/cnrspsj13_3cgmh8p4m_mxww0000gp/T/ipykernel_92558/1917556474.py:2: UserWarning: Call to function test_encoder() is deprecated and will be removed in future. Use predict_encoder() instead.\n",
      "Prediction progress:   0%|                                                                                                                          | 0/182 [00:00<?, ?sample/s]2023-04-13 20:16:22.475694: I tensorflow/core/common_runtime/executor.cc:1197] [/device:CPU:0] (DEBUG INFO) Executor start aborting (this does not indicate an error and you can ignore this message): INVALID_ARGUMENT: You must feed a value for placeholder tensor 'Placeholder/_0' with dtype int32\n",
      "\t [[{{node Placeholder/_0}}]]\n",
      "Prediction progress: 100%|███████████████████████████████████████████████████████████████████████████████████████████████████████████████| 182/182 [00:00<00:00, 357.50sample/s]\n"
     ]
    }
   ],
   "source": [
    "# Get latent space representation\n",
    "latent_space_value = cvae_net.test_encoder(x_test)[0]"
   ]
  },
  {
   "cell_type": "code",
   "execution_count": 10,
   "id": "dd8eb250-f745-4f42-994a-0884ea3b6712",
   "metadata": {
    "tags": []
   },
   "outputs": [
    {
     "data": {
      "text/plain": [
       "array([[-2.02482507e-01, -6.12958848e-01],\n",
       "       [-7.83507645e-01, -1.49024856e+00],\n",
       "       [-1.99780278e-02,  1.76896662e-01],\n",
       "       [-1.10787965e-01, -2.44429603e-01],\n",
       "       [-1.31605789e-01, -2.71997094e-01],\n",
       "       [-1.02430975e+00, -1.72023284e+00],\n",
       "       [-1.18265617e+00, -1.92975986e+00],\n",
       "       [-1.43135473e-01, -1.70968115e-01],\n",
       "       [ 6.90654442e-02, -1.52117051e-02],\n",
       "       [-4.62272912e-01, -1.46754539e+00],\n",
       "       [-6.18778288e-01,  1.92080438e-01],\n",
       "       [-1.14474082e+00, -1.89506423e+00],\n",
       "       [-4.90256518e-01, -3.62721324e-01],\n",
       "       [-9.26965177e-01, -1.77342260e+00],\n",
       "       [-1.75423935e-01, -2.24309802e-01],\n",
       "       [-3.18078607e-01, -1.65105730e-01],\n",
       "       [-1.33896694e-01, -1.47395790e-01],\n",
       "       [-1.76578104e-01, -1.71196498e-02],\n",
       "       [-9.56277311e-01, -1.56010187e+00],\n",
       "       [-7.85042822e-01, -1.53019321e+00],\n",
       "       [ 1.38434842e-01, -4.15375121e-02],\n",
       "       [-7.50811875e-01, -1.09925401e+00],\n",
       "       [-5.75028181e-01, -1.02502286e+00],\n",
       "       [-1.44804612e-01, -2.03446880e-01],\n",
       "       [-3.01055521e-01, -3.41877878e-01],\n",
       "       [ 2.55024642e-01,  3.26205902e-02],\n",
       "       [-2.10103802e-02,  5.10561280e-02],\n",
       "       [-2.74116606e-01, -3.62275511e-01],\n",
       "       [-6.39893115e-01, -3.58566225e-01],\n",
       "       [ 8.05563554e-02,  1.01424225e-01],\n",
       "       [ 6.60566315e-02,  1.27625763e-01],\n",
       "       [-9.84903395e-01, -1.67095172e+00],\n",
       "       [-1.01055443e+00, -1.84356010e+00],\n",
       "       [-4.51223068e-02,  5.41530512e-02],\n",
       "       [-9.67371836e-02, -1.89830408e-01],\n",
       "       [-1.20402813e+00, -1.98014390e+00],\n",
       "       [-7.91662753e-01, -1.41377866e+00],\n",
       "       [-9.28898513e-01, -1.68032300e+00],\n",
       "       [-1.40668914e-01, -9.09043700e-02],\n",
       "       [ 3.19317915e-02, -4.87728007e-02],\n",
       "       [-4.40000504e-01, -9.23284829e-01],\n",
       "       [-9.23773181e-03,  1.47094712e-01],\n",
       "       [-1.95437938e-01,  1.54082626e-01],\n",
       "       [-1.62728533e-01, -4.88838732e-01],\n",
       "       [-4.51804966e-01, -1.31451118e+00],\n",
       "       [-6.22169338e-02, -5.76068135e-03],\n",
       "       [ 1.93798132e-02, -9.11302492e-02],\n",
       "       [-6.35441244e-01, -1.34294832e+00],\n",
       "       [-5.30448616e-01, -1.36964738e+00],\n",
       "       [-2.98677474e-01, -4.57957596e-01],\n",
       "       [-3.30169857e-01,  1.93590522e-01],\n",
       "       [-2.15506658e-01, -3.69561315e-01],\n",
       "       [-8.65098312e-02, -1.07124902e-01],\n",
       "       [-7.80611113e-02, -6.27686456e-02],\n",
       "       [-1.98586777e-01, -2.96635926e-01],\n",
       "       [ 1.41542301e-01, -8.39340463e-02],\n",
       "       [-2.67036080e-01, -2.37609267e-01],\n",
       "       [-3.61709744e-01,  3.18949968e-01],\n",
       "       [-7.78049290e-01, -1.50447738e+00],\n",
       "       [-9.98768985e-01, -1.74328840e+00],\n",
       "       [-1.54196367e-01, -1.99021742e-01],\n",
       "       [-2.84941912e-01, -2.16863006e-01],\n",
       "       [-1.10843696e-01, -6.08984292e-01],\n",
       "       [ 1.23495452e-01, -3.92757840e-02],\n",
       "       [ 3.01095814e-01, -1.25922747e-02],\n",
       "       [-1.73180923e-01, -1.23770244e-01],\n",
       "       [-1.10969901e+00, -1.79434526e+00],\n",
       "       [-1.12450707e+00, -1.90436590e+00],\n",
       "       [-1.00161529e+00, -1.77433622e+00],\n",
       "       [-7.05829799e-01, -1.46122205e+00],\n",
       "       [-8.25741231e-01, -1.56038272e+00],\n",
       "       [ 2.39166573e-01,  3.91178615e-02],\n",
       "       [-2.33102903e-01, -3.13473403e-01],\n",
       "       [ 3.29187922e-02,  1.11073740e-02],\n",
       "       [-3.75489980e-01,  3.36556971e-01],\n",
       "       [-6.64978400e-02, -1.78678766e-01],\n",
       "       [-1.01137555e+00, -1.62054956e+00],\n",
       "       [-5.32266736e-01, -1.59591424e+00],\n",
       "       [-3.35852265e-01, -3.76432091e-01],\n",
       "       [ 1.30951300e-01,  2.12079942e-01],\n",
       "       [-5.12040369e-02, -1.24948211e-01],\n",
       "       [-2.95046657e-01, -4.13408250e-01],\n",
       "       [-7.27248847e-01, -1.47329128e+00],\n",
       "       [-6.40366495e-01, -1.42756021e+00],\n",
       "       [-8.16062033e-01, -1.54864061e+00],\n",
       "       [-7.84845054e-01, -1.34530342e+00],\n",
       "       [-6.39967263e-01, -1.11703050e+00],\n",
       "       [-1.94028065e-01, -2.30324253e-01],\n",
       "       [-9.56078589e-01, -1.72022092e+00],\n",
       "       [-1.00729927e-01, -1.06784679e-01],\n",
       "       [ 1.09225260e-02, -9.39718708e-02],\n",
       "       [-9.01430026e-02, -2.09326297e-01],\n",
       "       [-6.95873857e-01, -1.78476894e+00],\n",
       "       [-7.63284862e-01, -1.49671447e+00],\n",
       "       [-6.86004579e-01, -1.03764665e+00],\n",
       "       [-5.96828520e-01,  3.81399691e-01],\n",
       "       [-3.10013980e-01, -2.62421936e-01],\n",
       "       [-1.95907816e-01, -3.28054309e-01],\n",
       "       [-4.77554016e-02, -1.48377448e-01],\n",
       "       [-1.27310944e+00, -2.07057977e+00],\n",
       "       [-1.32216558e-01, -4.04741317e-01],\n",
       "       [-3.58638704e-01,  4.14694041e-01],\n",
       "       [-9.98530805e-01, -1.81918514e+00],\n",
       "       [-1.09367037e+00, -1.82363451e+00],\n",
       "       [ 5.85387535e-02,  9.98065174e-02],\n",
       "       [-2.89310694e-01, -2.97549635e-01],\n",
       "       [-2.09183976e-01, -1.09919049e-02],\n",
       "       [-3.17175537e-01, -3.15722495e-01],\n",
       "       [-1.83599994e-01, -3.29785973e-01],\n",
       "       [ 1.36427775e-01, -1.28726847e-02],\n",
       "       [ 1.28284590e-02, -1.07159726e-01],\n",
       "       [-2.49408141e-01,  2.88110552e-03],\n",
       "       [-2.09898978e-01, -5.71770489e-01],\n",
       "       [-1.24480486e+00, -2.02780986e+00],\n",
       "       [-6.57243311e-01, -3.06979477e-01],\n",
       "       [ 1.59180835e-01,  5.44136427e-02],\n",
       "       [-2.80110538e-01, -2.54288495e-01],\n",
       "       [-2.14367375e-01, -3.00505400e-01],\n",
       "       [-4.10346657e-01, -9.11491930e-01],\n",
       "       [ 1.16064332e-01,  6.22646771e-02],\n",
       "       [-2.11538270e-01, -2.43624628e-01],\n",
       "       [-1.34008676e-01, -6.48856536e-02],\n",
       "       [-2.43400142e-01, -3.34083885e-01],\n",
       "       [-8.10724869e-02, -1.23116560e-01],\n",
       "       [-1.08424520e+00, -1.84184539e+00],\n",
       "       [-2.77784079e-01, -2.23287985e-01],\n",
       "       [-6.65590048e-01, -1.13468087e+00],\n",
       "       [-5.11269093e-01, -2.22798496e-01],\n",
       "       [-7.86326468e-01, -1.06338274e+00],\n",
       "       [-1.31434083e+00, -2.16264081e+00],\n",
       "       [-8.85488689e-01, -1.60985363e+00],\n",
       "       [-1.43905118e-01, -3.36190201e-02],\n",
       "       [-3.33574623e-01, -1.36380628e-01],\n",
       "       [-4.04827654e-01, -1.33619630e+00],\n",
       "       [-5.71334779e-01, -1.39789426e+00],\n",
       "       [-8.58740881e-02, -5.05688973e-02],\n",
       "       [-1.33920684e-01, -1.51652306e-01],\n",
       "       [ 5.83693795e-02,  2.87657790e-02],\n",
       "       [ 9.75162908e-02,  9.54803452e-03],\n",
       "       [-2.38771126e-01, -3.24671902e-02],\n",
       "       [-6.30359352e-01, -1.41520584e+00],\n",
       "       [-5.03057659e-01, -4.96822774e-01],\n",
       "       [-4.34544086e-01, -9.54428256e-01],\n",
       "       [-1.20643806e-03, -3.27580310e-02],\n",
       "       [-5.92912734e-01, -1.35487688e+00],\n",
       "       [-1.44748911e-01, -2.42616266e-01],\n",
       "       [-9.21817601e-01, -1.69328487e+00],\n",
       "       [-2.21468911e-01,  2.32725084e-01],\n",
       "       [-6.29054368e-01, -1.74097955e+00],\n",
       "       [-3.13521475e-01, -2.91743487e-01],\n",
       "       [-6.04597807e-01, -7.62408316e-01],\n",
       "       [-4.86848623e-01, -1.44999015e+00],\n",
       "       [-6.80950060e-02, -5.07772304e-02],\n",
       "       [-8.34802210e-01, -1.53065240e+00],\n",
       "       [-1.30079642e-01,  1.08857565e-02],\n",
       "       [-6.42812788e-01, -4.62516606e-01],\n",
       "       [-4.78295952e-01, -1.30537498e+00],\n",
       "       [ 2.95775104e-03, -3.41742523e-02],\n",
       "       [-2.53758788e-01, -2.68714398e-01],\n",
       "       [-5.37508368e-01, -1.67497623e+00],\n",
       "       [-4.92506295e-01, -1.29196584e+00],\n",
       "       [-6.28230751e-01, -1.42159498e+00],\n",
       "       [-1.17363036e+00, -1.94266307e+00],\n",
       "       [-1.41255423e-01, -1.25134408e-01],\n",
       "       [-6.77592307e-02,  3.04569721e-01],\n",
       "       [-1.19636275e-01, -2.63406634e-01],\n",
       "       [-1.10088813e+00, -1.91876972e+00],\n",
       "       [-8.78489554e-01, -1.62696588e+00],\n",
       "       [-2.15830937e-01, -2.76906669e-01],\n",
       "       [-8.27462971e-01, -1.39922655e+00],\n",
       "       [-5.58149695e-01, -3.27670753e-01],\n",
       "       [-4.23663169e-01, -8.35450709e-01],\n",
       "       [-7.37012699e-02, -2.26606473e-01],\n",
       "       [-5.36209524e-01, -1.39269817e+00],\n",
       "       [-2.40909621e-01, -2.34571040e-01],\n",
       "       [ 2.00459614e-01,  3.83285759e-03],\n",
       "       [-4.31908250e-01, -2.71113932e-01],\n",
       "       [-5.29635370e-01, -1.58641326e+00],\n",
       "       [-7.23346651e-01, -1.42979848e+00],\n",
       "       [ 1.07633866e-01,  9.21472535e-02],\n",
       "       [-1.66937456e-01, -5.26621826e-02],\n",
       "       [-9.76975933e-02, -1.94047302e-01]])"
      ]
     },
     "execution_count": 10,
     "metadata": {},
     "output_type": "execute_result"
    }
   ],
   "source": [
    "latent_space_value"
   ]
  },
  {
   "cell_type": "code",
   "execution_count": 11,
   "id": "b8b92baf-af76-4a0c-ae5d-fa6d14c87c8b",
   "metadata": {
    "tags": []
   },
   "outputs": [
    {
     "data": {
      "image/png": "[encoded data removed]",
      "text/plain": [
       "<Figure size 640x480 with 1 Axes>"
      ]
     },
     "metadata": {},
     "output_type": "display_data"
    }
   ],
   "source": [
    "plt.scatter(latent_space_value[:,0],latent_space_value[:,1])\n",
    "plt.show()"
   ]
  },
  {
   "cell_type": "code",
   "execution_count": 12,
   "id": "fe90e4d0-7eb5-49f4-b00f-77e344b73ef8",
   "metadata": {
    "tags": []
   },
   "outputs": [
    {
     "name": "stderr",
     "output_type": "stream",
     "text": [
      "Prediction progress:   0%|                                                                                                                          | 0/182 [00:00<?, ?sample/s]2023-04-13 20:16:23.290191: I tensorflow/core/common_runtime/executor.cc:1197] [/device:CPU:0] (DEBUG INFO) Executor start aborting (this does not indicate an error and you can ignore this message): INVALID_ARGUMENT: You must feed a value for placeholder tensor 'Placeholder/_0' with dtype int32\n",
      "\t [[{{node Placeholder/_0}}]]\n",
      "Prediction progress: 100%|███████████████████████████████████████████████████████████████████████████████████████████████████████████████| 182/182 [00:00<00:00, 462.27sample/s]2023-04-13 20:16:23.674543: I tensorflow/core/common_runtime/executor.cc:1197] [/device:CPU:0] (DEBUG INFO) Executor start aborting (this does not indicate an error and you can ignore this message): INVALID_ARGUMENT: You must feed a value for placeholder tensor 'Placeholder/_0' with dtype int32\n",
      "\t [[{{node Placeholder/_0}}]]\n",
      "Prediction progress: 100%|███████████████████████████████████████████████████████████████████████████████████████████████████████████████| 182/182 [00:00<00:00, 353.55sample/s]\n"
     ]
    },
    {
     "ename": "ValueError",
     "evalue": "could not broadcast input array from shape (182,10000,1) into shape (182,1,1)",
     "output_type": "error",
     "traceback": [
      "\u001b[0;31m---------------------------------------------------------------------------\u001b[0m",
      "\u001b[0;31mValueError\u001b[0m                                Traceback (most recent call last)",
      "Cell \u001b[0;32mIn[12], line 2\u001b[0m\n\u001b[1;32m      1\u001b[0m \u001b[38;5;66;03m# Get spectra reconstruction\u001b[39;00m\n\u001b[0;32m----> 2\u001b[0m spectra_recon \u001b[38;5;241m=\u001b[39m \u001b[43mcvae_net\u001b[49m\u001b[38;5;241;43m.\u001b[39;49m\u001b[43mpredict\u001b[49m\u001b[43m(\u001b[49m\u001b[43mx_test\u001b[49m\u001b[43m)\u001b[49m\n",
      "File \u001b[0;32m~/anaconda3/envs/astronn/lib/python3.9/site-packages/astroNN/models/base_vae.py:703\u001b[0m, in \u001b[0;36mConvVAEBase.predict\u001b[0;34m(self, input_data)\u001b[0m\n\u001b[1;32m    698\u001b[0m         remainder_result \u001b[38;5;241m=\u001b[39m np\u001b[38;5;241m.\u001b[39masarray(\n\u001b[1;32m    699\u001b[0m             \u001b[38;5;28mself\u001b[39m\u001b[38;5;241m.\u001b[39mkeras_model\u001b[38;5;241m.\u001b[39mpredict(remainder_generator, verbose\u001b[38;5;241m=\u001b[39m\u001b[38;5;241m0\u001b[39m)\n\u001b[1;32m    700\u001b[0m         )\n\u001b[1;32m    701\u001b[0m         result \u001b[38;5;241m=\u001b[39m np\u001b[38;5;241m.\u001b[39mconcatenate((result, remainder_result))\n\u001b[0;32m--> 703\u001b[0m \u001b[43mpredictions\u001b[49m\u001b[43m[\u001b[49m\u001b[43m:\u001b[49m\u001b[43m]\u001b[49m \u001b[38;5;241m=\u001b[39m result\n\u001b[1;32m    705\u001b[0m \u001b[38;5;28;01mif\u001b[39;00m \u001b[38;5;28mself\u001b[39m\u001b[38;5;241m.\u001b[39mlabels_normalizer \u001b[38;5;129;01mis\u001b[39;00m \u001b[38;5;129;01mnot\u001b[39;00m \u001b[38;5;28;01mNone\u001b[39;00m:\n\u001b[1;32m    706\u001b[0m     \u001b[38;5;66;03m# TODO: handle named output in the future\u001b[39;00m\n\u001b[1;32m    707\u001b[0m     predictions[:, :, \u001b[38;5;241m0\u001b[39m] \u001b[38;5;241m=\u001b[39m \u001b[38;5;28mself\u001b[39m\u001b[38;5;241m.\u001b[39mlabels_normalizer\u001b[38;5;241m.\u001b[39mdenormalize(\n\u001b[1;32m    708\u001b[0m         list_to_dict(\u001b[38;5;28mself\u001b[39m\u001b[38;5;241m.\u001b[39mkeras_model\u001b[38;5;241m.\u001b[39moutput_names, predictions[:, :, \u001b[38;5;241m0\u001b[39m])\n\u001b[1;32m    709\u001b[0m     )[\u001b[38;5;124m\"\u001b[39m\u001b[38;5;124moutput\u001b[39m\u001b[38;5;124m\"\u001b[39m]\n",
      "\u001b[0;31mValueError\u001b[0m: could not broadcast input array from shape (182,10000,1) into shape (182,1,1)"
     ]
    }
   ],
   "source": [
    "# Get spectra reconstruction\n",
    "spectra_recon = cvae_net.predict(x_test)\n"
   ]
  },
  {
   "cell_type": "code",
   "execution_count": null,
   "id": "ddfc0fee-e533-4c3e-bb31-27d8c674423f",
   "metadata": {},
   "outputs": [],
   "source": []
  }
 ],
 "metadata": {
  "kernelspec": {
   "display_name": "astronn",
   "language": "python",
   "name": "astronn"
  },
  "language_info": {
   "codemirror_mode": {
    "name": "ipython",
    "version": 3
   },
   "file_extension": ".py",
   "mimetype": "text/x-python",
   "name": "python",
   "nbconvert_exporter": "python",
   "pygments_lexer": "ipython3",
   "version": "3.9.16"
  }
 },
 "nbformat": 4,
 "nbformat_minor": 5
}
