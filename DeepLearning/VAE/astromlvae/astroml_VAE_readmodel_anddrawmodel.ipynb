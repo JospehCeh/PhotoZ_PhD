{
 "cells": [
  {
   "cell_type": "markdown",
   "id": "af960c62-3339-4746-83cb-46e9e5dcef36",
   "metadata": {},
   "source": [
    "# Read Model VAE from astroml and Draw the model\n",
    "\n",
    "https://www.astroml.org/book_figures/chapter9/fig_sdss_vae.html\n",
    "\n",
    "\n",
    "- creation 2023-04-24\n"
   ]
  },
  {
   "cell_type": "code",
   "execution_count": 1,
   "id": "2ad90acc-a577-4eaf-9492-1d41661651b9",
   "metadata": {
    "tags": []
   },
   "outputs": [
    {
     "name": "stderr",
     "output_type": "stream",
     "text": [
      "2023-04-24 16:25:47.711753: I tensorflow/core/platform/cpu_feature_guard.cc:193] This TensorFlow binary is optimized with oneAPI Deep Neural Network Library (oneDNN) to use the following CPU instructions in performance-critical operations:  AVX2 FMA\n",
      "To enable them in other operations, rebuild TensorFlow with the appropriate compiler flags.\n",
      "/Users/dagoret/opt/anaconda3/envs/fidle23/lib/python3.9/site-packages/astroML/linear_model/linear_regression_errors.py:10: UserWarning: LinearRegressionwithErrors requires PyMC3 to be installed\n",
      "  warnings.warn('LinearRegressionwithErrors requires PyMC3 to be installed')\n"
     ]
    }
   ],
   "source": [
    "from matplotlib import pyplot as plt\n",
    "import matplotlib.colors as colors\n",
    "import matplotlib.cm as cmx\n",
    "\n",
    "# Import some generally useful packages\n",
    "\n",
    "\n",
    "\n",
    "import numpy as np\n",
    "import torch\n",
    "import torch.nn as nn\n",
    "import torch.nn.functional as F\n",
    "import torch.utils.data as torchdata\n",
    "\n",
    "from torch.utils.tensorboard import SummaryWriter\n",
    "from torchviz import make_dot\n",
    "\n",
    "\n",
    "#from astroML.datasets import sdss_corrected_spectra\n",
    "\n",
    "# This function adjusts matplotlib settings for a uniform feel in the textbook.\n",
    "# Note that with usetex=True, fonts are rendered with LaTeX.  This may\n",
    "# result in an error if LaTeX is not installed on your system.  In that case,\n",
    "# you can set usetex to False.\n",
    "from astroML.plotting import setup_text_plots\n",
    "setup_text_plots(fontsize=8, usetex=True)"
   ]
  },
  {
   "cell_type": "code",
   "execution_count": 2,
   "id": "f1aaf3dc-1b95-476e-8913-15d988ff171e",
   "metadata": {
    "tags": []
   },
   "outputs": [],
   "source": [
    "# to enlarge the sizes\n",
    "params = {'legend.fontsize': 'xx-large',\n",
    "          'figure.figsize': (8, 8),\n",
    "         'axes.labelsize': 'xx-large',\n",
    "         'axes.titlesize':'xx-large',\n",
    "         'xtick.labelsize':'xx-large',\n",
    "         'ytick.labelsize':'xx-large'}\n",
    "plt.rcParams.update(params)\n"
   ]
  },
  {
   "cell_type": "code",
   "execution_count": 3,
   "id": "cedd9a15-56da-4f4d-973e-d24d1dbaca8f",
   "metadata": {},
   "outputs": [],
   "source": [
    "from sklearn.model_selection import train_test_split\n",
    "import h5py"
   ]
  },
  {
   "cell_type": "code",
   "execution_count": 4,
   "id": "41e47e71-9727-4113-91a1-870f65773f47",
   "metadata": {},
   "outputs": [],
   "source": [
    "WL_BALMER_BREAK= 3646.0 "
   ]
  },
  {
   "cell_type": "code",
   "execution_count": 5,
   "id": "ee3a640e-f93f-420f-89f8-93feaf7ced7f",
   "metadata": {},
   "outputs": [
    {
     "name": "stdout",
     "output_type": "stream",
     "text": [
      "<KeysViewHDF5 ['Nsp', 'RT', 'RV', 'Rmag', 'dec', 'eRV', 'flambda', 'fracinfbalmer', 'num', 'quantile', 'ra', 'redshift', 'wl']>\n"
     ]
    }
   ],
   "source": [
    "hf = h5py.File('SLspectra.hdf5', 'r') \n",
    "data_in = hf['flambda'][:]\n",
    "wl_in = hf['wl'][:]\n",
    "target = hf['quantile'][:]\n",
    "\n",
    "# other data\n",
    "redshift = hf['redshift'][:]\n",
    "Rmag = hf['Rmag'][:]\n",
    "RT = hf['RT'][:]\n",
    "RV = hf['RV'][:]\n",
    "ra = hf['ra'][:]\n",
    "dec = hf['dec'][:]\n",
    "fracinfbalmer = hf['fracinfbalmer'][:]\n",
    "print(hf.keys())"
   ]
  },
  {
   "cell_type": "code",
   "execution_count": 6,
   "id": "7d26d481-adfc-4f70-9259-d95f79e5a734",
   "metadata": {},
   "outputs": [],
   "source": [
    "WL = wl_in\n",
    "NWL = data_in.shape[1]\n",
    "NSAMPL = data_in.shape[0]"
   ]
  },
  {
   "cell_type": "code",
   "execution_count": 7,
   "id": "6633b19b-e605-4031-9642-035ce2be5b66",
   "metadata": {},
   "outputs": [],
   "source": [
    "idx_blue = np.where (WL<WL_BALMER_BREAK)[0]\n",
    "idx_red = np.where (WL>=WL_BALMER_BREAK)[0]\n",
    "wl_blue = WL[idx_blue]\n",
    "wl_red = WL[idx_red]"
   ]
  },
  {
   "cell_type": "code",
   "execution_count": 8,
   "id": "82a9c175-3d8c-4f6a-8525-27b8da98197e",
   "metadata": {},
   "outputs": [],
   "source": [
    "#x_train, x_test, y_train, y_test = train_test_split(data_in,\n",
    "#                                          target,\n",
    "#                                          test_size=0.2)"
   ]
  },
  {
   "cell_type": "code",
   "execution_count": 9,
   "id": "97401f9f-2c15-4238-a186-0308c0360bcf",
   "metadata": {
    "tags": []
   },
   "outputs": [],
   "source": [
    "# Fetch and prepare the data\n",
    "#data = sdss_corrected_spectra.fetch_sdss_corrected_spectra()\n",
    "#spectra = sdss_corrected_spectra.reconstruct_spectra(data)\n",
    "#wavelengths = sdss_corrected_spectra.compute_wavelengths(data)\n",
    "\n",
    "spectra = data_in\n",
    "wavelengths = wl_in\n",
    "\n",
    "# normalize spectra by integrated flux and subtract out mean, for easier training\n",
    "spectranorms = np.mean(spectra, axis=1)\n",
    "normedspectra = spectra / spectranorms[:, None]\n",
    "\n",
    "#already normalized spectra in prepareData, but it does not work ????\n",
    "#normedspectra = spectra\n",
    "\n",
    "meanspectrum = np.mean(normedspectra, axis=0)\n",
    "normedspectra -= meanspectrum[None, :]\n",
    "\n",
    "# split data into 3:1 train:test\n",
    "torch.manual_seed(802)  # seed used for book figure\n",
    "dataset = torchdata.TensorDataset(torch.tensor(normedspectra))\n",
    "trainnum = normedspectra.shape[0] // 4 * 3\n",
    "traindata, testdata = torchdata.random_split(dataset, [trainnum, normedspectra.shape[0] - trainnum])\n",
    "traindataloader = torchdata.DataLoader(traindata, batch_size=64, shuffle=True)"
   ]
  },
  {
   "cell_type": "markdown",
   "id": "ac87f4e5-d50a-49b0-9539-7327298ae659",
   "metadata": {},
   "source": [
    "# Definition of VAE model "
   ]
  },
  {
   "cell_type": "code",
   "execution_count": 10,
   "id": "e826c231-15d8-4051-afa5-36739abd418d",
   "metadata": {
    "tags": []
   },
   "outputs": [],
   "source": [
    "# define structure of variation autoencoder\n",
    "class VAE(nn.Module):\n",
    "    def __init__(self, nhidden=250):\n",
    "        super(VAE, self).__init__()\n",
    "\n",
    "        self.encode_fc = nn.Linear(NWL, nhidden)\n",
    "        self.mu        = nn.Linear(nhidden, 2)\n",
    "        self.logvar    = nn.Linear(nhidden, 2)\n",
    "\n",
    "        self.decode_fc = nn.Linear(2, nhidden)\n",
    "        self.output    = nn.Linear(nhidden, NWL)\n",
    "\n",
    "    def encode(self, x):\n",
    "        h = F.relu(self.encode_fc(x))\n",
    "        return self.mu(h), self.logvar(h)\n",
    "\n",
    "    def reparameterize(self, mu, logvar):\n",
    "        std = torch.exp(0.5*logvar)\n",
    "        eps = torch.randn_like(std)\n",
    "        return eps.mul(std).add_(mu)\n",
    "\n",
    "    def decode(self, z):\n",
    "        h = F.relu(self.decode_fc(z))\n",
    "        return self.output(h)\n",
    "\n",
    "    def forward(self, x):\n",
    "        mu, logvar = self.encode(x)\n",
    "        z = self.reparameterize(mu, logvar)\n",
    "        return self.decode(z), mu, logvar\n",
    "\n"
   ]
  },
  {
   "cell_type": "markdown",
   "id": "5ae05324-ed6f-4bce-93a2-b33e2d8fe598",
   "metadata": {},
   "source": [
    "## Read model"
   ]
  },
  {
   "cell_type": "code",
   "execution_count": 11,
   "id": "34473416-d319-4d9b-8557-9bddc39c1647",
   "metadata": {
    "tags": []
   },
   "outputs": [],
   "source": [
    "#torch.save(model,\"modelvae_fromastroml_pytorch_v1.pth\")\n",
    "#torch.save(model.state_dict(),\"modelvae_fromastroml_pytorch_v2.pth\")"
   ]
  },
  {
   "cell_type": "code",
   "execution_count": 12,
   "id": "4fc98b79-3cf6-4401-8ec8-b745eb3d7878",
   "metadata": {
    "tags": []
   },
   "outputs": [],
   "source": [
    "model = VAE()"
   ]
  },
  {
   "cell_type": "code",
   "execution_count": 13,
   "id": "927209ac-52de-43a5-976b-45ae44b31bcd",
   "metadata": {},
   "outputs": [
    {
     "data": {
      "text/plain": [
       "<All keys matched successfully>"
      ]
     },
     "execution_count": 13,
     "metadata": {},
     "output_type": "execute_result"
    }
   ],
   "source": [
    "model.load_state_dict(torch.load(\"modelvae_fromastroml_pytorch_v2.pth\"))"
   ]
  },
  {
   "cell_type": "code",
   "execution_count": 14,
   "id": "ee600696-e5af-4c91-aca7-7867c17a2705",
   "metadata": {
    "tags": []
   },
   "outputs": [
    {
     "data": {
      "text/plain": [
       "VAE(\n",
       "  (encode_fc): Linear(in_features=10000, out_features=250, bias=True)\n",
       "  (mu): Linear(in_features=250, out_features=2, bias=True)\n",
       "  (logvar): Linear(in_features=250, out_features=2, bias=True)\n",
       "  (decode_fc): Linear(in_features=2, out_features=250, bias=True)\n",
       "  (output): Linear(in_features=250, out_features=10000, bias=True)\n",
       ")"
      ]
     },
     "execution_count": 14,
     "metadata": {},
     "output_type": "execute_result"
    }
   ],
   "source": [
    "model.eval()"
   ]
  },
  {
   "cell_type": "code",
   "execution_count": 15,
   "id": "326a18eb-838c-4a45-aaa7-4e63ab8f2e3d",
   "metadata": {
    "tags": []
   },
   "outputs": [],
   "source": [
    "X = dataset[:][0]\n",
    "with torch.no_grad():\n",
    "    z,mu,logvar = model(X)"
   ]
  },
  {
   "cell_type": "code",
   "execution_count": 16,
   "id": "ad374c4b-99a6-44df-ad03-34eaadaaa9b7",
   "metadata": {
    "tags": []
   },
   "outputs": [],
   "source": [
    "y_mean = (z.mean(),mu.mean(),logvar.mean())"
   ]
  },
  {
   "cell_type": "markdown",
   "id": "26f98e33-7400-4a60-89ae-b12e4c91a918",
   "metadata": {},
   "source": [
    "## Draw the model\n",
    "\n",
    "https://appsilon.com/visualize-pytorch-neural-networks/"
   ]
  },
  {
   "cell_type": "code",
   "execution_count": 17,
   "id": "6519db48-5573-4344-8ac4-07678d2fbdd6",
   "metadata": {},
   "outputs": [
    {
     "data": {
      "image/svg+xml": [
       "<?xml version=\"1.0\" encoding=\"UTF-8\" standalone=\"no\"?>\n",
       "<!DOCTYPE svg PUBLIC \"-//W3C//DTD SVG 1.1//EN\"\n",
       " \"http://www.w3.org/Graphics/SVG/1.1/DTD/svg11.dtd\">\n",
       "<!-- Generated by graphviz version 2.50.0 (0)\n",
       " -->\n",
       "<!-- Pages: 1 -->\n",
       "<svg width=\"206pt\" height=\"39pt\"\n",
       " viewBox=\"0.00 0.00 206.00 39.00\" xmlns=\"http://www.w3.org/2000/svg\" xmlns:xlink=\"http://www.w3.org/1999/xlink\">\n",
       "<g id=\"graph0\" class=\"graph\" transform=\"scale(1 1) rotate(0) translate(4 35)\">\n",
       "<polygon fill=\"white\" stroke=\"transparent\" points=\"-4,4 -4,-35 202,-35 202,4 -4,4\"/>\n",
       "<!-- 140638621907440 -->\n",
       "<g id=\"node1\" class=\"node\">\n",
       "<title>140638621907440</title>\n",
       "<polygon fill=\"#caff70\" stroke=\"black\" points=\"54,-31 0,-31 0,0 54,0 54,-31\"/>\n",
       "<text text-anchor=\"middle\" x=\"27\" y=\"-7\" font-family=\"monospace\" font-size=\"10.00\"> ()</text>\n",
       "</g>\n",
       "<!-- 140638621907200 -->\n",
       "<g id=\"node2\" class=\"node\">\n",
       "<title>140638621907200</title>\n",
       "<polygon fill=\"#caff70\" stroke=\"black\" points=\"126,-31 72,-31 72,0 126,0 126,-31\"/>\n",
       "<text text-anchor=\"middle\" x=\"99\" y=\"-7\" font-family=\"monospace\" font-size=\"10.00\"> ()</text>\n",
       "</g>\n",
       "<!-- 140638621907600 -->\n",
       "<g id=\"node3\" class=\"node\">\n",
       "<title>140638621907600</title>\n",
       "<polygon fill=\"#caff70\" stroke=\"black\" points=\"198,-31 144,-31 144,0 198,0 198,-31\"/>\n",
       "<text text-anchor=\"middle\" x=\"171\" y=\"-7\" font-family=\"monospace\" font-size=\"10.00\"> ()</text>\n",
       "</g>\n",
       "</g>\n",
       "</svg>\n"
      ],
      "text/plain": [
       "<graphviz.graphs.Digraph at 0x7fe8e5c71400>"
      ]
     },
     "execution_count": 17,
     "metadata": {},
     "output_type": "execute_result"
    }
   ],
   "source": [
    "#make_dot(y_mean, params=dict(model.named_parameters()))\n",
    "make_dot(y_mean, params=dict(model.named_parameters()), show_attrs=True, show_saved=True)"
   ]
  },
  {
   "cell_type": "code",
   "execution_count": 18,
   "id": "681f1c00-a865-47f3-b01b-f67efc559c2b",
   "metadata": {},
   "outputs": [
    {
     "name": "stderr",
     "output_type": "stream",
     "text": [
      "/Users/dagoret/opt/anaconda3/envs/fidle23/lib/python3.9/site-packages/torch/jit/_trace.py:1084: TracerWarning: Trace had nondeterministic nodes. Did you forget call .eval() on your model? Nodes:\n",
      "\t%eps : Float(550, 2, strides=[2, 1], requires_grad=0, device=cpu) = aten::randn_like(%std, %36, %37, %38, %39, %40) # /var/folders/cq/vms8st5136z3q5xx4rd9xqfr0000gw/T/ipykernel_14128/3461920530.py:19:0\n",
      "This may cause errors in trace checking. To disable trace checking, pass check_trace=False to torch.jit.trace()\n",
      "  _check_trace(\n",
      "/Users/dagoret/opt/anaconda3/envs/fidle23/lib/python3.9/site-packages/torch/jit/_trace.py:1084: TracerWarning: Output nr 1. of the traced function does not match the corresponding output of the Python function. Detailed error:\n",
      "Tensor-likes are not close!\n",
      "\n",
      "Mismatched elements: 5349092 / 5500000 (97.3%)\n",
      "Greatest absolute difference: 1.1609357595443726 at index (290, 959) (up to 1e-05 allowed)\n",
      "Greatest relative difference: 99165.86486486487 at index (163, 401) (up to 1e-05 allowed)\n",
      "  _check_trace(\n"
     ]
    }
   ],
   "source": [
    "writer = SummaryWriter(\"torchlogs/\")\n",
    "writer.add_graph(model, X)\n",
    "writer.close()"
   ]
  },
  {
   "cell_type": "markdown",
   "id": "e8096774-4d5b-4745-9468-327810f589f8",
   "metadata": {},
   "source": [
    "## plot results"
   ]
  },
  {
   "cell_type": "markdown",
   "id": "f5193776-664a-477c-bda4-bbcab8c48a23",
   "metadata": {},
   "source": [
    "### Generate a single spectrum from latent variables"
   ]
  },
  {
   "cell_type": "code",
   "execution_count": 19,
   "id": "399d8222-457e-4bfd-a168-af0d6548cf04",
   "metadata": {
    "tags": []
   },
   "outputs": [],
   "source": [
    "z0 = np.array([0.,0], dtype=np.float32)"
   ]
  },
  {
   "cell_type": "code",
   "execution_count": 20,
   "id": "b308ea1f-572e-4395-a2dc-eae65a449b5f",
   "metadata": {
    "tags": []
   },
   "outputs": [],
   "source": [
    "label = f\"$(z_1,z_2) = $ ({z0[0]}, {z0[1]})\""
   ]
  },
  {
   "cell_type": "code",
   "execution_count": 21,
   "id": "90c9c105-f435-4937-92ec-9c1f435bc8c5",
   "metadata": {
    "tags": []
   },
   "outputs": [],
   "source": [
    "spectrum = model.decode(torch.tensor(z0))"
   ]
  },
  {
   "cell_type": "code",
   "execution_count": 22,
   "id": "28978e2b-e806-4e1e-9b66-4044b10d70cf",
   "metadata": {
    "tags": []
   },
   "outputs": [],
   "source": [
    "# if we are not detaching, need no_grad()\n",
    "#with torch.no_grad():\n",
    "#    plt.plot(wavelengths, meanspectrum+spectrum.numpy(),'r-')"
   ]
  },
  {
   "cell_type": "code",
   "execution_count": 23,
   "id": "9bf34e90-6494-4867-afaa-6c98c9de3177",
   "metadata": {
    "tags": []
   },
   "outputs": [],
   "source": [
    "# here we need to detach to convert the tensor to another tensor that isn't requiring a gradient \n",
    "dspectrum = spectrum.detach().numpy()"
   ]
  },
  {
   "cell_type": "code",
   "execution_count": 24,
   "id": "0fb99803-3bcb-457d-9e92-7cf0b9d70259",
   "metadata": {
    "tags": []
   },
   "outputs": [
    {
     "data": {
      "image/png": "[encoded data removed]",
      "text/plain": [
       "<Figure size 1000x700 with 3 Axes>"
      ]
     },
     "metadata": {},
     "output_type": "display_data"
    }
   ],
   "source": [
    "fig=plt.figure(figsize=(10,7))\n",
    "ax=fig.add_subplot(2,2,1)\n",
    "ax.plot(wavelengths, meanspectrum,'k-',label=\"mean\")\n",
    "ax.set_xlabel(\"$\\lambda (\\AA)$\")\n",
    "ax.grid()\n",
    "ax.legend()\n",
    "ax.set_title(\"mean spectrum\")\n",
    "ax=fig.add_subplot(2,2,2)\n",
    "ax.plot(wavelengths, meanspectrum+dspectrum,'r-',label=label)\n",
    "ax.set_xlabel(\"$\\lambda (\\AA)$\")\n",
    "ax.grid()\n",
    "ax.legend()\n",
    "ax.set_title(\"VAE generated spectrum\")\n",
    "ax=fig.add_subplot(2,2,3)\n",
    "ax.plot(wavelengths, dspectrum,'b-',label=label)\n",
    "ax.set_xlabel(\"$\\lambda (\\AA)$\")\n",
    "ax.grid()\n",
    "ax.legend()\n",
    "ax.set_title(\"VAE correction\")\n",
    "\n",
    "plt.suptitle(\"StarLight - FORS2 interpolation with VAE\")\n",
    "plt.tight_layout()\n",
    "plt.show()"
   ]
  },
  {
   "cell_type": "code",
   "execution_count": null,
   "id": "bd98144a-7cbb-4e1a-8cdc-1c17bd801d70",
   "metadata": {},
   "outputs": [],
   "source": []
  }
 ],
 "metadata": {
  "kernelspec": {
   "display_name": "fidle2023",
   "language": "python",
   "name": "fidle2023"
  },
  "language_info": {
   "codemirror_mode": {
    "name": "ipython",
    "version": 3
   },
   "file_extension": ".py",
   "mimetype": "text/x-python",
   "name": "python",
   "nbconvert_exporter": "python",
   "pygments_lexer": "ipython3",
   "version": "3.9.16"
  }
 },
 "nbformat": 4,
 "nbformat_minor": 5
}
