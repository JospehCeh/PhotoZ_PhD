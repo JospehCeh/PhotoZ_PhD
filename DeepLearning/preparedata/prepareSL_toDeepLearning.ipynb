{
 "cells": [
  {
   "cell_type": "markdown",
   "id": "316c4ba5",
   "metadata": {},
   "source": [
    "# Prepare SL Data for Deep Learning analysis\n",
    "\n",
    "- **Part 1**\n",
    "- author : Sylvie Dagoret-Campagne\n",
    "- affiliation : IJCLab/IN2P3/CNRS\n",
    "- creation date : 2023/03/20\n",
    "- last update : 2023/03/20\n",
    "- FORS2 : https://github.com/ericnuss/fors2\n",
    "- Result of StarLight : /sps/lsst/groups/photoz/fors2/FORS2/ResStarlight\n",
    "\n",
    "\n",
    "\n",
    "          /Users/dagoret/MacOSX/GitHub/LSST/FORS2>ls -l\n",
    "              total 0\n",
    "              drwxrwsr-x  3 dagoret  staff   96 Aug 21  2018 ResStarlight\n",
    "              drwxr-xr-x  9 dagoret  staff  288 Dec 19 18:01 fors2"
   ]
  },
  {
   "cell_type": "markdown",
   "id": "c7d7e344",
   "metadata": {},
   "source": [
    "## Import"
   ]
  },
  {
   "cell_type": "code",
   "execution_count": 1,
   "id": "e485fec8",
   "metadata": {},
   "outputs": [],
   "source": [
    "import os,sys,re\n",
    "import h5py\n",
    "from astropy.table import Table"
   ]
  },
  {
   "cell_type": "code",
   "execution_count": 2,
   "id": "b271dcb5",
   "metadata": {},
   "outputs": [],
   "source": [
    "# Import some generally useful packages\n",
    "\n",
    "import os\n",
    "import numpy as np\n",
    "import matplotlib.pyplot as plt\n",
    "import matplotlib.colors as colors\n",
    "import matplotlib.cm as cmx\n",
    "\n",
    "from matplotlib.backends.backend_pdf import PdfPages\n",
    "\n",
    "%matplotlib inline\n",
    "import pandas as pd\n",
    "from itertools import cycle, islice\n"
   ]
  },
  {
   "cell_type": "code",
   "execution_count": 3,
   "id": "f6689d40-c574-471c-b9d6-996002aa4e76",
   "metadata": {},
   "outputs": [],
   "source": [
    "from scipy import ndimage\n",
    "\n",
    "#from scipy import interp as scinterp\n",
    "from scipy.interpolate import interp1d\n",
    "\n",
    "import glob\n",
    "import collections\n",
    "#from def_raw_seds import *"
   ]
  },
  {
   "cell_type": "code",
   "execution_count": 4,
   "id": "413f1e89",
   "metadata": {},
   "outputs": [],
   "source": [
    "# to enlarge the sizes\n",
    "params = {'legend.fontsize': 'large',\n",
    "          'figure.figsize': (4, 4),\n",
    "         'axes.labelsize': 'xx-large',\n",
    "         'axes.titlesize':'xx-large',\n",
    "         'xtick.labelsize':'xx-large',\n",
    "         'ytick.labelsize':'xx-large'}\n",
    "plt.rcParams.update(params)"
   ]
  },
  {
   "cell_type": "code",
   "execution_count": 5,
   "id": "c1e22fcc",
   "metadata": {},
   "outputs": [],
   "source": [
    "import matplotlib.offsetbox\n",
    "props = dict(boxstyle='round',edgecolor=\"w\",facecolor=\"w\", alpha=0.5)"
   ]
  },
  {
   "cell_type": "code",
   "execution_count": 6,
   "id": "b7e9a578-1bb2-4e32-b88f-a69914949eca",
   "metadata": {},
   "outputs": [],
   "source": [
    "from def_raw_seds import *"
   ]
  },
  {
   "cell_type": "code",
   "execution_count": 7,
   "id": "93d5eb5c-6c03-45fe-9795-17e8ed32d0d7",
   "metadata": {},
   "outputs": [],
   "source": [
    "from raw_data_analysis import *"
   ]
  },
  {
   "cell_type": "code",
   "execution_count": 8,
   "id": "efbeb2ca-5324-4f3d-8889-c163a0633f67",
   "metadata": {},
   "outputs": [],
   "source": [
    "#from spectroscopy import *"
   ]
  },
  {
   "cell_type": "code",
   "execution_count": 9,
   "id": "7ce825ef",
   "metadata": {},
   "outputs": [],
   "source": [
    "# Import the primary photometry classes from rubin_sim.photUtils\n",
    "\n",
    "import rubin_sim.phot_Utils.Bandpass as Bandpass\n",
    "import rubin_sim.phot_Utils.Sed as Sed\n",
    "from rubin_sim.data import get_data_dir"
   ]
  },
  {
   "cell_type": "code",
   "execution_count": 10,
   "id": "a20e3234",
   "metadata": {},
   "outputs": [],
   "source": [
    "#pysynphot_root_path=os.environ['PYSYN_CDBS']\n",
    "#path_sed_calspec=os.path.join(pysynphot_root_path,'calspec')\n",
    "# pysynphot\n",
    "#import pysynphot as S\n",
    "#S.refs.setref(area=1)\n",
    "#S.refs.getref()"
   ]
  },
  {
   "cell_type": "markdown",
   "id": "f69510dd-78da-48cf-bffb-b14694fc548b",
   "metadata": {},
   "source": [
    "## Start"
   ]
  },
  {
   "cell_type": "code",
   "execution_count": 11,
   "id": "edaca853-9daa-42fe-b38a-e8edbca8a083",
   "metadata": {},
   "outputs": [
    {
     "name": "stdout",
     "output_type": "stream",
     "text": [
      "notebook current executing path : /Users/sylvie/MacOSX/GitHub/LSST/PhotoZ_PhD/DeepLearning/preparedata\n"
     ]
    }
   ],
   "source": [
    "cwd=os.path.abspath(\"\")\n",
    "main_dir = cwd\n",
    "print(f\"notebook current executing path : {cwd}\")"
   ]
  },
  {
   "cell_type": "markdown",
   "id": "a4d93f7b",
   "metadata": {},
   "source": [
    "## Configuration"
   ]
  },
  {
   "cell_type": "markdown",
   "id": "166b2775",
   "metadata": {},
   "source": [
    "### SL"
   ]
  },
  {
   "cell_type": "markdown",
   "id": "420390a8-8384-49a5-9a8b-a16888600007",
   "metadata": {},
   "source": [
    "## Start"
   ]
  },
  {
   "cell_type": "markdown",
   "id": "7f6b5b89-440f-4d2d-87d6-9eb190e215bd",
   "metadata": {},
   "source": [
    "### Catalog"
   ]
  },
  {
   "cell_type": "code",
   "execution_count": 12,
   "id": "0d1c76e0-51f7-47f0-9fc8-70f426930afd",
   "metadata": {},
   "outputs": [
    {
     "name": "stderr",
     "output_type": "stream",
     "text": [
      "WARNING: VerifyWarning: Invalid keyword for column 8: ASCII table null option (TNULLn) is longer than the column's character width and will be truncated (got '-2147483648'). [astropy.io.fits.column]\n",
      "WARNING: VerifyWarning: Invalid keyword for column 9: ASCII table null option (TNULLn) is longer than the column's character width and will be truncated (got '-32768'). [astropy.io.fits.column]\n",
      "/Users/sylvie/mambaforge/envs/rubin/lib/python3.11/site-packages/astropy/io/fits/connect.py:276: FutureWarning: elementwise comparison failed; returning scalar instead, but in the future will perform elementwise comparison\n",
      "  mask = data[col.name] == col.null\n"
     ]
    }
   ],
   "source": [
    "t = Table.read(filename_fits_catalog)"
   ]
  },
  {
   "cell_type": "code",
   "execution_count": 13,
   "id": "2ee70902-b8ad-4407-9314-25ff3d8b2f77",
   "metadata": {},
   "outputs": [
    {
     "data": {
      "text/html": [
       "<div><i>Table length=676</i>\n",
       "<table id=\"table5874575184\" class=\"table-striped table-bordered table-condensed\">\n",
       "<thead><tr><th>ID</th><th>m_ID</th><th>RAJ2000</th><th>DEJ2000</th><th>z</th><th>u_z</th><th>Rmag</th><th>RV</th><th>e_RV</th><th>RT</th><th>Nsp</th><th>Lines</th></tr></thead>\n",
       "<thead><tr><th></th><th></th><th>deg</th><th>deg</th><th></th><th></th><th>mag</th><th>km / s</th><th>km / s</th><th></th><th></th><th></th></tr></thead>\n",
       "<thead><tr><th>int16</th><th>bytes1</th><th>float64</th><th>float64</th><th>float64</th><th>bytes1</th><th>float64</th><th>int32</th><th>int16</th><th>float64</th><th>int16</th><th>bytes77</th></tr></thead>\n",
       "<tr><td>1</td><td></td><td>13.52815</td><td>-28.40486</td><td>0.55409</td><td></td><td>20.79</td><td>166227</td><td>55</td><td>10.0</td><td>1</td><td>[OII],H8,K,H</td></tr>\n",
       "<tr><td>2</td><td></td><td>13.52997</td><td>-28.44776</td><td>0.34555</td><td></td><td>21.18</td><td>103665</td><td>40</td><td>12.3</td><td>1</td><td>K,H,G,H{beta}</td></tr>\n",
       "<tr><td>3</td><td></td><td>13.52552</td><td>-28.4208</td><td>0.6866</td><td></td><td>21.45</td><td>210642</td><td>48</td><td>11.6</td><td>4</td><td>[OII],H9,K,H,H{beta},[OIII],H8</td></tr>\n",
       "<tr><td>4</td><td></td><td>13.52216</td><td>-28.40914</td><td>0.68653</td><td></td><td>21.62</td><td>205959</td><td>123</td><td>10.6</td><td>1</td><td>[OII],H9,K,H,G,H{beta}</td></tr>\n",
       "<tr><td>7</td><td></td><td>13.50974</td><td>-28.42972</td><td>0.32371</td><td></td><td>22.34</td><td>97111</td><td>11</td><td>16.7</td><td>6</td><td>[OII],H{beta},[OIII],H{alpha}</td></tr>\n",
       "<tr><td>9</td><td></td><td>13.50219</td><td>-28.40641</td><td>0.29266</td><td></td><td>21.6</td><td>87798</td><td>58</td><td>13.1</td><td>1</td><td>H9,H8,K,H</td></tr>\n",
       "<tr><td>11</td><td></td><td>13.49724</td><td>-28.39487</td><td>0.62688</td><td></td><td>22.09</td><td>188063</td><td>17</td><td>24.3</td><td>3</td><td>[OII],H10,H8,K,H,H{delta}</td></tr>\n",
       "<tr><td>12</td><td></td><td>13.49584</td><td>-28.39125</td><td>0.2973</td><td></td><td>21.97</td><td>89189</td><td>30</td><td>14.8</td><td>2</td><td>[OII],H10,H9,H8,K,H</td></tr>\n",
       "<tr><td>13</td><td></td><td>13.49261</td><td>-28.38272</td><td>0.6887</td><td></td><td>23.14</td><td>206610</td><td>0</td><td>0.0</td><td>1</td><td>[OII],H{epsilon},H{delta},H{beta}</td></tr>\n",
       "<tr><td>14</td><td></td><td>13.48952</td><td>-28.38469</td><td>1.15856</td><td></td><td>22.62</td><td>347568</td><td>192</td><td>2.0</td><td>1</td><td>[OII],H9</td></tr>\n",
       "<tr><td>15</td><td></td><td>13.4888</td><td>-28.41684</td><td>0.63446</td><td></td><td>22.4</td><td>190338</td><td>26</td><td>17.2</td><td>2</td><td>[OII],H9,K,H,H{delta},H{beta},[OIII]</td></tr>\n",
       "<tr><td>16</td><td></td><td>13.48808</td><td>-28.43092</td><td>0.62986</td><td></td><td>22.29</td><td>188958</td><td>17</td><td>22.8</td><td>2</td><td>[OII],H,H{beta},[OIII]</td></tr>\n",
       "<tr><td>17</td><td></td><td>13.48726</td><td>-28.43966</td><td>0.60331</td><td></td><td>23.4</td><td>180993</td><td>72</td><td>6.2</td><td>1</td><td>[OII],H,H{beta},[OIII]</td></tr>\n",
       "<tr><td>18</td><td></td><td>13.60897</td><td>-28.42091</td><td>0.48485</td><td></td><td>21.08</td><td>145455</td><td>72</td><td>16.2</td><td>1</td><td>H9,K,H,G</td></tr>\n",
       "<tr><td>19</td><td></td><td>13.60758</td><td>-28.43452</td><td>0.48395</td><td></td><td>21.7</td><td>145185</td><td>104</td><td>7.1</td><td>1</td><td>H10,H9,H8,K,H,H{delta}</td></tr>\n",
       "<tr><td>...</td><td>...</td><td>...</td><td>...</td><td>...</td><td>...</td><td>...</td><td>...</td><td>...</td><td>...</td><td>...</td><td>...</td></tr>\n",
       "<tr><td>729</td><td></td><td>13.6658</td><td>-28.24412</td><td>0.43187</td><td></td><td>20.19</td><td>129561</td><td>57</td><td>8.3</td><td>1</td><td>[OII],H10,H9,K,H</td></tr>\n",
       "<tr><td>730</td><td></td><td>13.67719</td><td>-28.24009</td><td>0.55034</td><td></td><td>21.54</td><td>165102</td><td>22</td><td>16.1</td><td>1</td><td>[OII],H{gamma},H{beta},[OIII]</td></tr>\n",
       "<tr><td>731</td><td></td><td>13.6688</td><td>-28.23844</td><td>0.54998</td><td></td><td>21.06</td><td>164994</td><td>105</td><td>5.4</td><td>1</td><td>weak,[OII],H9,H,4000{AA}-break</td></tr>\n",
       "<tr><td>732</td><td></td><td>13.71984</td><td>-28.23666</td><td>0.16176</td><td></td><td>19.24</td><td>48526</td><td>18</td><td>19.9</td><td>1</td><td>H,K,H{gamma},H{beta},[OIII],H{alpha},NII</td></tr>\n",
       "<tr><td>733</td><td></td><td>13.63351</td><td>-28.23504</td><td>0.19553</td><td></td><td>19.77</td><td>58660</td><td>27</td><td>13.9</td><td>1</td><td>K,H,H{beta},[OIII]</td></tr>\n",
       "<tr><td>734</td><td></td><td>13.68083</td><td>-28.2329</td><td>0.23012</td><td></td><td>0.0</td><td>69036</td><td>71</td><td>7.2</td><td>1</td><td>[OII],H9,K,H,H{alpha},NII</td></tr>\n",
       "<tr><td>735</td><td></td><td>13.69958</td><td>-28.23161</td><td>0.36169</td><td></td><td>19.28</td><td>108507</td><td>107</td><td>8.2</td><td>1</td><td>K,H,G,H{beta}</td></tr>\n",
       "<tr><td>736</td><td></td><td>13.66431</td><td>-28.22849</td><td>0.55777</td><td></td><td>21.64</td><td>167331</td><td>31</td><td>10.5</td><td>1</td><td>[OII],H9,H{beta},[OIII]</td></tr>\n",
       "<tr><td>737</td><td></td><td>13.62722</td><td>-28.22692</td><td>0.52001</td><td></td><td>21.4</td><td>156003</td><td>53</td><td>10.2</td><td>1</td><td>[OII],K,H</td></tr>\n",
       "<tr><td>738</td><td></td><td>13.6437</td><td>-28.22527</td><td>0.56044</td><td></td><td>19.73</td><td>168132</td><td>126</td><td>7.1</td><td>1</td><td>K,H,4000{AA}-break,G</td></tr>\n",
       "<tr><td>1009</td><td></td><td>13.52353</td><td>-28.42682</td><td>0.2904</td><td></td><td>18.6</td><td>87120</td><td>0</td><td>0.0</td><td>1</td><td></td></tr>\n",
       "<tr><td>1011</td><td></td><td>13.51676</td><td>-28.40425</td><td>0.2934</td><td></td><td>18.26</td><td>88020</td><td>0</td><td>0.0</td><td>1</td><td></td></tr>\n",
       "<tr><td>1012</td><td></td><td>13.5147</td><td>-28.40379</td><td>0.2929</td><td></td><td>17.34</td><td>87870</td><td>0</td><td>0.0</td><td>1</td><td></td></tr>\n",
       "<tr><td>1018</td><td></td><td>13.49151</td><td>-28.38977</td><td>0.2925</td><td></td><td>19.62</td><td>87750</td><td>0</td><td>0.0</td><td>1</td><td></td></tr>\n",
       "<tr><td>1020</td><td></td><td>13.48143</td><td>-28.40368</td><td>0.2939</td><td></td><td>20.71</td><td>88170</td><td>0</td><td>0.0</td><td>1</td><td></td></tr>\n",
       "</table></div>"
      ],
      "text/plain": [
       "<Table length=676>\n",
       "  ID   m_ID  RAJ2000   DEJ2000     z     u_z     Rmag    RV    e_RV     RT    Nsp                                      Lines                                    \n",
       "               deg       deg                     mag   km / s km / s                                                                                            \n",
       "int16 bytes1 float64   float64  float64 bytes1 float64 int32  int16  float64 int16                                    bytes77                                   \n",
       "----- ------ -------- --------- ------- ------ ------- ------ ------ ------- ----- -----------------------------------------------------------------------------\n",
       "    1        13.52815 -28.40486 0.55409          20.79 166227     55    10.0     1 [OII],H8,K,H                                                                \n",
       "    2        13.52997 -28.44776 0.34555          21.18 103665     40    12.3     1 K,H,G,H{beta}                                                               \n",
       "    3        13.52552  -28.4208  0.6866          21.45 210642     48    11.6     4 [OII],H9,K,H,H{beta},[OIII],H8                                              \n",
       "    4        13.52216 -28.40914 0.68653          21.62 205959    123    10.6     1 [OII],H9,K,H,G,H{beta}                                                      \n",
       "    7        13.50974 -28.42972 0.32371          22.34  97111     11    16.7     6 [OII],H{beta},[OIII],H{alpha}                                               \n",
       "    9        13.50219 -28.40641 0.29266           21.6  87798     58    13.1     1 H9,H8,K,H                                                                   \n",
       "   11        13.49724 -28.39487 0.62688          22.09 188063     17    24.3     3 [OII],H10,H8,K,H,H{delta}                                                   \n",
       "   12        13.49584 -28.39125  0.2973          21.97  89189     30    14.8     2 [OII],H10,H9,H8,K,H                                                         \n",
       "   13        13.49261 -28.38272  0.6887          23.14 206610      0     0.0     1 [OII],H{epsilon},H{delta},H{beta}                                           \n",
       "   14        13.48952 -28.38469 1.15856          22.62 347568    192     2.0     1 [OII],H9                                                                    \n",
       "   15         13.4888 -28.41684 0.63446           22.4 190338     26    17.2     2 [OII],H9,K,H,H{delta},H{beta},[OIII]                                        \n",
       "   16        13.48808 -28.43092 0.62986          22.29 188958     17    22.8     2 [OII],H,H{beta},[OIII]                                                      \n",
       "   17        13.48726 -28.43966 0.60331           23.4 180993     72     6.2     1 [OII],H,H{beta},[OIII]                                                      \n",
       "   18        13.60897 -28.42091 0.48485          21.08 145455     72    16.2     1 H9,K,H,G                                                                    \n",
       "   19        13.60758 -28.43452 0.48395           21.7 145185    104     7.1     1 H10,H9,H8,K,H,H{delta}                                                      \n",
       "  ...    ...      ...       ...     ...    ...     ...    ...    ...     ...   ...                                                                           ...\n",
       "  729         13.6658 -28.24412 0.43187          20.19 129561     57     8.3     1 [OII],H10,H9,K,H                                                            \n",
       "  730        13.67719 -28.24009 0.55034          21.54 165102     22    16.1     1 [OII],H{gamma},H{beta},[OIII]                                               \n",
       "  731         13.6688 -28.23844 0.54998          21.06 164994    105     5.4     1 weak,[OII],H9,H,4000{AA}-break                                              \n",
       "  732        13.71984 -28.23666 0.16176          19.24  48526     18    19.9     1 H,K,H{gamma},H{beta},[OIII],H{alpha},NII                                    \n",
       "  733        13.63351 -28.23504 0.19553          19.77  58660     27    13.9     1 K,H,H{beta},[OIII]                                                          \n",
       "  734        13.68083  -28.2329 0.23012            0.0  69036     71     7.2     1 [OII],H9,K,H,H{alpha},NII                                                   \n",
       "  735        13.69958 -28.23161 0.36169          19.28 108507    107     8.2     1 K,H,G,H{beta}                                                               \n",
       "  736        13.66431 -28.22849 0.55777          21.64 167331     31    10.5     1 [OII],H9,H{beta},[OIII]                                                     \n",
       "  737        13.62722 -28.22692 0.52001           21.4 156003     53    10.2     1 [OII],K,H                                                                   \n",
       "  738         13.6437 -28.22527 0.56044          19.73 168132    126     7.1     1 K,H,4000{AA}-break,G                                                        \n",
       " 1009        13.52353 -28.42682  0.2904           18.6  87120      0     0.0     1                                                                             \n",
       " 1011        13.51676 -28.40425  0.2934          18.26  88020      0     0.0     1                                                                             \n",
       " 1012         13.5147 -28.40379  0.2929          17.34  87870      0     0.0     1                                                                             \n",
       " 1018        13.49151 -28.38977  0.2925          19.62  87750      0     0.0     1                                                                             \n",
       " 1020        13.48143 -28.40368  0.2939          20.71  88170      0     0.0     1                                                                             "
      ]
     },
     "execution_count": 13,
     "metadata": {},
     "output_type": "execute_result"
    }
   ],
   "source": [
    "t"
   ]
  },
  {
   "cell_type": "markdown",
   "id": "ddbbab8c-201b-4c18-bbb6-2f9fd41878e7",
   "metadata": {},
   "source": [
    "### List"
   ]
  },
  {
   "cell_type": "code",
   "execution_count": 14,
   "id": "ac4aea36-58e8-4517-9238-e479b6cded17",
   "metadata": {},
   "outputs": [],
   "source": [
    "lst=fors2_jct_SL() #remet les spectres dans le rest frame (ie a z=0)"
   ]
  },
  {
   "cell_type": "code",
   "execution_count": 15,
   "id": "b6131f77-e460-4130-8706-712cf21d75f4",
   "metadata": {},
   "outputs": [
    {
     "name": "stdout",
     "output_type": "stream",
     "text": [
      "['SPEC102', 'SPEC106', 'SPEC107', 'SPEC109', 'SPEC110', 'SPEC111', 'SPEC112', 'SPEC113', 'SPEC114', 'SPEC115', 'SPEC117', 'SPEC118', 'SPEC120', 'SPEC121', 'SPEC123', 'SPEC127', 'SPEC128', 'SPEC13', 'SPEC132', 'SPEC134', 'SPEC135', 'SPEC137', 'SPEC138', 'SPEC141', 'SPEC149', 'SPEC151', 'SPEC152', 'SPEC156', 'SPEC160', 'SPEC161', 'SPEC164', 'SPEC171', 'SPEC178', 'SPEC179', 'SPEC181', 'SPEC182', 'SPEC183', 'SPEC184', 'SPEC185', 'SPEC186', 'SPEC187', 'SPEC188', 'SPEC189', 'SPEC19', 'SPEC191', 'SPEC192', 'SPEC193', 'SPEC194', 'SPEC196', 'SPEC197', 'SPEC198', 'SPEC2', 'SPEC204', 'SPEC205', 'SPEC210', 'SPEC214', 'SPEC218', 'SPEC221', 'SPEC222', 'SPEC223', 'SPEC226', 'SPEC227', 'SPEC231', 'SPEC233', 'SPEC234', 'SPEC235', 'SPEC236', 'SPEC237', 'SPEC238', 'SPEC24', 'SPEC240', 'SPEC242', 'SPEC243', 'SPEC244', 'SPEC245', 'SPEC246', 'SPEC248', 'SPEC249', 'SPEC25', 'SPEC250', 'SPEC252', 'SPEC253', 'SPEC258', 'SPEC259', 'SPEC260', 'SPEC261', 'SPEC262', 'SPEC264', 'SPEC265', 'SPEC266', 'SPEC267', 'SPEC268', 'SPEC271', 'SPEC274', 'SPEC275', 'SPEC276', 'SPEC277', 'SPEC278', 'SPEC279', 'SPEC280', 'SPEC281', 'SPEC282', 'SPEC283', 'SPEC287', 'SPEC288', 'SPEC291', 'SPEC292', 'SPEC294', 'SPEC295', 'SPEC296', 'SPEC297', 'SPEC298', 'SPEC3', 'SPEC30', 'SPEC301', 'SPEC302', 'SPEC303', 'SPEC304', 'SPEC305', 'SPEC306', 'SPEC307', 'SPEC308', 'SPEC309', 'SPEC31', 'SPEC313', 'SPEC315', 'SPEC317', 'SPEC318', 'SPEC319', 'SPEC32', 'SPEC321', 'SPEC322', 'SPEC323', 'SPEC324', 'SPEC325', 'SPEC326', 'SPEC327', 'SPEC328', 'SPEC329', 'SPEC33', 'SPEC331', 'SPEC332', 'SPEC333', 'SPEC334', 'SPEC335', 'SPEC336', 'SPEC337', 'SPEC338', 'SPEC339', 'SPEC34', 'SPEC340', 'SPEC341', 'SPEC343', 'SPEC344', 'SPEC345', 'SPEC346', 'SPEC348', 'SPEC349', 'SPEC35', 'SPEC350', 'SPEC351', 'SPEC352', 'SPEC353', 'SPEC354', 'SPEC355', 'SPEC357', 'SPEC358', 'SPEC359', 'SPEC36', 'SPEC360', 'SPEC361', 'SPEC362', 'SPEC363', 'SPEC364', 'SPEC365', 'SPEC366', 'SPEC367', 'SPEC368', 'SPEC369', 'SPEC37', 'SPEC370', 'SPEC371', 'SPEC372', 'SPEC373', 'SPEC374', 'SPEC375', 'SPEC376', 'SPEC377', 'SPEC378', 'SPEC379', 'SPEC380', 'SPEC381', 'SPEC382', 'SPEC383', 'SPEC384', 'SPEC385', 'SPEC386', 'SPEC387', 'SPEC388', 'SPEC389', 'SPEC390', 'SPEC391', 'SPEC392', 'SPEC393', 'SPEC394', 'SPEC395', 'SPEC396', 'SPEC397', 'SPEC398', 'SPEC399', 'SPEC400', 'SPEC401', 'SPEC402', 'SPEC403', 'SPEC404', 'SPEC405', 'SPEC406', 'SPEC407', 'SPEC408', 'SPEC409', 'SPEC410', 'SPEC411', 'SPEC412', 'SPEC413', 'SPEC414', 'SPEC415', 'SPEC416', 'SPEC417', 'SPEC418', 'SPEC419', 'SPEC420', 'SPEC421', 'SPEC422', 'SPEC423', 'SPEC424', 'SPEC425', 'SPEC426', 'SPEC427', 'SPEC428', 'SPEC429', 'SPEC430', 'SPEC431', 'SPEC432', 'SPEC434', 'SPEC435', 'SPEC436', 'SPEC437', 'SPEC438', 'SPEC439', 'SPEC440', 'SPEC441', 'SPEC442', 'SPEC443', 'SPEC444', 'SPEC445', 'SPEC446', 'SPEC447', 'SPEC448', 'SPEC449', 'SPEC45', 'SPEC450', 'SPEC451', 'SPEC452', 'SPEC453', 'SPEC454', 'SPEC455', 'SPEC456', 'SPEC457', 'SPEC458', 'SPEC459', 'SPEC460', 'SPEC461', 'SPEC462', 'SPEC463', 'SPEC464', 'SPEC465', 'SPEC466', 'SPEC467', 'SPEC468', 'SPEC469', 'SPEC47', 'SPEC470', 'SPEC471', 'SPEC472', 'SPEC474', 'SPEC475', 'SPEC476', 'SPEC477', 'SPEC478', 'SPEC479', 'SPEC480', 'SPEC481', 'SPEC482', 'SPEC483', 'SPEC488', 'SPEC49', 'SPEC490', 'SPEC492', 'SPEC493', 'SPEC494', 'SPEC496', 'SPEC497', 'SPEC499', 'SPEC500', 'SPEC501', 'SPEC503', 'SPEC504', 'SPEC505', 'SPEC506', 'SPEC507', 'SPEC508', 'SPEC509', 'SPEC51', 'SPEC510', 'SPEC511', 'SPEC512', 'SPEC513', 'SPEC516', 'SPEC517', 'SPEC518', 'SPEC519', 'SPEC520', 'SPEC523', 'SPEC524', 'SPEC525', 'SPEC526', 'SPEC527', 'SPEC528', 'SPEC529', 'SPEC530', 'SPEC531', 'SPEC532', 'SPEC533', 'SPEC535', 'SPEC536', 'SPEC537', 'SPEC539', 'SPEC540', 'SPEC541', 'SPEC542', 'SPEC543', 'SPEC544', 'SPEC545', 'SPEC546', 'SPEC547', 'SPEC548', 'SPEC549', 'SPEC55', 'SPEC550', 'SPEC551', 'SPEC552', 'SPEC553', 'SPEC554', 'SPEC556', 'SPEC557', 'SPEC558', 'SPEC559', 'SPEC560', 'SPEC562', 'SPEC563', 'SPEC564', 'SPEC565', 'SPEC566', 'SPEC567', 'SPEC568', 'SPEC569', 'SPEC57', 'SPEC570', 'SPEC571', 'SPEC572', 'SPEC573', 'SPEC574', 'SPEC575', 'SPEC576', 'SPEC577', 'SPEC578', 'SPEC579', 'SPEC58', 'SPEC580', 'SPEC582', 'SPEC583', 'SPEC584', 'SPEC585', 'SPEC586', 'SPEC587', 'SPEC588', 'SPEC589', 'SPEC59', 'SPEC590', 'SPEC591', 'SPEC593', 'SPEC594', 'SPEC595', 'SPEC596', 'SPEC597', 'SPEC598', 'SPEC599', 'SPEC600', 'SPEC601', 'SPEC602', 'SPEC603', 'SPEC604', 'SPEC605', 'SPEC606', 'SPEC608', 'SPEC609', 'SPEC61', 'SPEC610', 'SPEC611', 'SPEC612', 'SPEC613', 'SPEC617', 'SPEC618', 'SPEC62', 'SPEC620', 'SPEC621', 'SPEC622', 'SPEC623', 'SPEC624', 'SPEC625', 'SPEC626', 'SPEC627', 'SPEC628', 'SPEC629', 'SPEC630', 'SPEC631', 'SPEC632', 'SPEC633', 'SPEC634', 'SPEC635', 'SPEC636', 'SPEC637', 'SPEC638', 'SPEC639', 'SPEC640', 'SPEC641', 'SPEC642', 'SPEC643', 'SPEC644', 'SPEC645', 'SPEC646', 'SPEC647', 'SPEC648', 'SPEC649', 'SPEC650', 'SPEC651', 'SPEC652', 'SPEC653', 'SPEC654', 'SPEC655', 'SPEC656', 'SPEC657', 'SPEC658', 'SPEC659', 'SPEC66', 'SPEC660', 'SPEC661', 'SPEC662', 'SPEC663', 'SPEC664', 'SPEC667', 'SPEC668', 'SPEC669', 'SPEC67', 'SPEC670', 'SPEC671', 'SPEC672', 'SPEC673', 'SPEC674', 'SPEC675', 'SPEC676', 'SPEC677', 'SPEC678', 'SPEC679', 'SPEC68', 'SPEC680', 'SPEC681', 'SPEC682', 'SPEC683', 'SPEC684', 'SPEC685', 'SPEC686', 'SPEC687', 'SPEC689', 'SPEC69', 'SPEC690', 'SPEC691', 'SPEC692', 'SPEC693', 'SPEC694', 'SPEC695', 'SPEC696', 'SPEC697', 'SPEC698', 'SPEC699', 'SPEC70', 'SPEC700', 'SPEC701', 'SPEC702', 'SPEC703', 'SPEC704', 'SPEC705', 'SPEC706', 'SPEC707', 'SPEC708', 'SPEC71', 'SPEC710', 'SPEC711', 'SPEC713', 'SPEC714', 'SPEC715', 'SPEC716', 'SPEC717', 'SPEC718', 'SPEC719', 'SPEC72', 'SPEC720', 'SPEC721', 'SPEC722', 'SPEC723', 'SPEC724', 'SPEC725', 'SPEC726', 'SPEC727', 'SPEC728', 'SPEC729', 'SPEC73', 'SPEC730', 'SPEC731', 'SPEC732', 'SPEC733', 'SPEC734', 'SPEC735', 'SPEC736', 'SPEC737', 'SPEC738', 'SPEC77', 'SPEC79', 'SPEC80', 'SPEC83', 'SPEC84', 'SPEC85', 'SPEC86', 'SPEC87', 'SPEC89', 'SPEC9', 'SPEC91', 'SPEC93', 'SPEC96', 'SPEC97']\n"
     ]
    }
   ],
   "source": [
    "lst = sorted(lst)\n",
    "print(lst)"
   ]
  },
  {
   "cell_type": "code",
   "execution_count": 16,
   "id": "7d4697ce-d505-447f-a835-63488402bdf7",
   "metadata": {},
   "outputs": [],
   "source": [
    "all_specfilenames = os.listdir(path_BC)"
   ]
  },
  {
   "cell_type": "code",
   "execution_count": 17,
   "id": "f02923c6-2519-43b9-8b99-1be525af9ff9",
   "metadata": {},
   "outputs": [],
   "source": [
    "all_specfilenames = sorted(all_specfilenames)"
   ]
  },
  {
   "cell_type": "code",
   "execution_count": 18,
   "id": "6860eece-a67f-4db1-a648-6c0a4756c995",
   "metadata": {},
   "outputs": [],
   "source": [
    "all_numbers = [ int(re.findall('^SPEC(.*)_HZ4_BC[.]txt$',fn)[0]) for fn in all_specfilenames ]"
   ]
  },
  {
   "cell_type": "code",
   "execution_count": 19,
   "id": "afca10c0-3271-44d6-b0a3-7a62cc087d8c",
   "metadata": {},
   "outputs": [],
   "source": [
    "all_numbers = sorted(all_numbers)"
   ]
  },
  {
   "cell_type": "code",
   "execution_count": 20,
   "id": "a4accc9c-9848-40e6-b5ae-a2af990c15df",
   "metadata": {},
   "outputs": [],
   "source": [
    "NSED = len(all_numbers)\n",
    "# wavelength bin colors\n",
    "jet = plt.get_cmap('jet')\n",
    "cNorm = colors.Normalize(vmin=0, vmax=NSED)\n",
    "scalarMap = cmx.ScalarMappable(norm=cNorm, cmap=jet)\n",
    "all_colors = scalarMap.to_rgba(np.arange(NSED), alpha=1)"
   ]
  },
  {
   "cell_type": "code",
   "execution_count": 21,
   "id": "6a463bfd-808e-47a6-95ce-7cecf2e53e0e",
   "metadata": {},
   "outputs": [
    {
     "data": {
      "text/html": [
       "<div><i>Table length=1</i>\n",
       "<table id=\"table5874414416\" class=\"table-striped table-bordered table-condensed\">\n",
       "<thead><tr><th>ID</th><th>m_ID</th><th>RAJ2000</th><th>DEJ2000</th><th>z</th><th>u_z</th><th>Rmag</th><th>RV</th><th>e_RV</th><th>RT</th><th>Nsp</th><th>Lines</th></tr></thead>\n",
       "<thead><tr><th></th><th></th><th>deg</th><th>deg</th><th></th><th></th><th>mag</th><th>km / s</th><th>km / s</th><th></th><th></th><th></th></tr></thead>\n",
       "<thead><tr><th>int16</th><th>bytes1</th><th>float64</th><th>float64</th><th>float64</th><th>bytes1</th><th>float64</th><th>int32</th><th>int16</th><th>float64</th><th>int16</th><th>bytes77</th></tr></thead>\n",
       "<tr><td>3</td><td></td><td>13.52552</td><td>-28.4208</td><td>0.6866</td><td></td><td>21.45</td><td>210642</td><td>48</td><td>11.6</td><td>4</td><td>[OII],H9,K,H,H{beta},[OIII],H8</td></tr>\n",
       "</table></div>"
      ],
      "text/plain": [
       "<Table length=1>\n",
       "  ID   m_ID  RAJ2000  DEJ2000     z     u_z     Rmag    RV    e_RV     RT    Nsp                                      Lines                                    \n",
       "               deg      deg                     mag   km / s km / s                                                                                            \n",
       "int16 bytes1 float64  float64  float64 bytes1 float64 int32  int16  float64 int16                                    bytes77                                   \n",
       "----- ------ -------- -------- ------- ------ ------- ------ ------ ------- ----- -----------------------------------------------------------------------------\n",
       "    3        13.52552 -28.4208  0.6866          21.45 210642     48    11.6     4 [OII],H9,K,H,H{beta},[OIII],H8                                              "
      ]
     },
     "execution_count": 21,
     "metadata": {},
     "output_type": "execute_result"
    }
   ],
   "source": [
    "cut = t[\"ID\"] == 3\n",
    "t[cut]"
   ]
  },
  {
   "cell_type": "markdown",
   "id": "4bff5f85-47d5-45eb-b83c-5c33a0c4fb36",
   "metadata": {},
   "source": [
    "# Read all SEDS and noremalised them in a range 0 - 10000 nm"
   ]
  },
  {
   "cell_type": "code",
   "execution_count": 22,
   "id": "5123e51b-ed36-4d83-96a4-b83deedb1859",
   "metadata": {},
   "outputs": [],
   "source": [
    "all_normspectra = []\n",
    "all_integ = []\n",
    "all_wl = []\n",
    "all_tag = []\n",
    "all_sed = []\n",
    "\n",
    "all_redshifts = []\n",
    "all_num = []\n",
    "all_ra = []\n",
    "all_dec = []\n",
    "all_Rmag = []\n",
    "all_RV = []\n",
    "all_eRV = []\n",
    "all_RT = []\n",
    "all_Nsp = []\n",
    "\n",
    "\n",
    "for the_num in all_numbers:\n",
    "    \n",
    "    tcut = t[\"ID\"] == the_num\n",
    "    redshift = t[tcut][\"z\"].value[0]\n",
    "    lines = t[tcut][\"Lines\"].value[0]\n",
    "    filename = f\"SPEC{the_num}_HZ4_BC.txt\"\n",
    "    tag = f\"SPEC{the_num} , z={redshift:.2f}, lines={lines}\"\n",
    "    fullfilename = os.path.join(path_BC,filename)\n",
    "    the_sed=SED(fullfilename,label=tag)\n",
    "    all_sed.append(the_sed)\n",
    "    arr = np.loadtxt(fullfilename)\n",
    "    \n",
    "    # select wavelength in an appropriate range \n",
    "    wl=arr[:-1,0]  \n",
    "    wlrange = np.where(np.logical_and(wl>=0,wl<=10000))[0]\n",
    "    \n",
    "    wl=arr[wlrange,0] \n",
    "    flambda=arr[wlrange,1]\n",
    "    \n",
    "    # normalize spectrum wrt its integral between 0-10000 angstrom\n",
    "    integ = np.trapz(flambda,wl)\n",
    "    all_wl.append(wl)\n",
    "    all_normspectra.append(flambda/integ)\n",
    "    all_tag.append(tag)\n",
    "    \n",
    "    # RAJ2000\tDEJ2000\tz\tu_z\tRmag\tRV\te_RV\tRT\tNsp\t\n",
    "    all_redshifts.append(redshift)\n",
    "    all_num.append(the_num) \n",
    "    all_ra.append(t[\"RAJ2000\"]) \n",
    "    all_dec.append(t[\"DEJ2000\"]) \n",
    "    all_Rmag.append(t[\"Rmag\"])\n",
    "    all_RV.append(t[\"RV\"])\n",
    "    all_eRV.append(t[\"e_RV\"])\n",
    "    all_RT.append(t[\"RT\"])\n",
    "    all_Nsp.append(t[\"Nsp\"])\n",
    "    "
   ]
  },
  {
   "cell_type": "code",
   "execution_count": 23,
   "id": "c80ab960-68bd-4d02-b1f6-32c86b464556",
   "metadata": {},
   "outputs": [
    {
     "data": {
      "image/png": "[encoded data removed]",
      "text/plain": [
       "<Figure size 400x400 with 1 Axes>"
      ]
     },
     "metadata": {},
     "output_type": "display_data"
    }
   ],
   "source": [
    "plt.hist(all_redshifts,bins=50);"
   ]
  },
  {
   "cell_type": "code",
   "execution_count": 41,
   "id": "6b26cf4c-0c45-4dba-a7c8-c9eaa999510a",
   "metadata": {},
   "outputs": [
    {
     "data": {
      "text/plain": [
       "<matplotlib.collections.PathCollection at 0x1656e18d0>"
      ]
     },
     "execution_count": 41,
     "metadata": {},
     "output_type": "execute_result"
    },
    {
     "data": {
      "image/png": "[encoded data removed]",
      "text/plain": [
       "<Figure size 400x400 with 1 Axes>"
      ]
     },
     "metadata": {},
     "output_type": "display_data"
    }
   ],
   "source": [
    "plt.scatter(all_ra,all_dec,s=10,marker=\"o\",alpha=0.1)"
   ]
  },
  {
   "cell_type": "code",
   "execution_count": 25,
   "id": "2fb6e42a-c70d-453f-8af3-261077a5134c",
   "metadata": {},
   "outputs": [
    {
     "data": {
      "image/png": "[encoded data removed]",
      "text/plain": [
       "<Figure size 400x400 with 1 Axes>"
      ]
     },
     "metadata": {},
     "output_type": "display_data"
    }
   ],
   "source": [
    "plt.hist(all_RT,bins=50);"
   ]
  },
  {
   "cell_type": "code",
   "execution_count": 26,
   "id": "37512ec0-97f7-4004-b131-97d4978f7065",
   "metadata": {},
   "outputs": [
    {
     "data": {
      "image/png": "[encoded data removed]",
      "text/plain": [
       "<Figure size 400x400 with 1 Axes>"
      ]
     },
     "metadata": {},
     "output_type": "display_data"
    }
   ],
   "source": [
    "plt.hist(all_RV,bins=50);"
   ]
  },
  {
   "cell_type": "markdown",
   "id": "3f45b251-8f93-47a8-84de-b7bd1e1148e5",
   "metadata": {},
   "source": [
    "# Interpolation"
   ]
  },
  {
   "cell_type": "markdown",
   "id": "e2f9a4c1-7dc2-4beb-810a-53afba0a89a9",
   "metadata": {},
   "source": [
    "https://stackoverflow.com/questions/20928136/input-and-output-numpy-arrays-to-h5py"
   ]
  },
  {
   "cell_type": "code",
   "execution_count": 27,
   "id": "0ccdef28-6646-46fa-a864-afb687b06c18",
   "metadata": {},
   "outputs": [],
   "source": [
    "WL = np.arange(0,10000,1)"
   ]
  },
  {
   "cell_type": "code",
   "execution_count": 28,
   "id": "52ddc39a-7715-4d58-9eb0-9a6fc0714da0",
   "metadata": {},
   "outputs": [],
   "source": [
    "NWL = len(WL)\n",
    "NSAMPLES = len(all_normspectra)\n",
    "flux_out=np.zeros((NSAMPLES,NWL))"
   ]
  },
  {
   "cell_type": "code",
   "execution_count": 29,
   "id": "7dc091ca-0bfe-45d2-9741-586457862f61",
   "metadata": {},
   "outputs": [],
   "source": [
    "for idx in range(NSED):\n",
    "    y = np.interp(WL, all_wl[idx], all_normspectra[idx])\n",
    "    flux_out[idx,:] = y  "
   ]
  },
  {
   "cell_type": "markdown",
   "id": "5ba4cb25-f6a2-4196-9b37-480db1b09744",
   "metadata": {},
   "source": [
    "# Save in a file "
   ]
  },
  {
   "cell_type": "code",
   "execution_count": 30,
   "id": "b9a0f53f-c6e9-4aea-86da-927277d4514b",
   "metadata": {},
   "outputs": [],
   "source": [
    "with h5py.File('SLspectra.hdf5', 'w') as hf:\n",
    "    hf.create_dataset(\"flambda\", data = flux_out,dtype=\"float32\")\n",
    "    hf.create_dataset(\"wl\", data = WL,dtype=\"float32\")\n",
    "    hf.create_dataset(\"redshift\", data = all_redshifts,dtype=\"float32\")"
   ]
  },
  {
   "cell_type": "code",
   "execution_count": 31,
   "id": "82e0b7f8-5036-4e26-bd5f-a0344c3194e2",
   "metadata": {},
   "outputs": [],
   "source": [
    "hf.close()"
   ]
  },
  {
   "cell_type": "code",
   "execution_count": 32,
   "id": "6e35a41f-09af-426c-b460-62c7d435b91d",
   "metadata": {},
   "outputs": [],
   "source": [
    "if 0:\n",
    "    #plt.figure(figsize=(16,20))\n",
    "    for idx in range(NSED):\n",
    "        plt.figure(figsize=(16,2))\n",
    "        #plt.plot(all_wl[idx],all_normspectra[idx], color=all_colors[idx],label=all_tag[idx])\n",
    "        plt.plot(WL,data_out[idx,:], color=all_colors[idx],label=all_tag[idx])\n",
    "        plt.legend(loc=\"upper right\")\n",
    "        plt.grid()\n",
    "        #plt.axvline(4150,color=\"k\")\n",
    "        #plt.axvline(4250,color=\"k\")\n",
    "        #plt.ylim(-0.02,0.4)\n",
    "        #plt.xlim(0.,20000.)\n",
    "    plt.show()"
   ]
  },
  {
   "cell_type": "markdown",
   "id": "481b64c4-2372-4c73-a915-29811a2878ea",
   "metadata": {},
   "source": [
    "# Read again the data"
   ]
  },
  {
   "cell_type": "code",
   "execution_count": 33,
   "id": "2a72e7fe-dc32-4e2f-ba14-8be97a92e5c9",
   "metadata": {},
   "outputs": [],
   "source": [
    "with h5py.File('SLspectra.hdf5', 'r') as hf:\n",
    "    data_in = hf['flambda'][:]\n",
    "    wl_in = hf['wl'][:]\n"
   ]
  },
  {
   "cell_type": "code",
   "execution_count": 34,
   "id": "805dade9-78c0-4dfe-b72a-d475b522f7a1",
   "metadata": {},
   "outputs": [
    {
     "data": {
      "text/plain": [
       "(550, 10000)"
      ]
     },
     "execution_count": 34,
     "metadata": {},
     "output_type": "execute_result"
    }
   ],
   "source": [
    "data_in.shape"
   ]
  },
  {
   "cell_type": "code",
   "execution_count": 35,
   "id": "9aea1116-5da2-476d-a0ff-e74852d29009",
   "metadata": {},
   "outputs": [
    {
     "data": {
      "text/plain": [
       "(10000,)"
      ]
     },
     "execution_count": 35,
     "metadata": {},
     "output_type": "execute_result"
    }
   ],
   "source": [
    "wl_in.shape"
   ]
  },
  {
   "cell_type": "code",
   "execution_count": 36,
   "id": "bf4be033-d5d6-416b-bbc9-6e4a568d8835",
   "metadata": {},
   "outputs": [],
   "source": [
    "#plt.figure(figsize=(16,20))\n",
    "if 0:\n",
    "    for idx in range(NSED):\n",
    "        plt.figure(figsize=(16,2))\n",
    "        #plt.plot(all_wl[idx],all_normspectra[idx], color=all_colors[idx],label=all_tag[idx])\n",
    "        plt.plot(wl_in,data_in[idx,:], color=all_colors[idx],label=all_tag[idx])\n",
    "        plt.legend(loc=\"upper right\")\n",
    "        plt.grid()\n",
    "        #plt.axvline(4150,color=\"k\")\n",
    "        #plt.axvline(4250,color=\"k\")\n",
    "        #plt.ylim(-0.02,0.4)\n",
    "        #plt.xlim(0.,20000.)\n",
    "    plt.show()"
   ]
  },
  {
   "cell_type": "code",
   "execution_count": null,
   "id": "1265182f-6b28-4ea0-95c1-27c2386a3f37",
   "metadata": {},
   "outputs": [],
   "source": []
  }
 ],
 "metadata": {
  "kernelspec": {
   "display_name": "rubin",
   "language": "python",
   "name": "rubin"
  },
  "language_info": {
   "codemirror_mode": {
    "name": "ipython",
    "version": 3
   },
   "file_extension": ".py",
   "mimetype": "text/x-python",
   "name": "python",
   "nbconvert_exporter": "python",
   "pygments_lexer": "ipython3",
   "version": "3.11.0"
  },
  "toc": {
   "base_numbering": 1,
   "nav_menu": {},
   "number_sections": true,
   "sideBar": true,
   "skip_h1_title": false,
   "title_cell": "Table of Contents",
   "title_sidebar": "Contents",
   "toc_cell": false,
   "toc_position": {},
   "toc_section_display": true,
   "toc_window_display": false
  }
 },
 "nbformat": 4,
 "nbformat_minor": 5
}
