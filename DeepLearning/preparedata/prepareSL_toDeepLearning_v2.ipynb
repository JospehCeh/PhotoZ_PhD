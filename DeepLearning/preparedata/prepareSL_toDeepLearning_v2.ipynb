{
 "cells": [
  {
   "cell_type": "markdown",
   "id": "316c4ba5",
   "metadata": {},
   "source": [
    "# Prepare SL Data for Deep Learning analysis\n",
    "\n",
    "- **Part 1**\n",
    "- author : Sylvie Dagoret-Campagne\n",
    "- affiliation : IJCLab/IN2P3/CNRS\n",
    "- creation date : 2023/03/23\n",
    "- last update : 2023/04/24\n",
    "- FORS2 : https://github.com/ericnuss/fors2\n",
    "- Result of StarLight : /sps/lsst/groups/photoz/fors2/FORS2/ResStarlight\n",
    "\n",
    "\n",
    "\n",
    "          /Users/dagoret/MacOSX/GitHub/LSST/FORS2>ls -l\n",
    "              total 0\n",
    "              drwxrwsr-x  3 dagoret  staff   96 Aug 21  2018 ResStarlight\n",
    "              drwxr-xr-x  9 dagoret  staff  288 Dec 19 18:01 fors2"
   ]
  },
  {
   "cell_type": "markdown",
   "id": "c7d7e344",
   "metadata": {},
   "source": [
    "## Import"
   ]
  },
  {
   "cell_type": "code",
   "execution_count": null,
   "id": "e485fec8",
   "metadata": {},
   "outputs": [],
   "source": [
    "import os,sys,re\n",
    "import h5py\n",
    "from astropy.table import Table"
   ]
  },
  {
   "cell_type": "code",
   "execution_count": null,
   "id": "b271dcb5",
   "metadata": {},
   "outputs": [],
   "source": [
    "# Import some generally useful packages\n",
    "\n",
    "import os\n",
    "import numpy as np\n",
    "import matplotlib.pyplot as plt\n",
    "import matplotlib.colors as colors\n",
    "import matplotlib.cm as cmx\n",
    "\n",
    "from matplotlib.backends.backend_pdf import PdfPages\n",
    "\n",
    "%matplotlib inline\n",
    "import pandas as pd\n",
    "from itertools import cycle, islice\n"
   ]
  },
  {
   "cell_type": "code",
   "execution_count": null,
   "id": "f6689d40-c574-471c-b9d6-996002aa4e76",
   "metadata": {},
   "outputs": [],
   "source": [
    "from scipy import ndimage\n",
    "\n",
    "#from scipy import interp as scinterp\n",
    "from scipy.interpolate import interp1d\n",
    "\n",
    "import glob\n",
    "import collections\n",
    "#from def_raw_seds import *"
   ]
  },
  {
   "cell_type": "code",
   "execution_count": null,
   "id": "413f1e89",
   "metadata": {},
   "outputs": [],
   "source": [
    "# to enlarge the sizes\n",
    "params = {'legend.fontsize': 'large',\n",
    "          'figure.figsize': (4, 4),\n",
    "         'axes.labelsize': 'xx-large',\n",
    "         'axes.titlesize':'xx-large',\n",
    "         'xtick.labelsize':'xx-large',\n",
    "         'ytick.labelsize':'xx-large'}\n",
    "plt.rcParams.update(params)"
   ]
  },
  {
   "cell_type": "code",
   "execution_count": null,
   "id": "c1e22fcc",
   "metadata": {},
   "outputs": [],
   "source": [
    "import matplotlib.offsetbox\n",
    "props = dict(boxstyle='round',edgecolor=\"w\",facecolor=\"w\", alpha=0.5)"
   ]
  },
  {
   "cell_type": "code",
   "execution_count": null,
   "id": "b7e9a578-1bb2-4e32-b88f-a69914949eca",
   "metadata": {},
   "outputs": [],
   "source": [
    "from def_raw_seds import *"
   ]
  },
  {
   "cell_type": "code",
   "execution_count": null,
   "id": "93d5eb5c-6c03-45fe-9795-17e8ed32d0d7",
   "metadata": {},
   "outputs": [],
   "source": [
    "from raw_data_analysis import *"
   ]
  },
  {
   "cell_type": "code",
   "execution_count": null,
   "id": "efbeb2ca-5324-4f3d-8889-c163a0633f67",
   "metadata": {},
   "outputs": [],
   "source": [
    "#from spectroscopy import *"
   ]
  },
  {
   "cell_type": "code",
   "execution_count": null,
   "id": "7ce825ef",
   "metadata": {},
   "outputs": [],
   "source": [
    "# Import the primary photometry classes from rubin_sim.photUtils\n",
    "\n",
    "#import rubin_sim.phot_Utils.Bandpass as Bandpass\n",
    "#import rubin_sim.phot_Utils.Sed as Sed\n",
    "#from rubin_sim.data import get_data_dir"
   ]
  },
  {
   "cell_type": "code",
   "execution_count": null,
   "id": "a20e3234",
   "metadata": {},
   "outputs": [],
   "source": [
    "#pysynphot_root_path=os.environ['PYSYN_CDBS']\n",
    "#path_sed_calspec=os.path.join(pysynphot_root_path,'calspec')\n",
    "# pysynphot\n",
    "#import pysynphot as S\n",
    "#S.refs.setref(area=1)\n",
    "#S.refs.getref()"
   ]
  },
  {
   "cell_type": "code",
   "execution_count": null,
   "id": "9f50591a-3570-4c90-a479-3f2ea49deb91",
   "metadata": {
    "tags": []
   },
   "outputs": [],
   "source": [
    "WL_BALMER_BREAK= 3646.0 \n",
    "NQUANTILES = 10\n",
    "quantiles = np.linspace(0,1,NQUANTILES+1)\n",
    "quantiles"
   ]
  },
  {
   "cell_type": "code",
   "execution_count": null,
   "id": "8e987577-e786-40e4-ba4a-324ddbc57f79",
   "metadata": {
    "tags": []
   },
   "outputs": [],
   "source": [
    "FLAG_REMOVE_RMAG0 = True"
   ]
  },
  {
   "cell_type": "markdown",
   "id": "f69510dd-78da-48cf-bffb-b14694fc548b",
   "metadata": {},
   "source": [
    "## Start"
   ]
  },
  {
   "cell_type": "code",
   "execution_count": null,
   "id": "edaca853-9daa-42fe-b38a-e8edbca8a083",
   "metadata": {},
   "outputs": [],
   "source": [
    "cwd=os.path.abspath(\"\")\n",
    "main_dir = cwd\n",
    "print(f\"notebook current executing path : {cwd}\")"
   ]
  },
  {
   "cell_type": "markdown",
   "id": "a4d93f7b",
   "metadata": {},
   "source": [
    "## Configuration"
   ]
  },
  {
   "cell_type": "markdown",
   "id": "166b2775",
   "metadata": {},
   "source": [
    "### SL"
   ]
  },
  {
   "cell_type": "markdown",
   "id": "420390a8-8384-49a5-9a8b-a16888600007",
   "metadata": {},
   "source": [
    "## Start"
   ]
  },
  {
   "cell_type": "markdown",
   "id": "7f6b5b89-440f-4d2d-87d6-9eb190e215bd",
   "metadata": {},
   "source": [
    "### Catalog"
   ]
  },
  {
   "cell_type": "code",
   "execution_count": null,
   "id": "0d1c76e0-51f7-47f0-9fc8-70f426930afd",
   "metadata": {},
   "outputs": [],
   "source": [
    "t = Table.read(filename_fits_catalog)"
   ]
  },
  {
   "cell_type": "code",
   "execution_count": null,
   "id": "2ee70902-b8ad-4407-9314-25ff3d8b2f77",
   "metadata": {},
   "outputs": [],
   "source": [
    "t"
   ]
  },
  {
   "cell_type": "markdown",
   "id": "ddbbab8c-201b-4c18-bbb6-2f9fd41878e7",
   "metadata": {},
   "source": [
    "### List"
   ]
  },
  {
   "cell_type": "code",
   "execution_count": null,
   "id": "ac4aea36-58e8-4517-9238-e479b6cded17",
   "metadata": {},
   "outputs": [],
   "source": [
    "lst=fors2_jct_SL() #remet les spectres dans le rest frame (ie a z=0)"
   ]
  },
  {
   "cell_type": "code",
   "execution_count": null,
   "id": "b6131f77-e460-4130-8706-712cf21d75f4",
   "metadata": {},
   "outputs": [],
   "source": [
    "lst = sorted(lst)\n",
    "print(lst)"
   ]
  },
  {
   "cell_type": "code",
   "execution_count": null,
   "id": "7d4697ce-d505-447f-a835-63488402bdf7",
   "metadata": {},
   "outputs": [],
   "source": [
    "all_specfilenames = os.listdir(path_BC)"
   ]
  },
  {
   "cell_type": "code",
   "execution_count": null,
   "id": "f02923c6-2519-43b9-8b99-1be525af9ff9",
   "metadata": {},
   "outputs": [],
   "source": [
    "all_specfilenames = sorted(all_specfilenames)"
   ]
  },
  {
   "cell_type": "code",
   "execution_count": null,
   "id": "6860eece-a67f-4db1-a648-6c0a4756c995",
   "metadata": {},
   "outputs": [],
   "source": [
    "all_numbers = [ int(re.findall('^SPEC(.*)_HZ4_BC[.]txt$',fn)[0]) for fn in all_specfilenames ]"
   ]
  },
  {
   "cell_type": "code",
   "execution_count": null,
   "id": "afca10c0-3271-44d6-b0a3-7a62cc087d8c",
   "metadata": {},
   "outputs": [],
   "source": [
    "all_numbers = sorted(all_numbers)"
   ]
  },
  {
   "cell_type": "code",
   "execution_count": null,
   "id": "a4accc9c-9848-40e6-b5ae-a2af990c15df",
   "metadata": {},
   "outputs": [],
   "source": [
    "NSED = len(all_numbers)\n",
    "# wavelength bin colors\n",
    "jet = plt.get_cmap('jet')\n",
    "cNorm = colors.Normalize(vmin=0, vmax=NSED)\n",
    "scalarMap = cmx.ScalarMappable(norm=cNorm, cmap=jet)\n",
    "all_colors = scalarMap.to_rgba(np.arange(NSED), alpha=1)"
   ]
  },
  {
   "cell_type": "code",
   "execution_count": null,
   "id": "6a463bfd-808e-47a6-95ce-7cecf2e53e0e",
   "metadata": {},
   "outputs": [],
   "source": [
    "cut = t[\"ID\"] == 3\n",
    "t[cut]"
   ]
  },
  {
   "cell_type": "markdown",
   "id": "4bff5f85-47d5-45eb-b83c-5c33a0c4fb36",
   "metadata": {},
   "source": [
    "# Read all SEDS and noremalised them in a range 0 - 10000 nm and interpolate"
   ]
  },
  {
   "cell_type": "code",
   "execution_count": null,
   "id": "cadebb1e-1993-40ac-ba4c-8a377de71d1b",
   "metadata": {
    "tags": []
   },
   "outputs": [],
   "source": [
    "WL = np.arange(0,10000,1)\n",
    "NWL = len(WL)\n",
    "NSAMPLES = NSED\n",
    "flux_out=np.zeros((NSAMPLES,NWL))"
   ]
  },
  {
   "cell_type": "code",
   "execution_count": null,
   "id": "5123e51b-ed36-4d83-96a4-b83deedb1859",
   "metadata": {},
   "outputs": [],
   "source": [
    "all_normspectra = []\n",
    "all_integ = []\n",
    "all_tag = []\n",
    "all_sed = []\n",
    "\n",
    "all_redshifts = []\n",
    "all_num = []\n",
    "all_ra = []\n",
    "all_dec = []\n",
    "all_Rmag = []\n",
    "all_RV = []\n",
    "all_eRV = []\n",
    "all_RT = []\n",
    "all_Nsp = []\n",
    "\n",
    "\n",
    "for idx,the_num in enumerate(all_numbers):\n",
    "    \n",
    "    tcut     = t[\"ID\"] == the_num\n",
    "    redshift = t[tcut][\"z\"].value[0]\n",
    "    lines    = t[tcut][\"Lines\"].value[0]\n",
    "    ra       = t[tcut][\"RAJ2000\"].value[0]\n",
    "    dec      = t[tcut][\"DEJ2000\"].value[0]\n",
    "    Rmag     = t[tcut][\"Rmag\"].value[0]\n",
    "    RV       = t[tcut][\"RV\"].value[0]\n",
    "    e_RV     = t[tcut][\"e_RV\"].value[0]\n",
    "    RT       = t[tcut][\"RT\"].value[0]\n",
    "    Nsp       = t[tcut][\"Nsp\"].value[0]\n",
    "    \n",
    "    \n",
    "    \n",
    "    \n",
    "    filename = f\"SPEC{the_num}_HZ4_BC.txt\"\n",
    "    tag = f\"SPEC{the_num} , z={redshift:.2f}, lines={lines}\"\n",
    "    fullfilename = os.path.join(path_BC,filename)\n",
    "    the_sed=SED(fullfilename,label=tag)\n",
    "    all_sed.append(the_sed)\n",
    "    arr = np.loadtxt(fullfilename)\n",
    "    \n",
    "    # select wavelength in an appropriate range \n",
    "    wl=arr[:-1,0]  \n",
    "    wlrange = np.where(np.logical_and(wl>=0,wl<=10000))[0]\n",
    "    \n",
    "    wl=arr[wlrange,0] \n",
    "    flambda=arr[wlrange,1]\n",
    "    \n",
    "    \n",
    "    x = WL\n",
    "    y = np.interp(x, wl, flambda)\n",
    "    \n",
    "    \n",
    "    # normalize spectrum wrt its integral between 0-10000 angstrom\n",
    "    integ = np.trapz(y,x)\n",
    "    the_normspectra = y/integ\n",
    "    flux_out[idx,:]= the_normspectra\n",
    "    \n",
    "    all_normspectra.append(the_normspectra)\n",
    "    \n",
    "    all_tag.append(tag)\n",
    "    \n",
    "    # RAJ2000\tDEJ2000\tz\tu_z\tRmag\tRV\te_RV\tRT\tNsp\t\n",
    "    all_redshifts.append(redshift)\n",
    "    all_num.append(the_num) \n",
    "    all_ra.append(ra) \n",
    "    all_dec.append(dec) \n",
    "    all_Rmag.append(Rmag)\n",
    "    all_RV.append(RV)\n",
    "    all_eRV.append(e_RV)\n",
    "    all_RT.append(RT)\n",
    "    all_Nsp.append(Nsp)\n",
    "    "
   ]
  },
  {
   "cell_type": "code",
   "execution_count": null,
   "id": "b3821c44-64c3-4058-85fd-c80cefb85a0a",
   "metadata": {
    "tags": []
   },
   "outputs": [],
   "source": [
    "all_redshifts = np.array(all_redshifts)\n",
    "all_num = np.array(all_num)\n",
    "all_ra = np.array(all_ra)\n",
    "all_dec = np.array(all_dec)\n",
    "all_Rmag = np.array(all_Rmag)\n",
    "all_RV = np.array(all_RV)\n",
    "all_eRV = np.array(all_eRV)\n",
    "all_RT = np.array(all_RT)\n",
    "all_Nsp = np.array(all_Nsp)"
   ]
  },
  {
   "cell_type": "markdown",
   "id": "758cd262-1e96-4ecb-8b19-595d284e4a97",
   "metadata": {},
   "source": [
    "## Remove RMag = 0"
   ]
  },
  {
   "cell_type": "code",
   "execution_count": null,
   "id": "962c6f98-4f99-4f58-befa-8bfa22db9fc3",
   "metadata": {
    "tags": []
   },
   "outputs": [],
   "source": [
    "if FLAG_REMOVE_RMAG0:\n",
    "    idx_selected = np.where(all_Rmag != 0)[0]"
   ]
  },
  {
   "cell_type": "code",
   "execution_count": null,
   "id": "7bd80eb1-5b4c-44f4-bdd7-2559ec059212",
   "metadata": {
    "tags": []
   },
   "outputs": [],
   "source": [
    "if FLAG_REMOVE_RMAG0:\n",
    "    all_redshifts = all_redshifts[idx_selected]\n",
    "    all_num       = all_num[idx_selected]\n",
    "    all_ra        = all_ra[idx_selected]\n",
    "    all_dec       = all_dec[idx_selected]\n",
    "    all_Rmag      = all_Rmag[idx_selected]\n",
    "    all_RV        = all_RV[idx_selected]\n",
    "    all_eRV       = all_eRV[idx_selected]\n",
    "    all_RT        = all_RT[idx_selected]\n",
    "    all_Nsp       = all_Nsp[idx_selected]"
   ]
  },
  {
   "cell_type": "code",
   "execution_count": null,
   "id": "fdc933a6-8741-4ca7-84b4-cf3b2a63341f",
   "metadata": {
    "tags": []
   },
   "outputs": [],
   "source": [
    "if FLAG_REMOVE_RMAG0:\n",
    "    NSAMPLES = len(idx_selected)\n",
    "\n",
    "    flux_out_sel=np.zeros((NSAMPLES,NWL))\n",
    "    flux_out_sel = flux_out[idx_selected,:]\n",
    "    flux_out     = flux_out_sel "
   ]
  },
  {
   "cell_type": "markdown",
   "id": "26976961-0e8a-4923-938b-d670fd5e32f2",
   "metadata": {},
   "source": [
    "# Blue part / red part "
   ]
  },
  {
   "cell_type": "code",
   "execution_count": null,
   "id": "c7c06965-29cb-4865-b36f-1661d80a5021",
   "metadata": {
    "tags": []
   },
   "outputs": [],
   "source": [
    "idx_blue = np.where (WL<WL_BALMER_BREAK)[0]\n",
    "idx_red = np.where (WL>=WL_BALMER_BREAK)[0]\n",
    "wl_blue = WL[idx_blue]\n",
    "wl_red = WL[idx_red]"
   ]
  },
  {
   "cell_type": "code",
   "execution_count": null,
   "id": "e2d131ea-d1fe-47a9-a8c4-85426bed1451",
   "metadata": {
    "tags": []
   },
   "outputs": [],
   "source": [
    "# idx=0 flux before Balmer Break\n",
    "# idx=1 flux after Balmer Break\n",
    "# idx=2 flux sum  before and after Balmer Break\n",
    "# idx=3 flux fraction before Balmer break\n",
    "# idx=4 flux fraction after Balmer break\n",
    "# idx=5 flux ratio  \n",
    "# idx=6 flux ratio  \n",
    "\n",
    "\n",
    "flux_integ=np.zeros((NSAMPLES,7))"
   ]
  },
  {
   "cell_type": "code",
   "execution_count": null,
   "id": "928560b8-17e7-4a91-865b-b165d1398176",
   "metadata": {
    "tags": []
   },
   "outputs": [],
   "source": [
    "for idx in range(NSAMPLES):\n",
    "    \n",
    "    flux_blue = flux_out[idx,idx_blue]\n",
    "    flux_red  = flux_out[idx,idx_red]\n",
    "    \n",
    "    flux_integ[idx,0] =  np.trapz(flux_blue ,wl_blue)\n",
    "    flux_integ[idx,1] =  np.trapz(flux_red ,wl_red)\n",
    "    flux_integ[idx,2] = flux_integ[idx,0] + flux_integ[idx,1] \n",
    "    \n",
    "    flux_integ[idx,3] = flux_integ[idx,0] / flux_integ[idx,2] \n",
    "    flux_integ[idx,4] = flux_integ[idx,1] / flux_integ[idx,2] \n",
    "    \n",
    "    flux_integ[idx,5] = flux_integ[idx,0] / flux_integ[idx,1] \n",
    "    flux_integ[idx,6] = flux_integ[idx,1] / flux_integ[idx,0] \n",
    "    "
   ]
  },
  {
   "cell_type": "code",
   "execution_count": null,
   "id": "6fce505a-d558-454d-8704-96260a800171",
   "metadata": {
    "tags": []
   },
   "outputs": [],
   "source": [
    "plt.figure(figsize=(10,6))\n",
    "plt.hist(flux_integ[:,3],bins=50 );\n",
    "quantiles_thr = np.quantile(flux_integ[:,3], quantiles)\n",
    "digitized = np.digitize(flux_integ[:,3],quantiles_thr)\n",
    "\n",
    "for thr in quantiles_thr:\n",
    "    plt.axvline(thr,color='k')\n",
    "    \n",
    "plt.title(\"fraction of energy before Balmer break\")"
   ]
  },
  {
   "cell_type": "code",
   "execution_count": null,
   "id": "8185877d-4261-4202-8a31-387a32cf7ae9",
   "metadata": {
    "tags": []
   },
   "outputs": [],
   "source": [
    "digitized"
   ]
  },
  {
   "cell_type": "code",
   "execution_count": null,
   "id": "9dda489d-8700-46b9-b03f-1ebbd9ddb2b7",
   "metadata": {
    "tags": []
   },
   "outputs": [],
   "source": [
    "plt.hist(flux_integ[:,4],bins=50,facecolor=\"b\" );"
   ]
  },
  {
   "cell_type": "code",
   "execution_count": null,
   "id": "6fd877b7-26e4-4cba-8613-7955e60e5d97",
   "metadata": {
    "tags": []
   },
   "outputs": [],
   "source": [
    "all_ra.shape"
   ]
  },
  {
   "cell_type": "code",
   "execution_count": null,
   "id": "d24498c1-630e-4469-a42a-6cf8658a44f1",
   "metadata": {},
   "outputs": [],
   "source": [
    "jet2 = plt.get_cmap('jet')\n",
    "cNorm2 = colors.Normalize(vmin=0, vmax=np.max(all_redshifts))\n",
    "scalarMap2 = cmx.ScalarMappable(norm=cNorm2, cmap=jet)\n",
    "all_colors2 = scalarMap2.to_rgba(all_redshifts, alpha=1)"
   ]
  },
  {
   "cell_type": "markdown",
   "id": "454d5897-c58f-4a8c-b99a-28705150f80d",
   "metadata": {},
   "source": [
    "## Position of SL galaxies vs redshifts"
   ]
  },
  {
   "cell_type": "code",
   "execution_count": null,
   "id": "6b26cf4c-0c45-4dba-a7c8-c9eaa999510a",
   "metadata": {},
   "outputs": [],
   "source": [
    "fig = plt.figure(figsize=(5,4))\n",
    "ax = fig.add_subplot(1,1,1)\n",
    "#im = ax.scatter(all_ra,all_dec,c=all_colors2,s=10,marker=\"o\",alpha=0.5,cmap=jet2)\n",
    "im = ax.scatter(all_ra,all_dec,c=all_redshifts,s=10,marker=\"o\",alpha=0.5,cmap=\"jet\")\n",
    "ax.grid()\n",
    "ax.set_xlabel(\"ra (deg)\")\n",
    "ax.set_ylabel(\"dec (deg)\")\n",
    "ax.set_title(\"Sky location of FORS2 galaxies\")\n",
    "cbar = fig.colorbar(im, ax=ax)\n",
    "cbar.set_label('redshift')"
   ]
  },
  {
   "cell_type": "markdown",
   "id": "f0e3d1c8-8e2d-4357-9846-acbcf3c523d5",
   "metadata": {},
   "source": [
    "## Position vs Redshift"
   ]
  },
  {
   "cell_type": "code",
   "execution_count": null,
   "id": "9e973a09-f0cb-4212-91f9-5d635051fd06",
   "metadata": {},
   "outputs": [],
   "source": [
    "fig, axes = plt.subplots(1, 2, figsize=(16, 6))\n",
    "for idx, ax in enumerate(axes.flatten()):\n",
    "    if idx == 0:\n",
    "        ax.hist(all_redshifts,bins=50,facecolor=\"b\");\n",
    "        ax.set_xlabel(\"redshift\")\n",
    "    else:\n",
    "        im = ax.scatter(all_ra,all_dec,c=all_redshifts,s=10,marker=\"o\",alpha=0.5,cmap=\"jet\")\n",
    "        cbar = fig.colorbar(im, ax=ax)\n",
    "        cbar.set_label('redshift')\n",
    "        ax.grid()\n",
    "        ax.set_xlabel(\"ra (deg)\")\n",
    "        ax.set_ylabel(\"dec (deg)\")\n",
    "        ax.set_title(\"Sky location of FORS2 galaxies\")\n",
    "        #fig.colorbar(im, ax=ax)\n",
    "plt.tight_layout()  \n",
    "plt.suptitle(\"redshift\",fontsize=20)"
   ]
  },
  {
   "cell_type": "markdown",
   "id": "7e8902e0-a261-475c-8613-8774799e9001",
   "metadata": {},
   "source": [
    "## Position of galaxies vs Rmag"
   ]
  },
  {
   "cell_type": "code",
   "execution_count": null,
   "id": "38f50085-2069-4440-b10a-a8055cc1b3b1",
   "metadata": {
    "tags": []
   },
   "outputs": [],
   "source": [
    "fig, axes = plt.subplots(1, 2, figsize=(16, 6))\n",
    "for idx, ax in enumerate(axes.flatten()):\n",
    "    if idx == 0:\n",
    "        ax.hist(all_Rmag,bins=50,facecolor=\"b\");\n",
    "        ax.set_xlabel(\"Rmag\")\n",
    "    else:\n",
    "        im = ax.scatter(all_ra,all_dec,c=all_Rmag,s=10,marker=\"o\",alpha=0.5,cmap=\"jet\")\n",
    "        cbar = fig.colorbar(im, ax=ax)\n",
    "        cbar.set_label('Rmag')\n",
    "        ax.grid()\n",
    "        ax.set_xlabel(\"ra (deg)\")\n",
    "        ax.set_ylabel(\"dec (deg)\")\n",
    "        ax.set_title(\"Sky location of FORS2 galaxies\")\n",
    "        #fig.colorbar(im, ax=ax)\n",
    "plt.tight_layout() \n",
    "plt.suptitle(\"Rmag\",fontsize=20)"
   ]
  },
  {
   "cell_type": "markdown",
   "id": "38d267ab-f51c-4dbe-84fe-90b13b0e7c8e",
   "metadata": {},
   "source": [
    "## Position of galaxies vs RT"
   ]
  },
  {
   "cell_type": "code",
   "execution_count": null,
   "id": "48f60026-cbe6-4db5-8411-770e4cf7b769",
   "metadata": {
    "tags": []
   },
   "outputs": [],
   "source": [
    "fig, axes = plt.subplots(1, 2, figsize=(16, 6))\n",
    "for idx, ax in enumerate(axes.flatten()):\n",
    "    if idx == 0:\n",
    "        ax.hist(all_RT,bins=50,facecolor=\"b\");\n",
    "        ax.set_xlabel(\"RT\")\n",
    "    else:\n",
    "        im = ax.scatter(all_ra,all_dec,c=all_RT,s=10,marker=\"o\",alpha=0.5,cmap=\"jet\")\n",
    "        cbar = fig.colorbar(im, ax=ax)\n",
    "        cbar.set_label('RT')\n",
    "        ax.grid()\n",
    "        ax.set_xlabel(\"ra (deg)\")\n",
    "        ax.set_ylabel(\"dec (deg)\")\n",
    "        ax.set_title(\"Sky location of FORS2 galaxies\")\n",
    "        #fig.colorbar(im, ax=ax)\n",
    "plt.tight_layout()\n",
    "plt.suptitle(\"RT\",fontsize=20)"
   ]
  },
  {
   "cell_type": "markdown",
   "id": "1c2a732c-1ca2-4ca1-a3f1-a20bcc30cdfe",
   "metadata": {},
   "source": [
    "## Position of galaxies vs RV"
   ]
  },
  {
   "cell_type": "code",
   "execution_count": null,
   "id": "481a18bf-e1b3-46bb-956a-d78367de95f0",
   "metadata": {
    "tags": []
   },
   "outputs": [],
   "source": [
    "fig, axes = plt.subplots(1, 2, figsize=(16, 6))\n",
    "for idx, ax in enumerate(axes.flatten()):\n",
    "    if idx == 0:\n",
    "        ax.hist(all_RV,bins=50,facecolor=\"b\");\n",
    "        ax.set_xlabel(\"RV\")\n",
    "    else:\n",
    "        im = ax.scatter(all_ra,all_dec,c=all_RV,s=10,marker=\"o\",alpha=0.5,cmap=\"jet\")\n",
    "        cbar = fig.colorbar(im, ax=ax)\n",
    "        cbar.set_label('RV')\n",
    "        ax.grid()\n",
    "        ax.set_xlabel(\"ra (deg)\")\n",
    "        ax.set_ylabel(\"dec (deg)\")\n",
    "        ax.set_title(\"Sky location of FORS2 galaxies\")\n",
    "        #fig.colorbar(im, ax=ax)\n",
    "plt.tight_layout() \n",
    "plt.suptitle(\"RV\",fontsize=20)"
   ]
  },
  {
   "cell_type": "markdown",
   "id": "a35cdc12-fa0f-48be-beb6-fa028ef2f4c2",
   "metadata": {},
   "source": [
    "## Position vs Nsp"
   ]
  },
  {
   "cell_type": "code",
   "execution_count": null,
   "id": "89f7f029-7910-4c5a-8ef7-285e674497b7",
   "metadata": {},
   "outputs": [],
   "source": [
    "fig, axes = plt.subplots(1, 2, figsize=(16, 6))\n",
    "for idx, ax in enumerate(axes.flatten()):\n",
    "    if idx == 0:\n",
    "        ax.hist(all_Nsp,bins=50,facecolor=\"b\");\n",
    "        ax.set_xlabel(\"Nsp\")\n",
    "    else:\n",
    "        im = ax.scatter(all_ra,all_dec,c=all_Nsp,s=10,marker=\"o\",alpha=0.5,cmap=\"jet\")\n",
    "        cbar = fig.colorbar(im, ax=ax)\n",
    "        cbar.set_label('Nsp')\n",
    "        ax.grid()\n",
    "        ax.set_xlabel(\"ra (deg)\")\n",
    "        ax.set_ylabel(\"dec (deg)\")\n",
    "        ax.set_title(\"Sky location of FORS2 galaxies\")\n",
    "        #fig.colorbar(im, ax=ax)\n",
    "plt.tight_layout() \n",
    "plt.suptitle(\"Nsp\",fontsize=20)"
   ]
  },
  {
   "cell_type": "markdown",
   "id": "5ba4cb25-f6a2-4196-9b37-480db1b09744",
   "metadata": {},
   "source": [
    "# Save in a file "
   ]
  },
  {
   "cell_type": "code",
   "execution_count": null,
   "id": "b9a0f53f-c6e9-4aea-86da-927277d4514b",
   "metadata": {},
   "outputs": [],
   "source": [
    "with h5py.File('SLspectra.hdf5', 'w') as hf:\n",
    "    hf.create_dataset(\"flambda\", data = flux_out,dtype=\"float32\")\n",
    "    hf.create_dataset(\"wl\", data = WL,dtype=\"float32\")\n",
    "    hf.create_dataset(\"redshift\", data = all_redshifts,dtype=\"float32\")\n",
    "    hf.create_dataset(\"quantile\", data = digitized,dtype=\"int\")\n",
    "    hf.create_dataset(\"num\", data = all_num,dtype=\"int\")\n",
    "    hf.create_dataset(\"fracinfbalmer\", data = flux_integ[:,3],dtype=\"float32\")\n",
    "    \n",
    "    hf.create_dataset(\"ra\", data = all_ra,dtype=\"float32\")\n",
    "    hf.create_dataset(\"dec\", data = all_dec,dtype=\"float32\")\n",
    "    hf.create_dataset(\"Rmag\", data = all_Rmag,dtype=\"float32\")\n",
    "    hf.create_dataset(\"RV\", data = all_RV,dtype=\"float32\")\n",
    "    hf.create_dataset(\"eRV\", data = all_eRV,dtype=\"float32\")\n",
    "    hf.create_dataset(\"RT\", data = all_RT,dtype=\"float32\")\n",
    "    hf.create_dataset(\"Nsp\", data = all_Nsp,dtype=\"float32\")"
   ]
  },
  {
   "cell_type": "code",
   "execution_count": null,
   "id": "82e0b7f8-5036-4e26-bd5f-a0344c3194e2",
   "metadata": {},
   "outputs": [],
   "source": [
    "hf.close()"
   ]
  },
  {
   "cell_type": "markdown",
   "id": "dbeb82f4-3e01-4003-a79d-d08e353b8282",
   "metadata": {},
   "source": [
    "# Plots"
   ]
  },
  {
   "cell_type": "code",
   "execution_count": null,
   "id": "a5eea37b-2948-478c-8081-f9a944712451",
   "metadata": {
    "tags": []
   },
   "outputs": [],
   "source": [
    "cmap = plt.cm.get_cmap('jet', NQUANTILES) "
   ]
  },
  {
   "cell_type": "code",
   "execution_count": null,
   "id": "e0560466-c7d1-4fce-9391-292c34547532",
   "metadata": {
    "tags": []
   },
   "outputs": [],
   "source": [
    "cmap"
   ]
  },
  {
   "cell_type": "code",
   "execution_count": null,
   "id": "6660e701-440e-45c1-b2e5-efc8cccad632",
   "metadata": {
    "tags": []
   },
   "outputs": [],
   "source": [
    "cmap(0)"
   ]
  },
  {
   "cell_type": "code",
   "execution_count": null,
   "id": "b5f61963-37fb-4d89-b778-f94fcd36161c",
   "metadata": {},
   "outputs": [],
   "source": [
    "fig = plt.figure(figsize=(16,10))\n",
    "ax=fig.add_subplot(1,1,1)\n",
    "for idx in range(NSAMPLES):\n",
    "       \n",
    "    nq = digitized[idx]-1\n",
    "    col =cmap(NQUANTILES-nq)\n",
    "    ax.plot(WL,flux_out[idx,:], color=col)\n",
    "    \n",
    "    \n",
    "ax.axvline(WL_BALMER_BREAK,color=\"k\")    \n",
    "ax.legend(loc=\"upper right\")\n",
    "ax.grid()\n",
    "ax.set_xlabel(\"wavelength $\\lambda   (\\AA)$\")\n",
    "ax.set_title(\"Spectra Energy distribution of SL synthetised Templates (SED)\")"
   ]
  },
  {
   "cell_type": "code",
   "execution_count": null,
   "id": "6e35a41f-09af-426c-b460-62c7d435b91d",
   "metadata": {},
   "outputs": [],
   "source": [
    "if 1:\n",
    "    #plt.figure(figsize=(16,20))\n",
    "    for idx in range(NSAMPLES):\n",
    "        plt.figure(figsize=(16,2))\n",
    "      \n",
    "        nq = digitized[idx]-1\n",
    "        col =cmap(NQUANTILES-nq)\n",
    "    \n",
    "        plt.plot(WL,flux_out[idx,:], color=col,label=all_tag[idx])\n",
    "        plt.legend(loc=\"upper right\")\n",
    "        plt.grid()\n",
    "        #plt.axvline(4150,color=\"k\")\n",
    "        #plt.axvline(4250,color=\"k\")\n",
    "        #plt.ylim(-0.02,0.4)\n",
    "        #plt.xlim(0.,20000.)\n",
    "        \n",
    "    plt.show()"
   ]
  },
  {
   "cell_type": "markdown",
   "id": "481b64c4-2372-4c73-a915-29811a2878ea",
   "metadata": {},
   "source": [
    "# Read again the data"
   ]
  },
  {
   "cell_type": "code",
   "execution_count": null,
   "id": "2a72e7fe-dc32-4e2f-ba14-8be97a92e5c9",
   "metadata": {},
   "outputs": [],
   "source": [
    "with h5py.File('SLspectra.hdf5', 'r') as hf:\n",
    "    data_in = hf['flambda'][:]\n",
    "    wl_in = hf['wl'][:]\n"
   ]
  },
  {
   "cell_type": "code",
   "execution_count": null,
   "id": "805dade9-78c0-4dfe-b72a-d475b522f7a1",
   "metadata": {},
   "outputs": [],
   "source": [
    "data_in.shape"
   ]
  },
  {
   "cell_type": "code",
   "execution_count": null,
   "id": "9aea1116-5da2-476d-a0ff-e74852d29009",
   "metadata": {},
   "outputs": [],
   "source": [
    "wl_in.shape"
   ]
  },
  {
   "cell_type": "code",
   "execution_count": null,
   "id": "bf4be033-d5d6-416b-bbc9-6e4a568d8835",
   "metadata": {},
   "outputs": [],
   "source": [
    "#plt.figure(figsize=(16,20))\n",
    "if 0:\n",
    "    for idx in range(NSED):\n",
    "        plt.figure(figsize=(16,2))\n",
    "        #plt.plot(all_wl[idx],all_normspectra[idx], color=all_colors[idx],label=all_tag[idx])\n",
    "        plt.plot(wl_in,data_in[idx,:], color=all_colors[idx],label=all_tag[idx])\n",
    "        plt.legend(loc=\"upper right\")\n",
    "        plt.grid()\n",
    "        #plt.axvline(4150,color=\"k\")\n",
    "        #plt.axvline(4250,color=\"k\")\n",
    "        #plt.ylim(-0.02,0.4)\n",
    "        #plt.xlim(0.,20000.)\n",
    "    plt.show()"
   ]
  },
  {
   "cell_type": "code",
   "execution_count": null,
   "id": "1265182f-6b28-4ea0-95c1-27c2386a3f37",
   "metadata": {},
   "outputs": [],
   "source": []
  }
 ],
 "metadata": {
  "kernelspec": {
   "display_name": "Python 3 (ipykernel)",
   "language": "python",
   "name": "python3"
  },
  "language_info": {
   "codemirror_mode": {
    "name": "ipython",
    "version": 3
   },
   "file_extension": ".py",
   "mimetype": "text/x-python",
   "name": "python",
   "nbconvert_exporter": "python",
   "pygments_lexer": "ipython3",
   "version": "3.9.16"
  },
  "toc": {
   "base_numbering": 1,
   "nav_menu": {},
   "number_sections": true,
   "sideBar": true,
   "skip_h1_title": false,
   "title_cell": "Table of Contents",
   "title_sidebar": "Contents",
   "toc_cell": false,
   "toc_position": {},
   "toc_section_display": true,
   "toc_window_display": false
  }
 },
 "nbformat": 4,
 "nbformat_minor": 5
}
