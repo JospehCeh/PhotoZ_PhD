{
 "cells": [
  {
   "cell_type": "code",
   "execution_count": 1,
   "id": "87de05ef",
   "metadata": {},
   "outputs": [
    {
     "name": "stderr",
     "output_type": "stream",
     "text": [
      "2023-10-24 09:52:55.761937: W external/org_tensorflow/tensorflow/compiler/xla/service/gpu/nvptx_compiler.cc:497] The NVIDIA driver's CUDA version is 11.3 which is older than the ptxas CUDA version (11.4.152). Because the driver is older than the ptxas version, XLA is disabling parallel compilation, which may slow down compilation. You should update your NVIDIA driver or use the NVIDIA-provided CUDA forward compatibility packages.\n"
     ]
    }
   ],
   "source": [
    "from EmuLP import Cosmology, Filter, Galaxy, Estimator, Extinction, Template\n",
    "\n",
    "import numpy as np\n",
    "import matplotlib.pyplot as plt\n",
    "import pandas as pd\n",
    "import seaborn as sns\n",
    "import jax_cosmo as jc\n",
    "import jax.numpy as jnp\n",
    "from jax import vmap, jit\n",
    "import json, pickle\n",
    "import os,sys,copy\n",
    "from tqdm import tqdm\n",
    "from collections import namedtuple\n",
    "\n",
    "from scipy.interpolate import interp1d\n",
    "from jax_cosmo.scipy.interpolate import InterpolatedUnivariateSpline as j_spline"
   ]
  },
  {
   "cell_type": "code",
   "execution_count": 2,
   "id": "7b179cd8-7336-446b-bf6d-3f93919c3840",
   "metadata": {},
   "outputs": [],
   "source": [
    "Cosmo = namedtuple('Cosmo', ['h0', 'om0', 'l0', 'omt'])\n",
    "sedpyFilter = namedtuple('sedpyFilter', ['name', 'wavelengths', 'transmission'])\n",
    "BaseTemplate = namedtuple('BaseTemplate', ['name', 'flux'])\n",
    "Observation = namedtuple('Observation', ['num', 'AB_fluxes', 'AB_f_errors', 'z_spec'])\n",
    "DustLaw = namedtuple('DustLaw', ['name', 'EBV', 'transmission'])"
   ]
  },
  {
   "cell_type": "code",
   "execution_count": 3,
   "id": "f573c7b3-501b-47e2-ad22-b71aa130c744",
   "metadata": {},
   "outputs": [
    {
     "name": "stdout",
     "output_type": "stream",
     "text": [
      "Loading filters :\n"
     ]
    },
    {
     "name": "stderr",
     "output_type": "stream",
     "text": [
      "  0%|          | 0/7 [00:00<?, ?it/s]"
     ]
    },
    {
     "ename": "FileNotFoundError",
     "evalue": "/sps/lsst/groups/photoz/jocheval/LEPHARE/filt/cosmos/u_cfht.lowres not found.",
     "output_type": "error",
     "traceback": [
      "\u001b[0;31m---------------------------------------------------------------------------\u001b[0m",
      "\u001b[0;31mFileNotFoundError\u001b[0m                         Traceback (most recent call last)",
      "Cell \u001b[0;32mIn[3], line 23\u001b[0m\n\u001b[1;32m     21\u001b[0m \u001b[38;5;28mprint\u001b[39m(\u001b[38;5;124m\"\u001b[39m\u001b[38;5;124mLoading filters :\u001b[39m\u001b[38;5;124m\"\u001b[39m)\n\u001b[1;32m     22\u001b[0m filters_dict \u001b[38;5;241m=\u001b[39m inputs[\u001b[38;5;124m'\u001b[39m\u001b[38;5;124mFilters\u001b[39m\u001b[38;5;124m'\u001b[39m]\n\u001b[0;32m---> 23\u001b[0m filters_arr \u001b[38;5;241m=\u001b[39m \u001b[38;5;28;43mtuple\u001b[39;49m\u001b[43m(\u001b[49m\u001b[43m \u001b[49m\u001b[43msedpyFilter\u001b[49m\u001b[43m(\u001b[49m\u001b[38;5;241;43m*\u001b[39;49m\u001b[43mFilter\u001b[49m\u001b[38;5;241;43m.\u001b[39;49m\u001b[43mload_filt\u001b[49m\u001b[43m(\u001b[49m\u001b[43mfilters_dict\u001b[49m\u001b[43m[\u001b[49m\u001b[43mident\u001b[49m\u001b[43m]\u001b[49m\u001b[43m[\u001b[49m\u001b[38;5;124;43m\"\u001b[39;49m\u001b[38;5;124;43mname\u001b[39;49m\u001b[38;5;124;43m\"\u001b[39;49m\u001b[43m]\u001b[49m\u001b[43m,\u001b[49m\u001b[43m\\\u001b[49m\n\u001b[1;32m     24\u001b[0m \u001b[43m                                                   \u001b[49m\u001b[43mfilters_dict\u001b[49m\u001b[43m[\u001b[49m\u001b[43mident\u001b[49m\u001b[43m]\u001b[49m\u001b[43m[\u001b[49m\u001b[38;5;124;43m\"\u001b[39;49m\u001b[38;5;124;43mpath\u001b[39;49m\u001b[38;5;124;43m\"\u001b[39;49m\u001b[43m]\u001b[49m\u001b[43m,\u001b[49m\u001b[43m\\\u001b[49m\n\u001b[1;32m     25\u001b[0m \u001b[43m                                                   \u001b[49m\u001b[43mfilters_dict\u001b[49m\u001b[43m[\u001b[49m\u001b[43mident\u001b[49m\u001b[43m]\u001b[49m\u001b[43m[\u001b[49m\u001b[38;5;124;43m\"\u001b[39;49m\u001b[38;5;124;43mtransmission\u001b[39;49m\u001b[38;5;124;43m\"\u001b[39;49m\u001b[43m]\u001b[49m\u001b[43m\\\u001b[49m\n\u001b[1;32m     26\u001b[0m \u001b[43m                                                  \u001b[49m\u001b[43m)\u001b[49m\u001b[43m\\\u001b[49m\n\u001b[1;32m     27\u001b[0m \u001b[43m                                \u001b[49m\u001b[43m)\u001b[49m\n\u001b[1;32m     28\u001b[0m \u001b[43m                    \u001b[49m\u001b[38;5;28;43;01mfor\u001b[39;49;00m\u001b[43m \u001b[49m\u001b[43mident\u001b[49m\u001b[43m \u001b[49m\u001b[38;5;129;43;01min\u001b[39;49;00m\u001b[43m \u001b[49m\u001b[43mtqdm\u001b[49m\u001b[43m(\u001b[49m\u001b[43mfilters_dict\u001b[49m\u001b[43m)\u001b[49m\u001b[43m \u001b[49m\u001b[43m)\u001b[49m\n\u001b[1;32m     29\u001b[0m N_FILT \u001b[38;5;241m=\u001b[39m \u001b[38;5;28mlen\u001b[39m(filters_arr)\n\u001b[1;32m     33\u001b[0m filters_jarr \u001b[38;5;241m=\u001b[39m \u001b[38;5;28mtuple\u001b[39m( Filter\u001b[38;5;241m.\u001b[39msedpyFilter(\u001b[38;5;241m*\u001b[39mFilter\u001b[38;5;241m.\u001b[39mload_filt(\u001b[38;5;28mint\u001b[39m(ident),\\\n\u001b[1;32m     34\u001b[0m                                                            filters_dict[ident][\u001b[38;5;124m\"\u001b[39m\u001b[38;5;124mpath\u001b[39m\u001b[38;5;124m\"\u001b[39m],\\\n\u001b[1;32m     35\u001b[0m                                                            filters_dict[ident][\u001b[38;5;124m\"\u001b[39m\u001b[38;5;124mtransmission\u001b[39m\u001b[38;5;124m\"\u001b[39m]\\\n\u001b[1;32m     36\u001b[0m                                                           )\\\n\u001b[1;32m     37\u001b[0m                                         )\n\u001b[1;32m     38\u001b[0m                      \u001b[38;5;28;01mfor\u001b[39;00m ident \u001b[38;5;129;01min\u001b[39;00m filters_dict )\n",
      "Cell \u001b[0;32mIn[3], line 23\u001b[0m, in \u001b[0;36m<genexpr>\u001b[0;34m(.0)\u001b[0m\n\u001b[1;32m     21\u001b[0m \u001b[38;5;28mprint\u001b[39m(\u001b[38;5;124m\"\u001b[39m\u001b[38;5;124mLoading filters :\u001b[39m\u001b[38;5;124m\"\u001b[39m)\n\u001b[1;32m     22\u001b[0m filters_dict \u001b[38;5;241m=\u001b[39m inputs[\u001b[38;5;124m'\u001b[39m\u001b[38;5;124mFilters\u001b[39m\u001b[38;5;124m'\u001b[39m]\n\u001b[0;32m---> 23\u001b[0m filters_arr \u001b[38;5;241m=\u001b[39m \u001b[38;5;28mtuple\u001b[39m( sedpyFilter(\u001b[38;5;241m*\u001b[39m\u001b[43mFilter\u001b[49m\u001b[38;5;241;43m.\u001b[39;49m\u001b[43mload_filt\u001b[49m\u001b[43m(\u001b[49m\u001b[43mfilters_dict\u001b[49m\u001b[43m[\u001b[49m\u001b[43mident\u001b[49m\u001b[43m]\u001b[49m\u001b[43m[\u001b[49m\u001b[38;5;124;43m\"\u001b[39;49m\u001b[38;5;124;43mname\u001b[39;49m\u001b[38;5;124;43m\"\u001b[39;49m\u001b[43m]\u001b[49m\u001b[43m,\u001b[49m\u001b[43m\\\u001b[49m\n\u001b[1;32m     24\u001b[0m \u001b[43m                                                   \u001b[49m\u001b[43mfilters_dict\u001b[49m\u001b[43m[\u001b[49m\u001b[43mident\u001b[49m\u001b[43m]\u001b[49m\u001b[43m[\u001b[49m\u001b[38;5;124;43m\"\u001b[39;49m\u001b[38;5;124;43mpath\u001b[39;49m\u001b[38;5;124;43m\"\u001b[39;49m\u001b[43m]\u001b[49m\u001b[43m,\u001b[49m\u001b[43m\\\u001b[49m\n\u001b[1;32m     25\u001b[0m \u001b[43m                                                   \u001b[49m\u001b[43mfilters_dict\u001b[49m\u001b[43m[\u001b[49m\u001b[43mident\u001b[49m\u001b[43m]\u001b[49m\u001b[43m[\u001b[49m\u001b[38;5;124;43m\"\u001b[39;49m\u001b[38;5;124;43mtransmission\u001b[39;49m\u001b[38;5;124;43m\"\u001b[39;49m\u001b[43m]\u001b[49m\u001b[43m\\\u001b[49m\n\u001b[1;32m     26\u001b[0m \u001b[43m                                                  \u001b[49m\u001b[43m)\u001b[49m\\\n\u001b[1;32m     27\u001b[0m                                 )\n\u001b[1;32m     28\u001b[0m                     \u001b[38;5;28;01mfor\u001b[39;00m ident \u001b[38;5;129;01min\u001b[39;00m tqdm(filters_dict) )\n\u001b[1;32m     29\u001b[0m N_FILT \u001b[38;5;241m=\u001b[39m \u001b[38;5;28mlen\u001b[39m(filters_arr)\n\u001b[1;32m     33\u001b[0m filters_jarr \u001b[38;5;241m=\u001b[39m \u001b[38;5;28mtuple\u001b[39m( Filter\u001b[38;5;241m.\u001b[39msedpyFilter(\u001b[38;5;241m*\u001b[39mFilter\u001b[38;5;241m.\u001b[39mload_filt(\u001b[38;5;28mint\u001b[39m(ident),\\\n\u001b[1;32m     34\u001b[0m                                                            filters_dict[ident][\u001b[38;5;124m\"\u001b[39m\u001b[38;5;124mpath\u001b[39m\u001b[38;5;124m\"\u001b[39m],\\\n\u001b[1;32m     35\u001b[0m                                                            filters_dict[ident][\u001b[38;5;124m\"\u001b[39m\u001b[38;5;124mtransmission\u001b[39m\u001b[38;5;124m\"\u001b[39m]\\\n\u001b[1;32m     36\u001b[0m                                                           )\\\n\u001b[1;32m     37\u001b[0m                                         )\n\u001b[1;32m     38\u001b[0m                      \u001b[38;5;28;01mfor\u001b[39;00m ident \u001b[38;5;129;01min\u001b[39;00m filters_dict )\n",
      "File \u001b[0;32m/sps/lsst/groups/photoz/jocheval/PhotoZ_PhD/EmuLP/Filter.py:124\u001b[0m, in \u001b[0;36mload_filt\u001b[0;34m(ident, filterfile, trans_type)\u001b[0m\n\u001b[1;32m    123\u001b[0m \u001b[38;5;28;01mdef\u001b[39;00m \u001b[38;5;21mload_filt\u001b[39m(ident, filterfile, trans_type):\n\u001b[0;32m--> 124\u001b[0m     __wls, __trans \u001b[38;5;241m=\u001b[39m \u001b[43mnp\u001b[49m\u001b[38;5;241;43m.\u001b[39;49m\u001b[43mloadtxt\u001b[49m\u001b[43m(\u001b[49m\u001b[43mos\u001b[49m\u001b[38;5;241;43m.\u001b[39;49m\u001b[43mpath\u001b[49m\u001b[38;5;241;43m.\u001b[39;49m\u001b[43mabspath\u001b[49m\u001b[43m(\u001b[49m\u001b[43mfilterfile\u001b[49m\u001b[43m)\u001b[49m\u001b[43m,\u001b[49m\u001b[43m \u001b[49m\u001b[43munpack\u001b[49m\u001b[38;5;241;43m=\u001b[39;49m\u001b[38;5;28;43;01mTrue\u001b[39;49;00m\u001b[43m)\u001b[49m\n\u001b[1;32m    125\u001b[0m     _wls, _trans \u001b[38;5;241m=\u001b[39m jnp\u001b[38;5;241m.\u001b[39marray(__wls), jnp\u001b[38;5;241m.\u001b[39marray(__trans)\n\u001b[1;32m    126\u001b[0m     wls, transm \u001b[38;5;241m=\u001b[39m sort(_wls, _trans)\n",
      "File \u001b[0;32m/opt/conda/lib/python3.8/site-packages/numpy/lib/npyio.py:1356\u001b[0m, in \u001b[0;36mloadtxt\u001b[0;34m(fname, dtype, comments, delimiter, converters, skiprows, usecols, unpack, ndmin, encoding, max_rows, quotechar, like)\u001b[0m\n\u001b[1;32m   1353\u001b[0m \u001b[38;5;28;01mif\u001b[39;00m \u001b[38;5;28misinstance\u001b[39m(delimiter, \u001b[38;5;28mbytes\u001b[39m):\n\u001b[1;32m   1354\u001b[0m     delimiter \u001b[38;5;241m=\u001b[39m delimiter\u001b[38;5;241m.\u001b[39mdecode(\u001b[38;5;124m'\u001b[39m\u001b[38;5;124mlatin1\u001b[39m\u001b[38;5;124m'\u001b[39m)\n\u001b[0;32m-> 1356\u001b[0m arr \u001b[38;5;241m=\u001b[39m \u001b[43m_read\u001b[49m\u001b[43m(\u001b[49m\u001b[43mfname\u001b[49m\u001b[43m,\u001b[49m\u001b[43m \u001b[49m\u001b[43mdtype\u001b[49m\u001b[38;5;241;43m=\u001b[39;49m\u001b[43mdtype\u001b[49m\u001b[43m,\u001b[49m\u001b[43m \u001b[49m\u001b[43mcomment\u001b[49m\u001b[38;5;241;43m=\u001b[39;49m\u001b[43mcomment\u001b[49m\u001b[43m,\u001b[49m\u001b[43m \u001b[49m\u001b[43mdelimiter\u001b[49m\u001b[38;5;241;43m=\u001b[39;49m\u001b[43mdelimiter\u001b[49m\u001b[43m,\u001b[49m\n\u001b[1;32m   1357\u001b[0m \u001b[43m            \u001b[49m\u001b[43mconverters\u001b[49m\u001b[38;5;241;43m=\u001b[39;49m\u001b[43mconverters\u001b[49m\u001b[43m,\u001b[49m\u001b[43m \u001b[49m\u001b[43mskiplines\u001b[49m\u001b[38;5;241;43m=\u001b[39;49m\u001b[43mskiprows\u001b[49m\u001b[43m,\u001b[49m\u001b[43m \u001b[49m\u001b[43musecols\u001b[49m\u001b[38;5;241;43m=\u001b[39;49m\u001b[43musecols\u001b[49m\u001b[43m,\u001b[49m\n\u001b[1;32m   1358\u001b[0m \u001b[43m            \u001b[49m\u001b[43munpack\u001b[49m\u001b[38;5;241;43m=\u001b[39;49m\u001b[43munpack\u001b[49m\u001b[43m,\u001b[49m\u001b[43m \u001b[49m\u001b[43mndmin\u001b[49m\u001b[38;5;241;43m=\u001b[39;49m\u001b[43mndmin\u001b[49m\u001b[43m,\u001b[49m\u001b[43m \u001b[49m\u001b[43mencoding\u001b[49m\u001b[38;5;241;43m=\u001b[39;49m\u001b[43mencoding\u001b[49m\u001b[43m,\u001b[49m\n\u001b[1;32m   1359\u001b[0m \u001b[43m            \u001b[49m\u001b[43mmax_rows\u001b[49m\u001b[38;5;241;43m=\u001b[39;49m\u001b[43mmax_rows\u001b[49m\u001b[43m,\u001b[49m\u001b[43m \u001b[49m\u001b[43mquote\u001b[49m\u001b[38;5;241;43m=\u001b[39;49m\u001b[43mquotechar\u001b[49m\u001b[43m)\u001b[49m\n\u001b[1;32m   1361\u001b[0m \u001b[38;5;28;01mreturn\u001b[39;00m arr\n",
      "File \u001b[0;32m/opt/conda/lib/python3.8/site-packages/numpy/lib/npyio.py:975\u001b[0m, in \u001b[0;36m_read\u001b[0;34m(fname, delimiter, comment, quote, imaginary_unit, usecols, skiplines, max_rows, converters, ndmin, unpack, dtype, encoding)\u001b[0m\n\u001b[1;32m    973\u001b[0m     fname \u001b[38;5;241m=\u001b[39m os\u001b[38;5;241m.\u001b[39mfspath(fname)\n\u001b[1;32m    974\u001b[0m \u001b[38;5;28;01mif\u001b[39;00m \u001b[38;5;28misinstance\u001b[39m(fname, \u001b[38;5;28mstr\u001b[39m):\n\u001b[0;32m--> 975\u001b[0m     fh \u001b[38;5;241m=\u001b[39m \u001b[43mnp\u001b[49m\u001b[38;5;241;43m.\u001b[39;49m\u001b[43mlib\u001b[49m\u001b[38;5;241;43m.\u001b[39;49m\u001b[43m_datasource\u001b[49m\u001b[38;5;241;43m.\u001b[39;49m\u001b[43mopen\u001b[49m\u001b[43m(\u001b[49m\u001b[43mfname\u001b[49m\u001b[43m,\u001b[49m\u001b[43m \u001b[49m\u001b[38;5;124;43m'\u001b[39;49m\u001b[38;5;124;43mrt\u001b[39;49m\u001b[38;5;124;43m'\u001b[39;49m\u001b[43m,\u001b[49m\u001b[43m \u001b[49m\u001b[43mencoding\u001b[49m\u001b[38;5;241;43m=\u001b[39;49m\u001b[43mencoding\u001b[49m\u001b[43m)\u001b[49m\n\u001b[1;32m    976\u001b[0m     \u001b[38;5;28;01mif\u001b[39;00m encoding \u001b[38;5;129;01mis\u001b[39;00m \u001b[38;5;28;01mNone\u001b[39;00m:\n\u001b[1;32m    977\u001b[0m         encoding \u001b[38;5;241m=\u001b[39m \u001b[38;5;28mgetattr\u001b[39m(fh, \u001b[38;5;124m'\u001b[39m\u001b[38;5;124mencoding\u001b[39m\u001b[38;5;124m'\u001b[39m, \u001b[38;5;124m'\u001b[39m\u001b[38;5;124mlatin1\u001b[39m\u001b[38;5;124m'\u001b[39m)\n",
      "File \u001b[0;32m/opt/conda/lib/python3.8/site-packages/numpy/lib/_datasource.py:193\u001b[0m, in \u001b[0;36mopen\u001b[0;34m(path, mode, destpath, encoding, newline)\u001b[0m\n\u001b[1;32m    156\u001b[0m \u001b[38;5;250m\u001b[39m\u001b[38;5;124;03m\"\"\"\u001b[39;00m\n\u001b[1;32m    157\u001b[0m \u001b[38;5;124;03mOpen `path` with `mode` and return the file object.\u001b[39;00m\n\u001b[1;32m    158\u001b[0m \n\u001b[0;32m   (...)\u001b[0m\n\u001b[1;32m    189\u001b[0m \n\u001b[1;32m    190\u001b[0m \u001b[38;5;124;03m\"\"\"\u001b[39;00m\n\u001b[1;32m    192\u001b[0m ds \u001b[38;5;241m=\u001b[39m DataSource(destpath)\n\u001b[0;32m--> 193\u001b[0m \u001b[38;5;28;01mreturn\u001b[39;00m \u001b[43mds\u001b[49m\u001b[38;5;241;43m.\u001b[39;49m\u001b[43mopen\u001b[49m\u001b[43m(\u001b[49m\u001b[43mpath\u001b[49m\u001b[43m,\u001b[49m\u001b[43m \u001b[49m\u001b[43mmode\u001b[49m\u001b[43m,\u001b[49m\u001b[43m \u001b[49m\u001b[43mencoding\u001b[49m\u001b[38;5;241;43m=\u001b[39;49m\u001b[43mencoding\u001b[49m\u001b[43m,\u001b[49m\u001b[43m \u001b[49m\u001b[43mnewline\u001b[49m\u001b[38;5;241;43m=\u001b[39;49m\u001b[43mnewline\u001b[49m\u001b[43m)\u001b[49m\n",
      "File \u001b[0;32m/opt/conda/lib/python3.8/site-packages/numpy/lib/_datasource.py:533\u001b[0m, in \u001b[0;36mDataSource.open\u001b[0;34m(self, path, mode, encoding, newline)\u001b[0m\n\u001b[1;32m    530\u001b[0m     \u001b[38;5;28;01mreturn\u001b[39;00m _file_openers[ext](found, mode\u001b[38;5;241m=\u001b[39mmode,\n\u001b[1;32m    531\u001b[0m                               encoding\u001b[38;5;241m=\u001b[39mencoding, newline\u001b[38;5;241m=\u001b[39mnewline)\n\u001b[1;32m    532\u001b[0m \u001b[38;5;28;01melse\u001b[39;00m:\n\u001b[0;32m--> 533\u001b[0m     \u001b[38;5;28;01mraise\u001b[39;00m \u001b[38;5;167;01mFileNotFoundError\u001b[39;00m(\u001b[38;5;124mf\u001b[39m\u001b[38;5;124m\"\u001b[39m\u001b[38;5;132;01m{\u001b[39;00mpath\u001b[38;5;132;01m}\u001b[39;00m\u001b[38;5;124m not found.\u001b[39m\u001b[38;5;124m\"\u001b[39m)\n",
      "\u001b[0;31mFileNotFoundError\u001b[0m: /sps/lsst/groups/photoz/jocheval/LEPHARE/filt/cosmos/u_cfht.lowres not found."
     ]
    }
   ],
   "source": [
    "conf_json = 'EmuLP/COSMOS2020-with-FORS2-HSC_only-jax-CC-prior-full-dustyTemp_noEBV.json' # attention à la localisation du fichier !\n",
    "with open(conf_json, \"r\") as inpfile:\n",
    "    inputs = json.load(inpfile)\n",
    "\n",
    "#cosmo = Cosmology.make_jcosmo(inputs['Cosmology']['h0'])\n",
    "cosmo = Cosmo(inputs['Cosmology']['h0'], inputs['Cosmology']['om0'], inputs['Cosmology']['l0'],\\\n",
    "              inputs['Cosmology']['om0']+inputs['Cosmology']['l0'])\n",
    "\n",
    "z_grid = jnp.arange(inputs['Z_GRID']['z_min'],\\\n",
    "                    inputs['Z_GRID']['z_max']+inputs['Z_GRID']['z_step'],\\\n",
    "                    inputs['Z_GRID']['z_step'])\n",
    "\n",
    "fine_z_grid = jnp.arange(inputs['Z_GRID']['z_min'],\\\n",
    "                         inputs['Z_GRID']['z_max']+min(0.01,inputs['Z_GRID']['z_step']),\\\n",
    "                         min(0.01,inputs['Z_GRID']['z_step']))\n",
    "\n",
    "wl_grid = jnp.arange(inputs['WL_GRID']['lambda_min'],\\\n",
    "                     inputs['WL_GRID']['lambda_max']+inputs['WL_GRID']['lambda_step'],\\\n",
    "                     inputs['WL_GRID']['lambda_step'])\n",
    "\n",
    "print(\"Loading filters :\")\n",
    "filters_dict = inputs['Filters']\n",
    "filters_arr = tuple( sedpyFilter(*Filter.load_filt(filters_dict[ident][\"name\"],\\\n",
    "                                                   filters_dict[ident][\"path\"],\\\n",
    "                                                   filters_dict[ident][\"transmission\"]\\\n",
    "                                                  )\\\n",
    "                                )\n",
    "                    for ident in tqdm(filters_dict) )\n",
    "N_FILT = len(filters_arr)\n",
    "\n",
    "\n",
    "\n",
    "filters_jarr = tuple( Filter.sedpyFilter(*Filter.load_filt(int(ident),\\\n",
    "                                                           filters_dict[ident][\"path\"],\\\n",
    "                                                           filters_dict[ident][\"transmission\"]\\\n",
    "                                                          )\\\n",
    "                                        )\n",
    "                     for ident in filters_dict )\n",
    "\n",
    "print(\"Building templates :\")\n",
    "templates_dict = inputs['Templates']\n",
    "baseTemp_arr = tuple( BaseTemplate(*Template.make_base_template(templates_dict[ident][\"name\"],\\\n",
    "                                                                templates_dict[ident][\"path\"],\\\n",
    "                                                                wl_grid\n",
    "                                                               )\\\n",
    "                                  )\n",
    "                     for ident in tqdm(templates_dict) )\n",
    "\n",
    "#baseFluxes_arr = jnp.row_stack((bt.flux for bt in baseTemp_arr))\n",
    "\n",
    "print(\"Generating dust attenuations laws :\")\n",
    "extlaws_dict = inputs['Extinctions']\n",
    "dust_arr = []\n",
    "for ident in tqdm(extlaws_dict):\n",
    "    dust_arr.extend([ DustLaw(extlaws_dict[ident]['name'],\\\n",
    "                                 ebv,\\\n",
    "                                 Extinction.load_extinc(extlaws_dict[ident]['path'],\\\n",
    "                                                        ebv,\\\n",
    "                                                        wl_grid)\\\n",
    "                                )\\\n",
    "                        for ebv in tqdm(inputs['e_BV'])\\\n",
    "                       ])\n",
    "\n",
    "#extlaws_arr = jnp.row_stack( (dustlaw.transmission for dustlaw in dust_arr) )\n",
    "\n",
    "print(\"Loading IGM attenuations :\")\n",
    "opa_path = os.path.abspath(inputs['Opacity'])\n",
    "_selOpa = (wl_grid < 1300.)\n",
    "wls_opa = wl_grid[_selOpa]\n",
    "opa_zgrid, opacity_grid = Extinction.load_opacity(opa_path, wls_opa)\n",
    "\n",
    "print(\"Loading observations :\")\n",
    "data_path = os.path.abspath(inputs['Dataset']['path'])\n",
    "data_ismag = (inputs['Dataset']['type'].lower() == 'm')\n",
    "\n",
    "data_file_arr = np.loadtxt(data_path)\n",
    "_obs_arr = []\n",
    "\n",
    "for i in tqdm(range(data_file_arr.shape[0])):\n",
    "    try:\n",
    "        assert (len(data_file_arr[i,:]) == 1+2*N_FILT) or (len(data_file_arr[i,:]) == 1+2*N_FILT+1), f\"At least one filter is missing in datapoint {data_file_arr[i,0]} : length is {len(data_file_arr[i,:])}, {1+2*N_FILT} values expected.\\nDatapoint removed from dataset.\"\n",
    "        #print(int(data_file_arr[i, 0]))\n",
    "        if (len(data_file_arr[i,:]) == 1+2*N_FILT+1):\n",
    "            observ = Observation(int(data_file_arr[i, 0]),\\\n",
    "                                 *Galaxy.load_galaxy(data_file_arr[i, 1:2*N_FILT+1],\\\n",
    "                                                     data_ismag),\\\n",
    "                                 data_file_arr[i, 2*N_FILT+1]\\\n",
    "                                )\n",
    "        else:\n",
    "            observ = Observation(int(data_file_arr[i, 0]),\\\n",
    "                                 *Galaxy.load_galaxy(data_file_arr[i, 1:2*N_FILT+1],\\\n",
    "                                                     data_ismag),\\\n",
    "                                 None\\\n",
    "                                )\n",
    "        #print(observ.num)\n",
    "        _obs_arr.extend([observ])\n",
    "    except AssertionError:\n",
    "        pass"
   ]
  },
  {
   "cell_type": "code",
   "execution_count": null,
   "id": "191da507",
   "metadata": {},
   "outputs": [],
   "source": [
    "df_res = pd.read_pickle(f\"{inputs['run name']}_results.pkl\")"
   ]
  },
  {
   "cell_type": "code",
   "execution_count": null,
   "id": "afd9fa3f",
   "metadata": {},
   "outputs": [],
   "source": [
    "df_res"
   ]
  },
  {
   "cell_type": "code",
   "execution_count": null,
   "id": "9a5d5075-ee07-422d-b6a3-8e7612013f7f",
   "metadata": {},
   "outputs": [],
   "source": [
    "for obs in tqdm(_obs_arr):\n",
    "    for i,filt in enumerate(filters_arr):\n",
    "        if obs.num in df_res.index:\n",
    "            df_res.loc[obs.num, f\"MagAB({filt.name})\"] = -2.5*jnp.log10(obs.AB_fluxes[i])-48.6\n",
    "            df_res.loc[obs.num, f\"err_MagAB({filt.name})\"] = 1.086*obs.AB_f_errors[i]/obs.AB_fluxes[i]"
   ]
  },
  {
   "cell_type": "code",
   "execution_count": null,
   "id": "d3108424-ef7f-407d-b0f3-118a2e593ea2",
   "metadata": {},
   "outputs": [],
   "source": [
    "df_res['bias'] = df_res['Photometric redshift']-df_res['True redshift']\n",
    "df_res['std'] = df_res['bias']/(1.+df_res['True redshift'])\n",
    "df_res['Outlier'] = np.abs(df_res['std'])>0.15\n",
    "outl_rate = 100.0*len(df_res[df_res['Outlier']])/len(df_res)\n",
    "print(f'Outlier rate = {outl_rate}%')"
   ]
  },
  {
   "cell_type": "code",
   "execution_count": null,
   "id": "3d312941-81d6-4fec-9884-1966446f52dc",
   "metadata": {},
   "outputs": [],
   "source": [
    "df_res['U-B'] = df_res['MagAB(cosmos_u_new)']-df_res['MagAB(hsc_gHSC)']\n",
    "df_res['R-I'] = df_res['MagAB(hsc_rHSC)']-df_res['MagAB(hsc_iHSC)']\n",
    "df_res['redness'] = df_res['U-B']/df_res['R-I']\n",
    "df_res"
   ]
  },
  {
   "cell_type": "code",
   "execution_count": null,
   "id": "ca383ca7-e0f8-4ef3-a8a7-3209d0b0a521",
   "metadata": {},
   "outputs": [],
   "source": [
    "f,a = plt.subplots(1,1)\n",
    "sns.scatterplot(data=df_res, x='U-B', y='R-I', hue='True redshift', ax=a)"
   ]
  },
  {
   "cell_type": "code",
   "execution_count": null,
   "id": "8d92fffa-83df-4ed4-a028-b842a65bb7d7",
   "metadata": {},
   "outputs": [],
   "source": [
    "f,a = plt.subplots(1,1)\n",
    "sns.scatterplot(data=df_res, x='U-B', y='R-I', hue='Template SED', ax=a)\n",
    "a.legend(loc='lower left', bbox_to_anchor=(1.01, 0.0))"
   ]
  },
  {
   "cell_type": "code",
   "execution_count": null,
   "id": "87cb1a9c",
   "metadata": {},
   "outputs": [],
   "source": [
    "f,a = plt.subplots(1,1)\n",
    "sns.scatterplot(data=df_res, x='True redshift', y='Photometric redshift', hue='Outlier', ax=a)\n",
    "a.plot(z_grid, z_grid, c='k')\n",
    "a.plot(z_grid, z_grid+0.15*(1+z_grid), c='k', ls=':')\n",
    "a.plot(z_grid, z_grid-0.15*(1+z_grid), c='k', ls=':')\n",
    "a.set_xlim(0.,3.0)\n",
    "a.set_ylim(0.,3.0)\n",
    "a.set_title(f\"EmuLP on COSMOS2020 subset, prior={inputs['prior']}, Outliers rate={outl_rate:.3f}%\")"
   ]
  },
  {
   "cell_type": "code",
   "execution_count": null,
   "id": "f1b130df",
   "metadata": {},
   "outputs": [],
   "source": [
    "with open(f\"{inputs['run name']}_results_dicts.pkl\", 'rb') as handle:\n",
    "    results_dict=pickle.load(handle)"
   ]
  },
  {
   "cell_type": "code",
   "execution_count": null,
   "id": "ead0e4fc",
   "metadata": {},
   "outputs": [],
   "source": [
    "keys = [key for key in results_dict.keys()]\n",
    "test_num = 0\n",
    "_ex_=keys[test_num]\n",
    "zps=z_grid"
   ]
  },
  {
   "cell_type": "code",
   "execution_count": null,
   "id": "2f762bc0",
   "metadata": {},
   "outputs": [],
   "source": [
    "key_0=_ex_\n",
    "_dict_0=results_dict[key_0]\n",
    "_dict_0.shape"
   ]
  },
  {
   "cell_type": "markdown",
   "id": "573d12aa-ecc1-44fc-b811-b63367e934ff",
   "metadata": {},
   "source": [
    "## Integral of the probability distribution"
   ]
  },
  {
   "cell_type": "markdown",
   "id": "66b271aa-82f8-4363-bb1f-5cc8bca39253",
   "metadata": {},
   "source": [
    "We compute $P(z,mod,law,ebv)=\\exp(-\\frac{\\chi^2}{2})$"
   ]
  },
  {
   "cell_type": "code",
   "execution_count": null,
   "id": "54307c47-9a6e-4d13-a199-e5de858f743e",
   "metadata": {},
   "outputs": [],
   "source": [
    "probs_0 = jnp.exp(-0.5*_dict_0)"
   ]
  },
  {
   "cell_type": "markdown",
   "id": "42f0c2b7-5576-44aa-856d-3311585bf366",
   "metadata": {},
   "source": [
    "We average over models"
   ]
  },
  {
   "cell_type": "code",
   "execution_count": null,
   "id": "1061b618-5501-4a84-b622-a52089f466b2",
   "metadata": {},
   "outputs": [],
   "source": [
    "int_over_mods = jnp.trapz(probs_0, x=jnp.arange(len(baseTemp_arr)), axis=0) #jnp.sum(probs_0, axis=0) / len(baseTemp_arr)\n",
    "int_over_mods.shape"
   ]
  },
  {
   "cell_type": "markdown",
   "id": "c0873948-559e-4dc6-85ae-90382e99cd48",
   "metadata": {},
   "source": [
    "We split the array according to the choice of extinction law, then we sum each sub_array to compute the integral over laws :"
   ]
  },
  {
   "cell_type": "code",
   "execution_count": null,
   "id": "6107a661-fd8f-4414-acbe-1c47f566dfe0",
   "metadata": {},
   "outputs": [],
   "source": [
    "sub_ints = jnp.split(int_over_mods, len(inputs['Extinctions']), axis=0)\n",
    "for sub_arr in sub_ints :\n",
    "    print(sub_arr.shape)\n",
    "int_over_laws = jnp.zeros_like(sub_ints[0])\n",
    "for sub_arr in sub_ints:\n",
    "    int_over_laws += sub_arr\n",
    "int_over_laws /= len(sub_ints)\n",
    "int_over_laws.shape"
   ]
  },
  {
   "cell_type": "markdown",
   "id": "956d96df-de3a-4c2d-a0a3-97bd79207e5b",
   "metadata": {},
   "source": [
    "We integrate on E(B-V) over axis 0"
   ]
  },
  {
   "cell_type": "code",
   "execution_count": null,
   "id": "b454ba35-9535-4f24-9ebd-fb6f7e151bf6",
   "metadata": {},
   "outputs": [],
   "source": [
    "int_over_ebv = jnp.trapz(int_over_laws, x=jnp.array(inputs['e_BV']), axis=0)\n",
    "int_over_ebv.shape"
   ]
  },
  {
   "cell_type": "markdown",
   "id": "a1d5a641-edd9-4aff-9dd0-afa3f9217c7a",
   "metadata": {},
   "source": [
    "Finally we integrate over redshift:"
   ]
  },
  {
   "cell_type": "code",
   "execution_count": null,
   "id": "8e86f069-74a2-44ea-9ddc-405d265c7b54",
   "metadata": {},
   "outputs": [],
   "source": [
    "int_over_z = jnp.trapz(int_over_ebv, x=z_grid, axis=0)\n",
    "int_over_z"
   ]
  },
  {
   "cell_type": "markdown",
   "id": "d3c3085a-0757-454f-8da8-17080b238339",
   "metadata": {},
   "source": [
    "### Test : we normalise the distribution by this value and recompute the integral. The final result should be 1."
   ]
  },
  {
   "cell_type": "code",
   "execution_count": null,
   "id": "541f9598-bab0-4795-8775-e5d032f6cce1",
   "metadata": {},
   "outputs": [],
   "source": [
    "# Normalization\n",
    "probs_0_norm = probs_0 / int_over_z\n",
    "\n",
    "# Integration over mods\n",
    "_int_mods = jnp.trapz(probs_0_norm, x=jnp.arange(len(baseTemp_arr)), axis=0) #jnp.sum(probs_0, axis=0) / len(baseTemp_arr)\n",
    "\n",
    "# Integration over laws\n",
    "_sub_ints = jnp.split(_int_mods, len(inputs['Extinctions']), axis=0)\n",
    "_int_laws = jnp.zeros_like(_sub_ints[0])\n",
    "for sub_arr in _sub_ints:\n",
    "    _int_laws += sub_arr\n",
    "_int_laws /= len(sub_ints)\n",
    "\n",
    "# Integration over E(B-V)\n",
    "_int_ebv = jnp.trapz(_int_laws, x=jnp.array(inputs['e_BV']), axis=0)\n",
    "\n",
    "# Final integration, over redshift grid\n",
    "_int_z = jnp.trapz(_int_ebv, x=z_grid, axis=0)\n",
    "\n",
    "_int_z"
   ]
  },
  {
   "cell_type": "markdown",
   "id": "611f1e06-576e-4236-905d-e4c856c68089",
   "metadata": {},
   "source": [
    "#### SCORE !!!!\n",
    "\n",
    "#### Subtest : we integrate in a different order using trapz where possible"
   ]
  },
  {
   "cell_type": "code",
   "execution_count": null,
   "id": "0ac40539-cde2-4b5b-8af7-e4259e01cfe5",
   "metadata": {},
   "outputs": [],
   "source": [
    "# Final integration, over redshift grid\n",
    "_int_z = jnp.trapz(probs_0_norm, x=z_grid, axis=2)\n",
    "print(_int_z.shape)\n",
    "\n",
    "# Integration over mods\n",
    "_int_mods = jnp.trapz(_int_z, x=jnp.arange(len(baseTemp_arr)), axis=0)\n",
    "_int_mods.shape"
   ]
  },
  {
   "cell_type": "code",
   "execution_count": null,
   "id": "3efb09c5-0a9f-412e-9f41-dabd9a11c1ec",
   "metadata": {},
   "outputs": [],
   "source": [
    "# Integration over laws\n",
    "_sub_ints = jnp.split(_int_mods, len(inputs['Extinctions']), axis=0)\n",
    "\n",
    "sub_ints_ebv = []\n",
    "for sub_arr in _sub_ints:\n",
    "    # Integration over E(B-V)\n",
    "    print(sub_arr.shape)\n",
    "    _int_ebv = jnp.trapz(sub_arr, x=jnp.array(inputs['e_BV']), axis=0)\n",
    "    sub_ints_ebv.append(_int_ebv)\n",
    "print(sub_ints_ebv)\n",
    "_int_laws = jnp.trapz(jnp.array(sub_ints_ebv), x=jnp.arange(len(sub_ints_ebv)), axis=0)\n",
    "_int_laws"
   ]
  },
  {
   "cell_type": "markdown",
   "id": "dd3a03e1-3a35-4811-a4f4-79f1d414ee0f",
   "metadata": {},
   "source": [
    "#### We find the same value. This should be the preferred method as it does not involve :\n",
    "- knowledge of the number of extinction laws\n",
    "- non-trapz manipulation, so we are sure that we compute an integral and not mess up with any manual integration step."
   ]
  },
  {
   "cell_type": "code",
   "execution_count": null,
   "id": "3aed1470-7f2a-4c5b-a09c-6b6c8302e5a2",
   "metadata": {},
   "outputs": [],
   "source": [
    "# Again, similar to first order but with trapz :\n",
    "\n",
    "## Over models\n",
    "_int_mods = jnp.trapz(probs_0_norm, x=jnp.arange(len(baseTemp_arr)), axis=0)\n",
    "\n",
    "_sub_ints = jnp.split(_int_mods, len(inputs['Extinctions']), axis=0)\n",
    "sub_ints_ebv_z = []\n",
    "for sub_arr in _sub_ints:\n",
    "    ## Integration over E(B-V)\n",
    "    _int_ebv = jnp.trapz(sub_arr, x=jnp.array(inputs['e_BV']), axis=0)\n",
    "    \n",
    "    ## Over z\n",
    "    _int_z = jnp.trapz(_int_ebv, x=z_grid, axis=0)\n",
    "    \n",
    "    sub_ints_ebv_z.append(_int_z)\n",
    "\n",
    "## Over laws\n",
    "_int_laws = jnp.trapz(jnp.array(sub_ints_ebv_z), x=jnp.arange(len(sub_ints_ebv_z)), axis=0)\n",
    "\n",
    "_int_laws"
   ]
  },
  {
   "cell_type": "code",
   "execution_count": null,
   "id": "c3b47b48-3105-4485-9db7-c1a307b50615",
   "metadata": {},
   "outputs": [],
   "source": [
    "def probability_distrib(chi2_array):\n",
    "    # Compute the probability values\n",
    "    probs_array = jnp.exp(-0.5*chi2_array)\n",
    "    \n",
    "    # Integrate successively:\n",
    "    ## Over models\n",
    "    _int_mods = jnp.trapz(probs_array, x=jnp.arange(1, 1+len(baseTemp_arr)), axis=0)\n",
    "\n",
    "    _sub_ints = jnp.split(_int_mods, len(inputs['Extinctions']), axis=0)\n",
    "    sub_ints_ebv_z = []\n",
    "    for sub_arr in _sub_ints:\n",
    "        ## Integration over E(B-V)\n",
    "        _int_ebv = jnp.trapz(sub_arr, x=jnp.array(inputs['e_BV']), axis=0)\n",
    "\n",
    "        ## Over z\n",
    "        _int_z = jnp.trapz(_int_ebv, x=z_grid, axis=0)\n",
    "\n",
    "        sub_ints_ebv_z.append(_int_z)\n",
    "\n",
    "    ## Over laws\n",
    "    _int_laws = jnp.trapz(jnp.array(sub_ints_ebv_z), x=jnp.arange(1, 1+len(sub_ints_ebv_z)), axis=0)\n",
    "    \n",
    "    return probs_array / _int_laws, _int_laws"
   ]
  },
  {
   "cell_type": "code",
   "execution_count": null,
   "id": "7b4a55a4-a2f5-4d87-a1d4-cee1965a0b1e",
   "metadata": {},
   "outputs": [],
   "source": [
    "def prob_mod(probs_array):\n",
    "    # Integrate successively:\n",
    "    _sub_ints = jnp.split(probs_array, len(inputs['Extinctions']), axis=1)\n",
    "    sub_ints_ebv_z = []\n",
    "    for sub_arr in _sub_ints:\n",
    "        ## Integration over E(B-V)\n",
    "        _int_ebv = jnp.trapz(sub_arr, x=jnp.array(inputs['e_BV']), axis=1)\n",
    "        ## Over z\n",
    "        _int_z = jnp.trapz(_int_ebv, x=z_grid, axis=1)\n",
    "        sub_ints_ebv_z.append(_int_z)\n",
    "\n",
    "    ## Over laws\n",
    "    sub_ints_ebv_z_arr = jnp.array(sub_ints_ebv_z)\n",
    "    _int_laws = jnp.trapz(sub_ints_ebv_z_arr, x=jnp.arange(1, 1+len(sub_ints_ebv_z)), axis=0)\n",
    "    return _int_laws\n",
    "\n",
    "def prob_ebv(probs_array):\n",
    "    # Integrate successively:\n",
    "    ## Over models\n",
    "    _int_mods = jnp.trapz(probs_array, x=jnp.arange(1, 1+len(baseTemp_arr)), axis=0)\n",
    "    \n",
    "    _sub_ints = jnp.split(_int_mods, len(inputs['Extinctions']), axis=0)\n",
    "    sub_ints_z = []\n",
    "    for sub_arr in _sub_ints:\n",
    "        ## Over z\n",
    "        _int_z = jnp.trapz(sub_arr, x=z_grid, axis=1)\n",
    "        sub_ints_z.append(_int_z)\n",
    "\n",
    "    ## Over laws\n",
    "    sub_ints_z_arr = jnp.array(sub_ints_z)\n",
    "    _int_laws = jnp.trapz(sub_ints_z_arr, x=jnp.arange(1, 1+len(sub_ints_z)), axis=0)\n",
    "    return _int_laws\n",
    "\n",
    "def prob_z(probs_array):\n",
    "    # Integrate successively:\n",
    "    ## Over models\n",
    "    _int_mods = jnp.trapz(probs_array, x=jnp.arange(1, 1+len(baseTemp_arr)), axis=0)\n",
    "    \n",
    "    _sub_ints = jnp.split(_int_mods, len(inputs['Extinctions']), axis=0)\n",
    "    sub_ints_ebv = []\n",
    "    for sub_arr in _sub_ints:\n",
    "        ## Integration over E(B-V)\n",
    "        _int_ebv = jnp.trapz(sub_arr, x=jnp.array(inputs['e_BV']), axis=0)\n",
    "        sub_ints_ebv.append(_int_ebv)\n",
    "\n",
    "    ## Over laws\n",
    "    sub_ints_ebv_arr = jnp.array(sub_ints_ebv)\n",
    "    _int_laws = jnp.trapz(sub_ints_ebv_arr, x=jnp.arange(1, 1+len(sub_ints_ebv)), axis=0)\n",
    "    return _int_laws\n",
    "\n",
    "def prob_law(probs_array):\n",
    "    # Integrate successively:\n",
    "    ## Over models\n",
    "    _int_mods = jnp.trapz(probs_array, x=jnp.arange(1, 1+len(baseTemp_arr)), axis=0)\n",
    "    \n",
    "    _sub_ints = jnp.split(_int_mods, len(inputs['Extinctions']), axis=0)\n",
    "    sub_ints_ebv_z = []\n",
    "    for sub_arr in _sub_ints:\n",
    "        ## Integration over E(B-V)\n",
    "        _int_ebv = jnp.trapz(sub_arr, x=jnp.array(inputs['e_BV']), axis=0)               \n",
    "        ## Over z\n",
    "        _int_z = jnp.trapz(_int_ebv, x=z_grid, axis=0)\n",
    "        sub_ints_ebv_z.append(_int_z)\n",
    "    sub_ints_z_arr = jnp.array(sub_ints_ebv_z)\n",
    "    return sub_ints_z_arr\n",
    "\n",
    "def evidence(probs_array, split_laws=False):\n",
    "    # it is really just returning the array integrated over z\n",
    "    if split_laws:\n",
    "        # returned dimension will be nb of laws, nb of base templates, nb of E(B-V)\n",
    "        _sub_ints = jnp.split(probs_array, len(inputs['Extinctions']), axis=1)\n",
    "        sub_ints_z = []\n",
    "        for sub_arr in _sub_ints:\n",
    "            ## Over z\n",
    "            _int_z = jnp.trapz(sub_arr, x=z_grid, axis=2)\n",
    "            sub_ints_z.append(_int_z)\n",
    "            res = jnp.array(sub_ints_z)\n",
    "    else:\n",
    "        # returned dimension will be nb of base templates, nb of laws * nb of E(B-V)\n",
    "        res = jnp.trapz(probs_array, x=z_grid, axis=2)\n",
    "    return res\n",
    "\n",
    "def probs_at_fixed_z(probs_array, fixed_z, renormalize=True, prenormalize=False):\n",
    "    # probs_array(n temp, n laws * n dust, len(z_grid)) -> probs_array(n temp, n laws * n dust)\n",
    "    interpolated_array = jnp.zeros((probs_array.shape[0], probs_array.shape[1]))\n",
    "    \n",
    "    # Interpolate pdf at fixed_z\n",
    "    for i in range(probs_array.shape[0]):\n",
    "        for j in range(probs_array.shape[1]):\n",
    "            _probs = probs_array[i,j,:]\n",
    "            if prenormalize:\n",
    "                _prenorm = jnp.trapz(_probs, x=z_grid, axis=0)\n",
    "                _probs = _probs / _prenorm\n",
    "            #f_interp = j_spline(z_grid, _probs, k=2)\n",
    "            #_interp_pdf = f_interp(fixed_z)\n",
    "            _interp_pdf = jnp.interp(fixed_z, z_grid, _probs)\n",
    "            interpolated_array = interpolated_array.at[i,j].set(_interp_pdf)\n",
    "    \n",
    "    norm = 1.0\n",
    "    if renormalize:\n",
    "        # Integrate successively:\n",
    "        ## Over models\n",
    "        _int_mods = jnp.trapz(interpolated_array, x=jnp.arange(1, 1+len(baseTemp_arr)), axis=0)\n",
    "\n",
    "        _sub_ints = jnp.split(_int_mods, len(inputs['Extinctions']), axis=0)\n",
    "        sub_ints_ebv = []\n",
    "        for sub_arr in _sub_ints:\n",
    "            ## Integration over E(B-V)\n",
    "            _int_ebv = jnp.trapz(sub_arr, x=jnp.array(inputs['e_BV']), axis=0)\n",
    "            sub_ints_ebv.append(_int_ebv)\n",
    "        ## Over laws\n",
    "        norm = jnp.trapz(jnp.array(sub_ints_ebv), x=jnp.arange(1, 1+len(sub_ints_ebv)), axis=0)\n",
    "    \n",
    "    # return values array the same size as the number of based templates\n",
    "    return interpolated_array / norm, norm\n",
    "\n",
    "def p_template_at_fixed_z(probs_array, fixed_z):\n",
    "    # probs_array(n temp, n laws * n dust, len(z_grid)) -> probs_array(n temp, n laws * n dust)\n",
    "    interpolated_array, _norm = probs_at_fixed_z(probs_array, fixed_z, renormalize=True)\n",
    "    \n",
    "    # Split over dust extinction laws\n",
    "    _sub_ints = jnp.split(interpolated_array, len(inputs['Extinctions']), axis=1)\n",
    "    sub_ints_ebv = []\n",
    "    for sub_arr in _sub_ints:\n",
    "        ## Marginalize over E(B-V)\n",
    "        _int_ebv = jnp.trapz(sub_arr, x=jnp.array(inputs['e_BV']), axis=1)\n",
    "        sub_ints_ebv.append(_int_ebv)\n",
    "\n",
    "    # Marginalize over extinction law\n",
    "    sub_ints_ebv_arr = jnp.array(sub_ints_ebv)\n",
    "    int_laws = jnp.trapz(sub_ints_ebv_arr, x=jnp.arange(1, 1+len(sub_ints_ebv)), axis=0)\n",
    "\n",
    "    # return values array the same size as the number of based templates\n",
    "    return int_laws"
   ]
  },
  {
   "cell_type": "code",
   "execution_count": null,
   "id": "4683fbde-c3ed-47f6-8f76-1b3d53f66a63",
   "metadata": {},
   "outputs": [],
   "source": [
    "probs_0, norm_0 = probability_distrib(_dict_0)\n",
    "print(norm_0)"
   ]
  },
  {
   "cell_type": "code",
   "execution_count": null,
   "id": "363b83a5-d6a9-41a4-ac1c-d9555673836f",
   "metadata": {},
   "outputs": [],
   "source": [
    "chi_corr = _dict_0 + 2*jnp.log(norm_0)"
   ]
  },
  {
   "cell_type": "code",
   "execution_count": null,
   "id": "89d23072-9c9c-4fd8-80ab-d264ee746704",
   "metadata": {},
   "outputs": [],
   "source": [
    "probs_1, norm_1 = probability_distrib(chi_corr)\n",
    "print(norm_1)"
   ]
  },
  {
   "cell_type": "code",
   "execution_count": null,
   "id": "9990a458-6112-4ad8-89ba-27cdd7f7ccc4",
   "metadata": {},
   "outputs": [],
   "source": [
    "chi_corr_1 = chi_corr + 2*jnp.log(norm_1)\n",
    "probs_2, norm_2 = probability_distrib(chi_corr_1)\n",
    "print(norm_2)"
   ]
  },
  {
   "cell_type": "code",
   "execution_count": null,
   "id": "6a4dfafd-804e-4f12-8cf0-9adb1fba8ba3",
   "metadata": {},
   "outputs": [],
   "source": [
    "f,a=plt.subplots(1,1)\n",
    "a.plot(np.array([t.name for t in baseTemp_arr]), prob_mod(probs_2))\n",
    "a.tick_params(axis='x', labelrotation=90)\n",
    "np.trapz(prob_mod(probs_2), np.arange(len(baseTemp_arr)))"
   ]
  },
  {
   "cell_type": "code",
   "execution_count": null,
   "id": "eff5acb9-2521-4242-870f-a47bc4c16246",
   "metadata": {},
   "outputs": [],
   "source": [
    "f,a=plt.subplots(1,1)\n",
    "a.plot(np.unique([d.name for d in dust_arr]), prob_law(probs_2))\n",
    "a.tick_params(axis='x', labelrotation=90)\n",
    "print(np.sum(prob_law(probs_2))/len(inputs['Extinctions']))\n",
    "np.trapz(prob_law(probs_2), np.arange(1, 1+len(inputs['Extinctions'])))"
   ]
  },
  {
   "cell_type": "code",
   "execution_count": null,
   "id": "d32e03dc-f5a1-4aa0-b983-64bfe6f4667e",
   "metadata": {},
   "outputs": [],
   "source": [
    "f,a=plt.subplots(1,1)\n",
    "a.plot(np.array(inputs['e_BV']), prob_ebv(probs_2))\n",
    "a.tick_params(axis='x', labelrotation=90)\n",
    "np.trapz(prob_ebv(probs_2), np.array(inputs['e_BV']))"
   ]
  },
  {
   "cell_type": "code",
   "execution_count": null,
   "id": "a718d080-2165-4bf0-8f5a-8d07cec69cdc",
   "metadata": {},
   "outputs": [],
   "source": [
    "f,a=plt.subplots(1,1)\n",
    "a.plot(z_grid, prob_z(probs_2))\n",
    "a.axvline(df_res.loc[key_0, 'True redshift'], c='green', label=\"$z_{spectro}$\")\n",
    "a.axvline(df_res.loc[key_0, 'Photometric redshift'], c='red', label=\"$z_{photo}$\")\n",
    "np.trapz(prob_z(probs_2), z_grid)"
   ]
  },
  {
   "cell_type": "code",
   "execution_count": null,
   "id": "d0974c0b-d686-4f3e-a765-9800c4c99b96",
   "metadata": {},
   "outputs": [],
   "source": [
    "evs = evidence(probs_2, split_laws=True)\n",
    "temp_names_arr = np.array([t.name for t in baseTemp_arr])\n",
    "f,a=plt.subplots(2,1, figsize=(10, 8), sharex=True, constrained_layout=True)\n",
    "a=a.ravel()\n",
    "for law_ind, law_name in enumerate(inputs['Extinctions']):\n",
    "    for ebv_ind, ebv in enumerate(inputs['e_BV']):\n",
    "        a[law_ind].plot(temp_names_arr, evs[law_ind,:,ebv_ind], label=f'Evidence for E(B-V)={ebv:.2f}')\n",
    "    a[law_ind].legend(loc='lower left', bbox_to_anchor=(1.01,0.0))\n",
    "    a[law_ind].tick_params(axis='x', labelrotation=90)\n",
    "    a[law_ind].set_title(f\"Evidences for extinction law : {extlaws_dict[law_name]['name']}\")"
   ]
  },
  {
   "cell_type": "code",
   "execution_count": null,
   "id": "654880a6-d7e8-4f63-8be0-961a705857e6",
   "metadata": {},
   "outputs": [],
   "source": [
    "evs = evidence(probs_2, split_laws=True)\n",
    "temp_names_arr = np.array([t.name for t in baseTemp_arr])\n",
    "f,a=plt.subplots(2,1, figsize=(10, 8), sharex=True, constrained_layout=True)\n",
    "a=a.ravel()\n",
    "for law_ind, law_name in enumerate(inputs['Extinctions']):\n",
    "    for temp_ind, temp_name in enumerate(temp_names_arr):\n",
    "        a[law_ind].plot(inputs['e_BV'], evs[law_ind,temp_ind,:], label=f'Evidence for SED {temp_name}')\n",
    "    a[law_ind].legend(loc='lower left', bbox_to_anchor=(1.01,0.0))\n",
    "    a[law_ind].set_title(f\"Evidences for extinction law : {extlaws_dict[law_name]['name']}\")\n",
    "\n",
    "a[-1].set_xlabel('E(B-V)')"
   ]
  },
  {
   "cell_type": "code",
   "execution_count": null,
   "id": "48da1b8c-5308-484c-9cbb-9decba86eed2",
   "metadata": {},
   "outputs": [],
   "source": [
    "evs_nosplit = evidence(probs_2, split_laws=False)\n",
    "sorted_evs_flat = jnp.argsort(evs_nosplit, axis=None)\n",
    "print(sorted_evs_flat.shape)\n",
    "sorted_evs = [ jnp.unravel_index(idx, evs_nosplit.shape) for idx in sorted_evs_flat ]\n",
    "sorted_evs.reverse()\n",
    "sorted_evs[:10]"
   ]
  },
  {
   "cell_type": "code",
   "execution_count": null,
   "id": "14f7a860-04d7-4303-9605-4b9d5475c949",
   "metadata": {},
   "outputs": [],
   "source": [
    "f,a = plt.subplots(1,1)\n",
    "NMOD=5\n",
    "for nmod, (n_temp, n_dust) in enumerate(sorted_evs[:NMOD]):\n",
    "    a.semilogy(z_grid, probs_2[n_temp, n_dust, :],\\\n",
    "               label = f'Model {1+nmod}: template {n_temp}, dust {n_dust}')\n",
    "\n",
    "a.axvline(df_res.loc[key_0, 'True redshift'], c='green', label=\"$z_{spectro}$\")\n",
    "a.axvline(df_res.loc[key_0, 'Photometric redshift'], c='red', label=\"$z_{photo}$\")\n",
    "a.legend(loc='lower left', bbox_to_anchor=(1.01, 0.0))\n",
    "a.set_xlabel('$z_{phot}$')\n",
    "a.set_ylabel(\"$P(z|model)$\")"
   ]
  },
  {
   "cell_type": "markdown",
   "id": "8a4290c5-18a3-48b6-a3eb-a46654e9cd3f",
   "metadata": {},
   "source": [
    "Tiens tiens ! Sur la base du calcul de l'evidence du modèle ($\\int PDF(z|model)dz$), un autre modèle, avec par exemple un prior sur la valeur E(B-V), aurait peut-être permis de retrouver $z_{spectro}$."
   ]
  },
  {
   "cell_type": "code",
   "execution_count": null,
   "id": "adaf94f3-eef4-46c0-8641-b10df8370642",
   "metadata": {},
   "outputs": [],
   "source": [
    "f,a = plt.subplots(1,1)\n",
    "NMOD=5\n",
    "for nmod, (n_temp, n_dust) in enumerate(sorted_evs[:NMOD]):\n",
    "    a.plot(z_grid, probs_2[n_temp, n_dust, :]/jnp.trapz(probs_2[n_temp, n_dust, :], x=z_grid),\\\n",
    "           label = f'Model {1+nmod}: template {n_temp}, dust {n_dust}')\n",
    "\n",
    "a.axvline(df_res.loc[key_0, 'True redshift'], c='green', label=\"$z_{spectro}$\")\n",
    "a.axvline(df_res.loc[key_0, 'Photometric redshift'], c='red', label=\"$z_{photo}$\")\n",
    "a.legend(loc='lower left', bbox_to_anchor=(1.01, 0.0))\n",
    "a.set_xlabel('$z_{phot}$')\n",
    "a.set_ylabel(\"$P(z|model)$\")\n",
    "a.set_xlim(0.5,1.)"
   ]
  },
  {
   "cell_type": "code",
   "execution_count": null,
   "id": "59db17d6-fe0d-4221-a617-655fe94f182a",
   "metadata": {},
   "outputs": [],
   "source": [
    "model_df_0=pd.DataFrame()\n",
    "extrap_ones = jnp.ones(len(wl_grid)-len(wls_opa))\n",
    "\n",
    "for nmod, (n_temp, n_dust) in enumerate(tqdm(sorted_evs[:NMOD])):\n",
    "    model_df_0.loc[nmod, \"Template SED\"] = baseTemp_arr[n_temp].name\n",
    "    model_df_0.loc[nmod, \"Dust law\"] = dust_arr[n_dust].name\n",
    "    model_df_0.loc[nmod, \"E(B-V)\"] = dust_arr[n_dust].EBV\n",
    "    z_distrib = probs_2[n_temp, n_dust, :] / jnp.trapz(probs_2[n_temp, n_dust, :], x=z_grid)\n",
    "    cum_distr = jnp.cumsum(z_distrib)\n",
    "    model_df_0.loc[nmod, \"zp (mode)\"] = z_grid[jnp.nanargmax(z_distrib)]\n",
    "    opa_at_z = jnp.array([jnp.interp(model_df_0.loc[nmod, \"zp (mode)\"], opa_zgrid, opacity_grid[:, _col]) for _col in range(opacity_grid.shape[1])])\n",
    "    opacities = jnp.append(opa_at_z, extrap_ones)\n",
    "    templ_fab = Template.make_scaled_template(baseTemp_arr[n_temp].flux, filters_jarr,\\\n",
    "                                              dust_arr[n_dust].transmission,\\\n",
    "                                              _obs_arr[test_num].AB_fluxes, _obs_arr[test_num].AB_f_errors,\\\n",
    "                                              model_df_0.loc[nmod, \"zp (mode)\"], wl_grid,\\\n",
    "                                              Cosmology.distMod(cosmo, model_df_0.loc[nmod, \"zp (mode)\"]),\\\n",
    "                                              opacities\n",
    "                                             )\n",
    "    templ_mab = -2.5*jnp.log10(templ_fab)-48.6\n",
    "    model_df_0.loc[nmod, \"Average z\"] = jnp.trapz(z_distrib*z_grid, x=z_grid)\n",
    "    model_df_0.loc[nmod, \"Sigma z\"] = jnp.trapz(z_distrib*jnp.power(z_grid-model_df_0.loc[nmod, \"Average z\"], 2), x=z_grid)\n",
    "    _selmed = cum_distr > 0.5\n",
    "    model_df_0.loc[nmod, \"Median z\"] = z_grid[_selmed][0]\n",
    "    model_df_0.loc[nmod, [f\"M({f.name})\" for f in filters_arr]] = templ_mab\n",
    "    model_df_0.loc[nmod, \"Odd ratio\"] = evs_nosplit[sorted_evs[nmod]]/evs_nosplit[sorted_evs[0]]\n",
    "    model_df_0.loc[nmod, \"Bias\"] = jnp.abs(model_df_0.loc[nmod, \"zp (mode)\"] - _obs_arr[test_num].z_spec)/(1+_obs_arr[test_num].z_spec)\n",
    "model_df_0"
   ]
  },
  {
   "cell_type": "code",
   "execution_count": null,
   "id": "04127644-3a44-4eb5-9f88-f415c12bc973",
   "metadata": {},
   "outputs": [],
   "source": [
    "_zps = np.array([])\n",
    "chi2s = np.array([])\n",
    "probs = np.array([])\n",
    "modids = np.array([])\n",
    "extlaws = np.array([])\n",
    "ebvs = np.array([])\n",
    "\n",
    "for i,mod in enumerate(tqdm(baseTemp_arr)):\n",
    "    for j, dust in enumerate(dust_arr):\n",
    "        _zps = np.append(_zps, fine_z_grid)\n",
    "        #f_interp = interp1d(z_grid, _dict_0[i, j, :], kind='cubic', bounds_error=False, fill_value=\"extrapolate\")\n",
    "        f_interp = j_spline(z_grid, chi_corr_1[i, j, :], k=3)\n",
    "        _interp_chis = f_interp(fine_z_grid) # np.interp(fine_z_grid, z_grid, _dict_0[i, j, :])\n",
    "        p_interp = j_spline(z_grid, probs_2[i, j, :], k=1)\n",
    "        _interp_ps = p_interp(fine_z_grid) # np.interp(fine_z_grid, z_grid, _dict_0[i, j, :])\n",
    "        chi2s = np.append(chi2s, _interp_chis)\n",
    "        probs = np.append(probs, _interp_ps)\n",
    "        modids = np.append(modids, np.full(fine_z_grid.shape, mod.name))\n",
    "        extlaws = np.append(extlaws, np.full(fine_z_grid.shape, dust.name))\n",
    "        ebvs = np.append(ebvs, np.full(fine_z_grid.shape, dust.EBV))\n",
    "\n",
    "dict_0 = {}\n",
    "dict_0['zp'] = _zps\n",
    "dict_0['chi2'] = chi2s\n",
    "dict_0['mod id'] = modids\n",
    "dict_0['ext law'] = extlaws\n",
    "dict_0['eBV'] = ebvs\n",
    "dict_0['PDF'] = probs"
   ]
  },
  {
   "cell_type": "code",
   "execution_count": null,
   "id": "cfc1b992-db24-40dd-8cd0-802b50213824",
   "metadata": {},
   "outputs": [],
   "source": [
    "df0 = pd.DataFrame(dict_0)\n",
    "df0"
   ]
  },
  {
   "cell_type": "code",
   "execution_count": null,
   "id": "690f9e1d",
   "metadata": {},
   "outputs": [],
   "source": [
    "sns.lineplot(data=df0, x='zp', y='PDF', hue='eBV')"
   ]
  },
  {
   "cell_type": "code",
   "execution_count": null,
   "id": "4b12141b-79fb-4891-a643-9302bd4db681",
   "metadata": {},
   "outputs": [],
   "source": [
    "f,a = plt.subplots(1,1)\n",
    "max_evidence = -1.\n",
    "best_z = ''\n",
    "best_law = ''\n",
    "best_ebv = -1.0\n",
    "for ebv in np.unique(df0['eBV']):\n",
    "    for law_ind, law_name in enumerate(np.unique(df0['ext law'])):\n",
    "        for zp_ind, z_val in enumerate(np.unique(df0['zp'])):\n",
    "            _sel = (df0['zp']==z_val) * (df0['ext law']==law_name) * (df0['eBV']==ebv)\n",
    "            _df = df0[_sel]\n",
    "            ev_ = np.trapz(_df['PDF'].values, x=np.arange(len(_df['mod id'])))\n",
    "            if ev_ > max_evidence:\n",
    "                best_z = z_val\n",
    "                best_law = law_name\n",
    "                best_ebv = ebv\n",
    "                max_evidence = ev_\n",
    "    _selplot = (df0['zp']==best_z) * (df0['ext law']==best_law) * (df0['eBV']==best_ebv)\n",
    "    _df_plot = df0[_selplot]\n",
    "    sns.lineplot(data=_df_plot, x='mod id', y='PDF', ax=a, label=f\"zp={best_z:.2f}_{best_law}_{best_ebv}\")\n",
    "\n",
    "#a.axvline(df_res.loc[key_0, 'True redshift'],\\\n",
    "#            label=f\"True z={df_res.loc[key_0, 'True redshift']:.2f}\", c='g')\n",
    "#a.axvline(df_res.loc[key_0, 'Photometric redshift'],\\\n",
    "#            label=f\"Photo-z={df_res.loc[key_0, 'Photometric redshift']:.2f}\", c='purple')\n",
    "a.legend(loc='lower left', bbox_to_anchor=(1.01, 0.))\n",
    "a.tick_params(axis='x', labelrotation=90)\n",
    "a.set_yscale('log')"
   ]
  },
  {
   "cell_type": "markdown",
   "id": "bec1dcfa",
   "metadata": {},
   "source": [
    "OK donc c'est pas complètement sans espoir ! Il faudrait intégrer la visualisation de ces résultats dans un dash maintenant..."
   ]
  },
  {
   "cell_type": "markdown",
   "id": "19bdeaed-af75-4865-8f05-192137a5ffa8",
   "metadata": {},
   "source": [
    "## Fix z at spectroscopic value and look for the best-fit model"
   ]
  },
  {
   "cell_type": "code",
   "execution_count": null,
   "id": "b50d634f-ac95-40e9-8f20-d120cff6ef5b",
   "metadata": {},
   "outputs": [],
   "source": [
    "f,a = plt.subplots(1,1)\n",
    "max_pdf = -1.0\n",
    "best_temp = ''\n",
    "best_law = ''\n",
    "best_ebv = -1.0\n",
    "best_mod_chis = np.array([])\n",
    "interp_grid = np.sort(np.append(np.sort(np.unique(df0['zp'].values)), df_res.loc[key_0, 'True redshift']))\n",
    "for temp_ind, temp_name in enumerate(np.unique(df0['mod id'])):\n",
    "    for law_ind, law_name in enumerate(np.unique(df0['ext law'])):\n",
    "        for ebv in np.unique(df0['eBV']):\n",
    "            _sel = (df0['mod id']==temp_name) * (df0['ext law']==law_name) * (df0['eBV']==ebv)\n",
    "            probs_sel = df0[_sel]['PDF'].values\n",
    "            f_interp = j_spline(df0[_sel]['zp'].values, probs_sel, k=2)\n",
    "            _interp_pdf = f_interp(df_res.loc[key_0, 'True redshift'])\n",
    "            if _interp_pdf > max_pdf:\n",
    "                best_temp = temp_name\n",
    "                best_law = law_name\n",
    "                best_ebv = ebv\n",
    "                best_mod_probs = f_interp(interp_grid)\n",
    "                max_pdf = _interp_pdf\n",
    "                a.plot(interp_grid, best_mod_probs, label=f\"{best_temp}_{best_law}_{best_ebv}\")\n",
    "                \n",
    "photoz_temp = df_res.loc[key_0, 'Template SED']\n",
    "photoz_law = df_res.loc[key_0, 'Extinction law']\n",
    "photoz_ebv = df_res.loc[key_0, 'E(B-V)']\n",
    "photoz_chi = df_res.loc[key_0, 'Chi2']\n",
    "\n",
    "photoz_sel = _sel = (df0['mod id']==photoz_temp) * (df0['ext law']==photoz_law) * (df0['eBV']==photoz_ebv)\n",
    "photoz_probs = jnp.array(df0[_sel]['PDF'].values)\n",
    "a.plot(fine_z_grid, photoz_probs, lw=2, c='k', label=f\"{photoz_temp}_{photoz_law}_{photoz_ebv}\")\n",
    "a.axvline(df_res.loc[key_0, 'True redshift'],\\\n",
    "            label=f\"True z={df_res.loc[key_0, 'True redshift']:.2f}, P={max_pdf:.2f}\", c='g')\n",
    "a.axvline(df_res.loc[key_0, 'Photometric redshift'],\\\n",
    "            label=f\"Photo-z={df_res.loc[key_0, 'Photometric redshift']:.2f}, chi²={photoz_chi:.2f}\", c='purple')\n",
    "\n",
    "print(f\"Best model at z_spec={df_res.loc[key_0, 'True redshift']}: {best_temp} with dust as per {best_law} and E(B-V)={best_ebv}.\")\n",
    "a.legend(loc='upper left', bbox_to_anchor=(1.01,1.0))\n",
    "a.set_xlabel('$z$')\n",
    "a.set_ylabel(\"$P(z|model)$\")\n",
    "a.set_xlim(0.5, 1.0)"
   ]
  },
  {
   "cell_type": "markdown",
   "id": "37f7e3da-2928-4f4e-986f-95a0412c5ca6",
   "metadata": {},
   "source": [
    "Le \"meilleur modèle\" pour $z_{spec}$ est identifié en bleu. Par contre, $z_{spec}$ n'est pas le meilleur redshift pour ce modèle ! Faut-il appliquer une correction / une calibration des filtres (un peu comme le auto-adapt) dans l'estimation?\n",
    "Attendons aussi de voir avec l'opacité...\n",
    "Plutôt que de chercher \"le meilleur modèle\" (avec le plus petit $\\chi^2$) faut-il chercher celui qui atteint un minimum en $z_{spec}$? Pour l'estimation de $z_{phot}$ ça ne changera rien car la plus petite valeur de $\\chi^2$ est forcément atteinte au minimum sur la grille de redshift."
   ]
  },
  {
   "cell_type": "code",
   "execution_count": null,
   "id": "82e30ab0-3079-424e-8a9d-a0bb3d51282a",
   "metadata": {},
   "outputs": [],
   "source": [
    "probs_2.shape"
   ]
  },
  {
   "cell_type": "code",
   "execution_count": null,
   "id": "4eb57480-8124-4d43-bdc6-d64a5d3f8fe0",
   "metadata": {},
   "outputs": [],
   "source": [
    "mods_p_at_zs = p_template_at_fixed_z(probs_2, df_res.loc[key_0, 'True redshift'])\n",
    "mods_p_at_zp = p_template_at_fixed_z(probs_2, df_res.loc[key_0, 'Photometric redshift'])\n",
    "mods_p_at_zs.shape, mods_p_at_zp.shape"
   ]
  },
  {
   "cell_type": "code",
   "execution_count": null,
   "id": "34faed95-d76e-4493-b93e-55975ee19de9",
   "metadata": {},
   "outputs": [],
   "source": [
    "f,a=plt.subplots(1,1)\n",
    "a.plot(np.array([t.name for t in baseTemp_arr]), mods_p_at_zs,\\\n",
    "       label=\"$P(template|z=z_{spec})$\"\n",
    "      )\n",
    "a.plot(np.array([t.name for t in baseTemp_arr]), mods_p_at_zp,\\\n",
    "       label=\"$P(template|z=z_{phot})$\"\n",
    "      )\n",
    "a.plot(np.array([t.name for t in baseTemp_arr]), prob_mod(probs_2),\\\n",
    "       label=\"$P(template)$ marg. over $z$\"\n",
    "      )\n",
    "#a.set_yscale('log')\n",
    "a.tick_params(axis='x', labelrotation=90)\n",
    "a.legend(loc='lower left', bbox_to_anchor=(1.01, 0.0))"
   ]
  },
  {
   "cell_type": "code",
   "execution_count": null,
   "id": "f9e728e6-eb17-4c4a-906d-04f125d51f8c",
   "metadata": {},
   "outputs": [],
   "source": [
    "p_zfix_nosplit, _norm = probs_at_fixed_z(probs_2, df_res.loc[key_0, 'True redshift'], renormalize=True, prenormalize=False)\n",
    "sorted_pzfix_flat = jnp.argsort(p_zfix_nosplit, axis=None)\n",
    "print(sorted_pzfix_flat.shape)\n",
    "sorted_pzfix = [ jnp.unravel_index(idx, p_zfix_nosplit.shape) for idx in sorted_pzfix_flat ]\n",
    "sorted_pzfix.reverse()\n",
    "sorted_pzfix[:10]"
   ]
  },
  {
   "cell_type": "code",
   "execution_count": null,
   "id": "68c0008a-1110-45ca-adaa-675e13875cc8",
   "metadata": {},
   "outputs": [],
   "source": [
    "f,a = plt.subplots(1,1)\n",
    "NMOD=5\n",
    "for nmod, (n_temp, n_dust) in enumerate(sorted_pzfix[:NMOD]):\n",
    "    a.semilogy(z_grid, probs_2[n_temp, n_dust, :],\\\n",
    "               label = f'Model {1+nmod}: template {n_temp}, dust {n_dust}')\n",
    "\n",
    "a.axvline(df_res.loc[key_0, 'True redshift'], c='green', label=\"$z_{spectro}$\")\n",
    "a.axvline(df_res.loc[key_0, 'Photometric redshift'], c='red', label=\"$z_{photo}$\")\n",
    "a.legend(loc='lower left', bbox_to_anchor=(1.01, 0.0))\n",
    "a.set_xlabel('$z_{phot}$')\n",
    "a.set_ylabel(\"$P(z|model)$\")"
   ]
  },
  {
   "cell_type": "code",
   "execution_count": null,
   "id": "58b1d7be-7290-4462-8e35-b45ae2dea2cf",
   "metadata": {},
   "outputs": [],
   "source": [
    "modelZFIX_df_0=pd.DataFrame()\n",
    "extrap_ones = jnp.ones(len(wl_grid)-len(wls_opa))\n",
    "\n",
    "for nmod, (n_temp, n_dust) in enumerate(tqdm(sorted_pzfix[:NMOD])):\n",
    "    modelZFIX_df_0.loc[nmod, \"Template SED\"] = baseTemp_arr[n_temp].name\n",
    "    modelZFIX_df_0.loc[nmod, \"Dust law\"] = dust_arr[n_dust].name\n",
    "    modelZFIX_df_0.loc[nmod, \"E(B-V)\"] = dust_arr[n_dust].EBV\n",
    "    z_distrib = probs_2[n_temp, n_dust, :] / jnp.trapz(probs_2[n_temp, n_dust, :], x=z_grid)\n",
    "    cum_distr = jnp.cumsum(z_distrib)\n",
    "    modelZFIX_df_0.loc[nmod, \"zp (mode)\"] = z_grid[jnp.nanargmax(z_distrib)]\n",
    "    opa_at_z = jnp.array([jnp.interp(modelZFIX_df_0.loc[nmod, \"zp (mode)\"], opa_zgrid, opacity_grid[:, _col]) for _col in range(opacity_grid.shape[1])])\n",
    "    opacities = jnp.append(opa_at_z, extrap_ones)\n",
    "    templ_fab = Template.make_scaled_template(baseTemp_arr[n_temp].flux, filters_jarr,\\\n",
    "                                              dust_arr[n_dust].transmission,\\\n",
    "                                              _obs_arr[test_num].AB_fluxes, _obs_arr[test_num].AB_f_errors,\\\n",
    "                                              modelZFIX_df_0.loc[nmod, \"zp (mode)\"], wl_grid,\\\n",
    "                                              Cosmology.distMod(cosmo, modelZFIX_df_0.loc[nmod, \"zp (mode)\"]),\\\n",
    "                                              opacities\n",
    "                                             )\n",
    "    templ_mab = -2.5*jnp.log10(templ_fab)-48.6\n",
    "    modelZFIX_df_0.loc[nmod, \"Average z\"] = jnp.trapz(z_distrib*z_grid, x=z_grid)\n",
    "    modelZFIX_df_0.loc[nmod, \"Sigma z\"] = jnp.trapz(z_distrib*jnp.power(z_grid-modelZFIX_df_0.loc[nmod, \"Average z\"], 2), x=z_grid)\n",
    "    _selmed = cum_distr > 0.5\n",
    "    modelZFIX_df_0.loc[nmod, \"Median z\"] = z_grid[_selmed][0]\n",
    "    modelZFIX_df_0.loc[nmod, [f\"M({f.name})\" for f in filters_arr]] = templ_mab\n",
    "    modelZFIX_df_0.loc[nmod, \"Odd ratio\"] = p_zfix_nosplit[sorted_pzfix[nmod]]/p_zfix_nosplit[sorted_pzfix[0]]\n",
    "    modelZFIX_df_0.loc[nmod, \"Bias\"] = jnp.abs(modelZFIX_df_0.loc[nmod, \"zp (mode)\"] - _obs_arr[test_num].z_spec)/(1+_obs_arr[test_num].z_spec)\n",
    "modelZFIX_df_0"
   ]
  },
  {
   "cell_type": "code",
   "execution_count": null,
   "id": "535b5e1c-79a2-4b77-a3ed-acce3da7cc54",
   "metadata": {},
   "outputs": [],
   "source": [
    "if True:\n",
    "    seds_zs = []\n",
    "    laws_zs = []\n",
    "    ebvs_zs = []\n",
    "    odds_zs = []\n",
    "\n",
    "    for kk in tqdm(keys) :\n",
    "        chi2arr = results_dict[kk]\n",
    "        probsarr, norm = probability_distrib(chi2arr)\n",
    "        while abs(1-norm)>1.0e-5 :\n",
    "            chi2arr = chi2arr + 2*jnp.log(norm)\n",
    "            probsarr, norm = probability_distrib(chi2arr)\n",
    "\n",
    "        evs_nosplit = evidence(probsarr, split_laws=False)\n",
    "        id_t = np.nonzero([t.name == df_res.loc[kk, \"Template SED\"] for t in baseTemp_arr])[0][0]\n",
    "        id_dust = np.nonzero([(d.name == df_res.loc[kk, \"Extinction law\"]) and (d.EBV == df_res.loc[kk, \"E(B-V)\"]) for d in dust_arr])[0][0]\n",
    "\n",
    "        p_zfix_nosplit, _n = probs_at_fixed_z(probsarr, df_res.loc[kk, 'True redshift'], renormalize=True, prenormalize=False)\n",
    "        sorted_pzfix_flat = jnp.argsort(p_zfix_nosplit, axis=None)\n",
    "        sorted_pzfix = [ jnp.unravel_index(idx, p_zfix_nosplit.shape) for idx in sorted_pzfix_flat ]\n",
    "        sorted_pzfix.reverse()\n",
    "        n_temp, n_dust = sorted_pzfix[0]\n",
    "\n",
    "        seds_zs.append(baseTemp_arr[n_temp].name)\n",
    "        laws_zs.append(dust_arr[n_dust].name)\n",
    "        ebvs_zs.append(dust_arr[n_dust].EBV)\n",
    "        odds_zs.append(float(evs_nosplit[n_temp, n_dust] / evs_nosplit[id_t, id_dust]))\n",
    "\n",
    "    df_res[\"Best SED at z_spec\"] = seds_zs\n",
    "    df_res[\"Best dust law at z_spec\"] = laws_zs\n",
    "    df_res[\"E(B-V) at z_spec\"] = ebvs_zs\n",
    "    df_res[\"Odd ratio\"] = odds_zs\n",
    "    df_res.to_pickle(f\"results_synthesis_{inputs['run name']}.pkl\")"
   ]
  },
  {
   "cell_type": "code",
   "execution_count": null,
   "id": "446d8ca8-fd29-4f74-a2ae-dec240208f98",
   "metadata": {},
   "outputs": [],
   "source": [
    "df_res = pd.read_pickle(f\"results_synthesis_{inputs['run name']}.pkl\")\n",
    "df_res"
   ]
  },
  {
   "cell_type": "code",
   "execution_count": null,
   "id": "8730115e-e4e1-4346-8b7e-95cf66a441ce",
   "metadata": {},
   "outputs": [],
   "source": [
    "f,a = plt.subplots(1,1)\n",
    "sns.scatterplot(data=df_res, x='Template SED', y='Best SED at z_spec', hue='Odd ratio', ax=a)\n",
    "a.legend(loc='lower left', bbox_to_anchor=(1.01, 0.))\n",
    "a.tick_params(axis='x', labelrotation=90)"
   ]
  },
  {
   "cell_type": "code",
   "execution_count": null,
   "id": "5e0f2962-bdae-4724-8f88-39a8169bca98",
   "metadata": {},
   "outputs": [],
   "source": [
    "f,a = plt.subplots(1,1)\n",
    "df_res.plot.scatter(x='True redshift', y='bias', c='Odd ratio', alpha=0.5, ax=a)\n",
    "a.legend(loc='lower left', bbox_to_anchor=(1.01, 0.))\n",
    "a.tick_params(axis='x', labelrotation=90)"
   ]
  },
  {
   "cell_type": "code",
   "execution_count": null,
   "id": "0ef11eb9-c928-44e9-b0d5-4a1a246eb711",
   "metadata": {},
   "outputs": [],
   "source": [
    "_sel = (df_res['Template SED'] == 'AVG_CLUST_CWW_Im') * ([not b for b in df_res['Outlier']])\n",
    "sub_df = df_res[_sel]\n",
    "f,a = plt.subplots(1,1)\n",
    "sns.scatterplot(data=sub_df, x='True redshift', y='Odd ratio', hue='Best SED at z_spec', ax=a)\n",
    "a.legend(loc='lower left', bbox_to_anchor=(1.01, 0.))\n",
    "a.tick_params(axis='x', labelrotation=90)"
   ]
  },
  {
   "cell_type": "code",
   "execution_count": null,
   "id": "0df2f83b-878f-4aac-bf93-a32c3403c883",
   "metadata": {},
   "outputs": [],
   "source": [
    "f,a = plt.subplots(1,1)\n",
    "sns.scatterplot(data=df_res, x='E(B-V)', y='E(B-V) at z_spec', hue='Odd ratio', ax=a)\n",
    "a.legend(loc='lower left', bbox_to_anchor=(1.01, 0.))\n",
    "a.tick_params(axis='x', labelrotation=90)"
   ]
  },
  {
   "cell_type": "markdown",
   "id": "120e99bc-9065-4791-b711-ea06058bcfa4",
   "metadata": {},
   "source": [
    "## Evidence-based Photo-Z"
   ]
  },
  {
   "cell_type": "code",
   "execution_count": null,
   "id": "84217ff3-6e92-48ec-ab10-c8d8b03cf0cf",
   "metadata": {},
   "outputs": [],
   "source": [
    "if True:\n",
    "    seds_zs = []\n",
    "    laws_zs = []\n",
    "    ebvs_zs = []\n",
    "    odds_zs = []\n",
    "    z_means = []\n",
    "    z_stds = []\n",
    "    z_mods = []\n",
    "\n",
    "    for kk in tqdm(keys) :\n",
    "        chi2arr = results_dict[kk]\n",
    "        probsarr, norm = probability_distrib(chi2arr)\n",
    "        while abs(1-norm)>1.0e-5 :\n",
    "            chi2arr = chi2arr + 2*jnp.log(norm)\n",
    "            probsarr, norm = probability_distrib(chi2arr)\n",
    "\n",
    "        evs_nosplit = evidence(probsarr, split_laws=False)\n",
    "        id_t = np.nonzero([t.name == df_res.loc[kk, \"Template SED\"] for t in baseTemp_arr])[0][0]\n",
    "        id_dust = np.nonzero([(d.name == df_res.loc[kk, \"Extinction law\"]) and (d.EBV == df_res.loc[kk, \"E(B-V)\"]) for d in dust_arr])[0][0]\n",
    "        \n",
    "        sorted_evs_flat = jnp.argsort(evs_nosplit, axis=None)\n",
    "        sorted_evs = [ jnp.unravel_index(idx, evs_nosplit.shape) for idx in sorted_evs_flat ]\n",
    "        sorted_evs.reverse()\n",
    "        n_temp, n_dust = sorted_evs[0]\n",
    "        \n",
    "        pz_at_ev = probsarr[n_temp, n_dust, :] / np.trapz(probsarr[n_temp, n_dust, :], x=z_grid)\n",
    "        #cum_distr = np.cumsum(pz_at_ev)\n",
    "        z_mean = np.trapz(z_grid*pz_at_ev, x=z_grid)\n",
    "        z_std = np.trapz(pz_at_ev*jnp.power(z_grid-z_mean, 2), x=z_grid)\n",
    "        #_selmed = cum_distr > 0.5\n",
    "        #z_med = z_grid[_selmed][0]\n",
    "        try:\n",
    "            z_mod = z_grid[np.nanargmax(pz_at_ev)]\n",
    "        except ValueError:\n",
    "            z_mod = np.nan\n",
    "        seds_zs.append(baseTemp_arr[n_temp].name)\n",
    "        laws_zs.append(dust_arr[n_dust].name)\n",
    "        ebvs_zs.append(dust_arr[n_dust].EBV)\n",
    "        odds_zs.append(float(evs_nosplit[n_temp, n_dust] / evs_nosplit[id_t, id_dust]))\n",
    "        z_means.append(z_mean)\n",
    "        z_stds.append(z_std)\n",
    "        z_mods.append(z_mod)\n",
    "        \n",
    "\n",
    "    df_res[\"Highest evidence SED\"] = seds_zs\n",
    "    df_res[\"Highest evidence dust law\"] = laws_zs\n",
    "    df_res[\"Highest evidence E(B-V)\"] = ebvs_zs\n",
    "    df_res[\"Highest evidence odd ratio\"] = odds_zs\n",
    "    df_res[\"Highest evidence z_phot (mode)\"] = z_mods\n",
    "    df_res[\"Highest evidence z_phot (mean)\"] = z_means\n",
    "    df_res[\"Highest evidence sigma(z)\"] = z_stds\n",
    "    df_res.to_pickle(f\"results_synthesis_{inputs['run name']}.pkl\")"
   ]
  },
  {
   "cell_type": "code",
   "execution_count": null,
   "id": "0dc11868-5a80-4099-bf96-bec328cb14d6",
   "metadata": {},
   "outputs": [],
   "source": [
    "f,a = plt.subplots(1,3, sharey=True, figsize=(14, 4))\n",
    "df_res.plot.scatter(x='True redshift', y='Photometric redshift', c='tab:red', s=9, alpha=0.1, ax=a[0])\n",
    "df_res.plot.scatter(x='True redshift', y='Highest evidence z_phot (mode)', c='tab:blue', s=9, alpha=0.1, ax=a[1])\n",
    "df_res.plot.scatter(x='True redshift', y='Highest evidence z_phot (mean)', c='tab:green', s=9, alpha=0.1, ax=a[2])\n",
    "for _a in a:\n",
    "    _a.plot(z_grid, z_grid, c='k')\n",
    "    _a.plot(z_grid, z_grid+0.15*(1+z_grid), c='k', ls=':')\n",
    "    _a.plot(z_grid, z_grid-0.15*(1+z_grid), c='k', ls=':')"
   ]
  },
  {
   "cell_type": "markdown",
   "id": "c91832f3-578e-47c9-acda-bcc3e9b30678",
   "metadata": {},
   "source": [
    "## LEPHARE prior on N(z)\n",
    "Based on [z-VVDS](https://cesam.lam.fr/vvds/)"
   ]
  },
  {
   "cell_type": "markdown",
   "id": "302f7add-3cca-418d-ad82-e374b69ef555",
   "metadata": {},
   "source": [
    "### Construct the filters"
   ]
  },
  {
   "cell_type": "code",
   "execution_count": null,
   "id": "d1450ec8-d703-4b6f-99d1-2619ec13b0ff",
   "metadata": {},
   "outputs": [],
   "source": [
    "# NUV\n",
    "nuv_transm = np.zeros_like(wl_grid)\n",
    "nuv_transm[(wl_grid>=2100.)*(wl_grid<=2500.0)] = 1.0\n",
    "NUV_filt = sedpyFilter(\"NUV\", wl_grid, nuv_transm)\n",
    "\n",
    "# NIR\n",
    "nir_transm = np.zeros_like(wl_grid)\n",
    "nir_transm[(wl_grid>=21000.)*(wl_grid<=23000.0)] = 1.0\n",
    "NIR_filt = sedpyFilter(\"NIR\", wl_grid, nir_transm)\n",
    "\n",
    "plt.plot(wl_grid, nuv_transm)\n",
    "plt.plot(wl_grid, nir_transm)"
   ]
  },
  {
   "cell_type": "markdown",
   "id": "ee276ecc-f5c0-4815-9c04-30f367cfadec",
   "metadata": {},
   "source": [
    "### Define the NUV-R rest-frame color corrected for dust-extinction"
   ]
  },
  {
   "cell_type": "code",
   "execution_count": null,
   "id": "a1c1a008-3faa-4385-be94-84ee099fc20b",
   "metadata": {},
   "outputs": [],
   "source": [
    "basetempl = [ bt for bt in baseTemp_arr if bt.name == df_res.loc[key_0,'Template SED'] ][0]\n",
    "extlaw = [ dust for dust in dust_arr if (dust.name == df_res.loc[key_0, 'Extinction law'])\\\n",
    "                                          and (dust.EBV == df_res.loc[key_0, 'E(B-V)']) ][0]\n",
    "                \n",
    "obs = [ _obs for _obs in _obs_arr if _obs.num == key_0 ][0]\n",
    "lnuv, lnir = jnp.array([Filter.ab_mag(filt.wavelengths, filt.transmission,\\\n",
    "                                        wl_grid, basetempl.flux*extlaw.transmission)\\\n",
    "                          for filt in (NUV_filt, NIR_filt)])\n",
    "#nuv_nir_fluxes = jnp.power(10, -0.4*(nuv_nir_mags+48.6))\n",
    "#lnuv, lnir = jnp.log10(nuv_nir_fluxes)\n",
    "nuvk = lnuv-lnir #-2.5*(lnuv-lnir)\n",
    "nuvk"
   ]
  },
  {
   "cell_type": "markdown",
   "id": "141ba79d-49c9-4154-9c05-842b19abf976",
   "metadata": {},
   "source": [
    "### Define the prior in function of nuvk and Mag(i)\n",
    "Pb : qui est 'red'? - c'est le redshift de la SED."
   ]
  },
  {
   "cell_type": "code",
   "execution_count": null,
   "id": "de774d56-a52f-4bdc-9388-520c44bff26f",
   "metadata": {},
   "outputs": [],
   "source": [
    "def nz_prior(z, nuvk, i_mag):\n",
    "    val = 0.\n",
    "    #if not ((i_mag<22. and z>2.) or (i_mag<20. and z>1.)):\n",
    "    # Set up the parameters to define the redshift distribution\n",
    "    if (nuvk>4.25):\n",
    "        # Case E/S0\n",
    "        # Color UV-K of PHOTO_230506/El_cww.sed.resample.new.resample15.inter \n",
    "        mod = 0\n",
    "        zot = 0.45181\n",
    "        kt = 0.13677\n",
    "        alpt0 = 3.33078\n",
    "        pcal = 0.89744\n",
    "    elif (nuvk>3.19 and nuvk<4.25):\n",
    "        # Case Sbc\n",
    "        # Color UV-K of PHOTO_230506/Sbc_cww.sed.resample.new.resample8.inter \n",
    "        mod  = 1\n",
    "        zot  = 0.16560\n",
    "        kt   = 0.12983 \n",
    "        alpt0= 1.42815\n",
    "        pcal=  0.90868\n",
    "    elif (nuvk>1.9 and nuvk<3.19):\n",
    "        # Case Scd\n",
    "        # Color UV-K of PHOTO_230506/Scd_cww.sed.resample.new.resample7.inter  -19.4878 + 21.1501\n",
    "        mod  = 2\n",
    "        zot  = 0.21072\n",
    "        kt   = 0.14008\n",
    "        alpt0= 1.58310\n",
    "        pcal=  0.89747\n",
    "    else:\n",
    "        # Case Irr\n",
    "        mod  = 3\n",
    "        zot  = 0.20418\n",
    "        kt   = 0.13773 \n",
    "        alpt0= 1.34500\n",
    "        pcal=  0.91760\n",
    "\n",
    "    # P(z|T,m0)\n",
    "    kk = max((i_mag-20), 0)\n",
    "    zmax = zot + kt*kk\n",
    "    pz = jnp.power(z,alpt0)*jnp.exp(-jnp.power((z/zmax),alpt0))\n",
    "\n",
    "    # P(T|m0)\n",
    "    ktf = jnp.array([0.47165, 0.30663, 0.12715, -0.34437])\n",
    "    ft = jnp.array([0.43199, 0.07995, 0.31162, 0.21220])\n",
    "\n",
    "    # Ratio for each type\n",
    "    rappSum = jnp.sum(ft*jnp.exp(-ktf*kk))\n",
    "    rapp = ft[mod]*jnp.exp(-ktf[mod]*kk)\n",
    "\n",
    "    # Normalisation of the probability function\n",
    "    pcal=jnp.power(zmax,alpt0+1)/alpt0*pcal\n",
    "\n",
    "    # Final value\n",
    "    val = pz / pcal * rapp/rappSum\n",
    "    return val"
   ]
  },
  {
   "cell_type": "code",
   "execution_count": null,
   "id": "036f2f89-165d-4132-a417-3c86fa4fb841",
   "metadata": {},
   "outputs": [],
   "source": [
    "P_prior = nz_prior(df_res.loc[key_0, 'Photometric redshift'], nuvk, df_res.loc[key_0, 'MagAB(hsc_iHSC)'])\n",
    "P_prior"
   ]
  },
  {
   "cell_type": "code",
   "execution_count": null,
   "id": "cee1a006-3a4e-46f8-8b77-ff59c8b2701c",
   "metadata": {},
   "outputs": [],
   "source": [
    "from functools import partial\n",
    "\n",
    "@partial(vmap, in_axes=(0,None,None))\n",
    "def vect_nz_prior(z, nuvk, i_mag):\n",
    "    return nz_prior(z, nuvk, i_mag)"
   ]
  },
  {
   "cell_type": "code",
   "execution_count": null,
   "id": "900ab3a0-6706-429e-aa0c-8bc635265adc",
   "metadata": {},
   "outputs": [],
   "source": [
    "grid_prior = vect_nz_prior(fine_z_grid, float(nuvk), df_res.loc[key_0, 'MagAB(hsc_iHSC)'])"
   ]
  },
  {
   "cell_type": "code",
   "execution_count": null,
   "id": "eeafc15c-6d82-4669-a3d7-8e396e22073f",
   "metadata": {},
   "outputs": [],
   "source": [
    "plt.plot(fine_z_grid, grid_prior)"
   ]
  },
  {
   "cell_type": "code",
   "execution_count": null,
   "id": "3f608c6c-2332-4446-b691-7b56f1e1cf79",
   "metadata": {},
   "outputs": [],
   "source": [
    "f,a = plt.subplots(1,1)\n",
    "basetempl = baseTemp_arr[ [bt.name == df_res.loc[key_0,'Template SED'] for bt in baseTemp_arr][0] ]\n",
    "extlaw = [ law for law in dust_arr if law.name==df_res.loc[key_0, 'Extinction law'] ]\n",
    "obs = _obs_arr[ [_obs.num == key_0 for _obs in _obs_arr][0] ]\n",
    "for law in extlaw:\n",
    "    lnuv, lnir = jnp.array([Filter.ab_mag(filt.wavelengths, filt.transmission,\\\n",
    "                                            wl_grid, basetempl.flux*law.transmission)\\\n",
    "                              for filt in (NUV_filt, NIR_filt)])\n",
    "    nuvk = lnuv-lnir\n",
    "    grid_prior = vect_nz_prior(fine_z_grid, nuvk, df_res.loc[key_0, 'MagAB(hsc_iHSC)'])\n",
    "    a.plot(fine_z_grid, grid_prior, label=f\"Prior for E(B-V)={law.EBV}\")\n",
    "a.legend()\n",
    "a.set_xlabel(\"$z$\")\n",
    "a.set_ylabel(\"$P(z|T, m_{AB}(i))$\")"
   ]
  },
  {
   "cell_type": "code",
   "execution_count": null,
   "id": "560ace44-3ef3-417f-b853-62919ad1c5ff",
   "metadata": {},
   "outputs": [],
   "source": [
    "f,a = plt.subplots(1,1)\n",
    "#basetempl = baseTemp_arr[ [bt.name == df_res.loc[key_0,'Template SED'] for bt in baseTemp_arr][0] ]\n",
    "extlaw = [ law for law in dust_arr if law.name==df_res.loc[key_0, 'Extinction law'] ]\n",
    "extlaw = [ law for law in extlaw if law.EBV==df_res.loc[key_0, 'E(B-V)'] ]\n",
    "print(extlaw)\n",
    "law=extlaw[0]\n",
    "obs = _obs_arr[ [_obs.num == key_0 for _obs in _obs_arr][0] ]\n",
    "for basetempl in baseTemp_arr:\n",
    "    lnuv, lnir = jnp.array([Filter.ab_mag(filt.wavelengths, filt.transmission,\\\n",
    "                                            wl_grid, basetempl.flux*law.transmission)\\\n",
    "                              for filt in (NUV_filt, NIR_filt)])\n",
    "    nuvk = lnuv-lnir\n",
    "    grid_prior = vect_nz_prior(fine_z_grid, nuvk, df_res.loc[key_0, 'MagAB(hsc_iHSC)'])\n",
    "    a.plot(fine_z_grid, grid_prior, label=f\"Prior for {basetempl.name}\")\n",
    "a.legend()\n",
    "a.set_xlabel(\"$z$\")\n",
    "a.set_ylabel(\"$P(z|T, m_{AB}(i))$\")"
   ]
  },
  {
   "cell_type": "code",
   "execution_count": null,
   "id": "29e82274-8b98-4ce5-8d6a-78d5874ae878",
   "metadata": {},
   "outputs": [],
   "source": [
    "typNUV_dict = { 'Irr':1.5, 'Scd':2.5, 'Sbc':3.5, 'E/S0':4.5 }\n",
    "for typ in typNUV_dict:\n",
    "    f,a = plt.subplots(1,1)\n",
    "    for magi in range(19, 27, 1):\n",
    "        grid_prior = vect_nz_prior(fine_z_grid, typNUV_dict[typ], magi)\n",
    "        a.plot(fine_z_grid, grid_prior, label=f\"$P(z|m_i=${magi}$, T=${typ}$)$\")\n",
    "    a.legend()\n",
    "    a.set_xlabel(\"$z$\")\n",
    "    a.set_ylabel(\"$P(z|T, m_{AB}(i))$\")"
   ]
  },
  {
   "cell_type": "code",
   "execution_count": null,
   "id": "86f6245c-e199-45e0-b40b-c791d9614dc6",
   "metadata": {},
   "outputs": [],
   "source": [
    "PriorParams = namedtuple('PriorParams', ['mod', 'zot', 'kt', 'alpt0', 'pcal', 'nuv_range'])\n",
    "\n",
    "prior_params_set = (PriorParams(0, 0.45181, 0.13677, 3.33078, 0.89744, (4.25, jnp.inf)),\\\n",
    "                    PriorParams(1, 0.16560, 0.12983, 1.42815, 0.90868, (3.19, 4.25)),\\\n",
    "                    PriorParams(2, 0.21072, 0.14008, 1.58310, 0.89747, (1.9, 3.19)),\\\n",
    "                    PriorParams(3, 0.20418, 0.13773, 1.34500, 0.91760, (-jnp.inf, 1.9)),\\\n",
    "                   )\n",
    "\n",
    "prior_pars_E_S0, prior_pars_Sbc, prior_pars_Scd, prior_pars_Irr = prior_params_set\n",
    "\n",
    "@jit\n",
    "@vmap\n",
    "def prior_zot(nuvk):\n",
    "    val = prior_pars_Irr.zot +\\\n",
    "            (prior_pars_Scd.zot - prior_pars_Irr.zot)*jnp.heaviside(nuvk-prior_pars_Scd.nuv_range[0], 0)+\\\n",
    "            (prior_pars_Sbc.zot - prior_pars_Scd.zot)*jnp.heaviside(nuvk-prior_pars_Sbc.nuv_range[0], 0)+\\\n",
    "            (prior_pars_E_S0.zot - prior_pars_Sbc.zot)*jnp.heaviside(nuvk-prior_pars_E_S0.nuv_range[0], 0)\n",
    "    return val"
   ]
  },
  {
   "cell_type": "code",
   "execution_count": null,
   "id": "284236d3-2c61-4d27-915b-970a67f9fb6b",
   "metadata": {},
   "outputs": [],
   "source": [
    "f,a = plt.subplots(1,1)\n",
    "nuvrange = jnp.linspace(0., 5., 200)\n",
    "a.scatter(nuvrange, prior_zot(nuvrange))\n",
    "for pparams, cl in zip(prior_params_set, ['blue', 'green', 'orange', 'red']):\n",
    "    if pparams.mod<3:\n",
    "        a.axvline(pparams.nuv_range[0], c=cl)\n",
    "    a.axhline(pparams.zot, c=cl, label=f\"zot={pparams.zot} for mod {pparams.mod}\")\n",
    "a.legend()"
   ]
  },
  {
   "cell_type": "raw",
   "id": "94f1746c-922e-466c-b493-22267fb374ad",
   "metadata": {},
   "source": [
    "/*\n",
    " Use prior info on N(z) as a function of magnitude (Iband) and of the type.\n",
    "*/\n",
    "double GalSED::nzprior(const onesource& source, const int bp[2]){\n",
    "\n",
    "     double val = 1.;\n",
    "     int mod;\n",
    "     double zot=0.,kt=0.,alpt0=0.;\n",
    "\n",
    "     // Define the NUV-R rest-frame color corrected for dust-extinction\n",
    "     double nuvk=-2.5*(luv-lnir);\n",
    "\n",
    "     // Apparent magnitude in i band, if possible\n",
    "     double mi=-99.;\n",
    "     if(source.bused[bp[0]]==1 && source.sab[bp[0]]>0){\n",
    "       mi=-2.5*log10(source.ab[bp[0]])-48.6;\n",
    "     }else if(source.bused[bp[1]]==1 && source.sab[bp[1]]>0){\n",
    "       mi=-2.5*log10(source.ab[bp[1]])-48.6;\n",
    "     }else return val;\n",
    "\n",
    "     // Bright case I<20, no solution above 1, don't compute the prior\n",
    "     if (mi<20.){if(red>1)val=0; return val;}\n",
    "     // Bright case I<22, no solution above 2, but compute the prior\n",
    "     if (mi<22. && red>2){val=0; return val;}\n",
    "\n",
    "     // Set up the parameters to define the redshift distribution\n",
    "     if (nuvk>4.25){\n",
    "       // Case E/S0\n",
    "       // Color UV-K of PHOTO_230506/El_cww.sed.resample.new.resample15.inter \n",
    "       mod  = 0;\n",
    "       zot  = 0.45181;\n",
    "       kt   = 0.13677;\n",
    "       alpt0= 3.33078; \n",
    "     }else if(nuvk>3.19 && nuvk<4.25){\n",
    "       // Case Sbc\n",
    "       // Color UV-K of PHOTO_230506/Sbc_cww.sed.resample.new.resample8.inter \n",
    "       mod  = 1;\n",
    "       zot  = 0.16560;\n",
    "       kt   = 0.12983; \n",
    "       alpt0= 1.42815;\n",
    "     }else if(nuvk>1.9 && nuvk<3.19){\n",
    "       // Case Scd\n",
    "       // Color UV-K of PHOTO_230506/Scd_cww.sed.resample.new.resample7.inter  -19.4878 + 21.1501\n",
    "       mod  = 2;\n",
    "       zot  = 0.21072;\n",
    "       kt   = 0.14008;\n",
    "       alpt0= 1.58310;\n",
    "     }else{\n",
    "       // Case Irr\n",
    "       mod  = 3;\n",
    "       zot  = 0.20418;\n",
    "       kt   = 0.13773; \n",
    "       alpt0= 1.34500;\n",
    "     }\n",
    "\n",
    "     // P(z|T,m0)\n",
    "     double zmax= zot + kt*(mi-20);\n",
    "     double pz =pow(red,alpt0)*exp(-pow((red/zmax),alpt0));\n",
    "\n",
    "     // P(T|m0)\n",
    "     double ktf [4] = {0.47165, 0.30663, 0.12715, -0.34437}; \n",
    "     double ft [4] = {0.43199, 0.07995, 0.31162, 0.21220}; \n",
    "\n",
    "     // Ratio for each type\n",
    "     double rappSum= ft[0]*exp(-ktf[0]*(mi-20.0))+ft[1]*exp(-ktf[1]*(mi-20.0))+ft[2]*exp(-ktf[2]*(mi-20.0))+ft[3]*exp(-ktf[3]*(mi-20.0));\n",
    "     double rapp=ft[mod]*exp(-ktf[mod]*(mi-20.0));\n",
    "\n",
    "     // Normalisation of the probability function\n",
    "     // pcal=exp(gammln(1.d0/alpt0(mod)+1.d0))\n",
    "     double pcal;\n",
    "     if(mod==0)pcal=  0.89744;  \n",
    "     if(mod==1)pcal=  0.90868;  \n",
    "     if(mod==2)pcal=  0.89747;\n",
    "     if(mod==3)pcal=  0.91760; \n",
    "     pcal=pow(zmax,alpt0+1)/alpt0*pcal;\n",
    "\n",
    "     // Final value\n",
    "     val = pz / pcal *rapp/rappSum;\n",
    "\n",
    "     return val;\n",
    "\n",
    "}\n",
    "\n",
    "Avec :\n",
    "  double fluxconv=1./(4*pi*100*pow(pc,2));\n",
    "\n",
    "  // construct a heaviside filter between 0.21 and 0.25 micron\n",
    "  flt fltUV(2100.,2500.,100);\n",
    "  // Integrate the SED within this filter in NUV\n",
    "  luv=(this->integrateSED(fltUV))[3];\n",
    "  if(luv>0)luv=log10(luv*pow(2300,2)/400/c/fluxconv);\n",
    "  // construct a heaviside filter between 0.55 and 0.65 micron\n",
    "  flt fltOpt(5500.,6500.,100);\n",
    "  // Integrate the SED within this filter in optical\n",
    "  lopt=(this->integrateSED(fltOpt))[3];\n",
    "  if(lopt>0)lopt=log10(lopt*pow(6000,2.)/1000./c/fluxconv);\n",
    "\n",
    "  // construct a heaviside filter between 2.1 and 2.3 micron\n",
    "  flt fltNIR(21000.,23000.,100.);\n",
    "  // Integrate the SED within this filter in NUV\n",
    "  lnir=(this->integrateSED(fltNIR))[3];\n",
    "  if(lnir>0)lnir=log10(lnir*pow(22000,2)/2000/c/fluxconv);\n",
    "  \n",
    "Et:\n",
    "  // NZ_PRIOR prior on N(z) based on z-VVDS: I mag (the second number is in the case I band is not defined) - -1 by default\n",
    "  // number of expected values could be one or two\n",
    "  vector<int> test;\n",
    "  test = (key_analysed[\"NZ_PRIOR\"]).split_int(\"-1\",-1);\n",
    "  int testNb = int(test.size());\n",
    "  if(testNb==2){\n",
    "    bp[0]  =((key_analysed[\"NZ_PRIOR\"]).split_int(\"-1\",2))[0];\n",
    "    bp[1]  =((key_analysed[\"NZ_PRIOR\"]).split_int(\"-1\",2))[1];\n",
    "    // Shift of 1 because of the convention (1 to start in the para, 0 in the array)\n",
    "    bp[0] = bp[0]-1;\n",
    "    bp[1] = bp[1]-1;\n",
    "  }else{\n",
    "    bp[0]  =((key_analysed[\"NZ_PRIOR\"]).split_int(\"-1\",1))[0];\n",
    "    bp[0] = bp[0]-1;\n",
    "    bp[1] = bp[0];\n",
    "  }\n",
    "\n",
    "Puis:\n",
    "    double pweight=nzprior(source,bp); \n",
    "    chi2 = chi2 - 2.*log10(pweight);"
   ]
  },
  {
   "cell_type": "code",
   "execution_count": null,
   "id": "881c7ced-0a8a-4a94-936b-eea4886d11d5",
   "metadata": {},
   "outputs": [],
   "source": [
    "val = 3.\n",
    "jnp.logical_not(jnp.isfinite(val)).astype(float)*0.+jnp.isfinite(val).astype(float)*val"
   ]
  },
  {
   "cell_type": "code",
   "execution_count": null,
   "id": "c2908c1e-aced-4841-9f14-cc939e16b83e",
   "metadata": {},
   "outputs": [],
   "source": [
    "j_cosmo = Cosmology.make_jcosmo(inputs['Cosmology']['h0'])\n",
    "a_grid = jc.utils.z2a(z_grid)\n",
    "\n",
    "@vmap\n",
    "def v_distLum(z):\n",
    "    return Cosmology.distLum(cosmo, z)\n",
    "\n",
    "@vmap\n",
    "def v_distAng(z):\n",
    "    return Cosmology.distAng(cosmo, z)\n",
    "\n",
    "@vmap\n",
    "def v_distMet(z):\n",
    "    return Cosmology.distMet(cosmo, z)\n",
    "\n",
    "@vmap\n",
    "def v_distMod(z):\n",
    "    return Cosmology.distMod(cosmo, z)\n",
    "\n",
    "\n",
    "f,a = plt.subplots(4,1, figsize=(16, 16), sharex=True)\n",
    "a = a.ravel()\n",
    "a[0].plot(z_grid, v_distLum(z_grid), label=\"LEPHARE\")\n",
    "a[0].plot(z_grid, Cosmology.calc_distLum(j_cosmo, z_grid), label=\"jax-cosmo\") # (1.+z_grid)*jc.background.radial_comoving_distance(j_cosmo, a_grid)/j_cosmo.h\n",
    "a[0].set_ylabel('Luminosity distance [Mpc]')\n",
    "a[0].legend()\n",
    "a[1].plot(z_grid, v_distAng(z_grid), label=\"LEPHARE\")\n",
    "a[1].plot(z_grid, Cosmology.calc_distAng(j_cosmo, z_grid), label=\"jax-cosmo\") # jc.background.angular_diameter_distance(j_cosmo, a_grid)/j_cosmo.h\n",
    "a[1].set_ylabel('Angular distance [Mpc]')\n",
    "a[2].plot(z_grid, v_distMet(z_grid), label=\"LEPHARE\")\n",
    "a[2].plot(z_grid, Cosmology.calc_distM(j_cosmo, z_grid), label=\"jax-cosmo\")\n",
    "a[2].set_ylabel('Comoving distance [Mpc]')\n",
    "a[3].plot(z_grid, v_distMod(z_grid), label=\"LEPHARE\")\n",
    "a[3].plot(z_grid, Cosmology.calc_distMod(j_cosmo, z_grid), label=\"jax-cosmo\")\n",
    "a[3].set_ylabel('Distance Modulus (mag)')\n",
    "a[3].set_xlabel('Redshift z')"
   ]
  },
  {
   "cell_type": "code",
   "execution_count": null,
   "id": "8c6fd4bc-dce6-4401-b977-8dac68b04c07",
   "metadata": {},
   "outputs": [],
   "source": []
  }
 ],
 "metadata": {
  "kernelspec": {
   "display_name": "PhotoZ-Conda",
   "language": "python",
   "name": "condaphotoz"
  },
  "language_info": {
   "codemirror_mode": {
    "name": "ipython",
    "version": 3
   },
   "file_extension": ".py",
   "mimetype": "text/x-python",
   "name": "python",
   "nbconvert_exporter": "python",
   "pygments_lexer": "ipython3",
   "version": "3.8.5"
  }
 },
 "nbformat": 4,
 "nbformat_minor": 5
}
