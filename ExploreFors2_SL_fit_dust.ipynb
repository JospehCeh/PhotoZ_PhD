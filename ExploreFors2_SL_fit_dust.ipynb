{
 "cells": [
  {
   "cell_type": "markdown",
   "id": "316c4ba5",
   "metadata": {},
   "source": [
    "# View Fors2 , View spectra one by one and Compare to SL and write in a pdf file\n",
    "\n",
    "- author : Sylvie Dagoret-Campagne\n",
    "- affiliation : IJCLab/IN2P3/CNRS\n",
    "- creation date : 2023/01/21\n",
    "- last update : 2023/03/20\n",
    "- FORS2 : https://github.com/ericnuss/fors2\n",
    "- Result of StarLight : /sps/lsst/groups/photoz/fors2/FORS2/ResStarlight\n",
    "\n",
    "\n",
    "\n",
    "          /Users/dagoret/MacOSX/GitHub/LSST/FORS2>ls -l\n",
    "              total 0\n",
    "              drwxrwsr-x  3 dagoret  staff   96 Aug 21  2018 ResStarlight\n",
    "              drwxr-xr-x  9 dagoret  staff  288 Dec 19 18:01 fors2"
   ]
  },
  {
   "cell_type": "markdown",
   "id": "c7d7e344",
   "metadata": {},
   "source": [
    "## Import"
   ]
  },
  {
   "cell_type": "code",
   "execution_count": 1,
   "id": "e485fec8",
   "metadata": {
    "collapsed": true,
    "jupyter": {
     "outputs_hidden": true
    },
    "tags": []
   },
   "outputs": [
    {
     "ename": "AttributeError",
     "evalue": "module 'numpy' has no attribute 'asscalar'",
     "output_type": "error",
     "traceback": [
      "\u001b[0;31m---------------------------------------------------------------------------\u001b[0m",
      "\u001b[0;31mAttributeError\u001b[0m                            Traceback (most recent call last)",
      "Cell \u001b[0;32mIn[1], line 3\u001b[0m\n\u001b[1;32m      1\u001b[0m \u001b[38;5;28;01mimport\u001b[39;00m \u001b[38;5;21;01mos\u001b[39;00m\u001b[38;5;241m,\u001b[39m\u001b[38;5;21;01msys\u001b[39;00m\u001b[38;5;241m,\u001b[39m\u001b[38;5;21;01mre\u001b[39;00m\n\u001b[1;32m      2\u001b[0m \u001b[38;5;28;01mfrom\u001b[39;00m \u001b[38;5;21;01mastropy\u001b[39;00m\u001b[38;5;21;01m.\u001b[39;00m\u001b[38;5;21;01mio\u001b[39;00m \u001b[38;5;28;01mimport\u001b[39;00m fits\n\u001b[0;32m----> 3\u001b[0m \u001b[38;5;28;01mfrom\u001b[39;00m \u001b[38;5;21;01mastropy\u001b[39;00m\u001b[38;5;21;01m.\u001b[39;00m\u001b[38;5;21;01mtable\u001b[39;00m \u001b[38;5;28;01mimport\u001b[39;00m Table\n",
      "File \u001b[0;32m/pbs/software/centos-7-x86_64/jnp/3.8.5/lib/python3.8/site-packages/astropy/table/__init__.py:41\u001b[0m\n\u001b[1;32m     28\u001b[0m     replace_inplace \u001b[38;5;241m=\u001b[39m _config\u001b[38;5;241m.\u001b[39mConfigItem(\n\u001b[1;32m     29\u001b[0m         \u001b[38;5;28;01mFalse\u001b[39;00m,\n\u001b[1;32m     30\u001b[0m         \u001b[38;5;124m'\u001b[39m\u001b[38;5;124mAlways use in-place update of a table column when using setitem, \u001b[39m\u001b[38;5;124m'\u001b[39m\n\u001b[0;32m   (...)\u001b[0m\n\u001b[1;32m     34\u001b[0m         \u001b[38;5;124m\"\u001b[39m\u001b[38;5;124msubsequent major releases.\u001b[39m\u001b[38;5;124m\"\u001b[39m\n\u001b[1;32m     35\u001b[0m         )\n\u001b[1;32m     38\u001b[0m conf \u001b[38;5;241m=\u001b[39m Conf()\n\u001b[0;32m---> 41\u001b[0m \u001b[38;5;28;01mfrom\u001b[39;00m \u001b[38;5;21;01m.\u001b[39;00m\u001b[38;5;21;01mcolumn\u001b[39;00m \u001b[38;5;28;01mimport\u001b[39;00m Column, MaskedColumn, StringTruncateWarning, ColumnInfo\n\u001b[1;32m     42\u001b[0m \u001b[38;5;28;01mfrom\u001b[39;00m \u001b[38;5;21;01m.\u001b[39;00m\u001b[38;5;21;01mgroups\u001b[39;00m \u001b[38;5;28;01mimport\u001b[39;00m TableGroups, ColumnGroups\n\u001b[1;32m     43\u001b[0m \u001b[38;5;28;01mfrom\u001b[39;00m \u001b[38;5;21;01m.\u001b[39;00m\u001b[38;5;21;01mtable\u001b[39;00m \u001b[38;5;28;01mimport\u001b[39;00m (Table, QTable, TableColumns, Row, TableFormatter,\n\u001b[1;32m     44\u001b[0m                     NdarrayMixin, TableReplaceWarning)\n",
      "File \u001b[0;32m/pbs/software/centos-7-x86_64/jnp/3.8.5/lib/python3.8/site-packages/astropy/table/column.py:13\u001b[0m\n\u001b[1;32m     10\u001b[0m \u001b[38;5;28;01mimport\u001b[39;00m \u001b[38;5;21;01mnumpy\u001b[39;00m \u001b[38;5;28;01mas\u001b[39;00m \u001b[38;5;21;01mnp\u001b[39;00m\n\u001b[1;32m     11\u001b[0m \u001b[38;5;28;01mfrom\u001b[39;00m \u001b[38;5;21;01mnumpy\u001b[39;00m \u001b[38;5;28;01mimport\u001b[39;00m ma\n\u001b[0;32m---> 13\u001b[0m \u001b[38;5;28;01mfrom\u001b[39;00m \u001b[38;5;21;01mastropy\u001b[39;00m\u001b[38;5;21;01m.\u001b[39;00m\u001b[38;5;21;01munits\u001b[39;00m \u001b[38;5;28;01mimport\u001b[39;00m Unit, Quantity\n\u001b[1;32m     14\u001b[0m \u001b[38;5;28;01mfrom\u001b[39;00m \u001b[38;5;21;01mastropy\u001b[39;00m\u001b[38;5;21;01m.\u001b[39;00m\u001b[38;5;21;01mutils\u001b[39;00m\u001b[38;5;21;01m.\u001b[39;00m\u001b[38;5;21;01mconsole\u001b[39;00m \u001b[38;5;28;01mimport\u001b[39;00m color_print\n\u001b[1;32m     15\u001b[0m \u001b[38;5;28;01mfrom\u001b[39;00m \u001b[38;5;21;01mastropy\u001b[39;00m\u001b[38;5;21;01m.\u001b[39;00m\u001b[38;5;21;01mutils\u001b[39;00m\u001b[38;5;21;01m.\u001b[39;00m\u001b[38;5;21;01mmetadata\u001b[39;00m \u001b[38;5;28;01mimport\u001b[39;00m MetaData\n",
      "File \u001b[0;32m/pbs/software/centos-7-x86_64/jnp/3.8.5/lib/python3.8/site-packages/astropy/units/__init__.py:17\u001b[0m\n\u001b[1;32m     12\u001b[0m \u001b[38;5;66;03m# Lots of things to import - go from more basic to advanced, so that\u001b[39;00m\n\u001b[1;32m     13\u001b[0m \u001b[38;5;66;03m# whatever advanced ones need generally has been imported already;\u001b[39;00m\n\u001b[1;32m     14\u001b[0m \u001b[38;5;66;03m# this helps prevent circular imports and makes it easier to understand\u001b[39;00m\n\u001b[1;32m     15\u001b[0m \u001b[38;5;66;03m# where most time is spent (e.g., using python -X importtime).\u001b[39;00m\n\u001b[1;32m     16\u001b[0m \u001b[38;5;28;01mfrom\u001b[39;00m \u001b[38;5;21;01m.\u001b[39;00m\u001b[38;5;21;01mcore\u001b[39;00m \u001b[38;5;28;01mimport\u001b[39;00m \u001b[38;5;241m*\u001b[39m\n\u001b[0;32m---> 17\u001b[0m \u001b[38;5;28;01mfrom\u001b[39;00m \u001b[38;5;21;01m.\u001b[39;00m\u001b[38;5;21;01mquantity\u001b[39;00m \u001b[38;5;28;01mimport\u001b[39;00m \u001b[38;5;241m*\u001b[39m\n\u001b[1;32m     19\u001b[0m \u001b[38;5;28;01mfrom\u001b[39;00m \u001b[38;5;21;01m.\u001b[39;00m \u001b[38;5;28;01mimport\u001b[39;00m si\n\u001b[1;32m     20\u001b[0m \u001b[38;5;28;01mfrom\u001b[39;00m \u001b[38;5;21;01m.\u001b[39;00m \u001b[38;5;28;01mimport\u001b[39;00m cgs\n",
      "File \u001b[0;32m/pbs/software/centos-7-x86_64/jnp/3.8.5/lib/python3.8/site-packages/astropy/units/quantity.py:29\u001b[0m\n\u001b[1;32m     27\u001b[0m \u001b[38;5;28;01mfrom\u001b[39;00m \u001b[38;5;21;01mastropy\u001b[39;00m\u001b[38;5;21;01m.\u001b[39;00m\u001b[38;5;21;01mutils\u001b[39;00m\u001b[38;5;21;01m.\u001b[39;00m\u001b[38;5;21;01mdata_info\u001b[39;00m \u001b[38;5;28;01mimport\u001b[39;00m ParentDtypeInfo\n\u001b[1;32m     28\u001b[0m \u001b[38;5;28;01mfrom\u001b[39;00m \u001b[38;5;21;01mastropy\u001b[39;00m \u001b[38;5;28;01mimport\u001b[39;00m config \u001b[38;5;28;01mas\u001b[39;00m _config\n\u001b[0;32m---> 29\u001b[0m \u001b[38;5;28;01mfrom\u001b[39;00m \u001b[38;5;21;01m.\u001b[39;00m\u001b[38;5;21;01mquantity_helper\u001b[39;00m \u001b[38;5;28;01mimport\u001b[39;00m (converters_and_unit, can_have_arbitrary_unit,\n\u001b[1;32m     30\u001b[0m                               check_output)\n\u001b[1;32m     31\u001b[0m \u001b[38;5;28;01mfrom\u001b[39;00m \u001b[38;5;21;01m.\u001b[39;00m\u001b[38;5;21;01mquantity_helper\u001b[39;00m\u001b[38;5;21;01m.\u001b[39;00m\u001b[38;5;21;01mfunction_helpers\u001b[39;00m \u001b[38;5;28;01mimport\u001b[39;00m (\n\u001b[1;32m     32\u001b[0m     SUBCLASS_SAFE_FUNCTIONS, FUNCTION_HELPERS, DISPATCHED_FUNCTIONS,\n\u001b[1;32m     33\u001b[0m     UNSUPPORTED_FUNCTIONS)\n\u001b[1;32m     36\u001b[0m __all__ \u001b[38;5;241m=\u001b[39m [\u001b[38;5;124m\"\u001b[39m\u001b[38;5;124mQuantity\u001b[39m\u001b[38;5;124m\"\u001b[39m, \u001b[38;5;124m\"\u001b[39m\u001b[38;5;124mSpecificTypeQuantity\u001b[39m\u001b[38;5;124m\"\u001b[39m,\n\u001b[1;32m     37\u001b[0m            \u001b[38;5;124m\"\u001b[39m\u001b[38;5;124mQuantityInfoBase\u001b[39m\u001b[38;5;124m\"\u001b[39m, \u001b[38;5;124m\"\u001b[39m\u001b[38;5;124mQuantityInfo\u001b[39m\u001b[38;5;124m\"\u001b[39m, \u001b[38;5;124m\"\u001b[39m\u001b[38;5;124mallclose\u001b[39m\u001b[38;5;124m\"\u001b[39m, \u001b[38;5;124m\"\u001b[39m\u001b[38;5;124misclose\u001b[39m\u001b[38;5;124m\"\u001b[39m]\n",
      "File \u001b[0;32m/pbs/software/centos-7-x86_64/jnp/3.8.5/lib/python3.8/site-packages/astropy/units/quantity_helper/__init__.py:10\u001b[0m\n\u001b[1;32m      7\u001b[0m \u001b[38;5;28;01mfrom\u001b[39;00m \u001b[38;5;21;01m.\u001b[39;00m\u001b[38;5;21;01mconverters\u001b[39;00m \u001b[38;5;28;01mimport\u001b[39;00m \u001b[38;5;241m*\u001b[39m\n\u001b[1;32m      8\u001b[0m \u001b[38;5;66;03m# By importing helpers, all the unit conversion functions needed for\u001b[39;00m\n\u001b[1;32m      9\u001b[0m \u001b[38;5;66;03m# numpy ufuncs and functions are defined.\u001b[39;00m\n\u001b[0;32m---> 10\u001b[0m \u001b[38;5;28;01mfrom\u001b[39;00m \u001b[38;5;21;01m.\u001b[39;00m \u001b[38;5;28;01mimport\u001b[39;00m helpers, function_helpers\n\u001b[1;32m     11\u001b[0m \u001b[38;5;66;03m# For scipy.special and erfa, importing the helper modules ensures\u001b[39;00m\n\u001b[1;32m     12\u001b[0m \u001b[38;5;66;03m# the definitions are added as modules to UFUNC_HELPERS, to be loaded\u001b[39;00m\n\u001b[1;32m     13\u001b[0m \u001b[38;5;66;03m# on demand.\u001b[39;00m\n\u001b[1;32m     14\u001b[0m \u001b[38;5;28;01mfrom\u001b[39;00m \u001b[38;5;21;01m.\u001b[39;00m \u001b[38;5;28;01mimport\u001b[39;00m scipy_special, erfa\n",
      "File \u001b[0;32m/pbs/software/centos-7-x86_64/jnp/3.8.5/lib/python3.8/site-packages/astropy/units/quantity_helper/function_helpers.py:127\u001b[0m\n\u001b[1;32m    119\u001b[0m UNSUPPORTED_FUNCTIONS \u001b[38;5;241m|\u001b[39m\u001b[38;5;241m=\u001b[39m {np\u001b[38;5;241m.\u001b[39mlinalg\u001b[38;5;241m.\u001b[39mslogdet}\n\u001b[1;32m    121\u001b[0m \u001b[38;5;66;03m# The following are not just unsupported, but so unlikely to be thought\u001b[39;00m\n\u001b[1;32m    122\u001b[0m \u001b[38;5;66;03m# to be supported that we ignore them in testing.  (Kept in a separate\u001b[39;00m\n\u001b[1;32m    123\u001b[0m \u001b[38;5;66;03m# variable so that we can check consistency in the test routine -\u001b[39;00m\n\u001b[1;32m    124\u001b[0m \u001b[38;5;66;03m# test_quantity_non_ufuncs.py)\u001b[39;00m\n\u001b[1;32m    125\u001b[0m IGNORED_FUNCTIONS \u001b[38;5;241m=\u001b[39m {\n\u001b[1;32m    126\u001b[0m     \u001b[38;5;66;03m# Deprecated\u001b[39;00m\n\u001b[0;32m--> 127\u001b[0m     \u001b[43mnp\u001b[49m\u001b[38;5;241;43m.\u001b[39;49m\u001b[43masscalar\u001b[49m,\n\u001b[1;32m    128\u001b[0m     \u001b[38;5;66;03m# I/O - useless for Quantity, since no way to store the unit.\u001b[39;00m\n\u001b[1;32m    129\u001b[0m     np\u001b[38;5;241m.\u001b[39msave, np\u001b[38;5;241m.\u001b[39msavez, np\u001b[38;5;241m.\u001b[39msavetxt, np\u001b[38;5;241m.\u001b[39msavez_compressed,\n\u001b[1;32m    130\u001b[0m     \u001b[38;5;66;03m# Polynomials\u001b[39;00m\n\u001b[1;32m    131\u001b[0m     np\u001b[38;5;241m.\u001b[39mpoly, np\u001b[38;5;241m.\u001b[39mpolyadd, np\u001b[38;5;241m.\u001b[39mpolyder, np\u001b[38;5;241m.\u001b[39mpolydiv, np\u001b[38;5;241m.\u001b[39mpolyfit, np\u001b[38;5;241m.\u001b[39mpolyint,\n\u001b[1;32m    132\u001b[0m     np\u001b[38;5;241m.\u001b[39mpolymul, np\u001b[38;5;241m.\u001b[39mpolysub, np\u001b[38;5;241m.\u001b[39mpolyval, np\u001b[38;5;241m.\u001b[39mroots, np\u001b[38;5;241m.\u001b[39mvander}\n\u001b[1;32m    133\u001b[0m \u001b[38;5;28;01mif\u001b[39;00m NUMPY_LT_1_20:\n\u001b[1;32m    134\u001b[0m     \u001b[38;5;66;03m# financial\u001b[39;00m\n\u001b[1;32m    135\u001b[0m     IGNORED_FUNCTIONS \u001b[38;5;241m|\u001b[39m\u001b[38;5;241m=\u001b[39m {np\u001b[38;5;241m.\u001b[39mfv, np\u001b[38;5;241m.\u001b[39mipmt, np\u001b[38;5;241m.\u001b[39mirr, np\u001b[38;5;241m.\u001b[39mmirr, np\u001b[38;5;241m.\u001b[39mnper,\n\u001b[1;32m    136\u001b[0m                           np\u001b[38;5;241m.\u001b[39mnpv, np\u001b[38;5;241m.\u001b[39mpmt, np\u001b[38;5;241m.\u001b[39mppmt, np\u001b[38;5;241m.\u001b[39mpv, np\u001b[38;5;241m.\u001b[39mrate}\n",
      "File \u001b[0;32m/opt/conda/lib/python3.8/site-packages/numpy/__init__.py:320\u001b[0m, in \u001b[0;36m__getattr__\u001b[0;34m(attr)\u001b[0m\n\u001b[1;32m    317\u001b[0m     \u001b[38;5;28;01mfrom\u001b[39;00m \u001b[38;5;21;01m.\u001b[39;00m\u001b[38;5;21;01mtesting\u001b[39;00m \u001b[38;5;28;01mimport\u001b[39;00m Tester\n\u001b[1;32m    318\u001b[0m     \u001b[38;5;28;01mreturn\u001b[39;00m Tester\n\u001b[0;32m--> 320\u001b[0m \u001b[38;5;28;01mraise\u001b[39;00m \u001b[38;5;167;01mAttributeError\u001b[39;00m(\u001b[38;5;124m\"\u001b[39m\u001b[38;5;124mmodule \u001b[39m\u001b[38;5;132;01m{!r}\u001b[39;00m\u001b[38;5;124m has no attribute \u001b[39m\u001b[38;5;124m\"\u001b[39m\n\u001b[1;32m    321\u001b[0m                      \u001b[38;5;124m\"\u001b[39m\u001b[38;5;132;01m{!r}\u001b[39;00m\u001b[38;5;124m\"\u001b[39m\u001b[38;5;241m.\u001b[39mformat(\u001b[38;5;18m__name__\u001b[39m, attr))\n",
      "\u001b[0;31mAttributeError\u001b[0m: module 'numpy' has no attribute 'asscalar'"
     ]
    }
   ],
   "source": [
    "import os,sys,re\n",
    "from astropy.io import fits\n",
    "from astropy.table import Table"
   ]
  },
  {
   "cell_type": "code",
   "execution_count": null,
   "id": "b271dcb5",
   "metadata": {},
   "outputs": [],
   "source": [
    "# Import some generally useful packages\n",
    "\n",
    "import numpy as np\n",
    "import pandas as pd\n",
    "import matplotlib.pyplot as plt\n",
    "import matplotlib.colors as colors\n",
    "import matplotlib.cm as cmx\n",
    "\n",
    "from matplotlib.backends.backend_pdf import PdfPages\n",
    "\n",
    "%matplotlib inline\n",
    "import pandas as pd\n",
    "from itertools import cycle, islice\n"
   ]
  },
  {
   "cell_type": "code",
   "execution_count": null,
   "id": "f6689d40-c574-471c-b9d6-996002aa4e76",
   "metadata": {},
   "outputs": [],
   "source": [
    "from scipy import ndimage\n",
    "\n",
    "#from scipy import interp as scinterp\n",
    "from scipy.interpolate import interp1d\n",
    "\n",
    "import glob\n",
    "import collections\n",
    "#from def_raw_seds import *"
   ]
  },
  {
   "cell_type": "code",
   "execution_count": null,
   "id": "413f1e89",
   "metadata": {},
   "outputs": [],
   "source": [
    "# to enlarge the sizes\n",
    "params = {'legend.fontsize': 'x-large',\n",
    "          'figure.figsize': (8, 4),\n",
    "         'axes.labelsize': 'xx-large',\n",
    "         'axes.titlesize':'xx-large',\n",
    "         'xtick.labelsize':'xx-large',\n",
    "         'ytick.labelsize':'xx-large',\n",
    "         'image.cmap':'jet'}\n",
    "plt.rcParams.update(params)"
   ]
  },
  {
   "cell_type": "code",
   "execution_count": null,
   "id": "c1e22fcc",
   "metadata": {},
   "outputs": [],
   "source": [
    "import matplotlib.offsetbox\n",
    "props = dict(boxstyle='round',edgecolor=\"w\",facecolor=\"w\", alpha=0.5)"
   ]
  },
  {
   "cell_type": "code",
   "execution_count": null,
   "id": "b7e9a578-1bb2-4e32-b88f-a69914949eca",
   "metadata": {},
   "outputs": [],
   "source": [
    "from StudyFors2SED.def_raw_seds import *"
   ]
  },
  {
   "cell_type": "code",
   "execution_count": null,
   "id": "93d5eb5c-6c03-45fe-9795-17e8ed32d0d7",
   "metadata": {},
   "outputs": [],
   "source": [
    "from StudyFors2SED.raw_data_analysis import *"
   ]
  },
  {
   "cell_type": "code",
   "execution_count": null,
   "id": "7ce825ef",
   "metadata": {},
   "outputs": [],
   "source": [
    "# Import the primary photometry classes from rubin_sim.photUtils\n",
    "\n",
    "#import rubin_sim.phot_Utils.Bandpass as Bandpass\n",
    "#import rubin_sim.phot_Utils.Sed as Sed\n",
    "#from rubin_sim.data import get_data_dir"
   ]
  },
  {
   "cell_type": "code",
   "execution_count": null,
   "id": "a20e3234",
   "metadata": {},
   "outputs": [],
   "source": [
    "#pysynphot_root_path=os.environ['PYSYN_CDBS']\n",
    "#path_sed_calspec=os.path.join(pysynphot_root_path,'calspec')\n",
    "# pysynphot\n",
    "#import pysynphot as S\n",
    "#S.refs.setref(area=1)\n",
    "#S.refs.getref()"
   ]
  },
  {
   "cell_type": "code",
   "execution_count": null,
   "id": "985a5370-9867-4471-9a82-e5d722d261b7",
   "metadata": {},
   "outputs": [],
   "source": [
    "from astropy.io import fits"
   ]
  },
  {
   "cell_type": "code",
   "execution_count": null,
   "id": "7644c755-9b20-44cc-bb2c-06eb8caf4568",
   "metadata": {},
   "outputs": [],
   "source": [
    "from scipy.ndimage import gaussian_filter1d"
   ]
  },
  {
   "cell_type": "code",
   "execution_count": null,
   "id": "f6cb34b7",
   "metadata": {},
   "outputs": [],
   "source": [
    "from tqdm import tqdm\n",
    "import jax.numpy as jnp\n",
    "from jax import jit, vmap"
   ]
  },
  {
   "cell_type": "code",
   "execution_count": null,
   "id": "520107db-9929-4532-a48c-d896e705d4b6",
   "metadata": {},
   "outputs": [],
   "source": [
    "#from StudyFors2SED.GalaxyLineDict import build_emissionlinesdict"
   ]
  },
  {
   "cell_type": "code",
   "execution_count": null,
   "id": "dbf19fb8",
   "metadata": {},
   "outputs": [],
   "source": [
    "def build_emissionlinesdict():\n",
    "    \"\"\"  \n",
    "    Build a dictionnary of lines in galaxies\n",
    "    \n",
    "    \"\"\"\n",
    "    \n",
    "    \n",
    "    #http://astronomy.nmsu.edu/drewski/tableofemissionlines.html\n",
    "    #https://classic.sdss.org/dr6/algorithms/linestable.html\n",
    "\n",
    "\n",
    "\n",
    "    df_lines=pd.read_excel(\"StudyFors2SED/datatools/GalEmissionLines.xlsx\")\n",
    "    df_sdss_lines = pd.read_excel(\"StudyFors2SED/datatools/sdss_galaxylines.xlsx\")\n",
    "    \n",
    "    lines_to_plot={}\n",
    "    \n",
    "    # K\n",
    "    sel = df_sdss_lines[\"species\"] == 'K'\n",
    "    wls = df_sdss_lines[sel][\"wl\"].values\n",
    "    lines_to_plot[\"K\"]={\"wls\":wls,\"name\":\"K\",\"type\":\"absorption\"}\n",
    "    \n",
    "    # H\n",
    "    sel = df_sdss_lines[\"species\"] == 'H'\n",
    "    wls = df_sdss_lines[sel][\"wl\"].values\n",
    "    lines_to_plot[\"H\"]={\"wls\":wls,\"name\":\"H\",\"type\":\"absorption\"}\n",
    "    \n",
    "    # G\n",
    "    sel = df_sdss_lines[\"species\"] == 'G'\n",
    "    wls = df_sdss_lines[sel][\"wl\"].values\n",
    "    lines_to_plot[\"G\"]={\"wls\":wls,\"name\":\"G\",\"type\":\"absorption\"}\n",
    "    \n",
    "    # Mg\n",
    "    sel = df_sdss_lines[\"species\"] == 'Mg'\n",
    "    wls = df_sdss_lines[sel][\"wl\"].values\n",
    "    lines_to_plot[\"Mg\"]={\"wls\":wls,\"name\":\"Mg\",\"type\":\"absorption\"}\n",
    "    \n",
    "    # Na\n",
    "    sel = df_sdss_lines[\"species\"] == 'Na'\n",
    "    wls = df_sdss_lines[sel][\"wl\"].values\n",
    "    lines_to_plot[\"Na\"]={\"wls\":wls,\"name\":\"Na\",\"type\":\"absorption\"}\n",
    "    \n",
    "    # H8\n",
    "    sel = df_lines[\"ion\"] == 'H8'\n",
    "    wls = df_lines[sel][\"wl\"].values\n",
    "    lines_to_plot[\"H8\"]={\"wls\":wls,\"name\":\"$H8$\",\"type\":\"emission\"}\n",
    "    \n",
    "    # H9\n",
    "    sel = df_lines[\"ion\"] == 'H9'\n",
    "    wls = df_lines[sel][\"wl\"].values\n",
    "    lines_to_plot[\"H9\"]={\"wls\":wls,\"name\":\"$H9$\",\"type\":\"emission\"}\n",
    "    \n",
    "    # H10\n",
    "    sel = df_lines[\"ion\"] == 'H10'\n",
    "    wls = df_lines[sel][\"wl\"].values\n",
    "    lines_to_plot[\"H10\"]={\"wls\":wls,\"name\":\"$H10$\",\"type\":\"emission\"}\n",
    "    \n",
    "    # H11\n",
    "    sel = df_lines[\"ion\"] == 'H11'\n",
    "    wls = df_lines[sel][\"wl\"].values\n",
    "    lines_to_plot[\"H11\"]={\"wls\":wls,\"name\":\"$H11$\",\"type\":\"emission\"}\n",
    "    \n",
    "    # Halpha\n",
    "    sel = df_lines[\"ion\"] == 'Hα' \n",
    "    wls=df_lines[sel][\"wl\"].values\n",
    "    lines_to_plot[\"H{alpha}\"]={\"wls\":wls,\"name\":\"$H_\\\\alpha$\",\"type\":\"emission\"}\n",
    "    \n",
    "    \n",
    "    # Hbeta\n",
    "    sel = df_lines[\"ion\"] == 'Hβ' \n",
    "    wls=df_lines[sel][\"wl\"].values\n",
    "    lines_to_plot[\"H{beta}\"]={\"wls\":wls,\"name\":\"$H_\\\\beta$\",\"type\":\"emission\"}\n",
    "\n",
    "    # Hgamma\n",
    "    sel = df_lines[\"ion\"] == 'Hγ' \n",
    "    wls=df_lines[sel][\"wl\"].values\n",
    "    lines_to_plot[\"H{gamma}\"]={\"wls\":wls,\"name\":\"$H_\\\\gamma$\",\"type\":\"emission\"}\n",
    "    \n",
    "    # Hdelta\n",
    "    sel = df_lines[\"ion\"] == 'Hδ' \n",
    "    wls=df_lines[sel][\"wl\"].values\n",
    "    lines_to_plot[\"H{delta}\"]={\"wls\":wls,\"name\":\"$H_\\\\delta$\",\"type\":\"emission\"}\n",
    "    \n",
    "    # Hepsilon\n",
    "    sel = df_lines[\"ion\"] == 'Hε' \n",
    "    wls=df_lines[sel][\"wl\"].values\n",
    "    lines_to_plot[\"H{epsilon}\"]={\"wls\":wls,\"name\":\"$H_\\\\epsilon$\",\"type\":\"emission\"}\n",
    "    \n",
    "    \n",
    "    sel = df_lines[\"ion\"] == '[O II]'\n",
    "    wls=df_lines[sel][\"wl\"].values\n",
    "    lines_to_plot[\"[OII]\"]={\"wls\":wls,\"name\":\"$[OII]$\",\"type\":\"emission\"}\n",
    "    \n",
    "    \n",
    "    sel = df_lines[\"ion\"] == '[O III]'\n",
    "    wls=df_lines[sel][\"wl\"].values\n",
    "    lines_to_plot[\"[OIII]\"]={\"wls\":wls,\"name\":\"$[OIII]$\",\"type\":\"emission\"}\n",
    "    \n",
    "    \n",
    "    sel = df_lines[\"ion\"] == 'O IV]'\n",
    "    wls=df_lines[sel][\"wl\"].values\n",
    "    lines_to_plot[\"[OIV]\"]={\"wls\":wls,\"name\":\"$[OIV]$\",\"type\":\"emission\"}\n",
    "    \n",
    "    \n",
    "    sel = df_lines[\"ion\"] == 'O VI'\n",
    "    wls=df_lines[sel][\"wl\"].values\n",
    "    lines_to_plot[\"[OVI]\"]={\"wls\":wls,\"name\":\"$[OVI]$\",\"type\":\"emission\"}\n",
    "    \n",
    "    \n",
    "    sel = df_lines[\"ion\"] == 'Mgb'\n",
    "    wls=df_lines[sel][\"wl\"].values\n",
    "    lines_to_plot[\"Mgb\"]={\"wls\":wls,\"name\":\"$Mgb$\",\"type\":\"emission\"}\n",
    "    \n",
    "    \n",
    "    sel = df_lines[\"ion\"] == 'Mg II]'\n",
    "    wls=df_lines[sel][\"wl\"].values\n",
    "    lines_to_plot[\"MgII\"]={\"wls\":wls,\"name\":\"$MgII$\",\"type\":\"emission\"}\n",
    "    \n",
    "    \n",
    "    sel = df_lines[\"ion\"] == 'Fe43'\n",
    "    wls=df_lines[sel][\"wl\"].values\n",
    "    lines_to_plot[\"Fe43\"]={\"wls\":wls,\"name\":\"$Fe43$\",\"type\":\"emission\"}\n",
    "    \n",
    "    sel = df_lines[\"ion\"] == 'Fe45'\n",
    "    wls=df_lines[sel][\"wl\"].values\n",
    "    lines_to_plot[\"Fe45\"]={\"wls\":wls,\"name\":\"$Fe45$\",\"type\":\"emission\"}\n",
    "    \n",
    "    sel = df_lines[\"ion\"] == 'Ca44'\n",
    "    wls=df_lines[sel][\"wl\"].values\n",
    "    lines_to_plot[\"Ca44\"]={\"wls\":wls,\"name\":\"$Ca44$\",\"type\":\"emission\"}\n",
    "    \n",
    "    \n",
    "    sel = df_lines[\"ion\"] == 'Ca44'\n",
    "    wls=df_lines[sel][\"wl\"].values\n",
    "    lines_to_plot[\"Ca44\"]={\"wls\":wls,\"name\":\"$Ca44$\",\"type\":\"emission\"}\n",
    "    \n",
    "    sel = df_lines[\"ion\"] == 'E'\n",
    "    wls=df_lines[sel][\"wl\"].values\n",
    "    lines_to_plot[\"E\"]={\"wls\":wls,\"name\":\"$E$\",\"type\":\"emission\"}\n",
    "    \n",
    "    sel = df_lines[\"ion\"] =='Fe II'\n",
    "    wls=df_lines[sel][\"wl\"].values\n",
    "    lines_to_plot[\"FeII24\"]={\"wls\":wls,\"name\":\"$FeII24$\",\"type\":\"emission\"}\n",
    "    lines_to_plot['FeII26']={\"wls\":wls,\"name\":\"$FeII26$\",\"type\":\"emission\"}\n",
    "    \n",
    "    \n",
    "    lines_to_plot['weak']={\"wls\":[],\"name\":\"$weak$\",\"type\":\"break\"}\n",
    "    lines_to_plot['?']={\"wls\":[],\"name\":\"$?$\",\"type\":\"break\"}\n",
    "    \n",
    "    lines_to_plot['4000{AA}-break']={\"wls\":[4000.],\"name\":\"$Bal$\",\"type\":\"break\"}\n",
    "     \n",
    "    sel = df_lines[\"ion\"] == 'Lyα'\n",
    "    wls=df_lines[sel][\"wl\"].values\n",
    "    lines_to_plot[\"Ly{alpha}\"]={\"wls\":wls,\"name\":\"$Ly_\\\\alpha$\",\"type\":\"emission\"}\n",
    "    \n",
    "    sel = df_lines[\"ion\"] == 'Lyβ'\n",
    "    wls=df_lines[sel][\"wl\"].values\n",
    "    lines_to_plot[\"Ly{beta}\"]={\"wls\":wls,\"name\":\"$Ly_\\\\beta$\",\"type\":\"emission\"}\n",
    "    \n",
    "    \n",
    "    sel = df_lines[\"ion\"] == 'Lyδ'\n",
    "    wls=df_lines[sel][\"wl\"].values\n",
    "    lines_to_plot[\"Ly{delta}\"]={\"wls\":wls,\"name\":\"$Ly_\\\\delta$\",\"type\":\"emission\"}\n",
    "    \n",
    "    \n",
    "    sel = df_lines[\"ion\"] == 'Lyε'\n",
    "    wls=df_lines[sel][\"wl\"].values\n",
    "    lines_to_plot[\"Ly{epsilon}\"]={\"wls\":wls,\"name\":\"$Ly_\\\\epsilon$\",\"type\":\"emission\"}\n",
    "    \n",
    "    sel = df_lines[\"ion\"] == 'C IV'\n",
    "    wls=df_lines[sel][\"wl\"].values\n",
    "    lines_to_plot[\"CIV\"]={\"wls\":wls,\"name\":\"$CIV$\",\"type\":\"emission\"}\n",
    "    \n",
    "    sel = df_lines[\"ion\"] == 'Al III'\n",
    "    wls=df_lines[sel][\"wl\"].values\n",
    "    lines_to_plot[\"AlIII\"]={\"wls\":wls,\"name\":\"$AlIII$\",\"type\":\"emission\"}\n",
    "    \n",
    "    \n",
    "    sel = df_lines[\"ion\"] == '[Ne III]'\n",
    "    wls=df_lines[sel][\"wl\"].values\n",
    "    lines_to_plot['NeIII']={\"wls\":wls,\"name\":\"$NeIII$\",\"type\":\"emission\"}\n",
    "    \n",
    "    sel = df_lines[\"ion\"] == 'He I'\n",
    "    wls=df_lines[sel][\"wl\"].values\n",
    "    lines_to_plot['HeI']={\"wls\":wls,\"name\":\"$HeI$\",\"type\":\"emission\"}\n",
    "    \n",
    "    sel = df_lines[\"ion\"] == 'N III'\n",
    "    wls=df_lines[sel][\"wl\"].values\n",
    "    lines_to_plot['NIII']={\"wls\":wls,\"name\":\"$NIII$\",\"type\":\"emission\"}\n",
    "    \n",
    "    sel = df_lines[\"ion\"] == 'Al II'\n",
    "    wls=df_lines[sel][\"wl\"].values\n",
    "    lines_to_plot['AlII']={\"wls\":wls,\"name\":\"$AlII$\",\"type\":\"emission\"}\n",
    "    \n",
    "    sel = df_lines[\"ion\"] == 'Al III'\n",
    "    wls=df_lines[sel][\"wl\"].values\n",
    "    lines_to_plot['AlIII']={\"wls\":wls,\"name\":\"$AlIII$\",\"type\":\"emission\"}\n",
    "    \n",
    "    \n",
    "    sel = df_lines[\"ion\"] == '[N II]'\n",
    "    wls=df_lines[sel][\"wl\"].values\n",
    "    lines_to_plot['NII']={\"wls\":wls,\"name\":\"$NII$\",\"type\":\"emission\"}\n",
    "    \n",
    "    sel = df_lines[\"ion\"] == 'C III'\n",
    "    wls=df_lines[sel][\"wl\"].values\n",
    "    lines_to_plot['CIII']={\"wls\":wls,\"name\":\"$CIII$\",\"type\":\"emission\"}\n",
    "    \n",
    "    sel = df_lines[\"ion\"] == 'C IV'\n",
    "    wls=df_lines[sel][\"wl\"].values\n",
    "    lines_to_plot['CIV']={\"wls\":wls,\"name\":\"$CIV$\",\"type\":\"emission\"}\n",
    "    \n",
    "    sel = df_sdss_lines[\"species\"] == 'Si IV + O IV'\n",
    "    wls=df_sdss_lines[sel][\"wl\"].values\n",
    "    lines_to_plot['SiIV/OIV']={\"wls\":wls,\"name\":\"$SiIV/OIV$\",\"type\":\"emission\"}\n",
    "    \n",
    "    lines_to_plot[\"(QSO)\"] = {\"wls\":[],\"name\":\"$QSO$\",\"type\":\"emission\"}\n",
    "    lines_to_plot[\"QSO\"] = {\"wls\":[],\"name\":\"$QSO$\",\"type\":\"emission\"}\n",
    "    \n",
    "    lines_to_plot['NaD'] = {\"wls\":[],\"name\":\"$NaD$\",\"type\":\"emission\"}\n",
    "    \n",
    "    lines_to_plot['broad'] = {\"wls\":[],\"name\":\"$broad$\",\"type\":\"emission\"}\n",
    "    \n",
    "    return lines_to_plot"
   ]
  },
  {
   "cell_type": "code",
   "execution_count": null,
   "id": "630eb310-e63e-4265-b3b6-d0a60e7041c0",
   "metadata": {},
   "outputs": [],
   "source": [
    "from matplotlib.backends.backend_pdf import PdfPages"
   ]
  },
  {
   "cell_type": "code",
   "execution_count": null,
   "id": "3798e08a-0869-40be-950f-28f4a148e9f1",
   "metadata": {},
   "outputs": [],
   "source": [
    "import copy"
   ]
  },
  {
   "cell_type": "code",
   "execution_count": null,
   "id": "56a3a5b4-4236-40ee-b5e0-ff2ee15804a4",
   "metadata": {},
   "outputs": [],
   "source": [
    "def SaveImageInPdf(all_figs,outputfile):\n",
    "    \"\"\"\n",
    "    \"\"\"\n",
    "    with PdfPages(outputfile) as pdf:\n",
    "        for fig in all_figs:\n",
    "            pdf.savefig(fig)\n",
    "            plt.close()"
   ]
  },
  {
   "cell_type": "markdown",
   "id": "a81df846-5679-4951-8f93-dc02605b9c91",
   "metadata": {},
   "source": [
    "# Start"
   ]
  },
  {
   "cell_type": "code",
   "execution_count": null,
   "id": "784cacd8-84cf-4beb-9ddb-d3cab6572591",
   "metadata": {},
   "outputs": [],
   "source": [
    "cwd=os.path.abspath(\"\")\n",
    "main_dir = cwd\n",
    "print(f\"notebook current executing path : {cwd}\")"
   ]
  },
  {
   "cell_type": "markdown",
   "id": "a0278c32-f890-4694-bb4f-566ead98d8cc",
   "metadata": {},
   "source": [
    "# Lines"
   ]
  },
  {
   "cell_type": "code",
   "execution_count": null,
   "id": "6fa14d72-766b-4b4c-a943-aabc99eba8e2",
   "metadata": {},
   "outputs": [],
   "source": [
    "lines_to_plot=build_emissionlinesdict()"
   ]
  },
  {
   "cell_type": "code",
   "execution_count": null,
   "id": "1c09dc67-ff8e-4aa4-8c64-1dc9cc8135fd",
   "metadata": {},
   "outputs": [],
   "source": [
    "lines_to_plot"
   ]
  },
  {
   "cell_type": "code",
   "execution_count": null,
   "id": "f67da33b-2d85-4460-8880-a90a2db91be6",
   "metadata": {},
   "outputs": [],
   "source": [
    "def plot_line(ax,line_name):\n",
    "    \n",
    "    #keys = lines_to_plot.keys()\n",
    "    #for the_key in keys:\n",
    "    #    if the_key in line_name:\n",
    "    #        print(\"the_key=\",the_key,\" line_name=\",line_name)\n",
    "    #        line_name=the_key\n",
    "    #        break\n",
    "            \n",
    "    posx0=0.0\n",
    "    posy0=0.05\n",
    "    fontsize=12\n",
    "    the_color = {\"emission\":'r',\"absorption\":\"g\",\"break\":\"purple\"}\n",
    "    the_line_to_plot = lines_to_plot[line_name]\n",
    "    wls = the_line_to_plot[\"wls\"]\n",
    "    tag = the_line_to_plot[\"name\"]\n",
    "    typ = the_line_to_plot[\"type\"]\n",
    "    \n",
    "    xlim = ax.get_xlim()\n",
    "    for wl in wls:\n",
    "        ax.axvline(wl, lw=2, color=the_color[typ])\n",
    "        xpos = (wl - xlim[0]) / (xlim[1] - xlim[0])+posx0 \n",
    "        if 0 < xpos < 1:\n",
    "            ax.annotate(tag, xy=(xpos, posy0), rotation=0, ha='left', va='bottom',\n",
    "                            xycoords='axes fraction', color=the_color[typ], fontsize=fontsize)\n",
    "    return ax"
   ]
  },
  {
   "cell_type": "markdown",
   "id": "b266acf2-bbec-466a-86d3-b94626234bc1",
   "metadata": {},
   "source": [
    "## StarLight"
   ]
  },
  {
   "cell_type": "code",
   "execution_count": null,
   "id": "d2a3726c-43e6-432f-90b7-d779f346fee8",
   "metadata": {},
   "outputs": [],
   "source": [
    "filename = 'StudyFors2SED/datatools/spectra_SL_data.fits'\n",
    "hdu = fits.open(filename)\n",
    "data_in=hdu[0].data\n",
    "hdr_in = hdu[0].header"
   ]
  },
  {
   "cell_type": "code",
   "execution_count": null,
   "id": "4db3b891",
   "metadata": {},
   "outputs": [],
   "source": [
    "hdr_in"
   ]
  },
  {
   "cell_type": "code",
   "execution_count": null,
   "id": "1d66cc83-7a4c-4e11-a26f-74c2fe9618c9",
   "metadata": {},
   "outputs": [],
   "source": [
    "NSED_SL = data_in.shape[0]-3\n",
    "NWL_SL = data_in.shape[1]-1"
   ]
  },
  {
   "cell_type": "code",
   "execution_count": null,
   "id": "5c64dd41-0684-4315-87a9-63141749e493",
   "metadata": {},
   "outputs": [],
   "source": [
    "wavelengths_SL = data_in[0,1:] \n",
    "flambdas_average_SL = data_in[1,1:] \n",
    "flambdas_std_SL = data_in[2,1:] \n",
    "spec_SL = data_in[3:,1:] \n",
    "all_numbers_SL = data_in[3:,0] "
   ]
  },
  {
   "cell_type": "markdown",
   "id": "166b2775",
   "metadata": {},
   "source": [
    "### Fors2"
   ]
  },
  {
   "cell_type": "markdown",
   "id": "420390a8-8384-49a5-9a8b-a16888600007",
   "metadata": {},
   "source": [
    "## Start"
   ]
  },
  {
   "cell_type": "markdown",
   "id": "7f6b5b89-440f-4d2d-87d6-9eb190e215bd",
   "metadata": {},
   "source": [
    "### Catalog"
   ]
  },
  {
   "cell_type": "code",
   "execution_count": null,
   "id": "0d1c76e0-51f7-47f0-9fc8-70f426930afd",
   "metadata": {},
   "outputs": [],
   "source": [
    "t = Table.read(filename_fits_catalog)\n",
    "t_fits = fits.open(filename_fits_catalog)\n",
    "t_data = t_fits[0].data\n",
    "t_hdr= t_fits[0].header"
   ]
  },
  {
   "cell_type": "code",
   "execution_count": null,
   "id": "2ee70902-b8ad-4407-9314-25ff3d8b2f77",
   "metadata": {},
   "outputs": [],
   "source": [
    "t"
   ]
  },
  {
   "cell_type": "code",
   "execution_count": null,
   "id": "2aec2aa0",
   "metadata": {},
   "outputs": [],
   "source": [
    "t_hdr"
   ]
  },
  {
   "cell_type": "markdown",
   "id": "ddbbab8c-201b-4c18-bbb6-2f9fd41878e7",
   "metadata": {},
   "source": [
    "### List"
   ]
  },
  {
   "cell_type": "code",
   "execution_count": null,
   "id": "ac4aea36-58e8-4517-9238-e479b6cded17",
   "metadata": {},
   "outputs": [],
   "source": [
    "lst=fors2_jct_SL() #remet les spectres dans le rest frame (ie a z=0)"
   ]
  },
  {
   "cell_type": "code",
   "execution_count": null,
   "id": "7d4697ce-d505-447f-a835-63488402bdf7",
   "metadata": {},
   "outputs": [],
   "source": [
    "all_specfilenames = os.listdir(path_out_jct)"
   ]
  },
  {
   "cell_type": "code",
   "execution_count": null,
   "id": "f02923c6-2519-43b9-8b99-1be525af9ff9",
   "metadata": {},
   "outputs": [],
   "source": [
    "all_specfilenames = sorted(all_specfilenames)"
   ]
  },
  {
   "cell_type": "code",
   "execution_count": null,
   "id": "6860eece-a67f-4db1-a648-6c0a4756c995",
   "metadata": {},
   "outputs": [],
   "source": [
    "all_numbers = [ int(re.findall('^SPEC(.*)[.]txt$',fn)[0]) for fn in all_specfilenames ]"
   ]
  },
  {
   "cell_type": "code",
   "execution_count": null,
   "id": "afca10c0-3271-44d6-b0a3-7a62cc087d8c",
   "metadata": {},
   "outputs": [],
   "source": [
    "all_numbers = sorted(all_numbers)"
   ]
  },
  {
   "cell_type": "code",
   "execution_count": null,
   "id": "a4accc9c-9848-40e6-b5ae-a2af990c15df",
   "metadata": {},
   "outputs": [],
   "source": [
    "NSED = len(all_numbers)\n",
    "\n",
    "# wavelength bin colors\n",
    "jet = plt.get_cmap('jet')\n",
    "cNorm = colors.Normalize(vmin=0, vmax=NSED)\n",
    "scalarMap = cmx.ScalarMappable(norm=cNorm, cmap=jet)\n",
    "all_colors = scalarMap.to_rgba(np.arange(NSED), alpha=1)"
   ]
  },
  {
   "cell_type": "code",
   "execution_count": null,
   "id": "6a463bfd-808e-47a6-95ce-7cecf2e53e0e",
   "metadata": {},
   "outputs": [],
   "source": [
    "cut = t[\"ID\"] == 3\n",
    "t[cut]"
   ]
  },
  {
   "cell_type": "code",
   "execution_count": null,
   "id": "5123e51b-ed36-4d83-96a4-b83deedb1859",
   "metadata": {},
   "outputs": [],
   "source": [
    "all_spectra = []\n",
    "all_wl = []\n",
    "all_tag = []\n",
    "all_lines = []\n",
    "#all_sed = []\n",
    "all_redshifts = []\n",
    "all_num = []\n",
    "all_ra = []\n",
    "all_dec = []\n",
    "\n",
    "for idx,the_num in enumerate(all_numbers):\n",
    "    tcut = t[\"ID\"] == the_num\n",
    "    redshift = t[tcut][\"z\"].value[0]\n",
    "    lines = t[tcut][\"Lines\"].value[0]\n",
    "    ra = t[tcut][\"RAJ2000\"].value[0]\n",
    "    dec = t[tcut][\"DEJ2000\"].value[0]\n",
    "    filename = f\"SPEC{the_num}.txt\"\n",
    "    tag = f\"SPEC{the_num} , z={redshift:.2f}, lines={lines.decode().split(' ')[0]}\"\n",
    "    fullfilename = os.path.join(path_out_jct,filename)\n",
    "\n",
    "    arr = np.loadtxt(fullfilename)\n",
    "    all_wl.append(arr[:,0])\n",
    "    all_spectra.append(arr[:,1])\n",
    "    all_tag.append(tag)\n",
    "    all_lines.append(lines) \n",
    "    all_redshifts.append(redshift)\n",
    "    all_num.append(the_num) \n",
    "    all_ra.append(ra) \n",
    "    all_dec.append(dec)\n",
    "\n",
    "#all_wl = np.array(all_wl)\n",
    "#all_spectra = np.array(all_spectra)\n",
    "all_tag = np.array(all_tag)\n",
    "all_lines = np.array(all_lines)\n",
    "all_redshifts = np.array(all_redshifts)\n",
    "all_num = np.array(all_num)\n",
    "all_ra = np.array(all_ra)\n",
    "all_dec = np.array(all_dec)"
   ]
  },
  {
   "cell_type": "code",
   "execution_count": null,
   "id": "78f6d792-a3dc-43da-955b-42c31bc01951",
   "metadata": {},
   "outputs": [],
   "source": [
    "idx=np.where(np.asarray(all_numbers) == 171)[0][0]\n",
    "the_lines = all_lines[idx]\n",
    "print(\"the_lines = \",the_lines)\n",
    "\n",
    "all_elements  = the_lines.decode().split(\",\")\n",
    "\n",
    "\n",
    "fig, axs = plt.subplots(1, 1, figsize=(16, 8))\n",
    "ax=axs\n",
    "the_wl_fors2 = all_wl[idx]\n",
    "the_flux_fors2 = all_spectra[idx]\n",
    "the_max_flux_1 = the_wl_fors2.max()\n",
    "ax.plot(the_wl_fors2 ,the_flux_fors2 ,'-' ,color=all_colors[idx],label=all_tag[idx])\n",
    "\n",
    "the_flux_fors2_filt  = gaussian_filter1d(the_flux_fors2,2)\n",
    "ax.plot(the_wl_fors2 ,the_flux_fors2_filt ,'-' ,color='yellow',lw=3)\n",
    "\n",
    "wlmin = the_wl_fors2.min()\n",
    "wlmax = the_wl_fors2.max()\n",
    "\n",
    "I1=np.trapz(the_flux_fors2_filt ,the_wl_fors2)\n",
    "\n",
    "ax.legend(loc=\"upper right\")\n",
    "ax.grid()\n",
    "\n",
    "wl1=4150\n",
    "wl2=4250\n",
    "\n",
    "#ax.axvline(wl1,color=\"grey\")\n",
    "#ax.axvline(wl2,color=\"grey\")\n",
    "\n",
    "\n",
    "\n",
    "\n",
    "#    plt.ylim(-0.02,0.4)\n",
    "ax.set_xlim(0.,10000.)\n",
    "for el in all_elements:\n",
    "    el=el.split(\" \")[0]  \n",
    "    print(el)\n",
    "    if len(el)>0:\n",
    "        plot_line(ax,el)\n",
    "\n",
    "        \n",
    "the_num = all_numbers[idx]\n",
    "\n",
    "idx_sl=np.where(all_numbers_SL==the_num)[0][0]\n",
    "the_spectrum_SL = spec_SL[idx_sl]\n",
    "\n",
    "the_max_flux_2 = the_spectrum_SL.max()\n",
    "\n",
    "wavelengths_SL_indexes=np.where(np.logical_and(wavelengths_SL>=wlmin,wavelengths_SL<wlmax))[0]\n",
    "\n",
    "the_spectrum_SL_flux_cut = the_spectrum_SL[wavelengths_SL_indexes]\n",
    "the_spectrum_SL_wl_cut = wavelengths_SL[wavelengths_SL_indexes]\n",
    "\n",
    "I2=np.trapz(the_spectrum_SL_flux_cut,the_spectrum_SL_wl_cut)\n",
    "\n",
    "g=I1/I2\n",
    "\n",
    "the_flux_SL_toplot= g*spec_SL[idx_sl]\n",
    "\n",
    "the_max_flux_2=the_flux_SL_toplot.max()\n",
    "\n",
    "ymax=1.1*max(the_max_flux_1,the_max_flux_2)\n",
    "\n",
    "ax.plot(wavelengths_SL,the_flux_SL_toplot,color=\"orange\")\n",
    "\n",
    "ymin=0\n",
    "\n",
    "#ax.set_ylim(ymin,ymax)"
   ]
  },
  {
   "cell_type": "code",
   "execution_count": null,
   "id": "5e595857",
   "metadata": {},
   "outputs": [],
   "source": [
    "idx=np.where(np.asarray(all_numbers) == 171)[0][0]\n",
    "the_lines = all_lines[idx]\n",
    "print(\"the_lines = \",the_lines)\n",
    "all_elements  = the_lines.decode().split(\",\")\n",
    "\n",
    "the_wl_fors2 = all_wl[idx]\n",
    "the_flux_fors2 = all_spectra[idx]\n",
    "the_max_flux_1 = the_flux_fors2.max()\n",
    "\n",
    "wlmin = the_wl_fors2.min()\n",
    "wlmax = the_wl_fors2.max()\n",
    "\n",
    "I1=np.trapz(the_flux_fors2_filt ,the_wl_fors2)\n",
    "\n",
    "wl1=4150\n",
    "wl2=4250\n",
    "\n",
    "#ax.axvline(wl1,color=\"grey\")\n",
    "#ax.axvline(wl2,color=\"grey\")\n",
    "        \n",
    "the_num = all_numbers[idx]\n",
    "z=all_redshifts[idx]\n",
    "\n",
    "idx_sl=np.where(all_numbers_SL==the_num)[0][0]\n",
    "the_spectrum_SL = spec_SL[idx_sl]\n",
    "the_max_flux_2 = the_spectrum_SL.max()\n",
    "wavelengths_SL_indexes=np.where(np.logical_and(wavelengths_SL>=wlmin,wavelengths_SL<wlmax))[0]\n",
    "the_spectrum_SL_flux_cut = the_spectrum_SL[wavelengths_SL_indexes]\n",
    "the_spectrum_SL_wl_cut = wavelengths_SL[wavelengths_SL_indexes]\n",
    "\n",
    "I2=np.trapz(the_spectrum_SL_flux_cut,the_spectrum_SL_wl_cut)\n",
    "\n",
    "g=I1/I2\n",
    "the_flux_SL_toplot= g*spec_SL[idx_sl]\n",
    "the_max_flux_2=the_flux_SL_toplot.max()\n",
    "\n",
    "ymax=1.1*max(the_max_flux_1,the_max_flux_2)\n",
    "ymin=0\n",
    "\n",
    "fig, ax = plt.subplots(1, 1, figsize=(16, 8))\n",
    "ax.plot(the_wl_fors2*(1+z), the_flux_fors2, '-', color='red', label=\"Observation\")\n",
    "ax.set_xlim(0.,10000.)\n",
    "ax.set_ylim(ymin,ymax)\n",
    "ax.set_xlabel(\"Wavelength [$\\AA$]\")\n",
    "ax.set_ylabel(\"Normalized lum. [-]\")\n",
    "ax.legend(loc=\"upper right\")\n",
    "ax.grid()\n",
    "\n",
    "fig, ax = plt.subplots(1, 1, figsize=(16, 8))\n",
    "ax.plot(the_wl_fors2 ,the_flux_fors2 ,'-' ,color='blue',label=all_tag[idx])\n",
    "for el in all_elements:\n",
    "    el=el.split(\" \")[0]  \n",
    "    print(el)\n",
    "    if len(el)>0:\n",
    "        plot_line(ax,el)\n",
    "ax.set_xlim(0.,10000.)\n",
    "ax.set_ylim(ymin,ymax)\n",
    "ax.set_xlabel(\"Wavelength [$\\AA$]\")\n",
    "ax.set_ylabel(\"Normalized lum. [-]\")\n",
    "ax.legend(loc=\"upper right\")\n",
    "ax.grid()\n",
    "\n",
    "fig, ax = plt.subplots(1, 1, figsize=(16, 8))\n",
    "ax.plot(the_wl_fors2, the_flux_fors2, '-', color=all_colors[idx], label=all_tag[idx])\n",
    "#ax.set_ylim(-0.02,0.4)\n",
    "for el in all_elements:\n",
    "    el=el.split(\" \")[0]  \n",
    "    print(el)\n",
    "    if len(el)>0:\n",
    "        plot_line(ax,el)\n",
    "ax.plot(wavelengths_SL, the_flux_SL_toplot, color=\"orange\", label=\"Wide spectrum after SPS and extrapolation\")\n",
    "ax.set_xlim(0.,10000.)\n",
    "ax.set_ylim(ymin,ymax)\n",
    "ax.set_xlabel(\"Wavelength [$\\AA$]\")\n",
    "ax.set_ylabel(\"Normalized lum. [-]\")\n",
    "ax.legend(loc=\"upper right\")\n",
    "ax.grid()"
   ]
  },
  {
   "cell_type": "markdown",
   "id": "62c89f10",
   "metadata": {},
   "source": [
    "## Position of SL galaxies vs redshifts"
   ]
  },
  {
   "cell_type": "code",
   "execution_count": null,
   "id": "faf3a793",
   "metadata": {},
   "outputs": [],
   "source": [
    "if False:\n",
    "    # Compute the metric distance dmet in Mpc : dlum = dmet*(1+z), dang = dmet/(1+z) = dlum/(1+z)^2\n",
    "    ckms = 2.99792458e5 # en km/s\n",
    "    def distMet(z, h0=70., om0=0.3, l0=0.7):\n",
    "        dmet, ao = 0., 1.\n",
    "        # case without the cosmological constant\n",
    "        if (l0==0):\n",
    "            # ao = c/(self.h0*np.sqrt(np.abs(1-self.omt)))\n",
    "            # in fact we use x = ao * x(z) with x(z) from eq 8 of\n",
    "            # Moscardini et al.  So we don't need to compute ao\n",
    "            if (om0>0):\n",
    "                dmet = om0*z-(om0-2)*(1-np.sqrt(1+om0*z))\n",
    "                dmet = 2*ckms/(ao*h0*om0*om0*(1+z))*dmet\n",
    "            else:\n",
    "                dmet = ckms*z*(1.+z/2.)/(h0*(1+z))\n",
    "\n",
    "        elif (om0<1 and l0 != 0):\n",
    "            _sum = 0.\n",
    "            dz = z/50.\n",
    "            for i in range(50):\n",
    "                zi = (i+0.5)*dz\n",
    "                Ez = np.sqrt(om0*np.power((1.+zi),3.)+(1-om0-l0)*np.power((1.+zi),2.)+l0)\n",
    "                _sum = _sum + dz/Ez\n",
    "            dmet = ckms/(h0*ao) * _sum\n",
    "        else:\n",
    "            raise RuntimeError(f\"Cosmology not included : h0={h0}, Om0={om0}, l0={l0}\")\n",
    "        return dmet"
   ]
  },
  {
   "cell_type": "code",
   "execution_count": null,
   "id": "266fc1d7",
   "metadata": {},
   "outputs": [],
   "source": [
    "from StudyFors2SED import comov_dist"
   ]
  },
  {
   "cell_type": "code",
   "execution_count": null,
   "id": "ab5a5935",
   "metadata": {},
   "outputs": [],
   "source": [
    "_sel = (all_redshifts < 1.5)"
   ]
  },
  {
   "cell_type": "code",
   "execution_count": null,
   "id": "895e2a18",
   "metadata": {},
   "outputs": [],
   "source": [
    "all_dists = np.array([comov_dist.comoving_dist(0.292, Z)/comov_dist.mpc_m for Z in all_redshifts[_sel]])"
   ]
  },
  {
   "cell_type": "code",
   "execution_count": null,
   "id": "68be3054",
   "metadata": {},
   "outputs": [],
   "source": [
    "cw_map = plt.get_cmap('coolwarm')\n",
    "cNorm2 = colors.Normalize(vmin=0, vmax=1.) # np.max(all_redshifts))\n",
    "scalarMap2 = cmx.ScalarMappable(norm=cNorm2, cmap=cw_map)\n",
    "all_colors2 = scalarMap2.to_rgba(all_redshifts[_sel], alpha=1)"
   ]
  },
  {
   "cell_type": "code",
   "execution_count": null,
   "id": "872a6fc2",
   "metadata": {},
   "outputs": [],
   "source": [
    "ra0, dec0 = (54/60*15)/180*np.pi, -(28.+23/60)/180*np.pi\n",
    "angles_to_center = (180/np.pi)*np.arccos(np.sin(all_ra[_sel]/180*np.pi)*np.sin(ra0)+np.cos(all_ra[_sel]/180*np.pi)*np.cos(ra0)*np.cos(all_dec[_sel]/180*np.pi-dec0))"
   ]
  },
  {
   "cell_type": "code",
   "execution_count": null,
   "id": "e19a3168",
   "metadata": {},
   "outputs": [],
   "source": [
    "fig, axs = plt.subplots(1,2,figsize=(16,7))\n",
    "a1,a2 = axs.ravel()\n",
    "a1.scatter((all_ra[_sel]-ra0*180/np.pi)*60, (all_dec[_sel]-dec0*180/np.pi)*60,c=all_colors2, edgecolors=all_colors2, s=10,marker=\"o\",alpha=1)\n",
    "#im = ax.scatter(all_ra,all_dec,c=all_redshifts,s=10,marker=\"o\",alpha=0.5,cmap=\"jet\")\n",
    "a1.axis('equal')\n",
    "a1.grid()\n",
    "c1=plt.Circle((0.,0.), 2., fill=False, alpha=0.5, label=\"Spacing: 2 arcmin\")\n",
    "c2=plt.Circle((0.,0.), 4., fill=False, alpha=0.5, label=\"Spacing: 4 arcmin\")\n",
    "c3=plt.Circle((0.,0.), 8., fill=False, alpha=0.5, label=\"Spacing: 6 arcmin\")\n",
    "c4=plt.Circle((0.,0.), 16., fill=False, alpha=0.5, label=\"Spacing: 8 arcmin\")\n",
    "a1.add_artist(c1)\n",
    "a1.add_artist(c2)\n",
    "a1.add_artist(c3)\n",
    "a1.add_artist(c4)\n",
    "a1.set_xlabel(\"$ra-ra_0$ (arcmin)\")\n",
    "a1.set_ylabel(\"$dec-dec_0$ (arcmin)\")\n",
    "a1.set_title(\"Sky location of FORS2 galaxies\")\n",
    "#a1.legend()\n",
    "\n",
    "a2.scatter(all_dists,angles_to_center*60,c=all_colors2, edgecolors=all_colors2, s=10,marker=\"o\",alpha=1)\n",
    "#im = ax.scatter(all_ra,all_dec,c=all_redshifts,s=10,marker=\"o\",alpha=0.5,cmap=\"jet\")\n",
    "a2.grid()\n",
    "a2.set_xlabel(\"Comoving distance to cluster RX J0054.0-2823 (Mpc)\")\n",
    "a2.set_ylabel(\"Spacing on sky map (arcmin)\")\n",
    "a2.set_title(\"Relative location to cluster center\")\n",
    "\n",
    "cbar = fig.colorbar(scalarMap2, ax=a2)\n",
    "cbar.set_label('redshift')"
   ]
  },
  {
   "cell_type": "code",
   "execution_count": null,
   "id": "44882d6c",
   "metadata": {},
   "outputs": [],
   "source": [
    "fig, axs = plt.subplots(1,2,figsize=(16,7))\n",
    "a1,a2 = axs.ravel()\n",
    "a1.set_box_aspect(1.)\n",
    "a1.scatter(ra0*180/np.pi,dec0*180/np.pi,c='k',marker='+', s=81, alpha=1)\n",
    "a1.scatter(all_ra[_sel], all_dec[_sel],c=all_colors2, edgecolors=all_colors2, s=10,marker=\"o\",alpha=1)\n",
    "#im = ax.scatter(all_ra,all_dec,c=all_redshifts,s=10,marker=\"o\",alpha=0.5,cmap=\"jet\")\n",
    "#a1.grid()\n",
    "c1=plt.Circle((ra0*180/np.pi,dec0*180/np.pi), 2./60, fill=False, alpha=0.5, color='darkgreen', label=\"Spacing: 2, 4, 8, 16 arcmin\")\n",
    "c2=plt.Circle((ra0*180/np.pi,dec0*180/np.pi), 4./60, fill=False, alpha=0.5, color='darkgreen')\n",
    "c3=plt.Circle((ra0*180/np.pi,dec0*180/np.pi), 8./60, fill=False, alpha=0.5, color='darkgreen')\n",
    "c4=plt.Circle((ra0*180/np.pi,dec0*180/np.pi), 16./60, fill=False, alpha=0.5, color='darkgreen')\n",
    "a1.add_artist(c1)\n",
    "a1.add_artist(c2)\n",
    "a1.add_artist(c3)\n",
    "a1.add_artist(c4)\n",
    "a1.set_xticks(np.linspace(ra0*180/np.pi-16/60, ra0*180/np.pi+16/60, 5))\n",
    "a1.set_yticks(np.linspace(dec0*180/np.pi-16/60, dec0*180/np.pi+16/60, 5))\n",
    "a1.set_xlabel(\"ra (deg)\")\n",
    "a1.set_ylabel(\"dec (deg)\")\n",
    "a1.set_title(\"Sky location of FORS2 galaxies\")\n",
    "a1.legend()\n",
    "\n",
    "a2.scatter(all_dists,angles_to_center*60,c=all_colors2, edgecolors=all_colors2, s=10,marker=\"o\",alpha=1)\n",
    "#im = ax.scatter(all_ra,all_dec,c=all_redshifts,s=10,marker=\"o\",alpha=0.5,cmap=\"jet\")\n",
    "a2.axhline(2., alpha=0.5, color='darkgreen')\n",
    "a2.axhline(4., alpha=0.5, color='darkgreen')\n",
    "a2.axhline(8., alpha=0.5, color='darkgreen')\n",
    "a2.axhline(16., alpha=0.5, color='darkgreen')\n",
    "a2.grid(True, axis='x')\n",
    "a2.set_xlabel(\"Comoving distance to cluster RX J0054.0-2823 (Mpc)\")\n",
    "a2.set_ylabel(\"Spacing on sky map (arcmin)\")\n",
    "a2.set_title(\"Relative location to cluster center\")\n",
    "\n",
    "cbar = fig.colorbar(scalarMap2, ax=a2)\n",
    "cbar.set_label('redshift')"
   ]
  },
  {
   "cell_type": "code",
   "execution_count": null,
   "id": "da0a2ad3",
   "metadata": {},
   "outputs": [],
   "source": [
    "fig = plt.figure(figsize=(10,10))\n",
    "a1 = fig.add_subplot(projection='3d')\n",
    "#a1.set_box_aspect(1.)\n",
    "a1.scatter(ra0*180/np.pi, dec0*180/np.pi, 0.0, c='k',marker='+', s=81, alpha=1)\n",
    "a1.scatter(all_ra[_sel], all_dec[_sel], all_dists, c=all_colors2, edgecolors=all_colors2, s=10,marker=\"o\",alpha=1)\n",
    "a1.set_xlabel(\"ra (deg)\")\n",
    "a1.set_ylabel(\"dec (deg)\")\n",
    "a1.set_zlabel(\"Comoving distance vs. RX J0054.0-2823 (Mpc)\")\n",
    "a1.set_title(\"Sky location of FORS2 galaxies\")\n",
    "a1.tick_params(length=1)\n",
    "cbar = fig.colorbar(scalarMap2)\n",
    "cbar.set_label('redshift')"
   ]
  },
  {
   "cell_type": "code",
   "execution_count": null,
   "id": "0cb37993",
   "metadata": {},
   "outputs": [],
   "source": [
    "f,a = plt.subplots(1,1,figsize=(10,10))\n",
    "a.hist2d(all_dists, angles_to_center*60,\\\n",
    "           range=[(comov_dist.comoving_dist(0.292, 0.)/comov_dist.mpc_m,\\\n",
    "                   comov_dist.comoving_dist(0.292, 1.)/comov_dist.mpc_m),\\\n",
    "                  (0., 16)],\\\n",
    "           bins=20)\n",
    "a.set_xlabel(\"Comoving distance to cluster RX J0054.0-2823 (Mpc)\")\n",
    "a.set_ylabel(\"Spacing on sky map (arcmin)\")\n",
    "a.set_title(\"Relative location to cluster center\")"
   ]
  },
  {
   "cell_type": "markdown",
   "id": "ad440022",
   "metadata": {},
   "source": [
    "# Dust reddening"
   ]
  },
  {
   "cell_type": "code",
   "execution_count": null,
   "id": "184a15de",
   "metadata": {},
   "outputs": [],
   "source": [
    "from EmuLP import Analysis, Template, Extinction, Galaxy, Filter"
   ]
  },
  {
   "cell_type": "code",
   "execution_count": null,
   "id": "788a91bf",
   "metadata": {},
   "outputs": [],
   "source": [
    "conf_json = os.path.abspath(os.path.join('EmuLP','COSMOS2020-with-FORS2-HSC_only-jax-CC-togglePriorTrue-opa.json'))\n",
    "cosmo, z_grid, fine_z_grid, wl_grid, filters_arr, named_filters, baseTemp_arr, extlaws_dict, ebv_vals, dust_arr, wls_opa, opa_zgrid, opacity_grid, obs_arr = Analysis.load_data_for_analysis(conf_json)"
   ]
  },
  {
   "cell_type": "code",
   "execution_count": null,
   "id": "2c6c943d",
   "metadata": {},
   "outputs": [],
   "source": [
    "extlaws_dict, ebv_vals"
   ]
  },
  {
   "cell_type": "code",
   "execution_count": null,
   "id": "d971eed1",
   "metadata": {},
   "outputs": [],
   "source": [
    "from scipy.optimize import curve_fit\n",
    "for idx,the_num in enumerate(all_numbers[:5]):\n",
    "    f,a = plt.subplots(1,1)\n",
    "    z_s = all_redshifts[idx]\n",
    "    \n",
    "    the_wl_fors2 = all_wl[idx]\n",
    "    the_flux_fors2 = all_spectra[idx]\n",
    "    the_flux_fors2_filt = gaussian_filter1d(the_flux_fors2, 5)\n",
    "\n",
    "    wlmin = the_wl_fors2.min()\n",
    "    wlmax = the_wl_fors2.max()\n",
    "\n",
    "    I1 = np.trapz(the_flux_fors2_filt ,the_wl_fors2)\n",
    "\n",
    "    idx_sl = np.where(all_numbers_SL == the_num)[0][0]\n",
    "    the_spectrum_SL = spec_SL[idx_sl]\n",
    "    \n",
    "    wavelengths_SL_indexes = np.where(np.logical_and(wavelengths_SL >= wlmin, wavelengths_SL < wlmax))[0]\n",
    "    the_spectrum_SL_flux_cut = the_spectrum_SL[wavelengths_SL_indexes]\n",
    "    the_spectrum_SL_wl_cut = wavelengths_SL[wavelengths_SL_indexes]\n",
    "    I2 = np.trapz(the_spectrum_SL_flux_cut, the_spectrum_SL_wl_cut)\n",
    "    g = I1/I2\n",
    "    \n",
    "    f2_interp = np.interp(wl_grid, the_wl_fors2, the_flux_fors2_filt)\n",
    "    sl_interp = np.interp(wl_grid, wavelengths_SL, the_spectrum_SL)\n",
    "    \n",
    "    opa_at_z = np.array([np.interp(z_s, opa_zgrid, opacity_grid[:, _col]) for _col in range(opacity_grid.shape[1])])\n",
    "    opa_at_z = np.concatenate((opa_at_z, np.ones(len(wl_grid)-len(wls_opa))))\n",
    "    \n",
    "    a.plot(wl_grid*(1+z_s), f2_interp, label='FORS2-raw', alpha=0.5)\n",
    "    a.plot(wl_grid*(1+z_s), g*sl_interp, label='SL', alpha=0.5)\n",
    "    a.plot(wl_grid*(1+z_s), g*sl_interp*opa_at_z, label=f'SL*IGM(z={z_s:.2f})', alpha=0.5)\n",
    "    \n",
    "    _sel_for_fit = (wl_grid > wlmin)*(wl_grid < wlmax)\n",
    "    \n",
    "    def f_to_fit(wl, EBV, k):\n",
    "        ext_trans = Extinction.load_extinc(extlaws_dict['0']['path'], EBV, wl)\n",
    "        non_ext_flux = np.interp(wl, wl_grid, sl_interp*opa_at_z)\n",
    "        return k*ext_trans*non_ext_flux\n",
    "    \n",
    "    \n",
    "    ebv_fit, scale_fit = curve_fit(f_to_fit, wl_grid[_sel_for_fit], f2_interp[_sel_for_fit], p0=(0.0, g), bounds=(0.0, np.inf))[0]\n",
    "    print(ebv_fit, g, scale_fit)\n",
    "    \n",
    "    a.plot(wl_grid*(1+z_s), f_to_fit(wl_grid, ebv_fit, scale_fit), label=f'SL*IGM(z={z_s:.2f})*ext(EBV={ebv_fit:.3f})', alpha=0.5)\n",
    "    a.legend(loc='lower left', bbox_to_anchor=(1.01, 0.0))\n",
    "    a.set_xlim(2000., 11000.)"
   ]
  },
  {
   "cell_type": "markdown",
   "id": "481bd3ac",
   "metadata": {},
   "source": [
    "## Interprétation\n",
    "Comment utiliser ça? Construction d'un prior? Sélection de templates pré-rougies par couleur?\n",
    "Si prior : relier au redshift, au D4000 et au n_UV peut_être... à tester séparément en avance."
   ]
  },
  {
   "cell_type": "markdown",
   "id": "ebace9b8",
   "metadata": {},
   "source": [
    "### Calcul des grandeurs dans une boucle :\n",
    "nuvk, d4000n et E(B-V), à ajouter à un dataframe"
   ]
  },
  {
   "cell_type": "code",
   "execution_count": null,
   "id": "68fd78f5",
   "metadata": {},
   "outputs": [],
   "source": [
    "if True:\n",
    "    all_ebvs = []\n",
    "    all_d4000n = []\n",
    "    all_nuvk = []\n",
    "    all_types = []\n",
    "\n",
    "    summary_props = pd.DataFrame(index=all_num)\n",
    "    \n",
    "    df_sl_spec = pd.DataFrame()\n",
    "    df_sl_spec['Wavelength'] = wl_grid\n",
    "\n",
    "    summary_props['RA[deg]'] = all_ra\n",
    "    summary_props['DEC[deg]'] = all_dec\n",
    "    summary_props['Redshift'] = all_redshifts\n",
    "\n",
    "    _wls0 = np.arange(3600., 4300., 1.)\n",
    "    d4000n0_transm = np.zeros_like(_wls0)\n",
    "    d4000n0_transm[(_wls0>=3850.)*(_wls0<=3950.0)] = 1.0\n",
    "    d4000n0 = Filter.sedpyFilter(96, _wls0, d4000n0_transm)\n",
    "\n",
    "    d4000n1_transm = np.zeros_like(_wls0)\n",
    "    d4000n1_transm[(_wls0>=4000.)*(_wls0<=4100.0)] = 1.0\n",
    "    d4000n1 = Filter.sedpyFilter(97, _wls0, d4000n1_transm)\n",
    "\n",
    "    for idx,the_num in enumerate(tqdm(all_num)):\n",
    "        z_s = all_redshifts[idx]\n",
    "\n",
    "        the_wl_fors2 = all_wl[idx]\n",
    "        the_flux_fors2 = all_spectra[idx]\n",
    "        the_flux_fors2_filt = gaussian_filter1d(the_flux_fors2, 5)\n",
    "\n",
    "        wlmin = the_wl_fors2.min()\n",
    "        wlmax = the_wl_fors2.max()\n",
    "\n",
    "        I1 = np.trapz(the_flux_fors2_filt ,the_wl_fors2)\n",
    "\n",
    "        idx_sl = np.where(all_numbers_SL == the_num)[0][0]\n",
    "        the_spectrum_SL = spec_SL[idx_sl]\n",
    "\n",
    "        wavelengths_SL_indexes = np.where(np.logical_and(wavelengths_SL >= wlmin, wavelengths_SL < wlmax))[0]\n",
    "        the_spectrum_SL_flux_cut = the_spectrum_SL[wavelengths_SL_indexes]\n",
    "        the_spectrum_SL_wl_cut = wavelengths_SL[wavelengths_SL_indexes]\n",
    "        I2 = np.trapz(the_spectrum_SL_flux_cut, the_spectrum_SL_wl_cut)\n",
    "        g = I1/I2\n",
    "\n",
    "        f2_interp = np.interp(wl_grid, the_wl_fors2, the_flux_fors2_filt)\n",
    "        sl_interp = np.interp(wl_grid, wavelengths_SL, the_spectrum_SL)\n",
    "\n",
    "        opa_at_z = np.array([np.interp(z_s, opa_zgrid, opacity_grid[:, _col]) for _col in range(opacity_grid.shape[1])])\n",
    "        opa_at_z = np.concatenate((opa_at_z, np.ones(len(wl_grid)-len(wls_opa))))\n",
    "\n",
    "        _sel_for_fit = (wl_grid > wlmin)*(wl_grid < wlmax)\n",
    "\n",
    "        def f_to_fit(wl, EBV, k):\n",
    "            ext_trans = Extinction.load_extinc(extlaws_dict['0']['path'], EBV, wl)\n",
    "            non_ext_flux = np.interp(wl, wl_grid, sl_interp*opa_at_z)\n",
    "            return k*ext_trans*non_ext_flux\n",
    "\n",
    "\n",
    "        ebv_fit, scale_fit = curve_fit(f_to_fit, wl_grid[_sel_for_fit], f2_interp[_sel_for_fit], p0=(0.0, g), bounds=(0.0, np.inf))[0]\n",
    "        all_ebvs.append(ebv_fit)\n",
    "\n",
    "        extinc = Extinction.load_extinc(extlaws_dict['0']['path'], ebv_fit, wl_grid)\n",
    "        \n",
    "        df_sl_spec[f'SPEC_{the_num}_HZ4_BC_EBV0_Z0'] = scale_fit*sl_interp\n",
    "        df_sl_spec[f'SPEC_{the_num}_HZ4_BC_EBV{ebv_fit:.3f}_Z0'] = scale_fit*sl_interp*extinc\n",
    "        df_sl_spec[f'SPEC_{the_num}_HZ4_BC_EBV{ebv_fit:.3f}_Z{z_s:.3f}'] = jnp.interp(wl_grid, wl_grid*(1+z_s),\\\n",
    "                                                                                      scale_fit*sl_interp*extinc*opa_at_z,\\\n",
    "                                                                                      left=0.0, right=0.0,\\\n",
    "                                                                                     )\n",
    "        \n",
    "        mags = Template.nojit_make_template(scale_fit*sl_interp, named_filters, extinc, z_s, cosmo, wl_grid, opa_at_z)\n",
    "        summary_props.loc[the_num, [f'M({_f.name})' for _f in named_filters]] = mags\n",
    "        \n",
    "        mags_z0 = Template.nojit_make_template(scale_fit*sl_interp, named_filters, extinc, 0.001, cosmo, wl_grid, jnp.ones_like(opa_at_z))\n",
    "        summary_props.loc[the_num, [f'M({_f.name})_z0' for _f in named_filters]] = mags_z0\n",
    "        \n",
    "        mags_noExt = Template.nojit_make_template(scale_fit*sl_interp, named_filters, jnp.ones_like(extinc), z_s, cosmo, wl_grid, opa_at_z)\n",
    "        summary_props.loc[the_num, [f'M({_f.name})_e0' for _f in named_filters]] = mags_noExt\n",
    "        \n",
    "        mags_z0_noExt = Template.nojit_make_template(scale_fit*sl_interp, named_filters, jnp.ones_like(extinc), 0.001, cosmo, wl_grid, jnp.ones_like(opa_at_z))\n",
    "        summary_props.loc[the_num, [f'M({_f.name})_z0_e0' for _f in named_filters]] = mags_z0_noExt\n",
    "        \n",
    "        nuvk = Template.calc_nuvk(jnp.array(sl_interp), jnp.array(extinc), wl_grid)\n",
    "        all_nuvk.append(float(nuvk))\n",
    "        \n",
    "        if nuvk >= 4.25:\n",
    "            all_types.append('E/S0')\n",
    "        elif nuvk >= 3.19:\n",
    "            all_types.append('Sbc')\n",
    "        elif nuvk >= 1.9:\n",
    "            all_types.append('Scd')\n",
    "        else:\n",
    "            all_types.append('Irr')\n",
    "\n",
    "        flux_d4000 = jnp.interp(_wls0, wl_grid, jnp.array(sl_interp))\n",
    "        d4000n = jnp.trapz(flux_d4000*d4000n0.transmission, x=_wls0) / jnp.trapz(flux_d4000*d4000n1.transmission, x=_wls0)\n",
    "        all_d4000n.append(float(d4000n))\n",
    "\n",
    "    summary_props['E(B-V) (Calzetti)'] = np.array(all_ebvs)\n",
    "    summary_props['D4000n'] = np.array(all_d4000n)\n",
    "    summary_props['NUVK'] = np.array(all_nuvk)\n",
    "    summary_props['Type'] = all_types\n",
    "    summary_props['Tag'] = all_tag\n",
    "    summary_props['Lines'] = all_lines\n",
    "\n",
    "    plt.hist(all_ebvs, bins=50)"
   ]
  },
  {
   "cell_type": "code",
   "execution_count": null,
   "id": "e245c1a4",
   "metadata": {},
   "outputs": [],
   "source": [
    "if True:\n",
    "    summary_props.to_pickle('FORS2_spectra_classif_properties.pkl')\n",
    "    df_sl_spec.to_pickle('FORS2-SL_spectra_for_templates.pkl')"
   ]
  },
  {
   "cell_type": "markdown",
   "id": "f826701f",
   "metadata": {},
   "source": [
    "### Compare reddened FORS2 spectra vs. data"
   ]
  },
  {
   "cell_type": "code",
   "execution_count": null,
   "id": "68f8aa2a",
   "metadata": {},
   "outputs": [],
   "source": [
    "summary_props = pd.read_pickle('FORS2_spectra_classif_properties.pkl')\n",
    "df_sl_spec = pd.read_pickle('FORS2-SL_spectra_for_templates.pkl')"
   ]
  },
  {
   "cell_type": "code",
   "execution_count": null,
   "id": "7b6ac7ec",
   "metadata": {},
   "outputs": [],
   "source": [
    "summary_props"
   ]
  },
  {
   "cell_type": "code",
   "execution_count": null,
   "id": "5daf0d67-18bc-4418-a02a-2c5dd10dfc87",
   "metadata": {},
   "outputs": [],
   "source": [
    "df_sl_spec"
   ]
  },
  {
   "cell_type": "code",
   "execution_count": null,
   "id": "6d8b6b6f",
   "metadata": {},
   "outputs": [],
   "source": [
    "summary_props.plot.scatter(x='D4000n', y='E(B-V) (Calzetti)', c='Redshift', alpha=0.5, s=9)"
   ]
  },
  {
   "cell_type": "code",
   "execution_count": null,
   "id": "5d32a320",
   "metadata": {},
   "outputs": [],
   "source": [
    "f,a = plt.subplots(1,1)\n",
    "for filt in named_filters:\n",
    "    a.fill_between(filt.wavelengths, filt.transmission, label=filt.name, alpha=0.3)\n",
    "    a.plot(filt.wavelengths, filt.transmission)\n",
    "a.legend(loc='lower left', bbox_to_anchor=(1.01, 0.0))\n",
    "a.set_xlabel('Wavelength [$\\AA$]')\n",
    "a.set_ylabel('Transmission')"
   ]
  },
  {
   "cell_type": "code",
   "execution_count": null,
   "id": "2f8c6d71",
   "metadata": {},
   "outputs": [],
   "source": [
    "if False:\n",
    "    the_num = summary_props.index[0]\n",
    "    z = summary_props.loc[num, 'Redshift']\n",
    "    ebv = summary_props.loc[num, 'E(B-V) (Calzetti)']\n",
    "    idx_sl = np.where(all_numbers_SL == the_num)[0][0]\n",
    "    the_spectrum_SL = jnp.array(spec_SL[idx_sl])\n",
    "    sl_interp = jnp.interp(wl_grid, jnp.array(wavelengths_SL), the_spectrum_SL)\n",
    "    opa_at_z = jnp.array([np.interp(z, opa_zgrid, opacity_grid[:, _col]) for _col in range(opacity_grid.shape[1])])\n",
    "    opa_at_z = jnp.concatenate((opa_at_z, np.ones(len(wl_grid)-len(wls_opa))))\n",
    "    extinc = Extinction.load_extinc(extlaws_dict['0']['path'], ebv, wl_grid)\n",
    "\n",
    "    mags = Template.nojit_make_template(sl_interp, named_filters, extinc, z, cosmo, wl_grid, opa_at_z)\n",
    "    mags"
   ]
  },
  {
   "cell_type": "code",
   "execution_count": null,
   "id": "420f1a82",
   "metadata": {},
   "outputs": [],
   "source": [
    "jet_map = plt.get_cmap('jet')\n",
    "cNorm = colors.Normalize(vmin=0, vmax=0.5) # np.max(all_redshifts))\n",
    "scalarMap = cmx.ScalarMappable(norm=cNorm, cmap=jet_map)\n",
    "all_colors = scalarMap.to_rgba(summary_props['E(B-V) (Calzetti)'], alpha=1)"
   ]
  },
  {
   "cell_type": "code",
   "execution_count": null,
   "id": "92fc2bcc",
   "metadata": {},
   "outputs": [],
   "source": [
    "f,a = plt.subplots(1,1, figsize=(12,10))\n",
    "a.scatter(summary_props['M(cosmos_u_new)']-summary_props['M(hsc_gHSC)'], summary_props['M(hsc_rHSC)']-summary_props['M(hsc_iHSC)'],\\\n",
    "          c=all_colors, alpha=0.7, s=25, label='FORS2 galaxies')\n",
    "a.scatter([-2.5*np.log10(_o.AB_fluxes[1]) + 2.5*np.log10(_o.AB_fluxes[2]) for _o in obs_arr], [-2.5*np.log10(_o.AB_fluxes[3])+2.5*np.log10(_o.AB_fluxes[4]) for _o in obs_arr],\\\n",
    "          c='grey', s=16, alpha=0.3, label='COSMOS2020 subset')\n",
    "\n",
    "a.set_xlabel('U-G [mag]')\n",
    "a.set_ylabel('R-I [mag]')\n",
    "a.legend()\n",
    "\n",
    "cbar = f.colorbar(scalarMap, ax=a)\n",
    "cbar.set_label('E(B-V)')"
   ]
  },
  {
   "cell_type": "code",
   "execution_count": null,
   "id": "3ab0541c",
   "metadata": {},
   "outputs": [],
   "source": [
    "cNorm = colors.Normalize(vmin=0., vmax=1.5) # np.max(all_redshifts))\n",
    "scalarMap = cmx.ScalarMappable(norm=cNorm, cmap=jet_map)\n",
    "all_colors = scalarMap.to_rgba(summary_props['Redshift'], alpha=1)\n",
    "\n",
    "f,a = plt.subplots(1,1, figsize=(12,10))\n",
    "a.scatter(summary_props['M(cosmos_u_new)']-summary_props['M(hsc_gHSC)'], summary_props['M(hsc_rHSC)']-summary_props['M(hsc_iHSC)'],\\\n",
    "          c=all_colors, alpha=0.7, s=25, label='FORS2 galaxies')\n",
    "a.scatter([-2.5*np.log10(_o.AB_fluxes[1]) + 2.5*np.log10(_o.AB_fluxes[2]) for _o in obs_arr], [-2.5*np.log10(_o.AB_fluxes[3])+2.5*np.log10(_o.AB_fluxes[4]) for _o in obs_arr],\\\n",
    "          c='grey', s=16, alpha=0.3, label='COSMOS2020 subset')\n",
    "\n",
    "a.set_xlabel('U-G [mag]')\n",
    "a.set_ylabel('R-I [mag]')\n",
    "a.legend()\n",
    "\n",
    "cbar = f.colorbar(scalarMap, ax=a)\n",
    "cbar.set_label('Redshift')"
   ]
  },
  {
   "cell_type": "code",
   "execution_count": null,
   "id": "41870d74",
   "metadata": {},
   "outputs": [],
   "source": [
    "cNorm = colors.Normalize(vmin=np.min(summary_props['D4000n'].values), vmax=np.max(summary_props['D4000n'].values)) # np.max(all_redshifts))\n",
    "scalarMap = cmx.ScalarMappable(norm=cNorm, cmap=jet_map)\n",
    "all_colors = scalarMap.to_rgba(summary_props['D4000n'], alpha=1)\n",
    "\n",
    "f,a = plt.subplots(1,1, figsize=(12,10))\n",
    "a.scatter(summary_props['M(cosmos_u_new)']-summary_props['M(hsc_gHSC)'], summary_props['M(hsc_rHSC)']-summary_props['M(hsc_iHSC)'],\\\n",
    "          c=all_colors, alpha=0.7, s=25, label='FORS2 galaxies')\n",
    "a.scatter([-2.5*np.log10(_o.AB_fluxes[1]) + 2.5*np.log10(_o.AB_fluxes[2]) for _o in obs_arr], [-2.5*np.log10(_o.AB_fluxes[3])+2.5*np.log10(_o.AB_fluxes[4]) for _o in obs_arr],\\\n",
    "          c='grey', s=16, alpha=0.3, label='COSMOS2020 subset')\n",
    "\n",
    "a.set_xlabel('U-G [mag]')\n",
    "a.set_ylabel('R-I [mag]')\n",
    "a.legend()\n",
    "\n",
    "cbar = f.colorbar(scalarMap, ax=a)\n",
    "cbar.set_label('D4000')"
   ]
  },
  {
   "cell_type": "code",
   "execution_count": null,
   "id": "38ae34d1",
   "metadata": {},
   "outputs": [],
   "source": [
    "cNorm = colors.Normalize(vmin=0., vmax=5.) # np.max(all_redshifts))\n",
    "scalarMap = cmx.ScalarMappable(norm=cNorm, cmap=jet_map)\n",
    "all_colors = scalarMap.to_rgba(summary_props['NUVK'], alpha=1)\n",
    "\n",
    "f,a = plt.subplots(1,1, figsize=(12,10))\n",
    "a.scatter(summary_props['M(cosmos_u_new)']-summary_props['M(hsc_gHSC)'], summary_props['M(hsc_rHSC)']-summary_props['M(hsc_iHSC)'],\\\n",
    "          c=all_colors, alpha=0.7, s=25, label='FORS2 galaxies')\n",
    "a.scatter([-2.5*np.log10(_o.AB_fluxes[1]) + 2.5*np.log10(_o.AB_fluxes[2]) for _o in obs_arr], [-2.5*np.log10(_o.AB_fluxes[3])+2.5*np.log10(_o.AB_fluxes[4]) for _o in obs_arr],\\\n",
    "          c='grey', s=16, alpha=0.3, label='COSMOS2020 subset')\n",
    "\n",
    "a.set_xlabel('U-G [mag]')\n",
    "a.set_ylabel('R-I [mag]')\n",
    "a.legend()\n",
    "\n",
    "cbar = f.colorbar(scalarMap, ax=a)\n",
    "cbar.set_label('NUVK')\n",
    "cbar.set_ticks(ticks=[0, 1.9, 3.19, 4.25], labels=['Irr', 'Scd', 'Sbc', 'E/S0'])"
   ]
  },
  {
   "cell_type": "code",
   "execution_count": null,
   "id": "fe7d6e59",
   "metadata": {},
   "outputs": [],
   "source": [
    "import seaborn as sns\n",
    "sns.scatterplot(data=summary_props, x='Redshift', y='E(B-V) (Calzetti)', hue='Type')"
   ]
  },
  {
   "cell_type": "code",
   "execution_count": null,
   "id": "1f8dee0b",
   "metadata": {},
   "outputs": [],
   "source": [
    "f,a = plt.subplots(1,1)\n",
    "sns.histplot(data=summary_props, x='E(B-V) (Calzetti)', hue='Type',\\\n",
    "             stat='count', element='bars', multiple='stack', ax=a\\\n",
    "            )\n",
    "sns.move_legend(a, loc='lower left', bbox_to_anchor=(1., 0.))"
   ]
  },
  {
   "cell_type": "code",
   "execution_count": null,
   "id": "52f2d955",
   "metadata": {},
   "outputs": [],
   "source": [
    "cNorm = colors.Normalize(vmin=0, vmax=0.5) # np.max(all_redshifts))\n",
    "scalarMap = cmx.ScalarMappable(norm=cNorm, cmap=jet_map)\n",
    "all_colors = scalarMap.to_rgba(summary_props['E(B-V) (Calzetti)'], alpha=1)\n",
    "\n",
    "f,a = plt.subplots(1,1, figsize=(12,10))\n",
    "a.scatter(summary_props['M(cosmos_u_new)_z0']-summary_props['M(hsc_gHSC)_z0'], summary_props['M(hsc_rHSC)_z0']-summary_props['M(hsc_iHSC)_z0'],\\\n",
    "          c=all_colors, alpha=0.7, s=25, label='FORS2 galaxies')\n",
    "a.scatter([-2.5*np.log10(_o.AB_fluxes[1]) + 2.5*np.log10(_o.AB_fluxes[2]) for _o in obs_arr], [-2.5*np.log10(_o.AB_fluxes[3])+2.5*np.log10(_o.AB_fluxes[4]) for _o in obs_arr],\\\n",
    "          c='grey', s=16, alpha=0.3, label='COSMOS2020 subset')\n",
    "\n",
    "a.set_xlabel('U-G [mag] at z=0')\n",
    "a.set_ylabel('R-I [mag] at z=0')\n",
    "a.legend()\n",
    "\n",
    "cbar = f.colorbar(scalarMap, ax=a)\n",
    "cbar.set_label('E(B-V)')"
   ]
  },
  {
   "cell_type": "code",
   "execution_count": null,
   "id": "5cd69f59",
   "metadata": {},
   "outputs": [],
   "source": [
    "f,a = plt.subplots(1,1, figsize=(12,10))\n",
    "a.scatter(summary_props['M(cosmos_u_new)']-summary_props['M(hsc_gHSC)'], summary_props['M(hsc_rHSC)']-summary_props['M(hsc_iHSC)'],\\\n",
    "          alpha=0.7, s=49, label='FORS2 galaxies, redshifted w/ dust')\n",
    "a.scatter(summary_props['M(cosmos_u_new)_e0']-summary_props['M(hsc_gHSC)_e0'], summary_props['M(hsc_rHSC)_e0']-summary_props['M(hsc_iHSC)_e0'],\\\n",
    "          alpha=0.5, s=36, label='FORS2 galaxies, redshifted, no dust')\n",
    "a.scatter(summary_props['M(cosmos_u_new)_z0']-summary_props['M(hsc_gHSC)_z0'], summary_props['M(hsc_rHSC)_z0']-summary_props['M(hsc_iHSC)_z0'],\\\n",
    "          alpha=0.3, s=49, label='FORS2 galaxies, z=0, w/ dust')\n",
    "a.scatter(summary_props['M(cosmos_u_new)_z0_e0']-summary_props['M(hsc_gHSC)_z0_e0'], summary_props['M(hsc_rHSC)_z0_e0']-summary_props['M(hsc_iHSC)_z0_e0'],\\\n",
    "          alpha=0.2, s=36, label='FORS2 galaxies, z=0, no dust')\n",
    "a.scatter([-2.5*np.log10(_o.AB_fluxes[1]) + 2.5*np.log10(_o.AB_fluxes[2]) for _o in obs_arr], [-2.5*np.log10(_o.AB_fluxes[3])+2.5*np.log10(_o.AB_fluxes[4]) for _o in obs_arr],\\\n",
    "          c='grey', s=25, alpha=0.2, label='COSMOS2020 subset')\n",
    "\n",
    "a.set_xlabel('U-G [mag]')\n",
    "a.set_ylabel('R-I [mag]')\n",
    "a.legend()"
   ]
  },
  {
   "cell_type": "code",
   "execution_count": null,
   "id": "c2b1b2c6",
   "metadata": {},
   "outputs": [],
   "source": [
    "cNorm = colors.Normalize(vmin=0., vmax=3.0) # np.max(all_redshifts))\n",
    "scalarMap = cmx.ScalarMappable(norm=cNorm, cmap=jet_map)\n",
    "all_colors = scalarMap.to_rgba([_o.z_spec for _o in obs_arr], alpha=1)\n",
    "all_colors_f2 = scalarMap.to_rgba(summary_props['Redshift'].values, alpha=1)\n",
    "\n",
    "f,a = plt.subplots(1,3, figsize=(12,6), sharex=True, sharey=True, width_ratios=(0.475, 0.475, 0.05))\n",
    "a=a.ravel()\n",
    "a[0].scatter([-2.5*np.log10(_o.AB_fluxes[1]) + 2.5*np.log10(_o.AB_fluxes[2]) for _o in obs_arr], [-2.5*np.log10(_o.AB_fluxes[3])+2.5*np.log10(_o.AB_fluxes[4]) for _o in obs_arr],\\\n",
    "          c=all_colors, s=25, alpha=0.2, label='COSMOS2020 subset')\n",
    "a[1].scatter(summary_props['M(cosmos_u_new)']-summary_props['M(hsc_gHSC)'], summary_props['M(hsc_rHSC)']-summary_props['M(hsc_iHSC)'],\\\n",
    "          c=all_colors_f2, alpha=0.2, s=25, label='FORS2 galaxies, redshifted w/ dust')\n",
    "a2 = f.add_subplot(133)\n",
    "a2.tick_params(axis='x', which='both', bottom=False, labelbottom=False)\n",
    "a2.tick_params(axis='y', which='both', left=False, labelleft=False)\n",
    "cbar = f.colorbar(scalarMap, cax=a2)\n",
    "cbar.set_label('Redshift')"
   ]
  },
  {
   "cell_type": "code",
   "execution_count": null,
   "id": "807d51e1",
   "metadata": {},
   "outputs": [],
   "source": []
  }
 ],
 "metadata": {
  "kernelspec": {
   "display_name": "PhotoZ-Conda",
   "language": "python",
   "name": "condaphotoz"
  },
  "language_info": {
   "codemirror_mode": {
    "name": "ipython",
    "version": 3
   },
   "file_extension": ".py",
   "mimetype": "text/x-python",
   "name": "python",
   "nbconvert_exporter": "python",
   "pygments_lexer": "ipython3",
   "version": "3.8.5"
  },
  "toc": {
   "base_numbering": 1,
   "nav_menu": {},
   "number_sections": true,
   "sideBar": true,
   "skip_h1_title": false,
   "title_cell": "Table of Contents",
   "title_sidebar": "Contents",
   "toc_cell": false,
   "toc_position": {},
   "toc_section_display": true,
   "toc_window_display": false
  }
 },
 "nbformat": 4,
 "nbformat_minor": 5
}
