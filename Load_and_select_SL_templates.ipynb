{
 "cells": [
  {
   "cell_type": "code",
   "execution_count": 1,
   "id": "6fb52463-b38e-457f-bdae-b658a19530c8",
   "metadata": {},
   "outputs": [
    {
     "name": "stderr",
     "output_type": "stream",
     "text": [
      "2023-10-20 16:08:15.715477: W external/org_tensorflow/tensorflow/compiler/xla/service/gpu/nvptx_compiler.cc:497] The NVIDIA driver's CUDA version is 11.3 which is older than the ptxas CUDA version (11.4.152). Because the driver is older than the ptxas version, XLA is disabling parallel compilation, which may slow down compilation. You should update your NVIDIA driver or use the NVIDIA-provided CUDA forward compatibility packages.\n"
     ]
    }
   ],
   "source": [
    "import numpy as np\n",
    "from jax import jit, vmap, debug\n",
    "import jax.numpy as jnp\n",
    "import pandas as pd\n",
    "import seaborn as sns\n",
    "import os,sys,re\n",
    "import matplotlib.pyplot as plt\n",
    "import matplotlib.colors as colors\n",
    "import matplotlib.cm as cmx\n",
    "from matplotlib.backends.backend_pdf import PdfPages\n",
    "%matplotlib inline\n",
    "from itertools import cycle, islice\n",
    "# to enlarge the sizes\n",
    "params = {'legend.fontsize': 'x-large',\n",
    "          'figure.figsize': (8, 4),\n",
    "         'axes.labelsize': 'xx-large',\n",
    "         'axes.titlesize':'xx-large',\n",
    "         'xtick.labelsize':'xx-large',\n",
    "         'ytick.labelsize':'xx-large',\n",
    "         'image.cmap':'jet'}\n",
    "plt.rcParams.update(params)\n",
    "import matplotlib.offsetbox\n",
    "props = dict(boxstyle='round',edgecolor=\"w\",facecolor=\"w\", alpha=0.5)\n",
    "from tqdm import tqdm\n",
    "from EmuLP import Analysis, Template, Extinction, Galaxy, Filter"
   ]
  },
  {
   "cell_type": "code",
   "execution_count": null,
   "id": "d2202987-1519-4864-aa1f-19b968a908f5",
   "metadata": {},
   "outputs": [],
   "source": [
    "summary_props = pd.read_pickle('FORS2_spectra_classif_properties.pkl')\n",
    "df_sl_spec = pd.read_pickle('FORS2-SL_spectra_for_templates.pkl')"
   ]
  },
  {
   "cell_type": "code",
   "execution_count": null,
   "id": "82de472d-863a-45f6-9622-d0099176c408",
   "metadata": {},
   "outputs": [],
   "source": []
  },
  {
   "cell_type": "code",
   "execution_count": null,
   "id": "6d43842f-bda0-41bb-8054-5bfc8a3dc7c0",
   "metadata": {},
   "outputs": [],
   "source": []
  },
  {
   "cell_type": "code",
   "execution_count": null,
   "id": "debe5f2c-afad-410a-9a98-3a73e3bd5cfa",
   "metadata": {},
   "outputs": [],
   "source": [
    "_gal_seds = 'FORS2_ColorSelect_batch5'\n",
    "sed_dir = os.path.join(LEPHAREDIR, 'sed/GAL', _gal_seds)\n",
    "if not os.path.isdir(sed_dir) : os.makedirs(sed_dir)\n",
    "list_file_name = f'SED_FORS2_ColorSelect_SL_v5'"
   ]
  },
  {
   "cell_type": "code",
   "execution_count": null,
   "id": "8789d2af-ccae-4f10-9869-0640c02beff7",
   "metadata": {},
   "outputs": [],
   "source": [
    "if False:\n",
    "    with open(os.path.join(LEPHAREWORK, list_file_name+'.list'), 'w') as _l:\n",
    "        _l.write(f'# FORS2-derived templates selected and averaged regarding their position in the 4D color space\\n')\n",
    "    if use_average:\n",
    "        for _col in df_4D_col_avg.columns[1:]:\n",
    "            _arr = np.column_stack((df_4D_col_avg['Wavelength'], df_4D_col_avg[_col]))\n",
    "            np.savetxt(os.path.join(sed_dir,f'{_col}.sed'), _arr, fmt=('%10.1f', '%10.8f'), delimiter=\" \")\n",
    "            with open(os.path.join(LEPHAREWORK, list_file_name+'.list'), 'a') as _l:\n",
    "                _l.write(_gal_seds+f'/{_col}.sed\\n')\n",
    "    else:\n",
    "        for _spec in df_fors2SL_prop[\"Spectrum\"][_mask]:\n",
    "            _arr = np.column_stack((df_fors2SL_spec['Wavelength'], df_fors2SL_spec[_spec]))\n",
    "            np.savetxt(os.path.join(sed_dir,f'{_spec}.sed'), _arr, fmt=('%10.1f', '%10.8f'), delimiter=\" \")\n",
    "            with open(os.path.join(LEPHAREWORK, list_file_name+'.list'), 'a') as _l:\n",
    "                _l.write(_gal_seds+f'/{_spec}.sed\\n')"
   ]
  },
  {
   "cell_type": "code",
   "execution_count": null,
   "id": "5973344e-3957-470d-a3b0-d3effddc11f3",
   "metadata": {},
   "outputs": [],
   "source": [
    "if False:\n",
    "    list_file_name = list_file_name+'_normed'\n",
    "    with open(os.path.join(LEPHAREWORK, list_file_name+'.list'), 'w') as _l:\n",
    "        _l.write(f'# FORS2-derived templates selected and averaged regarding their position in the 4D color space. Normalised by the integral between {lambdaMin} and {lambdaMax} angstrom.\\n')\n",
    "    if use_average:\n",
    "        for _col in df_4D_col_avg_normed.columns[1:]:\n",
    "            _arr = np.column_stack((df_4D_col_avg_normed['Wavelength'], df_4D_col_avg_normed[_col]))\n",
    "            np.savetxt(os.path.join(sed_dir,f'{_col}.sed'), _arr, fmt=('%10.1f', '%10.8f'), delimiter=\" \")\n",
    "            with open(os.path.join(LEPHAREWORK, list_file_name+'.list'), 'a') as _l:\n",
    "                _l.write(_gal_seds+f'/{_col}.sed\\n')\n",
    "    else:\n",
    "        for _spec in df_fors2SL_prop[\"Normalized spectrum\"][_mask]:\n",
    "            _arr = np.column_stack((df_fors2SL_spec_normed['Wavelength'], df_fors2SL_spec_normed[_spec]))\n",
    "            np.savetxt(os.path.join(sed_dir,f'{_spec}.sed'), _arr, fmt=('%10.1f', '%10.8f'), delimiter=\" \")\n",
    "            with open(os.path.join(LEPHAREWORK, list_file_name+'.list'), 'a') as _l:\n",
    "                _l.write(_gal_seds+f'/{_spec}.sed\\n')"
   ]
  }
 ],
 "metadata": {
  "kernelspec": {
   "display_name": "PhotoZ-Conda",
   "language": "python",
   "name": "condaphotoz"
  },
  "language_info": {
   "codemirror_mode": {
    "name": "ipython",
    "version": 3
   },
   "file_extension": ".py",
   "mimetype": "text/x-python",
   "name": "python",
   "nbconvert_exporter": "python",
   "pygments_lexer": "ipython3",
   "version": "3.8.5"
  }
 },
 "nbformat": 4,
 "nbformat_minor": 5
}
