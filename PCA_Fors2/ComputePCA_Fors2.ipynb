{
 "cells": [
  {
   "cell_type": "markdown",
   "id": "316c4ba5",
   "metadata": {},
   "source": [
    "# PCA on Fors2\n",
    "\n",
    "\n",
    "- author : Sylvie Dagoret-Campagne\n",
    "- affiliation : IJCLab/IN2P3/CNRS\n",
    "- creation date : 2022/12/28\n",
    "- update : 2022/12/28\n",
    "- FORS2 : https://github.com/ericnuss/fors2\n",
    "- Result of StarLight : /sps/lsst/groups/photoz/fors2/FORS2/ResStarlight\n",
    "\n",
    "\n",
    "\n",
    "          /Users/dagoret/MacOSX/GitHub/LSST/FORS2>ls -l\n",
    "              total 0\n",
    "              drwxrwsr-x  3 dagoret  staff   96 Aug 21  2018 ResStarlight\n",
    "              drwxr-xr-x  9 dagoret  staff  288 Dec 19 18:01 fors2"
   ]
  },
  {
   "cell_type": "markdown",
   "id": "c7d7e344",
   "metadata": {},
   "source": [
    "## Import"
   ]
  },
  {
   "cell_type": "code",
   "execution_count": 1,
   "id": "e485fec8",
   "metadata": {},
   "outputs": [],
   "source": [
    "import os,sys,re\n",
    "from astropy.io import fits\n",
    "from astropy.table import Table"
   ]
  },
  {
   "cell_type": "code",
   "execution_count": 2,
   "id": "b271dcb5",
   "metadata": {},
   "outputs": [],
   "source": [
    "# Import some generally useful packages\n",
    "\n",
    "import os\n",
    "import numpy as np\n",
    "import matplotlib.pyplot as plt\n",
    "import matplotlib.colors as colors\n",
    "import matplotlib.cm as cmx\n",
    "\n",
    "from matplotlib.backends.backend_pdf import PdfPages\n",
    "\n",
    "%matplotlib inline\n",
    "import pandas as pd\n",
    "from itertools import cycle, islice\n"
   ]
  },
  {
   "cell_type": "code",
   "execution_count": 3,
   "id": "f6689d40-c574-471c-b9d6-996002aa4e76",
   "metadata": {},
   "outputs": [],
   "source": [
    "from scipy.interpolate import interp1d\n",
    "\n",
    "import glob\n",
    "import collections\n",
    "#from def_raw_seds import *"
   ]
  },
  {
   "cell_type": "code",
   "execution_count": 4,
   "id": "14a24641-c65f-4d63-a044-4f3c991740c0",
   "metadata": {},
   "outputs": [],
   "source": [
    "from astropy.io import fits\n",
    "import copy"
   ]
  },
  {
   "cell_type": "code",
   "execution_count": 5,
   "id": "413f1e89",
   "metadata": {},
   "outputs": [],
   "source": [
    "# to enlarge the sizes\n",
    "params = {'legend.fontsize': 'large',\n",
    "          'figure.figsize': (8, 4),\n",
    "         'axes.labelsize': 'xx-large',\n",
    "         'axes.titlesize':'xx-large',\n",
    "         'xtick.labelsize':'xx-large',\n",
    "         'ytick.labelsize':'xx-large'}\n",
    "plt.rcParams.update(params)"
   ]
  },
  {
   "cell_type": "code",
   "execution_count": 6,
   "id": "c1e22fcc",
   "metadata": {},
   "outputs": [],
   "source": [
    "import matplotlib.offsetbox\n",
    "props = dict(boxstyle='round',edgecolor=\"w\",facecolor=\"w\", alpha=0.5)"
   ]
  },
  {
   "cell_type": "code",
   "execution_count": 7,
   "id": "b7e9a578-1bb2-4e32-b88f-a69914949eca",
   "metadata": {},
   "outputs": [],
   "source": [
    "from def_raw_seds import *"
   ]
  },
  {
   "cell_type": "code",
   "execution_count": 8,
   "id": "93d5eb5c-6c03-45fe-9795-17e8ed32d0d7",
   "metadata": {},
   "outputs": [],
   "source": [
    "from raw_data_analysis import *"
   ]
  },
  {
   "cell_type": "code",
   "execution_count": 9,
   "id": "7ce825ef",
   "metadata": {},
   "outputs": [],
   "source": [
    "# Import the primary photometry classes from rubin_sim.photUtils\n",
    "\n",
    "import rubin_sim.photUtils.Bandpass as Bandpass\n",
    "import rubin_sim.photUtils.Sed as Sed\n",
    "from rubin_sim.data import get_data_dir"
   ]
  },
  {
   "cell_type": "code",
   "execution_count": 10,
   "id": "a20e3234",
   "metadata": {},
   "outputs": [
    {
     "data": {
      "text/plain": [
       "{'graphtable': '/Users/dagoret/MacOSX/External/PySynPhotData/grp/hst/cdbs/mtab/14l1632sm_tmg.fits',\n",
       " 'comptable': '/Users/dagoret/MacOSX/External/PySynPhotData/grp/hst/cdbs/mtab/16n1832tm_tmc.fits',\n",
       " 'thermtable': '/Users/dagoret/MacOSX/External/PySynPhotData/grp/hst/cdbs/mtab/tae17277m_tmt.fits',\n",
       " 'area': 1,\n",
       " 'waveset': 'Min: 500, Max: 26000, Num: 10000, Delta: None, Log: True'}"
      ]
     },
     "execution_count": 10,
     "metadata": {},
     "output_type": "execute_result"
    }
   ],
   "source": [
    "pysynphot_root_path=os.environ['PYSYN_CDBS']\n",
    "path_sed_calspec=os.path.join(pysynphot_root_path,'calspec')\n",
    "# pysynphot\n",
    "import pysynphot as S\n",
    "S.refs.setref(area=1)\n",
    "S.refs.getref()"
   ]
  },
  {
   "cell_type": "markdown",
   "id": "a4d93f7b",
   "metadata": {},
   "source": [
    "## Configuration"
   ]
  },
  {
   "cell_type": "markdown",
   "id": "51ee883f-9911-422c-8bf8-a001a6aa8d27",
   "metadata": {},
   "source": [
    "### SL"
   ]
  },
  {
   "cell_type": "code",
   "execution_count": 11,
   "id": "fc63bb44-01d3-4ed7-9e3d-5ab50484b8cf",
   "metadata": {},
   "outputs": [],
   "source": [
    "filename = \"datatools/pcamethod1_SL_eigenvectorandcoeff.fits\"\n",
    "hdu = fits.open(filename)"
   ]
  },
  {
   "cell_type": "code",
   "execution_count": 12,
   "id": "5e48ef9c-74eb-4b37-b927-1448ad7f5505",
   "metadata": {},
   "outputs": [
    {
     "name": "stdout",
     "output_type": "stream",
     "text": [
      "Filename: datatools/pcamethod1_SL_eigenvectorandcoeff.fits\n",
      "No.    Name      Ver    Type      Cards   Dimensions   Format\n",
      "  0  PRIMARY       1 PrimaryHDU      12   (6362, 553)   float64   \n",
      "  1                1 ImageHDU         8   (10, 550)   float64   \n",
      "  2                1 ImageHDU         8   (6361, 10)   float64   \n"
     ]
    }
   ],
   "source": [
    "hdu.info()"
   ]
  },
  {
   "cell_type": "code",
   "execution_count": 13,
   "id": "7ad0ac33-fda7-4904-ae23-6ce84937fe14",
   "metadata": {},
   "outputs": [
    {
     "data": {
      "text/plain": [
       "SIMPLE  =                    T / conforms to FITS standard                      \n",
       "BITPIX  =                  -64 / array data type                                \n",
       "NAXIS   =                    2 / number of array dimensions                     \n",
       "NAXIS1  =                 6362                                                  \n",
       "NAXIS2  =                  553                                                  \n",
       "EXTEND  =                    T                                                  \n",
       "DATAWLS = 'data[0,1:]'                                                          \n",
       "DATALLAV= 'data[1,1:]'                                                          \n",
       "DATALLST= 'data[2,1:]'                                                          \n",
       "DATAFL  = 'data[3:,1:]'                                                         \n",
       "DATANUM = 'data[3:,0]'                                                          \n",
       "COMMENT Spectra of StarLight                                                    "
      ]
     },
     "execution_count": 13,
     "metadata": {},
     "output_type": "execute_result"
    }
   ],
   "source": [
    "data1=hdu[0].data\n",
    "hdr1 = hdu[0].header\n",
    "hdr1"
   ]
  },
  {
   "cell_type": "code",
   "execution_count": 14,
   "id": "417986a6-5e94-436d-a28e-966776a35104",
   "metadata": {},
   "outputs": [
    {
     "data": {
      "text/plain": [
       "XTENSION= 'IMAGE   '           / Image extension                                \n",
       "BITPIX  =                  -64 / array data type                                \n",
       "NAXIS   =                    2 / number of array dimensions                     \n",
       "NAXIS1  =                   10                                                  \n",
       "NAXIS2  =                  550                                                  \n",
       "PCOUNT  =                    0 / number of parameters                           \n",
       "GCOUNT  =                    1 / number of groups                               \n",
       "COMMENT PCA method 1 spectra coefficients                                       "
      ]
     },
     "execution_count": 14,
     "metadata": {},
     "output_type": "execute_result"
    }
   ],
   "source": [
    "data2=hdu[1].data\n",
    "hdr2 = hdu[1].header\n",
    "hdr2"
   ]
  },
  {
   "cell_type": "code",
   "execution_count": 15,
   "id": "b8721d19-6dab-4ad8-8dd9-b6bfeab27a92",
   "metadata": {},
   "outputs": [
    {
     "data": {
      "text/plain": [
       "XTENSION= 'IMAGE   '           / Image extension                                \n",
       "BITPIX  =                  -64 / array data type                                \n",
       "NAXIS   =                    2 / number of array dimensions                     \n",
       "NAXIS1  =                 6361                                                  \n",
       "NAXIS2  =                   10                                                  \n",
       "PCOUNT  =                    0 / number of parameters                           \n",
       "GCOUNT  =                    1 / number of groups                               \n",
       "COMMENT PCA method 1 Eigen Vectors                                              "
      ]
     },
     "execution_count": 15,
     "metadata": {},
     "output_type": "execute_result"
    }
   ],
   "source": [
    "data3=hdu[2].data\n",
    "hdr3 = hdu[2].header\n",
    "hdr3"
   ]
  },
  {
   "cell_type": "code",
   "execution_count": 16,
   "id": "13c1fb1a-0f83-47f1-b3e0-d89294eb057d",
   "metadata": {},
   "outputs": [],
   "source": [
    "NSED_SL = data1.shape[0]-3\n",
    "NWL_SL = data1.shape[1]-1"
   ]
  },
  {
   "cell_type": "code",
   "execution_count": 17,
   "id": "7c2c290f-b928-490c-8b07-f1338d2cab05",
   "metadata": {},
   "outputs": [],
   "source": [
    "wavelengths_sl = data1[0,1:] \n",
    "flambdas_average_sl = data1[1,1:] \n",
    "flambdas_std_sl = data1[2,1:] \n",
    "spec_sl = data1[3:,1:] \n",
    "all_numbers_sl = data1[3:,0] "
   ]
  },
  {
   "cell_type": "code",
   "execution_count": 18,
   "id": "bc2ec81f-1685-4c0d-9fab-d6618c8e7260",
   "metadata": {},
   "outputs": [],
   "source": [
    "# wavelength bin colors\n",
    "jet = plt.get_cmap('jet')\n",
    "cNorm = colors.Normalize(vmin=0, vmax=NSED_SL)\n",
    "scalarMap = cmx.ScalarMappable(norm=cNorm, cmap=jet)\n",
    "all_colors = scalarMap.to_rgba(np.arange(NSED_SL), alpha=1)"
   ]
  },
  {
   "cell_type": "markdown",
   "id": "166b2775",
   "metadata": {},
   "source": [
    "### Fors2"
   ]
  },
  {
   "cell_type": "markdown",
   "id": "7f6b5b89-440f-4d2d-87d6-9eb190e215bd",
   "metadata": {},
   "source": [
    "### Catalog"
   ]
  },
  {
   "cell_type": "code",
   "execution_count": 19,
   "id": "0d1c76e0-51f7-47f0-9fc8-70f426930afd",
   "metadata": {},
   "outputs": [
    {
     "name": "stderr",
     "output_type": "stream",
     "text": [
      "WARNING: VerifyWarning: Invalid keyword for column 8: ASCII table null option (TNULLn) is longer than the column's character width and will be truncated (got '-2147483648'). [astropy.io.fits.column]\n",
      "WARNING: VerifyWarning: Invalid keyword for column 9: ASCII table null option (TNULLn) is longer than the column's character width and will be truncated (got '-32768'). [astropy.io.fits.column]\n",
      "/Users/dagoret/anaconda3/lib/python3.9/site-packages/astropy/io/fits/connect.py:235: FutureWarning: elementwise comparison failed; returning scalar instead, but in the future will perform elementwise comparison\n",
      "  mask = data[col.name] == col.null\n"
     ]
    }
   ],
   "source": [
    "t = Table.read(filename_fits_catalog)"
   ]
  },
  {
   "cell_type": "code",
   "execution_count": 20,
   "id": "2ee70902-b8ad-4407-9314-25ff3d8b2f77",
   "metadata": {},
   "outputs": [
    {
     "data": {
      "text/html": [
       "<div><i>Table length=676</i>\n",
       "<table id=\"table140196718562368\" class=\"table-striped table-bordered table-condensed\">\n",
       "<thead><tr><th>ID</th><th>m_ID</th><th>RAJ2000</th><th>DEJ2000</th><th>z</th><th>u_z</th><th>Rmag</th><th>RV</th><th>e_RV</th><th>RT</th><th>Nsp</th><th>Lines</th></tr></thead>\n",
       "<thead><tr><th></th><th></th><th>deg</th><th>deg</th><th></th><th></th><th>mag</th><th>km / s</th><th>km / s</th><th></th><th></th><th></th></tr></thead>\n",
       "<thead><tr><th>int16</th><th>bytes1</th><th>float64</th><th>float64</th><th>float64</th><th>bytes1</th><th>float64</th><th>int32</th><th>int16</th><th>float64</th><th>int16</th><th>bytes77</th></tr></thead>\n",
       "<tr><td>1</td><td></td><td>13.52815</td><td>-28.40486</td><td>0.55409</td><td></td><td>20.79</td><td>166227</td><td>55</td><td>10.0</td><td>1</td><td>[OII],H8,K,H</td></tr>\n",
       "<tr><td>2</td><td></td><td>13.52997</td><td>-28.44776</td><td>0.34555</td><td></td><td>21.18</td><td>103665</td><td>40</td><td>12.3</td><td>1</td><td>K,H,G,H{beta}</td></tr>\n",
       "<tr><td>3</td><td></td><td>13.52552</td><td>-28.4208</td><td>0.6866</td><td></td><td>21.45</td><td>210642</td><td>48</td><td>11.6</td><td>4</td><td>[OII],H9,K,H,H{beta},[OIII],H8</td></tr>\n",
       "<tr><td>4</td><td></td><td>13.52216</td><td>-28.40914</td><td>0.68653</td><td></td><td>21.62</td><td>205959</td><td>123</td><td>10.6</td><td>1</td><td>[OII],H9,K,H,G,H{beta}</td></tr>\n",
       "<tr><td>7</td><td></td><td>13.50974</td><td>-28.42972</td><td>0.32371</td><td></td><td>22.34</td><td>97111</td><td>11</td><td>16.7</td><td>6</td><td>[OII],H{beta},[OIII],H{alpha}</td></tr>\n",
       "<tr><td>9</td><td></td><td>13.50219</td><td>-28.40641</td><td>0.29266</td><td></td><td>21.6</td><td>87798</td><td>58</td><td>13.1</td><td>1</td><td>H9,H8,K,H</td></tr>\n",
       "<tr><td>11</td><td></td><td>13.49724</td><td>-28.39487</td><td>0.62688</td><td></td><td>22.09</td><td>188063</td><td>17</td><td>24.3</td><td>3</td><td>[OII],H10,H8,K,H,H{delta}</td></tr>\n",
       "<tr><td>12</td><td></td><td>13.49584</td><td>-28.39125</td><td>0.2973</td><td></td><td>21.97</td><td>89189</td><td>30</td><td>14.8</td><td>2</td><td>[OII],H10,H9,H8,K,H</td></tr>\n",
       "<tr><td>13</td><td></td><td>13.49261</td><td>-28.38272</td><td>0.6887</td><td></td><td>23.14</td><td>206610</td><td>0</td><td>0.0</td><td>1</td><td>[OII],H{epsilon},H{delta},H{beta}</td></tr>\n",
       "<tr><td>14</td><td></td><td>13.48952</td><td>-28.38469</td><td>1.15856</td><td></td><td>22.62</td><td>347568</td><td>192</td><td>2.0</td><td>1</td><td>[OII],H9</td></tr>\n",
       "<tr><td>15</td><td></td><td>13.4888</td><td>-28.41684</td><td>0.63446</td><td></td><td>22.4</td><td>190338</td><td>26</td><td>17.2</td><td>2</td><td>[OII],H9,K,H,H{delta},H{beta},[OIII]</td></tr>\n",
       "<tr><td>...</td><td>...</td><td>...</td><td>...</td><td>...</td><td>...</td><td>...</td><td>...</td><td>...</td><td>...</td><td>...</td><td>...</td></tr>\n",
       "<tr><td>732</td><td></td><td>13.71984</td><td>-28.23666</td><td>0.16176</td><td></td><td>19.24</td><td>48526</td><td>18</td><td>19.9</td><td>1</td><td>H,K,H{gamma},H{beta},[OIII],H{alpha},NII</td></tr>\n",
       "<tr><td>733</td><td></td><td>13.63351</td><td>-28.23504</td><td>0.19553</td><td></td><td>19.77</td><td>58660</td><td>27</td><td>13.9</td><td>1</td><td>K,H,H{beta},[OIII]</td></tr>\n",
       "<tr><td>734</td><td></td><td>13.68083</td><td>-28.2329</td><td>0.23012</td><td></td><td>0.0</td><td>69036</td><td>71</td><td>7.2</td><td>1</td><td>[OII],H9,K,H,H{alpha},NII</td></tr>\n",
       "<tr><td>735</td><td></td><td>13.69958</td><td>-28.23161</td><td>0.36169</td><td></td><td>19.28</td><td>108507</td><td>107</td><td>8.2</td><td>1</td><td>K,H,G,H{beta}</td></tr>\n",
       "<tr><td>736</td><td></td><td>13.66431</td><td>-28.22849</td><td>0.55777</td><td></td><td>21.64</td><td>167331</td><td>31</td><td>10.5</td><td>1</td><td>[OII],H9,H{beta},[OIII]</td></tr>\n",
       "<tr><td>737</td><td></td><td>13.62722</td><td>-28.22692</td><td>0.52001</td><td></td><td>21.4</td><td>156003</td><td>53</td><td>10.2</td><td>1</td><td>[OII],K,H</td></tr>\n",
       "<tr><td>738</td><td></td><td>13.6437</td><td>-28.22527</td><td>0.56044</td><td></td><td>19.73</td><td>168132</td><td>126</td><td>7.1</td><td>1</td><td>K,H,4000{AA}-break,G</td></tr>\n",
       "<tr><td>1009</td><td></td><td>13.52353</td><td>-28.42682</td><td>0.2904</td><td></td><td>18.6</td><td>87120</td><td>0</td><td>0.0</td><td>1</td><td></td></tr>\n",
       "<tr><td>1011</td><td></td><td>13.51676</td><td>-28.40425</td><td>0.2934</td><td></td><td>18.26</td><td>88020</td><td>0</td><td>0.0</td><td>1</td><td></td></tr>\n",
       "<tr><td>1012</td><td></td><td>13.5147</td><td>-28.40379</td><td>0.2929</td><td></td><td>17.34</td><td>87870</td><td>0</td><td>0.0</td><td>1</td><td></td></tr>\n",
       "<tr><td>1018</td><td></td><td>13.49151</td><td>-28.38977</td><td>0.2925</td><td></td><td>19.62</td><td>87750</td><td>0</td><td>0.0</td><td>1</td><td></td></tr>\n",
       "<tr><td>1020</td><td></td><td>13.48143</td><td>-28.40368</td><td>0.2939</td><td></td><td>20.71</td><td>88170</td><td>0</td><td>0.0</td><td>1</td><td></td></tr>\n",
       "</table></div>"
      ],
      "text/plain": [
       "<Table length=676>\n",
       "  ID   m_ID  RAJ2000   DEJ2000     z    ...   RV    e_RV     RT    Nsp                                      Lines                                    \n",
       "               deg       deg            ... km / s km / s                                                                                            \n",
       "int16 bytes1 float64   float64  float64 ... int32  int16  float64 int16                                    bytes77                                   \n",
       "----- ------ -------- --------- ------- ... ------ ------ ------- ----- -----------------------------------------------------------------------------\n",
       "    1        13.52815 -28.40486 0.55409 ... 166227     55    10.0     1 [OII],H8,K,H                                                                \n",
       "    2        13.52997 -28.44776 0.34555 ... 103665     40    12.3     1 K,H,G,H{beta}                                                               \n",
       "    3        13.52552  -28.4208  0.6866 ... 210642     48    11.6     4 [OII],H9,K,H,H{beta},[OIII],H8                                              \n",
       "    4        13.52216 -28.40914 0.68653 ... 205959    123    10.6     1 [OII],H9,K,H,G,H{beta}                                                      \n",
       "    7        13.50974 -28.42972 0.32371 ...  97111     11    16.7     6 [OII],H{beta},[OIII],H{alpha}                                               \n",
       "    9        13.50219 -28.40641 0.29266 ...  87798     58    13.1     1 H9,H8,K,H                                                                   \n",
       "   11        13.49724 -28.39487 0.62688 ... 188063     17    24.3     3 [OII],H10,H8,K,H,H{delta}                                                   \n",
       "   12        13.49584 -28.39125  0.2973 ...  89189     30    14.8     2 [OII],H10,H9,H8,K,H                                                         \n",
       "   13        13.49261 -28.38272  0.6887 ... 206610      0     0.0     1 [OII],H{epsilon},H{delta},H{beta}                                           \n",
       "   14        13.48952 -28.38469 1.15856 ... 347568    192     2.0     1 [OII],H9                                                                    \n",
       "   15         13.4888 -28.41684 0.63446 ... 190338     26    17.2     2 [OII],H9,K,H,H{delta},H{beta},[OIII]                                        \n",
       "  ...    ...      ...       ...     ... ...    ...    ...     ...   ...                                                                           ...\n",
       "  732        13.71984 -28.23666 0.16176 ...  48526     18    19.9     1 H,K,H{gamma},H{beta},[OIII],H{alpha},NII                                    \n",
       "  733        13.63351 -28.23504 0.19553 ...  58660     27    13.9     1 K,H,H{beta},[OIII]                                                          \n",
       "  734        13.68083  -28.2329 0.23012 ...  69036     71     7.2     1 [OII],H9,K,H,H{alpha},NII                                                   \n",
       "  735        13.69958 -28.23161 0.36169 ... 108507    107     8.2     1 K,H,G,H{beta}                                                               \n",
       "  736        13.66431 -28.22849 0.55777 ... 167331     31    10.5     1 [OII],H9,H{beta},[OIII]                                                     \n",
       "  737        13.62722 -28.22692 0.52001 ... 156003     53    10.2     1 [OII],K,H                                                                   \n",
       "  738         13.6437 -28.22527 0.56044 ... 168132    126     7.1     1 K,H,4000{AA}-break,G                                                        \n",
       " 1009        13.52353 -28.42682  0.2904 ...  87120      0     0.0     1                                                                             \n",
       " 1011        13.51676 -28.40425  0.2934 ...  88020      0     0.0     1                                                                             \n",
       " 1012         13.5147 -28.40379  0.2929 ...  87870      0     0.0     1                                                                             \n",
       " 1018        13.49151 -28.38977  0.2925 ...  87750      0     0.0     1                                                                             \n",
       " 1020        13.48143 -28.40368  0.2939 ...  88170      0     0.0     1                                                                             "
      ]
     },
     "execution_count": 20,
     "metadata": {},
     "output_type": "execute_result"
    }
   ],
   "source": [
    "t"
   ]
  },
  {
   "cell_type": "code",
   "execution_count": 21,
   "id": "2b109853-77c5-43c7-ac72-c7f022f47842",
   "metadata": {},
   "outputs": [],
   "source": [
    "filename_fors2 = 'datatools/Fors2_data.fits'"
   ]
  },
  {
   "cell_type": "code",
   "execution_count": 22,
   "id": "d5d22955-18a4-42f6-93aa-b41e8a178195",
   "metadata": {},
   "outputs": [],
   "source": [
    "hdu = fits.open(filename_fors2)"
   ]
  },
  {
   "cell_type": "code",
   "execution_count": 23,
   "id": "ccec3918-2933-4222-9c8d-2be960e4b04d",
   "metadata": {},
   "outputs": [
    {
     "name": "stdout",
     "output_type": "stream",
     "text": [
      "Filename: datatools/Fors2_data.fits\n",
      "No.    Name      Ver    Type      Cards   Dimensions   Format\n",
      "  0  PRIMARY       1 PrimaryHDU      11   (6362, 553)   float64   \n"
     ]
    }
   ],
   "source": [
    "hdu.info()"
   ]
  },
  {
   "cell_type": "code",
   "execution_count": 24,
   "id": "d7f7b877-f777-4921-9ed3-301c6d394f42",
   "metadata": {},
   "outputs": [
    {
     "data": {
      "text/plain": [
       "SIMPLE  =                    T / conforms to FITS standard                      \n",
       "BITPIX  =                  -64 / array data type                                \n",
       "NAXIS   =                    2 / number of array dimensions                     \n",
       "NAXIS1  =                 6362                                                  \n",
       "NAXIS2  =                  553                                                  \n",
       "DATAWLS = 'data[0,1:]'                                                          \n",
       "DATALLAV= 'data[1,1:]'                                                          \n",
       "DATALLST= 'data[2,1:]'                                                          \n",
       "DATAFL  = 'data[3:,1:]'                                                         \n",
       "DATANUM = 'data[3:,0]'                                                          \n",
       "COMMENT Spectra of Fors2                                                        "
      ]
     },
     "execution_count": 24,
     "metadata": {},
     "output_type": "execute_result"
    }
   ],
   "source": [
    "data=hdu[0].data\n",
    "hdr = hdu[0].header\n",
    "hdr"
   ]
  },
  {
   "cell_type": "code",
   "execution_count": 25,
   "id": "ab9e8384-a03e-46be-8987-f97094fca32a",
   "metadata": {},
   "outputs": [],
   "source": [
    "NSED_FO = data.shape[0]-3\n",
    "NWL_FO = data.shape[1]-1"
   ]
  },
  {
   "cell_type": "code",
   "execution_count": 26,
   "id": "e6992358-c5a5-4752-937d-3371fd27c3f1",
   "metadata": {},
   "outputs": [],
   "source": [
    "wavelengths_fo = data[0,1:] \n",
    "flambdas_average_fo = data[1,1:] \n",
    "flambdas_std_fo = data[2,1:] \n",
    "spec_fo = data[3:,1:] \n",
    "all_numbers_fo = data[3:,0] "
   ]
  },
  {
   "cell_type": "code",
   "execution_count": null,
   "id": "97401377-4184-4c19-8e1a-edc520e3d2a2",
   "metadata": {},
   "outputs": [],
   "source": []
  }
 ],
 "metadata": {
  "kernelspec": {
   "display_name": "python3_base",
   "language": "python",
   "name": "python3"
  },
  "language_info": {
   "codemirror_mode": {
    "name": "ipython",
    "version": 3
   },
   "file_extension": ".py",
   "mimetype": "text/x-python",
   "name": "python",
   "nbconvert_exporter": "python",
   "pygments_lexer": "ipython3",
   "version": "3.9.12"
  },
  "toc": {
   "base_numbering": 1,
   "nav_menu": {},
   "number_sections": true,
   "sideBar": true,
   "skip_h1_title": false,
   "title_cell": "Table of Contents",
   "title_sidebar": "Contents",
   "toc_cell": false,
   "toc_position": {},
   "toc_section_display": true,
   "toc_window_display": false
  }
 },
 "nbformat": 4,
 "nbformat_minor": 5
}
