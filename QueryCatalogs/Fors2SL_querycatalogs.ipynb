{
 "cells": [
  {
   "cell_type": "markdown",
   "id": "316c4ba5",
   "metadata": {},
   "source": [
    "# Search inside astroquery catalog\n",
    "\n",
    "\n",
    "- author : Sylvie Dagoret-Campagne\n",
    "- affiliation : IJCLab/IN2P3/CNRS\n",
    "- creation date : 2023/05/17\n",
    "- last update : 2023-06-02\n",
    "- FORS2 : https://github.com/ericnuss/fors2\n",
    "- Result of StarLight : /sps/lsst/groups/photoz/fors2/FORS2/ResStarlight\n",
    "\n",
    "\n",
    "\n",
    "          /Users/dagoret/MacOSX/GitHub/LSST/FORS2>ls -l\n",
    "              total 0\n",
    "              drwxrwsr-x  3 dagoret  staff   96 Aug 21  2018 ResStarlight\n",
    "              drwxr-xr-x  9 dagoret  staff  288 Dec 19 18:01 fors2"
   ]
  },
  {
   "cell_type": "markdown",
   "id": "a0aeb492-35ec-4aca-b788-94e065f47785",
   "metadata": {},
   "source": [
    "https://astroquery.readthedocs.io/en/latest/"
   ]
  },
  {
   "cell_type": "markdown",
   "id": "c7d7e344",
   "metadata": {},
   "source": [
    "## Import"
   ]
  },
  {
   "cell_type": "code",
   "execution_count": 1,
   "id": "e485fec8",
   "metadata": {},
   "outputs": [],
   "source": [
    "import os,sys,re\n",
    "import h5py\n",
    "from astropy.table import Table\n",
    "import random\n",
    "\n",
    "from astropy import coordinates\n",
    "from astropy import units as u\n",
    "from astropy.coordinates import Angle\n",
    "from astroquery.skyview import SkyViewClass\n",
    "from astroquery.skyview import *\n",
    "# https://astroquery.readthedocs.io/en/latest/api/astroquery.skyview.SkyViewClass.html\n",
    "\n",
    "from astropy.wcs import WCS\n",
    "\n",
    "from astroquery.sdss.core import SDSS\n",
    "from astropy import coordinates as coords"
   ]
  },
  {
   "cell_type": "code",
   "execution_count": null,
   "id": "b271dcb5",
   "metadata": {},
   "outputs": [],
   "source": [
    "# Import some generally useful packages\n",
    "\n",
    "import os\n",
    "import numpy as np\n",
    "import matplotlib.pyplot as plt\n",
    "import matplotlib.colors as colors\n",
    "import matplotlib.cm as cmx\n",
    "\n",
    "from matplotlib.backends.backend_pdf import PdfPages\n",
    "\n",
    "%matplotlib inline\n",
    "import pandas as pd\n",
    "from itertools import cycle, islice\n"
   ]
  },
  {
   "cell_type": "code",
   "execution_count": null,
   "id": "f6689d40-c574-471c-b9d6-996002aa4e76",
   "metadata": {},
   "outputs": [],
   "source": [
    "from scipy import ndimage\n",
    "\n",
    "#from scipy import interp as scinterp\n",
    "from scipy.interpolate import interp1d\n",
    "\n",
    "import glob\n",
    "import collections\n",
    "#from def_raw_seds import *"
   ]
  },
  {
   "cell_type": "code",
   "execution_count": null,
   "id": "413f1e89",
   "metadata": {},
   "outputs": [],
   "source": [
    "# to enlarge the sizes\n",
    "params = {'legend.fontsize': 'large',\n",
    "          'figure.figsize': (4, 4),\n",
    "         'axes.labelsize': 'xx-large',\n",
    "         'axes.titlesize':'xx-large',\n",
    "         'xtick.labelsize':'xx-large',\n",
    "         'ytick.labelsize':'xx-large'}\n",
    "plt.rcParams.update(params)"
   ]
  },
  {
   "cell_type": "code",
   "execution_count": null,
   "id": "c1e22fcc",
   "metadata": {},
   "outputs": [],
   "source": [
    "import matplotlib.offsetbox\n",
    "props = dict(boxstyle='round',edgecolor=\"w\",facecolor=\"w\", alpha=0.5)"
   ]
  },
  {
   "cell_type": "code",
   "execution_count": null,
   "id": "1605569f-1759-42d7-b54a-7a4d5f79124c",
   "metadata": {},
   "outputs": [],
   "source": [
    "def GetColumnHfData(hff,list_of_keys,nameval):\n",
    "    \"\"\"\n",
    "    Extract hff atttribute \n",
    "    \n",
    "    parameters\n",
    "      hff           : descriptor of h5 file\n",
    "      list_of_keys : list of exposures\n",
    "      nameval      : name of the attribute\n",
    "      \n",
    "    return\n",
    "           the array of values in the order of \n",
    "    \"\"\"\n",
    "    \n",
    "\n",
    "    all_data = []\n",
    "    for key in list_of_keys:\n",
    "        group=hff.get(key)\n",
    "        val=group.attrs[nameval]\n",
    "        all_data.append(val)\n",
    "    return all_data\n"
   ]
  },
  {
   "cell_type": "code",
   "execution_count": null,
   "id": "75de53f3-8d42-4eca-b197-acc88d90f7cc",
   "metadata": {},
   "outputs": [],
   "source": [
    "def ReadFors2h5FileAttributes(hf):\n",
    "    hf =  h5py.File(input_file_h5, 'r') \n",
    "    list_of_keys = list(hf.keys())\n",
    "    # pick one key    \n",
    "    key_sel =  list_of_keys[0]\n",
    "    # pick one group\n",
    "    group = hf.get(key_sel)  \n",
    "    #pickup all attribute names\n",
    "    all_subgroup_keys = []\n",
    "    for k in group.attrs.keys():\n",
    "        all_subgroup_keys.append(k)\n",
    "    # create info\n",
    "    df_info = pd.DataFrame()\n",
    "    for key in all_subgroup_keys:\n",
    "        arr=GetColumnHfData(hf, list_of_keys ,key)\n",
    "        df_info[key] = arr\n",
    "    df_info.sort_values(by=\"num\", ascending=True,inplace=True)\n",
    "    df_info_num = df_info[\"num\"].values\n",
    "    key_tags = [ f\"SPEC{num}\" for num in df_info_num ]\n",
    "    df_info[\"name\"] = key_tags\n",
    "    \n",
    "    #'Nsp', 'RT', 'RV', 'Rmag', 'dec', 'eRV', 'lines', 'num', 'ra', 'redshift',\n",
    "    \n",
    "    df_info = df_info[['num' ,'name', 'ra', 'dec', 'Rmag','redshift','lines','RT','RV','eRV','Nsp']]\n",
    "    return df_info\n",
    "    "
   ]
  },
  {
   "cell_type": "code",
   "execution_count": null,
   "id": "9f50591a-3570-4c90-a479-3f2ea49deb91",
   "metadata": {
    "tags": []
   },
   "outputs": [],
   "source": [
    "WL_BALMER_BREAK= 3646.0 \n",
    "NQUANTILES = 10\n",
    "quantiles = np.linspace(0,1,NQUANTILES+1)\n",
    "quantiles"
   ]
  },
  {
   "cell_type": "code",
   "execution_count": null,
   "id": "8e987577-e786-40e4-ba4a-324ddbc57f79",
   "metadata": {
    "tags": []
   },
   "outputs": [],
   "source": [
    "FLAG_REMOVE_RMAG0 = False"
   ]
  },
  {
   "cell_type": "code",
   "execution_count": null,
   "id": "d29faa5e-30e5-4161-a19f-01065a90d003",
   "metadata": {},
   "outputs": [],
   "source": [
    "input_file_h5  = 'data/FORS2spectra.hdf5'"
   ]
  },
  {
   "cell_type": "markdown",
   "id": "f69510dd-78da-48cf-bffb-b14694fc548b",
   "metadata": {},
   "source": [
    "## Start"
   ]
  },
  {
   "cell_type": "code",
   "execution_count": null,
   "id": "edaca853-9daa-42fe-b38a-e8edbca8a083",
   "metadata": {},
   "outputs": [],
   "source": [
    "cwd=os.path.abspath(\"\")\n",
    "main_dir = cwd\n",
    "print(f\"notebook current executing path : {cwd}\")"
   ]
  },
  {
   "cell_type": "markdown",
   "id": "aa3755d4-f2ab-41bf-a4f4-85b1cbdedd23",
   "metadata": {},
   "source": [
    "## READ file"
   ]
  },
  {
   "cell_type": "code",
   "execution_count": null,
   "id": "3d041f68-6770-48f5-b1a5-1b07a6f600d0",
   "metadata": {},
   "outputs": [],
   "source": [
    "hf =  h5py.File(input_file_h5, 'r') \n",
    "list_of_keys = list(hf.keys())"
   ]
  },
  {
   "cell_type": "code",
   "execution_count": null,
   "id": "734c7b99-7243-459c-8985-34100bc5bddb",
   "metadata": {},
   "outputs": [],
   "source": [
    "df_info = ReadFors2h5FileAttributes(hf)"
   ]
  },
  {
   "cell_type": "code",
   "execution_count": null,
   "id": "2cc06457-ae90-4cc3-8f81-a91b3862eb87",
   "metadata": {},
   "outputs": [],
   "source": [
    "df_info.sort_values(by=\"num\", ascending=True,inplace=True)"
   ]
  },
  {
   "cell_type": "code",
   "execution_count": null,
   "id": "b0aaafe8-f379-4fcf-bee3-0bedf48485be",
   "metadata": {},
   "outputs": [],
   "source": [
    "df_info.reset_index(drop=True, inplace=True) "
   ]
  },
  {
   "cell_type": "code",
   "execution_count": null,
   "id": "733454c1-519d-4599-9c8d-5dc4c116c9f6",
   "metadata": {},
   "outputs": [],
   "source": [
    "df_info_num = df_info[\"num\"].values"
   ]
  },
  {
   "cell_type": "code",
   "execution_count": null,
   "id": "9f33c42e-542f-40d5-937a-9ce45669e7c8",
   "metadata": {},
   "outputs": [],
   "source": [
    "key_tags = [ f\"SPEC{num}\" for num in df_info_num ]"
   ]
  },
  {
   "cell_type": "markdown",
   "id": "9c7b34bc-548e-41e2-adb6-21d1f8bf2a13",
   "metadata": {},
   "source": [
    "### Get dataset\n",
    "\n",
    "- wavelength and flux"
   ]
  },
  {
   "cell_type": "code",
   "execution_count": null,
   "id": "f0542366-4d21-424d-86a4-5d0c94198ae5",
   "metadata": {},
   "outputs": [],
   "source": [
    "all_df = []   \n",
    "idx=0\n",
    "for key in key_tags :\n",
    "    group = hf.get(key)\n",
    "    df = pd.DataFrame()\n",
    "    df[\"wl\"] = np.array(group.get(\"wl\"))\n",
    "    df[\"fl\"] = np.array(group.get(\"fl\")) \n",
    "    all_df.append(df)\n",
    "    idx+=1"
   ]
  },
  {
   "cell_type": "code",
   "execution_count": null,
   "id": "5980f7d0-83dc-4371-8c43-195348506c65",
   "metadata": {},
   "outputs": [],
   "source": [
    "idx=0\n",
    "fig = plt.figure(figsize=(10,6))\n",
    "ax=fig.add_subplot(1,1,1)\n",
    "ax.plot(all_df[idx][\"wl\"], all_df[idx][\"fl\"],'b-')\n",
    "ax.set_xlabel(\"$\\lambda  (\\AA)$ \")\n",
    "title = f\"FORS2 : {key_tags[idx]}\"\n",
    "ax.set_title(title)\n",
    "ax.set_ylabel(\"flux (maggies)\")"
   ]
  },
  {
   "cell_type": "markdown",
   "id": "4bff5f85-47d5-45eb-b83c-5c33a0c4fb36",
   "metadata": {},
   "source": [
    "# Plots"
   ]
  },
  {
   "cell_type": "markdown",
   "id": "454d5897-c58f-4a8c-b99a-28705150f80d",
   "metadata": {},
   "source": [
    "## Position of SL galaxies vs redshifts"
   ]
  },
  {
   "cell_type": "code",
   "execution_count": null,
   "id": "6b26cf4c-0c45-4dba-a7c8-c9eaa999510a",
   "metadata": {},
   "outputs": [],
   "source": [
    "fig = plt.figure(figsize=(5,4))\n",
    "ax = fig.add_subplot(1,1,1)\n",
    "#im = ax.scatter(all_ra,all_dec,c=all_colors2,s=10,marker=\"o\",alpha=0.5,cmap=jet2)\n",
    "im = ax.scatter(df_info.ra,df_info.dec,c=df_info.redshift,s=10,marker=\"o\",alpha=0.5,cmap=\"jet\")\n",
    "ax.grid()\n",
    "ax.set_xlabel(\"ra (deg)\")\n",
    "ax.set_ylabel(\"dec (deg)\")\n",
    "ax.set_title(\"Sky location of FORS2 galaxies\")\n",
    "cbar = fig.colorbar(im, ax=ax)\n",
    "cbar.set_label('redshift')"
   ]
  },
  {
   "cell_type": "markdown",
   "id": "f0e3d1c8-8e2d-4357-9846-acbcf3c523d5",
   "metadata": {},
   "source": [
    "## Position vs Redshift"
   ]
  },
  {
   "cell_type": "code",
   "execution_count": null,
   "id": "9e973a09-f0cb-4212-91f9-5d635051fd06",
   "metadata": {},
   "outputs": [],
   "source": [
    "fig, axes = plt.subplots(1, 2, figsize=(16, 6))\n",
    "for idx, ax in enumerate(axes.flatten()):\n",
    "    if idx == 0:\n",
    "        ax.hist(df_info.redshift,bins=50,facecolor=\"b\");\n",
    "        ax.set_xlabel(\"redshift\")\n",
    "    else:\n",
    "        im = ax.scatter(df_info.ra,df_info.dec,c=df_info.redshift,s=10,marker=\"o\",alpha=0.5,cmap=\"jet\")\n",
    "        cbar = fig.colorbar(im, ax=ax)\n",
    "        cbar.set_label('redshift')\n",
    "        ax.grid()\n",
    "        ax.set_xlabel(\"ra (deg)\")\n",
    "        ax.set_ylabel(\"dec (deg)\")\n",
    "        ax.set_title(\"Sky location of FORS2 galaxies\")\n",
    "        #fig.colorbar(im, ax=ax)\n",
    "plt.tight_layout()  \n",
    "plt.suptitle(\"redshift\",fontsize=20)"
   ]
  },
  {
   "cell_type": "code",
   "execution_count": null,
   "id": "33e21aef-04e1-44e4-96d2-ad7591185148",
   "metadata": {},
   "outputs": [],
   "source": [
    "index_selected=np.where(df_info.redshift<1)[0]"
   ]
  },
  {
   "cell_type": "code",
   "execution_count": null,
   "id": "c058c061-0869-4c8d-9374-0dbbccd4f8d9",
   "metadata": {},
   "outputs": [],
   "source": [
    "fig = plt.figure(figsize=(5,4))\n",
    "ax = fig.add_subplot(1,1,1)\n",
    "#im = ax.scatter(all_ra,all_dec,c=all_colors2,s=10,marker=\"o\",alpha=0.5,cmap=jet2)\n",
    "im = ax.scatter(df_info.ra.iloc[index_selected],df_info.dec.iloc[index_selected],c=df_info.redshift.iloc[index_selected],s=10,marker=\"o\",alpha=1,cmap=\"jet\")\n",
    "ax.grid()\n",
    "ax.set_xlabel(\"ra (deg)\")\n",
    "ax.set_ylabel(\"dec (deg)\")\n",
    "ax.set_title(\"Sky location of FORS2 galaxies\")\n",
    "cbar = fig.colorbar(im, ax=ax)\n",
    "cbar.set_label('redshift')"
   ]
  },
  {
   "cell_type": "markdown",
   "id": "6565b3dc-e106-41d0-a267-2d3588154134",
   "metadata": {},
   "source": [
    "# Plot on celestial maps\n",
    "https://learn.astropy.org/tutorials/plot-catalog.html"
   ]
  },
  {
   "cell_type": "code",
   "execution_count": null,
   "id": "d4cb2899-899f-4d2f-9072-fc653a2c5af5",
   "metadata": {},
   "outputs": [],
   "source": [
    "ra_toplot = coordinates.Angle(df_info.ra.iloc[index_selected].values*u.degree)\n",
    "ra_toplot = ra_toplot.wrap_at(180*u.degree)\n",
    "dec_toplot = coordinates.Angle(df_info.dec.iloc[index_selected].values*u.degree)\n",
    "redshifts_toplot = df_info.redshift.iloc[index_selected]"
   ]
  },
  {
   "cell_type": "code",
   "execution_count": null,
   "id": "f407fcf9-934c-4c43-88f7-a8dab757fcc1",
   "metadata": {},
   "outputs": [],
   "source": [
    "fig = plt.figure(figsize=(8,6))\n",
    "ax = fig.add_subplot(111, projection=\"mollweide\")\n",
    "ax.scatter(ra_toplot.radian, dec_toplot.radian,c=redshifts_toplot)\n",
    "ax.grid()"
   ]
  },
  {
   "cell_type": "code",
   "execution_count": null,
   "id": "5f043877-bd2d-4751-9d97-69bd4ecce97f",
   "metadata": {},
   "outputs": [],
   "source": [
    "fig = plt.figure(figsize=(8,6))\n",
    "ax = fig.add_subplot(111, projection=\"mollweide\")\n",
    "ax.scatter(ra_toplot.radian, dec_toplot.radian,c=redshifts_toplot)\n",
    "ax.set_xticklabels(['14h','16h','18h','20h','22h','0h','2h','4h','6h','8h','10h'])\n",
    "ax.grid(True)"
   ]
  },
  {
   "cell_type": "markdown",
   "id": "ad59b804-63fb-4d65-8137-244682921a73",
   "metadata": {},
   "source": [
    "# Position"
   ]
  },
  {
   "cell_type": "code",
   "execution_count": null,
   "id": "c666bf6f-6022-4da0-92c1-6b176a796502",
   "metadata": {},
   "outputs": [],
   "source": [
    "df_info.describe()"
   ]
  },
  {
   "cell_type": "code",
   "execution_count": null,
   "id": "cc42c369-9353-4989-a114-9defdbbb784e",
   "metadata": {
    "tags": []
   },
   "outputs": [],
   "source": [
    "ra_angle = Angle(df_info.ra.mean(), u.deg)\n",
    "dec_angle =  Angle(df_info.dec.mean(), u.deg)\n",
    "ra_radius_std = Angle(df_info.ra.std(),u.deg)\n",
    "dec_radius_std = Angle(df_info.dec.std(),u.deg)\n",
    "ra_radius_minmax = Angle((df_info.ra.max()-df_info.ra.min())/2.,u.deg)\n",
    "dec_radius_minmax = Angle((df_info.dec.max()-df_info.dec.min())/2.,u.deg)"
   ]
  },
  {
   "cell_type": "code",
   "execution_count": null,
   "id": "bc4d4d90-33ab-499e-b3ca-020c787a54d5",
   "metadata": {},
   "outputs": [],
   "source": [
    "ra_angle"
   ]
  },
  {
   "cell_type": "code",
   "execution_count": null,
   "id": "f6f161c6-7ff3-4f15-8e66-10e38f1a14df",
   "metadata": {
    "tags": []
   },
   "outputs": [],
   "source": [
    "dec_angle"
   ]
  },
  {
   "cell_type": "code",
   "execution_count": null,
   "id": "ac8015c0-068f-4a3f-8493-d0a720335f36",
   "metadata": {},
   "outputs": [],
   "source": [
    "ra_radius_minmax.arcmin"
   ]
  },
  {
   "cell_type": "code",
   "execution_count": null,
   "id": "62885fac-1a08-4137-9e10-44f284a78440",
   "metadata": {},
   "outputs": [],
   "source": [
    "dec_radius_minmax.arcmin"
   ]
  },
  {
   "cell_type": "markdown",
   "id": "7e8902e0-a261-475c-8613-8774799e9001",
   "metadata": {},
   "source": [
    "## Position of galaxies vs Rmag"
   ]
  },
  {
   "cell_type": "code",
   "execution_count": null,
   "id": "38f50085-2069-4440-b10a-a8055cc1b3b1",
   "metadata": {
    "tags": []
   },
   "outputs": [],
   "source": [
    "fig, axes = plt.subplots(1, 2, figsize=(16, 6))\n",
    "for idx, ax in enumerate(axes.flatten()):\n",
    "    if idx == 0:\n",
    "        ax.hist(df_info.Rmag,bins=50,facecolor=\"b\");\n",
    "        ax.set_xlabel(\"Rmag\")\n",
    "    else:\n",
    "        im = ax.scatter(df_info.ra,df_info.dec,c=df_info.Rmag,s=10,marker=\"o\",alpha=0.5,cmap=\"jet\")\n",
    "        cbar = fig.colorbar(im, ax=ax)\n",
    "        cbar.set_label('Rmag')\n",
    "        ax.grid()\n",
    "        ax.set_xlabel(\"ra (deg)\")\n",
    "        ax.set_ylabel(\"dec (deg)\")\n",
    "        ax.set_title(\"Sky location of FORS2 galaxies\")\n",
    "        #fig.colorbar(im, ax=ax)\n",
    "plt.tight_layout() \n",
    "plt.suptitle(\"Rmag\",fontsize=20)"
   ]
  },
  {
   "cell_type": "markdown",
   "id": "078e0c33-d9eb-40b5-9f01-c975fdd98acf",
   "metadata": {},
   "source": [
    "# In SkyView"
   ]
  },
  {
   "cell_type": "code",
   "execution_count": null,
   "id": "361cd406-ec51-46f7-9329-192acaf5feea",
   "metadata": {
    "tags": []
   },
   "outputs": [],
   "source": [
    "SkyView().get_image_list(position='RXJ0054.0-2823',survey=['DSS','GALEX Near UV'])"
   ]
  },
  {
   "cell_type": "markdown",
   "id": "6cf6b2a0-ff72-4453-b01a-6db4c58ebb6b",
   "metadata": {},
   "source": [
    "## DSS"
   ]
  },
  {
   "cell_type": "code",
   "execution_count": null,
   "id": "d8346d46-007a-4cb0-b9ea-d27f16a1e3f6",
   "metadata": {
    "tags": []
   },
   "outputs": [],
   "source": [
    "all_img = SkyViewClass().get_images(position='RXJ0054.0-2823',survey=['DSS'],radius=0.5*u.deg)"
   ]
  },
  {
   "cell_type": "code",
   "execution_count": null,
   "id": "43882d89-9448-4641-a4ba-880b512efce1",
   "metadata": {
    "tags": []
   },
   "outputs": [],
   "source": [
    "the_img = all_img[0]"
   ]
  },
  {
   "cell_type": "code",
   "execution_count": null,
   "id": "5074f3dd-e42d-4f1e-bbc0-c4227b7dfeb2",
   "metadata": {
    "tags": []
   },
   "outputs": [],
   "source": [
    "the_img[0].header"
   ]
  },
  {
   "cell_type": "code",
   "execution_count": null,
   "id": "f083a2aa-351c-4b0e-92b1-a10645643996",
   "metadata": {
    "tags": []
   },
   "outputs": [],
   "source": [
    "wcs = WCS(the_img[0].header)"
   ]
  },
  {
   "cell_type": "code",
   "execution_count": null,
   "id": "5067199f-c2ae-4a50-a562-45bdac20a873",
   "metadata": {
    "tags": []
   },
   "outputs": [],
   "source": [
    "fig = plt.figure(figsize=(10,10))\n",
    "#fig.set_figheight(15)\n",
    "#fig.set_figwidth(15)\n",
    "ax = fig.add_subplot(1,1,1)\n",
    "ax.imshow(the_img[0].data,origin='lower')\n",
    "plt.show()"
   ]
  },
  {
   "cell_type": "code",
   "execution_count": null,
   "id": "ac71df7f-cf05-4b92-a54d-7c8f8bc55a84",
   "metadata": {
    "tags": []
   },
   "outputs": [],
   "source": [
    "fig=plt.figure(figsize=(10,10))\n",
    "ax = plt.subplot(projection=wcs)\n",
    "ax.imshow(the_img[0].data, origin='lower')\n",
    "overlay = ax.get_coords_overlay('icrs')\n",
    "overlay.grid(color='white', ls='dotted')\n",
    "ax.set_title(\"DSS\")"
   ]
  },
  {
   "cell_type": "code",
   "execution_count": null,
   "id": "feb3bd7b-924a-48e9-b1a2-c5d5e807f7c1",
   "metadata": {},
   "outputs": [],
   "source": [
    "fig=plt.figure(figsize=(10,10))\n",
    "ax = plt.subplot(projection=wcs)\n",
    "ax.imshow(the_img[0].data, origin='lower')\n",
    "overlay = ax.get_coords_overlay('icrs')\n",
    "overlay.grid(color='white', ls='dotted')\n",
    "\n",
    "ax.scatter(ra_toplot.deg, dec_toplot.deg, transform=ax.get_transform('icrs'),c='r',s=10)\n",
    "ax.set_title(\"FORS2 and DSS\")"
   ]
  },
  {
   "cell_type": "markdown",
   "id": "4c52845e-47fc-4a88-ad26-d559bd134218",
   "metadata": {},
   "source": [
    "## GALEX"
   ]
  },
  {
   "cell_type": "code",
   "execution_count": null,
   "id": "4525bd50-e29e-4993-9eec-4b6698ea3fe7",
   "metadata": {},
   "outputs": [],
   "source": [
    "all_img = SkyViewClass().get_images(position='RXJ0054.0-2823',survey=['GALEX Near UV'],radius=0.5*u.deg)\n",
    "the_img = all_img[0]"
   ]
  },
  {
   "cell_type": "code",
   "execution_count": null,
   "id": "5a0982fe-5ec7-451f-a410-0a86ca2e416f",
   "metadata": {},
   "outputs": [],
   "source": [
    "wcs = WCS(the_img[0].header)"
   ]
  },
  {
   "cell_type": "code",
   "execution_count": null,
   "id": "6ac3e6ff-7b83-4e4d-832e-1ba1bbf4d7ff",
   "metadata": {},
   "outputs": [],
   "source": [
    "from astropy.visualization import (MinMaxInterval, SqrtStretch,ImageNormalize,ManualInterval, PercentileInterval, AsymmetricPercentileInterval,ZScaleInterval)\n",
    "                        \n",
    "from astropy.visualization.stretch import SinhStretch, LinearStretch,SqrtStretch,LogStretch\n",
    "interval = ZScaleInterval()\n",
    "transform = SqrtStretch() + ZScaleInterval()\n",
    "\n",
    "from matplotlib.colors import LogNorm\n",
    "\n",
    "norm = ImageNormalize(the_img[0].data, interval = MinMaxInterval(), stretch=LogStretch())\n"
   ]
  },
  {
   "cell_type": "code",
   "execution_count": null,
   "id": "d050c560-4d92-4a6c-a52b-46c7d17eb3eb",
   "metadata": {},
   "outputs": [],
   "source": [
    "fig=plt.figure(figsize=(10,10))\n",
    "ax = plt.subplot(projection=wcs)\n",
    "ax.imshow(the_img[0].data, origin='lower',norm=norm)\n",
    "overlay = ax.get_coords_overlay('icrs')\n",
    "overlay.grid(color='white', ls='dotted')\n",
    "ax.set_title(\"GALEX Near UV\")"
   ]
  },
  {
   "cell_type": "code",
   "execution_count": null,
   "id": "9518c243-d6ea-4290-a334-67fbb8872fe9",
   "metadata": {},
   "outputs": [],
   "source": [
    "fig=plt.figure(figsize=(10,10))\n",
    "ax = plt.subplot(projection=wcs)\n",
    "ax.imshow(the_img[0].data, origin='lower',norm=norm)\n",
    "overlay = ax.get_coords_overlay('icrs')\n",
    "overlay.grid(color='white', ls='dotted')\n",
    "ax.scatter(ra_toplot.deg, dec_toplot.deg, transform=ax.get_transform('icrs'),c='r',s=10)\n",
    "ax.set_title(\"FORS2 and GALEX Near UV\")"
   ]
  },
  {
   "cell_type": "markdown",
   "id": "e30c09bf-1555-419e-8dab-aaddf45e692d",
   "metadata": {},
   "source": [
    "## MAST Missions"
   ]
  },
  {
   "cell_type": "code",
   "execution_count": null,
   "id": "dfa1523a-87c4-4402-8639-c45384c27da4",
   "metadata": {
    "tags": []
   },
   "outputs": [],
   "source": [
    "ra_angle"
   ]
  },
  {
   "cell_type": "code",
   "execution_count": null,
   "id": "2bcf3fae-f8bf-4751-b1cc-675f9cbc7023",
   "metadata": {
    "tags": []
   },
   "outputs": [],
   "source": [
    "dec_angle"
   ]
  },
  {
   "cell_type": "code",
   "execution_count": null,
   "id": "a2aacf67-f9d9-4f54-b6b6-2606877ee359",
   "metadata": {
    "tags": []
   },
   "outputs": [],
   "source": [
    "from astroquery.mast import MastMissions\n",
    "\n",
    "missions = MastMissions()"
   ]
  },
  {
   "cell_type": "code",
   "execution_count": null,
   "id": "70c51e86-fb1a-4f96-8dde-550d9a12e4cc",
   "metadata": {
    "tags": []
   },
   "outputs": [],
   "source": [
    "missions.mission"
   ]
  },
  {
   "cell_type": "markdown",
   "id": "c046260e-ca66-4caa-a04a-1fd1d62eb4b4",
   "metadata": {},
   "source": [
    "# Surveys\n",
    "https://astroquery.readthedocs.io/en/latest/skyview/skyview.html"
   ]
  },
  {
   "cell_type": "code",
   "execution_count": null,
   "id": "5b161106-cafc-4472-9833-d7aca69cde6a",
   "metadata": {
    "tags": []
   },
   "outputs": [],
   "source": [
    "SkyView.list_surveys() "
   ]
  },
  {
   "cell_type": "markdown",
   "id": "dda47f25-884c-4b64-b026-c0607a0c6bd1",
   "metadata": {},
   "source": [
    "# SDSS\n",
    "\n",
    "https://astroquery.readthedocs.io/en/latest/sdss/sdss.html"
   ]
  },
  {
   "cell_type": "code",
   "execution_count": null,
   "id": "88c4ca11-a699-4dd3-8449-1d6ae02ea3fa",
   "metadata": {},
   "outputs": [],
   "source": [
    "coords = coordinates.SkyCoord(df_info.ra.mean(),df_info.dec.mean(), unit=\"deg\")  # defaults to ICRS frame"
   ]
  },
  {
   "cell_type": "code",
   "execution_count": null,
   "id": "653da18e-4333-4409-a89c-aa7d6ab67883",
   "metadata": {},
   "outputs": [],
   "source": [
    "th1 = (df_info.ra.max()-df_info.ra.min())/2."
   ]
  },
  {
   "cell_type": "code",
   "execution_count": null,
   "id": "aaadc0ff-02ef-4ed2-99bf-74e9b16316f0",
   "metadata": {},
   "outputs": [],
   "source": [
    "th2 = (df_info.dec.max()-df_info.dec.min())/2."
   ]
  },
  {
   "cell_type": "code",
   "execution_count": null,
   "id": "3e6e14d1-9b84-45dc-a552-63ded33f1df6",
   "metadata": {},
   "outputs": [],
   "source": [
    "max_radius = Angle(max(th1,th2),u.deg)"
   ]
  },
  {
   "cell_type": "code",
   "execution_count": null,
   "id": "fe36fc99-79b8-4ed0-a90f-2b5c16f7ff88",
   "metadata": {},
   "outputs": [],
   "source": [
    "max_radius"
   ]
  },
  {
   "cell_type": "code",
   "execution_count": null,
   "id": "e106bd5c-5be8-41f7-9cd6-1e70dc44a2d5",
   "metadata": {},
   "outputs": [],
   "source": [
    "result_spectro = SDSS.query_region(coords,radius = max_radius, spectro=True )\n",
    "results = SDSS.query_region(coords)"
   ]
  },
  {
   "cell_type": "code",
   "execution_count": null,
   "id": "a199c5bc-2f5e-4442-9ef1-17c7d98ad4e2",
   "metadata": {},
   "outputs": [],
   "source": [
    "coordinates.SkyCoord('0h8m05.63s +14d50m23.3s')"
   ]
  },
  {
   "cell_type": "code",
   "execution_count": null,
   "id": "8093755a-3d4e-47aa-8f99-b047f693d35a",
   "metadata": {},
   "outputs": [],
   "source": [
    "results = SDSS.query_region(coordinates.SkyCoord('0h8m05.63s +14d50m23.3s'),spectro=True)"
   ]
  },
  {
   "cell_type": "code",
   "execution_count": null,
   "id": "f68bc951-e399-46b0-a298-070cfa8bee18",
   "metadata": {},
   "outputs": [],
   "source": [
    "results"
   ]
  },
  {
   "cell_type": "code",
   "execution_count": null,
   "id": "042f5d7d-ff2b-4475-a043-bd6f2f66cf52",
   "metadata": {},
   "outputs": [],
   "source": [
    "pos = coordinates.SkyCoord('0h8m05.63s +14d50m23.3s', frame='icrs')\n",
    "xid = SDSS.query_region(pos, radius='5 arcsec', spectro=True)\n",
    "print(xid)"
   ]
  },
  {
   "cell_type": "code",
   "execution_count": null,
   "id": "75db36ea-83eb-4b7b-873b-a77d6f2c91cd",
   "metadata": {},
   "outputs": [],
   "source": [
    "redshift = xid['z'][0]\n",
    "redshift"
   ]
  },
  {
   "cell_type": "code",
   "execution_count": null,
   "id": "f3174362-7d54-48ad-857a-b41f7be10bbb",
   "metadata": {},
   "outputs": [],
   "source": [
    "sp = SDSS.get_spectra(matches=xid)\n",
    "im = SDSS.get_images(matches=xid, band='g')"
   ]
  },
  {
   "cell_type": "markdown",
   "id": "76e409e1-80be-4977-9a96-1440e4ef822b",
   "metadata": {},
   "source": [
    "`sp[0]` stores all the files related to the spectra for the object of interest. This is actually an array of several HDU in the FITS format "
   ]
  },
  {
   "cell_type": "markdown",
   "id": "560bc0c9-227d-4226-81f6-6e25dac59b1d",
   "metadata": {},
   "source": [
    "The spectrum is stored as a table in the second item of the list. That means that we can get the Table doing the following"
   ]
  },
  {
   "cell_type": "code",
   "execution_count": null,
   "id": "2afe7c7e-649b-484c-94b5-a6a3354e7a43",
   "metadata": {},
   "outputs": [],
   "source": [
    "spectra_data = sp[0][1].data"
   ]
  },
  {
   "cell_type": "code",
   "execution_count": null,
   "id": "5fbef2d4-c852-4c8f-845a-3ece7cc51a8d",
   "metadata": {},
   "outputs": [],
   "source": [
    "spectra_data"
   ]
  },
  {
   "cell_type": "code",
   "execution_count": null,
   "id": "66f5580d-a943-4fa0-843a-a4fefba64d39",
   "metadata": {},
   "outputs": [],
   "source": [
    "spectra_data.shape"
   ]
  },
  {
   "cell_type": "code",
   "execution_count": null,
   "id": "bcdd56e2-94cd-4968-806a-1a3e8f3e88d8",
   "metadata": {},
   "outputs": [],
   "source": [
    "plt.plot(10**spectra_data['loglam'], spectra_data['flux'])\n",
    "plt.xlabel('wavelenght (Angstrom)')\n",
    "plt.ylabel('flux (nanomaggies)')\n",
    "plt.title('SDSS spectra')"
   ]
  },
  {
   "cell_type": "code",
   "execution_count": null,
   "id": "9f044b55-22d8-4be5-89f9-f0268aefeb1f",
   "metadata": {},
   "outputs": [],
   "source": [
    "lines = sp[0][3].data"
   ]
  },
  {
   "cell_type": "code",
   "execution_count": null,
   "id": "6a2f6f02-9321-4cdc-b8f7-7f0111f13166",
   "metadata": {},
   "outputs": [],
   "source": [
    "lines['LINENAME']"
   ]
  },
  {
   "cell_type": "code",
   "execution_count": null,
   "id": "3e8ae6a6-02ce-48bd-8254-932c26510bcf",
   "metadata": {},
   "outputs": [],
   "source": [
    "for n in ['[O_II] 3727', '[O_III] 5007', 'H_alpha']:\n",
    "    print(n, \" ->\", lines['LINEWAVE'][lines['LINENAME']==n])"
   ]
  },
  {
   "cell_type": "code",
   "execution_count": null,
   "id": "efd1461f-670b-498a-9b45-7ba0ecb76124",
   "metadata": {},
   "outputs": [],
   "source": [
    "plt.plot(10**spectra_data['loglam']/(1+redshift), spectra_data['flux'], color='black')\n",
    "plt.axvline(x=lines['LINEWAVE'][lines['LINENAME']=='[O_II] 3727'], label=r'O[II]', color='blue')\n",
    "plt.axvline(x=lines['LINEWAVE'][lines['LINENAME']=='[O_III] 5007'], label=r'O[III]', color='red')\n",
    "plt.axvline(x=lines['LINEWAVE'][lines['LINENAME']=='H_alpha'], label=r'H$\\alpha$', color='green')\n",
    "\n",
    "plt.xlabel('wavelenght (Angstrom)')\n",
    "plt.ylabel('flux (nanomaggies)')\n",
    "plt.title('SDSS spectrum')\n",
    "plt.legend()"
   ]
  },
  {
   "cell_type": "code",
   "execution_count": null,
   "id": "1cb07932-ae35-4b29-ae39-d5490128faf0",
   "metadata": {},
   "outputs": [],
   "source": [
    "sp[0].info()"
   ]
  },
  {
   "cell_type": "code",
   "execution_count": null,
   "id": "491dcdbf-2398-4589-98af-c94ddf0e4bb2",
   "metadata": {},
   "outputs": [],
   "source": [
    "sp[0][2].data"
   ]
  },
  {
   "cell_type": "code",
   "execution_count": null,
   "id": "c8d3a84d-bb33-4e04-a37c-07a9edea9349",
   "metadata": {},
   "outputs": [],
   "source": [
    "xid = SDSS.query_region(pos, radius='5 arcmin', spectro=True)"
   ]
  },
  {
   "cell_type": "code",
   "execution_count": null,
   "id": "57a24b13-aad4-443c-a753-93aa8585c585",
   "metadata": {},
   "outputs": [],
   "source": [
    "print(xid)"
   ]
  },
  {
   "cell_type": "code",
   "execution_count": null,
   "id": "6cd8b7e0-451b-48dc-b961-9ee62375f571",
   "metadata": {},
   "outputs": [],
   "source": [
    "sp = SDSS.get_spectra(matches=xid)"
   ]
  },
  {
   "cell_type": "code",
   "execution_count": null,
   "id": "3234e82f-391e-4da9-bbcc-c4bc7e663bf7",
   "metadata": {},
   "outputs": [],
   "source": [
    "sp[2]"
   ]
  },
  {
   "cell_type": "code",
   "execution_count": null,
   "id": "e733cbe2-bdee-4019-afc6-12e079d942a4",
   "metadata": {},
   "outputs": [],
   "source": []
  }
 ],
 "metadata": {
  "kernelspec": {
   "display_name": "Python 3 (ipykernel)",
   "language": "python",
   "name": "python3"
  },
  "language_info": {
   "codemirror_mode": {
    "name": "ipython",
    "version": 3
   },
   "file_extension": ".py",
   "mimetype": "text/x-python",
   "name": "python",
   "nbconvert_exporter": "python",
   "pygments_lexer": "ipython3",
   "version": "3.9.15"
  },
  "toc": {
   "base_numbering": 1,
   "nav_menu": {},
   "number_sections": true,
   "sideBar": true,
   "skip_h1_title": false,
   "title_cell": "Table of Contents",
   "title_sidebar": "Contents",
   "toc_cell": false,
   "toc_position": {},
   "toc_section_display": true,
   "toc_window_display": false
  }
 },
 "nbformat": 4,
 "nbformat_minor": 5
}
