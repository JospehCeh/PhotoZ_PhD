{
 "cells": [
  {
   "cell_type": "markdown",
   "id": "a55f2f1d-dd9d-4543-8920-42e396589620",
   "metadata": {},
   "source": [
    "# Develop a tool to read a data from Merged Fors2, Galex and Kids\n",
    "\n",
    "\n",
    "- author Sylvie Dagoret-Campagne\n",
    "- affiliation : IJCLab/IN2P3/CNRS\n",
    "- creation date : 2023-06-13\n",
    "- update : 2023-06-13\n",
    "\n",
    "\n",
    "From this mergin work on spectra and photometry can start"
   ]
  },
  {
   "cell_type": "code",
   "execution_count": null,
   "id": "86d8579e-d431-4726-a93c-ed11b06d21b3",
   "metadata": {},
   "outputs": [],
   "source": [
    "import h5py\n",
    "import pandas as pd\n",
    "import numpy as np\n",
    "import os\n",
    "from astropy.io import fits\n",
    "from astropy.table import Table\n",
    "import matplotlib.pyplot as plt\n",
    "from collections import OrderedDict"
   ]
  },
  {
   "cell_type": "code",
   "execution_count": null,
   "id": "e5685384-b8cd-47f1-b23e-803a8ba872a0",
   "metadata": {},
   "outputs": [],
   "source": [
    "ordered_keys = ['name','num','ra','dec', 'redshift','Rmag','RT', 'RV','eRV','Nsp','lines',\n",
    "                'ra_galex','dec_galex','fuv_mag', 'fuv_magerr','nuv_mag', 'nuv_magerr', \n",
    "                'fuv_flux', 'fuv_fluxerr','fuv_flux', 'fuv_fluxerr','asep_galex',\n",
    "                'ID', 'KIDS_TILE','RAJ2000','DECJ2000','Z_ML', 'Z_B','asep_kids','CLASS_STAR',\n",
    "                'MAG_GAAP_u','MAG_GAAP_g','MAG_GAAP_r','MAG_GAAP_i','MAG_GAAP_Z','MAG_GAAP_Y','MAG_GAAP_J', 'MAG_GAAP_H','MAG_GAAP_Ks',\n",
    "                'MAGERR_GAAP_u','MAGERR_GAAP_g','MAGERR_GAAP_r','MAGERR_GAAP_i','MAGERR_GAAP_Z','MAGERR_GAAP_Y','MAGERR_GAAP_J','MAGERR_GAAP_H','MAGERR_GAAP_Ks',\n",
    "                'FLUX_GAAP_u','FLUX_GAAP_g','FLUX_GAAP_r','FLUX_GAAP_i','FLUX_GAAP_Z','FLUX_GAAP_Y','FLUX_GAAP_J', 'FLUX_GAAP_H','FLUX_GAAP_Ks',\n",
    "                'FLUXERR_GAAP_u','FLUXERR_GAAP_g','FLUXERR_GAAP_r','FLUXERR_GAAP_i','FLUXERR_GAAP_Z','FLUXERR_GAAP_Y','FLUXERR_GAAP_J','FLUXERR_GAAP_H','FLUXERR_GAAP_Ks',\n",
    "                'FLUX_RADIUS', 'EXTINCTION_u','EXTINCTION_g','EXTINCTION_r', 'EXTINCTION_i',]\n",
    "                "
   ]
  },
  {
   "cell_type": "code",
   "execution_count": null,
   "id": "7d0d87da-4bdd-4bc6-8cca-7f8f03adf942",
   "metadata": {},
   "outputs": [],
   "source": [
    "class Fors2DataAcess(object):\n",
    "    def __init__(self,filename):\n",
    "        if os.path.isfile(filename):\n",
    "            self.hf = h5py.File(filename, 'r')\n",
    "            self.list_of_groupkeys = list(self.hf.keys())      \n",
    "             # pick one key    \n",
    "            key_sel =  self.list_of_groupkeys[0]\n",
    "            # pick one group\n",
    "            group = self.hf.get(key_sel)  \n",
    "            #pickup all attribute names\n",
    "            self.list_of_subgroup_keys = []\n",
    "            for k in group.attrs.keys():\n",
    "                self.list_of_subgroup_keys.append(k)\n",
    "        else:\n",
    "            self.hf = None\n",
    "            self.list_of_groupkeys = []\n",
    "            self.list_of_subgroup_keys = []\n",
    "    def close_file(self):\n",
    "        self.hf.close() \n",
    "        \n",
    "    def get_list_of_groupkeys(self):\n",
    "        return self.list_of_groupkeys \n",
    "    def get_list_subgroup_keys(self):\n",
    "        return self.list_of_subgroup_keys\n",
    "    def getattribdata_fromgroup(self,groupname):\n",
    "        attr_dict = OrderedDict()\n",
    "        if groupname in self.list_of_groupkeys:       \n",
    "            group = self.hf.get(groupname)  \n",
    "            for  nameval in self.list_of_subgroup_keys:\n",
    "                attr_dict[nameval] = group.attrs[nameval]\n",
    "        else:\n",
    "            print(f'getattribdata_fromgroup : No group {groupname}')\n",
    "        return attr_dict\n",
    "    def getspectrum_fromgroup(self,groupname):\n",
    "        spec_dict = {}\n",
    "        if groupname in self.list_of_groupkeys:       \n",
    "            group = self.hf.get(groupname)  \n",
    "            wl = np.array(group.get(\"wl\"))\n",
    "            fl = np.array(group.get(\"fl\")) \n",
    "            spec_dict[\"wl\"] = wl\n",
    "            spec_dict[\"fl\"] = fl\n",
    "        else:\n",
    "            print(f'getspectrum_fromgroup : No group {groupname}')\n",
    "        return spec_dict\n",
    "        "
   ]
  },
  {
   "cell_type": "markdown",
   "id": "3eb43406-736f-4056-8cde-5dc8ea29207c",
   "metadata": {},
   "source": [
    "# Read Fors2 / Galex and Kids"
   ]
  },
  {
   "cell_type": "code",
   "execution_count": null,
   "id": "ed720355-38fc-40fb-a312-f75684eb0502",
   "metadata": {},
   "outputs": [],
   "source": [
    "input_file_h5  = '../data/FORS2spectraGalexKidsPhotom.hdf5'"
   ]
  },
  {
   "cell_type": "code",
   "execution_count": null,
   "id": "ab2bed50-b906-4bb7-879f-64d1a29f526f",
   "metadata": {},
   "outputs": [],
   "source": [
    "fors2 = Fors2DataAcess(input_file_h5)"
   ]
  },
  {
   "cell_type": "code",
   "execution_count": null,
   "id": "d3b610fc-ace0-428c-aabe-ec635ada1822",
   "metadata": {},
   "outputs": [],
   "source": [
    "list_of_keys = fors2.get_list_of_groupkeys()\n",
    "list_of_attributes = fors2.get_list_subgroup_keys()"
   ]
  },
  {
   "cell_type": "code",
   "execution_count": null,
   "id": "0c1dea28-2df9-49c0-a987-75f30ac41013",
   "metadata": {},
   "outputs": [],
   "source": [
    "# fors2.getattribdata_fromgroup('SPEC102')"
   ]
  },
  {
   "cell_type": "code",
   "execution_count": null,
   "id": "3b3af11c-d63c-4c51-8c23-e27a21fe4b37",
   "metadata": {},
   "outputs": [],
   "source": [
    "# fors2.getspectrum_fromgroup('SPEC102')"
   ]
  },
  {
   "cell_type": "code",
   "execution_count": null,
   "id": "0f68ac0e-cda1-4e26-a9b2-a790e85f6b24",
   "metadata": {},
   "outputs": [],
   "source": [
    "df_info = pd.DataFrame(columns=list_of_attributes)\n",
    "all_df = []"
   ]
  },
  {
   "cell_type": "code",
   "execution_count": null,
   "id": "0c308a6e-e2e8-4098-a0ea-ff749ba78ff1",
   "metadata": {},
   "outputs": [],
   "source": [
    "for idx,key in enumerate(list_of_keys):\n",
    "    attrs = fors2.getattribdata_fromgroup(key)\n",
    "    spectr = fors2.getspectrum_fromgroup(key)\n",
    "    df_info.loc[idx] = [*attrs.values()] # hope the order of attributes is kept\n",
    "    df = pd.DataFrame({\"wl\":spectr[\"wl\"],\"fl\":spectr[\"fl\"]})\n",
    "    all_df.append(df)\n",
    "    \n",
    "    "
   ]
  },
  {
   "cell_type": "code",
   "execution_count": null,
   "id": "8396f46f-ec2e-4864-b0b8-b23f6a1726de",
   "metadata": {},
   "outputs": [],
   "source": [
    "df_info = df_info[ordered_keys]"
   ]
  },
  {
   "cell_type": "code",
   "execution_count": null,
   "id": "e8614f73-9250-45cf-a1ed-eda1e8945d6e",
   "metadata": {},
   "outputs": [],
   "source": [
    "df_info"
   ]
  },
  {
   "cell_type": "markdown",
   "id": "d991a27b-ac2e-4aed-a1cb-e8fea950b665",
   "metadata": {},
   "source": [
    "# Select good match with galex"
   ]
  },
  {
   "cell_type": "code",
   "execution_count": null,
   "id": "e07cac2d-dcde-4966-9f23-87d2ec65c9d7",
   "metadata": {},
   "outputs": [],
   "source": [
    "df_info.hist(\"asep_galex\",bins=100,color=\"b\")"
   ]
  },
  {
   "cell_type": "code",
   "execution_count": null,
   "id": "25aa5d63-2834-4408-b7ae-b92e4040fe01",
   "metadata": {},
   "outputs": [],
   "source": [
    "df_info.hist(\"asep_kids\",bins=100,color='b')"
   ]
  },
  {
   "cell_type": "markdown",
   "id": "5a74a09b-60ff-410b-85c9-d86119453f15",
   "metadata": {},
   "source": [
    "## Select  Those spectra having GALEX"
   ]
  },
  {
   "cell_type": "code",
   "execution_count": null,
   "id": "9b5a0a04-ee75-4767-80e5-184441d77cb0",
   "metadata": {},
   "outputs": [],
   "source": [
    "df = df_info[df_info[\"asep_galex\"] < 5]"
   ]
  },
  {
   "cell_type": "code",
   "execution_count": null,
   "id": "ff36b1a1-043d-4b89-b8c1-0f5faf3bcdd4",
   "metadata": {},
   "outputs": [],
   "source": [
    "df.index"
   ]
  },
  {
   "cell_type": "markdown",
   "id": "edfba9aa-e171-4960-838f-7de362fdf329",
   "metadata": {},
   "source": [
    "## Remove NaN\n",
    "\n",
    "- remove those row with no FUV"
   ]
  },
  {
   "cell_type": "code",
   "execution_count": null,
   "id": "fa83d828-b7ce-4b6f-807a-3a01bc544bc4",
   "metadata": {},
   "outputs": [],
   "source": [
    "#df = df.dropna()"
   ]
  },
  {
   "cell_type": "markdown",
   "id": "62c5526b-1aeb-42fd-83e7-82f7f46977ba",
   "metadata": {},
   "source": [
    "## Remove rows with Rmag = 0"
   ]
  },
  {
   "cell_type": "code",
   "execution_count": null,
   "id": "6cc699d7-2109-4efd-b1f3-ac1e41d02d38",
   "metadata": {},
   "outputs": [],
   "source": [
    "#df = df[df[\"Rmag\"] > 0]"
   ]
  },
  {
   "cell_type": "code",
   "execution_count": null,
   "id": "7b427ecd-c048-4304-bc0b-515945052440",
   "metadata": {},
   "outputs": [],
   "source": []
  },
  {
   "cell_type": "markdown",
   "id": "ec49bc25-c7fc-42d3-b758-9872342cebde",
   "metadata": {},
   "source": [
    "# Plot Spectra\n",
    "\n",
    "https://en.wikipedia.org/wiki/Photometric_system"
   ]
  },
  {
   "cell_type": "code",
   "execution_count": null,
   "id": "2a03ba47-aadb-4df8-bb89-1b71e58c173e",
   "metadata": {},
   "outputs": [],
   "source": [
    "lambda_FUV = 1528.\n",
    "lambda_NUV = 2271.\n",
    "lambda_U = 3650.\n",
    "lambda_B = 4450.\n",
    "lambda_G = 4640.\n",
    "lambda_R = 5580.\n",
    "lambda_I = 8060.\n",
    "lambda_Z = 9000.\n",
    "lambda_Y = 10200.\n",
    "lambda_J = 12200.\n",
    "lambda_H = 16300.\n",
    "lambda_K = 21900.\n",
    "lambda_L = 34500.\n",
    "\n",
    "WL = [lambda_FUV, lambda_NUV, lambda_B, lambda_G, lambda_R ,lambda_I, lambda_Z, lambda_Y, lambda_J, lambda_H, lambda_K ]"
   ]
  },
  {
   "cell_type": "code",
   "execution_count": null,
   "id": "f301a2bb-36b6-4b63-9e10-d1ccaa93330d",
   "metadata": {},
   "outputs": [],
   "source": [
    "df"
   ]
  },
  {
   "cell_type": "code",
   "execution_count": null,
   "id": "fbe6dcf6-3199-4adf-a0f7-ccc43150e8f3",
   "metadata": {},
   "outputs": [],
   "source": [
    "df.columns"
   ]
  },
  {
   "cell_type": "markdown",
   "id": "ec063180-4bfd-44ae-9b74-7734b36eca10",
   "metadata": {},
   "source": [
    "# Plot"
   ]
  },
  {
   "cell_type": "markdown",
   "id": "1b832b6e-d054-4364-97f1-b793b7043a47",
   "metadata": {},
   "source": [
    "## Plot Magnitude correlation"
   ]
  },
  {
   "cell_type": "code",
   "execution_count": null,
   "id": "a820c984-a82a-48cd-9488-6c0cc1a409c2",
   "metadata": {},
   "outputs": [],
   "source": [
    "df_rmag = df[df[\"Rmag\"] > 0]"
   ]
  },
  {
   "cell_type": "code",
   "execution_count": null,
   "id": "aada0e7a-a353-4422-bd8c-231dba8195aa",
   "metadata": {},
   "outputs": [],
   "source": [
    "df_rmag.plot.scatter(x=\"Rmag\",y=\"MAG_GAAP_r\",color=\"b\",title=\"Kids R magnitude vs Fors2 R Petrosian magnitude\",grid=True)"
   ]
  },
  {
   "cell_type": "markdown",
   "id": "f77583d8-77a7-4563-b6c6-8b4558d634fe",
   "metadata": {},
   "source": [
    "# Plots"
   ]
  },
  {
   "cell_type": "code",
   "execution_count": null,
   "id": "c585224c-3762-4ce1-8365-a1364b611d46",
   "metadata": {},
   "outputs": [],
   "source": [
    "# loop on rows\n",
    "\n",
    "for idx,row in df.iterrows():\n",
    "    print(idx,\" == \",row[\"num\"],row.index)\n",
    "    \n",
    "    mags = [ row[\"fuv_mag\"], row[\"nuv_mag\"], row['MAG_GAAP_u'], row['MAG_GAAP_g'], row['MAG_GAAP_r'], row['MAG_GAAP_i'], row['MAG_GAAP_Z'], row['MAG_GAAP_Y'], \n",
    "            row['MAG_GAAP_J'], row['MAG_GAAP_H'],row['MAG_GAAP_Ks'] ]\n",
    "    \n",
    "    magserr = [ row[\"fuv_magerr\"], row[\"nuv_magerr\"], row['MAGERR_GAAP_u'], row['MAGERR_GAAP_g'], row['MAGERR_GAAP_r'], row['MAGERR_GAAP_i'], row['MAGERR_GAAP_Z'], row['MAGERR_GAAP_Y'], \n",
    "            row['MAGERR_GAAP_J'], row['MAGERR_GAAP_H'],row['MAGERR_GAAP_Ks'] ]\n",
    "    \n",
    "    mfluxes = [ 10**(-0.4*m) for m in mags ]\n",
    "    mfluxeserr = []\n",
    "    \n",
    "    for f,em in zip(mfluxes,magserr):\n",
    "        ferr = 0.4*np.log10(10)*em*f\n",
    "        mfluxeserr.append(ferr)\n",
    "        \n",
    "    \n",
    "    \n",
    "    fluxes =  [ row[\"fuv_flux\"], row[\"nuv_flux\"], row['FLUX_GAAP_u'], row['FLUX_GAAP_g'], row['FLUX_GAAP_r'], row['FLUX_GAAP_i'], row['FLUX_GAAP_Z'], row['FLUX_GAAP_Y'], \n",
    "            row['FLUX_GAAP_J'], row['FLUX_GAAP_H'],row['FLUX_GAAP_Ks'] ]\n",
    "    \n",
    "    fluxeserr =  [ row[\"fuv_fluxerr\"], row[\"nuv_fluxerr\"], row['FLUXERR_GAAP_u'], row['FLUXERR_GAAP_g'], row['FLUXERR_GAAP_r'], row['FLUXERR_GAAP_i'], row['FLUXERR_GAAP_Z'], row['FLUX_GAAP_Y'], \n",
    "            row['FLUXERR_GAAP_J'], row['FLUXERR_GAAP_H'],row['FLUXERR_GAAP_Ks'] ]\n",
    "    \n",
    "    \n",
    "    fig = plt.figure(figsize=(12,6))\n",
    "    ax=fig.add_subplot(1,1,1)\n",
    "    \n",
    "    z = row[\"redshift\"]\n",
    "    asep_fg = row['asep_galex']\n",
    "    rmag = row[\"Rmag\"]\n",
    "    asep_fk = row['asep_kids']\n",
    "    \n",
    "    print(row[\"lines\"])\n",
    "    \n",
    "    \n",
    "    the_label = f\" FORS2 : z = {z:.3f} , Rmag = {rmag:.1f} mag,  angular sep (arcsec) f-g : {asep_fg:.3f}, f-k : {asep_fk:.3f}\" \n",
    "    ax.plot(all_df[idx][\"wl\"], all_df[idx][\"fl\"],'b-',label=the_label)\n",
    "    #ax.plot(all_df[idx][\"wl\"], all_df[idx][\"fl\"],'b-',label=row[\"num\"])\n",
    "    \n",
    "    \n",
    "    ax2 = ax.twinx()\n",
    "    \n",
    "    ax2.errorbar(WL,mfluxes,yerr=mfluxeserr,fmt='o',color=\"r\",ecolor=\"r\",ms=10,label='Galex (UV) + Kids (optics) +Viking (IR)')\n",
    "    #ax2.errorbar(WL, fluxes, yerr=fluxes, xerr=None, fmt='o', color=\"g\",ecolor=\"g\")\n",
    "    ax2.legend(loc=\"lower right\")\n",
    "    \n",
    "    ax.set_xlabel(\"$\\lambda  (\\AA)$ \")\n",
    "    title = f\"FORS2 : {key_tags[idx]}\"\n",
    "    ax.set_title(title)\n",
    "    ax.set_ylabel(\"flux (maggies)\")\n",
    "    ax.legend(loc=\"upper right\")\n",
    "    ax.grid()\n",
    "    \n",
    "    the_max = np.max(all_df[idx][\"fl\"])\n",
    "    \n",
    "    ax.set_ylim(0,the_max)\n",
    "    \n",
    "    plt.show()"
   ]
  },
  {
   "cell_type": "code",
   "execution_count": null,
   "id": "58d7cbd2-fc0d-43d8-b359-b7b3ad2a7188",
   "metadata": {},
   "outputs": [],
   "source": []
  }
 ],
 "metadata": {
  "kernelspec": {
   "display_name": "Python 3 (ipykernel)",
   "language": "python",
   "name": "python3"
  },
  "language_info": {
   "codemirror_mode": {
    "name": "ipython",
    "version": 3
   },
   "file_extension": ".py",
   "mimetype": "text/x-python",
   "name": "python",
   "nbconvert_exporter": "python",
   "pygments_lexer": "ipython3",
   "version": "3.9.13"
  }
 },
 "nbformat": 4,
 "nbformat_minor": 5
}
