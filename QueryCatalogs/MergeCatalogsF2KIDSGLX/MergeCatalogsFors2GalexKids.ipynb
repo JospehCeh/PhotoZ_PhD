{
 "cells": [
  {
   "cell_type": "markdown",
   "id": "a55f2f1d-dd9d-4543-8920-42e396589620",
   "metadata": {},
   "source": [
    "# Merge Fors2, Galex and Kids\n",
    "\n",
    "\n",
    "- author Sylvie Dagoret-Campagne\n",
    "- affiliation : IJCLab/IN2P3/CNRS\n",
    "- creation date : 2023-06-08\n",
    "- update : 2023-06-09\n",
    "\n",
    "\n",
    "From this mergin work on spectra and photometry can start"
   ]
  },
  {
   "cell_type": "code",
   "execution_count": null,
   "id": "86d8579e-d431-4726-a93c-ed11b06d21b3",
   "metadata": {},
   "outputs": [],
   "source": [
    "import h5py\n",
    "import pandas as pd\n",
    "import numpy as np\n",
    "import os\n",
    "from astropy.io import fits\n",
    "from astropy.table import Table\n",
    "import matplotlib.pyplot as plt"
   ]
  },
  {
   "cell_type": "code",
   "execution_count": null,
   "id": "ff1eded8-8dad-4581-a50c-ebe4d5366035",
   "metadata": {},
   "outputs": [],
   "source": [
    "def GetColumnHfData(hff,list_of_keys,nameval):\n",
    "    \"\"\"\n",
    "    Extract hff atttribute \n",
    "    \n",
    "    parameters\n",
    "      hff           : descriptor of h5 file\n",
    "      list_of_keys : list of exposures\n",
    "      nameval      : name of the attribute\n",
    "      \n",
    "    return\n",
    "           the array of values in the order of \n",
    "    \"\"\"\n",
    "    all_data = []\n",
    "    for key in list_of_keys:\n",
    "        group=hff.get(key)\n",
    "        val=group.attrs[nameval]\n",
    "        all_data.append(val)\n",
    "    return all_data\n"
   ]
  },
  {
   "cell_type": "code",
   "execution_count": null,
   "id": "ee72c4c0-edd6-4ef3-88fd-6413daea63e4",
   "metadata": {},
   "outputs": [],
   "source": [
    "def ReadFors2h5FileAttributes(hf):\n",
    "    hf =  h5py.File(input_file_h5, 'r') \n",
    "    list_of_keys = list(hf.keys())\n",
    "    # pick one key    \n",
    "    key_sel =  list_of_keys[0]\n",
    "    # pick one group\n",
    "    group = hf.get(key_sel)  \n",
    "    #pickup all attribute names\n",
    "    all_subgroup_keys = []\n",
    "    for k in group.attrs.keys():\n",
    "        all_subgroup_keys.append(k)\n",
    "    # create info\n",
    "    df_info = pd.DataFrame()\n",
    "    for key in all_subgroup_keys:\n",
    "        arr=GetColumnHfData(hf, list_of_keys ,key)\n",
    "        df_info[key] = arr\n",
    "    df_info.sort_values(by=\"num\", ascending=True,inplace=True)\n",
    "    df_info_num = df_info[\"num\"].values\n",
    "    key_tags = [ f\"SPEC{num}\" for num in df_info_num ]\n",
    "    df_info[\"name\"] = key_tags\n",
    "    \n",
    "    #'Nsp', 'RT', 'RV', 'Rmag', 'dec', 'eRV', 'lines', 'num', 'ra', 'redshift',\n",
    "    \n",
    "    df_info = df_info[['num' ,'name', 'ra', 'dec', 'Rmag','redshift','lines','RT','RV','eRV','Nsp']]\n",
    "    return df_info"
   ]
  },
  {
   "cell_type": "markdown",
   "id": "3eb43406-736f-4056-8cde-5dc8ea29207c",
   "metadata": {},
   "source": [
    "# Read Fors2"
   ]
  },
  {
   "cell_type": "code",
   "execution_count": null,
   "id": "ed720355-38fc-40fb-a312-f75684eb0502",
   "metadata": {},
   "outputs": [],
   "source": [
    "input_file_h5  = '../data/FORS2spectra.hdf5'"
   ]
  },
  {
   "cell_type": "code",
   "execution_count": null,
   "id": "252c5f7d-2687-47a3-9135-287503f4ed63",
   "metadata": {},
   "outputs": [],
   "source": [
    "hf =  h5py.File(input_file_h5, 'r') \n",
    "list_of_keys = list(hf.keys())"
   ]
  },
  {
   "cell_type": "code",
   "execution_count": null,
   "id": "19f6b5c9-2575-4cc0-9c15-4ab3620f5237",
   "metadata": {},
   "outputs": [],
   "source": [
    "df_info = ReadFors2h5FileAttributes(hf)"
   ]
  },
  {
   "cell_type": "code",
   "execution_count": null,
   "id": "a096b275-c010-4f42-9be7-3aac02ac3551",
   "metadata": {},
   "outputs": [],
   "source": [
    "df_info.reset_index(drop=True, inplace=True) "
   ]
  },
  {
   "cell_type": "code",
   "execution_count": null,
   "id": "98ddecda-fc4b-40fe-8aed-166ef3155e0c",
   "metadata": {},
   "outputs": [],
   "source": [
    "df_info"
   ]
  },
  {
   "cell_type": "markdown",
   "id": "3ebd91c6-46b8-45ce-a7e4-b698e682a146",
   "metadata": {},
   "source": [
    "### Get Spectra"
   ]
  },
  {
   "cell_type": "code",
   "execution_count": null,
   "id": "9688dfba-002d-4b4f-a8c3-70b21debf9c7",
   "metadata": {},
   "outputs": [],
   "source": [
    "df_info_num = df_info[\"num\"].values\n",
    "key_tags = [ f\"SPEC{num}\" for num in df_info_num ]"
   ]
  },
  {
   "cell_type": "code",
   "execution_count": null,
   "id": "482be10f-40a8-43cc-950b-5b81ad7abb7a",
   "metadata": {},
   "outputs": [],
   "source": [
    "all_df = []   \n",
    "idx=0\n",
    "for key in key_tags :\n",
    "    group = hf.get(key)\n",
    "    df = pd.DataFrame()\n",
    "    df[\"wl\"] = np.array(group.get(\"wl\"))\n",
    "    df[\"fl\"] = np.array(group.get(\"fl\")) \n",
    "    all_df.append(df)\n",
    "    idx+=1"
   ]
  },
  {
   "cell_type": "markdown",
   "id": "576ad29c-8848-43d6-85f7-8db9b198fc96",
   "metadata": {},
   "source": [
    "# Get merged catalogs"
   ]
  },
  {
   "cell_type": "markdown",
   "id": "808b8b30-0227-441e-ab1a-ccedd073796d",
   "metadata": {},
   "source": [
    "- Be sure to use MAST results for Galex"
   ]
  },
  {
   "cell_type": "code",
   "execution_count": null,
   "id": "48daa534-9091-4bac-a727-0142e5393441",
   "metadata": {},
   "outputs": [],
   "source": [
    "catalog_galex_filename = \"../data/results_crossmathcatalogs/info_fors2GALEX_frommast_crossmatch.csv\"\n",
    "catalog_kids_filename = \"../data/results_crossmathcatalogs/info_fors2Kidscrossmatch.csv\""
   ]
  },
  {
   "cell_type": "code",
   "execution_count": null,
   "id": "fefed528-5f69-446b-8521-dd2968fbf4b9",
   "metadata": {},
   "outputs": [],
   "source": [
    "df_info_galex = pd.read_csv(catalog_galex_filename,index_col=0)"
   ]
  },
  {
   "cell_type": "code",
   "execution_count": null,
   "id": "69f1edcd-89a0-48e6-af14-222b037b674f",
   "metadata": {},
   "outputs": [],
   "source": [
    "df_info_galex.rename(columns={\"angularsep\":\"asep_galex\"},inplace=True)"
   ]
  },
  {
   "cell_type": "code",
   "execution_count": null,
   "id": "11c5511e-5e92-4c8d-8171-25b644bc89af",
   "metadata": {},
   "outputs": [],
   "source": [
    "df_info_galex"
   ]
  },
  {
   "cell_type": "code",
   "execution_count": null,
   "id": "e424de80-24b6-4a55-b0cf-3f2874dbe69f",
   "metadata": {},
   "outputs": [],
   "source": [
    "df_info_kids = pd.read_csv(catalog_kids_filename,index_col=0)"
   ]
  },
  {
   "cell_type": "code",
   "execution_count": null,
   "id": "2235e9de-624d-4744-902c-a7fc51859dbd",
   "metadata": {},
   "outputs": [],
   "source": [
    "df_info_kids.rename(columns={\"angularsep\":\"asep_kids\"},inplace=True)"
   ]
  },
  {
   "cell_type": "code",
   "execution_count": null,
   "id": "ac9be096-5500-4a45-8630-37a4cd9e28e4",
   "metadata": {},
   "outputs": [],
   "source": [
    "df_info_kids"
   ]
  },
  {
   "cell_type": "markdown",
   "id": "350908d3-2e24-4b17-91d9-29a8d845114a",
   "metadata": {},
   "source": [
    "## Merge dataframes"
   ]
  },
  {
   "cell_type": "code",
   "execution_count": null,
   "id": "aa896b86-3bd8-4884-b781-ec8ab23ca2bf",
   "metadata": {},
   "outputs": [],
   "source": [
    "df = pd.merge(df_info_galex,df_info_kids)"
   ]
  },
  {
   "cell_type": "code",
   "execution_count": null,
   "id": "720f43fe-15d5-4d32-ad0d-ae989e1960da",
   "metadata": {},
   "outputs": [],
   "source": [
    "df"
   ]
  },
  {
   "cell_type": "code",
   "execution_count": null,
   "id": "a74916c3-2411-44f2-a177-0c52f788bfa1",
   "metadata": {},
   "outputs": [],
   "source": [
    "df[\"lines\"] = df_info[\"lines\"]"
   ]
  },
  {
   "cell_type": "code",
   "execution_count": null,
   "id": "a52ca3f7-e8b7-428a-881a-ce4232d0662e",
   "metadata": {},
   "outputs": [],
   "source": [
    "df"
   ]
  },
  {
   "cell_type": "markdown",
   "id": "d991a27b-ac2e-4aed-a1cb-e8fea950b665",
   "metadata": {},
   "source": [
    "# Select good match with galex"
   ]
  },
  {
   "cell_type": "code",
   "execution_count": null,
   "id": "e07cac2d-dcde-4966-9f23-87d2ec65c9d7",
   "metadata": {},
   "outputs": [],
   "source": [
    "df.hist(\"asep_galex\",bins=100,color=\"b\")"
   ]
  },
  {
   "cell_type": "code",
   "execution_count": null,
   "id": "25aa5d63-2834-4408-b7ae-b92e4040fe01",
   "metadata": {},
   "outputs": [],
   "source": [
    "df.hist(\"asep_kids\",bins=100,color='b')"
   ]
  },
  {
   "cell_type": "markdown",
   "id": "5a74a09b-60ff-410b-85c9-d86119453f15",
   "metadata": {},
   "source": [
    "## Select  Those spectra having GALEX"
   ]
  },
  {
   "cell_type": "code",
   "execution_count": null,
   "id": "9b5a0a04-ee75-4767-80e5-184441d77cb0",
   "metadata": {},
   "outputs": [],
   "source": [
    "df = df[df[\"asep_galex\"] < 5]"
   ]
  },
  {
   "cell_type": "markdown",
   "id": "edfba9aa-e171-4960-838f-7de362fdf329",
   "metadata": {},
   "source": [
    "## Remove NaN\n",
    "\n",
    "- remove those row with no FUV"
   ]
  },
  {
   "cell_type": "code",
   "execution_count": null,
   "id": "fa83d828-b7ce-4b6f-807a-3a01bc544bc4",
   "metadata": {},
   "outputs": [],
   "source": [
    "#df = df.dropna()"
   ]
  },
  {
   "cell_type": "markdown",
   "id": "62c5526b-1aeb-42fd-83e7-82f7f46977ba",
   "metadata": {},
   "source": [
    "## Remove rows with Rmag = 0"
   ]
  },
  {
   "cell_type": "code",
   "execution_count": null,
   "id": "6cc699d7-2109-4efd-b1f3-ac1e41d02d38",
   "metadata": {},
   "outputs": [],
   "source": [
    "#df = df[df[\"Rmag\"] > 0]"
   ]
  },
  {
   "cell_type": "code",
   "execution_count": null,
   "id": "505b3ef4-23f6-4672-b045-05773c904a36",
   "metadata": {},
   "outputs": [],
   "source": [
    "df.columns"
   ]
  },
  {
   "cell_type": "code",
   "execution_count": null,
   "id": "7b427ecd-c048-4304-bc0b-515945052440",
   "metadata": {},
   "outputs": [],
   "source": []
  },
  {
   "cell_type": "markdown",
   "id": "ec49bc25-c7fc-42d3-b758-9872342cebde",
   "metadata": {},
   "source": [
    "# Plot Spectra\n",
    "\n",
    "https://en.wikipedia.org/wiki/Photometric_system"
   ]
  },
  {
   "cell_type": "code",
   "execution_count": null,
   "id": "2a03ba47-aadb-4df8-bb89-1b71e58c173e",
   "metadata": {},
   "outputs": [],
   "source": [
    "lambda_FUV = 1528.\n",
    "lambda_NUV = 2271.\n",
    "lambda_U = 3650.\n",
    "lambda_B = 4450.\n",
    "lambda_G = 4640.\n",
    "lambda_R = 5580.\n",
    "lambda_I = 8060.\n",
    "lambda_Z = 9000.\n",
    "lambda_Y = 10200.\n",
    "lambda_J = 12200.\n",
    "lambda_H = 16300.\n",
    "lambda_K = 21900.\n",
    "lambda_L = 34500.\n",
    "\n",
    "WL = [lambda_FUV, lambda_NUV, lambda_B, lambda_G, lambda_R ,lambda_I, lambda_Z, lambda_Y, lambda_J, lambda_H, lambda_K ]"
   ]
  },
  {
   "cell_type": "code",
   "execution_count": null,
   "id": "f301a2bb-36b6-4b63-9e10-d1ccaa93330d",
   "metadata": {},
   "outputs": [],
   "source": [
    "df"
   ]
  },
  {
   "cell_type": "code",
   "execution_count": null,
   "id": "fbe6dcf6-3199-4adf-a0f7-ccc43150e8f3",
   "metadata": {},
   "outputs": [],
   "source": [
    "df.columns"
   ]
  },
  {
   "cell_type": "markdown",
   "id": "ec063180-4bfd-44ae-9b74-7734b36eca10",
   "metadata": {},
   "source": [
    "# Plot"
   ]
  },
  {
   "cell_type": "markdown",
   "id": "1b832b6e-d054-4364-97f1-b793b7043a47",
   "metadata": {},
   "source": [
    "## Plot Magnitude correlation"
   ]
  },
  {
   "cell_type": "code",
   "execution_count": null,
   "id": "a820c984-a82a-48cd-9488-6c0cc1a409c2",
   "metadata": {},
   "outputs": [],
   "source": [
    "df_rmag = df[df[\"Rmag\"] > 0]"
   ]
  },
  {
   "cell_type": "code",
   "execution_count": null,
   "id": "aada0e7a-a353-4422-bd8c-231dba8195aa",
   "metadata": {},
   "outputs": [],
   "source": [
    "df_rmag.plot.scatter(x=\"Rmag\",y=\"MAG_GAAP_r\",color=\"b\",title=\"Kids R magnitude vs Fors2 R Petrosian magnitude\",grid=True)"
   ]
  },
  {
   "cell_type": "markdown",
   "id": "f77583d8-77a7-4563-b6c6-8b4558d634fe",
   "metadata": {},
   "source": [
    "# Plots"
   ]
  },
  {
   "cell_type": "code",
   "execution_count": null,
   "id": "c585224c-3762-4ce1-8365-a1364b611d46",
   "metadata": {},
   "outputs": [],
   "source": [
    "# loop on rows\n",
    "\n",
    "for idx,row in df.iterrows():\n",
    "    print(idx,\" == \",row[\"num\"])\n",
    "    \n",
    "    mags = [ row[\"fuv_mag\"], row[\"nuv_mag\"], row['MAG_GAAP_u'], row['MAG_GAAP_g'], row['MAG_GAAP_r'], row['MAG_GAAP_i'], row['MAG_GAAP_Z'], row['MAG_GAAP_Y'], \n",
    "            row['MAG_GAAP_J'], row['MAG_GAAP_H'],row['MAG_GAAP_Ks'] ]\n",
    "    \n",
    "    magserr = [ row[\"fuv_magerr\"], row[\"nuv_magerr\"], row['MAGERR_GAAP_u'], row['MAGERR_GAAP_g'], row['MAGERR_GAAP_r'], row['MAGERR_GAAP_i'], row['MAGERR_GAAP_Z'], row['MAGERR_GAAP_Y'], \n",
    "            row['MAGERR_GAAP_J'], row['MAGERR_GAAP_H'],row['MAGERR_GAAP_Ks'] ]\n",
    "    \n",
    "    mfluxes = [ 10**(-0.4*m) for m in mags ]\n",
    "    mfluxeserr = []\n",
    "    \n",
    "    for f,em in zip(mfluxes,magserr):\n",
    "        ferr = 0.4*np.log10(10)*em*f\n",
    "        mfluxeserr.append(ferr)\n",
    "        \n",
    "    \n",
    "    \n",
    "    fluxes =  [ row[\"fuv_flux\"], row[\"nuv_flux\"], row['FLUX_GAAP_u'], row['FLUX_GAAP_g'], row['FLUX_GAAP_r'], row['FLUX_GAAP_i'], row['FLUX_GAAP_Z'], row['FLUX_GAAP_Y'], \n",
    "            row['FLUX_GAAP_J'], row['FLUX_GAAP_H'],row['FLUX_GAAP_Ks'] ]\n",
    "    \n",
    "    fluxeserr =  [ row[\"fuv_fluxerr\"], row[\"nuv_fluxerr\"], row['FLUXERR_GAAP_u'], row['FLUXERR_GAAP_g'], row['FLUXERR_GAAP_r'], row['FLUXERR_GAAP_i'], row['FLUXERR_GAAP_Z'], row['FLUX_GAAP_Y'], \n",
    "            row['FLUXERR_GAAP_J'], row['FLUXERR_GAAP_H'],row['FLUXERR_GAAP_Ks'] ]\n",
    "    \n",
    "    \n",
    "    fig = plt.figure(figsize=(12,6))\n",
    "    ax=fig.add_subplot(1,1,1)\n",
    "    \n",
    "    z = row[\"redshift\"]\n",
    "    asep_fg = row['asep_galex']\n",
    "    rmag = row[\"Rmag\"]\n",
    "    asep_fk = row['asep_kids']\n",
    "    \n",
    "    print(row[\"lines\"])\n",
    "    \n",
    "    \n",
    "    the_label = f\" FORS2 : z = {z:.3f} , Rmag = {rmag:.1f} mag,  angular sep (arcsec) f-g : {asep_fg:.3f}, f-k : {asep_fk:.3f}\" \n",
    "    ax.plot(all_df[idx][\"wl\"], all_df[idx][\"fl\"],'b-',label=the_label)\n",
    "    #ax.plot(all_df[idx][\"wl\"], all_df[idx][\"fl\"],'b-',label=row[\"num\"])\n",
    "    \n",
    "    \n",
    "    ax2 = ax.twinx()\n",
    "    \n",
    "    ax2.errorbar(WL,mfluxes,yerr=mfluxeserr,fmt='o',color=\"r\",ecolor=\"r\",ms=10,label='Galex (UV) + Kids (optics) +Viking (IR)')\n",
    "    #ax2.errorbar(WL, fluxes, yerr=fluxes, xerr=None, fmt='o', color=\"g\",ecolor=\"g\")\n",
    "    ax2.legend(loc=\"lower right\")\n",
    "    \n",
    "    ax.set_xlabel(\"$\\lambda  (\\AA)$ \")\n",
    "    title = f\"FORS2 : {key_tags[idx]}\"\n",
    "    ax.set_title(title)\n",
    "    ax.set_ylabel(\"flux (maggies)\")\n",
    "    ax.legend(loc=\"upper right\")\n",
    "    ax.grid()\n",
    "    \n",
    "    the_max = np.max(all_df[idx][\"fl\"])\n",
    "    \n",
    "    ax.set_ylim(0,the_max)\n",
    "    \n",
    "    plt.show()"
   ]
  },
  {
   "cell_type": "code",
   "execution_count": null,
   "id": "88f191cc-7302-480e-9f33-2accc852a1c1",
   "metadata": {},
   "outputs": [],
   "source": []
  },
  {
   "cell_type": "code",
   "execution_count": null,
   "id": "8c9852c6-fa95-4eaf-98f8-eca5abdee06c",
   "metadata": {},
   "outputs": [],
   "source": []
  },
  {
   "cell_type": "code",
   "execution_count": null,
   "id": "58d7cbd2-fc0d-43d8-b359-b7b3ad2a7188",
   "metadata": {},
   "outputs": [],
   "source": []
  },
  {
   "cell_type": "code",
   "execution_count": null,
   "id": "03a09815-a654-4558-9b65-c340e87ced13",
   "metadata": {},
   "outputs": [],
   "source": []
  },
  {
   "cell_type": "code",
   "execution_count": null,
   "id": "d5e5bbf8-ba3d-459e-9358-2921af5c4935",
   "metadata": {},
   "outputs": [],
   "source": []
  },
  {
   "cell_type": "code",
   "execution_count": null,
   "id": "e474f836-3bbb-4d85-8837-a0388b2d4a69",
   "metadata": {},
   "outputs": [],
   "source": []
  },
  {
   "cell_type": "code",
   "execution_count": null,
   "id": "fec01e5e-d1a1-446b-86ee-6f84163d4242",
   "metadata": {},
   "outputs": [],
   "source": []
  },
  {
   "cell_type": "code",
   "execution_count": null,
   "id": "53867eb4-077e-41e8-96c7-c46d9891379e",
   "metadata": {},
   "outputs": [],
   "source": []
  },
  {
   "cell_type": "code",
   "execution_count": null,
   "id": "1209e169-34fb-4309-a128-9011b6a1f0b0",
   "metadata": {},
   "outputs": [],
   "source": []
  },
  {
   "cell_type": "code",
   "execution_count": null,
   "id": "36e04fc5-4392-40bf-9fba-2fd73c055b70",
   "metadata": {},
   "outputs": [],
   "source": []
  },
  {
   "cell_type": "code",
   "execution_count": null,
   "id": "ac9bf06e-ddb0-42df-a9a4-15d0bb0ae1e3",
   "metadata": {},
   "outputs": [],
   "source": []
  },
  {
   "cell_type": "code",
   "execution_count": null,
   "id": "ef0cda28-9866-44dc-abb6-f74af9c625a6",
   "metadata": {},
   "outputs": [],
   "source": []
  },
  {
   "cell_type": "code",
   "execution_count": null,
   "id": "8c8b796d-eab5-4d09-bc9a-42c8dc03b2da",
   "metadata": {},
   "outputs": [],
   "source": []
  },
  {
   "cell_type": "code",
   "execution_count": null,
   "id": "73d58102-aec6-464b-87d9-b59517702049",
   "metadata": {},
   "outputs": [],
   "source": []
  },
  {
   "cell_type": "code",
   "execution_count": null,
   "id": "7f8a01fa-7104-4ef9-94c0-6a00dfafb854",
   "metadata": {},
   "outputs": [],
   "source": []
  },
  {
   "cell_type": "code",
   "execution_count": null,
   "id": "ede0a471-f6c9-4da1-9768-6fb2a5545723",
   "metadata": {},
   "outputs": [],
   "source": []
  },
  {
   "cell_type": "code",
   "execution_count": null,
   "id": "aaa46f89-5f54-47f2-803d-97b62a1ca6a6",
   "metadata": {},
   "outputs": [],
   "source": []
  },
  {
   "cell_type": "code",
   "execution_count": null,
   "id": "15f036dc-5d87-498e-954d-3835bf3d75d7",
   "metadata": {},
   "outputs": [],
   "source": []
  }
 ],
 "metadata": {
  "kernelspec": {
   "display_name": "Python 3 (ipykernel)",
   "language": "python",
   "name": "python3"
  },
  "language_info": {
   "codemirror_mode": {
    "name": "ipython",
    "version": 3
   },
   "file_extension": ".py",
   "mimetype": "text/x-python",
   "name": "python",
   "nbconvert_exporter": "python",
   "pygments_lexer": "ipython3",
   "version": "3.9.13"
  }
 },
 "nbformat": 4,
 "nbformat_minor": 5
}
