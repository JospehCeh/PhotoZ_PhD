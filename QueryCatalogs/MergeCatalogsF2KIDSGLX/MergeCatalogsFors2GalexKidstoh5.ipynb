{
 "cells": [
  {
   "cell_type": "markdown",
   "id": "a55f2f1d-dd9d-4543-8920-42e396589620",
   "metadata": {},
   "source": [
    "# Merge Fors2, Galex and Kids and write it in h5file\n",
    "\n",
    "\n",
    "- author Sylvie Dagoret-Campagne\n",
    "- affiliation : IJCLab/IN2P3/CNRS\n",
    "- creation date : 2023-06-12\n",
    "- update : 2023-06-12\n",
    "\n",
    "\n",
    "From this mergin work on spectra and photometry can start"
   ]
  },
  {
   "cell_type": "code",
   "execution_count": null,
   "id": "86d8579e-d431-4726-a93c-ed11b06d21b3",
   "metadata": {},
   "outputs": [],
   "source": [
    "import h5py\n",
    "import pandas as pd\n",
    "import numpy as np\n",
    "import os\n",
    "from astropy.io import fits\n",
    "from astropy.table import Table\n",
    "import matplotlib.pyplot as plt"
   ]
  },
  {
   "cell_type": "code",
   "execution_count": null,
   "id": "ff1eded8-8dad-4581-a50c-ebe4d5366035",
   "metadata": {},
   "outputs": [],
   "source": [
    "def GetColumnHfData(hff,list_of_keys,nameval):\n",
    "    \"\"\"\n",
    "    Extract hff atttribute \n",
    "    \n",
    "    parameters\n",
    "      hff           : descriptor of h5 file\n",
    "      list_of_keys : list of exposures\n",
    "      nameval      : name of the attribute\n",
    "      \n",
    "    return\n",
    "           the array of values in the order of \n",
    "    \"\"\"\n",
    "    all_data = []\n",
    "    for key in list_of_keys:\n",
    "        group=hff.get(key)\n",
    "        val=group.attrs[nameval]\n",
    "        all_data.append(val)\n",
    "    return all_data\n"
   ]
  },
  {
   "cell_type": "code",
   "execution_count": null,
   "id": "ee72c4c0-edd6-4ef3-88fd-6413daea63e4",
   "metadata": {},
   "outputs": [],
   "source": [
    "def ReadFors2h5FileAttributes(hf):\n",
    "    hf =  h5py.File(input_file_h5, 'r') \n",
    "    list_of_keys = list(hf.keys())\n",
    "    # pick one key    \n",
    "    key_sel =  list_of_keys[0]\n",
    "    # pick one group\n",
    "    group = hf.get(key_sel)  \n",
    "    #pickup all attribute names\n",
    "    all_subgroup_keys = []\n",
    "    for k in group.attrs.keys():\n",
    "        all_subgroup_keys.append(k)\n",
    "    # create info\n",
    "    df_info = pd.DataFrame()\n",
    "    for key in all_subgroup_keys:\n",
    "        arr=GetColumnHfData(hf, list_of_keys ,key)\n",
    "        df_info[key] = arr\n",
    "    df_info.sort_values(by=\"num\", ascending=True,inplace=True)\n",
    "    df_info_num = df_info[\"num\"].values\n",
    "    key_tags = [ f\"SPEC{num}\" for num in df_info_num ]\n",
    "    df_info[\"name\"] = key_tags\n",
    "    \n",
    "    #'Nsp', 'RT', 'RV', 'Rmag', 'dec', 'eRV', 'lines', 'num', 'ra', 'redshift',\n",
    "    \n",
    "    df_info = df_info[['num' ,'name', 'ra', 'dec', 'Rmag','redshift','lines','RT','RV','eRV','Nsp']]\n",
    "    return df_info"
   ]
  },
  {
   "cell_type": "markdown",
   "id": "3eb43406-736f-4056-8cde-5dc8ea29207c",
   "metadata": {},
   "source": [
    "# Read Fors2"
   ]
  },
  {
   "cell_type": "code",
   "execution_count": null,
   "id": "ed720355-38fc-40fb-a312-f75684eb0502",
   "metadata": {},
   "outputs": [],
   "source": [
    "input_file_h5  = '../data/FORS2spectra.hdf5'\n",
    "output_file_h5  = '../data/FORS2spectraGalexKidsPhotom.hdf5'"
   ]
  },
  {
   "cell_type": "code",
   "execution_count": null,
   "id": "252c5f7d-2687-47a3-9135-287503f4ed63",
   "metadata": {},
   "outputs": [],
   "source": [
    "hf =  h5py.File(input_file_h5, 'r') \n",
    "list_of_keys = list(hf.keys())"
   ]
  },
  {
   "cell_type": "code",
   "execution_count": null,
   "id": "19f6b5c9-2575-4cc0-9c15-4ab3620f5237",
   "metadata": {},
   "outputs": [],
   "source": [
    "df_info = ReadFors2h5FileAttributes(hf)"
   ]
  },
  {
   "cell_type": "code",
   "execution_count": null,
   "id": "a096b275-c010-4f42-9be7-3aac02ac3551",
   "metadata": {},
   "outputs": [],
   "source": [
    "df_info.reset_index(drop=True, inplace=True) "
   ]
  },
  {
   "cell_type": "code",
   "execution_count": null,
   "id": "98ddecda-fc4b-40fe-8aed-166ef3155e0c",
   "metadata": {},
   "outputs": [],
   "source": [
    "df_info"
   ]
  },
  {
   "cell_type": "markdown",
   "id": "3ebd91c6-46b8-45ce-a7e4-b698e682a146",
   "metadata": {},
   "source": [
    "### Get Spectra"
   ]
  },
  {
   "cell_type": "code",
   "execution_count": null,
   "id": "9688dfba-002d-4b4f-a8c3-70b21debf9c7",
   "metadata": {},
   "outputs": [],
   "source": [
    "df_info_num = df_info[\"num\"].values\n",
    "key_tags = [ f\"SPEC{num}\" for num in df_info_num ]"
   ]
  },
  {
   "cell_type": "code",
   "execution_count": null,
   "id": "482be10f-40a8-43cc-950b-5b81ad7abb7a",
   "metadata": {},
   "outputs": [],
   "source": [
    "all_df = []   \n",
    "idx=0\n",
    "for key in key_tags :\n",
    "    group = hf.get(key)\n",
    "    df = pd.DataFrame()\n",
    "    df[\"wl\"] = np.array(group.get(\"wl\"))\n",
    "    df[\"fl\"] = np.array(group.get(\"fl\")) \n",
    "    all_df.append(df)\n",
    "    idx+=1"
   ]
  },
  {
   "cell_type": "markdown",
   "id": "576ad29c-8848-43d6-85f7-8db9b198fc96",
   "metadata": {},
   "source": [
    "# Get merged catalogs"
   ]
  },
  {
   "cell_type": "markdown",
   "id": "808b8b30-0227-441e-ab1a-ccedd073796d",
   "metadata": {},
   "source": [
    "- Be sure to use MAST results for Galex"
   ]
  },
  {
   "cell_type": "code",
   "execution_count": null,
   "id": "48daa534-9091-4bac-a727-0142e5393441",
   "metadata": {},
   "outputs": [],
   "source": [
    "catalog_galex_filename = \"../data/results_crossmathcatalogs/info_fors2GALEX_frommast_crossmatch.csv\"\n",
    "catalog_kids_filename = \"../data/results_crossmathcatalogs/info_fors2Kidscrossmatch.csv\""
   ]
  },
  {
   "cell_type": "code",
   "execution_count": null,
   "id": "fefed528-5f69-446b-8521-dd2968fbf4b9",
   "metadata": {},
   "outputs": [],
   "source": [
    "df_info_galex = pd.read_csv(catalog_galex_filename,index_col=0)"
   ]
  },
  {
   "cell_type": "code",
   "execution_count": null,
   "id": "69f1edcd-89a0-48e6-af14-222b037b674f",
   "metadata": {},
   "outputs": [],
   "source": [
    "df_info_galex.rename(columns={\"angularsep\":\"asep_galex\"},inplace=True)"
   ]
  },
  {
   "cell_type": "code",
   "execution_count": null,
   "id": "11c5511e-5e92-4c8d-8171-25b644bc89af",
   "metadata": {},
   "outputs": [],
   "source": [
    "df_info_galex"
   ]
  },
  {
   "cell_type": "code",
   "execution_count": null,
   "id": "e424de80-24b6-4a55-b0cf-3f2874dbe69f",
   "metadata": {},
   "outputs": [],
   "source": [
    "df_info_kids = pd.read_csv(catalog_kids_filename,index_col=0)"
   ]
  },
  {
   "cell_type": "code",
   "execution_count": null,
   "id": "2235e9de-624d-4744-902c-a7fc51859dbd",
   "metadata": {},
   "outputs": [],
   "source": [
    "df_info_kids.rename(columns={\"angularsep\":\"asep_kids\"},inplace=True)"
   ]
  },
  {
   "cell_type": "code",
   "execution_count": null,
   "id": "ac9be096-5500-4a45-8630-37a4cd9e28e4",
   "metadata": {},
   "outputs": [],
   "source": [
    "df_info_kids"
   ]
  },
  {
   "cell_type": "markdown",
   "id": "350908d3-2e24-4b17-91d9-29a8d845114a",
   "metadata": {},
   "source": [
    "## Merge dataframes"
   ]
  },
  {
   "cell_type": "code",
   "execution_count": null,
   "id": "aa896b86-3bd8-4884-b781-ec8ab23ca2bf",
   "metadata": {},
   "outputs": [],
   "source": [
    "df = pd.merge(df_info_galex,df_info_kids)"
   ]
  },
  {
   "cell_type": "code",
   "execution_count": null,
   "id": "720f43fe-15d5-4d32-ad0d-ae989e1960da",
   "metadata": {},
   "outputs": [],
   "source": [
    "df"
   ]
  },
  {
   "cell_type": "code",
   "execution_count": null,
   "id": "fa4e54f3-1ed5-4755-998f-3893af78b18d",
   "metadata": {},
   "outputs": [],
   "source": [
    "df = pd.merge(df_info,df)"
   ]
  },
  {
   "cell_type": "code",
   "execution_count": null,
   "id": "faa60700-840c-4056-b9f5-0d0ef1811ca0",
   "metadata": {},
   "outputs": [],
   "source": [
    "df"
   ]
  },
  {
   "cell_type": "code",
   "execution_count": null,
   "id": "a74916c3-2411-44f2-a177-0c52f788bfa1",
   "metadata": {},
   "outputs": [],
   "source": [
    "#df[\"lines\"] = df_info[\"lines\"]"
   ]
  },
  {
   "cell_type": "code",
   "execution_count": null,
   "id": "a52ca3f7-e8b7-428a-881a-ce4232d0662e",
   "metadata": {},
   "outputs": [],
   "source": [
    "#df"
   ]
  },
  {
   "cell_type": "markdown",
   "id": "d991a27b-ac2e-4aed-a1cb-e8fea950b665",
   "metadata": {},
   "source": [
    "# Select good match with galex"
   ]
  },
  {
   "cell_type": "code",
   "execution_count": null,
   "id": "e07cac2d-dcde-4966-9f23-87d2ec65c9d7",
   "metadata": {},
   "outputs": [],
   "source": [
    "df.hist(\"asep_galex\",bins=100,color=\"b\")\n",
    "plt.axvline(5,c=\"k\")"
   ]
  },
  {
   "cell_type": "code",
   "execution_count": null,
   "id": "25aa5d63-2834-4408-b7ae-b92e4040fe01",
   "metadata": {},
   "outputs": [],
   "source": [
    "df.hist(\"asep_kids\",bins=100,color='b')"
   ]
  },
  {
   "cell_type": "markdown",
   "id": "57672eb2-9063-4e64-985c-eec10ad753b3",
   "metadata": {},
   "source": [
    "# Save into output file h5"
   ]
  },
  {
   "cell_type": "code",
   "execution_count": null,
   "id": "063c2811-443a-48ea-97af-6c6770b393a4",
   "metadata": {},
   "outputs": [],
   "source": [
    "hf_outfile =  h5py.File(output_file_h5, 'w') "
   ]
  },
  {
   "cell_type": "code",
   "execution_count": null,
   "id": "abb275c1-3e70-48b1-b9f6-2d0ae2a01100",
   "metadata": {},
   "outputs": [],
   "source": [
    "for idx,row in df.iterrows():\n",
    "    #print(idx,key_tags[idx])\n",
    "    tag = key_tags[idx]\n",
    "    h5group_out = hf_outfile.create_group(tag)\n",
    "    \n",
    "    wl = all_df[idx][\"wl\"].values\n",
    "    fl = all_df[idx][\"fl\"].values\n",
    "    \n",
    "    parameter_names = list(row.index)\n",
    "    parameter_values   =row.values\n",
    "    \n",
    "    if idx==0:\n",
    "        print(parameter_names)\n",
    "    \n",
    "    for name,val in zip(parameter_names,parameter_values):\n",
    "        h5group_out.attrs[name] = val\n",
    "    \n",
    "    d = h5group_out.create_dataset(\"wl\",data=wl,compression=\"gzip\", compression_opts=9)\n",
    "    d = h5group_out.create_dataset(\"fl\",data=fl,compression=\"gzip\", compression_opts=9)"
   ]
  },
  {
   "cell_type": "code",
   "execution_count": null,
   "id": "29a5808d-5200-419f-aa2d-639810caf3bb",
   "metadata": {},
   "outputs": [],
   "source": [
    "hf_outfile.keys()"
   ]
  },
  {
   "cell_type": "code",
   "execution_count": null,
   "id": "5fb3c344-1e54-4135-adac-1001b426e884",
   "metadata": {},
   "outputs": [],
   "source": [
    "hf_outfile.close() "
   ]
  },
  {
   "cell_type": "code",
   "execution_count": null,
   "id": "63cc5f60-06bf-4e1f-a7c0-665a3c0b4c75",
   "metadata": {},
   "outputs": [],
   "source": []
  }
 ],
 "metadata": {
  "kernelspec": {
   "display_name": "Python 3 (ipykernel)",
   "language": "python",
   "name": "python3"
  },
  "language_info": {
   "codemirror_mode": {
    "name": "ipython",
    "version": 3
   },
   "file_extension": ".py",
   "mimetype": "text/x-python",
   "name": "python",
   "nbconvert_exporter": "python",
   "pygments_lexer": "ipython3",
   "version": "3.9.13"
  }
 },
 "nbformat": 4,
 "nbformat_minor": 5
}
