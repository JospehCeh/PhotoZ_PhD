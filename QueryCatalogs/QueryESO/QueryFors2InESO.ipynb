{
 "cells": [
  {
   "cell_type": "markdown",
   "id": "9895d4c9-8b55-4296-bc8e-d6ac87c2f93c",
   "metadata": {},
   "source": [
    "# Search FORS2 in ESO catalogs \n",
    "\n",
    "http://eso-python.github.io/ESOPythonTutorials/ESOPythonDemoDay7_Astroquery_ESO_Simbad_Vizier.html\n",
    "\n",
    "\n",
    "- access :\n",
    "\n",
    "https://www.eso.org/UserPortal/\n",
    "\n",
    "\n",
    "https://www.eso.org/sso/login?service=https%3A%2F%2Fwww.eso.org%2Fsso%2Foauth2.0%2FcallbackAuthorize%3Fclient_id%3Dclientid%26redirect_uri%3Dhttps%253A%252F%252Fwww.eso.org%252FUserPortal%252Fsignin%26response_type%3Did_token%2Btoken%26nonce%3DBYpSQXhp0np6Xa1H2CEBuyRkrV7Vrx9dC6nIzvEQ%26client_name%3DCasOAuthClient\n",
    "\n",
    "- username Dagoret\n",
    "\n",
    "- Surveys\n",
    "\n",
    "https://www.eso.org/qi/\n"
   ]
  },
  {
   "cell_type": "code",
   "execution_count": 2,
   "id": "ef1cabd4-1e65-48c8-90cf-7d1be777a524",
   "metadata": {},
   "outputs": [],
   "source": [
    "import matplotlib.pyplot as plt\n",
    "from astropy.wcs import WCS\n",
    "\n",
    "from astroquery.simbad import Simbad\n",
    "\n",
    "from astroquery.eso import Eso\n",
    " \n",
    "import astropy.coordinates as coordinates\n",
    "from astropy.coordinates import Angle\n",
    "import astropy.units as u\n",
    "\n",
    "import h5py\n",
    "import pandas as pd\n",
    "import numpy as np\n"
   ]
  },
  {
   "cell_type": "code",
   "execution_count": 3,
   "id": "fb3f2f01-b7e4-42d3-b794-bba757712e0e",
   "metadata": {},
   "outputs": [],
   "source": [
    "from astropy.table.pprint import conf\n",
    "#conf.max_lines = -1\n",
    "#conf.max_width = -1"
   ]
  },
  {
   "cell_type": "code",
   "execution_count": 4,
   "id": "b56a3bbb-e9c3-44c2-bfad-d258167d3e07",
   "metadata": {},
   "outputs": [],
   "source": [
    "def GetColumnHfData(hff,list_of_keys,nameval):\n",
    "    \"\"\"\n",
    "    Extract hff atttribute \n",
    "    \n",
    "    parameters\n",
    "      hff           : descriptor of h5 file\n",
    "      list_of_keys : list of exposures\n",
    "      nameval      : name of the attribute\n",
    "      \n",
    "    return\n",
    "           the array of values in the order of \n",
    "    \"\"\"\n",
    "    \n",
    "\n",
    "    all_data = []\n",
    "    for key in list_of_keys:\n",
    "        group=hff.get(key)\n",
    "        val=group.attrs[nameval]\n",
    "        all_data.append(val)\n",
    "    return all_data\n"
   ]
  },
  {
   "cell_type": "markdown",
   "id": "fa2035d2-812e-4d4e-9609-55c83d0735c9",
   "metadata": {},
   "source": [
    "## Fors2 catalog"
   ]
  },
  {
   "cell_type": "code",
   "execution_count": 5,
   "id": "038509c3-ed83-4e52-b07f-c99046792707",
   "metadata": {},
   "outputs": [],
   "source": [
    "input_file_h5  = '../data/FORS2spectra.hdf5'"
   ]
  },
  {
   "cell_type": "code",
   "execution_count": 6,
   "id": "ca5b3884-864e-4891-84b3-4adaa83834a9",
   "metadata": {},
   "outputs": [],
   "source": [
    "hf =  h5py.File(input_file_h5, 'r') \n",
    "list_of_keys = list(hf.keys())"
   ]
  },
  {
   "cell_type": "code",
   "execution_count": 7,
   "id": "575c9fb8-8273-4f12-b771-be10b4ad3640",
   "metadata": {},
   "outputs": [],
   "source": [
    "# pick one key    \n",
    "key_sel =  list_of_keys[0]\n",
    "# pick one group\n",
    "group = hf.get(key_sel)  "
   ]
  },
  {
   "cell_type": "code",
   "execution_count": 8,
   "id": "b59c7df2-c77f-458e-9b11-40e763b6e254",
   "metadata": {},
   "outputs": [],
   "source": [
    "#pickup all attribute names\n",
    "all_subgroup_keys = []\n",
    "for k in group.attrs.keys():\n",
    "    all_subgroup_keys.append(k)"
   ]
  },
  {
   "cell_type": "code",
   "execution_count": 9,
   "id": "e52cfc7d-f23e-49f3-9ae3-d9a2c0c04147",
   "metadata": {},
   "outputs": [],
   "source": [
    "# create info\n",
    "df_info = pd.DataFrame()\n",
    "for key in all_subgroup_keys:\n",
    "    arr=GetColumnHfData(hf, list_of_keys ,key)\n",
    "    df_info[key] = arr"
   ]
  },
  {
   "cell_type": "code",
   "execution_count": 10,
   "id": "c37d9cdf-25a2-458f-a223-db17d17c9889",
   "metadata": {},
   "outputs": [],
   "source": [
    "df_info.sort_values(by=\"num\", ascending=True,inplace=True)"
   ]
  },
  {
   "cell_type": "code",
   "execution_count": 11,
   "id": "fdbb0a34-5d7f-4080-8a71-96fff3821cfa",
   "metadata": {},
   "outputs": [],
   "source": [
    "df_info_num = df_info[\"num\"].values\n",
    "key_tags = [ f\"SPEC{num}\" for num in df_info_num ]"
   ]
  },
  {
   "cell_type": "code",
   "execution_count": 12,
   "id": "2394a403-0434-427b-9734-6329d3847c6e",
   "metadata": {},
   "outputs": [],
   "source": [
    "df_info = df_info[['num', 'ra', 'dec', 'Rmag','redshift']]"
   ]
  },
  {
   "cell_type": "code",
   "execution_count": 13,
   "id": "efcf1ead-db59-42fc-83a9-c100c9bc75c4",
   "metadata": {},
   "outputs": [
    {
     "data": {
      "text/html": [
       "<div>\n",
       "<style scoped>\n",
       "    .dataframe tbody tr th:only-of-type {\n",
       "        vertical-align: middle;\n",
       "    }\n",
       "\n",
       "    .dataframe tbody tr th {\n",
       "        vertical-align: top;\n",
       "    }\n",
       "\n",
       "    .dataframe thead th {\n",
       "        text-align: right;\n",
       "    }\n",
       "</style>\n",
       "<table border=\"1\" class=\"dataframe\">\n",
       "  <thead>\n",
       "    <tr style=\"text-align: right;\">\n",
       "      <th></th>\n",
       "      <th>num</th>\n",
       "      <th>ra</th>\n",
       "      <th>dec</th>\n",
       "      <th>Rmag</th>\n",
       "      <th>redshift</th>\n",
       "    </tr>\n",
       "  </thead>\n",
       "  <tbody>\n",
       "    <tr>\n",
       "      <th>51</th>\n",
       "      <td>2</td>\n",
       "      <td>13.52997</td>\n",
       "      <td>-28.44776</td>\n",
       "      <td>21.18</td>\n",
       "      <td>0.34555</td>\n",
       "    </tr>\n",
       "    <tr>\n",
       "      <th>112</th>\n",
       "      <td>3</td>\n",
       "      <td>13.52552</td>\n",
       "      <td>-28.42080</td>\n",
       "      <td>21.45</td>\n",
       "      <td>0.68660</td>\n",
       "    </tr>\n",
       "    <tr>\n",
       "      <th>545</th>\n",
       "      <td>9</td>\n",
       "      <td>13.50219</td>\n",
       "      <td>-28.40641</td>\n",
       "      <td>21.60</td>\n",
       "      <td>0.29266</td>\n",
       "    </tr>\n",
       "    <tr>\n",
       "      <th>17</th>\n",
       "      <td>13</td>\n",
       "      <td>13.49261</td>\n",
       "      <td>-28.38272</td>\n",
       "      <td>23.14</td>\n",
       "      <td>0.68870</td>\n",
       "    </tr>\n",
       "    <tr>\n",
       "      <th>43</th>\n",
       "      <td>19</td>\n",
       "      <td>13.60758</td>\n",
       "      <td>-28.43452</td>\n",
       "      <td>21.70</td>\n",
       "      <td>0.48395</td>\n",
       "    </tr>\n",
       "    <tr>\n",
       "      <th>...</th>\n",
       "      <td>...</td>\n",
       "      <td>...</td>\n",
       "      <td>...</td>\n",
       "      <td>...</td>\n",
       "      <td>...</td>\n",
       "    </tr>\n",
       "    <tr>\n",
       "      <th>531</th>\n",
       "      <td>734</td>\n",
       "      <td>13.68083</td>\n",
       "      <td>-28.23290</td>\n",
       "      <td>0.00</td>\n",
       "      <td>0.23012</td>\n",
       "    </tr>\n",
       "    <tr>\n",
       "      <th>532</th>\n",
       "      <td>735</td>\n",
       "      <td>13.69958</td>\n",
       "      <td>-28.23161</td>\n",
       "      <td>19.28</td>\n",
       "      <td>0.36169</td>\n",
       "    </tr>\n",
       "    <tr>\n",
       "      <th>533</th>\n",
       "      <td>736</td>\n",
       "      <td>13.66431</td>\n",
       "      <td>-28.22849</td>\n",
       "      <td>21.64</td>\n",
       "      <td>0.55777</td>\n",
       "    </tr>\n",
       "    <tr>\n",
       "      <th>534</th>\n",
       "      <td>737</td>\n",
       "      <td>13.62722</td>\n",
       "      <td>-28.22692</td>\n",
       "      <td>21.40</td>\n",
       "      <td>0.52001</td>\n",
       "    </tr>\n",
       "    <tr>\n",
       "      <th>535</th>\n",
       "      <td>738</td>\n",
       "      <td>13.64370</td>\n",
       "      <td>-28.22527</td>\n",
       "      <td>19.73</td>\n",
       "      <td>0.56044</td>\n",
       "    </tr>\n",
       "  </tbody>\n",
       "</table>\n",
       "<p>550 rows × 5 columns</p>\n",
       "</div>"
      ],
      "text/plain": [
       "     num        ra       dec   Rmag  redshift\n",
       "51     2  13.52997 -28.44776  21.18   0.34555\n",
       "112    3  13.52552 -28.42080  21.45   0.68660\n",
       "545    9  13.50219 -28.40641  21.60   0.29266\n",
       "17    13  13.49261 -28.38272  23.14   0.68870\n",
       "43    19  13.60758 -28.43452  21.70   0.48395\n",
       "..   ...       ...       ...    ...       ...\n",
       "531  734  13.68083 -28.23290   0.00   0.23012\n",
       "532  735  13.69958 -28.23161  19.28   0.36169\n",
       "533  736  13.66431 -28.22849  21.64   0.55777\n",
       "534  737  13.62722 -28.22692  21.40   0.52001\n",
       "535  738  13.64370 -28.22527  19.73   0.56044\n",
       "\n",
       "[550 rows x 5 columns]"
      ]
     },
     "execution_count": 13,
     "metadata": {},
     "output_type": "execute_result"
    }
   ],
   "source": [
    "df_info"
   ]
  },
  {
   "cell_type": "markdown",
   "id": "65080e5b-5e67-4d08-8962-d1dbd93a20e2",
   "metadata": {},
   "source": [
    "## ESO catalog"
   ]
  },
  {
   "cell_type": "code",
   "execution_count": 20,
   "id": "796bf44b-5e35-48c5-979c-f5aedbe59447",
   "metadata": {},
   "outputs": [],
   "source": [
    "#Eso.query_main()"
   ]
  },
  {
   "cell_type": "code",
   "execution_count": 17,
   "id": "48a0da52-df08-4105-8c2f-a79ca9bea28d",
   "metadata": {},
   "outputs": [
    {
     "name": "stdout",
     "output_type": "stream",
     "text": [
      "['081.C-0827', '092.A-0472', '096.B-0054', '1100.A-0528', '1101.A-0127', '193.D-0232', '195.B-0283', '196.B-0578', '196.D-0214', '197.A-0384', '198.A-0708', '60.A-9284H', '60.A-9493', 'ADHOC', 'ALCOHOLS', 'ALLSMOG', 'AMAZE', 'AMBRE', 'APEX-SciOps', 'ATLASGAL', 'ESPRESSO', 'ESSENCE', 'FDS', 'FEROS', 'FORS2-SPEC', 'Fornax3D', 'GAIAESO', 'GCAV', 'GIRAFFE', 'GOODS_FORS2', 'GOODS_ISAAC', 'GOODS_VIMOS_IMAG', 'GOODS_VIMOS_SPEC', 'GW170817', 'HARPS', 'HAWKI', 'HUGS', 'INSPIRE', 'KIDS', 'KMOS', 'LEGA-C', 'LESS', 'MUSE', 'MUSE-DEEP', 'MUSE-STD', 'MW-BULGE-PSFPHOT', 'NGTS', 'PESSTO', 'PHANGS', 'PIONIER', 'SHARKS', 'SPHERE', 'SUPER', 'UVES', 'UVES_SQUAD', 'UltraVISTA', 'VANDELS', 'VEGAS', 'VEILS', 'VEXAS', 'VHS', 'VIDEO', 'VIKING', 'VIMOS', 'VINROUGE', 'VIPERS', 'VISIONS', 'VMC', 'VPHASplus', 'VST-ATLAS', 'VVV', 'VVVX', 'XQ-100', 'XSGRB', 'XSHOOTER', 'XSL', 'ZCOSMOS']\n"
     ]
    }
   ],
   "source": [
    "print(Eso.list_surveys())"
   ]
  },
  {
   "cell_type": "code",
   "execution_count": 18,
   "id": "6ae75559-0f8a-4be0-8e8f-b311d446e98d",
   "metadata": {},
   "outputs": [
    {
     "name": "stdout",
     "output_type": "stream",
     "text": [
      "['fors1', 'fors2', 'sphere', 'vimos', 'omegacam', 'eris', 'hawki', 'isaac', 'naco', 'visir', 'vircam', 'apex', 'giraffe', 'uves', 'xshooter', 'espresso', 'muse', 'crires', 'kmos', 'sinfoni', 'amber', 'gravity', 'matisse', 'midi', 'pionier', 'wlgsu']\n"
     ]
    }
   ],
   "source": [
    "print(Eso.list_instruments())"
   ]
  },
  {
   "cell_type": "code",
   "execution_count": 23,
   "id": "39250107-be29-4903-8e80-b986daecc389",
   "metadata": {},
   "outputs": [],
   "source": [
    "#Eso.query_instrument(instrument=\"fors2\")"
   ]
  },
  {
   "cell_type": "markdown",
   "id": "01765edb-51c1-4785-b631-e9d8582c228e",
   "metadata": {},
   "source": [
    "## Target"
   ]
  },
  {
   "cell_type": "code",
   "execution_count": 24,
   "id": "3ccf52e9-6efc-40d6-9de5-64c6068101ad",
   "metadata": {},
   "outputs": [],
   "source": [
    "target_name_simbad = \"BAX 013.5117-28.3994\"\n",
    "target_name_ned = \"RX J0054.0-2823\""
   ]
  },
  {
   "cell_type": "code",
   "execution_count": 25,
   "id": "849ed598-a0f4-45b0-b729-4299ab3ef309",
   "metadata": {},
   "outputs": [],
   "source": [
    "result_table = Simbad.query_object(target_name_simbad)"
   ]
  },
  {
   "cell_type": "code",
   "execution_count": 26,
   "id": "ada732a2-6018-443d-a51e-22d38a407a09",
   "metadata": {},
   "outputs": [],
   "source": [
    "ra_str = result_table['RA'][0] + ' hours'\n",
    "dec_str = result_table['DEC'][0] + ' degree'"
   ]
  },
  {
   "cell_type": "code",
   "execution_count": 27,
   "id": "897ad1a2-10fe-449a-9835-a74d53d7c7f0",
   "metadata": {},
   "outputs": [
    {
     "data": {
      "text/plain": [
       "<SkyCoord (ICRS): (ra, dec) in deg\n",
       "    (13.51166667, -28.39944444)>"
      ]
     },
     "execution_count": 27,
     "metadata": {},
     "output_type": "execute_result"
    }
   ],
   "source": [
    "coord = coordinates.SkyCoord(ra_str,dec_str)\n",
    "coord"
   ]
  },
  {
   "cell_type": "code",
   "execution_count": null,
   "id": "60f1efb1-6c0e-44a7-8d6b-132638dc714b",
   "metadata": {},
   "outputs": [],
   "source": []
  }
 ],
 "metadata": {
  "kernelspec": {
   "display_name": "Python 3 (ipykernel)",
   "language": "python",
   "name": "python3"
  },
  "language_info": {
   "codemirror_mode": {
    "name": "ipython",
    "version": 3
   },
   "file_extension": ".py",
   "mimetype": "text/x-python",
   "name": "python",
   "nbconvert_exporter": "python",
   "pygments_lexer": "ipython3",
   "version": "3.9.15"
  }
 },
 "nbformat": 4,
 "nbformat_minor": 5
}
