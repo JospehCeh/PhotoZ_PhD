{
 "cells": [
  {
   "cell_type": "markdown",
   "id": "9895d4c9-8b55-4296-bc8e-d6ac87c2f93c",
   "metadata": {},
   "source": [
    "# Search FORS2 in IRSA catalogs \n",
    "\n",
    "https://astroquery.readthedocs.io/en/latest/ipac/irsa/irsa.html"
   ]
  },
  {
   "cell_type": "code",
   "execution_count": null,
   "id": "ef1cabd4-1e65-48c8-90cf-7d1be777a524",
   "metadata": {},
   "outputs": [],
   "source": [
    "import matplotlib.pyplot as plt\n",
    "from astropy.wcs import WCS\n",
    "\n",
    "from astroquery.simbad import Simbad\n",
    "from astroquery.ipac.irsa import Irsa\n",
    " \n",
    "\n",
    "import astropy.coordinates as coordinates\n",
    "from astropy.coordinates import Angle\n",
    "import astropy.units as u\n",
    "\n",
    "import h5py\n",
    "import pandas as pd\n",
    "import numpy as np\n"
   ]
  },
  {
   "cell_type": "code",
   "execution_count": null,
   "id": "fb3f2f01-b7e4-42d3-b794-bba757712e0e",
   "metadata": {},
   "outputs": [],
   "source": [
    "from astropy.table.pprint import conf\n",
    "#conf.max_lines = -1\n",
    "#conf.max_width = -1"
   ]
  },
  {
   "cell_type": "code",
   "execution_count": null,
   "id": "b56a3bbb-e9c3-44c2-bfad-d258167d3e07",
   "metadata": {},
   "outputs": [],
   "source": [
    "def GetColumnHfData(hff,list_of_keys,nameval):\n",
    "    \"\"\"\n",
    "    Extract hff atttribute \n",
    "    \n",
    "    parameters\n",
    "      hff           : descriptor of h5 file\n",
    "      list_of_keys : list of exposures\n",
    "      nameval      : name of the attribute\n",
    "      \n",
    "    return\n",
    "           the array of values in the order of \n",
    "    \"\"\"\n",
    "    \n",
    "\n",
    "    all_data = []\n",
    "    for key in list_of_keys:\n",
    "        group=hff.get(key)\n",
    "        val=group.attrs[nameval]\n",
    "        all_data.append(val)\n",
    "    return all_data\n"
   ]
  },
  {
   "cell_type": "markdown",
   "id": "fa2035d2-812e-4d4e-9609-55c83d0735c9",
   "metadata": {},
   "source": [
    "## Fors2 catalog"
   ]
  },
  {
   "cell_type": "code",
   "execution_count": null,
   "id": "038509c3-ed83-4e52-b07f-c99046792707",
   "metadata": {},
   "outputs": [],
   "source": [
    "input_file_h5  = '../data/FORS2spectra.hdf5'"
   ]
  },
  {
   "cell_type": "code",
   "execution_count": null,
   "id": "ca5b3884-864e-4891-84b3-4adaa83834a9",
   "metadata": {},
   "outputs": [],
   "source": [
    "hf =  h5py.File(input_file_h5, 'r') \n",
    "list_of_keys = list(hf.keys())"
   ]
  },
  {
   "cell_type": "code",
   "execution_count": null,
   "id": "575c9fb8-8273-4f12-b771-be10b4ad3640",
   "metadata": {},
   "outputs": [],
   "source": [
    "# pick one key    \n",
    "key_sel =  list_of_keys[0]\n",
    "# pick one group\n",
    "group = hf.get(key_sel)  \n"
   ]
  },
  {
   "cell_type": "code",
   "execution_count": null,
   "id": "b59c7df2-c77f-458e-9b11-40e763b6e254",
   "metadata": {},
   "outputs": [],
   "source": [
    "#pickup all attribute names\n",
    "all_subgroup_keys = []\n",
    "for k in group.attrs.keys():\n",
    "    all_subgroup_keys.append(k)\n"
   ]
  },
  {
   "cell_type": "code",
   "execution_count": null,
   "id": "e52cfc7d-f23e-49f3-9ae3-d9a2c0c04147",
   "metadata": {},
   "outputs": [],
   "source": [
    "# create info\n",
    "df_info = pd.DataFrame()\n",
    "for key in all_subgroup_keys:\n",
    "    arr=GetColumnHfData(hf, list_of_keys ,key)\n",
    "    df_info[key] = arr\n"
   ]
  },
  {
   "cell_type": "code",
   "execution_count": null,
   "id": "c37d9cdf-25a2-458f-a223-db17d17c9889",
   "metadata": {},
   "outputs": [],
   "source": [
    "df_info.sort_values(by=\"num\", ascending=True,inplace=True)"
   ]
  },
  {
   "cell_type": "code",
   "execution_count": null,
   "id": "fdbb0a34-5d7f-4080-8a71-96fff3821cfa",
   "metadata": {},
   "outputs": [],
   "source": [
    "df_info_num = df_info[\"num\"].values\n",
    "key_tags = [ f\"SPEC{num}\" for num in df_info_num ]\n"
   ]
  },
  {
   "cell_type": "code",
   "execution_count": null,
   "id": "2394a403-0434-427b-9734-6329d3847c6e",
   "metadata": {},
   "outputs": [],
   "source": [
    "df_info = df_info[['num', 'ra', 'dec', 'Rmag','redshift']]"
   ]
  },
  {
   "cell_type": "code",
   "execution_count": null,
   "id": "efcf1ead-db59-42fc-83a9-c100c9bc75c4",
   "metadata": {},
   "outputs": [],
   "source": [
    "df_info"
   ]
  },
  {
   "cell_type": "markdown",
   "id": "65080e5b-5e67-4d08-8962-d1dbd93a20e2",
   "metadata": {},
   "source": [
    "## IRSA catalog"
   ]
  },
  {
   "cell_type": "code",
   "execution_count": null,
   "id": "6ae75559-0f8a-4be0-8e8f-b311d446e98d",
   "metadata": {},
   "outputs": [],
   "source": [
    "Irsa.list_catalogs() "
   ]
  },
  {
   "cell_type": "code",
   "execution_count": null,
   "id": "39250107-be29-4903-8e80-b986daecc389",
   "metadata": {},
   "outputs": [],
   "source": [
    "Irsa.print_catalogs()"
   ]
  },
  {
   "cell_type": "markdown",
   "id": "01765edb-51c1-4785-b631-e9d8582c228e",
   "metadata": {},
   "source": [
    "## Target"
   ]
  },
  {
   "cell_type": "code",
   "execution_count": null,
   "id": "3ccf52e9-6efc-40d6-9de5-64c6068101ad",
   "metadata": {},
   "outputs": [],
   "source": [
    "target_name_simbad = \"BAX 013.5117-28.3994\"\n",
    "target_name_ned = \"RX J0054.0-2823\""
   ]
  },
  {
   "cell_type": "code",
   "execution_count": null,
   "id": "849ed598-a0f4-45b0-b729-4299ab3ef309",
   "metadata": {},
   "outputs": [],
   "source": [
    "result_table = Simbad.query_object(target_name_simbad)"
   ]
  },
  {
   "cell_type": "code",
   "execution_count": null,
   "id": "ada732a2-6018-443d-a51e-22d38a407a09",
   "metadata": {},
   "outputs": [],
   "source": [
    "ra_str = result_table['RA'][0] + ' hours'\n",
    "dec_str = result_table['DEC'][0] + ' degree'"
   ]
  },
  {
   "cell_type": "code",
   "execution_count": null,
   "id": "897ad1a2-10fe-449a-9835-a74d53d7c7f0",
   "metadata": {},
   "outputs": [],
   "source": [
    "coord = coordinates.SkyCoord(ra_str,dec_str)\n",
    "coord"
   ]
  },
  {
   "cell_type": "code",
   "execution_count": null,
   "id": "20dd6a25-d012-4145-846b-4df4738fc2a7",
   "metadata": {},
   "outputs": [],
   "source": [
    "result_table = Irsa.query_region(target_name_simbad, catalog=\"fp_xsc\", spatial=\"Cone\",radius=13 * u.arcmin)"
   ]
  },
  {
   "cell_type": "code",
   "execution_count": null,
   "id": "28a7e83e-aa0a-4088-999e-6640134e45d8",
   "metadata": {},
   "outputs": [],
   "source": [
    "table"
   ]
  },
  {
   "cell_type": "code",
   "execution_count": null,
   "id": "eed1070a-f599-4251-bac8-f0f885b4d28f",
   "metadata": {},
   "outputs": [],
   "source": [
    "dict_of_catalogs = Irsa.list_catalogs() "
   ]
  },
  {
   "cell_type": "code",
   "execution_count": null,
   "id": "959f8dbd-2a22-42a6-9de7-00751ed58449",
   "metadata": {},
   "outputs": [],
   "source": [
    "for cat_key in dict_of_catalogs.keys():\n",
    "    try:\n",
    "        result_table = Irsa.query_region(target_name_simbad, catalog=cat_key, spatial=\"Cone\",radius=13 * u.arcmin)\n",
    "        if len(result_table) >=1:\n",
    "            print(\"==============================================================================\")\n",
    "            print(\"        \",cat_key)\n",
    "            print(result_table)\n",
    "    except OSError as err:\n",
    "        print(\"OS error:\", err)\n",
    "    except ValueError:\n",
    "        print(\"Could not convert data to an integer.\")\n",
    "    except Exception as err:\n",
    "        print(f\"Unexpected {err=}, {type(err)=}\")"
   ]
  },
  {
   "cell_type": "code",
   "execution_count": null,
   "id": "60f1efb1-6c0e-44a7-8d6b-132638dc714b",
   "metadata": {},
   "outputs": [],
   "source": []
  }
 ],
 "metadata": {
  "kernelspec": {
   "display_name": "Python 3 (ipykernel)",
   "language": "python",
   "name": "python3"
  },
  "language_info": {
   "codemirror_mode": {
    "name": "ipython",
    "version": 3
   },
   "file_extension": ".py",
   "mimetype": "text/x-python",
   "name": "python",
   "nbconvert_exporter": "python",
   "pygments_lexer": "ipython3",
   "version": "3.9.15"
  }
 },
 "nbformat": 4,
 "nbformat_minor": 5
}
