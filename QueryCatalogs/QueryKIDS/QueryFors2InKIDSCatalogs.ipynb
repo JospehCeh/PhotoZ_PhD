{
 "cells": [
  {
   "cell_type": "markdown",
   "id": "9895d4c9-8b55-4296-bc8e-d6ac87c2f93c",
   "metadata": {},
   "source": [
    "# Search FORS2 galaxies in KIDS catalogs\n",
    "\n",
    "https://astroquery.readthedocs.io/en/latest/ukidss/ukidss.html"
   ]
  },
  {
   "cell_type": "code",
   "execution_count": 1,
   "id": "ef1cabd4-1e65-48c8-90cf-7d1be777a524",
   "metadata": {},
   "outputs": [],
   "source": [
    "import matplotlib.pyplot as plt\n",
    "from astropy.wcs import WCS\n",
    "from astroquery.ukidss import Ukidss\n",
    "from astroquery.simbad import Simbad\n",
    "from astropy.coordinates import SkyCoord\n",
    "import astropy.coordinates as coordinates\n",
    "from astropy.coordinates import angular_separation\n",
    "#(lon1, lat1, lon2, lat2)\n",
    "from astropy.coordinates import Angle\n",
    "import astropy.units as u\n",
    "import h5py\n",
    "import pandas as pd\n",
    "import numpy as np"
   ]
  },
  {
   "cell_type": "code",
   "execution_count": 2,
   "id": "734cee9c-0b68-4978-8013-c9809ec35e96",
   "metadata": {},
   "outputs": [],
   "source": [
    "def GetColumnHfData(hff,list_of_keys,nameval):\n",
    "    \"\"\"\n",
    "    Extract hff atttribute \n",
    "    \n",
    "    parameters\n",
    "      hff           : descriptor of h5 file\n",
    "      list_of_keys : list of exposures\n",
    "      nameval      : name of the attribute\n",
    "      \n",
    "    return\n",
    "           the array of values in the order of \n",
    "    \"\"\"\n",
    "    \n",
    "\n",
    "    all_data = []\n",
    "    for key in list_of_keys:\n",
    "        group=hff.get(key)\n",
    "        val=group.attrs[nameval]\n",
    "        all_data.append(val)\n",
    "    return all_data\n"
   ]
  },
  {
   "cell_type": "code",
   "execution_count": 3,
   "id": "4a4a8dce-3b02-4d1c-92e2-7d6189c5381d",
   "metadata": {},
   "outputs": [],
   "source": [
    "def ReadFors2h5FileAttributes(hf):\n",
    "    hf =  h5py.File(input_file_h5, 'r') \n",
    "    list_of_keys = list(hf.keys())\n",
    "    # pick one key    \n",
    "    key_sel =  list_of_keys[0]\n",
    "    # pick one group\n",
    "    group = hf.get(key_sel)  \n",
    "    #pickup all attribute names\n",
    "    all_subgroup_keys = []\n",
    "    for k in group.attrs.keys():\n",
    "        all_subgroup_keys.append(k)\n",
    "    # create info\n",
    "    df_info = pd.DataFrame()\n",
    "    for key in all_subgroup_keys:\n",
    "        arr=GetColumnHfData(hf, list_of_keys ,key)\n",
    "        df_info[key] = arr\n",
    "    df_info.sort_values(by=\"num\", ascending=True,inplace=True)\n",
    "    df_info_num = df_info[\"num\"].values\n",
    "    key_tags = [ f\"SPEC{num}\" for num in df_info_num ]\n",
    "    df_info[\"name\"] = key_tags\n",
    "    \n",
    "    #'Nsp', 'RT', 'RV', 'Rmag', 'dec', 'eRV', 'lines', 'num', 'ra', 'redshift',\n",
    "    \n",
    "    df_info = df_info[['num' ,'name', 'ra', 'dec', 'Rmag','redshift','lines','RT','RV','eRV','Nsp']]\n",
    "    return df_info\n",
    "    "
   ]
  },
  {
   "cell_type": "markdown",
   "id": "07510f1a-0cb1-4ea9-a1ca-19d0df3bb6d8",
   "metadata": {},
   "source": [
    "## Catalogs"
   ]
  },
  {
   "cell_type": "code",
   "execution_count": 4,
   "id": "1c80bd21-093b-4882-a57c-94fe6f0fa61f",
   "metadata": {},
   "outputs": [
    {
     "data": {
      "text/plain": [
       "['LAS', 'GPS', 'GCS', 'DXS', 'UDS']"
      ]
     },
     "execution_count": 4,
     "metadata": {},
     "output_type": "execute_result"
    }
   ],
   "source": [
    "Ukidss.list_catalogs()"
   ]
  },
  {
   "cell_type": "code",
   "execution_count": 5,
   "id": "bb14315e-0e00-41ba-890b-487472c1bbc8",
   "metadata": {},
   "outputs": [
    {
     "data": {
      "text/plain": [
       "['Large Area Survey',\n",
       " 'Galactic Plane Survey',\n",
       " 'Galactic Clusters Survey',\n",
       " 'Deep Extragalactic Survey',\n",
       " 'Ultra Deep Survey']"
      ]
     },
     "execution_count": 5,
     "metadata": {},
     "output_type": "execute_result"
    }
   ],
   "source": [
    "Ukidss.list_catalogs(style='long')"
   ]
  },
  {
   "cell_type": "markdown",
   "id": "2c184d4f-ca06-493c-9f2f-55e815e45d29",
   "metadata": {},
   "source": [
    "## Read FORS2 catalog"
   ]
  },
  {
   "cell_type": "code",
   "execution_count": 6,
   "id": "3690bc2f-911e-4835-8af7-a5627c5d6896",
   "metadata": {},
   "outputs": [],
   "source": [
    "input_file_h5  = '../data/FORS2spectra.hdf5'"
   ]
  },
  {
   "cell_type": "code",
   "execution_count": 7,
   "id": "68ff1b76-7c3c-473a-94bf-f0a8387db15b",
   "metadata": {},
   "outputs": [],
   "source": [
    "hf =  h5py.File(input_file_h5, 'r') \n",
    "list_of_keys = list(hf.keys())"
   ]
  },
  {
   "cell_type": "code",
   "execution_count": 8,
   "id": "2e14e157-ed8f-4587-b4bd-9412de3d0169",
   "metadata": {},
   "outputs": [],
   "source": [
    "df_info = ReadFors2h5FileAttributes(hf)"
   ]
  },
  {
   "cell_type": "code",
   "execution_count": 9,
   "id": "5d5a2c95-785a-46d2-8272-b4db627638fd",
   "metadata": {},
   "outputs": [],
   "source": [
    "df_info = df_info[['num', 'ra', 'dec', 'Rmag','redshift']]"
   ]
  },
  {
   "cell_type": "code",
   "execution_count": 10,
   "id": "c640c39f-28c4-4267-9699-f05721d91d74",
   "metadata": {},
   "outputs": [],
   "source": [
    "df_info.reset_index(drop=True, inplace=True) "
   ]
  },
  {
   "cell_type": "code",
   "execution_count": 11,
   "id": "f4d042fe-4ed0-41d3-aa3e-a446be56d774",
   "metadata": {},
   "outputs": [
    {
     "data": {
      "text/html": [
       "<div>\n",
       "<style scoped>\n",
       "    .dataframe tbody tr th:only-of-type {\n",
       "        vertical-align: middle;\n",
       "    }\n",
       "\n",
       "    .dataframe tbody tr th {\n",
       "        vertical-align: top;\n",
       "    }\n",
       "\n",
       "    .dataframe thead th {\n",
       "        text-align: right;\n",
       "    }\n",
       "</style>\n",
       "<table border=\"1\" class=\"dataframe\">\n",
       "  <thead>\n",
       "    <tr style=\"text-align: right;\">\n",
       "      <th></th>\n",
       "      <th>num</th>\n",
       "      <th>ra</th>\n",
       "      <th>dec</th>\n",
       "      <th>Rmag</th>\n",
       "      <th>redshift</th>\n",
       "    </tr>\n",
       "  </thead>\n",
       "  <tbody>\n",
       "    <tr>\n",
       "      <th>0</th>\n",
       "      <td>2</td>\n",
       "      <td>13.52997</td>\n",
       "      <td>-28.44776</td>\n",
       "      <td>21.18</td>\n",
       "      <td>0.34555</td>\n",
       "    </tr>\n",
       "    <tr>\n",
       "      <th>1</th>\n",
       "      <td>3</td>\n",
       "      <td>13.52552</td>\n",
       "      <td>-28.42080</td>\n",
       "      <td>21.45</td>\n",
       "      <td>0.68660</td>\n",
       "    </tr>\n",
       "    <tr>\n",
       "      <th>2</th>\n",
       "      <td>9</td>\n",
       "      <td>13.50219</td>\n",
       "      <td>-28.40641</td>\n",
       "      <td>21.60</td>\n",
       "      <td>0.29266</td>\n",
       "    </tr>\n",
       "    <tr>\n",
       "      <th>3</th>\n",
       "      <td>13</td>\n",
       "      <td>13.49261</td>\n",
       "      <td>-28.38272</td>\n",
       "      <td>23.14</td>\n",
       "      <td>0.68870</td>\n",
       "    </tr>\n",
       "    <tr>\n",
       "      <th>4</th>\n",
       "      <td>19</td>\n",
       "      <td>13.60758</td>\n",
       "      <td>-28.43452</td>\n",
       "      <td>21.70</td>\n",
       "      <td>0.48395</td>\n",
       "    </tr>\n",
       "    <tr>\n",
       "      <th>...</th>\n",
       "      <td>...</td>\n",
       "      <td>...</td>\n",
       "      <td>...</td>\n",
       "      <td>...</td>\n",
       "      <td>...</td>\n",
       "    </tr>\n",
       "    <tr>\n",
       "      <th>545</th>\n",
       "      <td>734</td>\n",
       "      <td>13.68083</td>\n",
       "      <td>-28.23290</td>\n",
       "      <td>0.00</td>\n",
       "      <td>0.23012</td>\n",
       "    </tr>\n",
       "    <tr>\n",
       "      <th>546</th>\n",
       "      <td>735</td>\n",
       "      <td>13.69958</td>\n",
       "      <td>-28.23161</td>\n",
       "      <td>19.28</td>\n",
       "      <td>0.36169</td>\n",
       "    </tr>\n",
       "    <tr>\n",
       "      <th>547</th>\n",
       "      <td>736</td>\n",
       "      <td>13.66431</td>\n",
       "      <td>-28.22849</td>\n",
       "      <td>21.64</td>\n",
       "      <td>0.55777</td>\n",
       "    </tr>\n",
       "    <tr>\n",
       "      <th>548</th>\n",
       "      <td>737</td>\n",
       "      <td>13.62722</td>\n",
       "      <td>-28.22692</td>\n",
       "      <td>21.40</td>\n",
       "      <td>0.52001</td>\n",
       "    </tr>\n",
       "    <tr>\n",
       "      <th>549</th>\n",
       "      <td>738</td>\n",
       "      <td>13.64370</td>\n",
       "      <td>-28.22527</td>\n",
       "      <td>19.73</td>\n",
       "      <td>0.56044</td>\n",
       "    </tr>\n",
       "  </tbody>\n",
       "</table>\n",
       "<p>550 rows × 5 columns</p>\n",
       "</div>"
      ],
      "text/plain": [
       "     num        ra       dec   Rmag  redshift\n",
       "0      2  13.52997 -28.44776  21.18   0.34555\n",
       "1      3  13.52552 -28.42080  21.45   0.68660\n",
       "2      9  13.50219 -28.40641  21.60   0.29266\n",
       "3     13  13.49261 -28.38272  23.14   0.68870\n",
       "4     19  13.60758 -28.43452  21.70   0.48395\n",
       "..   ...       ...       ...    ...       ...\n",
       "545  734  13.68083 -28.23290   0.00   0.23012\n",
       "546  735  13.69958 -28.23161  19.28   0.36169\n",
       "547  736  13.66431 -28.22849  21.64   0.55777\n",
       "548  737  13.62722 -28.22692  21.40   0.52001\n",
       "549  738  13.64370 -28.22527  19.73   0.56044\n",
       "\n",
       "[550 rows x 5 columns]"
      ]
     },
     "execution_count": 11,
     "metadata": {},
     "output_type": "execute_result"
    }
   ],
   "source": [
    "df_info"
   ]
  },
  {
   "cell_type": "markdown",
   "id": "7434bcc6-b6ee-423e-94bd-5cc666c8c1b3",
   "metadata": {},
   "source": [
    "## KIDS catalog"
   ]
  },
  {
   "cell_type": "markdown",
   "id": "3220d4e4-0fa9-436d-b930-e89aa5c03d52",
   "metadata": {},
   "source": [
    "### find central cluster coordinates"
   ]
  },
  {
   "cell_type": "code",
   "execution_count": 12,
   "id": "3ccf52e9-6efc-40d6-9de5-64c6068101ad",
   "metadata": {},
   "outputs": [],
   "source": [
    "target_name_simbad = \"BAX 013.5117-28.3994\"\n",
    "target_name_ned = \"RX J0054.0-2823\""
   ]
  },
  {
   "cell_type": "code",
   "execution_count": 13,
   "id": "8b01d3ff-5151-4002-9599-33b900c3778c",
   "metadata": {},
   "outputs": [],
   "source": [
    "result_table = Simbad.query_object(target_name_simbad)"
   ]
  },
  {
   "cell_type": "code",
   "execution_count": 14,
   "id": "e783645e-90eb-46f7-98f1-8956851c255c",
   "metadata": {},
   "outputs": [
    {
     "data": {
      "text/html": [
       "<div><i>Table length=1</i>\n",
       "<table id=\"table140598791270160\" class=\"table-striped table-bordered table-condensed\">\n",
       "<thead><tr><th>MAIN_ID</th><th>RA</th><th>DEC</th><th>RA_PREC</th><th>DEC_PREC</th><th>COO_ERR_MAJA</th><th>COO_ERR_MINA</th><th>COO_ERR_ANGLE</th><th>COO_QUAL</th><th>COO_WAVELENGTH</th><th>COO_BIBCODE</th><th>SCRIPT_NUMBER_ID</th></tr></thead>\n",
       "<thead><tr><th></th><th>&quot;h:m:s&quot;</th><th>&quot;d:m:s&quot;</th><th></th><th></th><th>mas</th><th>mas</th><th>deg</th><th></th><th></th><th></th><th></th></tr></thead>\n",
       "<thead><tr><th>object</th><th>str13</th><th>str13</th><th>int16</th><th>int16</th><th>float32</th><th>float32</th><th>int16</th><th>str1</th><th>str1</th><th>object</th><th>int32</th></tr></thead>\n",
       "<tr><td>BAX 013.5117-28.3994</td><td>00 54 02.8</td><td>-28 23 58</td><td>5</td><td>5</td><td>--</td><td>--</td><td>0</td><td>D</td><td></td><td>1998ApJ...502..558V</td><td>1</td></tr>\n",
       "</table></div>"
      ],
      "text/plain": [
       "<Table length=1>\n",
       "      MAIN_ID            RA        DEC    RA_PREC DEC_PREC COO_ERR_MAJA COO_ERR_MINA COO_ERR_ANGLE COO_QUAL COO_WAVELENGTH     COO_BIBCODE     SCRIPT_NUMBER_ID\n",
       "                      \"h:m:s\"    \"d:m:s\"                       mas          mas           deg                                                                  \n",
       "       object          str13      str13    int16   int16     float32      float32        int16       str1        str1             object            int32      \n",
       "-------------------- ---------- --------- ------- -------- ------------ ------------ ------------- -------- -------------- ------------------- ----------------\n",
       "BAX 013.5117-28.3994 00 54 02.8 -28 23 58       5        5           --           --             0        D                1998ApJ...502..558V                1"
      ]
     },
     "execution_count": 14,
     "metadata": {},
     "output_type": "execute_result"
    }
   ],
   "source": [
    "result_table"
   ]
  },
  {
   "cell_type": "code",
   "execution_count": 15,
   "id": "581ee2de-1d6c-41ca-be35-e0b7923bb56e",
   "metadata": {},
   "outputs": [],
   "source": [
    "ra_str = result_table['RA'][0] + ' hours'\n",
    "dec_str = result_table['DEC'][0] + ' degree'"
   ]
  },
  {
   "cell_type": "code",
   "execution_count": 16,
   "id": "5d2f1329-6108-4f8a-be4e-46cf59c6d3d4",
   "metadata": {},
   "outputs": [
    {
     "data": {
      "text/plain": [
       "<SkyCoord (ICRS): (ra, dec) in deg\n",
       "    (13.51166667, -28.39944444)>"
      ]
     },
     "execution_count": 16,
     "metadata": {},
     "output_type": "execute_result"
    }
   ],
   "source": [
    "coord = coordinates.SkyCoord(ra_str,dec_str)\n",
    "coord"
   ]
  },
  {
   "cell_type": "code",
   "execution_count": 17,
   "id": "c3e29c93-6f3d-48c4-8f0d-bd5fd854e442",
   "metadata": {},
   "outputs": [
    {
     "data": {
      "text/plain": [
       "13.511666666666665"
      ]
     },
     "execution_count": 17,
     "metadata": {},
     "output_type": "execute_result"
    }
   ],
   "source": [
    "coord.ra.deg"
   ]
  },
  {
   "cell_type": "code",
   "execution_count": 18,
   "id": "73261bf6-75a8-43d2-97b8-0e0a948f1dfd",
   "metadata": {},
   "outputs": [
    {
     "data": {
      "text/plain": [
       "-28.399444444444445"
      ]
     },
     "execution_count": 18,
     "metadata": {},
     "output_type": "execute_result"
    }
   ],
   "source": [
    "coord.dec.deg"
   ]
  },
  {
   "cell_type": "code",
   "execution_count": 19,
   "id": "ff618ff0-c4ed-49a9-a06b-dafb5453d8ad",
   "metadata": {},
   "outputs": [
    {
     "name": "stderr",
     "output_type": "stream",
     "text": [
      "WARNING: NoResultsWarning: Query returned no results, so the table will be empty [astroquery.wfau.core]\n"
     ]
    }
   ],
   "source": [
    "result_table = Ukidss.query_region(coordinates.SkyCoord(coord.ra.deg,coord.dec.deg,unit=(u.deg, u.deg),\n",
    "                                           frame='icrs'),radius = 0.25 * u.degree,programme_id=\"GCS\")"
   ]
  },
  {
   "cell_type": "code",
   "execution_count": 20,
   "id": "17236e0a-3590-4ca4-9cd7-799301d255ac",
   "metadata": {},
   "outputs": [
    {
     "data": {
      "text/html": [
       "<div>\n",
       "<style scoped>\n",
       "    .dataframe tbody tr th:only-of-type {\n",
       "        vertical-align: middle;\n",
       "    }\n",
       "\n",
       "    .dataframe tbody tr th {\n",
       "        vertical-align: top;\n",
       "    }\n",
       "\n",
       "    .dataframe thead th {\n",
       "        text-align: right;\n",
       "    }\n",
       "</style>\n",
       "<table border=\"1\" class=\"dataframe\">\n",
       "  <thead>\n",
       "    <tr style=\"text-align: right;\">\n",
       "      <th></th>\n",
       "      <th>sourceID</th>\n",
       "      <th>cuEventID</th>\n",
       "      <th>frameSetID</th>\n",
       "      <th>ra</th>\n",
       "      <th>dec</th>\n",
       "      <th>sigRa</th>\n",
       "      <th>sigDec</th>\n",
       "      <th>epoch</th>\n",
       "      <th>muRa</th>\n",
       "      <th>muDec</th>\n",
       "      <th>...</th>\n",
       "      <th>k_2PA</th>\n",
       "      <th>k_2ErrBits</th>\n",
       "      <th>k_2Deblend</th>\n",
       "      <th>k_2Class</th>\n",
       "      <th>k_2ClassStat</th>\n",
       "      <th>k_2ppErrBits</th>\n",
       "      <th>k_2SeqNum</th>\n",
       "      <th>k_2Xi</th>\n",
       "      <th>k_2Eta</th>\n",
       "      <th>distance</th>\n",
       "    </tr>\n",
       "  </thead>\n",
       "  <tbody>\n",
       "  </tbody>\n",
       "</table>\n",
       "<p>0 rows × 229 columns</p>\n",
       "</div>"
      ],
      "text/plain": [
       "Empty DataFrame\n",
       "Columns: [sourceID, cuEventID, frameSetID, ra, dec, sigRa, sigDec, epoch, muRa, muDec, sigMuRa, sigMuDec, chi2, nFrames, cx, cy, cz, htmID, l, b, lambda, eta, priOrSec, zmyPnt, zmyPntErr, ymjPnt, ymjPntErr, jmhPnt, jmhPntErr, hmkPnt, hmkPntErr, hmk_1Pnt, hmk_1PntErr, hmk_2Pnt, hmk_2PntErr, zmyExt, zmyExtErr, ymjExt, ymjExtErr, jmhExt, jmhExtErr, hmkExt, hmkExtErr, hmk_1Ext, hmk_1ExtErr, hmk_2Ext, hmk_2ExtErr, mergedClassStat, mergedClass, pStar, pGalaxy, pNoise, pSaturated, zHallMag, zHallMagErr, zPetroMag, zPetroMagErr, zPsfMag, zPsfMagErr, zSerMag2D, zSerMag2DErr, zAperMag3, zAperMag3Err, zAperMag4, zAperMag4Err, zAperMag6, zAperMag6Err, zGausig, zEll, zPA, zErrBits, zDeblend, zClass, zClassStat, zppErrBits, zSeqNum, zXi, zEta, yHallMag, yHallMagErr, yPetroMag, yPetroMagErr, yPsfMag, yPsfMagErr, ySerMag2D, ySerMag2DErr, yAperMag3, yAperMag3Err, yAperMag4, yAperMag4Err, yAperMag6, yAperMag6Err, yGausig, yEll, yPA, yErrBits, yDeblend, yClass, yClassStat, yppErrBits, ...]\n",
       "Index: []\n",
       "\n",
       "[0 rows x 229 columns]"
      ]
     },
     "execution_count": 20,
     "metadata": {},
     "output_type": "execute_result"
    }
   ],
   "source": [
    "result_ptable = result_table.to_pandas()\n",
    "result_ptable.head()"
   ]
  },
  {
   "cell_type": "code",
   "execution_count": 21,
   "id": "11abdc35-26cd-4b28-a21b-8f8ef22935ed",
   "metadata": {},
   "outputs": [
    {
     "data": {
      "text/plain": [
       "Index(['sourceID', 'cuEventID', 'frameSetID', 'ra', 'dec', 'sigRa', 'sigDec',\n",
       "       'epoch', 'muRa', 'muDec',\n",
       "       ...\n",
       "       'k_2PA', 'k_2ErrBits', 'k_2Deblend', 'k_2Class', 'k_2ClassStat',\n",
       "       'k_2ppErrBits', 'k_2SeqNum', 'k_2Xi', 'k_2Eta', 'distance'],\n",
       "      dtype='object', length=229)"
      ]
     },
     "execution_count": 21,
     "metadata": {},
     "output_type": "execute_result"
    }
   ],
   "source": [
    "result_ptable.columns"
   ]
  },
  {
   "cell_type": "code",
   "execution_count": 22,
   "id": "c53db4cb-bf66-4ef4-a9fd-0019eaa0f0fa",
   "metadata": {},
   "outputs": [],
   "source": [
    "N = len(result_table)"
   ]
  },
  {
   "cell_type": "code",
   "execution_count": 23,
   "id": "707e8b6f-ebda-4d2d-b43c-a7afce2aec03",
   "metadata": {},
   "outputs": [],
   "source": [
    "all_ra = np.array([ Angle(result_table['RA'][idx] + ' hours').deg for idx in range(N) ])\n",
    "all_dec = np.array([ Angle(result_table['DEC'][idx] + ' degrees').deg for idx in range(N) ])"
   ]
  },
  {
   "cell_type": "code",
   "execution_count": 24,
   "id": "42a57fdf-09a8-4fa5-beb9-d45c859bd1a2",
   "metadata": {},
   "outputs": [],
   "source": [
    "catalog_kids = SkyCoord(all_ra*u.degree,all_dec*u.degree)"
   ]
  },
  {
   "cell_type": "markdown",
   "id": "824591fc-aef7-4d8f-b5b7-42239128e637",
   "metadata": {},
   "source": [
    "https://docs.astropy.org/en/stable/coordinates/matchsep.html#astropy-coordinates-matching"
   ]
  },
  {
   "cell_type": "code",
   "execution_count": 25,
   "id": "2340fe22-3d0a-417c-abc2-fa57313159cc",
   "metadata": {},
   "outputs": [
    {
     "ename": "ValueError",
     "evalue": "The catalog for coordinate matching cannot be a scalar or length-0.",
     "output_type": "error",
     "traceback": [
      "\u001b[0;31m---------------------------------------------------------------------------\u001b[0m",
      "\u001b[0;31mValueError\u001b[0m                                Traceback (most recent call last)",
      "Input \u001b[0;32mIn [25]\u001b[0m, in \u001b[0;36m<cell line: 5>\u001b[0;34m()\u001b[0m\n\u001b[1;32m      5\u001b[0m \u001b[38;5;28;01mfor\u001b[39;00m index, row \u001b[38;5;129;01min\u001b[39;00m df_info\u001b[38;5;241m.\u001b[39miterrows():\n\u001b[1;32m      6\u001b[0m     c \u001b[38;5;241m=\u001b[39m coordinates\u001b[38;5;241m.\u001b[39mSkyCoord(row[\u001b[38;5;124m'\u001b[39m\u001b[38;5;124mra\u001b[39m\u001b[38;5;124m'\u001b[39m]\u001b[38;5;241m*\u001b[39mu\u001b[38;5;241m.\u001b[39mdegree, row[\u001b[38;5;124m'\u001b[39m\u001b[38;5;124mdec\u001b[39m\u001b[38;5;124m'\u001b[39m]\u001b[38;5;241m*\u001b[39mu\u001b[38;5;241m.\u001b[39mdegree)\n\u001b[0;32m----> 7\u001b[0m     idx, d2d, d3d \u001b[38;5;241m=\u001b[39m \u001b[43mc\u001b[49m\u001b[38;5;241;43m.\u001b[39;49m\u001b[43mmatch_to_catalog_sky\u001b[49m\u001b[43m(\u001b[49m\u001b[43mcatalog_kids\u001b[49m\u001b[43m)\u001b[49m\n\u001b[1;32m      8\u001b[0m     all_idx\u001b[38;5;241m.\u001b[39mappend(idx)\n\u001b[1;32m      9\u001b[0m     all_d2d\u001b[38;5;241m.\u001b[39mappend(Angle(d2d[\u001b[38;5;241m0\u001b[39m])\u001b[38;5;241m.\u001b[39marcsec)\n",
      "File \u001b[0;32m~/anaconda3/envs/prospector/lib/python3.8/site-packages/astropy/coordinates/sky_coordinate.py:1455\u001b[0m, in \u001b[0;36mSkyCoord.match_to_catalog_sky\u001b[0;34m(self, catalogcoord, nthneighbor)\u001b[0m\n\u001b[1;32m   1446\u001b[0m \u001b[38;5;28;01mif\u001b[39;00m \u001b[38;5;129;01mnot\u001b[39;00m (\n\u001b[1;32m   1447\u001b[0m     \u001b[38;5;28misinstance\u001b[39m(catalogcoord, (SkyCoord, BaseCoordinateFrame))\n\u001b[1;32m   1448\u001b[0m     \u001b[38;5;129;01mand\u001b[39;00m catalogcoord\u001b[38;5;241m.\u001b[39mhas_data\n\u001b[1;32m   1449\u001b[0m ):\n\u001b[1;32m   1450\u001b[0m     \u001b[38;5;28;01mraise\u001b[39;00m \u001b[38;5;167;01mTypeError\u001b[39;00m(\n\u001b[1;32m   1451\u001b[0m         \u001b[38;5;124m\"\u001b[39m\u001b[38;5;124mCan only get separation to another SkyCoord or a \u001b[39m\u001b[38;5;124m\"\u001b[39m\n\u001b[1;32m   1452\u001b[0m         \u001b[38;5;124m\"\u001b[39m\u001b[38;5;124mcoordinate frame with data\u001b[39m\u001b[38;5;124m\"\u001b[39m\n\u001b[1;32m   1453\u001b[0m     )\n\u001b[0;32m-> 1455\u001b[0m res \u001b[38;5;241m=\u001b[39m \u001b[43mmatch_coordinates_sky\u001b[49m\u001b[43m(\u001b[49m\n\u001b[1;32m   1456\u001b[0m \u001b[43m    \u001b[49m\u001b[38;5;28;43mself\u001b[39;49m\u001b[43m,\u001b[49m\u001b[43m \u001b[49m\u001b[43mcatalogcoord\u001b[49m\u001b[43m,\u001b[49m\u001b[43m \u001b[49m\u001b[43mnthneighbor\u001b[49m\u001b[38;5;241;43m=\u001b[39;49m\u001b[43mnthneighbor\u001b[49m\u001b[43m,\u001b[49m\u001b[43m \u001b[49m\u001b[43mstorekdtree\u001b[49m\u001b[38;5;241;43m=\u001b[39;49m\u001b[38;5;124;43m\"\u001b[39;49m\u001b[38;5;124;43m_kdtree_sky\u001b[39;49m\u001b[38;5;124;43m\"\u001b[39;49m\n\u001b[1;32m   1457\u001b[0m \u001b[43m\u001b[49m\u001b[43m)\u001b[49m\n\u001b[1;32m   1458\u001b[0m \u001b[38;5;28;01mreturn\u001b[39;00m res\n",
      "File \u001b[0;32m~/anaconda3/envs/prospector/lib/python3.8/site-packages/astropy/coordinates/matching.py:157\u001b[0m, in \u001b[0;36mmatch_coordinates_sky\u001b[0;34m(matchcoord, catalogcoord, nthneighbor, storekdtree)\u001b[0m\n\u001b[1;32m    109\u001b[0m \u001b[38;5;250m\u001b[39m\u001b[38;5;124;03m\"\"\"\u001b[39;00m\n\u001b[1;32m    110\u001b[0m \u001b[38;5;124;03mFinds the nearest on-sky matches of a coordinate or coordinates in\u001b[39;00m\n\u001b[1;32m    111\u001b[0m \u001b[38;5;124;03ma set of catalog coordinates.\u001b[39;00m\n\u001b[0;32m   (...)\u001b[0m\n\u001b[1;32m    154\u001b[0m \u001b[38;5;124;03mor it will fail.\u001b[39;00m\n\u001b[1;32m    155\u001b[0m \u001b[38;5;124;03m\"\"\"\u001b[39;00m\n\u001b[1;32m    156\u001b[0m \u001b[38;5;28;01mif\u001b[39;00m catalogcoord\u001b[38;5;241m.\u001b[39misscalar \u001b[38;5;129;01mor\u001b[39;00m \u001b[38;5;28mlen\u001b[39m(catalogcoord) \u001b[38;5;241m<\u001b[39m \u001b[38;5;241m1\u001b[39m:\n\u001b[0;32m--> 157\u001b[0m     \u001b[38;5;28;01mraise\u001b[39;00m \u001b[38;5;167;01mValueError\u001b[39;00m(\n\u001b[1;32m    158\u001b[0m         \u001b[38;5;124m\"\u001b[39m\u001b[38;5;124mThe catalog for coordinate matching cannot be a scalar or length-0.\u001b[39m\u001b[38;5;124m\"\u001b[39m\n\u001b[1;32m    159\u001b[0m     )\n\u001b[1;32m    161\u001b[0m \u001b[38;5;66;03m# send to catalog frame\u001b[39;00m\n\u001b[1;32m    162\u001b[0m \u001b[38;5;28;01mif\u001b[39;00m \u001b[38;5;28misinstance\u001b[39m(matchcoord, SkyCoord):\n",
      "\u001b[0;31mValueError\u001b[0m: The catalog for coordinate matching cannot be a scalar or length-0."
     ]
    }
   ],
   "source": [
    "all_idx = []  # index of the match\n",
    "all_d2d = []  # distance in arcsec\n",
    "all_d3d = []\n",
    "\n",
    "for index, row in df_info.iterrows():\n",
    "    c = coordinates.SkyCoord(row['ra']*u.degree, row['dec']*u.degree)\n",
    "    idx, d2d, d3d = c.match_to_catalog_sky(catalog_kids)\n",
    "    all_idx.append(idx)\n",
    "    all_d2d.append(Angle(d2d[0]).arcsec)\n",
    "    all_d3d.append(d3d)\n",
    "    #print(idx,Angle(d2d[0]).arcsec,d3d)\n",
    "    \n"
   ]
  },
  {
   "cell_type": "code",
   "execution_count": null,
   "id": "0795d770-498b-4d80-9ddc-05ce60c17109",
   "metadata": {},
   "outputs": [],
   "source": [
    "plt.hist(all_d2d,bins=50,range=(0,0.2));\n",
    "plt.xlabel(\"cross-match angle in arcsec\")"
   ]
  },
  {
   "cell_type": "code",
   "execution_count": null,
   "id": "46685a14-c774-4c19-9784-dfe1001e35bb",
   "metadata": {},
   "outputs": [],
   "source": []
  }
 ],
 "metadata": {
  "kernelspec": {
   "display_name": "Python 3 (ipykernel)",
   "language": "python",
   "name": "python3"
  },
  "language_info": {
   "codemirror_mode": {
    "name": "ipython",
    "version": 3
   },
   "file_extension": ".py",
   "mimetype": "text/x-python",
   "name": "python",
   "nbconvert_exporter": "python",
   "pygments_lexer": "ipython3",
   "version": "3.8.16"
  }
 },
 "nbformat": 4,
 "nbformat_minor": 5
}
