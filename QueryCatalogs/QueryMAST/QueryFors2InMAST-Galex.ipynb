{
 "cells": [
  {
   "cell_type": "markdown",
   "id": "9895d4c9-8b55-4296-bc8e-d6ac87c2f93c",
   "metadata": {},
   "source": [
    "# Search in MAST catalogs \n",
    "\n",
    "https://astroquery.readthedocs.io/en/latest/mast/mast.html"
   ]
  },
  {
   "cell_type": "code",
   "execution_count": 1,
   "id": "ef1cabd4-1e65-48c8-90cf-7d1be777a524",
   "metadata": {},
   "outputs": [],
   "source": [
    "import matplotlib.pyplot as plt\n",
    "from astropy.wcs import WCS\n",
    "\n",
    "from astroquery.simbad import Simbad\n",
    "from astroquery.mast import Observations\n",
    "\n",
    "import astropy.coordinates as coordinates\n",
    "from astropy.coordinates import SkyCoord\n",
    "from astropy.coordinates import angular_separation\n",
    "from astropy.coordinates import Angle\n",
    "import astropy.units as u"
   ]
  },
  {
   "cell_type": "code",
   "execution_count": 2,
   "id": "228a2f74-2b63-450b-b332-94e3a411d7b2",
   "metadata": {},
   "outputs": [],
   "source": [
    "import h5py\n",
    "import pandas as pd\n",
    "import numpy as np"
   ]
  },
  {
   "cell_type": "code",
   "execution_count": 3,
   "id": "fb3f2f01-b7e4-42d3-b794-bba757712e0e",
   "metadata": {},
   "outputs": [],
   "source": [
    "from astropy.table.pprint import conf\n",
    "#conf.max_lines = -1\n",
    "#conf.max_width = -1"
   ]
  },
  {
   "cell_type": "code",
   "execution_count": 4,
   "id": "33796109-45a4-417b-82ae-26990de79b75",
   "metadata": {},
   "outputs": [],
   "source": [
    "def GetColumnHfData(hff,list_of_keys,nameval):\n",
    "    \"\"\"\n",
    "    Extract hff atttribute \n",
    "    \n",
    "    parameters\n",
    "      hff           : descriptor of h5 file\n",
    "      list_of_keys : list of exposures\n",
    "      nameval      : name of the attribute\n",
    "      \n",
    "    return\n",
    "           the array of values in the order of \n",
    "    \"\"\"\n",
    "    all_data = []\n",
    "    for key in list_of_keys:\n",
    "        group=hff.get(key)\n",
    "        val=group.attrs[nameval]\n",
    "        all_data.append(val)\n",
    "    return all_data\n"
   ]
  },
  {
   "cell_type": "code",
   "execution_count": 5,
   "id": "795ae732-a3cb-4757-ac5f-6e9fa96c5a35",
   "metadata": {},
   "outputs": [],
   "source": [
    "def ReadFors2h5FileAttributes(hf):\n",
    "    hf =  h5py.File(input_file_h5, 'r') \n",
    "    list_of_keys = list(hf.keys())\n",
    "    # pick one key    \n",
    "    key_sel =  list_of_keys[0]\n",
    "    # pick one group\n",
    "    group = hf.get(key_sel)  \n",
    "    #pickup all attribute names\n",
    "    all_subgroup_keys = []\n",
    "    for k in group.attrs.keys():\n",
    "        all_subgroup_keys.append(k)\n",
    "    # create info\n",
    "    df_info = pd.DataFrame()\n",
    "    for key in all_subgroup_keys:\n",
    "        arr=GetColumnHfData(hf, list_of_keys ,key)\n",
    "        df_info[key] = arr\n",
    "    df_info.sort_values(by=\"num\", ascending=True,inplace=True)\n",
    "    df_info_num = df_info[\"num\"].values\n",
    "    key_tags = [ f\"SPEC{num}\" for num in df_info_num ]\n",
    "    df_info[\"name\"] = key_tags\n",
    "    \n",
    "    #'Nsp', 'RT', 'RV', 'Rmag', 'dec', 'eRV', 'lines', 'num', 'ra', 'redshift',\n",
    "    \n",
    "    df_info = df_info[['num' ,'name', 'ra', 'dec', 'Rmag','redshift','lines','RT','RV','eRV','Nsp']]\n",
    "    return df_info"
   ]
  },
  {
   "cell_type": "markdown",
   "id": "95284b4a-ce3f-40d3-8d1a-0c1a2cb20793",
   "metadata": {},
   "source": [
    "## Read Fors2"
   ]
  },
  {
   "cell_type": "code",
   "execution_count": 6,
   "id": "07e08afc-e313-4b6b-9328-1bfa0546aec7",
   "metadata": {},
   "outputs": [],
   "source": [
    "input_file_h5  = '../data/FORS2spectra.hdf5'"
   ]
  },
  {
   "cell_type": "code",
   "execution_count": 7,
   "id": "b52e124f-1db8-49b6-b036-8fb235270394",
   "metadata": {},
   "outputs": [],
   "source": [
    "hf =  h5py.File(input_file_h5, 'r') \n",
    "list_of_keys = list(hf.keys())"
   ]
  },
  {
   "cell_type": "code",
   "execution_count": 8,
   "id": "f97b14be-2cf3-411f-8554-4c0e2f447849",
   "metadata": {},
   "outputs": [],
   "source": [
    "df_info = ReadFors2h5FileAttributes(hf)"
   ]
  },
  {
   "cell_type": "code",
   "execution_count": 9,
   "id": "407ff606-ff9f-4b75-bcb4-45584459651f",
   "metadata": {},
   "outputs": [
    {
     "data": {
      "text/html": [
       "<div>\n",
       "<style scoped>\n",
       "    .dataframe tbody tr th:only-of-type {\n",
       "        vertical-align: middle;\n",
       "    }\n",
       "\n",
       "    .dataframe tbody tr th {\n",
       "        vertical-align: top;\n",
       "    }\n",
       "\n",
       "    .dataframe thead th {\n",
       "        text-align: right;\n",
       "    }\n",
       "</style>\n",
       "<table border=\"1\" class=\"dataframe\">\n",
       "  <thead>\n",
       "    <tr style=\"text-align: right;\">\n",
       "      <th></th>\n",
       "      <th>num</th>\n",
       "      <th>name</th>\n",
       "      <th>ra</th>\n",
       "      <th>dec</th>\n",
       "      <th>Rmag</th>\n",
       "      <th>redshift</th>\n",
       "      <th>lines</th>\n",
       "      <th>RT</th>\n",
       "      <th>RV</th>\n",
       "      <th>eRV</th>\n",
       "      <th>Nsp</th>\n",
       "    </tr>\n",
       "  </thead>\n",
       "  <tbody>\n",
       "    <tr>\n",
       "      <th>51</th>\n",
       "      <td>2</td>\n",
       "      <td>SPEC2</td>\n",
       "      <td>13.52997</td>\n",
       "      <td>-28.44776</td>\n",
       "      <td>21.18</td>\n",
       "      <td>0.34555</td>\n",
       "      <td>b'K,H,G,H{beta}                               ...</td>\n",
       "      <td>12.3</td>\n",
       "      <td>103665</td>\n",
       "      <td>40</td>\n",
       "      <td>1</td>\n",
       "    </tr>\n",
       "    <tr>\n",
       "      <th>112</th>\n",
       "      <td>3</td>\n",
       "      <td>SPEC3</td>\n",
       "      <td>13.52552</td>\n",
       "      <td>-28.42080</td>\n",
       "      <td>21.45</td>\n",
       "      <td>0.68660</td>\n",
       "      <td>b'[OII],H9,K,H,H{beta},[OIII],H8              ...</td>\n",
       "      <td>11.6</td>\n",
       "      <td>210642</td>\n",
       "      <td>48</td>\n",
       "      <td>4</td>\n",
       "    </tr>\n",
       "    <tr>\n",
       "      <th>545</th>\n",
       "      <td>9</td>\n",
       "      <td>SPEC9</td>\n",
       "      <td>13.50219</td>\n",
       "      <td>-28.40641</td>\n",
       "      <td>21.60</td>\n",
       "      <td>0.29266</td>\n",
       "      <td>b'H9,H8,K,H                                   ...</td>\n",
       "      <td>13.1</td>\n",
       "      <td>87798</td>\n",
       "      <td>58</td>\n",
       "      <td>1</td>\n",
       "    </tr>\n",
       "    <tr>\n",
       "      <th>17</th>\n",
       "      <td>13</td>\n",
       "      <td>SPEC13</td>\n",
       "      <td>13.49261</td>\n",
       "      <td>-28.38272</td>\n",
       "      <td>23.14</td>\n",
       "      <td>0.68870</td>\n",
       "      <td>b'[OII],H{epsilon},H{delta},H{beta}           ...</td>\n",
       "      <td>0.0</td>\n",
       "      <td>206610</td>\n",
       "      <td>0</td>\n",
       "      <td>1</td>\n",
       "    </tr>\n",
       "    <tr>\n",
       "      <th>43</th>\n",
       "      <td>19</td>\n",
       "      <td>SPEC19</td>\n",
       "      <td>13.60758</td>\n",
       "      <td>-28.43452</td>\n",
       "      <td>21.70</td>\n",
       "      <td>0.48395</td>\n",
       "      <td>b'H10,H9,H8,K,H,H{delta}                      ...</td>\n",
       "      <td>7.1</td>\n",
       "      <td>145185</td>\n",
       "      <td>104</td>\n",
       "      <td>1</td>\n",
       "    </tr>\n",
       "    <tr>\n",
       "      <th>...</th>\n",
       "      <td>...</td>\n",
       "      <td>...</td>\n",
       "      <td>...</td>\n",
       "      <td>...</td>\n",
       "      <td>...</td>\n",
       "      <td>...</td>\n",
       "      <td>...</td>\n",
       "      <td>...</td>\n",
       "      <td>...</td>\n",
       "      <td>...</td>\n",
       "      <td>...</td>\n",
       "    </tr>\n",
       "    <tr>\n",
       "      <th>531</th>\n",
       "      <td>734</td>\n",
       "      <td>SPEC734</td>\n",
       "      <td>13.68083</td>\n",
       "      <td>-28.23290</td>\n",
       "      <td>0.00</td>\n",
       "      <td>0.23012</td>\n",
       "      <td>b'[OII],H9,K,H,H{alpha},NII                   ...</td>\n",
       "      <td>7.2</td>\n",
       "      <td>69036</td>\n",
       "      <td>71</td>\n",
       "      <td>1</td>\n",
       "    </tr>\n",
       "    <tr>\n",
       "      <th>532</th>\n",
       "      <td>735</td>\n",
       "      <td>SPEC735</td>\n",
       "      <td>13.69958</td>\n",
       "      <td>-28.23161</td>\n",
       "      <td>19.28</td>\n",
       "      <td>0.36169</td>\n",
       "      <td>b'K,H,G,H{beta}                               ...</td>\n",
       "      <td>8.2</td>\n",
       "      <td>108507</td>\n",
       "      <td>107</td>\n",
       "      <td>1</td>\n",
       "    </tr>\n",
       "    <tr>\n",
       "      <th>533</th>\n",
       "      <td>736</td>\n",
       "      <td>SPEC736</td>\n",
       "      <td>13.66431</td>\n",
       "      <td>-28.22849</td>\n",
       "      <td>21.64</td>\n",
       "      <td>0.55777</td>\n",
       "      <td>b'[OII],H9,H{beta},[OIII]                     ...</td>\n",
       "      <td>10.5</td>\n",
       "      <td>167331</td>\n",
       "      <td>31</td>\n",
       "      <td>1</td>\n",
       "    </tr>\n",
       "    <tr>\n",
       "      <th>534</th>\n",
       "      <td>737</td>\n",
       "      <td>SPEC737</td>\n",
       "      <td>13.62722</td>\n",
       "      <td>-28.22692</td>\n",
       "      <td>21.40</td>\n",
       "      <td>0.52001</td>\n",
       "      <td>b'[OII],K,H                                   ...</td>\n",
       "      <td>10.2</td>\n",
       "      <td>156003</td>\n",
       "      <td>53</td>\n",
       "      <td>1</td>\n",
       "    </tr>\n",
       "    <tr>\n",
       "      <th>535</th>\n",
       "      <td>738</td>\n",
       "      <td>SPEC738</td>\n",
       "      <td>13.64370</td>\n",
       "      <td>-28.22527</td>\n",
       "      <td>19.73</td>\n",
       "      <td>0.56044</td>\n",
       "      <td>b'K,H,4000{AA}-break,G                        ...</td>\n",
       "      <td>7.1</td>\n",
       "      <td>168132</td>\n",
       "      <td>126</td>\n",
       "      <td>1</td>\n",
       "    </tr>\n",
       "  </tbody>\n",
       "</table>\n",
       "<p>550 rows × 11 columns</p>\n",
       "</div>"
      ],
      "text/plain": [
       "     num     name        ra       dec   Rmag  redshift  \\\n",
       "51     2    SPEC2  13.52997 -28.44776  21.18   0.34555   \n",
       "112    3    SPEC3  13.52552 -28.42080  21.45   0.68660   \n",
       "545    9    SPEC9  13.50219 -28.40641  21.60   0.29266   \n",
       "17    13   SPEC13  13.49261 -28.38272  23.14   0.68870   \n",
       "43    19   SPEC19  13.60758 -28.43452  21.70   0.48395   \n",
       "..   ...      ...       ...       ...    ...       ...   \n",
       "531  734  SPEC734  13.68083 -28.23290   0.00   0.23012   \n",
       "532  735  SPEC735  13.69958 -28.23161  19.28   0.36169   \n",
       "533  736  SPEC736  13.66431 -28.22849  21.64   0.55777   \n",
       "534  737  SPEC737  13.62722 -28.22692  21.40   0.52001   \n",
       "535  738  SPEC738  13.64370 -28.22527  19.73   0.56044   \n",
       "\n",
       "                                                 lines    RT      RV  eRV  Nsp  \n",
       "51   b'K,H,G,H{beta}                               ...  12.3  103665   40    1  \n",
       "112  b'[OII],H9,K,H,H{beta},[OIII],H8              ...  11.6  210642   48    4  \n",
       "545  b'H9,H8,K,H                                   ...  13.1   87798   58    1  \n",
       "17   b'[OII],H{epsilon},H{delta},H{beta}           ...   0.0  206610    0    1  \n",
       "43   b'H10,H9,H8,K,H,H{delta}                      ...   7.1  145185  104    1  \n",
       "..                                                 ...   ...     ...  ...  ...  \n",
       "531  b'[OII],H9,K,H,H{alpha},NII                   ...   7.2   69036   71    1  \n",
       "532  b'K,H,G,H{beta}                               ...   8.2  108507  107    1  \n",
       "533  b'[OII],H9,H{beta},[OIII]                     ...  10.5  167331   31    1  \n",
       "534  b'[OII],K,H                                   ...  10.2  156003   53    1  \n",
       "535  b'K,H,4000{AA}-break,G                        ...   7.1  168132  126    1  \n",
       "\n",
       "[550 rows x 11 columns]"
      ]
     },
     "execution_count": 9,
     "metadata": {},
     "output_type": "execute_result"
    }
   ],
   "source": [
    "df_info"
   ]
  },
  {
   "cell_type": "markdown",
   "id": "4b1c08fc-67f6-41e0-8842-f53367ac7d58",
   "metadata": {},
   "source": [
    "## Observations"
   ]
  },
  {
   "cell_type": "code",
   "execution_count": 10,
   "id": "31d576e0-3240-469d-982a-939a999a3471",
   "metadata": {},
   "outputs": [
    {
     "name": "stdout",
     "output_type": "stream",
     "text": [
      "['IUE', 'FIMS-SPEAR', 'BEFS', 'HUT', 'GALEX', 'Kepler', 'KeplerFFI', 'HLA', 'HST', 'EUVE', 'TUES', 'TESS', 'K2', 'K2FFI', 'HLSP', 'SPITZER_SHA', 'JWST', 'PS1', 'OPO', 'WUPPE', 'FUSE', 'SWIFT']\n"
     ]
    }
   ],
   "source": [
    "print(Observations.list_missions())"
   ]
  },
  {
   "cell_type": "markdown",
   "id": "01765edb-51c1-4785-b631-e9d8582c228e",
   "metadata": {},
   "source": [
    "## Target"
   ]
  },
  {
   "cell_type": "code",
   "execution_count": 11,
   "id": "3ccf52e9-6efc-40d6-9de5-64c6068101ad",
   "metadata": {},
   "outputs": [],
   "source": [
    "target_name_simbad = \"BAX 013.5117-28.3994\"\n",
    "target_name_ned = \"RX J0054.0-2823\""
   ]
  },
  {
   "cell_type": "code",
   "execution_count": 12,
   "id": "849ed598-a0f4-45b0-b729-4299ab3ef309",
   "metadata": {},
   "outputs": [],
   "source": [
    "result_table = Simbad.query_object(target_name_simbad)"
   ]
  },
  {
   "cell_type": "code",
   "execution_count": 13,
   "id": "ada732a2-6018-443d-a51e-22d38a407a09",
   "metadata": {},
   "outputs": [],
   "source": [
    "ra_str = result_table['RA'][0] + ' hours'\n",
    "dec_str = result_table['DEC'][0] + ' degree'"
   ]
  },
  {
   "cell_type": "code",
   "execution_count": 14,
   "id": "897ad1a2-10fe-449a-9835-a74d53d7c7f0",
   "metadata": {},
   "outputs": [
    {
     "data": {
      "text/plain": [
       "<SkyCoord (ICRS): (ra, dec) in deg\n",
       "    (13.51166667, -28.39944444)>"
      ]
     },
     "execution_count": 14,
     "metadata": {},
     "output_type": "execute_result"
    }
   ],
   "source": [
    "coord = coordinates.SkyCoord(ra_str,dec_str)\n",
    "coord"
   ]
  },
  {
   "cell_type": "markdown",
   "id": "13eef2f3-0a29-4af0-9b82-03d3718cc08b",
   "metadata": {},
   "source": [
    "## MAST Observations"
   ]
  },
  {
   "cell_type": "code",
   "execution_count": 15,
   "id": "43916b42-db68-4b4a-bfaa-480395271abe",
   "metadata": {},
   "outputs": [],
   "source": [
    "obs_table = Observations.query_object(target_name_simbad,radius=\"0.25deg\")"
   ]
  },
  {
   "cell_type": "code",
   "execution_count": 16,
   "id": "faf70057-9d62-43dc-84ee-66f604a921f0",
   "metadata": {},
   "outputs": [
    {
     "data": {
      "text/html": [
       "<div><i>Table masked=True length=311</i>\n",
       "<table id=\"table140564863247888\" class=\"table-striped table-bordered table-condensed\">\n",
       "<thead><tr><th>intentType</th><th>obs_collection</th><th>provenance_name</th><th>instrument_name</th><th>project</th><th>filters</th><th>wavelength_region</th><th>target_name</th><th>target_classification</th><th>obs_id</th><th>s_ra</th><th>s_dec</th><th>dataproduct_type</th><th>proposal_pi</th><th>calib_level</th><th>t_min</th><th>t_max</th><th>t_exptime</th><th>em_min</th><th>em_max</th><th>obs_title</th><th>t_obs_release</th><th>proposal_id</th><th>proposal_type</th><th>sequence_number</th><th>s_region</th><th>jpegURL</th><th>dataURL</th><th>dataRights</th><th>mtFlag</th><th>srcDen</th><th>obsid</th><th>distance</th></tr></thead>\n",
       "<thead><tr><th>str7</th><th>str5</th><th>str17</th><th>str10</th><th>str4</th><th>str4</th><th>str16</th><th>str32</th><th>str1</th><th>str73</th><th>float64</th><th>float64</th><th>str10</th><th>str19</th><th>int64</th><th>float64</th><th>float64</th><th>float64</th><th>float64</th><th>float64</th><th>str14</th><th>float64</th><th>str23</th><th>str3</th><th>int64</th><th>str133</th><th>str120</th><th>str129</th><th>str6</th><th>bool</th><th>float64</th><th>str9</th><th>float64</th></tr></thead>\n",
       "<tr><td>science</td><td>TESS</td><td>SPOC</td><td>Photometer</td><td>TESS</td><td>TESS</td><td>Optical</td><td>TESS FFI</td><td>--</td><td>tess-s0003-2-4</td><td>18.82454293614978</td><td>-31.040788897335645</td><td>image</td><td>Ricker, George</td><td>3</td><td>58381.546141770836</td><td>58408.879141261576</td><td>1425.599424</td><td>600.0</td><td>1000.0</td><td>--</td><td>58507.6666666</td><td>N/A</td><td>--</td><td>3</td><td>POLYGON 22.278127 -23.114227 28.285859 -33.79011 14.400627 -38.731614 10.254244 -27.780414 22.278127 -23.114227</td><td>--</td><td>--</td><td>PUBLIC</td><td>False</td><td>nan</td><td>60942206</td><td>0.0</td></tr>\n",
       "<tr><td>science</td><td>TESS</td><td>SPOC</td><td>Photometer</td><td>TESS</td><td>TESS</td><td>Optical</td><td>TESS FFI</td><td>--</td><td>tess-s0029-2-3</td><td>10.878597490217892</td><td>-34.65291393027482</td><td>image</td><td>Ricker, George</td><td>3</td><td>59087.74000385</td><td>59113.93468316</td><td>475.199793</td><td>600.0</td><td>1000.0</td><td>--</td><td>59158.0</td><td>N/A</td><td>--</td><td>29</td><td>POLYGON 12.83654500 -26.68156200 21.20849700 -35.67388800 8.41085100 -42.87851500 1.00297300 -32.50456800 12.83654500 -26.68156200</td><td>--</td><td>--</td><td>PUBLIC</td><td>False</td><td>nan</td><td>27972860</td><td>0.0</td></tr>\n",
       "<tr><td>science</td><td>TESS</td><td>SPOC</td><td>Photometer</td><td>TESS</td><td>TESS</td><td>Optical</td><td>TESS FFI</td><td>--</td><td>tess-s0030-2-4</td><td>21.316275513239678</td><td>-29.928875993165978</td><td>image</td><td>Ricker, George</td><td>3</td><td>59115.38607926</td><td>59142.7260047</td><td>475.199788</td><td>600.0</td><td>1000.0</td><td>--</td><td>59173.0</td><td>N/A</td><td>--</td><td>30</td><td>POLYGON 24.81211600 -22.02902800 30.63496600 -32.75918900 16.88033600 -37.59161500 12.86359200 -26.62078800 24.81211600 -22.02902800</td><td>--</td><td>--</td><td>PUBLIC</td><td>False</td><td>nan</td><td>28055405</td><td>0.0</td></tr>\n",
       "<tr><td>science</td><td>TESS</td><td>SPOC</td><td>Photometer</td><td>TESS</td><td>TESS</td><td>Optical</td><td>63787839</td><td>--</td><td>tess2020238165205-s0029-0000000063787839-0193-s</td><td>13.2895194155193</td><td>-28.2973699972947</td><td>timeseries</td><td>Ricker, George</td><td>3</td><td>59087.74282196</td><td>59113.93772419</td><td>120.0</td><td>600.0</td><td>1000.0</td><td>--</td><td>59158.0</td><td>G03272</td><td>--</td><td>29</td><td>CIRCLE ICRS 13.28951942 -28.29737000 0.00138889</td><td>--</td><td>mast:TESS/product/tess2020238165205-s0029-0000000063787839-0193-s_lc.fits</td><td>PUBLIC</td><td>False</td><td>nan</td><td>27901915</td><td>789.0070932805666</td></tr>\n",
       "<tr><td>science</td><td>PS1</td><td>3PI</td><td>GPC1</td><td>PS1</td><td>g</td><td>OPTICAL</td><td>0638.085</td><td>--</td><td>rings.v3.skycell.0638.085.stk.g</td><td>13.441716292531964</td><td>-28.59309734059033</td><td>image</td><td>--</td><td>3</td><td>55447.4769591</td><td>56625.270336885165</td><td>645.0</td><td>394299987792.96875</td><td>559299987792.9688</td><td>PS1 3PI Survey</td><td>57741.5416666</td><td>--</td><td>3PI</td><td>--</td><td>POLYGON ICRS    13.689784   -28.810830   13.689703   -28.375747   13.194721   -28.374921   13.192657   -28.809989</td><td>http://ps1images.stsci.edu/cgi-bin/fitscut.cgi?red=rings.v3.skycell/0638/085/rings.v3.skycell.0638.085.stk.g.unconv.fits</td><td>http://ps1images.stsci.edu/rings.v3.skycell/0638/085/rings.v3.skycell.0638.085.stk.g.unconv.fits</td><td>PUBLIC</td><td>--</td><td>5885.0</td><td>1766282</td><td>0.0</td></tr>\n",
       "<tr><td>science</td><td>PS1</td><td>3PI</td><td>GPC1</td><td>PS1</td><td>i</td><td>OPTICAL</td><td>0638.085</td><td>--</td><td>rings.v3.skycell.0638.085.stk.i</td><td>13.441716292531964</td><td>-28.59309734059033</td><td>image</td><td>--</td><td>3</td><td>55457.4569304</td><td>56917.52311593336</td><td>1260.0</td><td>677799987792.9688</td><td>830400024414.0625</td><td>PS1 3PI Survey</td><td>57741.5416666</td><td>--</td><td>3PI</td><td>--</td><td>POLYGON ICRS    13.689784   -28.810830   13.689703   -28.375747   13.194721   -28.374921   13.192657   -28.809989</td><td>http://ps1images.stsci.edu/cgi-bin/fitscut.cgi?red=rings.v3.skycell/0638/085/rings.v3.skycell.0638.085.stk.i.unconv.fits</td><td>http://ps1images.stsci.edu/rings.v3.skycell/0638/085/rings.v3.skycell.0638.085.stk.i.unconv.fits</td><td>PUBLIC</td><td>--</td><td>5885.0</td><td>1766283</td><td>0.0</td></tr>\n",
       "<tr><td>science</td><td>PS1</td><td>3PI</td><td>GPC1</td><td>PS1</td><td>r</td><td>OPTICAL</td><td>0638.085</td><td>--</td><td>rings.v3.skycell.0638.085.stk.r</td><td>13.441716292531964</td><td>-28.59309734059033</td><td>image</td><td>--</td><td>3</td><td>55447.5014007</td><td>56988.28977063336</td><td>950.0</td><td>538599975585.9375</td><td>703599975585.9375</td><td>PS1 3PI Survey</td><td>57741.5416666</td><td>--</td><td>3PI</td><td>--</td><td>POLYGON ICRS    13.689784   -28.810830   13.689703   -28.375747   13.194721   -28.374921   13.192657   -28.809989</td><td>http://ps1images.stsci.edu/cgi-bin/fitscut.cgi?red=rings.v3.skycell/0638/085/rings.v3.skycell.0638.085.stk.r.unconv.fits</td><td>http://ps1images.stsci.edu/rings.v3.skycell/0638/085/rings.v3.skycell.0638.085.stk.r.unconv.fits</td><td>PUBLIC</td><td>--</td><td>5885.0</td><td>1766284</td><td>0.0</td></tr>\n",
       "<tr><td>science</td><td>PS1</td><td>3PI</td><td>GPC1</td><td>PS1</td><td>y</td><td>OPTICAL;INFRARED</td><td>0638.085</td><td>--</td><td>rings.v3.skycell.0638.085.stk.y</td><td>13.441716292531964</td><td>-28.59309734059033</td><td>image</td><td>--</td><td>3</td><td>55402.5694746</td><td>56889.63235872223</td><td>650.0</td><td>910000000000.0</td><td>1083800048828.125</td><td>PS1 3PI Survey</td><td>57741.5416666</td><td>--</td><td>3PI</td><td>--</td><td>POLYGON ICRS    13.689784   -28.810830   13.689703   -28.375747   13.194721   -28.374921   13.192657   -28.809989</td><td>http://ps1images.stsci.edu/cgi-bin/fitscut.cgi?red=rings.v3.skycell/0638/085/rings.v3.skycell.0638.085.stk.y.unconv.fits</td><td>http://ps1images.stsci.edu/rings.v3.skycell/0638/085/rings.v3.skycell.0638.085.stk.y.unconv.fits</td><td>PUBLIC</td><td>--</td><td>5885.0</td><td>1766285</td><td>0.0</td></tr>\n",
       "<tr><td>science</td><td>PS1</td><td>3PI</td><td>GPC1</td><td>PS1</td><td>z</td><td>OPTICAL</td><td>0638.085</td><td>--</td><td>rings.v3.skycell.0638.085.stk.z</td><td>13.441716292531964</td><td>-28.59309734059033</td><td>image</td><td>--</td><td>3</td><td>55401.6151704</td><td>56622.27991124446</td><td>540.0</td><td>802799987792.9688</td><td>934599975585.9375</td><td>PS1 3PI Survey</td><td>57741.5416666</td><td>--</td><td>3PI</td><td>--</td><td>POLYGON ICRS    13.689784   -28.810830   13.689703   -28.375747   13.194721   -28.374921   13.192657   -28.809989</td><td>http://ps1images.stsci.edu/cgi-bin/fitscut.cgi?red=rings.v3.skycell/0638/085/rings.v3.skycell.0638.085.stk.z.unconv.fits</td><td>http://ps1images.stsci.edu/rings.v3.skycell/0638/085/rings.v3.skycell.0638.085.stk.z.unconv.fits</td><td>PUBLIC</td><td>--</td><td>5885.0</td><td>1766286</td><td>0.0</td></tr>\n",
       "<tr><td>science</td><td>PS1</td><td>3PI</td><td>GPC1</td><td>PS1</td><td>g</td><td>OPTICAL</td><td>0638.095</td><td>--</td><td>rings.v3.skycell.0638.095.stk.g</td><td>13.44262805222263</td><td>-28.19141075388904</td><td>image</td><td>--</td><td>3</td><td>55447.4769591</td><td>56625.270336885165</td><td>817.0</td><td>394299987792.96875</td><td>559299987792.9688</td><td>PS1 3PI Survey</td><td>57741.5416666</td><td>--</td><td>3PI</td><td>--</td><td>POLYGON ICRS    13.689709   -28.409055   13.689628   -27.974143   13.196611   -27.973331   13.194564   -28.408227</td><td>http://ps1images.stsci.edu/cgi-bin/fitscut.cgi?red=rings.v3.skycell/0638/095/rings.v3.skycell.0638.095.stk.g.unconv.fits</td><td>http://ps1images.stsci.edu/rings.v3.skycell/0638/095/rings.v3.skycell.0638.095.stk.g.unconv.fits</td><td>PUBLIC</td><td>--</td><td>5885.0</td><td>1766332</td><td>0.0</td></tr>\n",
       "<tr><td>science</td><td>PS1</td><td>3PI</td><td>GPC1</td><td>PS1</td><td>i</td><td>OPTICAL</td><td>0638.095</td><td>--</td><td>rings.v3.skycell.0638.095.stk.i</td><td>13.44262805222263</td><td>-28.19141075388904</td><td>image</td><td>--</td><td>3</td><td>55457.4569304</td><td>56917.52311593336</td><td>1350.0</td><td>677799987792.9688</td><td>830400024414.0625</td><td>PS1 3PI Survey</td><td>57741.5416666</td><td>--</td><td>3PI</td><td>--</td><td>POLYGON ICRS    13.689709   -28.409055   13.689628   -27.974143   13.196611   -27.973331   13.194564   -28.408227</td><td>http://ps1images.stsci.edu/cgi-bin/fitscut.cgi?red=rings.v3.skycell/0638/095/rings.v3.skycell.0638.095.stk.i.unconv.fits</td><td>http://ps1images.stsci.edu/rings.v3.skycell/0638/095/rings.v3.skycell.0638.095.stk.i.unconv.fits</td><td>PUBLIC</td><td>--</td><td>5885.0</td><td>1766333</td><td>0.0</td></tr>\n",
       "<tr><td>science</td><td>PS1</td><td>3PI</td><td>GPC1</td><td>PS1</td><td>r</td><td>OPTICAL</td><td>0638.095</td><td>--</td><td>rings.v3.skycell.0638.095.stk.r</td><td>13.44262805222263</td><td>-28.19141075388904</td><td>image</td><td>--</td><td>3</td><td>55447.5014007</td><td>56988.28977063336</td><td>980.0</td><td>538599975585.9375</td><td>703599975585.9375</td><td>PS1 3PI Survey</td><td>57741.5416666</td><td>--</td><td>3PI</td><td>--</td><td>POLYGON ICRS    13.689709   -28.409055   13.689628   -27.974143   13.196611   -27.973331   13.194564   -28.408227</td><td>http://ps1images.stsci.edu/cgi-bin/fitscut.cgi?red=rings.v3.skycell/0638/095/rings.v3.skycell.0638.095.stk.r.unconv.fits</td><td>http://ps1images.stsci.edu/rings.v3.skycell/0638/095/rings.v3.skycell.0638.095.stk.r.unconv.fits</td><td>PUBLIC</td><td>--</td><td>5885.0</td><td>1766334</td><td>0.0</td></tr>\n",
       "<tr><td>science</td><td>PS1</td><td>3PI</td><td>GPC1</td><td>PS1</td><td>y</td><td>OPTICAL;INFRARED</td><td>0638.095</td><td>--</td><td>rings.v3.skycell.0638.095.stk.y</td><td>13.44262805222263</td><td>-28.19141075388904</td><td>image</td><td>--</td><td>3</td><td>55402.5694746</td><td>56889.63235872223</td><td>770.0</td><td>910000000000.0</td><td>1083800048828.125</td><td>PS1 3PI Survey</td><td>57741.5416666</td><td>--</td><td>3PI</td><td>--</td><td>POLYGON ICRS    13.689709   -28.409055   13.689628   -27.974143   13.196611   -27.973331   13.194564   -28.408227</td><td>http://ps1images.stsci.edu/cgi-bin/fitscut.cgi?red=rings.v3.skycell/0638/095/rings.v3.skycell.0638.095.stk.y.unconv.fits</td><td>http://ps1images.stsci.edu/rings.v3.skycell/0638/095/rings.v3.skycell.0638.095.stk.y.unconv.fits</td><td>PUBLIC</td><td>--</td><td>5885.0</td><td>1766335</td><td>0.0</td></tr>\n",
       "<tr><td>science</td><td>PS1</td><td>3PI</td><td>GPC1</td><td>PS1</td><td>z</td><td>OPTICAL</td><td>0638.095</td><td>--</td><td>rings.v3.skycell.0638.095.stk.z</td><td>13.44262805222263</td><td>-28.19141075388904</td><td>image</td><td>--</td><td>3</td><td>55401.6039719</td><td>56622.27991124446</td><td>720.0</td><td>802799987792.9688</td><td>934599975585.9375</td><td>PS1 3PI Survey</td><td>57741.5416666</td><td>--</td><td>3PI</td><td>--</td><td>POLYGON ICRS    13.689709   -28.409055   13.689628   -27.974143   13.196611   -27.973331   13.194564   -28.408227</td><td>http://ps1images.stsci.edu/cgi-bin/fitscut.cgi?red=rings.v3.skycell/0638/095/rings.v3.skycell.0638.095.stk.z.unconv.fits</td><td>http://ps1images.stsci.edu/rings.v3.skycell/0638/095/rings.v3.skycell.0638.095.stk.z.unconv.fits</td><td>PUBLIC</td><td>--</td><td>5885.0</td><td>1766336</td><td>0.0</td></tr>\n",
       "<tr><td>...</td><td>...</td><td>...</td><td>...</td><td>...</td><td>...</td><td>...</td><td>...</td><td>...</td><td>...</td><td>...</td><td>...</td><td>...</td><td>...</td><td>...</td><td>...</td><td>...</td><td>...</td><td>...</td><td>...</td><td>...</td><td>...</td><td>...</td><td>...</td><td>...</td><td>...</td><td>...</td><td>...</td><td>...</td><td>...</td><td>...</td><td>...</td><td>...</td></tr>\n",
       "<tr><td>science</td><td>HLSP</td><td>TGLC</td><td>Photometer</td><td>TESS</td><td>TESS</td><td>Optical</td><td>63798035</td><td>--</td><td>hlsp_tglc_tess_ffi_gaiaid-5032553613269750784-s0003-cam2-ccd4_tess_v1_llc</td><td>13.73584996786556</td><td>-28.53368804111325</td><td>timeseries</td><td>Timothy D. Brandt</td><td>4</td><td>58381.55735905583</td><td>58408.86952545328</td><td>1800.0</td><td>600.0</td><td>1000.0</td><td>--</td><td>60023.87031241</td><td>N/A</td><td>--</td><td>3</td><td>CIRCLE 13.73584996786556 -28.53368804111325 0.0011111111111111111</td><td>--</td><td>mast:HLSP/tglc/s0003/cam2-ccd4/0050/3255/3613/2697/hlsp_tglc_tess_ffi_gaiaid-5032553613269750784-s0003-cam2-ccd4_tess_v1_llc.fits</td><td>PUBLIC</td><td>False</td><td>nan</td><td>119131914</td><td>854.4463729174186</td></tr>\n",
       "<tr><td>science</td><td>HLSP</td><td>TGLC</td><td>Photometer</td><td>TESS</td><td>TESS</td><td>Optical</td><td>63939683</td><td>--</td><td>hlsp_tglc_tess_ffi_gaiaid-5032601373306057088-s0003-cam2-ccd4_tess_v1_llc</td><td>13.26025526611696</td><td>-28.49862990161239</td><td>timeseries</td><td>Timothy D. Brandt</td><td>4</td><td>58381.55735905583</td><td>58408.86952545328</td><td>1800.0</td><td>600.0</td><td>1000.0</td><td>--</td><td>60023.87031241</td><td>N/A</td><td>--</td><td>3</td><td>CIRCLE 13.26025526611696 -28.49862990161239 0.0011111111111111111</td><td>--</td><td>mast:HLSP/tglc/s0003/cam2-ccd4/0050/3260/1373/3060/hlsp_tglc_tess_ffi_gaiaid-5032601373306057088-s0003-cam2-ccd4_tess_v1_llc.fits</td><td>PUBLIC</td><td>False</td><td>nan</td><td>119105051</td><td>868.3831000590736</td></tr>\n",
       "<tr><td>science</td><td>HLSP</td><td>GSFC-ELEANOR-LITE</td><td>Photometer</td><td>TESS</td><td>TESS</td><td>Optical</td><td>63939683</td><td>--</td><td>hlsp_gsfc-eleanor-lite_tess_ffi_s0003-0000000063939683_tess_v1.0_lc</td><td>13.2601261866907</td><td>-28.4986858895466</td><td>timeseries</td><td>Brian P. Powell</td><td>4</td><td>58381.546141770836</td><td>58408.879141261576</td><td>1800.0</td><td>600.0</td><td>1000.0</td><td>--</td><td>59927.0</td><td>N/A</td><td>--</td><td>3</td><td>CIRCLE 13.2601261866907 -28.4986858895466 0.0011111111111111111</td><td>--</td><td>mast:HLSP/gsfc-eleanor-lite/s0003/0000/0000/6393/9683/hlsp_gsfc-eleanor-lite_tess_ffi_s0003-0000000063939683_tess_v1.0_lc.fits</td><td>PUBLIC</td><td>False</td><td>nan</td><td>104563445</td><td>868.8381947160557</td></tr>\n",
       "<tr><td>science</td><td>HLSP</td><td>QLP</td><td>Photometer</td><td>TESS</td><td>TESS</td><td>Optical</td><td>63939683</td><td>--</td><td>hlsp_qlp_tess_ffi_s0003-0000000063939683_tess_v01_llc</td><td>13.2601261867</td><td>-28.4986858895</td><td>timeseries</td><td>Chelsea X. Huang</td><td>4</td><td>58381.22430519</td><td>58408.86965292</td><td>1800.0</td><td>600.0</td><td>1000.0</td><td>--</td><td>59257.45650462</td><td>N/A</td><td>--</td><td>3</td><td>CIRCLE ICRS 13.26012619 -28.49868589 0.00111111</td><td>--</td><td>mast:HLSP/qlp/s0003/0000/0000/6393/9683/hlsp_qlp_tess_ffi_s0003-0000000063939683_tess_v01_llc.fits</td><td>PUBLIC</td><td>False</td><td>nan</td><td>58663240</td><td>868.8381947160557</td></tr>\n",
       "<tr><td>science</td><td>HLSP</td><td>TASOC</td><td>Photometer</td><td>TESS</td><td>TESS</td><td>Optical</td><td>63939683</td><td>--</td><td>hlsp_tasoc_tess_ffi_tic00063939683-s0003-cam2-ccd4-c1800_tess_v05</td><td>13.2601261866907</td><td>-28.4986858895466</td><td>timeseries</td><td>Rasmus Handberg</td><td>4</td><td>58381.54720165006</td><td>58408.88004738108</td><td>1800.0</td><td>600.0</td><td>1000.0</td><td>--</td><td>59694.0478009</td><td>G011160_G011155_G011188</td><td>--</td><td>3</td><td>CIRCLE ICRS 13.26012619 -28.49868589 0.00111111</td><td>--</td><td>mast:HLSP/tasoc/s0003/c1800/0000/0000/6393/9683/hlsp_tasoc_tess_ffi_tic00063939683-s0003-cam2-ccd4-c1800_tess_v05_cbv-lc.fits</td><td>PUBLIC</td><td>False</td><td>nan</td><td>82044106</td><td>868.8381947160557</td></tr>\n",
       "<tr><td>science</td><td>HLSP</td><td>GSFC-ELEANOR-LITE</td><td>Photometer</td><td>TESS</td><td>TESS</td><td>Optical</td><td>63798011</td><td>--</td><td>hlsp_gsfc-eleanor-lite_tess_ffi_s0003-0000000063798011_tess_v1.0_lc</td><td>13.7925644608121</td><td>-28.3655423074051</td><td>timeseries</td><td>Brian P. Powell</td><td>4</td><td>58381.546141770836</td><td>58408.879141261576</td><td>1800.0</td><td>600.0</td><td>1000.0</td><td>--</td><td>59927.0</td><td>N/A</td><td>--</td><td>3</td><td>CIRCLE 13.7925644608121 -28.3655423074051 0.0011111111111111111</td><td>--</td><td>mast:HLSP/gsfc-eleanor-lite/s0003/0000/0000/6379/8011/hlsp_gsfc-eleanor-lite_tess_ffi_s0003-0000000063798011_tess_v1.0_lc.fits</td><td>PUBLIC</td><td>False</td><td>nan</td><td>104610569</td><td>893.892192072498</td></tr>\n",
       "<tr><td>science</td><td>HLSP</td><td>TGLC</td><td>Photometer</td><td>TESS</td><td>TESS</td><td>Optical</td><td>63798011</td><td>--</td><td>hlsp_tglc_tess_ffi_gaiaid-5032653840626489472-s0003-cam2-ccd4_tess_v1_llc</td><td>13.79258925645961</td><td>-28.36556127321704</td><td>timeseries</td><td>Timothy D. Brandt</td><td>4</td><td>58381.55735905583</td><td>58408.86952545328</td><td>1800.0</td><td>600.0</td><td>1000.0</td><td>--</td><td>60023.87031241</td><td>N/A</td><td>--</td><td>3</td><td>CIRCLE 13.79258925645961 -28.36556127321704 0.0011111111111111111</td><td>--</td><td>mast:HLSP/tglc/s0003/cam2-ccd4/0050/3265/3840/6264/hlsp_tglc_tess_ffi_gaiaid-5032653840626489472-s0003-cam2-ccd4_tess_v1_llc.fits</td><td>PUBLIC</td><td>False</td><td>nan</td><td>119071426</td><td>893.9606927809903</td></tr>\n",
       "<tr><td>science</td><td>HLSP</td><td>GSFC-ELEANOR-LITE</td><td>Photometer</td><td>TESS</td><td>TESS</td><td>Optical</td><td>63793716</td><td>--</td><td>hlsp_gsfc-eleanor-lite_tess_ffi_s0003-0000000063793716_tess_v1.0_lc</td><td>13.4616844545753</td><td>-28.6458051356806</td><td>timeseries</td><td>Brian P. Powell</td><td>4</td><td>58381.546141770836</td><td>58408.879141261576</td><td>1800.0</td><td>600.0</td><td>1000.0</td><td>--</td><td>59927.0</td><td>N/A</td><td>--</td><td>3</td><td>CIRCLE 13.4616844545753 -28.6458051356806 0.0011111111111111111</td><td>--</td><td>mast:HLSP/gsfc-eleanor-lite/s0003/0000/0000/6379/3716/hlsp_gsfc-eleanor-lite_tess_ffi_s0003-0000000063793716_tess_v1.0_lc.fits</td><td>PUBLIC</td><td>False</td><td>nan</td><td>104602552</td><td>897.0932265928994</td></tr>\n",
       "<tr><td>science</td><td>HLSP</td><td>TGLC</td><td>Photometer</td><td>TESS</td><td>TESS</td><td>Optical</td><td>63793716</td><td>--</td><td>hlsp_tglc_tess_ffi_gaiaid-5032548734186881024-s0003-cam2-ccd4_tess_v1_llc</td><td>13.46171370841294</td><td>-28.64586330690929</td><td>timeseries</td><td>Timothy D. Brandt</td><td>4</td><td>58381.55735905583</td><td>58408.86952545328</td><td>1800.0</td><td>600.0</td><td>1000.0</td><td>--</td><td>60023.87031241</td><td>N/A</td><td>--</td><td>3</td><td>CIRCLE 13.46171370841294 -28.64586330690929 0.0011111111111111111</td><td>--</td><td>mast:HLSP/tglc/s0003/cam2-ccd4/0050/3254/8734/1868/hlsp_tglc_tess_ffi_gaiaid-5032548734186881024-s0003-cam2-ccd4_tess_v1_llc.fits</td><td>PUBLIC</td><td>False</td><td>nan</td><td>119097568</td><td>897.2832213004979</td></tr>\n",
       "<tr><td>science</td><td>HLSP</td><td>TGLC</td><td>Photometer</td><td>TESS</td><td>TESS</td><td>Optical</td><td>63787848</td><td>--</td><td>hlsp_tglc_tess_ffi_gaiaid-5032624256891805824-s0003-cam2-ccd4_tess_v1_llc</td><td>13.31217327691672</td><td>-28.22006241112527</td><td>timeseries</td><td>Timothy D. Brandt</td><td>4</td><td>58381.55735905583</td><td>58408.86952545328</td><td>1800.0</td><td>600.0</td><td>1000.0</td><td>--</td><td>60023.87031241</td><td>N/A</td><td>--</td><td>3</td><td>CIRCLE 13.31217327691672 -28.22006241112527 0.0011111111111111111</td><td>--</td><td>mast:HLSP/tglc/s0003/cam2-ccd4/0050/3262/4256/8918/hlsp_tglc_tess_ffi_gaiaid-5032624256891805824-s0003-cam2-ccd4_tess_v1_llc.fits</td><td>PUBLIC</td><td>False</td><td>nan</td><td>119105512</td><td>899.7346162810717</td></tr>\n",
       "<tr><td>science</td><td>HLSP</td><td>GSFC-ELEANOR-LITE</td><td>Photometer</td><td>TESS</td><td>TESS</td><td>Optical</td><td>63787848</td><td>--</td><td>hlsp_gsfc-eleanor-lite_tess_ffi_s0003-0000000063787848_tess_v1.0_lc</td><td>13.3121886296744</td><td>-28.2200206706245</td><td>timeseries</td><td>Brian P. Powell</td><td>4</td><td>58381.546141770836</td><td>58408.879141261576</td><td>1800.0</td><td>600.0</td><td>1000.0</td><td>--</td><td>59927.0</td><td>N/A</td><td>--</td><td>3</td><td>CIRCLE 13.3121886296744 -28.2200206706245 0.0011111111111111111</td><td>--</td><td>mast:HLSP/gsfc-eleanor-lite/s0003/0000/0000/6378/7848/hlsp_gsfc-eleanor-lite_tess_ffi_s0003-0000000063787848_tess_v1.0_lc.fits</td><td>PUBLIC</td><td>False</td><td>nan</td><td>104548672</td><td>899.8079946763623</td></tr>\n",
       "<tr><td>science</td><td>HLSP</td><td>TASOC</td><td>Photometer</td><td>TESS</td><td>TESS</td><td>Optical</td><td>63787848</td><td>--</td><td>hlsp_tasoc_tess_ffi_tic00063787848-s0003-cam2-ccd4-c1800_tess_v05</td><td>13.3121886296744</td><td>-28.2200206706245</td><td>timeseries</td><td>Rasmus Handberg</td><td>4</td><td>58381.54721292698</td><td>58408.88006515071</td><td>1800.0</td><td>600.0</td><td>1000.0</td><td>--</td><td>59694.0478009</td><td>G011160_G011155_G011188</td><td>--</td><td>3</td><td>CIRCLE ICRS 13.31218863 -28.22002067 0.00111111</td><td>--</td><td>mast:HLSP/tasoc/s0003/c1800/0000/0000/6378/7848/hlsp_tasoc_tess_ffi_tic00063787848-s0003-cam2-ccd4-c1800_tess_v05_cbv-lc.fits</td><td>PUBLIC</td><td>False</td><td>nan</td><td>81908608</td><td>899.8079946763623</td></tr>\n",
       "<tr><td>science</td><td>GALEX</td><td>AIS</td><td>GALEX</td><td>AIS</td><td>NUV</td><td>UV</td><td>AIS_281_1_14</td><td>--</td><td>6380802579076481024</td><td>13.375796567031102</td><td>-28.1265195718468</td><td>image</td><td>--</td><td>2</td><td>54055.71357638889</td><td>54055.714826388896</td><td>108.0</td><td>169300000000.0</td><td>300700000000.0</td><td>--</td><td>55421.58981478</td><td>--</td><td>AIS</td><td>--</td><td>CIRCLE ICRS  13.37579657 -28.12651957 0.625</td><td>http://galex.stsci.edu/data/GR6/pipe/02-vsn/50281-AIS_281/d/01-main/0001-img/07-try/qa/AIS_281_sg14-xd-int_2color.jpg</td><td>http://galex.stsci.edu/data/GR6/pipe/02-vsn/50281-AIS_281/d/01-main/0001-img/07-try/AIS_281_sg14-nd-exp.fits.gz</td><td>PUBLIC</td><td>--</td><td>5885.0</td><td>29873</td><td>0.0</td></tr>\n",
       "<tr><td>science</td><td>GALEX</td><td>AIS</td><td>GALEX</td><td>AIS</td><td>FUV</td><td>UV</td><td>AIS_281_1_14</td><td>--</td><td>6380802579076481024</td><td>13.375796567031102</td><td>-28.1265195718468</td><td>image</td><td>--</td><td>2</td><td>54055.71357638889</td><td>54055.714826388896</td><td>108.0</td><td>134000000000.0</td><td>180600000000.0</td><td>--</td><td>55421.58981478</td><td>--</td><td>AIS</td><td>--</td><td>CIRCLE ICRS  13.37579657 -28.12651957 0.625</td><td>http://galex.stsci.edu/data/GR6/pipe/02-vsn/50281-AIS_281/d/01-main/0001-img/07-try/qa/AIS_281_sg14-xd-int_2color.jpg</td><td>http://galex.stsci.edu/data/GR6/pipe/02-vsn/50281-AIS_281/d/01-main/0001-img/07-try/AIS_281_sg14-fd-cnt.fits.gz</td><td>PUBLIC</td><td>--</td><td>5885.0</td><td>29873</td><td>0.0</td></tr>\n",
       "</table></div>"
      ],
      "text/plain": [
       "<Table masked=True length=311>\n",
       "intentType obs_collection  provenance_name  instrument_name project filters ... dataRights mtFlag  srcDen   obsid        distance    \n",
       "   str7         str5            str17            str10        str4    str4  ...    str6     bool  float64    str9        float64     \n",
       "---------- -------------- ----------------- --------------- ------- ------- ... ---------- ------ ------- --------- -----------------\n",
       "   science           TESS              SPOC      Photometer    TESS    TESS ...     PUBLIC  False     nan  60942206               0.0\n",
       "   science           TESS              SPOC      Photometer    TESS    TESS ...     PUBLIC  False     nan  27972860               0.0\n",
       "   science           TESS              SPOC      Photometer    TESS    TESS ...     PUBLIC  False     nan  28055405               0.0\n",
       "   science           TESS              SPOC      Photometer    TESS    TESS ...     PUBLIC  False     nan  27901915 789.0070932805666\n",
       "   science            PS1               3PI            GPC1     PS1       g ...     PUBLIC     --  5885.0   1766282               0.0\n",
       "   science            PS1               3PI            GPC1     PS1       i ...     PUBLIC     --  5885.0   1766283               0.0\n",
       "   science            PS1               3PI            GPC1     PS1       r ...     PUBLIC     --  5885.0   1766284               0.0\n",
       "   science            PS1               3PI            GPC1     PS1       y ...     PUBLIC     --  5885.0   1766285               0.0\n",
       "   science            PS1               3PI            GPC1     PS1       z ...     PUBLIC     --  5885.0   1766286               0.0\n",
       "   science            PS1               3PI            GPC1     PS1       g ...     PUBLIC     --  5885.0   1766332               0.0\n",
       "   science            PS1               3PI            GPC1     PS1       i ...     PUBLIC     --  5885.0   1766333               0.0\n",
       "   science            PS1               3PI            GPC1     PS1       r ...     PUBLIC     --  5885.0   1766334               0.0\n",
       "   science            PS1               3PI            GPC1     PS1       y ...     PUBLIC     --  5885.0   1766335               0.0\n",
       "   science            PS1               3PI            GPC1     PS1       z ...     PUBLIC     --  5885.0   1766336               0.0\n",
       "       ...            ...               ...             ...     ...     ... ...        ...    ...     ...       ...               ...\n",
       "   science           HLSP              TGLC      Photometer    TESS    TESS ...     PUBLIC  False     nan 119131914 854.4463729174186\n",
       "   science           HLSP              TGLC      Photometer    TESS    TESS ...     PUBLIC  False     nan 119105051 868.3831000590736\n",
       "   science           HLSP GSFC-ELEANOR-LITE      Photometer    TESS    TESS ...     PUBLIC  False     nan 104563445 868.8381947160557\n",
       "   science           HLSP               QLP      Photometer    TESS    TESS ...     PUBLIC  False     nan  58663240 868.8381947160557\n",
       "   science           HLSP             TASOC      Photometer    TESS    TESS ...     PUBLIC  False     nan  82044106 868.8381947160557\n",
       "   science           HLSP GSFC-ELEANOR-LITE      Photometer    TESS    TESS ...     PUBLIC  False     nan 104610569  893.892192072498\n",
       "   science           HLSP              TGLC      Photometer    TESS    TESS ...     PUBLIC  False     nan 119071426 893.9606927809903\n",
       "   science           HLSP GSFC-ELEANOR-LITE      Photometer    TESS    TESS ...     PUBLIC  False     nan 104602552 897.0932265928994\n",
       "   science           HLSP              TGLC      Photometer    TESS    TESS ...     PUBLIC  False     nan 119097568 897.2832213004979\n",
       "   science           HLSP              TGLC      Photometer    TESS    TESS ...     PUBLIC  False     nan 119105512 899.7346162810717\n",
       "   science           HLSP GSFC-ELEANOR-LITE      Photometer    TESS    TESS ...     PUBLIC  False     nan 104548672 899.8079946763623\n",
       "   science           HLSP             TASOC      Photometer    TESS    TESS ...     PUBLIC  False     nan  81908608 899.8079946763623\n",
       "   science          GALEX               AIS           GALEX     AIS     NUV ...     PUBLIC     --  5885.0     29873               0.0\n",
       "   science          GALEX               AIS           GALEX     AIS     FUV ...     PUBLIC     --  5885.0     29873               0.0"
      ]
     },
     "execution_count": 16,
     "metadata": {},
     "output_type": "execute_result"
    }
   ],
   "source": [
    "obs_table "
   ]
  },
  {
   "cell_type": "code",
   "execution_count": 17,
   "id": "891db7f5-0d41-4c31-95c9-584d71342309",
   "metadata": {},
   "outputs": [],
   "source": [
    "obs_table = Observations.query_criteria(filters=[\"*UV\",\"Kepler\"],objectname=target_name_simbad)"
   ]
  },
  {
   "cell_type": "code",
   "execution_count": 18,
   "id": "e783645e-90eb-46f7-98f1-8956851c255c",
   "metadata": {},
   "outputs": [
    {
     "data": {
      "text/html": [
       "<div><i>Table masked=True length=2</i>\n",
       "<table id=\"table140564863286720\" class=\"table-striped table-bordered table-condensed\">\n",
       "<thead><tr><th>intentType</th><th>obs_collection</th><th>provenance_name</th><th>instrument_name</th><th>project</th><th>filters</th><th>wavelength_region</th><th>target_name</th><th>target_classification</th><th>obs_id</th><th>s_ra</th><th>s_dec</th><th>dataproduct_type</th><th>proposal_pi</th><th>calib_level</th><th>t_min</th><th>t_max</th><th>t_exptime</th><th>em_min</th><th>em_max</th><th>obs_title</th><th>t_obs_release</th><th>proposal_id</th><th>proposal_type</th><th>sequence_number</th><th>s_region</th><th>jpegURL</th><th>dataURL</th><th>dataRights</th><th>mtFlag</th><th>srcDen</th><th>obsid</th><th>objID</th><th>objID1</th><th>distance</th></tr></thead>\n",
       "<thead><tr><th>str7</th><th>str5</th><th>str3</th><th>str5</th><th>str3</th><th>str3</th><th>str2</th><th>str12</th><th>str1</th><th>str19</th><th>float64</th><th>float64</th><th>str5</th><th>str1</th><th>int64</th><th>float64</th><th>float64</th><th>float64</th><th>float64</th><th>float64</th><th>str1</th><th>float64</th><th>str1</th><th>str3</th><th>int64</th><th>str43</th><th>str117</th><th>str111</th><th>str6</th><th>bool</th><th>float64</th><th>str5</th><th>str5</th><th>str5</th><th>float64</th></tr></thead>\n",
       "<tr><td>science</td><td>GALEX</td><td>AIS</td><td>GALEX</td><td>AIS</td><td>NUV</td><td>UV</td><td>AIS_281_1_14</td><td>--</td><td>6380802579076481024</td><td>13.375796567031102</td><td>-28.1265195718468</td><td>image</td><td>--</td><td>2</td><td>54055.71357638889</td><td>54055.714826388896</td><td>108.0</td><td>169300000000.0</td><td>300700000000.0</td><td>--</td><td>55421.58981478</td><td>--</td><td>AIS</td><td>--</td><td>CIRCLE ICRS  13.37579657 -28.12651957 0.625</td><td>http://galex.stsci.edu/data/GR6/pipe/02-vsn/50281-AIS_281/d/01-main/0001-img/07-try/qa/AIS_281_sg14-xd-int_2color.jpg</td><td>http://galex.stsci.edu/data/GR6/pipe/02-vsn/50281-AIS_281/d/01-main/0001-img/07-try/AIS_281_sg14-nd-exp.fits.gz</td><td>PUBLIC</td><td>--</td><td>5885.0</td><td>29873</td><td>52324</td><td>52324</td><td>0.0</td></tr>\n",
       "<tr><td>science</td><td>GALEX</td><td>AIS</td><td>GALEX</td><td>AIS</td><td>FUV</td><td>UV</td><td>AIS_281_1_14</td><td>--</td><td>6380802579076481024</td><td>13.375796567031102</td><td>-28.1265195718468</td><td>image</td><td>--</td><td>2</td><td>54055.71357638889</td><td>54055.714826388896</td><td>108.0</td><td>134000000000.0</td><td>180600000000.0</td><td>--</td><td>55421.58981478</td><td>--</td><td>AIS</td><td>--</td><td>CIRCLE ICRS  13.37579657 -28.12651957 0.625</td><td>http://galex.stsci.edu/data/GR6/pipe/02-vsn/50281-AIS_281/d/01-main/0001-img/07-try/qa/AIS_281_sg14-xd-int_2color.jpg</td><td>http://galex.stsci.edu/data/GR6/pipe/02-vsn/50281-AIS_281/d/01-main/0001-img/07-try/AIS_281_sg14-fd-cnt.fits.gz</td><td>PUBLIC</td><td>--</td><td>5885.0</td><td>29873</td><td>52325</td><td>52325</td><td>0.0</td></tr>\n",
       "</table></div>"
      ],
      "text/plain": [
       "<Table masked=True length=2>\n",
       "intentType obs_collection provenance_name instrument_name project filters wavelength_region ... mtFlag  srcDen obsid objID objID1 distance\n",
       "   str7         str5            str3            str5        str3    str3         str2       ...  bool  float64  str5  str5  str5  float64 \n",
       "---------- -------------- --------------- --------------- ------- ------- ----------------- ... ------ ------- ----- ----- ------ --------\n",
       "   science          GALEX             AIS           GALEX     AIS     NUV                UV ...     --  5885.0 29873 52324  52324      0.0\n",
       "   science          GALEX             AIS           GALEX     AIS     FUV                UV ...     --  5885.0 29873 52325  52325      0.0"
      ]
     },
     "execution_count": 18,
     "metadata": {},
     "output_type": "execute_result"
    }
   ],
   "source": [
    "obs_table"
   ]
  },
  {
   "cell_type": "code",
   "execution_count": 19,
   "id": "16f2fd2d-73b9-4cb8-86f2-eb9ea5c3c182",
   "metadata": {},
   "outputs": [
    {
     "name": "stdout",
     "output_type": "stream",
     "text": [
      "311\n"
     ]
    }
   ],
   "source": [
    "print(Observations.query_object_count(target_name_simbad,radius=\".25 deg\"))  "
   ]
  },
  {
   "cell_type": "code",
   "execution_count": 20,
   "id": "7db1e3e1-f6f3-439c-9287-412eed730b35",
   "metadata": {},
   "outputs": [
    {
     "name": "stdout",
     "output_type": "stream",
     "text": [
      "79164\n"
     ]
    }
   ],
   "source": [
    "print(Observations.query_criteria_count(dataproduct_type=\"image\",filters=[\"NUV\",\"FUV\"]))"
   ]
  },
  {
   "cell_type": "code",
   "execution_count": 21,
   "id": "20090f4f-fec3-46b5-9ad5-86f4b837a96c",
   "metadata": {},
   "outputs": [
    {
     "name": "stdout",
     "output_type": "stream",
     "text": [
      " obsID   obs_collection dataproduct_type               obs_id               ...   size   parent_obsid dataRights calib_level\n",
      "-------- -------------- ---------------- ---------------------------------- ... -------- ------------ ---------- -----------\n",
      "60928817           TESS            image tess2018263125940-s0003-2-4-0123-s ... 35547840     60942206     PUBLIC           2\n",
      "60928817           TESS            image tess2018263125940-s0003-2-4-0123-s ... 17775360     60942206     PUBLIC           1\n",
      "60925595           TESS            image tess2018263132940-s0003-2-4-0123-s ... 35547840     60942206     PUBLIC           2\n",
      "60925595           TESS            image tess2018263132940-s0003-2-4-0123-s ... 17775360     60942206     PUBLIC           1\n",
      "60940487           TESS            image tess2018263135940-s0003-2-4-0123-s ... 35547840     60942206     PUBLIC           2\n",
      "60940487           TESS            image tess2018263135940-s0003-2-4-0123-s ... 17775360     60942206     PUBLIC           1\n",
      "60936931           TESS            image tess2018263142940-s0003-2-4-0123-s ... 35547840     60942206     PUBLIC           2\n",
      "60936931           TESS            image tess2018263142940-s0003-2-4-0123-s ... 17775360     60942206     PUBLIC           1\n",
      "60926639           TESS            image tess2018263145940-s0003-2-4-0123-s ... 35547840     60942206     PUBLIC           2\n",
      "60926639           TESS            image tess2018263145940-s0003-2-4-0123-s ... 17775360     60942206     PUBLIC           1\n",
      "60929302           TESS            image tess2018263152940-s0003-2-4-0123-s ... 35547840     60942206     PUBLIC           2\n",
      "60929302           TESS            image tess2018263152940-s0003-2-4-0123-s ... 17775360     60942206     PUBLIC           1\n",
      "60928756           TESS            image tess2018263155940-s0003-2-4-0123-s ... 35547840     60942206     PUBLIC           2\n",
      "60928756           TESS            image tess2018263155940-s0003-2-4-0123-s ... 17775360     60942206     PUBLIC           1\n",
      "     ...            ...              ...                                ... ...      ...          ...        ...         ...\n",
      "27960462           TESS            image tess2020265205913-s0029-2-3-0193-s ... 17775360     27972860     PUBLIC           1\n",
      "27925044           TESS            image tess2020265210913-s0029-2-3-0193-s ... 35547840     27972860     PUBLIC           2\n",
      "27925044           TESS            image tess2020265210913-s0029-2-3-0193-s ... 17775360     27972860     PUBLIC           1\n",
      "27929367           TESS            image tess2020265211913-s0029-2-3-0193-s ... 35547840     27972860     PUBLIC           2\n",
      "27929367           TESS            image tess2020265211913-s0029-2-3-0193-s ... 17775360     27972860     PUBLIC           1\n",
      "27969268           TESS            image tess2020265212913-s0029-2-3-0193-s ... 35547840     27972860     PUBLIC           2\n",
      "27969268           TESS            image tess2020265212913-s0029-2-3-0193-s ... 17775360     27972860     PUBLIC           1\n",
      "27960364           TESS            image tess2020265213913-s0029-2-3-0193-s ... 35547840     27972860     PUBLIC           2\n",
      "27960364           TESS            image tess2020265213913-s0029-2-3-0193-s ... 17775360     27972860     PUBLIC           1\n",
      "27961626           TESS            image tess2020265214913-s0029-2-3-0193-s ... 35547840     27972860     PUBLIC           2\n",
      "27961626           TESS            image tess2020265214913-s0029-2-3-0193-s ... 17775360     27972860     PUBLIC           1\n",
      "27960905           TESS            image tess2020265215913-s0029-2-3-0193-s ... 35547840     27972860     PUBLIC           2\n",
      "27960905           TESS            image tess2020265215913-s0029-2-3-0193-s ... 17775360     27972860     PUBLIC           1\n",
      "27947223           TESS            image tess2020265220913-s0029-2-3-0193-s ... 35547840     27972860     PUBLIC           2\n",
      "27947223           TESS            image tess2020265220913-s0029-2-3-0193-s ... 17775360     27972860     PUBLIC           1\n",
      "Length = 9846 rows\n"
     ]
    }
   ],
   "source": [
    "obs_table = Observations.query_object(target_name_simbad,radius=\".25 deg\")\n",
    "\n",
    "data_products_by_obs = Observations.get_product_list(obs_table[0:2])\n",
    "\n",
    "print(data_products_by_obs)  "
   ]
  },
  {
   "cell_type": "code",
   "execution_count": 22,
   "id": "c8b5ab2a-52f0-4c64-a0e4-5546fb39c57c",
   "metadata": {},
   "outputs": [],
   "source": [
    "data_products_by_obs = Observations.get_product_list(obs_table)"
   ]
  },
  {
   "cell_type": "code",
   "execution_count": 23,
   "id": "46685a14-c774-4c19-9784-dfe1001e35bb",
   "metadata": {},
   "outputs": [
    {
     "name": "stdout",
     "output_type": "stream",
     "text": [
      " obsID   obs_collection dataproduct_type               obs_id               ...   size   parent_obsid dataRights calib_level\n",
      "-------- -------------- ---------------- ---------------------------------- ... -------- ------------ ---------- -----------\n",
      "  110382          GALEX            image                6380802441637527552 ...     4820        29873     PUBLIC           2\n",
      "  110382          GALEX            image                6380802441637527552 ...   403437        29873     PUBLIC           2\n",
      "  110382          GALEX            image                6380802441637527552 ...    63763        29873     PUBLIC           2\n",
      "  110382          GALEX            image                6380802441637527552 ...     2191        29873     PUBLIC           2\n",
      "  110382          GALEX            image                6380802441637527552 ...    12680        29873     PUBLIC           2\n",
      "  110382          GALEX            image                6380802441637527552 ...     4307        29873     PUBLIC           2\n",
      "  110382          GALEX            image                6380802441637527552 ...  3988246        29873     PUBLIC           2\n",
      "  110382          GALEX            image                6380802441637527552 ...   186143        29873     PUBLIC           2\n",
      "  110382          GALEX            image                6380802441637527552 ...  1719335        29873     PUBLIC           2\n",
      "  110382          GALEX            image                6380802441637527552 ...    68143        29873     PUBLIC           2\n",
      "  110382          GALEX            image                6380802441637527552 ...  1428431        29873     PUBLIC           2\n",
      "  110382          GALEX            image                6380802441637527552 ... 10842839        29873     PUBLIC           2\n",
      "  110382          GALEX            image                6380802441637527552 ...  2839709        29873     PUBLIC           2\n",
      "  110382          GALEX            image                6380802441637527552 ... 15300787        29873     PUBLIC           2\n",
      "     ...            ...              ...                                ... ...      ...          ...        ...         ...\n",
      "28033512           TESS            image tess2020294155912-s0030-2-4-0195-s ... 17769600     28055405     PUBLIC           1\n",
      "28010338           TESS            image tess2020294160912-s0030-2-4-0195-s ... 35536320     28055405     PUBLIC           2\n",
      "28010338           TESS            image tess2020294160912-s0030-2-4-0195-s ... 17769600     28055405     PUBLIC           1\n",
      "28045539           TESS            image tess2020294161912-s0030-2-4-0195-s ... 35536320     28055405     PUBLIC           2\n",
      "28045539           TESS            image tess2020294161912-s0030-2-4-0195-s ... 17769600     28055405     PUBLIC           1\n",
      "28051274           TESS            image tess2020294162912-s0030-2-4-0195-s ... 35536320     28055405     PUBLIC           2\n",
      "28051274           TESS            image tess2020294162912-s0030-2-4-0195-s ... 17769600     28055405     PUBLIC           1\n",
      "28004704           TESS            image tess2020294163912-s0030-2-4-0195-s ... 35536320     28055405     PUBLIC           2\n",
      "28004704           TESS            image tess2020294163912-s0030-2-4-0195-s ... 17769600     28055405     PUBLIC           1\n",
      "28046399           TESS            image tess2020294164912-s0030-2-4-0195-s ... 35536320     28055405     PUBLIC           2\n",
      "28046399           TESS            image tess2020294164912-s0030-2-4-0195-s ... 17769600     28055405     PUBLIC           1\n",
      "28051699           TESS            image tess2020294165912-s0030-2-4-0195-s ... 35536320     28055405     PUBLIC           2\n",
      "28051699           TESS            image tess2020294165912-s0030-2-4-0195-s ... 17769600     28055405     PUBLIC           1\n",
      "28000691           TESS            image tess2020294170912-s0030-2-4-0195-s ... 35536320     28055405     PUBLIC           2\n",
      "28000691           TESS            image tess2020294170912-s0030-2-4-0195-s ... 17769600     28055405     PUBLIC           1\n",
      "Length = 28345 rows\n"
     ]
    }
   ],
   "source": [
    "print(data_products_by_obs)  "
   ]
  },
  {
   "cell_type": "markdown",
   "id": "cc72efda-c7c1-4d04-9d08-152775cc08ad",
   "metadata": {},
   "source": [
    "## Missions"
   ]
  },
  {
   "cell_type": "code",
   "execution_count": 24,
   "id": "2e00bc61-74eb-45d8-930e-3e61243db468",
   "metadata": {},
   "outputs": [],
   "source": [
    "from astroquery.mast import MastMissions\n",
    "\n",
    "missions = MastMissions()"
   ]
  },
  {
   "cell_type": "code",
   "execution_count": 25,
   "id": "8c1cbaf5-78b6-49fb-a513-d4192b98172b",
   "metadata": {},
   "outputs": [
    {
     "data": {
      "text/plain": [
       "'hst'"
      ]
     },
     "execution_count": 25,
     "metadata": {},
     "output_type": "execute_result"
    }
   ],
   "source": [
    "missions.mission"
   ]
  },
  {
   "cell_type": "code",
   "execution_count": 26,
   "id": "0f68f50e-0ae7-4735-a4d4-3f518b9ba459",
   "metadata": {},
   "outputs": [],
   "source": [
    "columns = missions.get_column_list()"
   ]
  },
  {
   "cell_type": "code",
   "execution_count": 27,
   "id": "2ff367e4-39c3-4ae8-a61b-eb822c994d1e",
   "metadata": {},
   "outputs": [
    {
     "data": {
      "text/html": [
       "<div><i>Table length=55</i>\n",
       "<table id=\"table140564863307888\" class=\"table-striped table-bordered table-condensed\">\n",
       "<thead><tr><th>name</th><th>data_type</th><th>description</th></tr></thead>\n",
       "<thead><tr><th>str22</th><th>str9</th><th>str226</th></tr></thead>\n",
       "<tr><td>search_pos</td><td>string</td><td>Search Position (RA and Dec)</td></tr>\n",
       "<tr><td>sci_data_set_name</td><td>string</td><td>Data set name, the first character indicates instrument; L=COS; I=WFC3; J=ACS; N=NICMOS; O=STIS; U=WFPC2; W=WFPC; X=FOC; Y=FOS; Z=GHRS; F=FGS; V=HSP; nine-character name    (e.g. J8BA7JCAQ, O4140Q020)</td></tr>\n",
       "<tr><td>sci_archive_class</td><td>string</td><td>Archive ingest classification, where the only choices are CAL=&apos;calibrated science&apos; and AST=&apos;astrometric&apos; (FGS only)</td></tr>\n",
       "<tr><td>sci_program_id</td><td>string</td><td>Internal program ID, which is not the same as proposal ID;    Three-character name    (e.g. 8G6, 9FA, 8M8, 4QA)</td></tr>\n",
       "<tr><td>sci_obset_id</td><td>string</td><td>Observation set ID, indicating the fourth and fifth letters of a dataset name. In most cases, this is usually the observation visit number;    Two-character name    (e.g. 10, 42, G1, GA, H6)</td></tr>\n",
       "<tr><td>sci_obsnum</td><td>string</td><td>Observation number, used in the Science Operations Ground System (SOGS) header;    (e.g. 01, 02, RO, 011, AK, 070)</td></tr>\n",
       "<tr><td>sci_asn_id</td><td>string</td><td>The association ID for the dataset (result of combining individual exposures), identical to the data set name;  If used to build an association, this field indicates the combined data sets (e.g. null, O4QA01010, J8ZO02010)</td></tr>\n",
       "<tr><td>sci_targname</td><td>string</td><td>Target name designated by the observer for the HST proposal; Uppercase; No blank characters; Spaces sometimes filled with - ;    (e.g. A901-FIELD-25, NGC4486-POS1, 0537-441INCA221-36, ALPHA-CEN)</td></tr>\n",
       "<tr><td>sci_target_descrip</td><td>substring</td><td>Target description specified by the observer from a key field used in the Astronomer&apos;s Proposal Tool (APT); Uppercase (e.g. GALAXY;SEYFERT;STARBURST, ISM;HI CLOUD, STAR;PULSAR, PLANET;EXOSPHERE OF MARS)</td></tr>\n",
       "<tr><td>sci_broad_category</td><td>string</td><td>One or more target classifications assigned by the observer from HST broad target categories; Uppercase (e.g. CLUSTER OF GALAXIES;GALAXY, EXT-CLUSTER;ISM, STAR;EXT-CLUSTER, SOLAR SYSTEM, CALIBRATION)</td></tr>\n",
       "<tr><td>sci_ra</td><td>ra</td><td>Right Ascension (J2000), from 0 to 360, in degrees</td></tr>\n",
       "<tr><td>sci_dec</td><td>dec</td><td>Declination (J2000), from -90 to +90, in degrees</td></tr>\n",
       "<tr><td>sci_refnum</td><td>integer</td><td>The number of known literature references associated with the proposal ID or data set name</td></tr>\n",
       "<tr><td>sci_ra_v1</td><td>ra</td><td>Right Ascension (J2000) at V1 position, from 0 to 360, in degrees, where the +V1 is pointing from the primary mirror along the optical axis toward the secondary mirror</td></tr>\n",
       "<tr><td>...</td><td>...</td><td>...</td></tr>\n",
       "<tr><td>sci_sun_alt</td><td>float</td><td>Altitude of the Sun above the Earth&apos;s limb from -66 to 114, in degrees</td></tr>\n",
       "<tr><td>sci_pa_aper</td><td>float</td><td>Position angle of aperture, from -180 to +360, in degrees, which is the angle measured from North to East toward the aperture&apos;s y-axis</td></tr>\n",
       "<tr><td>sci_costar_deploy</td><td>string</td><td>This indicates if the Corrective Optics Space Telescope Axial Replacement (COSTAR) was deployed; (T=True means deployed, or F=False)</td></tr>\n",
       "<tr><td>sci_aec</td><td>string</td><td>Archived Exposures Catalog (AEC); Purpose of observation (C=Calibration, S=Science)</td></tr>\n",
       "<tr><td>sci_fov_config</td><td>string</td><td>Field of view (FOV) configuration (LAUNCH, SM-1, SM-2, SM-3, SM-4)</td></tr>\n",
       "<tr><td>sci_generation_date</td><td>datetime</td><td>The date when associated data products were generated by the processing pipeline; The earliest data is available from Feb 12 1992</td></tr>\n",
       "<tr><td>sci_archive_date</td><td>datetime</td><td>The date when archiving was completed; The earliest data is available from Dec 23, 1993</td></tr>\n",
       "<tr><td>sci_preview_name</td><td>string</td><td>Preview name, generally the same as the data set name    (e.g. J9FAHGH5Q)</td></tr>\n",
       "<tr><td>sci_obs_type</td><td>string</td><td>Observation category; ASTROMETERY (FGS only), IMAGE, PHOTOMETRY (HSP only), SPECTRUM</td></tr>\n",
       "<tr><td>scp_scan_type</td><td>string</td><td>Observation scan mode; one of two types of spatial scan (C=observation taken in continuous scan mode, or D=observation taken in scan mode with a dwell)</td></tr>\n",
       "<tr><td>sci_hlsp</td><td>integer</td><td>Number of known High Level Science Products</td></tr>\n",
       "<tr><td>ang_sep</td><td>float</td><td>Angular Separation</td></tr>\n",
       "<tr><td>sci_status</td><td>string</td><td>Data access status (PUBLIC or PROPRIETARY=exclusive data)</td></tr>\n",
       "<tr><td>search_key</td><td>string</td><td>Search Key (Concat of sci_data_set_name and search_pos)</td></tr>\n",
       "</table></div>"
      ],
      "text/plain": [
       "<Table length=55>\n",
       "        name        ...\n",
       "       str22        ...\n",
       "------------------- ...\n",
       "         search_pos ...\n",
       "  sci_data_set_name ...\n",
       "  sci_archive_class ...\n",
       "     sci_program_id ...\n",
       "       sci_obset_id ...\n",
       "         sci_obsnum ...\n",
       "         sci_asn_id ...\n",
       "       sci_targname ...\n",
       " sci_target_descrip ...\n",
       " sci_broad_category ...\n",
       "             sci_ra ...\n",
       "            sci_dec ...\n",
       "         sci_refnum ...\n",
       "          sci_ra_v1 ...\n",
       "                ... ...\n",
       "        sci_sun_alt ...\n",
       "        sci_pa_aper ...\n",
       "  sci_costar_deploy ...\n",
       "            sci_aec ...\n",
       "     sci_fov_config ...\n",
       "sci_generation_date ...\n",
       "   sci_archive_date ...\n",
       "   sci_preview_name ...\n",
       "       sci_obs_type ...\n",
       "      scp_scan_type ...\n",
       "           sci_hlsp ...\n",
       "            ang_sep ...\n",
       "         sci_status ...\n",
       "         search_key ..."
      ]
     },
     "execution_count": 27,
     "metadata": {},
     "output_type": "execute_result"
    }
   ],
   "source": [
    "columns"
   ]
  },
  {
   "cell_type": "code",
   "execution_count": 28,
   "id": "ae847fd2-651c-4016-9025-1a2ffaa8b245",
   "metadata": {},
   "outputs": [
    {
     "name": "stderr",
     "output_type": "stream",
     "text": [
      "WARNING: NoResultsWarning: Query returned no results. [astroquery.mast.services]\n"
     ]
    }
   ],
   "source": [
    "results = missions.query_region(coord, radius=0.25)"
   ]
  },
  {
   "cell_type": "code",
   "execution_count": 29,
   "id": "32ecf0a9-aaac-4265-acfa-a34d6081b168",
   "metadata": {},
   "outputs": [
    {
     "data": {
      "text/html": [
       "<div><i>Table masked=True length=0</i>\n",
       "<table id=\"table140564863329232\" class=\"table-striped table-bordered table-condensed\">\n",
       "<thead><tr><th>search_pos</th><th>sci_data_set_name</th><th>sci_targname</th><th>sci_ra</th><th>sci_dec</th><th>sci_refnum</th><th>sci_start_time</th><th>sci_stop_time</th><th>sci_actual_duration</th><th>sci_instrume</th><th>sci_aper_1234</th><th>sci_spec_1234</th><th>sci_central_wavelength</th><th>sci_pep_id</th><th>sci_pi_last_name</th><th>sci_release_date</th><th>sci_preview_name</th><th>scp_scan_type</th><th>sci_hlsp</th><th>ang_sep</th></tr></thead>\n",
       "<thead><tr><th>str1</th><th>str1</th><th>str1</th><th>float64</th><th>float64</th><th>int64</th><th>str1</th><th>str1</th><th>float64</th><th>str1</th><th>str1</th><th>str1</th><th>float64</th><th>int64</th><th>str1</th><th>str1</th><th>str1</th><th>str1</th><th>int64</th><th>str1</th></tr></thead>\n",
       "</table></div>"
      ],
      "text/plain": [
       "<Table masked=True length=0>\n",
       "search_pos sci_data_set_name sci_targname  sci_ra sci_dec sci_refnum ... sci_release_date sci_preview_name scp_scan_type sci_hlsp ang_sep\n",
       "   str1           str1           str1     float64 float64   int64    ...       str1             str1            str1      int64     str1 \n",
       "---------- ----------------- ------------ ------- ------- ---------- ... ---------------- ---------------- ------------- -------- -------"
      ]
     },
     "execution_count": 29,
     "metadata": {},
     "output_type": "execute_result"
    }
   ],
   "source": [
    "results"
   ]
  },
  {
   "cell_type": "markdown",
   "id": "85d10d1a-fa2f-4713-adfa-333bd7d60136",
   "metadata": {},
   "source": [
    "# Catalog\n",
    "\n",
    "\n",
    "\n",
    "\n",
    "    The Hubble Source Catalog (HSC)\n",
    "\n",
    "    The GALEX Catalog (V2 and V3)\n",
    "\n",
    "    The Gaia (DR1 and DR2) and TGAS Catalogs\n",
    "\n",
    "    The TESS Input Catalog (TIC)\n",
    "\n",
    "    The TESS Candidate Target List (CTL)\n",
    "\n",
    "    The Disk Detective Catalog\n",
    "\n",
    "    The PanSTARRS Catalog (DR1 and DR2)\n",
    "\n",
    "    The All-Sky PLATO Input Catalog (DR1)\n"
   ]
  },
  {
   "cell_type": "code",
   "execution_count": 30,
   "id": "b891b748-345f-430c-8e40-f2b9d1a61a3f",
   "metadata": {},
   "outputs": [],
   "source": [
    "from astroquery.mast import Catalogs"
   ]
  },
  {
   "cell_type": "markdown",
   "id": "a069750b-901f-4cab-b153-367c82dc1458",
   "metadata": {},
   "source": [
    "## Galex"
   ]
  },
  {
   "cell_type": "code",
   "execution_count": 66,
   "id": "5e29f771-ce8f-46c2-9eda-86b817f4cb8e",
   "metadata": {},
   "outputs": [],
   "source": [
    "catalog_data = Catalogs.query_object(target_name_simbad, catalog=\"Galex\",radius=0.25)"
   ]
  },
  {
   "cell_type": "code",
   "execution_count": 67,
   "id": "d144b33c-322f-4378-a60e-faf8e5f780a1",
   "metadata": {},
   "outputs": [
    {
     "data": {
      "text/html": [
       "<div><i>Table masked=True length=751</i>\n",
       "<table id=\"table140564433656896\" class=\"table-striped table-bordered table-condensed\">\n",
       "<thead><tr><th>distance_arcmin</th><th>objID</th><th>survey</th><th>ra</th><th>dec</th><th>band</th><th>fov_radius</th><th>IAUName</th><th>nuv_exptime</th><th>fuv_exptime</th><th>fuv_mag</th><th>fuv_magerr</th><th>nuv_mag</th><th>nuv_magerr</th><th>fuv_flux</th><th>fuv_fluxerr</th><th>nuv_flux</th><th>nuv_fluxerr</th><th>e_bv</th><th>ra_cent</th><th>dec_cent</th><th>xCenter</th><th>yCenter</th><th>SSAPFitsFile</th><th>nuv_flux_auto</th><th>nuv_flux_aper_7</th><th>nuv_artifact</th><th>fuv_flux_auto</th><th>fuv_flux_aper_7</th><th>fuv_artifact</th></tr></thead>\n",
       "<thead><tr><th>float64</th><th>str19</th><th>str3</th><th>float64</th><th>float64</th><th>int64</th><th>float64</th><th>str22</th><th>float64</th><th>float64</th><th>float64</th><th>float64</th><th>float64</th><th>float64</th><th>float64</th><th>float64</th><th>float64</th><th>float64</th><th>float64</th><th>float64</th><th>float64</th><th>float64</th><th>float64</th><th>str1</th><th>float64</th><th>float64</th><th>int64</th><th>float64</th><th>float64</th><th>int64</th></tr></thead>\n",
       "<tr><td>1.007453327937128</td><td>6380802579077530534</td><td>AIS</td><td>13.49358223794343</td><td>-28.40468652758306</td><td>1</td><td>0.296882182</td><td>GALEX J005358.4-282416</td><td>108.0</td><td>108.0</td><td>--</td><td>--</td><td>21.5107937</td><td>0.3604291</td><td>--</td><td>--</td><td>9.029878</td><td>2.9968977</td><td>0.0180339962</td><td>13.3758</td><td>-28.12652</td><td>1953.991</td><td>1915.793</td><td>--</td><td>0.2677209</td><td>0.269305468</td><td>0</td><td>--</td><td>--</td><td>0</td></tr>\n",
       "<tr><td>1.1570112318343508</td><td>6380802579077530499</td><td>AIS</td><td>13.52442935213248</td><td>-28.41510001695875</td><td>1</td><td>0.316882282</td><td>GALEX J005405.8-282454</td><td>108.0</td><td>108.0</td><td>--</td><td>--</td><td>22.173336</td><td>0.472773343</td><td>--</td><td>--</td><td>4.905293</td><td>2.13544345</td><td>0.0175703857</td><td>13.3758</td><td>-28.12652</td><td>1953.991</td><td>1915.793</td><td>--</td><td>0.1454338</td><td>0.113484353</td><td>0</td><td>--</td><td>--</td><td>0</td></tr>\n",
       "<tr><td>1.2850870876665763</td><td>6380802579077530550</td><td>AIS</td><td>13.48753421553544</td><td>-28.40202009154056</td><td>1</td><td>0.292551041</td><td>GALEX J005357.0-282407</td><td>108.0</td><td>108.0</td><td>--</td><td>--</td><td>22.7267532</td><td>0.53684485</td><td>--</td><td>--</td><td>2.94644356</td><td>1.45652211</td><td>0.0180339962</td><td>13.3758</td><td>-28.12652</td><td>1953.991</td><td>1915.793</td><td>--</td><td>0.08735716</td><td>-0.0596656837</td><td>0</td><td>--</td><td>--</td><td>0</td></tr>\n",
       "<tr><td>1.363584856331773</td><td>6380802579077530502</td><td>AIS</td><td>13.49267323055165</td><td>-28.41477545277933</td><td>1</td><td>0.30608356</td><td>GALEX J005358.2-282453</td><td>108.0</td><td>108.0</td><td>--</td><td>--</td><td>22.3088741</td><td>0.45572567</td><td>--</td><td>--</td><td>4.32962465</td><td>1.81687009</td><td>0.0180339962</td><td>13.3758</td><td>-28.12652</td><td>1953.991</td><td>1915.793</td><td>--</td><td>0.128366187</td><td>0.12960507</td><td>0</td><td>--</td><td>--</td><td>0</td></tr>\n",
       "<tr><td>1.3815148586786572</td><td>6380802579077530542</td><td>AIS</td><td>13.53755642425988</td><td>-28.40298585619871</td><td>1</td><td>0.311017841</td><td>GALEX J005409.0-282410</td><td>108.0</td><td>108.0</td><td>--</td><td>--</td><td>22.4501553</td><td>0.5138618</td><td>--</td><td>--</td><td>3.801349</td><td>1.79868126</td><td>0.0187648423</td><td>13.3758</td><td>-28.12652</td><td>1953.991</td><td>1915.793</td><td>--</td><td>0.1127037</td><td>0.040572945</td><td>0</td><td>--</td><td>--</td><td>0</td></tr>\n",
       "<tr><td>1.5200551875845891</td><td>6380802579077530547</td><td>AIS</td><td>13.54047227358614</td><td>-28.39828638191474</td><td>1</td><td>0.308050334</td><td>GALEX J005409.7-282353</td><td>108.0</td><td>108.0</td><td>--</td><td>--</td><td>21.3266182</td><td>0.315423965</td><td>--</td><td>--</td><td>10.6992226</td><td>3.10754251</td><td>0.0187648423</td><td>13.3758</td><td>-28.12652</td><td>1953.991</td><td>1915.793</td><td>--</td><td>0.317214221</td><td>0.2249951</td><td>0</td><td>--</td><td>--</td><td>0</td></tr>\n",
       "<tr><td>1.6883066524555321</td><td>6380802579078582610</td><td>AIS</td><td>13.53805431735773</td><td>-28.3834546228873</td><td>2</td><td>0.294011921</td><td>GALEX J005409.1-282300</td><td>108.0</td><td>108.0</td><td>21.6375866</td><td>0.460561663</td><td>--</td><td>--</td><td>8.034657</td><td>3.407417</td><td>--</td><td>--</td><td>0.0191500764</td><td>13.3758</td><td>-28.12652</td><td>1953.991</td><td>1915.793</td><td>--</td><td>--</td><td>--</td><td>0</td><td>0.0746389255</td><td>0.03671759</td><td>0</td></tr>\n",
       "<tr><td>1.723165844919715</td><td>6380802579077530443</td><td>AIS</td><td>13.51667761958675</td><td>-28.42778377828719</td><td>1</td><td>0.325811625</td><td>GALEX J005404.0-282540</td><td>108.0</td><td>108.0</td><td>--</td><td>--</td><td>22.1070976</td><td>0.438837051</td><td>--</td><td>--</td><td>5.21387529</td><td>2.10685229</td><td>0.0175703857</td><td>13.3758</td><td>-28.12652</td><td>1953.991</td><td>1915.793</td><td>--</td><td>0.154582754</td><td>0.0130709559</td><td>0</td><td>--</td><td>--</td><td>0</td></tr>\n",
       "<tr><td>1.7356234878325882</td><td>6380802579077530498</td><td>AIS</td><td>13.48321810055538</td><td>-28.41386192357071</td><td>1</td><td>0.3025168</td><td>GALEX J005355.9-282449</td><td>108.0</td><td>108.0</td><td>--</td><td>--</td><td>22.4108486</td><td>0.480143726</td><td>--</td><td>--</td><td>3.94149017</td><td>1.74261677</td><td>0.0169403125</td><td>13.3758</td><td>-28.12652</td><td>1953.991</td><td>1915.793</td><td>--</td><td>0.116858654</td><td>0.1946647</td><td>0</td><td>--</td><td>--</td><td>0</td></tr>\n",
       "<tr><td>1.8329210886391674</td><td>6380802579077530455</td><td>AIS</td><td>13.49885585927354</td><td>-28.42778314002673</td><td>1</td><td>0.320163459</td><td>GALEX J005359.7-282540</td><td>108.0</td><td>108.0</td><td>--</td><td>--</td><td>21.8334141</td><td>0.5039114</td><td>--</td><td>--</td><td>6.708634</td><td>3.11285162</td><td>0.0175703857</td><td>13.3758</td><td>-28.12652</td><td>1953.991</td><td>1915.793</td><td>--</td><td>0.19889988</td><td>0.0416817777</td><td>0</td><td>--</td><td>--</td><td>0</td></tr>\n",
       "<tr><td>1.8617376245817316</td><td>6380802579077530597</td><td>AIS</td><td>13.54482535450264</td><td>-28.38873982958423</td><td>1</td><td>0.301539719</td><td>GALEX J005410.7-282319</td><td>108.0</td><td>108.0</td><td>--</td><td>--</td><td>22.45693</td><td>0.484573483</td><td>--</td><td>--</td><td>3.77769852</td><td>1.68561</td><td>0.0187648423</td><td>13.3758</td><td>-28.12652</td><td>1953.991</td><td>1915.793</td><td>--</td><td>0.1120025</td><td>0.07245362</td><td>0</td><td>--</td><td>--</td><td>0</td></tr>\n",
       "<tr><td>1.9604040610856743</td><td>6380802579077530647</td><td>AIS</td><td>13.48829219623025</td><td>-28.37403328231525</td><td>1</td><td>0.26661405</td><td>GALEX J005357.1-282226</td><td>108.0</td><td>108.0</td><td>--</td><td>--</td><td>22.6296921</td><td>0.543497264</td><td>--</td><td>--</td><td>3.22197723</td><td>1.61246407</td><td>0.0180339962</td><td>13.3758</td><td>-28.12652</td><td>1953.991</td><td>1915.793</td><td>--</td><td>0.0955262855</td><td>0.0146656167</td><td>0</td><td>--</td><td>--</td><td>0</td></tr>\n",
       "<tr><td>2.041947711631833</td><td>6380802579077530476</td><td>AIS</td><td>13.48182104464175</td><td>-28.42102282521935</td><td>1</td><td>0.308951527</td><td>GALEX J005355.6-282515</td><td>108.0</td><td>108.0</td><td>--</td><td>--</td><td>22.8541584</td><td>0.725942433</td><td>--</td><td>--</td><td>2.620209</td><td>1.7514925</td><td>0.0169403125</td><td>13.3758</td><td>-28.12652</td><td>1953.991</td><td>1915.793</td><td>--</td><td>0.07768485</td><td>0.0779888555</td><td>0</td><td>--</td><td>--</td><td>0</td></tr>\n",
       "<tr><td>2.153392703416181</td><td>6380802579077530429</td><td>AIS</td><td>13.49330348114805</td><td>-28.43143571781124</td><td>1</td><td>0.3219976</td><td>GALEX J005358.3-282553</td><td>108.0</td><td>108.0</td><td>--</td><td>--</td><td>20.6816483</td><td>0.195167631</td><td>--</td><td>--</td><td>19.379385</td><td>3.48271513</td><td>0.0166025385</td><td>13.3758</td><td>-28.12652</td><td>1953.991</td><td>1915.793</td><td>--</td><td>0.574566662</td><td>0.5866198</td><td>0</td><td>--</td><td>--</td><td>0</td></tr>\n",
       "<tr><td>...</td><td>...</td><td>...</td><td>...</td><td>...</td><td>...</td><td>...</td><td>...</td><td>...</td><td>...</td><td>...</td><td>...</td><td>...</td><td>...</td><td>...</td><td>...</td><td>...</td><td>...</td><td>...</td><td>...</td><td>...</td><td>...</td><td>...</td><td>...</td><td>...</td><td>...</td><td>...</td><td>...</td><td>...</td><td>...</td></tr>\n",
       "<tr><td>14.852610301983221</td><td>6380802579079627242</td><td>AIS</td><td>13.26434628562609</td><td>-28.51766760744183</td><td>3</td><td>0.4032643</td><td>GALEX J005303.4-283103</td><td>108.0</td><td>108.0</td><td>20.1485538</td><td>0.21463874</td><td>19.7730579</td><td>0.128058583</td><td>31.6650429</td><td>6.25832844</td><td>44.74832</td><td>5.276618</td><td>0.015270344</td><td>13.3758</td><td>-28.12652</td><td>1953.991</td><td>1915.793</td><td>--</td><td>1.32671356</td><td>1.32974315</td><td>0</td><td>0.294156283</td><td>0.289253324</td><td>0</td></tr>\n",
       "<tr><td>14.857737645581432</td><td>6380802579077531477</td><td>AIS</td><td>13.64105024737382</td><td>-28.17952130543206</td><td>1</td><td>0.239802256</td><td>GALEX J005433.8-281046</td><td>108.0</td><td>108.0</td><td>--</td><td>--</td><td>22.0329781</td><td>0.426543623</td><td>--</td><td>--</td><td>5.58223629</td><td>2.19251132</td><td>0.0189153329</td><td>13.3758</td><td>-28.12652</td><td>1953.991</td><td>1915.793</td><td>--</td><td>0.165504053</td><td>0.247176826</td><td>0</td><td>--</td><td>--</td><td>0</td></tr>\n",
       "<tr><td>14.870671605784494</td><td>6380802579077529845</td><td>AIS</td><td>13.36349037383346</td><td>-28.61026407671255</td><td>1</td><td>0.483865678</td><td>GALEX J005327.2-283636</td><td>108.0</td><td>108.0</td><td>--</td><td>--</td><td>22.6497078</td><td>0.504466534</td><td>--</td><td>--</td><td>3.16312337</td><td>1.46932769</td><td>0.0153434584</td><td>13.3758</td><td>-28.12652</td><td>1953.991</td><td>1915.793</td><td>--</td><td>0.09378137</td><td>-0.02719095</td><td>1</td><td>--</td><td>--</td><td>0</td></tr>\n",
       "<tr><td>14.8756043493662</td><td>6380802579079628351</td><td>AIS</td><td>13.29758146564863</td><td>-28.23834695638728</td><td>3</td><td>0.131371379</td><td>GALEX J005311.4-281418</td><td>108.0</td><td>108.0</td><td>20.3279018</td><td>0.205056936</td><td>20.1720371</td><td>0.147221461</td><td>26.8436317</td><td>5.06857538</td><td>30.9873466</td><td>4.200739</td><td>0.0242344048</td><td>13.3758</td><td>-28.12652</td><td>1953.991</td><td>1915.793</td><td>--</td><td>0.918723464</td><td>0.862331</td><td>0</td><td>0.2493672</td><td>0.254384249</td><td>0</td></tr>\n",
       "<tr><td>14.89555781044637</td><td>6380802579077531472</td><td>AIS</td><td>13.64638636676109</td><td>-28.18130144991002</td><td>1</td><td>0.244783208</td><td>GALEX J005435.1-281052</td><td>108.0</td><td>108.0</td><td>--</td><td>--</td><td>22.7706356</td><td>0.5798845</td><td>--</td><td>--</td><td>2.8297348</td><td>1.51097536</td><td>0.0189153329</td><td>13.3758</td><td>-28.12652</td><td>1953.991</td><td>1915.793</td><td>--</td><td>0.08389694</td><td>-0.009115755</td><td>0</td><td>--</td><td>--</td><td>0</td></tr>\n",
       "<tr><td>14.904111933083458</td><td>6380802579077529842</td><td>AIS</td><td>13.66112506731936</td><td>-28.61025746142453</td><td>1</td><td>0.5450088</td><td>GALEX J005438.6-283636</td><td>108.0</td><td>108.0</td><td>--</td><td>--</td><td>22.3878021</td><td>0.458725274</td><td>--</td><td>--</td><td>4.026046</td><td>1.70059764</td><td>0.0208546352</td><td>13.3758</td><td>-28.12652</td><td>1953.991</td><td>1915.793</td><td>--</td><td>0.119365588</td><td>0.0450397655</td><td>1</td><td>--</td><td>--</td><td>0</td></tr>\n",
       "<tr><td>14.912701000385379</td><td>6380802579077529756</td><td>AIS</td><td>13.57047490257063</td><td>-28.64252080047374</td><td>1</td><td>0.5436833</td><td>GALEX J005416.9-283833</td><td>108.0</td><td>108.0</td><td>--</td><td>--</td><td>22.2036285</td><td>0.466548055</td><td>--</td><td>--</td><td>4.770327</td><td>2.04934335</td><td>0.0193940941</td><td>13.3758</td><td>-28.12652</td><td>1953.991</td><td>1915.793</td><td>--</td><td>0.141432285</td><td>0.07439798</td><td>1</td><td>--</td><td>--</td><td>256</td></tr>\n",
       "<tr><td>14.912896543103118</td><td>6380802579077530911</td><td>AIS</td><td>13.24677934312445</td><td>-28.31323009060717</td><td>1</td><td>0.2185965</td><td>GALEX J005259.2-281847</td><td>108.0</td><td>108.0</td><td>--</td><td>--</td><td>22.0005436</td><td>0.514388442</td><td>--</td><td>--</td><td>5.75151348</td><td>2.72422838</td><td>0.0208267942</td><td>13.3758</td><td>-28.12652</td><td>1953.991</td><td>1915.793</td><td>--</td><td>0.170522839</td><td>0.06477415</td><td>0</td><td>--</td><td>--</td><td>0</td></tr>\n",
       "<tr><td>14.92972080463925</td><td>6380802579078582468</td><td>AIS</td><td>13.35567210232711</td><td>-28.60704154330011</td><td>2</td><td>0.480848134</td><td>GALEX J005325.3-283625</td><td>108.0</td><td>108.0</td><td>21.8047619</td><td>0.478722423</td><td>--</td><td>--</td><td>6.888061</td><td>3.03634381</td><td>--</td><td>--</td><td>0.0155101893</td><td>13.3758</td><td>-28.12652</td><td>1953.991</td><td>1915.793</td><td>--</td><td>--</td><td>--</td><td>1</td><td>0.0639874861</td><td>0.04542707</td><td>0</td></tr>\n",
       "<tr><td>14.945602117625926</td><td>6380802579077529743</td><td>AIS</td><td>13.54888430617387</td><td>-28.6463415059563</td><td>1</td><td>0.5416664</td><td>GALEX J005411.7-283846</td><td>108.0</td><td>108.0</td><td>--</td><td>--</td><td>22.1792088</td><td>0.4412427</td><td>--</td><td>--</td><td>4.878832</td><td>1.98227346</td><td>0.0181854647</td><td>13.3758</td><td>-28.12652</td><td>1953.991</td><td>1915.793</td><td>--</td><td>0.144649282</td><td>0.135904148</td><td>0</td><td>--</td><td>--</td><td>0</td></tr>\n",
       "<tr><td>14.96679396887426</td><td>6380802579077530668</td><td>AIS</td><td>13.792618896758</td><td>-28.36563361209961</td><td>1</td><td>0.438180745</td><td>GALEX J005510.2-282156</td><td>108.0</td><td>108.0</td><td>--</td><td>--</td><td>20.3207741</td><td>0.151702508</td><td>--</td><td>--</td><td>27.02028</td><td>3.7744422</td><td>0.0203480329</td><td>13.3758</td><td>-28.12652</td><td>1953.991</td><td>1915.793</td><td>--</td><td>0.8011065</td><td>0.7150125</td><td>0</td><td>--</td><td>--</td><td>0</td></tr>\n",
       "<tr><td>14.968822372280817</td><td>6380802579079628707</td><td>AIS</td><td>13.41649690913647</td><td>-28.16442851980128</td><td>3</td><td>0.0522016361</td><td>GALEX J005339.9-280951</td><td>108.0</td><td>108.0</td><td>21.8746319</td><td>0.438980848</td><td>22.1473484</td><td>0.442898244</td><td>6.45876074</td><td>2.61074781</td><td>5.02412033</td><td>2.048963</td><td>0.0223936941</td><td>13.3758</td><td>-28.12652</td><td>1953.991</td><td>1915.793</td><td>--</td><td>0.148956835</td><td>0.08743659</td><td>0</td><td>0.0599994473</td><td>0.08772719</td><td>0</td></tr>\n",
       "<tr><td>14.971663240370185</td><td>6380802579077530507</td><td>AIS</td><td>13.7950331431826</td><td>-28.4117807159488</td><td>1</td><td>0.466591835</td><td>GALEX J005510.8-282442</td><td>108.0</td><td>108.0</td><td>--</td><td>--</td><td>21.9813118</td><td>0.499045163</td><td>--</td><td>--</td><td>5.854303</td><td>2.69020414</td><td>0.0219397787</td><td>13.3758</td><td>-28.12652</td><td>1953.991</td><td>1915.793</td><td>--</td><td>0.17357038</td><td>0.176999435</td><td>0</td><td>--</td><td>--</td><td>0</td></tr>\n",
       "<tr><td>14.982805177295148</td><td>6380802579077529763</td><td>AIS</td><td>13.44322974333088</td><td>-28.64175809226446</td><td>1</td><td>0.5186428</td><td>GALEX J005346.3-283830</td><td>108.0</td><td>108.0</td><td>--</td><td>--</td><td>22.12116</td><td>0.565659046</td><td>--</td><td>--</td><td>5.146782</td><td>2.680777</td><td>0.0159625281</td><td>13.3758</td><td>-28.12652</td><td>1953.991</td><td>1915.793</td><td>--</td><td>0.152593553</td><td>-0.086651355</td><td>0</td><td>--</td><td>--</td><td>256</td></tr>\n",
       "</table></div>"
      ],
      "text/plain": [
       "<Table masked=True length=751>\n",
       " distance_arcmin          objID        survey         ra        ... nuv_artifact fuv_flux_auto fuv_flux_aper_7 fuv_artifact\n",
       "     float64              str19         str3       float64      ...    int64        float64        float64        int64    \n",
       "------------------ ------------------- ------ ----------------- ... ------------ ------------- --------------- ------------\n",
       " 1.007453327937128 6380802579077530534    AIS 13.49358223794343 ...            0            --              --            0\n",
       "1.1570112318343508 6380802579077530499    AIS 13.52442935213248 ...            0            --              --            0\n",
       "1.2850870876665763 6380802579077530550    AIS 13.48753421553544 ...            0            --              --            0\n",
       " 1.363584856331773 6380802579077530502    AIS 13.49267323055165 ...            0            --              --            0\n",
       "1.3815148586786572 6380802579077530542    AIS 13.53755642425988 ...            0            --              --            0\n",
       "1.5200551875845891 6380802579077530547    AIS 13.54047227358614 ...            0            --              --            0\n",
       "1.6883066524555321 6380802579078582610    AIS 13.53805431735773 ...            0  0.0746389255      0.03671759            0\n",
       " 1.723165844919715 6380802579077530443    AIS 13.51667761958675 ...            0            --              --            0\n",
       "1.7356234878325882 6380802579077530498    AIS 13.48321810055538 ...            0            --              --            0\n",
       "1.8329210886391674 6380802579077530455    AIS 13.49885585927354 ...            0            --              --            0\n",
       "1.8617376245817316 6380802579077530597    AIS 13.54482535450264 ...            0            --              --            0\n",
       "1.9604040610856743 6380802579077530647    AIS 13.48829219623025 ...            0            --              --            0\n",
       " 2.041947711631833 6380802579077530476    AIS 13.48182104464175 ...            0            --              --            0\n",
       " 2.153392703416181 6380802579077530429    AIS 13.49330348114805 ...            0            --              --            0\n",
       "               ...                 ...    ...               ... ...          ...           ...             ...          ...\n",
       "14.852610301983221 6380802579079627242    AIS 13.26434628562609 ...            0   0.294156283     0.289253324            0\n",
       "14.857737645581432 6380802579077531477    AIS 13.64105024737382 ...            0            --              --            0\n",
       "14.870671605784494 6380802579077529845    AIS 13.36349037383346 ...            1            --              --            0\n",
       "  14.8756043493662 6380802579079628351    AIS 13.29758146564863 ...            0     0.2493672     0.254384249            0\n",
       " 14.89555781044637 6380802579077531472    AIS 13.64638636676109 ...            0            --              --            0\n",
       "14.904111933083458 6380802579077529842    AIS 13.66112506731936 ...            1            --              --            0\n",
       "14.912701000385379 6380802579077529756    AIS 13.57047490257063 ...            1            --              --          256\n",
       "14.912896543103118 6380802579077530911    AIS 13.24677934312445 ...            0            --              --            0\n",
       " 14.92972080463925 6380802579078582468    AIS 13.35567210232711 ...            1  0.0639874861      0.04542707            0\n",
       "14.945602117625926 6380802579077529743    AIS 13.54888430617387 ...            0            --              --            0\n",
       " 14.96679396887426 6380802579077530668    AIS   13.792618896758 ...            0            --              --            0\n",
       "14.968822372280817 6380802579079628707    AIS 13.41649690913647 ...            0  0.0599994473      0.08772719            0\n",
       "14.971663240370185 6380802579077530507    AIS  13.7950331431826 ...            0            --              --            0\n",
       "14.982805177295148 6380802579077529763    AIS 13.44322974333088 ...            0            --              --          256"
      ]
     },
     "execution_count": 67,
     "metadata": {},
     "output_type": "execute_result"
    }
   ],
   "source": [
    "catalog_data"
   ]
  },
  {
   "cell_type": "code",
   "execution_count": 68,
   "id": "fab5d10e-2214-4a41-88b4-ad9fb302c816",
   "metadata": {},
   "outputs": [],
   "source": [
    "all_ra = catalog_data['ra'].data\n",
    "all_dec = catalog_data['dec'].data"
   ]
  },
  {
   "cell_type": "code",
   "execution_count": 69,
   "id": "e033eaa0-1cd0-425a-a682-da73766d3bbf",
   "metadata": {},
   "outputs": [],
   "source": [
    "catalog_galex = SkyCoord(all_ra*u.degree,all_dec*u.degree)"
   ]
  },
  {
   "cell_type": "code",
   "execution_count": 70,
   "id": "05f309d8-a498-4a7e-ac49-9e6c22640f06",
   "metadata": {},
   "outputs": [
    {
     "data": {
      "text/html": [
       "<div>\n",
       "<style scoped>\n",
       "    .dataframe tbody tr th:only-of-type {\n",
       "        vertical-align: middle;\n",
       "    }\n",
       "\n",
       "    .dataframe tbody tr th {\n",
       "        vertical-align: top;\n",
       "    }\n",
       "\n",
       "    .dataframe thead th {\n",
       "        text-align: right;\n",
       "    }\n",
       "</style>\n",
       "<table border=\"1\" class=\"dataframe\">\n",
       "  <thead>\n",
       "    <tr style=\"text-align: right;\">\n",
       "      <th></th>\n",
       "      <th>num</th>\n",
       "      <th>name</th>\n",
       "      <th>ra</th>\n",
       "      <th>dec</th>\n",
       "      <th>Rmag</th>\n",
       "      <th>redshift</th>\n",
       "      <th>lines</th>\n",
       "      <th>RT</th>\n",
       "      <th>RV</th>\n",
       "      <th>eRV</th>\n",
       "      <th>Nsp</th>\n",
       "    </tr>\n",
       "  </thead>\n",
       "  <tbody>\n",
       "    <tr>\n",
       "      <th>51</th>\n",
       "      <td>2</td>\n",
       "      <td>SPEC2</td>\n",
       "      <td>13.52997</td>\n",
       "      <td>-28.44776</td>\n",
       "      <td>21.18</td>\n",
       "      <td>0.34555</td>\n",
       "      <td>b'K,H,G,H{beta}                               ...</td>\n",
       "      <td>12.3</td>\n",
       "      <td>103665</td>\n",
       "      <td>40</td>\n",
       "      <td>1</td>\n",
       "    </tr>\n",
       "    <tr>\n",
       "      <th>112</th>\n",
       "      <td>3</td>\n",
       "      <td>SPEC3</td>\n",
       "      <td>13.52552</td>\n",
       "      <td>-28.42080</td>\n",
       "      <td>21.45</td>\n",
       "      <td>0.68660</td>\n",
       "      <td>b'[OII],H9,K,H,H{beta},[OIII],H8              ...</td>\n",
       "      <td>11.6</td>\n",
       "      <td>210642</td>\n",
       "      <td>48</td>\n",
       "      <td>4</td>\n",
       "    </tr>\n",
       "    <tr>\n",
       "      <th>545</th>\n",
       "      <td>9</td>\n",
       "      <td>SPEC9</td>\n",
       "      <td>13.50219</td>\n",
       "      <td>-28.40641</td>\n",
       "      <td>21.60</td>\n",
       "      <td>0.29266</td>\n",
       "      <td>b'H9,H8,K,H                                   ...</td>\n",
       "      <td>13.1</td>\n",
       "      <td>87798</td>\n",
       "      <td>58</td>\n",
       "      <td>1</td>\n",
       "    </tr>\n",
       "    <tr>\n",
       "      <th>17</th>\n",
       "      <td>13</td>\n",
       "      <td>SPEC13</td>\n",
       "      <td>13.49261</td>\n",
       "      <td>-28.38272</td>\n",
       "      <td>23.14</td>\n",
       "      <td>0.68870</td>\n",
       "      <td>b'[OII],H{epsilon},H{delta},H{beta}           ...</td>\n",
       "      <td>0.0</td>\n",
       "      <td>206610</td>\n",
       "      <td>0</td>\n",
       "      <td>1</td>\n",
       "    </tr>\n",
       "    <tr>\n",
       "      <th>43</th>\n",
       "      <td>19</td>\n",
       "      <td>SPEC19</td>\n",
       "      <td>13.60758</td>\n",
       "      <td>-28.43452</td>\n",
       "      <td>21.70</td>\n",
       "      <td>0.48395</td>\n",
       "      <td>b'H10,H9,H8,K,H,H{delta}                      ...</td>\n",
       "      <td>7.1</td>\n",
       "      <td>145185</td>\n",
       "      <td>104</td>\n",
       "      <td>1</td>\n",
       "    </tr>\n",
       "    <tr>\n",
       "      <th>...</th>\n",
       "      <td>...</td>\n",
       "      <td>...</td>\n",
       "      <td>...</td>\n",
       "      <td>...</td>\n",
       "      <td>...</td>\n",
       "      <td>...</td>\n",
       "      <td>...</td>\n",
       "      <td>...</td>\n",
       "      <td>...</td>\n",
       "      <td>...</td>\n",
       "      <td>...</td>\n",
       "    </tr>\n",
       "    <tr>\n",
       "      <th>531</th>\n",
       "      <td>734</td>\n",
       "      <td>SPEC734</td>\n",
       "      <td>13.68083</td>\n",
       "      <td>-28.23290</td>\n",
       "      <td>0.00</td>\n",
       "      <td>0.23012</td>\n",
       "      <td>b'[OII],H9,K,H,H{alpha},NII                   ...</td>\n",
       "      <td>7.2</td>\n",
       "      <td>69036</td>\n",
       "      <td>71</td>\n",
       "      <td>1</td>\n",
       "    </tr>\n",
       "    <tr>\n",
       "      <th>532</th>\n",
       "      <td>735</td>\n",
       "      <td>SPEC735</td>\n",
       "      <td>13.69958</td>\n",
       "      <td>-28.23161</td>\n",
       "      <td>19.28</td>\n",
       "      <td>0.36169</td>\n",
       "      <td>b'K,H,G,H{beta}                               ...</td>\n",
       "      <td>8.2</td>\n",
       "      <td>108507</td>\n",
       "      <td>107</td>\n",
       "      <td>1</td>\n",
       "    </tr>\n",
       "    <tr>\n",
       "      <th>533</th>\n",
       "      <td>736</td>\n",
       "      <td>SPEC736</td>\n",
       "      <td>13.66431</td>\n",
       "      <td>-28.22849</td>\n",
       "      <td>21.64</td>\n",
       "      <td>0.55777</td>\n",
       "      <td>b'[OII],H9,H{beta},[OIII]                     ...</td>\n",
       "      <td>10.5</td>\n",
       "      <td>167331</td>\n",
       "      <td>31</td>\n",
       "      <td>1</td>\n",
       "    </tr>\n",
       "    <tr>\n",
       "      <th>534</th>\n",
       "      <td>737</td>\n",
       "      <td>SPEC737</td>\n",
       "      <td>13.62722</td>\n",
       "      <td>-28.22692</td>\n",
       "      <td>21.40</td>\n",
       "      <td>0.52001</td>\n",
       "      <td>b'[OII],K,H                                   ...</td>\n",
       "      <td>10.2</td>\n",
       "      <td>156003</td>\n",
       "      <td>53</td>\n",
       "      <td>1</td>\n",
       "    </tr>\n",
       "    <tr>\n",
       "      <th>535</th>\n",
       "      <td>738</td>\n",
       "      <td>SPEC738</td>\n",
       "      <td>13.64370</td>\n",
       "      <td>-28.22527</td>\n",
       "      <td>19.73</td>\n",
       "      <td>0.56044</td>\n",
       "      <td>b'K,H,4000{AA}-break,G                        ...</td>\n",
       "      <td>7.1</td>\n",
       "      <td>168132</td>\n",
       "      <td>126</td>\n",
       "      <td>1</td>\n",
       "    </tr>\n",
       "  </tbody>\n",
       "</table>\n",
       "<p>550 rows × 11 columns</p>\n",
       "</div>"
      ],
      "text/plain": [
       "     num     name        ra       dec   Rmag  redshift  \\\n",
       "51     2    SPEC2  13.52997 -28.44776  21.18   0.34555   \n",
       "112    3    SPEC3  13.52552 -28.42080  21.45   0.68660   \n",
       "545    9    SPEC9  13.50219 -28.40641  21.60   0.29266   \n",
       "17    13   SPEC13  13.49261 -28.38272  23.14   0.68870   \n",
       "43    19   SPEC19  13.60758 -28.43452  21.70   0.48395   \n",
       "..   ...      ...       ...       ...    ...       ...   \n",
       "531  734  SPEC734  13.68083 -28.23290   0.00   0.23012   \n",
       "532  735  SPEC735  13.69958 -28.23161  19.28   0.36169   \n",
       "533  736  SPEC736  13.66431 -28.22849  21.64   0.55777   \n",
       "534  737  SPEC737  13.62722 -28.22692  21.40   0.52001   \n",
       "535  738  SPEC738  13.64370 -28.22527  19.73   0.56044   \n",
       "\n",
       "                                                 lines    RT      RV  eRV  Nsp  \n",
       "51   b'K,H,G,H{beta}                               ...  12.3  103665   40    1  \n",
       "112  b'[OII],H9,K,H,H{beta},[OIII],H8              ...  11.6  210642   48    4  \n",
       "545  b'H9,H8,K,H                                   ...  13.1   87798   58    1  \n",
       "17   b'[OII],H{epsilon},H{delta},H{beta}           ...   0.0  206610    0    1  \n",
       "43   b'H10,H9,H8,K,H,H{delta}                      ...   7.1  145185  104    1  \n",
       "..                                                 ...   ...     ...  ...  ...  \n",
       "531  b'[OII],H9,K,H,H{alpha},NII                   ...   7.2   69036   71    1  \n",
       "532  b'K,H,G,H{beta}                               ...   8.2  108507  107    1  \n",
       "533  b'[OII],H9,H{beta},[OIII]                     ...  10.5  167331   31    1  \n",
       "534  b'[OII],K,H                                   ...  10.2  156003   53    1  \n",
       "535  b'K,H,4000{AA}-break,G                        ...   7.1  168132  126    1  \n",
       "\n",
       "[550 rows x 11 columns]"
      ]
     },
     "execution_count": 70,
     "metadata": {},
     "output_type": "execute_result"
    }
   ],
   "source": [
    "df_info"
   ]
  },
  {
   "cell_type": "code",
   "execution_count": 71,
   "id": "41cb4986-5028-41e7-b4e5-43368ee8a7e2",
   "metadata": {},
   "outputs": [],
   "source": [
    "all_idx = []  # index of the match\n",
    "all_d2d = []  # distance in arcsec\n",
    "all_d3d = []\n",
    "\n",
    "for index, row in df_info.iterrows():\n",
    "    c = coordinates.SkyCoord(row['ra']*u.degree, row['dec']*u.degree)\n",
    "    idx, d2d, d3d = c.match_to_catalog_sky(catalog_galex)\n",
    "    all_idx.append(idx)\n",
    "    all_d2d.append(Angle(d2d[0]).arcsec)\n",
    "    all_d3d.append(d3d)\n",
    "    # print(idx,Angle(d2d[0]).arcsec,d3d)"
   ]
  },
  {
   "cell_type": "code",
   "execution_count": 75,
   "id": "162a572c-50dd-47b6-a019-74d9949c0356",
   "metadata": {},
   "outputs": [
    {
     "data": {
      "text/plain": [
       "Text(0.5, 0, 'cross-match angle in arcsec')"
      ]
     },
     "execution_count": 75,
     "metadata": {},
     "output_type": "execute_result"
    },
    {
     "data": {
      "image/png": "[encoded data removed]",
      "text/plain": [
       "<Figure size 640x480 with 1 Axes>"
      ]
     },
     "metadata": {},
     "output_type": "display_data"
    }
   ],
   "source": [
    "plt.hist(all_d2d,bins=100,range=(0,100));\n",
    "plt.xlabel(\"cross-match angle in arcsec\")"
   ]
  },
  {
   "cell_type": "markdown",
   "id": "f6028faa-cfe8-4c0e-b369-8c952a2e544c",
   "metadata": {},
   "source": [
    "# All MAST missions"
   ]
  },
  {
   "cell_type": "code",
   "execution_count": 42,
   "id": "60007c09-8d90-4460-a3de-29863c4d3a8b",
   "metadata": {},
   "outputs": [
    {
     "name": "stdout",
     "output_type": "stream",
     "text": [
      "['IUE', 'FIMS-SPEAR', 'BEFS', 'HUT', 'GALEX', 'Kepler', 'KeplerFFI', 'HLA', 'HST', 'EUVE', 'TUES', 'TESS', 'K2', 'K2FFI', 'HLSP', 'SPITZER_SHA', 'JWST', 'PS1', 'OPO', 'WUPPE', 'FUSE', 'SWIFT']\n"
     ]
    }
   ],
   "source": [
    "print(Observations.list_missions())"
   ]
  },
  {
   "cell_type": "code",
   "execution_count": 50,
   "id": "ee3886ac-8e88-4e3d-8c00-1037fb1a2df4",
   "metadata": {},
   "outputs": [
    {
     "name": "stdout",
     "output_type": "stream",
     "text": [
      "Unexpected err=RemoteServiceError('Unable to Locate Adaptor for service: Mast.Catalogs.IUE.Cone'), type(err)=<class 'astroquery.exceptions.RemoteServiceError'>\n",
      "Unexpected err=RemoteServiceError('Unable to Locate Adaptor for service: Mast.Catalogs.FIMS-SPEAR.Cone'), type(err)=<class 'astroquery.exceptions.RemoteServiceError'>\n",
      "Unexpected err=RemoteServiceError('Unable to Locate Adaptor for service: Mast.Catalogs.BEFS.Cone'), type(err)=<class 'astroquery.exceptions.RemoteServiceError'>\n",
      "Unexpected err=RemoteServiceError('Unable to Locate Adaptor for service: Mast.Catalogs.HUT.Cone'), type(err)=<class 'astroquery.exceptions.RemoteServiceError'>\n",
      "catalog GALEX  N= 474\n",
      "Unexpected err=RemoteServiceError('Unable to Locate Adaptor for service: Mast.Catalogs.Kepler.Cone'), type(err)=<class 'astroquery.exceptions.RemoteServiceError'>\n",
      "Unexpected err=RemoteServiceError('Unable to Locate Adaptor for service: Mast.Catalogs.KeplerFFI.Cone'), type(err)=<class 'astroquery.exceptions.RemoteServiceError'>\n",
      "Unexpected err=RemoteServiceError('Unable to Locate Adaptor for service: Mast.Catalogs.HLA.Cone'), type(err)=<class 'astroquery.exceptions.RemoteServiceError'>\n",
      "Unexpected err=RemoteServiceError('Unable to Locate Adaptor for service: Mast.Catalogs.HST.Cone'), type(err)=<class 'astroquery.exceptions.RemoteServiceError'>\n",
      "Unexpected err=RemoteServiceError('Unable to Locate Adaptor for service: Mast.Catalogs.EUVE.Cone'), type(err)=<class 'astroquery.exceptions.RemoteServiceError'>\n",
      "Unexpected err=RemoteServiceError('Unable to Locate Adaptor for service: Mast.Catalogs.TUES.Cone'), type(err)=<class 'astroquery.exceptions.RemoteServiceError'>\n",
      "Unexpected err=AttributeError(\"'NoneType' object has no attribute 'update'\"), type(err)=<class 'AttributeError'>\n",
      "Unexpected err=RemoteServiceError('Unable to Locate Adaptor for service: Mast.Catalogs.K2.Cone'), type(err)=<class 'astroquery.exceptions.RemoteServiceError'>\n",
      "Unexpected err=RemoteServiceError('Unable to Locate Adaptor for service: Mast.Catalogs.K2FFI.Cone'), type(err)=<class 'astroquery.exceptions.RemoteServiceError'>\n",
      "Unexpected err=RemoteServiceError('Unable to Locate Adaptor for service: Mast.Catalogs.HLSP.Cone'), type(err)=<class 'astroquery.exceptions.RemoteServiceError'>\n",
      "Unexpected err=RemoteServiceError('Unable to Locate Adaptor for service: Mast.Catalogs.SPITZER_SHA.Cone'), type(err)=<class 'astroquery.exceptions.RemoteServiceError'>\n",
      "Unexpected err=RemoteServiceError('Unable to Locate Adaptor for service: Mast.Catalogs.JWST.Cone'), type(err)=<class 'astroquery.exceptions.RemoteServiceError'>\n",
      "Unexpected err=RemoteServiceError('Unable to Locate Adaptor for service: Mast.Catalogs.PS1.Cone'), type(err)=<class 'astroquery.exceptions.RemoteServiceError'>\n",
      "Unexpected err=RemoteServiceError('Unable to Locate Adaptor for service: Mast.Catalogs.OPO.Cone'), type(err)=<class 'astroquery.exceptions.RemoteServiceError'>\n",
      "Unexpected err=RemoteServiceError('Unable to Locate Adaptor for service: Mast.Catalogs.WUPPE.Cone'), type(err)=<class 'astroquery.exceptions.RemoteServiceError'>\n",
      "Unexpected err=RemoteServiceError('Unable to Locate Adaptor for service: Mast.Catalogs.FUSE.Cone'), type(err)=<class 'astroquery.exceptions.RemoteServiceError'>\n",
      "Unexpected err=RemoteServiceError('Unable to Locate Adaptor for service: Mast.Catalogs.SWIFT.Cone'), type(err)=<class 'astroquery.exceptions.RemoteServiceError'>\n"
     ]
    }
   ],
   "source": [
    "obs_list = Observations.list_missions()\n",
    "for obs in obs_list:\n",
    "    try: \n",
    "        catalog_data = Catalogs.query_object(target_name_simbad, catalog=obs)\n",
    "        N = len(catalog_data)\n",
    "        print(f\"catalog {obs}  N= {N}\")\n",
    "    except OSError as err:\n",
    "        print(\"OS error:\", err)\n",
    "    except ValueError:\n",
    "        print(\"Could not convert data to an integer.\")\n",
    "    except Exception as err:\n",
    "        print(f\"Unexpected {err=}, {type(err)=}\")"
   ]
  },
  {
   "cell_type": "code",
   "execution_count": null,
   "id": "00d18d94-275a-4814-b5bc-712dc9b31bfc",
   "metadata": {},
   "outputs": [],
   "source": []
  }
 ],
 "metadata": {
  "kernelspec": {
   "display_name": "Python 3 (ipykernel)",
   "language": "python",
   "name": "python3"
  },
  "language_info": {
   "codemirror_mode": {
    "name": "ipython",
    "version": 3
   },
   "file_extension": ".py",
   "mimetype": "text/x-python",
   "name": "python",
   "nbconvert_exporter": "python",
   "pygments_lexer": "ipython3",
   "version": "3.8.16"
  }
 },
 "nbformat": 4,
 "nbformat_minor": 5
}
