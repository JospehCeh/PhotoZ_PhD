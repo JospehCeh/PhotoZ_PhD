{
 "cells": [
  {
   "cell_type": "markdown",
   "id": "9895d4c9-8b55-4296-bc8e-d6ac87c2f93c",
   "metadata": {},
   "source": [
    "# Search in MAST catalogs \n",
    "\n",
    "- author : Sylvie Dagoret-Campagne\n",
    "- creation date : May 2023\n",
    "- last update : 2023-05-30\n",
    "\n",
    "Explore if some missions avaialble in MAST service have data in \"RX J0054.0-2823\" region\n",
    "\n",
    "https://astroquery.readthedocs.io/en/latest/mast/mast.html"
   ]
  },
  {
   "cell_type": "code",
   "execution_count": 1,
   "id": "ef1cabd4-1e65-48c8-90cf-7d1be777a524",
   "metadata": {},
   "outputs": [],
   "source": [
    "import matplotlib.pyplot as plt\n",
    "from astropy.wcs import WCS\n",
    "\n",
    "from astroquery.simbad import Simbad\n",
    "from astroquery.mast import Observations\n",
    "\n",
    "import astropy.coordinates as coordinates\n",
    "from astropy.coordinates import Angle\n",
    "import astropy.units as u"
   ]
  },
  {
   "cell_type": "code",
   "execution_count": 2,
   "id": "fb3f2f01-b7e4-42d3-b794-bba757712e0e",
   "metadata": {},
   "outputs": [],
   "source": [
    "from astropy.table.pprint import conf\n",
    "#conf.max_lines = -1\n",
    "#conf.max_width = -1"
   ]
  },
  {
   "cell_type": "markdown",
   "id": "4b1c08fc-67f6-41e0-8842-f53367ac7d58",
   "metadata": {},
   "source": [
    "## Observations"
   ]
  },
  {
   "cell_type": "code",
   "execution_count": 3,
   "id": "31d576e0-3240-469d-982a-939a999a3471",
   "metadata": {},
   "outputs": [
    {
     "name": "stdout",
     "output_type": "stream",
     "text": [
      "['HST', 'EUVE', 'TUES', 'HLSP', 'JWST', 'SPITZER_SHA', 'HUT', 'HLA', 'OPO', 'WUPPE', 'IUE', 'FIMS-SPEAR', 'BEFS', 'KeplerFFI', 'TESS', 'K2FFI', 'K2', 'FUSE', 'SWIFT', 'GALEX', 'Kepler', 'PS1']\n"
     ]
    }
   ],
   "source": [
    "print(Observations.list_missions())"
   ]
  },
  {
   "cell_type": "code",
   "execution_count": null,
   "id": "0b3bc5c8-dbb9-4b50-a370-f3cad743a4b8",
   "metadata": {},
   "outputs": [],
   "source": []
  },
  {
   "cell_type": "markdown",
   "id": "01765edb-51c1-4785-b631-e9d8582c228e",
   "metadata": {},
   "source": [
    "## Target"
   ]
  },
  {
   "cell_type": "code",
   "execution_count": 4,
   "id": "3ccf52e9-6efc-40d6-9de5-64c6068101ad",
   "metadata": {},
   "outputs": [],
   "source": [
    "target_name_simbad = \"BAX 013.5117-28.3994\"\n",
    "target_name_ned = \"RX J0054.0-2823\""
   ]
  },
  {
   "cell_type": "code",
   "execution_count": 5,
   "id": "849ed598-a0f4-45b0-b729-4299ab3ef309",
   "metadata": {},
   "outputs": [],
   "source": [
    "result_table = Simbad.query_object(target_name_simbad)"
   ]
  },
  {
   "cell_type": "code",
   "execution_count": 6,
   "id": "ada732a2-6018-443d-a51e-22d38a407a09",
   "metadata": {},
   "outputs": [],
   "source": [
    "ra_str = result_table['RA'][0] + ' hours'\n",
    "dec_str = result_table['DEC'][0] + ' degree'"
   ]
  },
  {
   "cell_type": "code",
   "execution_count": 7,
   "id": "897ad1a2-10fe-449a-9835-a74d53d7c7f0",
   "metadata": {},
   "outputs": [
    {
     "data": {
      "text/plain": [
       "<SkyCoord (ICRS): (ra, dec) in deg\n",
       "    (13.51166667, -28.39944444)>"
      ]
     },
     "execution_count": 7,
     "metadata": {},
     "output_type": "execute_result"
    }
   ],
   "source": [
    "coord = coordinates.SkyCoord(ra_str,dec_str)\n",
    "coord"
   ]
  },
  {
   "cell_type": "markdown",
   "id": "13eef2f3-0a29-4af0-9b82-03d3718cc08b",
   "metadata": {},
   "source": [
    "## MAST Observations"
   ]
  },
  {
   "cell_type": "code",
   "execution_count": 8,
   "id": "43916b42-db68-4b4a-bfaa-480395271abe",
   "metadata": {},
   "outputs": [],
   "source": [
    "obs_table = Observations.query_object(target_name_simbad,radius=\"0.25deg\")"
   ]
  },
  {
   "cell_type": "code",
   "execution_count": 9,
   "id": "faf70057-9d62-43dc-84ee-66f604a921f0",
   "metadata": {},
   "outputs": [
    {
     "data": {
      "text/html": [
       "<div><i>Table masked=True length=311</i>\n",
       "<table id=\"table140216528975520\" class=\"table-striped table-bordered table-condensed\">\n",
       "<thead><tr><th>intentType</th><th>obs_collection</th><th>provenance_name</th><th>instrument_name</th><th>project</th><th>filters</th><th>wavelength_region</th><th>target_name</th><th>target_classification</th><th>obs_id</th><th>s_ra</th><th>s_dec</th><th>dataproduct_type</th><th>proposal_pi</th><th>calib_level</th><th>t_min</th><th>t_max</th><th>t_exptime</th><th>em_min</th><th>em_max</th><th>obs_title</th><th>t_obs_release</th><th>proposal_id</th><th>proposal_type</th><th>sequence_number</th><th>s_region</th><th>jpegURL</th><th>dataURL</th><th>dataRights</th><th>mtFlag</th><th>srcDen</th><th>obsid</th><th>distance</th></tr></thead>\n",
       "<thead><tr><th>str7</th><th>str5</th><th>str17</th><th>str10</th><th>str4</th><th>str4</th><th>str16</th><th>str32</th><th>str1</th><th>str73</th><th>float64</th><th>float64</th><th>str10</th><th>str19</th><th>int64</th><th>float64</th><th>float64</th><th>float64</th><th>float64</th><th>float64</th><th>str14</th><th>float64</th><th>str23</th><th>str3</th><th>int64</th><th>str133</th><th>str120</th><th>str129</th><th>str6</th><th>bool</th><th>float64</th><th>str9</th><th>float64</th></tr></thead>\n",
       "<tr><td>science</td><td>TESS</td><td>SPOC</td><td>Photometer</td><td>TESS</td><td>TESS</td><td>Optical</td><td>TESS FFI</td><td>--</td><td>tess-s0003-2-4</td><td>18.82454293614978</td><td>-31.040788897335645</td><td>image</td><td>Ricker, George</td><td>3</td><td>58381.546141770836</td><td>58408.879141261576</td><td>1425.599424</td><td>600.0</td><td>1000.0</td><td>--</td><td>58507.6666666</td><td>N/A</td><td>--</td><td>3</td><td>POLYGON 22.278127 -23.114227 28.285859 -33.79011 14.400627 -38.731614 10.254244 -27.780414 22.278127 -23.114227</td><td>--</td><td>--</td><td>PUBLIC</td><td>False</td><td>nan</td><td>60942206</td><td>0.0</td></tr>\n",
       "<tr><td>science</td><td>TESS</td><td>SPOC</td><td>Photometer</td><td>TESS</td><td>TESS</td><td>Optical</td><td>TESS FFI</td><td>--</td><td>tess-s0029-2-3</td><td>10.878597490217892</td><td>-34.65291393027482</td><td>image</td><td>Ricker, George</td><td>3</td><td>59087.74000385</td><td>59113.93468316</td><td>475.199793</td><td>600.0</td><td>1000.0</td><td>--</td><td>59158.0</td><td>N/A</td><td>--</td><td>29</td><td>POLYGON 12.83654500 -26.68156200 21.20849700 -35.67388800 8.41085100 -42.87851500 1.00297300 -32.50456800 12.83654500 -26.68156200</td><td>--</td><td>--</td><td>PUBLIC</td><td>False</td><td>nan</td><td>27972860</td><td>0.0</td></tr>\n",
       "<tr><td>science</td><td>TESS</td><td>SPOC</td><td>Photometer</td><td>TESS</td><td>TESS</td><td>Optical</td><td>TESS FFI</td><td>--</td><td>tess-s0030-2-4</td><td>21.316275513239678</td><td>-29.928875993165978</td><td>image</td><td>Ricker, George</td><td>3</td><td>59115.38607926</td><td>59142.7260047</td><td>475.199788</td><td>600.0</td><td>1000.0</td><td>--</td><td>59173.0</td><td>N/A</td><td>--</td><td>30</td><td>POLYGON 24.81211600 -22.02902800 30.63496600 -32.75918900 16.88033600 -37.59161500 12.86359200 -26.62078800 24.81211600 -22.02902800</td><td>--</td><td>--</td><td>PUBLIC</td><td>False</td><td>nan</td><td>28055405</td><td>0.0</td></tr>\n",
       "<tr><td>science</td><td>TESS</td><td>SPOC</td><td>Photometer</td><td>TESS</td><td>TESS</td><td>Optical</td><td>63787839</td><td>--</td><td>tess2020238165205-s0029-0000000063787839-0193-s</td><td>13.2895194155193</td><td>-28.2973699972947</td><td>timeseries</td><td>Ricker, George</td><td>3</td><td>59087.74282196</td><td>59113.93772419</td><td>120.0</td><td>600.0</td><td>1000.0</td><td>--</td><td>59158.0</td><td>G03272</td><td>--</td><td>29</td><td>CIRCLE ICRS 13.28951942 -28.29737000 0.00138889</td><td>--</td><td>mast:TESS/product/tess2020238165205-s0029-0000000063787839-0193-s_lc.fits</td><td>PUBLIC</td><td>False</td><td>nan</td><td>27901915</td><td>789.0070932805666</td></tr>\n",
       "<tr><td>science</td><td>PS1</td><td>3PI</td><td>GPC1</td><td>PS1</td><td>g</td><td>OPTICAL</td><td>0638.085</td><td>--</td><td>rings.v3.skycell.0638.085.stk.g</td><td>13.441716292531964</td><td>-28.59309734059033</td><td>image</td><td>--</td><td>3</td><td>55447.4769591</td><td>56625.270336885165</td><td>645.0</td><td>394299987792.96875</td><td>559299987792.9688</td><td>PS1 3PI Survey</td><td>57741.5416666</td><td>--</td><td>3PI</td><td>--</td><td>POLYGON ICRS    13.689784   -28.810830   13.689703   -28.375747   13.194721   -28.374921   13.192657   -28.809989</td><td>http://ps1images.stsci.edu/cgi-bin/fitscut.cgi?red=rings.v3.skycell/0638/085/rings.v3.skycell.0638.085.stk.g.unconv.fits</td><td>http://ps1images.stsci.edu/rings.v3.skycell/0638/085/rings.v3.skycell.0638.085.stk.g.unconv.fits</td><td>PUBLIC</td><td>--</td><td>5885.0</td><td>1766282</td><td>0.0</td></tr>\n",
       "<tr><td>science</td><td>PS1</td><td>3PI</td><td>GPC1</td><td>PS1</td><td>i</td><td>OPTICAL</td><td>0638.085</td><td>--</td><td>rings.v3.skycell.0638.085.stk.i</td><td>13.441716292531964</td><td>-28.59309734059033</td><td>image</td><td>--</td><td>3</td><td>55457.4569304</td><td>56917.52311593336</td><td>1260.0</td><td>677799987792.9688</td><td>830400024414.0625</td><td>PS1 3PI Survey</td><td>57741.5416666</td><td>--</td><td>3PI</td><td>--</td><td>POLYGON ICRS    13.689784   -28.810830   13.689703   -28.375747   13.194721   -28.374921   13.192657   -28.809989</td><td>http://ps1images.stsci.edu/cgi-bin/fitscut.cgi?red=rings.v3.skycell/0638/085/rings.v3.skycell.0638.085.stk.i.unconv.fits</td><td>http://ps1images.stsci.edu/rings.v3.skycell/0638/085/rings.v3.skycell.0638.085.stk.i.unconv.fits</td><td>PUBLIC</td><td>--</td><td>5885.0</td><td>1766283</td><td>0.0</td></tr>\n",
       "<tr><td>science</td><td>PS1</td><td>3PI</td><td>GPC1</td><td>PS1</td><td>r</td><td>OPTICAL</td><td>0638.085</td><td>--</td><td>rings.v3.skycell.0638.085.stk.r</td><td>13.441716292531964</td><td>-28.59309734059033</td><td>image</td><td>--</td><td>3</td><td>55447.5014007</td><td>56988.28977063336</td><td>950.0</td><td>538599975585.9375</td><td>703599975585.9375</td><td>PS1 3PI Survey</td><td>57741.5416666</td><td>--</td><td>3PI</td><td>--</td><td>POLYGON ICRS    13.689784   -28.810830   13.689703   -28.375747   13.194721   -28.374921   13.192657   -28.809989</td><td>http://ps1images.stsci.edu/cgi-bin/fitscut.cgi?red=rings.v3.skycell/0638/085/rings.v3.skycell.0638.085.stk.r.unconv.fits</td><td>http://ps1images.stsci.edu/rings.v3.skycell/0638/085/rings.v3.skycell.0638.085.stk.r.unconv.fits</td><td>PUBLIC</td><td>--</td><td>5885.0</td><td>1766284</td><td>0.0</td></tr>\n",
       "<tr><td>science</td><td>PS1</td><td>3PI</td><td>GPC1</td><td>PS1</td><td>y</td><td>OPTICAL;INFRARED</td><td>0638.085</td><td>--</td><td>rings.v3.skycell.0638.085.stk.y</td><td>13.441716292531964</td><td>-28.59309734059033</td><td>image</td><td>--</td><td>3</td><td>55402.5694746</td><td>56889.63235872223</td><td>650.0</td><td>910000000000.0</td><td>1083800048828.125</td><td>PS1 3PI Survey</td><td>57741.5416666</td><td>--</td><td>3PI</td><td>--</td><td>POLYGON ICRS    13.689784   -28.810830   13.689703   -28.375747   13.194721   -28.374921   13.192657   -28.809989</td><td>http://ps1images.stsci.edu/cgi-bin/fitscut.cgi?red=rings.v3.skycell/0638/085/rings.v3.skycell.0638.085.stk.y.unconv.fits</td><td>http://ps1images.stsci.edu/rings.v3.skycell/0638/085/rings.v3.skycell.0638.085.stk.y.unconv.fits</td><td>PUBLIC</td><td>--</td><td>5885.0</td><td>1766285</td><td>0.0</td></tr>\n",
       "<tr><td>science</td><td>PS1</td><td>3PI</td><td>GPC1</td><td>PS1</td><td>z</td><td>OPTICAL</td><td>0638.085</td><td>--</td><td>rings.v3.skycell.0638.085.stk.z</td><td>13.441716292531964</td><td>-28.59309734059033</td><td>image</td><td>--</td><td>3</td><td>55401.6151704</td><td>56622.27991124446</td><td>540.0</td><td>802799987792.9688</td><td>934599975585.9375</td><td>PS1 3PI Survey</td><td>57741.5416666</td><td>--</td><td>3PI</td><td>--</td><td>POLYGON ICRS    13.689784   -28.810830   13.689703   -28.375747   13.194721   -28.374921   13.192657   -28.809989</td><td>http://ps1images.stsci.edu/cgi-bin/fitscut.cgi?red=rings.v3.skycell/0638/085/rings.v3.skycell.0638.085.stk.z.unconv.fits</td><td>http://ps1images.stsci.edu/rings.v3.skycell/0638/085/rings.v3.skycell.0638.085.stk.z.unconv.fits</td><td>PUBLIC</td><td>--</td><td>5885.0</td><td>1766286</td><td>0.0</td></tr>\n",
       "<tr><td>science</td><td>PS1</td><td>3PI</td><td>GPC1</td><td>PS1</td><td>g</td><td>OPTICAL</td><td>0638.095</td><td>--</td><td>rings.v3.skycell.0638.095.stk.g</td><td>13.44262805222263</td><td>-28.19141075388904</td><td>image</td><td>--</td><td>3</td><td>55447.4769591</td><td>56625.270336885165</td><td>817.0</td><td>394299987792.96875</td><td>559299987792.9688</td><td>PS1 3PI Survey</td><td>57741.5416666</td><td>--</td><td>3PI</td><td>--</td><td>POLYGON ICRS    13.689709   -28.409055   13.689628   -27.974143   13.196611   -27.973331   13.194564   -28.408227</td><td>http://ps1images.stsci.edu/cgi-bin/fitscut.cgi?red=rings.v3.skycell/0638/095/rings.v3.skycell.0638.095.stk.g.unconv.fits</td><td>http://ps1images.stsci.edu/rings.v3.skycell/0638/095/rings.v3.skycell.0638.095.stk.g.unconv.fits</td><td>PUBLIC</td><td>--</td><td>5885.0</td><td>1766332</td><td>0.0</td></tr>\n",
       "<tr><td>science</td><td>PS1</td><td>3PI</td><td>GPC1</td><td>PS1</td><td>i</td><td>OPTICAL</td><td>0638.095</td><td>--</td><td>rings.v3.skycell.0638.095.stk.i</td><td>13.44262805222263</td><td>-28.19141075388904</td><td>image</td><td>--</td><td>3</td><td>55457.4569304</td><td>56917.52311593336</td><td>1350.0</td><td>677799987792.9688</td><td>830400024414.0625</td><td>PS1 3PI Survey</td><td>57741.5416666</td><td>--</td><td>3PI</td><td>--</td><td>POLYGON ICRS    13.689709   -28.409055   13.689628   -27.974143   13.196611   -27.973331   13.194564   -28.408227</td><td>http://ps1images.stsci.edu/cgi-bin/fitscut.cgi?red=rings.v3.skycell/0638/095/rings.v3.skycell.0638.095.stk.i.unconv.fits</td><td>http://ps1images.stsci.edu/rings.v3.skycell/0638/095/rings.v3.skycell.0638.095.stk.i.unconv.fits</td><td>PUBLIC</td><td>--</td><td>5885.0</td><td>1766333</td><td>0.0</td></tr>\n",
       "<tr><td>science</td><td>PS1</td><td>3PI</td><td>GPC1</td><td>PS1</td><td>r</td><td>OPTICAL</td><td>0638.095</td><td>--</td><td>rings.v3.skycell.0638.095.stk.r</td><td>13.44262805222263</td><td>-28.19141075388904</td><td>image</td><td>--</td><td>3</td><td>55447.5014007</td><td>56988.28977063336</td><td>980.0</td><td>538599975585.9375</td><td>703599975585.9375</td><td>PS1 3PI Survey</td><td>57741.5416666</td><td>--</td><td>3PI</td><td>--</td><td>POLYGON ICRS    13.689709   -28.409055   13.689628   -27.974143   13.196611   -27.973331   13.194564   -28.408227</td><td>http://ps1images.stsci.edu/cgi-bin/fitscut.cgi?red=rings.v3.skycell/0638/095/rings.v3.skycell.0638.095.stk.r.unconv.fits</td><td>http://ps1images.stsci.edu/rings.v3.skycell/0638/095/rings.v3.skycell.0638.095.stk.r.unconv.fits</td><td>PUBLIC</td><td>--</td><td>5885.0</td><td>1766334</td><td>0.0</td></tr>\n",
       "<tr><td>science</td><td>PS1</td><td>3PI</td><td>GPC1</td><td>PS1</td><td>y</td><td>OPTICAL;INFRARED</td><td>0638.095</td><td>--</td><td>rings.v3.skycell.0638.095.stk.y</td><td>13.44262805222263</td><td>-28.19141075388904</td><td>image</td><td>--</td><td>3</td><td>55402.5694746</td><td>56889.63235872223</td><td>770.0</td><td>910000000000.0</td><td>1083800048828.125</td><td>PS1 3PI Survey</td><td>57741.5416666</td><td>--</td><td>3PI</td><td>--</td><td>POLYGON ICRS    13.689709   -28.409055   13.689628   -27.974143   13.196611   -27.973331   13.194564   -28.408227</td><td>http://ps1images.stsci.edu/cgi-bin/fitscut.cgi?red=rings.v3.skycell/0638/095/rings.v3.skycell.0638.095.stk.y.unconv.fits</td><td>http://ps1images.stsci.edu/rings.v3.skycell/0638/095/rings.v3.skycell.0638.095.stk.y.unconv.fits</td><td>PUBLIC</td><td>--</td><td>5885.0</td><td>1766335</td><td>0.0</td></tr>\n",
       "<tr><td>science</td><td>PS1</td><td>3PI</td><td>GPC1</td><td>PS1</td><td>z</td><td>OPTICAL</td><td>0638.095</td><td>--</td><td>rings.v3.skycell.0638.095.stk.z</td><td>13.44262805222263</td><td>-28.19141075388904</td><td>image</td><td>--</td><td>3</td><td>55401.6039719</td><td>56622.27991124446</td><td>720.0</td><td>802799987792.9688</td><td>934599975585.9375</td><td>PS1 3PI Survey</td><td>57741.5416666</td><td>--</td><td>3PI</td><td>--</td><td>POLYGON ICRS    13.689709   -28.409055   13.689628   -27.974143   13.196611   -27.973331   13.194564   -28.408227</td><td>http://ps1images.stsci.edu/cgi-bin/fitscut.cgi?red=rings.v3.skycell/0638/095/rings.v3.skycell.0638.095.stk.z.unconv.fits</td><td>http://ps1images.stsci.edu/rings.v3.skycell/0638/095/rings.v3.skycell.0638.095.stk.z.unconv.fits</td><td>PUBLIC</td><td>--</td><td>5885.0</td><td>1766336</td><td>0.0</td></tr>\n",
       "<tr><td>...</td><td>...</td><td>...</td><td>...</td><td>...</td><td>...</td><td>...</td><td>...</td><td>...</td><td>...</td><td>...</td><td>...</td><td>...</td><td>...</td><td>...</td><td>...</td><td>...</td><td>...</td><td>...</td><td>...</td><td>...</td><td>...</td><td>...</td><td>...</td><td>...</td><td>...</td><td>...</td><td>...</td><td>...</td><td>...</td><td>...</td><td>...</td><td>...</td></tr>\n",
       "<tr><td>science</td><td>HLSP</td><td>TGLC</td><td>Photometer</td><td>TESS</td><td>TESS</td><td>Optical</td><td>63798035</td><td>--</td><td>hlsp_tglc_tess_ffi_gaiaid-5032553613269750784-s0003-cam2-ccd4_tess_v1_llc</td><td>13.73584996786556</td><td>-28.53368804111325</td><td>timeseries</td><td>Timothy D. Brandt</td><td>4</td><td>58381.55735905583</td><td>58408.86952545328</td><td>1800.0</td><td>600.0</td><td>1000.0</td><td>--</td><td>60023.87031241</td><td>N/A</td><td>--</td><td>3</td><td>CIRCLE 13.73584996786556 -28.53368804111325 0.0011111111111111111</td><td>--</td><td>mast:HLSP/tglc/s0003/cam2-ccd4/0050/3255/3613/2697/hlsp_tglc_tess_ffi_gaiaid-5032553613269750784-s0003-cam2-ccd4_tess_v1_llc.fits</td><td>PUBLIC</td><td>False</td><td>nan</td><td>119131914</td><td>854.4463729174186</td></tr>\n",
       "<tr><td>science</td><td>HLSP</td><td>TGLC</td><td>Photometer</td><td>TESS</td><td>TESS</td><td>Optical</td><td>63939683</td><td>--</td><td>hlsp_tglc_tess_ffi_gaiaid-5032601373306057088-s0003-cam2-ccd4_tess_v1_llc</td><td>13.26025526611696</td><td>-28.49862990161239</td><td>timeseries</td><td>Timothy D. Brandt</td><td>4</td><td>58381.55735905583</td><td>58408.86952545328</td><td>1800.0</td><td>600.0</td><td>1000.0</td><td>--</td><td>60023.87031241</td><td>N/A</td><td>--</td><td>3</td><td>CIRCLE 13.26025526611696 -28.49862990161239 0.0011111111111111111</td><td>--</td><td>mast:HLSP/tglc/s0003/cam2-ccd4/0050/3260/1373/3060/hlsp_tglc_tess_ffi_gaiaid-5032601373306057088-s0003-cam2-ccd4_tess_v1_llc.fits</td><td>PUBLIC</td><td>False</td><td>nan</td><td>119105051</td><td>868.3831000590736</td></tr>\n",
       "<tr><td>science</td><td>HLSP</td><td>GSFC-ELEANOR-LITE</td><td>Photometer</td><td>TESS</td><td>TESS</td><td>Optical</td><td>63939683</td><td>--</td><td>hlsp_gsfc-eleanor-lite_tess_ffi_s0003-0000000063939683_tess_v1.0_lc</td><td>13.2601261866907</td><td>-28.4986858895466</td><td>timeseries</td><td>Brian P. Powell</td><td>4</td><td>58381.546141770836</td><td>58408.879141261576</td><td>1800.0</td><td>600.0</td><td>1000.0</td><td>--</td><td>59927.0</td><td>N/A</td><td>--</td><td>3</td><td>CIRCLE 13.2601261866907 -28.4986858895466 0.0011111111111111111</td><td>--</td><td>mast:HLSP/gsfc-eleanor-lite/s0003/0000/0000/6393/9683/hlsp_gsfc-eleanor-lite_tess_ffi_s0003-0000000063939683_tess_v1.0_lc.fits</td><td>PUBLIC</td><td>False</td><td>nan</td><td>104563445</td><td>868.8381947160557</td></tr>\n",
       "<tr><td>science</td><td>HLSP</td><td>QLP</td><td>Photometer</td><td>TESS</td><td>TESS</td><td>Optical</td><td>63939683</td><td>--</td><td>hlsp_qlp_tess_ffi_s0003-0000000063939683_tess_v01_llc</td><td>13.2601261867</td><td>-28.4986858895</td><td>timeseries</td><td>Chelsea X. Huang</td><td>4</td><td>58381.22430519</td><td>58408.86965292</td><td>1800.0</td><td>600.0</td><td>1000.0</td><td>--</td><td>59257.45650462</td><td>N/A</td><td>--</td><td>3</td><td>CIRCLE ICRS 13.26012619 -28.49868589 0.00111111</td><td>--</td><td>mast:HLSP/qlp/s0003/0000/0000/6393/9683/hlsp_qlp_tess_ffi_s0003-0000000063939683_tess_v01_llc.fits</td><td>PUBLIC</td><td>False</td><td>nan</td><td>58663240</td><td>868.8381947160557</td></tr>\n",
       "<tr><td>science</td><td>HLSP</td><td>TASOC</td><td>Photometer</td><td>TESS</td><td>TESS</td><td>Optical</td><td>63939683</td><td>--</td><td>hlsp_tasoc_tess_ffi_tic00063939683-s0003-cam2-ccd4-c1800_tess_v05</td><td>13.2601261866907</td><td>-28.4986858895466</td><td>timeseries</td><td>Rasmus Handberg</td><td>4</td><td>58381.54720165006</td><td>58408.88004738108</td><td>1800.0</td><td>600.0</td><td>1000.0</td><td>--</td><td>59694.0478009</td><td>G011160_G011155_G011188</td><td>--</td><td>3</td><td>CIRCLE ICRS 13.26012619 -28.49868589 0.00111111</td><td>--</td><td>mast:HLSP/tasoc/s0003/c1800/0000/0000/6393/9683/hlsp_tasoc_tess_ffi_tic00063939683-s0003-cam2-ccd4-c1800_tess_v05_cbv-lc.fits</td><td>PUBLIC</td><td>False</td><td>nan</td><td>82044106</td><td>868.8381947160557</td></tr>\n",
       "<tr><td>science</td><td>HLSP</td><td>GSFC-ELEANOR-LITE</td><td>Photometer</td><td>TESS</td><td>TESS</td><td>Optical</td><td>63798011</td><td>--</td><td>hlsp_gsfc-eleanor-lite_tess_ffi_s0003-0000000063798011_tess_v1.0_lc</td><td>13.7925644608121</td><td>-28.3655423074051</td><td>timeseries</td><td>Brian P. Powell</td><td>4</td><td>58381.546141770836</td><td>58408.879141261576</td><td>1800.0</td><td>600.0</td><td>1000.0</td><td>--</td><td>59927.0</td><td>N/A</td><td>--</td><td>3</td><td>CIRCLE 13.7925644608121 -28.3655423074051 0.0011111111111111111</td><td>--</td><td>mast:HLSP/gsfc-eleanor-lite/s0003/0000/0000/6379/8011/hlsp_gsfc-eleanor-lite_tess_ffi_s0003-0000000063798011_tess_v1.0_lc.fits</td><td>PUBLIC</td><td>False</td><td>nan</td><td>104610569</td><td>893.892192072498</td></tr>\n",
       "<tr><td>science</td><td>HLSP</td><td>TGLC</td><td>Photometer</td><td>TESS</td><td>TESS</td><td>Optical</td><td>63798011</td><td>--</td><td>hlsp_tglc_tess_ffi_gaiaid-5032653840626489472-s0003-cam2-ccd4_tess_v1_llc</td><td>13.79258925645961</td><td>-28.36556127321704</td><td>timeseries</td><td>Timothy D. Brandt</td><td>4</td><td>58381.55735905583</td><td>58408.86952545328</td><td>1800.0</td><td>600.0</td><td>1000.0</td><td>--</td><td>60023.87031241</td><td>N/A</td><td>--</td><td>3</td><td>CIRCLE 13.79258925645961 -28.36556127321704 0.0011111111111111111</td><td>--</td><td>mast:HLSP/tglc/s0003/cam2-ccd4/0050/3265/3840/6264/hlsp_tglc_tess_ffi_gaiaid-5032653840626489472-s0003-cam2-ccd4_tess_v1_llc.fits</td><td>PUBLIC</td><td>False</td><td>nan</td><td>119071426</td><td>893.9606927809903</td></tr>\n",
       "<tr><td>science</td><td>HLSP</td><td>GSFC-ELEANOR-LITE</td><td>Photometer</td><td>TESS</td><td>TESS</td><td>Optical</td><td>63793716</td><td>--</td><td>hlsp_gsfc-eleanor-lite_tess_ffi_s0003-0000000063793716_tess_v1.0_lc</td><td>13.4616844545753</td><td>-28.6458051356806</td><td>timeseries</td><td>Brian P. Powell</td><td>4</td><td>58381.546141770836</td><td>58408.879141261576</td><td>1800.0</td><td>600.0</td><td>1000.0</td><td>--</td><td>59927.0</td><td>N/A</td><td>--</td><td>3</td><td>CIRCLE 13.4616844545753 -28.6458051356806 0.0011111111111111111</td><td>--</td><td>mast:HLSP/gsfc-eleanor-lite/s0003/0000/0000/6379/3716/hlsp_gsfc-eleanor-lite_tess_ffi_s0003-0000000063793716_tess_v1.0_lc.fits</td><td>PUBLIC</td><td>False</td><td>nan</td><td>104602552</td><td>897.0932265928994</td></tr>\n",
       "<tr><td>science</td><td>HLSP</td><td>TGLC</td><td>Photometer</td><td>TESS</td><td>TESS</td><td>Optical</td><td>63793716</td><td>--</td><td>hlsp_tglc_tess_ffi_gaiaid-5032548734186881024-s0003-cam2-ccd4_tess_v1_llc</td><td>13.46171370841294</td><td>-28.64586330690929</td><td>timeseries</td><td>Timothy D. Brandt</td><td>4</td><td>58381.55735905583</td><td>58408.86952545328</td><td>1800.0</td><td>600.0</td><td>1000.0</td><td>--</td><td>60023.87031241</td><td>N/A</td><td>--</td><td>3</td><td>CIRCLE 13.46171370841294 -28.64586330690929 0.0011111111111111111</td><td>--</td><td>mast:HLSP/tglc/s0003/cam2-ccd4/0050/3254/8734/1868/hlsp_tglc_tess_ffi_gaiaid-5032548734186881024-s0003-cam2-ccd4_tess_v1_llc.fits</td><td>PUBLIC</td><td>False</td><td>nan</td><td>119097568</td><td>897.2832213004979</td></tr>\n",
       "<tr><td>science</td><td>HLSP</td><td>TGLC</td><td>Photometer</td><td>TESS</td><td>TESS</td><td>Optical</td><td>63787848</td><td>--</td><td>hlsp_tglc_tess_ffi_gaiaid-5032624256891805824-s0003-cam2-ccd4_tess_v1_llc</td><td>13.31217327691672</td><td>-28.22006241112527</td><td>timeseries</td><td>Timothy D. Brandt</td><td>4</td><td>58381.55735905583</td><td>58408.86952545328</td><td>1800.0</td><td>600.0</td><td>1000.0</td><td>--</td><td>60023.87031241</td><td>N/A</td><td>--</td><td>3</td><td>CIRCLE 13.31217327691672 -28.22006241112527 0.0011111111111111111</td><td>--</td><td>mast:HLSP/tglc/s0003/cam2-ccd4/0050/3262/4256/8918/hlsp_tglc_tess_ffi_gaiaid-5032624256891805824-s0003-cam2-ccd4_tess_v1_llc.fits</td><td>PUBLIC</td><td>False</td><td>nan</td><td>119105512</td><td>899.7346162810717</td></tr>\n",
       "<tr><td>science</td><td>HLSP</td><td>GSFC-ELEANOR-LITE</td><td>Photometer</td><td>TESS</td><td>TESS</td><td>Optical</td><td>63787848</td><td>--</td><td>hlsp_gsfc-eleanor-lite_tess_ffi_s0003-0000000063787848_tess_v1.0_lc</td><td>13.3121886296744</td><td>-28.2200206706245</td><td>timeseries</td><td>Brian P. Powell</td><td>4</td><td>58381.546141770836</td><td>58408.879141261576</td><td>1800.0</td><td>600.0</td><td>1000.0</td><td>--</td><td>59927.0</td><td>N/A</td><td>--</td><td>3</td><td>CIRCLE 13.3121886296744 -28.2200206706245 0.0011111111111111111</td><td>--</td><td>mast:HLSP/gsfc-eleanor-lite/s0003/0000/0000/6378/7848/hlsp_gsfc-eleanor-lite_tess_ffi_s0003-0000000063787848_tess_v1.0_lc.fits</td><td>PUBLIC</td><td>False</td><td>nan</td><td>104548672</td><td>899.8079946763623</td></tr>\n",
       "<tr><td>science</td><td>HLSP</td><td>TASOC</td><td>Photometer</td><td>TESS</td><td>TESS</td><td>Optical</td><td>63787848</td><td>--</td><td>hlsp_tasoc_tess_ffi_tic00063787848-s0003-cam2-ccd4-c1800_tess_v05</td><td>13.3121886296744</td><td>-28.2200206706245</td><td>timeseries</td><td>Rasmus Handberg</td><td>4</td><td>58381.54721292698</td><td>58408.88006515071</td><td>1800.0</td><td>600.0</td><td>1000.0</td><td>--</td><td>59694.0478009</td><td>G011160_G011155_G011188</td><td>--</td><td>3</td><td>CIRCLE ICRS 13.31218863 -28.22002067 0.00111111</td><td>--</td><td>mast:HLSP/tasoc/s0003/c1800/0000/0000/6378/7848/hlsp_tasoc_tess_ffi_tic00063787848-s0003-cam2-ccd4-c1800_tess_v05_cbv-lc.fits</td><td>PUBLIC</td><td>False</td><td>nan</td><td>81908608</td><td>899.8079946763623</td></tr>\n",
       "<tr><td>science</td><td>GALEX</td><td>AIS</td><td>GALEX</td><td>AIS</td><td>FUV</td><td>UV</td><td>AIS_281_1_14</td><td>--</td><td>6380802579076481024</td><td>13.375796567031102</td><td>-28.1265195718468</td><td>image</td><td>--</td><td>2</td><td>54055.71357638889</td><td>54055.714826388896</td><td>108.0</td><td>134000000000.0</td><td>180600000000.0</td><td>--</td><td>55421.58981478</td><td>--</td><td>AIS</td><td>--</td><td>CIRCLE ICRS  13.37579657 -28.12651957 0.625</td><td>http://galex.stsci.edu/data/GR6/pipe/02-vsn/50281-AIS_281/d/01-main/0001-img/07-try/qa/AIS_281_sg14-xd-int_2color.jpg</td><td>http://galex.stsci.edu/data/GR6/pipe/02-vsn/50281-AIS_281/d/01-main/0001-img/07-try/AIS_281_sg14-fd-cnt.fits.gz</td><td>PUBLIC</td><td>--</td><td>5885.0</td><td>29873</td><td>0.0</td></tr>\n",
       "<tr><td>science</td><td>GALEX</td><td>AIS</td><td>GALEX</td><td>AIS</td><td>NUV</td><td>UV</td><td>AIS_281_1_14</td><td>--</td><td>6380802579076481024</td><td>13.375796567031102</td><td>-28.1265195718468</td><td>image</td><td>--</td><td>2</td><td>54055.71357638889</td><td>54055.714826388896</td><td>108.0</td><td>169300000000.0</td><td>300700000000.0</td><td>--</td><td>55421.58981478</td><td>--</td><td>AIS</td><td>--</td><td>CIRCLE ICRS  13.37579657 -28.12651957 0.625</td><td>http://galex.stsci.edu/data/GR6/pipe/02-vsn/50281-AIS_281/d/01-main/0001-img/07-try/qa/AIS_281_sg14-xd-int_2color.jpg</td><td>http://galex.stsci.edu/data/GR6/pipe/02-vsn/50281-AIS_281/d/01-main/0001-img/07-try/AIS_281_sg14-nd-exp.fits.gz</td><td>PUBLIC</td><td>--</td><td>5885.0</td><td>29873</td><td>0.0</td></tr>\n",
       "</table></div>"
      ],
      "text/plain": [
       "<Table masked=True length=311>\n",
       "intentType obs_collection  provenance_name  instrument_name project filters ... dataRights mtFlag  srcDen   obsid        distance    \n",
       "   str7         str5            str17            str10        str4    str4  ...    str6     bool  float64    str9        float64     \n",
       "---------- -------------- ----------------- --------------- ------- ------- ... ---------- ------ ------- --------- -----------------\n",
       "   science           TESS              SPOC      Photometer    TESS    TESS ...     PUBLIC  False     nan  60942206               0.0\n",
       "   science           TESS              SPOC      Photometer    TESS    TESS ...     PUBLIC  False     nan  27972860               0.0\n",
       "   science           TESS              SPOC      Photometer    TESS    TESS ...     PUBLIC  False     nan  28055405               0.0\n",
       "   science           TESS              SPOC      Photometer    TESS    TESS ...     PUBLIC  False     nan  27901915 789.0070932805666\n",
       "   science            PS1               3PI            GPC1     PS1       g ...     PUBLIC     --  5885.0   1766282               0.0\n",
       "   science            PS1               3PI            GPC1     PS1       i ...     PUBLIC     --  5885.0   1766283               0.0\n",
       "   science            PS1               3PI            GPC1     PS1       r ...     PUBLIC     --  5885.0   1766284               0.0\n",
       "   science            PS1               3PI            GPC1     PS1       y ...     PUBLIC     --  5885.0   1766285               0.0\n",
       "   science            PS1               3PI            GPC1     PS1       z ...     PUBLIC     --  5885.0   1766286               0.0\n",
       "   science            PS1               3PI            GPC1     PS1       g ...     PUBLIC     --  5885.0   1766332               0.0\n",
       "   science            PS1               3PI            GPC1     PS1       i ...     PUBLIC     --  5885.0   1766333               0.0\n",
       "   science            PS1               3PI            GPC1     PS1       r ...     PUBLIC     --  5885.0   1766334               0.0\n",
       "   science            PS1               3PI            GPC1     PS1       y ...     PUBLIC     --  5885.0   1766335               0.0\n",
       "   science            PS1               3PI            GPC1     PS1       z ...     PUBLIC     --  5885.0   1766336               0.0\n",
       "       ...            ...               ...             ...     ...     ... ...        ...    ...     ...       ...               ...\n",
       "   science           HLSP              TGLC      Photometer    TESS    TESS ...     PUBLIC  False     nan 119131914 854.4463729174186\n",
       "   science           HLSP              TGLC      Photometer    TESS    TESS ...     PUBLIC  False     nan 119105051 868.3831000590736\n",
       "   science           HLSP GSFC-ELEANOR-LITE      Photometer    TESS    TESS ...     PUBLIC  False     nan 104563445 868.8381947160557\n",
       "   science           HLSP               QLP      Photometer    TESS    TESS ...     PUBLIC  False     nan  58663240 868.8381947160557\n",
       "   science           HLSP             TASOC      Photometer    TESS    TESS ...     PUBLIC  False     nan  82044106 868.8381947160557\n",
       "   science           HLSP GSFC-ELEANOR-LITE      Photometer    TESS    TESS ...     PUBLIC  False     nan 104610569  893.892192072498\n",
       "   science           HLSP              TGLC      Photometer    TESS    TESS ...     PUBLIC  False     nan 119071426 893.9606927809903\n",
       "   science           HLSP GSFC-ELEANOR-LITE      Photometer    TESS    TESS ...     PUBLIC  False     nan 104602552 897.0932265928994\n",
       "   science           HLSP              TGLC      Photometer    TESS    TESS ...     PUBLIC  False     nan 119097568 897.2832213004979\n",
       "   science           HLSP              TGLC      Photometer    TESS    TESS ...     PUBLIC  False     nan 119105512 899.7346162810717\n",
       "   science           HLSP GSFC-ELEANOR-LITE      Photometer    TESS    TESS ...     PUBLIC  False     nan 104548672 899.8079946763623\n",
       "   science           HLSP             TASOC      Photometer    TESS    TESS ...     PUBLIC  False     nan  81908608 899.8079946763623\n",
       "   science          GALEX               AIS           GALEX     AIS     FUV ...     PUBLIC     --  5885.0     29873               0.0\n",
       "   science          GALEX               AIS           GALEX     AIS     NUV ...     PUBLIC     --  5885.0     29873               0.0"
      ]
     },
     "execution_count": 9,
     "metadata": {},
     "output_type": "execute_result"
    }
   ],
   "source": [
    "obs_table "
   ]
  },
  {
   "cell_type": "code",
   "execution_count": 10,
   "id": "891db7f5-0d41-4c31-95c9-584d71342309",
   "metadata": {},
   "outputs": [],
   "source": [
    "obs_table = Observations.query_criteria(filters=[\"*UV\",\"Kepler\"],objectname=target_name_simbad)"
   ]
  },
  {
   "cell_type": "code",
   "execution_count": 11,
   "id": "e783645e-90eb-46f7-98f1-8956851c255c",
   "metadata": {},
   "outputs": [
    {
     "data": {
      "text/html": [
       "<div><i>Table masked=True length=2</i>\n",
       "<table id=\"table140216528949312\" class=\"table-striped table-bordered table-condensed\">\n",
       "<thead><tr><th>intentType</th><th>obs_collection</th><th>provenance_name</th><th>instrument_name</th><th>project</th><th>filters</th><th>wavelength_region</th><th>target_name</th><th>target_classification</th><th>obs_id</th><th>s_ra</th><th>s_dec</th><th>dataproduct_type</th><th>proposal_pi</th><th>calib_level</th><th>t_min</th><th>t_max</th><th>t_exptime</th><th>em_min</th><th>em_max</th><th>obs_title</th><th>t_obs_release</th><th>proposal_id</th><th>proposal_type</th><th>sequence_number</th><th>s_region</th><th>jpegURL</th><th>dataURL</th><th>dataRights</th><th>mtFlag</th><th>srcDen</th><th>obsid</th><th>objID</th><th>objID1</th><th>distance</th></tr></thead>\n",
       "<thead><tr><th>str7</th><th>str5</th><th>str3</th><th>str5</th><th>str3</th><th>str3</th><th>str2</th><th>str12</th><th>str1</th><th>str19</th><th>float64</th><th>float64</th><th>str5</th><th>str1</th><th>int64</th><th>float64</th><th>float64</th><th>float64</th><th>float64</th><th>float64</th><th>str1</th><th>float64</th><th>str1</th><th>str3</th><th>int64</th><th>str43</th><th>str117</th><th>str111</th><th>str6</th><th>bool</th><th>float64</th><th>str5</th><th>str5</th><th>str5</th><th>float64</th></tr></thead>\n",
       "<tr><td>science</td><td>GALEX</td><td>AIS</td><td>GALEX</td><td>AIS</td><td>NUV</td><td>UV</td><td>AIS_281_1_14</td><td>--</td><td>6380802579076481024</td><td>13.375796567031102</td><td>-28.1265195718468</td><td>image</td><td>--</td><td>2</td><td>54055.71357638889</td><td>54055.714826388896</td><td>108.0</td><td>169300000000.0</td><td>300700000000.0</td><td>--</td><td>55421.58981478</td><td>--</td><td>AIS</td><td>--</td><td>CIRCLE ICRS  13.37579657 -28.12651957 0.625</td><td>http://galex.stsci.edu/data/GR6/pipe/02-vsn/50281-AIS_281/d/01-main/0001-img/07-try/qa/AIS_281_sg14-xd-int_2color.jpg</td><td>http://galex.stsci.edu/data/GR6/pipe/02-vsn/50281-AIS_281/d/01-main/0001-img/07-try/AIS_281_sg14-nd-exp.fits.gz</td><td>PUBLIC</td><td>--</td><td>5885.0</td><td>29873</td><td>52324</td><td>52324</td><td>0.0</td></tr>\n",
       "<tr><td>science</td><td>GALEX</td><td>AIS</td><td>GALEX</td><td>AIS</td><td>FUV</td><td>UV</td><td>AIS_281_1_14</td><td>--</td><td>6380802579076481024</td><td>13.375796567031102</td><td>-28.1265195718468</td><td>image</td><td>--</td><td>2</td><td>54055.71357638889</td><td>54055.714826388896</td><td>108.0</td><td>134000000000.0</td><td>180600000000.0</td><td>--</td><td>55421.58981478</td><td>--</td><td>AIS</td><td>--</td><td>CIRCLE ICRS  13.37579657 -28.12651957 0.625</td><td>http://galex.stsci.edu/data/GR6/pipe/02-vsn/50281-AIS_281/d/01-main/0001-img/07-try/qa/AIS_281_sg14-xd-int_2color.jpg</td><td>http://galex.stsci.edu/data/GR6/pipe/02-vsn/50281-AIS_281/d/01-main/0001-img/07-try/AIS_281_sg14-fd-cnt.fits.gz</td><td>PUBLIC</td><td>--</td><td>5885.0</td><td>29873</td><td>52325</td><td>52325</td><td>0.0</td></tr>\n",
       "</table></div>"
      ],
      "text/plain": [
       "<Table masked=True length=2>\n",
       "intentType obs_collection provenance_name instrument_name project filters wavelength_region ... mtFlag  srcDen obsid objID objID1 distance\n",
       "   str7         str5            str3            str5        str3    str3         str2       ...  bool  float64  str5  str5  str5  float64 \n",
       "---------- -------------- --------------- --------------- ------- ------- ----------------- ... ------ ------- ----- ----- ------ --------\n",
       "   science          GALEX             AIS           GALEX     AIS     NUV                UV ...     --  5885.0 29873 52324  52324      0.0\n",
       "   science          GALEX             AIS           GALEX     AIS     FUV                UV ...     --  5885.0 29873 52325  52325      0.0"
      ]
     },
     "execution_count": 11,
     "metadata": {},
     "output_type": "execute_result"
    }
   ],
   "source": [
    "obs_table"
   ]
  },
  {
   "cell_type": "code",
   "execution_count": 12,
   "id": "16f2fd2d-73b9-4cb8-86f2-eb9ea5c3c182",
   "metadata": {},
   "outputs": [
    {
     "name": "stdout",
     "output_type": "stream",
     "text": [
      "311\n"
     ]
    }
   ],
   "source": [
    "print(Observations.query_object_count(target_name_simbad,radius=\".25 deg\"))  "
   ]
  },
  {
   "cell_type": "code",
   "execution_count": 13,
   "id": "7db1e3e1-f6f3-439c-9287-412eed730b35",
   "metadata": {},
   "outputs": [
    {
     "name": "stdout",
     "output_type": "stream",
     "text": [
      "79164\n"
     ]
    }
   ],
   "source": [
    "print(Observations.query_criteria_count(dataproduct_type=\"image\",filters=[\"NUV\",\"FUV\"]))"
   ]
  },
  {
   "cell_type": "code",
   "execution_count": 14,
   "id": "20090f4f-fec3-46b5-9ad5-86f4b837a96c",
   "metadata": {},
   "outputs": [
    {
     "name": "stdout",
     "output_type": "stream",
     "text": [
      " obsID   obs_collection dataproduct_type               obs_id               ...   size   parent_obsid dataRights calib_level\n",
      "-------- -------------- ---------------- ---------------------------------- ... -------- ------------ ---------- -----------\n",
      "60928817           TESS            image tess2018263125940-s0003-2-4-0123-s ... 35547840     60942206     PUBLIC           2\n",
      "60928817           TESS            image tess2018263125940-s0003-2-4-0123-s ... 17775360     60942206     PUBLIC           1\n",
      "60925595           TESS            image tess2018263132940-s0003-2-4-0123-s ... 35547840     60942206     PUBLIC           2\n",
      "60925595           TESS            image tess2018263132940-s0003-2-4-0123-s ... 17775360     60942206     PUBLIC           1\n",
      "60940487           TESS            image tess2018263135940-s0003-2-4-0123-s ... 35547840     60942206     PUBLIC           2\n",
      "60940487           TESS            image tess2018263135940-s0003-2-4-0123-s ... 17775360     60942206     PUBLIC           1\n",
      "60936931           TESS            image tess2018263142940-s0003-2-4-0123-s ... 35547840     60942206     PUBLIC           2\n",
      "60936931           TESS            image tess2018263142940-s0003-2-4-0123-s ... 17775360     60942206     PUBLIC           1\n",
      "60926639           TESS            image tess2018263145940-s0003-2-4-0123-s ... 35547840     60942206     PUBLIC           2\n",
      "60926639           TESS            image tess2018263145940-s0003-2-4-0123-s ... 17775360     60942206     PUBLIC           1\n",
      "60929302           TESS            image tess2018263152940-s0003-2-4-0123-s ... 35547840     60942206     PUBLIC           2\n",
      "60929302           TESS            image tess2018263152940-s0003-2-4-0123-s ... 17775360     60942206     PUBLIC           1\n",
      "60928756           TESS            image tess2018263155940-s0003-2-4-0123-s ... 35547840     60942206     PUBLIC           2\n",
      "60928756           TESS            image tess2018263155940-s0003-2-4-0123-s ... 17775360     60942206     PUBLIC           1\n",
      "     ...            ...              ...                                ... ...      ...          ...        ...         ...\n",
      "27960462           TESS            image tess2020265205913-s0029-2-3-0193-s ... 17775360     27972860     PUBLIC           1\n",
      "27925044           TESS            image tess2020265210913-s0029-2-3-0193-s ... 35547840     27972860     PUBLIC           2\n",
      "27925044           TESS            image tess2020265210913-s0029-2-3-0193-s ... 17775360     27972860     PUBLIC           1\n",
      "27929367           TESS            image tess2020265211913-s0029-2-3-0193-s ... 35547840     27972860     PUBLIC           2\n",
      "27929367           TESS            image tess2020265211913-s0029-2-3-0193-s ... 17775360     27972860     PUBLIC           1\n",
      "27969268           TESS            image tess2020265212913-s0029-2-3-0193-s ... 35547840     27972860     PUBLIC           2\n",
      "27969268           TESS            image tess2020265212913-s0029-2-3-0193-s ... 17775360     27972860     PUBLIC           1\n",
      "27960364           TESS            image tess2020265213913-s0029-2-3-0193-s ... 35547840     27972860     PUBLIC           2\n",
      "27960364           TESS            image tess2020265213913-s0029-2-3-0193-s ... 17775360     27972860     PUBLIC           1\n",
      "27961626           TESS            image tess2020265214913-s0029-2-3-0193-s ... 35547840     27972860     PUBLIC           2\n",
      "27961626           TESS            image tess2020265214913-s0029-2-3-0193-s ... 17775360     27972860     PUBLIC           1\n",
      "27960905           TESS            image tess2020265215913-s0029-2-3-0193-s ... 35547840     27972860     PUBLIC           2\n",
      "27960905           TESS            image tess2020265215913-s0029-2-3-0193-s ... 17775360     27972860     PUBLIC           1\n",
      "27947223           TESS            image tess2020265220913-s0029-2-3-0193-s ... 35547840     27972860     PUBLIC           2\n",
      "27947223           TESS            image tess2020265220913-s0029-2-3-0193-s ... 17775360     27972860     PUBLIC           1\n",
      "Length = 9846 rows\n"
     ]
    }
   ],
   "source": [
    "obs_table = Observations.query_object(target_name_simbad,radius=\".25 deg\")\n",
    "\n",
    "data_products_by_obs = Observations.get_product_list(obs_table[0:2])\n",
    "\n",
    "print(data_products_by_obs)  "
   ]
  },
  {
   "cell_type": "code",
   "execution_count": 15,
   "id": "c8b5ab2a-52f0-4c64-a0e4-5546fb39c57c",
   "metadata": {},
   "outputs": [],
   "source": [
    "data_products_by_obs = Observations.get_product_list(obs_table)"
   ]
  },
  {
   "cell_type": "code",
   "execution_count": 16,
   "id": "46685a14-c774-4c19-9784-dfe1001e35bb",
   "metadata": {},
   "outputs": [
    {
     "name": "stdout",
     "output_type": "stream",
     "text": [
      " obsID   obs_collection dataproduct_type               obs_id               ...   size   parent_obsid dataRights calib_level\n",
      "-------- -------------- ---------------- ---------------------------------- ... -------- ------------ ---------- -----------\n",
      "  110382          GALEX            image                6380802441637527552 ...     4820        29873     PUBLIC           2\n",
      "  110382          GALEX            image                6380802441637527552 ...   403437        29873     PUBLIC           2\n",
      "  110382          GALEX            image                6380802441637527552 ...    63763        29873     PUBLIC           2\n",
      "  110382          GALEX            image                6380802441637527552 ...     2191        29873     PUBLIC           2\n",
      "  110382          GALEX            image                6380802441637527552 ...    12680        29873     PUBLIC           2\n",
      "  110382          GALEX            image                6380802441637527552 ...     4307        29873     PUBLIC           2\n",
      "  110382          GALEX            image                6380802441637527552 ...  3988246        29873     PUBLIC           2\n",
      "  110382          GALEX            image                6380802441637527552 ...   186143        29873     PUBLIC           2\n",
      "  110382          GALEX            image                6380802441637527552 ...  1719335        29873     PUBLIC           2\n",
      "  110382          GALEX            image                6380802441637527552 ...    68143        29873     PUBLIC           2\n",
      "  110382          GALEX            image                6380802441637527552 ...  1428431        29873     PUBLIC           2\n",
      "  110382          GALEX            image                6380802441637527552 ... 10842839        29873     PUBLIC           2\n",
      "  110382          GALEX            image                6380802441637527552 ...  2839709        29873     PUBLIC           2\n",
      "  110382          GALEX            image                6380802441637527552 ... 15300787        29873     PUBLIC           2\n",
      "     ...            ...              ...                                ... ...      ...          ...        ...         ...\n",
      "28033512           TESS            image tess2020294155912-s0030-2-4-0195-s ... 17769600     28055405     PUBLIC           1\n",
      "28010338           TESS            image tess2020294160912-s0030-2-4-0195-s ... 35536320     28055405     PUBLIC           2\n",
      "28010338           TESS            image tess2020294160912-s0030-2-4-0195-s ... 17769600     28055405     PUBLIC           1\n",
      "28045539           TESS            image tess2020294161912-s0030-2-4-0195-s ... 35536320     28055405     PUBLIC           2\n",
      "28045539           TESS            image tess2020294161912-s0030-2-4-0195-s ... 17769600     28055405     PUBLIC           1\n",
      "28051274           TESS            image tess2020294162912-s0030-2-4-0195-s ... 35536320     28055405     PUBLIC           2\n",
      "28051274           TESS            image tess2020294162912-s0030-2-4-0195-s ... 17769600     28055405     PUBLIC           1\n",
      "28004704           TESS            image tess2020294163912-s0030-2-4-0195-s ... 35536320     28055405     PUBLIC           2\n",
      "28004704           TESS            image tess2020294163912-s0030-2-4-0195-s ... 17769600     28055405     PUBLIC           1\n",
      "28046399           TESS            image tess2020294164912-s0030-2-4-0195-s ... 35536320     28055405     PUBLIC           2\n",
      "28046399           TESS            image tess2020294164912-s0030-2-4-0195-s ... 17769600     28055405     PUBLIC           1\n",
      "28051699           TESS            image tess2020294165912-s0030-2-4-0195-s ... 35536320     28055405     PUBLIC           2\n",
      "28051699           TESS            image tess2020294165912-s0030-2-4-0195-s ... 17769600     28055405     PUBLIC           1\n",
      "28000691           TESS            image tess2020294170912-s0030-2-4-0195-s ... 35536320     28055405     PUBLIC           2\n",
      "28000691           TESS            image tess2020294170912-s0030-2-4-0195-s ... 17769600     28055405     PUBLIC           1\n",
      "Length = 28345 rows\n"
     ]
    }
   ],
   "source": [
    "print(data_products_by_obs)  "
   ]
  },
  {
   "cell_type": "markdown",
   "id": "cc72efda-c7c1-4d04-9d08-152775cc08ad",
   "metadata": {},
   "source": [
    "## Missions"
   ]
  },
  {
   "cell_type": "code",
   "execution_count": 17,
   "id": "2e00bc61-74eb-45d8-930e-3e61243db468",
   "metadata": {},
   "outputs": [],
   "source": [
    "from astroquery.mast import MastMissions\n",
    "\n",
    "missions = MastMissions()"
   ]
  },
  {
   "cell_type": "code",
   "execution_count": 18,
   "id": "8c1cbaf5-78b6-49fb-a513-d4192b98172b",
   "metadata": {},
   "outputs": [
    {
     "data": {
      "text/plain": [
       "'hst'"
      ]
     },
     "execution_count": 18,
     "metadata": {},
     "output_type": "execute_result"
    }
   ],
   "source": [
    "missions.mission"
   ]
  },
  {
   "cell_type": "code",
   "execution_count": 19,
   "id": "0f68f50e-0ae7-4735-a4d4-3f518b9ba459",
   "metadata": {},
   "outputs": [],
   "source": [
    "columns = missions.get_column_list()"
   ]
  },
  {
   "cell_type": "code",
   "execution_count": 20,
   "id": "2ff367e4-39c3-4ae8-a61b-eb822c994d1e",
   "metadata": {},
   "outputs": [
    {
     "data": {
      "text/html": [
       "<div><i>Table length=55</i>\n",
       "<table id=\"table140216528865360\" class=\"table-striped table-bordered table-condensed\">\n",
       "<thead><tr><th>name</th><th>data_type</th><th>description</th></tr></thead>\n",
       "<thead><tr><th>str22</th><th>str9</th><th>str226</th></tr></thead>\n",
       "<tr><td>search_pos</td><td>string</td><td>Search Position (RA and Dec)</td></tr>\n",
       "<tr><td>sci_data_set_name</td><td>string</td><td>Data set name, the first character indicates instrument; L=COS; I=WFC3; J=ACS; N=NICMOS; O=STIS; U=WFPC2; W=WFPC; X=FOC; Y=FOS; Z=GHRS; F=FGS; V=HSP; nine-character name    (e.g. J8BA7JCAQ, O4140Q020)</td></tr>\n",
       "<tr><td>sci_archive_class</td><td>string</td><td>Archive ingest classification, where the only choices are CAL=&apos;calibrated science&apos; and AST=&apos;astrometric&apos; (FGS only)</td></tr>\n",
       "<tr><td>sci_program_id</td><td>string</td><td>Internal program ID, which is not the same as proposal ID;    Three-character name    (e.g. 8G6, 9FA, 8M8, 4QA)</td></tr>\n",
       "<tr><td>sci_obset_id</td><td>string</td><td>Observation set ID, indicating the fourth and fifth letters of a dataset name. In most cases, this is usually the observation visit number;    Two-character name    (e.g. 10, 42, G1, GA, H6)</td></tr>\n",
       "<tr><td>sci_obsnum</td><td>string</td><td>Observation number, used in the Science Operations Ground System (SOGS) header;    (e.g. 01, 02, RO, 011, AK, 070)</td></tr>\n",
       "<tr><td>sci_asn_id</td><td>string</td><td>The association ID for the dataset (result of combining individual exposures), identical to the data set name;  If used to build an association, this field indicates the combined data sets (e.g. null, O4QA01010, J8ZO02010)</td></tr>\n",
       "<tr><td>sci_targname</td><td>string</td><td>Target name designated by the observer for the HST proposal; Uppercase; No blank characters; Spaces sometimes filled with - ;    (e.g. A901-FIELD-25, NGC4486-POS1, 0537-441INCA221-36, ALPHA-CEN)</td></tr>\n",
       "<tr><td>sci_target_descrip</td><td>substring</td><td>Target description specified by the observer from a key field used in the Astronomer&apos;s Proposal Tool (APT); Uppercase (e.g. GALAXY;SEYFERT;STARBURST, ISM;HI CLOUD, STAR;PULSAR, PLANET;EXOSPHERE OF MARS)</td></tr>\n",
       "<tr><td>sci_broad_category</td><td>string</td><td>One or more target classifications assigned by the observer from HST broad target categories; Uppercase (e.g. CLUSTER OF GALAXIES;GALAXY, EXT-CLUSTER;ISM, STAR;EXT-CLUSTER, SOLAR SYSTEM, CALIBRATION)</td></tr>\n",
       "<tr><td>sci_ra</td><td>ra</td><td>Right Ascension (J2000), from 0 to 360, in degrees</td></tr>\n",
       "<tr><td>sci_dec</td><td>dec</td><td>Declination (J2000), from -90 to +90, in degrees</td></tr>\n",
       "<tr><td>sci_refnum</td><td>integer</td><td>The number of known literature references associated with the proposal ID or data set name</td></tr>\n",
       "<tr><td>sci_ra_v1</td><td>ra</td><td>Right Ascension (J2000) at V1 position, from 0 to 360, in degrees, where the +V1 is pointing from the primary mirror along the optical axis toward the secondary mirror</td></tr>\n",
       "<tr><td>...</td><td>...</td><td>...</td></tr>\n",
       "<tr><td>sci_sun_alt</td><td>float</td><td>Altitude of the Sun above the Earth&apos;s limb from -66 to 114, in degrees</td></tr>\n",
       "<tr><td>sci_pa_aper</td><td>float</td><td>Position angle of aperture, from -180 to +360, in degrees, which is the angle measured from North to East toward the aperture&apos;s y-axis</td></tr>\n",
       "<tr><td>sci_costar_deploy</td><td>string</td><td>This indicates if the Corrective Optics Space Telescope Axial Replacement (COSTAR) was deployed; (T=True means deployed, or F=False)</td></tr>\n",
       "<tr><td>sci_aec</td><td>string</td><td>Archived Exposures Catalog (AEC); Purpose of observation (C=Calibration, S=Science)</td></tr>\n",
       "<tr><td>sci_fov_config</td><td>string</td><td>Field of view (FOV) configuration (LAUNCH, SM-1, SM-2, SM-3, SM-4)</td></tr>\n",
       "<tr><td>sci_generation_date</td><td>datetime</td><td>The date when associated data products were generated by the processing pipeline; The earliest data is available from Feb 12 1992</td></tr>\n",
       "<tr><td>sci_archive_date</td><td>datetime</td><td>The date when archiving was completed; The earliest data is available from Dec 23, 1993</td></tr>\n",
       "<tr><td>sci_preview_name</td><td>string</td><td>Preview name, generally the same as the data set name    (e.g. J9FAHGH5Q)</td></tr>\n",
       "<tr><td>sci_obs_type</td><td>string</td><td>Observation category; ASTROMETERY (FGS only), IMAGE, PHOTOMETRY (HSP only), SPECTRUM</td></tr>\n",
       "<tr><td>scp_scan_type</td><td>string</td><td>Observation scan mode; one of two types of spatial scan (C=observation taken in continuous scan mode, or D=observation taken in scan mode with a dwell)</td></tr>\n",
       "<tr><td>sci_hlsp</td><td>integer</td><td>Number of known High Level Science Products</td></tr>\n",
       "<tr><td>ang_sep</td><td>float</td><td>Angular Separation</td></tr>\n",
       "<tr><td>sci_status</td><td>string</td><td>Data access status (PUBLIC or PROPRIETARY=exclusive data)</td></tr>\n",
       "<tr><td>search_key</td><td>string</td><td>Search Key (Concat of sci_data_set_name and search_pos)</td></tr>\n",
       "</table></div>"
      ],
      "text/plain": [
       "<Table length=55>\n",
       "        name        ...\n",
       "       str22        ...\n",
       "------------------- ...\n",
       "         search_pos ...\n",
       "  sci_data_set_name ...\n",
       "  sci_archive_class ...\n",
       "     sci_program_id ...\n",
       "       sci_obset_id ...\n",
       "         sci_obsnum ...\n",
       "         sci_asn_id ...\n",
       "       sci_targname ...\n",
       " sci_target_descrip ...\n",
       " sci_broad_category ...\n",
       "             sci_ra ...\n",
       "            sci_dec ...\n",
       "         sci_refnum ...\n",
       "          sci_ra_v1 ...\n",
       "                ... ...\n",
       "        sci_sun_alt ...\n",
       "        sci_pa_aper ...\n",
       "  sci_costar_deploy ...\n",
       "            sci_aec ...\n",
       "     sci_fov_config ...\n",
       "sci_generation_date ...\n",
       "   sci_archive_date ...\n",
       "   sci_preview_name ...\n",
       "       sci_obs_type ...\n",
       "      scp_scan_type ...\n",
       "           sci_hlsp ...\n",
       "            ang_sep ...\n",
       "         sci_status ...\n",
       "         search_key ..."
      ]
     },
     "execution_count": 20,
     "metadata": {},
     "output_type": "execute_result"
    }
   ],
   "source": [
    "columns"
   ]
  },
  {
   "cell_type": "code",
   "execution_count": 21,
   "id": "ae847fd2-651c-4016-9025-1a2ffaa8b245",
   "metadata": {},
   "outputs": [
    {
     "name": "stderr",
     "output_type": "stream",
     "text": [
      "WARNING: NoResultsWarning: Query returned no results. [astroquery.mast.services]\n"
     ]
    }
   ],
   "source": [
    "results = missions.query_region(coord, radius=0.25)"
   ]
  },
  {
   "cell_type": "code",
   "execution_count": 22,
   "id": "32ecf0a9-aaac-4265-acfa-a34d6081b168",
   "metadata": {},
   "outputs": [
    {
     "data": {
      "text/html": [
       "<div><i>Table masked=True length=0</i>\n",
       "<table id=\"table140216528976432\" class=\"table-striped table-bordered table-condensed\">\n",
       "<thead><tr><th>search_pos</th><th>sci_data_set_name</th><th>sci_targname</th><th>sci_ra</th><th>sci_dec</th><th>sci_refnum</th><th>sci_start_time</th><th>sci_stop_time</th><th>sci_actual_duration</th><th>sci_instrume</th><th>sci_aper_1234</th><th>sci_spec_1234</th><th>sci_central_wavelength</th><th>sci_pep_id</th><th>sci_pi_last_name</th><th>sci_release_date</th><th>sci_preview_name</th><th>scp_scan_type</th><th>sci_hlsp</th><th>ang_sep</th></tr></thead>\n",
       "<thead><tr><th>str1</th><th>str1</th><th>str1</th><th>float64</th><th>float64</th><th>int64</th><th>str1</th><th>str1</th><th>float64</th><th>str1</th><th>str1</th><th>str1</th><th>float64</th><th>int64</th><th>str1</th><th>str1</th><th>str1</th><th>str1</th><th>int64</th><th>str1</th></tr></thead>\n",
       "</table></div>"
      ],
      "text/plain": [
       "<Table masked=True length=0>\n",
       "search_pos sci_data_set_name sci_targname  sci_ra sci_dec sci_refnum ... sci_release_date sci_preview_name scp_scan_type sci_hlsp ang_sep\n",
       "   str1           str1           str1     float64 float64   int64    ...       str1             str1            str1      int64     str1 \n",
       "---------- ----------------- ------------ ------- ------- ---------- ... ---------------- ---------------- ------------- -------- -------"
      ]
     },
     "execution_count": 22,
     "metadata": {},
     "output_type": "execute_result"
    }
   ],
   "source": [
    "results"
   ]
  },
  {
   "cell_type": "markdown",
   "id": "85d10d1a-fa2f-4713-adfa-333bd7d60136",
   "metadata": {},
   "source": [
    "# Catalog\n",
    "\n",
    "\n",
    "\n",
    "\n",
    "    The Hubble Source Catalog (HSC)\n",
    "\n",
    "    The GALEX Catalog (V2 and V3)\n",
    "\n",
    "    The Gaia (DR1 and DR2) and TGAS Catalogs\n",
    "\n",
    "    The TESS Input Catalog (TIC)\n",
    "\n",
    "    The TESS Candidate Target List (CTL)\n",
    "\n",
    "    The Disk Detective Catalog\n",
    "\n",
    "    The PanSTARRS Catalog (DR1 and DR2)\n",
    "\n",
    "    The All-Sky PLATO Input Catalog (DR1)\n"
   ]
  },
  {
   "cell_type": "code",
   "execution_count": 23,
   "id": "b891b748-345f-430c-8e40-f2b9d1a61a3f",
   "metadata": {},
   "outputs": [],
   "source": [
    "from astroquery.mast import Catalogs"
   ]
  },
  {
   "cell_type": "markdown",
   "id": "0fb3b9f3-8de5-43bf-88bf-9efffa3c8a31",
   "metadata": {},
   "source": [
    "### GALEX"
   ]
  },
  {
   "cell_type": "code",
   "execution_count": 42,
   "id": "5e29f771-ce8f-46c2-9eda-86b817f4cb8e",
   "metadata": {},
   "outputs": [],
   "source": [
    "catalog_data_galex = Catalogs.query_object(target_name_simbad, catalog=\"Galex\",data_release=\"V6\")"
   ]
  },
  {
   "cell_type": "code",
   "execution_count": 43,
   "id": "d144b33c-322f-4378-a60e-faf8e5f780a1",
   "metadata": {},
   "outputs": [
    {
     "data": {
      "text/html": [
       "<div><i>Table masked=True length=474</i>\n",
       "<table id=\"table140214336064432\" class=\"table-striped table-bordered table-condensed\">\n",
       "<thead><tr><th>distance_arcmin</th><th>objID</th><th>survey</th><th>ra</th><th>dec</th><th>band</th><th>fov_radius</th><th>IAUName</th><th>nuv_exptime</th><th>fuv_exptime</th><th>fuv_mag</th><th>fuv_magerr</th><th>nuv_mag</th><th>nuv_magerr</th><th>fuv_flux</th><th>fuv_fluxerr</th><th>nuv_flux</th><th>nuv_fluxerr</th><th>e_bv</th><th>ra_cent</th><th>dec_cent</th><th>xCenter</th><th>yCenter</th><th>SSAPFitsFile</th><th>nuv_flux_auto</th><th>nuv_flux_aper_7</th><th>nuv_artifact</th><th>fuv_flux_auto</th><th>fuv_flux_aper_7</th><th>fuv_artifact</th></tr></thead>\n",
       "<thead><tr><th>float64</th><th>str19</th><th>str3</th><th>float64</th><th>float64</th><th>int64</th><th>float64</th><th>str22</th><th>float64</th><th>float64</th><th>float64</th><th>float64</th><th>float64</th><th>float64</th><th>float64</th><th>float64</th><th>float64</th><th>float64</th><th>float64</th><th>float64</th><th>float64</th><th>float64</th><th>float64</th><th>str1</th><th>float64</th><th>float64</th><th>int64</th><th>float64</th><th>float64</th><th>int64</th></tr></thead>\n",
       "<tr><td>1.007453327937128</td><td>6380802579077530534</td><td>AIS</td><td>13.49358223794343</td><td>-28.40468652758306</td><td>1</td><td>0.296882182</td><td>GALEX J005358.4-282416</td><td>108.0</td><td>108.0</td><td>--</td><td>--</td><td>21.5107937</td><td>0.3604291</td><td>--</td><td>--</td><td>9.029878</td><td>2.9968977</td><td>0.0180339962</td><td>13.3758</td><td>-28.12652</td><td>1953.991</td><td>1915.793</td><td>--</td><td>0.2677209</td><td>0.269305468</td><td>0</td><td>--</td><td>--</td><td>0</td></tr>\n",
       "<tr><td>1.1570112318343508</td><td>6380802579077530499</td><td>AIS</td><td>13.52442935213248</td><td>-28.41510001695875</td><td>1</td><td>0.316882282</td><td>GALEX J005405.8-282454</td><td>108.0</td><td>108.0</td><td>--</td><td>--</td><td>22.173336</td><td>0.472773343</td><td>--</td><td>--</td><td>4.905293</td><td>2.13544345</td><td>0.0175703857</td><td>13.3758</td><td>-28.12652</td><td>1953.991</td><td>1915.793</td><td>--</td><td>0.1454338</td><td>0.113484353</td><td>0</td><td>--</td><td>--</td><td>0</td></tr>\n",
       "<tr><td>1.2850870876665763</td><td>6380802579077530550</td><td>AIS</td><td>13.48753421553544</td><td>-28.40202009154056</td><td>1</td><td>0.292551041</td><td>GALEX J005357.0-282407</td><td>108.0</td><td>108.0</td><td>--</td><td>--</td><td>22.7267532</td><td>0.53684485</td><td>--</td><td>--</td><td>2.94644356</td><td>1.45652211</td><td>0.0180339962</td><td>13.3758</td><td>-28.12652</td><td>1953.991</td><td>1915.793</td><td>--</td><td>0.08735716</td><td>-0.0596656837</td><td>0</td><td>--</td><td>--</td><td>0</td></tr>\n",
       "<tr><td>1.363584856331773</td><td>6380802579077530502</td><td>AIS</td><td>13.49267323055165</td><td>-28.41477545277933</td><td>1</td><td>0.30608356</td><td>GALEX J005358.2-282453</td><td>108.0</td><td>108.0</td><td>--</td><td>--</td><td>22.3088741</td><td>0.45572567</td><td>--</td><td>--</td><td>4.32962465</td><td>1.81687009</td><td>0.0180339962</td><td>13.3758</td><td>-28.12652</td><td>1953.991</td><td>1915.793</td><td>--</td><td>0.128366187</td><td>0.12960507</td><td>0</td><td>--</td><td>--</td><td>0</td></tr>\n",
       "<tr><td>1.3815148586786572</td><td>6380802579077530542</td><td>AIS</td><td>13.53755642425988</td><td>-28.40298585619871</td><td>1</td><td>0.311017841</td><td>GALEX J005409.0-282410</td><td>108.0</td><td>108.0</td><td>--</td><td>--</td><td>22.4501553</td><td>0.5138618</td><td>--</td><td>--</td><td>3.801349</td><td>1.79868126</td><td>0.0187648423</td><td>13.3758</td><td>-28.12652</td><td>1953.991</td><td>1915.793</td><td>--</td><td>0.1127037</td><td>0.040572945</td><td>0</td><td>--</td><td>--</td><td>0</td></tr>\n",
       "<tr><td>1.5200551875845891</td><td>6380802579077530547</td><td>AIS</td><td>13.54047227358614</td><td>-28.39828638191474</td><td>1</td><td>0.308050334</td><td>GALEX J005409.7-282353</td><td>108.0</td><td>108.0</td><td>--</td><td>--</td><td>21.3266182</td><td>0.315423965</td><td>--</td><td>--</td><td>10.6992226</td><td>3.10754251</td><td>0.0187648423</td><td>13.3758</td><td>-28.12652</td><td>1953.991</td><td>1915.793</td><td>--</td><td>0.317214221</td><td>0.2249951</td><td>0</td><td>--</td><td>--</td><td>0</td></tr>\n",
       "<tr><td>1.6883066524555321</td><td>6380802579078582610</td><td>AIS</td><td>13.53805431735773</td><td>-28.3834546228873</td><td>2</td><td>0.294011921</td><td>GALEX J005409.1-282300</td><td>108.0</td><td>108.0</td><td>21.6375866</td><td>0.460561663</td><td>--</td><td>--</td><td>8.034657</td><td>3.407417</td><td>--</td><td>--</td><td>0.0191500764</td><td>13.3758</td><td>-28.12652</td><td>1953.991</td><td>1915.793</td><td>--</td><td>--</td><td>--</td><td>0</td><td>0.0746389255</td><td>0.03671759</td><td>0</td></tr>\n",
       "<tr><td>1.723165844919715</td><td>6380802579077530443</td><td>AIS</td><td>13.51667761958675</td><td>-28.42778377828719</td><td>1</td><td>0.325811625</td><td>GALEX J005404.0-282540</td><td>108.0</td><td>108.0</td><td>--</td><td>--</td><td>22.1070976</td><td>0.438837051</td><td>--</td><td>--</td><td>5.21387529</td><td>2.10685229</td><td>0.0175703857</td><td>13.3758</td><td>-28.12652</td><td>1953.991</td><td>1915.793</td><td>--</td><td>0.154582754</td><td>0.0130709559</td><td>0</td><td>--</td><td>--</td><td>0</td></tr>\n",
       "<tr><td>1.7356234878325882</td><td>6380802579077530498</td><td>AIS</td><td>13.48321810055538</td><td>-28.41386192357071</td><td>1</td><td>0.3025168</td><td>GALEX J005355.9-282449</td><td>108.0</td><td>108.0</td><td>--</td><td>--</td><td>22.4108486</td><td>0.480143726</td><td>--</td><td>--</td><td>3.94149017</td><td>1.74261677</td><td>0.0169403125</td><td>13.3758</td><td>-28.12652</td><td>1953.991</td><td>1915.793</td><td>--</td><td>0.116858654</td><td>0.1946647</td><td>0</td><td>--</td><td>--</td><td>0</td></tr>\n",
       "<tr><td>1.8329210886391674</td><td>6380802579077530455</td><td>AIS</td><td>13.49885585927354</td><td>-28.42778314002673</td><td>1</td><td>0.320163459</td><td>GALEX J005359.7-282540</td><td>108.0</td><td>108.0</td><td>--</td><td>--</td><td>21.8334141</td><td>0.5039114</td><td>--</td><td>--</td><td>6.708634</td><td>3.11285162</td><td>0.0175703857</td><td>13.3758</td><td>-28.12652</td><td>1953.991</td><td>1915.793</td><td>--</td><td>0.19889988</td><td>0.0416817777</td><td>0</td><td>--</td><td>--</td><td>0</td></tr>\n",
       "<tr><td>1.8617376245817316</td><td>6380802579077530597</td><td>AIS</td><td>13.54482535450264</td><td>-28.38873982958423</td><td>1</td><td>0.301539719</td><td>GALEX J005410.7-282319</td><td>108.0</td><td>108.0</td><td>--</td><td>--</td><td>22.45693</td><td>0.484573483</td><td>--</td><td>--</td><td>3.77769852</td><td>1.68561</td><td>0.0187648423</td><td>13.3758</td><td>-28.12652</td><td>1953.991</td><td>1915.793</td><td>--</td><td>0.1120025</td><td>0.07245362</td><td>0</td><td>--</td><td>--</td><td>0</td></tr>\n",
       "<tr><td>1.9604040610856743</td><td>6380802579077530647</td><td>AIS</td><td>13.48829219623025</td><td>-28.37403328231525</td><td>1</td><td>0.26661405</td><td>GALEX J005357.1-282226</td><td>108.0</td><td>108.0</td><td>--</td><td>--</td><td>22.6296921</td><td>0.543497264</td><td>--</td><td>--</td><td>3.22197723</td><td>1.61246407</td><td>0.0180339962</td><td>13.3758</td><td>-28.12652</td><td>1953.991</td><td>1915.793</td><td>--</td><td>0.0955262855</td><td>0.0146656167</td><td>0</td><td>--</td><td>--</td><td>0</td></tr>\n",
       "<tr><td>2.041947711631833</td><td>6380802579077530476</td><td>AIS</td><td>13.48182104464175</td><td>-28.42102282521935</td><td>1</td><td>0.308951527</td><td>GALEX J005355.6-282515</td><td>108.0</td><td>108.0</td><td>--</td><td>--</td><td>22.8541584</td><td>0.725942433</td><td>--</td><td>--</td><td>2.620209</td><td>1.7514925</td><td>0.0169403125</td><td>13.3758</td><td>-28.12652</td><td>1953.991</td><td>1915.793</td><td>--</td><td>0.07768485</td><td>0.0779888555</td><td>0</td><td>--</td><td>--</td><td>0</td></tr>\n",
       "<tr><td>2.153392703416181</td><td>6380802579077530429</td><td>AIS</td><td>13.49330348114805</td><td>-28.43143571781124</td><td>1</td><td>0.3219976</td><td>GALEX J005358.3-282553</td><td>108.0</td><td>108.0</td><td>--</td><td>--</td><td>20.6816483</td><td>0.195167631</td><td>--</td><td>--</td><td>19.379385</td><td>3.48271513</td><td>0.0166025385</td><td>13.3758</td><td>-28.12652</td><td>1953.991</td><td>1915.793</td><td>--</td><td>0.574566662</td><td>0.5866198</td><td>0</td><td>--</td><td>--</td><td>0</td></tr>\n",
       "<tr><td>...</td><td>...</td><td>...</td><td>...</td><td>...</td><td>...</td><td>...</td><td>...</td><td>...</td><td>...</td><td>...</td><td>...</td><td>...</td><td>...</td><td>...</td><td>...</td><td>...</td><td>...</td><td>...</td><td>...</td><td>...</td><td>...</td><td>...</td><td>...</td><td>...</td><td>...</td><td>...</td><td>...</td><td>...</td><td>...</td></tr>\n",
       "<tr><td>11.894696588192705</td><td>6380802579078582731</td><td>AIS</td><td>13.38513832582597</td><td>-28.23542607006008</td><td>2</td><td>0.109217353</td><td>GALEX J005332.4-281407</td><td>108.0</td><td>108.0</td><td>21.8547554</td><td>0.4583276</td><td>--</td><td>--</td><td>6.578087</td><td>2.776168</td><td>--</td><td>--</td><td>0.0230553076</td><td>13.3758</td><td>-28.12652</td><td>1953.991</td><td>1915.793</td><td>--</td><td>--</td><td>--</td><td>0</td><td>0.06110794</td><td>0.0609481968</td><td>0</td></tr>\n",
       "<tr><td>11.902620906535022</td><td>6380802579077530528</td><td>AIS</td><td>13.73711994155329</td><td>-28.40541527291615</td><td>1</td><td>0.423152775</td><td>GALEX J005456.9-282419</td><td>108.0</td><td>108.0</td><td>--</td><td>--</td><td>22.6513615</td><td>0.5216442</td><td>--</td><td>--</td><td>3.158314</td><td>1.51704979</td><td>0.0197741315</td><td>13.3758</td><td>-28.12652</td><td>1953.991</td><td>1915.793</td><td>--</td><td>0.09363877</td><td>0.00439517433</td><td>0</td><td>--</td><td>--</td><td>0</td></tr>\n",
       "<tr><td>11.902810083113716</td><td>6380802579077531338</td><td>AIS</td><td>13.57794798266188</td><td>-28.20978823994739</td><td>1</td><td>0.1967038</td><td>GALEX J005418.7-281235</td><td>108.0</td><td>108.0</td><td>--</td><td>--</td><td>21.4808483</td><td>0.3504454</td><td>--</td><td>--</td><td>9.2824</td><td>2.99537253</td><td>0.0195127279</td><td>13.3758</td><td>-28.12652</td><td>1953.991</td><td>1915.793</td><td>--</td><td>0.2752078</td><td>0.122952253</td><td>0</td><td>--</td><td>--</td><td>0</td></tr>\n",
       "<tr><td>11.908534735675907</td><td>6380802579077530471</td><td>AIS</td><td>13.28743031591546</td><td>-28.42134029008709</td><td>1</td><td>0.3049192</td><td>GALEX J005308.9-282516</td><td>108.0</td><td>108.0</td><td>--</td><td>--</td><td>22.0481567</td><td>0.533897042</td><td>--</td><td>--</td><td>5.504742</td><td>2.70622969</td><td>0.0175864268</td><td>13.3758</td><td>-28.12652</td><td>1953.991</td><td>1915.793</td><td>--</td><td>0.163206473</td><td>0.0910377651</td><td>0</td><td>--</td><td>--</td><td>0</td></tr>\n",
       "<tr><td>11.926364106335653</td><td>6380802579077531358</td><td>AIS</td><td>13.57082465809603</td><td>-28.2075647709612</td><td>1</td><td>0.190076023</td><td>GALEX J005417.0-281227</td><td>108.0</td><td>108.0</td><td>--</td><td>--</td><td>22.3492832</td><td>0.5477825</td><td>--</td><td>--</td><td>4.17144537</td><td>2.1040926</td><td>0.0195127279</td><td>13.3758</td><td>-28.12652</td><td>1953.991</td><td>1915.793</td><td>--</td><td>0.123676427</td><td>0.193089575</td><td>0</td><td>--</td><td>--</td><td>0</td></tr>\n",
       "<tr><td>11.926822142568168</td><td>6380802579077530548</td><td>AIS</td><td>13.2857428946113</td><td>-28.40214871818595</td><td>1</td><td>0.286814481</td><td>GALEX J005308.5-282407</td><td>108.0</td><td>108.0</td><td>--</td><td>--</td><td>22.1983185</td><td>0.449480146</td><td>--</td><td>--</td><td>4.793711</td><td>1.9840498</td><td>0.0175864268</td><td>13.3758</td><td>-28.12652</td><td>1953.991</td><td>1915.793</td><td>--</td><td>0.142125592</td><td>0.0576607548</td><td>0</td><td>--</td><td>--</td><td>0</td></tr>\n",
       "<tr><td>11.936269952887569</td><td>6380802579077530861</td><td>AIS</td><td>13.71874911815039</td><td>-28.31952880436108</td><td>1</td><td>0.358559847</td><td>GALEX J005452.5-281910</td><td>108.0</td><td>108.0</td><td>--</td><td>--</td><td>22.0426884</td><td>0.539315045</td><td>--</td><td>--</td><td>5.53253651</td><td>2.74749565</td><td>0.0174201988</td><td>13.3758</td><td>-28.12652</td><td>1953.991</td><td>1915.793</td><td>--</td><td>0.164030537</td><td>0.237509891</td><td>0</td><td>--</td><td>--</td><td>0</td></tr>\n",
       "<tr><td>11.93672697438939</td><td>6380802579077531376</td><td>AIS</td><td>13.4770157690612</td><td>-28.20281235530902</td><td>1</td><td>0.117402509</td><td>GALEX J005354.4-281210</td><td>108.0</td><td>108.0</td><td>--</td><td>--</td><td>22.2118931</td><td>0.519642353</td><td>--</td><td>--</td><td>4.734154</td><td>2.265255</td><td>0.0193091054</td><td>13.3758</td><td>-28.12652</td><td>1953.991</td><td>1915.793</td><td>--</td><td>0.140359819</td><td>0.0168980788</td><td>0</td><td>--</td><td>--</td><td>0</td></tr>\n",
       "<tr><td>11.941483482295286</td><td>6380802579077530173</td><td>AIS</td><td>13.32044743038279</td><td>-28.5058704858099</td><td>1</td><td>0.382467449</td><td>GALEX J005316.9-283021</td><td>108.0</td><td>108.0</td><td>--</td><td>--</td><td>22.3224239</td><td>0.4803859</td><td>--</td><td>--</td><td>4.27592373</td><td>1.89143038</td><td>0.0156129925</td><td>13.3758</td><td>-28.12652</td><td>1953.991</td><td>1915.793</td><td>--</td><td>0.126774043</td><td>-0.04239073</td><td>0</td><td>--</td><td>--</td><td>0</td></tr>\n",
       "<tr><td>11.944485054414493</td><td>6380802579077531204</td><td>AIS</td><td>13.37421913284924</td><td>-28.24133806008406</td><td>1</td><td>0.11482691</td><td>GALEX J005329.8-281428</td><td>108.0</td><td>108.0</td><td>--</td><td>--</td><td>22.4599552</td><td>0.516837</td><td>--</td><td>--</td><td>3.76719</td><td>1.79283893</td><td>0.0230553076</td><td>13.3758</td><td>-28.12652</td><td>1953.991</td><td>1915.793</td><td>--</td><td>0.111690938</td><td>0.108045287</td><td>0</td><td>--</td><td>--</td><td>0</td></tr>\n",
       "<tr><td>11.960313734754418</td><td>6380802579077531227</td><td>AIS</td><td>13.37958314424999</td><td>-28.23750849251964</td><td>1</td><td>0.111039087</td><td>GALEX J005331.1-281415</td><td>108.0</td><td>108.0</td><td>--</td><td>--</td><td>22.9667034</td><td>0.6712572</td><td>--</td><td>--</td><td>2.36220837</td><td>1.46008229</td><td>0.0230553076</td><td>13.3758</td><td>-28.12652</td><td>1953.991</td><td>1915.793</td><td>--</td><td>0.07003556</td><td>0.0737326741</td><td>0</td><td>--</td><td>--</td><td>0</td></tr>\n",
       "<tr><td>11.968221286280812</td><td>6380802579077530989</td><td>AIS</td><td>13.70290771508721</td><td>-28.29230288541114</td><td>1</td><td>0.332531333</td><td>GALEX J005448.7-281732</td><td>108.0</td><td>108.0</td><td>--</td><td>--</td><td>21.9759884</td><td>0.5158907</td><td>--</td><td>--</td><td>5.883072</td><td>2.79467964</td><td>0.0163700879</td><td>13.3758</td><td>-28.12652</td><td>1953.991</td><td>1915.793</td><td>--</td><td>0.174423322</td><td>0.105806477</td><td>0</td><td>--</td><td>--</td><td>0</td></tr>\n",
       "<tr><td>11.981613158550516</td><td>6380802579077529903</td><td>AIS</td><td>13.57544312313052</td><td>-28.59107461922089</td><td>1</td><td>0.4966659</td><td>GALEX J005418.1-283527</td><td>108.0</td><td>108.0</td><td>--</td><td>--</td><td>22.1993523</td><td>0.455097079</td><td>--</td><td>--</td><td>4.789155</td><td>2.00693417</td><td>0.0192081537</td><td>13.3758</td><td>-28.12652</td><td>1953.991</td><td>1915.793</td><td>--</td><td>0.141990513</td><td>-0.06702257</td><td>1</td><td>--</td><td>--</td><td>256</td></tr>\n",
       "<tr><td>11.999102168424875</td><td>6380802579077530238</td><td>AIS</td><td>13.30505991080236</td><td>-28.48294129162539</td><td>1</td><td>0.361821949</td><td>GALEX J005313.2-282858</td><td>108.0</td><td>108.0</td><td>--</td><td>--</td><td>21.0344181</td><td>0.244643688</td><td>--</td><td>--</td><td>14.003356</td><td>3.15454221</td><td>0.0156129925</td><td>13.3758</td><td>-28.12652</td><td>1953.991</td><td>1915.793</td><td>--</td><td>0.4151763</td><td>0.3418764</td><td>0</td><td>--</td><td>--</td><td>0</td></tr>\n",
       "</table></div>"
      ],
      "text/plain": [
       "<Table masked=True length=474>\n",
       " distance_arcmin          objID        survey         ra        ... nuv_artifact fuv_flux_auto fuv_flux_aper_7 fuv_artifact\n",
       "     float64              str19         str3       float64      ...    int64        float64        float64        int64    \n",
       "------------------ ------------------- ------ ----------------- ... ------------ ------------- --------------- ------------\n",
       " 1.007453327937128 6380802579077530534    AIS 13.49358223794343 ...            0            --              --            0\n",
       "1.1570112318343508 6380802579077530499    AIS 13.52442935213248 ...            0            --              --            0\n",
       "1.2850870876665763 6380802579077530550    AIS 13.48753421553544 ...            0            --              --            0\n",
       " 1.363584856331773 6380802579077530502    AIS 13.49267323055165 ...            0            --              --            0\n",
       "1.3815148586786572 6380802579077530542    AIS 13.53755642425988 ...            0            --              --            0\n",
       "1.5200551875845891 6380802579077530547    AIS 13.54047227358614 ...            0            --              --            0\n",
       "1.6883066524555321 6380802579078582610    AIS 13.53805431735773 ...            0  0.0746389255      0.03671759            0\n",
       " 1.723165844919715 6380802579077530443    AIS 13.51667761958675 ...            0            --              --            0\n",
       "1.7356234878325882 6380802579077530498    AIS 13.48321810055538 ...            0            --              --            0\n",
       "1.8329210886391674 6380802579077530455    AIS 13.49885585927354 ...            0            --              --            0\n",
       "1.8617376245817316 6380802579077530597    AIS 13.54482535450264 ...            0            --              --            0\n",
       "1.9604040610856743 6380802579077530647    AIS 13.48829219623025 ...            0            --              --            0\n",
       " 2.041947711631833 6380802579077530476    AIS 13.48182104464175 ...            0            --              --            0\n",
       " 2.153392703416181 6380802579077530429    AIS 13.49330348114805 ...            0            --              --            0\n",
       "               ...                 ...    ...               ... ...          ...           ...             ...          ...\n",
       "11.894696588192705 6380802579078582731    AIS 13.38513832582597 ...            0    0.06110794    0.0609481968            0\n",
       "11.902620906535022 6380802579077530528    AIS 13.73711994155329 ...            0            --              --            0\n",
       "11.902810083113716 6380802579077531338    AIS 13.57794798266188 ...            0            --              --            0\n",
       "11.908534735675907 6380802579077530471    AIS 13.28743031591546 ...            0            --              --            0\n",
       "11.926364106335653 6380802579077531358    AIS 13.57082465809603 ...            0            --              --            0\n",
       "11.926822142568168 6380802579077530548    AIS  13.2857428946113 ...            0            --              --            0\n",
       "11.936269952887569 6380802579077530861    AIS 13.71874911815039 ...            0            --              --            0\n",
       " 11.93672697438939 6380802579077531376    AIS  13.4770157690612 ...            0            --              --            0\n",
       "11.941483482295286 6380802579077530173    AIS 13.32044743038279 ...            0            --              --            0\n",
       "11.944485054414493 6380802579077531204    AIS 13.37421913284924 ...            0            --              --            0\n",
       "11.960313734754418 6380802579077531227    AIS 13.37958314424999 ...            0            --              --            0\n",
       "11.968221286280812 6380802579077530989    AIS 13.70290771508721 ...            0            --              --            0\n",
       "11.981613158550516 6380802579077529903    AIS 13.57544312313052 ...            1            --              --          256\n",
       "11.999102168424875 6380802579077530238    AIS 13.30505991080236 ...            0            --              --            0"
      ]
     },
     "execution_count": 43,
     "metadata": {},
     "output_type": "execute_result"
    }
   ],
   "source": [
    "catalog_data_galex"
   ]
  },
  {
   "cell_type": "code",
   "execution_count": 44,
   "id": "1b79979b-1377-4395-ab0f-15843f108f2e",
   "metadata": {},
   "outputs": [
    {
     "data": {
      "text/plain": [
       "474"
      ]
     },
     "execution_count": 44,
     "metadata": {},
     "output_type": "execute_result"
    }
   ],
   "source": [
    "len(catalog_data_galex)"
   ]
  },
  {
   "cell_type": "markdown",
   "id": "66db7257-b920-4597-89af-04eb4cd2f0e0",
   "metadata": {},
   "source": [
    "### PANSTARRS"
   ]
  },
  {
   "cell_type": "code",
   "execution_count": 27,
   "id": "d965ef66-d84e-4bfe-8a71-c2c453b9f48b",
   "metadata": {},
   "outputs": [],
   "source": [
    "catalog_data_panstarrs = Catalogs.query_object(target_name_simbad, catalog=\"PanSTARRS\")"
   ]
  },
  {
   "cell_type": "code",
   "execution_count": 28,
   "id": "328cb06d-af54-4646-92c6-67cfb1b6468a",
   "metadata": {},
   "outputs": [
    {
     "data": {
      "text/html": [
       "<div><i>Table masked=True length=57698</i>\n",
       "<table id=\"table140216529031328\" class=\"table-striped table-bordered table-condensed\">\n",
       "<thead><tr><th>objName</th><th>objAltName1</th><th>objAltName2</th><th>objAltName3</th><th>objID</th><th>uniquePspsOBid</th><th>ippObjID</th><th>surveyID</th><th>htmID</th><th>zoneID</th><th>tessID</th><th>projectionID</th><th>skyCellID</th><th>randomID</th><th>batchID</th><th>dvoRegionID</th><th>processingVersion</th><th>objInfoFlag</th><th>qualityFlag</th><th>raStack</th><th>decStack</th><th>raStackErr</th><th>decStackErr</th><th>raMean</th><th>decMean</th><th>raMeanErr</th><th>decMeanErr</th><th>epochMean</th><th>posMeanChisq</th><th>cx</th><th>cy</th><th>cz</th><th>lambda</th><th>beta</th><th>l</th><th>b</th><th>nStackObjectRows</th><th>nStackDetections</th><th>nDetections</th><th>ng</th><th>nr</th><th>ni</th><th>nz</th><th>ny</th><th>gQfPerfect</th><th>gMeanPSFMag</th><th>gMeanPSFMagErr</th><th>gMeanPSFMagStd</th><th>gMeanPSFMagNpt</th><th>gMeanPSFMagMin</th><th>gMeanPSFMagMax</th><th>gMeanKronMag</th><th>gMeanKronMagErr</th><th>gMeanKronMagStd</th><th>gMeanKronMagNpt</th><th>gMeanApMag</th><th>gMeanApMagErr</th><th>gMeanApMagStd</th><th>gMeanApMagNpt</th><th>gFlags</th><th>rQfPerfect</th><th>rMeanPSFMag</th><th>rMeanPSFMagErr</th><th>rMeanPSFMagStd</th><th>rMeanPSFMagNpt</th><th>rMeanPSFMagMin</th><th>rMeanPSFMagMax</th><th>rMeanKronMag</th><th>rMeanKronMagErr</th><th>rMeanKronMagStd</th><th>rMeanKronMagNpt</th><th>rMeanApMag</th><th>rMeanApMagErr</th><th>rMeanApMagStd</th><th>rMeanApMagNpt</th><th>rFlags</th><th>iQfPerfect</th><th>iMeanPSFMag</th><th>iMeanPSFMagErr</th><th>iMeanPSFMagStd</th><th>iMeanPSFMagNpt</th><th>iMeanPSFMagMin</th><th>iMeanPSFMagMax</th><th>iMeanKronMag</th><th>iMeanKronMagErr</th><th>iMeanKronMagStd</th><th>iMeanKronMagNpt</th><th>iMeanApMag</th><th>iMeanApMagErr</th><th>iMeanApMagStd</th><th>iMeanApMagNpt</th><th>iFlags</th><th>zQfPerfect</th><th>zMeanPSFMag</th><th>zMeanPSFMagErr</th><th>zMeanPSFMagStd</th><th>zMeanPSFMagNpt</th><th>zMeanPSFMagMin</th><th>zMeanPSFMagMax</th><th>zMeanKronMag</th><th>zMeanKronMagErr</th><th>zMeanKronMagStd</th><th>zMeanKronMagNpt</th><th>zMeanApMag</th><th>zMeanApMagErr</th><th>zMeanApMagStd</th><th>zMeanApMagNpt</th><th>zFlags</th><th>yQfPerfect</th><th>yMeanPSFMag</th><th>yMeanPSFMagErr</th><th>yMeanPSFMagStd</th><th>yMeanPSFMagNpt</th><th>yMeanPSFMagMin</th><th>yMeanPSFMagMax</th><th>yMeanKronMag</th><th>yMeanKronMagErr</th><th>yMeanKronMagStd</th><th>yMeanKronMagNpt</th><th>yMeanApMag</th><th>yMeanApMagErr</th><th>yMeanApMagStd</th><th>yMeanApMagNpt</th><th>yFlags</th><th>distance</th></tr></thead>\n",
       "<thead><tr><th>str21</th><th>str4</th><th>str4</th><th>str4</th><th>int64</th><th>int64</th><th>int64</th><th>uint8</th><th>int64</th><th>int64</th><th>uint8</th><th>int64</th><th>uint8</th><th>float64</th><th>int64</th><th>int64</th><th>uint8</th><th>int64</th><th>uint8</th><th>float64</th><th>float64</th><th>float64</th><th>float64</th><th>float64</th><th>float64</th><th>float64</th><th>float64</th><th>float64</th><th>float64</th><th>float64</th><th>float64</th><th>float64</th><th>float64</th><th>float64</th><th>float64</th><th>float64</th><th>int64</th><th>int64</th><th>int64</th><th>int64</th><th>int64</th><th>int64</th><th>int64</th><th>int64</th><th>float64</th><th>float64</th><th>float64</th><th>float64</th><th>int64</th><th>float64</th><th>float64</th><th>float64</th><th>float64</th><th>float64</th><th>int64</th><th>float64</th><th>float64</th><th>float64</th><th>int64</th><th>int64</th><th>float64</th><th>float64</th><th>float64</th><th>float64</th><th>int64</th><th>float64</th><th>float64</th><th>float64</th><th>float64</th><th>float64</th><th>int64</th><th>float64</th><th>float64</th><th>float64</th><th>int64</th><th>int64</th><th>float64</th><th>float64</th><th>float64</th><th>float64</th><th>int64</th><th>float64</th><th>float64</th><th>float64</th><th>float64</th><th>float64</th><th>int64</th><th>float64</th><th>float64</th><th>float64</th><th>int64</th><th>int64</th><th>float64</th><th>float64</th><th>float64</th><th>float64</th><th>int64</th><th>float64</th><th>float64</th><th>float64</th><th>float64</th><th>float64</th><th>int64</th><th>float64</th><th>float64</th><th>float64</th><th>int64</th><th>int64</th><th>float64</th><th>float64</th><th>float64</th><th>float64</th><th>int64</th><th>float64</th><th>float64</th><th>float64</th><th>float64</th><th>float64</th><th>int64</th><th>float64</th><th>float64</th><th>float64</th><th>int64</th><th>int64</th><th>float64</th></tr></thead>\n",
       "<tr><td>PSO J013.5259-28.4946</td><td>-999</td><td>-999</td><td>-999</td><td>73800135259126745</td><td>3492331000286147</td><td>482707079716293</td><td>0</td><td>8918626162709</td><td>7380</td><td>1</td><td>638</td><td>85</td><td>0.236517409082984</td><td>3492331</td><td>112389</td><td>3</td><td>277348352</td><td>33</td><td>--</td><td>--</td><td>--</td><td>--</td><td>13.52591005</td><td>-28.49464288</td><td>0.2311599999666214</td><td>0.2311599999666214</td><td>55466.4644213</td><td>--</td><td>0.8544858367598932</td><td>0.20555262757419193</td><td>-0.4770765893167372</td><td>359.9209231713544</td><td>-31.296931653952882</td><td>279.75175905051003</td><td>-88.51189907104883</td><td>--</td><td>0</td><td>1</td><td>0</td><td>0</td><td>1</td><td>0</td><td>0</td><td>--</td><td>--</td><td>--</td><td>--</td><td>0</td><td>--</td><td>--</td><td>--</td><td>--</td><td>--</td><td>0</td><td>--</td><td>--</td><td>--</td><td>0</td><td>0</td><td>--</td><td>--</td><td>--</td><td>--</td><td>0</td><td>--</td><td>--</td><td>--</td><td>--</td><td>--</td><td>0</td><td>--</td><td>--</td><td>--</td><td>0</td><td>0</td><td>0.6546750068664551</td><td>21.299800872802734</td><td>0.2306710034608841</td><td>--</td><td>1</td><td>21.299800872802734</td><td>21.299800872802734</td><td>20.66029930114746</td><td>0.16810399293899536</td><td>--</td><td>1</td><td>20.5718994140625</td><td>0.2306710034608841</td><td>--</td><td>1</td><td>16781336</td><td>--</td><td>--</td><td>--</td><td>--</td><td>0</td><td>--</td><td>--</td><td>--</td><td>--</td><td>--</td><td>0</td><td>--</td><td>--</td><td>--</td><td>0</td><td>0</td><td>--</td><td>--</td><td>--</td><td>--</td><td>0</td><td>--</td><td>--</td><td>--</td><td>--</td><td>--</td><td>0</td><td>--</td><td>--</td><td>--</td><td>0</td><td>0</td><td>0.09605890712655175</td></tr>\n",
       "<tr><td>PSO J013.5261-28.4961</td><td>-999</td><td>-999</td><td>-999</td><td>73800135261025105</td><td>3492331000286192</td><td>482707079716338</td><td>0</td><td>8918626157757</td><td>7380</td><td>1</td><td>638</td><td>85</td><td>0.30405292315786</td><td>3492331</td><td>112389</td><td>3</td><td>268959744</td><td>32</td><td>--</td><td>--</td><td>--</td><td>--</td><td>13.52611269</td><td>-28.49607758</td><td>0.14598000049591064</td><td>0.14598000049591064</td><td>56012.23394676</td><td>--</td><td>0.8544734947339486</td><td>0.2055528555404535</td><td>-0.477098596074562</td><td>359.92034907947135</td><td>-31.29829159549719</td><td>279.7674764562439</td><td>-88.51051223216558</td><td>--</td><td>0</td><td>2</td><td>0</td><td>1</td><td>0</td><td>1</td><td>0</td><td>--</td><td>--</td><td>--</td><td>--</td><td>0</td><td>--</td><td>--</td><td>--</td><td>--</td><td>--</td><td>0</td><td>--</td><td>--</td><td>--</td><td>0</td><td>0</td><td>0.5306140184402466</td><td>19.093399047851562</td><td>0.18420299887657166</td><td>--</td><td>1</td><td>19.093399047851562</td><td>19.093399047851562</td><td>--</td><td>--</td><td>--</td><td>0</td><td>19.50200080871582</td><td>0.18420299887657166</td><td>--</td><td>1</td><td>4112</td><td>--</td><td>--</td><td>--</td><td>--</td><td>0</td><td>--</td><td>--</td><td>--</td><td>--</td><td>--</td><td>0</td><td>--</td><td>--</td><td>--</td><td>0</td><td>0</td><td>0.7771829962730408</td><td>21.070499420166016</td><td>0.23756299912929535</td><td>--</td><td>1</td><td>21.070499420166016</td><td>21.070499420166016</td><td>--</td><td>--</td><td>--</td><td>0</td><td>20.757600784301758</td><td>0.23756299912929535</td><td>--</td><td>1</td><td>4120</td><td>--</td><td>--</td><td>--</td><td>--</td><td>0</td><td>--</td><td>--</td><td>--</td><td>--</td><td>--</td><td>0</td><td>--</td><td>--</td><td>--</td><td>0</td><td>0</td><td>0.097504583351536</td></tr>\n",
       "<tr><td>PSO J013.5262-28.4971</td><td>-999</td><td>-999</td><td>-999</td><td>73800135261213795</td><td>3492331000286194</td><td>482707079716340</td><td>0</td><td>8918626158311</td><td>7380</td><td>1</td><td>638</td><td>85</td><td>0.651611153643216</td><td>3492331</td><td>112389</td><td>3</td><td>310456320</td><td>37</td><td>--</td><td>--</td><td>--</td><td>--</td><td>13.52616754</td><td>-28.49713647</td><td>0.14044000208377838</td><td>0.14044000208377838</td><td>56259.31165509</td><td>--</td><td>0.8544647250583405</td><td>0.20555161122715457</td><td>-0.4771148381185553</td><td>359.9198384905901</td><td>-31.299257633279026</td><td>279.7819935524991</td><td>-88.50952173556658</td><td>--</td><td>0</td><td>1</td><td>0</td><td>1</td><td>0</td><td>0</td><td>0</td><td>--</td><td>--</td><td>--</td><td>--</td><td>0</td><td>--</td><td>--</td><td>--</td><td>--</td><td>--</td><td>0</td><td>--</td><td>--</td><td>--</td><td>0</td><td>0</td><td>0.9970279932022095</td><td>20.345699310302734</td><td>0.1396380066871643</td><td>--</td><td>1</td><td>20.345699310302734</td><td>20.345699310302734</td><td>19.151599884033203</td><td>0.12848800420761108</td><td>--</td><td>1</td><td>19.86400032043457</td><td>0.1396380066871643</td><td>--</td><td>1</td><td>16777488</td><td>--</td><td>--</td><td>--</td><td>--</td><td>0</td><td>--</td><td>--</td><td>--</td><td>--</td><td>--</td><td>0</td><td>--</td><td>--</td><td>--</td><td>0</td><td>0</td><td>--</td><td>--</td><td>--</td><td>--</td><td>0</td><td>--</td><td>--</td><td>--</td><td>--</td><td>--</td><td>0</td><td>--</td><td>--</td><td>--</td><td>0</td><td>0</td><td>--</td><td>--</td><td>--</td><td>--</td><td>0</td><td>--</td><td>--</td><td>--</td><td>--</td><td>--</td><td>0</td><td>--</td><td>--</td><td>--</td><td>0</td><td>0</td><td>0.09856079277822932</td></tr>\n",
       "<tr><td>PSO J013.5262-28.4957</td><td>-999</td><td>-999</td><td>-999</td><td>73800135262165473</td><td>3492331000286214</td><td>482707079716360</td><td>0</td><td>8918626157776</td><td>7380</td><td>1</td><td>638</td><td>85</td><td>0.371428278620754</td><td>3492331</td><td>112389</td><td>3</td><td>268959744</td><td>32</td><td>--</td><td>--</td><td>--</td><td>--</td><td>13.52620375</td><td>-28.49571087</td><td>0.24624000489711761</td><td>0.24624000489711761</td><td>56292.20733796</td><td>--</td><td>0.8544761369067558</td><td>0.20555492774823642</td><td>-0.47709297116529015</td><td>359.92062683859245</td><td>-31.298000818573072</td><td>279.75903086704676</td><td>-88.51081669372294</td><td>--</td><td>0</td><td>1</td><td>0</td><td>0</td><td>0</td><td>1</td><td>0</td><td>--</td><td>--</td><td>--</td><td>--</td><td>0</td><td>--</td><td>--</td><td>--</td><td>--</td><td>--</td><td>0</td><td>--</td><td>--</td><td>--</td><td>0</td><td>0</td><td>--</td><td>--</td><td>--</td><td>--</td><td>0</td><td>--</td><td>--</td><td>--</td><td>--</td><td>--</td><td>0</td><td>--</td><td>--</td><td>--</td><td>0</td><td>0</td><td>--</td><td>--</td><td>--</td><td>--</td><td>0</td><td>--</td><td>--</td><td>--</td><td>--</td><td>--</td><td>0</td><td>--</td><td>--</td><td>--</td><td>0</td><td>0</td><td>0.6966170072555542</td><td>20.66080093383789</td><td>0.24578100442886353</td><td>--</td><td>1</td><td>20.66080093383789</td><td>20.66080093383789</td><td>--</td><td>--</td><td>--</td><td>0</td><td>20.270599365234375</td><td>0.24578100442886353</td><td>--</td><td>1</td><td>4120</td><td>--</td><td>--</td><td>--</td><td>--</td><td>0</td><td>--</td><td>--</td><td>--</td><td>--</td><td>--</td><td>0</td><td>--</td><td>--</td><td>--</td><td>0</td><td>0</td><td>0.09715147541427895</td></tr>\n",
       "<tr><td>PSO J013.5262-28.4943</td><td>-999</td><td>-999</td><td>-999</td><td>73800135262187050</td><td>3492331000286218</td><td>482707079716364</td><td>0</td><td>8918625985568</td><td>7380</td><td>1</td><td>638</td><td>85</td><td>0.128577260420264</td><td>3492331</td><td>112389</td><td>3</td><td>310456320</td><td>37</td><td>--</td><td>--</td><td>--</td><td>--</td><td>13.52615961</td><td>-28.49434497</td><td>0.1496499925851822</td><td>0.1496499925851822</td><td>56602.37108796</td><td>--</td><td>0.8544873531880689</td><td>0.20555692958282412</td><td>-0.4770720196596424</td><td>359.9213098517044</td><td>-31.29676527329657</td><td>279.73943911674405</td><td>-88.51208483005918</td><td>--</td><td>0</td><td>1</td><td>0</td><td>1</td><td>0</td><td>0</td><td>0</td><td>--</td><td>--</td><td>--</td><td>--</td><td>0</td><td>--</td><td>--</td><td>--</td><td>--</td><td>--</td><td>0</td><td>--</td><td>--</td><td>--</td><td>0</td><td>0</td><td>0.9990770220756531</td><td>21.49340057373047</td><td>0.1488949954509735</td><td>--</td><td>1</td><td>21.49340057373047</td><td>21.49340057373047</td><td>20.61009979248047</td><td>0.1653899997472763</td><td>--</td><td>1</td><td>20.940799713134766</td><td>0.1488949954509735</td><td>--</td><td>1</td><td>16777488</td><td>--</td><td>--</td><td>--</td><td>--</td><td>0</td><td>--</td><td>--</td><td>--</td><td>--</td><td>--</td><td>0</td><td>--</td><td>--</td><td>--</td><td>0</td><td>0</td><td>--</td><td>--</td><td>--</td><td>--</td><td>0</td><td>--</td><td>--</td><td>--</td><td>--</td><td>--</td><td>0</td><td>--</td><td>--</td><td>--</td><td>0</td><td>0</td><td>--</td><td>--</td><td>--</td><td>--</td><td>0</td><td>--</td><td>--</td><td>--</td><td>--</td><td>--</td><td>0</td><td>--</td><td>--</td><td>--</td><td>0</td><td>0</td><td>0.09579241392877594</td></tr>\n",
       "<tr><td>PSO J013.5266-28.4981</td><td>-999</td><td>-999</td><td>-999</td><td>73800135265412684</td><td>3492331000286300</td><td>482707079716446</td><td>0</td><td>8918626156811</td><td>7380</td><td>1</td><td>638</td><td>85</td><td>0.689448204533614</td><td>3492331</td><td>112389</td><td>3</td><td>310456320</td><td>37</td><td>--</td><td>--</td><td>--</td><td>--</td><td>13.52657125</td><td>-28.49806092</td><td>0.08500999957323074</td><td>0.08500999957323074</td><td>56988.25928241</td><td>--</td><td>0.8544557920255444</td><td>0.2055558312548085</td><td>-0.47712901788839485</td><td>359.9197190595285</td><td>-31.300242556367436</td><td>279.78362961160053</td><td>-88.50853245533438</td><td>--</td><td>0</td><td>1</td><td>0</td><td>1</td><td>0</td><td>0</td><td>0</td><td>--</td><td>--</td><td>--</td><td>--</td><td>0</td><td>--</td><td>--</td><td>--</td><td>--</td><td>--</td><td>0</td><td>--</td><td>--</td><td>--</td><td>0</td><td>0</td><td>0.9732319712638855</td><td>20.917600631713867</td><td>0.08367600291967392</td><td>--</td><td>1</td><td>20.917600631713867</td><td>20.917600631713867</td><td>19.407400131225586</td><td>0.04473700001835823</td><td>--</td><td>1</td><td>19.86400032043457</td><td>0.08367600291967392</td><td>--</td><td>1</td><td>16777496</td><td>--</td><td>--</td><td>--</td><td>--</td><td>0</td><td>--</td><td>--</td><td>--</td><td>--</td><td>--</td><td>0</td><td>--</td><td>--</td><td>--</td><td>0</td><td>0</td><td>--</td><td>--</td><td>--</td><td>--</td><td>0</td><td>--</td><td>--</td><td>--</td><td>--</td><td>--</td><td>0</td><td>--</td><td>--</td><td>--</td><td>0</td><td>0</td><td>--</td><td>--</td><td>--</td><td>--</td><td>0</td><td>--</td><td>--</td><td>--</td><td>--</td><td>--</td><td>0</td><td>--</td><td>--</td><td>--</td><td>0</td><td>0</td><td>0.09952358783870006</td></tr>\n",
       "<tr><td>PSO J013.5266-28.4928</td><td>-999</td><td>-999</td><td>-999</td><td>73800135265458982</td><td>3492331000286303</td><td>482707079716449</td><td>0</td><td>8918625986252</td><td>7380</td><td>1</td><td>638</td><td>85</td><td>0.102954204290131</td><td>3492331</td><td>112389</td><td>3</td><td>310456320</td><td>37</td><td>--</td><td>--</td><td>--</td><td>--</td><td>13.52658485</td><td>-28.49281695</td><td>0.1483200043439865</td><td>0.1483200043439865</td><td>56508.62083333</td><td>--</td><td>0.854498197356955</td><td>0.20556624724183517</td><td>-0.47704858107809445</td><td>359.92250920861585</td><td>-31.2955718675728</td><td>279.70274081741354</td><td>-88.51333672584809</td><td>--</td><td>0</td><td>1</td><td>0</td><td>0</td><td>0</td><td>1</td><td>0</td><td>--</td><td>--</td><td>--</td><td>--</td><td>0</td><td>--</td><td>--</td><td>--</td><td>--</td><td>--</td><td>0</td><td>--</td><td>--</td><td>--</td><td>0</td><td>0</td><td>--</td><td>--</td><td>--</td><td>--</td><td>0</td><td>--</td><td>--</td><td>--</td><td>--</td><td>--</td><td>0</td><td>--</td><td>--</td><td>--</td><td>0</td><td>0</td><td>--</td><td>--</td><td>--</td><td>--</td><td>0</td><td>--</td><td>--</td><td>--</td><td>--</td><td>--</td><td>0</td><td>--</td><td>--</td><td>--</td><td>0</td><td>0</td><td>0.9991809725761414</td><td>20.401399612426758</td><td>0.14756399393081665</td><td>--</td><td>1</td><td>20.401399612426758</td><td>20.401399612426758</td><td>18.77440071105957</td><td>0.08719100058078766</td><td>--</td><td>1</td><td>19.473100662231445</td><td>0.14756399393081665</td><td>--</td><td>1</td><td>16777496</td><td>--</td><td>--</td><td>--</td><td>--</td><td>0</td><td>--</td><td>--</td><td>--</td><td>--</td><td>--</td><td>0</td><td>--</td><td>--</td><td>--</td><td>0</td><td>0</td><td>0.09432929183273582</td></tr>\n",
       "<tr><td>PSO J013.5268-28.4957</td><td>-999</td><td>-999</td><td>-999</td><td>73800135268525506</td><td>3492331000286366</td><td>482707079716512</td><td>0</td><td>8918625978571</td><td>7380</td><td>1</td><td>638</td><td>85</td><td>0.421550123413606</td><td>3492331</td><td>112389</td><td>3</td><td>268959744</td><td>32</td><td>--</td><td>--</td><td>--</td><td>--</td><td>13.52683934</td><td>-28.49567011</td><td>0.18809999525547028</td><td>0.18809999525547028</td><td>55843.45090278</td><td>--</td><td>0.8544741865920142</td><td>0.2055644859438453</td><td>-0.477092345952603</td><td>359.92123135913437</td><td>-31.298217295452524</td><td>279.7386947606282</td><td>-88.51063138833422</td><td>--</td><td>0</td><td>1</td><td>0</td><td>1</td><td>0</td><td>0</td><td>0</td><td>--</td><td>--</td><td>--</td><td>--</td><td>0</td><td>--</td><td>--</td><td>--</td><td>--</td><td>--</td><td>0</td><td>--</td><td>--</td><td>--</td><td>0</td><td>0</td><td>0.7274330258369446</td><td>20.037599563598633</td><td>0.1874990016222</td><td>--</td><td>1</td><td>20.037599563598633</td><td>20.037599563598633</td><td>--</td><td>--</td><td>--</td><td>0</td><td>20.15250015258789</td><td>0.1874990016222</td><td>--</td><td>1</td><td>4112</td><td>--</td><td>--</td><td>--</td><td>--</td><td>0</td><td>--</td><td>--</td><td>--</td><td>--</td><td>--</td><td>0</td><td>--</td><td>--</td><td>--</td><td>0</td><td>0</td><td>--</td><td>--</td><td>--</td><td>--</td><td>0</td><td>--</td><td>--</td><td>--</td><td>--</td><td>--</td><td>0</td><td>--</td><td>--</td><td>--</td><td>0</td><td>0</td><td>--</td><td>--</td><td>--</td><td>--</td><td>0</td><td>--</td><td>--</td><td>--</td><td>--</td><td>--</td><td>0</td><td>--</td><td>--</td><td>--</td><td>0</td><td>0</td><td>0.09718603422544153</td></tr>\n",
       "<tr><td>PSO J013.5270-28.4948</td><td>-999</td><td>-999</td><td>-999</td><td>73800135269496631</td><td>3492331000286393</td><td>482707079716539</td><td>0</td><td>8918625989867</td><td>7380</td><td>1</td><td>638</td><td>85</td><td>0.238150187058514</td><td>3492331</td><td>112389</td><td>3</td><td>268959744</td><td>32</td><td>--</td><td>--</td><td>--</td><td>--</td><td>13.52702681</td><td>-28.49480493</td><td>0.16891999542713165</td><td>0.16891999542713165</td><td>56292.20931713</td><td>--</td><td>0.8544805182512429</td><td>0.2055689668254681</td><td>-0.47707907500475943</td><td>359.9218615731256</td><td>-31.297520376949294</td><td>279.7195967344759</td><td>-88.51135898972238</td><td>--</td><td>0</td><td>2</td><td>0</td><td>0</td><td>0</td><td>2</td><td>0</td><td>--</td><td>--</td><td>--</td><td>--</td><td>0</td><td>--</td><td>--</td><td>--</td><td>--</td><td>--</td><td>0</td><td>--</td><td>--</td><td>--</td><td>0</td><td>0</td><td>--</td><td>--</td><td>--</td><td>--</td><td>0</td><td>--</td><td>--</td><td>--</td><td>--</td><td>--</td><td>0</td><td>--</td><td>--</td><td>--</td><td>0</td><td>0</td><td>--</td><td>--</td><td>--</td><td>--</td><td>0</td><td>--</td><td>--</td><td>--</td><td>--</td><td>--</td><td>0</td><td>--</td><td>--</td><td>--</td><td>0</td><td>0</td><td>0.7717229723930359</td><td>20.847400665283203</td><td>0.26464399695396423</td><td>0.3836840093135834</td><td>2</td><td>20.642499923706055</td><td>21.17169952392578</td><td>--</td><td>--</td><td>--</td><td>0</td><td>20.11840057373047</td><td>0.5189110040664673</td><td>0.8106080293655396</td><td>2</td><td>4120</td><td>--</td><td>--</td><td>--</td><td>--</td><td>0</td><td>--</td><td>--</td><td>--</td><td>--</td><td>--</td><td>0</td><td>--</td><td>--</td><td>--</td><td>0</td><td>0</td><td>0.09635200465295482</td></tr>\n",
       "<tr><td>PSO J013.5271-28.4985</td><td>-999</td><td>-999</td><td>-999</td><td>73800135270492187</td><td>3492331000286414</td><td>482707079716560</td><td>0</td><td>8918625977063</td><td>7380</td><td>1</td><td>638</td><td>85</td><td>0.134806263386091</td><td>3492331</td><td>112389</td><td>3</td><td>310456320</td><td>37</td><td>--</td><td>--</td><td>--</td><td>--</td><td>13.52706616</td><td>-28.49845723</td><td>0.0709799975156784</td><td>0.0709799975156784</td><td>56988.26938657</td><td>--</td><td>0.8544508077114303</td><td>0.20556243992176781</td><td>-0.4771350966913814</td><td>359.91996303044994</td><td>-31.300792811081227</td><td>279.77436534321487</td><td>-88.50799573240226</td><td>--</td><td>0</td><td>1</td><td>0</td><td>1</td><td>0</td><td>0</td><td>0</td><td>--</td><td>--</td><td>--</td><td>--</td><td>0</td><td>--</td><td>--</td><td>--</td><td>--</td><td>--</td><td>0</td><td>--</td><td>--</td><td>--</td><td>0</td><td>0</td><td>0.9703840017318726</td><td>20.648500442504883</td><td>0.06938000023365021</td><td>--</td><td>1</td><td>20.648500442504883</td><td>20.648500442504883</td><td>19.17609977722168</td><td>0.03710800036787987</td><td>--</td><td>1</td><td>19.494800567626953</td><td>0.06938000023365021</td><td>--</td><td>1</td><td>16777496</td><td>--</td><td>--</td><td>--</td><td>--</td><td>0</td><td>--</td><td>--</td><td>--</td><td>--</td><td>--</td><td>0</td><td>--</td><td>--</td><td>--</td><td>0</td><td>0</td><td>--</td><td>--</td><td>--</td><td>--</td><td>0</td><td>--</td><td>--</td><td>--</td><td>--</td><td>--</td><td>0</td><td>--</td><td>--</td><td>--</td><td>0</td><td>0</td><td>--</td><td>--</td><td>--</td><td>--</td><td>0</td><td>--</td><td>--</td><td>--</td><td>--</td><td>--</td><td>0</td><td>--</td><td>--</td><td>--</td><td>0</td><td>0</td><td>0.09997434848298338</td></tr>\n",
       "<tr><td>PSO J013.5273-28.4956</td><td>-999</td><td>-999</td><td>-999</td><td>73800135272565596</td><td>3492331000286459</td><td>482707079716605</td><td>0</td><td>8918625978543</td><td>7380</td><td>1</td><td>638</td><td>85</td><td>0.189572146338944</td><td>3492331</td><td>112389</td><td>3</td><td>268959744</td><td>32</td><td>--</td><td>--</td><td>--</td><td>--</td><td>13.52726069</td><td>-28.49557939</td><td>0.3198699951171875</td><td>0.3198699951171875</td><td>56889.63200231</td><td>--</td><td>0.8544734093121469</td><td>0.20557094639051265</td><td>-0.47709095440868</td><td>359.9216658541986</td><td>-31.298304002838695</td><td>279.72423828812754</td><td>-88.51056684693636</td><td>--</td><td>0</td><td>1</td><td>0</td><td>0</td><td>0</td><td>0</td><td>1</td><td>--</td><td>--</td><td>--</td><td>--</td><td>0</td><td>--</td><td>--</td><td>--</td><td>--</td><td>--</td><td>0</td><td>--</td><td>--</td><td>--</td><td>0</td><td>0</td><td>--</td><td>--</td><td>--</td><td>--</td><td>0</td><td>--</td><td>--</td><td>--</td><td>--</td><td>--</td><td>0</td><td>--</td><td>--</td><td>--</td><td>0</td><td>0</td><td>--</td><td>--</td><td>--</td><td>--</td><td>0</td><td>--</td><td>--</td><td>--</td><td>--</td><td>--</td><td>0</td><td>--</td><td>--</td><td>--</td><td>0</td><td>0</td><td>--</td><td>--</td><td>--</td><td>--</td><td>0</td><td>--</td><td>--</td><td>--</td><td>--</td><td>--</td><td>0</td><td>--</td><td>--</td><td>--</td><td>0</td><td>0</td><td>0.5912349820137024</td><td>20.545299530029297</td><td>0.3195199966430664</td><td>--</td><td>1</td><td>20.545299530029297</td><td>20.545299530029297</td><td>18.828800201416016</td><td>0.14931200444698334</td><td>--</td><td>1</td><td>20.303699493408203</td><td>0.3195199966430664</td><td>--</td><td>1</td><td>4120</td><td>0.09714765370558838</td></tr>\n",
       "<tr><td>PSO J013.5274-28.4924</td><td>-999</td><td>-999</td><td>-999</td><td>73800135274979433</td><td>3492331000286523</td><td>482707079716669</td><td>0</td><td>8918625986304</td><td>7380</td><td>1</td><td>638</td><td>85</td><td>0.819935832004934</td><td>3492331</td><td>112389</td><td>3</td><td>302067712</td><td>36</td><td>--</td><td>--</td><td>--</td><td>--</td><td>13.52744998</td><td>-28.49239466</td><td>0.15995000302791595</td><td>0.15995000302791595</td><td>56602.34674769</td><td>--</td><td>0.8544985117901571</td><td>0.20557997203002693</td><td>-0.4770421034337954</td><td>359.9235263398015</td><td>-31.29553943355305</td><td>279.6693701540604</td><td>-88.51341993841054</td><td>--</td><td>0</td><td>1</td><td>1</td><td>0</td><td>0</td><td>0</td><td>0</td><td>0.9996650218963623</td><td>22.242599487304688</td><td>0.15924899280071259</td><td>--</td><td>1</td><td>22.242599487304688</td><td>22.242599487304688</td><td>--</td><td>--</td><td>--</td><td>0</td><td>23.565000534057617</td><td>0.15924899280071259</td><td>--</td><td>1</td><td>272</td><td>--</td><td>--</td><td>--</td><td>--</td><td>0</td><td>--</td><td>--</td><td>--</td><td>--</td><td>--</td><td>0</td><td>--</td><td>--</td><td>--</td><td>0</td><td>0</td><td>--</td><td>--</td><td>--</td><td>--</td><td>0</td><td>--</td><td>--</td><td>--</td><td>--</td><td>--</td><td>0</td><td>--</td><td>--</td><td>--</td><td>0</td><td>0</td><td>--</td><td>--</td><td>--</td><td>--</td><td>0</td><td>--</td><td>--</td><td>--</td><td>--</td><td>--</td><td>0</td><td>--</td><td>--</td><td>--</td><td>0</td><td>0</td><td>--</td><td>--</td><td>--</td><td>--</td><td>0</td><td>--</td><td>--</td><td>--</td><td>--</td><td>--</td><td>0</td><td>--</td><td>--</td><td>--</td><td>0</td><td>0</td><td>0.09402013646121128</td></tr>\n",
       "<tr><td>PSO J013.5275-28.4958</td><td>-999</td><td>-999</td><td>-999</td><td>73800135275535293</td><td>3492331000286532</td><td>482707079716678</td><td>0</td><td>8918625979380</td><td>7380</td><td>1</td><td>638</td><td>85</td><td>0.552277579486629</td><td>3492331</td><td>112389</td><td>3</td><td>277348352</td><td>33</td><td>--</td><td>--</td><td>--</td><td>--</td><td>13.52754805</td><td>-28.49584626</td><td>0.08794999867677689</td><td>0.08794999867677689</td><td>56988.26938657</td><td>--</td><td>0.8544702177494029</td><td>0.20557471209759484</td><td>-0.4770950478943154</td><td>359.9217880474404</td><td>-31.298656278365087</td><td>279.7194276417197</td><td>-88.5102213606909</td><td>--</td><td>0</td><td>1</td><td>0</td><td>1</td><td>0</td><td>0</td><td>0</td><td>--</td><td>--</td><td>--</td><td>--</td><td>0</td><td>--</td><td>--</td><td>--</td><td>--</td><td>--</td><td>0</td><td>--</td><td>--</td><td>--</td><td>0</td><td>0</td><td>0.6860560178756714</td><td>20.775299072265625</td><td>0.0866599977016449</td><td>--</td><td>1</td><td>20.775299072265625</td><td>20.775299072265625</td><td>--</td><td>--</td><td>--</td><td>0</td><td>20.038400650024414</td><td>0.0866599977016449</td><td>--</td><td>1</td><td>16781336</td><td>--</td><td>--</td><td>--</td><td>--</td><td>0</td><td>--</td><td>--</td><td>--</td><td>--</td><td>--</td><td>0</td><td>--</td><td>--</td><td>--</td><td>0</td><td>0</td><td>--</td><td>--</td><td>--</td><td>--</td><td>0</td><td>--</td><td>--</td><td>--</td><td>--</td><td>--</td><td>0</td><td>--</td><td>--</td><td>--</td><td>0</td><td>0</td><td>--</td><td>--</td><td>--</td><td>--</td><td>0</td><td>--</td><td>--</td><td>--</td><td>--</td><td>--</td><td>0</td><td>--</td><td>--</td><td>--</td><td>0</td><td>0</td><td>0.09744767686484014</td></tr>\n",
       "<tr><td>PSO J013.5279-28.4932</td><td>-999</td><td>-999</td><td>-999</td><td>73800135279538474</td><td>3492331000286640</td><td>482707079716786</td><td>0</td><td>8918625985969</td><td>7380</td><td>1</td><td>638</td><td>85</td><td>0.644966726792014</td><td>3492331</td><td>112389</td><td>3</td><td>302067712</td><td>36</td><td>--</td><td>--</td><td>--</td><td>--</td><td>13.52790505</td><td>-28.49319259</td><td>0.1737000048160553</td><td>0.1737000048160553</td><td>56602.34674769</td><td>--</td><td>0.8544904196554041</td><td>0.2055852047850282</td><td>-0.47705434312102163</td><td>359.9235210755241</td><td>-31.296431976292393</td><td>279.66754227184566</td><td>-88.51252864567881</td><td>--</td><td>0</td><td>1</td><td>1</td><td>0</td><td>0</td><td>0</td><td>0</td><td>0.999576985836029</td><td>22.324600219726562</td><td>0.1730560064315796</td><td>--</td><td>1</td><td>22.324600219726562</td><td>22.324600219726562</td><td>--</td><td>--</td><td>--</td><td>0</td><td>--</td><td>--</td><td>--</td><td>0</td><td>272</td><td>--</td><td>--</td><td>--</td><td>--</td><td>0</td><td>--</td><td>--</td><td>--</td><td>--</td><td>--</td><td>0</td><td>--</td><td>--</td><td>--</td><td>0</td><td>0</td><td>--</td><td>--</td><td>--</td><td>--</td><td>0</td><td>--</td><td>--</td><td>--</td><td>--</td><td>--</td><td>0</td><td>--</td><td>--</td><td>--</td><td>0</td><td>0</td><td>--</td><td>--</td><td>--</td><td>--</td><td>0</td><td>--</td><td>--</td><td>--</td><td>--</td><td>--</td><td>0</td><td>--</td><td>--</td><td>--</td><td>0</td><td>0</td><td>--</td><td>--</td><td>--</td><td>--</td><td>0</td><td>--</td><td>--</td><td>--</td><td>--</td><td>--</td><td>0</td><td>--</td><td>--</td><td>--</td><td>0</td><td>0</td><td>0.0948686991521346</td></tr>\n",
       "<tr><td>...</td><td>...</td><td>...</td><td>...</td><td>...</td><td>...</td><td>...</td><td>...</td><td>...</td><td>...</td><td>...</td><td>...</td><td>...</td><td>...</td><td>...</td><td>...</td><td>...</td><td>...</td><td>...</td><td>...</td><td>...</td><td>...</td><td>...</td><td>...</td><td>...</td><td>...</td><td>...</td><td>...</td><td>...</td><td>...</td><td>...</td><td>...</td><td>...</td><td>...</td><td>...</td><td>...</td><td>...</td><td>...</td><td>...</td><td>...</td><td>...</td><td>...</td><td>...</td><td>...</td><td>...</td><td>...</td><td>...</td><td>...</td><td>...</td><td>...</td><td>...</td><td>...</td><td>...</td><td>...</td><td>...</td><td>...</td><td>...</td><td>...</td><td>...</td><td>...</td><td>...</td><td>...</td><td>...</td><td>...</td><td>...</td><td>...</td><td>...</td><td>...</td><td>...</td><td>...</td><td>...</td><td>...</td><td>...</td><td>...</td><td>...</td><td>...</td><td>...</td><td>...</td><td>...</td><td>...</td><td>...</td><td>...</td><td>...</td><td>...</td><td>...</td><td>...</td><td>...</td><td>...</td><td>...</td><td>...</td><td>...</td><td>...</td><td>...</td><td>...</td><td>...</td><td>...</td><td>...</td><td>...</td><td>...</td><td>...</td><td>...</td><td>...</td><td>...</td><td>...</td><td>...</td><td>...</td><td>...</td><td>...</td><td>...</td><td>...</td><td>...</td><td>...</td><td>...</td><td>...</td><td>...</td><td>...</td><td>...</td><td>...</td><td>...</td><td>...</td><td>...</td><td>...</td><td>...</td><td>...</td><td>...</td></tr>\n",
       "<tr><td>PSO J013.5824-28.2678</td><td>-999</td><td>-999</td><td>-999</td><td>74070135823819212</td><td>3492331000299943</td><td>482707079730089</td><td>0</td><td>8919453594408</td><td>7407</td><td>1</td><td>638</td><td>95</td><td>0.502509495711429</td><td>3492331</td><td>112389</td><td>3</td><td>302067712</td><td>36</td><td>--</td><td>--</td><td>--</td><td>--</td><td>13.58243757</td><td>-28.26781244</td><td>0.09696999937295914</td><td>0.09696999937295914</td><td>56602.34185185</td><td>11.313400268554688</td><td>0.8561118200030314</td><td>0.2068374912343481</td><td>-0.4735935006637846</td><td>0.09269266358227085</td><td>-31.117094022904944</td><td>273.77548797229076</td><td>-88.69297356399285</td><td>--</td><td>0</td><td>2</td><td>2</td><td>0</td><td>0</td><td>0</td><td>0</td><td>0.9996920228004456</td><td>21.78230094909668</td><td>0.15453900396823883</td><td>--</td><td>1</td><td>21.78230094909668</td><td>21.78230094909668</td><td>21.761199951171875</td><td>0.22723500430583954</td><td>--</td><td>1</td><td>21.507600784301758</td><td>0.12324599921703339</td><td>--</td><td>1</td><td>528</td><td>--</td><td>--</td><td>--</td><td>--</td><td>0</td><td>--</td><td>--</td><td>--</td><td>--</td><td>--</td><td>0</td><td>--</td><td>--</td><td>--</td><td>0</td><td>0</td><td>--</td><td>--</td><td>--</td><td>--</td><td>0</td><td>--</td><td>--</td><td>--</td><td>--</td><td>--</td><td>0</td><td>--</td><td>--</td><td>--</td><td>0</td><td>0</td><td>--</td><td>--</td><td>--</td><td>--</td><td>0</td><td>--</td><td>--</td><td>--</td><td>--</td><td>--</td><td>0</td><td>--</td><td>--</td><td>--</td><td>0</td><td>0</td><td>--</td><td>--</td><td>--</td><td>--</td><td>0</td><td>--</td><td>--</td><td>--</td><td>--</td><td>--</td><td>0</td><td>--</td><td>--</td><td>--</td><td>0</td><td>0</td><td>0.14557466193639587</td></tr>\n",
       "<tr><td>PSO J013.5827-28.2739</td><td>-999</td><td>-999</td><td>-999</td><td>74070135826311877</td><td>3492331000299994</td><td>482707079730140</td><td>0</td><td>8919453554118</td><td>7407</td><td>1</td><td>638</td><td>95</td><td>0.915574501189938</td><td>3492331</td><td>112389</td><td>3</td><td>436527104</td><td>52</td><td>13.58257722</td><td>-28.27380401</td><td>0.0010000000474974513</td><td>0.0010000000474974513</td><td>13.582690607988104</td><td>-28.27387623712743</td><td>0.02067241072654724</td><td>0.02067241072654724</td><td>56279.17722450448</td><td>7.317120552062988</td><td>0.8560621816171645</td><td>0.20682949990214858</td><td>-0.4736867099413788</td><td>0.08971914871106457</td><td>-31.122607753571543</td><td>273.8976119111524</td><td>-88.68758009951787</td><td>--</td><td>5</td><td>20</td><td>3</td><td>7</td><td>8</td><td>2</td><td>0</td><td>0.9990190267562866</td><td>21.800899505615234</td><td>0.002778999973088503</td><td>0.12237399816513062</td><td>3</td><td>21.757699966430664</td><td>21.9685001373291</td><td>--</td><td>--</td><td>--</td><td>2</td><td>22.034099578857422</td><td>0.2586100101470947</td><td>0.514847993850708</td><td>2</td><td>115000</td><td>0.9996330142021179</td><td>21.644899368286133</td><td>0.10289199650287628</td><td>0.26248401403427124</td><td>7</td><td>21.29640007019043</td><td>21.738300323486328</td><td>21.57670021057129</td><td>0.12778399884700775</td><td>0.22851699590682983</td><td>6</td><td>21.522899627685547</td><td>0.25031399726867676</td><td>0.5816410183906555</td><td>7</td><td>115000</td><td>0.9988420009613037</td><td>21.324199676513672</td><td>0.03784500062465668</td><td>0.11755199730396271</td><td>8</td><td>21.1466007232666</td><td>21.470800399780273</td><td>20.892000198364258</td><td>0.09763699769973755</td><td>0.3479959964752197</td><td>7</td><td>20.95159912109375</td><td>0.06702200323343277</td><td>0.2521800100803375</td><td>8</td><td>115000</td><td>0.997186005115509</td><td>21.250499725341797</td><td>0.1985590010881424</td><td>--</td><td>1</td><td>21.250499725341797</td><td>21.250499725341797</td><td>--</td><td>--</td><td>--</td><td>1</td><td>21.493099212646484</td><td>0.1985590010881424</td><td>--</td><td>1</td><td>115000</td><td>--</td><td>--</td><td>--</td><td>--</td><td>0</td><td>--</td><td>--</td><td>--</td><td>--</td><td>--</td><td>0</td><td>--</td><td>--</td><td>--</td><td>0</td><td>114720</td><td>0.1402158098091211</td></tr>\n",
       "<tr><td>PSO J013.5828-28.2715</td><td>-999</td><td>-999</td><td>-999</td><td>74070135826394602</td><td>3492331000299997</td><td>482707079730143</td><td>0</td><td>8919453583505</td><td>7407</td><td>1</td><td>638</td><td>95</td><td>0.316616409753092</td><td>3492331</td><td>112389</td><td>3</td><td>302067712</td><td>36</td><td>--</td><td>--</td><td>--</td><td>--</td><td>13.5828191</td><td>-28.27152927</td><td>0.09432999789714813</td><td>0.09432999789714813</td><td>56602.33997685</td><td>7.405600070953369</td><td>0.8560805776763035</td><td>0.2068359764178841</td><td>-0.47365063431253523</td><td>0.09108199578306624</td><td>-31.120561933577882</td><td>273.84271148817965</td><td>-88.68957203281235</td><td>--</td><td>0</td><td>2</td><td>2</td><td>0</td><td>0</td><td>0</td><td>0</td><td>0.9991750121116638</td><td>21.61050033569336</td><td>0.06778000295162201</td><td>0.0961960032582283</td><td>2</td><td>21.548500061035156</td><td>21.68400001525879</td><td>21.639400482177734</td><td>0.08301900327205658</td><td>0.11741700023412704</td><td>2</td><td>21.55419921875</td><td>0.3505510091781616</td><td>0.5428230166435242</td><td>2</td><td>272</td><td>--</td><td>--</td><td>--</td><td>--</td><td>0</td><td>--</td><td>--</td><td>--</td><td>--</td><td>--</td><td>0</td><td>--</td><td>--</td><td>--</td><td>0</td><td>0</td><td>--</td><td>--</td><td>--</td><td>--</td><td>0</td><td>--</td><td>--</td><td>--</td><td>--</td><td>--</td><td>0</td><td>--</td><td>--</td><td>--</td><td>0</td><td>0</td><td>--</td><td>--</td><td>--</td><td>--</td><td>0</td><td>--</td><td>--</td><td>--</td><td>--</td><td>--</td><td>0</td><td>--</td><td>--</td><td>--</td><td>0</td><td>0</td><td>--</td><td>--</td><td>--</td><td>--</td><td>0</td><td>--</td><td>--</td><td>--</td><td>--</td><td>--</td><td>0</td><td>--</td><td>--</td><td>--</td><td>0</td><td>0</td><td>0.14237069363645952</td></tr>\n",
       "<tr><td>PSO J013.5828-28.2728</td><td>-999</td><td>-999</td><td>-999</td><td>74070135827483178</td><td>3492331000300015</td><td>482707079730161</td><td>0</td><td>8919453553826</td><td>7407</td><td>1</td><td>638</td><td>95</td><td>0.795209049987801</td><td>3492331</td><td>112389</td><td>3</td><td>302067712</td><td>36</td><td>--</td><td>--</td><td>--</td><td>--</td><td>13.58282147</td><td>-28.27280505</td><td>0.13197000324726105</td><td>0.13197000324726105</td><td>56602.34108796</td><td>4.539000034332275</td><td>0.8560703173096796</td><td>0.20683353490833936</td><td>-0.47367024464138047</td><td>0.0904110847757632</td><td>-31.121701117368474</td><td>273.8700158423841</td><td>-88.68845965977407</td><td>--</td><td>0</td><td>2</td><td>2</td><td>0</td><td>0</td><td>0</td><td>0</td><td>0.9990800023078918</td><td>21.993499755859375</td><td>0.04162200167775154</td><td>0.05914900079369545</td><td>2</td><td>21.955900192260742</td><td>22.039199829101562</td><td>--</td><td>--</td><td>--</td><td>1</td><td>22.7716007232666</td><td>0.1775369942188263</td><td>--</td><td>1</td><td>272</td><td>--</td><td>--</td><td>--</td><td>--</td><td>0</td><td>--</td><td>--</td><td>--</td><td>--</td><td>--</td><td>0</td><td>--</td><td>--</td><td>--</td><td>0</td><td>0</td><td>--</td><td>--</td><td>--</td><td>--</td><td>0</td><td>--</td><td>--</td><td>--</td><td>--</td><td>--</td><td>0</td><td>--</td><td>--</td><td>--</td><td>0</td><td>0</td><td>--</td><td>--</td><td>--</td><td>--</td><td>0</td><td>--</td><td>--</td><td>--</td><td>--</td><td>--</td><td>0</td><td>--</td><td>--</td><td>--</td><td>0</td><td>0</td><td>--</td><td>--</td><td>--</td><td>--</td><td>0</td><td>--</td><td>--</td><td>--</td><td>--</td><td>--</td><td>0</td><td>--</td><td>--</td><td>--</td><td>0</td><td>0</td><td>0.14122671969365141</td></tr>\n",
       "<tr><td>PSO J013.5830-28.2740</td><td>-999</td><td>-999</td><td>-999</td><td>74070135828861613</td><td>3492331000300063</td><td>482707079730209</td><td>0</td><td>8919453554120</td><td>7407</td><td>1</td><td>638</td><td>95</td><td>0.207954984351951</td><td>3492331</td><td>112389</td><td>3</td><td>302067712</td><td>36</td><td>--</td><td>--</td><td>--</td><td>--</td><td>13.58297239</td><td>-28.27397876</td><td>0.1489199995994568</td><td>0.1489199995994568</td><td>56602.34674769</td><td>--</td><td>0.8560603405227448</td><td>0.20683351097269567</td><td>-0.4736882858196832</td><td>0.08993035832878997</td><td>-31.122808321727437</td><td>273.89011160386445</td><td>-88.68737176386448</td><td>--</td><td>0</td><td>1</td><td>1</td><td>0</td><td>0</td><td>0</td><td>0</td><td>0.9987379908561707</td><td>21.740999221801758</td><td>0.14816300570964813</td><td>--</td><td>1</td><td>21.740999221801758</td><td>21.740999221801758</td><td>--</td><td>--</td><td>--</td><td>0</td><td>23.315399169921875</td><td>0.14816300570964813</td><td>--</td><td>1</td><td>272</td><td>--</td><td>--</td><td>--</td><td>--</td><td>0</td><td>--</td><td>--</td><td>--</td><td>--</td><td>--</td><td>0</td><td>--</td><td>--</td><td>--</td><td>0</td><td>0</td><td>--</td><td>--</td><td>--</td><td>--</td><td>0</td><td>--</td><td>--</td><td>--</td><td>--</td><td>--</td><td>0</td><td>--</td><td>--</td><td>--</td><td>0</td><td>0</td><td>--</td><td>--</td><td>--</td><td>--</td><td>0</td><td>--</td><td>--</td><td>--</td><td>--</td><td>--</td><td>0</td><td>--</td><td>--</td><td>--</td><td>0</td><td>0</td><td>--</td><td>--</td><td>--</td><td>--</td><td>0</td><td>--</td><td>--</td><td>--</td><td>--</td><td>--</td><td>0</td><td>--</td><td>--</td><td>--</td><td>0</td><td>0</td><td>0.140234794793274</td></tr>\n",
       "<tr><td>PSO J013.5830-28.2691</td><td>-999</td><td>-999</td><td>-999</td><td>74070135829597428</td><td>3492331000300081</td><td>482707079730227</td><td>0</td><td>8919453597275</td><td>7407</td><td>1</td><td>638</td><td>95</td><td>0.407502291172279</td><td>3492331</td><td>112389</td><td>3</td><td>302067712</td><td>36</td><td>--</td><td>--</td><td>--</td><td>--</td><td>13.58304284</td><td>-28.26913105</td><td>0.2029300034046173</td><td>0.2029300034046173</td><td>56602.34674769</td><td>--</td><td>0.8560990402331763</td><td>0.20684397534012855</td><td>-0.4736137700461493</td><td>0.09255258852734857</td><td>-31.118511249297132</td><td>273.78359675291034</td><td>-88.69156336405547</td><td>--</td><td>0</td><td>1</td><td>1</td><td>0</td><td>0</td><td>0</td><td>0</td><td>0.9990460276603699</td><td>22.06369972229004</td><td>0.2023710012435913</td><td>--</td><td>1</td><td>22.06369972229004</td><td>22.06369972229004</td><td>--</td><td>--</td><td>--</td><td>1</td><td>21.762100219726562</td><td>0.2023710012435913</td><td>--</td><td>1</td><td>272</td><td>--</td><td>--</td><td>--</td><td>--</td><td>0</td><td>--</td><td>--</td><td>--</td><td>--</td><td>--</td><td>0</td><td>--</td><td>--</td><td>--</td><td>0</td><td>0</td><td>--</td><td>--</td><td>--</td><td>--</td><td>0</td><td>--</td><td>--</td><td>--</td><td>--</td><td>--</td><td>0</td><td>--</td><td>--</td><td>--</td><td>0</td><td>0</td><td>--</td><td>--</td><td>--</td><td>--</td><td>0</td><td>--</td><td>--</td><td>--</td><td>--</td><td>--</td><td>0</td><td>--</td><td>--</td><td>--</td><td>0</td><td>0</td><td>--</td><td>--</td><td>--</td><td>--</td><td>0</td><td>--</td><td>--</td><td>--</td><td>--</td><td>--</td><td>0</td><td>--</td><td>--</td><td>--</td><td>0</td><td>0</td><td>0.1446142208926794</td></tr>\n",
       "<tr><td>PSO J013.5840-28.2692</td><td>-999</td><td>-999</td><td>-999</td><td>74070135838907382</td><td>3492331000300322</td><td>482707079730468</td><td>0</td><td>8919453596840</td><td>7407</td><td>1</td><td>638</td><td>95</td><td>0.696404044233639</td><td>3492331</td><td>112389</td><td>3</td><td>302067712</td><td>36</td><td>--</td><td>--</td><td>--</td><td>--</td><td>13.58396935</td><td>-28.26917857</td><td>0.2170500010251999</td><td>0.2170500010251999</td><td>56602.33422454</td><td>--</td><td>0.8560953135014636</td><td>0.2068577267325929</td><td>-0.47361450050843545</td><td>0.09337793618669643</td><td>-31.118922190609506</td><td>273.75352384529293</td><td>-88.69112018440737</td><td>--</td><td>0</td><td>1</td><td>1</td><td>0</td><td>0</td><td>0</td><td>0</td><td>0.933991014957428</td><td>22.137500762939453</td><td>0.21652700006961823</td><td>--</td><td>1</td><td>22.137500762939453</td><td>22.137500762939453</td><td>--</td><td>--</td><td>--</td><td>0</td><td>--</td><td>--</td><td>--</td><td>0</td><td>272</td><td>--</td><td>--</td><td>--</td><td>--</td><td>0</td><td>--</td><td>--</td><td>--</td><td>--</td><td>--</td><td>0</td><td>--</td><td>--</td><td>--</td><td>0</td><td>0</td><td>--</td><td>--</td><td>--</td><td>--</td><td>0</td><td>--</td><td>--</td><td>--</td><td>--</td><td>--</td><td>0</td><td>--</td><td>--</td><td>--</td><td>0</td><td>0</td><td>--</td><td>--</td><td>--</td><td>--</td><td>0</td><td>--</td><td>--</td><td>--</td><td>--</td><td>--</td><td>0</td><td>--</td><td>--</td><td>--</td><td>0</td><td>0</td><td>--</td><td>--</td><td>--</td><td>--</td><td>0</td><td>--</td><td>--</td><td>--</td><td>--</td><td>--</td><td>0</td><td>--</td><td>--</td><td>--</td><td>0</td><td>0</td><td>0.1449274924230502</td></tr>\n",
       "<tr><td>PSO J013.5842-28.2720</td><td>-999</td><td>-999</td><td>-999</td><td>74070135841063950</td><td>3492331000300361</td><td>482707079730507</td><td>0</td><td>8919453583806</td><td>7407</td><td>1</td><td>638</td><td>95</td><td>0.0469293119822902</td><td>3492331</td><td>112389</td><td>3</td><td>302067712</td><td>36</td><td>--</td><td>--</td><td>--</td><td>--</td><td>13.58419152</td><td>-28.27203057</td><td>0.17377999424934387</td><td>0.17377999424934387</td><td>56602.34674769</td><td>--</td><td>0.8560715948047388</td><td>0.20685550891306478</td><td>-0.47365833994640905</td><td>0.09207721458154436</td><td>-31.12155510661133</td><td>273.8074741404084</td><td>-88.68854132445097</td><td>--</td><td>0</td><td>1</td><td>1</td><td>0</td><td>0</td><td>0</td><td>0</td><td>0.9996479749679565</td><td>21.901899337768555</td><td>0.1731320023536682</td><td>--</td><td>1</td><td>21.901899337768555</td><td>21.901899337768555</td><td>--</td><td>--</td><td>--</td><td>0</td><td>22.43630027770996</td><td>0.1731320023536682</td><td>--</td><td>1</td><td>272</td><td>--</td><td>--</td><td>--</td><td>--</td><td>0</td><td>--</td><td>--</td><td>--</td><td>--</td><td>--</td><td>0</td><td>--</td><td>--</td><td>--</td><td>0</td><td>0</td><td>--</td><td>--</td><td>--</td><td>--</td><td>0</td><td>--</td><td>--</td><td>--</td><td>--</td><td>--</td><td>0</td><td>--</td><td>--</td><td>--</td><td>0</td><td>0</td><td>--</td><td>--</td><td>--</td><td>--</td><td>0</td><td>--</td><td>--</td><td>--</td><td>--</td><td>--</td><td>0</td><td>--</td><td>--</td><td>--</td><td>0</td><td>0</td><td>--</td><td>--</td><td>--</td><td>--</td><td>0</td><td>--</td><td>--</td><td>--</td><td>--</td><td>--</td><td>0</td><td>--</td><td>--</td><td>--</td><td>0</td><td>0</td><td>0.14245749052458867</td></tr>\n",
       "<tr><td>PSO J013.5848-28.2732</td><td>-999</td><td>-999</td><td>-999</td><td>74070135847272547</td><td>3492331000300511</td><td>482707079730657</td><td>0</td><td>8919453556458</td><td>7407</td><td>1</td><td>638</td><td>95</td><td>0.110283617032956</td><td>3492331</td><td>112389</td><td>3</td><td>302067712</td><td>36</td><td>--</td><td>--</td><td>--</td><td>--</td><td>13.58481328</td><td>-28.27320077</td><td>0.2020999938249588</td><td>0.2020999938249588</td><td>56602.34674769</td><td>--</td><td>0.8560599465506226</td><td>0.20686252648602504</td><td>-0.473676327303322</td><td>0.0920305150169195</td><td>-31.122846470499482</td><td>273.81178554729183</td><td>-88.68725311936541</td><td>--</td><td>0</td><td>1</td><td>1</td><td>0</td><td>0</td><td>0</td><td>0</td><td>0.999180018901825</td><td>22.07509994506836</td><td>0.20153899490833282</td><td>--</td><td>1</td><td>22.07509994506836</td><td>22.07509994506836</td><td>--</td><td>--</td><td>--</td><td>1</td><td>22.09939956665039</td><td>0.20153899490833282</td><td>--</td><td>1</td><td>272</td><td>--</td><td>--</td><td>--</td><td>--</td><td>0</td><td>--</td><td>--</td><td>--</td><td>--</td><td>--</td><td>0</td><td>--</td><td>--</td><td>--</td><td>0</td><td>0</td><td>--</td><td>--</td><td>--</td><td>--</td><td>0</td><td>--</td><td>--</td><td>--</td><td>--</td><td>--</td><td>0</td><td>--</td><td>--</td><td>--</td><td>0</td><td>0</td><td>--</td><td>--</td><td>--</td><td>--</td><td>0</td><td>--</td><td>--</td><td>--</td><td>--</td><td>--</td><td>0</td><td>--</td><td>--</td><td>--</td><td>0</td><td>0</td><td>--</td><td>--</td><td>--</td><td>--</td><td>0</td><td>--</td><td>--</td><td>--</td><td>--</td><td>--</td><td>0</td><td>--</td><td>--</td><td>--</td><td>0</td><td>0</td><td>0.14165980830965808</td></tr>\n",
       "<tr><td>PSO J013.5849-28.2695</td><td>-999</td><td>-999</td><td>-999</td><td>74070135848046973</td><td>3492331000300530</td><td>482707079730676</td><td>0</td><td>8919453596673</td><td>7407</td><td>1</td><td>638</td><td>95</td><td>0.583038216999768</td><td>3492331</td><td>112389</td><td>3</td><td>302067712</td><td>36</td><td>--</td><td>--</td><td>--</td><td>--</td><td>13.58488459</td><td>-28.26950806</td><td>0.19154000282287598</td><td>0.19154000282287598</td><td>56602.35967593</td><td>--</td><td>0.8560893616332095</td><td>0.20687076219121808</td><td>-0.4736195653146821</td><td>0.09404418500266121</td><td>-31.119580222122245</td><td>273.72993326103494</td><td>-88.6904362222565</td><td>--</td><td>0</td><td>1</td><td>0</td><td>1</td><td>0</td><td>0</td><td>0</td><td>--</td><td>--</td><td>--</td><td>--</td><td>0</td><td>--</td><td>--</td><td>--</td><td>--</td><td>--</td><td>0</td><td>--</td><td>--</td><td>--</td><td>0</td><td>0</td><td>0.9996510148048401</td><td>21.77429962158203</td><td>0.19095000624656677</td><td>--</td><td>1</td><td>21.77429962158203</td><td>21.77429962158203</td><td>--</td><td>--</td><td>--</td><td>1</td><td>21.589399337768555</td><td>0.19095000624656677</td><td>--</td><td>1</td><td>272</td><td>--</td><td>--</td><td>--</td><td>--</td><td>0</td><td>--</td><td>--</td><td>--</td><td>--</td><td>--</td><td>0</td><td>--</td><td>--</td><td>--</td><td>0</td><td>0</td><td>--</td><td>--</td><td>--</td><td>--</td><td>0</td><td>--</td><td>--</td><td>--</td><td>--</td><td>--</td><td>0</td><td>--</td><td>--</td><td>--</td><td>0</td><td>0</td><td>--</td><td>--</td><td>--</td><td>--</td><td>0</td><td>--</td><td>--</td><td>--</td><td>--</td><td>--</td><td>0</td><td>--</td><td>--</td><td>--</td><td>0</td><td>0</td><td>0.14498757845551657</td></tr>\n",
       "<tr><td>PSO J013.5851-28.2701</td><td>-999</td><td>-999</td><td>-999</td><td>74070135850176292</td><td>3492331000300576</td><td>482707079730722</td><td>0</td><td>8919453584413</td><td>7407</td><td>1</td><td>638</td><td>95</td><td>0.718971513881322</td><td>3492331</td><td>112389</td><td>3</td><td>302067712</td><td>36</td><td>--</td><td>--</td><td>--</td><td>--</td><td>13.58506531</td><td>-28.27014294</td><td>0.14566999673843384</td><td>0.14566999673843384</td><td>56602.33875</td><td>2.101099967956543</td><td>0.8560836078436532</td><td>0.20687222970960462</td><td>-0.4736293244261497</td><td>0.09387512014104017</td><td>-31.120218546547992</td><td>273.73756632822165</td><td>-88.68980538199378</td><td>--</td><td>0</td><td>2</td><td>2</td><td>0</td><td>0</td><td>0</td><td>0</td><td>0.9989740252494812</td><td>22.07110023498535</td><td>0.178273007273674</td><td>0.26396098732948303</td><td>2</td><td>21.94809913635254</td><td>22.30459976196289</td><td>--</td><td>--</td><td>--</td><td>0</td><td>23.261899948120117</td><td>0.18169300258159637</td><td>--</td><td>1</td><td>272</td><td>--</td><td>--</td><td>--</td><td>--</td><td>0</td><td>--</td><td>--</td><td>--</td><td>--</td><td>--</td><td>0</td><td>--</td><td>--</td><td>--</td><td>0</td><td>0</td><td>--</td><td>--</td><td>--</td><td>--</td><td>0</td><td>--</td><td>--</td><td>--</td><td>--</td><td>--</td><td>0</td><td>--</td><td>--</td><td>--</td><td>0</td><td>0</td><td>--</td><td>--</td><td>--</td><td>--</td><td>0</td><td>--</td><td>--</td><td>--</td><td>--</td><td>--</td><td>0</td><td>--</td><td>--</td><td>--</td><td>0</td><td>0</td><td>--</td><td>--</td><td>--</td><td>--</td><td>0</td><td>--</td><td>--</td><td>--</td><td>--</td><td>--</td><td>0</td><td>--</td><td>--</td><td>--</td><td>0</td><td>0</td><td>0.14449001017119845</td></tr>\n",
       "<tr><td>PSO J013.5852-28.2676</td><td>-999</td><td>-999</td><td>-999</td><td>74070135851149273</td><td>3492331000300593</td><td>482707079730739</td><td>0</td><td>8919453595990</td><td>7407</td><td>1</td><td>638</td><td>95</td><td>0.222079522183239</td><td>3492331</td><td>112389</td><td>3</td><td>302067712</td><td>36</td><td>--</td><td>--</td><td>--</td><td>--</td><td>13.58519858</td><td>-28.2675945</td><td>0.1766500025987625</td><td>0.1766500025987625</td><td>56602.34674769</td><td>--</td><td>0.8561036028096645</td><td>0.20687916906364834</td><td>-0.47359015051397185</td><td>0.09534190199232144</td><td>-31.117997841655107</td><td>273.6780652082699</td><td>-88.69196417709533</td><td>--</td><td>0</td><td>1</td><td>1</td><td>0</td><td>0</td><td>0</td><td>0</td><td>0.9984670281410217</td><td>21.946800231933594</td><td>0.17600999772548676</td><td>--</td><td>1</td><td>21.946800231933594</td><td>21.946800231933594</td><td>22.109899520874023</td><td>0.3081449866294861</td><td>--</td><td>1</td><td>22.13990020751953</td><td>0.17600999772548676</td><td>--</td><td>1</td><td>272</td><td>--</td><td>--</td><td>--</td><td>--</td><td>0</td><td>--</td><td>--</td><td>--</td><td>--</td><td>--</td><td>0</td><td>--</td><td>--</td><td>--</td><td>0</td><td>0</td><td>--</td><td>--</td><td>--</td><td>--</td><td>0</td><td>--</td><td>--</td><td>--</td><td>--</td><td>--</td><td>0</td><td>--</td><td>--</td><td>--</td><td>0</td><td>0</td><td>--</td><td>--</td><td>--</td><td>--</td><td>0</td><td>--</td><td>--</td><td>--</td><td>--</td><td>--</td><td>0</td><td>--</td><td>--</td><td>--</td><td>0</td><td>0</td><td>--</td><td>--</td><td>--</td><td>--</td><td>0</td><td>--</td><td>--</td><td>--</td><td>--</td><td>--</td><td>0</td><td>--</td><td>--</td><td>--</td><td>0</td><td>0</td><td>0.1468261865300985</td></tr>\n",
       "<tr><td>PSO J013.5854-28.2748</td><td>-999</td><td>-999</td><td>-999</td><td>74070135852850632</td><td>3492331000300622</td><td>482707079730768</td><td>0</td><td>8919453555991</td><td>7407</td><td>1</td><td>638</td><td>95</td><td>0.867001036989504</td><td>3492331</td><td>112389</td><td>3</td><td>302067712</td><td>36</td><td>--</td><td>--</td><td>--</td><td>--</td><td>13.58537087</td><td>-28.2747967</td><td>0.1786700040102005</td><td>0.1786700040102005</td><td>56602.34674769</td><td>--</td><td>0.8560451082980455</td><td>0.2068677582192432</td><td>-0.47370085831496256</td><td>0.09170027792444752</td><td>-31.124492136932865</td><td>273.8273604787227</td><td>-88.6856219662267</td><td>--</td><td>0</td><td>1</td><td>1</td><td>0</td><td>0</td><td>0</td><td>0</td><td>0.9995499849319458</td><td>21.936899185180664</td><td>0.17803899943828583</td><td>--</td><td>1</td><td>21.936899185180664</td><td>21.936899185180664</td><td>21.70210075378418</td><td>0.21243999898433685</td><td>--</td><td>1</td><td>22.348400115966797</td><td>0.17803899943828583</td><td>--</td><td>1</td><td>272</td><td>--</td><td>--</td><td>--</td><td>--</td><td>0</td><td>--</td><td>--</td><td>--</td><td>--</td><td>--</td><td>0</td><td>--</td><td>--</td><td>--</td><td>0</td><td>0</td><td>--</td><td>--</td><td>--</td><td>--</td><td>0</td><td>--</td><td>--</td><td>--</td><td>--</td><td>--</td><td>0</td><td>--</td><td>--</td><td>--</td><td>0</td><td>0</td><td>--</td><td>--</td><td>--</td><td>--</td><td>0</td><td>--</td><td>--</td><td>--</td><td>--</td><td>--</td><td>0</td><td>--</td><td>--</td><td>--</td><td>0</td><td>0</td><td>--</td><td>--</td><td>--</td><td>--</td><td>0</td><td>--</td><td>--</td><td>--</td><td>--</td><td>--</td><td>0</td><td>--</td><td>--</td><td>--</td><td>0</td><td>0</td><td>0.1404655879879199</td></tr>\n",
       "<tr><td>PSO J013.5856-28.2677</td><td>-999</td><td>-999</td><td>-999</td><td>74070135855109099</td><td>3492331000300677</td><td>482707079730823</td><td>0</td><td>8919453596639</td><td>7407</td><td>1</td><td>638</td><td>95</td><td>0.60029010437456</td><td>3492331</td><td>112389</td><td>3</td><td>276901888</td><td>33</td><td>--</td><td>--</td><td>--</td><td>--</td><td>13.58559059</td><td>-28.26773648</td><td>0.025059999898076057</td><td>0.025059999898076057</td><td>56196.46555556</td><td>--</td><td>0.856101046618698</td><td>0.2068847507359072</td><td>-0.4735923330157611</td><td>0.09562681958652088</td><td>-31.1182804488965</td><td>273.66798678850296</td><td>-88.6916702022228</td><td>--</td><td>0</td><td>1</td><td>0</td><td>1</td><td>0</td><td>0</td><td>0</td><td>--</td><td>--</td><td>--</td><td>--</td><td>0</td><td>--</td><td>--</td><td>--</td><td>--</td><td>--</td><td>0</td><td>--</td><td>--</td><td>--</td><td>0</td><td>0</td><td>0.9982650279998779</td><td>18.888999938964844</td><td>0.020075999200344086</td><td>--</td><td>1</td><td>18.888999938964844</td><td>18.888999938964844</td><td>18.798200607299805</td><td>0.030260000377893448</td><td>--</td><td>1</td><td>18.630699157714844</td><td>0.020075999200344086</td><td>--</td><td>1</td><td>16777240</td><td>--</td><td>--</td><td>--</td><td>--</td><td>0</td><td>--</td><td>--</td><td>--</td><td>--</td><td>--</td><td>0</td><td>--</td><td>--</td><td>--</td><td>0</td><td>0</td><td>--</td><td>--</td><td>--</td><td>--</td><td>0</td><td>--</td><td>--</td><td>--</td><td>--</td><td>--</td><td>0</td><td>--</td><td>--</td><td>--</td><td>0</td><td>0</td><td>--</td><td>--</td><td>--</td><td>--</td><td>0</td><td>--</td><td>--</td><td>--</td><td>--</td><td>--</td><td>0</td><td>--</td><td>--</td><td>--</td><td>0</td><td>0</td><td>0.14685121614835803</td></tr>\n",
       "</table></div>"
      ],
      "text/plain": [
       "<Table masked=True length=57698>\n",
       "       objName        objAltName1 objAltName2 objAltName3       objID       ... yMeanApMagStd yMeanApMagNpt yFlags       distance     \n",
       "        str21             str4        str4        str4          int64       ...    float64        int64     int64        float64      \n",
       "--------------------- ----------- ----------- ----------- ----------------- ... ------------- ------------- ------ -------------------\n",
       "PSO J013.5259-28.4946        -999        -999        -999 73800135259126745 ...            --             0      0 0.09605890712655175\n",
       "PSO J013.5261-28.4961        -999        -999        -999 73800135261025105 ...            --             0      0   0.097504583351536\n",
       "PSO J013.5262-28.4971        -999        -999        -999 73800135261213795 ...            --             0      0 0.09856079277822932\n",
       "PSO J013.5262-28.4957        -999        -999        -999 73800135262165473 ...            --             0      0 0.09715147541427895\n",
       "PSO J013.5262-28.4943        -999        -999        -999 73800135262187050 ...            --             0      0 0.09579241392877594\n",
       "PSO J013.5266-28.4981        -999        -999        -999 73800135265412684 ...            --             0      0 0.09952358783870006\n",
       "PSO J013.5266-28.4928        -999        -999        -999 73800135265458982 ...            --             0      0 0.09432929183273582\n",
       "PSO J013.5268-28.4957        -999        -999        -999 73800135268525506 ...            --             0      0 0.09718603422544153\n",
       "PSO J013.5270-28.4948        -999        -999        -999 73800135269496631 ...            --             0      0 0.09635200465295482\n",
       "PSO J013.5271-28.4985        -999        -999        -999 73800135270492187 ...            --             0      0 0.09997434848298338\n",
       "PSO J013.5273-28.4956        -999        -999        -999 73800135272565596 ...            --             1   4120 0.09714765370558838\n",
       "PSO J013.5274-28.4924        -999        -999        -999 73800135274979433 ...            --             0      0 0.09402013646121128\n",
       "PSO J013.5275-28.4958        -999        -999        -999 73800135275535293 ...            --             0      0 0.09744767686484014\n",
       "PSO J013.5279-28.4932        -999        -999        -999 73800135279538474 ...            --             0      0  0.0948686991521346\n",
       "                  ...         ...         ...         ...               ... ...           ...           ...    ...                 ...\n",
       "PSO J013.5824-28.2678        -999        -999        -999 74070135823819212 ...            --             0      0 0.14557466193639587\n",
       "PSO J013.5827-28.2739        -999        -999        -999 74070135826311877 ...            --             0 114720  0.1402158098091211\n",
       "PSO J013.5828-28.2715        -999        -999        -999 74070135826394602 ...            --             0      0 0.14237069363645952\n",
       "PSO J013.5828-28.2728        -999        -999        -999 74070135827483178 ...            --             0      0 0.14122671969365141\n",
       "PSO J013.5830-28.2740        -999        -999        -999 74070135828861613 ...            --             0      0   0.140234794793274\n",
       "PSO J013.5830-28.2691        -999        -999        -999 74070135829597428 ...            --             0      0  0.1446142208926794\n",
       "PSO J013.5840-28.2692        -999        -999        -999 74070135838907382 ...            --             0      0  0.1449274924230502\n",
       "PSO J013.5842-28.2720        -999        -999        -999 74070135841063950 ...            --             0      0 0.14245749052458867\n",
       "PSO J013.5848-28.2732        -999        -999        -999 74070135847272547 ...            --             0      0 0.14165980830965808\n",
       "PSO J013.5849-28.2695        -999        -999        -999 74070135848046973 ...            --             0      0 0.14498757845551657\n",
       "PSO J013.5851-28.2701        -999        -999        -999 74070135850176292 ...            --             0      0 0.14449001017119845\n",
       "PSO J013.5852-28.2676        -999        -999        -999 74070135851149273 ...            --             0      0  0.1468261865300985\n",
       "PSO J013.5854-28.2748        -999        -999        -999 74070135852850632 ...            --             0      0  0.1404655879879199\n",
       "PSO J013.5856-28.2677        -999        -999        -999 74070135855109099 ...            --             0      0 0.14685121614835803"
      ]
     },
     "execution_count": 28,
     "metadata": {},
     "output_type": "execute_result"
    }
   ],
   "source": [
    "catalog_data_panstarrs"
   ]
  },
  {
   "cell_type": "code",
   "execution_count": 29,
   "id": "0ff82095-72b9-48fd-a871-aa4965c58574",
   "metadata": {},
   "outputs": [],
   "source": [
    "catalog_data_panstarrs_mean = Catalogs.query_region(target_name_simbad, radius=0.25,catalog=\"Panstarrs\", data_release=\"dr2\", table=\"mean\")"
   ]
  },
  {
   "cell_type": "code",
   "execution_count": 30,
   "id": "9615c905-f5e2-492d-8535-19b5ca8d5c3f",
   "metadata": {},
   "outputs": [
    {
     "data": {
      "text/html": [
       "<div><i>Table masked=True length=87435</i>\n",
       "<table id=\"table140216529021200\" class=\"table-striped table-bordered table-condensed\">\n",
       "<thead><tr><th>objName</th><th>objAltName1</th><th>objAltName2</th><th>objAltName3</th><th>objID</th><th>uniquePspsOBid</th><th>ippObjID</th><th>surveyID</th><th>htmID</th><th>zoneID</th><th>tessID</th><th>projectionID</th><th>skyCellID</th><th>randomID</th><th>batchID</th><th>dvoRegionID</th><th>processingVersion</th><th>objInfoFlag</th><th>qualityFlag</th><th>raStack</th><th>decStack</th><th>raStackErr</th><th>decStackErr</th><th>raMean</th><th>decMean</th><th>raMeanErr</th><th>decMeanErr</th><th>epochMean</th><th>posMeanChisq</th><th>cx</th><th>cy</th><th>cz</th><th>lambda</th><th>beta</th><th>l</th><th>b</th><th>nStackObjectRows</th><th>nStackDetections</th><th>nDetections</th><th>ng</th><th>nr</th><th>ni</th><th>nz</th><th>ny</th><th>gQfPerfect</th><th>gMeanPSFMag</th><th>gMeanPSFMagErr</th><th>gMeanPSFMagStd</th><th>gMeanPSFMagNpt</th><th>gMeanPSFMagMin</th><th>gMeanPSFMagMax</th><th>gMeanKronMag</th><th>gMeanKronMagErr</th><th>gMeanKronMagStd</th><th>gMeanKronMagNpt</th><th>gMeanApMag</th><th>gMeanApMagErr</th><th>gMeanApMagStd</th><th>gMeanApMagNpt</th><th>gFlags</th><th>rQfPerfect</th><th>rMeanPSFMag</th><th>rMeanPSFMagErr</th><th>rMeanPSFMagStd</th><th>rMeanPSFMagNpt</th><th>rMeanPSFMagMin</th><th>rMeanPSFMagMax</th><th>rMeanKronMag</th><th>rMeanKronMagErr</th><th>rMeanKronMagStd</th><th>rMeanKronMagNpt</th><th>rMeanApMag</th><th>rMeanApMagErr</th><th>rMeanApMagStd</th><th>rMeanApMagNpt</th><th>rFlags</th><th>iQfPerfect</th><th>iMeanPSFMag</th><th>iMeanPSFMagErr</th><th>iMeanPSFMagStd</th><th>iMeanPSFMagNpt</th><th>iMeanPSFMagMin</th><th>iMeanPSFMagMax</th><th>iMeanKronMag</th><th>iMeanKronMagErr</th><th>iMeanKronMagStd</th><th>iMeanKronMagNpt</th><th>iMeanApMag</th><th>iMeanApMagErr</th><th>iMeanApMagStd</th><th>iMeanApMagNpt</th><th>iFlags</th><th>zQfPerfect</th><th>zMeanPSFMag</th><th>zMeanPSFMagErr</th><th>zMeanPSFMagStd</th><th>zMeanPSFMagNpt</th><th>zMeanPSFMagMin</th><th>zMeanPSFMagMax</th><th>zMeanKronMag</th><th>zMeanKronMagErr</th><th>zMeanKronMagStd</th><th>zMeanKronMagNpt</th><th>zMeanApMag</th><th>zMeanApMagErr</th><th>zMeanApMagStd</th><th>zMeanApMagNpt</th><th>zFlags</th><th>yQfPerfect</th><th>yMeanPSFMag</th><th>yMeanPSFMagErr</th><th>yMeanPSFMagStd</th><th>yMeanPSFMagNpt</th><th>yMeanPSFMagMin</th><th>yMeanPSFMagMax</th><th>yMeanKronMag</th><th>yMeanKronMagErr</th><th>yMeanKronMagStd</th><th>yMeanKronMagNpt</th><th>yMeanApMag</th><th>yMeanApMagErr</th><th>yMeanApMagStd</th><th>yMeanApMagNpt</th><th>yFlags</th><th>distance</th></tr></thead>\n",
       "<thead><tr><th>str21</th><th>str4</th><th>str4</th><th>str4</th><th>int64</th><th>int64</th><th>int64</th><th>uint8</th><th>int64</th><th>int64</th><th>uint8</th><th>int64</th><th>uint8</th><th>float64</th><th>int64</th><th>int64</th><th>uint8</th><th>int64</th><th>uint8</th><th>float64</th><th>float64</th><th>float64</th><th>float64</th><th>float64</th><th>float64</th><th>float64</th><th>float64</th><th>float64</th><th>float64</th><th>float64</th><th>float64</th><th>float64</th><th>float64</th><th>float64</th><th>float64</th><th>float64</th><th>int64</th><th>int64</th><th>int64</th><th>int64</th><th>int64</th><th>int64</th><th>int64</th><th>int64</th><th>float64</th><th>float64</th><th>float64</th><th>float64</th><th>int64</th><th>float64</th><th>float64</th><th>float64</th><th>float64</th><th>float64</th><th>int64</th><th>float64</th><th>float64</th><th>float64</th><th>int64</th><th>int64</th><th>float64</th><th>float64</th><th>float64</th><th>float64</th><th>int64</th><th>float64</th><th>float64</th><th>float64</th><th>float64</th><th>float64</th><th>int64</th><th>float64</th><th>float64</th><th>float64</th><th>int64</th><th>int64</th><th>float64</th><th>float64</th><th>float64</th><th>float64</th><th>int64</th><th>float64</th><th>float64</th><th>float64</th><th>float64</th><th>float64</th><th>int64</th><th>float64</th><th>float64</th><th>float64</th><th>int64</th><th>int64</th><th>float64</th><th>float64</th><th>float64</th><th>float64</th><th>int64</th><th>float64</th><th>float64</th><th>float64</th><th>float64</th><th>float64</th><th>int64</th><th>float64</th><th>float64</th><th>float64</th><th>int64</th><th>int64</th><th>float64</th><th>float64</th><th>float64</th><th>float64</th><th>int64</th><th>float64</th><th>float64</th><th>float64</th><th>float64</th><th>float64</th><th>int64</th><th>float64</th><th>float64</th><th>float64</th><th>int64</th><th>int64</th><th>float64</th></tr></thead>\n",
       "<tr><td>PSO J013.5251-28.4382</td><td>-999</td><td>-999</td><td>-999</td><td>73870135250534490</td><td>3492331000285974</td><td>482707079716120</td><td>0</td><td>8918571707263</td><td>7387</td><td>1</td><td>638</td><td>85</td><td>0.314983603837885</td><td>3492331</td><td>112389</td><td>3</td><td>310456320</td><td>37</td><td>--</td><td>--</td><td>--</td><td>--</td><td>13.52507353</td><td>-28.43819783</td><td>0.12647999823093414</td><td>0.12647999823093414</td><td>56602.35967593</td><td>--</td><td>0.8549453819589734</td><td>0.2056499699323803</td><td>-0.4762105455928462</td><td>359.9500377176596</td><td>-31.246262753875175</td><td>278.8809608903719</td><td>-88.56379346837385</td><td>--</td><td>0</td><td>1</td><td>0</td><td>1</td><td>0</td><td>0</td><td>0</td><td>--</td><td>--</td><td>--</td><td>--</td><td>0</td><td>--</td><td>--</td><td>--</td><td>--</td><td>--</td><td>0</td><td>--</td><td>--</td><td>--</td><td>0</td><td>0</td><td>0.9982399940490723</td><td>21.32229995727539</td><td>0.12558600306510925</td><td>--</td><td>1</td><td>21.32229995727539</td><td>21.32229995727539</td><td>20.5935001373291</td><td>0.12935499846935272</td><td>--</td><td>1</td><td>20.43120002746582</td><td>0.12558600306510925</td><td>--</td><td>1</td><td>16777488</td><td>--</td><td>--</td><td>--</td><td>--</td><td>0</td><td>--</td><td>--</td><td>--</td><td>--</td><td>--</td><td>0</td><td>--</td><td>--</td><td>--</td><td>0</td><td>0</td><td>--</td><td>--</td><td>--</td><td>--</td><td>0</td><td>--</td><td>--</td><td>--</td><td>--</td><td>--</td><td>0</td><td>--</td><td>--</td><td>--</td><td>0</td><td>0</td><td>--</td><td>--</td><td>--</td><td>--</td><td>0</td><td>--</td><td>--</td><td>--</td><td>--</td><td>--</td><td>0</td><td>--</td><td>--</td><td>--</td><td>0</td><td>0</td><td>0.04051090505729541</td></tr>\n",
       "<tr><td>PSO J013.5252-28.4365</td><td>-999</td><td>-999</td><td>-999</td><td>73870135251996502</td><td>3492331000286016</td><td>482707079716162</td><td>0</td><td>8918571707607</td><td>7387</td><td>1</td><td>638</td><td>85</td><td>0.0119426585845115</td><td>3492331</td><td>112389</td><td>3</td><td>310456320</td><td>37</td><td>--</td><td>--</td><td>--</td><td>--</td><td>13.52522157</td><td>-28.43652561</td><td>0.18814000487327576</td><td>0.18814000487327576</td><td>56602.35967593</td><td>--</td><td>0.854958363348197</td><td>0.20565542934257192</td><td>-0.47618488145141147</td><td>359.9510582908762</td><td>-31.244830295321982</td><td>278.84867597245636</td><td>-88.56526287414658</td><td>--</td><td>0</td><td>1</td><td>0</td><td>1</td><td>0</td><td>0</td><td>0</td><td>--</td><td>--</td><td>--</td><td>--</td><td>0</td><td>--</td><td>--</td><td>--</td><td>--</td><td>--</td><td>0</td><td>--</td><td>--</td><td>--</td><td>0</td><td>0</td><td>0.9996340274810791</td><td>21.749500274658203</td><td>0.18754200637340546</td><td>--</td><td>1</td><td>21.749500274658203</td><td>21.749500274658203</td><td>21.006799697875977</td><td>0.21228599548339844</td><td>--</td><td>1</td><td>21.08049964904785</td><td>0.18754200637340546</td><td>--</td><td>1</td><td>16777488</td><td>--</td><td>--</td><td>--</td><td>--</td><td>0</td><td>--</td><td>--</td><td>--</td><td>--</td><td>--</td><td>0</td><td>--</td><td>--</td><td>--</td><td>0</td><td>0</td><td>--</td><td>--</td><td>--</td><td>--</td><td>0</td><td>--</td><td>--</td><td>--</td><td>--</td><td>--</td><td>0</td><td>--</td><td>--</td><td>--</td><td>0</td><td>0</td><td>--</td><td>--</td><td>--</td><td>--</td><td>0</td><td>--</td><td>--</td><td>--</td><td>--</td><td>--</td><td>0</td><td>--</td><td>--</td><td>--</td><td>0</td><td>0</td><td>0.038953759537144514</td></tr>\n",
       "<tr><td>PSO J013.5252-28.4396</td><td>-999</td><td>-999</td><td>-999</td><td>73870135252002780</td><td>3492331000286012</td><td>482707079716158</td><td>0</td><td>8918571738170</td><td>7387</td><td>1</td><td>638</td><td>85</td><td>0.711304545133658</td><td>3492331</td><td>112389</td><td>3</td><td>310456320</td><td>37</td><td>--</td><td>--</td><td>--</td><td>--</td><td>13.52520469</td><td>-28.4396333</td><td>0.09184999763965607</td><td>0.09184999763965607</td><td>56602.33422454</td><td>--</td><td>0.8549333109703062</td><td>0.20564913668684576</td><td>-0.4762325759262009</td><td>359.94939849016953</td><td>-31.247595124837698</td><td>278.9003749631603</td><td>-88.56243815291757</td><td>--</td><td>0</td><td>1</td><td>1</td><td>0</td><td>0</td><td>0</td><td>0</td><td>0.9997040033340454</td><td>21.367399215698242</td><td>0.0906200036406517</td><td>--</td><td>1</td><td>21.367399215698242</td><td>21.367399215698242</td><td>20.09869956970215</td><td>0.0793749988079071</td><td>--</td><td>1</td><td>20.410499572753906</td><td>0.0906200036406517</td><td>--</td><td>1</td><td>16777488</td><td>--</td><td>--</td><td>--</td><td>--</td><td>0</td><td>--</td><td>--</td><td>--</td><td>--</td><td>--</td><td>0</td><td>--</td><td>--</td><td>--</td><td>0</td><td>0</td><td>--</td><td>--</td><td>--</td><td>--</td><td>0</td><td>--</td><td>--</td><td>--</td><td>--</td><td>--</td><td>0</td><td>--</td><td>--</td><td>--</td><td>0</td><td>0</td><td>--</td><td>--</td><td>--</td><td>--</td><td>0</td><td>--</td><td>--</td><td>--</td><td>--</td><td>--</td><td>0</td><td>--</td><td>--</td><td>--</td><td>0</td><td>0</td><td>--</td><td>--</td><td>--</td><td>--</td><td>0</td><td>--</td><td>--</td><td>--</td><td>--</td><td>--</td><td>0</td><td>--</td><td>--</td><td>--</td><td>0</td><td>0</td><td>0.04191892713542472</td></tr>\n",
       "<tr><td>PSO J013.5252-28.4393</td><td>-999</td><td>-999</td><td>-999</td><td>73870135252173204</td><td>3492331000286019</td><td>482707079716165</td><td>0</td><td>8918571706393</td><td>7387</td><td>1</td><td>638</td><td>85</td><td>0.746286622012301</td><td>3492331</td><td>112389</td><td>3</td><td>310456320</td><td>37</td><td>--</td><td>--</td><td>--</td><td>--</td><td>13.52523267</td><td>-28.43929254</td><td>0.08156999945640564</td><td>0.08156999945640564</td><td>56602.34674769</td><td>--</td><td>0.8549359643165477</td><td>0.20565021659297358</td><td>-0.4762273462679328</td><td>359.94960446040466</td><td>-31.247302354263375</td><td>278.8938815083991</td><td>-88.56273846981685</td><td>--</td><td>0</td><td>1</td><td>1</td><td>0</td><td>0</td><td>0</td><td>0</td><td>0.9992120265960693</td><td>21.426799774169922</td><td>0.08017999678850174</td><td>--</td><td>1</td><td>21.426799774169922</td><td>21.426799774169922</td><td>20.125999450683594</td><td>0.0806329995393753</td><td>--</td><td>1</td><td>20.284099578857422</td><td>0.08017999678850174</td><td>--</td><td>1</td><td>16777488</td><td>--</td><td>--</td><td>--</td><td>--</td><td>0</td><td>--</td><td>--</td><td>--</td><td>--</td><td>--</td><td>0</td><td>--</td><td>--</td><td>--</td><td>0</td><td>0</td><td>--</td><td>--</td><td>--</td><td>--</td><td>0</td><td>--</td><td>--</td><td>--</td><td>--</td><td>--</td><td>0</td><td>--</td><td>--</td><td>--</td><td>0</td><td>0</td><td>--</td><td>--</td><td>--</td><td>--</td><td>0</td><td>--</td><td>--</td><td>--</td><td>--</td><td>--</td><td>0</td><td>--</td><td>--</td><td>--</td><td>0</td><td>0</td><td>--</td><td>--</td><td>--</td><td>--</td><td>0</td><td>--</td><td>--</td><td>--</td><td>--</td><td>--</td><td>0</td><td>--</td><td>--</td><td>--</td><td>0</td><td>0</td><td>0.041599362283160544</td></tr>\n",
       "<tr><td>PSO J013.5253-28.4402</td><td>-999</td><td>-999</td><td>-999</td><td>73870135253192027</td><td>3492331000286043</td><td>482707079716189</td><td>0</td><td>8918571742462</td><td>7387</td><td>1</td><td>638</td><td>85</td><td>0.86602044093052</td><td>3492331</td><td>112389</td><td>3</td><td>310456320</td><td>37</td><td>--</td><td>--</td><td>--</td><td>--</td><td>13.52533721</td><td>-28.44024874</td><td>0.18113000690937042</td><td>0.18113000690937042</td><td>56602.35967593</td><td>--</td><td>0.8549278617085362</td><td>0.20564991768547122</td><td>-0.47624202106747043</td><td>359.9491943981555</td><td>-31.24819670615677</td><td>278.90625206960334</td><td>-88.56182938651389</td><td>--</td><td>0</td><td>1</td><td>0</td><td>1</td><td>0</td><td>0</td><td>0</td><td>--</td><td>--</td><td>--</td><td>--</td><td>0</td><td>--</td><td>--</td><td>--</td><td>--</td><td>--</td><td>0</td><td>--</td><td>--</td><td>--</td><td>0</td><td>0</td><td>0.9985700249671936</td><td>21.714799880981445</td><td>0.18051199615001678</td><td>--</td><td>1</td><td>21.714799880981445</td><td>21.714799880981445</td><td>20.139799118041992</td><td>0.11075600236654282</td><td>--</td><td>1</td><td>20.642499923706055</td><td>0.18051199615001678</td><td>--</td><td>1</td><td>16777488</td><td>--</td><td>--</td><td>--</td><td>--</td><td>0</td><td>--</td><td>--</td><td>--</td><td>--</td><td>--</td><td>0</td><td>--</td><td>--</td><td>--</td><td>0</td><td>0</td><td>--</td><td>--</td><td>--</td><td>--</td><td>0</td><td>--</td><td>--</td><td>--</td><td>--</td><td>--</td><td>0</td><td>--</td><td>--</td><td>--</td><td>0</td><td>0</td><td>--</td><td>--</td><td>--</td><td>--</td><td>0</td><td>--</td><td>--</td><td>--</td><td>--</td><td>--</td><td>0</td><td>--</td><td>--</td><td>--</td><td>0</td><td>0</td><td>0.04254216500411849</td></tr>\n",
       "<tr><td>PSO J013.5259-28.4388</td><td>-999</td><td>-999</td><td>-999</td><td>73870135258343754</td><td>3492331000286178</td><td>482707079716324</td><td>0</td><td>8918571706468</td><td>7387</td><td>1</td><td>638</td><td>85</td><td>0.215253884173235</td><td>3492331</td><td>112389</td><td>3</td><td>310456320</td><td>37</td><td>--</td><td>--</td><td>--</td><td>--</td><td>13.5258501</td><td>-28.4388348</td><td>0.08522000163793564</td><td>0.08522000163793564</td><td>56602.34674769</td><td>--</td><td>0.8549374472053489</td><td>0.20566031936220908</td><td>-0.47622032128609904</td><td>359.95041301205885</td><td>-31.24713972654366</td><td>278.86663353230176</td><td>-88.56293149447318</td><td>--</td><td>0</td><td>1</td><td>1</td><td>0</td><td>0</td><td>0</td><td>0</td><td>0.998199999332428</td><td>21.46619987487793</td><td>0.08388499915599823</td><td>--</td><td>1</td><td>21.46619987487793</td><td>21.46619987487793</td><td>20.765100479125977</td><td>0.11891700327396393</td><td>--</td><td>1</td><td>20.59429931640625</td><td>0.08388499915599823</td><td>--</td><td>1</td><td>16777488</td><td>--</td><td>--</td><td>--</td><td>--</td><td>0</td><td>--</td><td>--</td><td>--</td><td>--</td><td>--</td><td>0</td><td>--</td><td>--</td><td>--</td><td>0</td><td>0</td><td>--</td><td>--</td><td>--</td><td>--</td><td>0</td><td>--</td><td>--</td><td>--</td><td>--</td><td>--</td><td>0</td><td>--</td><td>--</td><td>--</td><td>0</td><td>0</td><td>--</td><td>--</td><td>--</td><td>--</td><td>0</td><td>--</td><td>--</td><td>--</td><td>--</td><td>--</td><td>0</td><td>--</td><td>--</td><td>--</td><td>0</td><td>0</td><td>--</td><td>--</td><td>--</td><td>--</td><td>0</td><td>--</td><td>--</td><td>--</td><td>--</td><td>--</td><td>0</td><td>--</td><td>--</td><td>--</td><td>0</td><td>0</td><td>0.04132169363809879</td></tr>\n",
       "<tr><td>PSO J013.5259-28.4349</td><td>-999</td><td>-999</td><td>-999</td><td>73870135258348525</td><td>3492331000286183</td><td>482707079716329</td><td>0</td><td>8918571705937</td><td>7387</td><td>1</td><td>638</td><td>85</td><td>0.658058046976158</td><td>3492331</td><td>112389</td><td>3</td><td>302067712</td><td>36</td><td>--</td><td>--</td><td>--</td><td>--</td><td>13.52585368</td><td>-28.43486245</td><td>0.15257999300956726</td><td>0.15257999300956726</td><td>56602.34674769</td><td>--</td><td>0.8549695332011576</td><td>0.20566809435271793</td><td>-0.47615935595461756</td><td>359.9525180721552</td><td>-31.243598462713106</td><td>278.8009814531694</td><td>-88.56654749801909</td><td>--</td><td>0</td><td>1</td><td>1</td><td>0</td><td>0</td><td>0</td><td>0</td><td>0.9992210268974304</td><td>22.140199661254883</td><td>0.15183700621128082</td><td>--</td><td>1</td><td>22.140199661254883</td><td>22.140199661254883</td><td>21.848600387573242</td><td>0.23771299421787262</td><td>--</td><td>1</td><td>22.0935001373291</td><td>0.15183700621128082</td><td>--</td><td>1</td><td>272</td><td>--</td><td>--</td><td>--</td><td>--</td><td>0</td><td>--</td><td>--</td><td>--</td><td>--</td><td>--</td><td>0</td><td>--</td><td>--</td><td>--</td><td>0</td><td>0</td><td>--</td><td>--</td><td>--</td><td>--</td><td>0</td><td>--</td><td>--</td><td>--</td><td>--</td><td>--</td><td>0</td><td>--</td><td>--</td><td>--</td><td>0</td><td>0</td><td>--</td><td>--</td><td>--</td><td>--</td><td>0</td><td>--</td><td>--</td><td>--</td><td>--</td><td>--</td><td>0</td><td>--</td><td>--</td><td>--</td><td>0</td><td>0</td><td>--</td><td>--</td><td>--</td><td>--</td><td>0</td><td>--</td><td>--</td><td>--</td><td>--</td><td>--</td><td>0</td><td>--</td><td>--</td><td>--</td><td>0</td><td>0</td><td>0.03755484583079019</td></tr>\n",
       "<tr><td>PSO J013.5262-28.4382</td><td>-999</td><td>-999</td><td>-999</td><td>73870135261634538</td><td>3492331000286266</td><td>482707079716412</td><td>0</td><td>8918571707320</td><td>7387</td><td>1</td><td>638</td><td>85</td><td>0.0386744756611758</td><td>3492331</td><td>112389</td><td>3</td><td>310456320</td><td>37</td><td>--</td><td>--</td><td>--</td><td>--</td><td>13.52616863</td><td>-28.43817001</td><td>0.0803999975323677</td><td>0.0803999975323677</td><td>56602.33422454</td><td>--</td><td>0.8549416760050328</td><td>0.2056663646328455</td><td>-0.4762101186329568</td><td>359.95105694410927</td><td>-31.246673548657363</td><td>278.84551307720494</td><td>-88.5634213246536</td><td>--</td><td>0</td><td>1</td><td>1</td><td>0</td><td>0</td><td>0</td><td>0</td><td>0.9994239807128906</td><td>21.182300567626953</td><td>0.07898800075054169</td><td>--</td><td>1</td><td>21.182300567626953</td><td>21.182300567626953</td><td>19.93829917907715</td><td>0.06633400171995163</td><td>--</td><td>1</td><td>20.09440040588379</td><td>0.07898800075054169</td><td>--</td><td>1</td><td>16777488</td><td>--</td><td>--</td><td>--</td><td>--</td><td>0</td><td>--</td><td>--</td><td>--</td><td>--</td><td>--</td><td>0</td><td>--</td><td>--</td><td>--</td><td>0</td><td>0</td><td>--</td><td>--</td><td>--</td><td>--</td><td>0</td><td>--</td><td>--</td><td>--</td><td>--</td><td>--</td><td>0</td><td>--</td><td>--</td><td>--</td><td>0</td><td>0</td><td>--</td><td>--</td><td>--</td><td>--</td><td>0</td><td>--</td><td>--</td><td>--</td><td>--</td><td>--</td><td>0</td><td>--</td><td>--</td><td>--</td><td>0</td><td>0</td><td>--</td><td>--</td><td>--</td><td>--</td><td>0</td><td>--</td><td>--</td><td>--</td><td>--</td><td>--</td><td>0</td><td>--</td><td>--</td><td>--</td><td>0</td><td>0</td><td>0.04077514883496943</td></tr>\n",
       "<tr><td>PSO J013.5266-28.4377</td><td>-999</td><td>-999</td><td>-999</td><td>73870135265625127</td><td>3492331000286362</td><td>482707079716508</td><td>0</td><td>8918571706821</td><td>7387</td><td>1</td><td>638</td><td>85</td><td>0.059122069793867</td><td>3492331</td><td>112389</td><td>3</td><td>268959744</td><td>32</td><td>--</td><td>--</td><td>--</td><td>--</td><td>13.52658123</td><td>-28.43766221</td><td>0.24427999556064606</td><td>0.24427999556064606</td><td>55549.20700231</td><td>--</td><td>0.8549442983736719</td><td>0.2056735084206233</td><td>-0.4762023252907336</td><td>359.95170409644834</td><td>-31.246384797906284</td><td>278.82396236203573</td><td>-88.56373381415257</td><td>--</td><td>0</td><td>1</td><td>0</td><td>0</td><td>0</td><td>1</td><td>0</td><td>--</td><td>--</td><td>--</td><td>--</td><td>0</td><td>--</td><td>--</td><td>--</td><td>--</td><td>--</td><td>0</td><td>--</td><td>--</td><td>--</td><td>0</td><td>0</td><td>--</td><td>--</td><td>--</td><td>--</td><td>0</td><td>--</td><td>--</td><td>--</td><td>--</td><td>--</td><td>0</td><td>--</td><td>--</td><td>--</td><td>0</td><td>0</td><td>--</td><td>--</td><td>--</td><td>--</td><td>0</td><td>--</td><td>--</td><td>--</td><td>--</td><td>--</td><td>0</td><td>--</td><td>--</td><td>--</td><td>0</td><td>0</td><td>0.6208969950675964</td><td>18.62779998779297</td><td>0.24382400512695312</td><td>--</td><td>1</td><td>18.62779998779297</td><td>18.62779998779297</td><td>--</td><td>--</td><td>--</td><td>0</td><td>--</td><td>--</td><td>--</td><td>0</td><td>4112</td><td>--</td><td>--</td><td>--</td><td>--</td><td>0</td><td>--</td><td>--</td><td>--</td><td>--</td><td>--</td><td>0</td><td>--</td><td>--</td><td>--</td><td>0</td><td>0</td><td>0.04040944661480985</td></tr>\n",
       "<tr><td>PSO J013.5267-28.4417</td><td>-999</td><td>-999</td><td>-999</td><td>73870135266580281</td><td>3492331000286372</td><td>482707079716518</td><td>0</td><td>8918571744423</td><td>7387</td><td>1</td><td>638</td><td>85</td><td>0.0233956743249629</td><td>3492331</td><td>112389</td><td>3</td><td>310456320</td><td>37</td><td>--</td><td>--</td><td>--</td><td>--</td><td>13.52667222</td><td>-28.44171432</td><td>0.14045000076293945</td><td>0.14045000076293945</td><td>56602.37108796</td><td>--</td><td>0.8549112255113319</td><td>0.20566698833593575</td><td>-0.4762645130634224</td><td>359.94964345984044</td><td>-31.250034787466692</td><td>278.887723545536</td><td>-88.56001021012638</td><td>--</td><td>0</td><td>1</td><td>0</td><td>1</td><td>0</td><td>0</td><td>0</td><td>--</td><td>--</td><td>--</td><td>--</td><td>0</td><td>--</td><td>--</td><td>--</td><td>--</td><td>--</td><td>0</td><td>--</td><td>--</td><td>--</td><td>0</td><td>0</td><td>0.9984580278396606</td><td>21.40570068359375</td><td>0.13964399695396423</td><td>--</td><td>1</td><td>21.40570068359375</td><td>21.40570068359375</td><td>20.436399459838867</td><td>0.13451699912548065</td><td>--</td><td>1</td><td>20.71769905090332</td><td>0.13964399695396423</td><td>--</td><td>1</td><td>16777488</td><td>--</td><td>--</td><td>--</td><td>--</td><td>0</td><td>--</td><td>--</td><td>--</td><td>--</td><td>--</td><td>0</td><td>--</td><td>--</td><td>--</td><td>0</td><td>0</td><td>--</td><td>--</td><td>--</td><td>--</td><td>0</td><td>--</td><td>--</td><td>--</td><td>--</td><td>--</td><td>0</td><td>--</td><td>--</td><td>--</td><td>0</td><td>0</td><td>--</td><td>--</td><td>--</td><td>--</td><td>0</td><td>--</td><td>--</td><td>--</td><td>--</td><td>--</td><td>0</td><td>--</td><td>--</td><td>--</td><td>0</td><td>0</td><td>0.044285470133716184</td></tr>\n",
       "<tr><td>PSO J013.5267-28.4357</td><td>-999</td><td>-999</td><td>-999</td><td>73870135266817512</td><td>3492331000286389</td><td>482707079716535</td><td>0</td><td>8918571707984</td><td>7387</td><td>1</td><td>638</td><td>85</td><td>0.0388315217931117</td><td>3492331</td><td>112389</td><td>3</td><td>268959744</td><td>32</td><td>--</td><td>--</td><td>--</td><td>--</td><td>13.52670091</td><td>-28.4356752</td><td>0.27886998653411865</td><td>0.27886998653411865</td><td>55549.20700231</td><td>--</td><td>0.8549599247789923</td><td>0.20567915686035468</td><td>-0.4761718297580333</td><td>359.9528652065018</td><td>-31.244660314470035</td><td>278.7873217155046</td><td>-88.56549928001058</td><td>--</td><td>0</td><td>1</td><td>0</td><td>0</td><td>0</td><td>1</td><td>0</td><td>--</td><td>--</td><td>--</td><td>--</td><td>0</td><td>--</td><td>--</td><td>--</td><td>--</td><td>--</td><td>0</td><td>--</td><td>--</td><td>--</td><td>0</td><td>0</td><td>--</td><td>--</td><td>--</td><td>--</td><td>0</td><td>--</td><td>--</td><td>--</td><td>--</td><td>--</td><td>0</td><td>--</td><td>--</td><td>--</td><td>0</td><td>0</td><td>--</td><td>--</td><td>--</td><td>--</td><td>0</td><td>--</td><td>--</td><td>--</td><td>--</td><td>--</td><td>0</td><td>--</td><td>--</td><td>--</td><td>0</td><td>0</td><td>0.6659839749336243</td><td>18.843700408935547</td><td>0.2784630060195923</td><td>--</td><td>1</td><td>18.843700408935547</td><td>18.843700408935547</td><td>--</td><td>--</td><td>--</td><td>0</td><td>19.576200485229492</td><td>0.2784630060195923</td><td>--</td><td>1</td><td>4112</td><td>--</td><td>--</td><td>--</td><td>--</td><td>0</td><td>--</td><td>--</td><td>--</td><td>--</td><td>--</td><td>0</td><td>--</td><td>--</td><td>--</td><td>0</td><td>0</td><td>0.03857137402518547</td></tr>\n",
       "<tr><td>PSO J013.5270-28.4354</td><td>-999</td><td>-999</td><td>-999</td><td>73870135269217919</td><td>3492331000286441</td><td>482707079716587</td><td>0</td><td>8918571708154</td><td>7387</td><td>1</td><td>638</td><td>85</td><td>0.565437958171068</td><td>3492331</td><td>112389</td><td>3</td><td>310456320</td><td>37</td><td>--</td><td>--</td><td>--</td><td>--</td><td>13.52695439</td><td>-28.43537181</td><td>0.11657000333070755</td><td>0.11657000333070755</td><td>56602.36693287</td><td>0.2198999971151352</td><td>0.8549614662812014</td><td>0.20568352901322934</td><td>-0.47616717344537945</td><td>359.95325824048234</td><td>-31.2444905677558</td><td>278.7741979298266</td><td>-88.56568313521724</td><td>--</td><td>0</td><td>2</td><td>0</td><td>2</td><td>0</td><td>0</td><td>0</td><td>--</td><td>--</td><td>--</td><td>--</td><td>0</td><td>--</td><td>--</td><td>--</td><td>--</td><td>--</td><td>0</td><td>--</td><td>--</td><td>--</td><td>0</td><td>0</td><td>0.9991769790649414</td><td>21.55299949645996</td><td>0.17970600724220276</td><td>0.267549991607666</td><td>2</td><td>21.43239974975586</td><td>21.791900634765625</td><td>20.039600372314453</td><td>0.23843200504779816</td><td>0.39924898743629456</td><td>2</td><td>20.66659927368164</td><td>0.14959299564361572</td><td>0.22141499817371368</td><td>2</td><td>16777488</td><td>--</td><td>--</td><td>--</td><td>--</td><td>0</td><td>--</td><td>--</td><td>--</td><td>--</td><td>--</td><td>0</td><td>--</td><td>--</td><td>--</td><td>0</td><td>0</td><td>--</td><td>--</td><td>--</td><td>--</td><td>0</td><td>--</td><td>--</td><td>--</td><td>--</td><td>--</td><td>0</td><td>--</td><td>--</td><td>--</td><td>0</td><td>0</td><td>--</td><td>--</td><td>--</td><td>--</td><td>0</td><td>--</td><td>--</td><td>--</td><td>--</td><td>--</td><td>0</td><td>--</td><td>--</td><td>--</td><td>0</td><td>0</td><td>0.038364054517863996</td></tr>\n",
       "<tr><td>PSO J013.5275-28.4419</td><td>-999</td><td>-999</td><td>-999</td><td>73870135274970065</td><td>3492331000286579</td><td>482707079716725</td><td>0</td><td>8918571745245</td><td>7387</td><td>1</td><td>638</td><td>85</td><td>0.532762005490029</td><td>3492331</td><td>112389</td><td>3</td><td>310456320</td><td>37</td><td>--</td><td>--</td><td>--</td><td>--</td><td>13.52750936</td><td>-28.44190652</td><td>0.08472000062465668</td><td>0.08472000062465668</td><td>56602.34674769</td><td>--</td><td>0.854906667127893</td><td>0.2056791055843777</td><td>-0.4762674626995724</td><td>359.9503096409856</td><td>-31.250539191471695</td><td>278.8642005866282</td><td>-88.55953142975785</td><td>--</td><td>0</td><td>1</td><td>1</td><td>0</td><td>0</td><td>0</td><td>0</td><td>0.9997040033340454</td><td>21.479000091552734</td><td>0.08337900042533875</td><td>--</td><td>1</td><td>21.479000091552734</td><td>21.479000091552734</td><td>20.335599899291992</td><td>0.10339800268411636</td><td>--</td><td>1</td><td>20.603500366210938</td><td>0.08337900042533875</td><td>--</td><td>1</td><td>16777488</td><td>--</td><td>--</td><td>--</td><td>--</td><td>0</td><td>--</td><td>--</td><td>--</td><td>--</td><td>--</td><td>0</td><td>--</td><td>--</td><td>--</td><td>0</td><td>0</td><td>--</td><td>--</td><td>--</td><td>--</td><td>0</td><td>--</td><td>--</td><td>--</td><td>--</td><td>--</td><td>0</td><td>--</td><td>--</td><td>--</td><td>0</td><td>0</td><td>--</td><td>--</td><td>--</td><td>--</td><td>0</td><td>--</td><td>--</td><td>--</td><td>--</td><td>--</td><td>0</td><td>--</td><td>--</td><td>--</td><td>0</td><td>0</td><td>--</td><td>--</td><td>--</td><td>--</td><td>0</td><td>--</td><td>--</td><td>--</td><td>--</td><td>--</td><td>0</td><td>--</td><td>--</td><td>--</td><td>0</td><td>0</td><td>0.0446929523581623</td></tr>\n",
       "<tr><td>PSO J013.5275-28.4348</td><td>-999</td><td>-999</td><td>-999</td><td>73870135275168549</td><td>3492331000286594</td><td>482707079716740</td><td>0</td><td>8918571704601</td><td>7387</td><td>1</td><td>638</td><td>85</td><td>0.694170526875342</td><td>3492331</td><td>112389</td><td>3</td><td>302067712</td><td>36</td><td>--</td><td>--</td><td>--</td><td>--</td><td>13.52753567</td><td>-28.4348423</td><td>0.19294999539852142</td><td>0.19294999539852142</td><td>56602.34674769</td><td>--</td><td>0.8549636579978163</td><td>0.20569323214540838</td><td>-0.47615904669823117</td><td>359.9540715979692</td><td>-31.24424954909089</td><td>278.74684393616093</td><td>-88.56595320439905</td><td>--</td><td>0</td><td>1</td><td>1</td><td>0</td><td>0</td><td>0</td><td>0</td><td>0.9986299872398376</td><td>22.386999130249023</td><td>0.1923689991235733</td><td>--</td><td>1</td><td>22.386999130249023</td><td>22.386999130249023</td><td>--</td><td>--</td><td>--</td><td>0</td><td>23.59589958190918</td><td>0.1923689991235733</td><td>--</td><td>1</td><td>272</td><td>--</td><td>--</td><td>--</td><td>--</td><td>0</td><td>--</td><td>--</td><td>--</td><td>--</td><td>--</td><td>0</td><td>--</td><td>--</td><td>--</td><td>0</td><td>0</td><td>--</td><td>--</td><td>--</td><td>--</td><td>0</td><td>--</td><td>--</td><td>--</td><td>--</td><td>--</td><td>0</td><td>--</td><td>--</td><td>--</td><td>0</td><td>0</td><td>--</td><td>--</td><td>--</td><td>--</td><td>0</td><td>--</td><td>--</td><td>--</td><td>--</td><td>--</td><td>0</td><td>--</td><td>--</td><td>--</td><td>0</td><td>0</td><td>--</td><td>--</td><td>--</td><td>--</td><td>0</td><td>--</td><td>--</td><td>--</td><td>--</td><td>--</td><td>0</td><td>--</td><td>--</td><td>--</td><td>0</td><td>0</td><td>0.03805306446877718</td></tr>\n",
       "<tr><td>...</td><td>...</td><td>...</td><td>...</td><td>...</td><td>...</td><td>...</td><td>...</td><td>...</td><td>...</td><td>...</td><td>...</td><td>...</td><td>...</td><td>...</td><td>...</td><td>...</td><td>...</td><td>...</td><td>...</td><td>...</td><td>...</td><td>...</td><td>...</td><td>...</td><td>...</td><td>...</td><td>...</td><td>...</td><td>...</td><td>...</td><td>...</td><td>...</td><td>...</td><td>...</td><td>...</td><td>...</td><td>...</td><td>...</td><td>...</td><td>...</td><td>...</td><td>...</td><td>...</td><td>...</td><td>...</td><td>...</td><td>...</td><td>...</td><td>...</td><td>...</td><td>...</td><td>...</td><td>...</td><td>...</td><td>...</td><td>...</td><td>...</td><td>...</td><td>...</td><td>...</td><td>...</td><td>...</td><td>...</td><td>...</td><td>...</td><td>...</td><td>...</td><td>...</td><td>...</td><td>...</td><td>...</td><td>...</td><td>...</td><td>...</td><td>...</td><td>...</td><td>...</td><td>...</td><td>...</td><td>...</td><td>...</td><td>...</td><td>...</td><td>...</td><td>...</td><td>...</td><td>...</td><td>...</td><td>...</td><td>...</td><td>...</td><td>...</td><td>...</td><td>...</td><td>...</td><td>...</td><td>...</td><td>...</td><td>...</td><td>...</td><td>...</td><td>...</td><td>...</td><td>...</td><td>...</td><td>...</td><td>...</td><td>...</td><td>...</td><td>...</td><td>...</td><td>...</td><td>...</td><td>...</td><td>...</td><td>...</td><td>...</td><td>...</td><td>...</td><td>...</td><td>...</td><td>...</td><td>...</td><td>...</td></tr>\n",
       "<tr><td>PSO J013.6070-28.2321</td><td>-999</td><td>-999</td><td>-999</td><td>74120136069331602</td><td>3492917000000320</td><td>482711374397759</td><td>0</td><td>8919454880262</td><td>7412</td><td>1</td><td>638</td><td>95</td><td>0.718526811076819</td><td>3492917</td><td>112390</td><td>3</td><td>268959744</td><td>32</td><td>--</td><td>--</td><td>--</td><td>--</td><td>13.60695409</td><td>-28.23211438</td><td>0.21108999848365784</td><td>0.21108999848365784</td><td>56523.02539352</td><td>--</td><td>0.8563098608084351</td><td>0.20727317579010873</td><td>-0.4730446626695214</td><td>0.13402471573735433</td><td>-31.09499487625298</td><td>272.1559159171662</td><td>-88.7128960922678</td><td>--</td><td>0</td><td>2</td><td>1</td><td>1</td><td>0</td><td>0</td><td>0</td><td>0.6153410077095032</td><td>21.974300384521484</td><td>0.2403849959373474</td><td>--</td><td>1</td><td>21.974300384521484</td><td>21.974300384521484</td><td>--</td><td>--</td><td>--</td><td>0</td><td>26.127300262451172</td><td>0.2403849959373474</td><td>--</td><td>1</td><td>4112</td><td>0.4412109851837158</td><td>21.74679946899414</td><td>0.43808799982070923</td><td>--</td><td>1</td><td>21.74679946899414</td><td>21.74679946899414</td><td>--</td><td>--</td><td>--</td><td>0</td><td>--</td><td>--</td><td>--</td><td>0</td><td>4120</td><td>--</td><td>--</td><td>--</td><td>--</td><td>0</td><td>--</td><td>--</td><td>--</td><td>--</td><td>--</td><td>0</td><td>--</td><td>--</td><td>--</td><td>0</td><td>0</td><td>--</td><td>--</td><td>--</td><td>--</td><td>0</td><td>--</td><td>--</td><td>--</td><td>--</td><td>--</td><td>0</td><td>--</td><td>--</td><td>--</td><td>0</td><td>0</td><td>--</td><td>--</td><td>--</td><td>--</td><td>0</td><td>--</td><td>--</td><td>--</td><td>--</td><td>--</td><td>0</td><td>--</td><td>--</td><td>--</td><td>0</td><td>0</td><td>0.18717429841018393</td></tr>\n",
       "<tr><td>PSO J013.6071-28.2259</td><td>-999</td><td>-999</td><td>-999</td><td>74120136071009286</td><td>3492917000000349</td><td>482711374397788</td><td>0</td><td>8919454897595</td><td>7412</td><td>1</td><td>638</td><td>95</td><td>0.080352939740152</td><td>3492917</td><td>112390</td><td>3</td><td>268959744</td><td>32</td><td>--</td><td>--</td><td>--</td><td>--</td><td>13.6070986</td><td>-28.2258507</td><td>0.3832400143146515</td><td>0.3832400143146515</td><td>56622.27921296</td><td>--</td><td>0.8563595955029971</td><td>0.20728750070744173</td><td>-0.4729483430993341</td><td>0.1374596776859335</td><td>-31.089463369997553</td><td>272.00631457847305</td><td>-88.71818798142648</td><td>--</td><td>0</td><td>1</td><td>0</td><td>0</td><td>0</td><td>1</td><td>0</td><td>--</td><td>--</td><td>--</td><td>--</td><td>0</td><td>--</td><td>--</td><td>--</td><td>--</td><td>--</td><td>0</td><td>--</td><td>--</td><td>--</td><td>0</td><td>0</td><td>--</td><td>--</td><td>--</td><td>--</td><td>0</td><td>--</td><td>--</td><td>--</td><td>--</td><td>--</td><td>0</td><td>--</td><td>--</td><td>--</td><td>0</td><td>0</td><td>--</td><td>--</td><td>--</td><td>--</td><td>0</td><td>--</td><td>--</td><td>--</td><td>--</td><td>--</td><td>0</td><td>--</td><td>--</td><td>--</td><td>0</td><td>0</td><td>0.6149349808692932</td><td>21.947900772094727</td><td>0.38294801115989685</td><td>--</td><td>1</td><td>21.947900772094727</td><td>21.947900772094727</td><td>--</td><td>--</td><td>--</td><td>1</td><td>22.12929916381836</td><td>0.38294801115989685</td><td>--</td><td>1</td><td>4120</td><td>--</td><td>--</td><td>--</td><td>--</td><td>0</td><td>--</td><td>--</td><td>--</td><td>--</td><td>--</td><td>0</td><td>--</td><td>--</td><td>--</td><td>0</td><td>0</td><td>0.19285065235073706</td></tr>\n",
       "<tr><td>PSO J013.6075-28.2258</td><td>-999</td><td>-999</td><td>-999</td><td>74120136074179442</td><td>3492917000000418</td><td>482711374397857</td><td>0</td><td>8919454898104</td><td>7412</td><td>1</td><td>638</td><td>95</td><td>0.421755923351046</td><td>3492917</td><td>112390</td><td>3</td><td>302067712</td><td>36</td><td>--</td><td>--</td><td>--</td><td>--</td><td>13.60750407</td><td>-28.22579728</td><td>0.20915000140666962</td><td>0.20915000140666962</td><td>56602.33422454</td><td>--</td><td>0.8563585571299495</td><td>0.20729366471958793</td><td>-0.4729475216104153</td><td>0.13786008488997922</td><td>-31.089576989998747</td><td>271.9914266462298</td><td>-88.71804813925391</td><td>--</td><td>0</td><td>1</td><td>1</td><td>0</td><td>0</td><td>0</td><td>0</td><td>0.9899669885635376</td><td>22.074899673461914</td><td>0.2086080014705658</td><td>--</td><td>1</td><td>22.074899673461914</td><td>22.074899673461914</td><td>--</td><td>--</td><td>--</td><td>0</td><td>--</td><td>--</td><td>--</td><td>0</td><td>272</td><td>--</td><td>--</td><td>--</td><td>--</td><td>0</td><td>--</td><td>--</td><td>--</td><td>--</td><td>--</td><td>0</td><td>--</td><td>--</td><td>--</td><td>0</td><td>0</td><td>--</td><td>--</td><td>--</td><td>--</td><td>0</td><td>--</td><td>--</td><td>--</td><td>--</td><td>--</td><td>0</td><td>--</td><td>--</td><td>--</td><td>0</td><td>0</td><td>--</td><td>--</td><td>--</td><td>--</td><td>0</td><td>--</td><td>--</td><td>--</td><td>--</td><td>--</td><td>0</td><td>--</td><td>--</td><td>--</td><td>0</td><td>0</td><td>--</td><td>--</td><td>--</td><td>--</td><td>0</td><td>--</td><td>--</td><td>--</td><td>--</td><td>--</td><td>0</td><td>--</td><td>--</td><td>--</td><td>0</td><td>0</td><td>0.19305448275363368</td></tr>\n",
       "<tr><td>PSO J013.6075-28.2313</td><td>-999</td><td>-999</td><td>-999</td><td>74120136075102728</td><td>3492917000000456</td><td>482711374397895</td><td>0</td><td>8919454880368</td><td>7412</td><td>1</td><td>638</td><td>95</td><td>0.761426967346507</td><td>3492917</td><td>112390</td><td>3</td><td>268959744</td><td>32</td><td>--</td><td>--</td><td>--</td><td>--</td><td>13.60751048</td><td>-28.23132638</td><td>0.17594000697135925</td><td>0.17594000697135925</td><td>56602.33422454</td><td>--</td><td>0.8563141711473994</td><td>0.20728302188071301</td><td>-0.4730325455316391</td><td>0.13495097258036842</td><td>-31.094513078776068</td><td>272.11908910756193</td><td>-88.71331702152794</td><td>--</td><td>0</td><td>1</td><td>1</td><td>0</td><td>0</td><td>0</td><td>0</td><td>0.6048070192337036</td><td>21.583499908447266</td><td>0.17529800534248352</td><td>--</td><td>1</td><td>21.583499908447266</td><td>21.583499908447266</td><td>--</td><td>--</td><td>--</td><td>0</td><td>24.00779914855957</td><td>0.17529800534248352</td><td>--</td><td>1</td><td>4112</td><td>--</td><td>--</td><td>--</td><td>--</td><td>0</td><td>--</td><td>--</td><td>--</td><td>--</td><td>--</td><td>0</td><td>--</td><td>--</td><td>--</td><td>0</td><td>0</td><td>--</td><td>--</td><td>--</td><td>--</td><td>0</td><td>--</td><td>--</td><td>--</td><td>--</td><td>--</td><td>0</td><td>--</td><td>--</td><td>--</td><td>0</td><td>0</td><td>--</td><td>--</td><td>--</td><td>--</td><td>0</td><td>--</td><td>--</td><td>--</td><td>--</td><td>--</td><td>0</td><td>--</td><td>--</td><td>--</td><td>0</td><td>0</td><td>--</td><td>--</td><td>--</td><td>--</td><td>0</td><td>--</td><td>--</td><td>--</td><td>--</td><td>--</td><td>0</td><td>--</td><td>--</td><td>--</td><td>0</td><td>0</td><td>0.18809840803528066</td></tr>\n",
       "<tr><td>PSO J013.6077-28.2285</td><td>-999</td><td>-999</td><td>-999</td><td>74120136077006072</td><td>3492917000000492</td><td>482711374397931</td><td>0</td><td>8919454896780</td><td>7412</td><td>1</td><td>638</td><td>95</td><td>0.18126538319631</td><td>3492917</td><td>112390</td><td>3</td><td>268959744</td><td>32</td><td>--</td><td>--</td><td>--</td><td>--</td><td>13.60770325</td><td>-28.22853023</td><td>0.17587000131607056</td><td>0.17587000131607056</td><td>56602.34674769</td><td>--</td><td>0.8563359096618653</td><td>0.20729133393657873</td><td>-0.47298954819147876</td><td>0.13660214198144077</td><td>-31.0920948005006</td><td>272.04805717535805</td><td>-88.71562088088645</td><td>--</td><td>0</td><td>1</td><td>1</td><td>0</td><td>0</td><td>0</td><td>0</td><td>0.717303991317749</td><td>21.7898006439209</td><td>0.17523199319839478</td><td>--</td><td>1</td><td>21.7898006439209</td><td>21.7898006439209</td><td>--</td><td>--</td><td>--</td><td>0</td><td>22.20549964904785</td><td>0.17523199319839478</td><td>--</td><td>1</td><td>4112</td><td>--</td><td>--</td><td>--</td><td>--</td><td>0</td><td>--</td><td>--</td><td>--</td><td>--</td><td>--</td><td>0</td><td>--</td><td>--</td><td>--</td><td>0</td><td>0</td><td>--</td><td>--</td><td>--</td><td>--</td><td>0</td><td>--</td><td>--</td><td>--</td><td>--</td><td>--</td><td>0</td><td>--</td><td>--</td><td>--</td><td>0</td><td>0</td><td>--</td><td>--</td><td>--</td><td>--</td><td>0</td><td>--</td><td>--</td><td>--</td><td>--</td><td>--</td><td>0</td><td>--</td><td>--</td><td>--</td><td>0</td><td>0</td><td>--</td><td>--</td><td>--</td><td>--</td><td>0</td><td>--</td><td>--</td><td>--</td><td>--</td><td>--</td><td>0</td><td>--</td><td>--</td><td>--</td><td>0</td><td>0</td><td>0.19067727929298556</td></tr>\n",
       "<tr><td>PSO J013.6081-28.2322</td><td>-999</td><td>-999</td><td>-999</td><td>74120136080471729</td><td>3492917000000568</td><td>482711374398007</td><td>0</td><td>8919453032828</td><td>7412</td><td>1</td><td>638</td><td>95</td><td>0.499553504865201</td><td>3492917</td><td>112390</td><td>3</td><td>1375809536</td><td>164</td><td>13.6079888</td><td>-28.23213647</td><td>0.0010000000474974513</td><td>0.0010000000474974513</td><td>13.60813551</td><td>-28.23221721</td><td>0.16719000041484833</td><td>0.16719000041484833</td><td>56602.37108796</td><td>--</td><td>0.8563047615700828</td><td>0.20729063282248567</td><td>-0.4730462438879069</td><td>0.1350550962577069</td><td>-31.09555656982874</td><td>272.1186317642786</td><td>-88.71226977850566</td><td>--</td><td>1</td><td>1</td><td>0</td><td>1</td><td>0</td><td>0</td><td>0</td><td>--</td><td>--</td><td>--</td><td>--</td><td>0</td><td>--</td><td>--</td><td>--</td><td>--</td><td>--</td><td>0</td><td>--</td><td>--</td><td>--</td><td>0</td><td>16416</td><td>0.999646008014679</td><td>21.621700286865234</td><td>0.16651299595832825</td><td>--</td><td>1</td><td>21.621700286865234</td><td>21.621700286865234</td><td>21.934600830078125</td><td>0.33151599764823914</td><td>--</td><td>1</td><td>22.694000244140625</td><td>0.16651299595832825</td><td>--</td><td>1</td><td>114992</td><td>--</td><td>--</td><td>--</td><td>--</td><td>0</td><td>--</td><td>--</td><td>--</td><td>--</td><td>--</td><td>0</td><td>--</td><td>--</td><td>--</td><td>0</td><td>16416</td><td>--</td><td>--</td><td>--</td><td>--</td><td>0</td><td>--</td><td>--</td><td>--</td><td>--</td><td>--</td><td>0</td><td>--</td><td>--</td><td>--</td><td>0</td><td>16416</td><td>--</td><td>--</td><td>--</td><td>--</td><td>0</td><td>--</td><td>--</td><td>--</td><td>--</td><td>--</td><td>0</td><td>--</td><td>--</td><td>--</td><td>0</td><td>16416</td><td>0.18755099987282497</td></tr>\n",
       "<tr><td>PSO J013.6082-28.2263</td><td>-999</td><td>-999</td><td>-999</td><td>74120136081388892</td><td>3492917000000582</td><td>482711374398021</td><td>0</td><td>8919454897939</td><td>7412</td><td>1</td><td>638</td><td>95</td><td>0.161361967363732</td><td>3492917</td><td>112390</td><td>3</td><td>302067712</td><td>36</td><td>--</td><td>--</td><td>--</td><td>--</td><td>13.60822221</td><td>-28.22625624</td><td>0.11173000186681747</td><td>0.11173000186681747</td><td>56602.33422454</td><td>--</td><td>0.8563522767073037</td><td>0.2073035068556559</td><td>-0.4729545794508861</td><td>0.13827742338788743</td><td>-31.090272174978427</td><td>271.9779191381703</td><td>-88.71732728069142</td><td>--</td><td>0</td><td>1</td><td>1</td><td>0</td><td>0</td><td>0</td><td>0</td><td>0.983398973941803</td><td>21.394500732421875</td><td>0.11071799695491791</td><td>--</td><td>1</td><td>21.394500732421875</td><td>21.394500732421875</td><td>21.771299362182617</td><td>0.231223002076149</td><td>--</td><td>1</td><td>21.830400466918945</td><td>0.11071799695491791</td><td>--</td><td>1</td><td>272</td><td>--</td><td>--</td><td>--</td><td>--</td><td>0</td><td>--</td><td>--</td><td>--</td><td>--</td><td>--</td><td>0</td><td>--</td><td>--</td><td>--</td><td>0</td><td>0</td><td>--</td><td>--</td><td>--</td><td>--</td><td>0</td><td>--</td><td>--</td><td>--</td><td>--</td><td>--</td><td>0</td><td>--</td><td>--</td><td>--</td><td>0</td><td>0</td><td>--</td><td>--</td><td>--</td><td>--</td><td>0</td><td>--</td><td>--</td><td>--</td><td>--</td><td>--</td><td>0</td><td>--</td><td>--</td><td>--</td><td>0</td><td>0</td><td>--</td><td>--</td><td>--</td><td>--</td><td>0</td><td>--</td><td>--</td><td>--</td><td>--</td><td>--</td><td>0</td><td>--</td><td>--</td><td>--</td><td>0</td><td>0</td><td>0.19291942505139298</td></tr>\n",
       "<tr><td>PSO J013.6085-28.2335</td><td>-999</td><td>-999</td><td>-999</td><td>74120136083880250</td><td>3492917000000653</td><td>482711374398092</td><td>0</td><td>8919453036443</td><td>7412</td><td>1</td><td>638</td><td>95</td><td>0.431564548454773</td><td>3492917</td><td>112390</td><td>3</td><td>302067712</td><td>36</td><td>--</td><td>--</td><td>--</td><td>--</td><td>13.60847554</td><td>-28.23345482</td><td>0.18136000633239746</td><td>0.18136000633239746</td><td>56602.34674769</td><td>--</td><td>0.8562936000430166</td><td>0.20729331048858352</td><td>-0.4730652745151075</td><td>0.13471472477014151</td><td>-31.096796116470145</td><td>272.1357046492407</td><td>-88.71105566412595</td><td>--</td><td>0</td><td>1</td><td>1</td><td>0</td><td>0</td><td>0</td><td>0</td><td>0.9996470212936401</td><td>21.965700149536133</td><td>0.18073800206184387</td><td>--</td><td>1</td><td>21.965700149536133</td><td>21.965700149536133</td><td>--</td><td>--</td><td>--</td><td>1</td><td>21.954700469970703</td><td>0.18073800206184387</td><td>--</td><td>1</td><td>272</td><td>--</td><td>--</td><td>--</td><td>--</td><td>0</td><td>--</td><td>--</td><td>--</td><td>--</td><td>--</td><td>0</td><td>--</td><td>--</td><td>--</td><td>0</td><td>0</td><td>--</td><td>--</td><td>--</td><td>--</td><td>0</td><td>--</td><td>--</td><td>--</td><td>--</td><td>--</td><td>0</td><td>--</td><td>--</td><td>--</td><td>0</td><td>0</td><td>--</td><td>--</td><td>--</td><td>--</td><td>0</td><td>--</td><td>--</td><td>--</td><td>--</td><td>--</td><td>0</td><td>--</td><td>--</td><td>--</td><td>0</td><td>0</td><td>--</td><td>--</td><td>--</td><td>--</td><td>0</td><td>--</td><td>--</td><td>--</td><td>--</td><td>--</td><td>0</td><td>--</td><td>--</td><td>--</td><td>0</td><td>0</td><td>0.18658468219773627</td></tr>\n",
       "<tr><td>PSO J013.6084-28.2266</td><td>-999</td><td>-999</td><td>-999</td><td>74120136084338391</td><td>3492917000000661</td><td>482711374398100</td><td>0</td><td>8919454897880</td><td>7412</td><td>1</td><td>638</td><td>95</td><td>0.830070098703792</td><td>3492917</td><td>112390</td><td>3</td><td>268959744</td><td>32</td><td>--</td><td>--</td><td>--</td><td>--</td><td>13.60842575</td><td>-28.226602</td><td>0.15998999774456024</td><td>0.15998999774456024</td><td>56602.35967593</td><td>--</td><td>0.8563487662620979</td><td>0.20730587746265647</td><td>-0.4729598964931604</td><td>0.13828200405664617</td><td>-31.09066165672863</td><td>271.9790984171242</td><td>-88.71693867504604</td><td>--</td><td>0</td><td>1</td><td>0</td><td>1</td><td>0</td><td>0</td><td>0</td><td>--</td><td>--</td><td>--</td><td>--</td><td>0</td><td>--</td><td>--</td><td>--</td><td>--</td><td>--</td><td>0</td><td>--</td><td>--</td><td>--</td><td>0</td><td>0</td><td>0.5977910161018372</td><td>21.380399703979492</td><td>0.15928100049495697</td><td>--</td><td>1</td><td>21.380399703979492</td><td>21.380399703979492</td><td>--</td><td>--</td><td>--</td><td>1</td><td>23.049100875854492</td><td>0.15928100049495697</td><td>--</td><td>1</td><td>4112</td><td>--</td><td>--</td><td>--</td><td>--</td><td>0</td><td>--</td><td>--</td><td>--</td><td>--</td><td>--</td><td>0</td><td>--</td><td>--</td><td>--</td><td>0</td><td>0</td><td>--</td><td>--</td><td>--</td><td>--</td><td>0</td><td>--</td><td>--</td><td>--</td><td>--</td><td>--</td><td>0</td><td>--</td><td>--</td><td>--</td><td>0</td><td>0</td><td>--</td><td>--</td><td>--</td><td>--</td><td>0</td><td>--</td><td>--</td><td>--</td><td>--</td><td>--</td><td>0</td><td>--</td><td>--</td><td>--</td><td>0</td><td>0</td><td>0.19268818243105335</td></tr>\n",
       "<tr><td>PSO J013.6088-28.2262</td><td>-999</td><td>-999</td><td>-999</td><td>74120136087819035</td><td>3492917000000741</td><td>482711374398180</td><td>0</td><td>8919454897751</td><td>7412</td><td>1</td><td>638</td><td>95</td><td>0.211851111810516</td><td>3492917</td><td>112390</td><td>3</td><td>268959744</td><td>32</td><td>--</td><td>--</td><td>--</td><td>--</td><td>13.60876632</td><td>-28.22617044</td><td>0.15771999955177307</td><td>0.15771999955177307</td><td>56602.34241898</td><td>--</td><td>0.856350996369636</td><td>0.20731180584865314</td><td>-0.47295326002946836</td><td>0.13882218296102974</td><td>-31.090412050294205</td><td>271.95763138201056</td><td>-88.71715143576682</td><td>--</td><td>0</td><td>2</td><td>2</td><td>0</td><td>0</td><td>0</td><td>0</td><td>0.6827459931373596</td><td>21.875499725341797</td><td>0.15812300145626068</td><td>0.23571300506591797</td><td>2</td><td>21.770099639892578</td><td>22.086299896240234</td><td>--</td><td>--</td><td>--</td><td>1</td><td>21.714099884033203</td><td>0.03778199851512909</td><td>--</td><td>2</td><td>4112</td><td>--</td><td>--</td><td>--</td><td>--</td><td>0</td><td>--</td><td>--</td><td>--</td><td>--</td><td>--</td><td>0</td><td>--</td><td>--</td><td>--</td><td>0</td><td>0</td><td>--</td><td>--</td><td>--</td><td>--</td><td>0</td><td>--</td><td>--</td><td>--</td><td>--</td><td>--</td><td>0</td><td>--</td><td>--</td><td>--</td><td>0</td><td>0</td><td>--</td><td>--</td><td>--</td><td>--</td><td>0</td><td>--</td><td>--</td><td>--</td><td>--</td><td>--</td><td>0</td><td>--</td><td>--</td><td>--</td><td>0</td><td>0</td><td>--</td><td>--</td><td>--</td><td>--</td><td>0</td><td>--</td><td>--</td><td>--</td><td>--</td><td>--</td><td>0</td><td>--</td><td>--</td><td>--</td><td>0</td><td>0</td><td>0.19320791998232656</td></tr>\n",
       "<tr><td>PSO J013.6089-28.2323</td><td>-999</td><td>-999</td><td>-999</td><td>74120136088311756</td><td>3492917000000760</td><td>482711374398199</td><td>0</td><td>8919453033148</td><td>7412</td><td>1</td><td>638</td><td>95</td><td>0.28681231130549</td><td>3492917</td><td>112390</td><td>3</td><td>302067712</td><td>36</td><td>--</td><td>--</td><td>--</td><td>--</td><td>13.60891136</td><td>-28.23228523</td><td>0.11155000329017639</td><td>0.11155000329017639</td><td>56602.3409375</td><td>2.8505001068115234</td><td>0.8563014087193086</td><td>0.20730209600561122</td><td>-0.4730472898315855</td><td>0.13573150110547705</td><td>-31.09592587713569</td><td>272.09417809274</td><td>-88.7118577520636</td><td>--</td><td>0</td><td>2</td><td>2</td><td>0</td><td>0</td><td>0</td><td>0</td><td>0.9997090101242065</td><td>21.813800811767578</td><td>0.03689499944448471</td><td>0.0523190014064312</td><td>2</td><td>21.779600143432617</td><td>21.8533992767334</td><td>21.518199920654297</td><td>0.10017500072717667</td><td>0.14316600561141968</td><td>2</td><td>21.386499404907227</td><td>0.1569560021162033</td><td>0.22279000282287598</td><td>2</td><td>272</td><td>--</td><td>--</td><td>--</td><td>--</td><td>0</td><td>--</td><td>--</td><td>--</td><td>--</td><td>--</td><td>0</td><td>--</td><td>--</td><td>--</td><td>0</td><td>0</td><td>--</td><td>--</td><td>--</td><td>--</td><td>0</td><td>--</td><td>--</td><td>--</td><td>--</td><td>--</td><td>0</td><td>--</td><td>--</td><td>--</td><td>0</td><td>0</td><td>--</td><td>--</td><td>--</td><td>--</td><td>0</td><td>--</td><td>--</td><td>--</td><td>--</td><td>--</td><td>0</td><td>--</td><td>--</td><td>--</td><td>0</td><td>0</td><td>--</td><td>--</td><td>--</td><td>--</td><td>0</td><td>--</td><td>--</td><td>--</td><td>--</td><td>--</td><td>0</td><td>--</td><td>--</td><td>--</td><td>0</td><td>0</td><td>0.18780069913225503</td></tr>\n",
       "<tr><td>PSO J013.6093-28.2297</td><td>-999</td><td>-999</td><td>-999</td><td>74120136092124713</td><td>3492917000000848</td><td>482711374398287</td><td>0</td><td>8919454896164</td><td>7412</td><td>1</td><td>638</td><td>95</td><td>0.257271064684979</td><td>3492917</td><td>112390</td><td>3</td><td>302067712</td><td>36</td><td>--</td><td>--</td><td>--</td><td>--</td><td>13.6092952</td><td>-28.22971921</td><td>0.14639000594615936</td><td>0.14639000594615936</td><td>56602.36530093</td><td>0.037700001150369644</td><td>0.8563206098934273</td><td>0.20731281736994786</td><td>-0.47300783167499816</td><td>0.13743678941537962</td><td>-31.093788948925923</td><td>272.0220895192414</td><td>-88.71387682489639</td><td>--</td><td>0</td><td>2</td><td>0</td><td>2</td><td>0</td><td>0</td><td>0</td><td>--</td><td>--</td><td>--</td><td>--</td><td>0</td><td>--</td><td>--</td><td>--</td><td>--</td><td>--</td><td>0</td><td>--</td><td>--</td><td>--</td><td>0</td><td>0</td><td>0.9939820170402527</td><td>21.850200653076172</td><td>0.02131599932909012</td><td>0.008483000099658966</td><td>2</td><td>21.84429931640625</td><td>21.856300354003906</td><td>22.56130027770996</td><td>0.1766889989376068</td><td>0.18934699892997742</td><td>2</td><td>22.07939910888672</td><td>0.21523700654506683</td><td>0.304421991109848</td><td>2</td><td>272</td><td>--</td><td>--</td><td>--</td><td>--</td><td>0</td><td>--</td><td>--</td><td>--</td><td>--</td><td>--</td><td>0</td><td>--</td><td>--</td><td>--</td><td>0</td><td>0</td><td>--</td><td>--</td><td>--</td><td>--</td><td>0</td><td>--</td><td>--</td><td>--</td><td>--</td><td>--</td><td>0</td><td>--</td><td>--</td><td>--</td><td>0</td><td>0</td><td>--</td><td>--</td><td>--</td><td>--</td><td>0</td><td>--</td><td>--</td><td>--</td><td>--</td><td>--</td><td>0</td><td>--</td><td>--</td><td>--</td><td>0</td><td>0</td><td>0.1902411067029799</td></tr>\n",
       "<tr><td>PSO J013.6098-28.2291</td><td>-999</td><td>-999</td><td>-999</td><td>74120136098145444</td><td>3492917000000988</td><td>482711374398427</td><td>0</td><td>8919454851281</td><td>7412</td><td>1</td><td>638</td><td>95</td><td>0.243961172405594</td><td>3492917</td><td>112390</td><td>3</td><td>268959744</td><td>32</td><td>--</td><td>--</td><td>--</td><td>--</td><td>13.6098176</td><td>-28.22905391</td><td>0.26475000381469727</td><td>0.26475000381469727</td><td>56602.34674769</td><td>--</td><td>0.8563240577950618</td><td>0.20732191734857866</td><td>-0.4729976010809239</td><td>0.1382671448162513</td><td>-31.093403110338645</td><td>271.9891709434503</td><td>-88.71420650513342</td><td>--</td><td>0</td><td>1</td><td>1</td><td>0</td><td>0</td><td>0</td><td>0</td><td>0.5570039749145508</td><td>21.999399185180664</td><td>0.2643220126628876</td><td>--</td><td>1</td><td>21.999399185180664</td><td>21.999399185180664</td><td>--</td><td>--</td><td>--</td><td>0</td><td>--</td><td>--</td><td>--</td><td>0</td><td>4112</td><td>--</td><td>--</td><td>--</td><td>--</td><td>0</td><td>--</td><td>--</td><td>--</td><td>--</td><td>--</td><td>0</td><td>--</td><td>--</td><td>--</td><td>0</td><td>0</td><td>--</td><td>--</td><td>--</td><td>--</td><td>0</td><td>--</td><td>--</td><td>--</td><td>--</td><td>--</td><td>0</td><td>--</td><td>--</td><td>--</td><td>0</td><td>0</td><td>--</td><td>--</td><td>--</td><td>--</td><td>0</td><td>--</td><td>--</td><td>--</td><td>--</td><td>--</td><td>0</td><td>--</td><td>--</td><td>--</td><td>0</td><td>0</td><td>--</td><td>--</td><td>--</td><td>--</td><td>0</td><td>--</td><td>--</td><td>--</td><td>--</td><td>--</td><td>0</td><td>--</td><td>--</td><td>--</td><td>0</td><td>0</td><td>0.1910425652172919</td></tr>\n",
       "<tr><td>PSO J013.6101-28.2298</td><td>-999</td><td>-999</td><td>-999</td><td>74120136099904696</td><td>3492917000001035</td><td>482711374398474</td><td>0</td><td>8919453065224</td><td>7412</td><td>1</td><td>638</td><td>95</td><td>0.131155135232168</td><td>3492917</td><td>112390</td><td>3</td><td>302067712</td><td>36</td><td>--</td><td>--</td><td>--</td><td>--</td><td>13.61010142</td><td>-28.2298067</td><td>0.10651999711990356</td><td>0.10651999711990356</td><td>56602.33859954</td><td>3.5457000732421875</td><td>0.8563169906732313</td><td>0.20732469684054217</td><td>-0.47300917704027523</td><td>0.1381308198460465</td><td>-31.094187709783743</td><td>271.9970676468631</td><td>-88.71343332584425</td><td>--</td><td>0</td><td>2</td><td>2</td><td>0</td><td>0</td><td>0</td><td>0</td><td>0.992929995059967</td><td>21.681400299072266</td><td>0.17847199738025665</td><td>0.2692739963531494</td><td>2</td><td>21.569299697875977</td><td>21.92620086669922</td><td>21.34149932861328</td><td>0.196833997964859</td><td>--</td><td>1</td><td>21.441699981689453</td><td>0.1312669962644577</td><td>--</td><td>1</td><td>272</td><td>--</td><td>--</td><td>--</td><td>--</td><td>0</td><td>--</td><td>--</td><td>--</td><td>--</td><td>--</td><td>0</td><td>--</td><td>--</td><td>--</td><td>0</td><td>0</td><td>--</td><td>--</td><td>--</td><td>--</td><td>0</td><td>--</td><td>--</td><td>--</td><td>--</td><td>--</td><td>0</td><td>--</td><td>--</td><td>--</td><td>0</td><td>0</td><td>--</td><td>--</td><td>--</td><td>--</td><td>0</td><td>--</td><td>--</td><td>--</td><td>--</td><td>--</td><td>0</td><td>--</td><td>--</td><td>--</td><td>0</td><td>0</td><td>--</td><td>--</td><td>--</td><td>--</td><td>0</td><td>--</td><td>--</td><td>--</td><td>--</td><td>--</td><td>0</td><td>--</td><td>--</td><td>--</td><td>0</td><td>0</td><td>0.19048487301358977</td></tr>\n",
       "</table></div>"
      ],
      "text/plain": [
       "<Table masked=True length=87435>\n",
       "       objName        objAltName1 objAltName2 objAltName3       objID       ... yMeanApMagStd yMeanApMagNpt yFlags       distance      \n",
       "        str21             str4        str4        str4          int64       ...    float64        int64     int64        float64       \n",
       "--------------------- ----------- ----------- ----------- ----------------- ... ------------- ------------- ------ --------------------\n",
       "PSO J013.5251-28.4382        -999        -999        -999 73870135250534490 ...            --             0      0  0.04051090505729541\n",
       "PSO J013.5252-28.4365        -999        -999        -999 73870135251996502 ...            --             0      0 0.038953759537144514\n",
       "PSO J013.5252-28.4396        -999        -999        -999 73870135252002780 ...            --             0      0  0.04191892713542472\n",
       "PSO J013.5252-28.4393        -999        -999        -999 73870135252173204 ...            --             0      0 0.041599362283160544\n",
       "PSO J013.5253-28.4402        -999        -999        -999 73870135253192027 ...            --             0      0  0.04254216500411849\n",
       "PSO J013.5259-28.4388        -999        -999        -999 73870135258343754 ...            --             0      0  0.04132169363809879\n",
       "PSO J013.5259-28.4349        -999        -999        -999 73870135258348525 ...            --             0      0  0.03755484583079019\n",
       "PSO J013.5262-28.4382        -999        -999        -999 73870135261634538 ...            --             0      0  0.04077514883496943\n",
       "PSO J013.5266-28.4377        -999        -999        -999 73870135265625127 ...            --             0      0  0.04040944661480985\n",
       "PSO J013.5267-28.4417        -999        -999        -999 73870135266580281 ...            --             0      0 0.044285470133716184\n",
       "PSO J013.5267-28.4357        -999        -999        -999 73870135266817512 ...            --             0      0  0.03857137402518547\n",
       "PSO J013.5270-28.4354        -999        -999        -999 73870135269217919 ...            --             0      0 0.038364054517863996\n",
       "PSO J013.5275-28.4419        -999        -999        -999 73870135274970065 ...            --             0      0   0.0446929523581623\n",
       "PSO J013.5275-28.4348        -999        -999        -999 73870135275168549 ...            --             0      0  0.03805306446877718\n",
       "                  ...         ...         ...         ...               ... ...           ...           ...    ...                  ...\n",
       "PSO J013.6070-28.2321        -999        -999        -999 74120136069331602 ...            --             0      0  0.18717429841018393\n",
       "PSO J013.6071-28.2259        -999        -999        -999 74120136071009286 ...            --             0      0  0.19285065235073706\n",
       "PSO J013.6075-28.2258        -999        -999        -999 74120136074179442 ...            --             0      0  0.19305448275363368\n",
       "PSO J013.6075-28.2313        -999        -999        -999 74120136075102728 ...            --             0      0  0.18809840803528066\n",
       "PSO J013.6077-28.2285        -999        -999        -999 74120136077006072 ...            --             0      0  0.19067727929298556\n",
       "PSO J013.6081-28.2322        -999        -999        -999 74120136080471729 ...            --             0  16416  0.18755099987282497\n",
       "PSO J013.6082-28.2263        -999        -999        -999 74120136081388892 ...            --             0      0  0.19291942505139298\n",
       "PSO J013.6085-28.2335        -999        -999        -999 74120136083880250 ...            --             0      0  0.18658468219773627\n",
       "PSO J013.6084-28.2266        -999        -999        -999 74120136084338391 ...            --             0      0  0.19268818243105335\n",
       "PSO J013.6088-28.2262        -999        -999        -999 74120136087819035 ...            --             0      0  0.19320791998232656\n",
       "PSO J013.6089-28.2323        -999        -999        -999 74120136088311756 ...            --             0      0  0.18780069913225503\n",
       "PSO J013.6093-28.2297        -999        -999        -999 74120136092124713 ...            --             0      0   0.1902411067029799\n",
       "PSO J013.6098-28.2291        -999        -999        -999 74120136098145444 ...            --             0      0   0.1910425652172919\n",
       "PSO J013.6101-28.2298        -999        -999        -999 74120136099904696 ...            --             0      0  0.19048487301358977"
      ]
     },
     "execution_count": 30,
     "metadata": {},
     "output_type": "execute_result"
    }
   ],
   "source": [
    "catalog_data_panstarrs_mean"
   ]
  },
  {
   "cell_type": "markdown",
   "id": "e04e6b2c-9345-41d3-bd85-f2e866d02eb0",
   "metadata": {},
   "source": [
    "# ZCUT"
   ]
  },
  {
   "cell_type": "code",
   "execution_count": 31,
   "id": "3fa10638-1ffe-4a4d-aa10-39e6e95db510",
   "metadata": {},
   "outputs": [],
   "source": [
    "from astroquery.mast import Zcut"
   ]
  },
  {
   "cell_type": "code",
   "execution_count": 32,
   "id": "9a73d1a4-608e-4e2a-9c35-49c7a60177e1",
   "metadata": {},
   "outputs": [
    {
     "name": "stdout",
     "output_type": "stream",
     "text": [
      "[]\n"
     ]
    },
    {
     "name": "stderr",
     "output_type": "stream",
     "text": [
      "WARNING: NoResultsWarning: Coordinates are not in an available deep field survey. [astroquery.mast.cutouts]\n"
     ]
    }
   ],
   "source": [
    "survey_list = Zcut.get_surveys(coordinates=coord)\n",
    "\n",
    "print(survey_list)    "
   ]
  },
  {
   "cell_type": "markdown",
   "id": "14c3e51d-c47d-46c9-bd60-649c218e2920",
   "metadata": {},
   "source": [
    "## MAST"
   ]
  },
  {
   "cell_type": "code",
   "execution_count": 33,
   "id": "451f38fb-1a83-4b8f-b998-2f0810c214fc",
   "metadata": {},
   "outputs": [
    {
     "data": {
      "text/plain": [
       "13.511666666666665"
      ]
     },
     "execution_count": 33,
     "metadata": {},
     "output_type": "execute_result"
    }
   ],
   "source": [
    "coord.ra.deg"
   ]
  },
  {
   "cell_type": "code",
   "execution_count": 34,
   "id": "4db76c4f-6340-460d-ad30-a525487f023a",
   "metadata": {},
   "outputs": [
    {
     "name": "stdout",
     "output_type": "stream",
     "text": [
      "intentType obs_collection  provenance_name  instrument_name project filters ... dataRights mtFlag srcDen   obsid        distance    \n",
      "---------- -------------- ----------------- --------------- ------- ------- ... ---------- ------ ------ --------- -----------------\n",
      "   science           TESS              SPOC      Photometer    TESS    TESS ...     PUBLIC  False    nan  60942206               0.0\n",
      "   science           TESS              SPOC      Photometer    TESS    TESS ...     PUBLIC  False    nan  27972860               0.0\n",
      "   science           TESS              SPOC      Photometer    TESS    TESS ...     PUBLIC  False    nan  28055405               0.0\n",
      "   science           TESS              SPOC      Photometer    TESS    TESS ...     PUBLIC  False    nan  27901915 788.9874513973559\n",
      "   science            PS1               3PI            GPC1     PS1       g ...     PUBLIC     -- 5885.0   1766282               0.0\n",
      "   science            PS1               3PI            GPC1     PS1       i ...     PUBLIC     -- 5885.0   1766283               0.0\n",
      "   science            PS1               3PI            GPC1     PS1       r ...     PUBLIC     -- 5885.0   1766284               0.0\n",
      "   science            PS1               3PI            GPC1     PS1       y ...     PUBLIC     -- 5885.0   1766285               0.0\n",
      "   science            PS1               3PI            GPC1     PS1       z ...     PUBLIC     -- 5885.0   1766286               0.0\n",
      "   science            PS1               3PI            GPC1     PS1       g ...     PUBLIC     -- 5885.0   1766332               0.0\n",
      "   science            PS1               3PI            GPC1     PS1       i ...     PUBLIC     -- 5885.0   1766333               0.0\n",
      "   science            PS1               3PI            GPC1     PS1       r ...     PUBLIC     -- 5885.0   1766334               0.0\n",
      "   science            PS1               3PI            GPC1     PS1       y ...     PUBLIC     -- 5885.0   1766335               0.0\n",
      "   science            PS1               3PI            GPC1     PS1       z ...     PUBLIC     -- 5885.0   1766336               0.0\n",
      "       ...            ...               ...             ...     ...     ... ...        ...    ...    ...       ...               ...\n",
      "   science           HLSP GSFC-ELEANOR-LITE      Photometer    TESS    TESS ...     PUBLIC  False    nan 104608220 854.2671389776646\n",
      "   science           HLSP              TGLC      Photometer    TESS    TESS ...     PUBLIC  False    nan 119131914 854.4433676460525\n",
      "   science           HLSP              TGLC      Photometer    TESS    TESS ...     PUBLIC  False    nan 119105051 868.2211938727794\n",
      "   science           HLSP GSFC-ELEANOR-LITE      Photometer    TESS    TESS ...     PUBLIC  False    nan 104563445 868.6762865038762\n",
      "   science           HLSP               QLP      Photometer    TESS    TESS ...     PUBLIC  False    nan  58663240 868.6762865038762\n",
      "   science           HLSP             TASOC      Photometer    TESS    TESS ...     PUBLIC  False    nan  82044106 868.6762865038762\n",
      "   science           HLSP GSFC-ELEANOR-LITE      Photometer    TESS    TESS ...     PUBLIC  False    nan 104610569 894.0182777437693\n",
      "   science           HLSP              TGLC      Photometer    TESS    TESS ...     PUBLIC  False    nan 119071426 894.0867657950778\n",
      "   science           HLSP GSFC-ELEANOR-LITE      Photometer    TESS    TESS ...     PUBLIC  False    nan 104602552 896.9172616302832\n",
      "   science           HLSP              TGLC      Photometer    TESS    TESS ...     PUBLIC  False    nan 119097568  897.107267149329\n",
      "   science           HLSP              TGLC      Photometer    TESS    TESS ...     PUBLIC  False    nan 119105512 899.7748803210042\n",
      "   science           HLSP GSFC-ELEANOR-LITE      Photometer    TESS    TESS ...     PUBLIC  False    nan 104548672 899.8482878550649\n",
      "   science           HLSP             TASOC      Photometer    TESS    TESS ...     PUBLIC  False    nan  81908608 899.8482878550649\n",
      "   science          GALEX               AIS           GALEX     AIS     NUV ...     PUBLIC     -- 5885.0     29873               0.0\n",
      "   science          GALEX               AIS           GALEX     AIS     FUV ...     PUBLIC     -- 5885.0     29873               0.0\n",
      "Length = 311 rows\n"
     ]
    }
   ],
   "source": [
    "\n",
    "from astroquery.mast import Mast\n",
    "\n",
    "service = 'Mast.Caom.Cone'\n",
    "params = {'ra':coord.ra.deg,\n",
    "          'dec':coord.dec.deg,\n",
    "          'radius':0.25}\n",
    "observations = Mast.service_request(service, params)\n",
    "print(observations)    "
   ]
  },
  {
   "cell_type": "code",
   "execution_count": null,
   "id": "20dd6a25-d012-4145-846b-4df4738fc2a7",
   "metadata": {},
   "outputs": [],
   "source": []
  }
 ],
 "metadata": {
  "kernelspec": {
   "display_name": "Python 3 (ipykernel)",
   "language": "python",
   "name": "python3"
  },
  "language_info": {
   "codemirror_mode": {
    "name": "ipython",
    "version": 3
   },
   "file_extension": ".py",
   "mimetype": "text/x-python",
   "name": "python",
   "nbconvert_exporter": "python",
   "pygments_lexer": "ipython3",
   "version": "3.8.16"
  }
 },
 "nbformat": 4,
 "nbformat_minor": 5
}
