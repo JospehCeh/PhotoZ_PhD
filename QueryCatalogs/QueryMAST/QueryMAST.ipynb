{
 "cells": [
  {
   "cell_type": "markdown",
   "id": "9895d4c9-8b55-4296-bc8e-d6ac87c2f93c",
   "metadata": {},
   "source": [
    "# Search in MAST catalogs \n",
    "\n",
    "https://astroquery.readthedocs.io/en/latest/mast/mast.html"
   ]
  },
  {
   "cell_type": "code",
   "execution_count": 1,
   "id": "ef1cabd4-1e65-48c8-90cf-7d1be777a524",
   "metadata": {},
   "outputs": [],
   "source": [
    "import matplotlib.pyplot as plt\n",
    "from astropy.wcs import WCS\n",
    "\n",
    "from astroquery.simbad import Simbad\n",
    "from astroquery.mast import Observations\n",
    "\n",
    "import astropy.coordinates as coordinates\n",
    "from astropy.coordinates import Angle\n",
    "import astropy.units as u"
   ]
  },
  {
   "cell_type": "code",
   "execution_count": 2,
   "id": "fb3f2f01-b7e4-42d3-b794-bba757712e0e",
   "metadata": {},
   "outputs": [],
   "source": [
    "from astropy.table.pprint import conf\n",
    "#conf.max_lines = -1\n",
    "#conf.max_width = -1"
   ]
  },
  {
   "cell_type": "markdown",
   "id": "4b1c08fc-67f6-41e0-8842-f53367ac7d58",
   "metadata": {},
   "source": [
    "## Observations"
   ]
  },
  {
   "cell_type": "code",
   "execution_count": 3,
   "id": "31d576e0-3240-469d-982a-939a999a3471",
   "metadata": {},
   "outputs": [
    {
     "name": "stdout",
     "output_type": "stream",
     "text": [
      "['IUE', 'BEFS', 'FIMS-SPEAR', 'HUT', 'GALEX', 'Kepler', 'HST', 'EUVE', 'TUES', 'TESS', 'K2FFI', 'K2', 'HLSP', 'JWST', 'SPITZER_SHA', 'PS1', 'FUSE', 'SWIFT', 'KeplerFFI', 'HLA', 'OPO', 'WUPPE']\n"
     ]
    }
   ],
   "source": [
    "print(Observations.list_missions())"
   ]
  },
  {
   "cell_type": "code",
   "execution_count": null,
   "id": "0b3bc5c8-dbb9-4b50-a370-f3cad743a4b8",
   "metadata": {},
   "outputs": [],
   "source": []
  },
  {
   "cell_type": "markdown",
   "id": "01765edb-51c1-4785-b631-e9d8582c228e",
   "metadata": {},
   "source": [
    "## Target"
   ]
  },
  {
   "cell_type": "code",
   "execution_count": 4,
   "id": "3ccf52e9-6efc-40d6-9de5-64c6068101ad",
   "metadata": {},
   "outputs": [],
   "source": [
    "target_name_simbad = \"BAX 013.5117-28.3994\"\n",
    "target_name_ned = \"RX J0054.0-2823\""
   ]
  },
  {
   "cell_type": "code",
   "execution_count": 5,
   "id": "849ed598-a0f4-45b0-b729-4299ab3ef309",
   "metadata": {},
   "outputs": [],
   "source": [
    "result_table = Simbad.query_object(target_name_simbad)"
   ]
  },
  {
   "cell_type": "code",
   "execution_count": 6,
   "id": "ada732a2-6018-443d-a51e-22d38a407a09",
   "metadata": {},
   "outputs": [],
   "source": [
    "ra_str = result_table['RA'][0] + ' hours'\n",
    "dec_str = result_table['DEC'][0] + ' degree'"
   ]
  },
  {
   "cell_type": "code",
   "execution_count": 7,
   "id": "897ad1a2-10fe-449a-9835-a74d53d7c7f0",
   "metadata": {},
   "outputs": [
    {
     "data": {
      "text/plain": [
       "<SkyCoord (ICRS): (ra, dec) in deg\n",
       "    (13.51166667, -28.39944444)>"
      ]
     },
     "execution_count": 7,
     "metadata": {},
     "output_type": "execute_result"
    }
   ],
   "source": [
    "coord = coordinates.SkyCoord(ra_str,dec_str)\n",
    "coord"
   ]
  },
  {
   "cell_type": "markdown",
   "id": "13eef2f3-0a29-4af0-9b82-03d3718cc08b",
   "metadata": {},
   "source": [
    "## MAST Observations"
   ]
  },
  {
   "cell_type": "code",
   "execution_count": 8,
   "id": "43916b42-db68-4b4a-bfaa-480395271abe",
   "metadata": {},
   "outputs": [],
   "source": [
    "obs_table = Observations.query_object(target_name_simbad,radius=\"0.25deg\")"
   ]
  },
  {
   "cell_type": "code",
   "execution_count": 9,
   "id": "faf70057-9d62-43dc-84ee-66f604a921f0",
   "metadata": {},
   "outputs": [
    {
     "data": {
      "text/html": [
       "<div><i>Table masked=True length=311</i>\n",
       "<table id=\"table4733899248\" class=\"table-striped table-bordered table-condensed\">\n",
       "<thead><tr><th>intentType</th><th>obs_collection</th><th>provenance_name</th><th>instrument_name</th><th>project</th><th>filters</th><th>wavelength_region</th><th>target_name</th><th>target_classification</th><th>obs_id</th><th>s_ra</th><th>s_dec</th><th>dataproduct_type</th><th>proposal_pi</th><th>calib_level</th><th>t_min</th><th>t_max</th><th>t_exptime</th><th>em_min</th><th>em_max</th><th>obs_title</th><th>t_obs_release</th><th>proposal_id</th><th>proposal_type</th><th>sequence_number</th><th>s_region</th><th>jpegURL</th><th>dataURL</th><th>dataRights</th><th>mtFlag</th><th>srcDen</th><th>obsid</th><th>distance</th></tr></thead>\n",
       "<thead><tr><th>str7</th><th>str5</th><th>str17</th><th>str10</th><th>str4</th><th>str4</th><th>str16</th><th>str32</th><th>str1</th><th>str73</th><th>float64</th><th>float64</th><th>str10</th><th>str19</th><th>int64</th><th>float64</th><th>float64</th><th>float64</th><th>float64</th><th>float64</th><th>str14</th><th>float64</th><th>str23</th><th>str3</th><th>int64</th><th>str133</th><th>str120</th><th>str129</th><th>str6</th><th>bool</th><th>float64</th><th>str9</th><th>float64</th></tr></thead>\n",
       "<tr><td>science</td><td>TESS</td><td>SPOC</td><td>Photometer</td><td>TESS</td><td>TESS</td><td>Optical</td><td>TESS FFI</td><td>--</td><td>tess-s0003-2-4</td><td>18.82454293614978</td><td>-31.040788897335645</td><td>image</td><td>Ricker, George</td><td>3</td><td>58381.546141770836</td><td>58408.879141261576</td><td>1425.599424</td><td>600.0</td><td>1000.0</td><td>--</td><td>58507.6666666</td><td>N/A</td><td>--</td><td>3</td><td>POLYGON 22.278127 -23.114227 28.285859 -33.79011 14.400627 -38.731614 10.254244 -27.780414 22.278127 -23.114227</td><td>--</td><td>--</td><td>PUBLIC</td><td>False</td><td>nan</td><td>60942206</td><td>0.0</td></tr>\n",
       "<tr><td>science</td><td>TESS</td><td>SPOC</td><td>Photometer</td><td>TESS</td><td>TESS</td><td>Optical</td><td>TESS FFI</td><td>--</td><td>tess-s0029-2-3</td><td>10.878597490217892</td><td>-34.65291393027482</td><td>image</td><td>Ricker, George</td><td>3</td><td>59087.74000385</td><td>59113.93468316</td><td>475.199793</td><td>600.0</td><td>1000.0</td><td>--</td><td>59158.0</td><td>N/A</td><td>--</td><td>29</td><td>POLYGON 12.83654500 -26.68156200 21.20849700 -35.67388800 8.41085100 -42.87851500 1.00297300 -32.50456800 12.83654500 -26.68156200</td><td>--</td><td>--</td><td>PUBLIC</td><td>False</td><td>nan</td><td>27972860</td><td>0.0</td></tr>\n",
       "<tr><td>science</td><td>TESS</td><td>SPOC</td><td>Photometer</td><td>TESS</td><td>TESS</td><td>Optical</td><td>TESS FFI</td><td>--</td><td>tess-s0030-2-4</td><td>21.316275513239678</td><td>-29.928875993165978</td><td>image</td><td>Ricker, George</td><td>3</td><td>59115.38607926</td><td>59142.7260047</td><td>475.199788</td><td>600.0</td><td>1000.0</td><td>--</td><td>59173.0</td><td>N/A</td><td>--</td><td>30</td><td>POLYGON 24.81211600 -22.02902800 30.63496600 -32.75918900 16.88033600 -37.59161500 12.86359200 -26.62078800 24.81211600 -22.02902800</td><td>--</td><td>--</td><td>PUBLIC</td><td>False</td><td>nan</td><td>28055405</td><td>0.0</td></tr>\n",
       "<tr><td>science</td><td>TESS</td><td>SPOC</td><td>Photometer</td><td>TESS</td><td>TESS</td><td>Optical</td><td>63787839</td><td>--</td><td>tess2020238165205-s0029-0000000063787839-0193-s</td><td>13.2895194155193</td><td>-28.2973699972947</td><td>timeseries</td><td>Ricker, George</td><td>3</td><td>59087.74282196</td><td>59113.93772419</td><td>120.0</td><td>600.0</td><td>1000.0</td><td>--</td><td>59158.0</td><td>G03272</td><td>--</td><td>29</td><td>CIRCLE ICRS 13.28951942 -28.29737000 0.00138889</td><td>--</td><td>mast:TESS/product/tess2020238165205-s0029-0000000063787839-0193-s_lc.fits</td><td>PUBLIC</td><td>False</td><td>nan</td><td>27901915</td><td>789.0070932805666</td></tr>\n",
       "<tr><td>science</td><td>PS1</td><td>3PI</td><td>GPC1</td><td>PS1</td><td>g</td><td>OPTICAL</td><td>0638.085</td><td>--</td><td>rings.v3.skycell.0638.085.stk.g</td><td>13.441716292531964</td><td>-28.59309734059033</td><td>image</td><td>--</td><td>3</td><td>55447.4769591</td><td>56625.270336885165</td><td>645.0</td><td>394299987792.96875</td><td>559299987792.9688</td><td>PS1 3PI Survey</td><td>57741.5416666</td><td>--</td><td>3PI</td><td>--</td><td>POLYGON ICRS    13.689784   -28.810830   13.689703   -28.375747   13.194721   -28.374921   13.192657   -28.809989</td><td>http://ps1images.stsci.edu/cgi-bin/fitscut.cgi?red=rings.v3.skycell/0638/085/rings.v3.skycell.0638.085.stk.g.unconv.fits</td><td>http://ps1images.stsci.edu/rings.v3.skycell/0638/085/rings.v3.skycell.0638.085.stk.g.unconv.fits</td><td>PUBLIC</td><td>--</td><td>5885.0</td><td>1766282</td><td>0.0</td></tr>\n",
       "<tr><td>science</td><td>PS1</td><td>3PI</td><td>GPC1</td><td>PS1</td><td>i</td><td>OPTICAL</td><td>0638.085</td><td>--</td><td>rings.v3.skycell.0638.085.stk.i</td><td>13.441716292531964</td><td>-28.59309734059033</td><td>image</td><td>--</td><td>3</td><td>55457.4569304</td><td>56917.52311593336</td><td>1260.0</td><td>677799987792.9688</td><td>830400024414.0625</td><td>PS1 3PI Survey</td><td>57741.5416666</td><td>--</td><td>3PI</td><td>--</td><td>POLYGON ICRS    13.689784   -28.810830   13.689703   -28.375747   13.194721   -28.374921   13.192657   -28.809989</td><td>http://ps1images.stsci.edu/cgi-bin/fitscut.cgi?red=rings.v3.skycell/0638/085/rings.v3.skycell.0638.085.stk.i.unconv.fits</td><td>http://ps1images.stsci.edu/rings.v3.skycell/0638/085/rings.v3.skycell.0638.085.stk.i.unconv.fits</td><td>PUBLIC</td><td>--</td><td>5885.0</td><td>1766283</td><td>0.0</td></tr>\n",
       "<tr><td>...</td><td>...</td><td>...</td><td>...</td><td>...</td><td>...</td><td>...</td><td>...</td><td>...</td><td>...</td><td>...</td><td>...</td><td>...</td><td>...</td><td>...</td><td>...</td><td>...</td><td>...</td><td>...</td><td>...</td><td>...</td><td>...</td><td>...</td><td>...</td><td>...</td><td>...</td><td>...</td><td>...</td><td>...</td><td>...</td><td>...</td><td>...</td><td>...</td></tr>\n",
       "<tr><td>science</td><td>HLSP</td><td>GSFC-ELEANOR-LITE</td><td>Photometer</td><td>TESS</td><td>TESS</td><td>Optical</td><td>63793716</td><td>--</td><td>hlsp_gsfc-eleanor-lite_tess_ffi_s0003-0000000063793716_tess_v1.0_lc</td><td>13.4616844545753</td><td>-28.6458051356806</td><td>timeseries</td><td>Brian P. Powell</td><td>4</td><td>58381.546141770836</td><td>58408.879141261576</td><td>1800.0</td><td>600.0</td><td>1000.0</td><td>--</td><td>59927.0</td><td>N/A</td><td>--</td><td>3</td><td>CIRCLE 13.4616844545753 -28.6458051356806 0.0011111111111111111</td><td>--</td><td>mast:HLSP/gsfc-eleanor-lite/s0003/0000/0000/6379/3716/hlsp_gsfc-eleanor-lite_tess_ffi_s0003-0000000063793716_tess_v1.0_lc.fits</td><td>PUBLIC</td><td>False</td><td>nan</td><td>104602552</td><td>897.0932265928994</td></tr>\n",
       "<tr><td>science</td><td>HLSP</td><td>TGLC</td><td>Photometer</td><td>TESS</td><td>TESS</td><td>Optical</td><td>63793716</td><td>--</td><td>hlsp_tglc_tess_ffi_gaiaid-5032548734186881024-s0003-cam2-ccd4_tess_v1_llc</td><td>13.46171370841294</td><td>-28.64586330690929</td><td>timeseries</td><td>Timothy D. Brandt</td><td>4</td><td>58381.55735905583</td><td>58408.86952545328</td><td>1800.0</td><td>600.0</td><td>1000.0</td><td>--</td><td>60023.87031241</td><td>N/A</td><td>--</td><td>3</td><td>CIRCLE 13.46171370841294 -28.64586330690929 0.0011111111111111111</td><td>--</td><td>mast:HLSP/tglc/s0003/cam2-ccd4/0050/3254/8734/1868/hlsp_tglc_tess_ffi_gaiaid-5032548734186881024-s0003-cam2-ccd4_tess_v1_llc.fits</td><td>PUBLIC</td><td>False</td><td>nan</td><td>119097568</td><td>897.2832213004979</td></tr>\n",
       "<tr><td>science</td><td>HLSP</td><td>TGLC</td><td>Photometer</td><td>TESS</td><td>TESS</td><td>Optical</td><td>63787848</td><td>--</td><td>hlsp_tglc_tess_ffi_gaiaid-5032624256891805824-s0003-cam2-ccd4_tess_v1_llc</td><td>13.31217327691672</td><td>-28.22006241112527</td><td>timeseries</td><td>Timothy D. Brandt</td><td>4</td><td>58381.55735905583</td><td>58408.86952545328</td><td>1800.0</td><td>600.0</td><td>1000.0</td><td>--</td><td>60023.87031241</td><td>N/A</td><td>--</td><td>3</td><td>CIRCLE 13.31217327691672 -28.22006241112527 0.0011111111111111111</td><td>--</td><td>mast:HLSP/tglc/s0003/cam2-ccd4/0050/3262/4256/8918/hlsp_tglc_tess_ffi_gaiaid-5032624256891805824-s0003-cam2-ccd4_tess_v1_llc.fits</td><td>PUBLIC</td><td>False</td><td>nan</td><td>119105512</td><td>899.7346162810717</td></tr>\n",
       "<tr><td>science</td><td>HLSP</td><td>GSFC-ELEANOR-LITE</td><td>Photometer</td><td>TESS</td><td>TESS</td><td>Optical</td><td>63787848</td><td>--</td><td>hlsp_gsfc-eleanor-lite_tess_ffi_s0003-0000000063787848_tess_v1.0_lc</td><td>13.3121886296744</td><td>-28.2200206706245</td><td>timeseries</td><td>Brian P. Powell</td><td>4</td><td>58381.546141770836</td><td>58408.879141261576</td><td>1800.0</td><td>600.0</td><td>1000.0</td><td>--</td><td>59927.0</td><td>N/A</td><td>--</td><td>3</td><td>CIRCLE 13.3121886296744 -28.2200206706245 0.0011111111111111111</td><td>--</td><td>mast:HLSP/gsfc-eleanor-lite/s0003/0000/0000/6378/7848/hlsp_gsfc-eleanor-lite_tess_ffi_s0003-0000000063787848_tess_v1.0_lc.fits</td><td>PUBLIC</td><td>False</td><td>nan</td><td>104548672</td><td>899.8079946763623</td></tr>\n",
       "<tr><td>science</td><td>HLSP</td><td>TASOC</td><td>Photometer</td><td>TESS</td><td>TESS</td><td>Optical</td><td>63787848</td><td>--</td><td>hlsp_tasoc_tess_ffi_tic00063787848-s0003-cam2-ccd4-c1800_tess_v05</td><td>13.3121886296744</td><td>-28.2200206706245</td><td>timeseries</td><td>Rasmus Handberg</td><td>4</td><td>58381.54721292698</td><td>58408.88006515071</td><td>1800.0</td><td>600.0</td><td>1000.0</td><td>--</td><td>59694.0478009</td><td>G011160_G011155_G011188</td><td>--</td><td>3</td><td>CIRCLE ICRS 13.31218863 -28.22002067 0.00111111</td><td>--</td><td>mast:HLSP/tasoc/s0003/c1800/0000/0000/6378/7848/hlsp_tasoc_tess_ffi_tic00063787848-s0003-cam2-ccd4-c1800_tess_v05_cbv-lc.fits</td><td>PUBLIC</td><td>False</td><td>nan</td><td>81908608</td><td>899.8079946763623</td></tr>\n",
       "<tr><td>science</td><td>GALEX</td><td>AIS</td><td>GALEX</td><td>AIS</td><td>NUV</td><td>UV</td><td>AIS_281_1_14</td><td>--</td><td>6380802579076481024</td><td>13.375796567031102</td><td>-28.1265195718468</td><td>image</td><td>--</td><td>2</td><td>54055.71357638889</td><td>54055.714826388896</td><td>108.0</td><td>169300000000.0</td><td>300700000000.0</td><td>--</td><td>55421.58981478</td><td>--</td><td>AIS</td><td>--</td><td>CIRCLE ICRS  13.37579657 -28.12651957 0.625</td><td>http://galex.stsci.edu/data/GR6/pipe/02-vsn/50281-AIS_281/d/01-main/0001-img/07-try/qa/AIS_281_sg14-xd-int_2color.jpg</td><td>http://galex.stsci.edu/data/GR6/pipe/02-vsn/50281-AIS_281/d/01-main/0001-img/07-try/AIS_281_sg14-nd-exp.fits.gz</td><td>PUBLIC</td><td>--</td><td>5885.0</td><td>29873</td><td>0.0</td></tr>\n",
       "<tr><td>science</td><td>GALEX</td><td>AIS</td><td>GALEX</td><td>AIS</td><td>FUV</td><td>UV</td><td>AIS_281_1_14</td><td>--</td><td>6380802579076481024</td><td>13.375796567031102</td><td>-28.1265195718468</td><td>image</td><td>--</td><td>2</td><td>54055.71357638889</td><td>54055.714826388896</td><td>108.0</td><td>134000000000.0</td><td>180600000000.0</td><td>--</td><td>55421.58981478</td><td>--</td><td>AIS</td><td>--</td><td>CIRCLE ICRS  13.37579657 -28.12651957 0.625</td><td>http://galex.stsci.edu/data/GR6/pipe/02-vsn/50281-AIS_281/d/01-main/0001-img/07-try/qa/AIS_281_sg14-xd-int_2color.jpg</td><td>http://galex.stsci.edu/data/GR6/pipe/02-vsn/50281-AIS_281/d/01-main/0001-img/07-try/AIS_281_sg14-fd-cnt.fits.gz</td><td>PUBLIC</td><td>--</td><td>5885.0</td><td>29873</td><td>0.0</td></tr>\n",
       "</table></div>"
      ],
      "text/plain": [
       "<Table masked=True length=311>\n",
       "intentType obs_collection  provenance_name  instrument_name project filters ... dataRights mtFlag  srcDen   obsid        distance    \n",
       "   str7         str5            str17            str10        str4    str4  ...    str6     bool  float64    str9        float64     \n",
       "---------- -------------- ----------------- --------------- ------- ------- ... ---------- ------ ------- --------- -----------------\n",
       "   science           TESS              SPOC      Photometer    TESS    TESS ...     PUBLIC  False     nan  60942206               0.0\n",
       "   science           TESS              SPOC      Photometer    TESS    TESS ...     PUBLIC  False     nan  27972860               0.0\n",
       "   science           TESS              SPOC      Photometer    TESS    TESS ...     PUBLIC  False     nan  28055405               0.0\n",
       "   science           TESS              SPOC      Photometer    TESS    TESS ...     PUBLIC  False     nan  27901915 789.0070932805666\n",
       "   science            PS1               3PI            GPC1     PS1       g ...     PUBLIC     --  5885.0   1766282               0.0\n",
       "   science            PS1               3PI            GPC1     PS1       i ...     PUBLIC     --  5885.0   1766283               0.0\n",
       "       ...            ...               ...             ...     ...     ... ...        ...    ...     ...       ...               ...\n",
       "   science           HLSP GSFC-ELEANOR-LITE      Photometer    TESS    TESS ...     PUBLIC  False     nan 104602552 897.0932265928994\n",
       "   science           HLSP              TGLC      Photometer    TESS    TESS ...     PUBLIC  False     nan 119097568 897.2832213004979\n",
       "   science           HLSP              TGLC      Photometer    TESS    TESS ...     PUBLIC  False     nan 119105512 899.7346162810717\n",
       "   science           HLSP GSFC-ELEANOR-LITE      Photometer    TESS    TESS ...     PUBLIC  False     nan 104548672 899.8079946763623\n",
       "   science           HLSP             TASOC      Photometer    TESS    TESS ...     PUBLIC  False     nan  81908608 899.8079946763623\n",
       "   science          GALEX               AIS           GALEX     AIS     NUV ...     PUBLIC     --  5885.0     29873               0.0\n",
       "   science          GALEX               AIS           GALEX     AIS     FUV ...     PUBLIC     --  5885.0     29873               0.0"
      ]
     },
     "execution_count": 9,
     "metadata": {},
     "output_type": "execute_result"
    }
   ],
   "source": [
    "obs_table "
   ]
  },
  {
   "cell_type": "code",
   "execution_count": 10,
   "id": "891db7f5-0d41-4c31-95c9-584d71342309",
   "metadata": {},
   "outputs": [],
   "source": [
    "obs_table = Observations.query_criteria(filters=[\"*UV\",\"Kepler\"],objectname=target_name_simbad)"
   ]
  },
  {
   "cell_type": "code",
   "execution_count": 11,
   "id": "e783645e-90eb-46f7-98f1-8956851c255c",
   "metadata": {},
   "outputs": [
    {
     "data": {
      "text/html": [
       "<div><i>Table masked=True length=2</i>\n",
       "<table id=\"table4733866672\" class=\"table-striped table-bordered table-condensed\">\n",
       "<thead><tr><th>dataproduct_type</th><th>calib_level</th><th>obs_collection</th><th>obs_id</th><th>target_name</th><th>s_ra</th><th>s_dec</th><th>t_min</th><th>t_max</th><th>t_exptime</th><th>wavelength_region</th><th>filters</th><th>em_min</th><th>em_max</th><th>target_classification</th><th>obs_title</th><th>t_obs_release</th><th>instrument_name</th><th>proposal_pi</th><th>proposal_id</th><th>proposal_type</th><th>project</th><th>sequence_number</th><th>provenance_name</th><th>s_region</th><th>jpegURL</th><th>dataURL</th><th>dataRights</th><th>mtFlag</th><th>srcDen</th><th>intentType</th><th>obsid</th><th>objID</th><th>objID1</th><th>distance</th></tr></thead>\n",
       "<thead><tr><th>str5</th><th>int64</th><th>str5</th><th>str19</th><th>str12</th><th>float64</th><th>float64</th><th>float64</th><th>float64</th><th>float64</th><th>str2</th><th>str3</th><th>float64</th><th>float64</th><th>str1</th><th>str1</th><th>float64</th><th>str5</th><th>str1</th><th>str1</th><th>str3</th><th>str3</th><th>int64</th><th>str3</th><th>str43</th><th>str117</th><th>str111</th><th>str6</th><th>bool</th><th>float64</th><th>str7</th><th>str5</th><th>str5</th><th>str5</th><th>float64</th></tr></thead>\n",
       "<tr><td>image</td><td>2</td><td>GALEX</td><td>6380802579076481024</td><td>AIS_281_1_14</td><td>13.375796567031102</td><td>-28.1265195718468</td><td>54055.71357638889</td><td>54055.714826388896</td><td>108.0</td><td>UV</td><td>NUV</td><td>169300000000.0</td><td>300700000000.0</td><td>--</td><td>--</td><td>55421.58981478</td><td>GALEX</td><td>--</td><td>--</td><td>AIS</td><td>AIS</td><td>--</td><td>AIS</td><td>CIRCLE ICRS  13.37579657 -28.12651957 0.625</td><td>http://galex.stsci.edu/data/GR6/pipe/02-vsn/50281-AIS_281/d/01-main/0001-img/07-try/qa/AIS_281_sg14-xd-int_2color.jpg</td><td>http://galex.stsci.edu/data/GR6/pipe/02-vsn/50281-AIS_281/d/01-main/0001-img/07-try/AIS_281_sg14-nd-exp.fits.gz</td><td>PUBLIC</td><td>--</td><td>5885.0</td><td>science</td><td>29873</td><td>52324</td><td>52324</td><td>0.0</td></tr>\n",
       "<tr><td>image</td><td>2</td><td>GALEX</td><td>6380802579076481024</td><td>AIS_281_1_14</td><td>13.375796567031102</td><td>-28.1265195718468</td><td>54055.71357638889</td><td>54055.714826388896</td><td>108.0</td><td>UV</td><td>FUV</td><td>134000000000.0</td><td>180600000000.0</td><td>--</td><td>--</td><td>55421.58981478</td><td>GALEX</td><td>--</td><td>--</td><td>AIS</td><td>AIS</td><td>--</td><td>AIS</td><td>CIRCLE ICRS  13.37579657 -28.12651957 0.625</td><td>http://galex.stsci.edu/data/GR6/pipe/02-vsn/50281-AIS_281/d/01-main/0001-img/07-try/qa/AIS_281_sg14-xd-int_2color.jpg</td><td>http://galex.stsci.edu/data/GR6/pipe/02-vsn/50281-AIS_281/d/01-main/0001-img/07-try/AIS_281_sg14-fd-cnt.fits.gz</td><td>PUBLIC</td><td>--</td><td>5885.0</td><td>science</td><td>29873</td><td>52325</td><td>52325</td><td>0.0</td></tr>\n",
       "</table></div>"
      ],
      "text/plain": [
       "<Table masked=True length=2>\n",
       "dataproduct_type calib_level obs_collection        obs_id       target_name         s_ra        ...  srcDen intentType obsid objID objID1 distance\n",
       "      str5          int64         str5             str19           str12          float64       ... float64    str7     str5  str5  str5  float64 \n",
       "---------------- ----------- -------------- ------------------- ------------ ------------------ ... ------- ---------- ----- ----- ------ --------\n",
       "           image           2          GALEX 6380802579076481024 AIS_281_1_14 13.375796567031102 ...  5885.0    science 29873 52324  52324      0.0\n",
       "           image           2          GALEX 6380802579076481024 AIS_281_1_14 13.375796567031102 ...  5885.0    science 29873 52325  52325      0.0"
      ]
     },
     "execution_count": 11,
     "metadata": {},
     "output_type": "execute_result"
    }
   ],
   "source": [
    "obs_table"
   ]
  },
  {
   "cell_type": "code",
   "execution_count": 12,
   "id": "16f2fd2d-73b9-4cb8-86f2-eb9ea5c3c182",
   "metadata": {},
   "outputs": [
    {
     "name": "stdout",
     "output_type": "stream",
     "text": [
      "311\n"
     ]
    }
   ],
   "source": [
    "print(Observations.query_object_count(target_name_simbad,radius=\".25 deg\"))  "
   ]
  },
  {
   "cell_type": "code",
   "execution_count": 13,
   "id": "7db1e3e1-f6f3-439c-9287-412eed730b35",
   "metadata": {},
   "outputs": [
    {
     "name": "stdout",
     "output_type": "stream",
     "text": [
      "79164\n"
     ]
    }
   ],
   "source": [
    "print(Observations.query_criteria_count(dataproduct_type=\"image\",filters=[\"NUV\",\"FUV\"]))"
   ]
  },
  {
   "cell_type": "code",
   "execution_count": 14,
   "id": "20090f4f-fec3-46b5-9ad5-86f4b837a96c",
   "metadata": {},
   "outputs": [
    {
     "name": "stdout",
     "output_type": "stream",
     "text": [
      " obsID   obs_collection dataproduct_type               obs_id               ...   size   parent_obsid dataRights calib_level\n",
      "-------- -------------- ---------------- ---------------------------------- ... -------- ------------ ---------- -----------\n",
      "60928817           TESS            image tess2018263125940-s0003-2-4-0123-s ... 35547840     60942206     PUBLIC           2\n",
      "60928817           TESS            image tess2018263125940-s0003-2-4-0123-s ... 17775360     60942206     PUBLIC           1\n",
      "60925595           TESS            image tess2018263132940-s0003-2-4-0123-s ... 35547840     60942206     PUBLIC           2\n",
      "60925595           TESS            image tess2018263132940-s0003-2-4-0123-s ... 17775360     60942206     PUBLIC           1\n",
      "60940487           TESS            image tess2018263135940-s0003-2-4-0123-s ... 35547840     60942206     PUBLIC           2\n",
      "60940487           TESS            image tess2018263135940-s0003-2-4-0123-s ... 17775360     60942206     PUBLIC           1\n",
      "60936931           TESS            image tess2018263142940-s0003-2-4-0123-s ... 35547840     60942206     PUBLIC           2\n",
      "     ...            ...              ...                                ... ...      ...          ...        ...         ...\n",
      "27960364           TESS            image tess2020265213913-s0029-2-3-0193-s ... 17775360     27972860     PUBLIC           1\n",
      "27961626           TESS            image tess2020265214913-s0029-2-3-0193-s ... 35547840     27972860     PUBLIC           2\n",
      "27961626           TESS            image tess2020265214913-s0029-2-3-0193-s ... 17775360     27972860     PUBLIC           1\n",
      "27960905           TESS            image tess2020265215913-s0029-2-3-0193-s ... 35547840     27972860     PUBLIC           2\n",
      "27960905           TESS            image tess2020265215913-s0029-2-3-0193-s ... 17775360     27972860     PUBLIC           1\n",
      "27947223           TESS            image tess2020265220913-s0029-2-3-0193-s ... 35547840     27972860     PUBLIC           2\n",
      "27947223           TESS            image tess2020265220913-s0029-2-3-0193-s ... 17775360     27972860     PUBLIC           1\n",
      "Length = 9846 rows\n"
     ]
    }
   ],
   "source": [
    "obs_table = Observations.query_object(target_name_simbad,radius=\".25 deg\")\n",
    "\n",
    "data_products_by_obs = Observations.get_product_list(obs_table[0:2])\n",
    "\n",
    "print(data_products_by_obs)  "
   ]
  },
  {
   "cell_type": "code",
   "execution_count": 15,
   "id": "c8b5ab2a-52f0-4c64-a0e4-5546fb39c57c",
   "metadata": {},
   "outputs": [],
   "source": [
    "data_products_by_obs = Observations.get_product_list(obs_table)"
   ]
  },
  {
   "cell_type": "code",
   "execution_count": 16,
   "id": "46685a14-c774-4c19-9784-dfe1001e35bb",
   "metadata": {},
   "outputs": [
    {
     "name": "stdout",
     "output_type": "stream",
     "text": [
      " obsID   obs_collection dataproduct_type               obs_id               ...   size   parent_obsid dataRights calib_level\n",
      "-------- -------------- ---------------- ---------------------------------- ... -------- ------------ ---------- -----------\n",
      "  110382          GALEX            image                6380802441637527552 ...     4820        29873     PUBLIC           2\n",
      "  110382          GALEX            image                6380802441637527552 ...   403437        29873     PUBLIC           2\n",
      "  110382          GALEX            image                6380802441637527552 ...    63763        29873     PUBLIC           2\n",
      "  110382          GALEX            image                6380802441637527552 ...     2191        29873     PUBLIC           2\n",
      "  110382          GALEX            image                6380802441637527552 ...    12680        29873     PUBLIC           2\n",
      "  110382          GALEX            image                6380802441637527552 ...     4307        29873     PUBLIC           2\n",
      "  110382          GALEX            image                6380802441637527552 ...  3988246        29873     PUBLIC           2\n",
      "     ...            ...              ...                                ... ...      ...          ...        ...         ...\n",
      "28004704           TESS            image tess2020294163912-s0030-2-4-0195-s ... 17769600     28055405     PUBLIC           1\n",
      "28046399           TESS            image tess2020294164912-s0030-2-4-0195-s ... 35536320     28055405     PUBLIC           2\n",
      "28046399           TESS            image tess2020294164912-s0030-2-4-0195-s ... 17769600     28055405     PUBLIC           1\n",
      "28051699           TESS            image tess2020294165912-s0030-2-4-0195-s ... 35536320     28055405     PUBLIC           2\n",
      "28051699           TESS            image tess2020294165912-s0030-2-4-0195-s ... 17769600     28055405     PUBLIC           1\n",
      "28000691           TESS            image tess2020294170912-s0030-2-4-0195-s ... 35536320     28055405     PUBLIC           2\n",
      "28000691           TESS            image tess2020294170912-s0030-2-4-0195-s ... 17769600     28055405     PUBLIC           1\n",
      "Length = 28345 rows\n"
     ]
    }
   ],
   "source": [
    "print(data_products_by_obs)  "
   ]
  },
  {
   "cell_type": "markdown",
   "id": "cc72efda-c7c1-4d04-9d08-152775cc08ad",
   "metadata": {},
   "source": [
    "## Missions"
   ]
  },
  {
   "cell_type": "code",
   "execution_count": 17,
   "id": "2e00bc61-74eb-45d8-930e-3e61243db468",
   "metadata": {},
   "outputs": [],
   "source": [
    "from astroquery.mast import MastMissions\n",
    "\n",
    "missions = MastMissions()"
   ]
  },
  {
   "cell_type": "code",
   "execution_count": 18,
   "id": "8c1cbaf5-78b6-49fb-a513-d4192b98172b",
   "metadata": {},
   "outputs": [
    {
     "data": {
      "text/plain": [
       "'hst'"
      ]
     },
     "execution_count": 18,
     "metadata": {},
     "output_type": "execute_result"
    }
   ],
   "source": [
    "missions.mission"
   ]
  },
  {
   "cell_type": "code",
   "execution_count": 19,
   "id": "0f68f50e-0ae7-4735-a4d4-3f518b9ba459",
   "metadata": {},
   "outputs": [],
   "source": [
    "columns = missions.get_column_list()"
   ]
  },
  {
   "cell_type": "code",
   "execution_count": 20,
   "id": "2ff367e4-39c3-4ae8-a61b-eb822c994d1e",
   "metadata": {},
   "outputs": [
    {
     "data": {
      "text/html": [
       "<div><i>Table length=55</i>\n",
       "<table id=\"table4733869648\" class=\"table-striped table-bordered table-condensed\">\n",
       "<thead><tr><th>name</th><th>data_type</th><th>description</th></tr></thead>\n",
       "<thead><tr><th>str22</th><th>str9</th><th>str226</th></tr></thead>\n",
       "<tr><td>search_pos</td><td>string</td><td>Search Position (RA and Dec)</td></tr>\n",
       "<tr><td>sci_data_set_name</td><td>string</td><td>Data set name, the first character indicates instrument; L=COS; I=WFC3; J=ACS; N=NICMOS; O=STIS; U=WFPC2; W=WFPC; X=FOC; Y=FOS; Z=GHRS; F=FGS; V=HSP; nine-character name    (e.g. J8BA7JCAQ, O4140Q020)</td></tr>\n",
       "<tr><td>sci_archive_class</td><td>string</td><td>Archive ingest classification, where the only choices are CAL=&apos;calibrated science&apos; and AST=&apos;astrometric&apos; (FGS only)</td></tr>\n",
       "<tr><td>sci_program_id</td><td>string</td><td>Internal program ID, which is not the same as proposal ID;    Three-character name    (e.g. 8G6, 9FA, 8M8, 4QA)</td></tr>\n",
       "<tr><td>sci_obset_id</td><td>string</td><td>Observation set ID, indicating the fourth and fifth letters of a dataset name. In most cases, this is usually the observation visit number;    Two-character name    (e.g. 10, 42, G1, GA, H6)</td></tr>\n",
       "<tr><td>sci_obsnum</td><td>string</td><td>Observation number, used in the Science Operations Ground System (SOGS) header;    (e.g. 01, 02, RO, 011, AK, 070)</td></tr>\n",
       "<tr><td>...</td><td>...</td><td>...</td></tr>\n",
       "<tr><td>sci_preview_name</td><td>string</td><td>Preview name, generally the same as the data set name    (e.g. J9FAHGH5Q)</td></tr>\n",
       "<tr><td>sci_obs_type</td><td>string</td><td>Observation category; ASTROMETERY (FGS only), IMAGE, PHOTOMETRY (HSP only), SPECTRUM</td></tr>\n",
       "<tr><td>scp_scan_type</td><td>string</td><td>Observation scan mode; one of two types of spatial scan (C=observation taken in continuous scan mode, or D=observation taken in scan mode with a dwell)</td></tr>\n",
       "<tr><td>sci_hlsp</td><td>integer</td><td>Number of known High Level Science Products</td></tr>\n",
       "<tr><td>ang_sep</td><td>float</td><td>Angular Separation</td></tr>\n",
       "<tr><td>sci_status</td><td>string</td><td>Data access status (PUBLIC or PROPRIETARY=exclusive data)</td></tr>\n",
       "<tr><td>search_key</td><td>string</td><td>Search Key (Concat of sci_data_set_name and search_pos)</td></tr>\n",
       "</table></div>"
      ],
      "text/plain": [
       "<Table length=55>\n",
       "       name       ...\n",
       "      str22       ...\n",
       "----------------- ...\n",
       "       search_pos ...\n",
       "sci_data_set_name ...\n",
       "sci_archive_class ...\n",
       "   sci_program_id ...\n",
       "     sci_obset_id ...\n",
       "       sci_obsnum ...\n",
       "              ... ...\n",
       " sci_preview_name ...\n",
       "     sci_obs_type ...\n",
       "    scp_scan_type ...\n",
       "         sci_hlsp ...\n",
       "          ang_sep ...\n",
       "       sci_status ...\n",
       "       search_key ..."
      ]
     },
     "execution_count": 20,
     "metadata": {},
     "output_type": "execute_result"
    }
   ],
   "source": [
    "columns"
   ]
  },
  {
   "cell_type": "code",
   "execution_count": 21,
   "id": "ae847fd2-651c-4016-9025-1a2ffaa8b245",
   "metadata": {},
   "outputs": [
    {
     "name": "stderr",
     "output_type": "stream",
     "text": [
      "WARNING: NoResultsWarning: Query returned no results. [astroquery.mast.services]\n"
     ]
    }
   ],
   "source": [
    "results = missions.query_region(coord, radius=0.25)"
   ]
  },
  {
   "cell_type": "code",
   "execution_count": 22,
   "id": "32ecf0a9-aaac-4265-acfa-a34d6081b168",
   "metadata": {},
   "outputs": [
    {
     "data": {
      "text/html": [
       "<div><i>Table masked=True length=0</i>\n",
       "<table id=\"table4733936736\" class=\"table-striped table-bordered table-condensed\">\n",
       "<thead><tr><th>search_pos</th><th>sci_data_set_name</th><th>sci_targname</th><th>sci_ra</th><th>sci_dec</th><th>sci_refnum</th><th>sci_start_time</th><th>sci_stop_time</th><th>sci_actual_duration</th><th>sci_instrume</th><th>sci_aper_1234</th><th>sci_spec_1234</th><th>sci_central_wavelength</th><th>sci_pep_id</th><th>sci_pi_last_name</th><th>sci_release_date</th><th>sci_preview_name</th><th>scp_scan_type</th><th>sci_hlsp</th><th>ang_sep</th></tr></thead>\n",
       "<thead><tr><th>str1</th><th>str1</th><th>str1</th><th>float64</th><th>float64</th><th>int64</th><th>str1</th><th>str1</th><th>float64</th><th>str1</th><th>str1</th><th>str1</th><th>float64</th><th>int64</th><th>str1</th><th>str1</th><th>str1</th><th>str1</th><th>int64</th><th>str1</th></tr></thead>\n",
       "</table></div>"
      ],
      "text/plain": [
       "<Table masked=True length=0>\n",
       "search_pos sci_data_set_name sci_targname  sci_ra sci_dec sci_refnum ... sci_release_date sci_preview_name scp_scan_type sci_hlsp ang_sep\n",
       "   str1           str1           str1     float64 float64   int64    ...       str1             str1            str1      int64     str1 \n",
       "---------- ----------------- ------------ ------- ------- ---------- ... ---------------- ---------------- ------------- -------- -------"
      ]
     },
     "execution_count": 22,
     "metadata": {},
     "output_type": "execute_result"
    }
   ],
   "source": [
    "results"
   ]
  },
  {
   "cell_type": "markdown",
   "id": "85d10d1a-fa2f-4713-adfa-333bd7d60136",
   "metadata": {},
   "source": [
    "# Catalog\n",
    "\n",
    "\n",
    "\n",
    "\n",
    "    The Hubble Source Catalog (HSC)\n",
    "\n",
    "    The GALEX Catalog (V2 and V3)\n",
    "\n",
    "    The Gaia (DR1 and DR2) and TGAS Catalogs\n",
    "\n",
    "    The TESS Input Catalog (TIC)\n",
    "\n",
    "    The TESS Candidate Target List (CTL)\n",
    "\n",
    "    The Disk Detective Catalog\n",
    "\n",
    "    The PanSTARRS Catalog (DR1 and DR2)\n",
    "\n",
    "    The All-Sky PLATO Input Catalog (DR1)\n"
   ]
  },
  {
   "cell_type": "code",
   "execution_count": 24,
   "id": "b891b748-345f-430c-8e40-f2b9d1a61a3f",
   "metadata": {},
   "outputs": [],
   "source": [
    "from astroquery.mast import Catalogs"
   ]
  },
  {
   "cell_type": "code",
   "execution_count": 25,
   "id": "5e29f771-ce8f-46c2-9eda-86b817f4cb8e",
   "metadata": {},
   "outputs": [],
   "source": [
    "catalog_data = Catalogs.query_object(target_name_simbad, catalog=\"Galex\")"
   ]
  },
  {
   "cell_type": "code",
   "execution_count": 26,
   "id": "d144b33c-322f-4378-a60e-faf8e5f780a1",
   "metadata": {},
   "outputs": [
    {
     "data": {
      "text/html": [
       "<div><i>Table masked=True length=474</i>\n",
       "<table id=\"table4733760944\" class=\"table-striped table-bordered table-condensed\">\n",
       "<thead><tr><th>distance_arcmin</th><th>objID</th><th>survey</th><th>ra</th><th>dec</th><th>band</th><th>fov_radius</th><th>IAUName</th><th>nuv_exptime</th><th>fuv_exptime</th><th>fuv_mag</th><th>fuv_magerr</th><th>nuv_mag</th><th>nuv_magerr</th><th>fuv_flux</th><th>fuv_fluxerr</th><th>nuv_flux</th><th>nuv_fluxerr</th><th>e_bv</th><th>ra_cent</th><th>dec_cent</th><th>xCenter</th><th>yCenter</th><th>SSAPFitsFile</th><th>nuv_flux_auto</th><th>nuv_flux_aper_7</th><th>nuv_artifact</th><th>fuv_flux_auto</th><th>fuv_flux_aper_7</th><th>fuv_artifact</th></tr></thead>\n",
       "<thead><tr><th>float64</th><th>str19</th><th>str3</th><th>float64</th><th>float64</th><th>int64</th><th>float64</th><th>str22</th><th>float64</th><th>float64</th><th>float64</th><th>float64</th><th>float64</th><th>float64</th><th>float64</th><th>float64</th><th>float64</th><th>float64</th><th>float64</th><th>float64</th><th>float64</th><th>float64</th><th>float64</th><th>str1</th><th>float64</th><th>float64</th><th>int64</th><th>float64</th><th>float64</th><th>int64</th></tr></thead>\n",
       "<tr><td>1.007453327937128</td><td>6380802579077530534</td><td>AIS</td><td>13.49358223794343</td><td>-28.40468652758306</td><td>1</td><td>0.296882182</td><td>GALEX J005358.4-282416</td><td>108.0</td><td>108.0</td><td>--</td><td>--</td><td>21.5107937</td><td>0.3604291</td><td>--</td><td>--</td><td>9.029878</td><td>2.9968977</td><td>0.0180339962</td><td>13.3758</td><td>-28.12652</td><td>1953.991</td><td>1915.793</td><td>--</td><td>0.2677209</td><td>0.269305468</td><td>0</td><td>--</td><td>--</td><td>0</td></tr>\n",
       "<tr><td>1.1570112318343508</td><td>6380802579077530499</td><td>AIS</td><td>13.52442935213248</td><td>-28.41510001695875</td><td>1</td><td>0.316882282</td><td>GALEX J005405.8-282454</td><td>108.0</td><td>108.0</td><td>--</td><td>--</td><td>22.173336</td><td>0.472773343</td><td>--</td><td>--</td><td>4.905293</td><td>2.13544345</td><td>0.0175703857</td><td>13.3758</td><td>-28.12652</td><td>1953.991</td><td>1915.793</td><td>--</td><td>0.1454338</td><td>0.113484353</td><td>0</td><td>--</td><td>--</td><td>0</td></tr>\n",
       "<tr><td>1.2850870876665763</td><td>6380802579077530550</td><td>AIS</td><td>13.48753421553544</td><td>-28.40202009154056</td><td>1</td><td>0.292551041</td><td>GALEX J005357.0-282407</td><td>108.0</td><td>108.0</td><td>--</td><td>--</td><td>22.7267532</td><td>0.53684485</td><td>--</td><td>--</td><td>2.94644356</td><td>1.45652211</td><td>0.0180339962</td><td>13.3758</td><td>-28.12652</td><td>1953.991</td><td>1915.793</td><td>--</td><td>0.08735716</td><td>-0.0596656837</td><td>0</td><td>--</td><td>--</td><td>0</td></tr>\n",
       "<tr><td>1.363584856331773</td><td>6380802579077530502</td><td>AIS</td><td>13.49267323055165</td><td>-28.41477545277933</td><td>1</td><td>0.30608356</td><td>GALEX J005358.2-282453</td><td>108.0</td><td>108.0</td><td>--</td><td>--</td><td>22.3088741</td><td>0.45572567</td><td>--</td><td>--</td><td>4.32962465</td><td>1.81687009</td><td>0.0180339962</td><td>13.3758</td><td>-28.12652</td><td>1953.991</td><td>1915.793</td><td>--</td><td>0.128366187</td><td>0.12960507</td><td>0</td><td>--</td><td>--</td><td>0</td></tr>\n",
       "<tr><td>1.3815148586786572</td><td>6380802579077530542</td><td>AIS</td><td>13.53755642425988</td><td>-28.40298585619871</td><td>1</td><td>0.311017841</td><td>GALEX J005409.0-282410</td><td>108.0</td><td>108.0</td><td>--</td><td>--</td><td>22.4501553</td><td>0.5138618</td><td>--</td><td>--</td><td>3.801349</td><td>1.79868126</td><td>0.0187648423</td><td>13.3758</td><td>-28.12652</td><td>1953.991</td><td>1915.793</td><td>--</td><td>0.1127037</td><td>0.040572945</td><td>0</td><td>--</td><td>--</td><td>0</td></tr>\n",
       "<tr><td>1.5200551875845891</td><td>6380802579077530547</td><td>AIS</td><td>13.54047227358614</td><td>-28.39828638191474</td><td>1</td><td>0.308050334</td><td>GALEX J005409.7-282353</td><td>108.0</td><td>108.0</td><td>--</td><td>--</td><td>21.3266182</td><td>0.315423965</td><td>--</td><td>--</td><td>10.6992226</td><td>3.10754251</td><td>0.0187648423</td><td>13.3758</td><td>-28.12652</td><td>1953.991</td><td>1915.793</td><td>--</td><td>0.317214221</td><td>0.2249951</td><td>0</td><td>--</td><td>--</td><td>0</td></tr>\n",
       "<tr><td>...</td><td>...</td><td>...</td><td>...</td><td>...</td><td>...</td><td>...</td><td>...</td><td>...</td><td>...</td><td>...</td><td>...</td><td>...</td><td>...</td><td>...</td><td>...</td><td>...</td><td>...</td><td>...</td><td>...</td><td>...</td><td>...</td><td>...</td><td>...</td><td>...</td><td>...</td><td>...</td><td>...</td><td>...</td><td>...</td></tr>\n",
       "<tr><td>11.93672697438939</td><td>6380802579077531376</td><td>AIS</td><td>13.4770157690612</td><td>-28.20281235530902</td><td>1</td><td>0.117402509</td><td>GALEX J005354.4-281210</td><td>108.0</td><td>108.0</td><td>--</td><td>--</td><td>22.2118931</td><td>0.519642353</td><td>--</td><td>--</td><td>4.734154</td><td>2.265255</td><td>0.0193091054</td><td>13.3758</td><td>-28.12652</td><td>1953.991</td><td>1915.793</td><td>--</td><td>0.140359819</td><td>0.0168980788</td><td>0</td><td>--</td><td>--</td><td>0</td></tr>\n",
       "<tr><td>11.941483482295286</td><td>6380802579077530173</td><td>AIS</td><td>13.32044743038279</td><td>-28.5058704858099</td><td>1</td><td>0.382467449</td><td>GALEX J005316.9-283021</td><td>108.0</td><td>108.0</td><td>--</td><td>--</td><td>22.3224239</td><td>0.4803859</td><td>--</td><td>--</td><td>4.27592373</td><td>1.89143038</td><td>0.0156129925</td><td>13.3758</td><td>-28.12652</td><td>1953.991</td><td>1915.793</td><td>--</td><td>0.126774043</td><td>-0.04239073</td><td>0</td><td>--</td><td>--</td><td>0</td></tr>\n",
       "<tr><td>11.944485054414493</td><td>6380802579077531204</td><td>AIS</td><td>13.37421913284924</td><td>-28.24133806008406</td><td>1</td><td>0.11482691</td><td>GALEX J005329.8-281428</td><td>108.0</td><td>108.0</td><td>--</td><td>--</td><td>22.4599552</td><td>0.516837</td><td>--</td><td>--</td><td>3.76719</td><td>1.79283893</td><td>0.0230553076</td><td>13.3758</td><td>-28.12652</td><td>1953.991</td><td>1915.793</td><td>--</td><td>0.111690938</td><td>0.108045287</td><td>0</td><td>--</td><td>--</td><td>0</td></tr>\n",
       "<tr><td>11.960313734754418</td><td>6380802579077531227</td><td>AIS</td><td>13.37958314424999</td><td>-28.23750849251964</td><td>1</td><td>0.111039087</td><td>GALEX J005331.1-281415</td><td>108.0</td><td>108.0</td><td>--</td><td>--</td><td>22.9667034</td><td>0.6712572</td><td>--</td><td>--</td><td>2.36220837</td><td>1.46008229</td><td>0.0230553076</td><td>13.3758</td><td>-28.12652</td><td>1953.991</td><td>1915.793</td><td>--</td><td>0.07003556</td><td>0.0737326741</td><td>0</td><td>--</td><td>--</td><td>0</td></tr>\n",
       "<tr><td>11.968221286280812</td><td>6380802579077530989</td><td>AIS</td><td>13.70290771508721</td><td>-28.29230288541114</td><td>1</td><td>0.332531333</td><td>GALEX J005448.7-281732</td><td>108.0</td><td>108.0</td><td>--</td><td>--</td><td>21.9759884</td><td>0.5158907</td><td>--</td><td>--</td><td>5.883072</td><td>2.79467964</td><td>0.0163700879</td><td>13.3758</td><td>-28.12652</td><td>1953.991</td><td>1915.793</td><td>--</td><td>0.174423322</td><td>0.105806477</td><td>0</td><td>--</td><td>--</td><td>0</td></tr>\n",
       "<tr><td>11.981613158550516</td><td>6380802579077529903</td><td>AIS</td><td>13.57544312313052</td><td>-28.59107461922089</td><td>1</td><td>0.4966659</td><td>GALEX J005418.1-283527</td><td>108.0</td><td>108.0</td><td>--</td><td>--</td><td>22.1993523</td><td>0.455097079</td><td>--</td><td>--</td><td>4.789155</td><td>2.00693417</td><td>0.0192081537</td><td>13.3758</td><td>-28.12652</td><td>1953.991</td><td>1915.793</td><td>--</td><td>0.141990513</td><td>-0.06702257</td><td>1</td><td>--</td><td>--</td><td>256</td></tr>\n",
       "<tr><td>11.999102168424875</td><td>6380802579077530238</td><td>AIS</td><td>13.30505991080236</td><td>-28.48294129162539</td><td>1</td><td>0.361821949</td><td>GALEX J005313.2-282858</td><td>108.0</td><td>108.0</td><td>--</td><td>--</td><td>21.0344181</td><td>0.244643688</td><td>--</td><td>--</td><td>14.003356</td><td>3.15454221</td><td>0.0156129925</td><td>13.3758</td><td>-28.12652</td><td>1953.991</td><td>1915.793</td><td>--</td><td>0.4151763</td><td>0.3418764</td><td>0</td><td>--</td><td>--</td><td>0</td></tr>\n",
       "</table></div>"
      ],
      "text/plain": [
       "<Table masked=True length=474>\n",
       " distance_arcmin          objID        survey         ra               dec         ... nuv_artifact fuv_flux_auto fuv_flux_aper_7 fuv_artifact\n",
       "     float64              str19         str3       float64           float64       ...    int64        float64        float64        int64    \n",
       "------------------ ------------------- ------ ----------------- ------------------ ... ------------ ------------- --------------- ------------\n",
       " 1.007453327937128 6380802579077530534    AIS 13.49358223794343 -28.40468652758306 ...            0            --              --            0\n",
       "1.1570112318343508 6380802579077530499    AIS 13.52442935213248 -28.41510001695875 ...            0            --              --            0\n",
       "1.2850870876665763 6380802579077530550    AIS 13.48753421553544 -28.40202009154056 ...            0            --              --            0\n",
       " 1.363584856331773 6380802579077530502    AIS 13.49267323055165 -28.41477545277933 ...            0            --              --            0\n",
       "1.3815148586786572 6380802579077530542    AIS 13.53755642425988 -28.40298585619871 ...            0            --              --            0\n",
       "1.5200551875845891 6380802579077530547    AIS 13.54047227358614 -28.39828638191474 ...            0            --              --            0\n",
       "               ...                 ...    ...               ...                ... ...          ...           ...             ...          ...\n",
       " 11.93672697438939 6380802579077531376    AIS  13.4770157690612 -28.20281235530902 ...            0            --              --            0\n",
       "11.941483482295286 6380802579077530173    AIS 13.32044743038279  -28.5058704858099 ...            0            --              --            0\n",
       "11.944485054414493 6380802579077531204    AIS 13.37421913284924 -28.24133806008406 ...            0            --              --            0\n",
       "11.960313734754418 6380802579077531227    AIS 13.37958314424999 -28.23750849251964 ...            0            --              --            0\n",
       "11.968221286280812 6380802579077530989    AIS 13.70290771508721 -28.29230288541114 ...            0            --              --            0\n",
       "11.981613158550516 6380802579077529903    AIS 13.57544312313052 -28.59107461922089 ...            1            --              --          256\n",
       "11.999102168424875 6380802579077530238    AIS 13.30505991080236 -28.48294129162539 ...            0            --              --            0"
      ]
     },
     "execution_count": 26,
     "metadata": {},
     "output_type": "execute_result"
    }
   ],
   "source": [
    "catalog_data"
   ]
  },
  {
   "cell_type": "code",
   "execution_count": 27,
   "id": "d965ef66-d84e-4bfe-8a71-c2c453b9f48b",
   "metadata": {},
   "outputs": [],
   "source": [
    "catalog_data = Catalogs.query_object(target_name_simbad, catalog=\"PanSTARRS\")"
   ]
  },
  {
   "cell_type": "code",
   "execution_count": 28,
   "id": "328cb06d-af54-4646-92c6-67cfb1b6468a",
   "metadata": {},
   "outputs": [
    {
     "data": {
      "text/html": [
       "<div><i>Table masked=True length=57698</i>\n",
       "<table id=\"table4736442480\" class=\"table-striped table-bordered table-condensed\">\n",
       "<thead><tr><th>objName</th><th>objAltName1</th><th>objAltName2</th><th>objAltName3</th><th>objID</th><th>uniquePspsOBid</th><th>ippObjID</th><th>surveyID</th><th>htmID</th><th>zoneID</th><th>tessID</th><th>projectionID</th><th>skyCellID</th><th>randomID</th><th>batchID</th><th>dvoRegionID</th><th>processingVersion</th><th>objInfoFlag</th><th>qualityFlag</th><th>raStack</th><th>decStack</th><th>raStackErr</th><th>decStackErr</th><th>raMean</th><th>decMean</th><th>raMeanErr</th><th>decMeanErr</th><th>epochMean</th><th>posMeanChisq</th><th>cx</th><th>cy</th><th>cz</th><th>lambda</th><th>beta</th><th>l</th><th>b</th><th>nStackObjectRows</th><th>nStackDetections</th><th>nDetections</th><th>ng</th><th>nr</th><th>ni</th><th>nz</th><th>ny</th><th>gQfPerfect</th><th>gMeanPSFMag</th><th>gMeanPSFMagErr</th><th>gMeanPSFMagStd</th><th>gMeanPSFMagNpt</th><th>gMeanPSFMagMin</th><th>gMeanPSFMagMax</th><th>gMeanKronMag</th><th>gMeanKronMagErr</th><th>gMeanKronMagStd</th><th>gMeanKronMagNpt</th><th>gMeanApMag</th><th>gMeanApMagErr</th><th>gMeanApMagStd</th><th>gMeanApMagNpt</th><th>gFlags</th><th>rQfPerfect</th><th>rMeanPSFMag</th><th>rMeanPSFMagErr</th><th>rMeanPSFMagStd</th><th>rMeanPSFMagNpt</th><th>rMeanPSFMagMin</th><th>rMeanPSFMagMax</th><th>rMeanKronMag</th><th>rMeanKronMagErr</th><th>rMeanKronMagStd</th><th>rMeanKronMagNpt</th><th>rMeanApMag</th><th>rMeanApMagErr</th><th>rMeanApMagStd</th><th>rMeanApMagNpt</th><th>rFlags</th><th>iQfPerfect</th><th>iMeanPSFMag</th><th>iMeanPSFMagErr</th><th>iMeanPSFMagStd</th><th>iMeanPSFMagNpt</th><th>iMeanPSFMagMin</th><th>iMeanPSFMagMax</th><th>iMeanKronMag</th><th>iMeanKronMagErr</th><th>iMeanKronMagStd</th><th>iMeanKronMagNpt</th><th>iMeanApMag</th><th>iMeanApMagErr</th><th>iMeanApMagStd</th><th>iMeanApMagNpt</th><th>iFlags</th><th>zQfPerfect</th><th>zMeanPSFMag</th><th>zMeanPSFMagErr</th><th>zMeanPSFMagStd</th><th>zMeanPSFMagNpt</th><th>zMeanPSFMagMin</th><th>zMeanPSFMagMax</th><th>zMeanKronMag</th><th>zMeanKronMagErr</th><th>zMeanKronMagStd</th><th>zMeanKronMagNpt</th><th>zMeanApMag</th><th>zMeanApMagErr</th><th>zMeanApMagStd</th><th>zMeanApMagNpt</th><th>zFlags</th><th>yQfPerfect</th><th>yMeanPSFMag</th><th>yMeanPSFMagErr</th><th>yMeanPSFMagStd</th><th>yMeanPSFMagNpt</th><th>yMeanPSFMagMin</th><th>yMeanPSFMagMax</th><th>yMeanKronMag</th><th>yMeanKronMagErr</th><th>yMeanKronMagStd</th><th>yMeanKronMagNpt</th><th>yMeanApMag</th><th>yMeanApMagErr</th><th>yMeanApMagStd</th><th>yMeanApMagNpt</th><th>yFlags</th><th>distance</th></tr></thead>\n",
       "<thead><tr><th>str21</th><th>str4</th><th>str4</th><th>str4</th><th>int64</th><th>int64</th><th>int64</th><th>uint8</th><th>int64</th><th>int64</th><th>uint8</th><th>int64</th><th>uint8</th><th>float64</th><th>int64</th><th>int64</th><th>uint8</th><th>int64</th><th>uint8</th><th>float64</th><th>float64</th><th>float64</th><th>float64</th><th>float64</th><th>float64</th><th>float64</th><th>float64</th><th>float64</th><th>float64</th><th>float64</th><th>float64</th><th>float64</th><th>float64</th><th>float64</th><th>float64</th><th>float64</th><th>int64</th><th>int64</th><th>int64</th><th>int64</th><th>int64</th><th>int64</th><th>int64</th><th>int64</th><th>float64</th><th>float64</th><th>float64</th><th>float64</th><th>int64</th><th>float64</th><th>float64</th><th>float64</th><th>float64</th><th>float64</th><th>int64</th><th>float64</th><th>float64</th><th>float64</th><th>int64</th><th>int64</th><th>float64</th><th>float64</th><th>float64</th><th>float64</th><th>int64</th><th>float64</th><th>float64</th><th>float64</th><th>float64</th><th>float64</th><th>int64</th><th>float64</th><th>float64</th><th>float64</th><th>int64</th><th>int64</th><th>float64</th><th>float64</th><th>float64</th><th>float64</th><th>int64</th><th>float64</th><th>float64</th><th>float64</th><th>float64</th><th>float64</th><th>int64</th><th>float64</th><th>float64</th><th>float64</th><th>int64</th><th>int64</th><th>float64</th><th>float64</th><th>float64</th><th>float64</th><th>int64</th><th>float64</th><th>float64</th><th>float64</th><th>float64</th><th>float64</th><th>int64</th><th>float64</th><th>float64</th><th>float64</th><th>int64</th><th>int64</th><th>float64</th><th>float64</th><th>float64</th><th>float64</th><th>int64</th><th>float64</th><th>float64</th><th>float64</th><th>float64</th><th>float64</th><th>int64</th><th>float64</th><th>float64</th><th>float64</th><th>int64</th><th>int64</th><th>float64</th></tr></thead>\n",
       "<tr><td>PSO J013.4876-28.5831</td><td>-999</td><td>-999</td><td>-999</td><td>73700134875710561</td><td>3492331000276245</td><td>482707079706391</td><td>0</td><td>8918627159788</td><td>7370</td><td>1</td><td>638</td><td>85</td><td>0.34742645020357</td><td>3492331</td><td>112389</td><td>3</td><td>268959744</td><td>32</td><td>--</td><td>--</td><td>--</td><td>--</td><td>13.48755159</td><td>-28.58309847</td><td>0.16487999260425568</td><td>0.16487999260425568</td><td>55493.4225</td><td>--</td><td>0.8539060232550649</td><td>0.20480849091295264</td><td>-0.4784328432483283</td><td>359.8388608472596</td><td>-31.36054192096127</td><td>282.186817346985</td><td>-88.44279058221807</td><td>--</td><td>0</td><td>1</td><td>0</td><td>0</td><td>1</td><td>0</td><td>0</td><td>--</td><td>--</td><td>--</td><td>--</td><td>0</td><td>--</td><td>--</td><td>--</td><td>--</td><td>--</td><td>0</td><td>--</td><td>--</td><td>--</td><td>0</td><td>0</td><td>--</td><td>--</td><td>--</td><td>--</td><td>0</td><td>--</td><td>--</td><td>--</td><td>--</td><td>--</td><td>0</td><td>--</td><td>--</td><td>--</td><td>0</td><td>0</td><td>0.6201840043067932</td><td>20.601200103759766</td><td>0.16419799625873566</td><td>--</td><td>1</td><td>20.601200103759766</td><td>20.601200103759766</td><td>--</td><td>--</td><td>--</td><td>0</td><td>20.866300582885742</td><td>0.16419799625873566</td><td>--</td><td>1</td><td>4120</td><td>--</td><td>--</td><td>--</td><td>--</td><td>0</td><td>--</td><td>--</td><td>--</td><td>--</td><td>--</td><td>0</td><td>--</td><td>--</td><td>--</td><td>0</td><td>0</td><td>--</td><td>--</td><td>--</td><td>--</td><td>0</td><td>--</td><td>--</td><td>--</td><td>--</td><td>--</td><td>0</td><td>--</td><td>--</td><td>--</td><td>0</td><td>0</td><td>0.1849204603323666</td></tr>\n",
       "<tr><td>PSO J013.4897-28.5835</td><td>-999</td><td>-999</td><td>-999</td><td>73700134896090079</td><td>3492331000276787</td><td>482707079706933</td><td>0</td><td>8918627273028</td><td>7370</td><td>1</td><td>638</td><td>85</td><td>0.161407577024221</td><td>3492331</td><td>112389</td><td>3</td><td>436527104</td><td>52</td><td>13.48962749</td><td>-28.58350658</td><td>0.0010000000474974513</td><td>0.0010000000474974513</td><td>13.489659663292475</td><td>-28.583527088235527</td><td>0.006036035716533661</td><td>0.005986839532852173</td><td>56035.09683570512</td><td>4.187416076660156</td><td>0.853895006850135</td><td>0.2048390734921426</td><td>-0.47843941230555886</td><td>359.8405856134175</td><td>-31.361778056978025</td><td>282.1282756681172</td><td>-88.44171146725421</td><td>--</td><td>5</td><td>32</td><td>0</td><td>5</td><td>8</td><td>9</td><td>10</td><td>--</td><td>--</td><td>--</td><td>--</td><td>0</td><td>--</td><td>--</td><td>--</td><td>--</td><td>--</td><td>0</td><td>--</td><td>--</td><td>--</td><td>0</td><td>114720</td><td>0.9992769956588745</td><td>21.47879981994629</td><td>0.07015100121498108</td><td>0.16576699912548065</td><td>5</td><td>21.38050079345703</td><td>21.766399383544922</td><td>21.51849937438965</td><td>0.1321749985218048</td><td>0.32094600796699524</td><td>5</td><td>21.515300750732422</td><td>0.06611800193786621</td><td>0.2728480100631714</td><td>5</td><td>115000</td><td>0.9996240139007568</td><td>20.06100082397461</td><td>0.039069000631570816</td><td>0.11765599995851517</td><td>8</td><td>19.79439926147461</td><td>20.137100219726562</td><td>20.14940071105957</td><td>0.06704100221395493</td><td>0.19382600486278534</td><td>8</td><td>20.025800704956055</td><td>0.04275599867105484</td><td>0.2150229960680008</td><td>8</td><td>115000</td><td>0.9989370107650757</td><td>19.173599243164062</td><td>0.013066000305116177</td><td>0.05428500100970268</td><td>9</td><td>19.130599975585938</td><td>19.2987003326416</td><td>19.299800872802734</td><td>0.03786100074648857</td><td>0.16421100497245789</td><td>9</td><td>19.2007999420166</td><td>0.011748000048100948</td><td>0.04354399815201759</td><td>9</td><td>115000</td><td>0.99959397315979</td><td>18.72450065612793</td><td>0.015200999565422535</td><td>0.08078700304031372</td><td>10</td><td>18.684099197387695</td><td>18.944700241088867</td><td>18.920299530029297</td><td>0.0857430025935173</td><td>0.19979900121688843</td><td>10</td><td>18.775800704956055</td><td>0.04699299857020378</td><td>0.18847599625587463</td><td>10</td><td>115000</td><td>0.18514324004255733</td></tr>\n",
       "<tr><td>PSO J013.4896-28.5788</td><td>-999</td><td>-999</td><td>-999</td><td>73700134896525754</td><td>3492331000276803</td><td>482707079706949</td><td>0</td><td>8918627171804</td><td>7370</td><td>1</td><td>638</td><td>85</td><td>0.043581646907685</td><td>3492331</td><td>112389</td><td>3</td><td>268959744</td><td>32</td><td>--</td><td>--</td><td>--</td><td>--</td><td>13.48962771</td><td>-28.57880503</td><td>0.2537800073623657</td><td>0.2537800073623657</td><td>55848.45667824</td><td>--</td><td>0.8539334611821819</td><td>0.204847794585344</td><td>-0.47836703996715707</td><td>359.84304176178597</td><td>-31.357540047500674</td><td>282.06722446004426</td><td>-88.44613990821975</td><td>--</td><td>0</td><td>1</td><td>0</td><td>0</td><td>1</td><td>0</td><td>0</td><td>--</td><td>--</td><td>--</td><td>--</td><td>0</td><td>--</td><td>--</td><td>--</td><td>--</td><td>--</td><td>0</td><td>--</td><td>--</td><td>--</td><td>0</td><td>0</td><td>--</td><td>--</td><td>--</td><td>--</td><td>0</td><td>--</td><td>--</td><td>--</td><td>--</td><td>--</td><td>0</td><td>--</td><td>--</td><td>--</td><td>0</td><td>0</td><td>0.5481430292129517</td><td>20.12299919128418</td><td>0.2533409893512726</td><td>--</td><td>1</td><td>20.12299919128418</td><td>20.12299919128418</td><td>--</td><td>--</td><td>--</td><td>0</td><td>20.931499481201172</td><td>0.2533409893512726</td><td>--</td><td>1</td><td>4112</td><td>--</td><td>--</td><td>--</td><td>--</td><td>0</td><td>--</td><td>--</td><td>--</td><td>--</td><td>--</td><td>0</td><td>--</td><td>--</td><td>--</td><td>0</td><td>0</td><td>--</td><td>--</td><td>--</td><td>--</td><td>0</td><td>--</td><td>--</td><td>--</td><td>--</td><td>--</td><td>0</td><td>--</td><td>--</td><td>--</td><td>0</td><td>0</td><td>0.18045083861622796</td></tr>\n",
       "<tr><td>PSO J013.4920-28.5829</td><td>-999</td><td>-999</td><td>-999</td><td>73700134920700881</td><td>3492331000277483</td><td>482707079707629</td><td>0</td><td>8918627284427</td><td>7370</td><td>1</td><td>638</td><td>85</td><td>0.597304914702945</td><td>3492331</td><td>112389</td><td>3</td><td>268959744</td><td>32</td><td>--</td><td>--</td><td>--</td><td>--</td><td>13.49204816</td><td>-28.58286658</td><td>0.15396000444889069</td><td>0.15396000444889069</td><td>55848.45667824</td><td>--</td><td>0.8538918301540946</td><td>0.20487595655080448</td><td>-0.47842928926172956</td><td>359.84310635839046</td><td>-31.36212381250505</td><td>282.0482474067196</td><td>-88.44158487133227</td><td>--</td><td>0</td><td>1</td><td>0</td><td>0</td><td>1</td><td>0</td><td>0</td><td>--</td><td>--</td><td>--</td><td>--</td><td>0</td><td>--</td><td>--</td><td>--</td><td>--</td><td>--</td><td>0</td><td>--</td><td>--</td><td>--</td><td>0</td><td>0</td><td>--</td><td>--</td><td>--</td><td>--</td><td>0</td><td>--</td><td>--</td><td>--</td><td>--</td><td>--</td><td>0</td><td>--</td><td>--</td><td>--</td><td>0</td><td>0</td><td>0.5543929934501648</td><td>19.589399337768555</td><td>0.15323199331760406</td><td>--</td><td>1</td><td>19.589399337768555</td><td>19.589399337768555</td><td>--</td><td>--</td><td>--</td><td>0</td><td>20.381799697875977</td><td>0.15323199331760406</td><td>--</td><td>1</td><td>4112</td><td>--</td><td>--</td><td>--</td><td>--</td><td>0</td><td>--</td><td>--</td><td>--</td><td>--</td><td>--</td><td>0</td><td>--</td><td>--</td><td>--</td><td>0</td><td>0</td><td>--</td><td>--</td><td>--</td><td>--</td><td>0</td><td>--</td><td>--</td><td>--</td><td>--</td><td>--</td><td>0</td><td>--</td><td>--</td><td>--</td><td>0</td><td>0</td><td>0.1842777832718585</td></tr>\n",
       "<tr><td>PSO J013.4936-28.5775</td><td>-999</td><td>-999</td><td>-999</td><td>73700134936137345</td><td>3492331000277881</td><td>482707079708027</td><td>0</td><td>8918627163461</td><td>7370</td><td>1</td><td>638</td><td>85</td><td>0.483473187762753</td><td>3492331</td><td>112389</td><td>3</td><td>310456320</td><td>37</td><td>--</td><td>--</td><td>--</td><td>--</td><td>13.49364575</td><td>-28.57747592</td><td>0.18216000497341156</td><td>0.18216000497341156</td><td>55511.34664352</td><td>--</td><td>0.8539298838069359</td><td>0.2049102680061452</td><td>-0.47834666885755855</td><td>359.8474306251107</td><td>-31.357953385054106</td><td>281.9281850999051</td><td>-88.44610112824964</td><td>--</td><td>0</td><td>1</td><td>0</td><td>1</td><td>0</td><td>0</td><td>0</td><td>--</td><td>--</td><td>--</td><td>--</td><td>0</td><td>--</td><td>--</td><td>--</td><td>--</td><td>--</td><td>0</td><td>--</td><td>--</td><td>--</td><td>0</td><td>0</td><td>0.42792999744415283</td><td>21.47570037841797</td><td>0.181536003947258</td><td>--</td><td>1</td><td>21.47570037841797</td><td>21.47570037841797</td><td>20.42959976196289</td><td>0.17399899661540985</td><td>--</td><td>1</td><td>20.692800521850586</td><td>0.181536003947258</td><td>--</td><td>1</td><td>16777744</td><td>--</td><td>--</td><td>--</td><td>--</td><td>0</td><td>--</td><td>--</td><td>--</td><td>--</td><td>--</td><td>0</td><td>--</td><td>--</td><td>--</td><td>0</td><td>0</td><td>--</td><td>--</td><td>--</td><td>--</td><td>0</td><td>--</td><td>--</td><td>--</td><td>--</td><td>--</td><td>0</td><td>--</td><td>--</td><td>--</td><td>0</td><td>0</td><td>--</td><td>--</td><td>--</td><td>--</td><td>0</td><td>--</td><td>--</td><td>--</td><td>--</td><td>--</td><td>0</td><td>--</td><td>--</td><td>--</td><td>0</td><td>0</td><td>0.1787815152521373</td></tr>\n",
       "<tr><td>PSO J013.5018-28.5802</td><td>-999</td><td>-999</td><td>-999</td><td>73700135017764081</td><td>3492331000280015</td><td>482707079710161</td><td>0</td><td>8918627319677</td><td>7370</td><td>1</td><td>638</td><td>85</td><td>0.456407988869034</td><td>3492331</td><td>112389</td><td>3</td><td>1384198144</td><td>165</td><td>13.50187399</td><td>-28.58037823</td><td>0.0010000000474974513</td><td>0.0010000000474974513</td><td>13.50180739</td><td>-28.5801996</td><td>0.17913000285625458</td><td>0.17913000285625458</td><td>55511.3353125</td><td>--</td><td>0.853878574426476</td><td>0.2050265967932255</td><td>-0.4783884140975795</td><td>359.85346881041744</td><td>-31.363628125451008</td><td>281.71911944410044</td><td>-88.44094942496164</td><td>--</td><td>1</td><td>1</td><td>0</td><td>1</td><td>0</td><td>0</td><td>0</td><td>--</td><td>--</td><td>--</td><td>--</td><td>0</td><td>--</td><td>--</td><td>--</td><td>--</td><td>--</td><td>0</td><td>--</td><td>--</td><td>--</td><td>0</td><td>16416</td><td>0.36698898673057556</td><td>21.057100296020508</td><td>0.178506001830101</td><td>--</td><td>1</td><td>21.057100296020508</td><td>21.057100296020508</td><td>20.2106990814209</td><td>0.17357400059700012</td><td>--</td><td>1</td><td>20.192100524902344</td><td>0.178506001830101</td><td>--</td><td>1</td><td>16892464</td><td>--</td><td>--</td><td>--</td><td>--</td><td>0</td><td>--</td><td>--</td><td>--</td><td>--</td><td>--</td><td>0</td><td>--</td><td>--</td><td>--</td><td>0</td><td>16416</td><td>--</td><td>--</td><td>--</td><td>--</td><td>0</td><td>--</td><td>--</td><td>--</td><td>--</td><td>--</td><td>0</td><td>--</td><td>--</td><td>--</td><td>0</td><td>16416</td><td>--</td><td>--</td><td>--</td><td>--</td><td>0</td><td>--</td><td>--</td><td>--</td><td>--</td><td>--</td><td>0</td><td>--</td><td>--</td><td>--</td><td>0</td><td>16416</td><td>0.18100854102132746</td></tr>\n",
       "<tr><td>...</td><td>...</td><td>...</td><td>...</td><td>...</td><td>...</td><td>...</td><td>...</td><td>...</td><td>...</td><td>...</td><td>...</td><td>...</td><td>...</td><td>...</td><td>...</td><td>...</td><td>...</td><td>...</td><td>...</td><td>...</td><td>...</td><td>...</td><td>...</td><td>...</td><td>...</td><td>...</td><td>...</td><td>...</td><td>...</td><td>...</td><td>...</td><td>...</td><td>...</td><td>...</td><td>...</td><td>...</td><td>...</td><td>...</td><td>...</td><td>...</td><td>...</td><td>...</td><td>...</td><td>...</td><td>...</td><td>...</td><td>...</td><td>...</td><td>...</td><td>...</td><td>...</td><td>...</td><td>...</td><td>...</td><td>...</td><td>...</td><td>...</td><td>...</td><td>...</td><td>...</td><td>...</td><td>...</td><td>...</td><td>...</td><td>...</td><td>...</td><td>...</td><td>...</td><td>...</td><td>...</td><td>...</td><td>...</td><td>...</td><td>...</td><td>...</td><td>...</td><td>...</td><td>...</td><td>...</td><td>...</td><td>...</td><td>...</td><td>...</td><td>...</td><td>...</td><td>...</td><td>...</td><td>...</td><td>...</td><td>...</td><td>...</td><td>...</td><td>...</td><td>...</td><td>...</td><td>...</td><td>...</td><td>...</td><td>...</td><td>...</td><td>...</td><td>...</td><td>...</td><td>...</td><td>...</td><td>...</td><td>...</td><td>...</td><td>...</td><td>...</td><td>...</td><td>...</td><td>...</td><td>...</td><td>...</td><td>...</td><td>...</td><td>...</td><td>...</td><td>...</td><td>...</td><td>...</td><td>...</td><td>...</td></tr>\n",
       "<tr><td>PSO J013.5854-28.2224</td><td>-999</td><td>-999</td><td>-999</td><td>74130135852813527</td><td>3492331000300670</td><td>482707079730816</td><td>0</td><td>8919454955050</td><td>7413</td><td>1</td><td>638</td><td>95</td><td>0.649537462414743</td><td>3492331</td><td>112389</td><td>3</td><td>302067712</td><td>36</td><td>--</td><td>--</td><td>--</td><td>--</td><td>13.58537345</td><td>-28.22238249</td><td>0.18709999322891235</td><td>0.18709999322891235</td><td>56602.34674769</td><td>--</td><td>0.8564659580580432</td><td>0.20696949957368535</td><td>-0.47289500836225423</td><td>0.11934380416390196</td><td>-31.07772695506634</td><td>272.6638472055509</td><td>-88.73100439371024</td><td>--</td><td>0</td><td>1</td><td>1</td><td>0</td><td>0</td><td>0</td><td>0</td><td>0.9979479908943176</td><td>21.990699768066406</td><td>0.18649299442768097</td><td>--</td><td>1</td><td>21.990699768066406</td><td>21.990699768066406</td><td>--</td><td>--</td><td>--</td><td>0</td><td>--</td><td>--</td><td>--</td><td>0</td><td>272</td><td>--</td><td>--</td><td>--</td><td>--</td><td>0</td><td>--</td><td>--</td><td>--</td><td>--</td><td>--</td><td>0</td><td>--</td><td>--</td><td>--</td><td>0</td><td>0</td><td>--</td><td>--</td><td>--</td><td>--</td><td>0</td><td>--</td><td>--</td><td>--</td><td>--</td><td>--</td><td>0</td><td>--</td><td>--</td><td>--</td><td>0</td><td>0</td><td>--</td><td>--</td><td>--</td><td>--</td><td>0</td><td>--</td><td>--</td><td>--</td><td>--</td><td>--</td><td>0</td><td>--</td><td>--</td><td>--</td><td>0</td><td>0</td><td>--</td><td>--</td><td>--</td><td>--</td><td>0</td><td>--</td><td>--</td><td>--</td><td>--</td><td>--</td><td>0</td><td>--</td><td>--</td><td>--</td><td>0</td><td>0</td><td>0.18852629265346468</td></tr>\n",
       "<tr><td>PSO J013.5857-28.2207</td><td>-999</td><td>-999</td><td>-999</td><td>74130135856325596</td><td>3492331000300770</td><td>482707079730916</td><td>0</td><td>8919454957480</td><td>7413</td><td>1</td><td>638</td><td>95</td><td>0.471246703966751</td><td>3492331</td><td>112389</td><td>3</td><td>302067712</td><td>36</td><td>--</td><td>--</td><td>--</td><td>--</td><td>13.58572247</td><td>-28.22066223</td><td>0.17848999798297882</td><td>0.17848999798297882</td><td>56602.33422454</td><td>--</td><td>0.8564784979117667</td><td>0.20697805185824802</td><td>-0.47286855326165245</td><td>0.12057093477471365</td><td>-31.076330797211302</td><td>272.61229459174035</td><td>-88.7323279291245</td><td>--</td><td>0</td><td>1</td><td>1</td><td>0</td><td>0</td><td>0</td><td>0</td><td>0.9992210268974304</td><td>21.902099609375</td><td>0.17785599827766418</td><td>--</td><td>1</td><td>21.902099609375</td><td>21.902099609375</td><td>--</td><td>--</td><td>--</td><td>0</td><td>23.162599563598633</td><td>0.17785599827766418</td><td>--</td><td>1</td><td>272</td><td>--</td><td>--</td><td>--</td><td>--</td><td>0</td><td>--</td><td>--</td><td>--</td><td>--</td><td>--</td><td>0</td><td>--</td><td>--</td><td>--</td><td>0</td><td>0</td><td>--</td><td>--</td><td>--</td><td>--</td><td>0</td><td>--</td><td>--</td><td>--</td><td>--</td><td>--</td><td>0</td><td>--</td><td>--</td><td>--</td><td>0</td><td>0</td><td>--</td><td>--</td><td>--</td><td>--</td><td>0</td><td>--</td><td>--</td><td>--</td><td>--</td><td>--</td><td>0</td><td>--</td><td>--</td><td>--</td><td>0</td><td>0</td><td>--</td><td>--</td><td>--</td><td>--</td><td>0</td><td>--</td><td>--</td><td>--</td><td>--</td><td>--</td><td>0</td><td>--</td><td>--</td><td>--</td><td>0</td><td>0</td><td>0.19024767450571278</td></tr>\n",
       "<tr><td>PSO J013.5863-28.2170</td><td>-999</td><td>-999</td><td>-999</td><td>74130135862209988</td><td>3492331000300904</td><td>482707079731050</td><td>0</td><td>8919454475440</td><td>7413</td><td>1</td><td>638</td><td>95</td><td>0.674760293843933</td><td>3492331</td><td>112389</td><td>3</td><td>302067712</td><td>36</td><td>--</td><td>--</td><td>--</td><td>--</td><td>13.58631471</td><td>-28.21699763</td><td>0.24921999871730804</td><td>0.24921999871730804</td><td>56602.34674769</td><td>--</td><td>0.8565057547125065</td><td>0.20699400914708968</td><td>-0.4728121956142568</td><td>0.1230460948513182</td><td>-31.073296428780804</td><td>272.507302118075</td><td>-88.73521213020737</td><td>--</td><td>0</td><td>1</td><td>1</td><td>0</td><td>0</td><td>0</td><td>0</td><td>0.9993259906768799</td><td>22.308799743652344</td><td>0.2487660050392151</td><td>--</td><td>1</td><td>22.308799743652344</td><td>22.308799743652344</td><td>--</td><td>--</td><td>--</td><td>1</td><td>23.027799606323242</td><td>0.2487660050392151</td><td>--</td><td>1</td><td>272</td><td>--</td><td>--</td><td>--</td><td>--</td><td>0</td><td>--</td><td>--</td><td>--</td><td>--</td><td>--</td><td>0</td><td>--</td><td>--</td><td>--</td><td>0</td><td>0</td><td>--</td><td>--</td><td>--</td><td>--</td><td>0</td><td>--</td><td>--</td><td>--</td><td>--</td><td>--</td><td>0</td><td>--</td><td>--</td><td>--</td><td>0</td><td>0</td><td>--</td><td>--</td><td>--</td><td>--</td><td>0</td><td>--</td><td>--</td><td>--</td><td>--</td><td>--</td><td>0</td><td>--</td><td>--</td><td>--</td><td>0</td><td>0</td><td>--</td><td>--</td><td>--</td><td>--</td><td>0</td><td>--</td><td>--</td><td>--</td><td>--</td><td>--</td><td>0</td><td>--</td><td>--</td><td>--</td><td>0</td><td>0</td><td>0.19387106741007284</td></tr>\n",
       "<tr><td>PSO J013.5864-28.2200</td><td>-999</td><td>-999</td><td>-999</td><td>74130135862836422</td><td>3492331000300914</td><td>482707079731060</td><td>0</td><td>8919454956167</td><td>7413</td><td>1</td><td>638</td><td>95</td><td>0.654432502253384</td><td>3492331</td><td>112389</td><td>3</td><td>302067712</td><td>36</td><td>--</td><td>--</td><td>--</td><td>--</td><td>13.58637138</td><td>-28.21996552</td><td>0.20011000335216522</td><td>0.20011000335216522</td><td>56602.35967593</td><td>--</td><td>0.8564817427625189</td><td>0.20698910272025584</td><td>-0.47285783875234844</td><td>0.12153384964783341</td><td>-31.07596724136589</td><td>272.5739945984129</td><td>-88.7326354310068</td><td>--</td><td>0</td><td>1</td><td>0</td><td>1</td><td>0</td><td>0</td><td>0</td><td>--</td><td>--</td><td>--</td><td>--</td><td>0</td><td>--</td><td>--</td><td>--</td><td>--</td><td>--</td><td>0</td><td>--</td><td>--</td><td>--</td><td>0</td><td>0</td><td>0.998878002166748</td><td>21.84000015258789</td><td>0.1995459944009781</td><td>--</td><td>1</td><td>21.84000015258789</td><td>21.84000015258789</td><td>--</td><td>--</td><td>--</td><td>1</td><td>21.396499633789062</td><td>0.1995459944009781</td><td>--</td><td>1</td><td>272</td><td>--</td><td>--</td><td>--</td><td>--</td><td>0</td><td>--</td><td>--</td><td>--</td><td>--</td><td>--</td><td>0</td><td>--</td><td>--</td><td>--</td><td>0</td><td>0</td><td>--</td><td>--</td><td>--</td><td>--</td><td>0</td><td>--</td><td>--</td><td>--</td><td>--</td><td>--</td><td>0</td><td>--</td><td>--</td><td>--</td><td>0</td><td>0</td><td>--</td><td>--</td><td>--</td><td>--</td><td>0</td><td>--</td><td>--</td><td>--</td><td>--</td><td>--</td><td>0</td><td>--</td><td>--</td><td>--</td><td>0</td><td>0</td><td>0.19109823648668411</td></tr>\n",
       "<tr><td>PSO J013.5865-28.2243</td><td>-999</td><td>-999</td><td>-999</td><td>74130135864141201</td><td>3492331000300938</td><td>482707079731084</td><td>0</td><td>8919455078785</td><td>7413</td><td>1</td><td>638</td><td>95</td><td>0.61185417753817</td><td>3492331</td><td>112389</td><td>3</td><td>268513280</td><td>32</td><td>--</td><td>--</td><td>--</td><td>--</td><td>13.5864964</td><td>-28.22432383</td><td>0.01817999966442585</td><td>0.01817999966442585</td><td>55929.23503472</td><td>--</td><td>0.8564463263566031</td><td>0.20698252143079676</td><td>-0.47292486284020707</td><td>0.119351349233539</td><td>-31.079905889981305</td><td>272.6700126457478</td><td>-88.72882973891649</td><td>--</td><td>0</td><td>1</td><td>0</td><td>0</td><td>0</td><td>1</td><td>0</td><td>--</td><td>--</td><td>--</td><td>--</td><td>0</td><td>--</td><td>--</td><td>--</td><td>--</td><td>--</td><td>0</td><td>--</td><td>--</td><td>--</td><td>0</td><td>0</td><td>--</td><td>--</td><td>--</td><td>--</td><td>0</td><td>--</td><td>--</td><td>--</td><td>--</td><td>--</td><td>0</td><td>--</td><td>--</td><td>--</td><td>0</td><td>0</td><td>--</td><td>--</td><td>--</td><td>--</td><td>0</td><td>--</td><td>--</td><td>--</td><td>--</td><td>--</td><td>0</td><td>--</td><td>--</td><td>--</td><td>0</td><td>0</td><td>0.9984679818153381</td><td>17.12019920349121</td><td>0.010266000404953957</td><td>--</td><td>1</td><td>17.12019920349121</td><td>17.12019920349121</td><td>17.484500885009766</td><td>0.0195080004632473</td><td>--</td><td>1</td><td>17.413299560546875</td><td>0.010266000404953957</td><td>--</td><td>1</td><td>24</td><td>--</td><td>--</td><td>--</td><td>--</td><td>0</td><td>--</td><td>--</td><td>--</td><td>--</td><td>--</td><td>0</td><td>--</td><td>--</td><td>--</td><td>0</td><td>0</td><td>0.18705019420904223</td></tr>\n",
       "<tr><td>PSO J013.5867-28.2232</td><td>-999</td><td>-999</td><td>-999</td><td>74130135865912536</td><td>3492331000300980</td><td>482707079731126</td><td>0</td><td>8919454950492</td><td>7413</td><td>1</td><td>638</td><td>95</td><td>0.380818700772541</td><td>3492331</td><td>112389</td><td>3</td><td>302067712</td><td>36</td><td>--</td><td>--</td><td>--</td><td>--</td><td>13.58667717</td><td>-28.22320239</td><td>0.2218800038099289</td><td>0.2218800038099289</td><td>56602.37108796</td><td>--</td><td>0.8564546705888819</td><td>0.2069873980000397</td><td>-0.4729076170835725</td><td>0.12010842286471746</td><td>-31.078977139335674</td><td>272.6380781643313</td><td>-88.72971373757163</td><td>--</td><td>0</td><td>1</td><td>0</td><td>1</td><td>0</td><td>0</td><td>0</td><td>--</td><td>--</td><td>--</td><td>--</td><td>0</td><td>--</td><td>--</td><td>--</td><td>--</td><td>--</td><td>0</td><td>--</td><td>--</td><td>--</td><td>0</td><td>0</td><td>0.9990739822387695</td><td>21.95319938659668</td><td>0.22137300670146942</td><td>--</td><td>1</td><td>21.95319938659668</td><td>21.95319938659668</td><td>--</td><td>--</td><td>--</td><td>0</td><td>--</td><td>--</td><td>--</td><td>0</td><td>272</td><td>--</td><td>--</td><td>--</td><td>--</td><td>0</td><td>--</td><td>--</td><td>--</td><td>--</td><td>--</td><td>0</td><td>--</td><td>--</td><td>--</td><td>0</td><td>0</td><td>--</td><td>--</td><td>--</td><td>--</td><td>0</td><td>--</td><td>--</td><td>--</td><td>--</td><td>--</td><td>0</td><td>--</td><td>--</td><td>--</td><td>0</td><td>0</td><td>--</td><td>--</td><td>--</td><td>--</td><td>0</td><td>--</td><td>--</td><td>--</td><td>--</td><td>--</td><td>0</td><td>--</td><td>--</td><td>--</td><td>0</td><td>0</td><td>0.18815615341453537</td></tr>\n",
       "<tr><td>PSO J013.5866-28.2240</td><td>-999</td><td>-999</td><td>-999</td><td>74130135866341537</td><td>3492331000300986</td><td>482707079731132</td><td>0</td><td>8919454950537</td><td>7413</td><td>1</td><td>638</td><td>95</td><td>0.460253754128007</td><td>3492331</td><td>112389</td><td>3</td><td>268959744</td><td>32</td><td>--</td><td>--</td><td>--</td><td>--</td><td>13.58663475</td><td>-28.22396594</td><td>--</td><td>--</td><td>--</td><td>--</td><td>0.8564486979358781</td><td>0.20698528340918068</td><td>-0.47291935914694805</td><td>0.11966700322215848</td><td>-31.079641578732446</td><td>272.6570683504397</td><td>-88.72907570672973</td><td>--</td><td>0</td><td>1</td><td>0</td><td>0</td><td>0</td><td>1</td><td>0</td><td>--</td><td>--</td><td>--</td><td>--</td><td>0</td><td>--</td><td>--</td><td>--</td><td>--</td><td>--</td><td>0</td><td>--</td><td>--</td><td>--</td><td>0</td><td>0</td><td>--</td><td>--</td><td>--</td><td>--</td><td>0</td><td>--</td><td>--</td><td>--</td><td>--</td><td>--</td><td>0</td><td>--</td><td>--</td><td>--</td><td>0</td><td>0</td><td>--</td><td>--</td><td>--</td><td>--</td><td>0</td><td>--</td><td>--</td><td>--</td><td>--</td><td>--</td><td>0</td><td>--</td><td>--</td><td>--</td><td>0</td><td>0</td><td>--</td><td>--</td><td>--</td><td>--</td><td>0</td><td>--</td><td>--</td><td>--</td><td>--</td><td>--</td><td>0</td><td>--</td><td>--</td><td>--</td><td>0</td><td>24</td><td>--</td><td>--</td><td>--</td><td>--</td><td>0</td><td>--</td><td>--</td><td>--</td><td>--</td><td>--</td><td>0</td><td>--</td><td>--</td><td>--</td><td>0</td><td>0</td><td>0.18742809184870757</td></tr>\n",
       "</table></div>"
      ],
      "text/plain": [
       "<Table masked=True length=57698>\n",
       "       objName        objAltName1 objAltName2 objAltName3       objID       ...    yMeanApMagStd    yMeanApMagNpt yFlags       distance     \n",
       "        str21             str4        str4        str4          int64       ...       float64           int64     int64        float64      \n",
       "--------------------- ----------- ----------- ----------- ----------------- ... ------------------- ------------- ------ -------------------\n",
       "PSO J013.4876-28.5831        -999        -999        -999 73700134875710561 ...                  --             0      0  0.1849204603323666\n",
       "PSO J013.4897-28.5835        -999        -999        -999 73700134896090079 ... 0.18847599625587463            10 115000 0.18514324004255733\n",
       "PSO J013.4896-28.5788        -999        -999        -999 73700134896525754 ...                  --             0      0 0.18045083861622796\n",
       "PSO J013.4920-28.5829        -999        -999        -999 73700134920700881 ...                  --             0      0  0.1842777832718585\n",
       "PSO J013.4936-28.5775        -999        -999        -999 73700134936137345 ...                  --             0      0  0.1787815152521373\n",
       "PSO J013.5018-28.5802        -999        -999        -999 73700135017764081 ...                  --             0  16416 0.18100854102132746\n",
       "                  ...         ...         ...         ...               ... ...                 ...           ...    ...                 ...\n",
       "PSO J013.5854-28.2224        -999        -999        -999 74130135852813527 ...                  --             0      0 0.18852629265346468\n",
       "PSO J013.5857-28.2207        -999        -999        -999 74130135856325596 ...                  --             0      0 0.19024767450571278\n",
       "PSO J013.5863-28.2170        -999        -999        -999 74130135862209988 ...                  --             0      0 0.19387106741007284\n",
       "PSO J013.5864-28.2200        -999        -999        -999 74130135862836422 ...                  --             0      0 0.19109823648668411\n",
       "PSO J013.5865-28.2243        -999        -999        -999 74130135864141201 ...                  --             0      0 0.18705019420904223\n",
       "PSO J013.5867-28.2232        -999        -999        -999 74130135865912536 ...                  --             0      0 0.18815615341453537\n",
       "PSO J013.5866-28.2240        -999        -999        -999 74130135866341537 ...                  --             0      0 0.18742809184870757"
      ]
     },
     "execution_count": 28,
     "metadata": {},
     "output_type": "execute_result"
    }
   ],
   "source": [
    "catalog_data"
   ]
  },
  {
   "cell_type": "code",
   "execution_count": 29,
   "id": "0ff82095-72b9-48fd-a871-aa4965c58574",
   "metadata": {},
   "outputs": [],
   "source": [
    "catalog_data = Catalogs.query_region(target_name_simbad, radius=0.25,\n",
    "\n",
    "                                      catalog=\"Panstarrs\", data_release=\"dr2\", table=\"mean\")"
   ]
  },
  {
   "cell_type": "code",
   "execution_count": 30,
   "id": "9615c905-f5e2-492d-8535-19b5ca8d5c3f",
   "metadata": {},
   "outputs": [
    {
     "data": {
      "text/html": [
       "<div><i>Table masked=True length=87435</i>\n",
       "<table id=\"table4763329008\" class=\"table-striped table-bordered table-condensed\">\n",
       "<thead><tr><th>objName</th><th>objAltName1</th><th>objAltName2</th><th>objAltName3</th><th>objID</th><th>uniquePspsOBid</th><th>ippObjID</th><th>surveyID</th><th>htmID</th><th>zoneID</th><th>tessID</th><th>projectionID</th><th>skyCellID</th><th>randomID</th><th>batchID</th><th>dvoRegionID</th><th>processingVersion</th><th>objInfoFlag</th><th>qualityFlag</th><th>raStack</th><th>decStack</th><th>raStackErr</th><th>decStackErr</th><th>raMean</th><th>decMean</th><th>raMeanErr</th><th>decMeanErr</th><th>epochMean</th><th>posMeanChisq</th><th>cx</th><th>cy</th><th>cz</th><th>lambda</th><th>beta</th><th>l</th><th>b</th><th>nStackObjectRows</th><th>nStackDetections</th><th>nDetections</th><th>ng</th><th>nr</th><th>ni</th><th>nz</th><th>ny</th><th>gQfPerfect</th><th>gMeanPSFMag</th><th>gMeanPSFMagErr</th><th>gMeanPSFMagStd</th><th>gMeanPSFMagNpt</th><th>gMeanPSFMagMin</th><th>gMeanPSFMagMax</th><th>gMeanKronMag</th><th>gMeanKronMagErr</th><th>gMeanKronMagStd</th><th>gMeanKronMagNpt</th><th>gMeanApMag</th><th>gMeanApMagErr</th><th>gMeanApMagStd</th><th>gMeanApMagNpt</th><th>gFlags</th><th>rQfPerfect</th><th>rMeanPSFMag</th><th>rMeanPSFMagErr</th><th>rMeanPSFMagStd</th><th>rMeanPSFMagNpt</th><th>rMeanPSFMagMin</th><th>rMeanPSFMagMax</th><th>rMeanKronMag</th><th>rMeanKronMagErr</th><th>rMeanKronMagStd</th><th>rMeanKronMagNpt</th><th>rMeanApMag</th><th>rMeanApMagErr</th><th>rMeanApMagStd</th><th>rMeanApMagNpt</th><th>rFlags</th><th>iQfPerfect</th><th>iMeanPSFMag</th><th>iMeanPSFMagErr</th><th>iMeanPSFMagStd</th><th>iMeanPSFMagNpt</th><th>iMeanPSFMagMin</th><th>iMeanPSFMagMax</th><th>iMeanKronMag</th><th>iMeanKronMagErr</th><th>iMeanKronMagStd</th><th>iMeanKronMagNpt</th><th>iMeanApMag</th><th>iMeanApMagErr</th><th>iMeanApMagStd</th><th>iMeanApMagNpt</th><th>iFlags</th><th>zQfPerfect</th><th>zMeanPSFMag</th><th>zMeanPSFMagErr</th><th>zMeanPSFMagStd</th><th>zMeanPSFMagNpt</th><th>zMeanPSFMagMin</th><th>zMeanPSFMagMax</th><th>zMeanKronMag</th><th>zMeanKronMagErr</th><th>zMeanKronMagStd</th><th>zMeanKronMagNpt</th><th>zMeanApMag</th><th>zMeanApMagErr</th><th>zMeanApMagStd</th><th>zMeanApMagNpt</th><th>zFlags</th><th>yQfPerfect</th><th>yMeanPSFMag</th><th>yMeanPSFMagErr</th><th>yMeanPSFMagStd</th><th>yMeanPSFMagNpt</th><th>yMeanPSFMagMin</th><th>yMeanPSFMagMax</th><th>yMeanKronMag</th><th>yMeanKronMagErr</th><th>yMeanKronMagStd</th><th>yMeanKronMagNpt</th><th>yMeanApMag</th><th>yMeanApMagErr</th><th>yMeanApMagStd</th><th>yMeanApMagNpt</th><th>yFlags</th><th>distance</th></tr></thead>\n",
       "<thead><tr><th>str21</th><th>str4</th><th>str4</th><th>str4</th><th>int64</th><th>int64</th><th>int64</th><th>uint8</th><th>int64</th><th>int64</th><th>uint8</th><th>int64</th><th>uint8</th><th>float64</th><th>int64</th><th>int64</th><th>uint8</th><th>int64</th><th>uint8</th><th>float64</th><th>float64</th><th>float64</th><th>float64</th><th>float64</th><th>float64</th><th>float64</th><th>float64</th><th>float64</th><th>float64</th><th>float64</th><th>float64</th><th>float64</th><th>float64</th><th>float64</th><th>float64</th><th>float64</th><th>int64</th><th>int64</th><th>int64</th><th>int64</th><th>int64</th><th>int64</th><th>int64</th><th>int64</th><th>float64</th><th>float64</th><th>float64</th><th>float64</th><th>int64</th><th>float64</th><th>float64</th><th>float64</th><th>float64</th><th>float64</th><th>int64</th><th>float64</th><th>float64</th><th>float64</th><th>int64</th><th>int64</th><th>float64</th><th>float64</th><th>float64</th><th>float64</th><th>int64</th><th>float64</th><th>float64</th><th>float64</th><th>float64</th><th>float64</th><th>int64</th><th>float64</th><th>float64</th><th>float64</th><th>int64</th><th>int64</th><th>float64</th><th>float64</th><th>float64</th><th>float64</th><th>int64</th><th>float64</th><th>float64</th><th>float64</th><th>float64</th><th>float64</th><th>int64</th><th>float64</th><th>float64</th><th>float64</th><th>int64</th><th>int64</th><th>float64</th><th>float64</th><th>float64</th><th>float64</th><th>int64</th><th>float64</th><th>float64</th><th>float64</th><th>float64</th><th>float64</th><th>int64</th><th>float64</th><th>float64</th><th>float64</th><th>int64</th><th>int64</th><th>float64</th><th>float64</th><th>float64</th><th>float64</th><th>int64</th><th>float64</th><th>float64</th><th>float64</th><th>float64</th><th>float64</th><th>int64</th><th>float64</th><th>float64</th><th>float64</th><th>int64</th><th>int64</th><th>float64</th></tr></thead>\n",
       "<tr><td>PSO J013.5045-28.6334</td><td>-999</td><td>-999</td><td>-999</td><td>73640135045470151</td><td>3492331000280711</td><td>482707079710857</td><td>0</td><td>8918630917113</td><td>7364</td><td>1</td><td>638</td><td>85</td><td>0.987613776687173</td><td>3492331</td><td>112389</td><td>3</td><td>277348352</td><td>33</td><td>--</td><td>--</td><td>--</td><td>--</td><td>13.5045394</td><td>-28.63344294</td><td>0.08641000092029572</td><td>0.08641000092029572</td><td>55483.40805556</td><td>--</td><td>0.853436167136201</td><td>0.20496341012883265</td><td>-0.47920424573685744</td><td>359.82771430885236</td><td>-31.412179533105213</td><td>282.334834277871</td><td>-88.3904430431574</td><td>--</td><td>0</td><td>1</td><td>1</td><td>0</td><td>0</td><td>0</td><td>0</td><td>0.758450984954834</td><td>20.746200561523438</td><td>0.08509700000286102</td><td>--</td><td>1</td><td>20.746200561523438</td><td>20.746200561523438</td><td>20.283700942993164</td><td>0.058115001767873764</td><td>--</td><td>1</td><td>20.17770004272461</td><td>0.08509700000286102</td><td>--</td><td>1</td><td>16781328</td><td>--</td><td>--</td><td>--</td><td>--</td><td>0</td><td>--</td><td>--</td><td>--</td><td>--</td><td>--</td><td>0</td><td>--</td><td>--</td><td>--</td><td>0</td><td>0</td><td>--</td><td>--</td><td>--</td><td>--</td><td>0</td><td>--</td><td>--</td><td>--</td><td>--</td><td>--</td><td>0</td><td>--</td><td>--</td><td>--</td><td>0</td><td>0</td><td>--</td><td>--</td><td>--</td><td>--</td><td>0</td><td>--</td><td>--</td><td>--</td><td>--</td><td>--</td><td>0</td><td>--</td><td>--</td><td>--</td><td>0</td><td>0</td><td>--</td><td>--</td><td>--</td><td>--</td><td>0</td><td>--</td><td>--</td><td>--</td><td>--</td><td>--</td><td>0</td><td>--</td><td>--</td><td>--</td><td>0</td><td>0</td><td>0.23408680553410535</td></tr>\n",
       "<tr><td>PSO J013.5051-28.6309</td><td>-999</td><td>-999</td><td>-999</td><td>73640135051003267</td><td>3492331000280833</td><td>482707079710979</td><td>0</td><td>8918630813802</td><td>7364</td><td>1</td><td>638</td><td>85</td><td>0.833008910373793</td><td>3492331</td><td>112389</td><td>3</td><td>277348352</td><td>33</td><td>--</td><td>--</td><td>--</td><td>--</td><td>13.50508805</td><td>-28.63085556</td><td>0.10649999976158142</td><td>0.10649999976158142</td><td>55502.3471412</td><td>--</td><td>0.8534552452328311</td><td>0.20497663583863415</td><td>-0.4791646096539726</td><td>359.8295912248064</td><td>-31.41009135203616</td><td>282.2858900402961</td><td>-88.39268783545448</td><td>--</td><td>0</td><td>1</td><td>0</td><td>1</td><td>0</td><td>0</td><td>0</td><td>--</td><td>--</td><td>--</td><td>--</td><td>0</td><td>--</td><td>--</td><td>--</td><td>--</td><td>--</td><td>0</td><td>--</td><td>--</td><td>--</td><td>0</td><td>0</td><td>0.8306750059127808</td><td>21.167299270629883</td><td>0.10544200241565704</td><td>--</td><td>1</td><td>21.167299270629883</td><td>21.167299270629883</td><td>20.8075008392334</td><td>0.08659099787473679</td><td>--</td><td>1</td><td>20.676599502563477</td><td>0.10544200241565704</td><td>--</td><td>1</td><td>16781336</td><td>--</td><td>--</td><td>--</td><td>--</td><td>0</td><td>--</td><td>--</td><td>--</td><td>--</td><td>--</td><td>0</td><td>--</td><td>--</td><td>--</td><td>0</td><td>0</td><td>--</td><td>--</td><td>--</td><td>--</td><td>0</td><td>--</td><td>--</td><td>--</td><td>--</td><td>--</td><td>0</td><td>--</td><td>--</td><td>--</td><td>0</td><td>0</td><td>--</td><td>--</td><td>--</td><td>--</td><td>0</td><td>--</td><td>--</td><td>--</td><td>--</td><td>--</td><td>0</td><td>--</td><td>--</td><td>--</td><td>0</td><td>0</td><td>0.2314878186730931</td></tr>\n",
       "<tr><td>PSO J013.5056-28.6296</td><td>-999</td><td>-999</td><td>-999</td><td>73640135055964722</td><td>3492331000325314</td><td>482707079760135</td><td>0</td><td>8918630842992</td><td>7364</td><td>1</td><td>638</td><td>85</td><td>0.714509893874181</td><td>3492331</td><td>112389</td><td>3</td><td>1343750144</td><td>160</td><td>13.50559772</td><td>-28.62964131</td><td>0.0010000000474974513</td><td>0.0010000000474974513</td><td>13.50559772</td><td>-28.62964131</td><td>0.0010000000474974513</td><td>0.0010000000474974513</td><td>56043.99626157</td><td>--</td><td>0.8534632956182608</td><td>0.20498659917633832</td><td>-0.47914600821726183</td><td>359.8307032342171</td><td>-31.409211684655364</td><td>282.255499809404</td><td>-88.39366166523929</td><td>--</td><td>1</td><td>0</td><td>0</td><td>0</td><td>0</td><td>0</td><td>0</td><td>--</td><td>--</td><td>--</td><td>--</td><td>0</td><td>--</td><td>--</td><td>--</td><td>--</td><td>--</td><td>0</td><td>--</td><td>--</td><td>--</td><td>0</td><td>114720</td><td>--</td><td>--</td><td>--</td><td>--</td><td>0</td><td>--</td><td>--</td><td>--</td><td>--</td><td>--</td><td>0</td><td>--</td><td>--</td><td>--</td><td>0</td><td>16416</td><td>--</td><td>--</td><td>--</td><td>--</td><td>0</td><td>--</td><td>--</td><td>--</td><td>--</td><td>--</td><td>0</td><td>--</td><td>--</td><td>--</td><td>0</td><td>16416</td><td>--</td><td>--</td><td>--</td><td>--</td><td>0</td><td>--</td><td>--</td><td>--</td><td>--</td><td>--</td><td>0</td><td>--</td><td>--</td><td>--</td><td>0</td><td>16416</td><td>--</td><td>--</td><td>--</td><td>--</td><td>0</td><td>--</td><td>--</td><td>--</td><td>--</td><td>--</td><td>0</td><td>--</td><td>--</td><td>--</td><td>0</td><td>16416</td><td>0.2302631377812148</td></tr>\n",
       "<tr><td>PSO J013.5057-28.6309</td><td>-999</td><td>-999</td><td>-999</td><td>73640135057563170</td><td>3492331000280975</td><td>482707079711121</td><td>0</td><td>8918630842583</td><td>7364</td><td>1</td><td>638</td><td>85</td><td>0.316134685013569</td><td>3492331</td><td>112389</td><td>3</td><td>277348352</td><td>33</td><td>--</td><td>--</td><td>--</td><td>--</td><td>13.50574885</td><td>-28.63092749</td><td>0.1405400037765503</td><td>0.1405400037765503</td><td>55483.40805556</td><td>--</td><td>0.8534522962364294</td><td>0.2049863383521078</td><td>-0.4791657115630888</td><td>359.83015882525604</td><td>-31.410418321455612</td><td>282.26749877487055</td><td>-88.39241321380113</td><td>--</td><td>0</td><td>1</td><td>1</td><td>0</td><td>0</td><td>0</td><td>0</td><td>0.7383949756622314</td><td>21.648799896240234</td><td>0.1397390067577362</td><td>--</td><td>1</td><td>21.648799896240234</td><td>21.648799896240234</td><td>--</td><td>--</td><td>--</td><td>0</td><td>21.15839958190918</td><td>0.1397390067577362</td><td>--</td><td>1</td><td>16781328</td><td>--</td><td>--</td><td>--</td><td>--</td><td>0</td><td>--</td><td>--</td><td>--</td><td>--</td><td>--</td><td>0</td><td>--</td><td>--</td><td>--</td><td>0</td><td>0</td><td>--</td><td>--</td><td>--</td><td>--</td><td>0</td><td>--</td><td>--</td><td>--</td><td>--</td><td>--</td><td>0</td><td>--</td><td>--</td><td>--</td><td>0</td><td>0</td><td>--</td><td>--</td><td>--</td><td>--</td><td>0</td><td>--</td><td>--</td><td>--</td><td>--</td><td>--</td><td>0</td><td>--</td><td>--</td><td>--</td><td>0</td><td>0</td><td>--</td><td>--</td><td>--</td><td>--</td><td>0</td><td>--</td><td>--</td><td>--</td><td>--</td><td>--</td><td>0</td><td>--</td><td>--</td><td>--</td><td>0</td><td>0</td><td>0.2315459515931875</td></tr>\n",
       "<tr><td>PSO J013.5062-28.6321</td><td>-999</td><td>-999</td><td>-999</td><td>73640135061881723</td><td>3492331000281063</td><td>482707079711209</td><td>0</td><td>8918630863101</td><td>7364</td><td>1</td><td>638</td><td>85</td><td>0.297846562506488</td><td>3492331</td><td>112389</td><td>3</td><td>268959744</td><td>32</td><td>--</td><td>--</td><td>--</td><td>--</td><td>13.50617616</td><td>-28.63213421</td><td>0.27270999550819397</td><td>0.27270999550819397</td><td>56292.19940972</td><td>--</td><td>0.8534409545113681</td><td>0.20499034637252525</td><td>-0.47918419741973656</td><td>359.8299097843753</td><td>-31.41166398068111</td><td>282.27040413938636</td><td>-88.39115218515191</td><td>--</td><td>0</td><td>1</td><td>0</td><td>0</td><td>0</td><td>0</td><td>1</td><td>--</td><td>--</td><td>--</td><td>--</td><td>0</td><td>--</td><td>--</td><td>--</td><td>--</td><td>--</td><td>0</td><td>--</td><td>--</td><td>--</td><td>0</td><td>0</td><td>--</td><td>--</td><td>--</td><td>--</td><td>0</td><td>--</td><td>--</td><td>--</td><td>--</td><td>--</td><td>0</td><td>--</td><td>--</td><td>--</td><td>0</td><td>0</td><td>--</td><td>--</td><td>--</td><td>--</td><td>0</td><td>--</td><td>--</td><td>--</td><td>--</td><td>--</td><td>0</td><td>--</td><td>--</td><td>--</td><td>0</td><td>0</td><td>--</td><td>--</td><td>--</td><td>--</td><td>0</td><td>--</td><td>--</td><td>--</td><td>--</td><td>--</td><td>0</td><td>--</td><td>--</td><td>--</td><td>0</td><td>0</td><td>0.7342240214347839</td><td>20.13360023498535</td><td>0.27229899168014526</td><td>--</td><td>1</td><td>20.13360023498535</td><td>20.13360023498535</td><td>--</td><td>--</td><td>--</td><td>0</td><td>22.025800704956055</td><td>0.27229899168014526</td><td>--</td><td>1</td><td>4120</td><td>0.23274427746682516</td></tr>\n",
       "<tr><td>PSO J013.5063-28.6270</td><td>-999</td><td>-999</td><td>-999</td><td>73640135063297887</td><td>3492331000306552</td><td>482707079736698</td><td>0</td><td>8918630845410</td><td>7364</td><td>1</td><td>638</td><td>85</td><td>0.74261571442952</td><td>3492331</td><td>112389</td><td>3</td><td>302067712</td><td>36</td><td>--</td><td>--</td><td>--</td><td>--</td><td>13.50633254</td><td>-28.62700326</td><td>0.1939699947834015</td><td>0.1939699947834015</td><td>56917.50153935</td><td>--</td><td>0.8534821167195855</td><td>0.20500269707865681</td><td>-0.47910559444691553</td><td>359.832777643838</td><td>-31.407152367584843</td><td>282.20024689156105</td><td>-88.3958931832613</td><td>--</td><td>0</td><td>1</td><td>0</td><td>0</td><td>1</td><td>0</td><td>0</td><td>--</td><td>--</td><td>--</td><td>--</td><td>0</td><td>--</td><td>--</td><td>--</td><td>--</td><td>--</td><td>0</td><td>--</td><td>--</td><td>--</td><td>0</td><td>0</td><td>--</td><td>--</td><td>--</td><td>--</td><td>0</td><td>--</td><td>--</td><td>--</td><td>--</td><td>--</td><td>0</td><td>--</td><td>--</td><td>--</td><td>0</td><td>0</td><td>0.9976819753646851</td><td>21.534900665283203</td><td>0.1933870017528534</td><td>--</td><td>1</td><td>21.534900665283203</td><td>21.534900665283203</td><td>--</td><td>--</td><td>--</td><td>1</td><td>22.73259925842285</td><td>0.1933870017528534</td><td>--</td><td>1</td><td>280</td><td>--</td><td>--</td><td>--</td><td>--</td><td>0</td><td>--</td><td>--</td><td>--</td><td>--</td><td>--</td><td>0</td><td>--</td><td>--</td><td>--</td><td>0</td><td>0</td><td>--</td><td>--</td><td>--</td><td>--</td><td>0</td><td>--</td><td>--</td><td>--</td><td>--</td><td>--</td><td>0</td><td>--</td><td>--</td><td>--</td><td>0</td><td>0</td><td>0.2276115856927936</td></tr>\n",
       "<tr><td>...</td><td>...</td><td>...</td><td>...</td><td>...</td><td>...</td><td>...</td><td>...</td><td>...</td><td>...</td><td>...</td><td>...</td><td>...</td><td>...</td><td>...</td><td>...</td><td>...</td><td>...</td><td>...</td><td>...</td><td>...</td><td>...</td><td>...</td><td>...</td><td>...</td><td>...</td><td>...</td><td>...</td><td>...</td><td>...</td><td>...</td><td>...</td><td>...</td><td>...</td><td>...</td><td>...</td><td>...</td><td>...</td><td>...</td><td>...</td><td>...</td><td>...</td><td>...</td><td>...</td><td>...</td><td>...</td><td>...</td><td>...</td><td>...</td><td>...</td><td>...</td><td>...</td><td>...</td><td>...</td><td>...</td><td>...</td><td>...</td><td>...</td><td>...</td><td>...</td><td>...</td><td>...</td><td>...</td><td>...</td><td>...</td><td>...</td><td>...</td><td>...</td><td>...</td><td>...</td><td>...</td><td>...</td><td>...</td><td>...</td><td>...</td><td>...</td><td>...</td><td>...</td><td>...</td><td>...</td><td>...</td><td>...</td><td>...</td><td>...</td><td>...</td><td>...</td><td>...</td><td>...</td><td>...</td><td>...</td><td>...</td><td>...</td><td>...</td><td>...</td><td>...</td><td>...</td><td>...</td><td>...</td><td>...</td><td>...</td><td>...</td><td>...</td><td>...</td><td>...</td><td>...</td><td>...</td><td>...</td><td>...</td><td>...</td><td>...</td><td>...</td><td>...</td><td>...</td><td>...</td><td>...</td><td>...</td><td>...</td><td>...</td><td>...</td><td>...</td><td>...</td><td>...</td><td>...</td><td>...</td><td>...</td></tr>\n",
       "<tr><td>PSO J013.6617-28.2794</td><td>-999</td><td>-999</td><td>-999</td><td>74060136615885087</td><td>3492917000013060</td><td>482711374410499</td><td>0</td><td>8919441320991</td><td>7406</td><td>1</td><td>638</td><td>95</td><td>0.911714566789302</td><td>3492917</td><td>112390</td><td>3</td><td>310456320</td><td>37</td><td>--</td><td>--</td><td>--</td><td>--</td><td>13.66165568</td><td>-28.27941601</td><td>0.22705000638961792</td><td>0.22705000638961792</td><td>55409.6053125</td><td>--</td><td>0.8557318084775848</td><td>0.20799831017153103</td><td>-0.4737718595753338</td><td>0.15929265204053833</td><td>-31.158957682139345</td><td>271.44488050651705</td><td>-88.6473901397696</td><td>--</td><td>0</td><td>1</td><td>0</td><td>0</td><td>0</td><td>1</td><td>0</td><td>--</td><td>--</td><td>--</td><td>--</td><td>0</td><td>--</td><td>--</td><td>--</td><td>--</td><td>--</td><td>0</td><td>--</td><td>--</td><td>--</td><td>0</td><td>0</td><td>--</td><td>--</td><td>--</td><td>--</td><td>0</td><td>--</td><td>--</td><td>--</td><td>--</td><td>--</td><td>0</td><td>--</td><td>--</td><td>--</td><td>0</td><td>0</td><td>--</td><td>--</td><td>--</td><td>--</td><td>0</td><td>--</td><td>--</td><td>--</td><td>--</td><td>--</td><td>0</td><td>--</td><td>--</td><td>--</td><td>0</td><td>0</td><td>0.8615620136260986</td><td>20.88719940185547</td><td>0.22655199468135834</td><td>--</td><td>1</td><td>20.88719940185547</td><td>20.88719940185547</td><td>--</td><td>--</td><td>--</td><td>0</td><td>20.15369987487793</td><td>0.22655199468135834</td><td>--</td><td>1</td><td>16777496</td><td>--</td><td>--</td><td>--</td><td>--</td><td>0</td><td>--</td><td>--</td><td>--</td><td>--</td><td>--</td><td>0</td><td>--</td><td>--</td><td>--</td><td>0</td><td>0</td><td>0.17841634573391515</td></tr>\n",
       "<tr><td>PSO J013.6621-28.2757</td><td>-999</td><td>-999</td><td>-999</td><td>74060136622479562</td><td>3492917000013192</td><td>482711374410631</td><td>0</td><td>8919441330147</td><td>7406</td><td>1</td><td>638</td><td>95</td><td>0.409093851604586</td><td>3492917</td><td>112390</td><td>3</td><td>302067712</td><td>36</td><td>--</td><td>--</td><td>--</td><td>--</td><td>13.6620591</td><td>-28.27565623</td><td>0.20235000550746918</td><td>0.20235000550746918</td><td>56602.33422454</td><td>--</td><td>0.855760551616723</td><td>0.20801167802975395</td><td>-0.47371406998303095</td><td>0.16164752222917775</td><td>-31.155763747137794</td><td>271.3478079194291</td><td>-88.6503940015774</td><td>--</td><td>0</td><td>2</td><td>1</td><td>0</td><td>1</td><td>0</td><td>0</td><td>0.999705970287323</td><td>22.04599952697754</td><td>0.20179800689220428</td><td>--</td><td>1</td><td>22.04599952697754</td><td>22.04599952697754</td><td>--</td><td>--</td><td>--</td><td>0</td><td>23.656200408935547</td><td>0.20179800689220428</td><td>--</td><td>1</td><td>272</td><td>--</td><td>--</td><td>--</td><td>--</td><td>0</td><td>--</td><td>--</td><td>--</td><td>--</td><td>--</td><td>0</td><td>--</td><td>--</td><td>--</td><td>0</td><td>0</td><td>0.7838450074195862</td><td>20.34910011291504</td><td>0.09369999915361404</td><td>--</td><td>1</td><td>20.34910011291504</td><td>20.34910011291504</td><td>20.098400115966797</td><td>0.07937599718570709</td><td>--</td><td>1</td><td>19.812999725341797</td><td>0.09369999915361404</td><td>--</td><td>1</td><td>16781336</td><td>--</td><td>--</td><td>--</td><td>--</td><td>0</td><td>--</td><td>--</td><td>--</td><td>--</td><td>--</td><td>0</td><td>--</td><td>--</td><td>--</td><td>0</td><td>0</td><td>--</td><td>--</td><td>--</td><td>--</td><td>0</td><td>--</td><td>--</td><td>--</td><td>--</td><td>--</td><td>0</td><td>--</td><td>--</td><td>--</td><td>0</td><td>0</td><td>0.18122788686855</td></tr>\n",
       "<tr><td>PSO J013.6623-28.2760</td><td>-999</td><td>-999</td><td>-999</td><td>74060136623329034</td><td>3492917000013214</td><td>482711374410653</td><td>0</td><td>8919441329790</td><td>7406</td><td>1</td><td>638</td><td>95</td><td>0.192479917027503</td><td>3492917</td><td>112390</td><td>3</td><td>277348352</td><td>33</td><td>--</td><td>--</td><td>--</td><td>--</td><td>13.66232931</td><td>-28.27603879</td><td>0.09233999997377396</td><td>0.09233999997377396</td><td>55466.46508102</td><td>--</td><td>0.8557564971343883</td><td>0.20801496674775385</td><td>-0.4737199502039286</td><td>0.1616937036896819</td><td>-31.15621254436816</td><td>271.34783262126035</td><td>-88.64994346803545</td><td>--</td><td>0</td><td>1</td><td>0</td><td>0</td><td>1</td><td>0</td><td>0</td><td>--</td><td>--</td><td>--</td><td>--</td><td>0</td><td>--</td><td>--</td><td>--</td><td>--</td><td>--</td><td>0</td><td>--</td><td>--</td><td>--</td><td>0</td><td>0</td><td>--</td><td>--</td><td>--</td><td>--</td><td>0</td><td>--</td><td>--</td><td>--</td><td>--</td><td>--</td><td>0</td><td>--</td><td>--</td><td>--</td><td>0</td><td>0</td><td>0.7145199775695801</td><td>20.24959945678711</td><td>0.09110900014638901</td><td>--</td><td>1</td><td>20.24959945678711</td><td>20.24959945678711</td><td>20.082799911499023</td><td>0.07900000363588333</td><td>--</td><td>1</td><td>19.783100128173828</td><td>0.09110900014638901</td><td>--</td><td>1</td><td>16781336</td><td>--</td><td>--</td><td>--</td><td>--</td><td>0</td><td>--</td><td>--</td><td>--</td><td>--</td><td>--</td><td>0</td><td>--</td><td>--</td><td>--</td><td>0</td><td>0</td><td>--</td><td>--</td><td>--</td><td>--</td><td>0</td><td>--</td><td>--</td><td>--</td><td>--</td><td>--</td><td>0</td><td>--</td><td>--</td><td>--</td><td>0</td><td>0</td><td>0.1811406608043053</td></tr>\n",
       "<tr><td>PSO J013.6628-28.2769</td><td>-999</td><td>-999</td><td>-999</td><td>74060136626768125</td><td>3492917000013298</td><td>482711374410737</td><td>0</td><td>8919441327731</td><td>7406</td><td>1</td><td>638</td><td>95</td><td>0.519437416009081</td><td>3492917</td><td>112390</td><td>3</td><td>302067712</td><td>36</td><td>--</td><td>--</td><td>--</td><td>--</td><td>13.66276253</td><td>-28.27690499</td><td>0.19877000153064728</td><td>0.19877000153064728</td><td>56602.33422454</td><td>--</td><td>0.8557479651251573</td><td>0.20801974554606736</td><td>-0.473733264239595</td><td>0.16163428383763404</td><td>-31.157157678186106</td><td>271.3535487118275</td><td>-88.6490066043862</td><td>--</td><td>0</td><td>1</td><td>1</td><td>0</td><td>0</td><td>0</td><td>0</td><td>0.9997040033340454</td><td>22.020099639892578</td><td>0.1982010006904602</td><td>--</td><td>1</td><td>22.020099639892578</td><td>22.020099639892578</td><td>--</td><td>--</td><td>--</td><td>0</td><td>--</td><td>--</td><td>--</td><td>0</td><td>272</td><td>--</td><td>--</td><td>--</td><td>--</td><td>0</td><td>--</td><td>--</td><td>--</td><td>--</td><td>--</td><td>0</td><td>--</td><td>--</td><td>--</td><td>0</td><td>0</td><td>--</td><td>--</td><td>--</td><td>--</td><td>0</td><td>--</td><td>--</td><td>--</td><td>--</td><td>--</td><td>0</td><td>--</td><td>--</td><td>--</td><td>0</td><td>0</td><td>--</td><td>--</td><td>--</td><td>--</td><td>0</td><td>--</td><td>--</td><td>--</td><td>--</td><td>--</td><td>0</td><td>--</td><td>--</td><td>--</td><td>0</td><td>0</td><td>--</td><td>--</td><td>--</td><td>--</td><td>0</td><td>--</td><td>--</td><td>--</td><td>--</td><td>--</td><td>0</td><td>--</td><td>--</td><td>--</td><td>0</td><td>0</td><td>0.18083151345890353</td></tr>\n",
       "<tr><td>PSO J013.6631-28.2776</td><td>-999</td><td>-999</td><td>-999</td><td>74060136630617190</td><td>3492917000412207</td><td>482711374814926</td><td>0</td><td>8919441320887</td><td>7406</td><td>1</td><td>638</td><td>95</td><td>0.689196524852138</td><td>3492917</td><td>112390</td><td>3</td><td>1343750144</td><td>160</td><td>13.66306046</td><td>-28.27758785</td><td>0.0010000000474974513</td><td>0.0010000000474974513</td><td>13.66306046</td><td>-28.27758785</td><td>0.0010000000474974513</td><td>0.0010000000474974513</td><td>56019.46136574</td><td>--</td><td>0.8557413971262009</td><td>0.20802286163993786</td><td>-0.4737437601484889</td><td>0.16154740806482656</td><td>-31.157885422859454</td><td>271.3594305174883</td><td>-88.6482883439344</td><td>--</td><td>2</td><td>0</td><td>0</td><td>0</td><td>0</td><td>0</td><td>0</td><td>--</td><td>--</td><td>--</td><td>--</td><td>0</td><td>--</td><td>--</td><td>--</td><td>--</td><td>--</td><td>0</td><td>--</td><td>--</td><td>--</td><td>0</td><td>16416</td><td>--</td><td>--</td><td>--</td><td>--</td><td>0</td><td>--</td><td>--</td><td>--</td><td>--</td><td>--</td><td>0</td><td>--</td><td>--</td><td>--</td><td>0</td><td>16416</td><td>--</td><td>--</td><td>--</td><td>--</td><td>0</td><td>--</td><td>--</td><td>--</td><td>--</td><td>--</td><td>0</td><td>--</td><td>--</td><td>--</td><td>0</td><td>114720</td><td>--</td><td>--</td><td>--</td><td>--</td><td>0</td><td>--</td><td>--</td><td>--</td><td>--</td><td>--</td><td>0</td><td>--</td><td>--</td><td>--</td><td>0</td><td>16416</td><td>--</td><td>--</td><td>--</td><td>--</td><td>0</td><td>--</td><td>--</td><td>--</td><td>--</td><td>--</td><td>0</td><td>--</td><td>--</td><td>--</td><td>0</td><td>16416</td><td>0.18056260284836825</td></tr>\n",
       "<tr><td>PSO J013.6635-28.2798</td><td>-999</td><td>-999</td><td>-999</td><td>74060136635204563</td><td>3492917000412227</td><td>482711374814946</td><td>0</td><td>8919441322310</td><td>7406</td><td>1</td><td>638</td><td>95</td><td>0.204022623788586</td><td>3492917</td><td>112390</td><td>3</td><td>1343750144</td><td>160</td><td>13.6635185</td><td>-28.27977635</td><td>0.0010000000474974513</td><td>0.0010000000474974513</td><td>13.6635185</td><td>-28.27977635</td><td>0.0010000000474974513</td><td>0.0010000000474974513</td><td>55974.8037963</td><td>--</td><td>0.8557221502120328</td><td>0.20802542806157573</td><td>-0.47377739806399943</td><td>0.16081280678620755</td><td>-31.160020153525526</td><td>271.3939565269196</td><td>-88.64621762205647</td><td>--</td><td>2</td><td>0</td><td>0</td><td>0</td><td>0</td><td>0</td><td>0</td><td>--</td><td>--</td><td>--</td><td>--</td><td>0</td><td>--</td><td>--</td><td>--</td><td>--</td><td>--</td><td>0</td><td>--</td><td>--</td><td>--</td><td>0</td><td>114720</td><td>--</td><td>--</td><td>--</td><td>--</td><td>0</td><td>--</td><td>--</td><td>--</td><td>--</td><td>--</td><td>0</td><td>--</td><td>--</td><td>--</td><td>0</td><td>16416</td><td>--</td><td>--</td><td>--</td><td>--</td><td>0</td><td>--</td><td>--</td><td>--</td><td>--</td><td>--</td><td>0</td><td>--</td><td>--</td><td>--</td><td>0</td><td>16416</td><td>--</td><td>--</td><td>--</td><td>--</td><td>0</td><td>--</td><td>--</td><td>--</td><td>--</td><td>--</td><td>0</td><td>--</td><td>--</td><td>--</td><td>0</td><td>16416</td><td>--</td><td>--</td><td>--</td><td>--</td><td>0</td><td>--</td><td>--</td><td>--</td><td>--</td><td>--</td><td>0</td><td>--</td><td>--</td><td>--</td><td>0</td><td>16416</td><td>0.17939210704227487</td></tr>\n",
       "<tr><td>PSO J013.6636-28.2810</td><td>-999</td><td>-999</td><td>-999</td><td>74060136635523230</td><td>3492917000013465</td><td>482711374410904</td><td>0</td><td>8919441325979</td><td>7406</td><td>1</td><td>638</td><td>95</td><td>0.0437218016420694</td><td>3492917</td><td>112390</td><td>3</td><td>302067712</td><td>36</td><td>--</td><td>--</td><td>--</td><td>--</td><td>13.66363361</td><td>-28.28098271</td><td>0.18750999867916107</td><td>0.18750999867916107</td><td>56602.33422454</td><td>--</td><td>0.8557120390363713</td><td>0.20802479080810457</td><td>-0.47379593989127855</td><td>0.16028172232709142</td><td>-31.1611422260154</td><td>271.4172874032851</td><td>-88.64513988997773</td><td>--</td><td>0</td><td>1</td><td>1</td><td>0</td><td>0</td><td>0</td><td>0</td><td>0.9991369843482971</td><td>21.9507999420166</td><td>0.18690699338912964</td><td>--</td><td>1</td><td>21.9507999420166</td><td>21.9507999420166</td><td>--</td><td>--</td><td>--</td><td>0</td><td>23.884899139404297</td><td>0.18690699338912964</td><td>--</td><td>1</td><td>272</td><td>--</td><td>--</td><td>--</td><td>--</td><td>0</td><td>--</td><td>--</td><td>--</td><td>--</td><td>--</td><td>0</td><td>--</td><td>--</td><td>--</td><td>0</td><td>0</td><td>--</td><td>--</td><td>--</td><td>--</td><td>0</td><td>--</td><td>--</td><td>--</td><td>--</td><td>--</td><td>0</td><td>--</td><td>--</td><td>--</td><td>0</td><td>0</td><td>--</td><td>--</td><td>--</td><td>--</td><td>0</td><td>--</td><td>--</td><td>--</td><td>--</td><td>--</td><td>0</td><td>--</td><td>--</td><td>--</td><td>0</td><td>0</td><td>--</td><td>--</td><td>--</td><td>--</td><td>0</td><td>--</td><td>--</td><td>--</td><td>--</td><td>--</td><td>0</td><td>--</td><td>--</td><td>--</td><td>0</td><td>0</td><td>0.17866492921702876</td></tr>\n",
       "</table></div>"
      ],
      "text/plain": [
       "<Table masked=True length=87435>\n",
       "       objName        objAltName1 objAltName2 objAltName3       objID       ... yMeanApMagStd yMeanApMagNpt yFlags       distance     \n",
       "        str21             str4        str4        str4          int64       ...    float64        int64     int64        float64      \n",
       "--------------------- ----------- ----------- ----------- ----------------- ... ------------- ------------- ------ -------------------\n",
       "PSO J013.5045-28.6334        -999        -999        -999 73640135045470151 ...            --             0      0 0.23408680553410535\n",
       "PSO J013.5051-28.6309        -999        -999        -999 73640135051003267 ...            --             0      0  0.2314878186730931\n",
       "PSO J013.5056-28.6296        -999        -999        -999 73640135055964722 ...            --             0  16416  0.2302631377812148\n",
       "PSO J013.5057-28.6309        -999        -999        -999 73640135057563170 ...            --             0      0  0.2315459515931875\n",
       "PSO J013.5062-28.6321        -999        -999        -999 73640135061881723 ...            --             1   4120 0.23274427746682516\n",
       "PSO J013.5063-28.6270        -999        -999        -999 73640135063297887 ...            --             0      0  0.2276115856927936\n",
       "                  ...         ...         ...         ...               ... ...           ...           ...    ...                 ...\n",
       "PSO J013.6617-28.2794        -999        -999        -999 74060136615885087 ...            --             0      0 0.17841634573391515\n",
       "PSO J013.6621-28.2757        -999        -999        -999 74060136622479562 ...            --             0      0    0.18122788686855\n",
       "PSO J013.6623-28.2760        -999        -999        -999 74060136623329034 ...            --             0      0  0.1811406608043053\n",
       "PSO J013.6628-28.2769        -999        -999        -999 74060136626768125 ...            --             0      0 0.18083151345890353\n",
       "PSO J013.6631-28.2776        -999        -999        -999 74060136630617190 ...            --             0  16416 0.18056260284836825\n",
       "PSO J013.6635-28.2798        -999        -999        -999 74060136635204563 ...            --             0  16416 0.17939210704227487\n",
       "PSO J013.6636-28.2810        -999        -999        -999 74060136635523230 ...            --             0      0 0.17866492921702876"
      ]
     },
     "execution_count": 30,
     "metadata": {},
     "output_type": "execute_result"
    }
   ],
   "source": [
    "catalog_data"
   ]
  },
  {
   "cell_type": "markdown",
   "id": "e04e6b2c-9345-41d3-bd85-f2e866d02eb0",
   "metadata": {},
   "source": [
    "# ZCUT"
   ]
  },
  {
   "cell_type": "code",
   "execution_count": 31,
   "id": "3fa10638-1ffe-4a4d-aa10-39e6e95db510",
   "metadata": {},
   "outputs": [],
   "source": [
    "from astroquery.mast import Zcut"
   ]
  },
  {
   "cell_type": "code",
   "execution_count": 32,
   "id": "9a73d1a4-608e-4e2a-9c35-49c7a60177e1",
   "metadata": {},
   "outputs": [
    {
     "name": "stdout",
     "output_type": "stream",
     "text": [
      "[]\n"
     ]
    },
    {
     "name": "stderr",
     "output_type": "stream",
     "text": [
      "WARNING: NoResultsWarning: Coordinates are not in an available deep field survey. [astroquery.mast.cutouts]\n"
     ]
    }
   ],
   "source": [
    "survey_list = Zcut.get_surveys(coordinates=coord)\n",
    "\n",
    "print(survey_list)    "
   ]
  },
  {
   "cell_type": "markdown",
   "id": "14c3e51d-c47d-46c9-bd60-649c218e2920",
   "metadata": {},
   "source": [
    "## MAST"
   ]
  },
  {
   "cell_type": "code",
   "execution_count": 33,
   "id": "451f38fb-1a83-4b8f-b998-2f0810c214fc",
   "metadata": {},
   "outputs": [
    {
     "data": {
      "text/plain": [
       "13.511666666666665"
      ]
     },
     "execution_count": 33,
     "metadata": {},
     "output_type": "execute_result"
    }
   ],
   "source": [
    "coord.ra.deg"
   ]
  },
  {
   "cell_type": "code",
   "execution_count": 34,
   "id": "4db76c4f-6340-460d-ad30-a525487f023a",
   "metadata": {},
   "outputs": [
    {
     "name": "stdout",
     "output_type": "stream",
     "text": [
      "intentType obs_collection  provenance_name  instrument_name project filters ... dataRights mtFlag srcDen   obsid        distance    \n",
      "---------- -------------- ----------------- --------------- ------- ------- ... ---------- ------ ------ --------- -----------------\n",
      "   science           TESS              SPOC      Photometer    TESS    TESS ...     PUBLIC  False    nan  60942206               0.0\n",
      "   science           TESS              SPOC      Photometer    TESS    TESS ...     PUBLIC  False    nan  27972860               0.0\n",
      "   science           TESS              SPOC      Photometer    TESS    TESS ...     PUBLIC  False    nan  28055405               0.0\n",
      "   science           TESS              SPOC      Photometer    TESS    TESS ...     PUBLIC  False    nan  27901915 788.9874513973559\n",
      "   science            PS1               3PI            GPC1     PS1       g ...     PUBLIC     -- 5885.0   1766282               0.0\n",
      "   science            PS1               3PI            GPC1     PS1       i ...     PUBLIC     -- 5885.0   1766283               0.0\n",
      "   science            PS1               3PI            GPC1     PS1       r ...     PUBLIC     -- 5885.0   1766284               0.0\n",
      "       ...            ...               ...             ...     ...     ... ...        ...    ...    ...       ...               ...\n",
      "   science           HLSP GSFC-ELEANOR-LITE      Photometer    TESS    TESS ...     PUBLIC  False    nan 104602552 896.9172616302832\n",
      "   science           HLSP              TGLC      Photometer    TESS    TESS ...     PUBLIC  False    nan 119097568  897.107267149329\n",
      "   science           HLSP              TGLC      Photometer    TESS    TESS ...     PUBLIC  False    nan 119105512 899.7748803210042\n",
      "   science           HLSP GSFC-ELEANOR-LITE      Photometer    TESS    TESS ...     PUBLIC  False    nan 104548672 899.8482878550649\n",
      "   science           HLSP             TASOC      Photometer    TESS    TESS ...     PUBLIC  False    nan  81908608 899.8482878550649\n",
      "   science          GALEX               AIS           GALEX     AIS     NUV ...     PUBLIC     -- 5885.0     29873               0.0\n",
      "   science          GALEX               AIS           GALEX     AIS     FUV ...     PUBLIC     -- 5885.0     29873               0.0\n",
      "Length = 311 rows\n"
     ]
    }
   ],
   "source": [
    "\n",
    "from astroquery.mast import Mast\n",
    "\n",
    "\n",
    "service = 'Mast.Caom.Cone'\n",
    "\n",
    "params = {'ra':coord.ra.deg,\n",
    "\n",
    "          'dec':coord.dec.deg,\n",
    "\n",
    "          'radius':0.25}\n",
    "\n",
    "observations = Mast.service_request(service, params)\n",
    "\n",
    "print(observations)    "
   ]
  },
  {
   "cell_type": "code",
   "execution_count": null,
   "id": "20dd6a25-d012-4145-846b-4df4738fc2a7",
   "metadata": {},
   "outputs": [],
   "source": []
  }
 ],
 "metadata": {
  "kernelspec": {
   "display_name": "Python 3 (ipykernel)",
   "language": "python",
   "name": "python3"
  },
  "language_info": {
   "codemirror_mode": {
    "name": "ipython",
    "version": 3
   },
   "file_extension": ".py",
   "mimetype": "text/x-python",
   "name": "python",
   "nbconvert_exporter": "python",
   "pygments_lexer": "ipython3",
   "version": "3.9.15"
  }
 },
 "nbformat": 4,
 "nbformat_minor": 5
}
