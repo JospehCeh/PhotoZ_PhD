{
 "cells": [
  {
   "cell_type": "markdown",
   "id": "9895d4c9-8b55-4296-bc8e-d6ac87c2f93c",
   "metadata": {},
   "source": [
    "# Search in MAST catalogs \n",
    "\n",
    "- author : Sylvie Dagoret-Campagne\n",
    "- creation date : May 2023\n",
    "- last update : 2023-05-30\n",
    "\n",
    "Explore if some missions avaialble in MAST service have data in \"RX J0054.0-2823\" region\n",
    "\n",
    "https://astroquery.readthedocs.io/en/latest/mast/mast.html"
   ]
  },
  {
   "cell_type": "code",
   "execution_count": 1,
   "id": "ef1cabd4-1e65-48c8-90cf-7d1be777a524",
   "metadata": {},
   "outputs": [],
   "source": [
    "import matplotlib.pyplot as plt\n",
    "from astropy.wcs import WCS\n",
    "\n",
    "from astroquery.simbad import Simbad\n",
    "from astroquery.mast import Observations\n",
    "\n",
    "import astropy.coordinates as coordinates\n",
    "from astropy.coordinates import Angle\n",
    "import astropy.units as u\n",
    "import numpy as np"
   ]
  },
  {
   "cell_type": "code",
   "execution_count": 2,
   "id": "fb3f2f01-b7e4-42d3-b794-bba757712e0e",
   "metadata": {},
   "outputs": [],
   "source": [
    "from astropy.table.pprint import conf\n",
    "#conf.max_lines = -1\n",
    "#conf.max_width = -1"
   ]
  },
  {
   "cell_type": "markdown",
   "id": "4b1c08fc-67f6-41e0-8842-f53367ac7d58",
   "metadata": {},
   "source": [
    "## Observations"
   ]
  },
  {
   "cell_type": "code",
   "execution_count": 3,
   "id": "31d576e0-3240-469d-982a-939a999a3471",
   "metadata": {},
   "outputs": [
    {
     "name": "stdout",
     "output_type": "stream",
     "text": [
      "['IUE', 'BEFS', 'FIMS-SPEAR', 'HUT', 'GALEX', 'Kepler', 'KeplerFFI', 'HLA', 'HST', 'EUVE', 'TUES', 'TESS', 'K2', 'K2FFI', 'HLSP', 'SPITZER_SHA', 'JWST', 'PS1', 'OPO', 'WUPPE', 'FUSE', 'SWIFT']\n"
     ]
    }
   ],
   "source": [
    "print(Observations.list_missions())"
   ]
  },
  {
   "cell_type": "code",
   "execution_count": null,
   "id": "0b3bc5c8-dbb9-4b50-a370-f3cad743a4b8",
   "metadata": {},
   "outputs": [],
   "source": []
  },
  {
   "cell_type": "markdown",
   "id": "01765edb-51c1-4785-b631-e9d8582c228e",
   "metadata": {},
   "source": [
    "## Target"
   ]
  },
  {
   "cell_type": "code",
   "execution_count": 4,
   "id": "3ccf52e9-6efc-40d6-9de5-64c6068101ad",
   "metadata": {},
   "outputs": [],
   "source": [
    "target_name_simbad = \"BAX 013.5117-28.3994\"\n",
    "target_name_ned = \"RX J0054.0-2823\""
   ]
  },
  {
   "cell_type": "code",
   "execution_count": 5,
   "id": "849ed598-a0f4-45b0-b729-4299ab3ef309",
   "metadata": {},
   "outputs": [],
   "source": [
    "result_table = Simbad.query_object(target_name_simbad)"
   ]
  },
  {
   "cell_type": "code",
   "execution_count": 6,
   "id": "ada732a2-6018-443d-a51e-22d38a407a09",
   "metadata": {},
   "outputs": [],
   "source": [
    "ra_str = result_table['RA'][0] + ' hours'\n",
    "dec_str = result_table['DEC'][0] + ' degree'"
   ]
  },
  {
   "cell_type": "code",
   "execution_count": 7,
   "id": "897ad1a2-10fe-449a-9835-a74d53d7c7f0",
   "metadata": {},
   "outputs": [
    {
     "data": {
      "text/plain": [
       "<SkyCoord (ICRS): (ra, dec) in deg\n",
       "    (13.51166667, -28.39944444)>"
      ]
     },
     "execution_count": 7,
     "metadata": {},
     "output_type": "execute_result"
    }
   ],
   "source": [
    "coord = coordinates.SkyCoord(ra_str,dec_str)\n",
    "coord"
   ]
  },
  {
   "cell_type": "markdown",
   "id": "13eef2f3-0a29-4af0-9b82-03d3718cc08b",
   "metadata": {},
   "source": [
    "## MAST Observations"
   ]
  },
  {
   "cell_type": "code",
   "execution_count": 8,
   "id": "43916b42-db68-4b4a-bfaa-480395271abe",
   "metadata": {},
   "outputs": [],
   "source": [
    "obs_table = Observations.query_object(target_name_simbad,radius=\"0.25deg\")"
   ]
  },
  {
   "cell_type": "code",
   "execution_count": 9,
   "id": "faf70057-9d62-43dc-84ee-66f604a921f0",
   "metadata": {},
   "outputs": [
    {
     "data": {
      "text/html": [
       "<div><i>Table masked=True length=311</i>\n",
       "<table id=\"table4870234512\" class=\"table-striped table-bordered table-condensed\">\n",
       "<thead><tr><th>intentType</th><th>obs_collection</th><th>provenance_name</th><th>instrument_name</th><th>project</th><th>filters</th><th>wavelength_region</th><th>target_name</th><th>target_classification</th><th>obs_id</th><th>s_ra</th><th>s_dec</th><th>dataproduct_type</th><th>proposal_pi</th><th>calib_level</th><th>t_min</th><th>t_max</th><th>t_exptime</th><th>em_min</th><th>em_max</th><th>obs_title</th><th>t_obs_release</th><th>proposal_id</th><th>proposal_type</th><th>sequence_number</th><th>s_region</th><th>jpegURL</th><th>dataURL</th><th>dataRights</th><th>mtFlag</th><th>srcDen</th><th>obsid</th><th>distance</th></tr></thead>\n",
       "<thead><tr><th>str7</th><th>str5</th><th>str17</th><th>str10</th><th>str4</th><th>str4</th><th>str16</th><th>str32</th><th>str1</th><th>str73</th><th>float64</th><th>float64</th><th>str10</th><th>str19</th><th>int64</th><th>float64</th><th>float64</th><th>float64</th><th>float64</th><th>float64</th><th>str14</th><th>float64</th><th>str23</th><th>str3</th><th>int64</th><th>str133</th><th>str120</th><th>str129</th><th>str6</th><th>bool</th><th>float64</th><th>str9</th><th>float64</th></tr></thead>\n",
       "<tr><td>science</td><td>TESS</td><td>SPOC</td><td>Photometer</td><td>TESS</td><td>TESS</td><td>Optical</td><td>TESS FFI</td><td>--</td><td>tess-s0003-2-4</td><td>18.82454293614978</td><td>-31.040788897335645</td><td>image</td><td>Ricker, George</td><td>3</td><td>58381.546141770836</td><td>58408.879141261576</td><td>1425.599424</td><td>600.0</td><td>1000.0</td><td>--</td><td>58507.6666666</td><td>N/A</td><td>--</td><td>3</td><td>POLYGON 22.278127 -23.114227 28.285859 -33.79011 14.400627 -38.731614 10.254244 -27.780414 22.278127 -23.114227</td><td>--</td><td>--</td><td>PUBLIC</td><td>False</td><td>nan</td><td>60942206</td><td>0.0</td></tr>\n",
       "<tr><td>science</td><td>TESS</td><td>SPOC</td><td>Photometer</td><td>TESS</td><td>TESS</td><td>Optical</td><td>TESS FFI</td><td>--</td><td>tess-s0029-2-3</td><td>10.878597490217892</td><td>-34.65291393027482</td><td>image</td><td>Ricker, George</td><td>3</td><td>59087.74000385</td><td>59113.93468316</td><td>475.199793</td><td>600.0</td><td>1000.0</td><td>--</td><td>59158.0</td><td>N/A</td><td>--</td><td>29</td><td>POLYGON 12.83654500 -26.68156200 21.20849700 -35.67388800 8.41085100 -42.87851500 1.00297300 -32.50456800 12.83654500 -26.68156200</td><td>--</td><td>--</td><td>PUBLIC</td><td>False</td><td>nan</td><td>27972860</td><td>0.0</td></tr>\n",
       "<tr><td>science</td><td>TESS</td><td>SPOC</td><td>Photometer</td><td>TESS</td><td>TESS</td><td>Optical</td><td>TESS FFI</td><td>--</td><td>tess-s0030-2-4</td><td>21.316275513239678</td><td>-29.928875993165978</td><td>image</td><td>Ricker, George</td><td>3</td><td>59115.38607926</td><td>59142.7260047</td><td>475.199788</td><td>600.0</td><td>1000.0</td><td>--</td><td>59173.0</td><td>N/A</td><td>--</td><td>30</td><td>POLYGON 24.81211600 -22.02902800 30.63496600 -32.75918900 16.88033600 -37.59161500 12.86359200 -26.62078800 24.81211600 -22.02902800</td><td>--</td><td>--</td><td>PUBLIC</td><td>False</td><td>nan</td><td>28055405</td><td>0.0</td></tr>\n",
       "<tr><td>science</td><td>TESS</td><td>SPOC</td><td>Photometer</td><td>TESS</td><td>TESS</td><td>Optical</td><td>63787839</td><td>--</td><td>tess2020238165205-s0029-0000000063787839-0193-s</td><td>13.2895194155193</td><td>-28.2973699972947</td><td>timeseries</td><td>Ricker, George</td><td>3</td><td>59087.74282196</td><td>59113.93772419</td><td>120.0</td><td>600.0</td><td>1000.0</td><td>--</td><td>59158.0</td><td>G03272</td><td>--</td><td>29</td><td>CIRCLE ICRS 13.28951942 -28.29737000 0.00138889</td><td>--</td><td>mast:TESS/product/tess2020238165205-s0029-0000000063787839-0193-s_lc.fits</td><td>PUBLIC</td><td>False</td><td>nan</td><td>27901915</td><td>789.0070932805666</td></tr>\n",
       "<tr><td>science</td><td>PS1</td><td>3PI</td><td>GPC1</td><td>PS1</td><td>g</td><td>OPTICAL</td><td>0638.085</td><td>--</td><td>rings.v3.skycell.0638.085.stk.g</td><td>13.441716292531964</td><td>-28.59309734059033</td><td>image</td><td>--</td><td>3</td><td>55447.4769591</td><td>56625.270336885165</td><td>645.0</td><td>394299987792.96875</td><td>559299987792.9688</td><td>PS1 3PI Survey</td><td>57741.5416666</td><td>--</td><td>3PI</td><td>--</td><td>POLYGON ICRS    13.689784   -28.810830   13.689703   -28.375747   13.194721   -28.374921   13.192657   -28.809989</td><td>http://ps1images.stsci.edu/cgi-bin/fitscut.cgi?red=rings.v3.skycell/0638/085/rings.v3.skycell.0638.085.stk.g.unconv.fits</td><td>http://ps1images.stsci.edu/rings.v3.skycell/0638/085/rings.v3.skycell.0638.085.stk.g.unconv.fits</td><td>PUBLIC</td><td>--</td><td>5885.0</td><td>1766282</td><td>0.0</td></tr>\n",
       "<tr><td>science</td><td>PS1</td><td>3PI</td><td>GPC1</td><td>PS1</td><td>i</td><td>OPTICAL</td><td>0638.085</td><td>--</td><td>rings.v3.skycell.0638.085.stk.i</td><td>13.441716292531964</td><td>-28.59309734059033</td><td>image</td><td>--</td><td>3</td><td>55457.4569304</td><td>56917.52311593336</td><td>1260.0</td><td>677799987792.9688</td><td>830400024414.0625</td><td>PS1 3PI Survey</td><td>57741.5416666</td><td>--</td><td>3PI</td><td>--</td><td>POLYGON ICRS    13.689784   -28.810830   13.689703   -28.375747   13.194721   -28.374921   13.192657   -28.809989</td><td>http://ps1images.stsci.edu/cgi-bin/fitscut.cgi?red=rings.v3.skycell/0638/085/rings.v3.skycell.0638.085.stk.i.unconv.fits</td><td>http://ps1images.stsci.edu/rings.v3.skycell/0638/085/rings.v3.skycell.0638.085.stk.i.unconv.fits</td><td>PUBLIC</td><td>--</td><td>5885.0</td><td>1766283</td><td>0.0</td></tr>\n",
       "<tr><td>science</td><td>PS1</td><td>3PI</td><td>GPC1</td><td>PS1</td><td>r</td><td>OPTICAL</td><td>0638.085</td><td>--</td><td>rings.v3.skycell.0638.085.stk.r</td><td>13.441716292531964</td><td>-28.59309734059033</td><td>image</td><td>--</td><td>3</td><td>55447.5014007</td><td>56988.28977063336</td><td>950.0</td><td>538599975585.9375</td><td>703599975585.9375</td><td>PS1 3PI Survey</td><td>57741.5416666</td><td>--</td><td>3PI</td><td>--</td><td>POLYGON ICRS    13.689784   -28.810830   13.689703   -28.375747   13.194721   -28.374921   13.192657   -28.809989</td><td>http://ps1images.stsci.edu/cgi-bin/fitscut.cgi?red=rings.v3.skycell/0638/085/rings.v3.skycell.0638.085.stk.r.unconv.fits</td><td>http://ps1images.stsci.edu/rings.v3.skycell/0638/085/rings.v3.skycell.0638.085.stk.r.unconv.fits</td><td>PUBLIC</td><td>--</td><td>5885.0</td><td>1766284</td><td>0.0</td></tr>\n",
       "<tr><td>science</td><td>PS1</td><td>3PI</td><td>GPC1</td><td>PS1</td><td>y</td><td>OPTICAL;INFRARED</td><td>0638.085</td><td>--</td><td>rings.v3.skycell.0638.085.stk.y</td><td>13.441716292531964</td><td>-28.59309734059033</td><td>image</td><td>--</td><td>3</td><td>55402.5694746</td><td>56889.63235872223</td><td>650.0</td><td>910000000000.0</td><td>1083800048828.125</td><td>PS1 3PI Survey</td><td>57741.5416666</td><td>--</td><td>3PI</td><td>--</td><td>POLYGON ICRS    13.689784   -28.810830   13.689703   -28.375747   13.194721   -28.374921   13.192657   -28.809989</td><td>http://ps1images.stsci.edu/cgi-bin/fitscut.cgi?red=rings.v3.skycell/0638/085/rings.v3.skycell.0638.085.stk.y.unconv.fits</td><td>http://ps1images.stsci.edu/rings.v3.skycell/0638/085/rings.v3.skycell.0638.085.stk.y.unconv.fits</td><td>PUBLIC</td><td>--</td><td>5885.0</td><td>1766285</td><td>0.0</td></tr>\n",
       "<tr><td>...</td><td>...</td><td>...</td><td>...</td><td>...</td><td>...</td><td>...</td><td>...</td><td>...</td><td>...</td><td>...</td><td>...</td><td>...</td><td>...</td><td>...</td><td>...</td><td>...</td><td>...</td><td>...</td><td>...</td><td>...</td><td>...</td><td>...</td><td>...</td><td>...</td><td>...</td><td>...</td><td>...</td><td>...</td><td>...</td><td>...</td><td>...</td><td>...</td></tr>\n",
       "<tr><td>science</td><td>HLSP</td><td>GSFC-ELEANOR-LITE</td><td>Photometer</td><td>TESS</td><td>TESS</td><td>Optical</td><td>63798011</td><td>--</td><td>hlsp_gsfc-eleanor-lite_tess_ffi_s0003-0000000063798011_tess_v1.0_lc</td><td>13.7925644608121</td><td>-28.3655423074051</td><td>timeseries</td><td>Brian P. Powell</td><td>4</td><td>58381.546141770836</td><td>58408.879141261576</td><td>1800.0</td><td>600.0</td><td>1000.0</td><td>--</td><td>59927.0</td><td>N/A</td><td>--</td><td>3</td><td>CIRCLE 13.7925644608121 -28.3655423074051 0.0011111111111111111</td><td>--</td><td>mast:HLSP/gsfc-eleanor-lite/s0003/0000/0000/6379/8011/hlsp_gsfc-eleanor-lite_tess_ffi_s0003-0000000063798011_tess_v1.0_lc.fits</td><td>PUBLIC</td><td>False</td><td>nan</td><td>104610569</td><td>893.892192072498</td></tr>\n",
       "<tr><td>science</td><td>HLSP</td><td>TGLC</td><td>Photometer</td><td>TESS</td><td>TESS</td><td>Optical</td><td>63798011</td><td>--</td><td>hlsp_tglc_tess_ffi_gaiaid-5032653840626489472-s0003-cam2-ccd4_tess_v1_llc</td><td>13.79258925645961</td><td>-28.36556127321704</td><td>timeseries</td><td>Timothy D. Brandt</td><td>4</td><td>58381.55735905583</td><td>58408.86952545328</td><td>1800.0</td><td>600.0</td><td>1000.0</td><td>--</td><td>60023.87031241</td><td>N/A</td><td>--</td><td>3</td><td>CIRCLE 13.79258925645961 -28.36556127321704 0.0011111111111111111</td><td>--</td><td>mast:HLSP/tglc/s0003/cam2-ccd4/0050/3265/3840/6264/hlsp_tglc_tess_ffi_gaiaid-5032653840626489472-s0003-cam2-ccd4_tess_v1_llc.fits</td><td>PUBLIC</td><td>False</td><td>nan</td><td>119071426</td><td>893.9606927809903</td></tr>\n",
       "<tr><td>science</td><td>HLSP</td><td>GSFC-ELEANOR-LITE</td><td>Photometer</td><td>TESS</td><td>TESS</td><td>Optical</td><td>63793716</td><td>--</td><td>hlsp_gsfc-eleanor-lite_tess_ffi_s0003-0000000063793716_tess_v1.0_lc</td><td>13.4616844545753</td><td>-28.6458051356806</td><td>timeseries</td><td>Brian P. Powell</td><td>4</td><td>58381.546141770836</td><td>58408.879141261576</td><td>1800.0</td><td>600.0</td><td>1000.0</td><td>--</td><td>59927.0</td><td>N/A</td><td>--</td><td>3</td><td>CIRCLE 13.4616844545753 -28.6458051356806 0.0011111111111111111</td><td>--</td><td>mast:HLSP/gsfc-eleanor-lite/s0003/0000/0000/6379/3716/hlsp_gsfc-eleanor-lite_tess_ffi_s0003-0000000063793716_tess_v1.0_lc.fits</td><td>PUBLIC</td><td>False</td><td>nan</td><td>104602552</td><td>897.0932265928994</td></tr>\n",
       "<tr><td>science</td><td>HLSP</td><td>TGLC</td><td>Photometer</td><td>TESS</td><td>TESS</td><td>Optical</td><td>63793716</td><td>--</td><td>hlsp_tglc_tess_ffi_gaiaid-5032548734186881024-s0003-cam2-ccd4_tess_v1_llc</td><td>13.46171370841294</td><td>-28.64586330690929</td><td>timeseries</td><td>Timothy D. Brandt</td><td>4</td><td>58381.55735905583</td><td>58408.86952545328</td><td>1800.0</td><td>600.0</td><td>1000.0</td><td>--</td><td>60023.87031241</td><td>N/A</td><td>--</td><td>3</td><td>CIRCLE 13.46171370841294 -28.64586330690929 0.0011111111111111111</td><td>--</td><td>mast:HLSP/tglc/s0003/cam2-ccd4/0050/3254/8734/1868/hlsp_tglc_tess_ffi_gaiaid-5032548734186881024-s0003-cam2-ccd4_tess_v1_llc.fits</td><td>PUBLIC</td><td>False</td><td>nan</td><td>119097568</td><td>897.2832213004979</td></tr>\n",
       "<tr><td>science</td><td>HLSP</td><td>TGLC</td><td>Photometer</td><td>TESS</td><td>TESS</td><td>Optical</td><td>63787848</td><td>--</td><td>hlsp_tglc_tess_ffi_gaiaid-5032624256891805824-s0003-cam2-ccd4_tess_v1_llc</td><td>13.31217327691672</td><td>-28.22006241112527</td><td>timeseries</td><td>Timothy D. Brandt</td><td>4</td><td>58381.55735905583</td><td>58408.86952545328</td><td>1800.0</td><td>600.0</td><td>1000.0</td><td>--</td><td>60023.87031241</td><td>N/A</td><td>--</td><td>3</td><td>CIRCLE 13.31217327691672 -28.22006241112527 0.0011111111111111111</td><td>--</td><td>mast:HLSP/tglc/s0003/cam2-ccd4/0050/3262/4256/8918/hlsp_tglc_tess_ffi_gaiaid-5032624256891805824-s0003-cam2-ccd4_tess_v1_llc.fits</td><td>PUBLIC</td><td>False</td><td>nan</td><td>119105512</td><td>899.7346162810717</td></tr>\n",
       "<tr><td>science</td><td>HLSP</td><td>GSFC-ELEANOR-LITE</td><td>Photometer</td><td>TESS</td><td>TESS</td><td>Optical</td><td>63787848</td><td>--</td><td>hlsp_gsfc-eleanor-lite_tess_ffi_s0003-0000000063787848_tess_v1.0_lc</td><td>13.3121886296744</td><td>-28.2200206706245</td><td>timeseries</td><td>Brian P. Powell</td><td>4</td><td>58381.546141770836</td><td>58408.879141261576</td><td>1800.0</td><td>600.0</td><td>1000.0</td><td>--</td><td>59927.0</td><td>N/A</td><td>--</td><td>3</td><td>CIRCLE 13.3121886296744 -28.2200206706245 0.0011111111111111111</td><td>--</td><td>mast:HLSP/gsfc-eleanor-lite/s0003/0000/0000/6378/7848/hlsp_gsfc-eleanor-lite_tess_ffi_s0003-0000000063787848_tess_v1.0_lc.fits</td><td>PUBLIC</td><td>False</td><td>nan</td><td>104548672</td><td>899.8079946763623</td></tr>\n",
       "<tr><td>science</td><td>HLSP</td><td>TASOC</td><td>Photometer</td><td>TESS</td><td>TESS</td><td>Optical</td><td>63787848</td><td>--</td><td>hlsp_tasoc_tess_ffi_tic00063787848-s0003-cam2-ccd4-c1800_tess_v05</td><td>13.3121886296744</td><td>-28.2200206706245</td><td>timeseries</td><td>Rasmus Handberg</td><td>4</td><td>58381.54721292698</td><td>58408.88006515071</td><td>1800.0</td><td>600.0</td><td>1000.0</td><td>--</td><td>59694.0478009</td><td>G011160_G011155_G011188</td><td>--</td><td>3</td><td>CIRCLE ICRS 13.31218863 -28.22002067 0.00111111</td><td>--</td><td>mast:HLSP/tasoc/s0003/c1800/0000/0000/6378/7848/hlsp_tasoc_tess_ffi_tic00063787848-s0003-cam2-ccd4-c1800_tess_v05_cbv-lc.fits</td><td>PUBLIC</td><td>False</td><td>nan</td><td>81908608</td><td>899.8079946763623</td></tr>\n",
       "<tr><td>science</td><td>GALEX</td><td>AIS</td><td>GALEX</td><td>AIS</td><td>NUV</td><td>UV</td><td>AIS_281_1_14</td><td>--</td><td>6380802579076481024</td><td>13.375796567031102</td><td>-28.1265195718468</td><td>image</td><td>--</td><td>2</td><td>54055.71357638889</td><td>54055.714826388896</td><td>108.0</td><td>169300000000.0</td><td>300700000000.0</td><td>--</td><td>55421.58981478</td><td>--</td><td>AIS</td><td>--</td><td>CIRCLE ICRS  13.37579657 -28.12651957 0.625</td><td>http://galex.stsci.edu/data/GR6/pipe/02-vsn/50281-AIS_281/d/01-main/0001-img/07-try/qa/AIS_281_sg14-xd-int_2color.jpg</td><td>http://galex.stsci.edu/data/GR6/pipe/02-vsn/50281-AIS_281/d/01-main/0001-img/07-try/AIS_281_sg14-nd-exp.fits.gz</td><td>PUBLIC</td><td>--</td><td>5885.0</td><td>29873</td><td>0.0</td></tr>\n",
       "<tr><td>science</td><td>GALEX</td><td>AIS</td><td>GALEX</td><td>AIS</td><td>FUV</td><td>UV</td><td>AIS_281_1_14</td><td>--</td><td>6380802579076481024</td><td>13.375796567031102</td><td>-28.1265195718468</td><td>image</td><td>--</td><td>2</td><td>54055.71357638889</td><td>54055.714826388896</td><td>108.0</td><td>134000000000.0</td><td>180600000000.0</td><td>--</td><td>55421.58981478</td><td>--</td><td>AIS</td><td>--</td><td>CIRCLE ICRS  13.37579657 -28.12651957 0.625</td><td>http://galex.stsci.edu/data/GR6/pipe/02-vsn/50281-AIS_281/d/01-main/0001-img/07-try/qa/AIS_281_sg14-xd-int_2color.jpg</td><td>http://galex.stsci.edu/data/GR6/pipe/02-vsn/50281-AIS_281/d/01-main/0001-img/07-try/AIS_281_sg14-fd-cnt.fits.gz</td><td>PUBLIC</td><td>--</td><td>5885.0</td><td>29873</td><td>0.0</td></tr>\n",
       "</table></div>"
      ],
      "text/plain": [
       "<Table masked=True length=311>\n",
       "intentType obs_collection  provenance_name  instrument_name project ... mtFlag  srcDen   obsid        distance    \n",
       "   str7         str5            str17            str10        str4  ...  bool  float64    str9        float64     \n",
       "---------- -------------- ----------------- --------------- ------- ... ------ ------- --------- -----------------\n",
       "   science           TESS              SPOC      Photometer    TESS ...  False     nan  60942206               0.0\n",
       "   science           TESS              SPOC      Photometer    TESS ...  False     nan  27972860               0.0\n",
       "   science           TESS              SPOC      Photometer    TESS ...  False     nan  28055405               0.0\n",
       "   science           TESS              SPOC      Photometer    TESS ...  False     nan  27901915 789.0070932805666\n",
       "   science            PS1               3PI            GPC1     PS1 ...     --  5885.0   1766282               0.0\n",
       "   science            PS1               3PI            GPC1     PS1 ...     --  5885.0   1766283               0.0\n",
       "   science            PS1               3PI            GPC1     PS1 ...     --  5885.0   1766284               0.0\n",
       "   science            PS1               3PI            GPC1     PS1 ...     --  5885.0   1766285               0.0\n",
       "       ...            ...               ...             ...     ... ...    ...     ...       ...               ...\n",
       "   science           HLSP GSFC-ELEANOR-LITE      Photometer    TESS ...  False     nan 104610569  893.892192072498\n",
       "   science           HLSP              TGLC      Photometer    TESS ...  False     nan 119071426 893.9606927809903\n",
       "   science           HLSP GSFC-ELEANOR-LITE      Photometer    TESS ...  False     nan 104602552 897.0932265928994\n",
       "   science           HLSP              TGLC      Photometer    TESS ...  False     nan 119097568 897.2832213004979\n",
       "   science           HLSP              TGLC      Photometer    TESS ...  False     nan 119105512 899.7346162810717\n",
       "   science           HLSP GSFC-ELEANOR-LITE      Photometer    TESS ...  False     nan 104548672 899.8079946763623\n",
       "   science           HLSP             TASOC      Photometer    TESS ...  False     nan  81908608 899.8079946763623\n",
       "   science          GALEX               AIS           GALEX     AIS ...     --  5885.0     29873               0.0\n",
       "   science          GALEX               AIS           GALEX     AIS ...     --  5885.0     29873               0.0"
      ]
     },
     "execution_count": 9,
     "metadata": {},
     "output_type": "execute_result"
    }
   ],
   "source": [
    "obs_table "
   ]
  },
  {
   "cell_type": "code",
   "execution_count": 10,
   "id": "74e618c6-e357-436a-ba61-6d56dc741963",
   "metadata": {},
   "outputs": [],
   "source": [
    "list_of_collections = list(obs_table[\"obs_collection\"])"
   ]
  },
  {
   "cell_type": "code",
   "execution_count": 11,
   "id": "b8420550-55f9-4d37-89da-5a514b584df2",
   "metadata": {},
   "outputs": [
    {
     "data": {
      "text/plain": [
       "array(['GALEX', 'HLSP', 'PS1', 'TESS'], dtype='<U5')"
      ]
     },
     "execution_count": 11,
     "metadata": {},
     "output_type": "execute_result"
    }
   ],
   "source": [
    "np.unique(list_of_collections)"
   ]
  },
  {
   "cell_type": "code",
   "execution_count": 12,
   "id": "70123f15-e9dc-4715-a2c1-009440749748",
   "metadata": {},
   "outputs": [
    {
     "name": "stderr",
     "output_type": "stream",
     "text": [
      "WARNING: NoResultsWarning: Query returned no results. [astroquery.mast.discovery_portal]\n"
     ]
    }
   ],
   "source": [
    "#'SPITZER_SHA'\n",
    "obs_table = Observations.query_criteria(filters=[\"*SPITZER*\"],objectname=target_name_simbad)"
   ]
  },
  {
   "cell_type": "code",
   "execution_count": 13,
   "id": "e6697548-e948-43db-b14d-9e25d0d9081b",
   "metadata": {},
   "outputs": [
    {
     "data": {
      "text/html": [
       "<div><i>Table masked=True length=0</i>\n",
       "<table id=\"table4870172976\" class=\"table-striped table-bordered table-condensed\">\n",
       "<thead><tr><th>intentType</th><th>obs_collection</th><th>provenance_name</th><th>instrument_name</th><th>project</th><th>filters</th><th>wavelength_region</th><th>target_name</th><th>target_classification</th><th>obs_id</th><th>s_ra</th><th>s_dec</th><th>dataproduct_type</th><th>proposal_pi</th><th>calib_level</th><th>t_min</th><th>t_max</th><th>t_exptime</th><th>em_min</th><th>em_max</th><th>obs_title</th><th>t_obs_release</th><th>proposal_id</th><th>proposal_type</th><th>sequence_number</th><th>s_region</th><th>jpegURL</th><th>dataURL</th><th>dataRights</th><th>mtFlag</th><th>srcDen</th><th>obsid</th><th>objID</th><th>objID1</th><th>distance</th></tr></thead>\n",
       "<thead><tr><th>str1</th><th>str1</th><th>str1</th><th>str1</th><th>str1</th><th>str1</th><th>str1</th><th>str1</th><th>str1</th><th>str1</th><th>float64</th><th>float64</th><th>str1</th><th>str1</th><th>int64</th><th>float64</th><th>float64</th><th>float64</th><th>float64</th><th>float64</th><th>str1</th><th>float64</th><th>str1</th><th>str1</th><th>int64</th><th>str1</th><th>str1</th><th>str1</th><th>str1</th><th>bool</th><th>float64</th><th>str1</th><th>str1</th><th>str1</th><th>float64</th></tr></thead>\n",
       "</table></div>"
      ],
      "text/plain": [
       "<Table masked=True length=0>\n",
       "intentType obs_collection provenance_name instrument_name project filters ...  srcDen obsid objID objID1 distance\n",
       "   str1         str1            str1            str1        str1    str1  ... float64  str1  str1  str1  float64 \n",
       "---------- -------------- --------------- --------------- ------- ------- ... ------- ----- ----- ------ --------"
      ]
     },
     "execution_count": 13,
     "metadata": {},
     "output_type": "execute_result"
    }
   ],
   "source": [
    "obs_table"
   ]
  },
  {
   "cell_type": "code",
   "execution_count": 14,
   "id": "ce32aa32-0144-4f31-af03-0ec8a847b69c",
   "metadata": {},
   "outputs": [
    {
     "ename": "AssertionError",
     "evalue": "",
     "output_type": "error",
     "traceback": [
      "\u001b[0;31m---------------------------------------------------------------------------\u001b[0m",
      "\u001b[0;31mAssertionError\u001b[0m                            Traceback (most recent call last)",
      "Cell \u001b[0;32mIn[14], line 1\u001b[0m\n\u001b[0;32m----> 1\u001b[0m \u001b[38;5;28;01massert\u001b[39;00m \u001b[38;5;28;01mFalse\u001b[39;00m\n",
      "\u001b[0;31mAssertionError\u001b[0m: "
     ]
    }
   ],
   "source": [
    "assert False"
   ]
  },
  {
   "cell_type": "code",
   "execution_count": null,
   "id": "891db7f5-0d41-4c31-95c9-584d71342309",
   "metadata": {},
   "outputs": [],
   "source": [
    "obs_table = Observations.query_criteria(filters=[\"*UV\",\"Kepler\"],objectname=target_name_simbad)"
   ]
  },
  {
   "cell_type": "code",
   "execution_count": null,
   "id": "e783645e-90eb-46f7-98f1-8956851c255c",
   "metadata": {},
   "outputs": [],
   "source": [
    "obs_table"
   ]
  },
  {
   "cell_type": "code",
   "execution_count": null,
   "id": "16f2fd2d-73b9-4cb8-86f2-eb9ea5c3c182",
   "metadata": {},
   "outputs": [],
   "source": [
    "print(Observations.query_object_count(target_name_simbad,radius=\".25 deg\"))  "
   ]
  },
  {
   "cell_type": "code",
   "execution_count": null,
   "id": "7db1e3e1-f6f3-439c-9287-412eed730b35",
   "metadata": {},
   "outputs": [],
   "source": [
    "print(Observations.query_criteria_count(dataproduct_type=\"image\",filters=[\"NUV\",\"FUV\"]))"
   ]
  },
  {
   "cell_type": "code",
   "execution_count": null,
   "id": "20090f4f-fec3-46b5-9ad5-86f4b837a96c",
   "metadata": {},
   "outputs": [],
   "source": [
    "obs_table = Observations.query_object(target_name_simbad,radius=\".25 deg\")\n",
    "\n",
    "data_products_by_obs = Observations.get_product_list(obs_table[0:2])\n",
    "\n",
    "print(data_products_by_obs)  "
   ]
  },
  {
   "cell_type": "code",
   "execution_count": null,
   "id": "c8b5ab2a-52f0-4c64-a0e4-5546fb39c57c",
   "metadata": {},
   "outputs": [],
   "source": [
    "data_products_by_obs = Observations.get_product_list(obs_table)"
   ]
  },
  {
   "cell_type": "code",
   "execution_count": null,
   "id": "46685a14-c774-4c19-9784-dfe1001e35bb",
   "metadata": {},
   "outputs": [],
   "source": [
    "print(data_products_by_obs)  "
   ]
  },
  {
   "cell_type": "markdown",
   "id": "cc72efda-c7c1-4d04-9d08-152775cc08ad",
   "metadata": {},
   "source": [
    "## Missions"
   ]
  },
  {
   "cell_type": "code",
   "execution_count": null,
   "id": "2e00bc61-74eb-45d8-930e-3e61243db468",
   "metadata": {},
   "outputs": [],
   "source": [
    "from astroquery.mast import MastMissions\n",
    "\n",
    "missions = MastMissions()"
   ]
  },
  {
   "cell_type": "code",
   "execution_count": null,
   "id": "8c1cbaf5-78b6-49fb-a513-d4192b98172b",
   "metadata": {},
   "outputs": [],
   "source": [
    "missions.mission"
   ]
  },
  {
   "cell_type": "code",
   "execution_count": null,
   "id": "0f68f50e-0ae7-4735-a4d4-3f518b9ba459",
   "metadata": {},
   "outputs": [],
   "source": [
    "columns = missions.get_column_list()"
   ]
  },
  {
   "cell_type": "code",
   "execution_count": null,
   "id": "2ff367e4-39c3-4ae8-a61b-eb822c994d1e",
   "metadata": {},
   "outputs": [],
   "source": [
    "columns"
   ]
  },
  {
   "cell_type": "code",
   "execution_count": null,
   "id": "ae847fd2-651c-4016-9025-1a2ffaa8b245",
   "metadata": {},
   "outputs": [],
   "source": [
    "results = missions.query_region(coord, radius=0.25)"
   ]
  },
  {
   "cell_type": "code",
   "execution_count": null,
   "id": "32ecf0a9-aaac-4265-acfa-a34d6081b168",
   "metadata": {},
   "outputs": [],
   "source": [
    "results"
   ]
  },
  {
   "cell_type": "markdown",
   "id": "85d10d1a-fa2f-4713-adfa-333bd7d60136",
   "metadata": {},
   "source": [
    "# Catalog\n",
    "\n",
    "\n",
    "\n",
    "\n",
    "    The Hubble Source Catalog (HSC)\n",
    "\n",
    "    The GALEX Catalog (V2 and V3)\n",
    "\n",
    "    The Gaia (DR1 and DR2) and TGAS Catalogs\n",
    "\n",
    "    The TESS Input Catalog (TIC)\n",
    "\n",
    "    The TESS Candidate Target List (CTL)\n",
    "\n",
    "    The Disk Detective Catalog\n",
    "\n",
    "    The PanSTARRS Catalog (DR1 and DR2)\n",
    "\n",
    "    The All-Sky PLATO Input Catalog (DR1)\n"
   ]
  },
  {
   "cell_type": "code",
   "execution_count": null,
   "id": "b891b748-345f-430c-8e40-f2b9d1a61a3f",
   "metadata": {},
   "outputs": [],
   "source": [
    "from astroquery.mast import Catalogs"
   ]
  },
  {
   "cell_type": "markdown",
   "id": "0fb3b9f3-8de5-43bf-88bf-9efffa3c8a31",
   "metadata": {},
   "source": [
    "### GALEX"
   ]
  },
  {
   "cell_type": "code",
   "execution_count": null,
   "id": "5e29f771-ce8f-46c2-9eda-86b817f4cb8e",
   "metadata": {},
   "outputs": [],
   "source": [
    "catalog_data_galex = Catalogs.query_object(target_name_simbad, catalog=\"Galex\",data_release=\"V6\")"
   ]
  },
  {
   "cell_type": "code",
   "execution_count": null,
   "id": "d144b33c-322f-4378-a60e-faf8e5f780a1",
   "metadata": {},
   "outputs": [],
   "source": [
    "catalog_data_galex"
   ]
  },
  {
   "cell_type": "code",
   "execution_count": null,
   "id": "1b79979b-1377-4395-ab0f-15843f108f2e",
   "metadata": {},
   "outputs": [],
   "source": [
    "len(catalog_data_galex)"
   ]
  },
  {
   "cell_type": "markdown",
   "id": "66db7257-b920-4597-89af-04eb4cd2f0e0",
   "metadata": {},
   "source": [
    "### PANSTARRS"
   ]
  },
  {
   "cell_type": "code",
   "execution_count": null,
   "id": "d965ef66-d84e-4bfe-8a71-c2c453b9f48b",
   "metadata": {},
   "outputs": [],
   "source": [
    "catalog_data_panstarrs = Catalogs.query_object(target_name_simbad, catalog=\"PanSTARRS\")"
   ]
  },
  {
   "cell_type": "code",
   "execution_count": null,
   "id": "328cb06d-af54-4646-92c6-67cfb1b6468a",
   "metadata": {},
   "outputs": [],
   "source": [
    "catalog_data_panstarrs"
   ]
  },
  {
   "cell_type": "code",
   "execution_count": null,
   "id": "0ff82095-72b9-48fd-a871-aa4965c58574",
   "metadata": {},
   "outputs": [],
   "source": [
    "catalog_data_panstarrs_mean = Catalogs.query_region(target_name_simbad, radius=0.25,catalog=\"Panstarrs\", data_release=\"dr2\", table=\"mean\")"
   ]
  },
  {
   "cell_type": "code",
   "execution_count": null,
   "id": "9615c905-f5e2-492d-8535-19b5ca8d5c3f",
   "metadata": {},
   "outputs": [],
   "source": [
    "catalog_data_panstarrs_mean"
   ]
  },
  {
   "cell_type": "markdown",
   "id": "e04e6b2c-9345-41d3-bd85-f2e866d02eb0",
   "metadata": {},
   "source": [
    "# ZCUT"
   ]
  },
  {
   "cell_type": "code",
   "execution_count": null,
   "id": "3fa10638-1ffe-4a4d-aa10-39e6e95db510",
   "metadata": {},
   "outputs": [],
   "source": [
    "from astroquery.mast import Zcut"
   ]
  },
  {
   "cell_type": "code",
   "execution_count": null,
   "id": "9a73d1a4-608e-4e2a-9c35-49c7a60177e1",
   "metadata": {},
   "outputs": [],
   "source": [
    "survey_list = Zcut.get_surveys(coordinates=coord)\n",
    "\n",
    "print(survey_list)    "
   ]
  },
  {
   "cell_type": "markdown",
   "id": "14c3e51d-c47d-46c9-bd60-649c218e2920",
   "metadata": {},
   "source": [
    "## MAST"
   ]
  },
  {
   "cell_type": "code",
   "execution_count": null,
   "id": "451f38fb-1a83-4b8f-b998-2f0810c214fc",
   "metadata": {},
   "outputs": [],
   "source": [
    "coord.ra.deg"
   ]
  },
  {
   "cell_type": "code",
   "execution_count": null,
   "id": "4db76c4f-6340-460d-ad30-a525487f023a",
   "metadata": {},
   "outputs": [],
   "source": [
    "\n",
    "from astroquery.mast import Mast\n",
    "\n",
    "service = 'Mast.Caom.Cone'\n",
    "params = {'ra':coord.ra.deg,\n",
    "          'dec':coord.dec.deg,\n",
    "          'radius':0.25}\n",
    "observations = Mast.service_request(service, params)\n",
    "print(observations)    "
   ]
  },
  {
   "cell_type": "code",
   "execution_count": null,
   "id": "20dd6a25-d012-4145-846b-4df4738fc2a7",
   "metadata": {},
   "outputs": [],
   "source": []
  }
 ],
 "metadata": {
  "kernelspec": {
   "display_name": "Python 3 (ipykernel)",
   "language": "python",
   "name": "python3"
  },
  "language_info": {
   "codemirror_mode": {
    "name": "ipython",
    "version": 3
   },
   "file_extension": ".py",
   "mimetype": "text/x-python",
   "name": "python",
   "nbconvert_exporter": "python",
   "pygments_lexer": "ipython3",
   "version": "3.9.15"
  }
 },
 "nbformat": 4,
 "nbformat_minor": 5
}
