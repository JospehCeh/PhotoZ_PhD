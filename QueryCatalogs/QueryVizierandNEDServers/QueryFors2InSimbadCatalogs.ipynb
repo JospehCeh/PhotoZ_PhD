{
 "cells": [
  {
   "cell_type": "markdown",
   "id": "9895d4c9-8b55-4296-bc8e-d6ac87c2f93c",
   "metadata": {},
   "source": [
    "# Search FORS2 galaxies in Simbad catalogs"
   ]
  },
  {
   "cell_type": "code",
   "execution_count": 1,
   "id": "ef1cabd4-1e65-48c8-90cf-7d1be777a524",
   "metadata": {},
   "outputs": [],
   "source": [
    "import matplotlib.pyplot as plt\n",
    "from astropy.wcs import WCS\n",
    "from astroquery.simbad import Simbad\n",
    "from astroquery.vizier import Vizier\n",
    "from astropy.coordinates import SkyCoord\n",
    "import astropy.coordinates as coordinates\n",
    "from astropy.coordinates import angular_separation\n",
    "#(lon1, lat1, lon2, lat2)\n",
    "from astropy.coordinates import Angle\n",
    "import astropy.units as u\n",
    "import h5py\n",
    "import pandas as pd\n",
    "import numpy as np"
   ]
  },
  {
   "cell_type": "code",
   "execution_count": 2,
   "id": "734cee9c-0b68-4978-8013-c9809ec35e96",
   "metadata": {},
   "outputs": [],
   "source": [
    "def GetColumnHfData(hff,list_of_keys,nameval):\n",
    "    \"\"\"\n",
    "    Extract hff atttribute \n",
    "    \n",
    "    parameters\n",
    "      hff           : descriptor of h5 file\n",
    "      list_of_keys : list of exposures\n",
    "      nameval      : name of the attribute\n",
    "      \n",
    "    return\n",
    "           the array of values in the order of \n",
    "    \"\"\"\n",
    "    \n",
    "\n",
    "    all_data = []\n",
    "    for key in list_of_keys:\n",
    "        group=hff.get(key)\n",
    "        val=group.attrs[nameval]\n",
    "        all_data.append(val)\n",
    "    return all_data\n"
   ]
  },
  {
   "cell_type": "code",
   "execution_count": 3,
   "id": "4a4a8dce-3b02-4d1c-92e2-7d6189c5381d",
   "metadata": {},
   "outputs": [],
   "source": [
    "def ReadFors2h5FileAttributes(hf):\n",
    "    hf =  h5py.File(input_file_h5, 'r') \n",
    "    list_of_keys = list(hf.keys())\n",
    "    # pick one key    \n",
    "    key_sel =  list_of_keys[0]\n",
    "    # pick one group\n",
    "    group = hf.get(key_sel)  \n",
    "    #pickup all attribute names\n",
    "    all_subgroup_keys = []\n",
    "    for k in group.attrs.keys():\n",
    "        all_subgroup_keys.append(k)\n",
    "    # create info\n",
    "    df_info = pd.DataFrame()\n",
    "    for key in all_subgroup_keys:\n",
    "        arr=GetColumnHfData(hf, list_of_keys ,key)\n",
    "        df_info[key] = arr\n",
    "    df_info.sort_values(by=\"num\", ascending=True,inplace=True)\n",
    "    df_info_num = df_info[\"num\"].values\n",
    "    key_tags = [ f\"SPEC{num}\" for num in df_info_num ]\n",
    "    df_info[\"name\"] = key_tags\n",
    "    \n",
    "    #'Nsp', 'RT', 'RV', 'Rmag', 'dec', 'eRV', 'lines', 'num', 'ra', 'redshift',\n",
    "    \n",
    "    df_info = df_info[['num' ,'name', 'ra', 'dec', 'Rmag','redshift','lines','RT','RV','eRV','Nsp']]\n",
    "    return df_info\n",
    "    "
   ]
  },
  {
   "cell_type": "markdown",
   "id": "2c184d4f-ca06-493c-9f2f-55e815e45d29",
   "metadata": {},
   "source": [
    "## Read FORS2 catalog"
   ]
  },
  {
   "cell_type": "code",
   "execution_count": 4,
   "id": "3690bc2f-911e-4835-8af7-a5627c5d6896",
   "metadata": {},
   "outputs": [],
   "source": [
    "input_file_h5  = '../data/FORS2spectra.hdf5'"
   ]
  },
  {
   "cell_type": "code",
   "execution_count": 5,
   "id": "68ff1b76-7c3c-473a-94bf-f0a8387db15b",
   "metadata": {},
   "outputs": [],
   "source": [
    "hf =  h5py.File(input_file_h5, 'r') \n",
    "list_of_keys = list(hf.keys())"
   ]
  },
  {
   "cell_type": "code",
   "execution_count": 6,
   "id": "2e14e157-ed8f-4587-b4bd-9412de3d0169",
   "metadata": {},
   "outputs": [],
   "source": [
    "df_info = ReadFors2h5FileAttributes(hf)"
   ]
  },
  {
   "cell_type": "code",
   "execution_count": 7,
   "id": "5d5a2c95-785a-46d2-8272-b4db627638fd",
   "metadata": {},
   "outputs": [],
   "source": [
    "df_info = df_info[['num', 'ra', 'dec', 'Rmag','redshift']]"
   ]
  },
  {
   "cell_type": "code",
   "execution_count": 8,
   "id": "f4d042fe-4ed0-41d3-aa3e-a446be56d774",
   "metadata": {},
   "outputs": [
    {
     "data": {
      "text/html": [
       "<div>\n",
       "<style scoped>\n",
       "    .dataframe tbody tr th:only-of-type {\n",
       "        vertical-align: middle;\n",
       "    }\n",
       "\n",
       "    .dataframe tbody tr th {\n",
       "        vertical-align: top;\n",
       "    }\n",
       "\n",
       "    .dataframe thead th {\n",
       "        text-align: right;\n",
       "    }\n",
       "</style>\n",
       "<table border=\"1\" class=\"dataframe\">\n",
       "  <thead>\n",
       "    <tr style=\"text-align: right;\">\n",
       "      <th></th>\n",
       "      <th>num</th>\n",
       "      <th>ra</th>\n",
       "      <th>dec</th>\n",
       "      <th>Rmag</th>\n",
       "      <th>redshift</th>\n",
       "    </tr>\n",
       "  </thead>\n",
       "  <tbody>\n",
       "    <tr>\n",
       "      <th>51</th>\n",
       "      <td>2</td>\n",
       "      <td>13.52997</td>\n",
       "      <td>-28.44776</td>\n",
       "      <td>21.18</td>\n",
       "      <td>0.34555</td>\n",
       "    </tr>\n",
       "    <tr>\n",
       "      <th>112</th>\n",
       "      <td>3</td>\n",
       "      <td>13.52552</td>\n",
       "      <td>-28.42080</td>\n",
       "      <td>21.45</td>\n",
       "      <td>0.68660</td>\n",
       "    </tr>\n",
       "    <tr>\n",
       "      <th>545</th>\n",
       "      <td>9</td>\n",
       "      <td>13.50219</td>\n",
       "      <td>-28.40641</td>\n",
       "      <td>21.60</td>\n",
       "      <td>0.29266</td>\n",
       "    </tr>\n",
       "    <tr>\n",
       "      <th>17</th>\n",
       "      <td>13</td>\n",
       "      <td>13.49261</td>\n",
       "      <td>-28.38272</td>\n",
       "      <td>23.14</td>\n",
       "      <td>0.68870</td>\n",
       "    </tr>\n",
       "    <tr>\n",
       "      <th>43</th>\n",
       "      <td>19</td>\n",
       "      <td>13.60758</td>\n",
       "      <td>-28.43452</td>\n",
       "      <td>21.70</td>\n",
       "      <td>0.48395</td>\n",
       "    </tr>\n",
       "    <tr>\n",
       "      <th>...</th>\n",
       "      <td>...</td>\n",
       "      <td>...</td>\n",
       "      <td>...</td>\n",
       "      <td>...</td>\n",
       "      <td>...</td>\n",
       "    </tr>\n",
       "    <tr>\n",
       "      <th>531</th>\n",
       "      <td>734</td>\n",
       "      <td>13.68083</td>\n",
       "      <td>-28.23290</td>\n",
       "      <td>0.00</td>\n",
       "      <td>0.23012</td>\n",
       "    </tr>\n",
       "    <tr>\n",
       "      <th>532</th>\n",
       "      <td>735</td>\n",
       "      <td>13.69958</td>\n",
       "      <td>-28.23161</td>\n",
       "      <td>19.28</td>\n",
       "      <td>0.36169</td>\n",
       "    </tr>\n",
       "    <tr>\n",
       "      <th>533</th>\n",
       "      <td>736</td>\n",
       "      <td>13.66431</td>\n",
       "      <td>-28.22849</td>\n",
       "      <td>21.64</td>\n",
       "      <td>0.55777</td>\n",
       "    </tr>\n",
       "    <tr>\n",
       "      <th>534</th>\n",
       "      <td>737</td>\n",
       "      <td>13.62722</td>\n",
       "      <td>-28.22692</td>\n",
       "      <td>21.40</td>\n",
       "      <td>0.52001</td>\n",
       "    </tr>\n",
       "    <tr>\n",
       "      <th>535</th>\n",
       "      <td>738</td>\n",
       "      <td>13.64370</td>\n",
       "      <td>-28.22527</td>\n",
       "      <td>19.73</td>\n",
       "      <td>0.56044</td>\n",
       "    </tr>\n",
       "  </tbody>\n",
       "</table>\n",
       "<p>550 rows × 5 columns</p>\n",
       "</div>"
      ],
      "text/plain": [
       "     num        ra       dec   Rmag  redshift\n",
       "51     2  13.52997 -28.44776  21.18   0.34555\n",
       "112    3  13.52552 -28.42080  21.45   0.68660\n",
       "545    9  13.50219 -28.40641  21.60   0.29266\n",
       "17    13  13.49261 -28.38272  23.14   0.68870\n",
       "43    19  13.60758 -28.43452  21.70   0.48395\n",
       "..   ...       ...       ...    ...       ...\n",
       "531  734  13.68083 -28.23290   0.00   0.23012\n",
       "532  735  13.69958 -28.23161  19.28   0.36169\n",
       "533  736  13.66431 -28.22849  21.64   0.55777\n",
       "534  737  13.62722 -28.22692  21.40   0.52001\n",
       "535  738  13.64370 -28.22527  19.73   0.56044\n",
       "\n",
       "[550 rows x 5 columns]"
      ]
     },
     "execution_count": 8,
     "metadata": {},
     "output_type": "execute_result"
    }
   ],
   "source": [
    "df_info"
   ]
  },
  {
   "cell_type": "markdown",
   "id": "7434bcc6-b6ee-423e-94bd-5cc666c8c1b3",
   "metadata": {},
   "source": [
    "## Simbad catalog"
   ]
  },
  {
   "cell_type": "markdown",
   "id": "3220d4e4-0fa9-436d-b930-e89aa5c03d52",
   "metadata": {},
   "source": [
    "### find central cluster coordinates"
   ]
  },
  {
   "cell_type": "code",
   "execution_count": 9,
   "id": "3ccf52e9-6efc-40d6-9de5-64c6068101ad",
   "metadata": {},
   "outputs": [],
   "source": [
    "target_name_simbad = \"BAX 013.5117-28.3994\"\n",
    "target_name_ned = \"RX J0054.0-2823\""
   ]
  },
  {
   "cell_type": "code",
   "execution_count": 10,
   "id": "faf70057-9d62-43dc-84ee-66f604a921f0",
   "metadata": {},
   "outputs": [],
   "source": [
    "result_table = Simbad.query_object(target_name_simbad)"
   ]
  },
  {
   "cell_type": "code",
   "execution_count": 11,
   "id": "e783645e-90eb-46f7-98f1-8956851c255c",
   "metadata": {},
   "outputs": [
    {
     "data": {
      "text/html": [
       "<div><i>Table length=1</i>\n",
       "<table id=\"table4776197040\" class=\"table-striped table-bordered table-condensed\">\n",
       "<thead><tr><th>MAIN_ID</th><th>RA</th><th>DEC</th><th>RA_PREC</th><th>DEC_PREC</th><th>COO_ERR_MAJA</th><th>COO_ERR_MINA</th><th>COO_ERR_ANGLE</th><th>COO_QUAL</th><th>COO_WAVELENGTH</th><th>COO_BIBCODE</th><th>SCRIPT_NUMBER_ID</th></tr></thead>\n",
       "<thead><tr><th></th><th>&quot;h:m:s&quot;</th><th>&quot;d:m:s&quot;</th><th></th><th></th><th>mas</th><th>mas</th><th>deg</th><th></th><th></th><th></th><th></th></tr></thead>\n",
       "<thead><tr><th>object</th><th>str13</th><th>str13</th><th>int16</th><th>int16</th><th>float32</th><th>float32</th><th>int16</th><th>str1</th><th>str1</th><th>object</th><th>int32</th></tr></thead>\n",
       "<tr><td>BAX 013.5117-28.3994</td><td>00 54 02.8</td><td>-28 23 58</td><td>5</td><td>5</td><td>--</td><td>--</td><td>0</td><td>D</td><td></td><td>1998ApJ...502..558V</td><td>1</td></tr>\n",
       "</table></div>"
      ],
      "text/plain": [
       "<Table length=1>\n",
       "      MAIN_ID            RA        DEC    RA_PREC ... COO_WAVELENGTH     COO_BIBCODE     SCRIPT_NUMBER_ID\n",
       "                      \"h:m:s\"    \"d:m:s\"          ...                                                    \n",
       "       object          str13      str13    int16  ...      str1             object            int32      \n",
       "-------------------- ---------- --------- ------- ... -------------- ------------------- ----------------\n",
       "BAX 013.5117-28.3994 00 54 02.8 -28 23 58       5 ...                1998ApJ...502..558V                1"
      ]
     },
     "execution_count": 11,
     "metadata": {},
     "output_type": "execute_result"
    }
   ],
   "source": [
    "result_table"
   ]
  },
  {
   "cell_type": "code",
   "execution_count": 12,
   "id": "581ee2de-1d6c-41ca-be35-e0b7923bb56e",
   "metadata": {},
   "outputs": [],
   "source": [
    "ra_str = result_table['RA'][0] + ' hours'\n",
    "dec_str = result_table['DEC'][0] + ' degree'"
   ]
  },
  {
   "cell_type": "code",
   "execution_count": 13,
   "id": "5d2f1329-6108-4f8a-be4e-46cf59c6d3d4",
   "metadata": {},
   "outputs": [
    {
     "data": {
      "text/plain": [
       "<SkyCoord (ICRS): (ra, dec) in deg\n",
       "    (13.51166667, -28.39944444)>"
      ]
     },
     "execution_count": 13,
     "metadata": {},
     "output_type": "execute_result"
    }
   ],
   "source": [
    "coord = coordinates.SkyCoord(ra_str,dec_str)\n",
    "coord"
   ]
  },
  {
   "cell_type": "code",
   "execution_count": 14,
   "id": "c3e29c93-6f3d-48c4-8f0d-bd5fd854e442",
   "metadata": {},
   "outputs": [
    {
     "data": {
      "text/plain": [
       "13.511666666666665"
      ]
     },
     "execution_count": 14,
     "metadata": {},
     "output_type": "execute_result"
    }
   ],
   "source": [
    "coord.ra.deg"
   ]
  },
  {
   "cell_type": "code",
   "execution_count": 15,
   "id": "73261bf6-75a8-43d2-97b8-0e0a948f1dfd",
   "metadata": {},
   "outputs": [
    {
     "data": {
      "text/plain": [
       "-28.399444444444445"
      ]
     },
     "execution_count": 15,
     "metadata": {},
     "output_type": "execute_result"
    }
   ],
   "source": [
    "coord.dec.deg"
   ]
  },
  {
   "cell_type": "code",
   "execution_count": 16,
   "id": "e5201449-18af-4625-893b-bfd5f2a74f25",
   "metadata": {},
   "outputs": [],
   "source": [
    "# Simbad.list_votable_fields()"
   ]
  },
  {
   "cell_type": "code",
   "execution_count": 17,
   "id": "293a31e3-ade7-455d-ae1d-12898eb13a55",
   "metadata": {},
   "outputs": [],
   "source": [
    "Simbad.add_votable_fields('z_value','rv_value','flux(U)','flux(B)', 'flux(V)', 'flux(R)', 'flux(I)',\n",
    "                          'flux(J)','flux(H)','flux(K)','otype')"
   ]
  },
  {
   "cell_type": "code",
   "execution_count": 18,
   "id": "f5ec4fb5-27be-4293-94d3-8cc5a5ca1a63",
   "metadata": {},
   "outputs": [],
   "source": [
    "# Simbad.get_field_description ('z_value') "
   ]
  },
  {
   "cell_type": "code",
   "execution_count": 19,
   "id": "f7191396-d1e6-4839-a986-12b383551059",
   "metadata": {},
   "outputs": [],
   "source": [
    "# Simbad.get_field_description ('rv_value') "
   ]
  },
  {
   "cell_type": "code",
   "execution_count": 20,
   "id": "43185899-5051-4077-8dab-953969238dec",
   "metadata": {},
   "outputs": [],
   "source": [
    "# Simbad.get_field_description ('flux(filtername)') "
   ]
  },
  {
   "cell_type": "code",
   "execution_count": 21,
   "id": "9b826b18-afa7-45f8-8e94-7499334d3b90",
   "metadata": {},
   "outputs": [],
   "source": [
    "result_table = Simbad.query_region(target_name_simbad, radius=0.25 * u.deg)"
   ]
  },
  {
   "cell_type": "code",
   "execution_count": 22,
   "id": "17236e0a-3590-4ca4-9cd7-799301d255ac",
   "metadata": {},
   "outputs": [
    {
     "data": {
      "text/html": [
       "<div>\n",
       "<style scoped>\n",
       "    .dataframe tbody tr th:only-of-type {\n",
       "        vertical-align: middle;\n",
       "    }\n",
       "\n",
       "    .dataframe tbody tr th {\n",
       "        vertical-align: top;\n",
       "    }\n",
       "\n",
       "    .dataframe thead th {\n",
       "        text-align: right;\n",
       "    }\n",
       "</style>\n",
       "<table border=\"1\" class=\"dataframe\">\n",
       "  <thead>\n",
       "    <tr style=\"text-align: right;\">\n",
       "      <th></th>\n",
       "      <th>MAIN_ID</th>\n",
       "      <th>RA</th>\n",
       "      <th>DEC</th>\n",
       "      <th>RA_PREC</th>\n",
       "      <th>DEC_PREC</th>\n",
       "      <th>COO_ERR_MAJA</th>\n",
       "      <th>COO_ERR_MINA</th>\n",
       "      <th>COO_ERR_ANGLE</th>\n",
       "      <th>COO_QUAL</th>\n",
       "      <th>COO_WAVELENGTH</th>\n",
       "      <th>...</th>\n",
       "      <th>FLUX_U</th>\n",
       "      <th>FLUX_B</th>\n",
       "      <th>FLUX_V</th>\n",
       "      <th>FLUX_R</th>\n",
       "      <th>FLUX_I</th>\n",
       "      <th>FLUX_J</th>\n",
       "      <th>FLUX_H</th>\n",
       "      <th>FLUX_K</th>\n",
       "      <th>OTYPE</th>\n",
       "      <th>SCRIPT_NUMBER_ID</th>\n",
       "    </tr>\n",
       "  </thead>\n",
       "  <tbody>\n",
       "    <tr>\n",
       "      <th>0</th>\n",
       "      <td>BAX 013.5117-28.3994</td>\n",
       "      <td>00 54 02.8</td>\n",
       "      <td>-28 23 58</td>\n",
       "      <td>5</td>\n",
       "      <td>5</td>\n",
       "      <td>NaN</td>\n",
       "      <td>NaN</td>\n",
       "      <td>0</td>\n",
       "      <td>D</td>\n",
       "      <td></td>\n",
       "      <td>...</td>\n",
       "      <td>NaN</td>\n",
       "      <td>NaN</td>\n",
       "      <td>NaN</td>\n",
       "      <td>NaN</td>\n",
       "      <td>NaN</td>\n",
       "      <td>NaN</td>\n",
       "      <td>NaN</td>\n",
       "      <td>NaN</td>\n",
       "      <td>ClG</td>\n",
       "      <td>1</td>\n",
       "    </tr>\n",
       "    <tr>\n",
       "      <th>1</th>\n",
       "      <td>[GGM2011] 210</td>\n",
       "      <td>00 54 03.18</td>\n",
       "      <td>-28 24 00.7</td>\n",
       "      <td>6</td>\n",
       "      <td>6</td>\n",
       "      <td>NaN</td>\n",
       "      <td>NaN</td>\n",
       "      <td>0</td>\n",
       "      <td>D</td>\n",
       "      <td>O</td>\n",
       "      <td>...</td>\n",
       "      <td>NaN</td>\n",
       "      <td>NaN</td>\n",
       "      <td>NaN</td>\n",
       "      <td>NaN</td>\n",
       "      <td>NaN</td>\n",
       "      <td>NaN</td>\n",
       "      <td>NaN</td>\n",
       "      <td>NaN</td>\n",
       "      <td>Galaxy</td>\n",
       "      <td>1</td>\n",
       "    </tr>\n",
       "    <tr>\n",
       "      <th>2</th>\n",
       "      <td>[GGM2011] 512</td>\n",
       "      <td>00 54 03.14</td>\n",
       "      <td>-28 23 52.7</td>\n",
       "      <td>6</td>\n",
       "      <td>6</td>\n",
       "      <td>NaN</td>\n",
       "      <td>NaN</td>\n",
       "      <td>0</td>\n",
       "      <td>D</td>\n",
       "      <td>O</td>\n",
       "      <td>...</td>\n",
       "      <td>NaN</td>\n",
       "      <td>NaN</td>\n",
       "      <td>NaN</td>\n",
       "      <td>NaN</td>\n",
       "      <td>NaN</td>\n",
       "      <td>NaN</td>\n",
       "      <td>NaN</td>\n",
       "      <td>NaN</td>\n",
       "      <td>Galaxy</td>\n",
       "      <td>1</td>\n",
       "    </tr>\n",
       "    <tr>\n",
       "      <th>3</th>\n",
       "      <td>[GGM2011] 511</td>\n",
       "      <td>00 54 03.29</td>\n",
       "      <td>-28 24 10.8</td>\n",
       "      <td>6</td>\n",
       "      <td>6</td>\n",
       "      <td>NaN</td>\n",
       "      <td>NaN</td>\n",
       "      <td>0</td>\n",
       "      <td>D</td>\n",
       "      <td>O</td>\n",
       "      <td>...</td>\n",
       "      <td>NaN</td>\n",
       "      <td>NaN</td>\n",
       "      <td>NaN</td>\n",
       "      <td>NaN</td>\n",
       "      <td>NaN</td>\n",
       "      <td>NaN</td>\n",
       "      <td>NaN</td>\n",
       "      <td>NaN</td>\n",
       "      <td>Galaxy</td>\n",
       "      <td>1</td>\n",
       "    </tr>\n",
       "    <tr>\n",
       "      <th>4</th>\n",
       "      <td>[GGM2011] 209</td>\n",
       "      <td>00 54 02.21</td>\n",
       "      <td>-28 23 45.4</td>\n",
       "      <td>6</td>\n",
       "      <td>6</td>\n",
       "      <td>NaN</td>\n",
       "      <td>NaN</td>\n",
       "      <td>0</td>\n",
       "      <td>D</td>\n",
       "      <td>O</td>\n",
       "      <td>...</td>\n",
       "      <td>NaN</td>\n",
       "      <td>NaN</td>\n",
       "      <td>NaN</td>\n",
       "      <td>NaN</td>\n",
       "      <td>NaN</td>\n",
       "      <td>NaN</td>\n",
       "      <td>NaN</td>\n",
       "      <td>NaN</td>\n",
       "      <td>Galaxy</td>\n",
       "      <td>1</td>\n",
       "    </tr>\n",
       "  </tbody>\n",
       "</table>\n",
       "<p>5 rows × 23 columns</p>\n",
       "</div>"
      ],
      "text/plain": [
       "                MAIN_ID           RA          DEC  RA_PREC  DEC_PREC  \\\n",
       "0  BAX 013.5117-28.3994   00 54 02.8    -28 23 58        5         5   \n",
       "1         [GGM2011] 210  00 54 03.18  -28 24 00.7        6         6   \n",
       "2         [GGM2011] 512  00 54 03.14  -28 23 52.7        6         6   \n",
       "3         [GGM2011] 511  00 54 03.29  -28 24 10.8        6         6   \n",
       "4         [GGM2011] 209  00 54 02.21  -28 23 45.4        6         6   \n",
       "\n",
       "   COO_ERR_MAJA  COO_ERR_MINA  COO_ERR_ANGLE COO_QUAL COO_WAVELENGTH  ...  \\\n",
       "0           NaN           NaN              0        D                 ...   \n",
       "1           NaN           NaN              0        D              O  ...   \n",
       "2           NaN           NaN              0        D              O  ...   \n",
       "3           NaN           NaN              0        D              O  ...   \n",
       "4           NaN           NaN              0        D              O  ...   \n",
       "\n",
       "  FLUX_U  FLUX_B  FLUX_V  FLUX_R  FLUX_I  FLUX_J  FLUX_H  FLUX_K   OTYPE  \\\n",
       "0    NaN     NaN     NaN     NaN     NaN     NaN     NaN     NaN     ClG   \n",
       "1    NaN     NaN     NaN     NaN     NaN     NaN     NaN     NaN  Galaxy   \n",
       "2    NaN     NaN     NaN     NaN     NaN     NaN     NaN     NaN  Galaxy   \n",
       "3    NaN     NaN     NaN     NaN     NaN     NaN     NaN     NaN  Galaxy   \n",
       "4    NaN     NaN     NaN     NaN     NaN     NaN     NaN     NaN  Galaxy   \n",
       "\n",
       "   SCRIPT_NUMBER_ID  \n",
       "0                 1  \n",
       "1                 1  \n",
       "2                 1  \n",
       "3                 1  \n",
       "4                 1  \n",
       "\n",
       "[5 rows x 23 columns]"
      ]
     },
     "execution_count": 22,
     "metadata": {},
     "output_type": "execute_result"
    }
   ],
   "source": [
    "result_ptable = result_table.to_pandas()\n",
    "result_ptable.head()"
   ]
  },
  {
   "cell_type": "code",
   "execution_count": 23,
   "id": "11abdc35-26cd-4b28-a21b-8f8ef22935ed",
   "metadata": {},
   "outputs": [
    {
     "data": {
      "text/plain": [
       "Index(['MAIN_ID', 'RA', 'DEC', 'RA_PREC', 'DEC_PREC', 'COO_ERR_MAJA',\n",
       "       'COO_ERR_MINA', 'COO_ERR_ANGLE', 'COO_QUAL', 'COO_WAVELENGTH',\n",
       "       'COO_BIBCODE', 'Z_VALUE', 'RV_VALUE', 'FLUX_U', 'FLUX_B', 'FLUX_V',\n",
       "       'FLUX_R', 'FLUX_I', 'FLUX_J', 'FLUX_H', 'FLUX_K', 'OTYPE',\n",
       "       'SCRIPT_NUMBER_ID'],\n",
       "      dtype='object')"
      ]
     },
     "execution_count": 23,
     "metadata": {},
     "output_type": "execute_result"
    }
   ],
   "source": [
    "result_ptable.columns"
   ]
  },
  {
   "cell_type": "code",
   "execution_count": 24,
   "id": "c53db4cb-bf66-4ef4-a9fd-0019eaa0f0fa",
   "metadata": {},
   "outputs": [],
   "source": [
    "N = len(result_table)"
   ]
  },
  {
   "cell_type": "code",
   "execution_count": 25,
   "id": "707e8b6f-ebda-4d2d-b43c-a7afce2aec03",
   "metadata": {},
   "outputs": [],
   "source": [
    "all_ra = np.array([ Angle(result_table['RA'][idx] + ' hours').deg for idx in range(N) ])\n",
    "all_dec = np.array([ Angle(result_table['DEC'][idx] + ' degrees').deg for idx in range(N) ])"
   ]
  },
  {
   "cell_type": "code",
   "execution_count": 26,
   "id": "42a57fdf-09a8-4fa5-beb9-d45c859bd1a2",
   "metadata": {},
   "outputs": [],
   "source": [
    "catalog_simbad = SkyCoord(all_ra*u.degree,all_dec*u.degree)"
   ]
  },
  {
   "cell_type": "markdown",
   "id": "824591fc-aef7-4d8f-b5b7-42239128e637",
   "metadata": {},
   "source": [
    "https://docs.astropy.org/en/stable/coordinates/matchsep.html#astropy-coordinates-matching"
   ]
  },
  {
   "cell_type": "code",
   "execution_count": 27,
   "id": "2340fe22-3d0a-417c-abc2-fa57313159cc",
   "metadata": {},
   "outputs": [],
   "source": [
    "all_idx = []  # index of the match\n",
    "all_d2d = []  # distance in arcsec\n",
    "all_d3d = []\n",
    "\n",
    "for index, row in df_info.iterrows():\n",
    "    c = coordinates.SkyCoord(row['ra']*u.degree, row['dec']*u.degree)\n",
    "    idx, d2d, d3d = c.match_to_catalog_sky(catalog_simbad)\n",
    "    all_idx.append(idx)\n",
    "    all_d2d.append(Angle(d2d[0]).arcsec)\n",
    "    all_d3d.append(d3d)\n",
    "    #print(idx,Angle(d2d[0]).arcsec,d3d)\n",
    "    \n"
   ]
  },
  {
   "cell_type": "code",
   "execution_count": 28,
   "id": "0795d770-498b-4d80-9ddc-05ce60c17109",
   "metadata": {},
   "outputs": [
    {
     "data": {
      "text/plain": [
       "Text(0.5, 0, 'cross-match angle in arcsec')"
      ]
     },
     "execution_count": 28,
     "metadata": {},
     "output_type": "execute_result"
    },
    {
     "data": {
      "image/png": "[encoded data removed]",
      "text/plain": [
       "<Figure size 640x480 with 1 Axes>"
      ]
     },
     "metadata": {},
     "output_type": "display_data"
    }
   ],
   "source": [
    "plt.hist(all_d2d,bins=50,range=(0,0.2));\n",
    "plt.xlabel(\"cross-match angle in arcsec\")"
   ]
  },
  {
   "cell_type": "code",
   "execution_count": 29,
   "id": "e9b84b5b-4937-47fd-8cac-ad6f37ac4984",
   "metadata": {},
   "outputs": [
    {
     "name": "stdout",
     "output_type": "stream",
     "text": [
      "==================================================================================\n"
     ]
    },
    {
     "ename": "NameError",
     "evalue": "name 'key_tags' is not defined",
     "output_type": "error",
     "traceback": [
      "\u001b[0;31m---------------------------------------------------------------------------\u001b[0m",
      "\u001b[0;31mNameError\u001b[0m                                 Traceback (most recent call last)",
      "Cell \u001b[0;32mIn[29], line 3\u001b[0m\n\u001b[1;32m      1\u001b[0m \u001b[38;5;28;01mfor\u001b[39;00m index, row \u001b[38;5;129;01min\u001b[39;00m df_info\u001b[38;5;241m.\u001b[39miterrows():\n\u001b[1;32m      2\u001b[0m     \u001b[38;5;28mprint\u001b[39m(\u001b[38;5;124m\"\u001b[39m\u001b[38;5;124m==================================================================================\u001b[39m\u001b[38;5;124m\"\u001b[39m)\n\u001b[0;32m----> 3\u001b[0m     \u001b[38;5;28mprint\u001b[39m(\u001b[43mkey_tags\u001b[49m[index], \u001b[38;5;124m'\u001b[39m\u001b[38;5;124mZ = \u001b[39m\u001b[38;5;124m'\u001b[39m, row[\u001b[38;5;124m'\u001b[39m\u001b[38;5;124mredshift\u001b[39m\u001b[38;5;124m'\u001b[39m])\n\u001b[1;32m      4\u001b[0m     id_match \u001b[38;5;241m=\u001b[39m all_idx[index] \n\u001b[1;32m      5\u001b[0m     \u001b[38;5;66;03m#print(result_table[id_match])\u001b[39;00m\n",
      "\u001b[0;31mNameError\u001b[0m: name 'key_tags' is not defined"
     ]
    }
   ],
   "source": [
    "for index, row in df_info.iterrows():\n",
    "    print(\"==================================================================================\")\n",
    "    print(key_tags[index], 'Z = ', row['redshift'])\n",
    "    id_match = all_idx[index] \n",
    "    #print(result_table[id_match])\n",
    "    print(result_table['MAIN_ID', 'Z_VALUE', 'FLUX_U', 'FLUX_B', 'FLUX_V',\n",
    "       'FLUX_R', 'FLUX_I', 'FLUX_J', 'FLUX_H', 'FLUX_K', 'OTYPE'][id_match])"
   ]
  },
  {
   "cell_type": "code",
   "execution_count": null,
   "id": "46685a14-c774-4c19-9784-dfe1001e35bb",
   "metadata": {},
   "outputs": [],
   "source": []
  }
 ],
 "metadata": {
  "kernelspec": {
   "display_name": "Python 3 (ipykernel)",
   "language": "python",
   "name": "python3"
  },
  "language_info": {
   "codemirror_mode": {
    "name": "ipython",
    "version": 3
   },
   "file_extension": ".py",
   "mimetype": "text/x-python",
   "name": "python",
   "nbconvert_exporter": "python",
   "pygments_lexer": "ipython3",
   "version": "3.9.15"
  }
 },
 "nbformat": 4,
 "nbformat_minor": 5
}
