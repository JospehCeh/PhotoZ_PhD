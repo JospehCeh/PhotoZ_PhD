{
 "cells": [
  {
   "cell_type": "markdown",
   "id": "a63c8010-f901-4e6d-905b-9ba3a5fbd7aa",
   "metadata": {},
   "source": [
    "# Search cluster in Simbad"
   ]
  },
  {
   "cell_type": "code",
   "execution_count": 1,
   "id": "410d5619-7130-4160-a740-f0a9a0f884ce",
   "metadata": {},
   "outputs": [],
   "source": [
    "from astroquery.simbad import Simbad\n",
    "from astropy import coordinates\n",
    "from astropy.coordinates import Angle\n",
    "import astropy.units as u"
   ]
  },
  {
   "cell_type": "code",
   "execution_count": 2,
   "id": "a1ba84a9-3e03-4742-83d5-a3a9d8d0814c",
   "metadata": {},
   "outputs": [],
   "source": [
    "target = 'RXJ0054.0–2823'"
   ]
  },
  {
   "cell_type": "code",
   "execution_count": 3,
   "id": "2e5da80f-ecca-45a6-bbb4-e3ed3293c2c9",
   "metadata": {},
   "outputs": [],
   "source": [
    "result_table = Simbad.query_object(target)"
   ]
  },
  {
   "cell_type": "code",
   "execution_count": 4,
   "id": "b15bb1f5-dfc8-4b7e-8944-4ec1238d628b",
   "metadata": {},
   "outputs": [
    {
     "data": {
      "text/html": [
       "<div><i>Table length=1</i>\n",
       "<table id=\"table140520856919536\" class=\"table-striped table-bordered table-condensed\">\n",
       "<thead><tr><th>MAIN_ID</th><th>RA</th><th>DEC</th><th>RA_PREC</th><th>DEC_PREC</th><th>COO_ERR_MAJA</th><th>COO_ERR_MINA</th><th>COO_ERR_ANGLE</th><th>COO_QUAL</th><th>COO_WAVELENGTH</th><th>COO_BIBCODE</th><th>SCRIPT_NUMBER_ID</th></tr></thead>\n",
       "<thead><tr><th></th><th>&quot;h:m:s&quot;</th><th>&quot;d:m:s&quot;</th><th></th><th></th><th>mas</th><th>mas</th><th>deg</th><th></th><th></th><th></th><th></th></tr></thead>\n",
       "<thead><tr><th>object</th><th>str13</th><th>str13</th><th>int16</th><th>int16</th><th>float32</th><th>float32</th><th>int16</th><th>str1</th><th>str1</th><th>object</th><th>int32</th></tr></thead>\n",
       "<tr><td>BAX 013.5117-28.3994</td><td>00 54 02.8</td><td>-28 23 58</td><td>5</td><td>5</td><td>--</td><td>--</td><td>0</td><td>D</td><td></td><td>1998ApJ...502..558V</td><td>1</td></tr>\n",
       "</table></div>"
      ],
      "text/plain": [
       "<Table length=1>\n",
       "      MAIN_ID            RA     ...     COO_BIBCODE     SCRIPT_NUMBER_ID\n",
       "                      \"h:m:s\"   ...                                     \n",
       "       object          str13    ...        object            int32      \n",
       "-------------------- ---------- ... ------------------- ----------------\n",
       "BAX 013.5117-28.3994 00 54 02.8 ... 1998ApJ...502..558V                1"
      ]
     },
     "execution_count": 4,
     "metadata": {},
     "output_type": "execute_result"
    }
   ],
   "source": [
    "result_table"
   ]
  },
  {
   "cell_type": "code",
   "execution_count": 5,
   "id": "ca0df3bc-8719-4573-8af7-a62e0d042ccd",
   "metadata": {},
   "outputs": [],
   "source": [
    "ra_str = result_table[\"RA\"][0] + ' hours'\n",
    "dec_str = result_table[\"DEC\"][0] + ' degrees'"
   ]
  },
  {
   "cell_type": "code",
   "execution_count": 6,
   "id": "1b4b8357-d7bb-4e23-ac1f-2dac7b6ac68e",
   "metadata": {},
   "outputs": [
    {
     "name": "stdout",
     "output_type": "stream",
     "text": [
      "00 54 02.8 hours\n",
      "-28 23 58 degrees\n"
     ]
    }
   ],
   "source": [
    "print(ra_str)\n",
    "print(dec_str)"
   ]
  },
  {
   "cell_type": "code",
   "execution_count": 7,
   "id": "3b360d6e-e444-4509-a405-db9e01175efc",
   "metadata": {},
   "outputs": [],
   "source": [
    "ra = Angle(ra_str)\n",
    "dec = Angle(dec_str)"
   ]
  },
  {
   "cell_type": "code",
   "execution_count": 8,
   "id": "ae80f869-4008-46ab-9b8c-6fc198ff868a",
   "metadata": {},
   "outputs": [],
   "source": [
    "c = coordinates.SkyCoord(ra,dec, frame='icrs')"
   ]
  },
  {
   "cell_type": "code",
   "execution_count": 9,
   "id": "82d51dbf-85d0-4554-b8ea-1df15b4dbbda",
   "metadata": {},
   "outputs": [
    {
     "data": {
      "text/plain": [
       "<SkyCoord (ICRS): (ra, dec) in deg\n",
       "    (13.51166667, -28.39944444)>"
      ]
     },
     "execution_count": 9,
     "metadata": {},
     "output_type": "execute_result"
    }
   ],
   "source": [
    "c"
   ]
  },
  {
   "cell_type": "code",
   "execution_count": 10,
   "id": "0823849a-8754-4fd7-bbec-313fc75610be",
   "metadata": {},
   "outputs": [
    {
     "name": "stdout",
     "output_type": "stream",
     "text": [
      "      MAIN_ID             RA         DEC     RA_PREC DEC_PREC COO_ERR_MAJA COO_ERR_MINA COO_ERR_ANGLE COO_QUAL COO_WAVELENGTH     COO_BIBCODE     SCRIPT_NUMBER_ID\n",
      "                       \"h:m:s\"     \"d:m:s\"                        mas          mas           deg                                                                  \n",
      "-------------------- ----------- ----------- ------- -------- ------------ ------------ ------------- -------- -------------- ------------------- ----------------\n",
      "BAX 013.5117-28.3994  00 54 02.8   -28 23 58       5        5           --           --             0        D                1998ApJ...502..558V                1\n",
      "       [GGM2011] 210 00 54 03.18 -28 24 00.7       6        6           --           --             0        D              O 2011RAA....11..245G                1\n",
      "       [GGM2011] 512 00 54 03.14 -28 23 52.7       6        6           --           --             0        D              O 2011RAA....11..245G                1\n",
      "       [GGM2011] 511 00 54 03.29 -28 24 10.8       6        6           --           --             0        D              O 2011RAA....11..245G                1\n",
      "       [GGM2011] 209 00 54 02.21 -28 23 45.4       6        6           --           --             0        D              O 2011RAA....11..245G                1\n",
      "       [GGM2011] 510 00 54 03.35 -28 24 12.8       6        6           --           --             0        D              O 2011RAA....11..245G                1\n",
      "       [GGM2011] 494 00 54 02.67 -28 24 15.0       6        6           --           --             0        D              O 2011RAA....11..245G                1\n",
      "                 ...         ...         ...     ...      ...          ...          ...           ...      ...            ...                 ...              ...\n",
      "       [GGM2011] 441 00 54 19.80 -28 27 04.2       6        6           --           --             0        D              O 2011RAA....11..245G                1\n",
      "        [GGM2011] 20 00 54 24.13 -28 22 39.8       6        6           --           --             0        D              O 2011RAA....11..245G                1\n",
      "       [GGM2011] 530 00 53 53.99 -28 19 29.9       6        6           --           --             0        D              O 2011RAA....11..245G                1\n",
      "       [GGM2011] 442 00 54 19.92 -28 27 05.1       6        6           --           --             0        D              O 2011RAA....11..245G                1\n",
      "       [GGM2011] 676 00 54 06.58 -28 19 06.1       6        6           --           --             0        D              O 2011RAA....11..245G                1\n",
      "       [GGM2011] 138 00 53 44.86 -28 26 56.7       6        6           --           --             0        D              O 2011RAA....11..245G                1\n",
      "       [GGM2011] 637 00 53 44.23 -28 21 09.2       6        6           --           --             0        D              O 2011RAA....11..245G                1\n",
      "        [GGM2011] 25 00 54 22.57 -28 26 25.0       6        6           --           --             0        D              O 2011RAA....11..245G                1\n",
      "Length = 380 rows\n"
     ]
    }
   ],
   "source": [
    "r = 5 * u.arcminute\n",
    "\n",
    "result_table = Simbad.query_region(c, radius=r)\n",
    "\n",
    "result_table.pprint(show_unit=True, max_width=200, max_lines=20)"
   ]
  },
  {
   "cell_type": "code",
   "execution_count": 11,
   "id": "d4d05155-7693-4193-b9b9-7c74c88d3c14",
   "metadata": {},
   "outputs": [
    {
     "data": {
      "text/plain": [
       "<SkyCoord (Galactic): (l, b) in deg\n",
       "    (278.66569886, -88.60395049)>"
      ]
     },
     "execution_count": 11,
     "metadata": {},
     "output_type": "execute_result"
    }
   ],
   "source": [
    "c.transform_to('galactic')  "
   ]
  }
 ],
 "metadata": {
  "kernelspec": {
   "display_name": "Python 3 (ipykernel)",
   "language": "python",
   "name": "python3"
  },
  "language_info": {
   "codemirror_mode": {
    "name": "ipython",
    "version": 3
   },
   "file_extension": ".py",
   "mimetype": "text/x-python",
   "name": "python",
   "nbconvert_exporter": "python",
   "pygments_lexer": "ipython3",
   "version": "3.9.13"
  }
 },
 "nbformat": 4,
 "nbformat_minor": 5
}
