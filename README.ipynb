{
 "cells": [
  {
   "cell_type": "markdown",
   "id": "05a26a72-34f7-4a51-86ba-fd0e0b7e3b8e",
   "metadata": {},
   "source": [
    "# Access to notebooks to study the SEDs in the context of FORS2 and StarLight\n",
    "\n",
    "\n",
    "- author Sylvie Dagoret-Campagne\n",
    "- creation date : 2023/01/11\n",
    "- last update : 2023/01/17\n",
    "\n",
    "\n",
    "- **purpose of this nb: pointer toward notebooks under the hierarchy**"
   ]
  },
  {
   "cell_type": "markdown",
   "id": "26b68cb7-b4bb-4886-a3d7-ee966873f660",
   "metadata": {},
   "source": [
    "- **StudyFors2SED** : View SED to understand and control them\n",
    "- **PCA**  : Do PCA decomposition on full spectra\n",
    "- **PCA_Fors2** : Compute PCA coefficients of Fors2 spectra on StarLight spectra\n",
    "- **Clustering** : perform clustering to find similar spectra and reduce the number of SL   \n",
    "- **SOM** : try to visualize some clustering with Self Organising Maps\n",
    "\n",
    "\n",
    "\n",
    "All notebooks should be executed from their local directory to access to their data.\n",
    "The appropriate directory change can be performed from this README.ipynb notebook"
   ]
  },
  {
   "cell_type": "code",
   "execution_count": 1,
   "id": "f59949da-7f58-4d6f-9582-6de8a9625af0",
   "metadata": {},
   "outputs": [],
   "source": [
    "import sys\n",
    "import os"
   ]
  },
  {
   "cell_type": "code",
   "execution_count": 2,
   "id": "9e961a53-e4a0-45c1-ae3a-b789bb172be1",
   "metadata": {},
   "outputs": [],
   "source": [
    "sys.path.append(\"./StudyFors2SED\") \n",
    "sys.path.append(\"./PCA\") \n",
    "sys.path.append(\"./PCA_Fors2\")\n",
    "sys.path.append(\"./Clustering\")\n",
    "sys.path.append(\"./SOM\")"
   ]
  },
  {
   "cell_type": "code",
   "execution_count": 3,
   "id": "61c952fd-f993-4c0a-82d7-e0b4ec786692",
   "metadata": {},
   "outputs": [
    {
     "name": "stdout",
     "output_type": "stream",
     "text": [
      "notebook current executing path : /Users/sylvie/MacOSX/GitHub/LSST/PhotoZ_PhD\n"
     ]
    }
   ],
   "source": [
    "cwd=os.path.abspath(\"\")\n",
    "main_dir = cwd\n",
    "print(f\"notebook current executing path : {cwd}\")"
   ]
  },
  {
   "cell_type": "markdown",
   "id": "2701e374-0185-4b57-92cc-faea1cab9aff",
   "metadata": {},
   "source": [
    "## 1) Exploration of the different types of SED including StarLight and Fors2 "
   ]
  },
  {
   "cell_type": "markdown",
   "id": "05bf7889-4df2-42c3-bc4f-cc6d7b28a7fb",
   "metadata": {},
   "source": [
    "- to run the notebooks in their working directory , change of execution path"
   ]
  },
  {
   "cell_type": "code",
   "execution_count": 4,
   "id": "d9002dd3-b01c-40c0-9e51-d3a1f6411a14",
   "metadata": {},
   "outputs": [
    {
     "name": "stdout",
     "output_type": "stream",
     "text": [
      " New Directory /Users/sylvie/MacOSX/GitHub/LSST/PhotoZ_PhD/StudyFors2SED\n"
     ]
    }
   ],
   "source": [
    "os.chdir(main_dir)\n",
    "cwd = os.path.abspath(\"\")\n",
    "if cwd == main_dir:\n",
    "    os.chdir('./StudyFors2SED') \n",
    "cwd = os.path.abspath(\"\")\n",
    "print(f\" New Directory {cwd}\")"
   ]
  },
  {
   "cell_type": "code",
   "execution_count": 5,
   "id": "9bf1919a-d059-44ad-b3a8-9e048af0bc88",
   "metadata": {},
   "outputs": [
    {
     "name": "stdout",
     "output_type": "stream",
     "text": [
      "-rw-r--r--  1 sylvie  staff     62785 Jan 12 08:26 ExploreFors2.ipynb\n",
      "-rw-r--r--  1 sylvie  staff     11451 Jan  4 16:33 ExploreFors2_comparespectra.ipynb\n",
      "-rw-r--r--  1 sylvie  staff      9733 Jan 12 08:26 ExploreFors2_short.ipynb\n",
      "-rw-r--r--  1 sylvie  staff  42291531 Jan 13 09:55 ExploreFors2_viewspectra1by1.ipynb\n",
      "-rw-r--r--  1 sylvie  staff  42297342 Jan 10 16:48 ExploreFors2_viewspectra1by1_old.ipynb\n",
      "-rw-r--r--  1 sylvie  staff   1297464 Jan  4 13:27 ExploreFors2_viewspectra1by1_v0.ipynb\n",
      "-rw-r--r--  1 sylvie  staff    118845 Jan  4 16:24 ExploreFors2inRestFrame.ipynb\n",
      "-rw-r--r--  1 sylvie  staff  47716465 Jan 10 16:47 ExploreSL_comparespectra.ipynb\n",
      "-rw-r--r--  1 sylvie  staff   7374934 Jan 13 10:02 ViewStandardSED.ipynb\n"
     ]
    }
   ],
   "source": [
    "! ls -l *.ipynb"
   ]
  },
  {
   "cell_type": "markdown",
   "id": "24338032-3443-4404-a10b-8103f8c5eee9",
   "metadata": {},
   "source": [
    "### a) Rubin sims and PySynphot SEDS\n",
    "\n",
    "View all SED available with rubin-sims and pysynphot SEDS. The goal is to compare with Fors2/SL. Both python packages require to be installed\n",
    "\n",
    "- [the rubin-sim package](https://github.com/lsst/rubin_sim)\n",
    "\n",
    "- [the pysynphot package](https://pysynphot.readthedocs.io/en/latest/)\n",
    "\n",
    "-  the notebook : [StudyFors2SED/ViewStandardSED.ipynb](StudyFors2SED/ViewStandardSED.ipynb)"
   ]
  },
  {
   "cell_type": "markdown",
   "id": "25655eb0-28a3-4306-a279-94c529b8b16b",
   "metadata": {},
   "source": [
    "### b) Explore Fors2 spectra"
   ]
  },
  {
   "cell_type": "markdown",
   "id": "a1ae4fc1-e246-4c87-b6ff-d00c0dd0b445",
   "metadata": {},
   "source": [
    "#### Initial notebool\n",
    "\n",
    "- deprecated\n",
    "\n",
    "with all Eric and Johan code put in it \n",
    "\n",
    "-  [StudyFors2SED/ExploreFors2.ipynb](StudyFors2SED/ExploreFors2.ipynb)"
   ]
  },
  {
   "cell_type": "markdown",
   "id": "85b7d71d-ff21-4463-a5de-8d65e8e98429",
   "metadata": {},
   "source": [
    "#### notb with code seperated from plots\n",
    "\n",
    "- [StudyFors2SED/ExploreFors2_short.ipynb](StudyFors2SED/ExploreFors2_short.ipynb)"
   ]
  },
  {
   "cell_type": "markdown",
   "id": "54c5dfdb-59ae-4293-aa3c-e5379113c3e8",
   "metadata": {},
   "source": [
    "#### Check Fors2 spectra with respect to emission lines\n",
    "\n",
    "- I have taken tables on galaxy emission lines to check on spectra plots\n",
    "\n",
    "-  [StudyFors2SED/ExploreFors2_viewspectra1by1.ipynb](StudyFors2SED/ExploreFors2_viewspectra1by1.ipynb)"
   ]
  },
  {
   "cell_type": "markdown",
   "id": "219c8bd3-350e-451c-b280-136aebf191ea",
   "metadata": {},
   "source": [
    "## 2) PCA Decomposition"
   ]
  },
  {
   "cell_type": "code",
   "execution_count": 6,
   "id": "2fa4b45e-2708-401b-914d-71e559595476",
   "metadata": {},
   "outputs": [
    {
     "name": "stdout",
     "output_type": "stream",
     "text": [
      " New Directory /Users/sylvie/MacOSX/GitHub/LSST/PhotoZ_PhD/PCA\n"
     ]
    }
   ],
   "source": [
    "os.chdir(main_dir)\n",
    "cwd = os.path.abspath(\"\")\n",
    "if cwd == main_dir:\n",
    "    os.chdir('./PCA') \n",
    "cwd = os.path.abspath(\"\")\n",
    "print(f\" New Directory {cwd}\")"
   ]
  },
  {
   "cell_type": "code",
   "execution_count": 7,
   "id": "1b597d1c-6acf-42f9-80b7-fe0db2ec9595",
   "metadata": {},
   "outputs": [
    {
     "name": "stdout",
     "output_type": "stream",
     "text": [
      "-rw-r--r--  1 sylvie  staff   2323358 Jan 10 16:30 ClusteringKmean_fromPCA_SL_PCAmethod1_andPlot.ipynb\n",
      "-rw-r--r--  1 sylvie  staff   1156649 Jan 17 14:11 ComparePCA_SL_Brown_BruzualCharlot.ipynb\n",
      "-rw-r--r--  1 sylvie  staff    760008 Jan 17 14:11 ComputePCA_Brown_PCAmethod1.ipynb\n",
      "-rw-r--r--  1 sylvie  staff   1028986 Jan 17 14:11 ComputePCA_BruzualCharlot_PCAmethod1.ipynb\n",
      "-rw-r--r--  1 sylvie  staff   1077876 Jan 17 14:11 ComputePCA_SL.ipynb\n",
      "-rw-r--r--  1 sylvie  staff    918843 Jan 17 14:11 ComputePCA_SL_Eigenvalues.ipynb\n",
      "-rw-r--r--  1 sylvie  staff   1028108 Jan 17 14:11 ComputePCA_SL_PCAmethod1.ipynb\n",
      "-rw-r--r--  1 sylvie  staff    809582 Jan 17 14:11 ComputePCA_SL_PCAmethod12D.ipynb\n",
      "-rw-r--r--  1 sylvie  staff    883723 Jan  4 13:27 ComputePCA_SL_PCAmethod2.ipynb\n",
      "-rw-r--r--  1 sylvie  staff   1032713 Jan  4 13:27 ComputePCA_SL_PCAmethod2_v2.ipynb\n",
      "-rw-r--r--  1 sylvie  staff    631831 Jan  4 13:27 ComputePCA_SL_PCAmethod3.ipynb\n",
      "-rw-r--r--  1 sylvie  staff   6191729 Jan  9 14:11 prepareBrown_toPCAana.ipynb\n",
      "-rw-r--r--  1 sylvie  staff   3552530 Jan  9 14:11 prepareBruzualCharlot_toPCA.ipynb\n",
      "-rw-r--r--  1 sylvie  staff  27380308 Jan 17 14:44 prepareSL_toPCAana.ipynb\n"
     ]
    }
   ],
   "source": [
    "!ls -l *.ipynb"
   ]
  },
  {
   "cell_type": "markdown",
   "id": "fe007d07-99a3-49c2-95a5-6a280c974640",
   "metadata": {},
   "source": [
    "### a) PCA decomposition on StarLight (+ Brown + Bruzual-Charlot)"
   ]
  },
  {
   "cell_type": "code",
   "execution_count": 8,
   "id": "5465f41c-cb20-4101-b839-b146fbdc834b",
   "metadata": {},
   "outputs": [
    {
     "name": "stdout",
     "output_type": "stream",
     "text": [
      " New Directory /Users/sylvie/MacOSX/GitHub/LSST/PhotoZ_PhD/PCA\n"
     ]
    }
   ],
   "source": [
    "os.chdir(main_dir)\n",
    "cwd = os.path.abspath(\"\")\n",
    "if cwd == main_dir:\n",
    "    os.chdir('./PCA') \n",
    "cwd = os.path.abspath(\"\")\n",
    "print(f\" New Directory {cwd}\")"
   ]
  },
  {
   "cell_type": "code",
   "execution_count": 9,
   "id": "548c4b6e-69d9-42c7-afa1-83815d406d65",
   "metadata": {},
   "outputs": [
    {
     "name": "stdout",
     "output_type": "stream",
     "text": [
      "-rw-r--r--  1 sylvie  staff   2323358 Jan 10 16:30 ClusteringKmean_fromPCA_SL_PCAmethod1_andPlot.ipynb\n",
      "-rw-r--r--  1 sylvie  staff   1156649 Jan 17 14:11 ComparePCA_SL_Brown_BruzualCharlot.ipynb\n",
      "-rw-r--r--  1 sylvie  staff    760008 Jan 17 14:11 ComputePCA_Brown_PCAmethod1.ipynb\n",
      "-rw-r--r--  1 sylvie  staff   1028986 Jan 17 14:11 ComputePCA_BruzualCharlot_PCAmethod1.ipynb\n",
      "-rw-r--r--  1 sylvie  staff   1077876 Jan 17 14:11 ComputePCA_SL.ipynb\n",
      "-rw-r--r--  1 sylvie  staff    918843 Jan 17 14:11 ComputePCA_SL_Eigenvalues.ipynb\n",
      "-rw-r--r--  1 sylvie  staff   1028108 Jan 17 14:11 ComputePCA_SL_PCAmethod1.ipynb\n",
      "-rw-r--r--  1 sylvie  staff    809582 Jan 17 14:11 ComputePCA_SL_PCAmethod12D.ipynb\n",
      "-rw-r--r--  1 sylvie  staff    883723 Jan  4 13:27 ComputePCA_SL_PCAmethod2.ipynb\n",
      "-rw-r--r--  1 sylvie  staff   1032713 Jan  4 13:27 ComputePCA_SL_PCAmethod2_v2.ipynb\n",
      "-rw-r--r--  1 sylvie  staff    631831 Jan  4 13:27 ComputePCA_SL_PCAmethod3.ipynb\n",
      "-rw-r--r--  1 sylvie  staff   6191729 Jan  9 14:11 prepareBrown_toPCAana.ipynb\n",
      "-rw-r--r--  1 sylvie  staff   3552530 Jan  9 14:11 prepareBruzualCharlot_toPCA.ipynb\n",
      "-rw-r--r--  1 sylvie  staff  27380308 Jan 17 14:44 prepareSL_toPCAana.ipynb\n"
     ]
    }
   ],
   "source": [
    "! ls -l *.ipynb"
   ]
  },
  {
   "cell_type": "markdown",
   "id": "71bfdd4e-5b2c-46a7-847a-7cb5e4453a61",
   "metadata": {},
   "source": [
    "#### SL SED"
   ]
  },
  {
   "cell_type": "markdown",
   "id": "bea63897-4f02-4b86-8e78-41364de5c603",
   "metadata": {},
   "source": [
    "#### Save SL in fits file and normalise SL spectrum in $0<\\lambda< 10000$ angstrom\n",
    "- [PCA/prepareSL_toPCAana.ipynb](PCA/prepareSL_toPCAana.ipynb)"
   ]
  },
  {
   "cell_type": "markdown",
   "id": "37ff9e37-8135-42a1-889c-397aa58f32df",
   "metadata": {},
   "source": [
    "#### Compare the Eigenvector of the decomposition with  PCA / ICA / NMF methods. \n",
    "- [PCA/ComputePCA_SL.ipynb](PCA/ComputePCA_SL.ipynb)"
   ]
  },
  {
   "cell_type": "markdown",
   "id": "e56286c8-55c0-4ef5-a6fc-aa37f5394817",
   "metadata": {},
   "source": [
    "#### PCA Decomposition of one SL spectrum in its coefficients\n",
    "\n",
    "- study convergence of PCA coefficients\n",
    "\n",
    "- [PCA/ComputePCA_SL_Eigenvalues.ipynb](PCA/ComputePCA_SL_Eigenvalues.ipynb)"
   ]
  },
  {
   "cell_type": "markdown",
   "id": "8bfe5b40-ca69-4039-97cd-3921f9439e49",
   "metadata": {},
   "source": [
    "#### PCA Decomposition of all SL spectra in its coefficients \n",
    "\n",
    "- plot 2D of all coeff[0], coeff[1]\n",
    "- save fits file of all coefficients for later clustering\n",
    "\n",
    "- [PCA/ComputePCA_SL_PCAmethod1.ipynb](PCA/ComputePCA_SL_PCAmethod1.ipynb)"
   ]
  },
  {
   "cell_type": "markdown",
   "id": "c9859b22-ae9b-4cc9-b419-67db19b149ca",
   "metadata": {},
   "source": [
    "#### PCA Decomposition of all SL spectra in its coefficients \n",
    "\n",
    "- plot 2D of all coeff[0], coeff[1]\n",
    "- save fits file of all coefficients for later clustering\n",
    "\n",
    "- [PCA/ComputePCA_SL_PCAmethod12D.ipynb](PCA/ComputePCA_SL_PCAmethod12D.ipynb)"
   ]
  },
  {
   "cell_type": "markdown",
   "id": "53ff33f8-bbd3-4bef-aa21-b5a17689fc62",
   "metadata": {},
   "source": [
    "#### Brown SED\n",
    "\n",
    "\n",
    "- [PCA/ComputePCA_Brown_PCAmethod1.ipynb](PCA/ComputePCA_Brown_PCAmethod1.ipynb)"
   ]
  },
  {
   "cell_type": "markdown",
   "id": "798f3532-e91f-4d5a-a7cd-eb43504c4a3b",
   "metadata": {},
   "source": [
    "#### Bruzual Charlot SED\n",
    "\n",
    "- [PCA/ComputePCA_BruzualCharlot_PCAmethod1.ipynb](PCA/ComputePCA_BruzualCharlot_PCAmethod1.ipynb)"
   ]
  },
  {
   "cell_type": "markdown",
   "id": "86a69ce7-0477-4c3a-a0f6-7d83c6a92540",
   "metadata": {},
   "source": [
    "#### Comparison of PCA Eigenvector for SL/Brown/Bruzual-Charlot\n",
    "\n",
    "- [PCA/ComparePCA_SL_Brown_BruzualCharlot.ipynb](PCA/ComparePCA_SL_Brown_BruzualCharlot.ipynb)"
   ]
  },
  {
   "cell_type": "markdown",
   "id": "24d4b31d-67b0-43fb-bbd7-4e51e828f8ee",
   "metadata": {},
   "source": [
    "### b) PCA decomposition of Fors2"
   ]
  },
  {
   "cell_type": "code",
   "execution_count": 10,
   "id": "8ff6d3cf-ba5c-4159-9661-6aee994ed95a",
   "metadata": {},
   "outputs": [
    {
     "name": "stdout",
     "output_type": "stream",
     "text": [
      " New Directory /Users/sylvie/MacOSX/GitHub/LSST/PhotoZ_PhD/PCA_Fors2\n"
     ]
    }
   ],
   "source": [
    "os.chdir(main_dir)\n",
    "cwd = os.path.abspath(\"\")\n",
    "if cwd == main_dir:\n",
    "    os.chdir('./PCA_Fors2') \n",
    "cwd = os.path.abspath(\"\")\n",
    "print(f\" New Directory {cwd}\")"
   ]
  },
  {
   "cell_type": "code",
   "execution_count": 11,
   "id": "0a7df8f7-fc73-4abc-b227-c2648d2580f5",
   "metadata": {},
   "outputs": [
    {
     "name": "stdout",
     "output_type": "stream",
     "text": [
      "-rw-r--r--  1 sylvie  staff   1024454 Jan 17 14:11 ComputePCA_Fors2.ipynb\n",
      "-rw-r--r--  1 sylvie  staff  57484749 Jan 17 14:11 ComputePCA_Fors2_all.ipynb\n",
      "-rw-r--r--  1 sylvie  staff  40414358 Jan 17 14:11 prepare_Fors2.ipynb\n"
     ]
    }
   ],
   "source": [
    "! ls -l *.ipynb"
   ]
  },
  {
   "cell_type": "markdown",
   "id": "d7c3c32d-1d55-4fab-91c0-82b1180c205e",
   "metadata": {},
   "source": [
    "#### Compare FORS2 and average SL and create fits file for FORS2 data for later PCA decomposition\n",
    "\n",
    "The normalisation of FORS2 is done wrt average\n",
    "-  [PCA_Fors2/prepare_Fors2.ipynb](PCA_Fors2/prepare_Fors2.ipynb)"
   ]
  },
  {
   "cell_type": "markdown",
   "id": "67b1f926-d1b5-493a-b1d0-43cad99b8560",
   "metadata": {},
   "source": [
    "#### Compute PCA deccomposition for a few FORS2 spectra\n",
    "\n",
    "-  [PCA_Fors2/ComputePCA_Fors2.ipynb](PCA_Fors2/ComputePCA_Fors2.ipynb)"
   ]
  },
  {
   "cell_type": "markdown",
   "id": "2a619895-66cb-4a77-8ca2-fa666ec7d573",
   "metadata": {},
   "source": [
    "#### Compute PCA deccomposition for all FORS2 spectra\n",
    "\n",
    "-  [PCA_Fors2/ComputePCA_Fors2_all.ipynb](PCA_Fors2/ComputePCA_Fors2_all.ipynb)"
   ]
  },
  {
   "cell_type": "markdown",
   "id": "d2581171-7be7-4ddd-9f9e-c239ee36166c",
   "metadata": {},
   "source": [
    "## 3)  Perform clustering"
   ]
  },
  {
   "cell_type": "code",
   "execution_count": 12,
   "id": "1b1151f1-3af8-424f-99c8-d069ebdaab8f",
   "metadata": {},
   "outputs": [
    {
     "name": "stdout",
     "output_type": "stream",
     "text": [
      " New Directory /Users/sylvie/MacOSX/GitHub/LSST/PhotoZ_PhD/Clustering\n"
     ]
    }
   ],
   "source": [
    "os.chdir(main_dir)\n",
    "cwd = os.path.abspath(\"\")\n",
    "if cwd == main_dir:\n",
    "    os.chdir('./Clustering') \n",
    "cwd = os.path.abspath(\"\")\n",
    "print(f\" New Directory {cwd}\")"
   ]
  },
  {
   "cell_type": "code",
   "execution_count": 13,
   "id": "9fe4a2f1-6576-43ee-be33-5eae8387fcd5",
   "metadata": {},
   "outputs": [
    {
     "name": "stdout",
     "output_type": "stream",
     "text": [
      "-rw-r--r--  1 sylvie  staff   9265949 Jan 17 14:11 ClusteringAffinityPropagation_fromPCA_SL_PCAmethod1.ipynb\n",
      "-rw-r--r--  1 sylvie  staff    490746 Jan 17 14:11 ClusteringAggrDendrogram_fromPCA_SL_PCAmethod1.ipynb\n",
      "-rw-r--r--  1 sylvie  staff   6126404 Jan 17 14:11 ClusteringBisectingKMeans_fromPCA_SL_PCAmethod1.ipynb\n",
      "-rw-r--r--  1 sylvie  staff  12028081 Jan 17 14:11 ClusteringKmean_fromPCA_SL_PCAmethod1.ipynb\n",
      "-rw-r--r--  1 sylvie  staff   5142568 Jan 17 14:11 ClusteringKmean_fromPCA_SL_PCAmethod1_andPlot.ipynb\n",
      "-rw-r--r--  1 sylvie  staff   2687450 Jan 13 12:54 ClusteringKmean_fromPCA_SL_PCAmethod1_andPlot_old.ipynb\n",
      "-rw-r--r--  1 sylvie  staff   3792266 Jan 17 14:11 ClusteringMeanShift_fromPCA_SL_PCAmethod1.ipynb\n",
      "-rw-r--r--  1 sylvie  staff    241614 Jan  4 13:27 ClusteringPCA_SL_PCAmethod1.ipynb\n",
      "-rw-r--r--  1 sylvie  staff   4075536 Jan 17 14:11 ClusteringSpectral_fromPCA_SL_PCAmethod1.ipynb\n"
     ]
    }
   ],
   "source": [
    "! ls -l *.ipynb"
   ]
  },
  {
   "cell_type": "markdown",
   "id": "b029d324-3e99-4fd2-8e1a-e8e085093861",
   "metadata": {},
   "source": [
    "#### Clustering with Kmean\n",
    "\n",
    "Use PCA coefficients and Spectra\n",
    "\n",
    "-  [Clustering/ClusteringKmean_fromPCA_SL_PCAmethod1.ipynb](Clustering/ClusteringKmean_fromPCA_SL_PCAmethod1.ipynb)"
   ]
  },
  {
   "cell_type": "markdown",
   "id": "e4c3288c-aa3d-4c39-b855-1a7b93f11a60",
   "metadata": {},
   "source": [
    "#### Clustering with Kmean and plot\n",
    "\n",
    "Use only 2 PCA coefficients and show the clustering in 2D\n",
    "-  [Clustering/ClusteringKmean_fromPCA_SL_PCAmethod1_andPlot.ipynb](Clustering/ClusteringKmean_fromPCA_SL_PCAmethod1_andPlot.ipynb)"
   ]
  },
  {
   "cell_type": "markdown",
   "id": "c4631bc7-87cc-4c98-8930-6f02f1535840",
   "metadata": {},
   "source": [
    "#### Clustering with BisectingKmean\n",
    "\n",
    "\n",
    "-  [Clustering/ClusteringBisectingKMeans_fromPCA_SL_PCAmethod1.ipynb](Clustering/ClusteringBisectingKMeans_fromPCA_SL_PCAmethod1.ipynb)"
   ]
  },
  {
   "cell_type": "markdown",
   "id": "96d1a216-4424-4881-b092-9592c97c3d10",
   "metadata": {},
   "source": [
    "#### Clustering with Mean Shift \n",
    "\n",
    "Find the number of clusters, after specifying a quantile and computing a bandwidth. Clusters unbalanced\n",
    "\n",
    "-  [Clustering/ClusteringMeanShift_fromPCA_SL_PCAmethod1.ipynb](Clustering/ClusteringMeanShift_fromPCA_SL_PCAmethod1.ipynb)"
   ]
  },
  {
   "cell_type": "markdown",
   "id": "5f0c98ba-1d9a-40b1-b0e0-a95bf6f085da",
   "metadata": {},
   "source": [
    "#### Clustering with AffinityPropagation\n",
    "\n",
    "It find itself the number of clusters, either with PCA coefficients (find 20 clusters) or the spectra (find 30 clusters)\n",
    "\n",
    "-  [Clustering/ClusteringAffinityPropagation_fromPCA_SL_PCAmethod1.ipynb](Clustering/ClusteringAffinityPropagation_fromPCA_SL_PCAmethod1.ipynb)\n"
   ]
  },
  {
   "cell_type": "markdown",
   "id": "f65d1dc4-87c4-4fd8-9f95-d24e7fdf2ebe",
   "metadata": {},
   "source": [
    "#### Clustering with Spectral Clustering\n",
    "\n",
    "Poorly balanced in the number of elements in clusters\n",
    "\n",
    "-  [Clustering/ClusteringSpectral_fromPCA_SL_PCAmethod1.ipynb](Clustering/ClusteringSpectral_fromPCA_SL_PCAmethod1.ipynb)"
   ]
  },
  {
   "cell_type": "markdown",
   "id": "909bd04f-d53c-4acd-9830-42c7346dddec",
   "metadata": {},
   "source": [
    "#### Clustering with Dentrogram\n",
    "\n",
    "Spectra not shown\n",
    "\n",
    "-  [Clustering/ClusteringAggrDendrogram_fromPCA_SL_PCAmethod1.ipynb](Clustering/ClusteringAggrDendrogram_fromPCA_SL_PCAmethod1.ipynb)"
   ]
  },
  {
   "cell_type": "markdown",
   "id": "0bc2c105-587c-415a-85c5-f7e0c9634454",
   "metadata": {},
   "source": [
    "## 4) Compute Self Organizing Maps"
   ]
  },
  {
   "cell_type": "code",
   "execution_count": 14,
   "id": "9c99e2b0-8b8f-4719-a598-f4b9fff2472d",
   "metadata": {},
   "outputs": [
    {
     "name": "stdout",
     "output_type": "stream",
     "text": [
      " New Directory /Users/sylvie/MacOSX/GitHub/LSST/PhotoZ_PhD/SOM\n"
     ]
    }
   ],
   "source": [
    "os.chdir(main_dir)\n",
    "cwd = os.path.abspath(\"\")\n",
    "if cwd == main_dir:\n",
    "    os.chdir('./SOM') \n",
    "cwd = os.path.abspath(\"\")\n",
    "print(f\" New Directory {cwd}\")"
   ]
  },
  {
   "cell_type": "code",
   "execution_count": 15,
   "id": "291ec21d-c7d7-46ab-b2fd-cff45bd50756",
   "metadata": {},
   "outputs": [
    {
     "name": "stdout",
     "output_type": "stream",
     "text": [
      "-rw-r--r--  1 sylvie  staff  8563213 Jan 17 14:11 SOM_SL.ipynb\n",
      "-rw-r--r--  1 sylvie  staff  8441739 Jan 17 14:11 SOM_SL_eigenvectorandcoeff.ipynb\n",
      "-rw-r--r--  1 sylvie  staff    56127 Jan 12 18:33 SOM_SL_eigenvectorandcoeff_old.ipynb\n",
      "-rw-r--r--  1 sylvie  staff    98015 Jan  9 17:47 SOM_SL_old.ipynb\n",
      "-rw-r--r--  1 sylvie  staff  3919479 Jan 17 14:11 SOM_all_eigenvectorandcoeff.ipynb\n"
     ]
    }
   ],
   "source": [
    "! ls -l *.ipynb"
   ]
  },
  {
   "cell_type": "markdown",
   "id": "d38a5404-76a8-4343-8de6-6a7fa5bc1204",
   "metadata": {},
   "source": [
    "#### Fast SOM on PCA coefficients\n",
    "-  [SOM/SOM_SL.ipynb](SOM/SOM_SL.ipynb)\n",
    "\n",
    "\n",
    "#### Fast SOM on PCA coefficients\n",
    "-  [SOM/SOM_SL_eigenvectorandcoeff.ipynb](SOM/SOM_SL_eigenvectorandcoeff.ipynb)   (deprecated)"
   ]
  },
  {
   "cell_type": "markdown",
   "id": "a3ef8060-590b-4be9-9b3a-0f7f25fc155d",
   "metadata": {},
   "source": [
    "#### Fast SOM on PCA coefficients for SL and Brown and Bruzual-Charlot\n",
    "\n",
    "\n",
    "- replace the above notebook **SOM_SL_eigenvectorandcoeff.ipynb** to apply to any SED type\n",
    "\n",
    "- [SOM/SOM_all_eigenvectorandcoeff.ipynb](SOM/SOM_all_eigenvectorandcoeff.ipynb)"
   ]
  },
  {
   "cell_type": "markdown",
   "id": "08e6a802-2283-4f35-bc43-d56c042647a5",
   "metadata": {},
   "source": [
    "## Non linear clustering"
   ]
  },
  {
   "cell_type": "markdown",
   "id": "e98146bf-4c30-4eb1-a019-9f7cf512905e",
   "metadata": {},
   "source": [
    "### LLE"
   ]
  },
  {
   "cell_type": "code",
   "execution_count": 16,
   "id": "f7ed6b08-3016-4428-8964-80f8f5db9355",
   "metadata": {},
   "outputs": [
    {
     "name": "stdout",
     "output_type": "stream",
     "text": [
      " New Directory /Users/sylvie/MacOSX/GitHub/LSST/PhotoZ_PhD/LLE\n"
     ]
    }
   ],
   "source": [
    "os.chdir(main_dir)\n",
    "cwd = os.path.abspath(\"\")\n",
    "if cwd == main_dir:\n",
    "    os.chdir('./LLE') \n",
    "cwd = os.path.abspath(\"\")\n",
    "print(f\" New Directory {cwd}\")"
   ]
  },
  {
   "cell_type": "code",
   "execution_count": 17,
   "id": "cdeeb23f-1d3c-495c-b14f-038475606a21",
   "metadata": {},
   "outputs": [
    {
     "name": "stdout",
     "output_type": "stream",
     "text": [
      "LLEclustering_allSEDtypes.ipynb \u001b[1m\u001b[31mdatatools\u001b[m\u001b[m\n"
     ]
    }
   ],
   "source": [
    "!ls"
   ]
  },
  {
   "cell_type": "markdown",
   "id": "57c3a60c-a445-4b8c-be76-c136419de36f",
   "metadata": {},
   "source": [
    "- [LLE/LLEclustering_allSEDtypes.ipynb](LLE/LLEclustering_allSEDtypes.ipynb) (under development)"
   ]
  },
  {
   "cell_type": "code",
   "execution_count": null,
   "id": "2284fcfe-eba4-47cf-bd38-ddd32b850ce3",
   "metadata": {},
   "outputs": [],
   "source": []
  }
 ],
 "metadata": {
  "kernelspec": {
   "display_name": "Python 3 (ipykernel)",
   "language": "python",
   "name": "python3"
  },
  "language_info": {
   "codemirror_mode": {
    "name": "ipython",
    "version": 3
   },
   "file_extension": ".py",
   "mimetype": "text/x-python",
   "name": "python",
   "nbconvert_exporter": "python",
   "pygments_lexer": "ipython3",
   "version": "3.9.15"
  }
 },
 "nbformat": 4,
 "nbformat_minor": 5
}
