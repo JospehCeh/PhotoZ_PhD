{
 "cells": [
  {
   "cell_type": "markdown",
   "id": "05a26a72-34f7-4a51-86ba-fd0e0b7e3b8e",
   "metadata": {},
   "source": [
    "# Access to notebooks to study the SEDs in the context of FORS2 and StarLight\n",
    "\n",
    "\n",
    "- author Sylvie Dagoret-Campagne\n",
    "- creation date : 2023/01/11\n",
    "\n",
    "\n",
    "- **purpose of this nb: pointer toward notebooks under the hierarchy**"
   ]
  },
  {
   "cell_type": "markdown",
   "id": "26b68cb7-b4bb-4886-a3d7-ee966873f660",
   "metadata": {},
   "source": [
    "- **StudyFors2SED** : View SED to understand and control them\n",
    "- **PCA**  : Do PCA decomposition on full spectra\n",
    "- **PCA_Fors2** : Compute PCA coefficients of Fors2 spectra on StarLight spectra\n",
    "- **Clustering** : perform clustering to find similar spectra and reduce the number of SL   \n",
    "- **SOM** : try to visualize some clustering with Self Organising Maps\n",
    "\n",
    "\n",
    "\n",
    "All notebooks should be executed from their local directory to access to their data.\n",
    "The appropriate directory change can be performed from this README.ipynb notebook"
   ]
  },
  {
   "cell_type": "code",
   "execution_count": 1,
   "id": "f59949da-7f58-4d6f-9582-6de8a9625af0",
   "metadata": {},
   "outputs": [],
   "source": [
    "import sys\n",
    "import os"
   ]
  },
  {
   "cell_type": "code",
   "execution_count": 2,
   "id": "9e961a53-e4a0-45c1-ae3a-b789bb172be1",
   "metadata": {},
   "outputs": [],
   "source": [
    "sys.path.append(\"./StudyFors2SED\") \n",
    "sys.path.append(\"./PCA\") \n",
    "sys.path.append(\"./PCA_Fors2\")\n",
    "sys.path.append(\"./Clustering\")\n",
    "sys.path.append(\"./SOM\")"
   ]
  },
  {
   "cell_type": "code",
   "execution_count": 3,
   "id": "61c952fd-f993-4c0a-82d7-e0b4ec786692",
   "metadata": {},
   "outputs": [
    {
     "name": "stdout",
     "output_type": "stream",
     "text": [
      "notebook current executing path : /Users/dagoret/MacOSX/GitHub/LSST/PhotoZ_PhD\n"
     ]
    }
   ],
   "source": [
    "cwd=os.path.abspath(\"\")\n",
    "main_dir = cwd\n",
    "print(f\"notebook current executing path : {cwd}\")"
   ]
  },
  {
   "cell_type": "markdown",
   "id": "2701e374-0185-4b57-92cc-faea1cab9aff",
   "metadata": {},
   "source": [
    "## 1) Exploration of the different types of SED including StarLight and Fors2 "
   ]
  },
  {
   "cell_type": "markdown",
   "id": "05bf7889-4df2-42c3-bc4f-cc6d7b28a7fb",
   "metadata": {},
   "source": [
    "- to run the notebooks in their working directory , change of execution path"
   ]
  },
  {
   "cell_type": "code",
   "execution_count": 4,
   "id": "d9002dd3-b01c-40c0-9e51-d3a1f6411a14",
   "metadata": {},
   "outputs": [
    {
     "name": "stdout",
     "output_type": "stream",
     "text": [
      " New Directory /Users/dagoret/MacOSX/GitHub/LSST/PhotoZ_PhD/StudyFors2SED\n"
     ]
    }
   ],
   "source": [
    "os.chdir(main_dir)\n",
    "cwd = os.path.abspath(\"\")\n",
    "if cwd == main_dir:\n",
    "    os.chdir('./StudyFors2SED') \n",
    "cwd = os.path.abspath(\"\")\n",
    "print(f\" New Directory {cwd}\")"
   ]
  },
  {
   "cell_type": "code",
   "execution_count": 5,
   "id": "9bf1919a-d059-44ad-b3a8-9e048af0bc88",
   "metadata": {},
   "outputs": [
    {
     "name": "stdout",
     "output_type": "stream",
     "text": [
      "-rw-r--r--  1 dagoret  staff      62785 Jan 11 14:15 ExploreFors2.ipynb\n",
      "-rw-r--r--  1 dagoret  staff      11451 Jan  4 20:27 ExploreFors2_comparespectra.ipynb\n",
      "-rw-r--r--  1 dagoret  staff  537116963 Dec 21 00:17 ExploreFors2_old.ipynb\n",
      "-rw-r--r--  1 dagoret  staff       9733 Jan 11 14:17 ExploreFors2_short.ipynb\n",
      "-rw-r--r--  1 dagoret  staff  290017992 Dec 21 00:23 ExploreFors2_short_old.ipynb\n",
      "-rw-r--r--  1 dagoret  staff   22191395 Jan 11 14:34 ExploreFors2_viewspectra1by1.ipynb\n",
      "-rw-r--r--  1 dagoret  staff    1297464 Dec 26 15:38 ExploreFors2_viewspectra1by1_v0.ipynb\n",
      "-rw-r--r--  1 dagoret  staff     118845 Jan  4 20:27 ExploreFors2inRestFrame.ipynb\n",
      "-rw-r--r--  1 dagoret  staff  435844609 Dec 20 20:29 ExploreFors_backup.ipynb\n",
      "-rw-r--r--  1 dagoret  staff      10297 Jan  4 20:27 ExploreSL_comparespectra.ipynb\n",
      "-rw-r--r--  1 dagoret  staff   28740716 Dec 23 18:13 ExploreSL_comparespectra_old.ipynb\n",
      "-rw-r--r--  1 dagoret  staff      35108 Jan 11 14:28 ViewStandardSED.ipynb\n"
     ]
    }
   ],
   "source": [
    "! ls -l *.ipynb"
   ]
  },
  {
   "cell_type": "markdown",
   "id": "24338032-3443-4404-a10b-8103f8c5eee9",
   "metadata": {},
   "source": [
    "### a) Rubin sims and PySynphot SEDS\n",
    "\n",
    "View all SED available with rubin-sims and pysynphot SEDS. The goal is to compare with Fors2/SL. Both python packages require to be installed\n",
    "\n",
    "- [the rubin-sim package](https://github.com/lsst/rubin_sim)\n",
    "\n",
    "- [the pysynphot package](https://pysynphot.readthedocs.io/en/latest/)\n",
    "\n",
    "-  the notebook : [StudyFors2SED/ViewStandardSED.ipynb](StudyFors2SED/ViewStandardSED.ipynb)"
   ]
  },
  {
   "cell_type": "markdown",
   "id": "25655eb0-28a3-4306-a279-94c529b8b16b",
   "metadata": {},
   "source": [
    "### b) Explore Fors2 spectra"
   ]
  },
  {
   "cell_type": "markdown",
   "id": "a1ae4fc1-e246-4c87-b6ff-d00c0dd0b445",
   "metadata": {},
   "source": [
    "#### Initial nb \n",
    "\n",
    "with all Eric and Johan code put in it \n",
    "\n",
    "-  [StudyFors2SED/ExploreFors2.ipynb](StudyFors2SED/ExploreFors2.ipynb)"
   ]
  },
  {
   "cell_type": "markdown",
   "id": "85b7d71d-ff21-4463-a5de-8d65e8e98429",
   "metadata": {},
   "source": [
    "#### nb with code seperated from plots\n",
    "\n",
    "- [StudyFors2SED/ExploreFors2_short.ipynb](StudyFors2SED/ExploreFors2_short.ipynb)"
   ]
  },
  {
   "cell_type": "markdown",
   "id": "54c5dfdb-59ae-4293-aa3c-e5379113c3e8",
   "metadata": {},
   "source": [
    "#### Check Fors2 spectra with respect to emission lines\n",
    "\n",
    "- I have taken tables on galaxy emission lines to check on spectra plots\n",
    "\n",
    "-  [StudyFors2SED/ExploreFors2_viewspectra1by1.ipynb](StudyFors2SED/ExploreFors2_viewspectra1by1.ipynb)"
   ]
  },
  {
   "cell_type": "markdown",
   "id": "219c8bd3-350e-451c-b280-136aebf191ea",
   "metadata": {},
   "source": [
    "## 2) PCA Decomposition"
   ]
  },
  {
   "cell_type": "code",
   "execution_count": 6,
   "id": "2fa4b45e-2708-401b-914d-71e559595476",
   "metadata": {},
   "outputs": [
    {
     "name": "stdout",
     "output_type": "stream",
     "text": [
      " New Directory /Users/dagoret/MacOSX/GitHub/LSST/PhotoZ_PhD/PCA\n"
     ]
    }
   ],
   "source": [
    "os.chdir(main_dir)\n",
    "cwd = os.path.abspath(\"\")\n",
    "if cwd == main_dir:\n",
    "    os.chdir('./PCA') \n",
    "cwd = os.path.abspath(\"\")\n",
    "print(f\" New Directory {cwd}\")"
   ]
  },
  {
   "cell_type": "code",
   "execution_count": 7,
   "id": "1b597d1c-6acf-42f9-80b7-fe0db2ec9595",
   "metadata": {},
   "outputs": [
    {
     "name": "stdout",
     "output_type": "stream",
     "text": [
      "-rw-r--r--  1 dagoret  staff   1155899 Jan  9 11:32 ComparePCA_SL_Brown_BruzualCharlot.ipynb\n",
      "-rw-r--r--  1 dagoret  staff    759260 Jan  8 17:35 ComputePCA_Brown_PCAmethod1.ipynb\n",
      "-rw-r--r--  1 dagoret  staff   1027399 Jan  8 17:36 ComputePCA_BruzualCharlot_PCAmethod1.ipynb\n",
      "-rw-r--r--  1 dagoret  staff   1075547 Jan  4 20:47 ComputePCA_SL.ipynb\n",
      "-rw-r--r--  1 dagoret  staff    546907 Jan  4 20:47 ComputePCA_SL_Eigenvalues.ipynb\n",
      "-rw-r--r--  1 dagoret  staff   1027355 Jan  8 17:00 ComputePCA_SL_PCAmethod1.ipynb\n",
      "-rw-r--r--  1 dagoret  staff    809154 Jan  8 16:54 ComputePCA_SL_PCAmethod12D.ipynb\n",
      "-rw-r--r--  1 dagoret  staff    883723 Dec 28 18:28 ComputePCA_SL_PCAmethod2.ipynb\n",
      "-rw-r--r--  1 dagoret  staff   1032713 Dec 28 18:29 ComputePCA_SL_PCAmethod2_v2.ipynb\n",
      "-rw-r--r--  1 dagoret  staff    631831 Dec 28 18:28 ComputePCA_SL_PCAmethod3.ipynb\n",
      "-rw-r--r--  1 dagoret  staff   6191729 Jan  6 23:48 prepareBrown_toPCAana.ipynb\n",
      "-rw-r--r--  1 dagoret  staff   3552530 Jan  7 00:17 prepareBruzualCharlot_toPCA.ipynb\n",
      "-rw-r--r--  1 dagoret  staff  15692452 Jan  6 20:48 prepareSL_toPCAana.ipynb\n"
     ]
    }
   ],
   "source": [
    "!ls -l *.ipynb"
   ]
  },
  {
   "cell_type": "markdown",
   "id": "fe007d07-99a3-49c2-95a5-6a280c974640",
   "metadata": {},
   "source": [
    "### a) PCA decomposition on StarLight (+ Brown + Bruzual-Charlot)"
   ]
  },
  {
   "cell_type": "code",
   "execution_count": 8,
   "id": "5465f41c-cb20-4101-b839-b146fbdc834b",
   "metadata": {},
   "outputs": [
    {
     "name": "stdout",
     "output_type": "stream",
     "text": [
      " New Directory /Users/dagoret/MacOSX/GitHub/LSST/PhotoZ_PhD/PCA\n"
     ]
    }
   ],
   "source": [
    "os.chdir(main_dir)\n",
    "cwd = os.path.abspath(\"\")\n",
    "if cwd == main_dir:\n",
    "    os.chdir('./PCA') \n",
    "cwd = os.path.abspath(\"\")\n",
    "print(f\" New Directory {cwd}\")"
   ]
  },
  {
   "cell_type": "code",
   "execution_count": 9,
   "id": "548c4b6e-69d9-42c7-afa1-83815d406d65",
   "metadata": {},
   "outputs": [
    {
     "name": "stdout",
     "output_type": "stream",
     "text": [
      "-rw-r--r--  1 dagoret  staff   1155899 Jan  9 11:32 ComparePCA_SL_Brown_BruzualCharlot.ipynb\n",
      "-rw-r--r--  1 dagoret  staff    759260 Jan  8 17:35 ComputePCA_Brown_PCAmethod1.ipynb\n",
      "-rw-r--r--  1 dagoret  staff   1027399 Jan  8 17:36 ComputePCA_BruzualCharlot_PCAmethod1.ipynb\n",
      "-rw-r--r--  1 dagoret  staff   1075547 Jan  4 20:47 ComputePCA_SL.ipynb\n",
      "-rw-r--r--  1 dagoret  staff    546907 Jan  4 20:47 ComputePCA_SL_Eigenvalues.ipynb\n",
      "-rw-r--r--  1 dagoret  staff   1027355 Jan  8 17:00 ComputePCA_SL_PCAmethod1.ipynb\n",
      "-rw-r--r--  1 dagoret  staff    809154 Jan  8 16:54 ComputePCA_SL_PCAmethod12D.ipynb\n",
      "-rw-r--r--  1 dagoret  staff    883723 Dec 28 18:28 ComputePCA_SL_PCAmethod2.ipynb\n",
      "-rw-r--r--  1 dagoret  staff   1032713 Dec 28 18:29 ComputePCA_SL_PCAmethod2_v2.ipynb\n",
      "-rw-r--r--  1 dagoret  staff    631831 Dec 28 18:28 ComputePCA_SL_PCAmethod3.ipynb\n",
      "-rw-r--r--  1 dagoret  staff   6191729 Jan  6 23:48 prepareBrown_toPCAana.ipynb\n",
      "-rw-r--r--  1 dagoret  staff   3552530 Jan  7 00:17 prepareBruzualCharlot_toPCA.ipynb\n",
      "-rw-r--r--  1 dagoret  staff  15692452 Jan  6 20:48 prepareSL_toPCAana.ipynb\n"
     ]
    }
   ],
   "source": [
    "! ls -l *.ipynb"
   ]
  },
  {
   "cell_type": "markdown",
   "id": "24d4b31d-67b0-43fb-bbd7-4e51e828f8ee",
   "metadata": {},
   "source": [
    "### b) PCA decomposition of Fors2"
   ]
  },
  {
   "cell_type": "code",
   "execution_count": 10,
   "id": "8ff6d3cf-ba5c-4159-9661-6aee994ed95a",
   "metadata": {},
   "outputs": [
    {
     "name": "stdout",
     "output_type": "stream",
     "text": [
      " New Directory /Users/dagoret/MacOSX/GitHub/LSST/PhotoZ_PhD/PCA_Fors2\n"
     ]
    }
   ],
   "source": [
    "os.chdir(main_dir)\n",
    "cwd = os.path.abspath(\"\")\n",
    "if cwd == main_dir:\n",
    "    os.chdir('./PCA_Fors2') \n",
    "cwd = os.path.abspath(\"\")\n",
    "print(f\" New Directory {cwd}\")"
   ]
  },
  {
   "cell_type": "code",
   "execution_count": 11,
   "id": "0a7df8f7-fc73-4abc-b227-c2648d2580f5",
   "metadata": {},
   "outputs": [
    {
     "name": "stdout",
     "output_type": "stream",
     "text": [
      "-rw-r--r--  1 dagoret  staff    649959 Dec 29 16:36 ComputePCA_Fors2.ipynb\n",
      "-rw-r--r--  1 dagoret  staff  36210647 Dec 29 16:54 ComputePCA_Fors2_all.ipynb\n",
      "-rw-r--r--  1 dagoret  staff   1686044 Dec 28 23:27 prepare_Fors2.ipynb\n"
     ]
    }
   ],
   "source": [
    "! ls -l *.ipynb"
   ]
  },
  {
   "cell_type": "markdown",
   "id": "d2581171-7be7-4ddd-9f9e-c239ee36166c",
   "metadata": {},
   "source": [
    "## 3)  Perform clustering"
   ]
  },
  {
   "cell_type": "code",
   "execution_count": 12,
   "id": "1b1151f1-3af8-424f-99c8-d069ebdaab8f",
   "metadata": {},
   "outputs": [
    {
     "name": "stdout",
     "output_type": "stream",
     "text": [
      " New Directory /Users/dagoret/MacOSX/GitHub/LSST/PhotoZ_PhD/Clustering\n"
     ]
    }
   ],
   "source": [
    "os.chdir(main_dir)\n",
    "cwd = os.path.abspath(\"\")\n",
    "if cwd == main_dir:\n",
    "    os.chdir('./Clustering') \n",
    "cwd = os.path.abspath(\"\")\n",
    "print(f\" New Directory {cwd}\")"
   ]
  },
  {
   "cell_type": "code",
   "execution_count": 13,
   "id": "9fe4a2f1-6576-43ee-be33-5eae8387fcd5",
   "metadata": {},
   "outputs": [
    {
     "name": "stdout",
     "output_type": "stream",
     "text": [
      "-rw-r--r--  1 dagoret  staff  3904014 Jan 10 21:17 ClusteringAffinityPropagation_fromPCA_SL_PCAmethod1.ipynb\n",
      "-rw-r--r--  1 dagoret  staff   332336 Jan 10 21:13 ClusteringAggrDendrogram_fromPCA_SL_PCAmethod1.ipynb\n",
      "-rw-r--r--  1 dagoret  staff  4564506 Jan  1 18:16 ClusteringBisectingKMeans_fromPCA_SL_PCAmethod1.ipynb\n",
      "-rw-r--r--  1 dagoret  staff  4954087 Jan 10 21:02 ClusteringKmean_fromPCA_SL_PCAmethod1.ipynb\n",
      "-rw-r--r--  1 dagoret  staff  2323350 Jan  2 20:20 ClusteringKmean_fromPCA_SL_PCAmethod1_andPlot.ipynb\n",
      "-rw-r--r--  1 dagoret  staff  1667328 Dec 30 14:35 ClusteringMeanShift_fromPCA_SL_PCAmethod1.ipynb\n",
      "-rw-r--r--  1 dagoret  staff   241614 Dec 28 18:09 ClusteringPCA_SL_PCAmethod1.ipynb\n",
      "-rw-r--r--  1 dagoret  staff  1778922 Jan 10 21:13 ClusteringSpectral_fromPCA_SL_PCAmethod1.ipynb\n"
     ]
    }
   ],
   "source": [
    "! ls -l *.ipynb"
   ]
  },
  {
   "cell_type": "markdown",
   "id": "0bc2c105-587c-415a-85c5-f7e0c9634454",
   "metadata": {},
   "source": [
    "## 4) Compute Self Organizing Maps"
   ]
  },
  {
   "cell_type": "code",
   "execution_count": 14,
   "id": "9c99e2b0-8b8f-4719-a598-f4b9fff2472d",
   "metadata": {},
   "outputs": [
    {
     "name": "stdout",
     "output_type": "stream",
     "text": [
      " New Directory /Users/dagoret/MacOSX/GitHub/LSST/PhotoZ_PhD/SOM\n"
     ]
    }
   ],
   "source": [
    "os.chdir(main_dir)\n",
    "cwd = os.path.abspath(\"\")\n",
    "if cwd == main_dir:\n",
    "    os.chdir('./SOM') \n",
    "cwd = os.path.abspath(\"\")\n",
    "print(f\" New Directory {cwd}\")"
   ]
  },
  {
   "cell_type": "code",
   "execution_count": 15,
   "id": "291ec21d-c7d7-46ab-b2fd-cff45bd50756",
   "metadata": {},
   "outputs": [
    {
     "name": "stdout",
     "output_type": "stream",
     "text": [
      "-rw-r--r--  1 dagoret  staff  355349 Jan 10 12:41 SOM_SL.ipynb\n",
      "-rw-r--r--  1 dagoret  staff  344922 Jan 10 12:41 SOM_SL_eigenvectorandcoeff.ipynb\n"
     ]
    }
   ],
   "source": [
    "! ls -l *.ipynb"
   ]
  }
 ],
 "metadata": {
  "kernelspec": {
   "display_name": "python3_base",
   "language": "python",
   "name": "python3"
  },
  "language_info": {
   "codemirror_mode": {
    "name": "ipython",
    "version": 3
   },
   "file_extension": ".py",
   "mimetype": "text/x-python",
   "name": "python",
   "nbconvert_exporter": "python",
   "pygments_lexer": "ipython3",
   "version": "3.9.15"
  }
 },
 "nbformat": 4,
 "nbformat_minor": 5
}
