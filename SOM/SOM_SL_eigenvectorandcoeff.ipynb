{
 "cells": [
  {
   "cell_type": "markdown",
   "id": "b9bd7d63-56f4-4bd2-ac28-aa02de8acb47",
   "metadata": {},
   "source": [
    "# SOM for SL PCA coefficients\n",
    "\n",
    "\n",
    "- author : Sylvie Dagoret-Campagne\n",
    "- affiliation  : IJCLab\n",
    "- creation date : 2023/01/10\n",
    "\n",
    "\n",
    "- https://github.com/JustGlowing/minisom\n",
    "- https://github.com/JustGlowing/minisom/blob/master/examples/Clustering.ipynb\n",
    "- https://github.com/sylvielsstfr/Photoz-tools/blob/sdc_2022/KSOM_lsst.ipynb\n",
    "- https://github.com/JospehCeh/PhotoZ_PhD/tree/u/dagoret"
   ]
  },
  {
   "cell_type": "markdown",
   "id": "29d8748b-2d6b-49a6-9e1e-d2ae18a1d814",
   "metadata": {},
   "source": [
    "https://heartbeat.comet.ml/introduction-to-self-organizing-maps-soms-98e88b568f5d"
   ]
  },
  {
   "cell_type": "code",
   "execution_count": 1,
   "id": "ed2b0a30-975f-41d8-ae45-98c3ca408db4",
   "metadata": {},
   "outputs": [],
   "source": [
    "%load_ext autoreload\n",
    "%autoreload 2"
   ]
  },
  {
   "cell_type": "code",
   "execution_count": 2,
   "id": "69759357-6bb7-4280-a640-f54df6b004fd",
   "metadata": {},
   "outputs": [],
   "source": [
    "#from sklearn_som.som import SOM\n",
    "from minisom import MiniSom"
   ]
  },
  {
   "cell_type": "code",
   "execution_count": 3,
   "id": "ee363523-50f6-4394-b5b8-1a14f2eff8fe",
   "metadata": {},
   "outputs": [],
   "source": [
    "%matplotlib inline\n",
    "import os\n",
    "import numpy as np\n",
    "from matplotlib.ticker import FormatStrFormatter\n",
    "import matplotlib.pyplot as plt\n",
    "from scipy.interpolate import InterpolatedUnivariateSpline, interp1d\n",
    "from scipy.special import erfc\n",
    "import pandas as pd\n",
    "import seaborn as sns \n",
    "import itertools\n",
    "sns.set_style(\"white\")\n",
    "sns.set_context(\"notebook\", font_scale=1.0, rc={\"lines.linewidth\": 2.5})\n",
    "sns.set_palette(sns.color_palette([\"#9b59b6\", \"#95a5a6\", \n",
    "                                   \"#e74c3c\", \"#3498db\", \n",
    "                                   \"#34495e\", \"#2ecc71\"]))\n",
    "import copy"
   ]
  },
  {
   "cell_type": "code",
   "execution_count": 4,
   "id": "f1e0c134-482f-4afb-9e94-619fbe476261",
   "metadata": {},
   "outputs": [],
   "source": [
    "from astropy.io import fits"
   ]
  },
  {
   "cell_type": "markdown",
   "id": "d5b253ea-ecde-48f7-b712-20a67d158a19",
   "metadata": {},
   "source": [
    "## Start"
   ]
  },
  {
   "cell_type": "code",
   "execution_count": 5,
   "id": "5b971499-635d-4b9b-b022-e16998e3ba5b",
   "metadata": {},
   "outputs": [
    {
     "name": "stdout",
     "output_type": "stream",
     "text": [
      "notebook current executing path : /Users/sylvie/MacOSX/GitHub/LSST/PhotoZ_PhD/SOM\n"
     ]
    }
   ],
   "source": [
    "cwd=os.path.abspath(\"\")\n",
    "main_dir = cwd\n",
    "print(f\"notebook current executing path : {cwd}\")"
   ]
  },
  {
   "cell_type": "markdown",
   "id": "8032ba4f-82fe-403a-8828-54bfc2799be4",
   "metadata": {},
   "source": [
    "## Read input file"
   ]
  },
  {
   "cell_type": "code",
   "execution_count": 6,
   "id": "ec5f9890-3e94-4175-aa87-df3b78c4f53a",
   "metadata": {},
   "outputs": [
    {
     "name": "stdout",
     "output_type": "stream",
     "text": [
      "Filename: datatools/pcamethod1_SL_eigenvectorandcoeff.fits\n",
      "No.    Name      Ver    Type      Cards   Dimensions   Format\n",
      "  0  PRIMARY       1 PrimaryHDU      12   (6362, 553)   float64   \n",
      "  1                1 ImageHDU         8   (10, 550)   float64   \n",
      "  2                1 ImageHDU         8   (6361, 10)   float64   \n"
     ]
    }
   ],
   "source": [
    "all_filenames = ['datatools/pcamethod1_SL_eigenvectorandcoeff.fits']\n",
    "\n",
    "# choose the SED\n",
    "infile_idx=0\n",
    "filename = all_filenames[infile_idx]\n",
    "hdu = fits.open(filename)\n",
    "hdu.info()"
   ]
  },
  {
   "cell_type": "markdown",
   "id": "10d3bd2c-1f60-4e83-8647-95e4a469a9c7",
   "metadata": {},
   "source": [
    "### Read Spectra"
   ]
  },
  {
   "cell_type": "code",
   "execution_count": 7,
   "id": "4bcf3e58-c442-4c64-bcd6-cca659aa4f67",
   "metadata": {},
   "outputs": [
    {
     "data": {
      "text/plain": [
       "SIMPLE  =                    T / conforms to FITS standard                      \n",
       "BITPIX  =                  -64 / array data type                                \n",
       "NAXIS   =                    2 / number of array dimensions                     \n",
       "NAXIS1  =                 6362                                                  \n",
       "NAXIS2  =                  553                                                  \n",
       "EXTEND  =                    T                                                  \n",
       "DATAWLS = 'data[0,1:]'                                                          \n",
       "DATALLAV= 'data[1,1:]'                                                          \n",
       "DATALLST= 'data[2,1:]'                                                          \n",
       "DATAFL  = 'data[3:,1:]'                                                         \n",
       "DATANUM = 'data[3:,0]'                                                          \n",
       "COMMENT Spectra of StarLight                                                    "
      ]
     },
     "execution_count": 7,
     "metadata": {},
     "output_type": "execute_result"
    }
   ],
   "source": [
    "data1=hdu[0].data\n",
    "hdr1 = hdu[0].header\n",
    "hdr1"
   ]
  },
  {
   "cell_type": "markdown",
   "id": "699d8019-3ea0-4cc1-b7f5-b8d147edd069",
   "metadata": {},
   "source": [
    "### Read PCA coefficients"
   ]
  },
  {
   "cell_type": "code",
   "execution_count": 8,
   "id": "a6e629c2-caf7-43dc-b1d3-ff1d40fc20ed",
   "metadata": {},
   "outputs": [
    {
     "data": {
      "text/plain": [
       "XTENSION= 'IMAGE   '           / Image extension                                \n",
       "BITPIX  =                  -64 / array data type                                \n",
       "NAXIS   =                    2 / number of array dimensions                     \n",
       "NAXIS1  =                   10                                                  \n",
       "NAXIS2  =                  550                                                  \n",
       "PCOUNT  =                    0 / number of parameters                           \n",
       "GCOUNT  =                    1 / number of groups                               \n",
       "COMMENT PCA method 1 spectra coefficients                                       "
      ]
     },
     "execution_count": 8,
     "metadata": {},
     "output_type": "execute_result"
    }
   ],
   "source": [
    "data2=hdu[1].data\n",
    "hdr2 = hdu[1].header\n",
    "hdr2"
   ]
  },
  {
   "cell_type": "markdown",
   "id": "81a5448d-3af1-41f3-ac04-491b38c3413b",
   "metadata": {},
   "source": [
    "### Read PCA eigenvectors"
   ]
  },
  {
   "cell_type": "code",
   "execution_count": 9,
   "id": "b80e8a1d-3a3e-4d41-ad06-87de94592ed8",
   "metadata": {},
   "outputs": [
    {
     "data": {
      "text/plain": [
       "XTENSION= 'IMAGE   '           / Image extension                                \n",
       "BITPIX  =                  -64 / array data type                                \n",
       "NAXIS   =                    2 / number of array dimensions                     \n",
       "NAXIS1  =                 6361                                                  \n",
       "NAXIS2  =                   10                                                  \n",
       "PCOUNT  =                    0 / number of parameters                           \n",
       "GCOUNT  =                    1 / number of groups                               \n",
       "COMMENT PCA method 1 Eigen Vectors                                              "
      ]
     },
     "execution_count": 9,
     "metadata": {},
     "output_type": "execute_result"
    }
   ],
   "source": [
    "data3=hdu[2].data\n",
    "hdr2 = hdu[2].header\n",
    "hdr2"
   ]
  },
  {
   "cell_type": "markdown",
   "id": "92c6d0bf-a84a-4ee8-9238-160459b45964",
   "metadata": {},
   "source": [
    "## Decode data"
   ]
  },
  {
   "cell_type": "markdown",
   "id": "3e1016a9-d19a-431e-b2a6-b02176287df4",
   "metadata": {},
   "source": [
    "### Decode spectra data"
   ]
  },
  {
   "cell_type": "code",
   "execution_count": 10,
   "id": "d4c28483-3510-4655-8b04-a296f8314a13",
   "metadata": {},
   "outputs": [],
   "source": [
    "wavelengths = data1[0,1:] \n",
    "flambdas_average = data1[1,1:] \n",
    "flambdas_std = data1[2,1:] \n",
    "spec = data1[3:,1:] \n",
    "all_numbers = data1[3:,0] \n"
   ]
  },
  {
   "cell_type": "markdown",
   "id": "39be4272-e9e3-4903-ae8e-52480409402d",
   "metadata": {},
   "source": [
    "### Decode PCA data"
   ]
  },
  {
   "cell_type": "code",
   "execution_count": 11,
   "id": "e9b75a3c-e9dc-44dc-8518-46c3b599a05e",
   "metadata": {},
   "outputs": [],
   "source": [
    "X = copy.deepcopy(data2[:,:])"
   ]
  },
  {
   "cell_type": "code",
   "execution_count": null,
   "id": "a2fe1349-0469-4ddf-b527-2e555a3ebb25",
   "metadata": {},
   "outputs": [],
   "source": []
  },
  {
   "cell_type": "code",
   "execution_count": null,
   "id": "3d41eff7-7cbb-4ded-b89a-10f08e43b919",
   "metadata": {},
   "outputs": [],
   "source": []
  },
  {
   "cell_type": "code",
   "execution_count": null,
   "id": "baed4ceb-9f5f-46e6-b426-dbf63d1ee43a",
   "metadata": {},
   "outputs": [],
   "source": []
  },
  {
   "cell_type": "markdown",
   "id": "9a79d82a-76b5-4ae3-8c20-4ece5c419ef4",
   "metadata": {},
   "source": [
    "# Normalize the data"
   ]
  },
  {
   "cell_type": "code",
   "execution_count": 12,
   "id": "a79c16ca-bab8-47be-86c3-fe30055d8359",
   "metadata": {},
   "outputs": [],
   "source": [
    "X = (spec - np.mean(spec, axis=0)) / np.std(spec, axis=0)"
   ]
  },
  {
   "cell_type": "markdown",
   "id": "bd9484c3-14b7-4ebf-8142-e362a8f2fe46",
   "metadata": {},
   "source": [
    "# SOM\n",
    "\n",
    "\n",
    "\n",
    "    algorithm to train the map : https://eric.univ-lyon2.fr/~ricco/cours/slides/en/kohonen_som.pdf\n",
    "\n",
    "Input: dataset, size and topology of the map\n",
    "\n",
    "Output: the codebook for each output node\n",
    "\n",
    "        Randomize the map’s nodes weight\n",
    "        Select randomly one instance\n",
    "        Find the closest node: best matching unit\n",
    "        The codebook of this node is updated\n",
    "        The codebooks of the adjacent nodes are also updated, by not to the same degree\n",
    "        Reduce the intensity of the update progressively\n",
    "        Repeat 1 to 6 for Tmax iterations\n",
    "\n",
    "Weight update rule for a node\n",
    ", knowing that\n",
    "\n",
    "is the winning node:\n",
    "\n",
    ": learning rate\n",
    "\n",
    ": neighbourhood function\n",
    "where\n",
    "\n",
    "is the euclidian distance between node i and j on Kohonen (flat-2D ) map\n",
    "\n",
    "and\n",
    "\n",
    "    are hyperparameters\n",
    "\n"
   ]
  },
  {
   "cell_type": "markdown",
   "id": "4e146d6f-f807-4198-97ec-d3eae1f5d937",
   "metadata": {},
   "source": [
    "- https://github.com/sylvielsstfr/Photoz-tools/blob/sdc_2022/KSOM_lsst.ipynb"
   ]
  },
  {
   "cell_type": "code",
   "execution_count": null,
   "id": "4f5b7e79-890d-4c06-8e7c-e76c149c6c4a",
   "metadata": {},
   "outputs": [
    {
     "name": "stderr",
     "output_type": "stream",
     "text": [
      "/Users/sylvie/anaconda3/lib/python3.9/site-packages/minisom.py:379: ComplexWarning: Casting complex values to real discards the imaginary part\n",
      "  self._weights[i, j] = c1*pc[pc_order[0]] + c2*pc[pc_order[1]]\n"
     ]
    },
    {
     "name": "stdout",
     "output_type": "stream",
     "text": [
      " [   65 / 1000 ]   6% - 0:03:09 left "
     ]
    }
   ],
   "source": [
    "# Initialization and training\n",
    "\n",
    "n_neurons = 60\n",
    "m_neurons = 60\n",
    "\n",
    "learning_rate_0=0.5\n",
    "sigma_0= 7\n",
    "Niter = 1000\n",
    "\n",
    "#som = MiniSom(n_neurons, m_neurons, X.shape[1], sigma=1.5, learning_rate=.1, neighborhood_function='gaussian', random_seed=0)\n",
    "#som = MiniSom(n_neurons, m_neurons, X.shape[1], sigma=7, learning_rate=.5, neighborhood_function='gaussian', random_seed=0)\n",
    "som = MiniSom(n_neurons, m_neurons, X.shape[1], sigma=sigma_0, learning_rate=learning_rate_0, neighborhood_function='gaussian', random_seed=0)\n",
    "              \n",
    "    \n",
    "som.pca_weights_init(X)\n",
    "som.train(X, Niter, verbose=True)  # random training"
   ]
  },
  {
   "cell_type": "code",
   "execution_count": null,
   "id": "7537aebb-66f2-4131-b934-335557303635",
   "metadata": {},
   "outputs": [],
   "source": [
    "plt.figure(figsize=(14, 12))\n",
    "\n",
    "plt.pcolor(som.distance_map().T, cmap='bone_r')  # plotting the distance map as background\n",
    "plt.colorbar()"
   ]
  },
  {
   "cell_type": "code",
   "execution_count": null,
   "id": "dc104512-ded5-4c62-b4df-dcd9e763b69f",
   "metadata": {},
   "outputs": [],
   "source": []
  },
  {
   "cell_type": "code",
   "execution_count": null,
   "id": "ce0ffd2f-a5fc-4bb6-a5e8-9a5491c4ce05",
   "metadata": {},
   "outputs": [],
   "source": [
    "plt.figure(figsize=(14, 12))\n",
    "\n",
    "plt.pcolor(som.distance_map().T, cmap='bone_r')  # plotting the distance map as background\n",
    "plt.colorbar()\n",
    "\n",
    "# Plotting the response for each pattern in the iris dataset\n",
    "# different colors and markers for each label\n",
    "\n",
    "\n",
    "\n",
    "for cnt, xx in enumerate(X):\n",
    "    w = som.winner(xx)  # getting the winner\n",
    "    # place a marker on the winning position for the sample xx\n",
    "    plt.plot(w[0], w[1], 'o', markerfacecolor='None',markeredgecolor='r', markersize=5, markeredgewidth=2)\n",
    "\n",
    "plt.show()\n",
    "\n"
   ]
  },
  {
   "cell_type": "code",
   "execution_count": null,
   "id": "0f56b831-a193-4014-ac5d-317ef8f240c7",
   "metadata": {},
   "outputs": [],
   "source": [
    "plt.figure(figsize=(14, 12))\n",
    "frequencies = som.activation_response(X)\n",
    "plt.pcolor(frequencies.T, cmap='Blues') \n",
    "plt.colorbar()\n",
    "plt.show()\n"
   ]
  },
  {
   "cell_type": "code",
   "execution_count": null,
   "id": "7e8bdc20-72ff-47c1-a96b-fac60e880273",
   "metadata": {},
   "outputs": [],
   "source": [
    "som = MiniSom(n_neurons, m_neurons, X.shape[1], sigma=7, learning_rate=.5,\n",
    "              neighborhood_function='gaussian', random_seed=10)\n",
    "\n",
    "max_iter = 1000\n",
    "q_error = []\n",
    "t_error = []\n",
    "\n",
    "for i in range(max_iter):\n",
    "    rand_i = np.random.randint(len(X))\n",
    "    som.update(X[rand_i], som.winner(X[rand_i]), i, max_iter)\n",
    "    q_error.append(som.quantization_error(X))\n",
    "    t_error.append(som.topographic_error(X))\n",
    "\n",
    "plt.figure(figsize=(12,8))\n",
    "plt.plot(np.arange(max_iter), q_error, label='quantization error')\n",
    "plt.plot(np.arange(max_iter), t_error, label='topographic error')\n",
    "plt.ylabel('error')\n",
    "plt.xlabel('iteration index')\n",
    "plt.legend()\n",
    "plt.show()\n"
   ]
  },
  {
   "cell_type": "code",
   "execution_count": null,
   "id": "ebc8eef5-0a94-46a7-bb48-536366856368",
   "metadata": {},
   "outputs": [],
   "source": []
  }
 ],
 "metadata": {
  "kernelspec": {
   "display_name": "Python 3 (ipykernel)",
   "language": "python",
   "name": "python3"
  },
  "language_info": {
   "codemirror_mode": {
    "name": "ipython",
    "version": 3
   },
   "file_extension": ".py",
   "mimetype": "text/x-python",
   "name": "python",
   "nbconvert_exporter": "python",
   "pygments_lexer": "ipython3",
   "version": "3.9.15"
  }
 },
 "nbformat": 4,
 "nbformat_minor": 5
}
