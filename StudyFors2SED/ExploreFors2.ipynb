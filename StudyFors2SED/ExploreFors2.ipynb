{
 "cells": [
  {
   "cell_type": "markdown",
   "id": "316c4ba5",
   "metadata": {},
   "source": [
    "# View Fors2 \n",
    "\n",
    "- **Part 1**\n",
    "- author : Sylvie Dagoret-Campagne\n",
    "- affiliation : IJCLab/IN2P3/CNRS\n",
    "- creation date : 2022/12/19\n",
    "- update : 2022/12/20\n",
    "- last update : 2023-01-04\n",
    "- FORS2 : https://github.com/ericnuss/fors2\n",
    "- Result of StarLight : /sps/lsst/groups/photoz/fors2/FORS2/ResStarlight\n",
    "\n",
    "\n",
    "\n",
    "          /Users/dagoret/MacOSX/GitHub/LSST/FORS2>ls -l\n",
    "              total 0\n",
    "              drwxrwsr-x  3 dagoret  staff   96 Aug 21  2018 ResStarlight\n",
    "              drwxr-xr-x  9 dagoret  staff  288 Dec 19 18:01 fors2"
   ]
  },
  {
   "cell_type": "markdown",
   "id": "c7d7e344",
   "metadata": {},
   "source": [
    "## Import"
   ]
  },
  {
   "cell_type": "code",
   "execution_count": null,
   "id": "e485fec8",
   "metadata": {},
   "outputs": [],
   "source": [
    "import os,sys\n",
    "from astropy.io import fits\n",
    "from astropy.table import Table"
   ]
  },
  {
   "cell_type": "code",
   "execution_count": null,
   "id": "b271dcb5",
   "metadata": {},
   "outputs": [],
   "source": [
    "# Import some generally useful packages\n",
    "\n",
    "import os\n",
    "import numpy as np\n",
    "import matplotlib.pyplot as plt\n",
    "import matplotlib.colors as colors\n",
    "import matplotlib.cm as cmx\n",
    "\n",
    "from matplotlib.backends.backend_pdf import PdfPages\n",
    "\n",
    "%matplotlib inline\n",
    "import pandas as pd\n",
    "from itertools import cycle, islice\n"
   ]
  },
  {
   "cell_type": "code",
   "execution_count": null,
   "id": "f6689d40-c574-471c-b9d6-996002aa4e76",
   "metadata": {},
   "outputs": [],
   "source": [
    "from scipy import ndimage\n",
    "\n",
    "#from scipy import interp as scinterp\n",
    "from scipy.interpolate import interp1d\n",
    "\n",
    "import glob\n",
    "import collections\n",
    "#from def_raw_seds import *"
   ]
  },
  {
   "cell_type": "code",
   "execution_count": null,
   "id": "413f1e89",
   "metadata": {},
   "outputs": [],
   "source": [
    "# to enlarge the sizes\n",
    "params = {'legend.fontsize': 'large',\n",
    "          'figure.figsize': (8, 4),\n",
    "         'axes.labelsize': 'xx-large',\n",
    "         'axes.titlesize':'xx-large',\n",
    "         'xtick.labelsize':'xx-large',\n",
    "         'ytick.labelsize':'xx-large'}\n",
    "plt.rcParams.update(params)\n"
   ]
  },
  {
   "cell_type": "code",
   "execution_count": null,
   "id": "c1e22fcc",
   "metadata": {},
   "outputs": [],
   "source": [
    "import matplotlib.offsetbox\n",
    "props = dict(boxstyle='round',edgecolor=\"w\",facecolor=\"w\", alpha=0.5)\n"
   ]
  },
  {
   "cell_type": "code",
   "execution_count": null,
   "id": "7ce825ef",
   "metadata": {},
   "outputs": [],
   "source": [
    "# Import the primary photometry classes from rubin_sim.photUtils\n",
    "\n",
    "import rubin_sim.photUtils.Bandpass as Bandpass\n",
    "import rubin_sim.photUtils.Sed as Sed\n",
    "from rubin_sim.data import get_data_dir"
   ]
  },
  {
   "cell_type": "code",
   "execution_count": null,
   "id": "a20e3234",
   "metadata": {},
   "outputs": [],
   "source": [
    "pysynphot_root_path=os.environ['PYSYN_CDBS']\n",
    "path_sed_calspec=os.path.join(pysynphot_root_path,'calspec')\n",
    "# pysynphot\n",
    "import pysynphot as S\n",
    "S.refs.setref(area=1)\n",
    "S.refs.getref()"
   ]
  },
  {
   "cell_type": "markdown",
   "id": "ee6c4306-0354-4420-abb4-7c0b61b172aa",
   "metadata": {},
   "source": [
    "# Start"
   ]
  },
  {
   "cell_type": "code",
   "execution_count": null,
   "id": "593afc7d-0c17-46b1-bbfc-f52aa7ced044",
   "metadata": {},
   "outputs": [],
   "source": [
    "cwd=os.path.abspath(\"\")\n",
    "main_dir = cwd\n",
    "print(f\"notebook current executing path : {cwd}\")"
   ]
  },
  {
   "cell_type": "markdown",
   "id": "a4d93f7b",
   "metadata": {},
   "source": [
    "## Configuration"
   ]
  },
  {
   "cell_type": "code",
   "execution_count": null,
   "id": "d060f9b8-e141-4942-8316-8787cd5d28c4",
   "metadata": {},
   "outputs": [],
   "source": [
    "l0=['SPEC2','SPEC3','SPEC9','SPEC13','SPEC19','SPEC24','SPEC25','SPEC30','SPEC31','SPEC32','SPEC33','SPEC34','SPEC35','SPEC36','SPEC37','SPEC45','SPEC47','SPEC49','SPEC51','SPEC55','SPEC57','SPEC58','SPEC59','SPEC61','SPEC62','SPEC66','SPEC67','SPEC68','SPEC69','SPEC70','SPEC71','SPEC72','SPEC73','SPEC77','SPEC79','SPEC80','SPEC83','SPEC84','SPEC85','SPEC86','SPEC87','SPEC89','SPEC91','SPEC93','SPEC96','SPEC97']\n",
    "l1=['SPEC102','SPEC106','SPEC107','SPEC109','SPEC110','SPEC111','SPEC112','SPEC113','SPEC114','SPEC115','SPEC117','SPEC118','SPEC120','SPEC121','SPEC123','SPEC127','SPEC128','SPEC132','SPEC134','SPEC135','SPEC137','SPEC138','SPEC141','SPEC149','SPEC151','SPEC152','SPEC156','SPEC160','SPEC161','SPEC164','SPEC171','SPEC178','SPEC179','SPEC181','SPEC182','SPEC184','SPEC185','SPEC186','SPEC187','SPEC188','SPEC189','SPEC191','SPEC192','SPEC193','SPEC194','SPEC196','SPEC197','SPEC198']\n",
    "l2=['SPEC204','SPEC205','SPEC210','SPEC214','SPEC218','SPEC221','SPEC222','SPEC223','SPEC226','SPEC227','SPEC231','SPEC233','SPEC234','SPEC235','SPEC236','SPEC237','SPEC238','SPEC240','SPEC242','SPEC243','SPEC244','SPEC245','SPEC246','SPEC248','SPEC249','SPEC250','SPEC252','SPEC253','SPEC258','SPEC259','SPEC260','SPEC261','SPEC262','SPEC264','SPEC265','SPEC266','SPEC267','SPEC268','SPEC271','SPEC274','SPEC275','SPEC276','SPEC277','SPEC278','SPEC279','SPEC280','SPEC281','SPEC282','SPEC283','SPEC287','SPEC288','SPEC291','SPEC292','SPEC294','SPEC295','SPEC296','SPEC297','SPEC298']\n",
    "l3=['SPEC301','SPEC302','SPEC303','SPEC305','SPEC306','SPEC307','SPEC308','SPEC309','SPEC313','SPEC315','SPEC317','SPEC318','SPEC319','SPEC321','SPEC322','SPEC323','SPEC324','SPEC325','SPEC326','SPEC327','SPEC328','SPEC329','SPEC331','SPEC332','SPEC333','SPEC334','SPEC335','SPEC336','SPEC337','SPEC338','SPEC339','SPEC340','SPEC341','SPEC343','SPEC344','SPEC345','SPEC348','SPEC349','SPEC350','SPEC351','SPEC352','SPEC353','SPEC354','SPEC355','SPEC357','SPEC358','SPEC359','SPEC360','SPEC361','SPEC362','SPEC363','SPEC364','SPEC365','SPEC366','SPEC367','SPEC368','SPEC369','SPEC370','SPEC371','SPEC372','SPEC373','SPEC374','SPEC375','SPEC376','SPEC377','SPEC378','SPEC379','SPEC380','SPEC381','SPEC382','SPEC383','SPEC384','SPEC385','SPEC386','SPEC387','SPEC388','SPEC389','SPEC390','SPEC391','SPEC392','SPEC393','SPEC394','SPEC395','SPEC396','SPEC397','SPEC398','SPEC399']\n",
    "l4=['SPEC400','SPEC401','SPEC402','SPEC403','SPEC404','SPEC405','SPEC406','SPEC407','SPEC408','SPEC409','SPEC410','SPEC411','SPEC412','SPEC413','SPEC414','SPEC415','SPEC416','SPEC417','SPEC418','SPEC419','SPEC420','SPEC421','SPEC422','SPEC423','SPEC424','SPEC425','SPEC426','SPEC427','SPEC428','SPEC429','SPEC430','SPEC431','SPEC434','SPEC435','SPEC436','SPEC437','SPEC438','SPEC439','SPEC440','SPEC441','SPEC442','SPEC443','SPEC444','SPEC445','SPEC446','SPEC447','SPEC448','SPEC449','SPEC450','SPEC451','SPEC452','SPEC453','SPEC454','SPEC455','SPEC456','SPEC457','SPEC458','SPEC459','SPEC460','SPEC461','SPEC462','SPEC463','SPEC464','SPEC465','SPEC466','SPEC467','SPEC468','SPEC469','SPEC470','SPEC471','SPEC472','SPEC474','SPEC475','SPEC477','SPEC478','SPEC479','SPEC480','SPEC481','SPEC482','SPEC483','SPEC488','SPEC490','SPEC492','SPEC493','SPEC494','SPEC496','SPEC497','SPEC499']\n",
    "l5=['SPEC500','SPEC501','SPEC503','SPEC504','SPEC505','SPEC506','SPEC507','SPEC508','SPEC509','SPEC510','SPEC511','SPEC512','SPEC513','SPEC516','SPEC517','SPEC519','SPEC520','SPEC523','SPEC524','SPEC525','SPEC526','SPEC527','SPEC528','SPEC529','SPEC530','SPEC531','SPEC532','SPEC533','SPEC535','SPEC536','SPEC537','SPEC539','SPEC540','SPEC541','SPEC542','SPEC543','SPEC544','SPEC545','SPEC546','SPEC547','SPEC548','SPEC549','SPEC550','SPEC551','SPEC552','SPEC553','SPEC554','SPEC556','SPEC557','SPEC558','SPEC559','SPEC560','SPEC562','SPEC563','SPEC564','SPEC565','SPEC566','SPEC567','SPEC568','SPEC569','SPEC570','SPEC571','SPEC572','SPEC573','SPEC574','SPEC575','SPEC576','SPEC577','SPEC578','SPEC579','SPEC580','SPEC582','SPEC583','SPEC584','SPEC585','SPEC586','SPEC587','SPEC588','SPEC589','SPEC590','SPEC593','SPEC594','SPEC595','SPEC596','SPEC597','SPEC598','SPEC599']\n",
    "l6=['SPEC600','SPEC601','SPEC602','SPEC603','SPEC604','SPEC605','SPEC606','SPEC608','SPEC609','SPEC610','SPEC611','SPEC612','SPEC613','SPEC617','SPEC618','SPEC620','SPEC621','SPEC622','SPEC623','SPEC624','SPEC625','SPEC626','SPEC627','SPEC628','SPEC629','SPEC630','SPEC631','SPEC633','SPEC634','SPEC635','SPEC636','SPEC637','SPEC638','SPEC639','SPEC640','SPEC641','SPEC642','SPEC643','SPEC644','SPEC645','SPEC646','SPEC647','SPEC648','SPEC649','SPEC650','SPEC651','SPEC652','SPEC653','SPEC654','SPEC655','SPEC656','SPEC657','SPEC658','SPEC660','SPEC661','SPEC662','SPEC663','SPEC664','SPEC667','SPEC668','SPEC669','SPEC670','SPEC671','SPEC672','SPEC673','SPEC674','SPEC675','SPEC676','SPEC677','SPEC678','SPEC679','SPEC680','SPEC681','SPEC682','SPEC683','SPEC684','SPEC685','SPEC686','SPEC687','SPEC689','SPEC690','SPEC691','SPEC692','SPEC693','SPEC694','SPEC695','SPEC696','SPEC697','SPEC698']\n",
    "l7=['SPEC700','SPEC701','SPEC702','SPEC703','SPEC704','SPEC705','SPEC706','SPEC707','SPEC708','SPEC710','SPEC711','SPEC713','SPEC714','SPEC715','SPEC716','SPEC717','SPEC718','SPEC719','SPEC720','SPEC721','SPEC722','SPEC723','SPEC724','SPEC725','SPEC726','SPEC727','SPEC728','SPEC729','SPEC730','SPEC731','SPEC732','SPEC733','SPEC734','SPEC735','SPEC736','SPEC737','SPEC738']"
   ]
  },
  {
   "cell_type": "code",
   "execution_count": null,
   "id": "19a04398-e869-45ad-ae3d-87e351b9f18b",
   "metadata": {},
   "outputs": [],
   "source": [
    "fors2_lst_full=l0+l1+l2+l3+l4+l5+l6+l7"
   ]
  },
  {
   "cell_type": "code",
   "execution_count": null,
   "id": "4831a16a-c563-4712-89eb-abe0ae1ba0fa",
   "metadata": {},
   "outputs": [],
   "source": [
    "##########################################################################\n",
    "sel_0 = ['SPEC91', 'SPEC79', 'SPEC9', 'SPEC3', 'SPEC61', 'SPEC62', 'SPEC67', 'SPEC69', 'SPEC68', 'SPEC25', 'SPEC87', 'SPEC86', 'SPEC85', 'SPEC84', 'SPEC83', 'SPEC80', 'SPEC72', 'SPEC70', 'SPEC58', 'SPEC59', 'SPEC55', 'SPEC57', 'SPEC36', 'SPEC37', 'SPEC34', 'SPEC32', 'SPEC33', 'SPEC30', 'SPEC31'] \n",
    "sel_1 =  ['SPEC132', 'SPEC152', 'SPEC137', 'SPEC111', 'SPEC115', 'SPEC192', 'SPEC193', 'SPEC191', 'SPEC178', 'SPEC197', 'SPEC194', 'SPEC151', 'SPEC123', 'SPEC109', 'SPEC107', 'SPEC128', 'SPEC102', 'SPEC184', 'SPEC186', 'SPEC181', 'SPEC182', 'SPEC141', 'SPEC161', 'SPEC160'] \n",
    "sel_2 = ['SPEC271', 'SPEC277', 'SPEC278', 'SPEC253', 'SPEC252', 'SPEC218', 'SPEC238', 'SPEC210', 'SPEC235', 'SPEC234', 'SPEC233', 'SPEC214', 'SPEC231', 'SPEC291', 'SPEC292', 'SPEC294', 'SPEC297', 'SPEC296', 'SPEC260', 'SPEC248', 'SPEC205', 'SPEC264', 'SPEC265', 'SPEC267', 'SPEC242', 'SPEC243', 'SPEC246', 'SPEC244', 'SPEC245', 'SPEC227', 'SPEC221', 'SPEC222', 'SPEC223', 'SPEC282', 'SPEC280', 'SPEC281'] \n",
    "sel_3 =  ['SPEC351', 'SPEC379', 'SPEC372', 'SPEC376', 'SPEC375', 'SPEC315', 'SPEC394', 'SPEC396', 'SPEC391', 'SPEC393', 'SPEC398', 'SPEC343', 'SPEC344', 'SPEC364', 'SPEC348', 'SPEC363', 'SPEC321', 'SPEC306', 'SPEC325', 'SPEC301', 'SPEC387', 'SPEC386', 'SPEC385', 'SPEC384', 'SPEC383', 'SPEC382', 'SPEC381', 'SPEC380', 'SPEC388'] \n",
    "sel_4 =  ['SPEC471', 'SPEC447', 'SPEC441', 'SPEC442', 'SPEC488', 'SPEC480', 'SPEC461', 'SPEC412', 'SPEC410', 'SPEC438', 'SPEC415', 'SPEC414', 'SPEC419', 'SPEC436', 'SPEC478', 'SPEC457', 'SPEC475', 'SPEC455', 'SPEC454', 'SPEC453', 'SPEC452', 'SPEC474', 'SPEC499', 'SPEC493', 'SPEC496', 'SPEC494', 'SPEC418', 'SPEC466', 'SPEC468', 'SPEC402', 'SPEC463', 'SPEC460', 'SPEC407', 'SPEC409', 'SPEC421', 'SPEC424', 'SPEC469'] \n",
    "sel_5 = ['SPEC509', 'SPEC501', 'SPEC500', 'SPEC525', 'SPEC524', 'SPEC505', 'SPEC504', 'SPEC506', 'SPEC580', 'SPEC583', 'SPEC585', 'SPEC584', 'SPEC520', 'SPEC570', 'SPEC517', 'SPEC527', 'SPEC516', 'SPEC571', 'SPEC572', 'SPEC573', 'SPEC512', 'SPEC513', 'SPEC576', 'SPEC511', 'SPEC579', 'SPEC575', 'SPEC539', 'SPEC523', 'SPEC526', 'SPEC532', 'SPEC533', 'SPEC596', 'SPEC595', 'SPEC546', 'SPEC559', 'SPEC560', 'SPEC567', 'SPEC545', 'SPEC544', 'SPEC568', 'SPEC540', 'SPEC542'] \n",
    "sel_6 = ['SPEC602', 'SPEC603', 'SPEC601', 'SPEC606', 'SPEC605', 'SPEC664', 'SPEC667', 'SPEC662', 'SPEC647', 'SPEC645', 'SPEC642', 'SPEC643', 'SPEC625', 'SPEC698', 'SPEC695', 'SPEC696', 'SPEC690', 'SPEC693', 'SPEC617', 'SPEC610', 'SPEC618', 'SPEC650', 'SPEC653', 'SPEC638', 'SPEC655', 'SPEC671', 'SPEC630', 'SPEC636', 'SPEC635', 'SPEC678', 'SPEC674', 'SPEC673', 'SPEC681', 'SPEC686'] \n",
    "sel_7 = ['SPEC732', 'SPEC733', 'SPEC731', 'SPEC737', 'SPEC734', 'SPEC722', 'SPEC738', 'SPEC735', 'SPEC729', 'SPEC728', 'SPEC725', 'SPEC718', 'SPEC726', 'SPEC716', 'SPEC701', 'SPEC700', 'SPEC706', 'SPEC705', 'SPEC717']"
   ]
  },
  {
   "cell_type": "code",
   "execution_count": null,
   "id": "5d244549-ed4b-4b4d-a84e-5fe33f274571",
   "metadata": {},
   "outputs": [],
   "source": [
    "#fors2_raw_lst_test= sel_1+sel_2+sel_3+sel_4+sel_5+sel_6+sel_7\n",
    "fors2_raw_lst_test= l0"
   ]
  },
  {
   "cell_type": "code",
   "execution_count": null,
   "id": "02e06025-8259-413c-a511-348871d81ff4",
   "metadata": {},
   "outputs": [],
   "source": [
    "final_cleaned_list =  ['SPEC509', 'SPEC726', 'SPEC223', 'SPEC605', 'SPEC501', 'SPEC526', 'SPEC524', 'SPEC376', 'SPEC728', 'SPEC442', 'SPEC488', 'SPEC218', 'SPEC583', 'SPEC191', 'SPEC178', 'SPEC480', 'SPEC700', 'SPEC643', 'SPEC610', 'SPEC297', 'SPEC517', 'SPEC160', 'SPEC722', 'SPEC527', 'SPEC516', 'SPEC571', 'SPEC560', 'SPEC512', 'SPEC575', 'SPEC576', 'SPEC414', 'SPEC695', 'SPEC419', 'SPEC418', 'SPEC690', 'SPEC717', 'SPEC513', 'SPEC733', 'SPEC109', 'SPEC737', 'SPEC267', 'SPEC242', 'SPEC523', 'SPEC455', 'SPEC511', 'SPEC453', 'SPEC474', 'SPEC494', 'SPEC504', 'SPEC184', 'SPEC653', 'SPEC638', 'SPEC655', 'SPEC363', 'SPEC493', 'SPEC630', 'SPEC222', 'SPEC678', 'SPEC385', 'SPEC382', 'SPEC539', 'SPEC282', 'SPEC280', 'SPEC667', 'SPEC567', 'SPEC693', 'SPEC460', 'SPEC461', 'SPEC540', 'SPEC468', 'SPEC542']"
   ]
  },
  {
   "cell_type": "code",
   "execution_count": null,
   "id": "2bbc8b5c-31f5-4db3-a304-6ab4d43e731a",
   "metadata": {},
   "outputs": [],
   "source": [
    "#fors2_raw_lst_full=final_cleaned_list\n",
    "fors2_raw_lst_full=fors2_raw_lst_test"
   ]
  },
  {
   "cell_type": "code",
   "execution_count": null,
   "id": "74fc1c06-7721-4fec-ab46-d4f423869936",
   "metadata": {},
   "outputs": [],
   "source": [
    "red    =  ['SPEC509', 'SPEC605', 'SPEC501', 'SPEC526', 'SPEC524', 'SPEC376', 'SPEC504', 'SPEC488', 'SPEC218', 'SPEC583', 'SPEC667', 'SPEC700', 'SPEC517', 'SPEC576', 'SPEC511', 'SPEC695', 'SPEC223', 'SPEC453', 'SPEC493', 'SPEC222', 'SPEC494', 'SPEC282', 'SPEC560']\n",
    "medium =  ['SPEC726', 'SPEC527', 'SPEC523', 'SPEC728', 'SPEC442', 'SPEC178', 'SPEC539', 'SPEC516', 'SPEC571', 'SPEC512', 'SPEC575', 'SPEC418', 'SPEC690', 'SPEC513', 'SPEC737', 'SPEC242', 'SPEC455', 'SPEC474', 'SPEC638', 'SPEC655', 'SPEC382', 'SPEC567', 'SPEC460', 'SPEC542']\n",
    "blue   =   ['SPEC722', 'SPEC191', 'SPEC480', 'SPEC643', 'SPEC297', 'SPEC160', 'SPEC414', 'SPEC419', 'SPEC717', 'SPEC693', 'SPEC733', 'SPEC109', 'SPEC610', 'SPEC267', 'SPEC363', 'SPEC184', 'SPEC653', 'SPEC630', 'SPEC678', 'SPEC385', 'SPEC280', 'SPEC461', 'SPEC540', 'SPEC468']"
   ]
  },
  {
   "cell_type": "code",
   "execution_count": null,
   "id": "a18cb3a6-77de-438d-8a08-0d91e7bfe8da",
   "metadata": {},
   "outputs": [],
   "source": [
    "filename_fits_catalog='/Users/dagoret/MacOSX/GitHub/LSST/FORS2/fors2/data/fors2_catalogue.fits'\n",
    "path_raw_jct='/Users/dagoret/MacOSX/GitHub/LSST/FORS2/fors2/seds/'\n",
    "cat = fits.open(filename_fits_catalog)[1]\n",
    "sl_path='/Users/dagoret/MacOSX/GitHub/LSST/PhotoZ_PhD/StudyFors2SED/sl04/'\n",
    "#sl_path='/home/enuss/00_labo/lsst/photoz/sl04/'\n",
    "#path_ana='/home/enuss/00_labo/lsst/photoz/edmond_fors2/'\n",
    "path_ana=\"/Users/dagoret/MacOSX/GitHub/LSST/PhotoZ_PhD/StudyFors2SED\"\n",
    "#path_out_jct='/home/enuss/00_labo/lsst/photoz/edmond_fors2/dataset_edmond/raw_SEDs/jct_redshifted/' #jct raw dat in SL format\n",
    "path_out_jct='/Users/dagoret/MacOSX/GitHub/LSST/PhotoZ_PhD/StudyFors2SED/fors2out/seds/'"
   ]
  },
  {
   "cell_type": "code",
   "execution_count": null,
   "id": "8a1550ba-3d57-4b85-92ac-ae19d1f03e60",
   "metadata": {},
   "outputs": [],
   "source": [
    "os.environ[\"EXT_LAW\"] = 'HZ4' #prevot\n",
    "#os.environ['ANA_TYPE'] = 'fors2_raw'\n",
    "os.environ['ANA_TYPE'] = 'ResStarlight'\n",
    "os.environ['RUN_TYPE'] = 'full'\n",
    "os.environ['BASE_TAG'] = 'BC03N' #45  stars\n",
    "os.environ['PLOT_TYPE'] = ''\n",
    "os.environ['CONFIG_TAG'] = 'conf1'"
   ]
  },
  {
   "cell_type": "code",
   "execution_count": null,
   "id": "b9b20f6f-774d-4eb8-bb74-14aca1d7ea5e",
   "metadata": {},
   "outputs": [],
   "source": [
    "ext        =os.environ['EXT_LAW']\n",
    "ana_type   =os.environ['ANA_TYPE']\n",
    "run_type   =os.environ['RUN_TYPE']\n",
    "base_tag   =os.environ['BASE_TAG']\n",
    "plot_type  =os.environ['PLOT_TYPE']\n",
    "config_tag=os.environ['CONFIG_TAG']"
   ]
  },
  {
   "cell_type": "code",
   "execution_count": null,
   "id": "dd6c1c94-6789-4675-ad55-ceed490b55c5",
   "metadata": {},
   "outputs": [],
   "source": [
    "sl_path = \"/Users/dagoret/MacOSX/GitHub/LSST/FORS2\"\n",
    "#ana_path=sl_path+'ext/'+ana_type+'/'+base_tag+'/'+config_tag+'/'+ext+'/'\n",
    "ana_path=sl_path+'/'+ana_type+'/'+base_tag+'/'+config_tag+'/'+ext+'/'\n",
    "ext_path=ana_path+'/extended_spectra/'\n",
    "path_brown=\"/home/enuss/00_labo/lsst/photoZ/brown_atlas/123/\"\n",
    "path_brown_data=path_brown+'605/'\n",
    "ext='_'+ext\n",
    "  \n",
    "path_SL           =ana_path+'output_sl/'\n",
    "\n",
    "\n",
    "path_rebuild_BC   =ana_path       +'output_rebuild_BC/'\n",
    "path_BC           =path_rebuild_BC+'full_spectra/'          #BC spectra without extinction\n",
    "path_BC_ext       =path_rebuild_BC+'full_spectra_ext/'      #BC spectra with extinction\n",
    "path_BC_pop_sp    =path_rebuild_BC+'population_spectra/'    #BC individual spectra without extinction\n",
    "path_BC_pop_sp_ext=path_rebuild_BC+'population_spectra_ext/'#BC individual spectra with extinction\n",
    "path_extinction_models='/home/enuss/00_labo/lsst/photoz/lephare/lephare_dev/ext/'"
   ]
  },
  {
   "cell_type": "code",
   "execution_count": null,
   "id": "dfe1d735-66e5-4244-bb09-e31812edaa92",
   "metadata": {},
   "outputs": [],
   "source": [
    "col1=['b-' ,'g-' ,'r-' ,'c-' ,'m-' ,'y-' ,'k-']\n",
    "pdf_pages = PdfPages('all_plots.pdf')\n",
    "norm=1.E-14"
   ]
  },
  {
   "cell_type": "markdown",
   "id": "5daf9f44-c767-4427-911f-bd142a162c96",
   "metadata": {},
   "source": [
    "### Classes"
   ]
  },
  {
   "cell_type": "code",
   "execution_count": null,
   "id": "4f138061-3bbd-488d-8a21-e6124426ef4b",
   "metadata": {},
   "outputs": [],
   "source": [
    "class sl_out(object):\n",
    "  def __init__(self,id,label=\"\"):\n",
    "      file_in =path_SL+'SPEC'+id+ext+'.txt'\n",
    "      ll=open(file_in).readlines()\n",
    "      # utiles pour les calculs d'extinction :\n",
    "      l=ll[14].lstrip()\n",
    "      q_norm=float(l.split(' ')[0])\n",
    "      l=ll[22].lstrip()\n",
    "      l_norm=float(l.split(' ')[0])\n",
    "      l=ll[59].lstrip()\n",
    "      AV_min=float(l.split(' ')[0])\n",
    "      l=ll[25].lstrip()\n",
    "      fobs_norm=float(l.split(' ')[0])\n",
    "      A_l_norm=AV_min*q_norm\n",
    "      l=ll[49].lstrip()\n",
    "      chi2=float(l.split(' ')[0])\n",
    "      l=ll[50].lstrip()\n",
    "      adev=float(l.split(' ')[0])\n",
    "\n",
    "      start=63\n",
    "      if (base_tag=='BC03N'):\n",
    "        n_star_bc=45 #number of BC stars for Base.BC03.N\n",
    "      elif (base_tag=='BC03S'):\n",
    "          n_star_bc=150 #number of BC stars for Base.BC03.S\n",
    "      elif (base_tag=='JM'):\n",
    "          n_star_bc=114 #for JM_Base.BC03.Vbmm :\n",
    "          # construction de la liste des infos utiles pour reconstruire les spectres BC :\n",
    "      vec_id  =[]\n",
    "      vec_frac=[]\n",
    "      vec_log_ages =[]\n",
    "      vec_log_lum_mass =[]\n",
    "      vec_metalicity =[]\n",
    "      for j in range(start,start+n_star_bc) : #loop over basedir lines in starlight output file\n",
    "          l=ll[j].lstrip()\n",
    "          l2=l.split(' ')\n",
    "          l3=[x for x in l2 if x != '']\n",
    "          l4=[x.replace('\\n','') for x in l3]\n",
    "          frac=float(l4[1])\n",
    "          age =float(l4[4])\n",
    "          metalicity =float(l4[5])\n",
    "          lum_mass   =float(l4[6])\n",
    "          if (frac>(1.e-12)):\n",
    "              vec_id  =np.append(vec_id,j+1-start)\n",
    "              vec_frac=np.append(vec_frac,frac)\n",
    "              vec_log_ages =np.append(vec_log_ages ,np.log10(age))\n",
    "              vec_log_lum_mass =np.append(vec_log_lum_mass ,np.log10(lum_mass))\n",
    "              vec_metalicity =np.append(vec_metalicity ,metalicity)\n",
    "      moy_log_ages=sum(np.array(vec_frac)*np.array(vec_log_ages))/sum(vec_frac)\n",
    "      moy_metalicity=sum(np.array(vec_frac)*np.array(vec_metalicity))/sum(vec_frac)\n",
    "\n",
    "      self.q_norm=q_norm\n",
    "      self.l_norm=l_norm\n",
    "      self.AV_min=AV_min\n",
    "      self.fobs_norm=fobs_norm\n",
    "      self.A_l_norm=A_l_norm\n",
    "      self.chi2=chi2\n",
    "      self.adev=adev\n",
    "      self.moy_log_ages=moy_log_ages\n",
    "      self.moy_metalicity=moy_metalicity\n",
    "      self.vec_id=vec_id\n",
    "      self.vec_frac=vec_frac\n",
    "      self.vec_log_ages=vec_log_ages\n",
    "      self.vec_log_lum_mass=vec_log_lum_mass\n",
    "      self.vec_metalicity=vec_metalicity"
   ]
  },
  {
   "cell_type": "code",
   "execution_count": null,
   "id": "8143fe12-bde2-4bb1-abee-3721fcb8804e",
   "metadata": {},
   "outputs": [],
   "source": [
    "class SED_jct(object):\n",
    "    \"\"\"\n",
    "    Extract infos from catalogs and wavelength/flux from SPEC files tables (SPECXXn.txt)\n",
    "    \"\"\"\n",
    "    def __init__(self,id,label=\"\"):\n",
    "        z,lines,ra,dec=get_catalog_info(id,cat)\n",
    "        filename=path_raw_jct+'SPEC'+str(id)+'n.txt'\n",
    "        self.d=np.loadtxt(filename, unpack=True)\n",
    "        if (float(z)!=-1) :\n",
    "            self.wave_tmp=self.d[0]/(1.+z)\n",
    "        else:\n",
    "            self.wave_tmp=self.d[0]*0.\n",
    "        self.flux_tmp=self.d[1]\n",
    "        self.mask=self.d[2]\n",
    "        id_mask=np.where(self.mask==0)\n",
    "        self.wave=self.wave_tmp[id_mask]\n",
    "        self.flux=self.flux_tmp[id_mask]      \n",
    "        self.label=label\n",
    "        self.z=z\n",
    "        self.lines=lines\n",
    "        self.ra=ra\n",
    "        self.dec=dec\n",
    "        \n",
    "    def get_scale(self,bounds=(4150,4250)):\n",
    "        start=np.searchsorted(self.wave,bounds[0])\n",
    "        stop=np.searchsorted(self.wave,bounds[1])\n",
    "        return self.flux[start:stop].mean()"
   ]
  },
  {
   "cell_type": "code",
   "execution_count": null,
   "id": "522ba1b5-4c22-48d2-b5a6-41da6e63d1c1",
   "metadata": {},
   "outputs": [],
   "source": [
    "class SED(object): #input SED to SL\n",
    "  def __init__(self,filename,label=\"\"):\n",
    "      self.d=np.loadtxt(filename)\n",
    "      self.wave=self.d[:,0]\n",
    "      self.flux=self.d[:,1]\n",
    "      self.label=label\n",
    "  def smooth(self,size=3):\n",
    "      return ndimage.filters.gaussian_filter1d(self.flux,size)\n",
    "  def rescale(self,value):\n",
    "      self.flux*=value\n",
    "  def get_scale(self,bounds=(4150,4250)):\n",
    "      start=np.searchsorted(self.wave,bounds[0])\n",
    "      stop =np.searchsorted(self.wave,bounds[1])\n",
    "      return self.flux[start:stop].mean()"
   ]
  },
  {
   "cell_type": "code",
   "execution_count": null,
   "id": "ac079461-9421-4cb7-b52f-9530e56b43c3",
   "metadata": {},
   "outputs": [],
   "source": [
    "class SED_eg(object):\n",
    "  def __init__(self,filename,label=\"\"):\n",
    "      self.d=np.loadtxt(filename)\n",
    "      self.wave=self.d[:,0]\n",
    "      self.flux=self.d[:,2]\n",
    "      self.label=label\n",
    "  def smooth(self,size=3):\n",
    "      return ndimage.filters.gaussian_filter1d(self.flux,size)\n",
    "  def rescale(self,value):\n",
    "      self.flux*=value\n",
    "  def get_scale(self,bounds=(4150,4250)):\n",
    "      start=np.searchsorted(self.wave,bounds[0])\n",
    "      stop=np.searchsorted(self.wave,bounds[1])      \n",
    "      return self.flux[start:stop].mean()\n",
    "      "
   ]
  },
  {
   "cell_type": "code",
   "execution_count": null,
   "id": "4abd562a-7533-4ac2-9c3b-b87f307ce8d1",
   "metadata": {},
   "outputs": [],
   "source": [
    "def get_catalog_info(spec, cat):\n",
    "    try:\n",
    "        spec = int(spec)\n",
    "    except:\n",
    "        z=-1\n",
    "        lines='redshift unknown'\n",
    "    if spec in cat.data['ID']:\n",
    "        catid=(cat.data['ID']==spec)\n",
    "        z=cat.data[catid]['z'][0]\n",
    "        lines=cat.data[catid]['Lines'][0]\n",
    "        ra =cat.data[catid]['RAJ2000'][0]\n",
    "        dec=cat.data[catid]['DEJ2000'][0]\n",
    "    else:\n",
    "         z=-1\n",
    "         lines='not in catalog'\n",
    "         ra=0.\n",
    "         dec=0.\n",
    "    return z,lines,ra,dec"
   ]
  },
  {
   "cell_type": "code",
   "execution_count": null,
   "id": "e3c6f994-c1c6-477f-81e2-7e3dc77c08ec",
   "metadata": {},
   "outputs": [],
   "source": [
    "def file2list(filename,cmt=\"#\"):\n",
    "    ll=open(filename).readlines()\n",
    "    res=[]\n",
    "    for i,l in enumerate(ll):\n",
    "        if l[0]!='#':\n",
    "            res.append(l.strip(\"\\n\"))\n",
    "    return res"
   ]
  },
  {
   "cell_type": "code",
   "execution_count": null,
   "id": "452454ec-a12a-4967-923d-57dd6b40fce8",
   "metadata": {},
   "outputs": [],
   "source": [
    "#noramlization for SL spectra:\n",
    "delta=500.\n",
    "b1=4150. #lower  bound for normalization\n",
    "b2=4250. #higher bound for normalization\n",
    "\n",
    "low_b =1500. #lower  bound for SL plot\n",
    "high_b=8000. #higher bound for SL plot"
   ]
  },
  {
   "cell_type": "code",
   "execution_count": null,
   "id": "212262da-f9bf-43ca-9f3a-314d73c8990a",
   "metadata": {},
   "outputs": [],
   "source": [
    "\n",
    "def plot_fig(x1,y1,col1,lab1,x2,y2,col2,lab2,title):\n",
    "    #fig = plt.figure(figsize=(8.27, 11.69), dpi=100)\n",
    "    fig = plt.figure(figsize=(12,6))\n",
    "    \n",
    "    plt.plot(x1,y1,col1, linewidth = 2,label=lab1)\n",
    "    plt.plot(x2,y2,col2, linewidth = 2,label=lab2)\n",
    "    plt.xlabel(r'$\\lambda$ [$\\AA$]',size=18)\n",
    "    plt.ylabel(r'Flux (arbitrary units)',size=18)\n",
    "    plt.xlim(700,9000)\n",
    "    plt.grid(True)\n",
    "    plt.title(title)\n",
    "    #plt.legend(loc=4); #bas droite\n",
    "    #plt.legend(loc=3); #bas gauche\n",
    "    #plt.legend(loc=2); #haut gauche\n",
    "    plt.legend(loc=1); #haut droit\n",
    "    pdf_pages.savefig(fig)\n",
    "  \n",
    "\n"
   ]
  },
  {
   "cell_type": "code",
   "execution_count": null,
   "id": "1612a0ca-e599-4049-87d5-537b8f7d19c1",
   "metadata": {},
   "outputs": [],
   "source": []
  },
  {
   "cell_type": "code",
   "execution_count": null,
   "id": "7b1f0230-2793-4ea0-b7e8-38e708a372d8",
   "metadata": {},
   "outputs": [],
   "source": [
    "# plot des spectres fors2 raw : :\n",
    "def plot_fors2_raw():\n",
    "    for i in lst:\n",
    "      filename=path_out_jct+i+'.txt'\n",
    "      if (os.path.exists(filename) != True):\n",
    "         print(filename)\n",
    "      #'''\n",
    "      base=os.path.basename(i).split('.')[0]\n",
    "      id=base[4:]\n",
    "      spec_jct=SED_jct(id)\n",
    "\n",
    "      spec=SED(filename)\n",
    "      x=spec.wave\n",
    "      if ((min(x)<3900)and(max(x)>3950)):\n",
    "        y=spec.flux*norm/spec.get_scale(bounds=(3900,3950))\n",
    "        print(('usual normalization',i))\n",
    "      else:\n",
    "        y=spec.flux*norm/abs(spec.get_scale(bounds=(min(x)+100,min(x)+150)))\n",
    "        print(('specific normalization',i))\n",
    "        \n",
    "      #fig = plt.figure(figsize=(8.27, 11.69), dpi=100)\n",
    "      fig = plt.figure(figsize=(12, 6))\n",
    "      plt.semilogy(x,y,'r', linewidth = 2,label=i)\n",
    "      plt.xlabel(r'$\\lambda$ [$\\AA$]',size=18)\n",
    "      plt.ylabel(r'Flux (arbitrary units)',size=18)\n",
    "      plt.ylim(5e-16,9e-14)\n",
    "      if (i=='SPEC346'):\n",
    "         plt.xlim(900,1600) #for SPEC346\n",
    "      else:\n",
    "        plt.xlim(2000,10000)\n",
    "\n",
    "      plt.legend(loc=1);\n",
    "      plt.grid(True)\n",
    "      my_title='z = %.3f '%float(spec_jct.z)+'\\n lines = '+spec_jct.lines\n",
    "      plt.title(my_title)\n",
    "\n",
    "      pdf_pages.savefig(fig)\n",
    "      #'''"
   ]
  },
  {
   "cell_type": "code",
   "execution_count": null,
   "id": "b9a6a926-e97b-4722-93de-a74914a434e2",
   "metadata": {},
   "outputs": [],
   "source": [
    "#-------------------------------------------------------------------------------------------------------\n",
    "# histogramme des z_spec de fors2\n",
    "def hist_zspec():\n",
    "    n_sed=0\n",
    "    z_spec=np.array([[]])\n",
    "    for i in lst:\n",
    "      n_sed=n_sed+1\n",
    "      base=os.path.basename(i).split('.')[0]\n",
    "      #id=base[4:-1]\n",
    "      id=base[4:]\n",
    "      spec=SED_jct(id)\n",
    "      zspec=np.array([spec.z])\n",
    "      z_spec=np.append(z_spec,zspec)\n",
    "    print(('n_sed =',n_sed))\n",
    "    #print(z_spec)\n",
    "\n",
    "    #fig = plt.figure(figsize=(8.27, 11.69), dpi=100)\n",
    "    fig = plt.figure(figsize=(12, 6))\n",
    "    plt.hist(z_spec, bins=400, range=[0,4.], log=False, color='r', linewidth = 3, fill=False, histtype='step', label='z_spec')\n",
    "    plt.ylim(0.,60)\n",
    "    plt.xlabel('z_spec')\n",
    "    plt.grid(True)\n",
    "    plt.legend(loc=1)\n",
    "    plt.title('Fors2 spectrometric redshifts distribution\\n '+'n_sed= '+str(n_sed))\n",
    "    pdf_pages.savefig(fig)"
   ]
  },
  {
   "cell_type": "code",
   "execution_count": null,
   "id": "fb95613f-2583-487d-ab98-6818b77601fc",
   "metadata": {},
   "outputs": [],
   "source": [
    "# tri des spectres fors2 par couleur\n",
    "def color_sort():\n",
    "    l_red   =[]\n",
    "    l_medium=[]\n",
    "    l_blue  =[]\n",
    "    \n",
    "    for i in lst :\n",
    "        #print('plot SED from :',i)\n",
    "        fig = plt.figure(figsize=(8.27, 11.69), dpi=100)\n",
    "        name_file=i+ext+'_BC.txt' # BC spectra sans extinction\n",
    "        spec=SED(path_BC+name_file)\n",
    "        tmp=norm/spec.get_scale(bounds=(b1,b2))\n",
    "        id_low ,=np.where(np.logical_and(low_b<spec.wave,spec.wave<4000))\n",
    "        id_high,=np.where(np.logical_and(4000<spec.wave,spec.wave<high_b))\n",
    "        x_low =spec.wave[id_low]\n",
    "        y_low =spec.flux[id_low]*tmp\n",
    "        x_high=spec.wave[id_high]\n",
    "        y_high=spec.flux[id_high]*tmp\n",
    "        mean_ylow =np.mean(y_low)\n",
    "        mean_yhigh=np.mean(y_high)\n",
    "        \n",
    "        if (mean_ylow/mean_yhigh<0.44):\n",
    "          tag= 'red'\n",
    "          color='r-'\n",
    "          l_red=np.append(l_red,i)\n",
    "        elif (mean_ylow/mean_yhigh>0.91):\n",
    "          tag= 'blue'\n",
    "          color='b-'\n",
    "          l_blue=np.append(l_blue,i)\n",
    "        else :\n",
    "          tag= 'medium'\n",
    "          color='g-'\n",
    "          l_medium=np.append(l_medium,i)\n",
    "\n",
    "    print(('red    = ',list(set(l_red))))\n",
    "    print(('len(red) = ',len(red)))\n",
    "    print(('medium = ',list(set(l_medium))))\n",
    "    print(('len(medium) = ',len(medium)))\n",
    "    print(('blue   =  ',list(set(l_blue))))\n",
    "    print(('len(blue) = ',len(blue)))\n",
    "\n",
    "    #fig = plt.figure(figsize=(8.27, 11.69), dpi=100)\n",
    "    fig = plt.figure(figsize=(12, 8))\n",
    "    for i in l_red :\n",
    "        name_file=i+ext+'_BC.txt' # BC spectra sans extinction\n",
    "        spec=SED(path_BC+name_file)\n",
    "        tmp=norm/spec.get_scale(bounds=(b1,b2))\n",
    "        plt.semilogy(spec.wave,spec.flux*tmp                  ,'r-', linewidth = 2)\n",
    "    plt.xlabel(r'$\\lambda$ [$\\AA$]',size=18)\n",
    "    plt.ylabel(r'Flux (arbitrary units)',size=18)\n",
    "    plt.xlim(700,9000)\n",
    "    plt.ylim(1e-17,2e-13)\n",
    "    plt.grid(True)\n",
    "    plt.legend(loc=1); #haut droit\n",
    "    plt.title('red SEDs (no exctinction applied)')\n",
    "    pdf_pages.savefig(fig)\n",
    "\n",
    "    fig = plt.figure(figsize=(8.27, 11.69), dpi=100)\n",
    "    for i in l_medium :\n",
    "        name_file=i+ext+'_BC.txt' # BC spectra sans extinction\n",
    "        spec=SED(path_BC+name_file)\n",
    "        tmp=norm/spec.get_scale(bounds=(b1,b2))\n",
    "        plt.semilogy(spec.wave,spec.flux*tmp                  ,'g-', linewidth = 2)\n",
    "    plt.xlabel(r'$\\lambda$ [$\\AA$]',size=18)\n",
    "    plt.ylabel(r'Flux (arbitrary units)',size=18)\n",
    "    plt.xlim(700,9000)\n",
    "    plt.ylim(1e-17,2e-13)\n",
    "    plt.grid(True)\n",
    "    plt.legend(loc=1); #haut droit\n",
    "    plt.title('medium SEDs (Prevot et al)')\n",
    "    pdf_pages.savefig(fig)\n",
    "\n",
    "    fig = plt.figure(figsize=(8.27, 11.69), dpi=100)\n",
    "    for i in l_blue :\n",
    "        name_file=i+ext+'_BC.txt' # BC spectra sans extinction\n",
    "        spec=SED(path_BC+name_file)\n",
    "        tmp=norm/spec.get_scale(bounds=(b1,b2))\n",
    "        plt.semilogy(spec.wave,spec.flux*tmp                  ,'b-', linewidth = 2)\n",
    "    plt.xlabel(r'$\\lambda$ [$\\AA$]',size=18)\n",
    "    plt.ylabel(r'Flux (arbitrary units)',size=18)\n",
    "    plt.xlim(700,9000)\n",
    "    plt.ylim(1e-17,2e-13)\n",
    "    plt.grid(True)\n",
    "    plt.legend(loc=1); #haut droit\n",
    "    plt.title('blue SEDs (Calzetti et al)')\n",
    "    pdf_pages.savefig(fig)\n",
    "\n",
    "\n",
    "    fig = plt.figure(figsize=(8.27, 11.69), dpi=100)\n",
    "    for i in l_red :\n",
    "        name_file=i+ext+'_BC.txt' # BC spectra sans extinction\n",
    "        spec=SED(path_BC+name_file)\n",
    "        tmp=norm/spec.get_scale(bounds=(b1,b2))\n",
    "        plt.semilogy(spec.wave,spec.flux*tmp                  ,'r-', linewidth = 2)\n",
    "    for i in l_medium :\n",
    "        name_file=i+ext+'_BC.txt' # BC spectra sans extinction\n",
    "        spec=SED(path_BC+name_file)\n",
    "        tmp=norm/spec.get_scale(bounds=(b1,b2))\n",
    "        plt.semilogy(spec.wave,spec.flux*tmp                  ,'g-', linewidth = 2)\n",
    "    for i in l_blue :\n",
    "        name_file=i+ext+'_BC.txt' # BC spectra sans extinction\n",
    "        spec=SED(path_BC+name_file)\n",
    "        tmp=norm/spec.get_scale(bounds=(b1,b2))\n",
    "        plt.semilogy(spec.wave,spec.flux*tmp                  ,'b-', linewidth = 2)\n",
    "    plt.xlabel(r'$\\lambda$ [$\\AA$]',size=18)\n",
    "    plt.ylabel(r'Flux (arbitrary units)',size=18)\n",
    "    plt.xlim(700,9000)\n",
    "    plt.ylim(1e-17,2e-13)\n",
    "    plt.grid(True)\n",
    "    plt.legend(loc=1); #haut droit\n",
    "    pdf_pages.savefig(fig)\n",
    "    "
   ]
  },
  {
   "cell_type": "code",
   "execution_count": null,
   "id": "df5d06be-8198-4818-82ca-a6620982ed78",
   "metadata": {},
   "outputs": [],
   "source": [
    "#-------------------------------------------------------------------------------------------------------\n",
    "# histogramme des variances des differences entres spectres raw et spectres SL\n",
    "def hist_diff_raw_sl():\n",
    "    var_diff=[]\n",
    "    for i in lst :\n",
    "      #get raw spectra for first identical SED\n",
    "      filename=path_out_jct+i+'.txt'\n",
    "      if (os.path.exists(filename) != True):\n",
    "         print(filename)\n",
    "      #'''\n",
    "      spec=SED(filename)\n",
    "      x=spec.wave\n",
    "      if ((min(x)<3900)and(max(x)>3950)):\n",
    "        y=spec.flux*norm/spec.get_scale(bounds=(3900,3950))\n",
    "      else:\n",
    "        y=spec.flux*norm/abs(spec.get_scale(bounds=(min(x)+100,min(x)+150)))\n",
    "\n",
    "      #get EXTINCTED spectra for first identical SED\n",
    "      name_file=i+ext+'_BC_ext.txt' # BC spectra AVEC extinction par population\n",
    "      spec_SL_ext=SED(path_BC_ext+name_file)\n",
    "      id,=np.where(np.logical_and(min(x)<spec_SL_ext.wave,spec_SL_ext.wave<max(x)))\n",
    "      x_SL_ext=spec_SL_ext.wave[id]\n",
    "      y_SL_ext=spec_SL_ext.flux[id]*norm/spec_SL_ext.get_scale(bounds=(3900,3950))\n",
    "      y_SL_ext_interp=np.interp(x,x_SL_ext,y_SL_ext)\n",
    "      #diff=(y-y_SL_ext_interp)/y_SL_ext_interp\n",
    "      #diff=(y-y_SL_ext_interp)\n",
    "      diff=(y-y_SL_ext_interp)/(y+y_SL_ext_interp)*2.\n",
    "      #var=np.sqrt(sum( ((y-y_SL_ext_interp)/(y+y_SL_ext_interp))**2 )/len(y) )\n",
    "      var =np.var(diff)\n",
    "\n",
    "      var_diff=np.append(var_diff,var)\n",
    "    print((min(var_diff),max(var_diff)))\n",
    "\n",
    "    fig = plt.figure(figsize=(8.27, 11.69), dpi=100)\n",
    "    plt.hist(var_diff, bins=np.logspace(-4, 3.0, 100), log=False, color='r', linewidth = 3, fill=False, histtype='step', label='var_diff')\n",
    "    plt.gca().set_xscale(\"log\")\n",
    "    #plt.ylim(0.,35)\n",
    "    plt.xlabel('var_diff')\n",
    "    plt.grid(True)\n",
    "    plt.legend(loc=1)\n",
    "    plt.title('Variance distribution of raw and SL BC_full_ext seds difference')\n",
    "    pdf_pages.savefig(fig)\n",
    "      "
   ]
  },
  {
   "cell_type": "code",
   "execution_count": null,
   "id": "2298b189-5c3c-4a9b-9955-51215b980b83",
   "metadata": {},
   "outputs": [],
   "source": [
    "# recherche des spectres qso:\n",
    "def qso():\n",
    "    print('Looking for QSO/OIII lines')\n",
    "    for i in lst:\n",
    "      base=os.path.basename(i).split('.')[0]\n",
    "      id=base[4:]\n",
    "      spec=SED_jct(id)\n",
    "      lines=spec.lines.split(',')\n",
    "      #print('lines =',i,lines)\n",
    "      #if ('[OIII]' in lines):\n",
    "      #if ('H{alpha}' in lines):\n",
    "      if ('(QSO)' in lines):\n",
    "        print((i, lines))"
   ]
  },
  {
   "cell_type": "code",
   "execution_count": null,
   "id": "cb01705b-2412-4bd1-ad20-de83094eb3de",
   "metadata": {},
   "outputs": [],
   "source": [
    "# tri des z_spec\n",
    "def count_zspec():\n",
    "    prt_count=0\n",
    "    z_spec=[]\n",
    "    for i in lst:\n",
    "      base=os.path.basename(i).split('.')[0]\n",
    "      id=base[4:]\n",
    "      spec=SED_jct(id)\n",
    "      zspec=spec.z\n",
    "      z_spec=np.append(z_spec,'%.5f'%float(zspec)) #liste des z_spec \n",
    "    for j in z_spec:\n",
    "      n_occ=np.count_nonzero(z_spec == j)\n",
    "      if (n_occ>=3):\n",
    "         id,=np.where(z_spec==j)\n",
    "         print(id)\n",
    "         print((j,n_occ))\n",
    "         for k in id:\n",
    "           print((lst[int(k)]))"
   ]
  },
  {
   "cell_type": "code",
   "execution_count": null,
   "id": "89ca7501-1d95-4279-8998-c3542f353c47",
   "metadata": {},
   "outputs": [],
   "source": [
    "def fors2_jct_SL():\n",
    "  lst=[]\n",
    "  list=glob.glob(path_raw_jct+'*.txt')\n",
    "  for f in list:\n",
    "    base=os.path.basename(f).split('.')[0]\n",
    "    id=base[4:-1]\n",
    "    #print(id)\n",
    "    spec=SED_jct(id)\n",
    "    if (float(spec.z)!=-1) :\n",
    "      lst=np.append(lst,'SPEC'+id)\n",
    "      file_out=path_out_jct+'SPEC'+str(id)+'.txt'\n",
    "      h=open(file_out,'w')\n",
    "      x=spec.wave\n",
    "      y=spec.flux\n",
    "      for i in range(len(x)):\n",
    "        h.write(\"%f %f\\n\"%(float(x[i]),float(y[i])))\n",
    "      h.close()\n",
    "\n",
    "  return lst  "
   ]
  },
  {
   "cell_type": "code",
   "execution_count": null,
   "id": "1cec3f9b-14b8-4ccb-a2fb-10e40d82d817",
   "metadata": {},
   "outputs": [],
   "source": []
  },
  {
   "cell_type": "code",
   "execution_count": null,
   "id": "b90a6f23-0995-420c-ab73-edcfff56bda8",
   "metadata": {},
   "outputs": [],
   "source": [
    "# recherche de spectres identiques\n",
    "def compare_spectra(plot_out): #now \n",
    "    lst_tmp=lst[:]\n",
    "    z_spec=[]\n",
    "    ra=[]\n",
    "    dec=[]\n",
    "    print('reading spectra:')\n",
    "    #----------------------------------\n",
    "    #building list of normalized fluxes (lst_y):\n",
    "\n",
    "    # Filling the lists with the first SED:\n",
    "    i_tmp=lst_tmp[0]\n",
    "    \n",
    "    \n",
    "    # SL spectra : --------------------\n",
    "    #get spectra with NO extinction :\n",
    "    name_file=i_tmp+ext+'_BC.txt' # BC spectra sans extinction\n",
    "    spec=SED(path_BC+name_file)\n",
    "    id ,=np.where(np.logical_and(low_b<spec.wave,spec.wave<high_b))\n",
    "    x =spec.wave[id]\n",
    "    tmp_SL=norm/spec.get_scale(bounds=((low_b+high_b)/2.-delta,(low_b+high_b)/2.+delta))\n",
    "    lst_y =np.array([spec.flux[id]*tmp_SL])\n",
    "    if i_tmp in lst_tmp:\n",
    "        #lst_tmp.remove(i_tmp)\n",
    "        lst_tmp=np.delete(lst_tmp, np.where(lst_tmp == i_tmp))\n",
    "    \n",
    "    #----------------------------------\n",
    "    # raw spectra : -------------------\n",
    "    #get z,ra,dec info for this spectra:\n",
    "    base=os.path.basename(i_tmp).split('.')[0]\n",
    "    id=base[4:]\n",
    "    spec2=SED_jct(id)\n",
    "    z_spec=np.append(z_spec,spec2.z)\n",
    "    ra =np.append(ra ,spec2.ra)\n",
    "    dec=np.append(dec,spec2.dec)\n",
    "    #----------------------------------\n",
    "    \n",
    "    #----------------------------------\n",
    "    # Filling the lists for all SEDs:\n",
    "    for i in lst_tmp :\n",
    "      # SL spectra : --------------------\n",
    "      name_file=i+ext+'_BC.txt' # BC spectra sans extinction\n",
    "      spec=SED(path_BC+name_file)\n",
    "      id ,=np.where(np.logical_and(low_b<spec.wave,spec.wave<high_b))\n",
    "      tmp_SL=norm/spec.get_scale(bounds=((low_b+high_b)/2.-delta,(low_b+high_b)/2.+delta))\n",
    "      y =np.array([spec.flux[id]*tmp_SL])\n",
    "      lst_y=np.append(lst_y,y,axis=0)\n",
    "      # raw spectra : -------------------\n",
    "      #get z,ra,dec info for this spectra:\n",
    "      base=os.path.basename(i).split('.')[0]\n",
    "      id=base[4:]\n",
    "      spec2=SED_jct(id)\n",
    "      z_spec=np.append(z_spec,spec2.z)\n",
    "      ra =np.append(ra ,spec2.ra)\n",
    "      dec=np.append(dec,spec2.dec)\n",
    "    \n",
    "    #----------------------------------\n",
    "    print('search for identical spectra')\n",
    "    same_spec=[]\n",
    "    same_spec_cleaned=[]\n",
    "    unique_spec=[]\n",
    "    rejected_spec=[]\n",
    "    i_lst=list(range(len(lst_y)))\n",
    "    j_lst=i_lst[:]\n",
    "    for i in i_lst:\n",
    "      #print('check 1 : ',i,lst[i])\n",
    "      j_lst.remove(i)\n",
    "      #print('my test :',lst[i])\n",
    "      for j in j_lst:\n",
    "        #print('check 2 : ',j,lst[j])\n",
    "        #diff=(lst_y[i]-lst_y[j])/lst_y[i] #this was a bug as it depends from the i in the denominator ! \n",
    "        diff=(lst_y[i]-lst_y[j])/(lst_y[i]+lst_y[j])*2.\n",
    "        mean = np.mean(diff)\n",
    "        var  = np.var(diff)\n",
    "        if ((var<var_cut) and (i!=j)): # check that varience of the difference of two SL extrapoladion is not too high\n",
    "          # plot of the two SL (no extinction) spectra:\n",
    "          if plot_out : plot_fig(x,lst_y[i],'k-',lst[i]+' SL',x,lst_y[j],'c-',lst[j]+' SL',title='')\n",
    "          \n",
    "          #get raw spectra for first identical SED:\n",
    "          filename1=path_out_jct+lst[i]+'.txt'\n",
    "          spec1=SED(filename1)\n",
    "          x1=spec1.wave\n",
    "          z_spec1=z_spec[i]\n",
    "          #get raw spectra for second identical SED:\n",
    "          filename2=path_out_jct+lst[j]+'.txt'\n",
    "          spec2=SED(filename2)\n",
    "          x2=spec2.wave\n",
    "          z_spec2=z_spec[j]\n",
    "          if ((min(x1)<min(x2) and max(x1)<min(x2)) or (min(x2)<min(x1) and max(x2)<min(x1))) :\n",
    "             #print(' cas 0 #####################################')\n",
    "             b_min_1= min(x1)\n",
    "             b_max_1= max(x1)\n",
    "             name_file=lst[i]+ext+'_BC_ext.txt' # BC spectra AVEC extinction par population\n",
    "             spec1_SL_ext=SED(path_BC_ext+name_file)\n",
    "             norm_1 = spec1_SL_ext.get_scale(bounds=((b_min_1+b_max_1)/2.-delta,(b_min_1+b_max_1)/2.+delta))\n",
    "             tmp1_raw=norm_1/spec1.get_scale(bounds=((b_min_1+b_max_1)/2.-delta,(b_min_1+b_max_1)/2.+delta))\n",
    "\n",
    "             b_min_2= min(x2)\n",
    "             b_max_2= max(x2)\n",
    "             name_file=lst[j]+ext+'_BC_ext.txt' # BC spectra AVEC extinction par population\n",
    "             spec2_SL_ext=SED(path_BC_ext+name_file)\n",
    "             norm_2  =spec2_SL_ext.get_scale(bounds=((b_min_2+b_max_2)/2.-delta,(b_min_2+b_max_2)/2.+delta))\n",
    "             tmp2_raw=norm_2/spec2.get_scale(bounds=((b_min_2+b_max_2)/2.-delta,(b_min_2+b_max_2)/2.+delta))\n",
    "          elif ((min(x1)<min(x2)) and (max(x1)>min(x2)) and (max(x1)<max(x2))):\n",
    "             #print(' cas 1 #####################################')\n",
    "             b_min_1= min(x2)\n",
    "             b_max_1= max(x1)\n",
    "             b_min_2= b_min_1 \n",
    "             b_max_2= b_max_1\n",
    "          elif ((min(x2)<min(x1)) and (max(x2)>min(x1)) and (max(x2)<max(x1))):\n",
    "             #print(' cas 2 #####################################')\n",
    "             b_min_1= min(x1)\n",
    "             b_max_1= max(x2)\n",
    "             b_min_2= b_min_1 \n",
    "             b_max_2= b_max_1\n",
    "          elif ((min(x2)<min(x1)) and (max(x1)<max(x2))):\n",
    "             #print(' cas 3 #####################################')\n",
    "             b_min_1= min(x1)\n",
    "             b_max_1= max(x1)\n",
    "             b_min_2= b_min_1 \n",
    "             b_max_2= b_max_1\n",
    "          elif ((min(x1)<min(x2)) and (max(x2)<max(x1))):\n",
    "             #print(' cas 4 #####################################')\n",
    "             b_min_2= min(x2)\n",
    "             b_max_2= max(x2)\n",
    "             b_min_1= b_min_2 \n",
    "             b_max_1= b_max_2\n",
    "\n",
    "          tmp1_raw=norm/spec1.get_scale(bounds=((b_min_1+b_max_1)/2.-delta,(b_min_1+b_max_1)/2.+delta))\n",
    "          tmp2_raw=norm/spec2.get_scale(bounds=((b_min_2+b_max_2)/2.-delta,(b_min_2+b_max_2)/2.+delta))\n",
    "          y1=spec1.flux*tmp1_raw\n",
    "          y2=spec2.flux*tmp2_raw\n",
    "\n",
    "          #get EXTINCTED spectra for first identical SED\n",
    "          name_file=lst[i]+ext+'_BC_ext.txt' # BC spectra AVEC extinction par population\n",
    "          spec1_SL_ext=SED(path_BC_ext+name_file)\n",
    "          id1,=np.where(np.logical_and(min(x1)<spec1_SL_ext.wave,spec1_SL_ext.wave<max(x1)))\n",
    "          x1_SL_ext=spec1_SL_ext.wave[id1]\n",
    "          tmp1_SL_ext=norm/spec1_SL_ext.get_scale(bounds=((b_min_1+b_max_1)/2.-delta,(b_min_1+b_max_1)/2.+delta))\n",
    "          y1_SL_ext=spec1_SL_ext.flux[id1]*tmp1_SL_ext\n",
    "          y1_SL_ext_interp=np.interp(x1,x1_SL_ext,y1_SL_ext)\n",
    "          diff1=(y1-y1_SL_ext_interp)/y1_SL_ext_interp\n",
    "          var1=np.var(diff1)\n",
    "\n",
    "          #get EXTINCTED spectra for second identical SED\n",
    "          name_file=lst[j]+ext+'_BC_ext.txt' # BC spectra AVEC extinction par population\n",
    "          spec2_SL_ext=SED(path_BC_ext+name_file)\n",
    "          id2,=np.where(np.logical_and(min(x2)<spec2_SL_ext.wave,spec2_SL_ext.wave<max(x2)))\n",
    "          x2_SL_ext=spec2_SL_ext.wave[id2]\n",
    "          tmp2_SL_ext=norm/spec2_SL_ext.get_scale(bounds=((b_min_2+b_max_2)/2.-delta,(b_min_2+b_max_2)/2.+delta))\n",
    "          y2_SL_ext=spec2_SL_ext.flux[id2]*tmp2_SL_ext\n",
    "          y2_SL_ext_interp=np.interp(x2,x2_SL_ext,y2_SL_ext)\n",
    "          diff2=(y2-y2_SL_ext_interp)/y2_SL_ext_interp\n",
    "          var2=np.var(diff2)\n",
    "          #plot of raw identical spectra:\n",
    "          if plot_out :\n",
    "             plot_fig(x1,y1,'k-',lst[i]+' raw',x2,y2,'c-',lst[j]+' raw',title='')\n",
    "             my_title='z = %.3f ; var = %.1e'%(z_spec1,var1)\n",
    "             plot_fig(x1,y1,'m-',lst[i]+' raw',x1_SL_ext,y1_SL_ext,'y-',lst[i]+' SL BC_ext_full',title=my_title)\n",
    "             my_title='z = %.3f ; var = %.1e'%(z_spec2,var2)\n",
    "             plot_fig(x2,y2,'m-',lst[j]+' raw',x2_SL_ext,y2_SL_ext,'y-',lst[j]+' SL BC_ext_full',title=my_title)\n",
    "\n",
    "          #print('\\nsimilar spectra: ')\n",
    "          print('\\n')\n",
    "          print((lst[i],lst[j]))\n",
    "          print(('z1, z2, z1/z2 :',z_spec1,z_spec2,z_spec1/z_spec2))\n",
    "          print(('ra1 ,ra2      : ', ra[i], ra[j]))\n",
    "          print(('dec1,dec2     : ',dec[i],dec[j]))\n",
    "          print(('var1,var2     : ',var1,var2))\n",
    "          same_spec=np.append(same_spec,lst[i])\n",
    "          same_spec=np.append(same_spec,lst[j])\n",
    "          if (var1<var2):\n",
    "            if (lst[i] in rejected_spec)==False:\n",
    "              same_spec_cleaned=np.append(same_spec_cleaned,lst[i])\n",
    "              print(('keeping ',lst[i]))\n",
    "              rejected_spec=np.append(rejected_spec,lst[j])\n",
    "              same_spec_cleaned=list(set(same_spec_cleaned))\n",
    "              if lst[j] in same_spec_cleaned: same_spec_cleaned.remove(lst[j])  \n",
    "          else:\n",
    "            if (lst[j] in rejected_spec)==False:\n",
    "              same_spec_cleaned=np.append(same_spec_cleaned,lst[j])\n",
    "              rejected_spec=np.append(rejected_spec,lst[i])\n",
    "              print(('keeping ',lst[j]))\n",
    "              same_spec_cleaned=list(set(same_spec_cleaned))\n",
    "              if lst[i] in same_spec_cleaned: same_spec_cleaned.remove(lst[i])\n",
    "    unique_spec=lst[:]\n",
    "    for i in list(set(same_spec)):\n",
    "        #unique_spec.remove(i)\n",
    "        unique_spec=np.delete(unique_spec,np.where(unique_spec==i))\n",
    "        \n",
    "    final_cleaned_list=list(set(np.append(same_spec_cleaned,unique_spec)))\n",
    "\n",
    "    print('\\n')\n",
    "    print(('lst                = ',lst,'\\n'))\n",
    "    print(('same_spec          = ',same_spec,'\\n'))\n",
    "    print(('same_spec_cleanded = ',same_spec_cleaned,'\\n'))\n",
    "    print(('unique_spec        = ',unique_spec,'\\n'))\n",
    "    print(('len (lst, same_spec, same_spec_cleaned,unique_spec) :',len(lst),len(same_spec),len(same_spec_cleaned),len(unique_spec),'\\n'))\n",
    "    print(('final_cleaned_list = ',final_cleaned_list,'\\n'))\n",
    "    print((len(final_cleaned_list),'\\n'))"
   ]
  },
  {
   "cell_type": "code",
   "execution_count": null,
   "id": "0695b58d-240e-409a-9899-ae7e8763e1ce",
   "metadata": {},
   "outputs": [],
   "source": [
    "def hist_var() :\n",
    "    lst_tmp=lst[:]\n",
    "    var_ij=[]\n",
    "    print('reading spectra:')\n",
    "    #----------------------------------\n",
    "    #building list of normalized fluxes (lst_y):\n",
    "\n",
    "    # Filling the lists with the first SED:\n",
    "    i_tmp=lst_tmp[0]\n",
    "    # SL spectra : --------------------\n",
    "    #get spectra with NO extinction :\n",
    "    name_file=i_tmp+ext+'_BC.txt' # BC spectra sans extinction\n",
    "    spec=SED(path_BC+name_file)\n",
    "    id ,=np.where(np.logical_and(low_b<spec.wave,spec.wave<high_b))\n",
    "    x =spec.wave[id]\n",
    "    tmp_SL=norm/spec.get_scale(bounds=((low_b+high_b)/2.-delta,(low_b+high_b)/2.+delta))\n",
    "    lst_y =np.array([spec.flux[id]*tmp_SL])\n",
    "    lst_tmp.remove(i_tmp)\n",
    "    #----------------------------------\n",
    "    # raw spectra : -------------------\n",
    "    base=os.path.basename(i_tmp).split('.')[0]\n",
    "    id=base[4:]\n",
    "    spec2=SED_jct(id)\n",
    "    #----------------------------------\n",
    "    #----------------------------------\n",
    "    # Filling the lists for all SEDs:\n",
    "    for i in lst_tmp :\n",
    "      # SL spectra : --------------------\n",
    "      name_file=i+ext+'_BC.txt' # BC spectra sans extinction\n",
    "      spec=SED(path_BC+name_file)\n",
    "      id ,=np.where(np.logical_and(low_b<spec.wave,spec.wave<high_b))\n",
    "      tmp_SL=norm/spec.get_scale(bounds=((low_b+high_b)/2.-delta,(low_b+high_b)/2.+delta))\n",
    "      y =np.array([spec.flux[id]*tmp_SL])\n",
    "      lst_y=np.append(lst_y,y,axis=0)\n",
    "\n",
    "    #----------------------------------\n",
    "    print('search for identical spectra')\n",
    "    i_lst=list(range(len(lst_y)))\n",
    "    j_lst=i_lst[:]\n",
    "    for i in i_lst:\n",
    "      j_lst.remove(i)\n",
    "      for j in j_lst:\n",
    "        diff=(lst_y[i]-lst_y[j])/(lst_y[i]+lst_y[j])*2.\n",
    "        mean = np.mean(diff)\n",
    "        var  = np.var(diff)\n",
    "        var_ij=np.append(var_ij,var)\n",
    "    var_ij=np.sort(var_ij)    \n",
    "    print(('len(var_ij)  = ',len(var_ij)))\n",
    "\n",
    "    id_cut ,=np.where(var_ij<var_cut)\n",
    "    print(('len(var_cut) = ',len(id_cut)))\n",
    "    \n",
    "    #fig = plt.figure(figsize=(8.27, 11.69), dpi=100)\n",
    "    fig = plt.figure(figsize=(12, 8))\n",
    "    plt.hist(var_ij, bins=np.logspace(-4, 3.0, 100), log=False, color='r', linewidth = 3, fill=False, histtype='step', label='var_ij')\n",
    "    plt.gca().set_xscale(\"log\")\n",
    "    plt.xlabel('var_ij')  \n",
    "\n",
    "    plt.grid(True)\n",
    "    plt.legend(loc=1)\n",
    "    plt.title('Variance distribution of raw_i and raw_j  seds difference')\n",
    "    pdf_pages.savefig(fig)"
   ]
  },
  {
   "cell_type": "markdown",
   "id": "166b2775",
   "metadata": {},
   "source": [
    "### Fors2"
   ]
  },
  {
   "cell_type": "code",
   "execution_count": null,
   "id": "ba560c49",
   "metadata": {},
   "outputs": [],
   "source": [
    "#path_fors2 = \"/Users/dagoret/MacOSX/GitHub/LSST/fors2/seds\""
   ]
  },
  {
   "cell_type": "code",
   "execution_count": null,
   "id": "107ebde5",
   "metadata": {},
   "outputs": [],
   "source": [
    "#all_files = os.listdir(path_fors2)"
   ]
  },
  {
   "cell_type": "code",
   "execution_count": null,
   "id": "3851f7b1",
   "metadata": {},
   "outputs": [],
   "source": [
    "#all_files =sorted(all_files)"
   ]
  },
  {
   "cell_type": "code",
   "execution_count": null,
   "id": "170a780c",
   "metadata": {},
   "outputs": [],
   "source": [
    "#all_files.remove('IMG')"
   ]
  },
  {
   "cell_type": "code",
   "execution_count": null,
   "id": "92cc61f9",
   "metadata": {},
   "outputs": [],
   "source": [
    "#fullfilename=os.path.join(path_fors2,all_files[0] )\n",
    "#arr= np.loadtxt(fullfilename)"
   ]
  },
  {
   "cell_type": "code",
   "execution_count": null,
   "id": "7616b7a4",
   "metadata": {},
   "outputs": [],
   "source": [
    "#indexes = np.where(arr[:,2]==1)[0]"
   ]
  },
  {
   "cell_type": "code",
   "execution_count": null,
   "id": "8ecf06fd",
   "metadata": {},
   "outputs": [],
   "source": [
    "#plt.plot(arr[indexes,0],arr[indexes,1] )\n",
    "#plt.xlim(0,1000)\n",
    "#plt.ylim(0,0.02)"
   ]
  },
  {
   "cell_type": "code",
   "execution_count": null,
   "id": "6b4acf85-2cb7-448b-b78b-dffbd7c235a6",
   "metadata": {},
   "outputs": [],
   "source": [
    "ana_type = 'fors2'\n",
    "\n",
    "#if ana_type=='fors2_test' :\n",
    "#  self.lst=fors2_raw_lst_test\n",
    "\n",
    "if (ana_type=='fors2_raw') :\n",
    "  if(run_type=='full'):\n",
    "    lst=fors2_raw_lst_full\n",
    "  if(run_type=='test'):\n",
    "    lst=fors2_raw_lst_test\n",
    "    #raw_assos=fors2_raw_assos_test\n",
    "\n",
    "if ana_type=='fors2' :\n",
    "  if(run_type=='full'):\n",
    "    lst=fors2_lst_full\n",
    "  if(run_type=='test'):\n",
    "    lst=fors2_lst_test\n",
    "\n",
    "if (ana_type=='brown_rebuild' or ana_type=='brown_wide')  :\n",
    "  if(run_type=='full'):\n",
    "    lst=brown_lst_full\n",
    "  if(run_type=='illustrative'):\n",
    "    lst=brown_lst_illustrative\n",
    "  if(run_type=='test'):\n",
    "    lst=brown_lst_test\n"
   ]
  },
  {
   "cell_type": "markdown",
   "id": "420390a8-8384-49a5-9a8b-a16888600007",
   "metadata": {},
   "source": [
    "## Start"
   ]
  },
  {
   "cell_type": "markdown",
   "id": "7f6b5b89-440f-4d2d-87d6-9eb190e215bd",
   "metadata": {},
   "source": [
    "### Catalog"
   ]
  },
  {
   "cell_type": "code",
   "execution_count": null,
   "id": "0d1c76e0-51f7-47f0-9fc8-70f426930afd",
   "metadata": {},
   "outputs": [],
   "source": [
    "t = Table.read(filename_fits_catalog)"
   ]
  },
  {
   "cell_type": "code",
   "execution_count": null,
   "id": "2ee70902-b8ad-4407-9314-25ff3d8b2f77",
   "metadata": {},
   "outputs": [],
   "source": [
    "t"
   ]
  },
  {
   "cell_type": "markdown",
   "id": "ddbbab8c-201b-4c18-bbb6-2f9fd41878e7",
   "metadata": {},
   "source": [
    "### List\n",
    "\n",
    "- must create ./fors2out/seds\n"
   ]
  },
  {
   "cell_type": "code",
   "execution_count": null,
   "id": "ac4aea36-58e8-4517-9238-e479b6cded17",
   "metadata": {},
   "outputs": [],
   "source": [
    "lst=fors2_jct_SL() #remet les spectres dans le rest frame (ie a z=0)"
   ]
  },
  {
   "cell_type": "code",
   "execution_count": null,
   "id": "b6131f77-e460-4130-8706-712cf21d75f4",
   "metadata": {},
   "outputs": [],
   "source": [
    "lst"
   ]
  },
  {
   "cell_type": "code",
   "execution_count": null,
   "id": "5a99d9ad-c77f-41fa-8169-d7a6d723f38d",
   "metadata": {},
   "outputs": [],
   "source": [
    "\n",
    "#var_cut=0.002\n",
    "var_cut=0.005"
   ]
  },
  {
   "cell_type": "code",
   "execution_count": null,
   "id": "55da5840-c4d5-423e-94e5-76525232226e",
   "metadata": {},
   "outputs": [],
   "source": [
    "qso()"
   ]
  },
  {
   "cell_type": "code",
   "execution_count": null,
   "id": "26268939-debd-4b53-88f7-693846fd1ce1",
   "metadata": {},
   "outputs": [],
   "source": [
    "plot_fors2_raw()"
   ]
  },
  {
   "cell_type": "markdown",
   "id": "d072d79a-9c35-49ef-989f-f0c692a964c6",
   "metadata": {},
   "source": [
    "#### redshift distribution"
   ]
  },
  {
   "cell_type": "code",
   "execution_count": null,
   "id": "5a4629f0-0b9b-4167-8aa4-7d46c805625b",
   "metadata": {},
   "outputs": [],
   "source": [
    "hist_zspec()"
   ]
  },
  {
   "cell_type": "markdown",
   "id": "2babeec8-a799-48b4-8031-d4a2fbe9ba86",
   "metadata": {},
   "source": [
    "#### Count Zspec"
   ]
  },
  {
   "cell_type": "code",
   "execution_count": null,
   "id": "cc9f9403-d5f0-4710-927c-237898080d1a",
   "metadata": {},
   "outputs": [],
   "source": [
    "count_zspec()"
   ]
  },
  {
   "cell_type": "markdown",
   "id": "3bd05184-f2ec-498e-8521-57664a62dbe3",
   "metadata": {},
   "source": [
    "#### Sort color"
   ]
  },
  {
   "cell_type": "code",
   "execution_count": null,
   "id": "befd1bb5-94d7-46fc-a8ab-f4bbc46198af",
   "metadata": {},
   "outputs": [],
   "source": [
    "color_sort()"
   ]
  },
  {
   "cell_type": "markdown",
   "id": "019614a6-40d5-4782-b00c-884451870565",
   "metadata": {},
   "source": [
    "#### Histogram"
   ]
  },
  {
   "cell_type": "code",
   "execution_count": null,
   "id": "b7ed3894-bcb1-4883-9534-f1f640b1b7dc",
   "metadata": {},
   "outputs": [],
   "source": [
    "hist_diff_raw_sl()"
   ]
  },
  {
   "cell_type": "markdown",
   "id": "8b82f604-ddf9-4510-b224-5af926376e21",
   "metadata": {},
   "source": [
    "#### Compare Spectra"
   ]
  },
  {
   "cell_type": "code",
   "execution_count": null,
   "id": "3a80a0b2-2a9f-46a1-ab73-56b796882065",
   "metadata": {},
   "outputs": [],
   "source": [
    "plot_out=True\n",
    "#plot_out=False\n",
    "compare_spectra(plot_out)"
   ]
  },
  {
   "cell_type": "markdown",
   "id": "bcd93f41-e98b-43d8-adc9-86846ab39844",
   "metadata": {},
   "source": [
    "#### Variance"
   ]
  },
  {
   "cell_type": "code",
   "execution_count": null,
   "id": "2f5cccde-da6a-4a99-b4e8-0147b6829b4a",
   "metadata": {},
   "outputs": [],
   "source": [
    "hist_var()"
   ]
  },
  {
   "cell_type": "markdown",
   "id": "6d79f7b1-e194-41d1-8310-7e62e4a62c85",
   "metadata": {},
   "source": [
    "#### Save plots"
   ]
  },
  {
   "cell_type": "code",
   "execution_count": null,
   "id": "c7398396-b958-4aae-8c73-82c2ab106bbb",
   "metadata": {},
   "outputs": [],
   "source": [
    "pdf_pages.close()"
   ]
  },
  {
   "cell_type": "code",
   "execution_count": null,
   "id": "7d4697ce-d505-447f-a835-63488402bdf7",
   "metadata": {},
   "outputs": [],
   "source": []
  }
 ],
 "metadata": {
  "kernelspec": {
   "display_name": "Python 3 (ipykernel)",
   "language": "python",
   "name": "python3"
  },
  "language_info": {
   "codemirror_mode": {
    "name": "ipython",
    "version": 3
   },
   "file_extension": ".py",
   "mimetype": "text/x-python",
   "name": "python",
   "nbconvert_exporter": "python",
   "pygments_lexer": "ipython3",
   "version": "3.11.0"
  },
  "toc": {
   "base_numbering": 1,
   "nav_menu": {},
   "number_sections": true,
   "sideBar": true,
   "skip_h1_title": false,
   "title_cell": "Table of Contents",
   "title_sidebar": "Contents",
   "toc_cell": false,
   "toc_position": {},
   "toc_section_display": true,
   "toc_window_display": false
  }
 },
 "nbformat": 4,
 "nbformat_minor": 5
}
