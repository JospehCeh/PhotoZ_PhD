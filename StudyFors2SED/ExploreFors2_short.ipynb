{
 "cells": [
  {
   "cell_type": "markdown",
   "id": "316c4ba5",
   "metadata": {},
   "source": [
    "# View Fors2 , version short\n",
    "\n",
    "- **Part 1**\n",
    "- author : Sylvie Dagoret-Campagne\n",
    "- affiliation : IJCLab/IN2P3/CNRS\n",
    "- creation date : 2022/12/19\n",
    "- update : 2023/05/23\n",
    "- FORS2 : https://github.com/ericnuss/fors2\n",
    "- Result of StarLight : /sps/lsst/groups/photoz/fors2/FORS2/ResStarlight\n",
    "\n",
    "\n",
    "\n",
    "          /Users/dagoret/MacOSX/GitHub/LSST/FORS2>ls -l\n",
    "              total 0\n",
    "              drwxrwsr-x  3 dagoret  staff   96 Aug 21  2018 ResStarlight\n",
    "              drwxr-xr-x  9 dagoret  staff  288 Dec 19 18:01 fors2\n",
    "              \n",
    "- Redshift the For2 Spectra in their restframe               "
   ]
  },
  {
   "cell_type": "markdown",
   "id": "c7d7e344",
   "metadata": {},
   "source": [
    "## Import"
   ]
  },
  {
   "cell_type": "code",
   "execution_count": 1,
   "id": "e485fec8",
   "metadata": {},
   "outputs": [],
   "source": [
    "import os,sys\n",
    "from astropy.io import fits\n",
    "from astropy.table import Table"
   ]
  },
  {
   "cell_type": "code",
   "execution_count": 2,
   "id": "b271dcb5",
   "metadata": {},
   "outputs": [],
   "source": [
    "# Import some generally useful packages\n",
    "\n",
    "import os\n",
    "import numpy as np\n",
    "import matplotlib.pyplot as plt\n",
    "import matplotlib.colors as colors\n",
    "import matplotlib.cm as cmx\n",
    "\n",
    "from matplotlib.backends.backend_pdf import PdfPages\n",
    "\n",
    "%matplotlib inline\n",
    "import pandas as pd\n",
    "from itertools import cycle, islice\n"
   ]
  },
  {
   "cell_type": "code",
   "execution_count": 3,
   "id": "f6689d40-c574-471c-b9d6-996002aa4e76",
   "metadata": {},
   "outputs": [],
   "source": [
    "from scipy import ndimage\n",
    "\n",
    "#from scipy import interp as scinterp\n",
    "from scipy.interpolate import interp1d\n",
    "\n",
    "import glob\n",
    "import collections\n",
    "#from def_raw_seds import *"
   ]
  },
  {
   "cell_type": "code",
   "execution_count": 4,
   "id": "413f1e89",
   "metadata": {},
   "outputs": [],
   "source": [
    "# to enlarge the sizes\n",
    "params = {'legend.fontsize': 'large',\n",
    "          'figure.figsize': (8, 4),\n",
    "         'axes.labelsize': 'xx-large',\n",
    "         'axes.titlesize':'xx-large',\n",
    "         'xtick.labelsize':'xx-large',\n",
    "         'ytick.labelsize':'xx-large'}\n",
    "plt.rcParams.update(params)\n"
   ]
  },
  {
   "cell_type": "code",
   "execution_count": 5,
   "id": "c1e22fcc",
   "metadata": {},
   "outputs": [],
   "source": [
    "import matplotlib.offsetbox\n",
    "props = dict(boxstyle='round',edgecolor=\"w\",facecolor=\"w\", alpha=0.5)"
   ]
  },
  {
   "cell_type": "code",
   "execution_count": 6,
   "id": "bf513758-e26b-4561-b134-96f24ab56e1b",
   "metadata": {},
   "outputs": [
    {
     "name": "stdout",
     "output_type": "stream",
     "text": [
      "\u001b[1m\u001b[31mfits\u001b[m\u001b[m                 fors2_catalogue.fits \u001b[1m\u001b[31mtxt\u001b[m\u001b[m\n"
     ]
    }
   ],
   "source": [
    "!ls ../../fors2/fors2/data"
   ]
  },
  {
   "cell_type": "code",
   "execution_count": 7,
   "id": "b7a4c8c8-b050-415b-882c-1dbdd0e5fc13",
   "metadata": {},
   "outputs": [
    {
     "name": "stdout",
     "output_type": "stream",
     "text": [
      "/Volumes/Backup2020/MacOSX/GitHub/LSST/PhotoZ_PhD/StudyFors2SED\n"
     ]
    }
   ],
   "source": [
    "! pwd"
   ]
  },
  {
   "cell_type": "code",
   "execution_count": 8,
   "id": "b7e9a578-1bb2-4e32-b88f-a69914949eca",
   "metadata": {},
   "outputs": [],
   "source": [
    "from def_raw_seds import *"
   ]
  },
  {
   "cell_type": "code",
   "execution_count": 9,
   "id": "93d5eb5c-6c03-45fe-9795-17e8ed32d0d7",
   "metadata": {},
   "outputs": [],
   "source": [
    "from raw_data_analysis import *"
   ]
  },
  {
   "cell_type": "markdown",
   "id": "f8a04733-fb1a-4995-8549-2d213bc43195",
   "metadata": {},
   "source": [
    "# Start"
   ]
  },
  {
   "cell_type": "code",
   "execution_count": 10,
   "id": "bef8cae0-64c8-4454-abeb-fec127bb39c0",
   "metadata": {},
   "outputs": [
    {
     "name": "stdout",
     "output_type": "stream",
     "text": [
      "notebook current executing path : /Volumes/Backup2020/MacOSX/GitHub/LSST/PhotoZ_PhD/StudyFors2SED\n"
     ]
    }
   ],
   "source": [
    "cwd=os.path.abspath(\"\")\n",
    "main_dir = cwd\n",
    "print(f\"notebook current executing path : {cwd}\")"
   ]
  },
  {
   "cell_type": "markdown",
   "id": "a4d93f7b",
   "metadata": {},
   "source": [
    "## Configuration"
   ]
  },
  {
   "cell_type": "markdown",
   "id": "166b2775",
   "metadata": {},
   "source": [
    "### Fors2"
   ]
  },
  {
   "cell_type": "markdown",
   "id": "420390a8-8384-49a5-9a8b-a16888600007",
   "metadata": {},
   "source": [
    "## Start"
   ]
  },
  {
   "cell_type": "markdown",
   "id": "7f6b5b89-440f-4d2d-87d6-9eb190e215bd",
   "metadata": {},
   "source": [
    "### Catalog"
   ]
  },
  {
   "cell_type": "code",
   "execution_count": 11,
   "id": "0d1c76e0-51f7-47f0-9fc8-70f426930afd",
   "metadata": {},
   "outputs": [
    {
     "name": "stderr",
     "output_type": "stream",
     "text": [
      "WARNING: VerifyWarning: Invalid keyword for column 8: ASCII table null option (TNULLn) is longer than the column's character width and will be truncated (got '-2147483648'). [astropy.io.fits.column]\n",
      "WARNING: VerifyWarning: Invalid keyword for column 9: ASCII table null option (TNULLn) is longer than the column's character width and will be truncated (got '-32768'). [astropy.io.fits.column]\n",
      "/Users/dagoret/anaconda3/lib/python3.9/site-packages/astropy/io/fits/connect.py:259: FutureWarning: elementwise comparison failed; returning scalar instead, but in the future will perform elementwise comparison\n",
      "  mask = data[col.name] == col.null\n"
     ]
    }
   ],
   "source": [
    "t = Table.read(filename_fits_catalog)"
   ]
  },
  {
   "cell_type": "code",
   "execution_count": 12,
   "id": "2ee70902-b8ad-4407-9314-25ff3d8b2f77",
   "metadata": {},
   "outputs": [
    {
     "data": {
      "text/html": [
       "<div><i>Table length=676</i>\n",
       "<table id=\"table140691671572640\" class=\"table-striped table-bordered table-condensed\">\n",
       "<thead><tr><th>ID</th><th>m_ID</th><th>RAJ2000</th><th>DEJ2000</th><th>z</th><th>u_z</th><th>Rmag</th><th>RV</th><th>e_RV</th><th>RT</th><th>Nsp</th><th>Lines</th></tr></thead>\n",
       "<thead><tr><th></th><th></th><th>deg</th><th>deg</th><th></th><th></th><th>mag</th><th>km / s</th><th>km / s</th><th></th><th></th><th></th></tr></thead>\n",
       "<thead><tr><th>int16</th><th>bytes1</th><th>float64</th><th>float64</th><th>float64</th><th>bytes1</th><th>float64</th><th>int32</th><th>int16</th><th>float64</th><th>int16</th><th>bytes77</th></tr></thead>\n",
       "<tr><td>1</td><td></td><td>13.52815</td><td>-28.40486</td><td>0.55409</td><td></td><td>20.79</td><td>166227</td><td>55</td><td>10.0</td><td>1</td><td>[OII],H8,K,H</td></tr>\n",
       "<tr><td>2</td><td></td><td>13.52997</td><td>-28.44776</td><td>0.34555</td><td></td><td>21.18</td><td>103665</td><td>40</td><td>12.3</td><td>1</td><td>K,H,G,H{beta}</td></tr>\n",
       "<tr><td>3</td><td></td><td>13.52552</td><td>-28.4208</td><td>0.6866</td><td></td><td>21.45</td><td>210642</td><td>48</td><td>11.6</td><td>4</td><td>[OII],H9,K,H,H{beta},[OIII],H8</td></tr>\n",
       "<tr><td>4</td><td></td><td>13.52216</td><td>-28.40914</td><td>0.68653</td><td></td><td>21.62</td><td>205959</td><td>123</td><td>10.6</td><td>1</td><td>[OII],H9,K,H,G,H{beta}</td></tr>\n",
       "<tr><td>...</td><td>...</td><td>...</td><td>...</td><td>...</td><td>...</td><td>...</td><td>...</td><td>...</td><td>...</td><td>...</td><td>...</td></tr>\n",
       "<tr><td>1011</td><td></td><td>13.51676</td><td>-28.40425</td><td>0.2934</td><td></td><td>18.26</td><td>88020</td><td>0</td><td>0.0</td><td>1</td><td></td></tr>\n",
       "<tr><td>1012</td><td></td><td>13.5147</td><td>-28.40379</td><td>0.2929</td><td></td><td>17.34</td><td>87870</td><td>0</td><td>0.0</td><td>1</td><td></td></tr>\n",
       "<tr><td>1018</td><td></td><td>13.49151</td><td>-28.38977</td><td>0.2925</td><td></td><td>19.62</td><td>87750</td><td>0</td><td>0.0</td><td>1</td><td></td></tr>\n",
       "<tr><td>1020</td><td></td><td>13.48143</td><td>-28.40368</td><td>0.2939</td><td></td><td>20.71</td><td>88170</td><td>0</td><td>0.0</td><td>1</td><td></td></tr>\n",
       "</table></div>"
      ],
      "text/plain": [
       "<Table length=676>\n",
       "  ID   m_ID  RAJ2000  ...    RT    Nsp                                      Lines                                    \n",
       "               deg    ...                                                                                            \n",
       "int16 bytes1 float64  ... float64 int16                                    bytes77                                   \n",
       "----- ------ -------- ... ------- ----- -----------------------------------------------------------------------------\n",
       "    1        13.52815 ...    10.0     1 [OII],H8,K,H                                                                \n",
       "    2        13.52997 ...    12.3     1 K,H,G,H{beta}                                                               \n",
       "    3        13.52552 ...    11.6     4 [OII],H9,K,H,H{beta},[OIII],H8                                              \n",
       "    4        13.52216 ...    10.6     1 [OII],H9,K,H,G,H{beta}                                                      \n",
       "  ...    ...      ... ...     ...   ...                                                                           ...\n",
       " 1011        13.51676 ...     0.0     1                                                                             \n",
       " 1012         13.5147 ...     0.0     1                                                                             \n",
       " 1018        13.49151 ...     0.0     1                                                                             \n",
       " 1020        13.48143 ...     0.0     1                                                                             "
      ]
     },
     "execution_count": 12,
     "metadata": {},
     "output_type": "execute_result"
    }
   ],
   "source": [
    "t"
   ]
  },
  {
   "cell_type": "code",
   "execution_count": 13,
   "id": "215e1016-90d2-4a9e-8fb0-beeb1649d883",
   "metadata": {},
   "outputs": [
    {
     "data": {
      "text/html": [
       "<div>\n",
       "<style scoped>\n",
       "    .dataframe tbody tr th:only-of-type {\n",
       "        vertical-align: middle;\n",
       "    }\n",
       "\n",
       "    .dataframe tbody tr th {\n",
       "        vertical-align: top;\n",
       "    }\n",
       "\n",
       "    .dataframe thead th {\n",
       "        text-align: right;\n",
       "    }\n",
       "</style>\n",
       "<table border=\"1\" class=\"dataframe\">\n",
       "  <thead>\n",
       "    <tr style=\"text-align: right;\">\n",
       "      <th></th>\n",
       "      <th>ID</th>\n",
       "      <th>m_ID</th>\n",
       "      <th>RAJ2000</th>\n",
       "      <th>DEJ2000</th>\n",
       "      <th>z</th>\n",
       "      <th>u_z</th>\n",
       "      <th>Rmag</th>\n",
       "      <th>RV</th>\n",
       "      <th>e_RV</th>\n",
       "      <th>RT</th>\n",
       "      <th>Nsp</th>\n",
       "      <th>Lines</th>\n",
       "    </tr>\n",
       "  </thead>\n",
       "  <tbody>\n",
       "    <tr>\n",
       "      <th>0</th>\n",
       "      <td>1</td>\n",
       "      <td>b' '</td>\n",
       "      <td>13.52815</td>\n",
       "      <td>-28.40486</td>\n",
       "      <td>0.55409</td>\n",
       "      <td>b' '</td>\n",
       "      <td>20.79</td>\n",
       "      <td>166227</td>\n",
       "      <td>55</td>\n",
       "      <td>10.0</td>\n",
       "      <td>1</td>\n",
       "      <td>b'[OII],H8,K,H                                ...</td>\n",
       "    </tr>\n",
       "    <tr>\n",
       "      <th>1</th>\n",
       "      <td>2</td>\n",
       "      <td>b' '</td>\n",
       "      <td>13.52997</td>\n",
       "      <td>-28.44776</td>\n",
       "      <td>0.34555</td>\n",
       "      <td>b' '</td>\n",
       "      <td>21.18</td>\n",
       "      <td>103665</td>\n",
       "      <td>40</td>\n",
       "      <td>12.3</td>\n",
       "      <td>1</td>\n",
       "      <td>b'K,H,G,H{beta}                               ...</td>\n",
       "    </tr>\n",
       "    <tr>\n",
       "      <th>2</th>\n",
       "      <td>3</td>\n",
       "      <td>b' '</td>\n",
       "      <td>13.52552</td>\n",
       "      <td>-28.42080</td>\n",
       "      <td>0.68660</td>\n",
       "      <td>b' '</td>\n",
       "      <td>21.45</td>\n",
       "      <td>210642</td>\n",
       "      <td>48</td>\n",
       "      <td>11.6</td>\n",
       "      <td>4</td>\n",
       "      <td>b'[OII],H9,K,H,H{beta},[OIII],H8              ...</td>\n",
       "    </tr>\n",
       "    <tr>\n",
       "      <th>3</th>\n",
       "      <td>4</td>\n",
       "      <td>b' '</td>\n",
       "      <td>13.52216</td>\n",
       "      <td>-28.40914</td>\n",
       "      <td>0.68653</td>\n",
       "      <td>b' '</td>\n",
       "      <td>21.62</td>\n",
       "      <td>205959</td>\n",
       "      <td>123</td>\n",
       "      <td>10.6</td>\n",
       "      <td>1</td>\n",
       "      <td>b'[OII],H9,K,H,G,H{beta}                      ...</td>\n",
       "    </tr>\n",
       "    <tr>\n",
       "      <th>4</th>\n",
       "      <td>7</td>\n",
       "      <td>b' '</td>\n",
       "      <td>13.50974</td>\n",
       "      <td>-28.42972</td>\n",
       "      <td>0.32371</td>\n",
       "      <td>b' '</td>\n",
       "      <td>22.34</td>\n",
       "      <td>97111</td>\n",
       "      <td>11</td>\n",
       "      <td>16.7</td>\n",
       "      <td>6</td>\n",
       "      <td>b'[OII],H{beta},[OIII],H{alpha}               ...</td>\n",
       "    </tr>\n",
       "    <tr>\n",
       "      <th>...</th>\n",
       "      <td>...</td>\n",
       "      <td>...</td>\n",
       "      <td>...</td>\n",
       "      <td>...</td>\n",
       "      <td>...</td>\n",
       "      <td>...</td>\n",
       "      <td>...</td>\n",
       "      <td>...</td>\n",
       "      <td>...</td>\n",
       "      <td>...</td>\n",
       "      <td>...</td>\n",
       "      <td>...</td>\n",
       "    </tr>\n",
       "    <tr>\n",
       "      <th>671</th>\n",
       "      <td>1009</td>\n",
       "      <td>b' '</td>\n",
       "      <td>13.52353</td>\n",
       "      <td>-28.42682</td>\n",
       "      <td>0.29040</td>\n",
       "      <td>b' '</td>\n",
       "      <td>18.60</td>\n",
       "      <td>87120</td>\n",
       "      <td>0</td>\n",
       "      <td>0.0</td>\n",
       "      <td>1</td>\n",
       "      <td>b'                                            ...</td>\n",
       "    </tr>\n",
       "    <tr>\n",
       "      <th>672</th>\n",
       "      <td>1011</td>\n",
       "      <td>b' '</td>\n",
       "      <td>13.51676</td>\n",
       "      <td>-28.40425</td>\n",
       "      <td>0.29340</td>\n",
       "      <td>b' '</td>\n",
       "      <td>18.26</td>\n",
       "      <td>88020</td>\n",
       "      <td>0</td>\n",
       "      <td>0.0</td>\n",
       "      <td>1</td>\n",
       "      <td>b'                                            ...</td>\n",
       "    </tr>\n",
       "    <tr>\n",
       "      <th>673</th>\n",
       "      <td>1012</td>\n",
       "      <td>b' '</td>\n",
       "      <td>13.51470</td>\n",
       "      <td>-28.40379</td>\n",
       "      <td>0.29290</td>\n",
       "      <td>b' '</td>\n",
       "      <td>17.34</td>\n",
       "      <td>87870</td>\n",
       "      <td>0</td>\n",
       "      <td>0.0</td>\n",
       "      <td>1</td>\n",
       "      <td>b'                                            ...</td>\n",
       "    </tr>\n",
       "    <tr>\n",
       "      <th>674</th>\n",
       "      <td>1018</td>\n",
       "      <td>b' '</td>\n",
       "      <td>13.49151</td>\n",
       "      <td>-28.38977</td>\n",
       "      <td>0.29250</td>\n",
       "      <td>b' '</td>\n",
       "      <td>19.62</td>\n",
       "      <td>87750</td>\n",
       "      <td>0</td>\n",
       "      <td>0.0</td>\n",
       "      <td>1</td>\n",
       "      <td>b'                                            ...</td>\n",
       "    </tr>\n",
       "    <tr>\n",
       "      <th>675</th>\n",
       "      <td>1020</td>\n",
       "      <td>b' '</td>\n",
       "      <td>13.48143</td>\n",
       "      <td>-28.40368</td>\n",
       "      <td>0.29390</td>\n",
       "      <td>b' '</td>\n",
       "      <td>20.71</td>\n",
       "      <td>88170</td>\n",
       "      <td>0</td>\n",
       "      <td>0.0</td>\n",
       "      <td>1</td>\n",
       "      <td>b'                                            ...</td>\n",
       "    </tr>\n",
       "  </tbody>\n",
       "</table>\n",
       "<p>676 rows × 12 columns</p>\n",
       "</div>"
      ],
      "text/plain": [
       "       ID  m_ID   RAJ2000   DEJ2000        z   u_z   Rmag      RV  e_RV    RT  \\\n",
       "0       1  b' '  13.52815 -28.40486  0.55409  b' '  20.79  166227    55  10.0   \n",
       "1       2  b' '  13.52997 -28.44776  0.34555  b' '  21.18  103665    40  12.3   \n",
       "2       3  b' '  13.52552 -28.42080  0.68660  b' '  21.45  210642    48  11.6   \n",
       "3       4  b' '  13.52216 -28.40914  0.68653  b' '  21.62  205959   123  10.6   \n",
       "4       7  b' '  13.50974 -28.42972  0.32371  b' '  22.34   97111    11  16.7   \n",
       "..    ...   ...       ...       ...      ...   ...    ...     ...   ...   ...   \n",
       "671  1009  b' '  13.52353 -28.42682  0.29040  b' '  18.60   87120     0   0.0   \n",
       "672  1011  b' '  13.51676 -28.40425  0.29340  b' '  18.26   88020     0   0.0   \n",
       "673  1012  b' '  13.51470 -28.40379  0.29290  b' '  17.34   87870     0   0.0   \n",
       "674  1018  b' '  13.49151 -28.38977  0.29250  b' '  19.62   87750     0   0.0   \n",
       "675  1020  b' '  13.48143 -28.40368  0.29390  b' '  20.71   88170     0   0.0   \n",
       "\n",
       "     Nsp                                              Lines  \n",
       "0      1  b'[OII],H8,K,H                                ...  \n",
       "1      1  b'K,H,G,H{beta}                               ...  \n",
       "2      4  b'[OII],H9,K,H,H{beta},[OIII],H8              ...  \n",
       "3      1  b'[OII],H9,K,H,G,H{beta}                      ...  \n",
       "4      6  b'[OII],H{beta},[OIII],H{alpha}               ...  \n",
       "..   ...                                                ...  \n",
       "671    1  b'                                            ...  \n",
       "672    1  b'                                            ...  \n",
       "673    1  b'                                            ...  \n",
       "674    1  b'                                            ...  \n",
       "675    1  b'                                            ...  \n",
       "\n",
       "[676 rows x 12 columns]"
      ]
     },
     "execution_count": 13,
     "metadata": {},
     "output_type": "execute_result"
    }
   ],
   "source": [
    "t.to_pandas()"
   ]
  },
  {
   "cell_type": "markdown",
   "id": "ddbbab8c-201b-4c18-bbb6-2f9fd41878e7",
   "metadata": {},
   "source": [
    "### List"
   ]
  },
  {
   "cell_type": "code",
   "execution_count": 14,
   "id": "c1601eb2-78aa-4320-98c0-578324cb1407",
   "metadata": {},
   "outputs": [],
   "source": [
    "if not os.path.isdir(\"./fors2out/seds\"):\n",
    "    os.makedirs('./fors2out/seds') "
   ]
  },
  {
   "cell_type": "code",
   "execution_count": 15,
   "id": "ac4aea36-58e8-4517-9238-e479b6cded17",
   "metadata": {},
   "outputs": [
    {
     "name": "stderr",
     "output_type": "stream",
     "text": [
      "WARNING: VerifyWarning: Invalid keyword for column 8: ASCII table null option (TNULLn) is longer than the column's character width and will be truncated (got '-2147483648'). [astropy.io.fits.column]\n",
      "WARNING: VerifyWarning: Invalid keyword for column 9: ASCII table null option (TNULLn) is longer than the column's character width and will be truncated (got '-32768'). [astropy.io.fits.column]\n"
     ]
    }
   ],
   "source": [
    "lst=fors2_jct_SL() #remet les spectres dans le rest frame (ie a z=0)"
   ]
  },
  {
   "cell_type": "code",
   "execution_count": 16,
   "id": "b6131f77-e460-4130-8706-712cf21d75f4",
   "metadata": {},
   "outputs": [
    {
     "data": {
      "text/plain": [
       "array(['SPEC102', 'SPEC106', 'SPEC107', 'SPEC109', 'SPEC110', 'SPEC111',\n",
       "       'SPEC112', 'SPEC113', 'SPEC114', 'SPEC115', 'SPEC117', 'SPEC118',\n",
       "       'SPEC120', 'SPEC121', 'SPEC123', 'SPEC127', 'SPEC128', 'SPEC132',\n",
       "       'SPEC134', 'SPEC135', 'SPEC137', 'SPEC138', 'SPEC13', 'SPEC141',\n",
       "       'SPEC149', 'SPEC151', 'SPEC152', 'SPEC156', 'SPEC160', 'SPEC161',\n",
       "       'SPEC164', 'SPEC171', 'SPEC178', 'SPEC179', 'SPEC181', 'SPEC182',\n",
       "       'SPEC183', 'SPEC184', 'SPEC185', 'SPEC186', 'SPEC187', 'SPEC188',\n",
       "       'SPEC189', 'SPEC191', 'SPEC192', 'SPEC193', 'SPEC194', 'SPEC196',\n",
       "       'SPEC197', 'SPEC198', 'SPEC19', 'SPEC204', 'SPEC205', 'SPEC210',\n",
       "       'SPEC214', 'SPEC218', 'SPEC221', 'SPEC222', 'SPEC223', 'SPEC226',\n",
       "       'SPEC227', 'SPEC231', 'SPEC233', 'SPEC234', 'SPEC235', 'SPEC236',\n",
       "       'SPEC237', 'SPEC238', 'SPEC240', 'SPEC242', 'SPEC243', 'SPEC244',\n",
       "       'SPEC245', 'SPEC246', 'SPEC248', 'SPEC249', 'SPEC24', 'SPEC250',\n",
       "       'SPEC252', 'SPEC253', 'SPEC258', 'SPEC259', 'SPEC25', 'SPEC260',\n",
       "       'SPEC261', 'SPEC262', 'SPEC264', 'SPEC265', 'SPEC266', 'SPEC267',\n",
       "       'SPEC268', 'SPEC271', 'SPEC274', 'SPEC275', 'SPEC276', 'SPEC277',\n",
       "       'SPEC278', 'SPEC279', 'SPEC280', 'SPEC281', 'SPEC282', 'SPEC283',\n",
       "       'SPEC287', 'SPEC288', 'SPEC291', 'SPEC292', 'SPEC294', 'SPEC295',\n",
       "       'SPEC296', 'SPEC297', 'SPEC298', 'SPEC2', 'SPEC301', 'SPEC302',\n",
       "       'SPEC303', 'SPEC304', 'SPEC305', 'SPEC306', 'SPEC307', 'SPEC308',\n",
       "       'SPEC309', 'SPEC30', 'SPEC313', 'SPEC315', 'SPEC317', 'SPEC318',\n",
       "       'SPEC319', 'SPEC31', 'SPEC321', 'SPEC322', 'SPEC323', 'SPEC324',\n",
       "       'SPEC325', 'SPEC326', 'SPEC327', 'SPEC328', 'SPEC329', 'SPEC32',\n",
       "       'SPEC331', 'SPEC332', 'SPEC333', 'SPEC334', 'SPEC335', 'SPEC336',\n",
       "       'SPEC337', 'SPEC338', 'SPEC339', 'SPEC33', 'SPEC340', 'SPEC341',\n",
       "       'SPEC343', 'SPEC344', 'SPEC345', 'SPEC346', 'SPEC348', 'SPEC349',\n",
       "       'SPEC34', 'SPEC350', 'SPEC351', 'SPEC352', 'SPEC353', 'SPEC354',\n",
       "       'SPEC355', 'SPEC357', 'SPEC358', 'SPEC359', 'SPEC35', 'SPEC360',\n",
       "       'SPEC361', 'SPEC362', 'SPEC363', 'SPEC364', 'SPEC365', 'SPEC366',\n",
       "       'SPEC367', 'SPEC368', 'SPEC369', 'SPEC36', 'SPEC370', 'SPEC371',\n",
       "       'SPEC372', 'SPEC373', 'SPEC374', 'SPEC375', 'SPEC376', 'SPEC377',\n",
       "       'SPEC378', 'SPEC379', 'SPEC37', 'SPEC380', 'SPEC381', 'SPEC382',\n",
       "       'SPEC383', 'SPEC384', 'SPEC385', 'SPEC386', 'SPEC387', 'SPEC388',\n",
       "       'SPEC389', 'SPEC390', 'SPEC391', 'SPEC392', 'SPEC393', 'SPEC394',\n",
       "       'SPEC395', 'SPEC396', 'SPEC397', 'SPEC398', 'SPEC399', 'SPEC3',\n",
       "       'SPEC400', 'SPEC401', 'SPEC402', 'SPEC403', 'SPEC404', 'SPEC405',\n",
       "       'SPEC406', 'SPEC407', 'SPEC408', 'SPEC409', 'SPEC410', 'SPEC411',\n",
       "       'SPEC412', 'SPEC413', 'SPEC414', 'SPEC415', 'SPEC416', 'SPEC417',\n",
       "       'SPEC418', 'SPEC419', 'SPEC420', 'SPEC421', 'SPEC422', 'SPEC423',\n",
       "       'SPEC424', 'SPEC425', 'SPEC426', 'SPEC427', 'SPEC428', 'SPEC429',\n",
       "       'SPEC430', 'SPEC431', 'SPEC432', 'SPEC434', 'SPEC435', 'SPEC436',\n",
       "       'SPEC437', 'SPEC438', 'SPEC439', 'SPEC440', 'SPEC441', 'SPEC442',\n",
       "       'SPEC443', 'SPEC444', 'SPEC445', 'SPEC446', 'SPEC447', 'SPEC448',\n",
       "       'SPEC449', 'SPEC450', 'SPEC451', 'SPEC452', 'SPEC453', 'SPEC454',\n",
       "       'SPEC455', 'SPEC456', 'SPEC457', 'SPEC458', 'SPEC459', 'SPEC45',\n",
       "       'SPEC460', 'SPEC461', 'SPEC462', 'SPEC463', 'SPEC464', 'SPEC465',\n",
       "       'SPEC466', 'SPEC467', 'SPEC468', 'SPEC469', 'SPEC470', 'SPEC471',\n",
       "       'SPEC472', 'SPEC474', 'SPEC475', 'SPEC476', 'SPEC477', 'SPEC478',\n",
       "       'SPEC479', 'SPEC47', 'SPEC480', 'SPEC481', 'SPEC482', 'SPEC483',\n",
       "       'SPEC488', 'SPEC490', 'SPEC492', 'SPEC493', 'SPEC494', 'SPEC496',\n",
       "       'SPEC497', 'SPEC499', 'SPEC49', 'SPEC500', 'SPEC501', 'SPEC503',\n",
       "       'SPEC504', 'SPEC505', 'SPEC506', 'SPEC507', 'SPEC508', 'SPEC509',\n",
       "       'SPEC510', 'SPEC511', 'SPEC512', 'SPEC513', 'SPEC516', 'SPEC517',\n",
       "       'SPEC518', 'SPEC519', 'SPEC51', 'SPEC520', 'SPEC523', 'SPEC524',\n",
       "       'SPEC525', 'SPEC526', 'SPEC527', 'SPEC528', 'SPEC529', 'SPEC530',\n",
       "       'SPEC531', 'SPEC532', 'SPEC533', 'SPEC535', 'SPEC536', 'SPEC537',\n",
       "       'SPEC539', 'SPEC540', 'SPEC541', 'SPEC542', 'SPEC543', 'SPEC544',\n",
       "       'SPEC545', 'SPEC546', 'SPEC547', 'SPEC548', 'SPEC549', 'SPEC550',\n",
       "       'SPEC551', 'SPEC552', 'SPEC553', 'SPEC554', 'SPEC556', 'SPEC557',\n",
       "       'SPEC558', 'SPEC559', 'SPEC55', 'SPEC560', 'SPEC562', 'SPEC563',\n",
       "       'SPEC564', 'SPEC565', 'SPEC566', 'SPEC567', 'SPEC568', 'SPEC569',\n",
       "       'SPEC570', 'SPEC571', 'SPEC572', 'SPEC573', 'SPEC574', 'SPEC575',\n",
       "       'SPEC576', 'SPEC577', 'SPEC578', 'SPEC579', 'SPEC57', 'SPEC580',\n",
       "       'SPEC582', 'SPEC583', 'SPEC584', 'SPEC585', 'SPEC586', 'SPEC587',\n",
       "       'SPEC588', 'SPEC589', 'SPEC58', 'SPEC590', 'SPEC591', 'SPEC593',\n",
       "       'SPEC594', 'SPEC595', 'SPEC596', 'SPEC597', 'SPEC598', 'SPEC599',\n",
       "       'SPEC59', 'SPEC600', 'SPEC601', 'SPEC602', 'SPEC603', 'SPEC604',\n",
       "       'SPEC605', 'SPEC606', 'SPEC608', 'SPEC609', 'SPEC610', 'SPEC611',\n",
       "       'SPEC612', 'SPEC613', 'SPEC617', 'SPEC618', 'SPEC61', 'SPEC620',\n",
       "       'SPEC621', 'SPEC622', 'SPEC623', 'SPEC624', 'SPEC625', 'SPEC626',\n",
       "       'SPEC627', 'SPEC628', 'SPEC629', 'SPEC62', 'SPEC630', 'SPEC631',\n",
       "       'SPEC632', 'SPEC633', 'SPEC634', 'SPEC635', 'SPEC636', 'SPEC637',\n",
       "       'SPEC638', 'SPEC639', 'SPEC640', 'SPEC641', 'SPEC642', 'SPEC643',\n",
       "       'SPEC644', 'SPEC645', 'SPEC646', 'SPEC647', 'SPEC648', 'SPEC649',\n",
       "       'SPEC650', 'SPEC651', 'SPEC652', 'SPEC653', 'SPEC654', 'SPEC655',\n",
       "       'SPEC656', 'SPEC657', 'SPEC658', 'SPEC659', 'SPEC660', 'SPEC661',\n",
       "       'SPEC662', 'SPEC663', 'SPEC664', 'SPEC667', 'SPEC668', 'SPEC669',\n",
       "       'SPEC66', 'SPEC670', 'SPEC671', 'SPEC672', 'SPEC673', 'SPEC674',\n",
       "       'SPEC675', 'SPEC676', 'SPEC677', 'SPEC678', 'SPEC679', 'SPEC67',\n",
       "       'SPEC680', 'SPEC681', 'SPEC682', 'SPEC683', 'SPEC684', 'SPEC685',\n",
       "       'SPEC686', 'SPEC687', 'SPEC689', 'SPEC68', 'SPEC690', 'SPEC691',\n",
       "       'SPEC692', 'SPEC693', 'SPEC694', 'SPEC695', 'SPEC696', 'SPEC697',\n",
       "       'SPEC698', 'SPEC699', 'SPEC69', 'SPEC700', 'SPEC701', 'SPEC702',\n",
       "       'SPEC703', 'SPEC704', 'SPEC705', 'SPEC706', 'SPEC707', 'SPEC708',\n",
       "       'SPEC70', 'SPEC710', 'SPEC711', 'SPEC713', 'SPEC714', 'SPEC715',\n",
       "       'SPEC716', 'SPEC717', 'SPEC718', 'SPEC719', 'SPEC71', 'SPEC720',\n",
       "       'SPEC721', 'SPEC722', 'SPEC723', 'SPEC724', 'SPEC725', 'SPEC726',\n",
       "       'SPEC727', 'SPEC728', 'SPEC729', 'SPEC72', 'SPEC730', 'SPEC731',\n",
       "       'SPEC732', 'SPEC733', 'SPEC734', 'SPEC735', 'SPEC736', 'SPEC737',\n",
       "       'SPEC738', 'SPEC73', 'SPEC77', 'SPEC79', 'SPEC80', 'SPEC83',\n",
       "       'SPEC84', 'SPEC85', 'SPEC86', 'SPEC87', 'SPEC89', 'SPEC91',\n",
       "       'SPEC93', 'SPEC96', 'SPEC97', 'SPEC9'], dtype='<U32')"
      ]
     },
     "execution_count": 16,
     "metadata": {},
     "output_type": "execute_result"
    }
   ],
   "source": [
    "lst"
   ]
  },
  {
   "cell_type": "code",
   "execution_count": 17,
   "id": "5a99d9ad-c77f-41fa-8169-d7a6d723f38d",
   "metadata": {},
   "outputs": [],
   "source": [
    "var_cut=0.005"
   ]
  },
  {
   "cell_type": "code",
   "execution_count": 18,
   "id": "55da5840-c4d5-423e-94e5-76525232226e",
   "metadata": {},
   "outputs": [],
   "source": [
    "#qso()"
   ]
  },
  {
   "cell_type": "code",
   "execution_count": 19,
   "id": "26268939-debd-4b53-88f7-693846fd1ce1",
   "metadata": {},
   "outputs": [],
   "source": [
    "#plot_fors2_raw()"
   ]
  },
  {
   "cell_type": "markdown",
   "id": "d072d79a-9c35-49ef-989f-f0c692a964c6",
   "metadata": {},
   "source": [
    "#### redshift distribution"
   ]
  },
  {
   "cell_type": "code",
   "execution_count": 20,
   "id": "5a4629f0-0b9b-4167-8aa4-7d46c805625b",
   "metadata": {},
   "outputs": [],
   "source": [
    "#hist_zspec()"
   ]
  },
  {
   "cell_type": "markdown",
   "id": "2babeec8-a799-48b4-8031-d4a2fbe9ba86",
   "metadata": {},
   "source": [
    "#### Count Zspec"
   ]
  },
  {
   "cell_type": "code",
   "execution_count": 21,
   "id": "cc9f9403-d5f0-4710-927c-237898080d1a",
   "metadata": {},
   "outputs": [],
   "source": [
    "#count_zspec()"
   ]
  },
  {
   "cell_type": "markdown",
   "id": "3bd05184-f2ec-498e-8521-57664a62dbe3",
   "metadata": {},
   "source": [
    "#### Sort color"
   ]
  },
  {
   "cell_type": "code",
   "execution_count": 22,
   "id": "befd1bb5-94d7-46fc-a8ab-f4bbc46198af",
   "metadata": {},
   "outputs": [],
   "source": [
    "#color_sort()"
   ]
  },
  {
   "cell_type": "markdown",
   "id": "019614a6-40d5-4782-b00c-884451870565",
   "metadata": {},
   "source": [
    "#### Histogram"
   ]
  },
  {
   "cell_type": "code",
   "execution_count": 23,
   "id": "b7ed3894-bcb1-4883-9534-f1f640b1b7dc",
   "metadata": {},
   "outputs": [],
   "source": [
    "#hist_diff_raw_sl()"
   ]
  },
  {
   "cell_type": "markdown",
   "id": "8b82f604-ddf9-4510-b224-5af926376e21",
   "metadata": {},
   "source": [
    "#### Compare Spectra"
   ]
  },
  {
   "cell_type": "code",
   "execution_count": 24,
   "id": "3a80a0b2-2a9f-46a1-ab73-56b796882065",
   "metadata": {},
   "outputs": [],
   "source": [
    "#plot_out=True\n",
    "#plot_out=False\n",
    "#compare_spectra(plot_out)"
   ]
  },
  {
   "cell_type": "markdown",
   "id": "bcd93f41-e98b-43d8-adc9-86846ab39844",
   "metadata": {},
   "source": [
    "#### Variance"
   ]
  },
  {
   "cell_type": "code",
   "execution_count": 25,
   "id": "2f5cccde-da6a-4a99-b4e8-0147b6829b4a",
   "metadata": {},
   "outputs": [],
   "source": [
    "#hist_var()"
   ]
  },
  {
   "cell_type": "markdown",
   "id": "6d79f7b1-e194-41d1-8310-7e62e4a62c85",
   "metadata": {},
   "source": [
    "#### Save plots"
   ]
  },
  {
   "cell_type": "code",
   "execution_count": 26,
   "id": "c7398396-b958-4aae-8c73-82c2ab106bbb",
   "metadata": {},
   "outputs": [],
   "source": [
    "#pdf_pages.close()"
   ]
  },
  {
   "cell_type": "code",
   "execution_count": null,
   "id": "7d4697ce-d505-447f-a835-63488402bdf7",
   "metadata": {},
   "outputs": [],
   "source": []
  }
 ],
 "metadata": {
  "kernelspec": {
   "display_name": "Python 3 (ipykernel)",
   "language": "python",
   "name": "python3"
  },
  "language_info": {
   "codemirror_mode": {
    "name": "ipython",
    "version": 3
   },
   "file_extension": ".py",
   "mimetype": "text/x-python",
   "name": "python",
   "nbconvert_exporter": "python",
   "pygments_lexer": "ipython3",
   "version": "3.9.13"
  },
  "toc": {
   "base_numbering": 1,
   "nav_menu": {},
   "number_sections": true,
   "sideBar": true,
   "skip_h1_title": false,
   "title_cell": "Table of Contents",
   "title_sidebar": "Contents",
   "toc_cell": false,
   "toc_position": {},
   "toc_section_display": true,
   "toc_window_display": false
  }
 },
 "nbformat": 4,
 "nbformat_minor": 5
}
