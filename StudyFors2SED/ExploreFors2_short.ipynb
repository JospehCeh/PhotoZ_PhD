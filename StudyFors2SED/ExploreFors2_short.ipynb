{
 "cells": [
  {
   "cell_type": "markdown",
   "id": "316c4ba5",
   "metadata": {},
   "source": [
    "# View Fors2 , version short\n",
    "\n",
    "- **Part 1**\n",
    "- author : Sylvie Dagoret-Campagne\n",
    "- affiliation : IJCLab/IN2P3/CNRS\n",
    "- creation date : 2022/12/19\n",
    "- update : 2023/05/23\n",
    "- update : 2023/09/27 @CC kernel conda_prospector_py310 \n",
    "- FORS2 : https://github.com/ericnuss/fors2\n",
    "- Result of StarLight : /sps/lsst/groups/photoz/fors2/FORS2/ResStarlight\n",
    "\n",
    "\n",
    "\n",
    "          /Users/dagoret/MacOSX/GitHub/LSST/FORS2>ls -l\n",
    "              total 0\n",
    "              drwxrwsr-x  3 dagoret  staff   96 Aug 21  2018 ResStarlight\n",
    "              drwxr-xr-x  9 dagoret  staff  288 Dec 19 18:01 fors2\n",
    "              \n",
    "- Redshift the For2 Spectra in their restframe               "
   ]
  },
  {
   "cell_type": "markdown",
   "id": "c7d7e344",
   "metadata": {},
   "source": [
    "## Import"
   ]
  },
  {
   "cell_type": "code",
   "execution_count": 1,
   "id": "e485fec8",
   "metadata": {},
   "outputs": [],
   "source": [
    "import os,sys\n",
    "from astropy.io import fits\n",
    "from astropy.table import Table"
   ]
  },
  {
   "cell_type": "code",
   "execution_count": 2,
   "id": "b271dcb5",
   "metadata": {},
   "outputs": [],
   "source": [
    "# Import some generally useful packages\n",
    "\n",
    "import os\n",
    "import numpy as np\n",
    "import matplotlib.pyplot as plt\n",
    "import matplotlib.colors as colors\n",
    "import matplotlib.cm as cmx\n",
    "\n",
    "from matplotlib.backends.backend_pdf import PdfPages\n",
    "\n",
    "%matplotlib inline\n",
    "import pandas as pd\n",
    "from itertools import cycle, islice\n"
   ]
  },
  {
   "cell_type": "code",
   "execution_count": 3,
   "id": "f6689d40-c574-471c-b9d6-996002aa4e76",
   "metadata": {},
   "outputs": [],
   "source": [
    "from scipy import ndimage\n",
    "\n",
    "#from scipy import interp as scinterp\n",
    "from scipy.interpolate import interp1d\n",
    "\n",
    "import glob\n",
    "import collections\n",
    "#from def_raw_seds import *"
   ]
  },
  {
   "cell_type": "code",
   "execution_count": 4,
   "id": "413f1e89",
   "metadata": {},
   "outputs": [],
   "source": [
    "# to enlarge the sizes\n",
    "params = {'legend.fontsize': 'large',\n",
    "          'figure.figsize': (8, 4),\n",
    "         'axes.labelsize': 'xx-large',\n",
    "         'axes.titlesize':'xx-large',\n",
    "         'xtick.labelsize':'xx-large',\n",
    "         'ytick.labelsize':'xx-large'}\n",
    "plt.rcParams.update(params)\n"
   ]
  },
  {
   "cell_type": "code",
   "execution_count": 5,
   "id": "c1e22fcc",
   "metadata": {},
   "outputs": [],
   "source": [
    "import matplotlib.offsetbox\n",
    "props = dict(boxstyle='round',edgecolor=\"w\",facecolor=\"w\", alpha=0.5)"
   ]
  },
  {
   "cell_type": "code",
   "execution_count": 6,
   "id": "bf513758-e26b-4561-b134-96f24ab56e1b",
   "metadata": {},
   "outputs": [
    {
     "name": "stdout",
     "output_type": "stream",
     "text": [
      "ls: cannot access ../../fors2/fors2/data: No such file or directory\n"
     ]
    }
   ],
   "source": [
    "!ls ../../fors2/fors2/data"
   ]
  },
  {
   "cell_type": "code",
   "execution_count": 7,
   "id": "b7a4c8c8-b050-415b-882c-1dbdd0e5fc13",
   "metadata": {},
   "outputs": [
    {
     "name": "stdout",
     "output_type": "stream",
     "text": [
      "/pbs/throng/lsst/users/dagoret/desc/StellarPopulationSynthesis/PhotoZ_PhD/StudyFors2SED\n"
     ]
    }
   ],
   "source": [
    "! pwd"
   ]
  },
  {
   "cell_type": "code",
   "execution_count": 8,
   "id": "b7e9a578-1bb2-4e32-b88f-a69914949eca",
   "metadata": {},
   "outputs": [],
   "source": [
    "from def_raw_seds import *"
   ]
  },
  {
   "cell_type": "code",
   "execution_count": 9,
   "id": "93d5eb5c-6c03-45fe-9795-17e8ed32d0d7",
   "metadata": {},
   "outputs": [],
   "source": [
    "from raw_data_analysis import *"
   ]
  },
  {
   "cell_type": "markdown",
   "id": "f8a04733-fb1a-4995-8549-2d213bc43195",
   "metadata": {},
   "source": [
    "# Start"
   ]
  },
  {
   "cell_type": "code",
   "execution_count": 10,
   "id": "bef8cae0-64c8-4454-abeb-fec127bb39c0",
   "metadata": {},
   "outputs": [
    {
     "name": "stdout",
     "output_type": "stream",
     "text": [
      "notebook current executing path : /pbs/throng/lsst/users/dagoret/desc/StellarPopulationSynthesis/PhotoZ_PhD/StudyFors2SED\n"
     ]
    }
   ],
   "source": [
    "cwd=os.path.abspath(\"\")\n",
    "main_dir = cwd\n",
    "print(f\"notebook current executing path : {cwd}\")"
   ]
  },
  {
   "cell_type": "markdown",
   "id": "a4d93f7b",
   "metadata": {},
   "source": [
    "## Configuration"
   ]
  },
  {
   "cell_type": "markdown",
   "id": "166b2775",
   "metadata": {},
   "source": [
    "### Fors2"
   ]
  },
  {
   "cell_type": "markdown",
   "id": "420390a8-8384-49a5-9a8b-a16888600007",
   "metadata": {},
   "source": [
    "## Start"
   ]
  },
  {
   "cell_type": "markdown",
   "id": "7f6b5b89-440f-4d2d-87d6-9eb190e215bd",
   "metadata": {},
   "source": [
    "### Catalog"
   ]
  },
  {
   "cell_type": "code",
   "execution_count": 11,
   "id": "0d1c76e0-51f7-47f0-9fc8-70f426930afd",
   "metadata": {},
   "outputs": [
    {
     "name": "stderr",
     "output_type": "stream",
     "text": [
      "WARNING: VerifyWarning: Invalid keyword for column 8: ASCII table null option (TNULLn) is longer than the column's character width and will be truncated (got '-2147483648'). [astropy.io.fits.column]\n",
      "WARNING: VerifyWarning: Invalid keyword for column 9: ASCII table null option (TNULLn) is longer than the column's character width and will be truncated (got '-32768'). [astropy.io.fits.column]\n"
     ]
    }
   ],
   "source": [
    "t = Table.read(filename_fits_catalog)"
   ]
  },
  {
   "cell_type": "code",
   "execution_count": 12,
   "id": "2ee70902-b8ad-4407-9314-25ff3d8b2f77",
   "metadata": {},
   "outputs": [
    {
     "data": {
      "text/html": [
       "<div><i>Table length=676</i>\n",
       "<table id=\"table140366673960416\" class=\"table-striped table-bordered table-condensed\">\n",
       "<thead><tr><th>ID</th><th>m_ID</th><th>RAJ2000</th><th>DEJ2000</th><th>z</th><th>u_z</th><th>Rmag</th><th>RV</th><th>e_RV</th><th>RT</th><th>Nsp</th><th>Lines</th></tr></thead>\n",
       "<thead><tr><th></th><th></th><th>deg</th><th>deg</th><th></th><th></th><th>mag</th><th>km / s</th><th>km / s</th><th></th><th></th><th></th></tr></thead>\n",
       "<thead><tr><th>int16</th><th>bytes1</th><th>float64</th><th>float64</th><th>float64</th><th>bytes1</th><th>float64</th><th>int32</th><th>int16</th><th>float64</th><th>int16</th><th>bytes77</th></tr></thead>\n",
       "<tr><td>1</td><td></td><td>13.52815</td><td>-28.40486</td><td>0.55409</td><td></td><td>20.79</td><td>166227</td><td>55</td><td>10.0</td><td>1</td><td>[OII],H8,K,H</td></tr>\n",
       "<tr><td>2</td><td></td><td>13.52997</td><td>-28.44776</td><td>0.34555</td><td></td><td>21.18</td><td>103665</td><td>40</td><td>12.3</td><td>1</td><td>K,H,G,H{beta}</td></tr>\n",
       "<tr><td>3</td><td></td><td>13.52552</td><td>-28.4208</td><td>0.6866</td><td></td><td>21.45</td><td>210642</td><td>48</td><td>11.6</td><td>4</td><td>[OII],H9,K,H,H{beta},[OIII],H8</td></tr>\n",
       "<tr><td>4</td><td></td><td>13.52216</td><td>-28.40914</td><td>0.68653</td><td></td><td>21.62</td><td>205959</td><td>123</td><td>10.6</td><td>1</td><td>[OII],H9,K,H,G,H{beta}</td></tr>\n",
       "<tr><td>7</td><td></td><td>13.50974</td><td>-28.42972</td><td>0.32371</td><td></td><td>22.34</td><td>97111</td><td>11</td><td>16.7</td><td>6</td><td>[OII],H{beta},[OIII],H{alpha}</td></tr>\n",
       "<tr><td>9</td><td></td><td>13.50219</td><td>-28.40641</td><td>0.29266</td><td></td><td>21.6</td><td>87798</td><td>58</td><td>13.1</td><td>1</td><td>H9,H8,K,H</td></tr>\n",
       "<tr><td>11</td><td></td><td>13.49724</td><td>-28.39487</td><td>0.62688</td><td></td><td>22.09</td><td>188063</td><td>17</td><td>24.3</td><td>3</td><td>[OII],H10,H8,K,H,H{delta}</td></tr>\n",
       "<tr><td>12</td><td></td><td>13.49584</td><td>-28.39125</td><td>0.2973</td><td></td><td>21.97</td><td>89189</td><td>30</td><td>14.8</td><td>2</td><td>[OII],H10,H9,H8,K,H</td></tr>\n",
       "<tr><td>13</td><td></td><td>13.49261</td><td>-28.38272</td><td>0.6887</td><td></td><td>23.14</td><td>206610</td><td>0</td><td>0.0</td><td>1</td><td>[OII],H{epsilon},H{delta},H{beta}</td></tr>\n",
       "<tr><td>...</td><td>...</td><td>...</td><td>...</td><td>...</td><td>...</td><td>...</td><td>...</td><td>...</td><td>...</td><td>...</td><td>...</td></tr>\n",
       "<tr><td>734</td><td></td><td>13.68083</td><td>-28.2329</td><td>0.23012</td><td></td><td>0.0</td><td>69036</td><td>71</td><td>7.2</td><td>1</td><td>[OII],H9,K,H,H{alpha},NII</td></tr>\n",
       "<tr><td>735</td><td></td><td>13.69958</td><td>-28.23161</td><td>0.36169</td><td></td><td>19.28</td><td>108507</td><td>107</td><td>8.2</td><td>1</td><td>K,H,G,H{beta}</td></tr>\n",
       "<tr><td>736</td><td></td><td>13.66431</td><td>-28.22849</td><td>0.55777</td><td></td><td>21.64</td><td>167331</td><td>31</td><td>10.5</td><td>1</td><td>[OII],H9,H{beta},[OIII]</td></tr>\n",
       "<tr><td>737</td><td></td><td>13.62722</td><td>-28.22692</td><td>0.52001</td><td></td><td>21.4</td><td>156003</td><td>53</td><td>10.2</td><td>1</td><td>[OII],K,H</td></tr>\n",
       "<tr><td>738</td><td></td><td>13.6437</td><td>-28.22527</td><td>0.56044</td><td></td><td>19.73</td><td>168132</td><td>126</td><td>7.1</td><td>1</td><td>K,H,4000{AA}-break,G</td></tr>\n",
       "<tr><td>1009</td><td></td><td>13.52353</td><td>-28.42682</td><td>0.2904</td><td></td><td>18.6</td><td>87120</td><td>0</td><td>0.0</td><td>1</td><td></td></tr>\n",
       "<tr><td>1011</td><td></td><td>13.51676</td><td>-28.40425</td><td>0.2934</td><td></td><td>18.26</td><td>88020</td><td>0</td><td>0.0</td><td>1</td><td></td></tr>\n",
       "<tr><td>1012</td><td></td><td>13.5147</td><td>-28.40379</td><td>0.2929</td><td></td><td>17.34</td><td>87870</td><td>0</td><td>0.0</td><td>1</td><td></td></tr>\n",
       "<tr><td>1018</td><td></td><td>13.49151</td><td>-28.38977</td><td>0.2925</td><td></td><td>19.62</td><td>87750</td><td>0</td><td>0.0</td><td>1</td><td></td></tr>\n",
       "<tr><td>1020</td><td></td><td>13.48143</td><td>-28.40368</td><td>0.2939</td><td></td><td>20.71</td><td>88170</td><td>0</td><td>0.0</td><td>1</td><td></td></tr>\n",
       "</table></div>"
      ],
      "text/plain": [
       "<Table length=676>\n",
       "  ID  ...\n",
       "      ...\n",
       "int16 ...\n",
       "----- ...\n",
       "    1 ...\n",
       "    2 ...\n",
       "    3 ...\n",
       "    4 ...\n",
       "    7 ...\n",
       "    9 ...\n",
       "   11 ...\n",
       "   12 ...\n",
       "   13 ...\n",
       "  ... ...\n",
       "  734 ...\n",
       "  735 ...\n",
       "  736 ...\n",
       "  737 ...\n",
       "  738 ...\n",
       " 1009 ...\n",
       " 1011 ...\n",
       " 1012 ...\n",
       " 1018 ...\n",
       " 1020 ..."
      ]
     },
     "execution_count": 12,
     "metadata": {},
     "output_type": "execute_result"
    }
   ],
   "source": [
    "t"
   ]
  },
  {
   "cell_type": "code",
   "execution_count": 13,
   "id": "215e1016-90d2-4a9e-8fb0-beeb1649d883",
   "metadata": {},
   "outputs": [
    {
     "data": {
      "text/html": [
       "<div>\n",
       "<style scoped>\n",
       "    .dataframe tbody tr th:only-of-type {\n",
       "        vertical-align: middle;\n",
       "    }\n",
       "\n",
       "    .dataframe tbody tr th {\n",
       "        vertical-align: top;\n",
       "    }\n",
       "\n",
       "    .dataframe thead th {\n",
       "        text-align: right;\n",
       "    }\n",
       "</style>\n",
       "<table border=\"1\" class=\"dataframe\">\n",
       "  <thead>\n",
       "    <tr style=\"text-align: right;\">\n",
       "      <th></th>\n",
       "      <th>ID</th>\n",
       "      <th>m_ID</th>\n",
       "      <th>RAJ2000</th>\n",
       "      <th>DEJ2000</th>\n",
       "      <th>z</th>\n",
       "      <th>u_z</th>\n",
       "      <th>Rmag</th>\n",
       "      <th>RV</th>\n",
       "      <th>e_RV</th>\n",
       "      <th>RT</th>\n",
       "      <th>Nsp</th>\n",
       "      <th>Lines</th>\n",
       "    </tr>\n",
       "  </thead>\n",
       "  <tbody>\n",
       "    <tr>\n",
       "      <th>0</th>\n",
       "      <td>1</td>\n",
       "      <td>b' '</td>\n",
       "      <td>13.52815</td>\n",
       "      <td>-28.40486</td>\n",
       "      <td>0.55409</td>\n",
       "      <td>b' '</td>\n",
       "      <td>20.79</td>\n",
       "      <td>166227</td>\n",
       "      <td>55</td>\n",
       "      <td>10.0</td>\n",
       "      <td>1</td>\n",
       "      <td>b'[OII],H8,K,H                                ...</td>\n",
       "    </tr>\n",
       "    <tr>\n",
       "      <th>1</th>\n",
       "      <td>2</td>\n",
       "      <td>b' '</td>\n",
       "      <td>13.52997</td>\n",
       "      <td>-28.44776</td>\n",
       "      <td>0.34555</td>\n",
       "      <td>b' '</td>\n",
       "      <td>21.18</td>\n",
       "      <td>103665</td>\n",
       "      <td>40</td>\n",
       "      <td>12.3</td>\n",
       "      <td>1</td>\n",
       "      <td>b'K,H,G,H{beta}                               ...</td>\n",
       "    </tr>\n",
       "    <tr>\n",
       "      <th>2</th>\n",
       "      <td>3</td>\n",
       "      <td>b' '</td>\n",
       "      <td>13.52552</td>\n",
       "      <td>-28.42080</td>\n",
       "      <td>0.68660</td>\n",
       "      <td>b' '</td>\n",
       "      <td>21.45</td>\n",
       "      <td>210642</td>\n",
       "      <td>48</td>\n",
       "      <td>11.6</td>\n",
       "      <td>4</td>\n",
       "      <td>b'[OII],H9,K,H,H{beta},[OIII],H8              ...</td>\n",
       "    </tr>\n",
       "    <tr>\n",
       "      <th>3</th>\n",
       "      <td>4</td>\n",
       "      <td>b' '</td>\n",
       "      <td>13.52216</td>\n",
       "      <td>-28.40914</td>\n",
       "      <td>0.68653</td>\n",
       "      <td>b' '</td>\n",
       "      <td>21.62</td>\n",
       "      <td>205959</td>\n",
       "      <td>123</td>\n",
       "      <td>10.6</td>\n",
       "      <td>1</td>\n",
       "      <td>b'[OII],H9,K,H,G,H{beta}                      ...</td>\n",
       "    </tr>\n",
       "    <tr>\n",
       "      <th>4</th>\n",
       "      <td>7</td>\n",
       "      <td>b' '</td>\n",
       "      <td>13.50974</td>\n",
       "      <td>-28.42972</td>\n",
       "      <td>0.32371</td>\n",
       "      <td>b' '</td>\n",
       "      <td>22.34</td>\n",
       "      <td>97111</td>\n",
       "      <td>11</td>\n",
       "      <td>16.7</td>\n",
       "      <td>6</td>\n",
       "      <td>b'[OII],H{beta},[OIII],H{alpha}               ...</td>\n",
       "    </tr>\n",
       "    <tr>\n",
       "      <th>...</th>\n",
       "      <td>...</td>\n",
       "      <td>...</td>\n",
       "      <td>...</td>\n",
       "      <td>...</td>\n",
       "      <td>...</td>\n",
       "      <td>...</td>\n",
       "      <td>...</td>\n",
       "      <td>...</td>\n",
       "      <td>...</td>\n",
       "      <td>...</td>\n",
       "      <td>...</td>\n",
       "      <td>...</td>\n",
       "    </tr>\n",
       "    <tr>\n",
       "      <th>671</th>\n",
       "      <td>1009</td>\n",
       "      <td>b' '</td>\n",
       "      <td>13.52353</td>\n",
       "      <td>-28.42682</td>\n",
       "      <td>0.29040</td>\n",
       "      <td>b' '</td>\n",
       "      <td>18.60</td>\n",
       "      <td>87120</td>\n",
       "      <td>0</td>\n",
       "      <td>0.0</td>\n",
       "      <td>1</td>\n",
       "      <td>b'                                            ...</td>\n",
       "    </tr>\n",
       "    <tr>\n",
       "      <th>672</th>\n",
       "      <td>1011</td>\n",
       "      <td>b' '</td>\n",
       "      <td>13.51676</td>\n",
       "      <td>-28.40425</td>\n",
       "      <td>0.29340</td>\n",
       "      <td>b' '</td>\n",
       "      <td>18.26</td>\n",
       "      <td>88020</td>\n",
       "      <td>0</td>\n",
       "      <td>0.0</td>\n",
       "      <td>1</td>\n",
       "      <td>b'                                            ...</td>\n",
       "    </tr>\n",
       "    <tr>\n",
       "      <th>673</th>\n",
       "      <td>1012</td>\n",
       "      <td>b' '</td>\n",
       "      <td>13.51470</td>\n",
       "      <td>-28.40379</td>\n",
       "      <td>0.29290</td>\n",
       "      <td>b' '</td>\n",
       "      <td>17.34</td>\n",
       "      <td>87870</td>\n",
       "      <td>0</td>\n",
       "      <td>0.0</td>\n",
       "      <td>1</td>\n",
       "      <td>b'                                            ...</td>\n",
       "    </tr>\n",
       "    <tr>\n",
       "      <th>674</th>\n",
       "      <td>1018</td>\n",
       "      <td>b' '</td>\n",
       "      <td>13.49151</td>\n",
       "      <td>-28.38977</td>\n",
       "      <td>0.29250</td>\n",
       "      <td>b' '</td>\n",
       "      <td>19.62</td>\n",
       "      <td>87750</td>\n",
       "      <td>0</td>\n",
       "      <td>0.0</td>\n",
       "      <td>1</td>\n",
       "      <td>b'                                            ...</td>\n",
       "    </tr>\n",
       "    <tr>\n",
       "      <th>675</th>\n",
       "      <td>1020</td>\n",
       "      <td>b' '</td>\n",
       "      <td>13.48143</td>\n",
       "      <td>-28.40368</td>\n",
       "      <td>0.29390</td>\n",
       "      <td>b' '</td>\n",
       "      <td>20.71</td>\n",
       "      <td>88170</td>\n",
       "      <td>0</td>\n",
       "      <td>0.0</td>\n",
       "      <td>1</td>\n",
       "      <td>b'                                            ...</td>\n",
       "    </tr>\n",
       "  </tbody>\n",
       "</table>\n",
       "<p>676 rows × 12 columns</p>\n",
       "</div>"
      ],
      "text/plain": [
       "       ID  m_ID   RAJ2000   DEJ2000        z   u_z   Rmag      RV  e_RV    RT  \\\n",
       "0       1  b' '  13.52815 -28.40486  0.55409  b' '  20.79  166227    55  10.0   \n",
       "1       2  b' '  13.52997 -28.44776  0.34555  b' '  21.18  103665    40  12.3   \n",
       "2       3  b' '  13.52552 -28.42080  0.68660  b' '  21.45  210642    48  11.6   \n",
       "3       4  b' '  13.52216 -28.40914  0.68653  b' '  21.62  205959   123  10.6   \n",
       "4       7  b' '  13.50974 -28.42972  0.32371  b' '  22.34   97111    11  16.7   \n",
       "..    ...   ...       ...       ...      ...   ...    ...     ...   ...   ...   \n",
       "671  1009  b' '  13.52353 -28.42682  0.29040  b' '  18.60   87120     0   0.0   \n",
       "672  1011  b' '  13.51676 -28.40425  0.29340  b' '  18.26   88020     0   0.0   \n",
       "673  1012  b' '  13.51470 -28.40379  0.29290  b' '  17.34   87870     0   0.0   \n",
       "674  1018  b' '  13.49151 -28.38977  0.29250  b' '  19.62   87750     0   0.0   \n",
       "675  1020  b' '  13.48143 -28.40368  0.29390  b' '  20.71   88170     0   0.0   \n",
       "\n",
       "     Nsp                                              Lines  \n",
       "0      1  b'[OII],H8,K,H                                ...  \n",
       "1      1  b'K,H,G,H{beta}                               ...  \n",
       "2      4  b'[OII],H9,K,H,H{beta},[OIII],H8              ...  \n",
       "3      1  b'[OII],H9,K,H,G,H{beta}                      ...  \n",
       "4      6  b'[OII],H{beta},[OIII],H{alpha}               ...  \n",
       "..   ...                                                ...  \n",
       "671    1  b'                                            ...  \n",
       "672    1  b'                                            ...  \n",
       "673    1  b'                                            ...  \n",
       "674    1  b'                                            ...  \n",
       "675    1  b'                                            ...  \n",
       "\n",
       "[676 rows x 12 columns]"
      ]
     },
     "execution_count": 13,
     "metadata": {},
     "output_type": "execute_result"
    }
   ],
   "source": [
    "t.to_pandas()"
   ]
  },
  {
   "cell_type": "markdown",
   "id": "ddbbab8c-201b-4c18-bbb6-2f9fd41878e7",
   "metadata": {},
   "source": [
    "### List"
   ]
  },
  {
   "cell_type": "code",
   "execution_count": 14,
   "id": "c1601eb2-78aa-4320-98c0-578324cb1407",
   "metadata": {},
   "outputs": [],
   "source": [
    "if not os.path.isdir(\"./fors2out/seds\"):\n",
    "    os.makedirs('./fors2out/seds') "
   ]
  },
  {
   "cell_type": "code",
   "execution_count": 15,
   "id": "ac4aea36-58e8-4517-9238-e479b6cded17",
   "metadata": {},
   "outputs": [
    {
     "name": "stderr",
     "output_type": "stream",
     "text": [
      "WARNING: VerifyWarning: Invalid keyword for column 8: ASCII table null option (TNULLn) is longer than the column's character width and will be truncated (got '-2147483648'). [astropy.io.fits.column]\n",
      "WARNING: VerifyWarning: Invalid keyword for column 9: ASCII table null option (TNULLn) is longer than the column's character width and will be truncated (got '-32768'). [astropy.io.fits.column]\n"
     ]
    }
   ],
   "source": [
    "lst=fors2_jct_SL() #remet les spectres dans le rest frame (ie a z=0)"
   ]
  },
  {
   "cell_type": "code",
   "execution_count": 16,
   "id": "b6131f77-e460-4130-8706-712cf21d75f4",
   "metadata": {},
   "outputs": [
    {
     "data": {
      "text/plain": [
       "array(['SPEC37', 'SPEC85', 'SPEC526', 'SPEC595', 'SPEC583', 'SPEC282',\n",
       "       'SPEC326', 'SPEC221', 'SPEC351', 'SPEC543', 'SPEC443', 'SPEC677',\n",
       "       'SPEC468', 'SPEC240', 'SPEC115', 'SPEC31', 'SPEC672', 'SPEC338',\n",
       "       'SPEC601', 'SPEC334', 'SPEC424', 'SPEC306', 'SPEC197', 'SPEC210',\n",
       "       'SPEC191', 'SPEC643', 'SPEC323', 'SPEC681', 'SPEC591', 'SPEC446',\n",
       "       'SPEC344', 'SPEC425', 'SPEC717', 'SPEC628', 'SPEC621', 'SPEC363',\n",
       "       'SPEC109', 'SPEC47', 'SPEC531', 'SPEC372', 'SPEC128', 'SPEC590',\n",
       "       'SPEC423', 'SPEC632', 'SPEC685', 'SPEC71', 'SPEC454', 'SPEC222',\n",
       "       'SPEC287', 'SPEC606', 'SPEC490', 'SPEC346', 'SPEC227', 'SPEC510',\n",
       "       'SPEC500', 'SPEC30', 'SPEC428', 'SPEC305', 'SPEC715', 'SPEC62',\n",
       "       'SPEC726', 'SPEC569', 'SPEC524', 'SPEC722', 'SPEC602', 'SPEC196',\n",
       "       'SPEC324', 'SPEC684', 'SPEC233', 'SPEC2', 'SPEC32', 'SPEC571',\n",
       "       'SPEC141', 'SPEC692', 'SPEC398', 'SPEC93', 'SPEC671', 'SPEC593',\n",
       "       'SPEC438', 'SPEC460', 'SPEC388', 'SPEC463', 'SPEC676', 'SPEC729',\n",
       "       'SPEC371', 'SPEC260', 'SPEC449', 'SPEC242', 'SPEC694', 'SPEC459',\n",
       "       'SPEC451', 'SPEC358', 'SPEC674', 'SPEC61', 'SPEC706', 'SPEC634',\n",
       "       'SPEC112', 'SPEC540', 'SPEC455', 'SPEC369', 'SPEC548', 'SPEC471',\n",
       "       'SPEC72', 'SPEC361', 'SPEC397', 'SPEC274', 'SPEC582', 'SPEC360',\n",
       "       'SPEC693', 'SPEC138', 'SPEC640', 'SPEC642', 'SPEC349', 'SPEC237',\n",
       "       'SPEC327', 'SPEC663', 'SPEC600', 'SPEC189', 'SPEC250', 'SPEC550',\n",
       "       'SPEC584', 'SPEC294', 'SPEC73', 'SPEC551', 'SPEC268', 'SPEC375',\n",
       "       'SPEC518', 'SPEC117', 'SPEC499', 'SPEC392', 'SPEC440', 'SPEC259',\n",
       "       'SPEC308', 'SPEC635', 'SPEC669', 'SPEC546', 'SPEC527', 'SPEC352',\n",
       "       'SPEC533', 'SPEC680', 'SPEC698', 'SPEC519', 'SPEC442', 'SPEC411',\n",
       "       'SPEC447', 'SPEC265', 'SPEC456', 'SPEC553', 'SPEC120', 'SPEC704',\n",
       "       'SPEC13', 'SPEC49', 'SPEC246', 'SPEC623', 'SPEC235', 'SPEC386',\n",
       "       'SPEC19', 'SPEC243', 'SPEC667', 'SPEC664', 'SPEC67', 'SPEC700',\n",
       "       'SPEC503', 'SPEC198', 'SPEC277', 'SPEC336', 'SPEC223', 'SPEC481',\n",
       "       'SPEC560', 'SPEC121', 'SPEC525', 'SPEC350', 'SPEC565', 'SPEC431',\n",
       "       'SPEC297', 'SPEC673', 'SPEC506', 'SPEC437', 'SPEC668', 'SPEC475',\n",
       "       'SPEC406', 'SPEC466', 'SPEC617', 'SPEC539', 'SPEC192', 'SPEC516',\n",
       "       'SPEC558', 'SPEC283', 'SPEC648', 'SPEC418', 'SPEC376', 'SPEC557',\n",
       "       'SPEC733', 'SPEC696', 'SPEC280', 'SPEC383', 'SPEC420', 'SPEC278',\n",
       "       'SPEC467', 'SPEC110', 'SPEC493', 'SPEC187', 'SPEC639', 'SPEC348',\n",
       "       'SPEC488', 'SPEC563', 'SPEC33', 'SPEC393', 'SPEC106', 'SPEC339',\n",
       "       'SPEC319', 'SPEC253', 'SPEC572', 'SPEC719', 'SPEC301', 'SPEC713',\n",
       "       'SPEC714', 'SPEC578', 'SPEC448', 'SPEC523', 'SPEC236', 'SPEC302',\n",
       "       'SPEC542', 'SPEC723', 'SPEC266', 'SPEC405', 'SPEC702', 'SPEC164',\n",
       "       'SPEC549', 'SPEC603', 'SPEC647', 'SPEC697', 'SPEC691', 'SPEC249',\n",
       "       'SPEC9', 'SPEC96', 'SPEC662', 'SPEC622', 'SPEC656', 'SPEC633',\n",
       "       'SPEC214', 'SPEC248', 'SPEC509', 'SPEC554', 'SPEC545', 'SPEC244',\n",
       "       'SPEC111', 'SPEC637', 'SPEC134', 'SPEC331', 'SPEC610', 'SPEC659',\n",
       "       'SPEC123', 'SPEC271', 'SPEC596', 'SPEC374', 'SPEC25', 'SPEC477',\n",
       "       'SPEC313', 'SPEC731', 'SPEC501', 'SPEC389', 'SPEC276', 'SPEC275',\n",
       "       'SPEC357', 'SPEC687', 'SPEC530', 'SPEC267', 'SPEC333', 'SPEC291',\n",
       "       'SPEC184', 'SPEC118', 'SPEC627', 'SPEC84', 'SPEC651', 'SPEC612',\n",
       "       'SPEC613', 'SPEC404', 'SPEC416', 'SPEC421', 'SPEC335', 'SPEC536',\n",
       "       'SPEC365', 'SPEC380', 'SPEC384', 'SPEC218', 'SPEC450', 'SPEC552',\n",
       "       'SPEC494', 'SPEC415', 'SPEC652', 'SPEC716', 'SPEC620', 'SPEC57',\n",
       "       'SPEC408', 'SPEC394', 'SPEC483', 'SPEC598', 'SPEC151', 'SPEC508',\n",
       "       'SPEC711', 'SPEC574', 'SPEC686', 'SPEC391', 'SPEC645', 'SPEC329',\n",
       "       'SPEC547', 'SPEC127', 'SPEC654', 'SPEC401', 'SPEC556', 'SPEC492',\n",
       "       'SPEC354', 'SPEC580', 'SPEC238', 'SPEC636', 'SPEC444', 'SPEC318',\n",
       "       'SPEC661', 'SPEC537', 'SPEC188', 'SPEC683', 'SPEC520', 'SPEC429',\n",
       "       'SPEC734', 'SPEC513', 'SPEC480', 'SPEC303', 'SPEC413', 'SPEC730',\n",
       "       'SPEC409', 'SPEC193', 'SPEC79', 'SPEC564', 'SPEC355', 'SPEC373',\n",
       "       'SPEC156', 'SPEC577', 'SPEC252', 'SPEC512', 'SPEC599', 'SPEC205',\n",
       "       'SPEC91', 'SPEC135', 'SPEC114', 'SPEC430', 'SPEC644', 'SPEC381',\n",
       "       'SPEC68', 'SPEC478', 'SPEC322', 'SPEC340', 'SPEC566', 'SPEC345',\n",
       "       'SPEC505', 'SPEC427', 'SPEC83', 'SPEC264', 'SPEC97', 'SPEC609',\n",
       "       'SPEC422', 'SPEC343', 'SPEC457', 'SPEC149', 'SPEC631', 'SPEC453',\n",
       "       'SPEC292', 'SPEC77', 'SPEC588', 'SPEC586', 'SPEC3', 'SPEC382',\n",
       "       'SPEC482', 'SPEC262', 'SPEC178', 'SPEC102', 'SPEC738', 'SPEC629',\n",
       "       'SPEC675', 'SPEC36', 'SPEC567', 'SPEC703', 'SPEC497', 'SPEC58',\n",
       "       'SPEC69', 'SPEC587', 'SPEC261', 'SPEC245', 'SPEC288', 'SPEC589',\n",
       "       'SPEC507', 'SPEC35', 'SPEC638', 'SPEC377', 'SPEC55', 'SPEC625',\n",
       "       'SPEC231', 'SPEC568', 'SPEC562', 'SPEC204', 'SPEC679', 'SPEC426',\n",
       "       'SPEC701', 'SPEC367', 'SPEC419', 'SPEC337', 'SPEC183', 'SPEC707',\n",
       "       'SPEC725', 'SPEC646', 'SPEC160', 'SPEC705', 'SPEC359', 'SPEC660',\n",
       "       'SPEC532', 'SPEC461', 'SPEC605', 'SPEC496', 'SPEC368', 'SPEC315',\n",
       "       'SPEC378', 'SPEC544', 'SPEC234', 'SPEC624', 'SPEC535', 'SPEC181',\n",
       "       'SPEC626', 'SPEC281', 'SPEC332', 'SPEC474', 'SPEC529', 'SPEC575',\n",
       "       'SPEC362', 'SPEC436', 'SPEC417', 'SPEC432', 'SPEC400', 'SPEC670',\n",
       "       'SPEC171', 'SPEC304', 'SPEC59', 'SPEC445', 'SPEC87', 'SPEC618',\n",
       "       'SPEC472', 'SPEC435', 'SPEC658', 'SPEC80', 'SPEC708', 'SPEC720',\n",
       "       'SPEC724', 'SPEC608', 'SPEC682', 'SPEC517', 'SPEC585', 'SPEC366',\n",
       "       'SPEC86', 'SPEC434', 'SPEC458', 'SPEC594', 'SPEC653', 'SPEC70',\n",
       "       'SPEC325', 'SPEC387', 'SPEC737', 'SPEC439', 'SPEC379', 'SPEC573',\n",
       "       'SPEC678', 'SPEC414', 'SPEC107', 'SPEC462', 'SPEC504', 'SPEC307',\n",
       "       'SPEC452', 'SPEC579', 'SPEC370', 'SPEC353', 'SPEC226', 'SPEC476',\n",
       "       'SPEC650', 'SPEC295', 'SPEC469', 'SPEC317', 'SPEC441', 'SPEC390',\n",
       "       'SPEC364', 'SPEC597', 'SPEC279', 'SPEC296', 'SPEC179', 'SPEC604',\n",
       "       'SPEC721', 'SPEC641', 'SPEC630', 'SPEC185', 'SPEC464', 'SPEC732',\n",
       "       'SPEC570', 'SPEC341', 'SPEC657', 'SPEC321', 'SPEC728', 'SPEC396',\n",
       "       'SPEC479', 'SPEC718', 'SPEC194', 'SPEC727', 'SPEC699', 'SPEC152',\n",
       "       'SPEC690', 'SPEC385', 'SPEC465', 'SPEC34', 'SPEC161', 'SPEC655',\n",
       "       'SPEC403', 'SPEC24', 'SPEC186', 'SPEC89', 'SPEC689', 'SPEC410',\n",
       "       'SPEC735', 'SPEC695', 'SPEC113', 'SPEC132', 'SPEC576', 'SPEC395',\n",
       "       'SPEC182', 'SPEC66', 'SPEC541', 'SPEC328', 'SPEC258', 'SPEC736',\n",
       "       'SPEC407', 'SPEC51', 'SPEC710', 'SPEC528', 'SPEC611', 'SPEC470',\n",
       "       'SPEC137', 'SPEC402', 'SPEC511', 'SPEC412', 'SPEC309', 'SPEC298',\n",
       "       'SPEC399', 'SPEC45', 'SPEC649', 'SPEC559'], dtype='<U32')"
      ]
     },
     "execution_count": 16,
     "metadata": {},
     "output_type": "execute_result"
    }
   ],
   "source": [
    "lst"
   ]
  },
  {
   "cell_type": "code",
   "execution_count": 17,
   "id": "5a99d9ad-c77f-41fa-8169-d7a6d723f38d",
   "metadata": {},
   "outputs": [],
   "source": [
    "var_cut=0.005"
   ]
  },
  {
   "cell_type": "code",
   "execution_count": 18,
   "id": "55da5840-c4d5-423e-94e5-76525232226e",
   "metadata": {},
   "outputs": [],
   "source": [
    "#qso()"
   ]
  },
  {
   "cell_type": "code",
   "execution_count": 19,
   "id": "26268939-debd-4b53-88f7-693846fd1ce1",
   "metadata": {},
   "outputs": [],
   "source": [
    "#plot_fors2_raw()"
   ]
  },
  {
   "cell_type": "markdown",
   "id": "d072d79a-9c35-49ef-989f-f0c692a964c6",
   "metadata": {},
   "source": [
    "#### redshift distribution"
   ]
  },
  {
   "cell_type": "code",
   "execution_count": 20,
   "id": "5a4629f0-0b9b-4167-8aa4-7d46c805625b",
   "metadata": {},
   "outputs": [],
   "source": [
    "#hist_zspec()"
   ]
  },
  {
   "cell_type": "markdown",
   "id": "2babeec8-a799-48b4-8031-d4a2fbe9ba86",
   "metadata": {},
   "source": [
    "#### Count Zspec"
   ]
  },
  {
   "cell_type": "code",
   "execution_count": 21,
   "id": "cc9f9403-d5f0-4710-927c-237898080d1a",
   "metadata": {},
   "outputs": [],
   "source": [
    "#count_zspec()"
   ]
  },
  {
   "cell_type": "markdown",
   "id": "3bd05184-f2ec-498e-8521-57664a62dbe3",
   "metadata": {},
   "source": [
    "#### Sort color"
   ]
  },
  {
   "cell_type": "code",
   "execution_count": 22,
   "id": "befd1bb5-94d7-46fc-a8ab-f4bbc46198af",
   "metadata": {},
   "outputs": [],
   "source": [
    "#color_sort()"
   ]
  },
  {
   "cell_type": "markdown",
   "id": "019614a6-40d5-4782-b00c-884451870565",
   "metadata": {},
   "source": [
    "#### Histogram"
   ]
  },
  {
   "cell_type": "code",
   "execution_count": 23,
   "id": "b7ed3894-bcb1-4883-9534-f1f640b1b7dc",
   "metadata": {},
   "outputs": [],
   "source": [
    "#hist_diff_raw_sl()"
   ]
  },
  {
   "cell_type": "markdown",
   "id": "8b82f604-ddf9-4510-b224-5af926376e21",
   "metadata": {},
   "source": [
    "#### Compare Spectra"
   ]
  },
  {
   "cell_type": "code",
   "execution_count": 24,
   "id": "3a80a0b2-2a9f-46a1-ab73-56b796882065",
   "metadata": {},
   "outputs": [],
   "source": [
    "#plot_out=True\n",
    "#plot_out=False\n",
    "#compare_spectra(plot_out)"
   ]
  },
  {
   "cell_type": "markdown",
   "id": "bcd93f41-e98b-43d8-adc9-86846ab39844",
   "metadata": {},
   "source": [
    "#### Variance"
   ]
  },
  {
   "cell_type": "code",
   "execution_count": 25,
   "id": "2f5cccde-da6a-4a99-b4e8-0147b6829b4a",
   "metadata": {},
   "outputs": [],
   "source": [
    "#hist_var()"
   ]
  },
  {
   "cell_type": "markdown",
   "id": "6d79f7b1-e194-41d1-8310-7e62e4a62c85",
   "metadata": {},
   "source": [
    "#### Save plots"
   ]
  },
  {
   "cell_type": "code",
   "execution_count": 26,
   "id": "c7398396-b958-4aae-8c73-82c2ab106bbb",
   "metadata": {},
   "outputs": [],
   "source": [
    "#pdf_pages.close()"
   ]
  },
  {
   "cell_type": "code",
   "execution_count": null,
   "id": "7d4697ce-d505-447f-a835-63488402bdf7",
   "metadata": {},
   "outputs": [],
   "source": []
  }
 ],
 "metadata": {
  "kernelspec": {
   "display_name": "conda_prospector_py310",
   "language": "python",
   "name": "conda_prospector_py310"
  },
  "language_info": {
   "codemirror_mode": {
    "name": "ipython",
    "version": 3
   },
   "file_extension": ".py",
   "mimetype": "text/x-python",
   "name": "python",
   "nbconvert_exporter": "python",
   "pygments_lexer": "ipython3",
   "version": "3.10.0"
  },
  "toc": {
   "base_numbering": 1,
   "nav_menu": {},
   "number_sections": true,
   "sideBar": true,
   "skip_h1_title": false,
   "title_cell": "Table of Contents",
   "title_sidebar": "Contents",
   "toc_cell": false,
   "toc_position": {},
   "toc_section_display": true,
   "toc_window_display": false
  }
 },
 "nbformat": 4,
 "nbformat_minor": 5
}
