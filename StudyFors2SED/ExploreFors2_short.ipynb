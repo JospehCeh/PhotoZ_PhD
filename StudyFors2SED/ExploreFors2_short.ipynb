{
 "cells": [
  {
   "cell_type": "markdown",
   "id": "316c4ba5",
   "metadata": {},
   "source": [
    "# View Fors2 , version short\n",
    "\n",
    "- **Part 1**\n",
    "- author : Sylvie Dagoret-Campagne\n",
    "- affiliation : IJCLab/IN2P3/CNRS\n",
    "- creation date : 2022/12/19\n",
    "- update : 2023/03/23\n",
    "- FORS2 : https://github.com/ericnuss/fors2\n",
    "- Result of StarLight : /sps/lsst/groups/photoz/fors2/FORS2/ResStarlight\n",
    "\n",
    "\n",
    "\n",
    "          /Users/dagoret/MacOSX/GitHub/LSST/FORS2>ls -l\n",
    "              total 0\n",
    "              drwxrwsr-x  3 dagoret  staff   96 Aug 21  2018 ResStarlight\n",
    "              drwxr-xr-x  9 dagoret  staff  288 Dec 19 18:01 fors2"
   ]
  },
  {
   "cell_type": "markdown",
   "id": "c7d7e344",
   "metadata": {},
   "source": [
    "## Import"
   ]
  },
  {
   "cell_type": "code",
   "execution_count": null,
   "id": "e485fec8",
   "metadata": {},
   "outputs": [],
   "source": [
    "import os,sys\n",
    "from astropy.io import fits\n",
    "from astropy.table import Table"
   ]
  },
  {
   "cell_type": "code",
   "execution_count": null,
   "id": "b271dcb5",
   "metadata": {},
   "outputs": [],
   "source": [
    "# Import some generally useful packages\n",
    "\n",
    "import os\n",
    "import numpy as np\n",
    "import matplotlib.pyplot as plt\n",
    "import matplotlib.colors as colors\n",
    "import matplotlib.cm as cmx\n",
    "\n",
    "from matplotlib.backends.backend_pdf import PdfPages\n",
    "\n",
    "%matplotlib inline\n",
    "import pandas as pd\n",
    "from itertools import cycle, islice\n"
   ]
  },
  {
   "cell_type": "code",
   "execution_count": null,
   "id": "f6689d40-c574-471c-b9d6-996002aa4e76",
   "metadata": {},
   "outputs": [],
   "source": [
    "from scipy import ndimage\n",
    "\n",
    "#from scipy import interp as scinterp\n",
    "from scipy.interpolate import interp1d\n",
    "\n",
    "import glob\n",
    "import collections\n",
    "#from def_raw_seds import *"
   ]
  },
  {
   "cell_type": "code",
   "execution_count": null,
   "id": "413f1e89",
   "metadata": {},
   "outputs": [],
   "source": [
    "# to enlarge the sizes\n",
    "params = {'legend.fontsize': 'large',\n",
    "          'figure.figsize': (8, 4),\n",
    "         'axes.labelsize': 'xx-large',\n",
    "         'axes.titlesize':'xx-large',\n",
    "         'xtick.labelsize':'xx-large',\n",
    "         'ytick.labelsize':'xx-large'}\n",
    "plt.rcParams.update(params)\n"
   ]
  },
  {
   "cell_type": "code",
   "execution_count": null,
   "id": "c1e22fcc",
   "metadata": {},
   "outputs": [],
   "source": [
    "import matplotlib.offsetbox\n",
    "props = dict(boxstyle='round',edgecolor=\"w\",facecolor=\"w\", alpha=0.5)"
   ]
  },
  {
   "cell_type": "code",
   "execution_count": null,
   "id": "bf513758-e26b-4561-b134-96f24ab56e1b",
   "metadata": {},
   "outputs": [],
   "source": [
    "!ls ../../fors2/fors2/data"
   ]
  },
  {
   "cell_type": "code",
   "execution_count": null,
   "id": "b7a4c8c8-b050-415b-882c-1dbdd0e5fc13",
   "metadata": {},
   "outputs": [],
   "source": [
    "! pwd"
   ]
  },
  {
   "cell_type": "code",
   "execution_count": null,
   "id": "b7e9a578-1bb2-4e32-b88f-a69914949eca",
   "metadata": {},
   "outputs": [],
   "source": [
    "from def_raw_seds import *"
   ]
  },
  {
   "cell_type": "code",
   "execution_count": null,
   "id": "93d5eb5c-6c03-45fe-9795-17e8ed32d0d7",
   "metadata": {},
   "outputs": [],
   "source": [
    "from raw_data_analysis import *"
   ]
  },
  {
   "cell_type": "code",
   "execution_count": null,
   "id": "7ce825ef",
   "metadata": {},
   "outputs": [],
   "source": [
    "# Import the primary photometry classes from rubin_sim.photUtils\n",
    "\n",
    "import rubin_sim.phot_Utils.Bandpass as Bandpass\n",
    "import rubin_sim.phot_Utils.Sed as Sed\n",
    "from rubin_sim.data import get_data_dir"
   ]
  },
  {
   "cell_type": "code",
   "execution_count": null,
   "id": "a20e3234",
   "metadata": {},
   "outputs": [],
   "source": [
    "#pysynphot_root_path=os.environ['PYSYN_CDBS']\n",
    "#path_sed_calspec=os.path.join(pysynphot_root_path,'calspec')\n",
    "# pysynphot\n",
    "#import pysynphot as S\n",
    "#S.refs.setref(area=1)\n",
    "#S.refs.getref()"
   ]
  },
  {
   "cell_type": "markdown",
   "id": "f8a04733-fb1a-4995-8549-2d213bc43195",
   "metadata": {},
   "source": [
    "# Start"
   ]
  },
  {
   "cell_type": "code",
   "execution_count": null,
   "id": "bef8cae0-64c8-4454-abeb-fec127bb39c0",
   "metadata": {},
   "outputs": [],
   "source": [
    "cwd=os.path.abspath(\"\")\n",
    "main_dir = cwd\n",
    "print(f\"notebook current executing path : {cwd}\")"
   ]
  },
  {
   "cell_type": "markdown",
   "id": "a4d93f7b",
   "metadata": {},
   "source": [
    "## Configuration"
   ]
  },
  {
   "cell_type": "markdown",
   "id": "166b2775",
   "metadata": {},
   "source": [
    "### Fors2"
   ]
  },
  {
   "cell_type": "markdown",
   "id": "420390a8-8384-49a5-9a8b-a16888600007",
   "metadata": {},
   "source": [
    "## Start"
   ]
  },
  {
   "cell_type": "markdown",
   "id": "7f6b5b89-440f-4d2d-87d6-9eb190e215bd",
   "metadata": {},
   "source": [
    "### Catalog"
   ]
  },
  {
   "cell_type": "code",
   "execution_count": null,
   "id": "0d1c76e0-51f7-47f0-9fc8-70f426930afd",
   "metadata": {},
   "outputs": [],
   "source": [
    "t = Table.read(filename_fits_catalog)"
   ]
  },
  {
   "cell_type": "code",
   "execution_count": null,
   "id": "2ee70902-b8ad-4407-9314-25ff3d8b2f77",
   "metadata": {},
   "outputs": [],
   "source": [
    "t"
   ]
  },
  {
   "cell_type": "markdown",
   "id": "ddbbab8c-201b-4c18-bbb6-2f9fd41878e7",
   "metadata": {},
   "source": [
    "### List"
   ]
  },
  {
   "cell_type": "code",
   "execution_count": null,
   "id": "ac4aea36-58e8-4517-9238-e479b6cded17",
   "metadata": {},
   "outputs": [],
   "source": [
    "lst=fors2_jct_SL() #remet les spectres dans le rest frame (ie a z=0)"
   ]
  },
  {
   "cell_type": "code",
   "execution_count": null,
   "id": "b6131f77-e460-4130-8706-712cf21d75f4",
   "metadata": {},
   "outputs": [],
   "source": [
    "lst"
   ]
  },
  {
   "cell_type": "code",
   "execution_count": null,
   "id": "5a99d9ad-c77f-41fa-8169-d7a6d723f38d",
   "metadata": {},
   "outputs": [],
   "source": [
    "#var_cut=0.002\n",
    "var_cut=0.005"
   ]
  },
  {
   "cell_type": "code",
   "execution_count": null,
   "id": "55da5840-c4d5-423e-94e5-76525232226e",
   "metadata": {},
   "outputs": [],
   "source": [
    "qso()"
   ]
  },
  {
   "cell_type": "code",
   "execution_count": null,
   "id": "26268939-debd-4b53-88f7-693846fd1ce1",
   "metadata": {},
   "outputs": [],
   "source": [
    "plot_fors2_raw()"
   ]
  },
  {
   "cell_type": "markdown",
   "id": "d072d79a-9c35-49ef-989f-f0c692a964c6",
   "metadata": {},
   "source": [
    "#### redshift distribution"
   ]
  },
  {
   "cell_type": "code",
   "execution_count": null,
   "id": "5a4629f0-0b9b-4167-8aa4-7d46c805625b",
   "metadata": {},
   "outputs": [],
   "source": [
    "hist_zspec()"
   ]
  },
  {
   "cell_type": "markdown",
   "id": "2babeec8-a799-48b4-8031-d4a2fbe9ba86",
   "metadata": {},
   "source": [
    "#### Count Zspec"
   ]
  },
  {
   "cell_type": "code",
   "execution_count": null,
   "id": "cc9f9403-d5f0-4710-927c-237898080d1a",
   "metadata": {},
   "outputs": [],
   "source": [
    "count_zspec()"
   ]
  },
  {
   "cell_type": "markdown",
   "id": "3bd05184-f2ec-498e-8521-57664a62dbe3",
   "metadata": {},
   "source": [
    "#### Sort color"
   ]
  },
  {
   "cell_type": "code",
   "execution_count": null,
   "id": "befd1bb5-94d7-46fc-a8ab-f4bbc46198af",
   "metadata": {},
   "outputs": [],
   "source": [
    "color_sort()"
   ]
  },
  {
   "cell_type": "markdown",
   "id": "019614a6-40d5-4782-b00c-884451870565",
   "metadata": {},
   "source": [
    "#### Histogram"
   ]
  },
  {
   "cell_type": "code",
   "execution_count": null,
   "id": "b7ed3894-bcb1-4883-9534-f1f640b1b7dc",
   "metadata": {},
   "outputs": [],
   "source": [
    "hist_diff_raw_sl()"
   ]
  },
  {
   "cell_type": "markdown",
   "id": "8b82f604-ddf9-4510-b224-5af926376e21",
   "metadata": {},
   "source": [
    "#### Compare Spectra"
   ]
  },
  {
   "cell_type": "code",
   "execution_count": null,
   "id": "3a80a0b2-2a9f-46a1-ab73-56b796882065",
   "metadata": {},
   "outputs": [],
   "source": [
    "plot_out=True\n",
    "#plot_out=False\n",
    "compare_spectra(plot_out)"
   ]
  },
  {
   "cell_type": "markdown",
   "id": "bcd93f41-e98b-43d8-adc9-86846ab39844",
   "metadata": {},
   "source": [
    "#### Variance"
   ]
  },
  {
   "cell_type": "code",
   "execution_count": null,
   "id": "2f5cccde-da6a-4a99-b4e8-0147b6829b4a",
   "metadata": {},
   "outputs": [],
   "source": [
    "hist_var()"
   ]
  },
  {
   "cell_type": "markdown",
   "id": "6d79f7b1-e194-41d1-8310-7e62e4a62c85",
   "metadata": {},
   "source": [
    "#### Save plots"
   ]
  },
  {
   "cell_type": "code",
   "execution_count": null,
   "id": "c7398396-b958-4aae-8c73-82c2ab106bbb",
   "metadata": {},
   "outputs": [],
   "source": [
    "pdf_pages.close()"
   ]
  },
  {
   "cell_type": "code",
   "execution_count": null,
   "id": "7d4697ce-d505-447f-a835-63488402bdf7",
   "metadata": {},
   "outputs": [],
   "source": []
  }
 ],
 "metadata": {
  "kernelspec": {
   "display_name": "rubin",
   "language": "python",
   "name": "rubin"
  },
  "language_info": {
   "codemirror_mode": {
    "name": "ipython",
    "version": 3
   },
   "file_extension": ".py",
   "mimetype": "text/x-python",
   "name": "python",
   "nbconvert_exporter": "python",
   "pygments_lexer": "ipython3",
   "version": "3.11.0"
  },
  "toc": {
   "base_numbering": 1,
   "nav_menu": {},
   "number_sections": true,
   "sideBar": true,
   "skip_h1_title": false,
   "title_cell": "Table of Contents",
   "title_sidebar": "Contents",
   "toc_cell": false,
   "toc_position": {},
   "toc_section_display": true,
   "toc_window_display": false
  }
 },
 "nbformat": 4,
 "nbformat_minor": 5
}
