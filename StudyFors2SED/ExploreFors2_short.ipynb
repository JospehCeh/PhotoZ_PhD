{
 "cells": [
  {
   "cell_type": "markdown",
   "id": "316c4ba5",
   "metadata": {},
   "source": [
    "# View Fors2 , version short\n",
    "\n",
    "- **Part 1**\n",
    "- author : Sylvie Dagoret-Campagne\n",
    "- affiliation : IJCLab/IN2P3/CNRS\n",
    "- creation date : 2022/12/19\n",
    "- update : 2023/05/23\n",
    "- update : 2023/09/27 @CC kernel conda_prospector_py310 \n",
    "- FORS2 : https://github.com/ericnuss/fors2\n",
    "- Result of StarLight : /sps/lsst/groups/photoz/fors2/FORS2/ResStarlight\n",
    "\n",
    "\n",
    "\n",
    "          /Users/dagoret/MacOSX/GitHub/LSST/FORS2>ls -l\n",
    "              total 0\n",
    "              drwxrwsr-x  3 dagoret  staff   96 Aug 21  2018 ResStarlight\n",
    "              drwxr-xr-x  9 dagoret  staff  288 Dec 19 18:01 fors2\n",
    "              \n",
    "- Redshift the For2 Spectra in their restframe               "
   ]
  },
  {
   "cell_type": "markdown",
   "id": "c7d7e344",
   "metadata": {},
   "source": [
    "## Import"
   ]
  },
  {
   "cell_type": "code",
   "execution_count": 1,
   "id": "e485fec8",
   "metadata": {},
   "outputs": [],
   "source": [
    "import os,sys\n",
    "from astropy.io import fits\n",
    "from astropy.table import Table"
   ]
  },
  {
   "cell_type": "code",
   "execution_count": 2,
   "id": "b271dcb5",
   "metadata": {},
   "outputs": [],
   "source": [
    "# Import some generally useful packages\n",
    "\n",
    "import os\n",
    "import numpy as np\n",
    "import matplotlib.pyplot as plt\n",
    "import matplotlib.colors as colors\n",
    "import matplotlib.cm as cmx\n",
    "\n",
    "from matplotlib.backends.backend_pdf import PdfPages\n",
    "\n",
    "%matplotlib inline\n",
    "import pandas as pd\n",
    "from itertools import cycle, islice\n"
   ]
  },
  {
   "cell_type": "code",
   "execution_count": 3,
   "id": "f6689d40-c574-471c-b9d6-996002aa4e76",
   "metadata": {},
   "outputs": [],
   "source": [
    "from scipy import ndimage\n",
    "\n",
    "#from scipy import interp as scinterp\n",
    "from scipy.interpolate import interp1d\n",
    "\n",
    "import glob\n",
    "import collections\n",
    "#from def_raw_seds import *"
   ]
  },
  {
   "cell_type": "code",
   "execution_count": 4,
   "id": "413f1e89",
   "metadata": {},
   "outputs": [],
   "source": [
    "# to enlarge the sizes\n",
    "params = {'legend.fontsize': 'large',\n",
    "          'figure.figsize': (8, 4),\n",
    "         'axes.labelsize': 'xx-large',\n",
    "         'axes.titlesize':'xx-large',\n",
    "         'xtick.labelsize':'xx-large',\n",
    "         'ytick.labelsize':'xx-large'}\n",
    "plt.rcParams.update(params)\n"
   ]
  },
  {
   "cell_type": "code",
   "execution_count": 5,
   "id": "c1e22fcc",
   "metadata": {},
   "outputs": [],
   "source": [
    "import matplotlib.offsetbox\n",
    "props = dict(boxstyle='round',edgecolor=\"w\",facecolor=\"w\", alpha=0.5)"
   ]
  },
  {
   "cell_type": "code",
   "execution_count": 6,
   "id": "bf513758-e26b-4561-b134-96f24ab56e1b",
   "metadata": {},
   "outputs": [
    {
     "name": "stdout",
     "output_type": "stream",
     "text": [
      "ls: ../../fors2/fors2/data: No such file or directory\n"
     ]
    }
   ],
   "source": [
    "!ls ../../fors2/fors2/data"
   ]
  },
  {
   "cell_type": "code",
   "execution_count": 7,
   "id": "b7a4c8c8-b050-415b-882c-1dbdd0e5fc13",
   "metadata": {},
   "outputs": [
    {
     "name": "stdout",
     "output_type": "stream",
     "text": [
      "/Users/dagoret/MacOSX/GitHub/LSST/PhotoZ/PhotoZ_PhD/StudyFors2SED\n"
     ]
    }
   ],
   "source": [
    "! pwd"
   ]
  },
  {
   "cell_type": "code",
   "execution_count": 8,
   "id": "b7e9a578-1bb2-4e32-b88f-a69914949eca",
   "metadata": {},
   "outputs": [],
   "source": [
    "from def_raw_seds import *"
   ]
  },
  {
   "cell_type": "code",
   "execution_count": 9,
   "id": "93d5eb5c-6c03-45fe-9795-17e8ed32d0d7",
   "metadata": {},
   "outputs": [],
   "source": [
    "from raw_data_analysis import *"
   ]
  },
  {
   "cell_type": "markdown",
   "id": "f8a04733-fb1a-4995-8549-2d213bc43195",
   "metadata": {},
   "source": [
    "# Start"
   ]
  },
  {
   "cell_type": "code",
   "execution_count": 10,
   "id": "bef8cae0-64c8-4454-abeb-fec127bb39c0",
   "metadata": {},
   "outputs": [
    {
     "name": "stdout",
     "output_type": "stream",
     "text": [
      "notebook current executing path : /Users/dagoret/MacOSX/GitHub/LSST/PhotoZ/PhotoZ_PhD/StudyFors2SED\n"
     ]
    }
   ],
   "source": [
    "cwd=os.path.abspath(\"\")\n",
    "main_dir = cwd\n",
    "print(f\"notebook current executing path : {cwd}\")"
   ]
  },
  {
   "cell_type": "markdown",
   "id": "a4d93f7b",
   "metadata": {},
   "source": [
    "## Configuration"
   ]
  },
  {
   "cell_type": "markdown",
   "id": "166b2775",
   "metadata": {},
   "source": [
    "### Fors2"
   ]
  },
  {
   "cell_type": "markdown",
   "id": "420390a8-8384-49a5-9a8b-a16888600007",
   "metadata": {},
   "source": [
    "## Start"
   ]
  },
  {
   "cell_type": "markdown",
   "id": "7f6b5b89-440f-4d2d-87d6-9eb190e215bd",
   "metadata": {},
   "source": [
    "### Catalog"
   ]
  },
  {
   "cell_type": "code",
   "execution_count": 11,
   "id": "0d1c76e0-51f7-47f0-9fc8-70f426930afd",
   "metadata": {},
   "outputs": [
    {
     "name": "stderr",
     "output_type": "stream",
     "text": [
      "WARNING: VerifyWarning: Invalid keyword for column 8: ASCII table null option (TNULLn) is longer than the column's character width and will be truncated (got '-2147483648'). [astropy.io.fits.column]\n",
      "WARNING: VerifyWarning: Invalid keyword for column 9: ASCII table null option (TNULLn) is longer than the column's character width and will be truncated (got '-32768'). [astropy.io.fits.column]\n",
      "/Users/dagoret/anaconda3/lib/python3.11/site-packages/astropy/io/fits/connect.py:271: FutureWarning: elementwise comparison failed; returning scalar instead, but in the future will perform elementwise comparison\n",
      "  mask = data[col.name] == col.null\n"
     ]
    }
   ],
   "source": [
    "t = Table.read(filename_fits_catalog)"
   ]
  },
  {
   "cell_type": "code",
   "execution_count": 12,
   "id": "2ee70902-b8ad-4407-9314-25ff3d8b2f77",
   "metadata": {},
   "outputs": [
    {
     "data": {
      "text/html": [
       "<div><i>Table length=676</i>\n",
       "<table id=\"table5911784848\" class=\"table-striped table-bordered table-condensed\">\n",
       "<thead><tr><th>ID</th><th>m_ID</th><th>RAJ2000</th><th>DEJ2000</th><th>z</th><th>u_z</th><th>Rmag</th><th>RV</th><th>e_RV</th><th>RT</th><th>Nsp</th><th>Lines</th></tr></thead>\n",
       "<thead><tr><th></th><th></th><th>deg</th><th>deg</th><th></th><th></th><th>mag</th><th>km / s</th><th>km / s</th><th></th><th></th><th></th></tr></thead>\n",
       "<thead><tr><th>int16</th><th>bytes1</th><th>float64</th><th>float64</th><th>float64</th><th>bytes1</th><th>float64</th><th>int32</th><th>int16</th><th>float64</th><th>int16</th><th>bytes77</th></tr></thead>\n",
       "<tr><td>1</td><td></td><td>13.52815</td><td>-28.40486</td><td>0.55409</td><td></td><td>20.79</td><td>166227</td><td>55</td><td>10.0</td><td>1</td><td>[OII],H8,K,H</td></tr>\n",
       "<tr><td>2</td><td></td><td>13.52997</td><td>-28.44776</td><td>0.34555</td><td></td><td>21.18</td><td>103665</td><td>40</td><td>12.3</td><td>1</td><td>K,H,G,H{beta}</td></tr>\n",
       "<tr><td>3</td><td></td><td>13.52552</td><td>-28.4208</td><td>0.6866</td><td></td><td>21.45</td><td>210642</td><td>48</td><td>11.6</td><td>4</td><td>[OII],H9,K,H,H{beta},[OIII],H8</td></tr>\n",
       "<tr><td>4</td><td></td><td>13.52216</td><td>-28.40914</td><td>0.68653</td><td></td><td>21.62</td><td>205959</td><td>123</td><td>10.6</td><td>1</td><td>[OII],H9,K,H,G,H{beta}</td></tr>\n",
       "<tr><td>7</td><td></td><td>13.50974</td><td>-28.42972</td><td>0.32371</td><td></td><td>22.34</td><td>97111</td><td>11</td><td>16.7</td><td>6</td><td>[OII],H{beta},[OIII],H{alpha}</td></tr>\n",
       "<tr><td>9</td><td></td><td>13.50219</td><td>-28.40641</td><td>0.29266</td><td></td><td>21.6</td><td>87798</td><td>58</td><td>13.1</td><td>1</td><td>H9,H8,K,H</td></tr>\n",
       "<tr><td>11</td><td></td><td>13.49724</td><td>-28.39487</td><td>0.62688</td><td></td><td>22.09</td><td>188063</td><td>17</td><td>24.3</td><td>3</td><td>[OII],H10,H8,K,H,H{delta}</td></tr>\n",
       "<tr><td>12</td><td></td><td>13.49584</td><td>-28.39125</td><td>0.2973</td><td></td><td>21.97</td><td>89189</td><td>30</td><td>14.8</td><td>2</td><td>[OII],H10,H9,H8,K,H</td></tr>\n",
       "<tr><td>13</td><td></td><td>13.49261</td><td>-28.38272</td><td>0.6887</td><td></td><td>23.14</td><td>206610</td><td>0</td><td>0.0</td><td>1</td><td>[OII],H{epsilon},H{delta},H{beta}</td></tr>\n",
       "<tr><td>14</td><td></td><td>13.48952</td><td>-28.38469</td><td>1.15856</td><td></td><td>22.62</td><td>347568</td><td>192</td><td>2.0</td><td>1</td><td>[OII],H9</td></tr>\n",
       "<tr><td>15</td><td></td><td>13.4888</td><td>-28.41684</td><td>0.63446</td><td></td><td>22.4</td><td>190338</td><td>26</td><td>17.2</td><td>2</td><td>[OII],H9,K,H,H{delta},H{beta},[OIII]</td></tr>\n",
       "<tr><td>16</td><td></td><td>13.48808</td><td>-28.43092</td><td>0.62986</td><td></td><td>22.29</td><td>188958</td><td>17</td><td>22.8</td><td>2</td><td>[OII],H,H{beta},[OIII]</td></tr>\n",
       "<tr><td>17</td><td></td><td>13.48726</td><td>-28.43966</td><td>0.60331</td><td></td><td>23.4</td><td>180993</td><td>72</td><td>6.2</td><td>1</td><td>[OII],H,H{beta},[OIII]</td></tr>\n",
       "<tr><td>18</td><td></td><td>13.60897</td><td>-28.42091</td><td>0.48485</td><td></td><td>21.08</td><td>145455</td><td>72</td><td>16.2</td><td>1</td><td>H9,K,H,G</td></tr>\n",
       "<tr><td>19</td><td></td><td>13.60758</td><td>-28.43452</td><td>0.48395</td><td></td><td>21.7</td><td>145185</td><td>104</td><td>7.1</td><td>1</td><td>H10,H9,H8,K,H,H{delta}</td></tr>\n",
       "<tr><td>20</td><td></td><td>13.60055</td><td>-28.37773</td><td>0.44879</td><td></td><td>22.55</td><td>134637</td><td>27</td><td>16.1</td><td>1</td><td>[OII],K,H,H{beta},[OIII]</td></tr>\n",
       "<tr><td>22</td><td></td><td>13.59428</td><td>-28.37475</td><td>0.60276</td><td></td><td>21.75</td><td>180828</td><td>18</td><td>24.6</td><td>1</td><td>[OII],K,H,H{beta},[OIII]</td></tr>\n",
       "<tr><td>...</td><td>...</td><td>...</td><td>...</td><td>...</td><td>...</td><td>...</td><td>...</td><td>...</td><td>...</td><td>...</td><td>...</td></tr>\n",
       "<tr><td>727</td><td></td><td>13.69381</td><td>-28.25005</td><td>0.2306</td><td></td><td>22.59</td><td>69180</td><td>81</td><td>5.9</td><td>1</td><td>[OII],[OIII],H{alpha}</td></tr>\n",
       "<tr><td>728</td><td></td><td>13.63751</td><td>-28.24698</td><td>0.43742</td><td></td><td>20.76</td><td>131226</td><td>73</td><td>7.4</td><td>1</td><td>[OII],H9,H8,K,H,H{beta}</td></tr>\n",
       "<tr><td>729</td><td></td><td>13.6658</td><td>-28.24412</td><td>0.43187</td><td></td><td>20.19</td><td>129561</td><td>57</td><td>8.3</td><td>1</td><td>[OII],H10,H9,K,H</td></tr>\n",
       "<tr><td>730</td><td></td><td>13.67719</td><td>-28.24009</td><td>0.55034</td><td></td><td>21.54</td><td>165102</td><td>22</td><td>16.1</td><td>1</td><td>[OII],H{gamma},H{beta},[OIII]</td></tr>\n",
       "<tr><td>731</td><td></td><td>13.6688</td><td>-28.23844</td><td>0.54998</td><td></td><td>21.06</td><td>164994</td><td>105</td><td>5.4</td><td>1</td><td>weak,[OII],H9,H,4000{AA}-break</td></tr>\n",
       "<tr><td>732</td><td></td><td>13.71984</td><td>-28.23666</td><td>0.16176</td><td></td><td>19.24</td><td>48526</td><td>18</td><td>19.9</td><td>1</td><td>H,K,H{gamma},H{beta},[OIII],H{alpha},NII</td></tr>\n",
       "<tr><td>733</td><td></td><td>13.63351</td><td>-28.23504</td><td>0.19553</td><td></td><td>19.77</td><td>58660</td><td>27</td><td>13.9</td><td>1</td><td>K,H,H{beta},[OIII]</td></tr>\n",
       "<tr><td>734</td><td></td><td>13.68083</td><td>-28.2329</td><td>0.23012</td><td></td><td>0.0</td><td>69036</td><td>71</td><td>7.2</td><td>1</td><td>[OII],H9,K,H,H{alpha},NII</td></tr>\n",
       "<tr><td>735</td><td></td><td>13.69958</td><td>-28.23161</td><td>0.36169</td><td></td><td>19.28</td><td>108507</td><td>107</td><td>8.2</td><td>1</td><td>K,H,G,H{beta}</td></tr>\n",
       "<tr><td>736</td><td></td><td>13.66431</td><td>-28.22849</td><td>0.55777</td><td></td><td>21.64</td><td>167331</td><td>31</td><td>10.5</td><td>1</td><td>[OII],H9,H{beta},[OIII]</td></tr>\n",
       "<tr><td>737</td><td></td><td>13.62722</td><td>-28.22692</td><td>0.52001</td><td></td><td>21.4</td><td>156003</td><td>53</td><td>10.2</td><td>1</td><td>[OII],K,H</td></tr>\n",
       "<tr><td>738</td><td></td><td>13.6437</td><td>-28.22527</td><td>0.56044</td><td></td><td>19.73</td><td>168132</td><td>126</td><td>7.1</td><td>1</td><td>K,H,4000{AA}-break,G</td></tr>\n",
       "<tr><td>1009</td><td></td><td>13.52353</td><td>-28.42682</td><td>0.2904</td><td></td><td>18.6</td><td>87120</td><td>0</td><td>0.0</td><td>1</td><td></td></tr>\n",
       "<tr><td>1011</td><td></td><td>13.51676</td><td>-28.40425</td><td>0.2934</td><td></td><td>18.26</td><td>88020</td><td>0</td><td>0.0</td><td>1</td><td></td></tr>\n",
       "<tr><td>1012</td><td></td><td>13.5147</td><td>-28.40379</td><td>0.2929</td><td></td><td>17.34</td><td>87870</td><td>0</td><td>0.0</td><td>1</td><td></td></tr>\n",
       "<tr><td>1018</td><td></td><td>13.49151</td><td>-28.38977</td><td>0.2925</td><td></td><td>19.62</td><td>87750</td><td>0</td><td>0.0</td><td>1</td><td></td></tr>\n",
       "<tr><td>1020</td><td></td><td>13.48143</td><td>-28.40368</td><td>0.2939</td><td></td><td>20.71</td><td>88170</td><td>0</td><td>0.0</td><td>1</td><td></td></tr>\n",
       "</table></div>"
      ],
      "text/plain": [
       "<Table length=676>\n",
       "  ID   m_ID  RAJ2000   DEJ2000     z     u_z     Rmag    RV    e_RV     RT    Nsp                                      Lines                                    \n",
       "               deg       deg                     mag   km / s km / s                                                                                            \n",
       "int16 bytes1 float64   float64  float64 bytes1 float64 int32  int16  float64 int16                                    bytes77                                   \n",
       "----- ------ -------- --------- ------- ------ ------- ------ ------ ------- ----- -----------------------------------------------------------------------------\n",
       "    1        13.52815 -28.40486 0.55409          20.79 166227     55    10.0     1 [OII],H8,K,H                                                                \n",
       "    2        13.52997 -28.44776 0.34555          21.18 103665     40    12.3     1 K,H,G,H{beta}                                                               \n",
       "    3        13.52552  -28.4208  0.6866          21.45 210642     48    11.6     4 [OII],H9,K,H,H{beta},[OIII],H8                                              \n",
       "    4        13.52216 -28.40914 0.68653          21.62 205959    123    10.6     1 [OII],H9,K,H,G,H{beta}                                                      \n",
       "    7        13.50974 -28.42972 0.32371          22.34  97111     11    16.7     6 [OII],H{beta},[OIII],H{alpha}                                               \n",
       "    9        13.50219 -28.40641 0.29266           21.6  87798     58    13.1     1 H9,H8,K,H                                                                   \n",
       "   11        13.49724 -28.39487 0.62688          22.09 188063     17    24.3     3 [OII],H10,H8,K,H,H{delta}                                                   \n",
       "   12        13.49584 -28.39125  0.2973          21.97  89189     30    14.8     2 [OII],H10,H9,H8,K,H                                                         \n",
       "   13        13.49261 -28.38272  0.6887          23.14 206610      0     0.0     1 [OII],H{epsilon},H{delta},H{beta}                                           \n",
       "   14        13.48952 -28.38469 1.15856          22.62 347568    192     2.0     1 [OII],H9                                                                    \n",
       "   15         13.4888 -28.41684 0.63446           22.4 190338     26    17.2     2 [OII],H9,K,H,H{delta},H{beta},[OIII]                                        \n",
       "   16        13.48808 -28.43092 0.62986          22.29 188958     17    22.8     2 [OII],H,H{beta},[OIII]                                                      \n",
       "   17        13.48726 -28.43966 0.60331           23.4 180993     72     6.2     1 [OII],H,H{beta},[OIII]                                                      \n",
       "   18        13.60897 -28.42091 0.48485          21.08 145455     72    16.2     1 H9,K,H,G                                                                    \n",
       "   19        13.60758 -28.43452 0.48395           21.7 145185    104     7.1     1 H10,H9,H8,K,H,H{delta}                                                      \n",
       "   20        13.60055 -28.37773 0.44879          22.55 134637     27    16.1     1 [OII],K,H,H{beta},[OIII]                                                    \n",
       "   22        13.59428 -28.37475 0.60276          21.75 180828     18    24.6     1 [OII],K,H,H{beta},[OIII]                                                    \n",
       "  ...    ...      ...       ...     ...    ...     ...    ...    ...     ...   ...                                                                           ...\n",
       "  727        13.69381 -28.25005  0.2306          22.59  69180     81     5.9     1 [OII],[OIII],H{alpha}                                                       \n",
       "  728        13.63751 -28.24698 0.43742          20.76 131226     73     7.4     1 [OII],H9,H8,K,H,H{beta}                                                     \n",
       "  729         13.6658 -28.24412 0.43187          20.19 129561     57     8.3     1 [OII],H10,H9,K,H                                                            \n",
       "  730        13.67719 -28.24009 0.55034          21.54 165102     22    16.1     1 [OII],H{gamma},H{beta},[OIII]                                               \n",
       "  731         13.6688 -28.23844 0.54998          21.06 164994    105     5.4     1 weak,[OII],H9,H,4000{AA}-break                                              \n",
       "  732        13.71984 -28.23666 0.16176          19.24  48526     18    19.9     1 H,K,H{gamma},H{beta},[OIII],H{alpha},NII                                    \n",
       "  733        13.63351 -28.23504 0.19553          19.77  58660     27    13.9     1 K,H,H{beta},[OIII]                                                          \n",
       "  734        13.68083  -28.2329 0.23012            0.0  69036     71     7.2     1 [OII],H9,K,H,H{alpha},NII                                                   \n",
       "  735        13.69958 -28.23161 0.36169          19.28 108507    107     8.2     1 K,H,G,H{beta}                                                               \n",
       "  736        13.66431 -28.22849 0.55777          21.64 167331     31    10.5     1 [OII],H9,H{beta},[OIII]                                                     \n",
       "  737        13.62722 -28.22692 0.52001           21.4 156003     53    10.2     1 [OII],K,H                                                                   \n",
       "  738         13.6437 -28.22527 0.56044          19.73 168132    126     7.1     1 K,H,4000{AA}-break,G                                                        \n",
       " 1009        13.52353 -28.42682  0.2904           18.6  87120      0     0.0     1                                                                             \n",
       " 1011        13.51676 -28.40425  0.2934          18.26  88020      0     0.0     1                                                                             \n",
       " 1012         13.5147 -28.40379  0.2929          17.34  87870      0     0.0     1                                                                             \n",
       " 1018        13.49151 -28.38977  0.2925          19.62  87750      0     0.0     1                                                                             \n",
       " 1020        13.48143 -28.40368  0.2939          20.71  88170      0     0.0     1                                                                             "
      ]
     },
     "execution_count": 12,
     "metadata": {},
     "output_type": "execute_result"
    }
   ],
   "source": [
    "t"
   ]
  },
  {
   "cell_type": "code",
   "execution_count": 13,
   "id": "215e1016-90d2-4a9e-8fb0-beeb1649d883",
   "metadata": {},
   "outputs": [
    {
     "data": {
      "text/html": [
       "<div>\n",
       "<style scoped>\n",
       "    .dataframe tbody tr th:only-of-type {\n",
       "        vertical-align: middle;\n",
       "    }\n",
       "\n",
       "    .dataframe tbody tr th {\n",
       "        vertical-align: top;\n",
       "    }\n",
       "\n",
       "    .dataframe thead th {\n",
       "        text-align: right;\n",
       "    }\n",
       "</style>\n",
       "<table border=\"1\" class=\"dataframe\">\n",
       "  <thead>\n",
       "    <tr style=\"text-align: right;\">\n",
       "      <th></th>\n",
       "      <th>ID</th>\n",
       "      <th>m_ID</th>\n",
       "      <th>RAJ2000</th>\n",
       "      <th>DEJ2000</th>\n",
       "      <th>z</th>\n",
       "      <th>u_z</th>\n",
       "      <th>Rmag</th>\n",
       "      <th>RV</th>\n",
       "      <th>e_RV</th>\n",
       "      <th>RT</th>\n",
       "      <th>Nsp</th>\n",
       "      <th>Lines</th>\n",
       "    </tr>\n",
       "  </thead>\n",
       "  <tbody>\n",
       "    <tr>\n",
       "      <th>0</th>\n",
       "      <td>1</td>\n",
       "      <td>b' '</td>\n",
       "      <td>13.52815</td>\n",
       "      <td>-28.40486</td>\n",
       "      <td>0.55409</td>\n",
       "      <td>b' '</td>\n",
       "      <td>20.79</td>\n",
       "      <td>166227</td>\n",
       "      <td>55</td>\n",
       "      <td>10.0</td>\n",
       "      <td>1</td>\n",
       "      <td>b'[OII],H8,K,H                                ...</td>\n",
       "    </tr>\n",
       "    <tr>\n",
       "      <th>1</th>\n",
       "      <td>2</td>\n",
       "      <td>b' '</td>\n",
       "      <td>13.52997</td>\n",
       "      <td>-28.44776</td>\n",
       "      <td>0.34555</td>\n",
       "      <td>b' '</td>\n",
       "      <td>21.18</td>\n",
       "      <td>103665</td>\n",
       "      <td>40</td>\n",
       "      <td>12.3</td>\n",
       "      <td>1</td>\n",
       "      <td>b'K,H,G,H{beta}                               ...</td>\n",
       "    </tr>\n",
       "    <tr>\n",
       "      <th>2</th>\n",
       "      <td>3</td>\n",
       "      <td>b' '</td>\n",
       "      <td>13.52552</td>\n",
       "      <td>-28.42080</td>\n",
       "      <td>0.68660</td>\n",
       "      <td>b' '</td>\n",
       "      <td>21.45</td>\n",
       "      <td>210642</td>\n",
       "      <td>48</td>\n",
       "      <td>11.6</td>\n",
       "      <td>4</td>\n",
       "      <td>b'[OII],H9,K,H,H{beta},[OIII],H8              ...</td>\n",
       "    </tr>\n",
       "    <tr>\n",
       "      <th>3</th>\n",
       "      <td>4</td>\n",
       "      <td>b' '</td>\n",
       "      <td>13.52216</td>\n",
       "      <td>-28.40914</td>\n",
       "      <td>0.68653</td>\n",
       "      <td>b' '</td>\n",
       "      <td>21.62</td>\n",
       "      <td>205959</td>\n",
       "      <td>123</td>\n",
       "      <td>10.6</td>\n",
       "      <td>1</td>\n",
       "      <td>b'[OII],H9,K,H,G,H{beta}                      ...</td>\n",
       "    </tr>\n",
       "    <tr>\n",
       "      <th>4</th>\n",
       "      <td>7</td>\n",
       "      <td>b' '</td>\n",
       "      <td>13.50974</td>\n",
       "      <td>-28.42972</td>\n",
       "      <td>0.32371</td>\n",
       "      <td>b' '</td>\n",
       "      <td>22.34</td>\n",
       "      <td>97111</td>\n",
       "      <td>11</td>\n",
       "      <td>16.7</td>\n",
       "      <td>6</td>\n",
       "      <td>b'[OII],H{beta},[OIII],H{alpha}               ...</td>\n",
       "    </tr>\n",
       "    <tr>\n",
       "      <th>...</th>\n",
       "      <td>...</td>\n",
       "      <td>...</td>\n",
       "      <td>...</td>\n",
       "      <td>...</td>\n",
       "      <td>...</td>\n",
       "      <td>...</td>\n",
       "      <td>...</td>\n",
       "      <td>...</td>\n",
       "      <td>...</td>\n",
       "      <td>...</td>\n",
       "      <td>...</td>\n",
       "      <td>...</td>\n",
       "    </tr>\n",
       "    <tr>\n",
       "      <th>671</th>\n",
       "      <td>1009</td>\n",
       "      <td>b' '</td>\n",
       "      <td>13.52353</td>\n",
       "      <td>-28.42682</td>\n",
       "      <td>0.29040</td>\n",
       "      <td>b' '</td>\n",
       "      <td>18.60</td>\n",
       "      <td>87120</td>\n",
       "      <td>0</td>\n",
       "      <td>0.0</td>\n",
       "      <td>1</td>\n",
       "      <td>b'                                            ...</td>\n",
       "    </tr>\n",
       "    <tr>\n",
       "      <th>672</th>\n",
       "      <td>1011</td>\n",
       "      <td>b' '</td>\n",
       "      <td>13.51676</td>\n",
       "      <td>-28.40425</td>\n",
       "      <td>0.29340</td>\n",
       "      <td>b' '</td>\n",
       "      <td>18.26</td>\n",
       "      <td>88020</td>\n",
       "      <td>0</td>\n",
       "      <td>0.0</td>\n",
       "      <td>1</td>\n",
       "      <td>b'                                            ...</td>\n",
       "    </tr>\n",
       "    <tr>\n",
       "      <th>673</th>\n",
       "      <td>1012</td>\n",
       "      <td>b' '</td>\n",
       "      <td>13.51470</td>\n",
       "      <td>-28.40379</td>\n",
       "      <td>0.29290</td>\n",
       "      <td>b' '</td>\n",
       "      <td>17.34</td>\n",
       "      <td>87870</td>\n",
       "      <td>0</td>\n",
       "      <td>0.0</td>\n",
       "      <td>1</td>\n",
       "      <td>b'                                            ...</td>\n",
       "    </tr>\n",
       "    <tr>\n",
       "      <th>674</th>\n",
       "      <td>1018</td>\n",
       "      <td>b' '</td>\n",
       "      <td>13.49151</td>\n",
       "      <td>-28.38977</td>\n",
       "      <td>0.29250</td>\n",
       "      <td>b' '</td>\n",
       "      <td>19.62</td>\n",
       "      <td>87750</td>\n",
       "      <td>0</td>\n",
       "      <td>0.0</td>\n",
       "      <td>1</td>\n",
       "      <td>b'                                            ...</td>\n",
       "    </tr>\n",
       "    <tr>\n",
       "      <th>675</th>\n",
       "      <td>1020</td>\n",
       "      <td>b' '</td>\n",
       "      <td>13.48143</td>\n",
       "      <td>-28.40368</td>\n",
       "      <td>0.29390</td>\n",
       "      <td>b' '</td>\n",
       "      <td>20.71</td>\n",
       "      <td>88170</td>\n",
       "      <td>0</td>\n",
       "      <td>0.0</td>\n",
       "      <td>1</td>\n",
       "      <td>b'                                            ...</td>\n",
       "    </tr>\n",
       "  </tbody>\n",
       "</table>\n",
       "<p>676 rows × 12 columns</p>\n",
       "</div>"
      ],
      "text/plain": [
       "       ID  m_ID   RAJ2000   DEJ2000        z   u_z   Rmag      RV  e_RV    RT  \\\n",
       "0       1  b' '  13.52815 -28.40486  0.55409  b' '  20.79  166227    55  10.0   \n",
       "1       2  b' '  13.52997 -28.44776  0.34555  b' '  21.18  103665    40  12.3   \n",
       "2       3  b' '  13.52552 -28.42080  0.68660  b' '  21.45  210642    48  11.6   \n",
       "3       4  b' '  13.52216 -28.40914  0.68653  b' '  21.62  205959   123  10.6   \n",
       "4       7  b' '  13.50974 -28.42972  0.32371  b' '  22.34   97111    11  16.7   \n",
       "..    ...   ...       ...       ...      ...   ...    ...     ...   ...   ...   \n",
       "671  1009  b' '  13.52353 -28.42682  0.29040  b' '  18.60   87120     0   0.0   \n",
       "672  1011  b' '  13.51676 -28.40425  0.29340  b' '  18.26   88020     0   0.0   \n",
       "673  1012  b' '  13.51470 -28.40379  0.29290  b' '  17.34   87870     0   0.0   \n",
       "674  1018  b' '  13.49151 -28.38977  0.29250  b' '  19.62   87750     0   0.0   \n",
       "675  1020  b' '  13.48143 -28.40368  0.29390  b' '  20.71   88170     0   0.0   \n",
       "\n",
       "     Nsp                                              Lines  \n",
       "0      1  b'[OII],H8,K,H                                ...  \n",
       "1      1  b'K,H,G,H{beta}                               ...  \n",
       "2      4  b'[OII],H9,K,H,H{beta},[OIII],H8              ...  \n",
       "3      1  b'[OII],H9,K,H,G,H{beta}                      ...  \n",
       "4      6  b'[OII],H{beta},[OIII],H{alpha}               ...  \n",
       "..   ...                                                ...  \n",
       "671    1  b'                                            ...  \n",
       "672    1  b'                                            ...  \n",
       "673    1  b'                                            ...  \n",
       "674    1  b'                                            ...  \n",
       "675    1  b'                                            ...  \n",
       "\n",
       "[676 rows x 12 columns]"
      ]
     },
     "execution_count": 13,
     "metadata": {},
     "output_type": "execute_result"
    }
   ],
   "source": [
    "t.to_pandas()"
   ]
  },
  {
   "cell_type": "markdown",
   "id": "ddbbab8c-201b-4c18-bbb6-2f9fd41878e7",
   "metadata": {},
   "source": [
    "### List"
   ]
  },
  {
   "cell_type": "code",
   "execution_count": 14,
   "id": "c1601eb2-78aa-4320-98c0-578324cb1407",
   "metadata": {},
   "outputs": [],
   "source": [
    "if not os.path.isdir(\"./fors2out/seds\"):\n",
    "    os.makedirs('./fors2out/seds') "
   ]
  },
  {
   "cell_type": "code",
   "execution_count": 15,
   "id": "ac4aea36-58e8-4517-9238-e479b6cded17",
   "metadata": {},
   "outputs": [
    {
     "name": "stderr",
     "output_type": "stream",
     "text": [
      "WARNING: VerifyWarning: Invalid keyword for column 8: ASCII table null option (TNULLn) is longer than the column's character width and will be truncated (got '-2147483648'). [astropy.io.fits.column]\n",
      "WARNING: VerifyWarning: Invalid keyword for column 9: ASCII table null option (TNULLn) is longer than the column's character width and will be truncated (got '-32768'). [astropy.io.fits.column]\n"
     ]
    }
   ],
   "source": [
    "lst=fors2_jct_SL() #remet les spectres dans le rest frame (ie a z=0)"
   ]
  },
  {
   "cell_type": "code",
   "execution_count": 16,
   "id": "b6131f77-e460-4130-8706-712cf21d75f4",
   "metadata": {},
   "outputs": [
    {
     "data": {
      "text/plain": [
       "array(['SPEC160', 'SPEC530', 'SPEC475', 'SPEC249', 'SPEC567', 'SPEC137',\n",
       "       'SPEC422', 'SPEC588', 'SPEC121', 'SPEC571', 'SPEC13', 'SPEC434',\n",
       "       'SPEC658', 'SPEC526', 'SPEC463', 'SPEC418', 'SPEC674', 'SPEC361',\n",
       "       'SPEC731', 'SPEC68', 'SPEC87', 'SPEC623', 'SPEC336', 'SPEC459',\n",
       "       'SPEC91', 'SPEC265', 'SPEC635', 'SPEC662', 'SPEC398', 'SPEC727',\n",
       "       'SPEC377', 'SPEC245', 'SPEC496', 'SPEC479', 'SPEC183', 'SPEC707',\n",
       "       'SPEC357', 'SPEC642', 'SPEC584', 'SPEC341', 'SPEC711', 'SPEC204',\n",
       "       'SPEC654', 'SPEC438', 'SPEC603', 'SPEC253', 'SPEC480', 'SPEC678',\n",
       "       'SPEC382', 'SPEC697', 'SPEC33', 'SPEC414', 'SPEC551', 'SPEC443',\n",
       "       'SPEC506', 'SPEC156', 'SPEC639', 'SPEC72', 'SPEC455', 'SPEC510',\n",
       "       'SPEC394', 'SPEC681', 'SPEC402', 'SPEC25', 'SPEC547', 'SPEC117',\n",
       "       'SPEC403', 'SPEC24', 'SPEC546', 'SPEC395', 'SPEC680', 'SPEC73',\n",
       "       'SPEC454', 'SPEC141', 'SPEC511', 'SPEC638', 'SPEC268', 'SPEC287',\n",
       "       'SPEC442', 'SPEC507', 'SPEC291', 'SPEC32', 'SPEC415', 'SPEC550',\n",
       "       'SPEC679', 'SPEC383', 'SPEC696', 'SPEC481', 'SPEC49', 'SPEC194',\n",
       "       'SPEC317', 'SPEC602', 'SPEC252', 'SPEC439', 'SPEC593', 'SPEC340',\n",
       "       'SPEC710', 'SPEC205', 'SPEC655', 'SPEC585', 'SPEC706', 'SPEC643',\n",
       "       'SPEC497', 'SPEC478', 'SPEC182', 'SPEC301', 'SPEC244', 'SPEC663',\n",
       "       'SPEC399', 'SPEC233', 'SPEC726', 'SPEC376', 'SPEC264', 'SPEC634',\n",
       "       'SPEC321', 'SPEC458', 'SPEC622', 'SPEC337', 'SPEC69', 'SPEC86',\n",
       "       'SPEC675', 'SPEC360', 'SPEC730', 'SPEC419', 'SPEC527', 'SPEC462',\n",
       "       'SPEC198', 'SPEC45', 'SPEC659', 'SPEC120', 'SPEC570', 'SPEC435',\n",
       "       'SPEC566', 'SPEC423', 'SPEC589', 'SPEC618', 'SPEC248', 'SPEC161',\n",
       "       'SPEC531', 'SPEC474', 'SPEC306', 'SPEC243', 'SPEC613', 'SPEC490',\n",
       "       'SPEC185', 'SPEC58', 'SPEC701', 'SPEC351', 'SPEC644', 'SPEC214',\n",
       "       'SPEC582', 'SPEC428', 'SPEC717', 'SPEC652', 'SPEC19', 'SPEC594',\n",
       "       'SPEC605', 'SPEC469', 'SPEC193', 'SPEC384', 'SPEC691', 'SPEC35',\n",
       "       'SPEC412', 'SPEC107', 'SPEC557', 'SPEC279', 'SPEC629', 'SPEC296',\n",
       "       'SPEC445', 'SPEC62', 'SPEC500', 'SPEC280', 'SPEC453', 'SPEC516',\n",
       "       'SPEC238', 'SPEC668', 'SPEC392', 'SPEC687', 'SPEC404', 'SPEC541',\n",
       "       'SPEC111', 'SPEC536', 'SPEC189', 'SPEC424', 'SPEC218', 'SPEC648',\n",
       "       'SPEC127', 'SPEC577', 'SPEC598', 'SPEC432', 'SPEC520', 'SPEC465',\n",
       "       'SPEC259', 'SPEC609', 'SPEC222', 'SPEC672', 'SPEC388', 'SPEC367',\n",
       "       'SPEC737', 'SPEC449', 'SPEC625', 'SPEC275', 'SPEC97', 'SPEC633',\n",
       "       'SPEC326', 'SPEC408', 'SPEC664', 'SPEC234', 'SPEC721', 'SPEC371',\n",
       "       'SPEC235', 'SPEC720', 'SPEC370', 'SPEC409', 'SPEC262', 'SPEC632',\n",
       "       'SPEC327', 'SPEC79', 'SPEC96', 'SPEC624', 'SPEC274', 'SPEC331',\n",
       "       'SPEC448', 'SPEC80', 'SPEC223', 'SPEC673', 'SPEC389', 'SPEC366',\n",
       "       'SPEC736', 'SPEC258', 'SPEC608', 'SPEC171', 'SPEC464', 'SPEC576',\n",
       "       'SPEC599', 'SPEC649', 'SPEC560', 'SPEC425', 'SPEC537', 'SPEC55',\n",
       "       'SPEC472', 'SPEC188', 'SPEC405', 'SPEC540', 'SPEC110', 'SPEC669',\n",
       "       'SPEC393', 'SPEC686', 'SPEC452', 'SPEC517', 'SPEC281', 'SPEC444',\n",
       "       'SPEC501', 'SPEC151', 'SPEC278', 'SPEC628', 'SPEC297', 'SPEC34',\n",
       "       'SPEC413', 'SPEC106', 'SPEC556', 'SPEC385', 'SPEC690', 'SPEC468',\n",
       "       'SPEC192', 'SPEC604', 'SPEC595', 'SPEC346', 'SPEC716', 'SPEC653',\n",
       "       'SPEC583', 'SPEC429', 'SPEC700', 'SPEC350', 'SPEC645', 'SPEC184',\n",
       "       'SPEC59', 'SPEC307', 'SPEC242', 'SPEC612', 'SPEC543', 'SPEC113',\n",
       "       'SPEC406', 'SPEC685', 'SPEC390', 'SPEC451', 'SPEC282', 'SPEC328',\n",
       "       'SPEC152', 'SPEC447', 'SPEC294', 'SPEC37', 'SPEC410', 'SPEC369',\n",
       "       'SPEC693', 'SPEC386', 'SPEC191', 'SPEC596', 'SPEC579', 'SPEC650',\n",
       "       'SPEC345', 'SPEC715', 'SPEC580', 'SPEC646', 'SPEC703', 'SPEC353',\n",
       "       'SPEC187', 'SPEC492', 'SPEC611', 'SPEC304', 'SPEC723', 'SPEC373',\n",
       "       'SPEC689', 'SPEC236', 'SPEC324', 'SPEC261', 'SPEC631', 'SPEC518',\n",
       "       'SPEC298', 'SPEC332', 'SPEC627', 'SPEC277', 'SPEC83', 'SPEC365',\n",
       "       'SPEC735', 'SPEC670', 'SPEC559', 'SPEC109', 'SPEC9', 'SPEC467',\n",
       "       'SPEC488', 'SPEC719', 'SPEC349', 'SPEC430', 'SPEC575', 'SPEC426',\n",
       "       'SPEC563', 'SPEC308', 'SPEC471', 'SPEC164', 'SPEC57', 'SPEC470',\n",
       "       'SPEC535', 'SPEC309', 'SPEC427', 'SPEC562', 'SPEC132', 'SPEC431',\n",
       "       'SPEC574', 'SPEC718', 'SPEC348', 'SPEC466', 'SPEC523', 'SPEC558',\n",
       "       'SPEC364', 'SPEC734', 'SPEC221', 'SPEC671', 'SPEC333', 'SPEC626',\n",
       "       'SPEC276', 'SPEC519', 'SPEC149', 'SPEC325', 'SPEC260', 'SPEC630',\n",
       "       'SPEC722', 'SPEC372', 'SPEC667', 'SPEC237', 'SPEC240', 'SPEC610',\n",
       "       'SPEC305', 'SPEC186', 'SPEC539', 'SPEC493', 'SPEC647', 'SPEC702',\n",
       "       'SPEC352', 'SPEC651', 'SPEC344', 'SPEC714', 'SPEC597', 'SPEC578',\n",
       "       'SPEC128', 'SPEC606', 'SPEC313', 'SPEC738', 'SPEC368', 'SPEC692',\n",
       "       'SPEC387', 'SPEC554', 'SPEC36', 'SPEC411', 'SPEC295', 'SPEC503',\n",
       "       'SPEC446', 'SPEC61', 'SPEC283', 'SPEC329', 'SPEC77', 'SPEC450',\n",
       "       'SPEC684', 'SPEC391', 'SPEC542', 'SPEC112', 'SPEC407', 'SPEC725',\n",
       "       'SPEC375', 'SPEC660', 'SPEC549', 'SPEC322', 'SPEC288', 'SPEC267',\n",
       "       'SPEC637', 'SPEC93', 'SPEC334', 'SPEC621', 'SPEC271', 'SPEC85',\n",
       "       'SPEC508', 'SPEC363', 'SPEC699', 'SPEC733', 'SPEC226', 'SPEC676',\n",
       "       'SPEC318', 'SPEC461', 'SPEC524', 'SPEC436', 'SPEC123', 'SPEC573',\n",
       "       'SPEC359', 'SPEC420', 'SPEC565', 'SPEC135', 'SPEC477', 'SPEC532',\n",
       "       'SPEC545', 'SPEC115', 'SPEC400', 'SPEC379', 'SPEC683', 'SPEC729',\n",
       "       'SPEC396', 'SPEC512', 'SPEC70', 'SPEC457', 'SPEC504', 'SPEC89',\n",
       "       'SPEC441', 'SPEC66', 'SPEC338', 'SPEC292', 'SPEC553', 'SPEC31',\n",
       "       'SPEC416', 'SPEC695', 'SPEC380', 'SPEC197', 'SPEC178', 'SPEC482',\n",
       "       'SPEC528', 'SPEC601', 'SPEC3', 'SPEC590', 'SPEC656', 'SPEC343',\n",
       "       'SPEC713', 'SPEC586', 'SPEC569', 'SPEC640', 'SPEC210', 'SPEC705',\n",
       "       'SPEC355', 'SPEC181', 'SPEC494', 'SPEC617', 'SPEC302', 'SPEC246',\n",
       "       'SPEC303', 'SPEC641', 'SPEC704', 'SPEC354', 'SPEC587', 'SPEC138',\n",
       "       'SPEC568', 'SPEC657', 'SPEC591', 'SPEC600', 'SPEC250', 'SPEC2',\n",
       "       'SPEC315', 'SPEC196', 'SPEC179', 'SPEC483', 'SPEC529', 'SPEC694',\n",
       "       'SPEC381', 'SPEC102', 'SPEC552', 'SPEC30', 'SPEC417', 'SPEC339',\n",
       "       'SPEC505', 'SPEC440', 'SPEC67', 'SPEC513', 'SPEC71', 'SPEC456',\n",
       "       'SPEC378', 'SPEC682', 'SPEC728', 'SPEC397', 'SPEC544', 'SPEC114',\n",
       "       'SPEC401', 'SPEC51', 'SPEC476', 'SPEC499', 'SPEC533', 'SPEC421',\n",
       "       'SPEC564', 'SPEC134', 'SPEC358', 'SPEC708', 'SPEC437', 'SPEC572',\n",
       "       'SPEC460', 'SPEC47', 'SPEC525', 'SPEC319', 'SPEC362', 'SPEC698',\n",
       "       'SPEC732', 'SPEC227', 'SPEC677', 'SPEC509', 'SPEC84', 'SPEC335',\n",
       "       'SPEC620', 'SPEC323', 'SPEC266', 'SPEC636', 'SPEC118', 'SPEC548',\n",
       "       'SPEC724', 'SPEC374', 'SPEC661', 'SPEC231'], dtype='<U32')"
      ]
     },
     "execution_count": 16,
     "metadata": {},
     "output_type": "execute_result"
    }
   ],
   "source": [
    "lst"
   ]
  },
  {
   "cell_type": "code",
   "execution_count": 17,
   "id": "5a99d9ad-c77f-41fa-8169-d7a6d723f38d",
   "metadata": {},
   "outputs": [],
   "source": [
    "var_cut=0.005"
   ]
  },
  {
   "cell_type": "code",
   "execution_count": 18,
   "id": "55da5840-c4d5-423e-94e5-76525232226e",
   "metadata": {},
   "outputs": [],
   "source": [
    "#qso()"
   ]
  },
  {
   "cell_type": "code",
   "execution_count": 19,
   "id": "26268939-debd-4b53-88f7-693846fd1ce1",
   "metadata": {},
   "outputs": [],
   "source": [
    "#plot_fors2_raw()"
   ]
  },
  {
   "cell_type": "markdown",
   "id": "d072d79a-9c35-49ef-989f-f0c692a964c6",
   "metadata": {},
   "source": [
    "#### redshift distribution"
   ]
  },
  {
   "cell_type": "code",
   "execution_count": 20,
   "id": "5a4629f0-0b9b-4167-8aa4-7d46c805625b",
   "metadata": {},
   "outputs": [],
   "source": [
    "#hist_zspec()"
   ]
  },
  {
   "cell_type": "markdown",
   "id": "2babeec8-a799-48b4-8031-d4a2fbe9ba86",
   "metadata": {},
   "source": [
    "#### Count Zspec"
   ]
  },
  {
   "cell_type": "code",
   "execution_count": 21,
   "id": "cc9f9403-d5f0-4710-927c-237898080d1a",
   "metadata": {},
   "outputs": [],
   "source": [
    "#count_zspec()"
   ]
  },
  {
   "cell_type": "markdown",
   "id": "3bd05184-f2ec-498e-8521-57664a62dbe3",
   "metadata": {},
   "source": [
    "#### Sort color"
   ]
  },
  {
   "cell_type": "code",
   "execution_count": 22,
   "id": "befd1bb5-94d7-46fc-a8ab-f4bbc46198af",
   "metadata": {},
   "outputs": [],
   "source": [
    "#color_sort()"
   ]
  },
  {
   "cell_type": "markdown",
   "id": "019614a6-40d5-4782-b00c-884451870565",
   "metadata": {},
   "source": [
    "#### Histogram"
   ]
  },
  {
   "cell_type": "code",
   "execution_count": 23,
   "id": "b7ed3894-bcb1-4883-9534-f1f640b1b7dc",
   "metadata": {},
   "outputs": [],
   "source": [
    "#hist_diff_raw_sl()"
   ]
  },
  {
   "cell_type": "markdown",
   "id": "8b82f604-ddf9-4510-b224-5af926376e21",
   "metadata": {},
   "source": [
    "#### Compare Spectra"
   ]
  },
  {
   "cell_type": "code",
   "execution_count": 24,
   "id": "3a80a0b2-2a9f-46a1-ab73-56b796882065",
   "metadata": {},
   "outputs": [],
   "source": [
    "#plot_out=True\n",
    "#plot_out=False\n",
    "#compare_spectra(plot_out)"
   ]
  },
  {
   "cell_type": "markdown",
   "id": "bcd93f41-e98b-43d8-adc9-86846ab39844",
   "metadata": {},
   "source": [
    "#### Variance"
   ]
  },
  {
   "cell_type": "code",
   "execution_count": 25,
   "id": "2f5cccde-da6a-4a99-b4e8-0147b6829b4a",
   "metadata": {},
   "outputs": [],
   "source": [
    "#hist_var()"
   ]
  },
  {
   "cell_type": "markdown",
   "id": "6d79f7b1-e194-41d1-8310-7e62e4a62c85",
   "metadata": {},
   "source": [
    "#### Save plots"
   ]
  },
  {
   "cell_type": "code",
   "execution_count": 26,
   "id": "c7398396-b958-4aae-8c73-82c2ab106bbb",
   "metadata": {},
   "outputs": [],
   "source": [
    "#pdf_pages.close()"
   ]
  },
  {
   "cell_type": "code",
   "execution_count": null,
   "id": "7d4697ce-d505-447f-a835-63488402bdf7",
   "metadata": {},
   "outputs": [],
   "source": []
  }
 ],
 "metadata": {
  "kernelspec": {
   "display_name": "Python 3 (ipykernel)",
   "language": "python",
   "name": "python3"
  },
  "language_info": {
   "codemirror_mode": {
    "name": "ipython",
    "version": 3
   },
   "file_extension": ".py",
   "mimetype": "text/x-python",
   "name": "python",
   "nbconvert_exporter": "python",
   "pygments_lexer": "ipython3",
   "version": "3.10.13"
  },
  "toc": {
   "base_numbering": 1,
   "nav_menu": {},
   "number_sections": true,
   "sideBar": true,
   "skip_h1_title": false,
   "title_cell": "Table of Contents",
   "title_sidebar": "Contents",
   "toc_cell": false,
   "toc_position": {},
   "toc_section_display": true,
   "toc_window_display": false
  }
 },
 "nbformat": 4,
 "nbformat_minor": 5
}
