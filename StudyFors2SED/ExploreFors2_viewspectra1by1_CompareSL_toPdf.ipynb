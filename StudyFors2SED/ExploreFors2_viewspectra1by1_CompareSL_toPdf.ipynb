{
 "cells": [
  {
   "cell_type": "markdown",
   "id": "316c4ba5",
   "metadata": {},
   "source": [
    "# View Fors2 , View spectra one by one and Compare to SL and write in a pdf file\n",
    "\n",
    "- author : Sylvie Dagoret-Campagne\n",
    "- affiliation : IJCLab/IN2P3/CNRS\n",
    "- creation date : 2023/01/21\n",
    "- last update : 2023/03/20\n",
    "- FORS2 : https://github.com/ericnuss/fors2\n",
    "- Result of StarLight : /sps/lsst/groups/photoz/fors2/FORS2/ResStarlight\n",
    "\n",
    "\n",
    "\n",
    "          /Users/dagoret/MacOSX/GitHub/LSST/FORS2>ls -l\n",
    "              total 0\n",
    "              drwxrwsr-x  3 dagoret  staff   96 Aug 21  2018 ResStarlight\n",
    "              drwxr-xr-x  9 dagoret  staff  288 Dec 19 18:01 fors2"
   ]
  },
  {
   "cell_type": "markdown",
   "id": "c7d7e344",
   "metadata": {},
   "source": [
    "## Import"
   ]
  },
  {
   "cell_type": "code",
   "execution_count": 48,
   "id": "e485fec8",
   "metadata": {},
   "outputs": [],
   "source": [
    "import os,sys,re\n",
    "from astropy.io import fits\n",
    "from astropy.table import Table"
   ]
  },
  {
   "cell_type": "code",
   "execution_count": 49,
   "id": "b271dcb5",
   "metadata": {},
   "outputs": [],
   "source": [
    "# Import some generally useful packages\n",
    "\n",
    "import numpy as np\n",
    "import pandas as pd\n",
    "import matplotlib.pyplot as plt\n",
    "import matplotlib.colors as colors\n",
    "import matplotlib.cm as cmx\n",
    "\n",
    "from matplotlib.backends.backend_pdf import PdfPages\n",
    "\n",
    "%matplotlib inline\n",
    "import pandas as pd\n",
    "from itertools import cycle, islice\n"
   ]
  },
  {
   "cell_type": "code",
   "execution_count": 50,
   "id": "f6689d40-c574-471c-b9d6-996002aa4e76",
   "metadata": {},
   "outputs": [],
   "source": [
    "from scipy import ndimage\n",
    "\n",
    "#from scipy import interp as scinterp\n",
    "from scipy.interpolate import interp1d\n",
    "\n",
    "import glob\n",
    "import collections\n",
    "#from def_raw_seds import *"
   ]
  },
  {
   "cell_type": "code",
   "execution_count": 51,
   "id": "413f1e89",
   "metadata": {},
   "outputs": [],
   "source": [
    "# to enlarge the sizes\n",
    "params = {'legend.fontsize': 'x-large',\n",
    "          'figure.figsize': (8, 4),\n",
    "         'axes.labelsize': 'xx-large',\n",
    "         'axes.titlesize':'xx-large',\n",
    "         'xtick.labelsize':'xx-large',\n",
    "         'ytick.labelsize':'xx-large'}\n",
    "plt.rcParams.update(params)"
   ]
  },
  {
   "cell_type": "code",
   "execution_count": 52,
   "id": "c1e22fcc",
   "metadata": {},
   "outputs": [],
   "source": [
    "import matplotlib.offsetbox\n",
    "props = dict(boxstyle='round',edgecolor=\"w\",facecolor=\"w\", alpha=0.5)"
   ]
  },
  {
   "cell_type": "code",
   "execution_count": 53,
   "id": "b7e9a578-1bb2-4e32-b88f-a69914949eca",
   "metadata": {},
   "outputs": [],
   "source": [
    "from def_raw_seds import *"
   ]
  },
  {
   "cell_type": "code",
   "execution_count": 54,
   "id": "93d5eb5c-6c03-45fe-9795-17e8ed32d0d7",
   "metadata": {},
   "outputs": [],
   "source": [
    "from raw_data_analysis import *"
   ]
  },
  {
   "cell_type": "code",
   "execution_count": 55,
   "id": "7ce825ef",
   "metadata": {},
   "outputs": [],
   "source": [
    "# Import the primary photometry classes from rubin_sim.photUtils\n",
    "\n",
    "#import rubin_sim.phot_Utils.Bandpass as Bandpass\n",
    "#import rubin_sim.phot_Utils.Sed as Sed\n",
    "#from rubin_sim.data import get_data_dir"
   ]
  },
  {
   "cell_type": "code",
   "execution_count": 56,
   "id": "a20e3234",
   "metadata": {},
   "outputs": [],
   "source": [
    "#pysynphot_root_path=os.environ['PYSYN_CDBS']\n",
    "#path_sed_calspec=os.path.join(pysynphot_root_path,'calspec')\n",
    "# pysynphot\n",
    "#import pysynphot as S\n",
    "#S.refs.setref(area=1)\n",
    "#S.refs.getref()"
   ]
  },
  {
   "cell_type": "code",
   "execution_count": 57,
   "id": "985a5370-9867-4471-9a82-e5d722d261b7",
   "metadata": {},
   "outputs": [],
   "source": [
    "from astropy.io import fits"
   ]
  },
  {
   "cell_type": "code",
   "execution_count": 58,
   "id": "7644c755-9b20-44cc-bb2c-06eb8caf4568",
   "metadata": {},
   "outputs": [],
   "source": [
    "from scipy.ndimage import gaussian_filter1d"
   ]
  },
  {
   "cell_type": "code",
   "execution_count": 59,
   "id": "520107db-9929-4532-a48c-d896e705d4b6",
   "metadata": {},
   "outputs": [],
   "source": [
    "from GalaxyLineDict import build_emissionlinesdict"
   ]
  },
  {
   "cell_type": "code",
   "execution_count": 60,
   "id": "630eb310-e63e-4265-b3b6-d0a60e7041c0",
   "metadata": {},
   "outputs": [],
   "source": [
    "from matplotlib.backends.backend_pdf import PdfPages"
   ]
  },
  {
   "cell_type": "code",
   "execution_count": 61,
   "id": "3798e08a-0869-40be-950f-28f4a148e9f1",
   "metadata": {},
   "outputs": [],
   "source": [
    "import copy"
   ]
  },
  {
   "cell_type": "code",
   "execution_count": 62,
   "id": "56a3a5b4-4236-40ee-b5e0-ff2ee15804a4",
   "metadata": {},
   "outputs": [],
   "source": [
    "def SaveImageInPdf(all_figs,outputfile):\n",
    "    \"\"\"\n",
    "    \"\"\"\n",
    "    with PdfPages(outputfile) as pdf:\n",
    "        for fig in all_figs:\n",
    "            pdf.savefig(fig)\n",
    "            plt.close()"
   ]
  },
  {
   "cell_type": "markdown",
   "id": "a81df846-5679-4951-8f93-dc02605b9c91",
   "metadata": {},
   "source": [
    "# Start"
   ]
  },
  {
   "cell_type": "code",
   "execution_count": 63,
   "id": "784cacd8-84cf-4beb-9ddb-d3cab6572591",
   "metadata": {},
   "outputs": [
    {
     "name": "stdout",
     "output_type": "stream",
     "text": [
      "notebook current executing path : /home/joseph/PhotoZ_PhD/StudyFors2SED\n"
     ]
    }
   ],
   "source": [
    "cwd=os.path.abspath(\"\")\n",
    "main_dir = cwd\n",
    "print(f\"notebook current executing path : {cwd}\")"
   ]
  },
  {
   "cell_type": "markdown",
   "id": "a4d93f7b",
   "metadata": {},
   "source": [
    "## Configuration"
   ]
  },
  {
   "cell_type": "markdown",
   "id": "5debfff1-974f-4a7f-bc51-12b047fc92ac",
   "metadata": {},
   "source": [
    "### Emission lines"
   ]
  },
  {
   "cell_type": "code",
   "execution_count": 64,
   "id": "f8188f8a-5aea-440a-b7fe-4479e014bd1c",
   "metadata": {},
   "outputs": [],
   "source": [
    "#df_lines=pd.read_excel(\"datatools/GalEmissionLines.xlsx\")"
   ]
  },
  {
   "cell_type": "code",
   "execution_count": 65,
   "id": "e1319fae-d6d1-4ebc-ab55-53c4910e88b8",
   "metadata": {},
   "outputs": [],
   "source": [
    "#df_lines"
   ]
  },
  {
   "cell_type": "code",
   "execution_count": 66,
   "id": "a85e4489-bfb1-4558-a5a6-8a42f1a1acc8",
   "metadata": {},
   "outputs": [],
   "source": [
    "#df_sdss_lines = pd.read_excel(\"datatools/sdss_galaxylines.xlsx\")"
   ]
  },
  {
   "cell_type": "code",
   "execution_count": 67,
   "id": "8377f6fb-a4c8-4dd6-afc0-dc2866c9fb49",
   "metadata": {},
   "outputs": [],
   "source": [
    "#df_sdss_lines"
   ]
  },
  {
   "cell_type": "markdown",
   "id": "a0278c32-f890-4694-bb4f-566ead98d8cc",
   "metadata": {},
   "source": [
    "# Lines"
   ]
  },
  {
   "cell_type": "code",
   "execution_count": 68,
   "id": "6fa14d72-766b-4b4c-a943-aabc99eba8e2",
   "metadata": {},
   "outputs": [],
   "source": [
    "lines_to_plot=build_emissionlinesdict()"
   ]
  },
  {
   "cell_type": "code",
   "execution_count": 69,
   "id": "1c09dc67-ff8e-4aa4-8c64-1dc9cc8135fd",
   "metadata": {},
   "outputs": [
    {
     "data": {
      "text/plain": [
       "{'K': {'wls': array([3934.777]), 'name': 'K', 'type': 'absorption'},\n",
       " 'H': {'wls': array([4341.68 , 4862.68 , 6564.61 , 3969.588]),\n",
       "  'name': 'H',\n",
       "  'type': 'absorption'},\n",
       " 'G': {'wls': array([4305.61]), 'name': 'G', 'type': 'absorption'},\n",
       " 'Mg': {'wls': array([5176.7]), 'name': 'Mg', 'type': 'absorption'},\n",
       " 'Na': {'wls': array([5895.6]), 'name': 'Na', 'type': 'absorption'},\n",
       " 'H8': {'wls': array([3889.064]), 'name': '$H8$', 'type': 'emission'},\n",
       " 'H9': {'wls': array([3835.391]), 'name': '$H9$', 'type': 'emission'},\n",
       " 'H10': {'wls': array([3797.904]), 'name': '$H10$', 'type': 'emission'},\n",
       " 'H11': {'wls': array([3770.637]), 'name': '$H11$', 'type': 'emission'},\n",
       " 'H{alpha}': {'wls': array([6562.819]),\n",
       "  'name': '$H_\\\\alpha$',\n",
       "  'type': 'emission'},\n",
       " 'H{beta}': {'wls': array([4861.333]),\n",
       "  'name': '$H_\\\\beta$',\n",
       "  'type': 'emission'},\n",
       " 'H{gamma}': {'wls': array([4340.471]),\n",
       "  'name': '$H_\\\\gamma$',\n",
       "  'type': 'emission'},\n",
       " 'H{delta}': {'wls': array([4101.742]),\n",
       "  'name': '$H_\\\\delta$',\n",
       "  'type': 'emission'},\n",
       " 'H{epsilon}': {'wls': array([3970.079]),\n",
       "  'name': '$H_\\\\epsilon$',\n",
       "  'type': 'emission'},\n",
       " '[OII]': {'wls': array([3726.032, 3728.815, 7319.99 , 7330.73 ]),\n",
       "  'name': '$[OII]$',\n",
       "  'type': 'emission'},\n",
       " '[OIII]': {'wls': array([2320.951, 4363.21 , 4958.911, 5006.843]),\n",
       "  'name': '$[OIII]$',\n",
       "  'type': 'emission'},\n",
       " '[OIV]': {'wls': array([1397.232, 1399.78 ]),\n",
       "  'name': '$[OIV]$',\n",
       "  'type': 'emission'},\n",
       " '[OVI]': {'wls': array([1031.912, 1037.613]),\n",
       "  'name': '$[OVI]$',\n",
       "  'type': 'emission'},\n",
       " 'Mgb': {'wls': array([], dtype=float64), 'name': '$Mgb$', 'type': 'emission'},\n",
       " 'MgII': {'wls': array([2795.528, 2802.705]),\n",
       "  'name': '$MgII$',\n",
       "  'type': 'emission'},\n",
       " 'Fe43': {'wls': array([], dtype=float64),\n",
       "  'name': '$Fe43$',\n",
       "  'type': 'emission'},\n",
       " 'Fe45': {'wls': array([], dtype=float64),\n",
       "  'name': '$Fe45$',\n",
       "  'type': 'emission'},\n",
       " 'Ca44': {'wls': array([], dtype=float64),\n",
       "  'name': '$Ca44$',\n",
       "  'type': 'emission'},\n",
       " 'E': {'wls': array([], dtype=float64), 'name': '$E$', 'type': 'emission'},\n",
       " 'FeII24': {'wls': array([4178.862, 4233.172, 4303.176, 4416.83 , 4489.183, 4491.405,\n",
       "         4522.634, 4555.893, 4582.835, 4583.837, 4629.339, 4923.927,\n",
       "         5018.44 , 5169.033, 5197.577, 5234.625, 5276.002, 5316.615,\n",
       "         5316.784, 6369.462, 6516.081]),\n",
       "  'name': '$FeII24$',\n",
       "  'type': 'emission'},\n",
       " 'FeII26': {'wls': array([4178.862, 4233.172, 4303.176, 4416.83 , 4489.183, 4491.405,\n",
       "         4522.634, 4555.893, 4582.835, 4583.837, 4629.339, 4923.927,\n",
       "         5018.44 , 5169.033, 5197.577, 5234.625, 5276.002, 5316.615,\n",
       "         5316.784, 6369.462, 6516.081]),\n",
       "  'name': '$FeII26$',\n",
       "  'type': 'emission'},\n",
       " 'weak': {'wls': [], 'name': '$weak$', 'type': 'break'},\n",
       " '?': {'wls': [], 'name': '$?$', 'type': 'break'},\n",
       " '4000{AA}-break': {'wls': [4000.0], 'name': '$Bal$', 'type': 'break'},\n",
       " 'Ly{alpha}': {'wls': array([1215.67]),\n",
       "  'name': '$Ly_\\\\alpha$',\n",
       "  'type': 'emission'},\n",
       " 'Ly{beta}': {'wls': array([1025.722]),\n",
       "  'name': '$Ly_\\\\beta$',\n",
       "  'type': 'emission'},\n",
       " 'Ly{delta}': {'wls': array([949.742]),\n",
       "  'name': '$Ly_\\\\delta$',\n",
       "  'type': 'emission'},\n",
       " 'Ly{epsilon}': {'wls': array([937.814]),\n",
       "  'name': '$Ly_\\\\epsilon$',\n",
       "  'type': 'emission'},\n",
       " 'CIV': {'wls': array([1548.187, 1550.772, 5801.33 , 5811.98 ]),\n",
       "  'name': '$CIV$',\n",
       "  'type': 'emission'},\n",
       " 'AlIII': {'wls': array([1854.716, 1862.79 ]),\n",
       "  'name': '$AlIII$',\n",
       "  'type': 'emission'},\n",
       " 'NeIII': {'wls': array([3868.76, 3967.47]),\n",
       "  'name': '$NeIII$',\n",
       "  'type': 'emission'},\n",
       " 'HeI': {'wls': array([ 2945.106,  3187.745,  3487.727,  3888.647,  4026.19 ,  4143.761,\n",
       "          4471.479,  5875.624,  7065.196,  7281.349,  7816.136, 10027.73 ,\n",
       "         10031.16 , 10830.34 ]),\n",
       "  'name': '$HeI$',\n",
       "  'type': 'emission'},\n",
       " 'NIII': {'wls': array([ 989.79 ,  991.514,  991.579, 4510.91 , 4634.14 , 4640.64 ,\n",
       "         4641.85 ]),\n",
       "  'name': '$NIII$',\n",
       "  'type': 'emission'},\n",
       " 'AlII': {'wls': array([], dtype=float64),\n",
       "  'name': '$AlII$',\n",
       "  'type': 'emission'},\n",
       " 'NII': {'wls': array([5754.59, 6548.05, 6583.46]),\n",
       "  'name': '$NII$',\n",
       "  'type': 'emission'},\n",
       " 'CIII': {'wls': array([ 977.03, 4647.42, 4650.25, 4651.47, 5695.92]),\n",
       "  'name': '$CIII$',\n",
       "  'type': 'emission'},\n",
       " 'SiIV/OIV': {'wls': array([1399.8]),\n",
       "  'name': '$SiIV/OIV$',\n",
       "  'type': 'emission'},\n",
       " '(QSO)': {'wls': [], 'name': '$QSO$', 'type': 'emission'},\n",
       " 'QSO': {'wls': [], 'name': '$QSO$', 'type': 'emission'},\n",
       " 'NaD': {'wls': [], 'name': '$NaD$', 'type': 'emission'},\n",
       " 'broad': {'wls': [], 'name': '$broad$', 'type': 'emission'}}"
      ]
     },
     "execution_count": 69,
     "metadata": {},
     "output_type": "execute_result"
    }
   ],
   "source": [
    "lines_to_plot"
   ]
  },
  {
   "cell_type": "code",
   "execution_count": 70,
   "id": "f67da33b-2d85-4460-8880-a90a2db91be6",
   "metadata": {},
   "outputs": [],
   "source": [
    "def plot_line(ax,line_name):\n",
    "    \n",
    "    #keys = lines_to_plot.keys()\n",
    "    #for the_key in keys:\n",
    "    #    if the_key in line_name:\n",
    "    #        print(\"the_key=\",the_key,\" line_name=\",line_name)\n",
    "    #        line_name=the_key\n",
    "    #        break\n",
    "            \n",
    "    posx0=0.0\n",
    "    posy0=0.05\n",
    "    fontsize=12\n",
    "    the_color = {\"emission\":'r',\"absorption\":\"g\",\"break\":\"purple\"}\n",
    "    the_line_to_plot = lines_to_plot[line_name]\n",
    "    wls = the_line_to_plot[\"wls\"]\n",
    "    tag = the_line_to_plot[\"name\"]\n",
    "    typ = the_line_to_plot[\"type\"]\n",
    "    \n",
    "    xlim = ax.get_xlim()\n",
    "    for wl in wls:\n",
    "        ax.axvline(wl, lw=2, color=the_color[typ])\n",
    "        xpos = (wl - xlim[0]) / (xlim[1] - xlim[0])+posx0 \n",
    "        if 0 < xpos < 1:\n",
    "            ax.annotate(tag, xy=(xpos, posy0), rotation=0, ha='left', va='bottom',\n",
    "                            xycoords='axes fraction', color=the_color[typ], fontsize=fontsize)\n",
    "    return ax"
   ]
  },
  {
   "cell_type": "markdown",
   "id": "b266acf2-bbec-466a-86d3-b94626234bc1",
   "metadata": {},
   "source": [
    "## StarLight"
   ]
  },
  {
   "cell_type": "code",
   "execution_count": 71,
   "id": "d2a3726c-43e6-432f-90b7-d779f346fee8",
   "metadata": {},
   "outputs": [],
   "source": [
    "filename = 'datatools/spectra_SL_data.fits'\n",
    "hdu = fits.open(filename)\n",
    "data_in=hdu[0].data\n",
    "hdr_in = hdu[0].header"
   ]
  },
  {
   "cell_type": "code",
   "execution_count": 72,
   "id": "4db3b891",
   "metadata": {},
   "outputs": [
    {
     "data": {
      "text/plain": [
       "SIMPLE  =                    T / conforms to FITS standard                      \n",
       "BITPIX  =                  -64 / array data type                                \n",
       "NAXIS   =                    2 / number of array dimensions                     \n",
       "NAXIS1  =                 6362                                                  \n",
       "NAXIS2  =                  553                                                  \n",
       "DATAWLS = 'data[0,1:]'                                                          \n",
       "DATALLAV= 'data[1,1:]'                                                          \n",
       "DATALLST= 'data[2,1:]'                                                          \n",
       "DATAFL  = 'data[3:,1:]'                                                         \n",
       "DATANUM = 'data[3:,0]'                                                          \n",
       "COMMENT Spectra of StarLight                                                    "
      ]
     },
     "execution_count": 72,
     "metadata": {},
     "output_type": "execute_result"
    }
   ],
   "source": [
    "hdr_in"
   ]
  },
  {
   "cell_type": "code",
   "execution_count": 73,
   "id": "1d66cc83-7a4c-4e11-a26f-74c2fe9618c9",
   "metadata": {},
   "outputs": [],
   "source": [
    "NSED_SL = data_in.shape[0]-3\n",
    "NWL_SL = data_in.shape[1]-1"
   ]
  },
  {
   "cell_type": "code",
   "execution_count": 74,
   "id": "5c64dd41-0684-4315-87a9-63141749e493",
   "metadata": {},
   "outputs": [],
   "source": [
    "wavelengths_SL = data_in[0,1:] \n",
    "flambdas_average_SL = data_in[1,1:] \n",
    "flambdas_std_SL = data_in[2,1:] \n",
    "spec_SL = data_in[3:,1:] \n",
    "all_numbers_SL = data_in[3:,0] "
   ]
  },
  {
   "cell_type": "markdown",
   "id": "166b2775",
   "metadata": {},
   "source": [
    "### Fors2"
   ]
  },
  {
   "cell_type": "markdown",
   "id": "420390a8-8384-49a5-9a8b-a16888600007",
   "metadata": {},
   "source": [
    "## Start"
   ]
  },
  {
   "cell_type": "markdown",
   "id": "7f6b5b89-440f-4d2d-87d6-9eb190e215bd",
   "metadata": {},
   "source": [
    "### Catalog"
   ]
  },
  {
   "cell_type": "code",
   "execution_count": 75,
   "id": "0d1c76e0-51f7-47f0-9fc8-70f426930afd",
   "metadata": {},
   "outputs": [
    {
     "name": "stderr",
     "output_type": "stream",
     "text": [
      "WARNING: VerifyWarning: Invalid keyword for column 8: ASCII table null option (TNULLn) is longer than the column's character width and will be truncated (got '-2147483648'). [astropy.io.fits.column]\n",
      "WARNING: VerifyWarning: Invalid keyword for column 9: ASCII table null option (TNULLn) is longer than the column's character width and will be truncated (got '-32768'). [astropy.io.fits.column]\n"
     ]
    }
   ],
   "source": [
    "t = Table.read(filename_fits_catalog)\n",
    "t_fits = fits.open(filename_fits_catalog)\n",
    "t_data = t_fits[0].data\n",
    "t_hdr= t_fits[0].header"
   ]
  },
  {
   "cell_type": "code",
   "execution_count": 76,
   "id": "2ee70902-b8ad-4407-9314-25ff3d8b2f77",
   "metadata": {},
   "outputs": [
    {
     "data": {
      "text/html": [
       "<div><i>Table length=676</i>\n",
       "<table id=\"table140039323987536\" class=\"table-striped table-bordered table-condensed\">\n",
       "<thead><tr><th>ID</th><th>m_ID</th><th>RAJ2000</th><th>DEJ2000</th><th>z</th><th>u_z</th><th>Rmag</th><th>RV</th><th>e_RV</th><th>RT</th><th>Nsp</th><th>Lines</th></tr></thead>\n",
       "<thead><tr><th></th><th></th><th>deg</th><th>deg</th><th></th><th></th><th>mag</th><th>km / s</th><th>km / s</th><th></th><th></th><th></th></tr></thead>\n",
       "<thead><tr><th>int16</th><th>bytes1</th><th>float64</th><th>float64</th><th>float64</th><th>bytes1</th><th>float64</th><th>int32</th><th>int16</th><th>float64</th><th>int16</th><th>bytes77</th></tr></thead>\n",
       "<tr><td>1</td><td></td><td>13.52815</td><td>-28.40486</td><td>0.55409</td><td></td><td>20.79</td><td>166227</td><td>55</td><td>10.0</td><td>1</td><td>[OII],H8,K,H</td></tr>\n",
       "<tr><td>2</td><td></td><td>13.52997</td><td>-28.44776</td><td>0.34555</td><td></td><td>21.18</td><td>103665</td><td>40</td><td>12.3</td><td>1</td><td>K,H,G,H{beta}</td></tr>\n",
       "<tr><td>3</td><td></td><td>13.52552</td><td>-28.4208</td><td>0.6866</td><td></td><td>21.45</td><td>210642</td><td>48</td><td>11.6</td><td>4</td><td>[OII],H9,K,H,H{beta},[OIII],H8</td></tr>\n",
       "<tr><td>4</td><td></td><td>13.52216</td><td>-28.40914</td><td>0.68653</td><td></td><td>21.62</td><td>205959</td><td>123</td><td>10.6</td><td>1</td><td>[OII],H9,K,H,G,H{beta}</td></tr>\n",
       "<tr><td>7</td><td></td><td>13.50974</td><td>-28.42972</td><td>0.32371</td><td></td><td>22.34</td><td>97111</td><td>11</td><td>16.7</td><td>6</td><td>[OII],H{beta},[OIII],H{alpha}</td></tr>\n",
       "<tr><td>9</td><td></td><td>13.50219</td><td>-28.40641</td><td>0.29266</td><td></td><td>21.6</td><td>87798</td><td>58</td><td>13.1</td><td>1</td><td>H9,H8,K,H</td></tr>\n",
       "<tr><td>11</td><td></td><td>13.49724</td><td>-28.39487</td><td>0.62688</td><td></td><td>22.09</td><td>188063</td><td>17</td><td>24.3</td><td>3</td><td>[OII],H10,H8,K,H,H{delta}</td></tr>\n",
       "<tr><td>12</td><td></td><td>13.49584</td><td>-28.39125</td><td>0.2973</td><td></td><td>21.97</td><td>89189</td><td>30</td><td>14.8</td><td>2</td><td>[OII],H10,H9,H8,K,H</td></tr>\n",
       "<tr><td>13</td><td></td><td>13.49261</td><td>-28.38272</td><td>0.6887</td><td></td><td>23.14</td><td>206610</td><td>0</td><td>0.0</td><td>1</td><td>[OII],H{epsilon},H{delta},H{beta}</td></tr>\n",
       "<tr><td>...</td><td>...</td><td>...</td><td>...</td><td>...</td><td>...</td><td>...</td><td>...</td><td>...</td><td>...</td><td>...</td><td>...</td></tr>\n",
       "<tr><td>735</td><td></td><td>13.69958</td><td>-28.23161</td><td>0.36169</td><td></td><td>19.28</td><td>108507</td><td>107</td><td>8.2</td><td>1</td><td>K,H,G,H{beta}</td></tr>\n",
       "<tr><td>736</td><td></td><td>13.66431</td><td>-28.22849</td><td>0.55777</td><td></td><td>21.64</td><td>167331</td><td>31</td><td>10.5</td><td>1</td><td>[OII],H9,H{beta},[OIII]</td></tr>\n",
       "<tr><td>737</td><td></td><td>13.62722</td><td>-28.22692</td><td>0.52001</td><td></td><td>21.4</td><td>156003</td><td>53</td><td>10.2</td><td>1</td><td>[OII],K,H</td></tr>\n",
       "<tr><td>738</td><td></td><td>13.6437</td><td>-28.22527</td><td>0.56044</td><td></td><td>19.73</td><td>168132</td><td>126</td><td>7.1</td><td>1</td><td>K,H,4000{AA}-break,G</td></tr>\n",
       "<tr><td>1009</td><td></td><td>13.52353</td><td>-28.42682</td><td>0.2904</td><td></td><td>18.6</td><td>87120</td><td>0</td><td>0.0</td><td>1</td><td></td></tr>\n",
       "<tr><td>1011</td><td></td><td>13.51676</td><td>-28.40425</td><td>0.2934</td><td></td><td>18.26</td><td>88020</td><td>0</td><td>0.0</td><td>1</td><td></td></tr>\n",
       "<tr><td>1012</td><td></td><td>13.5147</td><td>-28.40379</td><td>0.2929</td><td></td><td>17.34</td><td>87870</td><td>0</td><td>0.0</td><td>1</td><td></td></tr>\n",
       "<tr><td>1018</td><td></td><td>13.49151</td><td>-28.38977</td><td>0.2925</td><td></td><td>19.62</td><td>87750</td><td>0</td><td>0.0</td><td>1</td><td></td></tr>\n",
       "<tr><td>1020</td><td></td><td>13.48143</td><td>-28.40368</td><td>0.2939</td><td></td><td>20.71</td><td>88170</td><td>0</td><td>0.0</td><td>1</td><td></td></tr>\n",
       "</table></div>"
      ],
      "text/plain": [
       "<Table length=676>\n",
       "  ID   m_ID  RAJ2000  ...    RT    Nsp                                      Lines                                    \n",
       "               deg    ...                                                                                            \n",
       "int16 bytes1 float64  ... float64 int16                                    bytes77                                   \n",
       "----- ------ -------- ... ------- ----- -----------------------------------------------------------------------------\n",
       "    1        13.52815 ...    10.0     1 [OII],H8,K,H                                                                \n",
       "    2        13.52997 ...    12.3     1 K,H,G,H{beta}                                                               \n",
       "    3        13.52552 ...    11.6     4 [OII],H9,K,H,H{beta},[OIII],H8                                              \n",
       "    4        13.52216 ...    10.6     1 [OII],H9,K,H,G,H{beta}                                                      \n",
       "    7        13.50974 ...    16.7     6 [OII],H{beta},[OIII],H{alpha}                                               \n",
       "    9        13.50219 ...    13.1     1 H9,H8,K,H                                                                   \n",
       "   11        13.49724 ...    24.3     3 [OII],H10,H8,K,H,H{delta}                                                   \n",
       "   12        13.49584 ...    14.8     2 [OII],H10,H9,H8,K,H                                                         \n",
       "   13        13.49261 ...     0.0     1 [OII],H{epsilon},H{delta},H{beta}                                           \n",
       "  ...    ...      ... ...     ...   ...                                                                           ...\n",
       "  735        13.69958 ...     8.2     1 K,H,G,H{beta}                                                               \n",
       "  736        13.66431 ...    10.5     1 [OII],H9,H{beta},[OIII]                                                     \n",
       "  737        13.62722 ...    10.2     1 [OII],K,H                                                                   \n",
       "  738         13.6437 ...     7.1     1 K,H,4000{AA}-break,G                                                        \n",
       " 1009        13.52353 ...     0.0     1                                                                             \n",
       " 1011        13.51676 ...     0.0     1                                                                             \n",
       " 1012         13.5147 ...     0.0     1                                                                             \n",
       " 1018        13.49151 ...     0.0     1                                                                             \n",
       " 1020        13.48143 ...     0.0     1                                                                             "
      ]
     },
     "execution_count": 76,
     "metadata": {},
     "output_type": "execute_result"
    }
   ],
   "source": [
    "t"
   ]
  },
  {
   "cell_type": "code",
   "execution_count": 77,
   "id": "2aec2aa0",
   "metadata": {},
   "outputs": [
    {
     "data": {
      "text/plain": [
       "SIMPLE  =                    T / Standard FITS Format                           \n",
       "BITPIX  =                    8 / Character data                                 \n",
       "NAXIS   =                    0 / No Image --- just extension(s)                 \n",
       "EXTEND  =                    T / There are standard extensions                  \n",
       "ORIGIN  = 'xml2fits_v1.95'     / Converted from XML-Astrores to FITS            \n",
       "                         e-mail: question@simbad.u-strasbg.fr                   \n",
       "LONGSTRN= 'OGIP 1.0'           / Long string convention (&/CONTINUE) may be used\n",
       "DATE    = '2016-11-14'         / Written on 2016-11-14:16:30:25 (GMT)           \n",
       "                             by: apache@vizier.u-strasbg.fr                     \n",
       "         **********************************************************             \n",
       "             EXCERPT from catalogues stored in VizieR (CDS)                     \n",
       "                        with the following conditions:                          \n",
       "         **********************************************************             \n",
       "                                                                                \n",
       "         VizieR Astronomical Server vizier.u-strasbg.fr                         \n",
       "         Date: 2016-11-14T16:30:25 [V1.99+ (14-Oct-2013)]                       \n",
       "         In case of problem, please report to: cds-question@unistra.fr          \n",
       "                                                                                \n",
       "INFO    = 'votable-version=1.99+ (14-Oct-2013)' / #                             \n",
       "INFO    = '-ref=VIZ5829e67450a9' / #                                            \n",
       "INFO    = '-out.max=unlimited' / #                                              \n",
       "Q-PARAMS=                   25 / Number of queryParameters (followed by list)   \n",
       "         -oc.form=dec                                                           \n",
       "         -out.max=unlimited                                                     \n",
       "         #out.form=FITS (ascii) Table                                           \n",
       "         -out.all=2                                                             \n",
       "         -out.add=_r                                                            \n",
       "         -nav=cat:J/other/RAA/11.245&tab:{J/other/RAA/11.245/table5}&key:source=\n",
       "         J/other/RAA/11.245&HTTPPRM:&-out.add=_r&                               \n",
       "         -c.eq=J2000                                                            \n",
       "         -c.r= 2                                                                \n",
       "         -c.u=arcmin                                                            \n",
       "         -c.geom=r                                                              \n",
       "         -source=J/other/RAA/11.245/table5                                      \n",
       "         -order=I                                                               \n",
       "         -out=ID                                                                \n",
       "         -out=m_ID                                                              \n",
       "         -out=RAJ2000                                                           \n",
       "         -out=DEJ2000                                                           \n",
       "         -out=z                                                                 \n",
       "         -out=u_z                                                               \n",
       "         -out=Rmag                                                              \n",
       "         -out=RV                                                                \n",
       "         -out=e_RV                                                              \n",
       "         -out=RT                                                                \n",
       "         -out=Nsp                                                               \n",
       "         -out=Lines                                                             \n",
       "         -out.all=2                                                             \n",
       "         #                                                                      \n",
       "         #RESOURCE=yCat_1040001104                                              \n",
       "         #Name: J/other/RAA/11.245                                              \n",
       "         #Title: Galaxies in the field of RX J0054.0-2823 (Giraud+, 2011)       \n",
       "         #Coosys J2000: eq_FK5 J2000                                            "
      ]
     },
     "execution_count": 77,
     "metadata": {},
     "output_type": "execute_result"
    }
   ],
   "source": [
    "t_hdr"
   ]
  },
  {
   "cell_type": "markdown",
   "id": "ddbbab8c-201b-4c18-bbb6-2f9fd41878e7",
   "metadata": {},
   "source": [
    "### List"
   ]
  },
  {
   "cell_type": "code",
   "execution_count": 30,
   "id": "ac4aea36-58e8-4517-9238-e479b6cded17",
   "metadata": {},
   "outputs": [],
   "source": [
    "lst=fors2_jct_SL() #remet les spectres dans le rest frame (ie a z=0)"
   ]
  },
  {
   "cell_type": "code",
   "execution_count": 31,
   "id": "b6131f77-e460-4130-8706-712cf21d75f4",
   "metadata": {},
   "outputs": [
    {
     "name": "stdout",
     "output_type": "stream",
     "text": [
      "['SPEC102', 'SPEC106', 'SPEC107', 'SPEC109', 'SPEC110', 'SPEC111', 'SPEC112', 'SPEC113', 'SPEC114', 'SPEC115', 'SPEC117', 'SPEC118', 'SPEC120', 'SPEC121', 'SPEC123', 'SPEC127', 'SPEC128', 'SPEC13', 'SPEC132', 'SPEC134', 'SPEC135', 'SPEC137', 'SPEC138', 'SPEC141', 'SPEC149', 'SPEC151', 'SPEC152', 'SPEC156', 'SPEC160', 'SPEC161', 'SPEC164', 'SPEC171', 'SPEC178', 'SPEC179', 'SPEC181', 'SPEC182', 'SPEC183', 'SPEC184', 'SPEC185', 'SPEC186', 'SPEC187', 'SPEC188', 'SPEC189', 'SPEC19', 'SPEC191', 'SPEC192', 'SPEC193', 'SPEC194', 'SPEC196', 'SPEC197', 'SPEC198', 'SPEC2', 'SPEC204', 'SPEC205', 'SPEC210', 'SPEC214', 'SPEC218', 'SPEC221', 'SPEC222', 'SPEC223', 'SPEC226', 'SPEC227', 'SPEC231', 'SPEC233', 'SPEC234', 'SPEC235', 'SPEC236', 'SPEC237', 'SPEC238', 'SPEC24', 'SPEC240', 'SPEC242', 'SPEC243', 'SPEC244', 'SPEC245', 'SPEC246', 'SPEC248', 'SPEC249', 'SPEC25', 'SPEC250', 'SPEC252', 'SPEC253', 'SPEC258', 'SPEC259', 'SPEC260', 'SPEC261', 'SPEC262', 'SPEC264', 'SPEC265', 'SPEC266', 'SPEC267', 'SPEC268', 'SPEC271', 'SPEC274', 'SPEC275', 'SPEC276', 'SPEC277', 'SPEC278', 'SPEC279', 'SPEC280', 'SPEC281', 'SPEC282', 'SPEC283', 'SPEC287', 'SPEC288', 'SPEC291', 'SPEC292', 'SPEC294', 'SPEC295', 'SPEC296', 'SPEC297', 'SPEC298', 'SPEC3', 'SPEC30', 'SPEC301', 'SPEC302', 'SPEC303', 'SPEC304', 'SPEC305', 'SPEC306', 'SPEC307', 'SPEC308', 'SPEC309', 'SPEC31', 'SPEC313', 'SPEC315', 'SPEC317', 'SPEC318', 'SPEC319', 'SPEC32', 'SPEC321', 'SPEC322', 'SPEC323', 'SPEC324', 'SPEC325', 'SPEC326', 'SPEC327', 'SPEC328', 'SPEC329', 'SPEC33', 'SPEC331', 'SPEC332', 'SPEC333', 'SPEC334', 'SPEC335', 'SPEC336', 'SPEC337', 'SPEC338', 'SPEC339', 'SPEC34', 'SPEC340', 'SPEC341', 'SPEC343', 'SPEC344', 'SPEC345', 'SPEC346', 'SPEC348', 'SPEC349', 'SPEC35', 'SPEC350', 'SPEC351', 'SPEC352', 'SPEC353', 'SPEC354', 'SPEC355', 'SPEC357', 'SPEC358', 'SPEC359', 'SPEC36', 'SPEC360', 'SPEC361', 'SPEC362', 'SPEC363', 'SPEC364', 'SPEC365', 'SPEC366', 'SPEC367', 'SPEC368', 'SPEC369', 'SPEC37', 'SPEC370', 'SPEC371', 'SPEC372', 'SPEC373', 'SPEC374', 'SPEC375', 'SPEC376', 'SPEC377', 'SPEC378', 'SPEC379', 'SPEC380', 'SPEC381', 'SPEC382', 'SPEC383', 'SPEC384', 'SPEC385', 'SPEC386', 'SPEC387', 'SPEC388', 'SPEC389', 'SPEC390', 'SPEC391', 'SPEC392', 'SPEC393', 'SPEC394', 'SPEC395', 'SPEC396', 'SPEC397', 'SPEC398', 'SPEC399', 'SPEC400', 'SPEC401', 'SPEC402', 'SPEC403', 'SPEC404', 'SPEC405', 'SPEC406', 'SPEC407', 'SPEC408', 'SPEC409', 'SPEC410', 'SPEC411', 'SPEC412', 'SPEC413', 'SPEC414', 'SPEC415', 'SPEC416', 'SPEC417', 'SPEC418', 'SPEC419', 'SPEC420', 'SPEC421', 'SPEC422', 'SPEC423', 'SPEC424', 'SPEC425', 'SPEC426', 'SPEC427', 'SPEC428', 'SPEC429', 'SPEC430', 'SPEC431', 'SPEC432', 'SPEC434', 'SPEC435', 'SPEC436', 'SPEC437', 'SPEC438', 'SPEC439', 'SPEC440', 'SPEC441', 'SPEC442', 'SPEC443', 'SPEC444', 'SPEC445', 'SPEC446', 'SPEC447', 'SPEC448', 'SPEC449', 'SPEC45', 'SPEC450', 'SPEC451', 'SPEC452', 'SPEC453', 'SPEC454', 'SPEC455', 'SPEC456', 'SPEC457', 'SPEC458', 'SPEC459', 'SPEC460', 'SPEC461', 'SPEC462', 'SPEC463', 'SPEC464', 'SPEC465', 'SPEC466', 'SPEC467', 'SPEC468', 'SPEC469', 'SPEC47', 'SPEC470', 'SPEC471', 'SPEC472', 'SPEC474', 'SPEC475', 'SPEC476', 'SPEC477', 'SPEC478', 'SPEC479', 'SPEC480', 'SPEC481', 'SPEC482', 'SPEC483', 'SPEC488', 'SPEC49', 'SPEC490', 'SPEC492', 'SPEC493', 'SPEC494', 'SPEC496', 'SPEC497', 'SPEC499', 'SPEC500', 'SPEC501', 'SPEC503', 'SPEC504', 'SPEC505', 'SPEC506', 'SPEC507', 'SPEC508', 'SPEC509', 'SPEC51', 'SPEC510', 'SPEC511', 'SPEC512', 'SPEC513', 'SPEC516', 'SPEC517', 'SPEC518', 'SPEC519', 'SPEC520', 'SPEC523', 'SPEC524', 'SPEC525', 'SPEC526', 'SPEC527', 'SPEC528', 'SPEC529', 'SPEC530', 'SPEC531', 'SPEC532', 'SPEC533', 'SPEC535', 'SPEC536', 'SPEC537', 'SPEC539', 'SPEC540', 'SPEC541', 'SPEC542', 'SPEC543', 'SPEC544', 'SPEC545', 'SPEC546', 'SPEC547', 'SPEC548', 'SPEC549', 'SPEC55', 'SPEC550', 'SPEC551', 'SPEC552', 'SPEC553', 'SPEC554', 'SPEC556', 'SPEC557', 'SPEC558', 'SPEC559', 'SPEC560', 'SPEC562', 'SPEC563', 'SPEC564', 'SPEC565', 'SPEC566', 'SPEC567', 'SPEC568', 'SPEC569', 'SPEC57', 'SPEC570', 'SPEC571', 'SPEC572', 'SPEC573', 'SPEC574', 'SPEC575', 'SPEC576', 'SPEC577', 'SPEC578', 'SPEC579', 'SPEC58', 'SPEC580', 'SPEC582', 'SPEC583', 'SPEC584', 'SPEC585', 'SPEC586', 'SPEC587', 'SPEC588', 'SPEC589', 'SPEC59', 'SPEC590', 'SPEC591', 'SPEC593', 'SPEC594', 'SPEC595', 'SPEC596', 'SPEC597', 'SPEC598', 'SPEC599', 'SPEC600', 'SPEC601', 'SPEC602', 'SPEC603', 'SPEC604', 'SPEC605', 'SPEC606', 'SPEC608', 'SPEC609', 'SPEC61', 'SPEC610', 'SPEC611', 'SPEC612', 'SPEC613', 'SPEC617', 'SPEC618', 'SPEC62', 'SPEC620', 'SPEC621', 'SPEC622', 'SPEC623', 'SPEC624', 'SPEC625', 'SPEC626', 'SPEC627', 'SPEC628', 'SPEC629', 'SPEC630', 'SPEC631', 'SPEC632', 'SPEC633', 'SPEC634', 'SPEC635', 'SPEC636', 'SPEC637', 'SPEC638', 'SPEC639', 'SPEC640', 'SPEC641', 'SPEC642', 'SPEC643', 'SPEC644', 'SPEC645', 'SPEC646', 'SPEC647', 'SPEC648', 'SPEC649', 'SPEC650', 'SPEC651', 'SPEC652', 'SPEC653', 'SPEC654', 'SPEC655', 'SPEC656', 'SPEC657', 'SPEC658', 'SPEC659', 'SPEC66', 'SPEC660', 'SPEC661', 'SPEC662', 'SPEC663', 'SPEC664', 'SPEC667', 'SPEC668', 'SPEC669', 'SPEC67', 'SPEC670', 'SPEC671', 'SPEC672', 'SPEC673', 'SPEC674', 'SPEC675', 'SPEC676', 'SPEC677', 'SPEC678', 'SPEC679', 'SPEC68', 'SPEC680', 'SPEC681', 'SPEC682', 'SPEC683', 'SPEC684', 'SPEC685', 'SPEC686', 'SPEC687', 'SPEC689', 'SPEC69', 'SPEC690', 'SPEC691', 'SPEC692', 'SPEC693', 'SPEC694', 'SPEC695', 'SPEC696', 'SPEC697', 'SPEC698', 'SPEC699', 'SPEC70', 'SPEC700', 'SPEC701', 'SPEC702', 'SPEC703', 'SPEC704', 'SPEC705', 'SPEC706', 'SPEC707', 'SPEC708', 'SPEC71', 'SPEC710', 'SPEC711', 'SPEC713', 'SPEC714', 'SPEC715', 'SPEC716', 'SPEC717', 'SPEC718', 'SPEC719', 'SPEC72', 'SPEC720', 'SPEC721', 'SPEC722', 'SPEC723', 'SPEC724', 'SPEC725', 'SPEC726', 'SPEC727', 'SPEC728', 'SPEC729', 'SPEC73', 'SPEC730', 'SPEC731', 'SPEC732', 'SPEC733', 'SPEC734', 'SPEC735', 'SPEC736', 'SPEC737', 'SPEC738', 'SPEC77', 'SPEC79', 'SPEC80', 'SPEC83', 'SPEC84', 'SPEC85', 'SPEC86', 'SPEC87', 'SPEC89', 'SPEC9', 'SPEC91', 'SPEC93', 'SPEC96', 'SPEC97']\n"
     ]
    }
   ],
   "source": [
    "lst = sorted(lst)\n",
    "print(lst)"
   ]
  },
  {
   "cell_type": "code",
   "execution_count": 32,
   "id": "7d4697ce-d505-447f-a835-63488402bdf7",
   "metadata": {},
   "outputs": [],
   "source": [
    "all_specfilenames = os.listdir(path_out_jct)"
   ]
  },
  {
   "cell_type": "code",
   "execution_count": 33,
   "id": "f02923c6-2519-43b9-8b99-1be525af9ff9",
   "metadata": {},
   "outputs": [],
   "source": [
    "all_specfilenames = sorted(all_specfilenames)"
   ]
  },
  {
   "cell_type": "code",
   "execution_count": 34,
   "id": "6860eece-a67f-4db1-a648-6c0a4756c995",
   "metadata": {},
   "outputs": [],
   "source": [
    "all_numbers = [ int(re.findall('^SPEC(.*)[.]txt$',fn)[0]) for fn in all_specfilenames ]"
   ]
  },
  {
   "cell_type": "code",
   "execution_count": 35,
   "id": "afca10c0-3271-44d6-b0a3-7a62cc087d8c",
   "metadata": {},
   "outputs": [],
   "source": [
    "all_numbers = sorted(all_numbers)"
   ]
  },
  {
   "cell_type": "code",
   "execution_count": 36,
   "id": "bd4391dd-1e89-41d3-a3ee-7c1a9661da45",
   "metadata": {},
   "outputs": [
    {
     "name": "stdout",
     "output_type": "stream",
     "text": [
      "[2, 3, 9, 13, 19, 24, 25, 30, 31, 32, 33, 34, 35, 36, 37, 45, 47, 49, 51, 55, 57, 58, 59, 61, 62, 66, 67, 68, 69, 70, 71, 72, 73, 77, 79, 80, 83, 84, 85, 86, 87, 89, 91, 93, 96, 97, 102, 106, 107, 109, 110, 111, 112, 113, 114, 115, 117, 118, 120, 121, 123, 127, 128, 132, 134, 135, 137, 138, 141, 149, 151, 152, 156, 160, 161, 164, 171, 178, 179, 181, 182, 183, 184, 185, 186, 187, 188, 189, 191, 192, 193, 194, 196, 197, 198, 204, 205, 210, 214, 218, 221, 222, 223, 226, 227, 231, 233, 234, 235, 236, 237, 238, 240, 242, 243, 244, 245, 246, 248, 249, 250, 252, 253, 258, 259, 260, 261, 262, 264, 265, 266, 267, 268, 271, 274, 275, 276, 277, 278, 279, 280, 281, 282, 283, 287, 288, 291, 292, 294, 295, 296, 297, 298, 301, 302, 303, 304, 305, 306, 307, 308, 309, 313, 315, 317, 318, 319, 321, 322, 323, 324, 325, 326, 327, 328, 329, 331, 332, 333, 334, 335, 336, 337, 338, 339, 340, 341, 343, 344, 345, 346, 348, 349, 350, 351, 352, 353, 354, 355, 357, 358, 359, 360, 361, 362, 363, 364, 365, 366, 367, 368, 369, 370, 371, 372, 373, 374, 375, 376, 377, 378, 379, 380, 381, 382, 383, 384, 385, 386, 387, 388, 389, 390, 391, 392, 393, 394, 395, 396, 397, 398, 399, 400, 401, 402, 403, 404, 405, 406, 407, 408, 409, 410, 411, 412, 413, 414, 415, 416, 417, 418, 419, 420, 421, 422, 423, 424, 425, 426, 427, 428, 429, 430, 431, 432, 434, 435, 436, 437, 438, 439, 440, 441, 442, 443, 444, 445, 446, 447, 448, 449, 450, 451, 452, 453, 454, 455, 456, 457, 458, 459, 460, 461, 462, 463, 464, 465, 466, 467, 468, 469, 470, 471, 472, 474, 475, 476, 477, 478, 479, 480, 481, 482, 483, 488, 490, 492, 493, 494, 496, 497, 499, 500, 501, 503, 504, 505, 506, 507, 508, 509, 510, 511, 512, 513, 516, 517, 518, 519, 520, 523, 524, 525, 526, 527, 528, 529, 530, 531, 532, 533, 535, 536, 537, 539, 540, 541, 542, 543, 544, 545, 546, 547, 548, 549, 550, 551, 552, 553, 554, 556, 557, 558, 559, 560, 562, 563, 564, 565, 566, 567, 568, 569, 570, 571, 572, 573, 574, 575, 576, 577, 578, 579, 580, 582, 583, 584, 585, 586, 587, 588, 589, 590, 591, 593, 594, 595, 596, 597, 598, 599, 600, 601, 602, 603, 604, 605, 606, 608, 609, 610, 611, 612, 613, 617, 618, 620, 621, 622, 623, 624, 625, 626, 627, 628, 629, 630, 631, 632, 633, 634, 635, 636, 637, 638, 639, 640, 641, 642, 643, 644, 645, 646, 647, 648, 649, 650, 651, 652, 653, 654, 655, 656, 657, 658, 659, 660, 661, 662, 663, 664, 667, 668, 669, 670, 671, 672, 673, 674, 675, 676, 677, 678, 679, 680, 681, 682, 683, 684, 685, 686, 687, 689, 690, 691, 692, 693, 694, 695, 696, 697, 698, 699, 700, 701, 702, 703, 704, 705, 706, 707, 708, 710, 711, 713, 714, 715, 716, 717, 718, 719, 720, 721, 722, 723, 724, 725, 726, 727, 728, 729, 730, 731, 732, 733, 734, 735, 736, 737, 738]\n"
     ]
    }
   ],
   "source": [
    "print(all_numbers)"
   ]
  },
  {
   "cell_type": "code",
   "execution_count": 37,
   "id": "a4accc9c-9848-40e6-b5ae-a2af990c15df",
   "metadata": {},
   "outputs": [],
   "source": [
    "NSED = len(all_numbers)\n",
    "\n",
    "# wavelength bin colors\n",
    "jet = plt.get_cmap('jet')\n",
    "cNorm = colors.Normalize(vmin=0, vmax=NSED)\n",
    "scalarMap = cmx.ScalarMappable(norm=cNorm, cmap=jet)\n",
    "all_colors = scalarMap.to_rgba(np.arange(NSED), alpha=1)"
   ]
  },
  {
   "cell_type": "code",
   "execution_count": 38,
   "id": "6a463bfd-808e-47a6-95ce-7cecf2e53e0e",
   "metadata": {},
   "outputs": [
    {
     "data": {
      "text/html": [
       "<div><i>Table length=1</i>\n",
       "<table id=\"table140040837609680\" class=\"table-striped table-bordered table-condensed\">\n",
       "<thead><tr><th>ID</th><th>m_ID</th><th>RAJ2000</th><th>DEJ2000</th><th>z</th><th>u_z</th><th>Rmag</th><th>RV</th><th>e_RV</th><th>RT</th><th>Nsp</th><th>Lines</th></tr></thead>\n",
       "<thead><tr><th></th><th></th><th>deg</th><th>deg</th><th></th><th></th><th>mag</th><th>km / s</th><th>km / s</th><th></th><th></th><th></th></tr></thead>\n",
       "<thead><tr><th>int16</th><th>bytes1</th><th>float64</th><th>float64</th><th>float64</th><th>bytes1</th><th>float64</th><th>int32</th><th>int16</th><th>float64</th><th>int16</th><th>bytes77</th></tr></thead>\n",
       "<tr><td>3</td><td></td><td>13.52552</td><td>-28.4208</td><td>0.6866</td><td></td><td>21.45</td><td>210642</td><td>48</td><td>11.6</td><td>4</td><td>[OII],H9,K,H,H{beta},[OIII],H8</td></tr>\n",
       "</table></div>"
      ],
      "text/plain": [
       "<Table length=1>\n",
       "  ID   m_ID  RAJ2000  ...    RT    Nsp                                      Lines                                    \n",
       "               deg    ...                                                                                            \n",
       "int16 bytes1 float64  ... float64 int16                                    bytes77                                   \n",
       "----- ------ -------- ... ------- ----- -----------------------------------------------------------------------------\n",
       "    3        13.52552 ...    11.6     4 [OII],H9,K,H,H{beta},[OIII],H8                                              "
      ]
     },
     "execution_count": 38,
     "metadata": {},
     "output_type": "execute_result"
    }
   ],
   "source": [
    "cut = t[\"ID\"] == 3\n",
    "t[cut]"
   ]
  },
  {
   "cell_type": "code",
   "execution_count": 39,
   "id": "5123e51b-ed36-4d83-96a4-b83deedb1859",
   "metadata": {},
   "outputs": [
    {
     "ename": "ValueError",
     "evalue": "setting an array element with a sequence. The requested array has an inhomogeneous shape after 1 dimensions. The detected shape was (550,) + inhomogeneous part.",
     "output_type": "error",
     "traceback": [
      "\u001b[0;31m---------------------------------------------------------------------------\u001b[0m",
      "\u001b[0;31mValueError\u001b[0m                                Traceback (most recent call last)",
      "Cell \u001b[0;32mIn[39], line 31\u001b[0m\n\u001b[1;32m     28\u001b[0m     all_ra\u001b[38;5;241m.\u001b[39mappend(ra) \n\u001b[1;32m     29\u001b[0m     all_dec\u001b[38;5;241m.\u001b[39mappend(dec)\n\u001b[0;32m---> 31\u001b[0m all_wl \u001b[38;5;241m=\u001b[39m \u001b[43mnp\u001b[49m\u001b[38;5;241;43m.\u001b[39;49m\u001b[43marray\u001b[49m\u001b[43m(\u001b[49m\u001b[43mall_wl\u001b[49m\u001b[43m)\u001b[49m\n\u001b[1;32m     32\u001b[0m all_spectra \u001b[38;5;241m=\u001b[39m np\u001b[38;5;241m.\u001b[39marray(all_spectra)\n\u001b[1;32m     33\u001b[0m all_tag \u001b[38;5;241m=\u001b[39m np\u001b[38;5;241m.\u001b[39marray(all_tag)\n",
      "\u001b[0;31mValueError\u001b[0m: setting an array element with a sequence. The requested array has an inhomogeneous shape after 1 dimensions. The detected shape was (550,) + inhomogeneous part."
     ]
    }
   ],
   "source": [
    "all_spectra = []\n",
    "all_wl = []\n",
    "all_tag = []\n",
    "all_lines = []\n",
    "#all_sed = []\n",
    "all_redshifts = []\n",
    "all_num = []\n",
    "all_ra = []\n",
    "all_dec = []\n",
    "\n",
    "for idx,the_num in enumerate(all_numbers):\n",
    "    tcut = t[\"ID\"] == the_num\n",
    "    redshift = t[tcut][\"z\"].value[0]\n",
    "    lines = t[tcut][\"Lines\"].value[0]\n",
    "    ra = t[tcut][\"RAJ2000\"].value[0]\n",
    "    dec = t[tcut][\"DEJ2000\"].value[0]\n",
    "    filename = f\"SPEC{the_num}.txt\"\n",
    "    tag = f\"SPEC{the_num} , z={redshift:.2f}, lines={lines.decode().split(' ')[0]}\"\n",
    "    fullfilename = os.path.join(path_out_jct,filename)\n",
    "\n",
    "    arr = np.loadtxt(fullfilename)\n",
    "    all_wl.append(arr[:,0])\n",
    "    all_spectra.append(arr[:,1])\n",
    "    all_tag.append(tag)\n",
    "    all_lines.append(lines) \n",
    "    all_redshifts.append(redshift)\n",
    "    all_num.append(the_num) \n",
    "    all_ra.append(ra) \n",
    "    all_dec.append(dec)\n",
    "\n",
    "all_wl = np.array(all_wl)\n",
    "all_spectra = np.array(all_spectra)\n",
    "all_tag = np.array(all_tag)\n",
    "all_lines = np.array(all_lines)\n",
    "all_redshifts = np.array(all_redshifts)\n",
    "all_num = np.array(all_num)\n",
    "all_ra = np.array(all_ra)\n",
    "all_dec = np.array(all_dec)"
   ]
  },
  {
   "cell_type": "code",
   "execution_count": null,
   "id": "6e35a41f-09af-426c-b460-62c7d435b91d",
   "metadata": {},
   "outputs": [],
   "source": [
    "if 0:\n",
    "    for idx in range(NSED):\n",
    "        plt.figure(figsize=(16,2))\n",
    "        plt.plot(all_wl[idx],all_spectra[idx], color=all_colors[idx],label=all_tag[idx])\n",
    "        plt.legend(loc=\"upper right\")\n",
    "        plt.grid()\n",
    "        plt.axvline(4150,color=\"k\")\n",
    "        plt.axvline(4250,color=\"k\")\n",
    "#    plt.ylim(-0.02,0.4)\n",
    "        plt.xlim(2000.,8000.)\n",
    "        plt.show()\n"
   ]
  },
  {
   "cell_type": "code",
   "execution_count": null,
   "id": "78f6d792-a3dc-43da-955b-42c31bc01951",
   "metadata": {},
   "outputs": [],
   "source": [
    "idx=np.where(np.asarray(all_numbers) == 171)[0][0]\n",
    "the_lines = all_lines[idx]\n",
    "print(\"the_lines = \",the_lines)\n",
    "\n",
    "all_elements  = the_lines.decode().split(\",\")\n",
    "\n",
    "\n",
    "fig, axs = plt.subplots(1, 1, figsize=(16, 8))\n",
    "ax=axs\n",
    "the_wl_fors2 = all_wl[idx]\n",
    "the_flux_fors2 = all_spectra[idx]\n",
    "the_max_flux_1 = the_wl_fors2.max()\n",
    "ax.plot(the_wl_fors2 ,the_flux_fors2 ,'-' ,color=all_colors[idx],label=all_tag[idx],lw=3)\n",
    "\n",
    "the_flux_fors2_filt  = gaussian_filter1d(the_flux_fors2,40)\n",
    "ax.plot(the_wl_fors2 ,the_flux_fors2_filt ,'-' ,color='yellow',lw=3)\n",
    "\n",
    "wlmin = the_wl_fors2.min()\n",
    "wlmax = the_wl_fors2.max()\n",
    "\n",
    "I1=np.trapz(the_flux_fors2_filt ,the_wl_fors2)\n",
    "\n",
    "ax.legend(loc=\"upper right\")\n",
    "ax.grid()\n",
    "\n",
    "wl1=4150\n",
    "wl2=4250\n",
    "\n",
    "#ax.axvline(wl1,color=\"grey\")\n",
    "#ax.axvline(wl2,color=\"grey\")\n",
    "\n",
    "\n",
    "\n",
    "\n",
    "#    plt.ylim(-0.02,0.4)\n",
    "ax.set_xlim(0.,10000.)\n",
    "for el in all_elements:\n",
    "    el=el.split(\" \")[0]  \n",
    "    print(el)\n",
    "    if len(el)>0:\n",
    "        plot_line(ax,el)\n",
    "\n",
    "        \n",
    "the_num = all_numbers[idx]\n",
    "\n",
    "idx_sl=np.where(all_numbers_SL==the_num)[0][0]\n",
    "the_spectrum_SL = spec_SL[idx_sl]\n",
    "\n",
    "the_max_flux_2 = the_spectrum_SL.max()\n",
    "\n",
    "wavelengths_SL_indexes=np.where(np.logical_and(wavelengths_SL>=wlmin,wavelengths_SL<wlmax))[0]\n",
    "\n",
    "the_spectrum_SL_flux_cut = the_spectrum_SL[wavelengths_SL_indexes]\n",
    "the_spectrum_SL_wl_cut = wavelengths_SL[wavelengths_SL_indexes]\n",
    "\n",
    "I2=np.trapz(the_spectrum_SL_flux_cut,the_spectrum_SL_wl_cut)\n",
    "\n",
    "g=I1/I2\n",
    "\n",
    "the_flux_SL_toplot= g*spec_SL[idx_sl]\n",
    "\n",
    "the_max_flux_2=the_flux_SL_toplot.max()\n",
    "\n",
    "ymax=1.1*max(the_max_flux_1,the_max_flux_2)\n",
    "\n",
    "ax.plot(wavelengths_SL,the_flux_SL_toplot,color=\"orange\")\n",
    "\n",
    "ymin=0\n",
    "\n",
    "#ax.set_ylim(ymin,ymax)"
   ]
  },
  {
   "cell_type": "code",
   "execution_count": null,
   "id": "5e595857",
   "metadata": {},
   "outputs": [],
   "source": [
    "idx=np.where(np.asarray(all_numbers) == 171)[0][0]\n",
    "the_lines = all_lines[idx]\n",
    "print(\"the_lines = \",the_lines)\n",
    "all_elements  = the_lines.decode().split(\",\")\n",
    "\n",
    "the_wl_fors2 = all_wl[idx]\n",
    "the_flux_fors2 = all_spectra[idx]\n",
    "the_max_flux_1 = the_flux_fors2.max()\n",
    "\n",
    "wlmin = the_wl_fors2.min()\n",
    "wlmax = the_wl_fors2.max()\n",
    "\n",
    "I1=np.trapz(the_flux_fors2_filt ,the_wl_fors2)\n",
    "\n",
    "wl1=4150\n",
    "wl2=4250\n",
    "\n",
    "#ax.axvline(wl1,color=\"grey\")\n",
    "#ax.axvline(wl2,color=\"grey\")\n",
    "        \n",
    "the_num = all_numbers[idx]\n",
    "z=all_redshifts[idx]\n",
    "\n",
    "idx_sl=np.where(all_numbers_SL==the_num)[0][0]\n",
    "the_spectrum_SL = spec_SL[idx_sl]\n",
    "the_max_flux_2 = the_spectrum_SL.max()\n",
    "wavelengths_SL_indexes=np.where(np.logical_and(wavelengths_SL>=wlmin,wavelengths_SL<wlmax))[0]\n",
    "the_spectrum_SL_flux_cut = the_spectrum_SL[wavelengths_SL_indexes]\n",
    "the_spectrum_SL_wl_cut = wavelengths_SL[wavelengths_SL_indexes]\n",
    "\n",
    "I2=np.trapz(the_spectrum_SL_flux_cut,the_spectrum_SL_wl_cut)\n",
    "\n",
    "g=I1/I2\n",
    "the_flux_SL_toplot= g*spec_SL[idx_sl]\n",
    "the_max_flux_2=the_flux_SL_toplot.max()\n",
    "\n",
    "ymax=1.1*max(the_max_flux_1,the_max_flux_2)\n",
    "ymin=0\n",
    "\n",
    "fig, ax = plt.subplots(1, 1, figsize=(16, 8))\n",
    "ax.plot(the_wl_fors2*(1+z), the_flux_fors2, '-', color='red', label=\"Observation\")\n",
    "ax.set_xlim(0.,10000.)\n",
    "ax.set_ylim(ymin,ymax)\n",
    "ax.set_xlabel(\"Wavelength [$\\AA$]\")\n",
    "ax.set_ylabel(\"Normalized lum. [-]\")\n",
    "ax.legend(loc=\"upper right\")\n",
    "ax.grid()\n",
    "\n",
    "fig, ax = plt.subplots(1, 1, figsize=(16, 8))\n",
    "ax.plot(the_wl_fors2 ,the_flux_fors2 ,'-' ,color='blue',label=all_tag[idx])\n",
    "for el in all_elements:\n",
    "    el=el.split(\" \")[0]  \n",
    "    print(el)\n",
    "    if len(el)>0:\n",
    "        plot_line(ax,el)\n",
    "ax.set_xlim(0.,10000.)\n",
    "ax.set_ylim(ymin,ymax)\n",
    "ax.set_xlabel(\"Wavelength [$\\AA$]\")\n",
    "ax.set_ylabel(\"Normalized lum. [-]\")\n",
    "ax.legend(loc=\"upper right\")\n",
    "ax.grid()\n",
    "\n",
    "fig, ax = plt.subplots(1, 1, figsize=(16, 8))\n",
    "ax.plot(the_wl_fors2, the_flux_fors2, '-', color=all_colors[idx], label=all_tag[idx])\n",
    "#ax.set_ylim(-0.02,0.4)\n",
    "for el in all_elements:\n",
    "    el=el.split(\" \")[0]  \n",
    "    print(el)\n",
    "    if len(el)>0:\n",
    "        plot_line(ax,el)\n",
    "ax.plot(wavelengths_SL, the_flux_SL_toplot, color=\"orange\", label=\"Wide spectrum after SPS and extrapolation\")\n",
    "ax.set_xlim(0.,10000.)\n",
    "ax.set_ylim(ymin,ymax)\n",
    "ax.set_xlabel(\"Wavelength [$\\AA$]\")\n",
    "ax.set_ylabel(\"Normalized lum. [-]\")\n",
    "ax.legend(loc=\"upper right\")\n",
    "ax.grid()"
   ]
  },
  {
   "cell_type": "markdown",
   "id": "79afa6b1-c432-43ba-88a3-ef9e308d52f3",
   "metadata": {},
   "source": [
    "## Write in pdf File"
   ]
  },
  {
   "cell_type": "code",
   "execution_count": null,
   "id": "13b83c83-591e-4545-8e20-0c8e755ca1d6",
   "metadata": {},
   "outputs": [],
   "source": [
    "NFIGSPERPAGE = 8\n",
    "NCOLSPERPAGE = 1\n",
    "NROWSPERPAGE = int(np.ceil(NFIGSPERPAGE/NCOLSPERPAGE)) "
   ]
  },
  {
   "cell_type": "code",
   "execution_count": null,
   "id": "c055b089-9f58-458d-aaa6-5b0d870a99d7",
   "metadata": {},
   "outputs": [],
   "source": [
    "if False:\n",
    "    all_figs = []\n",
    "    idx_page=0\n",
    "\n",
    "    for idx in range(0,NSED):\n",
    "\n",
    "        if idx%NFIGSPERPAGE == 0:\n",
    "            idx_page+=1\n",
    "\n",
    "            plt.tight_layout()\n",
    "            plt.show()\n",
    "            # save previous page\n",
    "            if idx_page>1:\n",
    "                all_figs.append(copy.deepcopy(fig))\n",
    "\n",
    "            # create a new page\n",
    "            fig=plt.figure(figsize=(16,30))\n",
    "            idx_fig_inpage=0\n",
    "\n",
    "        #increase fig counter in mage\n",
    "        idx_fig_inpage+=1    \n",
    "\n",
    "        ax=fig.add_subplot(NROWSPERPAGE,NCOLSPERPAGE,idx_fig_inpage)\n",
    "\n",
    "\n",
    "        the_tag=all_tag[idx] \n",
    "        print(f\"===================== SED {idx} : {the_tag}=======================\")\n",
    "\n",
    "        the_lines = all_lines[idx]\n",
    "        print(\"the_lines = \",the_lines)\n",
    "        all_elements  = the_lines.decode().split(\",\")\n",
    "\n",
    "\n",
    "        the_wl_fors2 = all_wl[idx]\n",
    "        the_flux_fors2 = all_spectra[idx]\n",
    "        ymax1 = the_flux_fors2.max()\n",
    "\n",
    "\n",
    "        #ax.plot(the_wl_fors2,the_flux_fors2,'-' ,color=all_colors[idx],label=all_tag[idx],lw=4)\n",
    "        ax.plot(the_wl_fors2,the_flux_fors2,'-' ,color='b',label=all_tag[idx],lw=4)\n",
    "\n",
    "        the_flux_fors2_filt  = gaussian_filter1d(the_flux_fors2,40)\n",
    "        #ax.plot(the_wl_fors2 ,the_flux_fors2_filt ,'-' ,color='yellow',lw=3)\n",
    "\n",
    "        wlmin = the_wl_fors2.min()\n",
    "        wlmax = the_wl_fors2.max()\n",
    "\n",
    "        I1=np.trapz(the_flux_fors2_filt,the_wl_fors2)\n",
    "\n",
    "\n",
    "        ax.legend(loc=\"upper right\")\n",
    "        ax.grid()\n",
    "\n",
    "        wl1=4150\n",
    "        wl2=4250\n",
    "\n",
    "    #    ax.axvline(wl1,color=\"grey\")\n",
    "    #    ax.axvline(wl2,color=\"grey\")\n",
    "    #    plt.ylim(-0.02,0.4)\n",
    "\n",
    "        ax.set_xlim(0.,10000.)\n",
    "        for el in all_elements:\n",
    "            el=el.split(\" \")[0]  \n",
    "            el=el.split(\"\\r\")[0]  \n",
    "            print(el)\n",
    "            if len(el)>0:\n",
    "                plot_line(ax,el)\n",
    "\n",
    "\n",
    "        the_num = all_numbers[idx]\n",
    "        print(f\"the_num = {the_num}\")\n",
    "\n",
    "        idx_sl=np.where(all_numbers_SL==the_num)[0][0]\n",
    "        the_spectrum_SL = spec_SL[idx_sl]\n",
    "\n",
    "        wavelengths_SL_indexes=np.where(np.logical_and(wavelengths_SL>=wlmin,wavelengths_SL<wlmax))[0]\n",
    "\n",
    "        the_spectrum_SL_flux_cut = the_spectrum_SL[wavelengths_SL_indexes]\n",
    "        the_spectrum_SL_wl_cut = wavelengths_SL[wavelengths_SL_indexes]\n",
    "\n",
    "        I2=np.trapz(the_spectrum_SL_flux_cut,the_spectrum_SL_wl_cut)\n",
    "\n",
    "        g=I1/I2\n",
    "\n",
    "        the_spectrum_SL_toplot = g*spec_SL[idx_sl]\n",
    "\n",
    "        ymax2 = the_spectrum_SL_toplot.max()\n",
    "\n",
    "        ymax=1.1*max(ymax1,ymax2)\n",
    "\n",
    "        ax.plot(wavelengths_SL,the_spectrum_SL_toplot,color=\"orange\",label=\"SL\")\n",
    "        ax.set_ylim(0,ymax)"
   ]
  },
  {
   "cell_type": "code",
   "execution_count": null,
   "id": "d307f921-9e7a-42f4-8097-c6c119325741",
   "metadata": {},
   "outputs": [],
   "source": [
    "if False:\n",
    "    pdfoutputfilename = f\"multipage_pdf_CompareFors2andSLSpectra.pdf\"\n",
    "    SaveImageInPdf(all_figs,pdfoutputfilename)"
   ]
  },
  {
   "cell_type": "markdown",
   "id": "62c89f10",
   "metadata": {},
   "source": [
    "## Position of SL galaxies vs redshifts"
   ]
  },
  {
   "cell_type": "code",
   "execution_count": null,
   "id": "faf3a793",
   "metadata": {},
   "outputs": [],
   "source": [
    "if False:\n",
    "    # Compute the metric distance dmet in Mpc : dlum = dmet*(1+z), dang = dmet/(1+z) = dlum/(1+z)^2\n",
    "    ckms = 2.99792458e5 # en km/s\n",
    "    def distMet(z, h0=70., om0=0.3, l0=0.7):\n",
    "        dmet, ao = 0., 1.\n",
    "        # case without the cosmological constant\n",
    "        if (l0==0):\n",
    "            # ao = c/(self.h0*np.sqrt(np.abs(1-self.omt)))\n",
    "            # in fact we use x = ao * x(z) with x(z) from eq 8 of\n",
    "            # Moscardini et al.  So we don't need to compute ao\n",
    "            if (om0>0):\n",
    "                dmet = om0*z-(om0-2)*(1-np.sqrt(1+om0*z))\n",
    "                dmet = 2*ckms/(ao*h0*om0*om0*(1+z))*dmet\n",
    "            else:\n",
    "                dmet = ckms*z*(1.+z/2.)/(h0*(1+z))\n",
    "\n",
    "        elif (om0<1 and l0 != 0):\n",
    "            _sum = 0.\n",
    "            dz = z/50.\n",
    "            for i in range(50):\n",
    "                zi = (i+0.5)*dz\n",
    "                Ez = np.sqrt(om0*np.power((1.+zi),3.)+(1-om0-l0)*np.power((1.+zi),2.)+l0)\n",
    "                _sum = _sum + dz/Ez\n",
    "            dmet = ckms/(h0*ao) * _sum\n",
    "        else:\n",
    "            raise RuntimeError(f\"Cosmology not included : h0={h0}, Om0={om0}, l0={l0}\")\n",
    "        return dmet"
   ]
  },
  {
   "cell_type": "code",
   "execution_count": null,
   "id": "266fc1d7",
   "metadata": {},
   "outputs": [],
   "source": [
    "import comov_dist"
   ]
  },
  {
   "cell_type": "code",
   "execution_count": null,
   "id": "ab5a5935",
   "metadata": {},
   "outputs": [],
   "source": [
    "_sel = (all_redshifts < 1.5)"
   ]
  },
  {
   "cell_type": "code",
   "execution_count": null,
   "id": "895e2a18",
   "metadata": {},
   "outputs": [],
   "source": [
    "all_dists = np.array([comov_dist.comoving_dist(0.292, Z)/comov_dist.mpc_m for Z in all_redshifts[_sel]])"
   ]
  },
  {
   "cell_type": "code",
   "execution_count": null,
   "id": "68be3054",
   "metadata": {},
   "outputs": [],
   "source": [
    "cw_map = plt.get_cmap('coolwarm')\n",
    "cNorm2 = colors.Normalize(vmin=0, vmax=1.) # np.max(all_redshifts))\n",
    "scalarMap2 = cmx.ScalarMappable(norm=cNorm2, cmap=cw_map)\n",
    "all_colors2 = scalarMap2.to_rgba(all_redshifts[_sel], alpha=1)"
   ]
  },
  {
   "cell_type": "code",
   "execution_count": null,
   "id": "872a6fc2",
   "metadata": {},
   "outputs": [],
   "source": [
    "ra0, dec0 = (54/60*15)/180*np.pi, -(28.+23/60)/180*np.pi\n",
    "angles_to_center = (180/np.pi)*np.arccos(np.sin(all_ra[_sel]/180*np.pi)*np.sin(ra0)+np.cos(all_ra[_sel]/180*np.pi)*np.cos(ra0)*np.cos(all_dec[_sel]/180*np.pi-dec0))"
   ]
  },
  {
   "cell_type": "code",
   "execution_count": null,
   "id": "e19a3168",
   "metadata": {},
   "outputs": [],
   "source": [
    "fig, axs = plt.subplots(1,2,figsize=(16,7))\n",
    "a1,a2 = axs.ravel()\n",
    "a1.scatter((all_ra[_sel]-ra0*180/np.pi)*60, (all_dec[_sel]-dec0*180/np.pi)*60,c=all_colors2, edgecolors=all_colors2, s=10,marker=\"o\",alpha=1)\n",
    "#im = ax.scatter(all_ra,all_dec,c=all_redshifts,s=10,marker=\"o\",alpha=0.5,cmap=\"jet\")\n",
    "a1.axis('equal')\n",
    "a1.grid()\n",
    "c1=plt.Circle((0.,0.), 2., fill=False, alpha=0.5, label=\"Spacing: 2 arcmin\")\n",
    "c2=plt.Circle((0.,0.), 4., fill=False, alpha=0.5, label=\"Spacing: 4 arcmin\")\n",
    "c3=plt.Circle((0.,0.), 8., fill=False, alpha=0.5, label=\"Spacing: 6 arcmin\")\n",
    "c4=plt.Circle((0.,0.), 16., fill=False, alpha=0.5, label=\"Spacing: 8 arcmin\")\n",
    "a1.add_artist(c1)\n",
    "a1.add_artist(c2)\n",
    "a1.add_artist(c3)\n",
    "a1.add_artist(c4)\n",
    "a1.set_xlabel(\"$ra-ra_0$ (arcmin)\")\n",
    "a1.set_ylabel(\"$dec-dec_0$ (arcmin)\")\n",
    "a1.set_title(\"Sky location of FORS2 galaxies\")\n",
    "#a1.legend()\n",
    "\n",
    "a2.scatter(all_dists,angles_to_center*60,c=all_colors2, edgecolors=all_colors2, s=10,marker=\"o\",alpha=1)\n",
    "#im = ax.scatter(all_ra,all_dec,c=all_redshifts,s=10,marker=\"o\",alpha=0.5,cmap=\"jet\")\n",
    "a2.grid()\n",
    "a2.set_xlabel(\"Comoving distance to cluster RX J0054.0-2823 (Mpc)\")\n",
    "a2.set_ylabel(\"Spacing on sky map (arcmin)\")\n",
    "a2.set_title(\"Relative location to cluster center\")\n",
    "\n",
    "cbar = fig.colorbar(scalarMap2, ax=a2)\n",
    "cbar.set_label('redshift')"
   ]
  },
  {
   "cell_type": "code",
   "execution_count": null,
   "id": "44882d6c",
   "metadata": {},
   "outputs": [],
   "source": [
    "fig, axs = plt.subplots(1,2,figsize=(16,7))\n",
    "a1,a2 = axs.ravel()\n",
    "a1.set_box_aspect(1.)\n",
    "a1.scatter(ra0*180/np.pi,dec0*180/np.pi,c='k',marker='+', s=81, alpha=1)\n",
    "a1.scatter(all_ra[_sel], all_dec[_sel],c=all_colors2, edgecolors=all_colors2, s=10,marker=\"o\",alpha=1)\n",
    "#im = ax.scatter(all_ra,all_dec,c=all_redshifts,s=10,marker=\"o\",alpha=0.5,cmap=\"jet\")\n",
    "#a1.grid()\n",
    "c1=plt.Circle((ra0*180/np.pi,dec0*180/np.pi), 2./60, fill=False, alpha=0.5, color='darkgreen', label=\"Spacing: 2, 4, 8, 16 arcmin\")\n",
    "c2=plt.Circle((ra0*180/np.pi,dec0*180/np.pi), 4./60, fill=False, alpha=0.5, color='darkgreen')\n",
    "c3=plt.Circle((ra0*180/np.pi,dec0*180/np.pi), 8./60, fill=False, alpha=0.5, color='darkgreen')\n",
    "c4=plt.Circle((ra0*180/np.pi,dec0*180/np.pi), 16./60, fill=False, alpha=0.5, color='darkgreen')\n",
    "a1.add_artist(c1)\n",
    "a1.add_artist(c2)\n",
    "a1.add_artist(c3)\n",
    "a1.add_artist(c4)\n",
    "a1.set_xticks(np.linspace(ra0*180/np.pi-16/60, ra0*180/np.pi+16/60, 5))\n",
    "a1.set_yticks(np.linspace(dec0*180/np.pi-16/60, dec0*180/np.pi+16/60, 5))\n",
    "a1.set_xlabel(\"ra (deg)\")\n",
    "a1.set_ylabel(\"dec (deg)\")\n",
    "a1.set_title(\"Sky location of FORS2 galaxies\")\n",
    "a1.legend()\n",
    "\n",
    "a2.scatter(all_dists,angles_to_center*60,c=all_colors2, edgecolors=all_colors2, s=10,marker=\"o\",alpha=1)\n",
    "#im = ax.scatter(all_ra,all_dec,c=all_redshifts,s=10,marker=\"o\",alpha=0.5,cmap=\"jet\")\n",
    "a2.axhline(2., alpha=0.5, color='darkgreen')\n",
    "a2.axhline(4., alpha=0.5, color='darkgreen')\n",
    "a2.axhline(8., alpha=0.5, color='darkgreen')\n",
    "a2.axhline(16., alpha=0.5, color='darkgreen')\n",
    "a2.grid(True, axis='x')\n",
    "a2.set_xlabel(\"Comoving distance to cluster RX J0054.0-2823 (Mpc)\")\n",
    "a2.set_ylabel(\"Spacing on sky map (arcmin)\")\n",
    "a2.set_title(\"Relative location to cluster center\")\n",
    "\n",
    "cbar = fig.colorbar(scalarMap2, ax=a2)\n",
    "cbar.set_label('redshift')"
   ]
  },
  {
   "cell_type": "code",
   "execution_count": null,
   "id": "da0a2ad3",
   "metadata": {},
   "outputs": [],
   "source": [
    "fig = plt.figure(figsize=(10,10))\n",
    "a1 = fig.add_subplot(projection='3d')\n",
    "#a1.set_box_aspect(1.)\n",
    "a1.scatter(ra0*180/np.pi, dec0*180/np.pi, 0.0, c='k',marker='+', s=81, alpha=1)\n",
    "a1.scatter(all_ra[_sel], all_dec[_sel], all_dists, c=all_colors2, edgecolors=all_colors2, s=10,marker=\"o\",alpha=1)\n",
    "a1.set_xlabel(\"ra (deg)\")\n",
    "a1.set_ylabel(\"dec (deg)\")\n",
    "a1.set_zlabel(\"Comoving distance vs. RX J0054.0-2823 (Mpc)\")\n",
    "a1.set_title(\"Sky location of FORS2 galaxies\")\n",
    "a1.tick_params(length=1)\n",
    "cbar = fig.colorbar(scalarMap2)\n",
    "cbar.set_label('redshift')"
   ]
  },
  {
   "cell_type": "code",
   "execution_count": null,
   "id": "0cb37993",
   "metadata": {},
   "outputs": [],
   "source": [
    "f,a = plt.subplots(1,1,figsize=(10,10))\n",
    "a.hist2d(all_dists, angles_to_center*60,\\\n",
    "           range=[(comov_dist.comoving_dist(0.292, 0.)/comov_dist.mpc_m,\\\n",
    "                   comov_dist.comoving_dist(0.292, 1.)/comov_dist.mpc_m),\\\n",
    "                  (0., 16)],\\\n",
    "           bins=20)\n",
    "a.set_xlabel(\"Comoving distance to cluster RX J0054.0-2823 (Mpc)\")\n",
    "a.set_ylabel(\"Spacing on sky map (arcmin)\")\n",
    "a.set_title(\"Relative location to cluster center\")"
   ]
  },
  {
   "cell_type": "code",
   "execution_count": null,
   "id": "1f8fec67",
   "metadata": {},
   "outputs": [],
   "source": []
  }
 ],
 "metadata": {
  "kernelspec": {
   "display_name": "Python 3 (ipykernel)",
   "language": "python",
   "name": "python3"
  },
  "language_info": {
   "codemirror_mode": {
    "name": "ipython",
    "version": 3
   },
   "file_extension": ".py",
   "mimetype": "text/x-python",
   "name": "python",
   "nbconvert_exporter": "python",
   "pygments_lexer": "ipython3",
   "version": "3.11.0"
  },
  "toc": {
   "base_numbering": 1,
   "nav_menu": {},
   "number_sections": true,
   "sideBar": true,
   "skip_h1_title": false,
   "title_cell": "Table of Contents",
   "title_sidebar": "Contents",
   "toc_cell": false,
   "toc_position": {},
   "toc_section_display": true,
   "toc_window_display": false
  }
 },
 "nbformat": 4,
 "nbformat_minor": 5
}
