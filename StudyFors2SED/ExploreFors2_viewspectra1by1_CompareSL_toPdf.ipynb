{
 "cells": [
  {
   "cell_type": "markdown",
   "id": "316c4ba5",
   "metadata": {},
   "source": [
    "# View Fors2 , View spectra one by one and Compare to SL and write in a pdf file\n",
    "\n",
    "- author : Sylvie Dagoret-Campagne\n",
    "- affiliation : IJCLab/IN2P3/CNRS\n",
    "- creation date : 2023/01/21\n",
    "- last update : 2023/01/21\n",
    "- FORS2 : https://github.com/ericnuss/fors2\n",
    "- Result of StarLight : /sps/lsst/groups/photoz/fors2/FORS2/ResStarlight\n",
    "\n",
    "\n",
    "\n",
    "          /Users/dagoret/MacOSX/GitHub/LSST/FORS2>ls -l\n",
    "              total 0\n",
    "              drwxrwsr-x  3 dagoret  staff   96 Aug 21  2018 ResStarlight\n",
    "              drwxr-xr-x  9 dagoret  staff  288 Dec 19 18:01 fors2"
   ]
  },
  {
   "cell_type": "markdown",
   "id": "c7d7e344",
   "metadata": {},
   "source": [
    "## Import"
   ]
  },
  {
   "cell_type": "code",
   "execution_count": null,
   "id": "e485fec8",
   "metadata": {},
   "outputs": [],
   "source": [
    "import os,sys,re\n",
    "from astropy.io import fits\n",
    "from astropy.table import Table"
   ]
  },
  {
   "cell_type": "code",
   "execution_count": null,
   "id": "b271dcb5",
   "metadata": {},
   "outputs": [],
   "source": [
    "# Import some generally useful packages\n",
    "\n",
    "import numpy as np\n",
    "import pandas as pd\n",
    "import matplotlib.pyplot as plt\n",
    "import matplotlib.colors as colors\n",
    "import matplotlib.cm as cmx\n",
    "\n",
    "from matplotlib.backends.backend_pdf import PdfPages\n",
    "\n",
    "%matplotlib inline\n",
    "import pandas as pd\n",
    "from itertools import cycle, islice\n"
   ]
  },
  {
   "cell_type": "code",
   "execution_count": null,
   "id": "f6689d40-c574-471c-b9d6-996002aa4e76",
   "metadata": {},
   "outputs": [],
   "source": [
    "from scipy import ndimage\n",
    "\n",
    "#from scipy import interp as scinterp\n",
    "from scipy.interpolate import interp1d\n",
    "\n",
    "import glob\n",
    "import collections\n",
    "#from def_raw_seds import *"
   ]
  },
  {
   "cell_type": "code",
   "execution_count": null,
   "id": "413f1e89",
   "metadata": {},
   "outputs": [],
   "source": [
    "# to enlarge the sizes\n",
    "params = {'legend.fontsize': 'large',\n",
    "          'figure.figsize': (8, 4),\n",
    "         'axes.labelsize': 'xx-large',\n",
    "         'axes.titlesize':'xx-large',\n",
    "         'xtick.labelsize':'xx-large',\n",
    "         'ytick.labelsize':'xx-large'}\n",
    "plt.rcParams.update(params)"
   ]
  },
  {
   "cell_type": "code",
   "execution_count": null,
   "id": "c1e22fcc",
   "metadata": {},
   "outputs": [],
   "source": [
    "import matplotlib.offsetbox\n",
    "props = dict(boxstyle='round',edgecolor=\"w\",facecolor=\"w\", alpha=0.5)"
   ]
  },
  {
   "cell_type": "code",
   "execution_count": null,
   "id": "b7e9a578-1bb2-4e32-b88f-a69914949eca",
   "metadata": {},
   "outputs": [],
   "source": [
    "from def_raw_seds import *"
   ]
  },
  {
   "cell_type": "code",
   "execution_count": null,
   "id": "93d5eb5c-6c03-45fe-9795-17e8ed32d0d7",
   "metadata": {},
   "outputs": [],
   "source": [
    "from raw_data_analysis import *"
   ]
  },
  {
   "cell_type": "code",
   "execution_count": null,
   "id": "7ce825ef",
   "metadata": {},
   "outputs": [],
   "source": [
    "# Import the primary photometry classes from rubin_sim.photUtils\n",
    "\n",
    "import rubin_sim.photUtils.Bandpass as Bandpass\n",
    "import rubin_sim.photUtils.Sed as Sed\n",
    "from rubin_sim.data import get_data_dir"
   ]
  },
  {
   "cell_type": "code",
   "execution_count": null,
   "id": "a20e3234",
   "metadata": {},
   "outputs": [],
   "source": [
    "pysynphot_root_path=os.environ['PYSYN_CDBS']\n",
    "path_sed_calspec=os.path.join(pysynphot_root_path,'calspec')\n",
    "# pysynphot\n",
    "import pysynphot as S\n",
    "S.refs.setref(area=1)\n",
    "S.refs.getref()"
   ]
  },
  {
   "cell_type": "code",
   "execution_count": null,
   "id": "985a5370-9867-4471-9a82-e5d722d261b7",
   "metadata": {},
   "outputs": [],
   "source": [
    "from astropy.io import fits"
   ]
  },
  {
   "cell_type": "code",
   "execution_count": null,
   "id": "7644c755-9b20-44cc-bb2c-06eb8caf4568",
   "metadata": {},
   "outputs": [],
   "source": [
    "from scipy.ndimage import gaussian_filter1d"
   ]
  },
  {
   "cell_type": "code",
   "execution_count": null,
   "id": "520107db-9929-4532-a48c-d896e705d4b6",
   "metadata": {},
   "outputs": [],
   "source": [
    "from GalaxyLineDict import build_emissionlinesdict"
   ]
  },
  {
   "cell_type": "code",
   "execution_count": null,
   "id": "630eb310-e63e-4265-b3b6-d0a60e7041c0",
   "metadata": {},
   "outputs": [],
   "source": [
    "from matplotlib.backends.backend_pdf import PdfPages"
   ]
  },
  {
   "cell_type": "code",
   "execution_count": null,
   "id": "3798e08a-0869-40be-950f-28f4a148e9f1",
   "metadata": {},
   "outputs": [],
   "source": [
    "import copy"
   ]
  },
  {
   "cell_type": "code",
   "execution_count": null,
   "id": "56a3a5b4-4236-40ee-b5e0-ff2ee15804a4",
   "metadata": {},
   "outputs": [],
   "source": [
    "def SaveImageInPdf(all_figs,outputfile):\n",
    "    \"\"\"\n",
    "    \"\"\"\n",
    "    with PdfPages(outputfile) as pdf:\n",
    "        for fig in all_figs:\n",
    "            pdf.savefig(fig)\n",
    "            plt.close()"
   ]
  },
  {
   "cell_type": "markdown",
   "id": "a81df846-5679-4951-8f93-dc02605b9c91",
   "metadata": {},
   "source": [
    "# Start"
   ]
  },
  {
   "cell_type": "code",
   "execution_count": null,
   "id": "784cacd8-84cf-4beb-9ddb-d3cab6572591",
   "metadata": {},
   "outputs": [],
   "source": [
    "cwd=os.path.abspath(\"\")\n",
    "main_dir = cwd\n",
    "print(f\"notebook current executing path : {cwd}\")"
   ]
  },
  {
   "cell_type": "markdown",
   "id": "a4d93f7b",
   "metadata": {},
   "source": [
    "## Configuration"
   ]
  },
  {
   "cell_type": "markdown",
   "id": "5debfff1-974f-4a7f-bc51-12b047fc92ac",
   "metadata": {},
   "source": [
    "### Emission lines"
   ]
  },
  {
   "cell_type": "code",
   "execution_count": null,
   "id": "f8188f8a-5aea-440a-b7fe-4479e014bd1c",
   "metadata": {},
   "outputs": [],
   "source": [
    "#df_lines=pd.read_excel(\"datatools/GalEmissionLines.xlsx\")"
   ]
  },
  {
   "cell_type": "code",
   "execution_count": null,
   "id": "e1319fae-d6d1-4ebc-ab55-53c4910e88b8",
   "metadata": {},
   "outputs": [],
   "source": [
    "#df_lines"
   ]
  },
  {
   "cell_type": "code",
   "execution_count": null,
   "id": "a85e4489-bfb1-4558-a5a6-8a42f1a1acc8",
   "metadata": {},
   "outputs": [],
   "source": [
    "#df_sdss_lines = pd.read_excel(\"datatools/sdss_galaxylines.xlsx\")"
   ]
  },
  {
   "cell_type": "code",
   "execution_count": null,
   "id": "8377f6fb-a4c8-4dd6-afc0-dc2866c9fb49",
   "metadata": {},
   "outputs": [],
   "source": [
    "#df_sdss_lines"
   ]
  },
  {
   "cell_type": "markdown",
   "id": "a0278c32-f890-4694-bb4f-566ead98d8cc",
   "metadata": {},
   "source": [
    "# Lines"
   ]
  },
  {
   "cell_type": "code",
   "execution_count": null,
   "id": "6fa14d72-766b-4b4c-a943-aabc99eba8e2",
   "metadata": {},
   "outputs": [],
   "source": [
    "lines_to_plot=build_emissionlinesdict()"
   ]
  },
  {
   "cell_type": "code",
   "execution_count": null,
   "id": "1c09dc67-ff8e-4aa4-8c64-1dc9cc8135fd",
   "metadata": {},
   "outputs": [],
   "source": [
    "lines_to_plot"
   ]
  },
  {
   "cell_type": "code",
   "execution_count": null,
   "id": "f67da33b-2d85-4460-8880-a90a2db91be6",
   "metadata": {},
   "outputs": [],
   "source": [
    "def plot_line(ax,line_name):\n",
    "    \n",
    "    #keys = lines_to_plot.keys()\n",
    "    #for the_key in keys:\n",
    "    #    if the_key in line_name:\n",
    "    #        print(\"the_key=\",the_key,\" line_name=\",line_name)\n",
    "    #        line_name=the_key\n",
    "    #        break\n",
    "            \n",
    "    posx0=0.0\n",
    "    posy0=0.05\n",
    "    fontsize=12\n",
    "    the_color = {\"emission\":'r',\"absorption\":\"g\",\"break\":\"purple\"}\n",
    "    the_line_to_plot = lines_to_plot[line_name]\n",
    "    wls = the_line_to_plot[\"wls\"]\n",
    "    tag = the_line_to_plot[\"name\"]\n",
    "    typ = the_line_to_plot[\"type\"]\n",
    "    \n",
    "    xlim = ax.get_xlim()\n",
    "    for wl in wls:\n",
    "        ax.axvline(wl, lw=2, color=the_color[typ])\n",
    "        xpos = (wl - xlim[0]) / (xlim[1] - xlim[0])+posx0 \n",
    "        if 0 < xpos < 1:\n",
    "            ax.annotate(tag, xy=(xpos, posy0), rotation=0, ha='left', va='bottom',\n",
    "                            xycoords='axes fraction', color=the_color[typ], fontsize=fontsize)\n",
    "    return ax"
   ]
  },
  {
   "cell_type": "markdown",
   "id": "b266acf2-bbec-466a-86d3-b94626234bc1",
   "metadata": {},
   "source": [
    "## StarLight"
   ]
  },
  {
   "cell_type": "code",
   "execution_count": null,
   "id": "d2a3726c-43e6-432f-90b7-d779f346fee8",
   "metadata": {},
   "outputs": [],
   "source": [
    "filename = 'datatools/spectra_SL_data.fits'\n",
    "hdu = fits.open(filename)\n",
    "data_in=hdu[0].data\n",
    "hdr_in = hdu[0].header"
   ]
  },
  {
   "cell_type": "code",
   "execution_count": null,
   "id": "1d66cc83-7a4c-4e11-a26f-74c2fe9618c9",
   "metadata": {},
   "outputs": [],
   "source": [
    "NSED_SL = data_in.shape[0]-3\n",
    "NWL_SL = data_in.shape[1]-1"
   ]
  },
  {
   "cell_type": "code",
   "execution_count": null,
   "id": "5c64dd41-0684-4315-87a9-63141749e493",
   "metadata": {},
   "outputs": [],
   "source": [
    "wavelengths_SL = data_in[0,1:] \n",
    "flambdas_average_SL = data_in[1,1:] \n",
    "flambdas_std_SL = data_in[2,1:] \n",
    "spec_SL = data_in[3:,1:] \n",
    "all_numbers_SL = data_in[3:,0] "
   ]
  },
  {
   "cell_type": "markdown",
   "id": "166b2775",
   "metadata": {},
   "source": [
    "### Fors2"
   ]
  },
  {
   "cell_type": "markdown",
   "id": "420390a8-8384-49a5-9a8b-a16888600007",
   "metadata": {},
   "source": [
    "## Start"
   ]
  },
  {
   "cell_type": "markdown",
   "id": "7f6b5b89-440f-4d2d-87d6-9eb190e215bd",
   "metadata": {},
   "source": [
    "### Catalog"
   ]
  },
  {
   "cell_type": "code",
   "execution_count": null,
   "id": "0d1c76e0-51f7-47f0-9fc8-70f426930afd",
   "metadata": {},
   "outputs": [],
   "source": [
    "t = Table.read(filename_fits_catalog)"
   ]
  },
  {
   "cell_type": "code",
   "execution_count": null,
   "id": "2ee70902-b8ad-4407-9314-25ff3d8b2f77",
   "metadata": {},
   "outputs": [],
   "source": [
    "t"
   ]
  },
  {
   "cell_type": "markdown",
   "id": "ddbbab8c-201b-4c18-bbb6-2f9fd41878e7",
   "metadata": {},
   "source": [
    "### List"
   ]
  },
  {
   "cell_type": "code",
   "execution_count": null,
   "id": "ac4aea36-58e8-4517-9238-e479b6cded17",
   "metadata": {},
   "outputs": [],
   "source": [
    "lst=fors2_jct_SL() #remet les spectres dans le rest frame (ie a z=0)"
   ]
  },
  {
   "cell_type": "code",
   "execution_count": null,
   "id": "b6131f77-e460-4130-8706-712cf21d75f4",
   "metadata": {},
   "outputs": [],
   "source": [
    "lst = sorted(lst)\n",
    "print(lst)"
   ]
  },
  {
   "cell_type": "code",
   "execution_count": null,
   "id": "7d4697ce-d505-447f-a835-63488402bdf7",
   "metadata": {},
   "outputs": [],
   "source": [
    "all_specfilenames = os.listdir(path_out_jct)"
   ]
  },
  {
   "cell_type": "code",
   "execution_count": null,
   "id": "f02923c6-2519-43b9-8b99-1be525af9ff9",
   "metadata": {},
   "outputs": [],
   "source": [
    "all_specfilenames = sorted(all_specfilenames)"
   ]
  },
  {
   "cell_type": "code",
   "execution_count": null,
   "id": "6860eece-a67f-4db1-a648-6c0a4756c995",
   "metadata": {},
   "outputs": [],
   "source": [
    "all_numbers = [ int(re.findall('^SPEC(.*)[.]txt$',fn)[0]) for fn in all_specfilenames ]"
   ]
  },
  {
   "cell_type": "code",
   "execution_count": null,
   "id": "afca10c0-3271-44d6-b0a3-7a62cc087d8c",
   "metadata": {},
   "outputs": [],
   "source": [
    "all_numbers = sorted(all_numbers)"
   ]
  },
  {
   "cell_type": "code",
   "execution_count": null,
   "id": "bd4391dd-1e89-41d3-a3ee-7c1a9661da45",
   "metadata": {},
   "outputs": [],
   "source": [
    "print(all_numbers)"
   ]
  },
  {
   "cell_type": "code",
   "execution_count": null,
   "id": "a4accc9c-9848-40e6-b5ae-a2af990c15df",
   "metadata": {},
   "outputs": [],
   "source": [
    "NSED = len(all_numbers)\n",
    "\n",
    "# wavelength bin colors\n",
    "jet = plt.get_cmap('jet')\n",
    "cNorm = colors.Normalize(vmin=0, vmax=NSED)\n",
    "scalarMap = cmx.ScalarMappable(norm=cNorm, cmap=jet)\n",
    "all_colors = scalarMap.to_rgba(np.arange(NSED), alpha=1)"
   ]
  },
  {
   "cell_type": "code",
   "execution_count": null,
   "id": "6a463bfd-808e-47a6-95ce-7cecf2e53e0e",
   "metadata": {},
   "outputs": [],
   "source": [
    "cut = t[\"ID\"] == 3\n",
    "t[cut]"
   ]
  },
  {
   "cell_type": "code",
   "execution_count": null,
   "id": "5123e51b-ed36-4d83-96a4-b83deedb1859",
   "metadata": {},
   "outputs": [],
   "source": [
    "all_spectra = []\n",
    "all_wl = []\n",
    "all_tag = []\n",
    "all_lines = []\n",
    "#all_sed = []\n",
    "\n",
    "for the_num in all_numbers:\n",
    "    tcut = t[\"ID\"] == the_num\n",
    "    redshift = t[tcut][\"z\"].value[0]\n",
    "    lines = t[tcut][\"Lines\"].value[0]\n",
    "    filename = f\"SPEC{the_num}.txt\"\n",
    "    tag = f\"SPEC{the_num} , z={redshift:.2f}, lines={lines}\"\n",
    "    fullfilename = os.path.join(path_out_jct,filename)\n",
    "\n",
    "    arr = np.loadtxt(fullfilename)\n",
    "    all_wl.append(arr[:,0])\n",
    "    all_spectra.append(arr[:,1])\n",
    "    all_tag.append(tag)\n",
    "    all_lines.append(lines)\n",
    " "
   ]
  },
  {
   "cell_type": "code",
   "execution_count": null,
   "id": "6e35a41f-09af-426c-b460-62c7d435b91d",
   "metadata": {},
   "outputs": [],
   "source": [
    "if 0:\n",
    "    for idx in range(NSED):\n",
    "        plt.figure(figsize=(16,2))\n",
    "        plt.plot(all_wl[idx],all_spectra[idx], color=all_colors[idx],label=all_tag[idx])\n",
    "        plt.legend(loc=\"upper right\")\n",
    "        plt.grid()\n",
    "        plt.axvline(4150,color=\"k\")\n",
    "        plt.axvline(4250,color=\"k\")\n",
    "#    plt.ylim(-0.02,0.4)\n",
    "        plt.xlim(2000.,8000.)\n",
    "        plt.show()\n"
   ]
  },
  {
   "cell_type": "code",
   "execution_count": null,
   "id": "78f6d792-a3dc-43da-955b-42c31bc01951",
   "metadata": {},
   "outputs": [],
   "source": [
    "idx=0\n",
    "the_lines = all_lines[idx]\n",
    "print(\"the_lines = \",the_lines)\n",
    "\n",
    "all_elements  = the_lines.decode().split(\",\")\n",
    "\n",
    "\n",
    "fig, axs = plt.subplots(1, 1, figsize=(16, 8))\n",
    "ax=axs\n",
    "\n",
    "the_wl_fors2 = all_wl[idx]\n",
    "the_flux_fors2 = all_spectra[idx]\n",
    "\n",
    "the_max_flux_1 = the_wl_fors2.max()\n",
    "\n",
    "ax.plot(the_wl_fors2 ,the_flux_fors2 ,'-' ,color=all_colors[idx],label=all_tag[idx],lw=3)\n",
    "\n",
    "the_flux_fors2_filt  = gaussian_filter1d(the_flux_fors2,40)\n",
    "ax.plot(the_wl_fors2 ,the_flux_fors2_filt ,'-' ,color='yellow',lw=3)\n",
    "\n",
    "wlmin = the_wl_fors2.min()\n",
    "wlmax = the_wl_fors2.max()\n",
    "\n",
    "I1=np.trapz(the_flux_fors2_filt ,the_wl_fors2)\n",
    "\n",
    "ax.legend(loc=\"upper right\")\n",
    "ax.grid()\n",
    "\n",
    "wl1=4150\n",
    "wl2=4250\n",
    "\n",
    "#ax.axvline(wl1,color=\"grey\")\n",
    "#ax.axvline(wl2,color=\"grey\")\n",
    "\n",
    "\n",
    "\n",
    "\n",
    "#    plt.ylim(-0.02,0.4)\n",
    "ax.set_xlim(0.,10000.)\n",
    "for el in all_elements:\n",
    "    el=el.split(\" \")[0]  \n",
    "    print(el)\n",
    "    if len(el)>0:\n",
    "        plot_line(ax,el)\n",
    "\n",
    "        \n",
    "the_num = all_numbers[idx]\n",
    "\n",
    "idx_sl=np.where(all_numbers_SL==the_num)[0][0]\n",
    "the_spectrum_SL = spec_SL[idx_sl]\n",
    "\n",
    "the_max_flux_2 = the_spectrum_SL.max()\n",
    "\n",
    "wavelengths_SL_indexes=np.where(np.logical_and(wavelengths_SL>=wlmin,wavelengths_SL<wlmax))[0]\n",
    "\n",
    "the_spectrum_SL_flux_cut = the_spectrum_SL[wavelengths_SL_indexes]\n",
    "the_spectrum_SL_wl_cut = wavelengths_SL[wavelengths_SL_indexes]\n",
    "\n",
    "I2=np.trapz(the_spectrum_SL_flux_cut,the_spectrum_SL_wl_cut)\n",
    "\n",
    "g=I1/I2\n",
    "\n",
    "the_flux_SL_toplot= g*spec_SL[idx_sl]\n",
    "\n",
    "the_max_flux_2=the_flux_SL_toplot.max()\n",
    "\n",
    "ymax=1.1*max(the_max_flux_1,the_max_flux_2)\n",
    "\n",
    "ax.plot(wavelengths_SL,the_flux_SL_toplot,color=\"orange\")\n",
    "\n",
    "ymin=0\n",
    "\n",
    "#ax.set_ylim(ymin,ymax)"
   ]
  },
  {
   "cell_type": "markdown",
   "id": "79afa6b1-c432-43ba-88a3-ef9e308d52f3",
   "metadata": {},
   "source": [
    "## Write in pdf File"
   ]
  },
  {
   "cell_type": "code",
   "execution_count": null,
   "id": "13b83c83-591e-4545-8e20-0c8e755ca1d6",
   "metadata": {},
   "outputs": [],
   "source": [
    "NFIGSPERPAGE = 8\n",
    "NCOLSPERPAGE = 1\n",
    "NROWSPERPAGE = int(np.ceil(NFIGSPERPAGE/NCOLSPERPAGE)) "
   ]
  },
  {
   "cell_type": "code",
   "execution_count": null,
   "id": "c055b089-9f58-458d-aaa6-5b0d870a99d7",
   "metadata": {},
   "outputs": [],
   "source": [
    "all_figs = []\n",
    "idx_page=0\n",
    "\n",
    "for idx in range(0,NSED):\n",
    "    \n",
    "    if idx%NFIGSPERPAGE == 0:\n",
    "        idx_page+=1\n",
    "        \n",
    "        plt.tight_layout()\n",
    "        plt.show()\n",
    "        # save previous page\n",
    "        if idx_page>1:\n",
    "            all_figs.append(copy.deepcopy(fig))\n",
    "        \n",
    "        # create a new page\n",
    "        fig=plt.figure(figsize=(16,30))\n",
    "        idx_fig_inpage=0\n",
    "        \n",
    "    #increase fig counter in mage\n",
    "    idx_fig_inpage+=1    \n",
    "        \n",
    "    ax=fig.add_subplot(NROWSPERPAGE,NCOLSPERPAGE,idx_fig_inpage)\n",
    "    \n",
    "    \n",
    "    the_tag=all_tag[idx] \n",
    "    print(f\"===================== SED {idx} : {the_tag}=======================\")\n",
    "    \n",
    "    the_lines = all_lines[idx]\n",
    "    print(\"the_lines = \",the_lines)\n",
    "    all_elements  = the_lines.decode().split(\",\")\n",
    "    \n",
    "    \n",
    "    the_wl_fors2 = all_wl[idx]\n",
    "    the_flux_fors2 = all_spectra[idx]\n",
    "    ymax1 = the_flux_fors2.max()\n",
    "    \n",
    "    \n",
    "    #ax.plot(the_wl_fors2,the_flux_fors2,'-' ,color=all_colors[idx],label=all_tag[idx],lw=4)\n",
    "    ax.plot(the_wl_fors2,the_flux_fors2,'-' ,color='b',label=all_tag[idx],lw=4)\n",
    "    \n",
    "    the_flux_fors2_filt  = gaussian_filter1d(the_flux_fors2,40)\n",
    "    #ax.plot(the_wl_fors2 ,the_flux_fors2_filt ,'-' ,color='yellow',lw=3)\n",
    "\n",
    "    wlmin = the_wl_fors2.min()\n",
    "    wlmax = the_wl_fors2.max()\n",
    "\n",
    "    I1=np.trapz(the_flux_fors2_filt,the_wl_fors2)\n",
    "    \n",
    "    \n",
    "    ax.legend(loc=\"upper right\")\n",
    "    ax.grid()\n",
    "    \n",
    "    wl1=4150\n",
    "    wl2=4250\n",
    "\n",
    "#    ax.axvline(wl1,color=\"grey\")\n",
    "#    ax.axvline(wl2,color=\"grey\")\n",
    "#    plt.ylim(-0.02,0.4)\n",
    "\n",
    "    ax.set_xlim(0.,10000.)\n",
    "    for el in all_elements:\n",
    "        el=el.split(\" \")[0]  \n",
    "        el=el.split(\"\\r\")[0]  \n",
    "        print(el)\n",
    "        if len(el)>0:\n",
    "            plot_line(ax,el)\n",
    "            \n",
    "            \n",
    "    the_num = all_numbers[idx]\n",
    "    print(f\"the_num = {the_num}\")\n",
    "\n",
    "    idx_sl=np.where(all_numbers_SL==the_num)[0][0]\n",
    "    the_spectrum_SL = spec_SL[idx_sl]\n",
    "\n",
    "    wavelengths_SL_indexes=np.where(np.logical_and(wavelengths_SL>=wlmin,wavelengths_SL<wlmax))[0]\n",
    "\n",
    "    the_spectrum_SL_flux_cut = the_spectrum_SL[wavelengths_SL_indexes]\n",
    "    the_spectrum_SL_wl_cut = wavelengths_SL[wavelengths_SL_indexes]\n",
    "\n",
    "    I2=np.trapz(the_spectrum_SL_flux_cut,the_spectrum_SL_wl_cut)\n",
    "\n",
    "    g=I1/I2\n",
    "    \n",
    "    the_spectrum_SL_toplot = g*spec_SL[idx_sl]\n",
    "    \n",
    "    ymax2 = the_spectrum_SL_toplot.max()\n",
    "    \n",
    "    ymax=1.1*max(ymax1,ymax2)\n",
    "\n",
    "    ax.plot(wavelengths_SL,the_spectrum_SL_toplot,color=\"orange\",label=\"SL\")\n",
    "    ax.set_ylim(0,ymax)\n",
    "    \n",
    "    \n",
    "    "
   ]
  },
  {
   "cell_type": "code",
   "execution_count": null,
   "id": "d307f921-9e7a-42f4-8097-c6c119325741",
   "metadata": {},
   "outputs": [],
   "source": [
    "pdfoutputfilename = f\"multipage_pdf_CompareFors2andSLSpectra.pdf\"\n",
    "SaveImageInPdf(all_figs,pdfoutputfilename)"
   ]
  },
  {
   "cell_type": "code",
   "execution_count": null,
   "id": "2344fb88-4811-4e03-bd3b-b0eaa36613a0",
   "metadata": {},
   "outputs": [],
   "source": []
  }
 ],
 "metadata": {
  "kernelspec": {
   "display_name": "python3_base",
   "language": "python",
   "name": "python3"
  },
  "language_info": {
   "codemirror_mode": {
    "name": "ipython",
    "version": 3
   },
   "file_extension": ".py",
   "mimetype": "text/x-python",
   "name": "python",
   "nbconvert_exporter": "python",
   "pygments_lexer": "ipython3",
   "version": "3.9.15"
  },
  "toc": {
   "base_numbering": 1,
   "nav_menu": {},
   "number_sections": true,
   "sideBar": true,
   "skip_h1_title": false,
   "title_cell": "Table of Contents",
   "title_sidebar": "Contents",
   "toc_cell": false,
   "toc_position": {},
   "toc_section_display": true,
   "toc_window_display": false
  }
 },
 "nbformat": 4,
 "nbformat_minor": 5
}
