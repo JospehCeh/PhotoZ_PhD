{
 "cells": [
  {
   "cell_type": "markdown",
   "id": "316c4ba5",
   "metadata": {},
   "source": [
    "# View Fors2 , View spectra one by one\n",
    "\n",
    "- author : Sylvie Dagoret-Campagne\n",
    "- affiliation : IJCLab/IN2P3/CNRS\n",
    "- creation date : 2022/12/23\n",
    "- update : 2023/03/20\n",
    "- FORS2 : https://github.com/ericnuss/fors2\n",
    "- Result of StarLight : /sps/lsst/groups/photoz/fors2/FORS2/ResStarlight\n",
    "\n",
    "\n",
    "\n",
    "          /Users/dagoret/MacOSX/GitHub/LSST/FORS2>ls -l\n",
    "              total 0\n",
    "              drwxrwsr-x  3 dagoret  staff   96 Aug 21  2018 ResStarlight\n",
    "              drwxr-xr-x  9 dagoret  staff  288 Dec 19 18:01 fors2"
   ]
  },
  {
   "cell_type": "markdown",
   "id": "c7d7e344",
   "metadata": {},
   "source": [
    "## Import"
   ]
  },
  {
   "cell_type": "code",
   "execution_count": null,
   "id": "e485fec8",
   "metadata": {},
   "outputs": [],
   "source": [
    "import os,sys,re\n",
    "from astropy.io import fits\n",
    "from astropy.table import Table"
   ]
  },
  {
   "cell_type": "code",
   "execution_count": null,
   "id": "b271dcb5",
   "metadata": {},
   "outputs": [],
   "source": [
    "# Import some generally useful packages\n",
    "\n",
    "import os\n",
    "import numpy as np\n",
    "import pandas as pd\n",
    "import matplotlib.pyplot as plt\n",
    "import matplotlib.colors as colors\n",
    "import matplotlib.cm as cmx\n",
    "\n",
    "from matplotlib.backends.backend_pdf import PdfPages\n",
    "\n",
    "%matplotlib inline\n",
    "import pandas as pd\n",
    "from itertools import cycle, islice\n"
   ]
  },
  {
   "cell_type": "code",
   "execution_count": null,
   "id": "f6689d40-c574-471c-b9d6-996002aa4e76",
   "metadata": {},
   "outputs": [],
   "source": [
    "from scipy import ndimage\n",
    "\n",
    "#from scipy import interp as scinterp\n",
    "from scipy.interpolate import interp1d\n",
    "\n",
    "import glob\n",
    "import collections\n",
    "#from def_raw_seds import *"
   ]
  },
  {
   "cell_type": "code",
   "execution_count": null,
   "id": "413f1e89",
   "metadata": {},
   "outputs": [],
   "source": [
    "# to enlarge the sizes\n",
    "params = {'legend.fontsize': 'large',\n",
    "          'figure.figsize': (8, 4),\n",
    "         'axes.labelsize': 'xx-large',\n",
    "         'axes.titlesize':'xx-large',\n",
    "         'xtick.labelsize':'xx-large',\n",
    "         'ytick.labelsize':'xx-large'}\n",
    "plt.rcParams.update(params)"
   ]
  },
  {
   "cell_type": "code",
   "execution_count": null,
   "id": "c1e22fcc",
   "metadata": {},
   "outputs": [],
   "source": [
    "import matplotlib.offsetbox\n",
    "props = dict(boxstyle='round',edgecolor=\"w\",facecolor=\"w\", alpha=0.5)"
   ]
  },
  {
   "cell_type": "code",
   "execution_count": null,
   "id": "b7e9a578-1bb2-4e32-b88f-a69914949eca",
   "metadata": {},
   "outputs": [],
   "source": [
    "from def_raw_seds import *"
   ]
  },
  {
   "cell_type": "code",
   "execution_count": null,
   "id": "93d5eb5c-6c03-45fe-9795-17e8ed32d0d7",
   "metadata": {},
   "outputs": [],
   "source": [
    "from raw_data_analysis import *"
   ]
  },
  {
   "cell_type": "code",
   "execution_count": null,
   "id": "efbeb2ca-5324-4f3d-8889-c163a0633f67",
   "metadata": {},
   "outputs": [],
   "source": [
    "from spectroscopy import *"
   ]
  },
  {
   "cell_type": "code",
   "execution_count": null,
   "id": "7ce825ef",
   "metadata": {},
   "outputs": [],
   "source": [
    "# Import the primary photometry classes from rubin_sim.photUtils\n",
    "\n",
    "import rubin_sim.phot_Utils.Bandpass as Bandpass\n",
    "import rubin_sim.phot_Utils.Sed as Sed\n",
    "from rubin_sim.data import get_data_dir"
   ]
  },
  {
   "cell_type": "code",
   "execution_count": null,
   "id": "a20e3234",
   "metadata": {},
   "outputs": [],
   "source": [
    "#pysynphot_root_path=os.environ['PYSYN_CDBS']\n",
    "#path_sed_calspec=os.path.join(pysynphot_root_path,'calspec')\n",
    "# pysynphot\n",
    "#import pysynphot as S\n",
    "#S.refs.setref(area=1)\n",
    "#S.refs.getref()"
   ]
  },
  {
   "cell_type": "markdown",
   "id": "a4d93f7b",
   "metadata": {},
   "source": [
    "## Configuration"
   ]
  },
  {
   "cell_type": "markdown",
   "id": "5debfff1-974f-4a7f-bc51-12b047fc92ac",
   "metadata": {},
   "source": [
    "### Emission lines"
   ]
  },
  {
   "cell_type": "code",
   "execution_count": null,
   "id": "f8188f8a-5aea-440a-b7fe-4479e014bd1c",
   "metadata": {},
   "outputs": [],
   "source": [
    "df_lines=pd.read_excel(\"datatools/GalEmissionLines.xlsx\")"
   ]
  },
  {
   "cell_type": "code",
   "execution_count": null,
   "id": "e1319fae-d6d1-4ebc-ab55-53c4910e88b8",
   "metadata": {},
   "outputs": [],
   "source": [
    "df_lines"
   ]
  },
  {
   "cell_type": "code",
   "execution_count": null,
   "id": "a85e4489-bfb1-4558-a5a6-8a42f1a1acc8",
   "metadata": {},
   "outputs": [],
   "source": [
    "df_sdss_lines = pd.read_excel(\"datatools/sdss_galaxylines.xlsx\")"
   ]
  },
  {
   "cell_type": "code",
   "execution_count": null,
   "id": "8377f6fb-a4c8-4dd6-afc0-dc2866c9fb49",
   "metadata": {},
   "outputs": [],
   "source": [
    "df_sdss_lines"
   ]
  },
  {
   "cell_type": "markdown",
   "id": "a0278c32-f890-4694-bb4f-566ead98d8cc",
   "metadata": {},
   "source": [
    "# Lines"
   ]
  },
  {
   "cell_type": "code",
   "execution_count": null,
   "id": "6fa14d72-766b-4b4c-a943-aabc99eba8e2",
   "metadata": {},
   "outputs": [],
   "source": [
    "lines_to_plot={}"
   ]
  },
  {
   "cell_type": "code",
   "execution_count": null,
   "id": "f67da33b-2d85-4460-8880-a90a2db91be6",
   "metadata": {},
   "outputs": [],
   "source": [
    "def plot_line(ax,line_name):\n",
    "    \n",
    "    #keys = lines_to_plot.keys()\n",
    "    #for the_key in keys:\n",
    "    #    if the_key in line_name:\n",
    "    #        print(\"the_key=\",the_key,\" line_name=\",line_name)\n",
    "    #        line_name=the_key\n",
    "    #        break\n",
    "            \n",
    "    posx0=0.0\n",
    "    posy0=0.05\n",
    "    fontsize=12\n",
    "    the_color = {\"emission\":'r',\"absorption\":\"g\",\"break\":\"purple\"}\n",
    "    the_line_to_plot = lines_to_plot[line_name]\n",
    "    wls = the_line_to_plot[\"wls\"]\n",
    "    tag = the_line_to_plot[\"name\"]\n",
    "    typ = the_line_to_plot[\"type\"]\n",
    "    \n",
    "    xlim = ax.get_xlim()\n",
    "    for wl in wls:\n",
    "        ax.axvline(wl, lw=2, color=the_color[typ])\n",
    "        xpos = (wl - xlim[0]) / (xlim[1] - xlim[0])+posx0 \n",
    "        if 0 < xpos < 1:\n",
    "            ax.annotate(tag, xy=(xpos, posy0), rotation=0, ha='left', va='bottom',\n",
    "                            xycoords='axes fraction', color=the_color[typ], fontsize=fontsize)\n",
    "    return ax"
   ]
  },
  {
   "cell_type": "code",
   "execution_count": null,
   "id": "4dfcf60f-a947-403d-866f-e4a00ccc18b0",
   "metadata": {},
   "outputs": [],
   "source": []
  },
  {
   "cell_type": "code",
   "execution_count": null,
   "id": "e25c3a16-4f5b-4526-8fe3-c59b9a8e49a0",
   "metadata": {},
   "outputs": [],
   "source": [
    "sel = df_sdss_lines[\"species\"] == 'K'\n",
    "wls = df_sdss_lines[sel][\"wl\"].values\n",
    "Kline = Line(wls, atmospheric=False, label='$K$', label_pos=[-0.04, 0.02], use_for_calibration=False)\n",
    "lines_to_plot[\"K\"]={\"wls\":wls,\"name\":\"K\",\"type\":\"absorption\"}"
   ]
  },
  {
   "cell_type": "code",
   "execution_count": null,
   "id": "c2db4e3e-10f1-43fc-bbe1-1454a8bbd875",
   "metadata": {},
   "outputs": [],
   "source": [
    "sel = df_sdss_lines[\"species\"] == 'H'\n",
    "wls = df_sdss_lines[sel][\"wl\"].values\n",
    "Hline = Line(wls, atmospheric=False, label='$H$', label_pos=[-0.04, 0.02], use_for_calibration=False)\n",
    "lines_to_plot[\"H\"]={\"wls\":wls,\"name\":\"H\",\"type\":\"absorption\"}"
   ]
  },
  {
   "cell_type": "code",
   "execution_count": null,
   "id": "6d0f800a-b8b7-4345-be80-183aea39a80b",
   "metadata": {},
   "outputs": [],
   "source": [
    "sel = df_sdss_lines[\"species\"] == 'G'\n",
    "wls = df_sdss_lines[sel][\"wl\"].values\n",
    "Gline = Line(wls, atmospheric=False, label='$G$', label_pos=[-0.04, 0.02], use_for_calibration=False)\n",
    "lines_to_plot[\"G\"]={\"wls\":wls,\"name\":\"G\",\"type\":\"absorption\"}"
   ]
  },
  {
   "cell_type": "code",
   "execution_count": null,
   "id": "7f49e3fd-c812-4a59-9dcb-cc24ee03e0bb",
   "metadata": {},
   "outputs": [],
   "source": [
    "sel = df_sdss_lines[\"species\"] == 'Mg'\n",
    "wls = df_sdss_lines[sel][\"wl\"].values\n",
    "Gline = Line(wls, atmospheric=False, label='$Mg$', label_pos=[-0.04, 0.02], use_for_calibration=False)\n",
    "lines_to_plot[\"Mg\"]={\"wls\":wls,\"name\":\"Mg\",\"type\":\"absorption\"}"
   ]
  },
  {
   "cell_type": "code",
   "execution_count": null,
   "id": "91851779-9113-401b-98f1-d65ae4639211",
   "metadata": {},
   "outputs": [],
   "source": [
    "sel = df_sdss_lines[\"species\"] == 'Na'\n",
    "wls = df_sdss_lines[sel][\"wl\"].values\n",
    "Gline = Line(wls, atmospheric=False, label='$Na$', label_pos=[-0.04, 0.02], use_for_calibration=False)\n",
    "lines_to_plot[\"Na\"]={\"wls\":wls,\"name\":\"Na\",\"type\":\"absorption\"}"
   ]
  },
  {
   "cell_type": "code",
   "execution_count": null,
   "id": "d34c83dc-fd86-4cc7-8b73-d591d1b7f6b4",
   "metadata": {},
   "outputs": [],
   "source": [
    "sel = df_lines[\"ion\"] == 'H8'\n",
    "wls = df_lines[sel][\"wl\"].values\n",
    "H8line = Line(wls, atmospheric=False, label='$H8$', label_pos=[-0.04, 0.02], use_for_calibration=False)\n",
    "lines_to_plot[\"H8\"]={\"wls\":wls,\"name\":\"$H8$\",\"type\":\"emission\"}"
   ]
  },
  {
   "cell_type": "code",
   "execution_count": null,
   "id": "7b0d48f8-16f3-40a2-b382-3750c15a2564",
   "metadata": {},
   "outputs": [],
   "source": [
    "sel = df_lines[\"ion\"] == 'H9'\n",
    "wls = df_lines[sel][\"wl\"].values\n",
    "H9line = Line(wls, atmospheric=False, label='$H9$', label_pos=[-0.04, 0.02], use_for_calibration=False)\n",
    "lines_to_plot[\"H9\"]={\"wls\":wls,\"name\":\"$H9$\",\"type\":\"emission\"}"
   ]
  },
  {
   "cell_type": "code",
   "execution_count": null,
   "id": "cca07bfa-6d7c-44eb-ac44-1b68a15f8546",
   "metadata": {},
   "outputs": [],
   "source": [
    "sel = df_lines[\"ion\"] == 'H10'\n",
    "wls = df_lines[sel][\"wl\"].values\n",
    "H10line = Line(wls, atmospheric=False, label='$H10$', label_pos=[-0.04, 0.02], use_for_calibration=False)\n",
    "lines_to_plot[\"H10\"]={\"wls\":wls,\"name\":\"$H10$\",\"type\":\"emission\"}"
   ]
  },
  {
   "cell_type": "code",
   "execution_count": null,
   "id": "f4d50eb1-79ec-4e95-99f9-d99f2df660c9",
   "metadata": {},
   "outputs": [],
   "source": [
    "sel = df_lines[\"ion\"] == 'H11'\n",
    "wls = df_lines[sel][\"wl\"].values\n",
    "lines_to_plot[\"H11\"]={\"wls\":wls,\"name\":\"$H11$\",\"type\":\"emission\"}"
   ]
  },
  {
   "cell_type": "code",
   "execution_count": null,
   "id": "3251fc41-a4c2-446f-82df-0d5b8095086a",
   "metadata": {},
   "outputs": [],
   "source": [
    "sel = df_lines[\"ion\"] == 'Hα' \n",
    "wls=df_lines[sel][\"wl\"].values\n",
    "Halphaline = Line(wls, atmospheric=False, label='$H_\\\\alpha$', label_pos=[-0.04, 0.02], use_for_calibration=False)\n",
    "lines_to_plot[\"H{alpha}\"]={\"wls\":wls,\"name\":\"$H_\\\\alpha$\",\"type\":\"emission\"}"
   ]
  },
  {
   "cell_type": "code",
   "execution_count": null,
   "id": "84ad63fa-f07e-42b8-ba23-51891adb167f",
   "metadata": {},
   "outputs": [],
   "source": [
    "sel = df_lines[\"ion\"] == 'Hβ' \n",
    "wls=df_lines[sel][\"wl\"].values\n",
    "Hbetaline = Line(wls, atmospheric=False, label='$H_\\\\beta$', label_pos=[-0.04, 0.02], use_for_calibration=False)\n",
    "lines_to_plot[\"H{beta}\"]={\"wls\":wls,\"name\":\"$H_\\\\beta$\",\"type\":\"emission\"}"
   ]
  },
  {
   "cell_type": "code",
   "execution_count": null,
   "id": "ec2d9d41-9737-4e19-a2ab-31cdf5184d04",
   "metadata": {},
   "outputs": [],
   "source": [
    "sel = df_lines[\"ion\"] == 'Hγ' \n",
    "wls=df_lines[sel][\"wl\"].values\n",
    "lines_to_plot[\"H{gamma}\"]={\"wls\":wls,\"name\":\"$H_\\\\gamma$\",\"type\":\"emission\"}"
   ]
  },
  {
   "cell_type": "code",
   "execution_count": null,
   "id": "f3fa282a-edd3-4165-89c2-dca31cdea847",
   "metadata": {},
   "outputs": [],
   "source": [
    "sel = df_lines[\"ion\"] == 'Hδ' \n",
    "wls=df_lines[sel][\"wl\"].values\n",
    "lines_to_plot[\"H{delta}\"]={\"wls\":wls,\"name\":\"$H_\\\\delta$\",\"type\":\"emission\"}"
   ]
  },
  {
   "cell_type": "code",
   "execution_count": null,
   "id": "5ee5f845-1860-418b-bc81-20297dde0ecd",
   "metadata": {},
   "outputs": [],
   "source": [
    "sel = df_lines[\"ion\"] == 'Hε' \n",
    "wls=df_lines[sel][\"wl\"].values\n",
    "lines_to_plot[\"H{epsilon}\"]={\"wls\":wls,\"name\":\"$H_\\\\epsilon$\",\"type\":\"emission\"}"
   ]
  },
  {
   "cell_type": "code",
   "execution_count": null,
   "id": "fbd8a312-019d-4253-a14c-8445fe43ecd7",
   "metadata": {},
   "outputs": [],
   "source": [
    "sel = df_lines[\"ion\"] == '[O II]'\n",
    "wls=df_lines[sel][\"wl\"].values\n",
    "lines_to_plot[\"[OII]\"]={\"wls\":wls,\"name\":\"$[OII]$\",\"type\":\"emission\"}"
   ]
  },
  {
   "cell_type": "code",
   "execution_count": null,
   "id": "bef33d8a-54f1-40e9-8cef-129676966f16",
   "metadata": {},
   "outputs": [],
   "source": [
    "sel = df_lines[\"ion\"] == '[O III]'\n",
    "wls=df_lines[sel][\"wl\"].values\n",
    "lines_to_plot[\"[OIII]\"]={\"wls\":wls,\"name\":\"$[OIII]$\",\"type\":\"emission\"}"
   ]
  },
  {
   "cell_type": "code",
   "execution_count": null,
   "id": "fc53284e-68f4-47a2-8501-ac059c6ece4c",
   "metadata": {},
   "outputs": [],
   "source": [
    "sel = df_lines[\"ion\"] == 'O IV]'\n",
    "wls=df_lines[sel][\"wl\"].values\n",
    "lines_to_plot[\"[OIV]\"]={\"wls\":wls,\"name\":\"$[OIV]$\",\"type\":\"emission\"}"
   ]
  },
  {
   "cell_type": "code",
   "execution_count": null,
   "id": "41a0fbfa-84d1-4d62-892b-f22732f2c198",
   "metadata": {},
   "outputs": [],
   "source": [
    "sel = df_lines[\"ion\"] == 'O VI'\n",
    "wls=df_lines[sel][\"wl\"].values\n",
    "lines_to_plot[\"[OVI]\"]={\"wls\":wls,\"name\":\"$[OVI]$\",\"type\":\"emission\"}"
   ]
  },
  {
   "cell_type": "code",
   "execution_count": null,
   "id": "4958e16b-4743-478e-aea3-56c45345f721",
   "metadata": {},
   "outputs": [],
   "source": [
    "sel = df_lines[\"ion\"] == 'Mgb'\n",
    "wls=df_lines[sel][\"wl\"].values\n",
    "lines_to_plot[\"Mgb\"]={\"wls\":wls,\"name\":\"$Mgb$\",\"type\":\"emission\"}"
   ]
  },
  {
   "cell_type": "code",
   "execution_count": null,
   "id": "f1112f3a-9afd-467c-a576-f839fcbe8d2a",
   "metadata": {},
   "outputs": [],
   "source": [
    "sel = df_lines[\"ion\"] == 'Mg II]'\n",
    "wls=df_lines[sel][\"wl\"].values\n",
    "lines_to_plot[\"MgII\"]={\"wls\":wls,\"name\":\"$MgII$\",\"type\":\"emission\"}"
   ]
  },
  {
   "cell_type": "code",
   "execution_count": null,
   "id": "7eed0ba1-7747-49b2-b7da-3de9f0431d74",
   "metadata": {},
   "outputs": [],
   "source": [
    "sel = df_lines[\"ion\"] == 'Fe43'\n",
    "wls=df_lines[sel][\"wl\"].values\n",
    "lines_to_plot[\"Fe43\"]={\"wls\":wls,\"name\":\"$Fe43$\",\"type\":\"emission\"}"
   ]
  },
  {
   "cell_type": "code",
   "execution_count": null,
   "id": "a591564d-a947-4e99-9102-2d44f6eb6fbd",
   "metadata": {},
   "outputs": [],
   "source": [
    "sel = df_lines[\"ion\"] == 'Fe45'\n",
    "wls=df_lines[sel][\"wl\"].values\n",
    "lines_to_plot[\"Fe45\"]={\"wls\":wls,\"name\":\"$Fe45$\",\"type\":\"emission\"}"
   ]
  },
  {
   "cell_type": "code",
   "execution_count": null,
   "id": "548e3d6c-1c68-4411-a5ab-d397d793a386",
   "metadata": {},
   "outputs": [],
   "source": [
    "sel = df_lines[\"ion\"] == 'Ca44'\n",
    "wls=df_lines[sel][\"wl\"].values\n",
    "lines_to_plot[\"Ca44\"]={\"wls\":wls,\"name\":\"$Ca44$\",\"type\":\"emission\"}"
   ]
  },
  {
   "cell_type": "code",
   "execution_count": null,
   "id": "47506515-6eef-428b-b05f-3818fdca8525",
   "metadata": {},
   "outputs": [],
   "source": [
    "sel = df_lines[\"ion\"] == 'E'\n",
    "wls=df_lines[sel][\"wl\"].values\n",
    "lines_to_plot[\"E\"]={\"wls\":wls,\"name\":\"$E$\",\"type\":\"emission\"}"
   ]
  },
  {
   "cell_type": "code",
   "execution_count": null,
   "id": "2c1a313c-4ada-4103-bf51-b4f97be61ed1",
   "metadata": {},
   "outputs": [],
   "source": [
    "sel = df_lines[\"ion\"] =='Fe II'\n",
    "wls=df_lines[sel][\"wl\"].values\n",
    "lines_to_plot[\"FeII24\"]={\"wls\":wls,\"name\":\"$FeII24$\",\"type\":\"emission\"}\n",
    "lines_to_plot['FeII26']={\"wls\":wls,\"name\":\"$FeII26$\",\"type\":\"emission\"}"
   ]
  },
  {
   "cell_type": "code",
   "execution_count": null,
   "id": "cd6e4450-d33d-45b1-bf68-71a17cbbc436",
   "metadata": {},
   "outputs": [],
   "source": [
    "lines_to_plot['weak']={\"wls\":[],\"name\":\"$weak$\",\"type\":\"break\"}\n",
    "lines_to_plot['?']={\"wls\":[],\"name\":\"$?$\",\"type\":\"break\"}"
   ]
  },
  {
   "cell_type": "code",
   "execution_count": null,
   "id": "6458f44b-59be-4169-8941-4b0d841b0a37",
   "metadata": {},
   "outputs": [],
   "source": [
    "lines_to_plot['4000{AA}-break']={\"wls\":[4000.],\"name\":\"$Bal$\",\"type\":\"break\"}"
   ]
  },
  {
   "cell_type": "code",
   "execution_count": null,
   "id": "9a11d0b4-13c4-4f34-814f-423451363a82",
   "metadata": {},
   "outputs": [],
   "source": [
    "sel = df_lines[\"ion\"] == 'Lyα'\n",
    "wls=df_lines[sel][\"wl\"].values\n",
    "lines_to_plot[\"Ly{alpha}\"]={\"wls\":wls,\"name\":\"$Ly_\\\\alpha$\",\"type\":\"emission\"}"
   ]
  },
  {
   "cell_type": "code",
   "execution_count": null,
   "id": "cd5c86f5-0439-44db-87c6-160bdc08cf66",
   "metadata": {},
   "outputs": [],
   "source": [
    "sel = df_lines[\"ion\"] == 'Lyβ'\n",
    "wls=df_lines[sel][\"wl\"].values\n",
    "lines_to_plot[\"Ly{beta}\"]={\"wls\":wls,\"name\":\"$Ly_\\\\beta$\",\"type\":\"emission\"}"
   ]
  },
  {
   "cell_type": "code",
   "execution_count": null,
   "id": "4099bfcc-c54e-4d66-b950-b323f391e0ab",
   "metadata": {},
   "outputs": [],
   "source": [
    "sel = df_lines[\"ion\"] == 'Lyδ'\n",
    "wls=df_lines[sel][\"wl\"].values\n",
    "lines_to_plot[\"Ly{delta}\"]={\"wls\":wls,\"name\":\"$Ly_\\\\delta$\",\"type\":\"emission\"}"
   ]
  },
  {
   "cell_type": "code",
   "execution_count": null,
   "id": "c49e0d43-946f-4514-ab77-2664f402cedd",
   "metadata": {},
   "outputs": [],
   "source": [
    "sel = df_lines[\"ion\"] == 'Lyε'\n",
    "wls=df_lines[sel][\"wl\"].values\n",
    "lines_to_plot[\"Ly{epsilon}\"]={\"wls\":wls,\"name\":\"$Ly_\\\\epsilon$\",\"type\":\"emission\"}"
   ]
  },
  {
   "cell_type": "code",
   "execution_count": null,
   "id": "c8cb7f97-3ad7-4b37-a3f2-c99d5f84b19f",
   "metadata": {},
   "outputs": [],
   "source": [
    "sel = df_lines[\"ion\"] == 'C IV'\n",
    "wls=df_lines[sel][\"wl\"].values\n",
    "lines_to_plot[\"CIV\"]={\"wls\":wls,\"name\":\"$CIV$\",\"type\":\"emission\"}"
   ]
  },
  {
   "cell_type": "code",
   "execution_count": null,
   "id": "324ca602-e0a9-46dc-b8f1-2e38987c307e",
   "metadata": {},
   "outputs": [],
   "source": [
    "sel = df_lines[\"ion\"] == 'Al III'\n",
    "wls=df_lines[sel][\"wl\"].values\n",
    "lines_to_plot[\"AlIII\"]={\"wls\":wls,\"name\":\"$AlIII$\",\"type\":\"emission\"}"
   ]
  },
  {
   "cell_type": "code",
   "execution_count": null,
   "id": "b0b30760-14ba-48f3-99e6-41b75833d2a2",
   "metadata": {},
   "outputs": [],
   "source": [
    "sel = df_lines[\"ion\"] == '[Ne III]'\n",
    "wls=df_lines[sel][\"wl\"].values\n",
    "lines_to_plot['NeIII']={\"wls\":wls,\"name\":\"$NeIII$\",\"type\":\"emission\"}"
   ]
  },
  {
   "cell_type": "code",
   "execution_count": null,
   "id": "cacbadf1-37ef-4ce1-b278-8cec10a46aba",
   "metadata": {},
   "outputs": [],
   "source": [
    "sel = df_lines[\"ion\"] == 'He I'\n",
    "wls=df_lines[sel][\"wl\"].values\n",
    "lines_to_plot['HeI']={\"wls\":wls,\"name\":\"$HeI$\",\"type\":\"emission\"}"
   ]
  },
  {
   "cell_type": "code",
   "execution_count": null,
   "id": "8abe512f-efbf-466a-a7eb-afb5a0f3d5e5",
   "metadata": {},
   "outputs": [],
   "source": [
    "sel = df_lines[\"ion\"] == 'N III'\n",
    "wls=df_lines[sel][\"wl\"].values\n",
    "lines_to_plot['NIII']={\"wls\":wls,\"name\":\"$NIII$\",\"type\":\"emission\"}"
   ]
  },
  {
   "cell_type": "code",
   "execution_count": null,
   "id": "7d854c99-5a56-4fc4-91ac-0cb9533c51d9",
   "metadata": {},
   "outputs": [],
   "source": [
    "sel = df_lines[\"ion\"] == 'Al II'\n",
    "wls=df_lines[sel][\"wl\"].values\n",
    "lines_to_plot['AlII']={\"wls\":wls,\"name\":\"$AlII$\",\"type\":\"emission\"}"
   ]
  },
  {
   "cell_type": "code",
   "execution_count": null,
   "id": "c47592ba-2b49-4b85-b0b7-b672073d78bf",
   "metadata": {},
   "outputs": [],
   "source": [
    "sel = df_lines[\"ion\"] == 'Al III'\n",
    "wls=df_lines[sel][\"wl\"].values\n",
    "lines_to_plot['AlIII']={\"wls\":wls,\"name\":\"$AlIII$\",\"type\":\"emission\"}"
   ]
  },
  {
   "cell_type": "code",
   "execution_count": null,
   "id": "aea3c05a-d5ab-41a1-9129-42d11ba2a42c",
   "metadata": {},
   "outputs": [],
   "source": [
    "sel = df_lines[\"ion\"] == '[N II]'\n",
    "wls=df_lines[sel][\"wl\"].values\n",
    "lines_to_plot['NII']={\"wls\":wls,\"name\":\"$NII$\",\"type\":\"emission\"}"
   ]
  },
  {
   "cell_type": "code",
   "execution_count": null,
   "id": "aadfed15-a3b2-4f8c-bc1b-0e569634a9ff",
   "metadata": {},
   "outputs": [],
   "source": [
    "sel = df_lines[\"ion\"] == 'C III'\n",
    "wls=df_lines[sel][\"wl\"].values\n",
    "lines_to_plot['CIII']={\"wls\":wls,\"name\":\"$CIII$\",\"type\":\"emission\"}"
   ]
  },
  {
   "cell_type": "code",
   "execution_count": null,
   "id": "fdd22f60-e650-4012-9d18-bba299174ab6",
   "metadata": {},
   "outputs": [],
   "source": [
    "sel = df_lines[\"ion\"] == 'C IV'\n",
    "wls=df_lines[sel][\"wl\"].values\n",
    "lines_to_plot['CIV']={\"wls\":wls,\"name\":\"$CIV$\",\"type\":\"emission\"}"
   ]
  },
  {
   "cell_type": "code",
   "execution_count": null,
   "id": "d8b22f58-4117-4e8c-8ab5-a37b215ce0ec",
   "metadata": {},
   "outputs": [],
   "source": [
    "sel = df_sdss_lines[\"species\"] == 'Si IV + O IV'\n",
    "wls=df_sdss_lines[sel][\"wl\"].values\n",
    "lines_to_plot['SiIV/OIV']={\"wls\":wls,\"name\":\"$SiIV/OIV$\",\"type\":\"emission\"}"
   ]
  },
  {
   "cell_type": "code",
   "execution_count": null,
   "id": "5eee3907-f28b-4aa0-b854-2611bb69e960",
   "metadata": {},
   "outputs": [],
   "source": [
    "lines_to_plot[\"(QSO)\"] = {\"wls\":[],\"name\":\"$QSO$\",\"type\":\"emission\"}\n",
    "lines_to_plot[\"QSO\"] = {\"wls\":[],\"name\":\"$QSO$\",\"type\":\"emission\"}"
   ]
  },
  {
   "cell_type": "code",
   "execution_count": null,
   "id": "da6975d9-3b58-4f52-8fe5-9bd47e998302",
   "metadata": {},
   "outputs": [],
   "source": [
    "lines_to_plot['NaD'] = {\"wls\":[],\"name\":\"$NaD$\",\"type\":\"emission\"}"
   ]
  },
  {
   "cell_type": "code",
   "execution_count": null,
   "id": "cfa639d8-cba7-4478-994a-d13299a8c3dc",
   "metadata": {},
   "outputs": [],
   "source": [
    "lines_to_plot['broad'] = {\"wls\":[],\"name\":\"$broad$\",\"type\":\"emission\"}"
   ]
  },
  {
   "cell_type": "code",
   "execution_count": null,
   "id": "3f5b3f4b-6b16-4268-a178-78b67f40cac0",
   "metadata": {},
   "outputs": [],
   "source": [
    "lines_to_plot"
   ]
  },
  {
   "cell_type": "markdown",
   "id": "166b2775",
   "metadata": {},
   "source": [
    "### Fors2"
   ]
  },
  {
   "cell_type": "markdown",
   "id": "420390a8-8384-49a5-9a8b-a16888600007",
   "metadata": {},
   "source": [
    "## Start"
   ]
  },
  {
   "cell_type": "markdown",
   "id": "7f6b5b89-440f-4d2d-87d6-9eb190e215bd",
   "metadata": {},
   "source": [
    "### Catalog"
   ]
  },
  {
   "cell_type": "code",
   "execution_count": null,
   "id": "0d1c76e0-51f7-47f0-9fc8-70f426930afd",
   "metadata": {},
   "outputs": [],
   "source": [
    "t = Table.read(filename_fits_catalog)"
   ]
  },
  {
   "cell_type": "code",
   "execution_count": null,
   "id": "2ee70902-b8ad-4407-9314-25ff3d8b2f77",
   "metadata": {},
   "outputs": [],
   "source": [
    "t"
   ]
  },
  {
   "cell_type": "code",
   "execution_count": null,
   "id": "07852032-1bfc-48c0-855e-56bb32b36e84",
   "metadata": {},
   "outputs": [],
   "source": []
  },
  {
   "cell_type": "markdown",
   "id": "ddbbab8c-201b-4c18-bbb6-2f9fd41878e7",
   "metadata": {},
   "source": [
    "### List"
   ]
  },
  {
   "cell_type": "code",
   "execution_count": null,
   "id": "ac4aea36-58e8-4517-9238-e479b6cded17",
   "metadata": {},
   "outputs": [],
   "source": [
    "lst=fors2_jct_SL() #remet les spectres dans le rest frame (ie a z=0)"
   ]
  },
  {
   "cell_type": "code",
   "execution_count": null,
   "id": "b6131f77-e460-4130-8706-712cf21d75f4",
   "metadata": {},
   "outputs": [],
   "source": [
    "lst = sorted(lst)\n",
    "print(lst)"
   ]
  },
  {
   "cell_type": "code",
   "execution_count": null,
   "id": "7d4697ce-d505-447f-a835-63488402bdf7",
   "metadata": {},
   "outputs": [],
   "source": [
    "all_specfilenames = os.listdir(path_out_jct)"
   ]
  },
  {
   "cell_type": "code",
   "execution_count": null,
   "id": "f02923c6-2519-43b9-8b99-1be525af9ff9",
   "metadata": {},
   "outputs": [],
   "source": [
    "all_specfilenames = sorted(all_specfilenames)"
   ]
  },
  {
   "cell_type": "code",
   "execution_count": null,
   "id": "6860eece-a67f-4db1-a648-6c0a4756c995",
   "metadata": {},
   "outputs": [],
   "source": [
    "all_numbers = [ int(re.findall('^SPEC(.*)[.]txt$',fn)[0]) for fn in all_specfilenames ]"
   ]
  },
  {
   "cell_type": "code",
   "execution_count": null,
   "id": "afca10c0-3271-44d6-b0a3-7a62cc087d8c",
   "metadata": {},
   "outputs": [],
   "source": [
    "all_numbers = sorted(all_numbers)"
   ]
  },
  {
   "cell_type": "code",
   "execution_count": null,
   "id": "bd4391dd-1e89-41d3-a3ee-7c1a9661da45",
   "metadata": {},
   "outputs": [],
   "source": [
    "print(all_numbers)"
   ]
  },
  {
   "cell_type": "code",
   "execution_count": null,
   "id": "a4accc9c-9848-40e6-b5ae-a2af990c15df",
   "metadata": {},
   "outputs": [],
   "source": [
    "NSED = len(all_numbers)\n",
    "\n",
    "# wavelength bin colors\n",
    "jet = plt.get_cmap('jet')\n",
    "cNorm = colors.Normalize(vmin=0, vmax=NSED)\n",
    "scalarMap = cmx.ScalarMappable(norm=cNorm, cmap=jet)\n",
    "all_colors = scalarMap.to_rgba(np.arange(NSED), alpha=1)"
   ]
  },
  {
   "cell_type": "code",
   "execution_count": null,
   "id": "6a463bfd-808e-47a6-95ce-7cecf2e53e0e",
   "metadata": {},
   "outputs": [],
   "source": [
    "cut = t[\"ID\"] == 3\n",
    "t[cut]"
   ]
  },
  {
   "cell_type": "code",
   "execution_count": null,
   "id": "b654428c-0385-4d45-b198-82c3047fa976",
   "metadata": {},
   "outputs": [],
   "source": [
    "t[cut][\"z\"].value[0]"
   ]
  },
  {
   "cell_type": "code",
   "execution_count": null,
   "id": "5123e51b-ed36-4d83-96a4-b83deedb1859",
   "metadata": {},
   "outputs": [],
   "source": [
    "all_spectra = []\n",
    "all_wl = []\n",
    "all_tag = []\n",
    "all_lines = []\n",
    "#all_sed = []\n",
    "\n",
    "for the_num in all_numbers:\n",
    "    tcut = t[\"ID\"] == the_num\n",
    "    redshift = t[tcut][\"z\"].value[0]\n",
    "    lines = t[tcut][\"Lines\"].value[0]\n",
    "    filename = f\"SPEC{the_num}.txt\"\n",
    "    tag = f\"SPEC{the_num} , z={redshift:.2f}, lines={lines}\"\n",
    "    fullfilename = os.path.join(path_out_jct,filename)\n",
    "#    the_sed=SED_jct(the_num)\n",
    "#    all_sed.append(the_sed)\n",
    "    arr = np.loadtxt(fullfilename)\n",
    "    all_wl.append(arr[:,0])\n",
    "    all_spectra.append(arr[:,1])\n",
    "    all_tag.append(tag)\n",
    "    all_lines.append(lines)\n",
    " "
   ]
  },
  {
   "cell_type": "code",
   "execution_count": null,
   "id": "6e35a41f-09af-426c-b460-62c7d435b91d",
   "metadata": {},
   "outputs": [],
   "source": [
    "if 0:\n",
    "    for idx in range(NSED):\n",
    "        plt.figure(figsize=(16,2))\n",
    "        plt.plot(all_wl[idx],all_spectra[idx], color=all_colors[idx],label=all_tag[idx])\n",
    "        plt.legend(loc=\"upper right\")\n",
    "        plt.grid()\n",
    "        plt.axvline(4150,color=\"k\")\n",
    "        plt.axvline(4250,color=\"k\")\n",
    "#    plt.ylim(-0.02,0.4)\n",
    "        plt.xlim(2000.,8000.)\n",
    "        plt.show()\n"
   ]
  },
  {
   "cell_type": "code",
   "execution_count": null,
   "id": "78f6d792-a3dc-43da-955b-42c31bc01951",
   "metadata": {},
   "outputs": [],
   "source": [
    "idx=82\n",
    "the_lines = all_lines[idx]\n",
    "print(\"the_lines = \",the_lines)\n",
    "all_elements  = the_lines.decode().split(\",\")\n",
    "#fig, ax = plt.subplot(1,1,1,figsize=(16,8))\n",
    "fig, axs = plt.subplots(1, 1, figsize=(16, 8),dpi=50)\n",
    "ax=axs\n",
    "ax.plot(all_wl[idx],all_spectra[idx],'b-' ,color=all_colors[idx],label=all_tag[idx],lw=3)\n",
    "ax.legend(loc=\"upper right\")\n",
    "ax.grid()\n",
    "ax.axvline(4150,color=\"grey\")\n",
    "ax.axvline(4250,color=\"grey\")\n",
    "#    plt.ylim(-0.02,0.4)\n",
    "ax.set_xlim(2000.,8000.)\n",
    "for el in all_elements:\n",
    "    el=el.split(\" \")[0]  \n",
    "    print(el)\n",
    "    if len(el)>0:\n",
    "        plot_line(ax,el)\n"
   ]
  },
  {
   "cell_type": "code",
   "execution_count": null,
   "id": "c055b089-9f58-458d-aaa6-5b0d870a99d7",
   "metadata": {},
   "outputs": [],
   "source": [
    "for idx in range(515,NSED):\n",
    "    the_tag=all_tag[idx] \n",
    "    print(f\"===================== SED {idx} : {the_tag}=======================\")\n",
    "    \n",
    "    the_lines = all_lines[idx]\n",
    "    print(\"the_lines = \",the_lines)\n",
    "    all_elements  = the_lines.decode().split(\",\")\n",
    "    #fig, ax = plt.subplot(1,1,1,figsize=(16,8))\n",
    "    fig, axs = plt.subplots(1, 1, figsize=(16, 8),dpi=50)\n",
    "    ax=axs\n",
    "    ax.plot(all_wl[idx],all_spectra[idx],'b-' ,color=all_colors[idx],label=all_tag[idx],lw=3)\n",
    "    ax.legend(loc=\"upper right\")\n",
    "    ax.grid()\n",
    "    ax.axvline(4150,color=\"grey\")\n",
    "    ax.axvline(4250,color=\"grey\")\n",
    "#    plt.ylim(-0.02,0.4)\n",
    "    ax.set_xlim(2000.,8000.)\n",
    "    for el in all_elements:\n",
    "        el=el.split(\" \")[0]  \n",
    "        el=el.split(\"\\r\")[0]  \n",
    "        print(el)\n",
    "        if len(el)>0:\n",
    "            plot_line(ax,el)\n",
    "    plt.show()\n",
    "    \n",
    "    "
   ]
  },
  {
   "cell_type": "code",
   "execution_count": null,
   "id": "d307f921-9e7a-42f4-8097-c6c119325741",
   "metadata": {},
   "outputs": [],
   "source": [
    "NSED"
   ]
  },
  {
   "cell_type": "code",
   "execution_count": null,
   "id": "2344fb88-4811-4e03-bd3b-b0eaa36613a0",
   "metadata": {},
   "outputs": [],
   "source": []
  }
 ],
 "metadata": {
  "kernelspec": {
   "display_name": "Python 3 (ipykernel)",
   "language": "python",
   "name": "python3"
  },
  "language_info": {
   "codemirror_mode": {
    "name": "ipython",
    "version": 3
   },
   "file_extension": ".py",
   "mimetype": "text/x-python",
   "name": "python",
   "nbconvert_exporter": "python",
   "pygments_lexer": "ipython3",
   "version": "3.10.13"
  },
  "toc": {
   "base_numbering": 1,
   "nav_menu": {},
   "number_sections": true,
   "sideBar": true,
   "skip_h1_title": false,
   "title_cell": "Table of Contents",
   "title_sidebar": "Contents",
   "toc_cell": false,
   "toc_position": {},
   "toc_section_display": true,
   "toc_window_display": false
  }
 },
 "nbformat": 4,
 "nbformat_minor": 5
}
