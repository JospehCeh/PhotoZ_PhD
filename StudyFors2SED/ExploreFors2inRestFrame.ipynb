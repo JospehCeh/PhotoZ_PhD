{
 "cells": [
  {
   "cell_type": "markdown",
   "id": "ba4ecc81-bcb5-4cba-9cde-ab92db79caec",
   "metadata": {},
   "source": [
    "# View Fors2 SED in restFrame\n",
    "\n",
    "## Part 2\n",
    "\n",
    "- author : Sylvie Dagoret-Campagne\n",
    "- affiliation : IJCLab/IN2P3/CNRS\n",
    "- creation date : 2022/12/20\n",
    "- last update : 2023/03/20\n",
    "- FORS2 : https://github.com/ericnuss/fors2\n",
    "- Result of StarLight : /sps/lsst/groups/photoz/fors2/FORS2/ResStarlight\n",
    "\n",
    "\n",
    "\n",
    "          /Users/dagoret/MacOSX/GitHub/LSST/FORS2>ls -l\n",
    "              total 0\n",
    "              drwxrwsr-x  3 dagoret  staff   96 Aug 21  2018 ResStarlight\n",
    "              drwxr-xr-x  9 dagoret  staff  288 Dec 19 18:01 fors2"
   ]
  },
  {
   "cell_type": "markdown",
   "id": "6c3a9175-63be-43ea-b7f8-e8058500a926",
   "metadata": {},
   "source": [
    "## Import"
   ]
  },
  {
   "cell_type": "code",
   "execution_count": 1,
   "id": "a9e2a04b-f7a4-47ab-b9e5-14f6349065d5",
   "metadata": {},
   "outputs": [],
   "source": [
    "import os,sys\n",
    "import re\n",
    "from astropy.io import fits\n",
    "from astropy.table import Table"
   ]
  },
  {
   "cell_type": "code",
   "execution_count": 2,
   "id": "199334c5-865b-4403-bdf9-ba5a5d4082ae",
   "metadata": {},
   "outputs": [],
   "source": [
    "# Import some generally useful packages\n",
    "\n",
    "import os\n",
    "import numpy as np\n",
    "import matplotlib.pyplot as plt\n",
    "import matplotlib.colors as colors\n",
    "import matplotlib.cm as cmx\n",
    "\n",
    "from matplotlib.backends.backend_pdf import PdfPages\n",
    "\n",
    "%matplotlib inline\n",
    "import pandas as pd\n",
    "from itertools import cycle, islice"
   ]
  },
  {
   "cell_type": "code",
   "execution_count": 3,
   "id": "57732a95-62de-4369-a5d1-29a8bf921240",
   "metadata": {},
   "outputs": [],
   "source": [
    "from scipy import ndimage\n",
    "\n",
    "#from scipy import interp as scinterp\n",
    "from scipy.interpolate import interp1d\n",
    "\n",
    "import glob\n",
    "import collections\n",
    "#from def_raw_seds import *"
   ]
  },
  {
   "cell_type": "code",
   "execution_count": 4,
   "id": "065c48e7-7355-4369-9964-fcd3cf411ba4",
   "metadata": {},
   "outputs": [],
   "source": [
    "# to enlarge the sizes\n",
    "params = {'legend.fontsize': 'large',\n",
    "          'figure.figsize': (8, 4),\n",
    "         'axes.labelsize': 'xx-large',\n",
    "         'axes.titlesize':'xx-large',\n",
    "         'xtick.labelsize':'xx-large',\n",
    "         'ytick.labelsize':'xx-large'}\n",
    "plt.rcParams.update(params)"
   ]
  },
  {
   "cell_type": "code",
   "execution_count": 5,
   "id": "e85740f3-ec59-4708-ac87-9ac86e570029",
   "metadata": {},
   "outputs": [],
   "source": [
    "# Import the primary photometry classes from rubin_sim.photUtils\n",
    "\n",
    "import rubin_sim.phot_Utils.Bandpass as Bandpass\n",
    "import rubin_sim.phot_Utils.Sed as Sed\n",
    "from rubin_sim.data import get_data_dir"
   ]
  },
  {
   "cell_type": "code",
   "execution_count": 6,
   "id": "c40c5548-56b2-4318-bf24-9cfe2ed6c3de",
   "metadata": {},
   "outputs": [],
   "source": [
    "#pysynphot_root_path=os.environ['PYSYN_CDBS']\n",
    "#path_sed_calspec=os.path.join(pysynphot_root_path,'calspec')\n",
    "# pysynphot\n",
    "#import pysynphot as S\n",
    "#S.refs.setref(area=1)\n",
    "#S.refs.getref()"
   ]
  },
  {
   "cell_type": "markdown",
   "id": "c0bf2f0f-eb97-46a8-a92f-d70218885fda",
   "metadata": {},
   "source": [
    "## Configuration"
   ]
  },
  {
   "cell_type": "code",
   "execution_count": 7,
   "id": "c4233da4-9210-421a-a800-39c262759c7a",
   "metadata": {},
   "outputs": [],
   "source": [
    "path_rootdir = \"/Volumes/Backup2020/MacOSX/GitHub/LSST/fors2\"\n",
    "path_rootoutdir = \"/Volumes/Backup2020/MacOSX/GitHub/LSST/PhotoZ_PhD/StudyFors2SED\""
   ]
  },
  {
   "cell_type": "code",
   "execution_count": 8,
   "id": "4f8f70dc-d15b-4e19-96dc-193a2f1f15d9",
   "metadata": {},
   "outputs": [],
   "source": [
    "filename_fits_catalog=path_rootdir + '/fors2/data/fors2_catalogue.fits'\n",
    "path_raw_jct=path_rootdir + \"/fors2/seds/\"\n",
    "path_out_jct=path_rootoutdir + '/fors2out/seds/'\n",
    "path_ana=path_rootoutdir"
   ]
  },
  {
   "cell_type": "code",
   "execution_count": 9,
   "id": "cd874ee9-8854-49a6-b106-7ac02c8608bf",
   "metadata": {},
   "outputs": [],
   "source": [
    "#filename_fits_catalog='/Users/dagoret/MacOSX/GitHub/LSST/FORS2/fors2/data/fors2_catalogue.fits'\n",
    "#path_raw_jct='/Users/dagoret/MacOSX/GitHub/LSST/FORS2/fors2/seds/'\n",
    "# the following path has been filled by notbook ExploreFors2.ipynb\n",
    "#path_out_jct='/Users/dagoret/MacOSX/GitHub/LSST/PhotoZ_PhD/StudyFors2SED/fors2out/seds/'\n",
    "#path_ana=\"/Users/dagoret/MacOSX/GitHub/LSST/PhotoZ_PhD/StudyFors2SED\""
   ]
  },
  {
   "cell_type": "code",
   "execution_count": 10,
   "id": "f644dc1e-8b2f-4621-a631-9be49803a9f2",
   "metadata": {},
   "outputs": [],
   "source": [
    "os.environ[\"EXT_LAW\"] = 'HZ4' #prevot\n",
    "#os.environ['ANA_TYPE'] = 'fors2_raw'\n",
    "os.environ['ANA_TYPE'] = 'ResStarlight'\n",
    "os.environ['RUN_TYPE'] = 'full'\n",
    "os.environ['BASE_TAG'] = 'BC03N' #45  stars\n",
    "os.environ['PLOT_TYPE'] = ''\n",
    "os.environ['CONFIG_TAG'] = 'conf1'"
   ]
  },
  {
   "cell_type": "code",
   "execution_count": 11,
   "id": "a38fddc2-06e0-4e69-aa86-8623d79d0692",
   "metadata": {},
   "outputs": [],
   "source": [
    "ext        =os.environ['EXT_LAW']\n",
    "ana_type   =os.environ['ANA_TYPE']\n",
    "run_type   =os.environ['RUN_TYPE']\n",
    "base_tag   =os.environ['BASE_TAG']\n",
    "plot_type  =os.environ['PLOT_TYPE']\n",
    "config_tag=os.environ['CONFIG_TAG']"
   ]
  },
  {
   "cell_type": "code",
   "execution_count": 12,
   "id": "f1673542-1477-4337-b14f-f0c3a0d67c72",
   "metadata": {},
   "outputs": [],
   "source": [
    "#sl_path = \"/Users/dagoret/MacOSX/GitHub/LSST/FORS2\"\n",
    "sl_path = path_rootdir\n",
    "#ana_path=sl_path+'ext/'+ana_type+'/'+base_tag+'/'+config_tag+'/'+ext+'/'\n",
    "ana_path=sl_path+'/'+ana_type+'/'+base_tag+'/'+config_tag+'/'+ext+'/'\n",
    "ext_path=ana_path+'/extended_spectra/'\n",
    "path_brown=\"/home/enuss/00_labo/lsst/photoZ/brown_atlas/123/\"\n",
    "path_brown_data=path_brown+'605/'\n",
    "ext='_'+ext\n",
    "  \n",
    "path_SL           =ana_path+'output_sl/'\n",
    "\n",
    "\n",
    "path_rebuild_BC   =ana_path       +'output_rebuild_BC/'\n",
    "path_BC           =path_rebuild_BC+'full_spectra/'          #BC spectra without extinction\n",
    "path_BC_ext       =path_rebuild_BC+'full_spectra_ext/'      #BC spectra with extinction\n",
    "path_BC_pop_sp    =path_rebuild_BC+'population_spectra/'    #BC individual spectra without extinction\n",
    "path_BC_pop_sp_ext=path_rebuild_BC+'population_spectra_ext/'#BC individual spectra with extinction\n",
    "path_extinction_models='/home/enuss/00_labo/lsst/photoz/lephare/lephare_dev/ext/'"
   ]
  },
  {
   "cell_type": "code",
   "execution_count": 13,
   "id": "47d1621b-f084-4927-bd27-c6b91417783d",
   "metadata": {},
   "outputs": [],
   "source": [
    "cat0 = fits.open(filename_fits_catalog)[0]\n",
    "cat = fits.open(filename_fits_catalog)[1]"
   ]
  },
  {
   "cell_type": "markdown",
   "id": "edf7286b-7506-4f9d-8576-509dc8db328f",
   "metadata": {},
   "source": [
    "### Functions and classes"
   ]
  },
  {
   "cell_type": "code",
   "execution_count": 14,
   "id": "bfd63a25-9923-4d59-b5fa-c3e623ff8bf4",
   "metadata": {},
   "outputs": [],
   "source": [
    "def get_catalog_info(spec, cat):\n",
    "    try:\n",
    "        spec = int(spec)\n",
    "    except:\n",
    "        z=-1\n",
    "        lines='redshift unknown'\n",
    "    if spec in cat.data['ID']:\n",
    "        catid=(cat.data['ID']==spec)\n",
    "        z=cat.data[catid]['z'][0]\n",
    "        lines=cat.data[catid]['Lines'][0]\n",
    "        ra =cat.data[catid]['RAJ2000'][0]\n",
    "        dec=cat.data[catid]['DEJ2000'][0]\n",
    "    else:\n",
    "         z=-1\n",
    "         lines='not in catalog'\n",
    "         ra=0.\n",
    "         dec=0.\n",
    "    return z,lines,ra,dec"
   ]
  },
  {
   "cell_type": "code",
   "execution_count": 15,
   "id": "8f552789-97c1-4417-b3d0-f755d2bebbfa",
   "metadata": {},
   "outputs": [],
   "source": [
    "def fors2_jct_SL():\n",
    "  lst=[]\n",
    "  list=glob.glob(path_raw_jct+'*.txt')\n",
    "  for f in list:\n",
    "    base=os.path.basename(f).split('.')[0]\n",
    "    id=base[4:-1]\n",
    "    #print(id)\n",
    "    spec=SED_jct(id)\n",
    "    if (float(spec.z)!=-1) :\n",
    "      lst=np.append(lst,'SPEC'+id)\n",
    "      file_out=path_out_jct+'SPEC'+str(id)+'.txt'\n",
    "      h=open(file_out,'w')\n",
    "      x=spec.wave\n",
    "      y=spec.flux\n",
    "      for i in range(len(x)):\n",
    "        h.write(\"%f %f\\n\"%(float(x[i]),float(y[i])))\n",
    "      h.close()\n",
    "\n",
    "  return lst  "
   ]
  },
  {
   "cell_type": "code",
   "execution_count": 16,
   "id": "07ef3c8e-2da3-4323-973e-eb127d3856e2",
   "metadata": {},
   "outputs": [],
   "source": [
    "class SED(object): #input SED to SL\n",
    "  def __init__(self,filename,label=\"\"):\n",
    "      self.d=np.loadtxt(filename)\n",
    "      self.wave=self.d[:,0]\n",
    "      self.flux=self.d[:,1]\n",
    "      self.label=label\n",
    "  def smooth(self,size=3):\n",
    "      return ndimage.filters.gaussian_filter1d(self.flux,size)\n",
    "  def rescale(self,value):\n",
    "      self.flux*=value\n",
    "  def get_scale(self,bounds=(4150,4250)):\n",
    "      start=np.searchsorted(self.wave,bounds[0])\n",
    "      stop =np.searchsorted(self.wave,bounds[1])\n",
    "      return self.flux[start:stop].mean()"
   ]
  },
  {
   "cell_type": "code",
   "execution_count": 17,
   "id": "aa546e8c-2cca-4c55-b3df-c907b254eff2",
   "metadata": {},
   "outputs": [],
   "source": [
    "class SED_jct(object):\n",
    "    \"\"\"\n",
    "    Extract infos from catalogs and wavelength/flux from SPEC files tables (SPECXXn.txt)\n",
    "    \"\"\"\n",
    "    def __init__(self,id,label=\"\"):\n",
    "        z,lines,ra,dec=get_catalog_info(id,cat)\n",
    "        filename=path_raw_jct+'SPEC'+str(id)+'n.txt'\n",
    "        self.d=np.loadtxt(filename, unpack=True)\n",
    "        if (float(z)!=-1) :\n",
    "            self.wave_tmp=self.d[0]/(1.+z)\n",
    "        else:\n",
    "            self.wave_tmp=self.d[0]*0.\n",
    "        self.flux_tmp=self.d[1]\n",
    "        self.mask=self.d[2]\n",
    "        id_mask=np.where(self.mask==0)\n",
    "        self.wave=self.wave_tmp[id_mask]\n",
    "        self.flux=self.flux_tmp[id_mask]      \n",
    "        self.label=label\n",
    "        self.z=z\n",
    "        self.lines=lines\n",
    "        self.ra=ra\n",
    "        self.dec=dec\n",
    "        \n",
    "    def get_scale(self,bounds=(4150,4250)):\n",
    "        start=np.searchsorted(self.wave,bounds[0])\n",
    "        stop=np.searchsorted(self.wave,bounds[1])\n",
    "        return self.flux[start:stop].mean()"
   ]
  },
  {
   "cell_type": "markdown",
   "id": "d985200a-54e4-4e4b-9e28-548e4e86f650",
   "metadata": {},
   "source": [
    "## Catalog"
   ]
  },
  {
   "cell_type": "code",
   "execution_count": 18,
   "id": "8f5a4113-a579-4526-a4a2-f51fddc90563",
   "metadata": {},
   "outputs": [],
   "source": [
    "#cat0.header"
   ]
  },
  {
   "cell_type": "code",
   "execution_count": 19,
   "id": "bdf36a38-b83a-42e0-90df-367063259867",
   "metadata": {},
   "outputs": [
    {
     "data": {
      "text/plain": [
       "{'file': <astropy.io.fits.file._File <_io.BufferedReader name='/Volumes/Backup2020/MacOSX/GitHub/LSST/fors2/fors2/data/fors2_catalogue.fits'>>,\n",
       " 'filemode': 'readonly',\n",
       " 'hdrLoc': 5760,\n",
       " 'datLoc': 14400,\n",
       " 'datSpan': 97920}"
      ]
     },
     "execution_count": 19,
     "metadata": {},
     "output_type": "execute_result"
    }
   ],
   "source": [
    "cat.fileinfo()"
   ]
  },
  {
   "cell_type": "code",
   "execution_count": 20,
   "id": "4b09a1aa-5236-49a6-83f9-80a1d098ed33",
   "metadata": {},
   "outputs": [
    {
     "name": "stderr",
     "output_type": "stream",
     "text": [
      "WARNING: VerifyWarning: Invalid keyword for column 8: ASCII table null option (TNULLn) is longer than the column's character width and will be truncated (got '-2147483648'). [astropy.io.fits.column]\n",
      "WARNING: VerifyWarning: Invalid keyword for column 9: ASCII table null option (TNULLn) is longer than the column's character width and will be truncated (got '-32768'). [astropy.io.fits.column]\n"
     ]
    }
   ],
   "source": [
    "data = cat.data"
   ]
  },
  {
   "cell_type": "code",
   "execution_count": 21,
   "id": "ddd79fcb-8fd6-45aa-b388-0175e41b9bfc",
   "metadata": {},
   "outputs": [],
   "source": [
    "cols = data.columns"
   ]
  },
  {
   "cell_type": "code",
   "execution_count": 22,
   "id": "f3849655-a047-45c9-94f3-265dd9351cc4",
   "metadata": {},
   "outputs": [
    {
     "name": "stdout",
     "output_type": "stream",
     "text": [
      "ColDefs(\n",
      "    name = 'ID'; format = 'I4'; start = 2\n",
      "    name = 'm_ID'; format = 'A1'; start = 7\n",
      "    name = 'RAJ2000'; format = 'F9.5'; unit = 'deg'; start = 9\n",
      "    name = 'DEJ2000'; format = 'F9.5'; unit = 'deg'; start = 19\n",
      "    name = 'z'; format = 'F7.5'; start = 29\n",
      "    name = 'u_z'; format = 'A1'; start = 37\n",
      "    name = 'Rmag'; format = 'F5.2'; unit = 'mag'; null = 'NaN'; start = 39\n",
      "    name = 'RV'; format = 'I7'; unit = 'km/s'; start = 45\n",
      "    name = 'e_RV'; format = 'I4'; unit = 'km/s'; start = 53\n",
      "    name = 'RT'; format = 'F4.1'; null = 'NaN'; start = 58\n",
      "    name = 'Nsp'; format = 'I1'; start = 63\n",
      "    name = 'Lines'; format = 'A76'; start = 65\n",
      ")\n"
     ]
    }
   ],
   "source": [
    "print(cols)"
   ]
  },
  {
   "cell_type": "markdown",
   "id": "f079c6da-4e47-46d9-b669-6a1ce04306b9",
   "metadata": {},
   "source": [
    "### Better using astropy tables"
   ]
  },
  {
   "cell_type": "code",
   "execution_count": 23,
   "id": "56af31f6-7932-488a-a98d-46e1f0f57115",
   "metadata": {},
   "outputs": [
    {
     "name": "stderr",
     "output_type": "stream",
     "text": [
      "/Users/dagoret/anaconda3/lib/python3.9/site-packages/astropy/io/fits/connect.py:259: FutureWarning: elementwise comparison failed; returning scalar instead, but in the future will perform elementwise comparison\n",
      "  mask = data[col.name] == col.null\n"
     ]
    }
   ],
   "source": [
    "t = Table.read(filename_fits_catalog)"
   ]
  },
  {
   "cell_type": "code",
   "execution_count": 24,
   "id": "58f71604-602a-4f6f-9514-85d77d3d342b",
   "metadata": {},
   "outputs": [
    {
     "data": {
      "text/html": [
       "<div><i>Table length=676</i>\n",
       "<table id=\"table140309619227520\" class=\"table-striped table-bordered table-condensed\">\n",
       "<thead><tr><th>ID</th><th>m_ID</th><th>RAJ2000</th><th>DEJ2000</th><th>z</th><th>u_z</th><th>Rmag</th><th>RV</th><th>e_RV</th><th>RT</th><th>Nsp</th><th>Lines</th></tr></thead>\n",
       "<thead><tr><th></th><th></th><th>deg</th><th>deg</th><th></th><th></th><th>mag</th><th>km / s</th><th>km / s</th><th></th><th></th><th></th></tr></thead>\n",
       "<thead><tr><th>int16</th><th>bytes1</th><th>float64</th><th>float64</th><th>float64</th><th>bytes1</th><th>float64</th><th>int32</th><th>int16</th><th>float64</th><th>int16</th><th>bytes77</th></tr></thead>\n",
       "<tr><td>1</td><td></td><td>13.52815</td><td>-28.40486</td><td>0.55409</td><td></td><td>20.79</td><td>166227</td><td>55</td><td>10.0</td><td>1</td><td>[OII],H8,K,H</td></tr>\n",
       "<tr><td>2</td><td></td><td>13.52997</td><td>-28.44776</td><td>0.34555</td><td></td><td>21.18</td><td>103665</td><td>40</td><td>12.3</td><td>1</td><td>K,H,G,H{beta}</td></tr>\n",
       "<tr><td>3</td><td></td><td>13.52552</td><td>-28.4208</td><td>0.6866</td><td></td><td>21.45</td><td>210642</td><td>48</td><td>11.6</td><td>4</td><td>[OII],H9,K,H,H{beta},[OIII],H8</td></tr>\n",
       "<tr><td>4</td><td></td><td>13.52216</td><td>-28.40914</td><td>0.68653</td><td></td><td>21.62</td><td>205959</td><td>123</td><td>10.6</td><td>1</td><td>[OII],H9,K,H,G,H{beta}</td></tr>\n",
       "<tr><td>7</td><td></td><td>13.50974</td><td>-28.42972</td><td>0.32371</td><td></td><td>22.34</td><td>97111</td><td>11</td><td>16.7</td><td>6</td><td>[OII],H{beta},[OIII],H{alpha}</td></tr>\n",
       "<tr><td>9</td><td></td><td>13.50219</td><td>-28.40641</td><td>0.29266</td><td></td><td>21.6</td><td>87798</td><td>58</td><td>13.1</td><td>1</td><td>H9,H8,K,H</td></tr>\n",
       "<tr><td>11</td><td></td><td>13.49724</td><td>-28.39487</td><td>0.62688</td><td></td><td>22.09</td><td>188063</td><td>17</td><td>24.3</td><td>3</td><td>[OII],H10,H8,K,H,H{delta}</td></tr>\n",
       "<tr><td>12</td><td></td><td>13.49584</td><td>-28.39125</td><td>0.2973</td><td></td><td>21.97</td><td>89189</td><td>30</td><td>14.8</td><td>2</td><td>[OII],H10,H9,H8,K,H</td></tr>\n",
       "<tr><td>13</td><td></td><td>13.49261</td><td>-28.38272</td><td>0.6887</td><td></td><td>23.14</td><td>206610</td><td>0</td><td>0.0</td><td>1</td><td>[OII],H{epsilon},H{delta},H{beta}</td></tr>\n",
       "<tr><td>14</td><td></td><td>13.48952</td><td>-28.38469</td><td>1.15856</td><td></td><td>22.62</td><td>347568</td><td>192</td><td>2.0</td><td>1</td><td>[OII],H9</td></tr>\n",
       "<tr><td>15</td><td></td><td>13.4888</td><td>-28.41684</td><td>0.63446</td><td></td><td>22.4</td><td>190338</td><td>26</td><td>17.2</td><td>2</td><td>[OII],H9,K,H,H{delta},H{beta},[OIII]</td></tr>\n",
       "<tr><td>16</td><td></td><td>13.48808</td><td>-28.43092</td><td>0.62986</td><td></td><td>22.29</td><td>188958</td><td>17</td><td>22.8</td><td>2</td><td>[OII],H,H{beta},[OIII]</td></tr>\n",
       "<tr><td>...</td><td>...</td><td>...</td><td>...</td><td>...</td><td>...</td><td>...</td><td>...</td><td>...</td><td>...</td><td>...</td><td>...</td></tr>\n",
       "<tr><td>731</td><td></td><td>13.6688</td><td>-28.23844</td><td>0.54998</td><td></td><td>21.06</td><td>164994</td><td>105</td><td>5.4</td><td>1</td><td>weak,[OII],H9,H,4000{AA}-break</td></tr>\n",
       "<tr><td>732</td><td></td><td>13.71984</td><td>-28.23666</td><td>0.16176</td><td></td><td>19.24</td><td>48526</td><td>18</td><td>19.9</td><td>1</td><td>H,K,H{gamma},H{beta},[OIII],H{alpha},NII</td></tr>\n",
       "<tr><td>733</td><td></td><td>13.63351</td><td>-28.23504</td><td>0.19553</td><td></td><td>19.77</td><td>58660</td><td>27</td><td>13.9</td><td>1</td><td>K,H,H{beta},[OIII]</td></tr>\n",
       "<tr><td>734</td><td></td><td>13.68083</td><td>-28.2329</td><td>0.23012</td><td></td><td>0.0</td><td>69036</td><td>71</td><td>7.2</td><td>1</td><td>[OII],H9,K,H,H{alpha},NII</td></tr>\n",
       "<tr><td>735</td><td></td><td>13.69958</td><td>-28.23161</td><td>0.36169</td><td></td><td>19.28</td><td>108507</td><td>107</td><td>8.2</td><td>1</td><td>K,H,G,H{beta}</td></tr>\n",
       "<tr><td>736</td><td></td><td>13.66431</td><td>-28.22849</td><td>0.55777</td><td></td><td>21.64</td><td>167331</td><td>31</td><td>10.5</td><td>1</td><td>[OII],H9,H{beta},[OIII]</td></tr>\n",
       "<tr><td>737</td><td></td><td>13.62722</td><td>-28.22692</td><td>0.52001</td><td></td><td>21.4</td><td>156003</td><td>53</td><td>10.2</td><td>1</td><td>[OII],K,H</td></tr>\n",
       "<tr><td>738</td><td></td><td>13.6437</td><td>-28.22527</td><td>0.56044</td><td></td><td>19.73</td><td>168132</td><td>126</td><td>7.1</td><td>1</td><td>K,H,4000{AA}-break,G</td></tr>\n",
       "<tr><td>1009</td><td></td><td>13.52353</td><td>-28.42682</td><td>0.2904</td><td></td><td>18.6</td><td>87120</td><td>0</td><td>0.0</td><td>1</td><td></td></tr>\n",
       "<tr><td>1011</td><td></td><td>13.51676</td><td>-28.40425</td><td>0.2934</td><td></td><td>18.26</td><td>88020</td><td>0</td><td>0.0</td><td>1</td><td></td></tr>\n",
       "<tr><td>1012</td><td></td><td>13.5147</td><td>-28.40379</td><td>0.2929</td><td></td><td>17.34</td><td>87870</td><td>0</td><td>0.0</td><td>1</td><td></td></tr>\n",
       "<tr><td>1018</td><td></td><td>13.49151</td><td>-28.38977</td><td>0.2925</td><td></td><td>19.62</td><td>87750</td><td>0</td><td>0.0</td><td>1</td><td></td></tr>\n",
       "<tr><td>1020</td><td></td><td>13.48143</td><td>-28.40368</td><td>0.2939</td><td></td><td>20.71</td><td>88170</td><td>0</td><td>0.0</td><td>1</td><td></td></tr>\n",
       "</table></div>"
      ],
      "text/plain": [
       "<Table length=676>\n",
       "  ID   m_ID  RAJ2000  ...    RT    Nsp                                      Lines                                    \n",
       "               deg    ...                                                                                            \n",
       "int16 bytes1 float64  ... float64 int16                                    bytes77                                   \n",
       "----- ------ -------- ... ------- ----- -----------------------------------------------------------------------------\n",
       "    1        13.52815 ...    10.0     1 [OII],H8,K,H                                                                \n",
       "    2        13.52997 ...    12.3     1 K,H,G,H{beta}                                                               \n",
       "    3        13.52552 ...    11.6     4 [OII],H9,K,H,H{beta},[OIII],H8                                              \n",
       "    4        13.52216 ...    10.6     1 [OII],H9,K,H,G,H{beta}                                                      \n",
       "    7        13.50974 ...    16.7     6 [OII],H{beta},[OIII],H{alpha}                                               \n",
       "    9        13.50219 ...    13.1     1 H9,H8,K,H                                                                   \n",
       "   11        13.49724 ...    24.3     3 [OII],H10,H8,K,H,H{delta}                                                   \n",
       "   12        13.49584 ...    14.8     2 [OII],H10,H9,H8,K,H                                                         \n",
       "   13        13.49261 ...     0.0     1 [OII],H{epsilon},H{delta},H{beta}                                           \n",
       "   14        13.48952 ...     2.0     1 [OII],H9                                                                    \n",
       "   15         13.4888 ...    17.2     2 [OII],H9,K,H,H{delta},H{beta},[OIII]                                        \n",
       "   16        13.48808 ...    22.8     2 [OII],H,H{beta},[OIII]                                                      \n",
       "  ...    ...      ... ...     ...   ...                                                                           ...\n",
       "  731         13.6688 ...     5.4     1 weak,[OII],H9,H,4000{AA}-break                                              \n",
       "  732        13.71984 ...    19.9     1 H,K,H{gamma},H{beta},[OIII],H{alpha},NII                                    \n",
       "  733        13.63351 ...    13.9     1 K,H,H{beta},[OIII]                                                          \n",
       "  734        13.68083 ...     7.2     1 [OII],H9,K,H,H{alpha},NII                                                   \n",
       "  735        13.69958 ...     8.2     1 K,H,G,H{beta}                                                               \n",
       "  736        13.66431 ...    10.5     1 [OII],H9,H{beta},[OIII]                                                     \n",
       "  737        13.62722 ...    10.2     1 [OII],K,H                                                                   \n",
       "  738         13.6437 ...     7.1     1 K,H,4000{AA}-break,G                                                        \n",
       " 1009        13.52353 ...     0.0     1                                                                             \n",
       " 1011        13.51676 ...     0.0     1                                                                             \n",
       " 1012         13.5147 ...     0.0     1                                                                             \n",
       " 1018        13.49151 ...     0.0     1                                                                             \n",
       " 1020        13.48143 ...     0.0     1                                                                             "
      ]
     },
     "execution_count": 24,
     "metadata": {},
     "output_type": "execute_result"
    }
   ],
   "source": [
    "t"
   ]
  },
  {
   "cell_type": "markdown",
   "id": "c53d6df5-dd68-4d7e-9788-fc33c5fdd1a2",
   "metadata": {},
   "source": [
    "# View Fors2 spectra and Extended Spectra"
   ]
  },
  {
   "cell_type": "code",
   "execution_count": 25,
   "id": "f434d569-47ae-454c-80f7-56cf60e5a73f",
   "metadata": {},
   "outputs": [],
   "source": [
    "list_of_spectra = fors2_jct_SL()"
   ]
  },
  {
   "cell_type": "code",
   "execution_count": 26,
   "id": "055b1336-62ae-4b50-a861-9dc4df4eed18",
   "metadata": {},
   "outputs": [
    {
     "name": "stdout",
     "output_type": "stream",
     "text": [
      "\u001b[1m\u001b[31mIMG\u001b[m\u001b[m          SPEC268n.txt SPEC376n.txt SPEC474n.txt SPEC576n.txt SPEC673n.txt\n",
      "SPEC102n.txt SPEC270n.txt SPEC377n.txt SPEC475n.txt SPEC577n.txt SPEC674n.txt\n",
      "SPEC106n.txt SPEC271n.txt SPEC378n.txt SPEC476n.txt SPEC578n.txt SPEC675n.txt\n",
      "SPEC107n.txt SPEC274n.txt SPEC379n.txt SPEC477n.txt SPEC579n.txt SPEC676n.txt\n",
      "SPEC109n.txt SPEC275n.txt SPEC37n.txt  SPEC478n.txt SPEC57n.txt  SPEC677n.txt\n",
      "SPEC10n.txt  SPEC276n.txt SPEC380n.txt SPEC479n.txt SPEC580n.txt SPEC678n.txt\n",
      "SPEC110n.txt SPEC277n.txt SPEC381n.txt SPEC47n.txt  SPEC581n.txt SPEC679n.txt\n",
      "SPEC111n.txt SPEC278n.txt SPEC382n.txt SPEC480n.txt SPEC582n.txt SPEC67n.txt\n",
      "SPEC112n.txt SPEC279n.txt SPEC383n.txt SPEC481n.txt SPEC583n.txt SPEC680n.txt\n",
      "SPEC113n.txt SPEC280n.txt SPEC384n.txt SPEC482n.txt SPEC584n.txt SPEC681n.txt\n",
      "SPEC114n.txt SPEC281n.txt SPEC385n.txt SPEC483n.txt SPEC585n.txt SPEC682n.txt\n",
      "SPEC115n.txt SPEC282n.txt SPEC386n.txt SPEC484n.txt SPEC586n.txt SPEC683n.txt\n",
      "SPEC117n.txt SPEC283n.txt SPEC387n.txt SPEC488n.txt SPEC587n.txt SPEC684n.txt\n",
      "SPEC118n.txt SPEC284n.txt SPEC388n.txt SPEC489n.txt SPEC588n.txt SPEC685n.txt\n",
      "SPEC119n.txt SPEC286n.txt SPEC389n.txt SPEC490n.txt SPEC589n.txt SPEC686n.txt\n",
      "SPEC120n.txt SPEC287n.txt SPEC390n.txt SPEC492n.txt SPEC58n.txt  SPEC687n.txt\n",
      "SPEC121n.txt SPEC288n.txt SPEC391n.txt SPEC493n.txt SPEC590n.txt SPEC688n.txt\n",
      "SPEC123n.txt SPEC291n.txt SPEC392n.txt SPEC494n.txt SPEC591n.txt SPEC689n.txt\n",
      "SPEC125n.txt SPEC292n.txt SPEC393n.txt SPEC496n.txt SPEC593n.txt SPEC68n.txt\n",
      "SPEC126n.txt SPEC294n.txt SPEC394n.txt SPEC497n.txt SPEC594n.txt SPEC690n.txt\n",
      "SPEC127n.txt SPEC295n.txt SPEC395n.txt SPEC499n.txt SPEC595n.txt SPEC691n.txt\n",
      "SPEC128n.txt SPEC296n.txt SPEC396n.txt SPEC49n.txt  SPEC596n.txt SPEC692n.txt\n",
      "SPEC132n.txt SPEC297n.txt SPEC397n.txt SPEC500n.txt SPEC597n.txt SPEC693n.txt\n",
      "SPEC134n.txt SPEC298n.txt SPEC398n.txt SPEC501n.txt SPEC598n.txt SPEC694n.txt\n",
      "SPEC135n.txt SPEC2n.txt   SPEC399n.txt SPEC502n.txt SPEC599n.txt SPEC695n.txt\n",
      "SPEC137n.txt SPEC301n.txt SPEC3n.txt   SPEC503n.txt SPEC59n.txt  SPEC696n.txt\n",
      "SPEC138n.txt SPEC302n.txt SPEC400n.txt SPEC504n.txt SPEC600n.txt SPEC697n.txt\n",
      "SPEC13n.txt  SPEC303n.txt SPEC401n.txt SPEC505n.txt SPEC601n.txt SPEC698n.txt\n",
      "SPEC141n.txt SPEC304n.txt SPEC402n.txt SPEC506n.txt SPEC602n.txt SPEC699n.txt\n",
      "SPEC149n.txt SPEC305n.txt SPEC403n.txt SPEC507n.txt SPEC603n.txt SPEC69n.txt\n",
      "SPEC151n.txt SPEC306n.txt SPEC404n.txt SPEC508n.txt SPEC604n.txt SPEC6n.txt\n",
      "SPEC152n.txt SPEC307n.txt SPEC405n.txt SPEC509n.txt SPEC605n.txt SPEC700n.txt\n",
      "SPEC156n.txt SPEC308n.txt SPEC406n.txt SPEC510n.txt SPEC606n.txt SPEC701n.txt\n",
      "SPEC160n.txt SPEC309n.txt SPEC407n.txt SPEC511n.txt SPEC607n.txt SPEC702n.txt\n",
      "SPEC161n.txt SPEC30n.txt  SPEC408n.txt SPEC512n.txt SPEC608n.txt SPEC703n.txt\n",
      "SPEC164n.txt SPEC313n.txt SPEC409n.txt SPEC513n.txt SPEC609n.txt SPEC704n.txt\n",
      "SPEC171n.txt SPEC315n.txt SPEC410n.txt SPEC514n.txt SPEC610n.txt SPEC705n.txt\n",
      "SPEC178n.txt SPEC317n.txt SPEC411n.txt SPEC515n.txt SPEC611n.txt SPEC706n.txt\n",
      "SPEC179n.txt SPEC318n.txt SPEC412n.txt SPEC516n.txt SPEC612n.txt SPEC707n.txt\n",
      "SPEC181n.txt SPEC319n.txt SPEC413n.txt SPEC517n.txt SPEC613n.txt SPEC708n.txt\n",
      "SPEC182n.txt SPEC31n.txt  SPEC414n.txt SPEC518n.txt SPEC614n.txt SPEC709n.txt\n",
      "SPEC183n.txt SPEC321n.txt SPEC415n.txt SPEC519n.txt SPEC615n.txt SPEC70n.txt\n",
      "SPEC184n.txt SPEC322n.txt SPEC416n.txt SPEC51n.txt  SPEC617n.txt SPEC710n.txt\n",
      "SPEC185n.txt SPEC323n.txt SPEC417n.txt SPEC520n.txt SPEC618n.txt SPEC711n.txt\n",
      "SPEC186n.txt SPEC324n.txt SPEC418n.txt SPEC521n.txt SPEC61n.txt  SPEC712n.txt\n",
      "SPEC187n.txt SPEC325n.txt SPEC419n.txt SPEC522n.txt SPEC620n.txt SPEC713n.txt\n",
      "SPEC188n.txt SPEC326n.txt SPEC420n.txt SPEC523n.txt SPEC621n.txt SPEC714n.txt\n",
      "SPEC189n.txt SPEC327n.txt SPEC421n.txt SPEC524n.txt SPEC622n.txt SPEC715n.txt\n",
      "SPEC191n.txt SPEC328n.txt SPEC422n.txt SPEC525n.txt SPEC623n.txt SPEC716n.txt\n",
      "SPEC192n.txt SPEC329n.txt SPEC423n.txt SPEC526n.txt SPEC624n.txt SPEC717n.txt\n",
      "SPEC193n.txt SPEC32n.txt  SPEC424n.txt SPEC527n.txt SPEC625n.txt SPEC718n.txt\n",
      "SPEC194n.txt SPEC330n.txt SPEC425n.txt SPEC528n.txt SPEC626n.txt SPEC719n.txt\n",
      "SPEC195n.txt SPEC331n.txt SPEC426n.txt SPEC529n.txt SPEC627n.txt SPEC71n.txt\n",
      "SPEC196n.txt SPEC332n.txt SPEC427n.txt SPEC52n.txt  SPEC628n.txt SPEC720n.txt\n",
      "SPEC197n.txt SPEC333n.txt SPEC428n.txt SPEC530n.txt SPEC629n.txt SPEC721n.txt\n",
      "SPEC198n.txt SPEC334n.txt SPEC429n.txt SPEC531n.txt SPEC62n.txt  SPEC722n.txt\n",
      "SPEC19n.txt  SPEC335n.txt SPEC430n.txt SPEC532n.txt SPEC630n.txt SPEC723n.txt\n",
      "SPEC204n.txt SPEC336n.txt SPEC431n.txt SPEC533n.txt SPEC631n.txt SPEC724n.txt\n",
      "SPEC205n.txt SPEC337n.txt SPEC432n.txt SPEC534n.txt SPEC632n.txt SPEC725n.txt\n",
      "SPEC210n.txt SPEC338n.txt SPEC434n.txt SPEC535n.txt SPEC633n.txt SPEC726n.txt\n",
      "SPEC214n.txt SPEC339n.txt SPEC435n.txt SPEC536n.txt SPEC634n.txt SPEC727n.txt\n",
      "SPEC218n.txt SPEC33n.txt  SPEC436n.txt SPEC537n.txt SPEC635n.txt SPEC728n.txt\n",
      "SPEC21n.txt  SPEC340n.txt SPEC437n.txt SPEC539n.txt SPEC636n.txt SPEC729n.txt\n",
      "SPEC221n.txt SPEC341n.txt SPEC438n.txt SPEC53n.txt  SPEC637n.txt SPEC72n.txt\n",
      "SPEC222n.txt SPEC343n.txt SPEC439n.txt SPEC540n.txt SPEC638n.txt SPEC730n.txt\n",
      "SPEC223n.txt SPEC344n.txt SPEC440n.txt SPEC541n.txt SPEC639n.txt SPEC731n.txt\n",
      "SPEC226n.txt SPEC345n.txt SPEC441n.txt SPEC542n.txt SPEC640n.txt SPEC732n.txt\n",
      "SPEC227n.txt SPEC346n.txt SPEC442n.txt SPEC543n.txt SPEC641n.txt SPEC733n.txt\n",
      "SPEC231n.txt SPEC347n.txt SPEC443n.txt SPEC544n.txt SPEC642n.txt SPEC734n.txt\n",
      "SPEC233n.txt SPEC348n.txt SPEC444n.txt SPEC545n.txt SPEC643n.txt SPEC735n.txt\n",
      "SPEC234n.txt SPEC349n.txt SPEC445n.txt SPEC546n.txt SPEC644n.txt SPEC736n.txt\n",
      "SPEC235n.txt SPEC34n.txt  SPEC446n.txt SPEC547n.txt SPEC645n.txt SPEC737n.txt\n",
      "SPEC236n.txt SPEC350n.txt SPEC447n.txt SPEC548n.txt SPEC646n.txt SPEC738n.txt\n",
      "SPEC237n.txt SPEC351n.txt SPEC448n.txt SPEC549n.txt SPEC647n.txt SPEC73n.txt\n",
      "SPEC238n.txt SPEC352n.txt SPEC449n.txt SPEC550n.txt SPEC648n.txt SPEC75n.txt\n",
      "SPEC240n.txt SPEC353n.txt SPEC450n.txt SPEC551n.txt SPEC649n.txt SPEC76n.txt\n",
      "SPEC242n.txt SPEC354n.txt SPEC451n.txt SPEC552n.txt SPEC650n.txt SPEC77n.txt\n",
      "SPEC243n.txt SPEC355n.txt SPEC452n.txt SPEC553n.txt SPEC651n.txt SPEC79n.txt\n",
      "SPEC244n.txt SPEC356n.txt SPEC453n.txt SPEC554n.txt SPEC652n.txt SPEC80n.txt\n",
      "SPEC245n.txt SPEC357n.txt SPEC454n.txt SPEC556n.txt SPEC653n.txt SPEC82n.txt\n",
      "SPEC246n.txt SPEC358n.txt SPEC455n.txt SPEC557n.txt SPEC654n.txt SPEC83n.txt\n",
      "SPEC247n.txt SPEC359n.txt SPEC456n.txt SPEC558n.txt SPEC655n.txt SPEC84n.txt\n",
      "SPEC248n.txt SPEC35n.txt  SPEC457n.txt SPEC559n.txt SPEC656n.txt SPEC85n.txt\n",
      "SPEC249n.txt SPEC360n.txt SPEC458n.txt SPEC55n.txt  SPEC657n.txt SPEC86n.txt\n",
      "SPEC24n.txt  SPEC361n.txt SPEC459n.txt SPEC560n.txt SPEC658n.txt SPEC87n.txt\n",
      "SPEC250n.txt SPEC362n.txt SPEC45n.txt  SPEC561n.txt SPEC659n.txt SPEC88n.txt\n",
      "SPEC251n.txt SPEC363n.txt SPEC460n.txt SPEC562n.txt SPEC660n.txt SPEC89n.txt\n",
      "SPEC252n.txt SPEC364n.txt SPEC461n.txt SPEC563n.txt SPEC661n.txt SPEC8n.txt\n",
      "SPEC253n.txt SPEC365n.txt SPEC462n.txt SPEC564n.txt SPEC662n.txt SPEC90n.txt\n",
      "SPEC256n.txt SPEC366n.txt SPEC463n.txt SPEC565n.txt SPEC663n.txt SPEC91n.txt\n",
      "SPEC258n.txt SPEC367n.txt SPEC464n.txt SPEC566n.txt SPEC664n.txt SPEC93n.txt\n",
      "SPEC259n.txt SPEC368n.txt SPEC465n.txt SPEC567n.txt SPEC665n.txt SPEC94n.txt\n",
      "SPEC25n.txt  SPEC369n.txt SPEC466n.txt SPEC568n.txt SPEC666n.txt SPEC96n.txt\n",
      "SPEC260n.txt SPEC36n.txt  SPEC467n.txt SPEC569n.txt SPEC667n.txt SPEC97n.txt\n",
      "SPEC261n.txt SPEC370n.txt SPEC468n.txt SPEC570n.txt SPEC668n.txt SPEC9n.txt\n",
      "SPEC262n.txt SPEC371n.txt SPEC469n.txt SPEC571n.txt SPEC669n.txt\n",
      "SPEC264n.txt SPEC372n.txt SPEC470n.txt SPEC572n.txt SPEC66n.txt\n",
      "SPEC265n.txt SPEC373n.txt SPEC471n.txt SPEC573n.txt SPEC670n.txt\n",
      "SPEC266n.txt SPEC374n.txt SPEC472n.txt SPEC574n.txt SPEC671n.txt\n",
      "SPEC267n.txt SPEC375n.txt SPEC473n.txt SPEC575n.txt SPEC672n.txt\n"
     ]
    }
   ],
   "source": [
    "!ls /Volumes/Backup2020/MacOSX/GitHub/LSST/fors2/fors2/seds"
   ]
  },
  {
   "cell_type": "code",
   "execution_count": 27,
   "id": "33ac7814-cfe2-48f1-81f4-a0fd222798e1",
   "metadata": {},
   "outputs": [],
   "source": [
    "#print(list_of_spectra)"
   ]
  },
  {
   "cell_type": "code",
   "execution_count": 28,
   "id": "9f10b11d-55e5-4e05-a4f8-955b5b686515",
   "metadata": {},
   "outputs": [],
   "source": [
    "spectra_numbers1 = sorted([int(re.findall('^SPEC(.*)$',spec)[0]) for spec in list_of_spectra ])"
   ]
  },
  {
   "cell_type": "code",
   "execution_count": 29,
   "id": "28896a8d-de1c-41b4-be55-68caea992565",
   "metadata": {},
   "outputs": [],
   "source": [
    "list_sedrestframefilenames_jct = os.listdir(path_out_jct)"
   ]
  },
  {
   "cell_type": "code",
   "execution_count": 30,
   "id": "b2b1ecc7-e8c2-479b-b316-9f859a88539a",
   "metadata": {},
   "outputs": [],
   "source": [
    "spectra_numbers2 = sorted([int(re.findall('^SPEC(.*)[.]txt$',fname)[0]) for fname in list_sedrestframefilenames_jct ])"
   ]
  },
  {
   "cell_type": "markdown",
   "id": "03cfabca-c2f4-4a8f-b59a-6bf9187032e5",
   "metadata": {},
   "source": [
    "### Check the consistency of both lists"
   ]
  },
  {
   "cell_type": "code",
   "execution_count": 31,
   "id": "ab58dcff-57bc-40d4-9718-7debbe959ffa",
   "metadata": {},
   "outputs": [
    {
     "data": {
      "text/plain": [
       "True"
      ]
     },
     "execution_count": 31,
     "metadata": {},
     "output_type": "execute_result"
    }
   ],
   "source": [
    "spectra_numbers1 == spectra_numbers2"
   ]
  },
  {
   "cell_type": "markdown",
   "id": "8a5dd96c-cf4e-492e-b704-272ccf51d7f4",
   "metadata": {},
   "source": [
    "### another long way to check the consistency of both lists"
   ]
  },
  {
   "cell_type": "code",
   "execution_count": 32,
   "id": "d27078b5-6f59-4d5b-b9ec-4cacdd432298",
   "metadata": {},
   "outputs": [],
   "source": [
    "for thespecfilename in list_sedrestframefilenames_jct:\n",
    "    cut0 = str(thespecfilename.split(\".\")[0])\n",
    "    rcut = r\"{cut0}\"\n",
    "    if rcut in list_of_spectra:\n",
    "        print(f\" BAD : filename {thespecfilename} : {cut0} not found in list_of_spectra\") \n",
    "    else:\n",
    "        #print(f\" GOOD : filename {thespecfilename} : {cut0} found in list_of_spectra\") \n",
    "        pass"
   ]
  },
  {
   "cell_type": "code",
   "execution_count": 33,
   "id": "cfae2b4e-bdd2-43b4-8ed2-e06c7a62365d",
   "metadata": {},
   "outputs": [],
   "source": [
    "for specbase in list_of_spectra:\n",
    "    flag_found=False\n",
    "    for fname in list_sedrestframefilenames_jct:\n",
    "        cut0 = str(fname.split(\".\")[0])\n",
    "        #rcut = r\"{cut0}\"\n",
    "        if specbase == cut0:\n",
    "            flag_found = True\n",
    "            break\n",
    "    if not flag_found:\n",
    "        print(f\" BAD : {specbase} :  not found in list_sedrestframefilenames_jct\")      "
   ]
  },
  {
   "cell_type": "markdown",
   "id": "4ecb2ba9-a6b1-4b96-bc4a-cd8d61c8a0e4",
   "metadata": {},
   "source": [
    "# Compare the SL spectra with the restframe spectra"
   ]
  },
  {
   "cell_type": "code",
   "execution_count": 34,
   "id": "8a220f0e-23d4-4dec-b831-54cbdfdb596a",
   "metadata": {},
   "outputs": [
    {
     "data": {
      "text/html": [
       "<div><i>Table length=1</i>\n",
       "<table id=\"table140309619439504\" class=\"table-striped table-bordered table-condensed\">\n",
       "<thead><tr><th>ID</th><th>m_ID</th><th>RAJ2000</th><th>DEJ2000</th><th>z</th><th>u_z</th><th>Rmag</th><th>RV</th><th>e_RV</th><th>RT</th><th>Nsp</th><th>Lines</th></tr></thead>\n",
       "<thead><tr><th></th><th></th><th>deg</th><th>deg</th><th></th><th></th><th>mag</th><th>km / s</th><th>km / s</th><th></th><th></th><th></th></tr></thead>\n",
       "<thead><tr><th>int16</th><th>bytes1</th><th>float64</th><th>float64</th><th>float64</th><th>bytes1</th><th>float64</th><th>int32</th><th>int16</th><th>float64</th><th>int16</th><th>bytes77</th></tr></thead>\n",
       "<tr><td>2</td><td></td><td>13.52997</td><td>-28.44776</td><td>0.34555</td><td></td><td>21.18</td><td>103665</td><td>40</td><td>12.3</td><td>1</td><td>K,H,G,H{beta}</td></tr>\n",
       "</table></div>"
      ],
      "text/plain": [
       "<Table length=1>\n",
       "  ID   m_ID  RAJ2000  ...    RT    Nsp                                      Lines                                    \n",
       "               deg    ...                                                                                            \n",
       "int16 bytes1 float64  ... float64 int16                                    bytes77                                   \n",
       "----- ------ -------- ... ------- ----- -----------------------------------------------------------------------------\n",
       "    2        13.52997 ...    12.3     1 K,H,G,H{beta}                                                               "
      ]
     },
     "execution_count": 34,
     "metadata": {},
     "output_type": "execute_result"
    }
   ],
   "source": [
    "t[t[\"ID\"] == 2]"
   ]
  },
  {
   "cell_type": "code",
   "execution_count": 35,
   "id": "a1ad2a52-b04e-4309-ac73-f3297de19cbf",
   "metadata": {},
   "outputs": [],
   "source": [
    "for specnum in [160]:\n",
    "    filename = f\"SPEC{specnum}.txt\"\n",
    "    filename2 = f\"SPEC{specnum}_HZ4_BC.txt\"\n",
    "    filetag = f\"SPEC{specnum}\"\n",
    "    flag_sel = t[\"ID\"] == specnum \n",
    "    trow = t[flag_sel]\n",
    "    redshift=trow[\"z\"]\n",
    "    lines=trow[\"Lines\"]\n",
    "    ra = trow[\"RAJ2000\"]\n",
    "    dec= trow[\"DEJ2000\"]\n",
    "    the_sed = SED(os.path.join(path_out_jct,filename))\n",
    "    the_sed2= SED(os.path.join(path_BC,filename2))\n",
    "    \n",
    "    break\n",
    "    \n",
    "   "
   ]
  },
  {
   "cell_type": "code",
   "execution_count": 36,
   "id": "b7aca2a8-ff20-4b95-b030-72271861da67",
   "metadata": {},
   "outputs": [
    {
     "data": {
      "text/plain": [
       "[<matplotlib.lines.Line2D at 0x7f9c60c55640>]"
      ]
     },
     "execution_count": 36,
     "metadata": {},
     "output_type": "execute_result"
    },
    {
     "data": {
      "image/png": "[encoded data removed]",
      "text/plain": [
       "<Figure size 800x400 with 1 Axes>"
      ]
     },
     "metadata": {},
     "output_type": "display_data"
    }
   ],
   "source": [
    "plt.plot(the_sed.wave,the_sed.flux)"
   ]
  },
  {
   "cell_type": "code",
   "execution_count": 37,
   "id": "a8cb0f12-dae4-4e63-9c09-9f2e1763c6d0",
   "metadata": {},
   "outputs": [
    {
     "data": {
      "image/png": "[encoded data removed]",
      "text/plain": [
       "<Figure size 800x400 with 1 Axes>"
      ]
     },
     "metadata": {},
     "output_type": "display_data"
    }
   ],
   "source": [
    "#plt.plot(arr[:,0],arr[:,1])\n",
    "plt.plot(the_sed2.wave,the_sed2.flux)\n",
    "#plt.xlim(arr[:,0].min(),arr[:,0].max())\n",
    "filetag\n",
    "plt.yscale(\"log\")"
   ]
  },
  {
   "cell_type": "code",
   "execution_count": 38,
   "id": "295fc21f-6943-4d4b-997d-3b56d6c59e14",
   "metadata": {},
   "outputs": [
    {
     "data": {
      "text/plain": [
       "'SPEC160.txt'"
      ]
     },
     "execution_count": 38,
     "metadata": {},
     "output_type": "execute_result"
    }
   ],
   "source": [
    "filename"
   ]
  },
  {
   "cell_type": "code",
   "execution_count": 39,
   "id": "d789923f-4909-49bf-af98-6934e84e35a4",
   "metadata": {},
   "outputs": [
    {
     "ename": "NameError",
     "evalue": "name 'i_tmp' is not defined",
     "output_type": "error",
     "traceback": [
      "\u001b[0;31m---------------------------------------------------------------------------\u001b[0m",
      "\u001b[0;31mNameError\u001b[0m                                 Traceback (most recent call last)",
      "\u001b[0;32m/var/folders/cq/vms8st5136z3q5xx4rd9xqfr0000gw/T/ipykernel_9262/1837229851.py\u001b[0m in \u001b[0;36m<module>\u001b[0;34m\u001b[0m\n\u001b[0;32m----> 1\u001b[0;31m \u001b[0mname_file\u001b[0m\u001b[0;34m=\u001b[0m\u001b[0mi_tmp\u001b[0m\u001b[0;34m+\u001b[0m\u001b[0mext\u001b[0m\u001b[0;34m+\u001b[0m\u001b[0;34m'_BC.txt'\u001b[0m \u001b[0;31m# BC spectra sans extinction\u001b[0m\u001b[0;34m\u001b[0m\u001b[0;34m\u001b[0m\u001b[0m\n\u001b[0m\u001b[1;32m      2\u001b[0m \u001b[0mspec\u001b[0m\u001b[0;34m=\u001b[0m\u001b[0mSED\u001b[0m\u001b[0;34m(\u001b[0m\u001b[0mpath_BC\u001b[0m\u001b[0;34m+\u001b[0m\u001b[0mname_file\u001b[0m\u001b[0;34m)\u001b[0m\u001b[0;34m\u001b[0m\u001b[0;34m\u001b[0m\u001b[0m\n",
      "\u001b[0;31mNameError\u001b[0m: name 'i_tmp' is not defined"
     ]
    }
   ],
   "source": [
    "    name_file=i_tmp+ext+'_BC.txt' # BC spectra sans extinction\n",
    "    spec=SED(path_BC+name_file)"
   ]
  }
 ],
 "metadata": {
  "kernelspec": {
   "display_name": "Python 3 (ipykernel)",
   "language": "python",
   "name": "python3"
  },
  "language_info": {
   "codemirror_mode": {
    "name": "ipython",
    "version": 3
   },
   "file_extension": ".py",
   "mimetype": "text/x-python",
   "name": "python",
   "nbconvert_exporter": "python",
   "pygments_lexer": "ipython3",
   "version": "3.10.13"
  }
 },
 "nbformat": 4,
 "nbformat_minor": 5
}
