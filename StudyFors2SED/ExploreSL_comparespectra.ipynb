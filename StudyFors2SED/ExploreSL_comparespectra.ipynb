{
 "cells": [
  {
   "cell_type": "markdown",
   "id": "316c4ba5",
   "metadata": {},
   "source": [
    "# View SL , View spectra one by one\n",
    "\n",
    "- **Part 1**\n",
    "- author : Sylvie Dagoret-Campagne\n",
    "- affiliation : IJCLab/IN2P3/CNRS\n",
    "- creation date : 2022/12/23\n",
    "- last update : 2023/03/20\n",
    "- update : 2023/09/27 @CC kernel conda_prospector_py310 \n",
    "- FORS2 : https://github.com/ericnuss/fors2\n",
    "- Result of StarLight : /sps/lsst/groups/photoz/fors2/FORS2/ResStarlight\n",
    "\n",
    "\n",
    "\n",
    "          /Users/dagoret/MacOSX/GitHub/LSST/FORS2>ls -l\n",
    "              total 0\n",
    "              drwxrwsr-x  3 dagoret  staff   96 Aug 21  2018 ResStarlight\n",
    "              drwxr-xr-x  9 dagoret  staff  288 Dec 19 18:01 fors2"
   ]
  },
  {
   "cell_type": "markdown",
   "id": "c7d7e344",
   "metadata": {},
   "source": [
    "## Import"
   ]
  },
  {
   "cell_type": "code",
   "execution_count": null,
   "id": "e485fec8",
   "metadata": {},
   "outputs": [],
   "source": [
    "import os,sys,re\n",
    "from astropy.io import fits\n",
    "from astropy.table import Table"
   ]
  },
  {
   "cell_type": "code",
   "execution_count": null,
   "id": "b271dcb5",
   "metadata": {},
   "outputs": [],
   "source": [
    "# Import some generally useful packages\n",
    "\n",
    "import os\n",
    "import numpy as np\n",
    "import matplotlib.pyplot as plt\n",
    "import matplotlib.colors as colors\n",
    "import matplotlib.cm as cmx\n",
    "\n",
    "from matplotlib.backends.backend_pdf import PdfPages\n",
    "\n",
    "%matplotlib inline\n",
    "import pandas as pd\n",
    "from itertools import cycle, islice\n"
   ]
  },
  {
   "cell_type": "code",
   "execution_count": null,
   "id": "f6689d40-c574-471c-b9d6-996002aa4e76",
   "metadata": {},
   "outputs": [],
   "source": [
    "from scipy import ndimage\n",
    "\n",
    "#from scipy import interp as scinterp\n",
    "from scipy.interpolate import interp1d\n",
    "\n",
    "import glob\n",
    "import collections\n",
    "#from def_raw_seds import *"
   ]
  },
  {
   "cell_type": "code",
   "execution_count": null,
   "id": "413f1e89",
   "metadata": {},
   "outputs": [],
   "source": [
    "# to enlarge the sizes\n",
    "params = {'legend.fontsize': 'large',\n",
    "          'figure.figsize': (8, 4),\n",
    "         'axes.labelsize': 'xx-large',\n",
    "         'axes.titlesize':'xx-large',\n",
    "         'xtick.labelsize':'xx-large',\n",
    "         'ytick.labelsize':'xx-large'}\n",
    "plt.rcParams.update(params)"
   ]
  },
  {
   "cell_type": "code",
   "execution_count": null,
   "id": "c1e22fcc",
   "metadata": {},
   "outputs": [],
   "source": [
    "import matplotlib.offsetbox\n",
    "props = dict(boxstyle='round',edgecolor=\"w\",facecolor=\"w\", alpha=0.5)"
   ]
  },
  {
   "cell_type": "code",
   "execution_count": null,
   "id": "b7e9a578-1bb2-4e32-b88f-a69914949eca",
   "metadata": {},
   "outputs": [],
   "source": [
    "from def_raw_seds import *"
   ]
  },
  {
   "cell_type": "code",
   "execution_count": null,
   "id": "93d5eb5c-6c03-45fe-9795-17e8ed32d0d7",
   "metadata": {},
   "outputs": [],
   "source": [
    "from raw_data_analysis import *"
   ]
  },
  {
   "cell_type": "code",
   "execution_count": null,
   "id": "efbeb2ca-5324-4f3d-8889-c163a0633f67",
   "metadata": {},
   "outputs": [],
   "source": [
    "from spectroscopy import *"
   ]
  },
  {
   "cell_type": "code",
   "execution_count": null,
   "id": "7ce825ef",
   "metadata": {},
   "outputs": [],
   "source": [
    "# Import the primary photometry classes from rubin_sim.photUtils\n",
    "\n",
    "#import rubin_sim.phot_Utils.Bandpass as Bandpass\n",
    "#import rubin_sim.phot_Utils.Sed as Sed\n",
    "#from rubin_sim.data import get_data_dir"
   ]
  },
  {
   "cell_type": "code",
   "execution_count": null,
   "id": "a20e3234",
   "metadata": {},
   "outputs": [],
   "source": [
    "#pysynphot_root_path=os.environ['PYSYN_CDBS']\n",
    "#path_sed_calspec=os.path.join(pysynphot_root_path,'calspec')\n",
    "# pysynphot\n",
    "#import pysynphot as S\n",
    "#S.refs.setref(area=1)\n",
    "#S.refs.getref()"
   ]
  },
  {
   "cell_type": "markdown",
   "id": "a4d93f7b",
   "metadata": {},
   "source": [
    "## Configuration"
   ]
  },
  {
   "cell_type": "markdown",
   "id": "166b2775",
   "metadata": {},
   "source": [
    "### SL"
   ]
  },
  {
   "cell_type": "markdown",
   "id": "420390a8-8384-49a5-9a8b-a16888600007",
   "metadata": {},
   "source": [
    "## Start"
   ]
  },
  {
   "cell_type": "markdown",
   "id": "7f6b5b89-440f-4d2d-87d6-9eb190e215bd",
   "metadata": {},
   "source": [
    "### Catalog"
   ]
  },
  {
   "cell_type": "code",
   "execution_count": null,
   "id": "0d1c76e0-51f7-47f0-9fc8-70f426930afd",
   "metadata": {},
   "outputs": [],
   "source": [
    "t = Table.read(filename_fits_catalog)"
   ]
  },
  {
   "cell_type": "code",
   "execution_count": null,
   "id": "2ee70902-b8ad-4407-9314-25ff3d8b2f77",
   "metadata": {},
   "outputs": [],
   "source": [
    "t"
   ]
  },
  {
   "cell_type": "markdown",
   "id": "ddbbab8c-201b-4c18-bbb6-2f9fd41878e7",
   "metadata": {},
   "source": [
    "### List"
   ]
  },
  {
   "cell_type": "code",
   "execution_count": null,
   "id": "ac4aea36-58e8-4517-9238-e479b6cded17",
   "metadata": {},
   "outputs": [],
   "source": [
    "lst=fors2_jct_SL() #remet les spectres dans le rest frame (ie a z=0)"
   ]
  },
  {
   "cell_type": "code",
   "execution_count": null,
   "id": "b6131f77-e460-4130-8706-712cf21d75f4",
   "metadata": {},
   "outputs": [],
   "source": [
    "lst = sorted(lst)\n",
    "print(lst)"
   ]
  },
  {
   "cell_type": "code",
   "execution_count": null,
   "id": "7d4697ce-d505-447f-a835-63488402bdf7",
   "metadata": {},
   "outputs": [],
   "source": [
    "all_specfilenames = os.listdir(path_BC)"
   ]
  },
  {
   "cell_type": "code",
   "execution_count": null,
   "id": "f02923c6-2519-43b9-8b99-1be525af9ff9",
   "metadata": {},
   "outputs": [],
   "source": [
    "all_specfilenames = sorted(all_specfilenames)"
   ]
  },
  {
   "cell_type": "code",
   "execution_count": null,
   "id": "6860eece-a67f-4db1-a648-6c0a4756c995",
   "metadata": {},
   "outputs": [],
   "source": [
    "all_numbers = [ int(re.findall('^SPEC(.*)_HZ4_BC[.]txt$',fn)[0]) for fn in all_specfilenames ]"
   ]
  },
  {
   "cell_type": "code",
   "execution_count": null,
   "id": "afca10c0-3271-44d6-b0a3-7a62cc087d8c",
   "metadata": {},
   "outputs": [],
   "source": [
    "all_numbers = sorted(all_numbers)"
   ]
  },
  {
   "cell_type": "code",
   "execution_count": null,
   "id": "a4accc9c-9848-40e6-b5ae-a2af990c15df",
   "metadata": {},
   "outputs": [],
   "source": [
    "NSED = len(all_numbers)\n",
    "# wavelength bin colors\n",
    "jet = plt.get_cmap('jet')\n",
    "cNorm = colors.Normalize(vmin=0, vmax=NSED)\n",
    "scalarMap = cmx.ScalarMappable(norm=cNorm, cmap=jet)\n",
    "all_colors = scalarMap.to_rgba(np.arange(NSED), alpha=1)"
   ]
  },
  {
   "cell_type": "code",
   "execution_count": null,
   "id": "6a463bfd-808e-47a6-95ce-7cecf2e53e0e",
   "metadata": {},
   "outputs": [],
   "source": [
    "cut = t[\"ID\"] == 3\n",
    "t[cut]"
   ]
  },
  {
   "cell_type": "code",
   "execution_count": null,
   "id": "5123e51b-ed36-4d83-96a4-b83deedb1859",
   "metadata": {},
   "outputs": [],
   "source": [
    "all_spectra = []\n",
    "all_wl = []\n",
    "all_tag = []\n",
    "all_sed = []\n",
    "\n",
    "for the_num in all_numbers:\n",
    "    tcut = t[\"ID\"] == the_num\n",
    "    redshift = t[tcut][\"z\"].value[0]\n",
    "    lines = t[tcut][\"Lines\"].value[0]\n",
    "    filename = f\"SPEC{the_num}_HZ4_BC.txt\"\n",
    "    tag = f\"SPEC{the_num} , z={redshift:.2f}, lines={lines}\"\n",
    "    fullfilename = os.path.join(path_BC,filename)\n",
    "    the_sed=SED(fullfilename,label=tag)\n",
    "    all_sed.append(the_sed)\n",
    "    arr = np.loadtxt(fullfilename)\n",
    "    all_wl.append(arr[:,0])\n",
    "    all_spectra.append(arr[:,1])\n",
    "    all_tag.append(tag)\n",
    " "
   ]
  },
  {
   "cell_type": "code",
   "execution_count": null,
   "id": "6e35a41f-09af-426c-b460-62c7d435b91d",
   "metadata": {},
   "outputs": [],
   "source": [
    "#plt.figure(figsize=(16,20))\n",
    "for idx in range(NSED):\n",
    "    plt.figure(figsize=(16,2))\n",
    "    plt.plot(all_wl[idx],all_spectra[idx], color=all_colors[idx],label=all_tag[idx])\n",
    "    plt.legend(loc=\"upper right\")\n",
    "    plt.grid()\n",
    "    plt.axvline(4150,color=\"k\")\n",
    "    plt.axvline(4250,color=\"k\")\n",
    "    plt.ylim(-0.02,0.4)\n",
    "    plt.xlim(0.,10000.)\n",
    "    plt.show()\n"
   ]
  },
  {
   "cell_type": "code",
   "execution_count": null,
   "id": "1950b81c-f450-4935-9746-dd74441d4b66",
   "metadata": {},
   "outputs": [],
   "source": [
    "for index, the_sed in enumerate(all_sed):\n",
    "    plt.figure(figsize=(16,2))\n",
    "    \n",
    "    the_label=the_sed.label\n",
    "    \n",
    "        \n",
    "    plt.plot(the_sed.wave,the_sed.flux, color=all_colors[index],label=the_label)\n",
    "    plt.legend(loc=\"upper right\")\n",
    "    plt.grid()\n",
    "    plt.axvline(4150,color=\"k\")\n",
    "    plt.axvline(4250,color=\"k\")\n",
    "    #plt.ylim(-0.02,0.4)\n",
    "    plt.xlim(0.,10000.)\n",
    "    plt.show()"
   ]
  },
  {
   "cell_type": "code",
   "execution_count": null,
   "id": "78f6d792-a3dc-43da-955b-42c31bc01951",
   "metadata": {},
   "outputs": [],
   "source": []
  }
 ],
 "metadata": {
  "kernelspec": {
   "display_name": "conda_prospector_py310",
   "language": "python",
   "name": "conda_prospector_py310"
  },
  "language_info": {
   "codemirror_mode": {
    "name": "ipython",
    "version": 3
   },
   "file_extension": ".py",
   "mimetype": "text/x-python",
   "name": "python",
   "nbconvert_exporter": "python",
   "pygments_lexer": "ipython3",
   "version": "3.10.0"
  },
  "toc": {
   "base_numbering": 1,
   "nav_menu": {},
   "number_sections": true,
   "sideBar": true,
   "skip_h1_title": false,
   "title_cell": "Table of Contents",
   "title_sidebar": "Contents",
   "toc_cell": false,
   "toc_position": {},
   "toc_section_display": true,
   "toc_window_display": false
  }
 },
 "nbformat": 4,
 "nbformat_minor": 5
}
