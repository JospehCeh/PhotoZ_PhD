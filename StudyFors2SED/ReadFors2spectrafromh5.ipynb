{
 "cells": [
  {
   "cell_type": "markdown",
   "id": "9a766737-e3c5-4ad2-af49-2e035ae37c44",
   "metadata": {},
   "source": [
    "# read  unredshifted Fors2 spectra from H5 file\n",
    "\n",
    "- author : Sylvie Dagoret-Campagne\n",
    "- affiliation : IJCLab/IN2P3/CNRS\n",
    "- creation date : 2023/05/23\n",
    "- last update : 2023/05/23\n",
    "- FORS2 : https://github.com/ericnuss/fors2\n",
    "\n",
    "\n",
    "- MUST RUN *convertFors2spectratohdf5.ipynb* before"
   ]
  },
  {
   "cell_type": "markdown",
   "id": "de687972-680a-4cc8-85e4-eb7a14bafddb",
   "metadata": {},
   "source": [
    "# Import"
   ]
  },
  {
   "cell_type": "code",
   "execution_count": null,
   "id": "e7f4f951-41ed-49d4-b3c9-75889329b29b",
   "metadata": {},
   "outputs": [],
   "source": [
    "import os,sys,re\n",
    "import h5py\n",
    "from astropy.table import Table\n",
    "import random"
   ]
  },
  {
   "cell_type": "code",
   "execution_count": null,
   "id": "9d1c322a-a832-4d6a-8257-afc3c2b6e3fa",
   "metadata": {},
   "outputs": [],
   "source": [
    "# Import some generally useful packages\n",
    "\n",
    "import os\n",
    "import numpy as np\n",
    "import matplotlib.pyplot as plt\n",
    "import matplotlib.colors as colors\n",
    "import matplotlib.cm as cmx\n",
    "\n",
    "from matplotlib.backends.backend_pdf import PdfPages\n",
    "\n",
    "%matplotlib inline\n",
    "import pandas as pd\n",
    "from itertools import cycle, islice"
   ]
  },
  {
   "cell_type": "code",
   "execution_count": null,
   "id": "ef50055f-8e91-4660-b598-97e7bfcfce08",
   "metadata": {},
   "outputs": [],
   "source": [
    "from scipy import ndimage\n",
    "\n",
    "#from scipy import interp as scinterp\n",
    "from scipy.interpolate import interp1d\n",
    "\n",
    "import glob\n",
    "import collections\n",
    "#from def_raw_seds import *"
   ]
  },
  {
   "cell_type": "code",
   "execution_count": null,
   "id": "94cebe1d-b27d-44b6-956f-6d711b7b357c",
   "metadata": {},
   "outputs": [],
   "source": [
    "# to enlarge the sizes\n",
    "params = {'legend.fontsize': 'large',\n",
    "          'figure.figsize': (4, 4),\n",
    "         'axes.labelsize': 'xx-large',\n",
    "         'axes.titlesize':'xx-large',\n",
    "         'xtick.labelsize':'xx-large',\n",
    "         'ytick.labelsize':'xx-large'}\n",
    "plt.rcParams.update(params)"
   ]
  },
  {
   "cell_type": "code",
   "execution_count": null,
   "id": "cc311d1a-e15b-4af8-a79a-221e4c90ea65",
   "metadata": {
    "tags": []
   },
   "outputs": [],
   "source": [
    "from GalaxyLineDict import build_emissionlinesdict"
   ]
  },
  {
   "cell_type": "code",
   "execution_count": null,
   "id": "01688c07-bc6a-4c0e-9db1-1fcecc1b5ee8",
   "metadata": {
    "tags": []
   },
   "outputs": [],
   "source": [
    "def plot_line(ax,line_name):\n",
    "    \n",
    "    #keys = lines_to_plot.keys()\n",
    "    #for the_key in keys:\n",
    "    #    if the_key in line_name:\n",
    "    #        print(\"the_key=\",the_key,\" line_name=\",line_name)\n",
    "    #        line_name=the_key\n",
    "    #        break\n",
    "            \n",
    "    posx0=0.0\n",
    "    posy0=0.05\n",
    "    fontsize=12\n",
    "    the_color = {\"emission\":'r',\"absorption\":\"g\",\"break\":\"purple\"}\n",
    "    the_line_to_plot = lines_to_plot[line_name]\n",
    "    wls = the_line_to_plot[\"wls\"]\n",
    "    tag = the_line_to_plot[\"name\"]\n",
    "    typ = the_line_to_plot[\"type\"]\n",
    "    \n",
    "    xlim = ax.get_xlim()\n",
    "    for wl in wls:\n",
    "        ax.axvline(wl, lw=2, color=the_color[typ])\n",
    "        xpos = (wl - xlim[0]) / (xlim[1] - xlim[0])+posx0 \n",
    "        if 0 < xpos < 1:\n",
    "            ax.annotate(tag, xy=(xpos, posy0), rotation=0, ha='left', va='bottom',\n",
    "                            xycoords='axes fraction', color=the_color[typ], fontsize=fontsize)\n",
    "    return ax"
   ]
  },
  {
   "cell_type": "code",
   "execution_count": null,
   "id": "4ecd2012-19dd-4b0c-8ae2-c4be555f70b1",
   "metadata": {
    "tags": []
   },
   "outputs": [],
   "source": [
    "lines_to_plot=build_emissionlinesdict()"
   ]
  },
  {
   "cell_type": "markdown",
   "id": "7c5efde5-31a1-4b9e-b1ea-1b5e1f83f66a",
   "metadata": {},
   "source": [
    "# Config"
   ]
  },
  {
   "cell_type": "code",
   "execution_count": null,
   "id": "ac387892-8432-485b-89db-19a5f62ee949",
   "metadata": {},
   "outputs": [],
   "source": [
    "input_file_h5  = 'FORS2spectra.hdf5'"
   ]
  },
  {
   "cell_type": "code",
   "execution_count": null,
   "id": "e69b5a05-88ec-4e22-80e9-e579868e4933",
   "metadata": {},
   "outputs": [],
   "source": [
    "hf =  h5py.File(input_file_h5, 'r') \n",
    "list_of_keys = list(hf.keys())"
   ]
  },
  {
   "cell_type": "code",
   "execution_count": null,
   "id": "b7cdb9a4-fa51-439e-b11b-c8305667c098",
   "metadata": {},
   "outputs": [],
   "source": [
    "print(list_of_keys)"
   ]
  },
  {
   "cell_type": "code",
   "execution_count": null,
   "id": "fd1e6e79-70f7-4ad9-bd4b-9930b10292a3",
   "metadata": {},
   "outputs": [],
   "source": [
    "# pick one key    \n",
    "key_sel =  list_of_keys[0]\n",
    "# pick one group\n",
    "group = hf.get(key_sel)  "
   ]
  },
  {
   "cell_type": "code",
   "execution_count": null,
   "id": "5bc22636-d0aa-438b-8276-b7398218b0e4",
   "metadata": {},
   "outputs": [],
   "source": [
    "#pickup all attribute names\n",
    "all_subgroup_keys = []\n",
    "for k in group.attrs.keys():\n",
    "    all_subgroup_keys.append(k)"
   ]
  },
  {
   "cell_type": "code",
   "execution_count": null,
   "id": "3cc0b450-a1c0-4a77-abc6-303355c16bf9",
   "metadata": {},
   "outputs": [],
   "source": [
    "all_subgroup_keys"
   ]
  },
  {
   "cell_type": "code",
   "execution_count": null,
   "id": "9013b6a5-d77f-47b6-a8be-192e0ad4deb5",
   "metadata": {},
   "outputs": [],
   "source": [
    "def GetColumnHfData(hff,list_of_keys,nameval):\n",
    "    \"\"\"\n",
    "    Extract hff atttribute \n",
    "    \n",
    "    parameters\n",
    "      hff           : descriptor of h5 file\n",
    "      list_of_keys : list of exposures\n",
    "      nameval      : name of the attribute\n",
    "      \n",
    "    return\n",
    "           the array of values in the order of \n",
    "    \"\"\"\n",
    "    \n",
    "\n",
    "    all_data = []\n",
    "    for key in list_of_keys:\n",
    "        group=hff.get(key)\n",
    "        val=group.attrs[nameval]\n",
    "        all_data.append(val)\n",
    "    return all_data\n"
   ]
  },
  {
   "cell_type": "code",
   "execution_count": null,
   "id": "748fef1e-d4bf-4d80-90eb-02735bfc0e28",
   "metadata": {},
   "outputs": [],
   "source": [
    "# create info\n",
    "df_info = pd.DataFrame()\n",
    "for key in all_subgroup_keys:\n",
    "    arr=GetColumnHfData(hf, list_of_keys ,key)\n",
    "    df_info[key] = arr"
   ]
  },
  {
   "cell_type": "code",
   "execution_count": null,
   "id": "780a76af-0450-4cb7-8242-a42c1c4b56a0",
   "metadata": {},
   "outputs": [],
   "source": [
    "df_info.sort_values(by=\"num\", ascending=True,inplace=True)"
   ]
  },
  {
   "cell_type": "code",
   "execution_count": null,
   "id": "98032c70-f49d-46df-9288-32aec6a28071",
   "metadata": {},
   "outputs": [],
   "source": [
    "df_info_num = df_info[\"num\"].values"
   ]
  },
  {
   "cell_type": "code",
   "execution_count": null,
   "id": "89dc2fcf-42e1-4ee5-a0d1-3696fd080a30",
   "metadata": {},
   "outputs": [],
   "source": [
    "key_tags = [ f\"SPEC{num}\" for num in df_info_num ]"
   ]
  },
  {
   "cell_type": "code",
   "execution_count": null,
   "id": "07d7a11f-59da-4a55-a82e-c49f4d626ba7",
   "metadata": {},
   "outputs": [],
   "source": [
    "all_df = []  \n",
    "    \n",
    "idx=0\n",
    "for key in key_tags :\n",
    "        \n",
    "    group = hf.get(key)\n",
    "               \n",
    "    df = pd.DataFrame()\n",
    "    \n",
    "        \n",
    "    df[\"wl\"] = np.array(group.get(\"wl\"))\n",
    "    df[\"fl\"] = np.array(group.get(\"fl\")) \n",
    " \n",
    "    all_df.append(df)\n",
    "        \n",
    "    idx+=1"
   ]
  },
  {
   "cell_type": "code",
   "execution_count": null,
   "id": "dba1b201-fc4e-4b31-912f-f33fa5bfb908",
   "metadata": {},
   "outputs": [],
   "source": []
  },
  {
   "cell_type": "code",
   "execution_count": null,
   "id": "f3fea297-b824-4780-85e4-03e181dcc899",
   "metadata": {},
   "outputs": [],
   "source": [
    "N = len(all_df)\n",
    "fig = plt.figure(figsize=(10,6))\n",
    "ax=fig.add_subplot(1,1,1)\n",
    "for idx in range(N):\n",
    "    ax.plot(all_df[idx][\"wl\"], all_df[idx][\"fl\"])\n",
    "ax.set_ylim(0,30)    "
   ]
  },
  {
   "cell_type": "code",
   "execution_count": null,
   "id": "45bfca27-6f8a-4493-a7f4-69d1bee4dc64",
   "metadata": {},
   "outputs": [],
   "source": [
    "fig = plt.figure(figsize=(10,6))\n",
    "ax=fig.add_subplot(1,1,1)\n",
    "ax.plot(all_df[0][\"wl\"], all_df[0][\"fl\"])"
   ]
  },
  {
   "cell_type": "code",
   "execution_count": null,
   "id": "0ae526d4-63b9-4b7c-a60c-ac04a15b9323",
   "metadata": {
    "tags": []
   },
   "outputs": [],
   "source": [
    "df_info"
   ]
  },
  {
   "cell_type": "code",
   "execution_count": null,
   "id": "b0e2cb1b-4e37-484d-ab65-550c682fa448",
   "metadata": {
    "tags": []
   },
   "outputs": [],
   "source": [
    "NSED = len(df_info)\n",
    "\n",
    "# wavelength bin colors\n",
    "jet = plt.get_cmap('jet')\n",
    "cNorm = colors.Normalize(vmin=0, vmax=NSED)\n",
    "scalarMap = cmx.ScalarMappable(norm=cNorm, cmap=jet)\n",
    "all_colors = scalarMap.to_rgba(np.arange(NSED), alpha=1)"
   ]
  },
  {
   "cell_type": "code",
   "execution_count": null,
   "id": "7c0b44d5-cd8c-430f-87d2-b64bef016575",
   "metadata": {
    "tags": []
   },
   "outputs": [],
   "source": [
    "df_info.iloc[1][\"num\"]"
   ]
  },
  {
   "cell_type": "code",
   "execution_count": null,
   "id": "1591e8f4-28bf-4f14-8ab3-e21c9de57aac",
   "metadata": {
    "tags": []
   },
   "outputs": [],
   "source": [
    "for idx in range(0,NSED):\n",
    "    row = df_info.iloc[idx]\n",
    "    num= row[\"num\"]\n",
    "    the_tag=f\"SPEC{num}\"\n",
    "    print(f\"===================== SED {idx} : {the_tag}=======================\")\n",
    "    \n",
    "    the_lines = row[\"lines\"]\n",
    "    print(\"the_lines = \",the_lines)\n",
    "    all_elements  = the_lines.decode().split(\",\")\n",
    "    #fig, ax = plt.subplot(1,1,1,figsize=(16,8))\n",
    "    #fig, axs = plt.subplots(1, 1, figsize=(16, 8),dpi=50)\n",
    "    fig, axs = plt.subplots(1, 1, figsize=(16, 8))\n",
    "    ax=axs\n",
    "    ax.plot(all_df[idx][\"wl\"], all_df[idx][\"fl\"],'b-' ,color=all_colors[idx],label=the_tag,lw=3)\n",
    "    ax.legend(loc=\"upper right\")\n",
    "    ax.grid()\n",
    "    #ax.axvline(4150,color=\"grey\")\n",
    "    #ax.axvline(4250,color=\"grey\")\n",
    "#    plt.ylim(-0.02,0.4)\n",
    "    ax.set_xlim(4000.,10000.)\n",
    "    for el in all_elements:\n",
    "        el=el.split(\" \")[0]  \n",
    "        el=el.split(\"\\r\")[0]  \n",
    "        print(el)\n",
    "        if len(el)>0:\n",
    "            plot_line(ax,el)\n",
    "    plt.show()\n",
    "    del fig"
   ]
  },
  {
   "cell_type": "code",
   "execution_count": null,
   "id": "4710247e-a614-4531-a3ba-ee745f88f924",
   "metadata": {},
   "outputs": [],
   "source": []
  }
 ],
 "metadata": {
  "kernelspec": {
   "display_name": "Python 3 (ipykernel)",
   "language": "python",
   "name": "python3"
  },
  "language_info": {
   "codemirror_mode": {
    "name": "ipython",
    "version": 3
   },
   "file_extension": ".py",
   "mimetype": "text/x-python",
   "name": "python",
   "nbconvert_exporter": "python",
   "pygments_lexer": "ipython3",
   "version": "3.10.9"
  }
 },
 "nbformat": 4,
 "nbformat_minor": 5
}
