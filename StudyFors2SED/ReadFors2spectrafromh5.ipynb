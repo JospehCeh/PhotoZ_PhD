{
 "cells": [
  {
   "cell_type": "markdown",
   "id": "9a766737-e3c5-4ad2-af49-2e035ae37c44",
   "metadata": {},
   "source": [
    "# read  unredshifted Fors2 spectra from H5 file\n",
    "\n",
    "- author : Sylvie Dagoret-Campagne\n",
    "- affiliation : IJCLab/IN2P3/CNRS\n",
    "- creation date : 2023/05/23\n",
    "- last update : 2023/05/23\n",
    "- FORS2 : https://github.com/ericnuss/fors2\n",
    "\n",
    "\n",
    "- MUST RUN *convertFors2spectratohdf5.ipynb* before"
   ]
  },
  {
   "cell_type": "markdown",
   "id": "de687972-680a-4cc8-85e4-eb7a14bafddb",
   "metadata": {},
   "source": [
    "# Import"
   ]
  },
  {
   "cell_type": "code",
   "execution_count": 1,
   "id": "e7f4f951-41ed-49d4-b3c9-75889329b29b",
   "metadata": {},
   "outputs": [],
   "source": [
    "import os,sys,re\n",
    "import h5py\n",
    "from astropy.table import Table\n",
    "import random"
   ]
  },
  {
   "cell_type": "code",
   "execution_count": 2,
   "id": "9d1c322a-a832-4d6a-8257-afc3c2b6e3fa",
   "metadata": {},
   "outputs": [],
   "source": [
    "# Import some generally useful packages\n",
    "\n",
    "import os\n",
    "import numpy as np\n",
    "import matplotlib.pyplot as plt\n",
    "import matplotlib.colors as colors\n",
    "import matplotlib.cm as cmx\n",
    "\n",
    "from matplotlib.backends.backend_pdf import PdfPages\n",
    "\n",
    "%matplotlib inline\n",
    "import pandas as pd\n",
    "from itertools import cycle, islice"
   ]
  },
  {
   "cell_type": "code",
   "execution_count": 3,
   "id": "ef50055f-8e91-4660-b598-97e7bfcfce08",
   "metadata": {},
   "outputs": [],
   "source": [
    "from scipy import ndimage\n",
    "\n",
    "#from scipy import interp as scinterp\n",
    "from scipy.interpolate import interp1d\n",
    "\n",
    "import glob\n",
    "import collections\n",
    "#from def_raw_seds import *"
   ]
  },
  {
   "cell_type": "code",
   "execution_count": 4,
   "id": "94cebe1d-b27d-44b6-956f-6d711b7b357c",
   "metadata": {},
   "outputs": [],
   "source": [
    "# to enlarge the sizes\n",
    "params = {'legend.fontsize': 'large',\n",
    "          'figure.figsize': (4, 4),\n",
    "         'axes.labelsize': 'xx-large',\n",
    "         'axes.titlesize':'xx-large',\n",
    "         'xtick.labelsize':'xx-large',\n",
    "         'ytick.labelsize':'xx-large'}\n",
    "plt.rcParams.update(params)"
   ]
  },
  {
   "cell_type": "markdown",
   "id": "7c5efde5-31a1-4b9e-b1ea-1b5e1f83f66a",
   "metadata": {},
   "source": [
    "# Config"
   ]
  },
  {
   "cell_type": "code",
   "execution_count": 5,
   "id": "ac387892-8432-485b-89db-19a5f62ee949",
   "metadata": {},
   "outputs": [],
   "source": [
    "input_file_h5  = 'FORS2spectra.hdf5'"
   ]
  },
  {
   "cell_type": "code",
   "execution_count": 6,
   "id": "e69b5a05-88ec-4e22-80e9-e579868e4933",
   "metadata": {},
   "outputs": [],
   "source": [
    "hf =  h5py.File(input_file_h5, 'r') \n",
    "list_of_keys = list(hf.keys())"
   ]
  },
  {
   "cell_type": "code",
   "execution_count": 7,
   "id": "b7cdb9a4-fa51-439e-b11b-c8305667c098",
   "metadata": {},
   "outputs": [
    {
     "name": "stdout",
     "output_type": "stream",
     "text": [
      "['SPEC102', 'SPEC106', 'SPEC107', 'SPEC109', 'SPEC110', 'SPEC111', 'SPEC112', 'SPEC113', 'SPEC114', 'SPEC115', 'SPEC117', 'SPEC118', 'SPEC120', 'SPEC121', 'SPEC123', 'SPEC127', 'SPEC128', 'SPEC13', 'SPEC132', 'SPEC134', 'SPEC135', 'SPEC137', 'SPEC138', 'SPEC141', 'SPEC149', 'SPEC151', 'SPEC152', 'SPEC156', 'SPEC160', 'SPEC161', 'SPEC164', 'SPEC171', 'SPEC178', 'SPEC179', 'SPEC181', 'SPEC182', 'SPEC183', 'SPEC184', 'SPEC185', 'SPEC186', 'SPEC187', 'SPEC188', 'SPEC189', 'SPEC19', 'SPEC191', 'SPEC192', 'SPEC193', 'SPEC194', 'SPEC196', 'SPEC197', 'SPEC198', 'SPEC2', 'SPEC204', 'SPEC205', 'SPEC210', 'SPEC214', 'SPEC218', 'SPEC221', 'SPEC222', 'SPEC223', 'SPEC226', 'SPEC227', 'SPEC231', 'SPEC233', 'SPEC234', 'SPEC235', 'SPEC236', 'SPEC237', 'SPEC238', 'SPEC24', 'SPEC240', 'SPEC242', 'SPEC243', 'SPEC244', 'SPEC245', 'SPEC246', 'SPEC248', 'SPEC249', 'SPEC25', 'SPEC250', 'SPEC252', 'SPEC253', 'SPEC258', 'SPEC259', 'SPEC260', 'SPEC261', 'SPEC262', 'SPEC264', 'SPEC265', 'SPEC266', 'SPEC267', 'SPEC268', 'SPEC271', 'SPEC274', 'SPEC275', 'SPEC276', 'SPEC277', 'SPEC278', 'SPEC279', 'SPEC280', 'SPEC281', 'SPEC282', 'SPEC283', 'SPEC287', 'SPEC288', 'SPEC291', 'SPEC292', 'SPEC294', 'SPEC295', 'SPEC296', 'SPEC297', 'SPEC298', 'SPEC3', 'SPEC30', 'SPEC301', 'SPEC302', 'SPEC303', 'SPEC304', 'SPEC305', 'SPEC306', 'SPEC307', 'SPEC308', 'SPEC309', 'SPEC31', 'SPEC313', 'SPEC315', 'SPEC317', 'SPEC318', 'SPEC319', 'SPEC32', 'SPEC321', 'SPEC322', 'SPEC323', 'SPEC324', 'SPEC325', 'SPEC326', 'SPEC327', 'SPEC328', 'SPEC329', 'SPEC33', 'SPEC331', 'SPEC332', 'SPEC333', 'SPEC334', 'SPEC335', 'SPEC336', 'SPEC337', 'SPEC338', 'SPEC339', 'SPEC34', 'SPEC340', 'SPEC341', 'SPEC343', 'SPEC344', 'SPEC345', 'SPEC346', 'SPEC348', 'SPEC349', 'SPEC35', 'SPEC350', 'SPEC351', 'SPEC352', 'SPEC353', 'SPEC354', 'SPEC355', 'SPEC357', 'SPEC358', 'SPEC359', 'SPEC36', 'SPEC360', 'SPEC361', 'SPEC362', 'SPEC363', 'SPEC364', 'SPEC365', 'SPEC366', 'SPEC367', 'SPEC368', 'SPEC369', 'SPEC37', 'SPEC370', 'SPEC371', 'SPEC372', 'SPEC373', 'SPEC374', 'SPEC375', 'SPEC376', 'SPEC377', 'SPEC378', 'SPEC379', 'SPEC380', 'SPEC381', 'SPEC382', 'SPEC383', 'SPEC384', 'SPEC385', 'SPEC386', 'SPEC387', 'SPEC388', 'SPEC389', 'SPEC390', 'SPEC391', 'SPEC392', 'SPEC393', 'SPEC394', 'SPEC395', 'SPEC396', 'SPEC397', 'SPEC398', 'SPEC399', 'SPEC400', 'SPEC401', 'SPEC402', 'SPEC403', 'SPEC404', 'SPEC405', 'SPEC406', 'SPEC407', 'SPEC408', 'SPEC409', 'SPEC410', 'SPEC411', 'SPEC412', 'SPEC413', 'SPEC414', 'SPEC415', 'SPEC416', 'SPEC417', 'SPEC418', 'SPEC419', 'SPEC420', 'SPEC421', 'SPEC422', 'SPEC423', 'SPEC424', 'SPEC425', 'SPEC426', 'SPEC427', 'SPEC428', 'SPEC429', 'SPEC430', 'SPEC431', 'SPEC432', 'SPEC434', 'SPEC435', 'SPEC436', 'SPEC437', 'SPEC438', 'SPEC439', 'SPEC440', 'SPEC441', 'SPEC442', 'SPEC443', 'SPEC444', 'SPEC445', 'SPEC446', 'SPEC447', 'SPEC448', 'SPEC449', 'SPEC45', 'SPEC450', 'SPEC451', 'SPEC452', 'SPEC453', 'SPEC454', 'SPEC455', 'SPEC456', 'SPEC457', 'SPEC458', 'SPEC459', 'SPEC460', 'SPEC461', 'SPEC462', 'SPEC463', 'SPEC464', 'SPEC465', 'SPEC466', 'SPEC467', 'SPEC468', 'SPEC469', 'SPEC47', 'SPEC470', 'SPEC471', 'SPEC472', 'SPEC474', 'SPEC475', 'SPEC476', 'SPEC477', 'SPEC478', 'SPEC479', 'SPEC480', 'SPEC481', 'SPEC482', 'SPEC483', 'SPEC488', 'SPEC49', 'SPEC490', 'SPEC492', 'SPEC493', 'SPEC494', 'SPEC496', 'SPEC497', 'SPEC499', 'SPEC500', 'SPEC501', 'SPEC503', 'SPEC504', 'SPEC505', 'SPEC506', 'SPEC507', 'SPEC508', 'SPEC509', 'SPEC51', 'SPEC510', 'SPEC511', 'SPEC512', 'SPEC513', 'SPEC516', 'SPEC517', 'SPEC518', 'SPEC519', 'SPEC520', 'SPEC523', 'SPEC524', 'SPEC525', 'SPEC526', 'SPEC527', 'SPEC528', 'SPEC529', 'SPEC530', 'SPEC531', 'SPEC532', 'SPEC533', 'SPEC535', 'SPEC536', 'SPEC537', 'SPEC539', 'SPEC540', 'SPEC541', 'SPEC542', 'SPEC543', 'SPEC544', 'SPEC545', 'SPEC546', 'SPEC547', 'SPEC548', 'SPEC549', 'SPEC55', 'SPEC550', 'SPEC551', 'SPEC552', 'SPEC553', 'SPEC554', 'SPEC556', 'SPEC557', 'SPEC558', 'SPEC559', 'SPEC560', 'SPEC562', 'SPEC563', 'SPEC564', 'SPEC565', 'SPEC566', 'SPEC567', 'SPEC568', 'SPEC569', 'SPEC57', 'SPEC570', 'SPEC571', 'SPEC572', 'SPEC573', 'SPEC574', 'SPEC575', 'SPEC576', 'SPEC577', 'SPEC578', 'SPEC579', 'SPEC58', 'SPEC580', 'SPEC582', 'SPEC583', 'SPEC584', 'SPEC585', 'SPEC586', 'SPEC587', 'SPEC588', 'SPEC589', 'SPEC59', 'SPEC590', 'SPEC591', 'SPEC593', 'SPEC594', 'SPEC595', 'SPEC596', 'SPEC597', 'SPEC598', 'SPEC599', 'SPEC600', 'SPEC601', 'SPEC602', 'SPEC603', 'SPEC604', 'SPEC605', 'SPEC606', 'SPEC608', 'SPEC609', 'SPEC61', 'SPEC610', 'SPEC611', 'SPEC612', 'SPEC613', 'SPEC617', 'SPEC618', 'SPEC62', 'SPEC620', 'SPEC621', 'SPEC622', 'SPEC623', 'SPEC624', 'SPEC625', 'SPEC626', 'SPEC627', 'SPEC628', 'SPEC629', 'SPEC630', 'SPEC631', 'SPEC632', 'SPEC633', 'SPEC634', 'SPEC635', 'SPEC636', 'SPEC637', 'SPEC638', 'SPEC639', 'SPEC640', 'SPEC641', 'SPEC642', 'SPEC643', 'SPEC644', 'SPEC645', 'SPEC646', 'SPEC647', 'SPEC648', 'SPEC649', 'SPEC650', 'SPEC651', 'SPEC652', 'SPEC653', 'SPEC654', 'SPEC655', 'SPEC656', 'SPEC657', 'SPEC658', 'SPEC659', 'SPEC66', 'SPEC660', 'SPEC661', 'SPEC662', 'SPEC663', 'SPEC664', 'SPEC667', 'SPEC668', 'SPEC669', 'SPEC67', 'SPEC670', 'SPEC671', 'SPEC672', 'SPEC673', 'SPEC674', 'SPEC675', 'SPEC676', 'SPEC677', 'SPEC678', 'SPEC679', 'SPEC68', 'SPEC680', 'SPEC681', 'SPEC682', 'SPEC683', 'SPEC684', 'SPEC685', 'SPEC686', 'SPEC687', 'SPEC689', 'SPEC69', 'SPEC690', 'SPEC691', 'SPEC692', 'SPEC693', 'SPEC694', 'SPEC695', 'SPEC696', 'SPEC697', 'SPEC698', 'SPEC699', 'SPEC70', 'SPEC700', 'SPEC701', 'SPEC702', 'SPEC703', 'SPEC704', 'SPEC705', 'SPEC706', 'SPEC707', 'SPEC708', 'SPEC71', 'SPEC710', 'SPEC711', 'SPEC713', 'SPEC714', 'SPEC715', 'SPEC716', 'SPEC717', 'SPEC718', 'SPEC719', 'SPEC72', 'SPEC720', 'SPEC721', 'SPEC722', 'SPEC723', 'SPEC724', 'SPEC725', 'SPEC726', 'SPEC727', 'SPEC728', 'SPEC729', 'SPEC73', 'SPEC730', 'SPEC731', 'SPEC732', 'SPEC733', 'SPEC734', 'SPEC735', 'SPEC736', 'SPEC737', 'SPEC738', 'SPEC77', 'SPEC79', 'SPEC80', 'SPEC83', 'SPEC84', 'SPEC85', 'SPEC86', 'SPEC87', 'SPEC89', 'SPEC9', 'SPEC91', 'SPEC93', 'SPEC96', 'SPEC97']\n"
     ]
    }
   ],
   "source": [
    "print(list_of_keys)"
   ]
  },
  {
   "cell_type": "code",
   "execution_count": 8,
   "id": "fd1e6e79-70f7-4ad9-bd4b-9930b10292a3",
   "metadata": {},
   "outputs": [],
   "source": [
    "# pick one key    \n",
    "key_sel =  list_of_keys[0]\n",
    "# pick one group\n",
    "group = hf.get(key_sel)  "
   ]
  },
  {
   "cell_type": "code",
   "execution_count": 9,
   "id": "5bc22636-d0aa-438b-8276-b7398218b0e4",
   "metadata": {},
   "outputs": [],
   "source": [
    "#pickup all attribute names\n",
    "all_subgroup_keys = []\n",
    "for k in group.attrs.keys():\n",
    "    all_subgroup_keys.append(k)"
   ]
  },
  {
   "cell_type": "code",
   "execution_count": 10,
   "id": "3cc0b450-a1c0-4a77-abc6-303355c16bf9",
   "metadata": {},
   "outputs": [
    {
     "data": {
      "text/plain": [
       "['Nsp', 'RT', 'RV', 'Rmag', 'dec', 'eRV', 'lines', 'num', 'ra', 'redshift']"
      ]
     },
     "execution_count": 10,
     "metadata": {},
     "output_type": "execute_result"
    }
   ],
   "source": [
    "all_subgroup_keys"
   ]
  },
  {
   "cell_type": "code",
   "execution_count": 11,
   "id": "9013b6a5-d77f-47b6-a8be-192e0ad4deb5",
   "metadata": {},
   "outputs": [],
   "source": [
    "def GetColumnHfData(hff,list_of_keys,nameval):\n",
    "    \"\"\"\n",
    "    Extract hff atttribute \n",
    "    \n",
    "    parameters\n",
    "      hff           : descriptor of h5 file\n",
    "      list_of_keys : list of exposures\n",
    "      nameval      : name of the attribute\n",
    "      \n",
    "    return\n",
    "           the array of values in the order of \n",
    "    \"\"\"\n",
    "    \n",
    "\n",
    "    all_data = []\n",
    "    for key in list_of_keys:\n",
    "        group=hff.get(key)\n",
    "        val=group.attrs[nameval]\n",
    "        all_data.append(val)\n",
    "    return all_data\n"
   ]
  },
  {
   "cell_type": "code",
   "execution_count": 12,
   "id": "748fef1e-d4bf-4d80-90eb-02735bfc0e28",
   "metadata": {},
   "outputs": [],
   "source": [
    "# create info\n",
    "df_info = pd.DataFrame()\n",
    "for key in all_subgroup_keys:\n",
    "    arr=GetColumnHfData(hf, list_of_keys ,key)\n",
    "    df_info[key] = arr"
   ]
  },
  {
   "cell_type": "code",
   "execution_count": 13,
   "id": "780a76af-0450-4cb7-8242-a42c1c4b56a0",
   "metadata": {},
   "outputs": [],
   "source": [
    "df_info.sort_values(by=\"num\", ascending=True,inplace=True)"
   ]
  },
  {
   "cell_type": "code",
   "execution_count": 14,
   "id": "98032c70-f49d-46df-9288-32aec6a28071",
   "metadata": {},
   "outputs": [],
   "source": [
    "df_info_num = df_info[\"num\"].values"
   ]
  },
  {
   "cell_type": "code",
   "execution_count": 15,
   "id": "89dc2fcf-42e1-4ee5-a0d1-3696fd080a30",
   "metadata": {},
   "outputs": [],
   "source": [
    "key_tags = [ f\"SPEC{num}\" for num in df_info_num ]"
   ]
  },
  {
   "cell_type": "code",
   "execution_count": 16,
   "id": "07d7a11f-59da-4a55-a82e-c49f4d626ba7",
   "metadata": {},
   "outputs": [],
   "source": [
    "all_df = []  \n",
    "    \n",
    "idx=0\n",
    "for key in key_tags :\n",
    "        \n",
    "    group = hf.get(key)\n",
    "               \n",
    "    df = pd.DataFrame()\n",
    "    \n",
    "        \n",
    "    df[\"wl\"] = np.array(group.get(\"wl\"))\n",
    "    df[\"fl\"] = np.array(group.get(\"fl\")) \n",
    " \n",
    "    all_df.append(df)\n",
    "        \n",
    "    idx+=1"
   ]
  },
  {
   "cell_type": "code",
   "execution_count": 17,
   "id": "45bfca27-6f8a-4493-a7f4-69d1bee4dc64",
   "metadata": {},
   "outputs": [
    {
     "data": {
      "text/plain": [
       "[<matplotlib.lines.Line2D at 0x7f7da953ba30>]"
      ]
     },
     "execution_count": 17,
     "metadata": {},
     "output_type": "execute_result"
    },
    {
     "data": {
      "image/png": "[encoded data removed]",
      "text/plain": [
       "<Figure size 400x400 with 1 Axes>"
      ]
     },
     "metadata": {},
     "output_type": "display_data"
    }
   ],
   "source": [
    "plt.plot(all_df[0][\"wl\"], all_df[0][\"fl\"])"
   ]
  },
  {
   "cell_type": "code",
   "execution_count": null,
   "id": "b0e2cb1b-4e37-484d-ab65-550c682fa448",
   "metadata": {},
   "outputs": [],
   "source": []
  }
 ],
 "metadata": {
  "kernelspec": {
   "display_name": "Python 3 (ipykernel)",
   "language": "python",
   "name": "python3"
  },
  "language_info": {
   "codemirror_mode": {
    "name": "ipython",
    "version": 3
   },
   "file_extension": ".py",
   "mimetype": "text/x-python",
   "name": "python",
   "nbconvert_exporter": "python",
   "pygments_lexer": "ipython3",
   "version": "3.9.13"
  }
 },
 "nbformat": 4,
 "nbformat_minor": 5
}
