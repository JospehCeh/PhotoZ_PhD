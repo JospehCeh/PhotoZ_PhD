{
 "cells": [
  {
   "cell_type": "markdown",
   "id": "316c4ba5",
   "metadata": {},
   "source": [
    "# Convert original unredshifted Fors2 spectra\n",
    "\n",
    "- author : Sylvie Dagoret-Campagne\n",
    "- affiliation : IJCLab/IN2P3/CNRS\n",
    "- creation date : 2023/05/23\n",
    "- last update : 2023/05/26\n",
    "- FORS2 : https://github.com/ericnuss/fors2\n",
    "\n",
    "\n",
    "- MUST RUN *ExploreFors2inOriginalFrame.ipynb* before\n"
   ]
  },
  {
   "cell_type": "markdown",
   "id": "c7d7e344",
   "metadata": {},
   "source": [
    "## Import"
   ]
  },
  {
   "cell_type": "code",
   "execution_count": 1,
   "id": "e485fec8",
   "metadata": {},
   "outputs": [],
   "source": [
    "import os,sys,re\n",
    "import h5py\n",
    "from astropy.table import Table\n",
    "import random"
   ]
  },
  {
   "cell_type": "code",
   "execution_count": 2,
   "id": "b271dcb5",
   "metadata": {},
   "outputs": [],
   "source": [
    "# Import some generally useful packages\n",
    "\n",
    "import os\n",
    "import numpy as np\n",
    "import matplotlib.pyplot as plt\n",
    "import matplotlib.colors as colors\n",
    "import matplotlib.cm as cmx\n",
    "\n",
    "from matplotlib.backends.backend_pdf import PdfPages\n",
    "\n",
    "%matplotlib inline\n",
    "import pandas as pd\n",
    "from itertools import cycle, islice\n"
   ]
  },
  {
   "cell_type": "code",
   "execution_count": 3,
   "id": "f6689d40-c574-471c-b9d6-996002aa4e76",
   "metadata": {},
   "outputs": [],
   "source": [
    "from scipy import ndimage\n",
    "\n",
    "#from scipy import interp as scinterp\n",
    "from scipy.interpolate import interp1d\n",
    "\n",
    "import glob\n",
    "import collections\n",
    "#from def_raw_seds import *"
   ]
  },
  {
   "cell_type": "code",
   "execution_count": 4,
   "id": "413f1e89",
   "metadata": {},
   "outputs": [],
   "source": [
    "# to enlarge the sizes\n",
    "params = {'legend.fontsize': 'large',\n",
    "          'figure.figsize': (4, 4),\n",
    "         'axes.labelsize': 'xx-large',\n",
    "         'axes.titlesize':'xx-large',\n",
    "         'xtick.labelsize':'xx-large',\n",
    "         'ytick.labelsize':'xx-large'}\n",
    "plt.rcParams.update(params)"
   ]
  },
  {
   "cell_type": "code",
   "execution_count": 5,
   "id": "c1e22fcc",
   "metadata": {},
   "outputs": [],
   "source": [
    "import matplotlib.offsetbox\n",
    "props = dict(boxstyle='round',edgecolor=\"w\",facecolor=\"w\", alpha=0.5)"
   ]
  },
  {
   "cell_type": "code",
   "execution_count": 6,
   "id": "b7e9a578-1bb2-4e32-b88f-a69914949eca",
   "metadata": {},
   "outputs": [],
   "source": [
    "from def_raw_seds import *"
   ]
  },
  {
   "cell_type": "code",
   "execution_count": 7,
   "id": "93d5eb5c-6c03-45fe-9795-17e8ed32d0d7",
   "metadata": {},
   "outputs": [],
   "source": [
    "from raw_data_analysis import *"
   ]
  },
  {
   "cell_type": "code",
   "execution_count": 8,
   "id": "9f279521-7994-4b9c-8124-480d2b314718",
   "metadata": {},
   "outputs": [],
   "source": [
    "path_out_sdc          = \"./raw/\"\n",
    "all_specfilenames = os.listdir(path_out_sdc)"
   ]
  },
  {
   "cell_type": "markdown",
   "id": "9656d4d7-a358-4e08-b6dd-5ed21a03673b",
   "metadata": {},
   "source": [
    "# Start"
   ]
  },
  {
   "cell_type": "code",
   "execution_count": 9,
   "id": "49e9d573-4b1a-4f57-b88e-402773c3f551",
   "metadata": {},
   "outputs": [
    {
     "name": "stdout",
     "output_type": "stream",
     "text": [
      "notebook current executing path : /Users/dagoret/MacOSX/GitHub/LSST/PhotoZ_PhD/StudyFors2SED\n"
     ]
    }
   ],
   "source": [
    "cwd=os.path.abspath(\"\")\n",
    "main_dir = cwd\n",
    "print(f\"notebook current executing path : {cwd}\")"
   ]
  },
  {
   "cell_type": "markdown",
   "id": "b2595086-f58e-4d6a-9d21-9899fd1ea805",
   "metadata": {},
   "source": [
    "# Read catalog"
   ]
  },
  {
   "cell_type": "code",
   "execution_count": 10,
   "id": "dfb61add-14da-4011-b809-3461f3225f0e",
   "metadata": {},
   "outputs": [
    {
     "data": {
      "text/plain": [
       "'/Users/dagoret/MacOSX/GitHub/LSST/fors2/fors2/data/fors2_catalogue.fits'"
      ]
     },
     "execution_count": 10,
     "metadata": {},
     "output_type": "execute_result"
    }
   ],
   "source": [
    "filename_fits_catalog"
   ]
  },
  {
   "cell_type": "code",
   "execution_count": 11,
   "id": "53aaf49a-f6cb-4dca-b026-49c139145271",
   "metadata": {},
   "outputs": [
    {
     "name": "stderr",
     "output_type": "stream",
     "text": [
      "WARNING: VerifyWarning: Invalid keyword for column 8: ASCII table null option (TNULLn) is longer than the column's character width and will be truncated (got '-2147483648'). [astropy.io.fits.column]\n",
      "WARNING: VerifyWarning: Invalid keyword for column 9: ASCII table null option (TNULLn) is longer than the column's character width and will be truncated (got '-32768'). [astropy.io.fits.column]\n",
      "/Users/dagoret/anaconda3/lib/python3.9/site-packages/astropy/io/fits/connect.py:276: FutureWarning: elementwise comparison failed; returning scalar instead, but in the future will perform elementwise comparison\n",
      "  mask = data[col.name] == col.null\n"
     ]
    }
   ],
   "source": [
    "t = Table.read(filename_fits_catalog)"
   ]
  },
  {
   "cell_type": "code",
   "execution_count": 12,
   "id": "09476bf9-ae78-432c-aba0-7c1308f7084b",
   "metadata": {},
   "outputs": [
    {
     "data": {
      "text/html": [
       "<div><i>Table length=1</i>\n",
       "<table id=\"table5494414400\" class=\"table-striped table-bordered table-condensed\">\n",
       "<thead><tr><th>ID</th><th>m_ID</th><th>RAJ2000</th><th>DEJ2000</th><th>z</th><th>u_z</th><th>Rmag</th><th>RV</th><th>e_RV</th><th>RT</th><th>Nsp</th><th>Lines</th></tr></thead>\n",
       "<thead><tr><th></th><th></th><th>deg</th><th>deg</th><th></th><th></th><th>mag</th><th>km / s</th><th>km / s</th><th></th><th></th><th></th></tr></thead>\n",
       "<thead><tr><th>int16</th><th>bytes1</th><th>float64</th><th>float64</th><th>float64</th><th>bytes1</th><th>float64</th><th>int32</th><th>int16</th><th>float64</th><th>int16</th><th>bytes77</th></tr></thead>\n",
       "<tr><td>3</td><td></td><td>13.52552</td><td>-28.4208</td><td>0.6866</td><td></td><td>21.45</td><td>210642</td><td>48</td><td>11.6</td><td>4</td><td>[OII],H9,K,H,H{beta},[OIII],H8</td></tr>\n",
       "</table></div>"
      ],
      "text/plain": [
       "<Table length=1>\n",
       "  ID   m_ID  RAJ2000  DEJ2000     z     u_z     Rmag    RV    e_RV     RT    Nsp                                      Lines                                    \n",
       "               deg      deg                     mag   km / s km / s                                                                                            \n",
       "int16 bytes1 float64  float64  float64 bytes1 float64 int32  int16  float64 int16                                    bytes77                                   \n",
       "----- ------ -------- -------- ------- ------ ------- ------ ------ ------- ----- -----------------------------------------------------------------------------\n",
       "    3        13.52552 -28.4208  0.6866          21.45 210642     48    11.6     4 [OII],H9,K,H,H{beta},[OIII],H8                                              "
      ]
     },
     "execution_count": 12,
     "metadata": {},
     "output_type": "execute_result"
    }
   ],
   "source": [
    "cut = t[\"ID\"] == 3\n",
    "t[cut]"
   ]
  },
  {
   "cell_type": "code",
   "execution_count": 13,
   "id": "0a6a547d-6449-44fa-a23a-a0348300392e",
   "metadata": {},
   "outputs": [
    {
     "data": {
      "text/html": [
       "<div><i>Table length=1</i>\n",
       "<table id=\"table5494585952\" class=\"table-striped table-bordered table-condensed\">\n",
       "<thead><tr><th>ID</th><th>m_ID</th><th>RAJ2000</th><th>DEJ2000</th><th>z</th><th>u_z</th><th>Rmag</th><th>RV</th><th>e_RV</th><th>RT</th><th>Nsp</th><th>Lines</th></tr></thead>\n",
       "<thead><tr><th></th><th></th><th>deg</th><th>deg</th><th></th><th></th><th>mag</th><th>km / s</th><th>km / s</th><th></th><th></th><th></th></tr></thead>\n",
       "<thead><tr><th>int16</th><th>bytes1</th><th>float64</th><th>float64</th><th>float64</th><th>bytes1</th><th>float64</th><th>int32</th><th>int16</th><th>float64</th><th>int16</th><th>bytes77</th></tr></thead>\n",
       "<tr><td>738</td><td></td><td>13.6437</td><td>-28.22527</td><td>0.56044</td><td></td><td>19.73</td><td>168132</td><td>126</td><td>7.1</td><td>1</td><td>K,H,4000{AA}-break,G</td></tr>\n",
       "</table></div>"
      ],
      "text/plain": [
       "<Table length=1>\n",
       "  ID   m_ID  RAJ2000  DEJ2000     z     u_z     Rmag    RV    e_RV     RT    Nsp                                      Lines                                    \n",
       "               deg      deg                     mag   km / s km / s                                                                                            \n",
       "int16 bytes1 float64  float64  float64 bytes1 float64 int32  int16  float64 int16                                    bytes77                                   \n",
       "----- ------ ------- --------- ------- ------ ------- ------ ------ ------- ----- -----------------------------------------------------------------------------\n",
       "  738        13.6437 -28.22527 0.56044          19.73 168132    126     7.1     1 K,H,4000{AA}-break,G                                                        "
      ]
     },
     "execution_count": 13,
     "metadata": {},
     "output_type": "execute_result"
    }
   ],
   "source": [
    "cut = t[\"ID\"] == 738\n",
    "t[cut]"
   ]
  },
  {
   "cell_type": "markdown",
   "id": "ce347161-7bca-405d-97ad-f687ce6efdf0",
   "metadata": {},
   "source": [
    "# Read spectra"
   ]
  },
  {
   "cell_type": "code",
   "execution_count": 14,
   "id": "b5ede2bd-fe93-4421-b3d1-38e4c3c01cbb",
   "metadata": {},
   "outputs": [],
   "source": [
    "all_specfilenames = sorted(all_specfilenames)"
   ]
  },
  {
   "cell_type": "markdown",
   "id": "4a377ff1-8983-44e7-a965-06e7daf05ec8",
   "metadata": {},
   "source": [
    "### Make list of files to read"
   ]
  },
  {
   "cell_type": "code",
   "execution_count": 15,
   "id": "a5a4193d-ec7c-4162-8eb1-a87e4585ecd5",
   "metadata": {},
   "outputs": [],
   "source": [
    "all_numbers = [ int(re.findall('^SPEC(.*)_raw_sdc[.]txt$',fn)[0]) for fn in all_specfilenames ]"
   ]
  },
  {
   "cell_type": "code",
   "execution_count": 16,
   "id": "0d175f26-9504-4602-bdc1-fdd9ec8d81a5",
   "metadata": {},
   "outputs": [],
   "source": [
    "### should be already sorted\n",
    "all_numbers = sorted(all_numbers)"
   ]
  },
  {
   "cell_type": "code",
   "execution_count": 17,
   "id": "77e90e8a-4459-4650-878a-3d60c2c34711",
   "metadata": {},
   "outputs": [
    {
     "name": "stdout",
     "output_type": "stream",
     "text": [
      "[2, 3, 9, 13, 19, 24, 25, 30, 31, 32, 33, 34, 35, 36, 37, 45, 47, 49, 51, 55, 57, 58, 59, 61, 62, 66, 67, 68, 69, 70, 71, 72, 73, 77, 79, 80, 83, 84, 85, 86, 87, 89, 91, 93, 96, 97, 102, 106, 107, 109, 110, 111, 112, 113, 114, 115, 117, 118, 120, 121, 123, 127, 128, 132, 134, 135, 137, 138, 141, 149, 151, 152, 156, 160, 161, 164, 171, 178, 179, 181, 182, 183, 184, 185, 186, 187, 188, 189, 191, 192, 193, 194, 196, 197, 198, 204, 205, 210, 214, 218, 221, 222, 223, 226, 227, 231, 233, 234, 235, 236, 237, 238, 240, 242, 243, 244, 245, 246, 248, 249, 250, 252, 253, 258, 259, 260, 261, 262, 264, 265, 266, 267, 268, 271, 274, 275, 276, 277, 278, 279, 280, 281, 282, 283, 287, 288, 291, 292, 294, 295, 296, 297, 298, 301, 302, 303, 304, 305, 306, 307, 308, 309, 313, 315, 317, 318, 319, 321, 322, 323, 324, 325, 326, 327, 328, 329, 331, 332, 333, 334, 335, 336, 337, 338, 339, 340, 341, 343, 344, 345, 346, 348, 349, 350, 351, 352, 353, 354, 355, 357, 358, 359, 360, 361, 362, 363, 364, 365, 366, 367, 368, 369, 370, 371, 372, 373, 374, 375, 376, 377, 378, 379, 380, 381, 382, 383, 384, 385, 386, 387, 388, 389, 390, 391, 392, 393, 394, 395, 396, 397, 398, 399, 400, 401, 402, 403, 404, 405, 406, 407, 408, 409, 410, 411, 412, 413, 414, 415, 416, 417, 418, 419, 420, 421, 422, 423, 424, 425, 426, 427, 428, 429, 430, 431, 432, 434, 435, 436, 437, 438, 439, 440, 441, 442, 443, 444, 445, 446, 447, 448, 449, 450, 451, 452, 453, 454, 455, 456, 457, 458, 459, 460, 461, 462, 463, 464, 465, 466, 467, 468, 469, 470, 471, 472, 474, 475, 476, 477, 478, 479, 480, 481, 482, 483, 488, 490, 492, 493, 494, 496, 497, 499, 500, 501, 503, 504, 505, 506, 507, 508, 509, 510, 511, 512, 513, 516, 517, 518, 519, 520, 523, 524, 525, 526, 527, 528, 529, 530, 531, 532, 533, 535, 536, 537, 539, 540, 541, 542, 543, 544, 545, 546, 547, 548, 549, 550, 551, 552, 553, 554, 556, 557, 558, 559, 560, 562, 563, 564, 565, 566, 567, 568, 569, 570, 571, 572, 573, 574, 575, 576, 577, 578, 579, 580, 582, 583, 584, 585, 586, 587, 588, 589, 590, 591, 593, 594, 595, 596, 597, 598, 599, 600, 601, 602, 603, 604, 605, 606, 608, 609, 610, 611, 612, 613, 617, 618, 620, 621, 622, 623, 624, 625, 626, 627, 628, 629, 630, 631, 632, 633, 634, 635, 636, 637, 638, 639, 640, 641, 642, 643, 644, 645, 646, 647, 648, 649, 650, 651, 652, 653, 654, 655, 656, 657, 658, 659, 660, 661, 662, 663, 664, 667, 668, 669, 670, 671, 672, 673, 674, 675, 676, 677, 678, 679, 680, 681, 682, 683, 684, 685, 686, 687, 689, 690, 691, 692, 693, 694, 695, 696, 697, 698, 699, 700, 701, 702, 703, 704, 705, 706, 707, 708, 710, 711, 713, 714, 715, 716, 717, 718, 719, 720, 721, 722, 723, 724, 725, 726, 727, 728, 729, 730, 731, 732, 733, 734, 735, 736, 737, 738]\n"
     ]
    }
   ],
   "source": [
    "print(all_numbers)"
   ]
  },
  {
   "cell_type": "markdown",
   "id": "6f1ddc0c-6252-4a4f-99ce-0b8caf2c2fee",
   "metadata": {},
   "source": [
    "# Read all spectra including their info "
   ]
  },
  {
   "cell_type": "code",
   "execution_count": 18,
   "id": "72c5076d-d3b5-4428-927d-91aaee792f83",
   "metadata": {},
   "outputs": [],
   "source": [
    "all_spectra = []\n",
    "all_wl = []\n",
    "all_tag = []\n",
    "all_lines = []\n",
    "#all_sed = []\n",
    "\n",
    "for the_num in all_numbers:\n",
    "    tcut = t[\"ID\"] == the_num\n",
    "    redshift = t[tcut][\"z\"].value[0]\n",
    "    lines = t[tcut][\"Lines\"].value[0]\n",
    "    filename = f\"SPEC{the_num}_raw_sdc.txt\"\n",
    "    tag = f\"SPEC{the_num} , z={redshift:.2f}, lines={lines}\"\n",
    "    fullfilename = os.path.join(path_out_sdc,filename)\n",
    "#    the_sed=SED_jct(the_num)\n",
    "#    all_sed.append(the_sed)\n",
    "    arr = np.loadtxt(fullfilename)\n",
    "    all_wl.append(arr[:,0])\n",
    "    all_spectra.append(arr[:,1])\n",
    "    all_tag.append(tag)\n",
    "    all_lines.append(lines)\n",
    " "
   ]
  },
  {
   "cell_type": "code",
   "execution_count": 19,
   "id": "a4accc9c-9848-40e6-b5ae-a2af990c15df",
   "metadata": {},
   "outputs": [],
   "source": [
    "NSED = len(all_numbers)\n",
    "# wavelength bin colors\n",
    "jet = plt.get_cmap('jet')\n",
    "cNorm = colors.Normalize(vmin=0, vmax=NSED)\n",
    "scalarMap = cmx.ScalarMappable(norm=cNorm, cmap=jet)\n",
    "all_colors = scalarMap.to_rgba(np.arange(NSED), alpha=1)"
   ]
  },
  {
   "cell_type": "markdown",
   "id": "4bff5f85-47d5-45eb-b83c-5c33a0c4fb36",
   "metadata": {},
   "source": [
    "# Normalize each spectrum  with respect to the Rmag petrosian magnitude"
   ]
  },
  {
   "cell_type": "code",
   "execution_count": 20,
   "id": "ae1870f9-c5a9-4695-ab77-dafa112c5442",
   "metadata": {},
   "outputs": [],
   "source": [
    "lambda_red = 6231\n",
    "lambda_width = 50\n",
    "lambda_sel_min = lambda_red-lambda_width /2.\n",
    "lambda_sel_max = lambda_red+lambda_width /2."
   ]
  },
  {
   "cell_type": "code",
   "execution_count": 21,
   "id": "796b557e-aa5e-483d-b2a8-6272cc48ac52",
   "metadata": {},
   "outputs": [
    {
     "name": "stderr",
     "output_type": "stream",
     "text": [
      "/Users/dagoret/anaconda3/lib/python3.9/site-packages/numpy/core/fromnumeric.py:3474: RuntimeWarning: Mean of empty slice.\n",
      "  return _methods._mean(a, axis=axis, dtype=dtype,\n",
      "/Users/dagoret/anaconda3/lib/python3.9/site-packages/numpy/core/_methods.py:189: RuntimeWarning: invalid value encountered in double_scalars\n",
      "  ret = ret.dtype.type(ret / rcount)\n"
     ]
    }
   ],
   "source": [
    "all_flarr_norm = []\n",
    "for idx,the_num in enumerate(all_numbers):\n",
    "    wl = all_wl[idx]\n",
    "    fl = all_spectra[idx] \n",
    "    idx_wl_sel = np.where(np.logical_and(wl>= lambda_sel_min,wl<= lambda_sel_max))[0]\n",
    "    flarr_norm = fl[idx_wl_sel]\n",
    "    all_flarr_norm.append(np.median(flarr_norm))"
   ]
  },
  {
   "cell_type": "markdown",
   "id": "ca0f81d6-17bf-4a1e-8728-142a1cb151cf",
   "metadata": {},
   "source": [
    "# Save info and normalized spectra in h5 file"
   ]
  },
  {
   "cell_type": "code",
   "execution_count": 22,
   "id": "1e814013-bff0-44c3-9368-df50519db583",
   "metadata": {},
   "outputs": [],
   "source": [
    "output_file_h5  = 'FORS2spectra.hdf5'\n",
    "hf_outfile =  h5py.File(output_file_h5, 'w') "
   ]
  },
  {
   "cell_type": "code",
   "execution_count": 23,
   "id": "5123e51b-ed36-4d83-96a4-b83deedb1859",
   "metadata": {},
   "outputs": [],
   "source": [
    "all_spectra = []\n",
    "\n",
    "all_tag = []\n",
    "all_wl = []\n",
    "\n",
    "all_redshifts = []\n",
    "all_num = []\n",
    "all_ra = []\n",
    "all_dec = []\n",
    "all_Rmag = []\n",
    "all_RV = []\n",
    "all_eRV = []\n",
    "all_RT = []\n",
    "all_Nsp = []\n",
    "\n",
    "\n",
    "for idx,the_num in enumerate(all_numbers):\n",
    "    \n",
    "    tcut     = t[\"ID\"] == the_num\n",
    "    redshift = t[tcut][\"z\"].value[0]\n",
    "    lines    = t[tcut][\"Lines\"].value[0]\n",
    "    ra       = t[tcut][\"RAJ2000\"].value[0]\n",
    "    dec      = t[tcut][\"DEJ2000\"].value[0]\n",
    "    Rmag     = t[tcut][\"Rmag\"].value[0]\n",
    "    RV       = t[tcut][\"RV\"].value[0]\n",
    "    e_RV     = t[tcut][\"e_RV\"].value[0]\n",
    "    RT       = t[tcut][\"RT\"].value[0]\n",
    "    Nsp      = t[tcut][\"Nsp\"].value[0]\n",
    "    \n",
    "    \n",
    "    filename = f\"SPEC{the_num}_raw_sdc.txt\"\n",
    "    tag = f\"SPEC{the_num}\"\n",
    "    fullfilename = os.path.join(path_out_sdc,filename)\n",
    "\n",
    "    arr = np.loadtxt(fullfilename)\n",
    "    wl = arr[:,0]\n",
    "    fl = arr[:,1]\n",
    "    \n",
    "    norm_inred_wl = all_flarr_norm[idx]\n",
    "    \n",
    "    # flux in maggies\n",
    "    fl_calib = fl/ norm_inred_wl*np.power(10,-0.4*Rmag)\n",
    "    \n",
    "    \n",
    "    h5group = hf_outfile.create_group(tag)\n",
    "    \n",
    "    h5group.attrs['num'] = the_num\n",
    "    h5group.attrs['redshift'] = redshift\n",
    "    h5group.attrs[\"lines\"] = lines\n",
    "    h5group.attrs[\"ra\"] = ra \n",
    "    h5group.attrs[\"dec\"] = dec\n",
    "    h5group.attrs[\"Rmag\"] = Rmag\n",
    "    h5group.attrs[\"RV\"] = RV\n",
    "    h5group.attrs[\"eRV\"] = e_RV\n",
    "    h5group.attrs[\"RT\"] = RT\n",
    "    h5group.attrs[\"Nsp\"] = Nsp\n",
    "   \n",
    "    \n",
    "    \n",
    "    d = h5group.create_dataset(\"wl\",data=wl,compression=\"gzip\", compression_opts=9)\n",
    "    d = h5group.create_dataset(\"fl\",data=fl_calib,compression=\"gzip\", compression_opts=9)\n",
    "    \n",
    "    \n",
    "    "
   ]
  },
  {
   "cell_type": "code",
   "execution_count": 24,
   "id": "b3821c44-64c3-4058-85fd-c80cefb85a0a",
   "metadata": {
    "tags": []
   },
   "outputs": [
    {
     "data": {
      "text/plain": [
       "<KeysViewHDF5 ['SPEC102', 'SPEC106', 'SPEC107', 'SPEC109', 'SPEC110', 'SPEC111', 'SPEC112', 'SPEC113', 'SPEC114', 'SPEC115', 'SPEC117', 'SPEC118', 'SPEC120', 'SPEC121', 'SPEC123', 'SPEC127', 'SPEC128', 'SPEC13', 'SPEC132', 'SPEC134', 'SPEC135', 'SPEC137', 'SPEC138', 'SPEC141', 'SPEC149', 'SPEC151', 'SPEC152', 'SPEC156', 'SPEC160', 'SPEC161', 'SPEC164', 'SPEC171', 'SPEC178', 'SPEC179', 'SPEC181', 'SPEC182', 'SPEC183', 'SPEC184', 'SPEC185', 'SPEC186', 'SPEC187', 'SPEC188', 'SPEC189', 'SPEC19', 'SPEC191', 'SPEC192', 'SPEC193', 'SPEC194', 'SPEC196', 'SPEC197', 'SPEC198', 'SPEC2', 'SPEC204', 'SPEC205', 'SPEC210', 'SPEC214', 'SPEC218', 'SPEC221', 'SPEC222', 'SPEC223', 'SPEC226', 'SPEC227', 'SPEC231', 'SPEC233', 'SPEC234', 'SPEC235', 'SPEC236', 'SPEC237', 'SPEC238', 'SPEC24', 'SPEC240', 'SPEC242', 'SPEC243', 'SPEC244', 'SPEC245', 'SPEC246', 'SPEC248', 'SPEC249', 'SPEC25', 'SPEC250', 'SPEC252', 'SPEC253', 'SPEC258', 'SPEC259', 'SPEC260', 'SPEC261', 'SPEC262', 'SPEC264', 'SPEC265', 'SPEC266', 'SPEC267', 'SPEC268', 'SPEC271', 'SPEC274', 'SPEC275', 'SPEC276', 'SPEC277', 'SPEC278', 'SPEC279', 'SPEC280', 'SPEC281', 'SPEC282', 'SPEC283', 'SPEC287', 'SPEC288', 'SPEC291', 'SPEC292', 'SPEC294', 'SPEC295', 'SPEC296', 'SPEC297', 'SPEC298', 'SPEC3', 'SPEC30', 'SPEC301', 'SPEC302', 'SPEC303', 'SPEC304', 'SPEC305', 'SPEC306', 'SPEC307', 'SPEC308', 'SPEC309', 'SPEC31', 'SPEC313', 'SPEC315', 'SPEC317', 'SPEC318', 'SPEC319', 'SPEC32', 'SPEC321', 'SPEC322', 'SPEC323', 'SPEC324', 'SPEC325', 'SPEC326', 'SPEC327', 'SPEC328', 'SPEC329', 'SPEC33', 'SPEC331', 'SPEC332', 'SPEC333', 'SPEC334', 'SPEC335', 'SPEC336', 'SPEC337', 'SPEC338', 'SPEC339', 'SPEC34', 'SPEC340', 'SPEC341', 'SPEC343', 'SPEC344', 'SPEC345', 'SPEC346', 'SPEC348', 'SPEC349', 'SPEC35', 'SPEC350', 'SPEC351', 'SPEC352', 'SPEC353', 'SPEC354', 'SPEC355', 'SPEC357', 'SPEC358', 'SPEC359', 'SPEC36', 'SPEC360', 'SPEC361', 'SPEC362', 'SPEC363', 'SPEC364', 'SPEC365', 'SPEC366', 'SPEC367', 'SPEC368', 'SPEC369', 'SPEC37', 'SPEC370', 'SPEC371', 'SPEC372', 'SPEC373', 'SPEC374', 'SPEC375', 'SPEC376', 'SPEC377', 'SPEC378', 'SPEC379', 'SPEC380', 'SPEC381', 'SPEC382', 'SPEC383', 'SPEC384', 'SPEC385', 'SPEC386', 'SPEC387', 'SPEC388', 'SPEC389', 'SPEC390', 'SPEC391', 'SPEC392', 'SPEC393', 'SPEC394', 'SPEC395', 'SPEC396', 'SPEC397', 'SPEC398', 'SPEC399', 'SPEC400', 'SPEC401', 'SPEC402', 'SPEC403', 'SPEC404', 'SPEC405', 'SPEC406', 'SPEC407', 'SPEC408', 'SPEC409', 'SPEC410', 'SPEC411', 'SPEC412', 'SPEC413', 'SPEC414', 'SPEC415', 'SPEC416', 'SPEC417', 'SPEC418', 'SPEC419', 'SPEC420', 'SPEC421', 'SPEC422', 'SPEC423', 'SPEC424', 'SPEC425', 'SPEC426', 'SPEC427', 'SPEC428', 'SPEC429', 'SPEC430', 'SPEC431', 'SPEC432', 'SPEC434', 'SPEC435', 'SPEC436', 'SPEC437', 'SPEC438', 'SPEC439', 'SPEC440', 'SPEC441', 'SPEC442', 'SPEC443', 'SPEC444', 'SPEC445', 'SPEC446', 'SPEC447', 'SPEC448', 'SPEC449', 'SPEC45', 'SPEC450', 'SPEC451', 'SPEC452', 'SPEC453', 'SPEC454', 'SPEC455', 'SPEC456', 'SPEC457', 'SPEC458', 'SPEC459', 'SPEC460', 'SPEC461', 'SPEC462', 'SPEC463', 'SPEC464', 'SPEC465', 'SPEC466', 'SPEC467', 'SPEC468', 'SPEC469', 'SPEC47', 'SPEC470', 'SPEC471', 'SPEC472', 'SPEC474', 'SPEC475', 'SPEC476', 'SPEC477', 'SPEC478', 'SPEC479', 'SPEC480', 'SPEC481', 'SPEC482', 'SPEC483', 'SPEC488', 'SPEC49', 'SPEC490', 'SPEC492', 'SPEC493', 'SPEC494', 'SPEC496', 'SPEC497', 'SPEC499', 'SPEC500', 'SPEC501', 'SPEC503', 'SPEC504', 'SPEC505', 'SPEC506', 'SPEC507', 'SPEC508', 'SPEC509', 'SPEC51', 'SPEC510', 'SPEC511', 'SPEC512', 'SPEC513', 'SPEC516', 'SPEC517', 'SPEC518', 'SPEC519', 'SPEC520', 'SPEC523', 'SPEC524', 'SPEC525', 'SPEC526', 'SPEC527', 'SPEC528', 'SPEC529', 'SPEC530', 'SPEC531', 'SPEC532', 'SPEC533', 'SPEC535', 'SPEC536', 'SPEC537', 'SPEC539', 'SPEC540', 'SPEC541', 'SPEC542', 'SPEC543', 'SPEC544', 'SPEC545', 'SPEC546', 'SPEC547', 'SPEC548', 'SPEC549', 'SPEC55', 'SPEC550', 'SPEC551', 'SPEC552', 'SPEC553', 'SPEC554', 'SPEC556', 'SPEC557', 'SPEC558', 'SPEC559', 'SPEC560', 'SPEC562', 'SPEC563', 'SPEC564', 'SPEC565', 'SPEC566', 'SPEC567', 'SPEC568', 'SPEC569', 'SPEC57', 'SPEC570', 'SPEC571', 'SPEC572', 'SPEC573', 'SPEC574', 'SPEC575', 'SPEC576', 'SPEC577', 'SPEC578', 'SPEC579', 'SPEC58', 'SPEC580', 'SPEC582', 'SPEC583', 'SPEC584', 'SPEC585', 'SPEC586', 'SPEC587', 'SPEC588', 'SPEC589', 'SPEC59', 'SPEC590', 'SPEC591', 'SPEC593', 'SPEC594', 'SPEC595', 'SPEC596', 'SPEC597', 'SPEC598', 'SPEC599', 'SPEC600', 'SPEC601', 'SPEC602', 'SPEC603', 'SPEC604', 'SPEC605', 'SPEC606', 'SPEC608', 'SPEC609', 'SPEC61', 'SPEC610', 'SPEC611', 'SPEC612', 'SPEC613', 'SPEC617', 'SPEC618', 'SPEC62', 'SPEC620', 'SPEC621', 'SPEC622', 'SPEC623', 'SPEC624', 'SPEC625', 'SPEC626', 'SPEC627', 'SPEC628', 'SPEC629', 'SPEC630', 'SPEC631', 'SPEC632', 'SPEC633', 'SPEC634', 'SPEC635', 'SPEC636', 'SPEC637', 'SPEC638', 'SPEC639', 'SPEC640', 'SPEC641', 'SPEC642', 'SPEC643', 'SPEC644', 'SPEC645', 'SPEC646', 'SPEC647', 'SPEC648', 'SPEC649', 'SPEC650', 'SPEC651', 'SPEC652', 'SPEC653', 'SPEC654', 'SPEC655', 'SPEC656', 'SPEC657', 'SPEC658', 'SPEC659', 'SPEC66', 'SPEC660', 'SPEC661', 'SPEC662', 'SPEC663', 'SPEC664', 'SPEC667', 'SPEC668', 'SPEC669', 'SPEC67', 'SPEC670', 'SPEC671', 'SPEC672', 'SPEC673', 'SPEC674', 'SPEC675', 'SPEC676', 'SPEC677', 'SPEC678', 'SPEC679', 'SPEC68', 'SPEC680', 'SPEC681', 'SPEC682', 'SPEC683', 'SPEC684', 'SPEC685', 'SPEC686', 'SPEC687', 'SPEC689', 'SPEC69', 'SPEC690', 'SPEC691', 'SPEC692', 'SPEC693', 'SPEC694', 'SPEC695', 'SPEC696', 'SPEC697', 'SPEC698', 'SPEC699', 'SPEC70', 'SPEC700', 'SPEC701', 'SPEC702', 'SPEC703', 'SPEC704', 'SPEC705', 'SPEC706', 'SPEC707', 'SPEC708', 'SPEC71', 'SPEC710', 'SPEC711', 'SPEC713', 'SPEC714', 'SPEC715', 'SPEC716', 'SPEC717', 'SPEC718', 'SPEC719', 'SPEC72', 'SPEC720', 'SPEC721', 'SPEC722', 'SPEC723', 'SPEC724', 'SPEC725', 'SPEC726', 'SPEC727', 'SPEC728', 'SPEC729', 'SPEC73', 'SPEC730', 'SPEC731', 'SPEC732', 'SPEC733', 'SPEC734', 'SPEC735', 'SPEC736', 'SPEC737', 'SPEC738', 'SPEC77', 'SPEC79', 'SPEC80', 'SPEC83', 'SPEC84', 'SPEC85', 'SPEC86', 'SPEC87', 'SPEC89', 'SPEC9', 'SPEC91', 'SPEC93', 'SPEC96', 'SPEC97']>"
      ]
     },
     "execution_count": 24,
     "metadata": {},
     "output_type": "execute_result"
    }
   ],
   "source": [
    "hf_outfile.keys()"
   ]
  },
  {
   "cell_type": "code",
   "execution_count": 25,
   "id": "16508a12-350a-481c-b107-82896b371f48",
   "metadata": {},
   "outputs": [],
   "source": [
    "hf_outfile.close() "
   ]
  },
  {
   "cell_type": "code",
   "execution_count": null,
   "id": "07f7dd4a-21c2-4af0-b770-6bcab58d2af6",
   "metadata": {},
   "outputs": [],
   "source": []
  }
 ],
 "metadata": {
  "kernelspec": {
   "display_name": "Python 3 (ipykernel)",
   "language": "python",
   "name": "python3"
  },
  "language_info": {
   "codemirror_mode": {
    "name": "ipython",
    "version": 3
   },
   "file_extension": ".py",
   "mimetype": "text/x-python",
   "name": "python",
   "nbconvert_exporter": "python",
   "pygments_lexer": "ipython3",
   "version": "3.9.15"
  },
  "toc": {
   "base_numbering": 1,
   "nav_menu": {},
   "number_sections": true,
   "sideBar": true,
   "skip_h1_title": false,
   "title_cell": "Table of Contents",
   "title_sidebar": "Contents",
   "toc_cell": false,
   "toc_position": {},
   "toc_section_display": true,
   "toc_window_display": false
  }
 },
 "nbformat": 4,
 "nbformat_minor": 5
}
