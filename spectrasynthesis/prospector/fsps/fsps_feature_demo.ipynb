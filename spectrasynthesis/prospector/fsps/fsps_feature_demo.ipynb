{
 "cells": [
  {
   "cell_type": "markdown",
   "id": "88a71de2-84db-41f7-9d33-050b05f8e967",
   "metadata": {},
   "source": [
    "# Feature demo"
   ]
  },
  {
   "cell_type": "markdown",
   "id": "9ec8565d-981e-4f37-9e54-bd566f9da138",
   "metadata": {},
   "source": [
    "**feature_demo.py** - This script creates a set of PDFs that illustrate the\n",
    "effect on the SED of successively turning on various options or changing the\n",
    "value of some variables."
   ]
  },
  {
   "cell_type": "code",
   "execution_count": 1,
   "id": "0ed3d982-94fb-4755-957d-32061f398b89",
   "metadata": {},
   "outputs": [],
   "source": [
    "\"\"\"feature_demo.py - This script creates a set of PDFs that illustrate the\n",
    "effect on the SED of successively turning on various options or changing the\n",
    "value of some variables.\n",
    "\"\"\"\n",
    "\n",
    "import os\n",
    "import numpy as np\n",
    "import matplotlib.pyplot as pl\n",
    "from matplotlib.backends.backend_pdf import PdfPages\n",
    "from matplotlib import cm\n",
    "from matplotlib.colors import ListedColormap, LinearSegmentedColormap\n",
    "\n",
    "import fsps"
   ]
  },
  {
   "cell_type": "code",
   "execution_count": 2,
   "id": "07012686-9dc3-4cc7-b8ea-460726e5a82a",
   "metadata": {},
   "outputs": [],
   "source": [
    "N = 10\n",
    "dust = np.linspace(0,2,N)\n",
    "color = cm.rainbow(np.linspace(0, 1, N))"
   ]
  },
  {
   "cell_type": "markdown",
   "id": "6c8428ae-d67a-4f28-b547-228b3902d2a6",
   "metadata": {},
   "source": [
    "$$\n",
    "F_\\nu/\\lambda = \\frac{\\lambda}{c} F_\\lambda\n",
    "$$\n",
    "\n",
    "with $c = 3.10^{18} \\AA /s$"
   ]
  },
  {
   "cell_type": "code",
   "execution_count": 3,
   "id": "82484774-da20-4c29-b494-ac57a3bc874e",
   "metadata": {},
   "outputs": [],
   "source": [
    "def makefig(sps, tage=13.7, oldspec=None, **plotkwargs):\n",
    "    w, spec = sps.get_spectrum(tage=tage)\n",
    "    fig, ax = pl.subplots()\n",
    "    if oldspec is not None:\n",
    "        ax.plot(w, oldspec / w * 1e19, color='gray', linewidth=2, alpha=0.5)\n",
    "    ax.plot(w, spec / w * 1e19, 'C2', linewidth=2)\n",
    "    ax.set_xlim(0,20000)\n",
    "    return fig, ax, spec"
   ]
  },
  {
   "cell_type": "code",
   "execution_count": 4,
   "id": "c64ff4c3-63d7-4881-8014-5b789d608a28",
   "metadata": {},
   "outputs": [],
   "source": [
    "def prettify(fig, ax, label=None):\n",
    "    ax.set_xlim(0.9e3, 1e6)\n",
    "    ax.set_xscale('log')\n",
    "    ax.set_ylim(0.01, 2)\n",
    "    #ax.set_yscale('log')\n",
    "    ax.set_xlabel(r'rest-frame $\\lambda$ ($\\AA$)', fontsize=20)\n",
    "    ax.set_ylabel(r'$\\lambda \\, f_\\lambda$', fontsize=20)\n",
    "    ax.tick_params(axis='both', which='major', labelsize=16)\n",
    "    if label is not None:\n",
    "        ax.text(0.63, 0.85, label, transform=ax.transAxes, fontsize=16)\n",
    "\n",
    "    fig.tight_layout()\n",
    "    return fig, ax"
   ]
  },
  {
   "cell_type": "code",
   "execution_count": 5,
   "id": "12c1c359-20c3-4e40-838d-bacb6bb457b6",
   "metadata": {},
   "outputs": [],
   "source": [
    "pl.rc('text', usetex=True)\n",
    "pl.rc('font', family='serif')\n",
    "pl.rc('axes', grid=False)\n",
    "pl.rc('xtick', direction='in')\n",
    "pl.rc('ytick', direction='in')\n",
    "pl.rc('xtick', top=True)\n",
    "pl.rc('ytick', right=True)"
   ]
  },
  {
   "cell_type": "code",
   "execution_count": null,
   "id": "bf991481-9388-4466-84d2-50525b94c01d",
   "metadata": {},
   "outputs": [],
   "source": [
    "sps = fsps.StellarPopulation(zcontinuous=1)\n",
    "ilib, slib, dlib = sps.libraries"
   ]
  },
  {
   "cell_type": "code",
   "execution_count": null,
   "id": "eabe5b77-b345-4749-8766-fd6a6991186c",
   "metadata": {},
   "outputs": [],
   "source": [
    "#sps?"
   ]
  },
  {
   "cell_type": "markdown",
   "id": "5228604a-14c0-4000-b861-eef3c5f7f471",
   "metadata": {},
   "source": [
    "# Basic spectrum"
   ]
  },
  {
   "cell_type": "code",
   "execution_count": null,
   "id": "b0916a2e-06b8-464f-a122-3b2c5c874d8f",
   "metadata": {},
   "outputs": [],
   "source": [
    "sps.params['sfh'] = 4\n",
    "sps.params['tau'] = 5.0\n",
    "sps.params['logzsol'] = 0.0\n",
    "sps.params['dust_type'] = 4  # kriek and Conroy (4)\n",
    "sps.params['imf_type'] = 2  # kroupa\n",
    "sps.params['imf3'] = 2.3\n",
    "sps.params[\"dust2\"] = 0.0"
   ]
  },
  {
   "cell_type": "code",
   "execution_count": null,
   "id": "f1f24e6f-dece-47eb-a062-e9cd76d4c9c8",
   "metadata": {},
   "outputs": [],
   "source": [
    "fig, ax, spec = makefig(sps)\n",
    "fig, ax = prettify(fig, ax, label=r\"$\\tau=5$, Age$=13.7$,\\\\n$\\log Z/Z_\\odot=0.0$\")\n",
    "ax.axvline(3646)"
   ]
  },
  {
   "cell_type": "markdown",
   "id": "d84f0b94-3e63-46e2-b5d5-310da62ba8b6",
   "metadata": {},
   "source": [
    "# change IMF"
   ]
  },
  {
   "cell_type": "code",
   "execution_count": null,
   "id": "07944d47-68b9-4b10-ad66-6e4cfd090211",
   "metadata": {},
   "outputs": [],
   "source": [
    "# change IMF\n",
    "sps.params['imf3'] = 2.5\n",
    "fig, ax, spec = makefig(sps, oldspec=spec)\n",
    "ax.axvline(3646)\n",
    "fig, ax = prettify(fig, ax, label=r\"IMF slope\")\n",
    "#pdf.savefig(fig)\n"
   ]
  },
  {
   "cell_type": "markdown",
   "id": "88f81f81-cec3-43f1-b9af-22e0a7fc41c6",
   "metadata": {},
   "source": [
    "# Attenuate"
   ]
  },
  {
   "cell_type": "code",
   "execution_count": null,
   "id": "fb0c8c95-413e-49e3-984a-7adfaf892fad",
   "metadata": {},
   "outputs": [],
   "source": [
    " # Attenuate\n",
    "sps.params['add_dust_emission'] = False\n",
    "sps.params['dust2'] = 0.2\n",
    "fig, ax, spec = makefig(sps, oldspec=spec)\n",
    "fig, ax = prettify(fig, ax, label=r\"Dust Attenuation\")\n",
    "ax.axvline(3646)\n",
    "#pdf.savefig(fig)\n",
    "#pl.close(fig)\n"
   ]
  },
  {
   "cell_type": "markdown",
   "id": "a5db9bec-e9f3-4750-9476-1621b1b14bf0",
   "metadata": {},
   "source": [
    "# Dust emission"
   ]
  },
  {
   "cell_type": "code",
   "execution_count": null,
   "id": "e064e42c-9294-4a6a-99c0-dbc5595aecfa",
   "metadata": {},
   "outputs": [],
   "source": [
    "# Dust emission\n",
    "sps.params['add_dust_emission'] = True\n",
    "fig, ax, spec = makefig(sps, oldspec=spec)\n",
    "fig, ax = prettify(fig, ax, label=r\"Dust Emission\")\n",
    "ax.axvline(3646)\n",
    "#pdf.savefig(fig)\n",
    "#pl.close(fig)"
   ]
  },
  {
   "cell_type": "markdown",
   "id": "bd45ed89-7d46-43b9-9eba-e2db43be0ad8",
   "metadata": {},
   "source": [
    "# Dust temperature"
   ]
  },
  {
   "cell_type": "code",
   "execution_count": null,
   "id": "fa6300e9-d053-46b5-96c6-e3e98479966d",
   "metadata": {},
   "outputs": [],
   "source": [
    "sps.params['duste_umin'] = 10\n",
    "fig, ax, spec = makefig(sps, oldspec=spec)\n",
    "fig, ax = prettify(fig, ax, label=r\"Dust SED\\\\n({})\".format(dlib))\n",
    "ax.axvline(3646)\n",
    "#pdf.savefig(fig)\n",
    "#pl.close(fig)"
   ]
  },
  {
   "cell_type": "markdown",
   "id": "bb1a32ad-0b45-4248-9ba8-a45f44d5773d",
   "metadata": {},
   "source": [
    "# AGN emission"
   ]
  },
  {
   "cell_type": "code",
   "execution_count": null,
   "id": "45e82dba-da0e-4e1b-87c5-7f914fbfa325",
   "metadata": {},
   "outputs": [],
   "source": [
    "# AGN emission \n",
    "sps.params['fagn'] = 0.3\n",
    "fig, ax, spec = makefig(sps, oldspec=spec)\n",
    "fig, ax = prettify(fig, ax, label=r\"AGN dust\\\\n(Nenkova)\")\n",
    "ax.axvline(3646)\n",
    "#pdf.savefig(fig)\n",
    "#pl.close(fig)"
   ]
  },
  {
   "cell_type": "markdown",
   "id": "141932a3-055d-4baf-a8f7-731b90d37728",
   "metadata": {},
   "source": [
    "# Nebular emission"
   ]
  },
  {
   "cell_type": "code",
   "execution_count": null,
   "id": "ce78cf95-5e42-48f1-a920-d304a0cb21f8",
   "metadata": {},
   "outputs": [],
   "source": [
    "# Nebular emission\n",
    "sps.params['add_neb_emission'] = True\n",
    "sps.params['gas_logu'] = -3.5\n",
    "fig, ax, spec = makefig(sps, oldspec=spec)\n",
    "fig, ax = prettify(fig, ax, label=r\"Neb. emission\\\\n(Byler)\")\n",
    "ax.axvline(3646)\n",
    "#pdf.savefig(fig)\n",
    "#pl.close(fig)"
   ]
  },
  {
   "cell_type": "markdown",
   "id": "5bf6c32c-91de-424b-82b7-f255a4d2f819",
   "metadata": {},
   "source": [
    "# change logu"
   ]
  },
  {
   "cell_type": "code",
   "execution_count": null,
   "id": "60baab3d-426c-4ab7-ae7d-e42af2721480",
   "metadata": {},
   "outputs": [],
   "source": [
    "# change logu\n",
    "sps.params['gas_logu'] = -1.0\n",
    "fig, ax, spec = makefig(sps, oldspec=spec)\n",
    "fig, ax = prettify(fig, ax, label=r\"Change U$_{neb}$\")\n",
    "ax.axvline(3646)\n",
    "#pdf.savefig(fig)\n",
    "#pl.close(fig)"
   ]
  },
  {
   "cell_type": "markdown",
   "id": "41d4058b-ae6a-478c-a82f-81f307652443",
   "metadata": {},
   "source": [
    "# change logz"
   ]
  },
  {
   "cell_type": "code",
   "execution_count": null,
   "id": "7521101e-bac0-4442-9821-e04b4523ac40",
   "metadata": {},
   "outputs": [],
   "source": [
    "# change logz\n",
    "sps.params['logzsol'] = -0.5\n",
    "sps.params['gas_logz'] = -0.5\n",
    "fig, ax, spec = makefig(sps, oldspec=spec)\n",
    "fig, ax = prettify(fig, ax, label=r\"$\\log Z/Z_\\odot=-0.5$\")\n",
    "ax.axvline(3646)\n",
    "#pdf.savefig(fig)\n",
    "#pl.close(fig)"
   ]
  },
  {
   "cell_type": "markdown",
   "id": "ba873efe-4ffe-4f24-ab2f-2d364f94c8d8",
   "metadata": {},
   "source": [
    "# IGM absorption"
   ]
  },
  {
   "cell_type": "code",
   "execution_count": null,
   "id": "b0ea49f7-330f-4a03-8de4-d8e3259ab434",
   "metadata": {},
   "outputs": [],
   "source": [
    "# IGM absorption\n",
    "sps.params['zred'] = 6.0\n",
    "sps.params['add_igm_absorption'] = True\n",
    "fig, ax, spec = makefig(sps, oldspec=spec)\n",
    "fig, ax = prettify(fig, ax, label=r\"IGM attenuation\\\\n(Madau, $z=6$)\")\n",
    "ax.axvline(3646)\n",
    "#pdf.savefig(fig)\n",
    "#pl.close(fig)"
   ]
  },
  {
   "cell_type": "code",
   "execution_count": null,
   "id": "18c7c8d4-f270-4c29-acc5-5d5c2af1c236",
   "metadata": {},
   "outputs": [],
   "source": []
  }
 ],
 "metadata": {
  "kernelspec": {
   "display_name": "conda_prospector_py310",
   "language": "python",
   "name": "conda_prospector_py310"
  },
  "language_info": {
   "codemirror_mode": {
    "name": "ipython",
    "version": 3
   },
   "file_extension": ".py",
   "mimetype": "text/x-python",
   "name": "python",
   "nbconvert_exporter": "python",
   "pygments_lexer": "ipython3",
   "version": "3.10.0"
  }
 },
 "nbformat": 4,
 "nbformat_minor": 5
}
