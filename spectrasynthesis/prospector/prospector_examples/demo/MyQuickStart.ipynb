{
 "cells": [
  {
   "cell_type": "markdown",
   "id": "e3bca3f0-9a2f-47a1-abf0-29f361263d41",
   "metadata": {},
   "source": [
    "# Quick start\n",
    "https://prospect.readthedocs.io/en/latest/quickstart.html\n",
    "\n",
    "https://astrodatascience.net/introduction-to-sdss/"
   ]
  },
  {
   "cell_type": "markdown",
   "id": "49779c10-585b-4128-b047-bfd9bbf58d66",
   "metadata": {},
   "source": [
    "Here’s a quick intro that fits 5-band SDSS photometry with a simple delay-tau parametric SFH model. This assumes you’ve successully installed prospector and all the prerequisites. This is intended simply to introduce the key ingrediants; for more realistic usage see Demonstrations or the Tutorial."
   ]
  },
  {
   "cell_type": "code",
   "execution_count": 1,
   "id": "00d16d4b-b590-451a-acc1-ab87ba022e76",
   "metadata": {},
   "outputs": [],
   "source": [
    "import fsps\n",
    "import dynesty\n",
    "import sedpy\n",
    "import h5py, astropy\n",
    "import numpy as np\n",
    "import astroquery\n",
    "import matplotlib.pyplot as plt"
   ]
  },
  {
   "cell_type": "markdown",
   "id": "4f2122ba-3b3a-4d3f-acc8-3c69d37788d0",
   "metadata": {},
   "source": [
    "# Build an observation\n",
    "First we’ll get some data, using astroquery to get SDSS photometry of a galaxy. We’ll also get spectral data so we know the redshift."
   ]
  },
  {
   "cell_type": "markdown",
   "id": "0c5def22-3d2b-431e-a2c3-a2715c62e8ca",
   "metadata": {},
   "source": [
    "https://notebook.community/astro4dev/OAD-Data-Science-Toolkit/Teaching%20Materials/Programming/Python/PythonISYA2018/04.Astropy/04_query"
   ]
  },
  {
   "cell_type": "code",
   "execution_count": 2,
   "id": "8a44653d-ac43-465f-9727-37dbe887c642",
   "metadata": {},
   "outputs": [
    {
     "name": "stderr",
     "output_type": "stream",
     "text": [
      "/Users/dagoret/anaconda3/envs/prospector/lib/python3.8/site-packages/astroquery/sdss/core.py:874: VisibleDeprecationWarning: Reading unicode strings without specifying the encoding argument is deprecated. Set the encoding, use None for the system default.\n",
      "  arr = np.atleast_1d(np.genfromtxt(io.BytesIO(response.content),\n"
     ]
    }
   ],
   "source": [
    "from astroquery.sdss import SDSS\n",
    "from astropy.coordinates import SkyCoord\n",
    "bands = \"ugriz\"\n",
    "mcol = [f\"cModelMag_{b}\" for b in bands]\n",
    "ecol = [f\"cModelMagErr_{b}\" for b in bands]\n",
    "cat = SDSS.query_crossid(SkyCoord(ra=204.46376, dec=35.79883, unit=\"deg\"),\n",
    "                         data_release=16,\n",
    "                         photoobj_fields=mcol + ecol + [\"specObjID\"])\n",
    "shdus = SDSS.get_spectra(plate=2101, mjd=53858, fiberID=220)[0]\n",
    "assert int(shdus[2].data[\"SpecObjID\"][0]) == cat[0][\"specObjID\"]"
   ]
  },
  {
   "cell_type": "code",
   "execution_count": 3,
   "id": "addd23d9-944a-4470-a55a-2a812f54e6f1",
   "metadata": {},
   "outputs": [
    {
     "data": {
      "text/html": [
       "<div><i>Table length=1</i>\n",
       "<table id=\"table140528714995936\" class=\"table-striped table-bordered table-condensed\">\n",
       "<thead><tr><th>obj_id</th><th>objID</th><th>cModelMag_u</th><th>cModelMag_g</th><th>cModelMag_r</th><th>cModelMag_i</th><th>cModelMag_z</th><th>cModelMagErr_u</th><th>cModelMagErr_g</th><th>cModelMagErr_r</th><th>cModelMagErr_i</th><th>cModelMagErr_z</th><th>specObjID</th><th>obj_id1</th><th>type</th></tr></thead>\n",
       "<thead><tr><th>bytes5</th><th>int64</th><th>float64</th><th>float64</th><th>float64</th><th>float64</th><th>float64</th><th>float64</th><th>float64</th><th>float64</th><th>float64</th><th>float64</th><th>int64</th><th>int64</th><th>bytes6</th></tr></thead>\n",
       "<tr><td>obj_0</td><td>1237664853103214719</td><td>18.84532</td><td>17.10918</td><td>16.42916</td><td>16.07117</td><td>15.88824</td><td>0.01943965</td><td>0.00431355</td><td>0.003938866</td><td>0.003961648</td><td>0.006623326</td><td>2365576242142406656</td><td>1237664853103214719</td><td>GALAXY</td></tr>\n",
       "</table></div>"
      ],
      "text/plain": [
       "<Table length=1>\n",
       "obj_id        objID        cModelMag_u cModelMag_g cModelMag_r cModelMag_i cModelMag_z ... cModelMagErr_r cModelMagErr_i cModelMagErr_z      specObjID            obj_id1        type \n",
       "bytes5        int64          float64     float64     float64     float64     float64   ...    float64        float64        float64            int64               int64        bytes6\n",
       "------ ------------------- ----------- ----------- ----------- ----------- ----------- ... -------------- -------------- -------------- ------------------- ------------------- ------\n",
       " obj_0 1237664853103214719    18.84532    17.10918    16.42916    16.07117    15.88824 ...    0.003938866    0.003961648    0.006623326 2365576242142406656 1237664853103214719 GALAXY"
      ]
     },
     "execution_count": 3,
     "metadata": {},
     "output_type": "execute_result"
    }
   ],
   "source": [
    "cat"
   ]
  },
  {
   "cell_type": "code",
   "execution_count": 4,
   "id": "16eb012b-c4a8-485a-a019-36a430ac39b1",
   "metadata": {},
   "outputs": [],
   "source": [
    "spectra_data = shdus[1].data"
   ]
  },
  {
   "cell_type": "code",
   "execution_count": 5,
   "id": "9581d7f8-6c2d-4b3e-b724-c4edd8cadbaf",
   "metadata": {},
   "outputs": [
    {
     "data": {
      "text/plain": [
       "'   2365576242142406656'"
      ]
     },
     "execution_count": 5,
     "metadata": {},
     "output_type": "execute_result"
    }
   ],
   "source": [
    "galaxyname = shdus[2].data[\"SpecObjID\"][0]\n",
    "galaxyname"
   ]
  },
  {
   "cell_type": "code",
   "execution_count": 6,
   "id": "cfb834e9-f852-4d7c-a2cd-57ceb2315660",
   "metadata": {},
   "outputs": [
    {
     "data": {
      "text/plain": [
       "0.07260209"
      ]
     },
     "execution_count": 6,
     "metadata": {},
     "output_type": "execute_result"
    }
   ],
   "source": [
    "redshift = shdus[2].data[0][\"z\"]\n",
    "redshift"
   ]
  },
  {
   "cell_type": "code",
   "execution_count": 7,
   "id": "337bb408-cd91-4a76-abef-12ec829b758e",
   "metadata": {},
   "outputs": [
    {
     "data": {
      "text/plain": [
       "chararray(['Ly_alpha', 'N_V 1240', 'C_IV 1549', 'He_II 1640',\n",
       "           'C_III] 1908', 'Mg_II 2799', '[O_II] 3725', '[O_II] 3727',\n",
       "           '[Ne_III] 3868', 'H_epsilon', '[Ne_III] 3970', 'H_delta',\n",
       "           'H_gamma', '[O_III] 4363', 'He_II 4685', 'H_beta',\n",
       "           '[O_III] 4959', '[O_III] 5007', 'He_II 5411', '[O_I] 5577',\n",
       "           '[O_I] 6300', '[S_III] 6312', '[O_I] 6363', '[N_II] 6548',\n",
       "           'H_alpha', '[N_II] 6583', '[S_II] 6716', '[S_II] 6730',\n",
       "           '[Ar_III] 7135'], dtype='<U13')"
      ]
     },
     "execution_count": 7,
     "metadata": {},
     "output_type": "execute_result"
    }
   ],
   "source": [
    "lines = shdus[3].data\n",
    "lines['LINENAME']"
   ]
  },
  {
   "cell_type": "code",
   "execution_count": 8,
   "id": "c6c2f780-ebc1-4b18-ad97-c58b3f9682c8",
   "metadata": {},
   "outputs": [
    {
     "name": "stdout",
     "output_type": "stream",
     "text": [
      "[O_II] 3727  -> [3729.875448]\n",
      "[O_III] 5007  -> [5008.23963773]\n",
      "H_alpha  -> [6564.61389433]\n"
     ]
    }
   ],
   "source": [
    "for n in ['[O_II] 3727', '[O_III] 5007', 'H_alpha']:\n",
    "    print(n, \" ->\", lines['LINEWAVE'][lines['LINENAME']==n])"
   ]
  },
  {
   "cell_type": "code",
   "execution_count": 9,
   "id": "969b304b-5c5b-48d1-bb4a-84342629a5e0",
   "metadata": {},
   "outputs": [
    {
     "data": {
      "text/plain": [
       "Text(0.5, 1.0, 'SDSS spectrum of   2365576242142406656')"
      ]
     },
     "execution_count": 9,
     "metadata": {},
     "output_type": "execute_result"
    },
    {
     "data": {
      "image/png": "[encoded data removed]",
      "text/plain": [
       "<Figure size 800x400 with 1 Axes>"
      ]
     },
     "metadata": {},
     "output_type": "display_data"
    }
   ],
   "source": [
    "fig=plt.figure(figsize=(8,4))\n",
    "ax=fig.add_subplot(1,1,1)\n",
    "ax.plot(10**spectra_data['loglam'], spectra_data['flux'],'b-')\n",
    "ax.set_xlabel('wavelenght (Angstrom)')\n",
    "ax.set_ylabel('flux (nanomaggies)')\n",
    "ax.set_title('SDSS spectrum of'+galaxyname)"
   ]
  },
  {
   "cell_type": "markdown",
   "id": "d7a13f9c-c782-4c54-85ec-ab743b689adb",
   "metadata": {},
   "source": [
    "Now we will put this data in a dictionary with format expected by prospector. We convert the magnitudes to maggies, convert the magnitude errors to flux uncertainties (including a noise floor), and load the filter transmission curves using sedpy. We’ll store the redshift here as well for convenience. Note that for this example we do not attempt to fit the spectrum at the same time."
   ]
  },
  {
   "cell_type": "code",
   "execution_count": 10,
   "id": "73f6fae6-4e82-45a2-9375-a88e9d4ff83a",
   "metadata": {},
   "outputs": [],
   "source": [
    "from sedpy.observate import load_filters\n",
    "from prospect.utils.obsutils import fix_obs\n",
    "\n",
    "filters = load_filters([f\"sdss_{b}0\" for b in bands])\n",
    "maggies = np.array([10**(-0.4 * cat[0][f\"cModelMag_{b}\"]) for b in bands])\n",
    "magerr = np.array([cat[0][f\"cModelMagErr_{b}\"] for b in bands])\n",
    "magerr = np.clip(magerr, 0.05, np.inf)\n",
    "\n",
    "obs = dict(wavelength=None, spectrum=None, unc=None, redshift=shdus[2].data[0][\"z\"],\n",
    "           maggies=maggies, maggies_unc=magerr * maggies / 1.086, filters=filters)\n",
    "obs = fix_obs(obs)    "
   ]
  },
  {
   "cell_type": "code",
   "execution_count": 11,
   "id": "6fb8487a-b3f4-441b-82fd-5c0d80628ae0",
   "metadata": {},
   "outputs": [
    {
     "data": {
      "text/plain": [
       "Text(0.5, 1.0, 'SDSS')"
      ]
     },
     "execution_count": 11,
     "metadata": {},
     "output_type": "execute_result"
    },
    {
     "data": {
      "image/png": "[encoded data removed]",
      "text/plain": [
       "<Figure size 800x400 with 1 Axes>"
      ]
     },
     "metadata": {},
     "output_type": "display_data"
    }
   ],
   "source": [
    "col = [\"b\",\"g\",\"r\",\"orange\",\"k\"]\n",
    "fig=plt.figure(figsize=(8,4))\n",
    "ax=fig.add_subplot(1,1,1)\n",
    "for idx, filt in enumerate(filters):\n",
    "    #filt.display()\n",
    "    ax.plot(filt.wavelength,filt.transmission,c=col[idx],label=bands[idx])\n",
    "ax.set_xlabel(\"$\\lambda$\")\n",
    "ax.legend()\n",
    "ax.set_title(\"SDSS\")"
   ]
  },
  {
   "cell_type": "code",
   "execution_count": 12,
   "id": "c34b3456-de6a-44c7-8b29-2d01d5675e95",
   "metadata": {},
   "outputs": [
    {
     "data": {
      "text/plain": [
       "{'wavelength': None,\n",
       " 'spectrum': None,\n",
       " 'unc': None,\n",
       " 'redshift': 0.07260209,\n",
       " 'maggies': array([2.89648978e-08, 1.43326996e-07, 2.68124192e-07, 3.72848156e-07,\n",
       "        4.41269591e-07]),\n",
       " 'maggies_unc': array([1.33355883e-09, 6.59884882e-09, 1.23445760e-08, 1.71661214e-08,\n",
       "        2.03162795e-08]),\n",
       " 'filters': [<class 'sedpy.observate.Filter'>(sdss_u0),\n",
       "  <class 'sedpy.observate.Filter'>(sdss_g0),\n",
       "  <class 'sedpy.observate.Filter'>(sdss_r0),\n",
       "  <class 'sedpy.observate.Filter'>(sdss_i0),\n",
       "  <class 'sedpy.observate.Filter'>(sdss_z0)],\n",
       " 'phot_mask': array([ True,  True,  True,  True,  True]),\n",
       " 'filternames': ['sdss_u0', 'sdss_g0', 'sdss_r0', 'sdss_i0', 'sdss_z0'],\n",
       " 'logify_spectrum': False,\n",
       " 'ndof': 5}"
      ]
     },
     "execution_count": 12,
     "metadata": {},
     "output_type": "execute_result"
    }
   ],
   "source": [
    "obs"
   ]
  },
  {
   "cell_type": "markdown",
   "id": "c315c469-53f5-4754-949c-5b3ee7de0986",
   "metadata": {},
   "source": [
    "# Build a Model\n",
    "Here we will get a default parameter set for a simple parametric SFH, and add a set of parameters describing nebular emission. We’ll also fix the redshift to the value given by SDSS. This model has 5 free parameters, each of which has a an associated prior distribution. These default prior distributions can and should be replaced or adjusted depending on your particular science question."
   ]
  },
  {
   "cell_type": "code",
   "execution_count": 13,
   "id": "ca2671e6-9c51-4c9a-ae95-dd1e4c9d26a2",
   "metadata": {},
   "outputs": [
    {
     "name": "stdout",
     "output_type": "stream",
     "text": [
      ":::::::\n",
      "<class 'prospect.models.sedmodel.SpecModel'>\n",
      "\n",
      "Free Parameters: (name: prior) \n",
      "-----------\n",
      "  mass: <class 'prospect.models.priors.LogUniform'>(mini=100000000.0,maxi=1000000000000.0)\n",
      "  logzsol: <class 'prospect.models.priors.TopHat'>(mini=-2,maxi=0.19)\n",
      "  dust2: <class 'prospect.models.priors.TopHat'>(mini=0.0,maxi=2.0)\n",
      "  tage: <class 'prospect.models.priors.TopHat'>(mini=0.001,maxi=13.8)\n",
      "  tau: <class 'prospect.models.priors.LogUniform'>(mini=0.1,maxi=30)\n",
      "\n",
      "Fixed Parameters: (name: value [, depends_on]) \n",
      "-----------\n",
      "  zred: [0.07260209] \n",
      "  sfh: [4] \n",
      "  imf_type: [2] \n",
      "  dust_type: [0] \n",
      "  add_neb_emission: [ True] \n",
      "  add_neb_continuum: [ True] \n",
      "  nebemlineinspec: [ True] \n",
      "  gas_logz: [0.] <function stellar_logzsol at 0x7fcf68fd1670>\n",
      "  gas_logu: [-2.] \n"
     ]
    }
   ],
   "source": [
    "from prospect.models.templates import TemplateLibrary\n",
    "from prospect.models import SpecModel\n",
    "model_params = TemplateLibrary[\"parametric_sfh\"]\n",
    "model_params.update(TemplateLibrary[\"nebular\"])\n",
    "model_params[\"zred\"][\"init\"] = obs[\"redshift\"]\n",
    "\n",
    "model = SpecModel(model_params)\n",
    "assert len(model.free_params) == 5\n",
    "print(model)"
   ]
  },
  {
   "cell_type": "markdown",
   "id": "64b08084-c004-4d78-aabc-a7c678cd8029",
   "metadata": {},
   "source": [
    "In principle we could also add noise models for the spectral and photometric data, but we’ll make the default assumption of independent Gaussian noise for the moment."
   ]
  },
  {
   "cell_type": "code",
   "execution_count": 14,
   "id": "ea57e90d-d57a-4acd-82ff-d9562dc333f3",
   "metadata": {},
   "outputs": [],
   "source": [
    "noise_model = (None, None)"
   ]
  },
  {
   "cell_type": "markdown",
   "id": "989b4f29-b428-416f-bf22-aaa51a0221a5",
   "metadata": {},
   "source": [
    "# Get a ‘Source’\n",
    "Now we need an object that will actually generate the galaxy spectrum using stellar population synthesis. For this we will use an object that wraps FSPS allowing access to all the parameterized SFHs. We will also just check which spectral and isochrone librariews are being used."
   ]
  },
  {
   "cell_type": "code",
   "execution_count": 15,
   "id": "10ded885-72df-4b93-bda0-60643dd072cd",
   "metadata": {},
   "outputs": [
    {
     "name": "stdout",
     "output_type": "stream",
     "text": [
      "(b'mist', b'miles', b'DL07  ')\n"
     ]
    }
   ],
   "source": [
    "from prospect.sources import CSPSpecBasis\n",
    "sps = CSPSpecBasis(zcontinuous=1)\n",
    "print(sps.ssp.libraries)"
   ]
  },
  {
   "cell_type": "markdown",
   "id": "c684df5e-e1c0-4f7b-927f-b599555c3fe5",
   "metadata": {},
   "source": [
    "# View model"
   ]
  },
  {
   "cell_type": "code",
   "execution_count": 16,
   "id": "de363ecf-8799-4af1-9530-c34368f1bbd9",
   "metadata": {},
   "outputs": [
    {
     "ename": "AttributeError",
     "evalue": "'SpecModel' object has no attribute 'sed'",
     "output_type": "error",
     "traceback": [
      "\u001b[0;31m---------------------------------------------------------------------------\u001b[0m",
      "\u001b[0;31mAttributeError\u001b[0m                            Traceback (most recent call last)",
      "Input \u001b[0;32mIn [16]\u001b[0m, in \u001b[0;36m<cell line: 3>\u001b[0;34m()\u001b[0m\n\u001b[1;32m      1\u001b[0m \u001b[38;5;66;03m# Generate the model SED at the initial value of theta\u001b[39;00m\n\u001b[1;32m      2\u001b[0m theta \u001b[38;5;241m=\u001b[39m model\u001b[38;5;241m.\u001b[39mtheta\u001b[38;5;241m.\u001b[39mcopy()\n\u001b[0;32m----> 3\u001b[0m initial_spec, initial_phot, initial_mfrac \u001b[38;5;241m=\u001b[39m \u001b[43mmodel\u001b[49m\u001b[38;5;241;43m.\u001b[39;49m\u001b[43msed\u001b[49m(theta, obs\u001b[38;5;241m=\u001b[39mobs, sps\u001b[38;5;241m=\u001b[39msps)\n\u001b[1;32m      4\u001b[0m title_text \u001b[38;5;241m=\u001b[39m \u001b[38;5;124m'\u001b[39m\u001b[38;5;124m,\u001b[39m\u001b[38;5;124m'\u001b[39m\u001b[38;5;241m.\u001b[39mjoin([\u001b[38;5;124m\"\u001b[39m\u001b[38;5;132;01m{}\u001b[39;00m\u001b[38;5;124m=\u001b[39m\u001b[38;5;132;01m{}\u001b[39;00m\u001b[38;5;124m\"\u001b[39m\u001b[38;5;241m.\u001b[39mformat(p, model\u001b[38;5;241m.\u001b[39mparams[p][\u001b[38;5;241m0\u001b[39m]) \n\u001b[1;32m      5\u001b[0m                        \u001b[38;5;28;01mfor\u001b[39;00m p \u001b[38;5;129;01min\u001b[39;00m model\u001b[38;5;241m.\u001b[39mfree_params])\n\u001b[1;32m      7\u001b[0m a \u001b[38;5;241m=\u001b[39m \u001b[38;5;241m1.0\u001b[39m \u001b[38;5;241m+\u001b[39m model\u001b[38;5;241m.\u001b[39mparams\u001b[38;5;241m.\u001b[39mget(\u001b[38;5;124m'\u001b[39m\u001b[38;5;124mzred\u001b[39m\u001b[38;5;124m'\u001b[39m, \u001b[38;5;241m0.0\u001b[39m) \u001b[38;5;66;03m# cosmological redshifting\u001b[39;00m\n",
      "\u001b[0;31mAttributeError\u001b[0m: 'SpecModel' object has no attribute 'sed'"
     ]
    }
   ],
   "source": [
    "# Generate the model SED at the initial value of theta\n",
    "theta = model.theta.copy()\n",
    "initial_spec, initial_phot, initial_mfrac = model.sed(theta, obs=obs, sps=sps)\n",
    "title_text = ','.join([\"{}={}\".format(p, model.params[p][0]) \n",
    "                       for p in model.free_params])\n",
    "\n",
    "a = 1.0 + model.params.get('zred', 0.0) # cosmological redshifting\n",
    "# photometric effective wavelengths\n",
    "wphot = obs[\"phot_wave\"]\n",
    "# spectroscopic wavelengths\n",
    "if obs[\"wavelength\"] is None:\n",
    "    # *restframe* spectral wavelengths, since obs[\"wavelength\"] is None\n",
    "    wspec = sps.wavelengths\n",
    "    wspec *= a #redshift them\n",
    "else:\n",
    "    wspec = obs[\"wavelength\"]\n",
    "\n",
    "# establish bounds\n",
    "xmin, xmax = np.min(wphot)*0.8, np.max(wphot)/0.8\n",
    "temp = np.interp(np.linspace(xmin,xmax,10000), wspec, initial_spec)\n",
    "ymin, ymax = temp.min()*0.8, temp.max()/0.4\n",
    "figure(figsize=(16,8))\n",
    "\n",
    "# plot model + data\n",
    "loglog(wspec, initial_spec, label='Model spectrum', \n",
    "       lw=0.7, color='navy', alpha=0.7)\n",
    "errorbar(wphot, initial_phot, label='Model photometry', \n",
    "         marker='s',markersize=10, alpha=0.8, ls='', lw=3,\n",
    "         markerfacecolor='none', markeredgecolor='blue', \n",
    "         markeredgewidth=3)\n",
    "errorbar(wphot, obs['maggies'], yerr=obs['maggies_unc'], \n",
    "         label='Observed photometry',\n",
    "         marker='o', markersize=10, alpha=0.8, ls='', lw=3,\n",
    "         ecolor='red', markerfacecolor='none', markeredgecolor='red', \n",
    "         markeredgewidth=3)\n",
    "title(title_text)\n",
    "\n",
    "# plot Filters\n",
    "for f in obs['filters']:\n",
    "    w, t = f.wavelength.copy(), f.transmission.copy()\n",
    "    t = t / t.max()\n",
    "    t = 10**(0.2*(np.log10(ymax/ymin)))*t * ymin\n",
    "    loglog(w, t, lw=3, color='gray', alpha=0.7)\n",
    "\n",
    "# prettify\n",
    "xlabel('Wavelength [A]')\n",
    "ylabel('Flux Density [maggies]')\n",
    "xlim([xmin, xmax])\n",
    "ylim([ymin, ymax])\n",
    "legend(loc='best', fontsize=20)\n",
    "tight_layout()"
   ]
  },
  {
   "cell_type": "code",
   "execution_count": null,
   "id": "ae5e179a-a91f-4204-9577-cc2cfcaf5b03",
   "metadata": {},
   "outputs": [],
   "source": [
    "assert False"
   ]
  },
  {
   "cell_type": "markdown",
   "id": "0be4d698-1f9a-43ab-8690-471add249dc4",
   "metadata": {},
   "source": [
    "# Make a prediction\n",
    "We can now predict our data for any set of parameters. This will take a little time because fsps is building and caching the SSPs. Subsequent calls to predict will be faster. Here we’ll just make the predicition for the current value of the free parameters."
   ]
  },
  {
   "cell_type": "code",
   "execution_count": null,
   "id": "d938c1ed-fe83-47e6-b22e-b90161371ee4",
   "metadata": {},
   "outputs": [],
   "source": [
    "current_parameters = \",\".join([f\"{p}={v}\" for p, v in zip(model.free_params, model.theta)])\n",
    "print(current_parameters)\n",
    "spec, phot, mfrac = model.predict(model.theta, obs=obs, sps=sps)\n",
    "print(phot / obs[\"maggies\"])"
   ]
  },
  {
   "cell_type": "markdown",
   "id": "4bf25732-0c80-45f3-98f4-3d3d1b7804f3",
   "metadata": {},
   "source": [
    "# Run a fit\n",
    "Since we can make predictions and we have data and uncertainties, we should be able to construct a likelihood function. Here we’ll use the pre-defined default posterior probability function. We also set some sampling related keywords to make the fit go a little faster, though it should still take of order tens of minutes."
   ]
  },
  {
   "cell_type": "code",
   "execution_count": null,
   "id": "4cd6741f-f447-450e-af7b-4db1a0e1042e",
   "metadata": {},
   "outputs": [],
   "source": [
    "from prospect.fitting import lnprobfn, fit_model\n",
    "fitting_kwargs = dict(nlive_init=400, nested_method=\"rwalk\", nested_target_n_effective=1000, nested_dlogz_init=0.05)\n",
    "output = fit_model(obs, model, sps, optimize=False, dynesty=True, lnprobfn=lnprobfn, noise=noise_model, **fitting_kwargs)\n",
    "result, duration = output[\"sampling\"]\n"
   ]
  },
  {
   "cell_type": "markdown",
   "id": "892eade3-6aa4-4f63-be1f-d50ef0535b4b",
   "metadata": {},
   "source": [
    "The result is a dictionary with keys giving the Monte Carlo samples of parameter values and the corresponding posterior probabilities. Because we are using dynesty, we also get weights associated with each parameter sample in the chain.\n",
    "\n",
    "Typically we’ll want to save the fit information. We can save the output of the sampling along with other information about the model and the data that was fit as follows:"
   ]
  },
  {
   "cell_type": "code",
   "execution_count": null,
   "id": "6bae7b54-1b53-40a8-9ada-1ca0bbc90165",
   "metadata": {},
   "outputs": [],
   "source": [
    "from prospect.io import write_results as writer\n",
    "hfile = \"./quickstart_dynesty_mcmc.h5\"\n",
    "writer.write_hdf5(hfile, {}, model, obs,\n",
    "                 output[\"sampling\"][0], None,\n",
    "                 sps=sps,\n",
    "                 tsample=output[\"sampling\"][1],\n",
    "                 toptimize=0.0)"
   ]
  },
  {
   "cell_type": "code",
   "execution_count": null,
   "id": "c1243319-7262-4365-a0c0-ed803083c16a",
   "metadata": {},
   "outputs": [],
   "source": [
    "model"
   ]
  },
  {
   "cell_type": "code",
   "execution_count": null,
   "id": "4461d499-3dbe-4661-8738-1ecded28d389",
   "metadata": {},
   "outputs": [],
   "source": [
    "obs"
   ]
  },
  {
   "cell_type": "code",
   "execution_count": null,
   "id": "32b2c98a-1cf2-432e-923a-48a45d215e06",
   "metadata": {},
   "outputs": [],
   "source": [
    "output"
   ]
  },
  {
   "cell_type": "markdown",
   "id": "0f37c59e-2c7b-4b95-8620-ac281f04bb45",
   "metadata": {},
   "source": [
    "# Make plots\n",
    "Now we’ll want to read the saved fit information and make plots. To read the information we can use the built-in reader."
   ]
  },
  {
   "cell_type": "code",
   "execution_count": null,
   "id": "701b1b12-90a5-4873-bb44-8c7c09e67d26",
   "metadata": {},
   "outputs": [],
   "source": [
    "from prospect.io import read_results as reader\n",
    "hfile = \"./quickstart_dynesty_mcmc.h5\"\n",
    "out, out_obs, out_model = reader.results_from(hfile)"
   ]
  },
  {
   "cell_type": "code",
   "execution_count": null,
   "id": "2c91a490-c753-45e7-ae36-a2cfe5b0db8a",
   "metadata": {},
   "outputs": [],
   "source": [
    "#out"
   ]
  },
  {
   "cell_type": "code",
   "execution_count": null,
   "id": "28678878-f857-42d1-94ab-69f31a7f6438",
   "metadata": {},
   "outputs": [],
   "source": [
    "out_obs"
   ]
  },
  {
   "cell_type": "code",
   "execution_count": null,
   "id": "a4c04c25-d052-4c89-812f-919829d89551",
   "metadata": {},
   "outputs": [],
   "source": [
    "print(out_model)"
   ]
  },
  {
   "cell_type": "markdown",
   "id": "5f628684-0395-479b-a247-42f2dc97e2ec",
   "metadata": {},
   "source": [
    "This gives a dictionary of useful information (out), as well as the obs dictionary that we were using and, in some cases, a reconsitituted model object. However, that is only possible if the model generation code is saved to the results file, in the form of the text for a build_model() function. Here we will use just use the model object that we’ve already generated.\n",
    "\n",
    "Now we will do some plotting. First, lets make a corner plot of the posterior. We’ll mark the highest probablity posterior sample as well."
   ]
  },
  {
   "cell_type": "code",
   "execution_count": null,
   "id": "6505c154-8761-47a6-b204-b19cf36b670a",
   "metadata": {},
   "outputs": [],
   "source": [
    "import matplotlib.pyplot as pl\n",
    "from prospect.plotting import corner\n",
    "nsamples, ndim = out[\"chain\"].shape\n",
    "cfig, axes = pl.subplots(ndim, ndim, figsize=(10,9))\n",
    "axes = corner.allcorner(out[\"chain\"].T, out[\"theta_labels\"], axes, weights=out[\"weights\"], color=\"royalblue\", show_titles=True)\n",
    "\n",
    "from prospect.plotting.utils import best_sample\n",
    "pbest = best_sample(out)\n",
    "corner.scatter(pbest[:, None], axes, color=\"firebrick\", marker=\"o\")"
   ]
  },
  {
   "cell_type": "markdown",
   "id": "da04cc1f-9a87-44b4-a945-2a6519ea9cb0",
   "metadata": {},
   "source": [
    "Note that the highest probability sample may well be different than the peak of the marginalized posterior distribution.\n",
    "\n",
    "Now let’s plot the observed SED and the spectrum and SED of the highest probability posterior sample."
   ]
  },
  {
   "cell_type": "code",
   "execution_count": null,
   "id": "d2cfd046-c7b2-4210-8ecf-9c23edf04463",
   "metadata": {},
   "outputs": [],
   "source": [
    "import matplotlib.pyplot as pl\n",
    "sfig, saxes = pl.subplots(2, 1, gridspec_kw=dict(height_ratios=[1, 4]), sharex=True)\n",
    "ax = saxes[1]\n",
    "pwave = np.array([f.wave_effective for f in out_obs[\"filters\"]])\n",
    "# plot the data\n",
    "ax.plot(pwave, out_obs[\"maggies\"], linestyle=\"\", marker=\"o\", color=\"k\")\n",
    "ax.errorbar(pwave,  out_obs[\"maggies\"], out_obs[\"maggies_unc\"], linestyle=\"\", color=\"k\", zorder=10)\n",
    "ax.set_ylabel(r\"$f_\\nu$ (maggies)\")\n",
    "ax.set_xlabel(r\"$\\lambda (\\AA)$\")\n",
    "ax.set_xlim(1e3, 1e4)\n",
    "ax.set_ylim(out_obs[\"maggies\"].min() * 0.01, out_obs[\"maggies\"].max() * 5)\n",
    "ax.set_yscale(\"log\")\n",
    "\n",
    "# get the best-fit SED\n",
    "bsed = out[\"bestfit\"]\n",
    "ax.plot(bsed[\"restframe_wavelengths\"] * (1+out_obs[\"redshift\"]), bsed[\"spectrum\"], color=\"firebrick\", label=\"MAP sample\")\n",
    "ax.plot(pwave, bsed[\"photometry\"], linestyle=\"\", marker=\"s\", markersize=10, mec=\"orange\", mew=3, mfc=\"none\")\n",
    "\n",
    "ax = saxes[0]\n",
    "chi = (out_obs[\"maggies\"] - bsed[\"photometry\"]) / out_obs[\"maggies_unc\"]\n",
    "ax.plot(pwave, chi, linestyle=\"\", marker=\"o\", color=\"k\")\n",
    "ax.axhline(0, color=\"k\", linestyle=\":\")\n",
    "ax.set_ylim(-2, 2)\n",
    "ax.set_ylabel(r\"$\\chi_{\\rm best}$\")\n",
    "\n",
    "\n",
    "from prospect.plotting.utils import sample_posterior\n",
    "# Here we fairly and randomly choose a posterior sample\n",
    "p = sample_posterior(out[\"chain\"], weights=out[\"weights\"], nsample=1)\n",
    "# show this sample in the corner plot\n",
    "corner.scatter(p.T, axes, color=\"darkslateblue\", marker=\"o\")\n",
    "# regenerate the spectrum and plot it\n",
    "spec, phot, mfrac = model.predict(p[0], obs=out_obs, sps=sps)\n",
    "ax = saxes[1]\n",
    "ax.plot(sps.wavelengths * (1+out_obs[\"redshift\"]), spec, color=\"darkslateblue\", label=\"posterior sample\")\n",
    "ax.legend()"
   ]
  },
  {
   "cell_type": "markdown",
   "id": "e981e48b-07ae-406b-ac89-ec93777f7635",
   "metadata": {},
   "source": [
    "Sometimes it is desirable to reconstitute the SED from a particular posterior sample or set of samples, or even the spectrum of the highest probability sample if it was not saved. This requires both the model and the sps object generated previously."
   ]
  },
  {
   "cell_type": "code",
   "execution_count": null,
   "id": "8b69587d-4bf9-4e41-b9d9-839507bfc092",
   "metadata": {},
   "outputs": [],
   "source": []
  }
 ],
 "metadata": {
  "kernelspec": {
   "display_name": "prospector",
   "language": "python",
   "name": "prospector"
  },
  "language_info": {
   "codemirror_mode": {
    "name": "ipython",
    "version": 3
   },
   "file_extension": ".py",
   "mimetype": "text/x-python",
   "name": "python",
   "nbconvert_exporter": "python",
   "pygments_lexer": "ipython3",
   "version": "3.8.16"
  }
 },
 "nbformat": 4,
 "nbformat_minor": 5
}
