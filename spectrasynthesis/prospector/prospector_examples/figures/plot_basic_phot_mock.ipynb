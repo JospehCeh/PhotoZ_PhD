{
 "cells": [
  {
   "cell_type": "markdown",
   "id": "a8e181f2-2830-4d84-a9c7-37ddef78a675",
   "metadata": {},
   "source": [
    "# Basic Phot Mock Plot"
   ]
  },
  {
   "cell_type": "code",
   "execution_count": 1,
   "id": "c57c605a-bae8-40a2-aa0c-cbe05e4e1bd2",
   "metadata": {},
   "outputs": [],
   "source": [
    "\"\"\"Basic parameteric fit\n",
    "\n",
    "This script is intended to show a corner plot of the posterior PDF and the\n",
    "quality of the fit of a simple parameteric model to mock broadband photometry.\n",
    "\"\"\"\n",
    "\n",
    "from argparse import ArgumentParser\n",
    "import numpy as np\n",
    "\n",
    "import matplotlib.pyplot as pl\n",
    "import matplotlib.ticker as ticker\n",
    "from matplotlib.patches import Patch\n",
    "from matplotlib import rcParams, gridspec\n",
    "\n",
    "from prospect.plotting import FigureMaker, chain_to_struct, dict_to_struct\n",
    "from prospect.plotting.utils import boxplot, get_simple_prior, sample_prior, sample_posterior\n",
    "from prospect.plotting.corner import allcorner, marginal, get_spans, _quantile\n",
    "from prospect.plotting.sed import to_nufnu, convolve_spec\n",
    "\n",
    "from defaults import pretty, plot_defaults, colorcycle\n",
    "\n",
    "rcParams = plot_defaults(rcParams)\n"
   ]
  },
  {
   "cell_type": "code",
   "execution_count": 2,
   "id": "cdff113f-277b-4d28-b5b3-717d5b234dab",
   "metadata": {},
   "outputs": [],
   "source": [
    "from basic_phot_mock import *"
   ]
  },
  {
   "cell_type": "markdown",
   "id": "b00027d3-ca19-4807-9175-900992ae5089",
   "metadata": {},
   "source": [
    "# Config"
   ]
  },
  {
   "cell_type": "code",
   "execution_count": 3,
   "id": "85c5af0c-bfdb-4472-bbd6-5c1299353565",
   "metadata": {},
   "outputs": [
    {
     "name": "stdout",
     "output_type": "stream",
     "text": [
      "mock_parametric_phot_23May29-09.04_result.h5\n",
      "mock_parametric_spec_23May29-12.28_result.h5\n",
      "mock_parametric_specphot_23May29-18.30_result.h5\n"
     ]
    }
   ],
   "source": [
    "!ls ../fitting/output_examples"
   ]
  },
  {
   "cell_type": "code",
   "execution_count": 4,
   "id": "d4c7efd0-982e-478c-a01d-a40503706c69",
   "metadata": {},
   "outputs": [],
   "source": [
    "results_file =  \"../fitting/mock_parametric_phot_23May29-09.04_result.h5\""
   ]
  },
  {
   "cell_type": "code",
   "execution_count": 5,
   "id": "b6e7fe6c-d13e-4cd0-8bee-237bd228a6ce",
   "metadata": {},
   "outputs": [],
   "source": [
    "nprior=100000\n",
    "nseds=1000\n",
    "fignum=\"basic\" "
   ]
  },
  {
   "cell_type": "markdown",
   "id": "dd4f7d9b-671a-4494-a3ea-43b2261002f6",
   "metadata": {},
   "source": [
    "# Arguments"
   ]
  },
  {
   "cell_type": "code",
   "execution_count": 6,
   "id": "598c9665-4d7a-4c8c-8337-c79b9299bd7f",
   "metadata": {},
   "outputs": [
    {
     "data": {
      "text/plain": [
       "_StoreAction(option_strings=['--n_seds'], dest='n_seds', nargs=None, const=None, default=0, type=<class 'int'>, choices=None, help=None, metavar=None)"
      ]
     },
     "execution_count": 6,
     "metadata": {},
     "output_type": "execute_result"
    }
   ],
   "source": [
    "parser = ArgumentParser()\n",
    "parser.add_argument(\"--fignum\", type=str, default=\"\")\n",
    "parser.add_argument(\"--figext\", type=str, default=\"png\")\n",
    "parser.add_argument(\"--results_file\", type=str, default=\"\")\n",
    "parser.add_argument(\"--prior_samples\", type=int, default=int(1e4))\n",
    "parser.add_argument(\"--n_seds\", type=int, default=0)"
   ]
  },
  {
   "cell_type": "code",
   "execution_count": 7,
   "id": "99b8059c-2c44-480f-9d4b-bdfbea2e8eb9",
   "metadata": {},
   "outputs": [],
   "source": [
    "args = parser.parse_args(args=[])"
   ]
  },
  {
   "cell_type": "code",
   "execution_count": 8,
   "id": "cab64f74-9022-4b28-8187-3465de91e596",
   "metadata": {},
   "outputs": [
    {
     "data": {
      "text/plain": [
       "Namespace(figext='png', fignum='', n_seds=0, prior_samples=10000, results_file='')"
      ]
     },
     "execution_count": 8,
     "metadata": {},
     "output_type": "execute_result"
    }
   ],
   "source": [
    "args"
   ]
  },
  {
   "cell_type": "code",
   "execution_count": 9,
   "id": "1442931b-74b5-45f9-816e-382742354c69",
   "metadata": {},
   "outputs": [],
   "source": [
    "parser.set_defaults(results_file = results_file)\n",
    "parser.set_defaults(fignum = fignum)\n",
    "parser.set_defaults(n_seds = nseds)\n",
    "parser.set_defaults(prior_samples = nprior)"
   ]
  },
  {
   "cell_type": "code",
   "execution_count": 10,
   "id": "0d9e17e9-8024-40e2-a121-0db2f94f273e",
   "metadata": {},
   "outputs": [],
   "source": [
    "args = parser.parse_args(args=[])"
   ]
  },
  {
   "cell_type": "code",
   "execution_count": 11,
   "id": "f6a48dfe-00ac-4b35-9093-526ea2c26af0",
   "metadata": {},
   "outputs": [
    {
     "data": {
      "text/plain": [
       "Namespace(figext='png', fignum='basic', n_seds=1000, prior_samples=100000, results_file='../fitting/mock_parametric_phot_23May29-09.04_result.h5')"
      ]
     },
     "execution_count": 11,
     "metadata": {},
     "output_type": "execute_result"
    }
   ],
   "source": [
    "args"
   ]
  },
  {
   "cell_type": "markdown",
   "id": "eb36295e-22af-497f-8fd3-6f48dcb9c4a7",
   "metadata": {},
   "source": [
    "# Plot"
   ]
  },
  {
   "cell_type": "code",
   "execution_count": 12,
   "id": "20430363-8cbf-469e-b276-032af9c9a8f1",
   "metadata": {},
   "outputs": [
    {
     "ename": "FileNotFoundError",
     "evalue": "[Errno 2] Unable to synchronously open file (unable to open file: name = '../fitting/mock_parametric_phot_23May29-09.04_result.h5', errno = 2, error message = 'No such file or directory', flags = 0, o_flags = 0)",
     "output_type": "error",
     "traceback": [
      "\u001b[0;31m---------------------------------------------------------------------------\u001b[0m",
      "\u001b[0;31mFileNotFoundError\u001b[0m                         Traceback (most recent call last)",
      "Input \u001b[0;32mIn [12]\u001b[0m, in \u001b[0;36m<cell line: 1>\u001b[0;34m()\u001b[0m\n\u001b[0;32m----> 1\u001b[0m plotter \u001b[38;5;241m=\u001b[39m \u001b[43mPlotter\u001b[49m\u001b[43m(\u001b[49m\u001b[43mnufnu\u001b[49m\u001b[38;5;241;43m=\u001b[39;49m\u001b[38;5;28;43;01mTrue\u001b[39;49;00m\u001b[43m,\u001b[49m\u001b[43m \u001b[49m\u001b[38;5;241;43m*\u001b[39;49m\u001b[38;5;241;43m*\u001b[39;49m\u001b[38;5;28;43mvars\u001b[39;49m\u001b[43m(\u001b[49m\u001b[43margs\u001b[49m\u001b[43m)\u001b[49m\u001b[43m)\u001b[49m\n\u001b[1;32m      2\u001b[0m plotter\u001b[38;5;241m.\u001b[39mplot_all()\n",
      "File \u001b[0;32m~/anaconda3/envs/prospector/lib/python3.8/site-packages/prospect/plotting/figuremaker.py:65\u001b[0m, in \u001b[0;36mFigureMaker.__init__\u001b[0;34m(self, results_file, show, nufnu, microns, n_seds, prior_samples, **extras)\u001b[0m\n\u001b[1;32m     63\u001b[0m \u001b[38;5;28mself\u001b[39m\u001b[38;5;241m.\u001b[39mmicrons \u001b[38;5;241m=\u001b[39m microns\n\u001b[1;32m     64\u001b[0m \u001b[38;5;28;01mif\u001b[39;00m results_file:\n\u001b[0;32m---> 65\u001b[0m     \u001b[38;5;28;43mself\u001b[39;49m\u001b[38;5;241;43m.\u001b[39;49m\u001b[43mread_in\u001b[49m\u001b[43m(\u001b[49m\u001b[43mresults_file\u001b[49m\u001b[43m)\u001b[49m\n\u001b[1;32m     66\u001b[0m \u001b[38;5;28mself\u001b[39m\u001b[38;5;241m.\u001b[39mspec_best \u001b[38;5;241m=\u001b[39m \u001b[38;5;28mself\u001b[39m\u001b[38;5;241m.\u001b[39mphot_best \u001b[38;5;241m=\u001b[39m \u001b[38;5;28;01mNone\u001b[39;00m\n\u001b[1;32m     67\u001b[0m \u001b[38;5;28;01mif\u001b[39;00m show \u001b[38;5;129;01mis\u001b[39;00m \u001b[38;5;129;01mnot\u001b[39;00m \u001b[38;5;28;01mNone\u001b[39;00m:\n",
      "File \u001b[0;32m~/anaconda3/envs/prospector/lib/python3.8/site-packages/prospect/plotting/figuremaker.py:89\u001b[0m, in \u001b[0;36mFigureMaker.read_in\u001b[0;34m(self, results_file)\u001b[0m\n\u001b[1;32m     74\u001b[0m \u001b[38;5;28;01mdef\u001b[39;00m \u001b[38;5;21mread_in\u001b[39m(\u001b[38;5;28mself\u001b[39m, results_file):\n\u001b[1;32m     75\u001b[0m \u001b[38;5;250m    \u001b[39m\u001b[38;5;124;03m\"\"\"Read a prospector results file, cache important components,\u001b[39;00m\n\u001b[1;32m     76\u001b[0m \u001b[38;5;124;03m    and do any parameter transformations.  The cached attributes are:\u001b[39;00m\n\u001b[1;32m     77\u001b[0m \n\u001b[0;32m   (...)\u001b[0m\n\u001b[1;32m     87\u001b[0m \u001b[38;5;124;03m        full path of the file with the prospector results.\u001b[39;00m\n\u001b[1;32m     88\u001b[0m \u001b[38;5;124;03m    \"\"\"\u001b[39;00m\n\u001b[0;32m---> 89\u001b[0m     \u001b[38;5;28mself\u001b[39m\u001b[38;5;241m.\u001b[39mresult, \u001b[38;5;28mself\u001b[39m\u001b[38;5;241m.\u001b[39mobs, \u001b[38;5;28mself\u001b[39m\u001b[38;5;241m.\u001b[39mmodel \u001b[38;5;241m=\u001b[39m \u001b[43mreader\u001b[49m\u001b[38;5;241;43m.\u001b[39;49m\u001b[43mresults_from\u001b[49m\u001b[43m(\u001b[49m\u001b[43mresults_file\u001b[49m\u001b[43m)\u001b[49m\n\u001b[1;32m     90\u001b[0m     \u001b[38;5;28;01mif\u001b[39;00m \u001b[38;5;28mself\u001b[39m\u001b[38;5;241m.\u001b[39mmodel \u001b[38;5;129;01mis\u001b[39;00m \u001b[38;5;28;01mNone\u001b[39;00m:\n\u001b[1;32m     91\u001b[0m         \u001b[38;5;28mself\u001b[39m\u001b[38;5;241m.\u001b[39mmodel \u001b[38;5;241m=\u001b[39m reader\u001b[38;5;241m.\u001b[39mget_model(\u001b[38;5;28mself\u001b[39m\u001b[38;5;241m.\u001b[39mresults)\n",
      "File \u001b[0;32m~/anaconda3/envs/prospector/lib/python3.8/site-packages/prospect/io/read_results.py:73\u001b[0m, in \u001b[0;36mresults_from\u001b[0;34m(filename, model_file, dangerous, **kwargs)\u001b[0m\n\u001b[1;32m     71\u001b[0m \u001b[38;5;66;03m# Read the basic chain, parameter, and run_params info\u001b[39;00m\n\u001b[1;32m     72\u001b[0m \u001b[38;5;28;01mif\u001b[39;00m filename\u001b[38;5;241m.\u001b[39msplit(\u001b[38;5;124m'\u001b[39m\u001b[38;5;124m.\u001b[39m\u001b[38;5;124m'\u001b[39m)[\u001b[38;5;241m-\u001b[39m\u001b[38;5;241m1\u001b[39m] \u001b[38;5;241m==\u001b[39m \u001b[38;5;124m'\u001b[39m\u001b[38;5;124mh5\u001b[39m\u001b[38;5;124m'\u001b[39m:\n\u001b[0;32m---> 73\u001b[0m     res \u001b[38;5;241m=\u001b[39m \u001b[43mread_hdf5\u001b[49m\u001b[43m(\u001b[49m\u001b[43mfilename\u001b[49m\u001b[43m,\u001b[49m\u001b[43m \u001b[49m\u001b[38;5;241;43m*\u001b[39;49m\u001b[38;5;241;43m*\u001b[39;49m\u001b[43mkwargs\u001b[49m\u001b[43m)\u001b[49m\n\u001b[1;32m     74\u001b[0m     \u001b[38;5;28;01mif\u001b[39;00m \u001b[38;5;124m\"\u001b[39m\u001b[38;5;124m_mcmc.h5\u001b[39m\u001b[38;5;124m\"\u001b[39m \u001b[38;5;129;01min\u001b[39;00m filename:\n\u001b[1;32m     75\u001b[0m         mf_default \u001b[38;5;241m=\u001b[39m filename\u001b[38;5;241m.\u001b[39mreplace(\u001b[38;5;124m'\u001b[39m\u001b[38;5;124m_mcmc.h5\u001b[39m\u001b[38;5;124m'\u001b[39m, \u001b[38;5;124m'\u001b[39m\u001b[38;5;124m_model\u001b[39m\u001b[38;5;124m'\u001b[39m)\n",
      "File \u001b[0;32m~/anaconda3/envs/prospector/lib/python3.8/site-packages/prospect/io/read_results.py:224\u001b[0m, in \u001b[0;36mread_hdf5\u001b[0;34m(filename, **extras)\u001b[0m\n\u001b[1;32m    221\u001b[0m groups \u001b[38;5;241m=\u001b[39m {\u001b[38;5;124m\"\u001b[39m\u001b[38;5;124msampling\u001b[39m\u001b[38;5;124m\"\u001b[39m: {}, \u001b[38;5;124m\"\u001b[39m\u001b[38;5;124mobs\u001b[39m\u001b[38;5;124m\"\u001b[39m: {},\n\u001b[1;32m    222\u001b[0m           \u001b[38;5;124m\"\u001b[39m\u001b[38;5;124mbestfit\u001b[39m\u001b[38;5;124m\"\u001b[39m: {}, \u001b[38;5;124m\"\u001b[39m\u001b[38;5;124moptimization\u001b[39m\u001b[38;5;124m\"\u001b[39m: {}}\n\u001b[1;32m    223\u001b[0m res \u001b[38;5;241m=\u001b[39m {}\n\u001b[0;32m--> 224\u001b[0m \u001b[38;5;28;01mwith\u001b[39;00m \u001b[43mh5py\u001b[49m\u001b[38;5;241;43m.\u001b[39;49m\u001b[43mFile\u001b[49m\u001b[43m(\u001b[49m\u001b[43mfilename\u001b[49m\u001b[43m,\u001b[49m\u001b[43m \u001b[49m\u001b[38;5;124;43m\"\u001b[39;49m\u001b[38;5;124;43mr\u001b[39;49m\u001b[38;5;124;43m\"\u001b[39;49m\u001b[43m)\u001b[49m \u001b[38;5;28;01mas\u001b[39;00m hf:\n\u001b[1;32m    225\u001b[0m     \u001b[38;5;66;03m# loop over the groups\u001b[39;00m\n\u001b[1;32m    226\u001b[0m     \u001b[38;5;28;01mfor\u001b[39;00m group, d \u001b[38;5;129;01min\u001b[39;00m groups\u001b[38;5;241m.\u001b[39mitems():\n\u001b[1;32m    227\u001b[0m         \u001b[38;5;66;03m# check the group exists\u001b[39;00m\n\u001b[1;32m    228\u001b[0m         \u001b[38;5;28;01mif\u001b[39;00m group \u001b[38;5;129;01mnot\u001b[39;00m \u001b[38;5;129;01min\u001b[39;00m hf:\n",
      "File \u001b[0;32m~/anaconda3/envs/prospector/lib/python3.8/site-packages/h5py/_hl/files.py:567\u001b[0m, in \u001b[0;36mFile.__init__\u001b[0;34m(self, name, mode, driver, libver, userblock_size, swmr, rdcc_nslots, rdcc_nbytes, rdcc_w0, track_order, fs_strategy, fs_persist, fs_threshold, fs_page_size, page_buf_size, min_meta_keep, min_raw_keep, locking, alignment_threshold, alignment_interval, meta_block_size, **kwds)\u001b[0m\n\u001b[1;32m    558\u001b[0m     fapl \u001b[38;5;241m=\u001b[39m make_fapl(driver, libver, rdcc_nslots, rdcc_nbytes, rdcc_w0,\n\u001b[1;32m    559\u001b[0m                      locking, page_buf_size, min_meta_keep, min_raw_keep,\n\u001b[1;32m    560\u001b[0m                      alignment_threshold\u001b[38;5;241m=\u001b[39malignment_threshold,\n\u001b[1;32m    561\u001b[0m                      alignment_interval\u001b[38;5;241m=\u001b[39malignment_interval,\n\u001b[1;32m    562\u001b[0m                      meta_block_size\u001b[38;5;241m=\u001b[39mmeta_block_size,\n\u001b[1;32m    563\u001b[0m                      \u001b[38;5;241m*\u001b[39m\u001b[38;5;241m*\u001b[39mkwds)\n\u001b[1;32m    564\u001b[0m     fcpl \u001b[38;5;241m=\u001b[39m make_fcpl(track_order\u001b[38;5;241m=\u001b[39mtrack_order, fs_strategy\u001b[38;5;241m=\u001b[39mfs_strategy,\n\u001b[1;32m    565\u001b[0m                      fs_persist\u001b[38;5;241m=\u001b[39mfs_persist, fs_threshold\u001b[38;5;241m=\u001b[39mfs_threshold,\n\u001b[1;32m    566\u001b[0m                      fs_page_size\u001b[38;5;241m=\u001b[39mfs_page_size)\n\u001b[0;32m--> 567\u001b[0m     fid \u001b[38;5;241m=\u001b[39m \u001b[43mmake_fid\u001b[49m\u001b[43m(\u001b[49m\u001b[43mname\u001b[49m\u001b[43m,\u001b[49m\u001b[43m \u001b[49m\u001b[43mmode\u001b[49m\u001b[43m,\u001b[49m\u001b[43m \u001b[49m\u001b[43muserblock_size\u001b[49m\u001b[43m,\u001b[49m\u001b[43m \u001b[49m\u001b[43mfapl\u001b[49m\u001b[43m,\u001b[49m\u001b[43m \u001b[49m\u001b[43mfcpl\u001b[49m\u001b[43m,\u001b[49m\u001b[43m \u001b[49m\u001b[43mswmr\u001b[49m\u001b[38;5;241;43m=\u001b[39;49m\u001b[43mswmr\u001b[49m\u001b[43m)\u001b[49m\n\u001b[1;32m    569\u001b[0m \u001b[38;5;28;01mif\u001b[39;00m \u001b[38;5;28misinstance\u001b[39m(libver, \u001b[38;5;28mtuple\u001b[39m):\n\u001b[1;32m    570\u001b[0m     \u001b[38;5;28mself\u001b[39m\u001b[38;5;241m.\u001b[39m_libver \u001b[38;5;241m=\u001b[39m libver\n",
      "File \u001b[0;32m~/anaconda3/envs/prospector/lib/python3.8/site-packages/h5py/_hl/files.py:231\u001b[0m, in \u001b[0;36mmake_fid\u001b[0;34m(name, mode, userblock_size, fapl, fcpl, swmr)\u001b[0m\n\u001b[1;32m    229\u001b[0m     \u001b[38;5;28;01mif\u001b[39;00m swmr \u001b[38;5;129;01mand\u001b[39;00m swmr_support:\n\u001b[1;32m    230\u001b[0m         flags \u001b[38;5;241m|\u001b[39m\u001b[38;5;241m=\u001b[39m h5f\u001b[38;5;241m.\u001b[39mACC_SWMR_READ\n\u001b[0;32m--> 231\u001b[0m     fid \u001b[38;5;241m=\u001b[39m \u001b[43mh5f\u001b[49m\u001b[38;5;241;43m.\u001b[39;49m\u001b[43mopen\u001b[49m\u001b[43m(\u001b[49m\u001b[43mname\u001b[49m\u001b[43m,\u001b[49m\u001b[43m \u001b[49m\u001b[43mflags\u001b[49m\u001b[43m,\u001b[49m\u001b[43m \u001b[49m\u001b[43mfapl\u001b[49m\u001b[38;5;241;43m=\u001b[39;49m\u001b[43mfapl\u001b[49m\u001b[43m)\u001b[49m\n\u001b[1;32m    232\u001b[0m \u001b[38;5;28;01melif\u001b[39;00m mode \u001b[38;5;241m==\u001b[39m \u001b[38;5;124m'\u001b[39m\u001b[38;5;124mr+\u001b[39m\u001b[38;5;124m'\u001b[39m:\n\u001b[1;32m    233\u001b[0m     fid \u001b[38;5;241m=\u001b[39m h5f\u001b[38;5;241m.\u001b[39mopen(name, h5f\u001b[38;5;241m.\u001b[39mACC_RDWR, fapl\u001b[38;5;241m=\u001b[39mfapl)\n",
      "File \u001b[0;32mh5py/_objects.pyx:54\u001b[0m, in \u001b[0;36mh5py._objects.with_phil.wrapper\u001b[0;34m()\u001b[0m\n",
      "File \u001b[0;32mh5py/_objects.pyx:55\u001b[0m, in \u001b[0;36mh5py._objects.with_phil.wrapper\u001b[0;34m()\u001b[0m\n",
      "File \u001b[0;32mh5py/h5f.pyx:106\u001b[0m, in \u001b[0;36mh5py.h5f.open\u001b[0;34m()\u001b[0m\n",
      "\u001b[0;31mFileNotFoundError\u001b[0m: [Errno 2] Unable to synchronously open file (unable to open file: name = '../fitting/mock_parametric_phot_23May29-09.04_result.h5', errno = 2, error message = 'No such file or directory', flags = 0, o_flags = 0)"
     ]
    }
   ],
   "source": [
    "plotter = Plotter(nufnu=True, **vars(args))\n",
    "plotter.plot_all()"
   ]
  },
  {
   "cell_type": "markdown",
   "id": "0bda4c7c-ade8-4f45-bfb5-38fb837156cb",
   "metadata": {},
   "source": [
    "# Save"
   ]
  },
  {
   "cell_type": "code",
   "execution_count": null,
   "id": "ef09a17a-93a9-43d3-9a51-c6f34d7dce8b",
   "metadata": {},
   "outputs": [],
   "source": [
    "# --- Saving ----\n",
    "    # ---------------\n",
    "if args.fignum:\n",
    "    plotter.fig.savefig(\"paperfigures/{}.{}\".format(args.fignum, args.figext), dpi=400)\n",
    "else:\n",
    "    pl.ion()\n",
    "    pl.show()"
   ]
  },
  {
   "cell_type": "code",
   "execution_count": null,
   "id": "d45b6483-5cd4-4bd4-8752-f32c172eedb7",
   "metadata": {},
   "outputs": [],
   "source": []
  }
 ],
 "metadata": {
  "kernelspec": {
   "display_name": "prospector",
   "language": "python",
   "name": "prospector"
  },
  "language_info": {
   "codemirror_mode": {
    "name": "ipython",
    "version": 3
   },
   "file_extension": ".py",
   "mimetype": "text/x-python",
   "name": "python",
   "nbconvert_exporter": "python",
   "pygments_lexer": "ipython3",
   "version": "3.8.16"
  }
 },
 "nbformat": 4,
 "nbformat_minor": 5
}
