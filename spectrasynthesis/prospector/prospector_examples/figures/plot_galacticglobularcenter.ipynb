{
 "cells": [
  {
   "cell_type": "markdown",
   "id": "79ac1557-1c6d-4e63-8d5e-a3cba7f064a3",
   "metadata": {},
   "source": [
    "# Plot Galactic globular Cluster"
   ]
  },
  {
   "cell_type": "code",
   "execution_count": 1,
   "id": "81e87c9b-6061-4fa7-8ed6-5dceda392b4f",
   "metadata": {},
   "outputs": [
    {
     "name": "stdout",
     "output_type": "stream",
     "text": [
      "ggc_id1_23Jun08-20.08_mcmc.h5\n",
      "mock_parametric_phot_23May29-09.04_result.h5\n",
      "mock_parametric_spec_23May29-12.28_result.h5\n",
      "mock_parametric_specphot_23May29-18.30_result.h5\n"
     ]
    }
   ],
   "source": [
    "!ls ../fitting/output_examples"
   ]
  },
  {
   "cell_type": "code",
   "execution_count": 2,
   "id": "676cc0fe-f453-46f0-962a-266fb5c389b8",
   "metadata": {},
   "outputs": [],
   "source": [
    "\n",
    "\"\"\"show_gnz11.py - show a photometric redshift fit to GNz-11\n",
    "\"\"\"\n",
    "\n",
    "from argparse import ArgumentParser\n",
    "import numpy as np\n",
    "\n",
    "import matplotlib.pyplot as pl\n",
    "from matplotlib import rcParams, gridspec\n",
    "from matplotlib.lines import Line2D\n",
    "from matplotlib.patches import Patch\n",
    "from matplotlib import ticker\n",
    "\n",
    "from prospect.plotting import FigureMaker, chain_to_struct, dict_to_struct\n",
    "from prospect.plotting.utils import boxplot, get_simple_prior\n",
    "from prospect.plotting.corner import allcorner, marginal, quantile, _quantile\n",
    "from prospect.plotting.sed import to_nufnu, convolve_spec\n",
    "from prospect.plotting.sfh import ratios_to_sfrs, sfh_quantiles\n",
    "\n",
    "try:\n",
    "    from exspect.examples.photoz import zred_to_agebins, zlogsfr_ratios_to_masses\n",
    "except(ImportError):\n",
    "    pass\n",
    "from defaults import pretty, plot_defaults, colorcycle\n",
    "\n",
    "\n",
    "rcParams = plot_defaults(rcParams)"
   ]
  },
  {
   "cell_type": "code",
   "execution_count": 3,
   "id": "c8697dd2-f94c-41e0-bb8c-bdb7b80bf9c5",
   "metadata": {},
   "outputs": [],
   "source": [
    "class Plotter(FigureMaker):\n",
    "\n",
    "    show = [\"logzsol\", \"dust2\", \"logmass\", \"gas_logu\", \"dust_index\", \"igm_factor\"]\n",
    "    phot_samples = None\n",
    "\n",
    "    #def build_sps(self):\n",
    "    #    print(\"building sps\")\n",
    "    #    self.sps = build_sps(**self.result[\"run_params\"])\n",
    "\n",
    "    def plot_all(self):\n",
    "        self.make_axes()\n",
    "        self.styles()\n",
    "        self.kkwargs = dict(color=colorcycle[1], linewidth=0.75)\n",
    "        self.art[\"spec_post\"] = Line2D([], [], **self.kkwargs)\n",
    "\n",
    "        self.plot_zred(self.zax)\n",
    "        self.plot_posteriors(self.paxes)\n",
    "        self.plot_sfh(self.hax, nt=100)\n",
    "        if self.n_seds >= 0:\n",
    "            self.make_seds()\n",
    "        self.plot_sed(self.sax, self.rax)\n",
    "\n",
    "    def make_axes(self):\n",
    "        self.fig = pl.figure(figsize=(10.0, 9.5))\n",
    "        gs = gridspec.GridSpec(8, 6, width_ratios=6 * [10],\n",
    "                               height_ratios=[4, 1, 1.25, 3, 1.25, 2.5, 1.25, 2.5],\n",
    "                               wspace=0.15, hspace=0.03,\n",
    "                               left=0.1, right=0.98, top=0.95, bottom=0.1)\n",
    "        self.sax = self.fig.add_subplot(gs[0, :])\n",
    "        self.rax = self.fig.add_subplot(gs[1, :], sharex=self.sax)\n",
    "        self.zax = self.fig.add_subplot(gs[3, :])\n",
    "        self.paxes = [self.fig.add_subplot(gs[5+2*j, 3+i]) for i in range(3) for j in range(2)]\n",
    "        self.hax = self.fig.add_subplot(gs[5:8, 0:3])\n",
    "\n",
    "    def plot_sed(self, sax, rax):\n",
    "        \"\"\" --- plot SED and SED posteriors ---\n",
    "        \"\"\"\n",
    "        zbest = self.chain[\"zred\"][self.ind_best][0]\n",
    "\n",
    "        # --- photometric data ---\n",
    "        owave, ophot, ounc = self.obs[\"phot_wave\"], self.obs[\"maggies\"], self.obs[\"maggies_unc\"]\n",
    "        phot_width = np.array([f.effective_width for f in self.obs[\"filters\"]])\n",
    "        maxw, minw = np.max(owave + phot_width) * 1.02, 900.0\n",
    "        phot_width /= 1e4\n",
    "        if self.nufnu:\n",
    "            _, ophot = to_nufnu(owave, ophot)\n",
    "            owave, ounc = to_nufnu(owave, ounc)\n",
    "        else:\n",
    "            owave = owave.copy() / 1e4\n",
    "\n",
    "        # --- posterior samples ---\n",
    "        if self.n_seds > 0:\n",
    "            self.spec_wave = self.sps.wavelengths * (1 + zbest)\n",
    "            ckw = dict(minw=minw, maxw=maxw, R=500*2.35, nufnu=self.nufnu)\n",
    "            if self.nufnu:\n",
    "                swave, spec_best = convolve_spec(self.spec_wave, [self.spec_best], **ckw)\n",
    "                spec_best = np.squeeze(spec_best)\n",
    "                pwave, phot_best = to_nufnu(self.obs[\"phot_wave\"], self.phot_best)\n",
    "                pwave, phot = to_nufnu(self.obs[\"phot_wave\"], self.phot_samples)\n",
    "            else:\n",
    "                swave, spec_best = self.spec_wave / 1e4, self.spec_best\n",
    "                phot, phot_best = self.phot_samples, self.phot_best\n",
    "\n",
    "            self.bkwargs = dict(alpha=0.8,\n",
    "                                facecolor=self.pkwargs[\"color\"], edgecolor=\"k\")\n",
    "            self.art[\"sed_post\"] = Patch(**self.bkwargs)\n",
    "            widths = 0.1 * owave  # phot_width\n",
    "            boxplot(phot.T, owave, widths, ax=sax, **self.bkwargs)\n",
    "            sax.plot(swave, spec_best, **self.kkwargs)\n",
    "\n",
    "            # --- plot_residuals\n",
    "            if rax is not None:\n",
    "                chi = (ophot - phot_best) / ounc\n",
    "                rax.plot(owave, chi, **self.dkwargs)  #marker=\"o\", linestyle=\"\", color=\"black\")\n",
    "                rax.axhline(0, linestyle=\":\", color=\"black\")\n",
    "\n",
    "        # --- plot data ---\n",
    "        print(owave, ophot)\n",
    "        sax.errorbar(owave, ophot, ounc, linestyle=\"\", color=\"black\",)\n",
    "        sax.plot(owave, ophot, **self.dkwargs)\n",
    "\n",
    "        # --- prettify ---\n",
    "        sax.set_xscale(\"log\")\n",
    "        sax.set_yscale(\"log\")\n",
    "        if not self.nufnu:\n",
    "            sax.set_ylim(1.1e-13, 5e-10)\n",
    "            sax.set_ylabel(r\"$f_\\nu$ (maggies)\")\n",
    "        artists = [self.art[\"phot_data\"], self.art[\"spec_post\"]]\n",
    "        legends = [r\"Data (O16)\", r\"MAP spectrum ($z=${:3.2f})\".format(zbest)]\n",
    "        if \"sed_post\" in self.art:\n",
    "            artists += [self.art[\"sed_post\"]]\n",
    "            legends += [r\"Posterior SED\"]\n",
    "\n",
    "        sax.legend(artists, legends, loc=\"upper left\", fontsize=10)\n",
    "        sax.set_xticklabels([])\n",
    "        rax.set_xticks([0.4, 1.0, 2.0, 4.0])\n",
    "        rax.xaxis.set_major_formatter(ticker.StrMethodFormatter(\"{x:0.1f}\"))\n",
    "        [ax.set_xlim(0.3, 5) for ax in [rax, sax]]\n",
    "\n",
    "        rax.set_ylim(-2.8, 2.8)\n",
    "        rax.set_ylabel(r\"$\\chi$\")\n",
    "        rax.set_xlabel(r\"Observed wavelength ($\\mu$m)\")\n",
    "\n",
    "    def plot_zred(self, zax):\n",
    "        \"\"\"--- Redshift posterior ---\n",
    "        \"\"\"\n",
    "        z = np.squeeze(self.chain[\"zred\"])\n",
    "        marginal(z, ax=zax, weights=self.weights, histtype=\"stepfilled\", **self.pkwargs)\n",
    "\n",
    "        # --- annotate ---\n",
    "        zp = self.model.config_dict[\"zred\"][\"prior\"].params\n",
    "        #zax.set_xlim(zp[\"mini\"], zp[\"maxi\"])\n",
    "        q = _quantile(z, weights=self.weights, q=[0.16, 0.50, 0.84])\n",
    "        zstr = r\"$z_{{phot}}={{{:3.2f}}}^{{+{:3.2f}}}_{{-{:3.2f}}}$\"\n",
    "        zax.text(0.1, 0.8, zstr.format(q[1], q[2]-q[1], q[1]-q[0]), transform=zax.transAxes)\n",
    "\n",
    "        # -- prettify ---\n",
    "        zbest = self.chain[\"zred\"][self.ind_best][0]\n",
    "        zax.set_xlabel(\"Redshift\")\n",
    "        zax.set_ylabel(\"Probability\")\n",
    "        #zax.axvline(zbest, label=r\"MAP redshift\", linestyle=\"dashed\", color=self.pkwargs[\"color\"])\n",
    "        zax.axvline(11.09, label=r\"Grism redshift (O16; $z=11.09$)\", **self.tkwargs)\n",
    "        zax.legend(loc=(0.08, 0.2), fontsize=10)\n",
    "\n",
    "    def plot_posteriors(self, paxes):\n",
    "        \"\"\"Show marginalized parameter posteriors\n",
    "        \"\"\"\n",
    "        for i, p in enumerate(self.show):\n",
    "            pax = paxes[i]\n",
    "            marginal(np.squeeze(self.chain[p]), weights=self.weights, ax=pax,\n",
    "                     histtype=\"stepfilled\", **self.pkwargs)\n",
    "            # --- prior ---\n",
    "            xx, px = get_simple_prior(self.model.config_dict[p][\"prior\"], pax.get_xlim())\n",
    "            pax.plot(xx, px * pax.get_ylim()[1] * 0.96, **self.rkwargs)\n",
    "            pax.set_xlabel(pretty.get(p, p))\n",
    "            paxes.append(pax)\n",
    "        [ax.set_yticklabels(\"\") for ax in paxes]\n",
    "\n",
    "    def plot_sfh(self, sfhax, nt=500):\n",
    "        \"\"\" Plot the SFH posterior\n",
    "        \"\"\"\n",
    "        nbins, zmax = self.result[\"run_params\"][\"nbins_sfh\"], self.result[\"run_params\"][\"zmax\"]\n",
    "        agebins = np.array([zred_to_agebins(s[\"zred\"], nbins, zmax) for s in self.chain])\n",
    "        sfh_samples = np.array([ratios_to_sfrs(s[\"logmass\"], s[\"logsfr_ratios\"], agebins=a)\n",
    "                                for s, a in zip(self.chain, agebins)])\n",
    "        tlook = 10**agebins / 1e9\n",
    "        tvec = np.exp(np.linspace(np.log(max(tlook.min(), 0.001)), np.log(tlook.max()), nt))\n",
    "        # -- shrink the bins to get a prettier SFH ---\n",
    "        tlook *= np.array([1.02, 0.98])\n",
    "        sq = sfh_quantiles(tvec, tlook, sfh_samples, self.weights, q=[16, 50, 84])\n",
    "\n",
    "        # --- plot SFH ---\n",
    "        sfhax.plot(tvec, sq[:, 1], '-', lw=1.5, color=\"k\")\n",
    "        sfhax.fill_between(tvec, sq[:, 0], sq[:, 2], **self.pkwargs)\n",
    "        sfhax.plot(tvec, sq[:, 0], '-', lw=1.5, color=\"k\", alpha=0.3)\n",
    "        sfhax.plot(tvec, sq[:, 2], '-', lw=1.5, color=\"k\", alpha=0.3)\n",
    "\n",
    "        # show a few samples?  need to weight them\n",
    "        #for i in range(20):\n",
    "        #    t, r, s = tlook[i], sfh_samples[i], samples[i]\n",
    "        #    step(*t.T, r, ax=sfhax, **hkwargs)\n",
    "\n",
    "        # --- prettify ---\n",
    "        sfhax.set_xlabel(r\"Lookback Time (Gyr)\")\n",
    "        sfhax.set_ylabel(r\"SFR (M$_\\odot$/yr)\")\n",
    "        sfhax.set_xlim(0, 0.5)"
   ]
  },
  {
   "cell_type": "code",
   "execution_count": 4,
   "id": "86ff6328-d8b4-44bd-b5d0-271b3d8c0135",
   "metadata": {},
   "outputs": [],
   "source": [
    "parser = ArgumentParser()\n",
    "parser.add_argument(\"--results_file\", type=str, default=\"\")\n",
    "parser.add_argument(\"--fignum\", type=str, default=\"\")\n",
    "parser.add_argument(\"--figext\", type=str, default=\"png\")\n",
    "parser.add_argument(\"--prior_samples\", type=int, default=1000)\n",
    "parser.add_argument(\"--n_seds\", type=int, default=0)\n",
    "args = parser.parse_args(args=[])"
   ]
  },
  {
   "cell_type": "code",
   "execution_count": 5,
   "id": "4dec12e4-80a2-4c8e-8082-ad5a25197f68",
   "metadata": {},
   "outputs": [],
   "source": [
    "# GCs\n",
    "#echo \"GC example\"\n",
    "#python gc_dash.py --n_seds=$nseds --fignum=ggc1 --results_file=$rdir/ggc1.h5"
   ]
  },
  {
   "cell_type": "code",
   "execution_count": 6,
   "id": "663c6c79-00e2-43eb-acb6-563770d841db",
   "metadata": {},
   "outputs": [
    {
     "name": "stdout",
     "output_type": "stream",
     "text": [
      "ggc_id1_23Jun08-20.08_mcmc.h5\n",
      "mock_parametric_phot_23May29-09.04_result.h5\n",
      "mock_parametric_spec_23May29-12.28_result.h5\n",
      "mock_parametric_specphot_23May29-18.30_result.h5\n"
     ]
    }
   ],
   "source": [
    "!ls ../fitting/output_examples/"
   ]
  },
  {
   "cell_type": "code",
   "execution_count": 9,
   "id": "cc4515f2-8358-4ec2-9e31-9635463d5192",
   "metadata": {},
   "outputs": [],
   "source": [
    "rdir=\"../fitting/output_examples\"\n",
    "nprior=100000\n",
    "nseds=1000\n",
    "ggc1 = \"ggc1\"\n",
    "results_file = rdir + \"/ggc_id1_23Jun08-20.08_mcmc.h5\" "
   ]
  },
  {
   "cell_type": "code",
   "execution_count": null,
   "id": "52d87aea-6ecc-43a8-9a9c-d0fbbf044f42",
   "metadata": {},
   "outputs": [],
   "source": []
  },
  {
   "cell_type": "code",
   "execution_count": 11,
   "id": "cd4dfe64-3ab8-47cd-af15-db30f7edc6da",
   "metadata": {},
   "outputs": [],
   "source": [
    "parser.set_defaults(n_seds = nseds)\n",
    "parser.set_defaults(fignum = ggc1)\n",
    "parser.set_defaults(results_file = results_file)\n",
    "args = parser.parse_args(args=[])"
   ]
  },
  {
   "cell_type": "code",
   "execution_count": 12,
   "id": "ef554b65-4b25-4fb3-9bfc-eea881eabab6",
   "metadata": {},
   "outputs": [
    {
     "ename": "KeyError",
     "evalue": "'mini'",
     "output_type": "error",
     "traceback": [
      "\u001b[0;31m---------------------------------------------------------------------------\u001b[0m",
      "\u001b[0;31mKeyError\u001b[0m                                  Traceback (most recent call last)",
      "Input \u001b[0;32mIn [12]\u001b[0m, in \u001b[0;36m<cell line: 2>\u001b[0;34m()\u001b[0m\n\u001b[1;32m      1\u001b[0m plotter \u001b[38;5;241m=\u001b[39m Plotter(nufnu\u001b[38;5;241m=\u001b[39m\u001b[38;5;28;01mFalse\u001b[39;00m, \u001b[38;5;241m*\u001b[39m\u001b[38;5;241m*\u001b[39m\u001b[38;5;28mvars\u001b[39m(args))\n\u001b[0;32m----> 2\u001b[0m \u001b[43mplotter\u001b[49m\u001b[38;5;241;43m.\u001b[39;49m\u001b[43mplot_all\u001b[49m\u001b[43m(\u001b[49m\u001b[43m)\u001b[49m\n",
      "Input \u001b[0;32mIn [3]\u001b[0m, in \u001b[0;36mPlotter.plot_all\u001b[0;34m(self)\u001b[0m\n\u001b[1;32m     13\u001b[0m \u001b[38;5;28mself\u001b[39m\u001b[38;5;241m.\u001b[39mkkwargs \u001b[38;5;241m=\u001b[39m \u001b[38;5;28mdict\u001b[39m(color\u001b[38;5;241m=\u001b[39mcolorcycle[\u001b[38;5;241m1\u001b[39m], linewidth\u001b[38;5;241m=\u001b[39m\u001b[38;5;241m0.75\u001b[39m)\n\u001b[1;32m     14\u001b[0m \u001b[38;5;28mself\u001b[39m\u001b[38;5;241m.\u001b[39mart[\u001b[38;5;124m\"\u001b[39m\u001b[38;5;124mspec_post\u001b[39m\u001b[38;5;124m\"\u001b[39m] \u001b[38;5;241m=\u001b[39m Line2D([], [], \u001b[38;5;241m*\u001b[39m\u001b[38;5;241m*\u001b[39m\u001b[38;5;28mself\u001b[39m\u001b[38;5;241m.\u001b[39mkkwargs)\n\u001b[0;32m---> 16\u001b[0m \u001b[38;5;28;43mself\u001b[39;49m\u001b[38;5;241;43m.\u001b[39;49m\u001b[43mplot_zred\u001b[49m\u001b[43m(\u001b[49m\u001b[38;5;28;43mself\u001b[39;49m\u001b[38;5;241;43m.\u001b[39;49m\u001b[43mzax\u001b[49m\u001b[43m)\u001b[49m\n\u001b[1;32m     17\u001b[0m \u001b[38;5;28mself\u001b[39m\u001b[38;5;241m.\u001b[39mplot_posteriors(\u001b[38;5;28mself\u001b[39m\u001b[38;5;241m.\u001b[39mpaxes)\n\u001b[1;32m     18\u001b[0m \u001b[38;5;28mself\u001b[39m\u001b[38;5;241m.\u001b[39mplot_sfh(\u001b[38;5;28mself\u001b[39m\u001b[38;5;241m.\u001b[39mhax, nt\u001b[38;5;241m=\u001b[39m\u001b[38;5;241m100\u001b[39m)\n",
      "Input \u001b[0;32mIn [3]\u001b[0m, in \u001b[0;36mPlotter.plot_zred\u001b[0;34m(self, zax)\u001b[0m\n\u001b[1;32m    110\u001b[0m \u001b[38;5;66;03m# --- annotate ---\u001b[39;00m\n\u001b[1;32m    111\u001b[0m zp \u001b[38;5;241m=\u001b[39m \u001b[38;5;28mself\u001b[39m\u001b[38;5;241m.\u001b[39mmodel\u001b[38;5;241m.\u001b[39mconfig_dict[\u001b[38;5;124m\"\u001b[39m\u001b[38;5;124mzred\u001b[39m\u001b[38;5;124m\"\u001b[39m][\u001b[38;5;124m\"\u001b[39m\u001b[38;5;124mprior\u001b[39m\u001b[38;5;124m\"\u001b[39m]\u001b[38;5;241m.\u001b[39mparams\n\u001b[0;32m--> 112\u001b[0m zax\u001b[38;5;241m.\u001b[39mset_xlim(\u001b[43mzp\u001b[49m\u001b[43m[\u001b[49m\u001b[38;5;124;43m\"\u001b[39;49m\u001b[38;5;124;43mmini\u001b[39;49m\u001b[38;5;124;43m\"\u001b[39;49m\u001b[43m]\u001b[49m, zp[\u001b[38;5;124m\"\u001b[39m\u001b[38;5;124mmaxi\u001b[39m\u001b[38;5;124m\"\u001b[39m])\n\u001b[1;32m    113\u001b[0m q \u001b[38;5;241m=\u001b[39m _quantile(z, weights\u001b[38;5;241m=\u001b[39m\u001b[38;5;28mself\u001b[39m\u001b[38;5;241m.\u001b[39mweights, q\u001b[38;5;241m=\u001b[39m[\u001b[38;5;241m0.16\u001b[39m, \u001b[38;5;241m0.50\u001b[39m, \u001b[38;5;241m0.84\u001b[39m])\n\u001b[1;32m    114\u001b[0m zstr \u001b[38;5;241m=\u001b[39m \u001b[38;5;124mr\u001b[39m\u001b[38;5;124m\"\u001b[39m\u001b[38;5;124m$z_\u001b[39m\u001b[38;5;124m{{\u001b[39m\u001b[38;5;124mphot}}=\u001b[39m\u001b[38;5;124m{{\u001b[39m\u001b[38;5;132;01m{:3.2f}\u001b[39;00m\u001b[38;5;124m}}^\u001b[39m\u001b[38;5;124m{{\u001b[39m\u001b[38;5;124m+\u001b[39m\u001b[38;5;132;01m{:3.2f}\u001b[39;00m\u001b[38;5;124m}}_\u001b[39m\u001b[38;5;124m{{\u001b[39m\u001b[38;5;124m-\u001b[39m\u001b[38;5;132;01m{:3.2f}\u001b[39;00m\u001b[38;5;124m}}$\u001b[39m\u001b[38;5;124m\"\u001b[39m\n",
      "\u001b[0;31mKeyError\u001b[0m: 'mini'"
     ]
    },
    {
     "data": {
      "image/png": "[encoded data removed]",
      "text/plain": [
       "<Figure size 1000x950 with 10 Axes>"
      ]
     },
     "metadata": {},
     "output_type": "display_data"
    }
   ],
   "source": [
    "plotter = Plotter(nufnu=False, **vars(args))\n",
    "plotter.plot_all()\n",
    "\n",
    " "
   ]
  },
  {
   "cell_type": "code",
   "execution_count": null,
   "id": "6a53eb1d-1b8e-4765-a671-63d18beb570a",
   "metadata": {},
   "outputs": [],
   "source": [
    "\n",
    "# --- Saving ---\n",
    "# --------------\n",
    "if args.fignum:\n",
    "    plotter.fig.savefig(\"paperfigures/{}.{}\".format(args.fignum, args.figext), dpi=400)\n",
    "else:\n",
    "    pl.ion()\n",
    "    pl.show("
   ]
  }
 ],
 "metadata": {
  "kernelspec": {
   "display_name": "prospector",
   "language": "python",
   "name": "prospector"
  },
  "language_info": {
   "codemirror_mode": {
    "name": "ipython",
    "version": 3
   },
   "file_extension": ".py",
   "mimetype": "text/x-python",
   "name": "python",
   "nbconvert_exporter": "python",
   "pygments_lexer": "ipython3",
   "version": "3.8.16"
  }
 },
 "nbformat": 4,
 "nbformat_minor": 5
}
