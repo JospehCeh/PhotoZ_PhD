{
 "cells": [
  {
   "cell_type": "markdown",
   "id": "e7380c6f-0aed-43ca-ba60-ca4511535852",
   "metadata": {},
   "source": [
    "# Spec_Phot_demo"
   ]
  },
  {
   "cell_type": "code",
   "execution_count": 1,
   "id": "ee6cfdbf-4e0a-4ad5-a997-ddb087d2e55a",
   "metadata": {},
   "outputs": [],
   "source": [
    "#!/usr/bin/env python\n",
    "# -*- coding: utf-8 -*-\n",
    "\n",
    "\"\"\" parametric_mock_specphot.py -  Parametric Spectrum and Photometry fit\n",
    "This is a parameter file with build_* methods for fitting spectra and photometry\n",
    "with a single composite stellar population (tau-model.) We optionally include\n",
    "spectrum or photometry, and can remove the spectral continuum shape by\n",
    "optimizing out a polynomial at each model call, if use_continuum is False\n",
    "\"\"\"\n",
    "\n",
    "import time, sys\n",
    "from copy import deepcopy\n",
    "import numpy as np\n",
    "from sedpy.observate import load_filters\n",
    "\n",
    "from prospect import prospect_args\n",
    "from prospect.fitting import fit_model\n",
    "from prospect.io import write_results as writer\n",
    "\n",
    "from prospect.sources.constants import cosmo\n",
    "\n",
    "try:\n",
    "    from exspect.utils import build_mock\n",
    "    from exspect.utils import set_sdss_lsf, load_sdss\n",
    "    from exspect.utils import fit_continuum, eline_mask\n",
    "except(ImportError):\n",
    "    pass"
   ]
  },
  {
   "cell_type": "code",
   "execution_count": 2,
   "id": "d4ecdd28-30e5-46de-a5a8-b09f99ab4b9a",
   "metadata": {},
   "outputs": [
    {
     "data": {
      "text/plain": [
       "_StoreTrueAction(option_strings=['--mask_elines'], dest='mask_elines', nargs=0, const=True, default=False, type=None, choices=None, help='If set, mask windows around bright emission lines', metavar=None)"
      ]
     },
     "execution_count": 2,
     "metadata": {},
     "output_type": "execute_result"
    }
   ],
   "source": [
    "# Here we are going to put together some filter names\n",
    "# All these filters are available in sedpy.  If you want to use other filters,\n",
    "# add their transmission profiles to sedpy/sedpy/data/filters/ with appropriate\n",
    "# names (and format)\n",
    "galex = ['galex_FUV', 'galex_NUV']\n",
    "sdss = ['sdss_{0}0'.format(b) for b in \"griz\"]\n",
    "twomass = ['twomass_{}'.format(b) for b in ['J', 'H', 'Ks']]\n",
    "bessell = ['bessell_{}'.format(b) for b in \"UBVRI\"]\n",
    "\n",
    "\n",
    "# - Parser with default arguments -\n",
    "parser = prospect_args.get_parser([\"optimize\", \"dynesty\"])\n",
    "# Initial parameters\n",
    "parser.add_argument('--zred', type=float, default=0.0,\n",
    "                    help=\"Redshift for the model.\")\n",
    "parser.add_argument('--zred_disp', type=float, default=1e-3,\n",
    "                    help=\"Redshift for the model (and mock).\")\n",
    "# Fitted Model specification\n",
    "parser.add_argument('--add_neb', action=\"store_true\",\n",
    "                    help=\"If set, add nebular emission in the model (and mock).\")\n",
    "parser.add_argument('--add_realism', action=\"store_true\",\n",
    "                    help=\"If set, Add realistic instrumental dispersion.\")\n",
    "parser.add_argument('--continuum_order', type=int, default=0,\n",
    "                    help=\"If > 0, optimize out the continuum shape.\")\n",
    "parser.add_argument('--outlier_model', action=\"store_true\",\n",
    "                    help=\"If set, add an outlier model for spectroscopy\")\n",
    "parser.add_argument('--jitter_model', action=\"store_true\",\n",
    "                    help=\"If set, fit for spectroscopic noise inflation term\")\n",
    "# Data construction\n",
    "parser.add_argument('--ggc_data', type=str, default=\"../data/ggc.h5\",\n",
    "                    help=\"Full path of GGC data HDF5 file\")\n",
    "parser.add_argument('--ggc_id', type=str, default=\"NGC104\",\n",
    "                    help=\"Name of the GGC object.\")\n",
    "parser.add_argument('--ggc_index', type=int, default=-1,\n",
    "                    help=\"Index of the GGC object. Overrides ggc_id if >0\")\n",
    "parser.add_argument('--wave_lo', type=float, default=3800.,\n",
    "                    help=\"Minimum wavelength to fit\")\n",
    "parser.add_argument('--wave_hi', type=float, default=6250.,\n",
    "                    help=\"Maximum wavelength to fit\")\n",
    "parser.add_argument('--snr_phot', type=float, default=20,\n",
    "                    help=\"S/N ratio for the photometry.\")\n",
    "parser.add_argument('--mask_elines', action=\"store_true\",\n",
    "                    help=\"If set, mask windows around bright emission lines\")\n"
   ]
  },
  {
   "cell_type": "code",
   "execution_count": 3,
   "id": "17779744-6574-4b30-bd8d-6e3036182f93",
   "metadata": {},
   "outputs": [],
   "source": [
    "# --------------\n",
    "# MODEL SETUP\n",
    "# --------------\n",
    "\n",
    "\n",
    "def build_model(continuum_order=0, add_neb=False, zred=0., zred_disp=1e-3,\n",
    "                jitter_model=False, outlier_model=False, **kwargs):\n",
    "    \"\"\"Instantiate and return a ProspectorParams model subclass.\n",
    "    \"\"\"\n",
    "    from prospect.models.templates import TemplateLibrary\n",
    "    from prospect.models import priors, sedmodel\n",
    "\n",
    "    # --- Basic SSP at fixed distance (10 kpc) ---\n",
    "    model_params = TemplateLibrary[\"ssp\"]\n",
    "    model_params[\"lumdist\"] = dict(N=1, isfree=False, init=0.01)\n",
    "    model_params[\"tage\"][\"init\"] = 10.0\n",
    "    model_params[\"mass\"][\"prior\"] = priors.LogUniform(mini=1e3, maxi=1e7)\n",
    "    model_params[\"mass\"][\"init\"] = 1e5\n",
    "\n",
    "    # --- Complexify dust attenuation ---\n",
    "    # Cardelli\n",
    "    model_params[\"dust_type\"][\"init\"] = 1\n",
    "    # Slope of the attenuation curve, expressed as R_v\n",
    "    model_params[\"mwr\"] = dict(N=1, isfree=False, init=3.1)\n",
    "\n",
    "    # --- Add smoothing parameters ---\n",
    "    model_params.update(TemplateLibrary[\"spectral_smoothing\"])\n",
    "    model_params[\"sigma_smooth\"][\"prior\"] = priors.TopHat(mini=0, maxi=50)\n",
    "    model_params[\"sigma_smooth\"][\"init\"] = 10.0\n",
    "    # --- Add spectral fitting parameters ---\n",
    "    if continuum_order > 0:\n",
    "        model_params.update(TemplateLibrary[\"optimize_speccal\"])\n",
    "        model_params[\"polyorder\"][\"init\"] = continuum_order\n",
    "\n",
    "    # redshift\n",
    "    model_params['zred'][\"isfree\"] = True\n",
    "    model_params['zred'][\"init\"] = zred\n",
    "    model_params['zred']['prior'] = priors.Normal(mean=zred, sigma=zred_disp)\n",
    "\n",
    "    # Alter parameter values based on keyword arguments\n",
    "    for p in list(model_params.keys()):\n",
    "        if (p in kwargs):\n",
    "            model_params[p][\"init\"] = kwargs[p]\n",
    "\n",
    "    # Alter some priors?\n",
    "    model_params[\"dust2\"][\"prior\"].params[\"maxi\"] = 2.5\n",
    "    model_params[\"logzsol\"][\"prior\"] = priors.TopHat(mini=-2, maxi=0.2)\n",
    "    model_params[\"tage\"][\"prior\"] = priors.TopHat(mini=1, maxi=13.8)\n",
    "\n",
    "    if jitter_model:\n",
    "        #pr = priors.LogNormal(mode=np.log(1.0), sigma=np.log(10))\n",
    "        pr = priors.ClippedNormal(mean=3, sigma=10, mini=0, maxi=100)\n",
    "        jitter = dict(N=1, init=1, isfree=True, prior=pr)\n",
    "        model_params[\"spec_jitter\"] = jitter\n",
    "\n",
    "    if outlier_model:\n",
    "        # just use the defaults\n",
    "        model_params.update(TemplateLibrary[\"outlier_model\"])\n",
    "\n",
    "    if continuum_order > 0:\n",
    "        return sedmodel.PolySpecModel(model_params)\n",
    "    else:\n",
    "        return sedmodel.SpecModel(model_params)\n"
   ]
  },
  {
   "cell_type": "code",
   "execution_count": 4,
   "id": "fc8e672a-10f1-47a7-9224-2551a4278e7e",
   "metadata": {},
   "outputs": [],
   "source": [
    "# --------------\n",
    "# OBS\n",
    "# --------------\n",
    "\n",
    "\n",
    "def build_obs(ggc_data=\"data/ggc/ggc.h5\", ggc_id=\"NGC104\", ggc_index=-1,\n",
    "              snr_spec=0, wave_lo=3800, wave_hi=7200., mask_elines=False,\n",
    "              snr_phot=20., filterset=bessell, norm_band=\"bessell_V\",\n",
    "              continuum_optimize=False, **kwargs):\n",
    "    \"\"\"Load a ggc dataset\n",
    "\n",
    "    :param wave_lo:\n",
    "        The (restframe) minimum wavelength of the spectrum.\n",
    "\n",
    "    :param wave_hi:\n",
    "        The (restframe) maximum wavelength of the spectrum.\n",
    "\n",
    "    :param filterset:\n",
    "        A list of `sedpy` filter names.  Mock photometry will be generated\n",
    "        for these filters.\n",
    "\n",
    "    :param snr_phot:\n",
    "        The S/N of the phock photometry.  This can also be a vector of same\n",
    "        lngth as the number of filters, for heteroscedastic noise.\n",
    "\n",
    "     :returns obs:\n",
    "        Dictionary of observational data.\n",
    "    \"\"\"\n",
    "    import h5py\n",
    "    from prospect.utils.obsutils import fix_obs\n",
    "    with h5py.File(ggc_data, \"r\") as hfile:\n",
    "        if ggc_index >= 0:\n",
    "            ggc_id = list(hfile.keys())[ggc_index]\n",
    "        group = hfile[ggc_id]\n",
    "        info = group[\"info\"][:]\n",
    "        spec = group[\"spec\"][:]\n",
    "\n",
    "    print(ggc_id)\n",
    "\n",
    "    # --- Now fill the obs dictionary ----\n",
    "    obs = dict(cluster=ggc_id, distance_kpc=info[\"dist\"], ebv=info[\"ebv\"], vrad=info[\"vrad\"],\n",
    "               wavelength=spec[\"wavelength\"], spectrum=spec[\"spectrum\"], unc=spec[\"unc\"],\n",
    "               sky=spec[\"sky\"])\n",
    "    obs['mask'] = ((obs[\"wavelength\"] > 0) & (obs[\"unc\"] > 0) &\n",
    "                   (obs[\"wavelength\"] > wave_lo) & (obs[\"wavelength\"] < wave_hi))\n",
    "\n",
    "    bands = [f.split('_')[-1] for f in filterset]\n",
    "    mags = np.squeeze(np.array([info[b] for b in bands]))\n",
    "    # shift to 10 kpc\n",
    "    dm = 5.0 * np.log10(obs[\"distance_kpc\"] / 10.0)\n",
    "    obs[\"filters\"] = load_filters(filterset)\n",
    "    obs[\"maggies\"] = np.squeeze(10**(-0.4 * (mags - dm)))\n",
    "    # The photometry does not come with errors...\n",
    "    obs[\"maggies_unc\"] = obs[\"maggies\"] / snr_phot\n",
    "    obs[\"phot_mask\"] = np.isfinite(obs[\"maggies\"])\n",
    "\n",
    "    obs = normalize_ggc_spec(obs, norm_band=norm_band)\n",
    "\n",
    "    # continuum normalize ?\n",
    "    if continuum_optimize:\n",
    "        pass\n",
    "        # This fits a low order polynomial to the spectrum and then divides by\n",
    "        # that to get a continuum normalized spectrum.\n",
    "        #cont, _ = fit_continuum(obs[\"wavelength\"], spec, normorder=6, nreject=3)\n",
    "        #cont = cont / cont.mean()\n",
    "        #spec = spec / cont\n",
    "        #obs[\"continuum\"] = cont\n",
    "\n",
    "    # Masking\n",
    "    if mask_elines:\n",
    "        a = (1 + obs[\"vrad\"] / 2.998e5)\n",
    "        # vacuum , observed frame\n",
    "        bad_obsframe = [(4152., 4165.), (4540., 4560.),\n",
    "                        (5042., 5057.), (5572., 5587.),  # ?, OI\n",
    "                        (5885., 5905.),  # NaD\n",
    "                        (6055., 6080.), (6220., 6230.),\n",
    "                        (6295., 6310.), (6330., 6380.)]  # OI, OI\n",
    "        lines = [(lo / a, hi/a) for lo, hi in bad_obsframe]\n",
    "\n",
    "        obs['mask'] = obs['mask'] & eline_mask(obs['wavelength'], lines, pad=18.)\n",
    "\n",
    "    obs['phot_wave'] = np.array([f.wave_effective for f in obs['filters']])\n",
    "    obs['phot_mask'] = obs['phot_wave'] < 6e4  # only the two blue WISE filters\n",
    "\n",
    "    return fix_obs(obs)\n"
   ]
  },
  {
   "cell_type": "code",
   "execution_count": 5,
   "id": "c1256118-8a35-404b-99ca-fbeed5d309a2",
   "metadata": {},
   "outputs": [],
   "source": [
    "# --------------\n",
    "# SPS Object\n",
    "# --------------\n",
    "\n",
    "def build_sps(zcontinuous=1, compute_vega_mags=False, add_realism=False, **extras):\n",
    "    \"\"\"Load the SPS object.  If add_realism is True, set up to convolve the\n",
    "    library spectra to an sdss resolution\n",
    "    \"\"\"\n",
    "    from prospect.sources import FastSSPBasis\n",
    "    sps = FastSSPBasis(zcontinuous=zcontinuous,\n",
    "                       compute_vega_mags=compute_vega_mags)\n",
    "    if add_realism:\n",
    "        set_ggc_lsf(sps.ssp, **extras)\n",
    "\n",
    "    return sps\n"
   ]
  },
  {
   "cell_type": "code",
   "execution_count": 6,
   "id": "e1484a3b-a057-4071-9bd0-e533caf9907b",
   "metadata": {},
   "outputs": [],
   "source": [
    "# -----------------\n",
    "# Noise Model\n",
    "# ------------------\n",
    "\n",
    "\n",
    "def build_noise(jitter_model=False, **extras):\n",
    "    if jitter_model:\n",
    "        from prospect.likelihood import NoiseModel\n",
    "        from prospect.likelihood.kernels import Uncorrelated\n",
    "        kernel = Uncorrelated(parnames=[\"spec_jitter\"])\n",
    "        spec_noise = NoiseModel(kernels=[kernel], weight_by=[\"unc\"],\n",
    "                                metric_name=\"unc\")\n",
    "    else:\n",
    "        spec_noise = None\n",
    "\n",
    "    return spec_noise, None"
   ]
  },
  {
   "cell_type": "code",
   "execution_count": 7,
   "id": "4c44731a-6a11-4108-87d0-66498503b516",
   "metadata": {},
   "outputs": [],
   "source": [
    "# -----------\n",
    "# Everything\n",
    "# ------------\n",
    "\n",
    "\n",
    "def build_all(**kwargs):\n",
    "\n",
    "    return (build_obs(**kwargs), build_model(**kwargs),\n",
    "            build_sps(**kwargs), build_noise(**kwargs))\n"
   ]
  },
  {
   "cell_type": "code",
   "execution_count": 8,
   "id": "c71b7b31-0be0-4414-ab2e-abe7cdbcb0df",
   "metadata": {},
   "outputs": [],
   "source": [
    "# -----------------\n",
    "# Helper Functions\n",
    "# ------------------\n",
    "\n",
    "\n",
    "def normalize_ggc_spec(obs, norm_band=\"bessell_B\"):\n",
    "    \"\"\"Normalize the spectrum to a photometric band\n",
    "    \"\"\"\n",
    "    from sedpy.observate import getSED\n",
    "    from prospect.sources.constants import lightspeed, jansky_cgs\n",
    "\n",
    "    bands = list([f.name for f in obs['filters']])\n",
    "    norm_index = bands.index(norm_band)\n",
    "\n",
    "    synphot = getSED(obs['wavelength'], obs['spectrum'], obs['filters'])\n",
    "    synphot = np.atleast_1d(synphot)\n",
    "    # Factor by which the observed spectra should be *divided* to give you the\n",
    "    #  photometry (or the cgs apparent spectrum), using the given filter as\n",
    "    #  truth.  Alternatively, the factor by which the model spectrum (in cgs\n",
    "    #  apparent) should be multiplied to give you the observed spectrum.\n",
    "    norm = 10**(-0.4 * synphot[norm_index]) / obs['maggies'][norm_index]\n",
    "    wave = obs[\"wavelength\"]\n",
    "    flambda_to_maggies = wave * (wave/lightspeed) / jansky_cgs / 3631\n",
    "    maggies = obs[\"spectrum\"] / norm * flambda_to_maggies\n",
    "    obs[\"spectrum\"] = maggies\n",
    "    obs[\"unc\"] = obs[\"unc\"] / norm * flambda_to_maggies\n",
    "    if \"sky\" in obs:\n",
    "        obs[\"sky\"] = obs[\"sky\"] / norm * flambda_to_maggies\n",
    "\n",
    "    obs[\"norm_band\"] = norm_band\n",
    "    return obs\n"
   ]
  },
  {
   "cell_type": "code",
   "execution_count": 9,
   "id": "e9d7deb4-dee7-49a0-8ecb-6730f7eda4bc",
   "metadata": {},
   "outputs": [],
   "source": [
    "#if __name__ == \"__main__\":\n",
    "if __name__ == \"__nb__\":\n",
    "\n",
    "    args = parser.parse_args()\n",
    "    run_params = vars(args)\n",
    "    obs, model, sps, noise = build_all(**run_params)\n",
    "\n",
    "    run_params[\"param_file\"] = __file__\n",
    "    run_params[\"sps_libraries\"] = sps.ssp.libraries\n",
    "\n",
    "    print(model)\n",
    "\n",
    "    if args.debug:\n",
    "        sys.exit()\n",
    "\n",
    "    #hfile = setup_h5(model=model, obs=obs, **run_params)\n",
    "    ts = time.strftime(\"%y%b%d-%H.%M\", time.localtime())\n",
    "    hfile = \"{0}_{1}_mcmc.h5\".format(args.outfile, ts)\n",
    "\n",
    "    output = fit_model(obs, model, sps, noise, **run_params)\n",
    "\n",
    "    print(\"writing to {}\".format(hfile))\n",
    "    writer.write_hdf5(hfile, run_params, model, obs,\n",
    "                      output[\"sampling\"][0], output[\"optimization\"][0],\n",
    "                      sps=sps,\n",
    "                      tsample=output[\"sampling\"][1],\n",
    "                      toptimize=output[\"optimization\"][1])\n",
    "\n",
    "    try:\n",
    "        hfile.close()\n",
    "    except(AttributeError):\n",
    "        pass\n"
   ]
  },
  {
   "cell_type": "code",
   "execution_count": 10,
   "id": "606c6754-01c0-4b9b-a635-44bc48b67d7d",
   "metadata": {},
   "outputs": [],
   "source": [
    "mock=\"--zred=0.1 --tau=4 --tage=12 --logzsol=-0.3 --mass=1e10 --dust2=0.3\"\n",
    "opts=\"--add_duste --add_neb\"\n",
    "data=\"--add_noise --mask_elines --continuum_optimize\"\n",
    "fit=\"--dynesty --nested_method=rwalk\"\n",
    "\n",
    "# photometry only\n",
    "#python specphot_demo.py $fit $mock $opts --zred_disp=1e-3 \\\n",
    "#                        $data --snr_spec=0 --snr_phot=20 \\\n",
    "#                        --outfile=../output/mock_parametric_phot\n",
    "\n",
    "# spectroscopy only\n",
    "#python specphot_demo.py $fit $mock $opts --zred_disp=1e-3 \\\n",
    "#                        $data --snr_spec=10 --snr_phot=0 \\\n",
    "#                        --outfile=../output/mock_parametric_spec\n",
    "\n",
    "# photometry + spectroscopy\n",
    "#python specphot_demo.py $fit $mock $opts --zred_disp=1e-3 \\\n",
    "#                        $data --snr_spec=10 --snr_phot=20 \\\n",
    "#                        --outfile=../output/mock_parametric_specphot\n"
   ]
  },
  {
   "cell_type": "code",
   "execution_count": 11,
   "id": "a69df398-0f48-4d39-859a-bcae914b5dcd",
   "metadata": {},
   "outputs": [],
   "source": [
    "args = parser.parse_args(args=[])"
   ]
  },
  {
   "cell_type": "code",
   "execution_count": 12,
   "id": "4f0d374a-759a-446b-9948-6f94c4b80747",
   "metadata": {},
   "outputs": [
    {
     "data": {
      "text/plain": [
       "Namespace(add_neb=False, add_realism=False, continuum_order=0, debug=False, dynesty=False, ggc_data='../data/ggc.h5', ggc_id='NGC104', ggc_index=-1, jitter_model=False, mask_elines=False, min_method='lm', min_opts={}, nested_bootstrap=0, nested_bound='multi', nested_dlogz_init=0.05, nested_maxbatch=10, nested_maxcall=50000000, nested_maxiter=1000000, nested_nlive_batch=100, nested_nlive_init=100, nested_sample='slice', nested_target_n_effective=10000, nested_walks=48, nmin=1, optimize=False, outfile='prospector_test_run', outlier_model=False, output_pickle=False, snr_phot=20, verbose=1, wave_hi=6250.0, wave_lo=3800.0, zcontinuous=1, zred=0.0, zred_disp=0.001)"
      ]
     },
     "execution_count": 12,
     "metadata": {},
     "output_type": "execute_result"
    }
   ],
   "source": [
    "args"
   ]
  },
  {
   "cell_type": "code",
   "execution_count": 13,
   "id": "e7c75f15-6c2b-436d-a6d0-fc4ea8beb11f",
   "metadata": {},
   "outputs": [
    {
     "name": "stdout",
     "output_type": "stream",
     "text": [
      "verbose=1 \n",
      " debug=False \n",
      " outfile=prospector_test_run \n",
      " output_pickle=False \n",
      " zcontinuous=1 \n",
      " optimize=False \n",
      " min_method=lm \n",
      " min_opts={} \n",
      " nmin=1 \n",
      " dynesty=False \n",
      " nested_bound=multi \n",
      " nested_sample=slice \n",
      " nested_walks=48 \n",
      " nested_nlive_init=100 \n",
      " nested_nlive_batch=100 \n",
      " nested_dlogz_init=0.05 \n",
      " nested_maxcall=50000000 \n",
      " nested_maxiter=1000000 \n",
      " nested_maxbatch=10 \n",
      " nested_bootstrap=0 \n",
      " nested_target_n_effective=10000 \n",
      " zred=0.0 \n",
      " zred_disp=0.001 \n",
      " add_neb=False \n",
      " add_realism=False \n",
      " continuum_order=0 \n",
      " outlier_model=False \n",
      " jitter_model=False \n",
      " ggc_data=../data/ggc.h5 \n",
      " ggc_id=NGC104 \n",
      " ggc_index=-1 \n",
      " wave_lo=3800.0 \n",
      " wave_hi=6250.0 \n",
      " snr_phot=20 \n",
      " mask_elines=False \n",
      "\n"
     ]
    }
   ],
   "source": [
    "print(' '.join(f'{k}={v} \\n' for k, v in vars(args).items()))"
   ]
  },
  {
   "cell_type": "code",
   "execution_count": 14,
   "id": "c42efa2c-dd39-4584-861b-24dfda5f1c59",
   "metadata": {},
   "outputs": [],
   "source": [
    "mock=\"--zred=0.1 --tau=4 --tage=12 --logzsol=-0.3 --mass=1e10 --dust2=0.3\"\n",
    "opts=\"--add_duste --add_neb\"\n",
    "data=\"--add_noise --mask_elines --continuum_optimize\"\n",
    "fit=\"--dynesty --nested_method=rwalk\""
   ]
  },
  {
   "cell_type": "code",
   "execution_count": 15,
   "id": "a7c1b64e-465f-4521-b1a4-8977bb2174fc",
   "metadata": {},
   "outputs": [],
   "source": [
    "parser.set_defaults(zred=0.1,tau=4,tage=12,logzsol=-0.3,mass=1e10,dust2=0.3)\n",
    "parser.set_defaults(add_duste=True,add_neb=True)\n",
    "parser.set_defaults(add_noise=True,mask_elines=False,continuum_optimize=True)\n",
    "parser.set_defaults(dynesty=True,nested_method='rwalk')\n",
    "parser.set_defaults(zred_disp=1e-3,snr_spec=10,snr_phot=0,outfile=\"output_examples/mock_parametric_spec\")"
   ]
  },
  {
   "cell_type": "code",
   "execution_count": 16,
   "id": "520849ec-0ab6-4153-8d77-a7b69f11a900",
   "metadata": {},
   "outputs": [],
   "source": [
    "args = parser.parse_args(args=[])"
   ]
  },
  {
   "cell_type": "code",
   "execution_count": 17,
   "id": "7920f736-0e4b-4470-9d98-8c7f311f6d13",
   "metadata": {},
   "outputs": [
    {
     "data": {
      "text/plain": [
       "Namespace(add_duste=True, add_neb=True, add_noise=True, add_realism=False, continuum_optimize=True, continuum_order=0, debug=False, dust2=0.3, dynesty=True, ggc_data='../data/ggc.h5', ggc_id='NGC104', ggc_index=-1, jitter_model=False, logzsol=-0.3, mask_elines=False, mass=10000000000.0, min_method='lm', min_opts={}, nested_bootstrap=0, nested_bound='multi', nested_dlogz_init=0.05, nested_maxbatch=10, nested_maxcall=50000000, nested_maxiter=1000000, nested_method='rwalk', nested_nlive_batch=100, nested_nlive_init=100, nested_sample='slice', nested_target_n_effective=10000, nested_walks=48, nmin=1, optimize=False, outfile='../output_examples/mock_parametric_spec', outlier_model=False, output_pickle=False, snr_phot=0, snr_spec=10, tage=12, tau=4, verbose=1, wave_hi=6250.0, wave_lo=3800.0, zcontinuous=1, zred=0.1, zred_disp=0.001)"
      ]
     },
     "execution_count": 17,
     "metadata": {},
     "output_type": "execute_result"
    }
   ],
   "source": [
    "args"
   ]
  },
  {
   "cell_type": "code",
   "execution_count": 18,
   "id": "5cafab29-1759-4be4-b0d8-e2ecff58464f",
   "metadata": {},
   "outputs": [
    {
     "name": "stdout",
     "output_type": "stream",
     "text": [
      "verbose=1 \n",
      " debug=False \n",
      " outfile=../output_examples/mock_parametric_spec \n",
      " output_pickle=False \n",
      " zcontinuous=1 \n",
      " optimize=False \n",
      " min_method=lm \n",
      " min_opts={} \n",
      " nmin=1 \n",
      " dynesty=True \n",
      " nested_bound=multi \n",
      " nested_sample=slice \n",
      " nested_walks=48 \n",
      " nested_nlive_init=100 \n",
      " nested_nlive_batch=100 \n",
      " nested_dlogz_init=0.05 \n",
      " nested_maxcall=50000000 \n",
      " nested_maxiter=1000000 \n",
      " nested_maxbatch=10 \n",
      " nested_bootstrap=0 \n",
      " nested_target_n_effective=10000 \n",
      " zred=0.1 \n",
      " zred_disp=0.001 \n",
      " add_neb=True \n",
      " add_realism=False \n",
      " continuum_order=0 \n",
      " outlier_model=False \n",
      " jitter_model=False \n",
      " ggc_data=../data/ggc.h5 \n",
      " ggc_id=NGC104 \n",
      " ggc_index=-1 \n",
      " wave_lo=3800.0 \n",
      " wave_hi=6250.0 \n",
      " snr_phot=0 \n",
      " mask_elines=False \n",
      " tau=4 \n",
      " tage=12 \n",
      " logzsol=-0.3 \n",
      " mass=10000000000.0 \n",
      " dust2=0.3 \n",
      " add_duste=True \n",
      " add_noise=True \n",
      " continuum_optimize=True \n",
      " nested_method=rwalk \n",
      " snr_spec=10 \n",
      "\n"
     ]
    }
   ],
   "source": [
    "print(' '.join(f'{k}={v} \\n' for k, v in vars(args).items()))"
   ]
  },
  {
   "cell_type": "code",
   "execution_count": 19,
   "id": "2b941f11-90d6-4d98-bd88-dbdad584f3ad",
   "metadata": {},
   "outputs": [
    {
     "name": "stdout",
     "output_type": "stream",
     "text": [
      "NGC104\n"
     ]
    },
    {
     "name": "stderr",
     "output_type": "stream",
     "text": [
      "/var/folders/rk/cnrspsj13_3cgmh8p4m_mxww0000gp/T/ipykernel_62621/1865897458.py:54: RuntimeWarning: divide by zero encountered in divide\n",
      "  obs[\"maggies_unc\"] = obs[\"maggies\"] / snr_phot\n"
     ]
    }
   ],
   "source": [
    "run_params = vars(args)\n",
    "obs, model, sps, noise = build_all(**run_params)"
   ]
  },
  {
   "cell_type": "code",
   "execution_count": 20,
   "id": "6e665d05-fa56-47d3-b951-73a540a3ab05",
   "metadata": {},
   "outputs": [
    {
     "name": "stdout",
     "output_type": "stream",
     "text": [
      ":::::::\n",
      "<class 'prospect.models.sedmodel.SpecModel'>\n",
      "\n",
      "Free Parameters: (name: prior) \n",
      "-----------\n",
      "  zred: <class 'prospect.models.priors.Normal'>(mean=0.1,sigma=0.001)\n",
      "  mass: <class 'prospect.models.priors.LogUniform'>(mini=1000.0,maxi=10000000.0)\n",
      "  logzsol: <class 'prospect.models.priors.TopHat'>(mini=-2,maxi=0.2)\n",
      "  dust2: <class 'prospect.models.priors.TopHat'>(mini=0.0,maxi=2.5)\n",
      "  tage: <class 'prospect.models.priors.TopHat'>(mini=1,maxi=13.8)\n",
      "  sigma_smooth: <class 'prospect.models.priors.TopHat'>(mini=0,maxi=50)\n",
      "\n",
      "Fixed Parameters: (name: value [, depends_on]) \n",
      "-----------\n",
      "  sfh: [0] \n",
      "  imf_type: [2] \n",
      "  dust_type: [1] \n",
      "  lumdist: [0.01] \n",
      "  mwr: [3.1] \n",
      "  smoothtype: ['vel'] \n",
      "  fftsmooth: [ True] \n"
     ]
    }
   ],
   "source": [
    "\n",
    "run_params[\"param_file\"] = \"specphot_demo\"\n",
    "run_params[\"sps_libraries\"] = sps.ssp.libraries\n",
    "\n",
    "print(model)\n",
    "\n",
    "if args.debug:\n",
    "    sys.exit()"
   ]
  },
  {
   "cell_type": "code",
   "execution_count": 21,
   "id": "9d805a28-5885-4727-a43b-e6ab46948433",
   "metadata": {},
   "outputs": [
    {
     "name": "stderr",
     "output_type": "stream",
     "text": [
      "iter: 6478 | batch: 0 | nc: 1 | ncall: 584580 | eff(%):  1.108 | logz: -31343277.913 +/-  0.720 | dlogz:  0.000 >  0.050          "
     ]
    },
    {
     "name": "stdout",
     "output_type": "stream",
     "text": [
      "\n",
      "done dynesty (initial) in 4660.927837848663s\n"
     ]
    },
    {
     "name": "stderr",
     "output_type": "stream",
     "text": [
      "iter: 13032 | batch: 10 | nc: 1 | ncall: 1113619 | eff(%):  1.081 | loglstar: -31343227.165 < -31343217.700 < -31343219.288 | logz: -31343277.742 +/-  0.329 | stop:  1.855      "
     ]
    },
    {
     "name": "stdout",
     "output_type": "stream",
     "text": [
      "done dynesty (dynamic) in 3639.292900800705s\n",
      "writing to ../output_examples/mock_parametric_spec_23Jun08-17.48_mcmc.h5\n"
     ]
    },
    {
     "ename": "FileNotFoundError",
     "evalue": "[Errno 2] Unable to synchronously create file (unable to open file: name = '../output_examples/mock_parametric_spec_23Jun08-17.48_mcmc.h5', errno = 2, error message = 'No such file or directory', flags = 15, o_flags = a02)",
     "output_type": "error",
     "traceback": [
      "\u001b[0;31m---------------------------------------------------------------------------\u001b[0m",
      "\u001b[0;31mFileNotFoundError\u001b[0m                         Traceback (most recent call last)",
      "File \u001b[0;32m~/anaconda3/envs/prospector/lib/python3.8/site-packages/h5py/_hl/files.py:243\u001b[0m, in \u001b[0;36mmake_fid\u001b[0;34m(name, mode, userblock_size, fapl, fcpl, swmr)\u001b[0m\n\u001b[1;32m    242\u001b[0m \u001b[38;5;28;01mtry\u001b[39;00m:\n\u001b[0;32m--> 243\u001b[0m     fid \u001b[38;5;241m=\u001b[39m \u001b[43mh5f\u001b[49m\u001b[38;5;241;43m.\u001b[39;49m\u001b[43mopen\u001b[49m\u001b[43m(\u001b[49m\u001b[43mname\u001b[49m\u001b[43m,\u001b[49m\u001b[43m \u001b[49m\u001b[43mh5f\u001b[49m\u001b[38;5;241;43m.\u001b[39;49m\u001b[43mACC_RDWR\u001b[49m\u001b[43m,\u001b[49m\u001b[43m \u001b[49m\u001b[43mfapl\u001b[49m\u001b[38;5;241;43m=\u001b[39;49m\u001b[43mfapl\u001b[49m\u001b[43m)\u001b[49m\n\u001b[1;32m    244\u001b[0m \u001b[38;5;66;03m# Not all drivers raise FileNotFoundError (commented those that do not)\u001b[39;00m\n",
      "File \u001b[0;32mh5py/_objects.pyx:54\u001b[0m, in \u001b[0;36mh5py._objects.with_phil.wrapper\u001b[0;34m()\u001b[0m\n",
      "File \u001b[0;32mh5py/_objects.pyx:55\u001b[0m, in \u001b[0;36mh5py._objects.with_phil.wrapper\u001b[0;34m()\u001b[0m\n",
      "File \u001b[0;32mh5py/h5f.pyx:106\u001b[0m, in \u001b[0;36mh5py.h5f.open\u001b[0;34m()\u001b[0m\n",
      "\u001b[0;31mFileNotFoundError\u001b[0m: [Errno 2] Unable to synchronously open file (unable to open file: name = '../output_examples/mock_parametric_spec_23Jun08-17.48_mcmc.h5', errno = 2, error message = 'No such file or directory', flags = 1, o_flags = 2)",
      "\nDuring handling of the above exception, another exception occurred:\n",
      "\u001b[0;31mFileNotFoundError\u001b[0m                         Traceback (most recent call last)",
      "Input \u001b[0;32mIn [21]\u001b[0m, in \u001b[0;36m<cell line: 8>\u001b[0;34m()\u001b[0m\n\u001b[1;32m      5\u001b[0m output \u001b[38;5;241m=\u001b[39m fit_model(obs, model, sps, noise, \u001b[38;5;241m*\u001b[39m\u001b[38;5;241m*\u001b[39mrun_params)\n\u001b[1;32m      7\u001b[0m \u001b[38;5;28mprint\u001b[39m(\u001b[38;5;124m\"\u001b[39m\u001b[38;5;124mwriting to \u001b[39m\u001b[38;5;132;01m{}\u001b[39;00m\u001b[38;5;124m\"\u001b[39m\u001b[38;5;241m.\u001b[39mformat(hfile))\n\u001b[0;32m----> 8\u001b[0m \u001b[43mwriter\u001b[49m\u001b[38;5;241;43m.\u001b[39;49m\u001b[43mwrite_hdf5\u001b[49m\u001b[43m(\u001b[49m\u001b[43mhfile\u001b[49m\u001b[43m,\u001b[49m\u001b[43m \u001b[49m\u001b[43mrun_params\u001b[49m\u001b[43m,\u001b[49m\u001b[43m \u001b[49m\u001b[43mmodel\u001b[49m\u001b[43m,\u001b[49m\u001b[43m \u001b[49m\u001b[43mobs\u001b[49m\u001b[43m,\u001b[49m\u001b[43moutput\u001b[49m\u001b[43m[\u001b[49m\u001b[38;5;124;43m\"\u001b[39;49m\u001b[38;5;124;43msampling\u001b[39;49m\u001b[38;5;124;43m\"\u001b[39;49m\u001b[43m]\u001b[49m\u001b[43m[\u001b[49m\u001b[38;5;241;43m0\u001b[39;49m\u001b[43m]\u001b[49m\u001b[43m,\u001b[49m\u001b[43m \u001b[49m\u001b[43moutput\u001b[49m\u001b[43m[\u001b[49m\u001b[38;5;124;43m\"\u001b[39;49m\u001b[38;5;124;43moptimization\u001b[39;49m\u001b[38;5;124;43m\"\u001b[39;49m\u001b[43m]\u001b[49m\u001b[43m[\u001b[49m\u001b[38;5;241;43m0\u001b[39;49m\u001b[43m]\u001b[49m\u001b[43m,\u001b[49m\n\u001b[1;32m      9\u001b[0m \u001b[43m                      \u001b[49m\u001b[43msps\u001b[49m\u001b[38;5;241;43m=\u001b[39;49m\u001b[43msps\u001b[49m\u001b[43m,\u001b[49m\n\u001b[1;32m     10\u001b[0m \u001b[43m                      \u001b[49m\u001b[43mtsample\u001b[49m\u001b[38;5;241;43m=\u001b[39;49m\u001b[43moutput\u001b[49m\u001b[43m[\u001b[49m\u001b[38;5;124;43m\"\u001b[39;49m\u001b[38;5;124;43msampling\u001b[39;49m\u001b[38;5;124;43m\"\u001b[39;49m\u001b[43m]\u001b[49m\u001b[43m[\u001b[49m\u001b[38;5;241;43m1\u001b[39;49m\u001b[43m]\u001b[49m\u001b[43m,\u001b[49m\n\u001b[1;32m     11\u001b[0m \u001b[43m                      \u001b[49m\u001b[43mtoptimize\u001b[49m\u001b[38;5;241;43m=\u001b[39;49m\u001b[43moutput\u001b[49m\u001b[43m[\u001b[49m\u001b[38;5;124;43m\"\u001b[39;49m\u001b[38;5;124;43moptimization\u001b[39;49m\u001b[38;5;124;43m\"\u001b[39;49m\u001b[43m]\u001b[49m\u001b[43m[\u001b[49m\u001b[38;5;241;43m1\u001b[39;49m\u001b[43m]\u001b[49m\u001b[43m)\u001b[49m\n\u001b[1;32m     13\u001b[0m \u001b[38;5;28;01mtry\u001b[39;00m:\n\u001b[1;32m     14\u001b[0m     hfile\u001b[38;5;241m.\u001b[39mclose()\n",
      "File \u001b[0;32m~/anaconda3/envs/prospector/lib/python3.8/site-packages/prospect/io/write_results.py:113\u001b[0m, in \u001b[0;36mwrite_hdf5\u001b[0;34m(hfile, run_params, model, obs, sampler, optimize_result_list, tsample, toptimize, sampling_initial_center, sps, **extras)\u001b[0m\n\u001b[1;32m    110\u001b[0m         hfile \u001b[38;5;241m=\u001b[39m name\u001b[38;5;241m+\u001b[39m\u001b[38;5;124m'\u001b[39m\u001b[38;5;124m_\u001b[39m\u001b[38;5;132;01m{0}\u001b[39;00m\u001b[38;5;124m'\u001b[39m\u001b[38;5;241m.\u001b[39mformat(time_string)\u001b[38;5;241m+\u001b[39mext\n\u001b[1;32m    111\u001b[0m         \u001b[38;5;28mprint\u001b[39m(\u001b[38;5;124m\"\u001b[39m\u001b[38;5;124mNew output filename: \u001b[39m\u001b[38;5;132;01m{0}\u001b[39;00m\u001b[38;5;124m\"\u001b[39m\u001b[38;5;241m.\u001b[39mformat(hfile))\n\u001b[0;32m--> 113\u001b[0m     hf \u001b[38;5;241m=\u001b[39m \u001b[43mh5py\u001b[49m\u001b[38;5;241;43m.\u001b[39;49m\u001b[43mFile\u001b[49m\u001b[43m(\u001b[49m\u001b[43mhfile\u001b[49m\u001b[43m,\u001b[49m\u001b[43m \u001b[49m\u001b[38;5;124;43m\"\u001b[39;49m\u001b[38;5;124;43ma\u001b[39;49m\u001b[38;5;124;43m\"\u001b[39;49m\u001b[43m)\u001b[49m\n\u001b[1;32m    114\u001b[0m \u001b[38;5;28;01melse\u001b[39;00m:\n\u001b[1;32m    115\u001b[0m     hf \u001b[38;5;241m=\u001b[39m hfile\n",
      "File \u001b[0;32m~/anaconda3/envs/prospector/lib/python3.8/site-packages/h5py/_hl/files.py:567\u001b[0m, in \u001b[0;36mFile.__init__\u001b[0;34m(self, name, mode, driver, libver, userblock_size, swmr, rdcc_nslots, rdcc_nbytes, rdcc_w0, track_order, fs_strategy, fs_persist, fs_threshold, fs_page_size, page_buf_size, min_meta_keep, min_raw_keep, locking, alignment_threshold, alignment_interval, meta_block_size, **kwds)\u001b[0m\n\u001b[1;32m    558\u001b[0m     fapl \u001b[38;5;241m=\u001b[39m make_fapl(driver, libver, rdcc_nslots, rdcc_nbytes, rdcc_w0,\n\u001b[1;32m    559\u001b[0m                      locking, page_buf_size, min_meta_keep, min_raw_keep,\n\u001b[1;32m    560\u001b[0m                      alignment_threshold\u001b[38;5;241m=\u001b[39malignment_threshold,\n\u001b[1;32m    561\u001b[0m                      alignment_interval\u001b[38;5;241m=\u001b[39malignment_interval,\n\u001b[1;32m    562\u001b[0m                      meta_block_size\u001b[38;5;241m=\u001b[39mmeta_block_size,\n\u001b[1;32m    563\u001b[0m                      \u001b[38;5;241m*\u001b[39m\u001b[38;5;241m*\u001b[39mkwds)\n\u001b[1;32m    564\u001b[0m     fcpl \u001b[38;5;241m=\u001b[39m make_fcpl(track_order\u001b[38;5;241m=\u001b[39mtrack_order, fs_strategy\u001b[38;5;241m=\u001b[39mfs_strategy,\n\u001b[1;32m    565\u001b[0m                      fs_persist\u001b[38;5;241m=\u001b[39mfs_persist, fs_threshold\u001b[38;5;241m=\u001b[39mfs_threshold,\n\u001b[1;32m    566\u001b[0m                      fs_page_size\u001b[38;5;241m=\u001b[39mfs_page_size)\n\u001b[0;32m--> 567\u001b[0m     fid \u001b[38;5;241m=\u001b[39m \u001b[43mmake_fid\u001b[49m\u001b[43m(\u001b[49m\u001b[43mname\u001b[49m\u001b[43m,\u001b[49m\u001b[43m \u001b[49m\u001b[43mmode\u001b[49m\u001b[43m,\u001b[49m\u001b[43m \u001b[49m\u001b[43muserblock_size\u001b[49m\u001b[43m,\u001b[49m\u001b[43m \u001b[49m\u001b[43mfapl\u001b[49m\u001b[43m,\u001b[49m\u001b[43m \u001b[49m\u001b[43mfcpl\u001b[49m\u001b[43m,\u001b[49m\u001b[43m \u001b[49m\u001b[43mswmr\u001b[49m\u001b[38;5;241;43m=\u001b[39;49m\u001b[43mswmr\u001b[49m\u001b[43m)\u001b[49m\n\u001b[1;32m    569\u001b[0m \u001b[38;5;28;01mif\u001b[39;00m \u001b[38;5;28misinstance\u001b[39m(libver, \u001b[38;5;28mtuple\u001b[39m):\n\u001b[1;32m    570\u001b[0m     \u001b[38;5;28mself\u001b[39m\u001b[38;5;241m.\u001b[39m_libver \u001b[38;5;241m=\u001b[39m libver\n",
      "File \u001b[0;32m~/anaconda3/envs/prospector/lib/python3.8/site-packages/h5py/_hl/files.py:257\u001b[0m, in \u001b[0;36mmake_fid\u001b[0;34m(name, mode, userblock_size, fapl, fcpl, swmr)\u001b[0m\n\u001b[1;32m    244\u001b[0m     \u001b[38;5;66;03m# Not all drivers raise FileNotFoundError (commented those that do not)\u001b[39;00m\n\u001b[1;32m    245\u001b[0m     \u001b[38;5;28;01mexcept\u001b[39;00m \u001b[38;5;167;01mFileNotFoundError\u001b[39;00m \u001b[38;5;28;01mif\u001b[39;00m fapl\u001b[38;5;241m.\u001b[39mget_driver() \u001b[38;5;129;01min\u001b[39;00m (\n\u001b[1;32m    246\u001b[0m         h5fd\u001b[38;5;241m.\u001b[39mSEC2,\n\u001b[1;32m    247\u001b[0m         h5fd\u001b[38;5;241m.\u001b[39mDIRECT \u001b[38;5;28;01mif\u001b[39;00m direct_vfd \u001b[38;5;28;01melse\u001b[39;00m \u001b[38;5;241m-\u001b[39m\u001b[38;5;241m1\u001b[39m,\n\u001b[0;32m   (...)\u001b[0m\n\u001b[1;32m    255\u001b[0m         h5fd\u001b[38;5;241m.\u001b[39mROS3D \u001b[38;5;28;01mif\u001b[39;00m ros3 \u001b[38;5;28;01melse\u001b[39;00m \u001b[38;5;241m-\u001b[39m\u001b[38;5;241m1\u001b[39m,\n\u001b[1;32m    256\u001b[0m     ) \u001b[38;5;28;01melse\u001b[39;00m \u001b[38;5;167;01mOSError\u001b[39;00m:\n\u001b[0;32m--> 257\u001b[0m         fid \u001b[38;5;241m=\u001b[39m \u001b[43mh5f\u001b[49m\u001b[38;5;241;43m.\u001b[39;49m\u001b[43mcreate\u001b[49m\u001b[43m(\u001b[49m\u001b[43mname\u001b[49m\u001b[43m,\u001b[49m\u001b[43m \u001b[49m\u001b[43mh5f\u001b[49m\u001b[38;5;241;43m.\u001b[39;49m\u001b[43mACC_EXCL\u001b[49m\u001b[43m,\u001b[49m\u001b[43m \u001b[49m\u001b[43mfapl\u001b[49m\u001b[38;5;241;43m=\u001b[39;49m\u001b[43mfapl\u001b[49m\u001b[43m,\u001b[49m\u001b[43m \u001b[49m\u001b[43mfcpl\u001b[49m\u001b[38;5;241;43m=\u001b[39;49m\u001b[43mfcpl\u001b[49m\u001b[43m)\u001b[49m\n\u001b[1;32m    258\u001b[0m \u001b[38;5;28;01melse\u001b[39;00m:\n\u001b[1;32m    259\u001b[0m     \u001b[38;5;28;01mraise\u001b[39;00m \u001b[38;5;167;01mValueError\u001b[39;00m(\u001b[38;5;124m\"\u001b[39m\u001b[38;5;124mInvalid mode; must be one of r, r+, w, w-, x, a\u001b[39m\u001b[38;5;124m\"\u001b[39m)\n",
      "File \u001b[0;32mh5py/_objects.pyx:54\u001b[0m, in \u001b[0;36mh5py._objects.with_phil.wrapper\u001b[0;34m()\u001b[0m\n",
      "File \u001b[0;32mh5py/_objects.pyx:55\u001b[0m, in \u001b[0;36mh5py._objects.with_phil.wrapper\u001b[0;34m()\u001b[0m\n",
      "File \u001b[0;32mh5py/h5f.pyx:126\u001b[0m, in \u001b[0;36mh5py.h5f.create\u001b[0;34m()\u001b[0m\n",
      "\u001b[0;31mFileNotFoundError\u001b[0m: [Errno 2] Unable to synchronously create file (unable to open file: name = '../output_examples/mock_parametric_spec_23Jun08-17.48_mcmc.h5', errno = 2, error message = 'No such file or directory', flags = 15, o_flags = a02)"
     ]
    }
   ],
   "source": [
    "#hfile = setup_h5(model=model, obs=obs, **run_params)\n",
    "ts = time.strftime(\"%y%b%d-%H.%M\", time.localtime())\n",
    "hfile = \"{0}_{1}_mcmc.h5\".format(args.outfile, ts)\n",
    "\n",
    "output = fit_model(obs, model, sps, noise, **run_params)\n",
    "\n",
    "print(\"writing to {}\".format(hfile))\n",
    "writer.write_hdf5(hfile, run_params, model, obs,output[\"sampling\"][0], output[\"optimization\"][0],\n",
    "                      sps=sps,\n",
    "                      tsample=output[\"sampling\"][1],\n",
    "                      toptimize=output[\"optimization\"][1])\n",
    "\n",
    "try:\n",
    "    hfile.close()\n",
    "except(AttributeError):\n",
    "    pass"
   ]
  },
  {
   "cell_type": "code",
   "execution_count": null,
   "id": "83632ce2-2e4e-4f71-b659-02e69363fd32",
   "metadata": {},
   "outputs": [],
   "source": [
    "print(\"writing to {}\".format(hfile))\n",
    "writer.write_hdf5(hfile, run_params, model, obs,output[\"sampling\"][0], output[\"optimization\"][0],\n",
    "                      sps=sps,\n",
    "                      tsample=output[\"sampling\"][1],\n",
    "                      toptimize=output[\"optimization\"][1])\n",
    "\n",
    "try:\n",
    "    hfile.close()\n",
    "except(AttributeError):\n",
    "    pass"
   ]
  },
  {
   "cell_type": "code",
   "execution_count": null,
   "id": "31a57567-2b25-480b-a870-7651f4407e2f",
   "metadata": {},
   "outputs": [],
   "source": [
    "from prospect.io import read_results as reader\n",
    "out, out_obs, out_model = reader.results_from(hfile)"
   ]
  },
  {
   "cell_type": "code",
   "execution_count": null,
   "id": "12bce0ce-4f2a-4956-bcac-aead6931dabd",
   "metadata": {},
   "outputs": [],
   "source": [
    "import matplotlib.pyplot as pl\n",
    "from prospect.plotting import corner\n",
    "nsamples, ndim = out[\"chain\"].shape\n",
    "cfig, axes = pl.subplots(ndim, ndim, figsize=(10,9))\n",
    "axes = corner.allcorner(out[\"chain\"].T, out[\"theta_labels\"], axes, weights=out[\"weights\"], color=\"royalblue\", show_titles=True)\n",
    "\n",
    "from prospect.plotting.utils import best_sample\n",
    "pbest = best_sample(out)\n",
    "corner.scatter(pbest[:, None], axes, color=\"firebrick\", marker=\"o\")"
   ]
  },
  {
   "cell_type": "code",
   "execution_count": null,
   "id": "08e5f821-4ba1-43d2-8d62-d117887899e5",
   "metadata": {},
   "outputs": [],
   "source": [
    "import matplotlib.pyplot as pl\n",
    "sfig, saxes = pl.subplots(2, 1, gridspec_kw=dict(height_ratios=[1, 4]), sharex=True)\n",
    "ax = saxes[1]\n",
    "pwave = np.array([f.wave_effective for f in out_obs[\"filters\"]])\n",
    "# plot the data\n",
    "ax.plot(pwave, out_obs[\"maggies\"], linestyle=\"\", marker=\"o\", color=\"k\")\n",
    "ax.errorbar(pwave,  out_obs[\"maggies\"], out_obs[\"maggies_unc\"], linestyle=\"\", color=\"k\", zorder=10)\n",
    "ax.set_ylabel(r\"$f_\\nu$ (maggies)\")\n",
    "ax.set_xlabel(r\"$\\lambda$ (AA)\")\n",
    "ax.set_xlim(3e3, 1e4)\n",
    "ax.set_ylim(out_obs[\"maggies\"].min() * 0.1, out_obs[\"maggies\"].max() * 5)\n",
    "ax.set_yscale(\"log\")\n",
    "\n",
    "# get the best-fit SED\n",
    "bsed = out[\"bestfit\"]\n",
    "ax.plot(bsed[\"restframe_wavelengths\"] * (1+out_obs[\"redshift\"]), bsed[\"spectrum\"], color=\"firebrick\", label=\"MAP sample\")\n",
    "ax.plot(pwave, bsed[\"photometry\"], linestyle=\"\", marker=\"s\", markersize=10, mec=\"orange\", mew=3, mfc=\"none\")\n",
    "\n",
    "ax = saxes[0]\n",
    "chi = (out_obs[\"maggies\"] - bsed[\"photometry\"]) / out_obs[\"maggies_unc\"]\n",
    "ax.plot(pwave, chi, linestyle=\"\", marker=\"o\", color=\"k\")\n",
    "ax.axhline(0, color=\"k\", linestyle=\":\")\n",
    "ax.set_ylim(-2, 2)\n",
    "ax.set_ylabel(r\"$\\chi_{\\rm best}$\")"
   ]
  },
  {
   "cell_type": "code",
   "execution_count": null,
   "id": "ccb366cc-c7e9-456b-84fe-8aa7609abc8b",
   "metadata": {},
   "outputs": [],
   "source": [
    "bsed.keys()"
   ]
  },
  {
   "cell_type": "code",
   "execution_count": null,
   "id": "f8c68550-3d42-4300-b6d1-e18220726c1c",
   "metadata": {},
   "outputs": [],
   "source": [
    "bsed[\"spectrum\"]"
   ]
  },
  {
   "cell_type": "code",
   "execution_count": null,
   "id": "91ffcd25-90b5-434c-93f6-dd8c550d577b",
   "metadata": {},
   "outputs": [],
   "source": [
    "pl.plot(bsed[\"spectrum\"])"
   ]
  },
  {
   "cell_type": "code",
   "execution_count": null,
   "id": "71fc51ce-d12e-4bfa-b1fc-c713c6dd21e0",
   "metadata": {},
   "outputs": [],
   "source": []
  }
 ],
 "metadata": {
  "kernelspec": {
   "display_name": "prospector",
   "language": "python",
   "name": "prospector"
  },
  "language_info": {
   "codemirror_mode": {
    "name": "ipython",
    "version": 3
   },
   "file_extension": ".py",
   "mimetype": "text/x-python",
   "name": "python",
   "nbconvert_exporter": "python",
   "pygments_lexer": "ipython3",
   "version": "3.8.16"
  }
 },
 "nbformat": 4,
 "nbformat_minor": 5
}
