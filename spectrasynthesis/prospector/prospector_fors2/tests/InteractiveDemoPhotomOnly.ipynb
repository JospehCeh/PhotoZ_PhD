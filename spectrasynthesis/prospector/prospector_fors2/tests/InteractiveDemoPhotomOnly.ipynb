{
 "cells": [
  {
   "cell_type": "markdown",
   "metadata": {},
   "source": [
    "# Interactive Demo for Fors2 with Photometry only\n",
    "\n",
    "This is a deconstructed version of the demo that is intended to show a bit more detail about the operation of *prospector*.\n",
    "\n",
    "\n",
    "- author (adaptation) : Sylvie Dagoret-Campagne\n",
    "- creation date : 2023-06-14\n",
    "- 2023-06-19 :\n",
    "- last update : 2023-06-20 : add sps in output\n"
   ]
  },
  {
   "cell_type": "markdown",
   "metadata": {},
   "source": [
    "First let's set up some environmental dependencies. These just make the numerics easier and adjust some of the plotting defaults to make things more legible."
   ]
  },
  {
   "cell_type": "code",
   "execution_count": 1,
   "metadata": {},
   "outputs": [],
   "source": [
    "import time, sys, os\n",
    "import h5py\n",
    "import numpy as np\n",
    "import scipy\n",
    "from matplotlib.pyplot import *\n",
    "import re\n",
    "import h5py\n",
    "import pandas as pd\n",
    "%matplotlib inline\n",
    "from collections import OrderedDict\n",
    "\n",
    "# re-defining plotting defaults\n",
    "from matplotlib.font_manager import FontProperties\n",
    "from matplotlib import gridspec\n",
    "rcParams.update({'xtick.major.pad': '7.0'})\n",
    "rcParams.update({'xtick.major.size': '7.5'})\n",
    "rcParams.update({'xtick.major.width': '1.5'})\n",
    "rcParams.update({'xtick.minor.pad': '7.0'})\n",
    "rcParams.update({'xtick.minor.size': '3.5'})\n",
    "rcParams.update({'xtick.minor.width': '1.0'})\n",
    "rcParams.update({'ytick.major.pad': '7.0'})\n",
    "rcParams.update({'ytick.major.size': '7.5'})\n",
    "rcParams.update({'ytick.major.width': '1.5'})\n",
    "rcParams.update({'ytick.minor.pad': '7.0'})\n",
    "rcParams.update({'ytick.minor.size': '3.5'})\n",
    "rcParams.update({'ytick.minor.width': '1.0'})\n",
    "rcParams.update({'xtick.color': 'k'})\n",
    "rcParams.update({'ytick.color': 'k'})\n",
    "rcParams.update({'font.size': 30})"
   ]
  },
  {
   "cell_type": "code",
   "execution_count": 2,
   "metadata": {},
   "outputs": [],
   "source": [
    "from sklearn.gaussian_process import GaussianProcessRegressor, kernels"
   ]
  },
  {
   "cell_type": "markdown",
   "metadata": {},
   "source": [
    "**Prospector** utilizes three main packages:\n",
    "- **fsps**, which governs the fundamental stellar population synthesis models (via the **python-fsps** package),\n",
    "- **sedpy**, which contains some routines for computing projecting spectra onto filter bandpasses, and\n",
    "- **prospect**, which is where the likelihood evaluations, parameter priors, and posterior sampling takes place.\n",
    "\n",
    "Let's import those now."
   ]
  },
  {
   "cell_type": "code",
   "execution_count": 3,
   "metadata": {},
   "outputs": [],
   "source": [
    "import fsps\n",
    "import sedpy\n",
    "import prospect"
   ]
  },
  {
   "cell_type": "markdown",
   "metadata": {},
   "source": [
    "And now, let's just look at the versions so you know what's working for me"
   ]
  },
  {
   "cell_type": "code",
   "execution_count": 4,
   "metadata": {},
   "outputs": [
    {
     "name": "stdout",
     "output_type": "stream",
     "text": [
      "numpy: 1.24.3\n",
      "scipy: 1.10.1\n",
      "h5py: 3.8.0\n",
      "fsps: 0.4.3\n",
      "prospect: 1.2.1.dev20+g931b4ad.d20230611\n"
     ]
    }
   ],
   "source": [
    "vers = (np.__version__, scipy.__version__, h5py.__version__, fsps.__version__, prospect.__version__)\n",
    "print(\"numpy: {}\\nscipy: {}\\nh5py: {}\\nfsps: {}\\nprospect: {}\".format(*vers))"
   ]
  },
  {
   "cell_type": "markdown",
   "metadata": {},
   "source": [
    "We'll also use external packages for sampling the posterior.  Let's make sure we have those now."
   ]
  },
  {
   "cell_type": "code",
   "execution_count": 5,
   "metadata": {},
   "outputs": [],
   "source": [
    "import emcee\n",
    "import dynesty"
   ]
  },
  {
   "cell_type": "code",
   "execution_count": 6,
   "metadata": {},
   "outputs": [],
   "source": [
    "ordered_keys = ['name','num','ra','dec', 'redshift','Rmag','RT', 'RV','eRV','Nsp','lines',\n",
    "                'ra_galex','dec_galex','fuv_mag', 'fuv_magerr','nuv_mag', 'nuv_magerr', \n",
    "                'fuv_flux', 'fuv_fluxerr','nuv_flux', 'nuv_fluxerr','asep_galex',\n",
    "                'ID', 'KIDS_TILE','RAJ2000','DECJ2000','Z_ML', 'Z_B','asep_kids','CLASS_STAR',\n",
    "                'MAG_GAAP_u','MAG_GAAP_g','MAG_GAAP_r','MAG_GAAP_i','MAG_GAAP_Z','MAG_GAAP_Y','MAG_GAAP_J', 'MAG_GAAP_H','MAG_GAAP_Ks',\n",
    "                'MAGERR_GAAP_u','MAGERR_GAAP_g','MAGERR_GAAP_r','MAGERR_GAAP_i','MAGERR_GAAP_Z','MAGERR_GAAP_Y','MAGERR_GAAP_J','MAGERR_GAAP_H','MAGERR_GAAP_Ks',\n",
    "                'FLUX_GAAP_u','FLUX_GAAP_g','FLUX_GAAP_r','FLUX_GAAP_i','FLUX_GAAP_Z','FLUX_GAAP_Y','FLUX_GAAP_J', 'FLUX_GAAP_H','FLUX_GAAP_Ks',\n",
    "                'FLUXERR_GAAP_u','FLUXERR_GAAP_g','FLUXERR_GAAP_r','FLUXERR_GAAP_i','FLUXERR_GAAP_Z','FLUXERR_GAAP_Y','FLUXERR_GAAP_J','FLUXERR_GAAP_H','FLUXERR_GAAP_Ks',\n",
    "                'FLUX_RADIUS', 'EXTINCTION_u','EXTINCTION_g','EXTINCTION_r', 'EXTINCTION_i',]"
   ]
  },
  {
   "cell_type": "code",
   "execution_count": 7,
   "metadata": {},
   "outputs": [],
   "source": [
    "from astropy import units as u\n",
    "from astropy import constants as const\n",
    "U_FNU = u.def_unit(u'fnu',  u.erg / (u.cm**2 * u.s * u.Hz))\n",
    "U_FL = u.def_unit(u'fl',  u.erg / (u.cm**2 * u.s * u.AA))"
   ]
  },
  {
   "cell_type": "code",
   "execution_count": 8,
   "metadata": {},
   "outputs": [],
   "source": [
    "def ConvertFlambda_to_Fnu(wl, flambda):\n",
    "    \"\"\"\n",
    "    Convert spectra density flambda to fnu.\n",
    "    parameters:\n",
    "        - Flambda : flux density in erg/s/cm2 /AA or W/cm2/AA\n",
    "    return\n",
    "         - Fnu : flux density in erg/s/cm2/Hz or W/cm2/Hz\n",
    "\n",
    "\n",
    "    Compute Fnu = wl**2/c Flambda\n",
    "    check the conversion units with astropy units and constants \n",
    "    \n",
    "    \"\"\"\n",
    "    fnu = (flambda*U_FL*(wl*u.AA)**2/const.c).to(U_FNU)/(1*U_FNU)\n",
    "   \n",
    "    return fnu"
   ]
  },
  {
   "cell_type": "code",
   "execution_count": 9,
   "metadata": {},
   "outputs": [],
   "source": [
    "def flux_norm(wl,fl,wlcenter=6231,wlwdt=50):\n",
    "    lambda_red = wlcenter\n",
    "    lambda_width = wlwdt\n",
    "    lambda_sel_min = lambda_red-lambda_width /2.\n",
    "    lambda_sel_max = lambda_red+lambda_width /2.  \n",
    "\n",
    "    idx_wl_sel = np.where(np.logical_and(wl>= lambda_sel_min,wl<= lambda_sel_max))[0]\n",
    "    flarr_norm = fl[idx_wl_sel]\n",
    "    return np.median(flarr_norm)"
   ]
  },
  {
   "cell_type": "code",
   "execution_count": 10,
   "metadata": {},
   "outputs": [],
   "source": [
    "class Fors2DataAcess(object):\n",
    "    def __init__(self,filename):\n",
    "        if os.path.isfile(filename):\n",
    "            self.hf = h5py.File(filename, 'r')\n",
    "            self.list_of_groupkeys = list(self.hf.keys())      \n",
    "             # pick one key    \n",
    "            key_sel =  self.list_of_groupkeys[0]\n",
    "            # pick one group\n",
    "            group = self.hf.get(key_sel)  \n",
    "            #pickup all attribute names\n",
    "            self.list_of_subgroup_keys = []\n",
    "            for k in group.attrs.keys():\n",
    "                self.list_of_subgroup_keys.append(k)\n",
    "        else:\n",
    "            self.hf = None\n",
    "            self.list_of_groupkeys = []\n",
    "            self.list_of_subgroup_keys = []\n",
    "    def close_file(self):\n",
    "        self.hf.close() \n",
    "        \n",
    "    def get_list_of_groupkeys(self):\n",
    "        return self.list_of_groupkeys \n",
    "    def get_list_subgroup_keys(self):\n",
    "        return self.list_of_subgroup_keys\n",
    "    def getattribdata_fromgroup(self,groupname):\n",
    "        attr_dict = OrderedDict()\n",
    "        if groupname in self.list_of_groupkeys:       \n",
    "            group = self.hf.get(groupname)  \n",
    "            for  nameval in self.list_of_subgroup_keys:\n",
    "                attr_dict[nameval] = group.attrs[nameval]\n",
    "        else:\n",
    "            print(f'getattribdata_fromgroup : No group {groupname}')\n",
    "        return attr_dict\n",
    "    def getspectrum_fromgroup(self,groupname):\n",
    "        spec_dict = {}\n",
    "        if groupname in self.list_of_groupkeys:       \n",
    "            group = self.hf.get(groupname)  \n",
    "            wl = np.array(group.get(\"wl\"))\n",
    "            fl = np.array(group.get(\"fl\")) \n",
    "            spec_dict[\"wl\"] = wl\n",
    "            spec_dict[\"fl\"] = fl\n",
    "\n",
    "            #convert to fnu\n",
    "            fnu = ConvertFlambda_to_Fnu(wl, fl)\n",
    "            fnorm = flux_norm(wl,fnu)\n",
    "            spec_dict[\"fnu\"] = fnu/fnorm\n",
    "            \n",
    "            \n",
    "        else:\n",
    "            print(f'getspectrum_fromgroup : No group {groupname}')\n",
    "        return spec_dict\n",
    "    \n",
    "    #kernel = kernels.RBF(0.5, (8000, 10000.0))\n",
    "    #gp = GaussianProcessRegressor(kernel=kernel ,random_state=0)\n",
    "\n",
    "    def getspectrumcleanedemissionlines_fromgroup(self,groupname,gp,nsigs=8):\n",
    "        spec_dict = {}\n",
    "        if groupname in self.list_of_groupkeys:       \n",
    "            group = self.hf.get(groupname)  \n",
    "            wl = np.array(group.get(\"wl\"))\n",
    "            fl = np.array(group.get(\"fl\")) \n",
    "\n",
    "            #convert to fnu\n",
    "            fnu = ConvertFlambda_to_Fnu(wl, fl)\n",
    "            fnorm = flux_norm(wl,fnu)\n",
    "                       \n",
    "           \n",
    "            # fit gaussian pricess \n",
    "            X = wl\n",
    "            Y = fnu/fnorm\n",
    "            \n",
    "            DeltaY,Z = Y - gp.predict(X[:, None], return_std=True)\n",
    "            background = np.sqrt(np.median(DeltaY**2))\n",
    "            #indexes_toremove = np.where(np.abs(DeltaY)> nsigs * background)[0]\n",
    "            indexes_toremove = np.where(np.logical_or(np.abs(DeltaY)> nsigs * background,Y<=0))[0]\n",
    "            \n",
    "            Xclean = np.delete(X,indexes_toremove)\n",
    "            Yclean  = np.delete(Y,indexes_toremove)\n",
    "            Zclean  = np.delete(Z,indexes_toremove)\n",
    "            \n",
    "            spec_dict[\"wl\"] = Xclean\n",
    "            spec_dict[\"fnu\"] = Yclean\n",
    "            spec_dict[\"bg\"] = np.abs(Zclean) # strange scikit learn bug returning negative std.\n",
    "            spec_dict[\"bg_med\"] = background # overestimated median error\n",
    "    \n",
    "    \n",
    "            \n",
    "        else:\n",
    "            print(f'getspectrum_fromgroup : No group {groupname}')\n",
    "        return spec_dict"
   ]
  },
  {
   "cell_type": "markdown",
   "metadata": {},
   "source": [
    "# Setup"
   ]
  },
  {
   "cell_type": "markdown",
   "metadata": {},
   "source": [
    "*Prospector* requires several ingredients to conduct a fit.  These are:\n",
    "  1. An `obs` dictionary (with the data we intend to fit)\n",
    "  2. A stellar population synthesis object (a *source*) to predict spectra from parameters\n",
    "  3. A `model` object (to describe, store, and translate parameters and priors)\n",
    "  4. A likelihood or posterior probability function\n",
    "  \n",
    "It can also useful to collect the meta-parameters controlling how these ingredients are created and how the fit is conducted in a ``run_params`` dictionary. We will do that as we go along.  We will also encapsulate each step of the setup in a series of `build_x()` functions."
   ]
  },
  {
   "cell_type": "markdown",
   "metadata": {},
   "source": [
    "## The data to be fit: `build_obs()`\n",
    "\n",
    "The data to be fit is stored in a dictionary that we will call `obs`.\n",
    "The `obs` dictionary stores the observed fluxes, uncertainties, and information about how those fluxes were measured.\n",
    "For spectra this means the wavelengths at which the fluxes were measured, while for photometry we must know the filters through which the fluxes were measured.\n",
    "This information is passed (via the `obs` dictionary) to the model object to specify which data to predict.  It is also passed to the likelihood functions for calculating the likelihood of the data for a given model.\n",
    "\n",
    "**Units:** The units of the fluxes and uncertainties are assumed to be maggies (i.e Jy/3631).\n",
    "The wavelength units are assumed to be observed frame vacuum angstroms.  Also note that mask values should be `True` for data that you want to fit, and `False` for data that is to be ignored in the likelihood calculation.\n",
    "\n",
    "We will create an `obs` dictionary below, with all of the required keys, starting with photometry.\n",
    "We will do this through a `build_obs` method, that takes some meta-parameters.\n",
    "In this example we use photometry from a row in Table 2 of Johnson et al. 2013"
   ]
  },
  {
   "cell_type": "code",
   "execution_count": 11,
   "metadata": {},
   "outputs": [],
   "source": [
    "input_file_h5  = '../../../../QueryCatalogs/data/FORS2spectraGalexKidsPhotom.hdf5'"
   ]
  },
  {
   "cell_type": "code",
   "execution_count": 12,
   "metadata": {},
   "outputs": [],
   "source": [
    "fors2 = Fors2DataAcess(input_file_h5)"
   ]
  },
  {
   "cell_type": "code",
   "execution_count": 13,
   "metadata": {},
   "outputs": [],
   "source": [
    "list_of_keys = fors2.get_list_of_groupkeys()\n",
    "list_of_attributes = fors2.get_list_subgroup_keys()\n",
    "list_of_keys = np.array(list_of_keys)\n",
    "list_of_keysnum = [ int(re.findall(\"SPEC(.*)\",specname)[0]) for specname in  list_of_keys ]\n",
    "sorted_indexes = np.argsort(list_of_keysnum)\n",
    "list_of_keys = list_of_keys[sorted_indexes]"
   ]
  },
  {
   "cell_type": "code",
   "execution_count": 14,
   "metadata": {},
   "outputs": [],
   "source": [
    "df_info = pd.DataFrame(columns=list_of_attributes)"
   ]
  },
  {
   "cell_type": "code",
   "execution_count": 15,
   "metadata": {},
   "outputs": [],
   "source": [
    "kernel = kernels.RBF(0.5, (8000, 10000.0))\n",
    "gp = GaussianProcessRegressor(kernel=kernel ,random_state=0)"
   ]
  },
  {
   "cell_type": "code",
   "execution_count": 16,
   "metadata": {},
   "outputs": [],
   "source": [
    "selected_key = 'SPEC214'\n",
    "output_tag = selected_key + '_photomonly'"
   ]
  },
  {
   "cell_type": "code",
   "execution_count": 17,
   "metadata": {},
   "outputs": [],
   "source": [
    "attrs = fors2.getattribdata_fromgroup(selected_key)\n",
    "spectr = fors2.getspectrumcleanedemissionlines_fromgroup(selected_key,gp)\n",
    "df_info.loc[0] = [*attrs.values()] # hope the order of attributes is kept"
   ]
  },
  {
   "cell_type": "code",
   "execution_count": 18,
   "metadata": {},
   "outputs": [
    {
     "data": {
      "text/plain": [
       "OrderedDict([('CLASS_STAR', 0.0285597592592239),\n",
       "             ('DECJ2000', -28.423075),\n",
       "             ('EXTINCTION_g', 0.0597145706415176),\n",
       "             ('EXTINCTION_i', 0.0306979492306709),\n",
       "             ('EXTINCTION_r', 0.0413102693855762),\n",
       "             ('EXTINCTION_u', 0.0766364112496376),\n",
       "             ('FLUXERR_GAAP_H', 584.3170166015625),\n",
       "             ('FLUXERR_GAAP_J', 284.14215087890625),\n",
       "             ('FLUXERR_GAAP_Ks', 679.517578125),\n",
       "             ('FLUXERR_GAAP_Y', 348.23663330078125),\n",
       "             ('FLUXERR_GAAP_Z', 178.92771911621094),\n",
       "             ('FLUXERR_GAAP_g', 3.3600001253519807e-11),\n",
       "             ('FLUXERR_GAAP_i', 1.7600000623563259e-10),\n",
       "             ('FLUXERR_GAAP_r', 3.519999916545835e-11),\n",
       "             ('FLUXERR_GAAP_u', 1.2499999646475854e-10),\n",
       "             ('FLUX_GAAP_H', 17384.017578125),\n",
       "             ('FLUX_GAAP_J', 14311.908203125),\n",
       "             ('FLUX_GAAP_Ks', 21491.59765625),\n",
       "             ('FLUX_GAAP_Y', 12392.03515625),\n",
       "             ('FLUX_GAAP_Z', 12035.5595703125),\n",
       "             ('FLUX_GAAP_g', 3.2212998934966212e-09),\n",
       "             ('FLUX_GAAP_i', 8.536799711578169e-09),\n",
       "             ('FLUX_GAAP_r', 6.11390005289536e-09),\n",
       "             ('FLUX_GAAP_u', 1.3926999553603991e-09),\n",
       "             ('FLUX_RADIUS', 4.76632022857666),\n",
       "             ('ID', 'KiDSDR4 J005411.662-282523.07 '),\n",
       "             ('KIDS_TILE', 'KIDS_13.5_-28.2 '),\n",
       "             ('MAGERR_GAAP_H', 0.0364940986037254),\n",
       "             ('MAGERR_GAAP_J', 0.0215556994080543),\n",
       "             ('MAGERR_GAAP_Ks', 0.0343285985291004),\n",
       "             ('MAGERR_GAAP_Y', 0.0305109992623329),\n",
       "             ('MAGERR_GAAP_Z', 0.0161412004381418),\n",
       "             ('MAGERR_GAAP_g', 0.0113248499110341),\n",
       "             ('MAGERR_GAAP_i', 0.0223842170089483),\n",
       "             ('MAGERR_GAAP_r', 0.0062509872950613),\n",
       "             ('MAGERR_GAAP_u', 0.097448855638504),\n",
       "             ('MAG_GAAP_H', 19.391475677490234),\n",
       "             ('MAG_GAAP_J', 19.59800148010254),\n",
       "             ('MAG_GAAP_Ks', 19.16385841369629),\n",
       "             ('MAG_GAAP_Y', 19.747404098510746),\n",
       "             ('MAG_GAAP_Z', 19.77596092224121),\n",
       "             ('MAG_GAAP_g', 21.14223861694336),\n",
       "             ('MAG_GAAP_i', 20.222719192504883),\n",
       "             ('MAG_GAAP_r', 20.44911766052246),\n",
       "             ('MAG_GAAP_u', 22.024078369140625),\n",
       "             ('Nsp', 1),\n",
       "             ('RAJ2000', 13.548594),\n",
       "             ('RT', 16.1),\n",
       "             ('RV', 87798),\n",
       "             ('Rmag', 19.8),\n",
       "             ('Z_B', 0.23),\n",
       "             ('Z_ML', 0.23),\n",
       "             ('asep_galex', 1.9742797476972116),\n",
       "             ('asep_kids', 0.5098693520028801),\n",
       "             ('dec', -28.42296),\n",
       "             ('dec_galex', -28.42241418307164),\n",
       "             ('eRV', 23),\n",
       "             ('fuv_flux', nan),\n",
       "             ('fuv_fluxerr', nan),\n",
       "             ('fuv_mag', nan),\n",
       "             ('fuv_magerr', nan),\n",
       "             ('lines',\n",
       "              b'[OII],H10,H9,H8,K,H,H{beta},[OIII]                                          \\r'),\n",
       "             ('name', 'SPEC214'),\n",
       "             ('num', 214),\n",
       "             ('nuv_flux', 5.43180847),\n",
       "             ('nuv_fluxerr', 2.62827635),\n",
       "             ('nuv_mag', 22.0626373),\n",
       "             ('nuv_magerr', 0.5254802),\n",
       "             ('ra', 13.5485),\n",
       "             ('ra_galex', 13.5484394195987),\n",
       "             ('redshift', 0.29266)])"
      ]
     },
     "execution_count": 18,
     "metadata": {},
     "output_type": "execute_result"
    }
   ],
   "source": [
    "attrs"
   ]
  },
  {
   "cell_type": "code",
   "execution_count": 19,
   "metadata": {},
   "outputs": [
    {
     "data": {
      "text/html": [
       "<div>\n",
       "<style scoped>\n",
       "    .dataframe tbody tr th:only-of-type {\n",
       "        vertical-align: middle;\n",
       "    }\n",
       "\n",
       "    .dataframe tbody tr th {\n",
       "        vertical-align: top;\n",
       "    }\n",
       "\n",
       "    .dataframe thead th {\n",
       "        text-align: right;\n",
       "    }\n",
       "</style>\n",
       "<table border=\"1\" class=\"dataframe\">\n",
       "  <thead>\n",
       "    <tr style=\"text-align: right;\">\n",
       "      <th></th>\n",
       "      <th>name</th>\n",
       "      <th>num</th>\n",
       "      <th>ra</th>\n",
       "      <th>dec</th>\n",
       "      <th>redshift</th>\n",
       "      <th>Rmag</th>\n",
       "      <th>RT</th>\n",
       "      <th>RV</th>\n",
       "      <th>eRV</th>\n",
       "      <th>Nsp</th>\n",
       "      <th>...</th>\n",
       "      <th>FLUXERR_GAAP_Z</th>\n",
       "      <th>FLUXERR_GAAP_Y</th>\n",
       "      <th>FLUXERR_GAAP_J</th>\n",
       "      <th>FLUXERR_GAAP_H</th>\n",
       "      <th>FLUXERR_GAAP_Ks</th>\n",
       "      <th>FLUX_RADIUS</th>\n",
       "      <th>EXTINCTION_u</th>\n",
       "      <th>EXTINCTION_g</th>\n",
       "      <th>EXTINCTION_r</th>\n",
       "      <th>EXTINCTION_i</th>\n",
       "    </tr>\n",
       "  </thead>\n",
       "  <tbody>\n",
       "    <tr>\n",
       "      <th>0</th>\n",
       "      <td>SPEC214</td>\n",
       "      <td>214</td>\n",
       "      <td>13.5485</td>\n",
       "      <td>-28.42296</td>\n",
       "      <td>0.29266</td>\n",
       "      <td>19.8</td>\n",
       "      <td>16.1</td>\n",
       "      <td>87798</td>\n",
       "      <td>23</td>\n",
       "      <td>1</td>\n",
       "      <td>...</td>\n",
       "      <td>178.927719</td>\n",
       "      <td>348.236633</td>\n",
       "      <td>284.142151</td>\n",
       "      <td>584.317017</td>\n",
       "      <td>679.517578</td>\n",
       "      <td>4.76632</td>\n",
       "      <td>0.076636</td>\n",
       "      <td>0.059715</td>\n",
       "      <td>0.04131</td>\n",
       "      <td>0.030698</td>\n",
       "    </tr>\n",
       "  </tbody>\n",
       "</table>\n",
       "<p>1 rows × 71 columns</p>\n",
       "</div>"
      ],
      "text/plain": [
       "      name  num       ra       dec  redshift  Rmag    RT     RV  eRV  Nsp  \\\n",
       "0  SPEC214  214  13.5485 -28.42296   0.29266  19.8  16.1  87798   23    1   \n",
       "\n",
       "   ... FLUXERR_GAAP_Z  FLUXERR_GAAP_Y  FLUXERR_GAAP_J  FLUXERR_GAAP_H  \\\n",
       "0  ...     178.927719      348.236633      284.142151      584.317017   \n",
       "\n",
       "   FLUXERR_GAAP_Ks  FLUX_RADIUS  EXTINCTION_u  EXTINCTION_g  EXTINCTION_r  \\\n",
       "0       679.517578      4.76632      0.076636      0.059715       0.04131   \n",
       "\n",
       "   EXTINCTION_i  \n",
       "0      0.030698  \n",
       "\n",
       "[1 rows x 71 columns]"
      ]
     },
     "execution_count": 19,
     "metadata": {},
     "output_type": "execute_result"
    }
   ],
   "source": [
    "df_info = df_info[ordered_keys]\n",
    "df_info"
   ]
  },
  {
   "cell_type": "code",
   "execution_count": 20,
   "metadata": {},
   "outputs": [],
   "source": [
    "object_redshift = df_info[\"redshift\"]"
   ]
  },
  {
   "cell_type": "code",
   "execution_count": 21,
   "metadata": {},
   "outputs": [],
   "source": [
    "def build_obs(attrs, spectr, **extras):\n",
    "    \"\"\"Build a dictionary of observational data.  \n",
    "        into apparent magnitudes.\n",
    "        \n",
    "    :returns obs:\n",
    "        A dictionary of observational data to use in the fit.\n",
    "    \"\"\"\n",
    "    from prospect.utils.obsutils import fix_obs\n",
    "    import sedpy\n",
    "\n",
    "    # The obs dictionary, empty for now\n",
    "    obs = {}\n",
    "\n",
    "    # These are the names of the relevant filters, \n",
    "    # in the same order as the photometric data (see below)\n",
    "    galex = ['galex_FUV', 'galex_NUV']\n",
    "    vista = ['vista_vircam_'+n for n in ['Z','J','H','Ks']]\n",
    "    sdss = ['sdss_{0}0'.format(b) for b in ['u','g','r','i']]\n",
    "    filternames = galex + sdss + vista\n",
    "    # And here we instantiate the `Filter()` objects using methods in `sedpy`,\n",
    "    # and put the resultinf list of Filter objects in the \"filters\" key of the `obs` dictionary\n",
    "    obs[\"filters\"] = sedpy.observate.load_filters(filternames)\n",
    "  \n",
    "    # Now we store the measured fluxes for a single object, **in the same order as \"filters\"**\n",
    "    # In this example we use a row of absolute AB magnitudes from Johnson et al. 2013 (NGC4163)\n",
    "    # We then turn them into apparent magnitudes based on the supplied `ldist` meta-parameter.\n",
    "    # You could also, e.g. read from a catalog.\n",
    "    # The units of the fluxes need to be maggies (Jy/3631) so we will do the conversion here too.\n",
    "    m_AB = np.array([attrs['fuv_mag'], attrs['nuv_mag'],\n",
    "                     attrs['MAG_GAAP_u'],attrs['MAG_GAAP_g'],attrs['MAG_GAAP_r'],attrs['MAG_GAAP_i'],\n",
    "                     attrs['MAG_GAAP_Z'],attrs['MAG_GAAP_J'],attrs['MAG_GAAP_H'],attrs['MAG_GAAP_Ks']])\n",
    "    merr = np.array([attrs['fuv_magerr'], attrs['nuv_magerr'],\n",
    "                     attrs['MAGERR_GAAP_u'],attrs['MAGERR_GAAP_g'],attrs['MAGERR_GAAP_r'],attrs['MAGERR_GAAP_i'],\n",
    "                     attrs['MAGERR_GAAP_Z'],attrs['MAGERR_GAAP_J'],attrs['MAGERR_GAAP_H'],attrs['MAGERR_GAAP_Ks']])               \n",
    "    \n",
    "    mags = m_AB\n",
    "    obs[\"maggies\"] = 10**(-0.4*mags)\n",
    "    \n",
    "    # And now we store the uncertainties (again in units of maggies)\n",
    "    # In this example we are going to fudge the uncertainties based on the supplied `snr` meta-parameter.\n",
    "    obs['maggies_unc'] = np.array([0.9210*merr[i]* obs[\"maggies\"][i] for i in range(len(mags))])\n",
    "    \n",
    "    \n",
    "    # Now we need a mask, which says which flux values to consider in the likelihood.\n",
    "    # IMPORTANT: the mask is *True* for values that you *want* to fit, \n",
    "    # and *False* for values you want to ignore.  Here we ignore the spitzer bands.\n",
    "    obs[\"phot_mask\"] = np.array([ ~np.isnan(f) for f in obs[\"maggies\"]])\n",
    "\n",
    "    # This is an array of effective wavelengths for each of the filters.  \n",
    "    # It is not necessary, but it can be useful for plotting so we store it here as a convenience\n",
    "    obs[\"phot_wave\"] = np.array([f.wave_effective for f in obs[\"filters\"]])\n",
    "    \n",
    "\n",
    "    # We do not have a spectrum, so we set some required elements of the obs dictionary to None.\n",
    "    # (this would be a vector of vacuum wavelengths in angstroms)\n",
    "    obs[\"wavelength\"] = None\n",
    "    # (this would be the spectrum in units of maggies)\n",
    "    obs[\"spectrum\"] = None\n",
    "    # (spectral uncertainties are given here)\n",
    "    obs['unc'] = None\n",
    "    # (again, to ignore a particular wavelength set the value of the \n",
    "    #  corresponding elemnt of the mask to *False*)\n",
    "    obs['mask'] = None\n",
    "\n",
    "\n",
    "\n",
    "    \n",
    "    # This function ensures all required keys are present in the obs dictionary,\n",
    "    # adding default values if necessary\n",
    "    obs = fix_obs(obs)\n",
    "\n",
    "    return obs"
   ]
  },
  {
   "cell_type": "markdown",
   "metadata": {},
   "source": [
    "And we will store some meta-parameters that control the input arguments to this method:"
   ]
  },
  {
   "cell_type": "code",
   "execution_count": 22,
   "metadata": {},
   "outputs": [],
   "source": [
    "run_params = {}\n",
    "run_params[\"snr\"] = 10.0\n",
    "run_params[\"ldist\"] = 10.0"
   ]
  },
  {
   "cell_type": "markdown",
   "metadata": {},
   "source": [
    "Let's take a look at the final `obs` disctionary and also plot up our data."
   ]
  },
  {
   "cell_type": "code",
   "execution_count": 23,
   "metadata": {},
   "outputs": [
    {
     "name": "stdout",
     "output_type": "stream",
     "text": [
      "Obs Dictionary Keys:\n",
      "\n",
      "dict_keys(['filters', 'maggies', 'maggies_unc', 'phot_mask', 'phot_wave', 'wavelength', 'spectrum', 'unc', 'mask', 'filternames', 'logify_spectrum', 'ndof'])\n",
      "\n",
      "--------\n",
      "Filter objects:\n",
      "\n",
      "[<class 'sedpy.observate.Filter'>(galex_FUV), <class 'sedpy.observate.Filter'>(galex_NUV), <class 'sedpy.observate.Filter'>(sdss_u0), <class 'sedpy.observate.Filter'>(sdss_g0), <class 'sedpy.observate.Filter'>(sdss_r0), <class 'sedpy.observate.Filter'>(sdss_i0), <class 'sedpy.observate.Filter'>(vista_vircam_Z), <class 'sedpy.observate.Filter'>(vista_vircam_J), <class 'sedpy.observate.Filter'>(vista_vircam_H), <class 'sedpy.observate.Filter'>(vista_vircam_Ks)]\n"
     ]
    },
    {
     "data": {
      "image/png": "[encoded data removed]",
      "text/plain": [
       "<Figure size 1600x800 with 1 Axes>"
      ]
     },
     "metadata": {},
     "output_type": "display_data"
    }
   ],
   "source": [
    "# Build the obs dictionary using the meta-parameters\n",
    "obs = build_obs(attrs, spectr,**run_params)\n",
    "\n",
    "# Look at the contents of the obs dictionary\n",
    "print(\"Obs Dictionary Keys:\\n\\n{}\\n\".format(obs.keys()))\n",
    "print(\"--------\\nFilter objects:\\n\")\n",
    "print(obs[\"filters\"])\n",
    "\n",
    "# --- Plot the Data ----\n",
    "# This is why we stored these...\n",
    "wphot = obs[\"phot_wave\"]\n",
    "\n",
    "# establish bounds\n",
    "xmin, xmax = np.min(wphot)*0.8, np.max(wphot)/0.8\n",
    "ymin, ymax = obs[\"maggies\"][1:].min()*0.8, obs[\"maggies\"][1:].max()/0.4\n",
    "figure(figsize=(16,8))\n",
    "\n",
    "# plot all the data\n",
    "plot(wphot, obs['maggies'],\n",
    "     label='All observed photometry',\n",
    "     marker='o', markersize=12, alpha=0.8, ls='', lw=3,\n",
    "     color='slateblue')\n",
    "\n",
    "# overplot only the data we intend to fit\n",
    "mask = obs[\"phot_mask\"]\n",
    "errorbar(wphot[mask], obs['maggies'][mask], \n",
    "         yerr=obs['maggies_unc'][mask], \n",
    "         label='Photometry to fit',\n",
    "         marker='o', markersize=8, alpha=0.8, ls='', lw=3,\n",
    "         ecolor='tomato', markerfacecolor='none', markeredgecolor='tomato', \n",
    "         markeredgewidth=3)\n",
    "\n",
    "# plot Filters\n",
    "for f in obs['filters']:\n",
    "    w, t = f.wavelength.copy(), f.transmission.copy()\n",
    "    t = t / t.max()\n",
    "    t = 10**(0.2*(np.log10(ymax/ymin)))*t * ymin\n",
    "    loglog(w, t, lw=3, color='gray', alpha=0.7)\n",
    "\n",
    "# prettify\n",
    "xlabel('Wavelength [A]')\n",
    "ylabel('Flux Density [maggies]')\n",
    "xlim([xmin, xmax])\n",
    "ylim([ymin, ymax])\n",
    "xscale(\"log\")\n",
    "yscale(\"log\")\n",
    "legend(loc='best', fontsize=20)\n",
    "tight_layout()"
   ]
  },
  {
   "cell_type": "markdown",
   "metadata": {},
   "source": [
    "## The model object: `build_model()`\n",
    "\n",
    "Now we need a set of model parameters, which will **define** the model we are tying to fit to the data.  The model object stores the parameters that are used by the SPS object to build a spectrum, as well as infomation about which parameters are to be varied during fitting, and priors on those parameters.  It efficiently converts between a vector of parameter values (the `theta` attribute) used by the MCMC samplers or optimizers and the dictionary of parameter names and values (the `params` attribute) that can be passed to the sps objects' `get_spectrum()` method.\n",
    "\n",
    "To create the model object we need a list or dictionary of model parameters and some infomation about them.  Each parameter must a have a `name`, a length `N` (vector parameters are possible), an initial value `ini`, and must be specified as either a free parameter or a fixed parameter via an `isfree` key.  If it is a free parameter it *must* have a prior specified as well, which we will get from the `priors` module.  Please see the documentation for that module for detaiuls on the available priors."
   ]
  },
  {
   "cell_type": "markdown",
   "metadata": {},
   "source": [
    "Let's start by creating a dictionary that describes a single parameter controlling the stellar mass."
   ]
  },
  {
   "cell_type": "code",
   "execution_count": 24,
   "metadata": {},
   "outputs": [],
   "source": [
    "from prospect.models import priors\n",
    "mass_param = {\"name\": \"mass\",\n",
    "              # The mass parameter here is a scalar, so it has N=1\n",
    "              \"N\": 1,\n",
    "              # We will be fitting for the mass, so it is a free parameter\n",
    "              \"isfree\": True,\n",
    "              # This is the initial value. For fixed parameters this is the\n",
    "              # value that will always be used. \n",
    "              \"init\": 1e8,\n",
    "              # This sets the prior probability for the parameter\n",
    "              \"prior\": priors.LogUniform(mini=1e6, maxi=1e12),\n",
    "              # this sets the initial dispersion to use when generating \n",
    "              # clouds of emcee \"walkers\".  It is not required, but can be very helpful.\n",
    "              \"init_disp\": 1e6, \n",
    "              # this sets the minimum dispersion to use when generating \n",
    "              #clouds of emcee \"walkers\".  It is not required, but can be useful if \n",
    "              # burn-in rounds leave the walker distribution too narrow for some reason.\n",
    "              \"disp_floor\": 1e6, \n",
    "              # This is not required, but can be helpful\n",
    "              \"units\": \"solar masses formed\",\n",
    "              }"
   ]
  },
  {
   "cell_type": "markdown",
   "metadata": {},
   "source": [
    "Ok, that's the description for one parameter.  Let's **build up the rest of our model** as a dictionary of these parameter descriptions, keyed by parameter name.  The type of model you build will depend on your data, the type of object you are looking at,  and your scientific question. For this data, at a minimum we will need some sort of distance or redshift information (which in this example is a fixed parameter), and something descibing the SFH.  We could also add parameters controlling metallicity, dust attenuation and emission, nebular emission, even the IMF. Note that any parameter whose value is not explicitly specified via a model parameter dictionary will be given the default value from python-FSPS."
   ]
  },
  {
   "cell_type": "markdown",
   "metadata": {},
   "source": [
    "While we could keep adding parameters by hand, the easiest way to build up this model is to start with some predefined parameter sets from the `prospect.models.templates` module, and then modify them to suit our needs. First, lets look at what pre-packaged parameter sets are available."
   ]
  },
  {
   "cell_type": "code",
   "execution_count": 25,
   "metadata": {},
   "outputs": [
    {
     "name": "stdout",
     "output_type": "stream",
     "text": [
      "'type_defaults':\n",
      "  Explicitly sets dust amd IMF types.\n",
      "'ssp':\n",
      "  Basic set of (free) parameters for a delta function SFH\n",
      "'parametric_sfh':\n",
      "  Basic set of (free) parameters for a delay-tau SFH.\n",
      "'dust_emission':\n",
      "  The set of (fixed) dust emission parameters.\n",
      "'nebular':\n",
      "  The set of nebular emission parameters, with gas_logz tied to stellar logzsol.\n",
      "'nebular_marginalization':\n",
      "  Marginalize over emission amplitudes line contained inthe observed spectrum\n",
      "'fit_eline_redshift':\n",
      "  Fit for the redshift of the emission lines separatelyfrom the stellar redshift\n",
      "'agn_eline':\n",
      "  Add AGN emission lines\n",
      "'outlier_model':\n",
      "  The set of outlier (mixture) models for spectroscopy and photometry\n",
      "'agn':\n",
      "  The set of (fixed) AGN dusty torus emission parameters.\n",
      "'igm':\n",
      "  The set of (fixed) IGM absorption parameters.\n",
      "'spectral_smoothing':\n",
      "  Set of parameters for spectal smoothing.\n",
      "'optimize_speccal':\n",
      "  Set of parameters (most of which are fixed) for optimizing a polynomial calibration vector.\n",
      "'fit_speccal':\n",
      "  Set of parameters (most of which are free) for sampling the coefficients of a polynomial calibration vector.\n",
      "'burst_sfh':\n",
      "  The set of (fixed) parameters for an SF burst added to a parameteric SFH, with the burst time controlled by `fage_burst`.\n",
      "'logm_sfh':\n",
      "  Non-parameteric SFH fitting for log-mass in fixed time bins\n",
      "'continuity_sfh':\n",
      "  Non-parameteric SFH fitting for mass in fixed time bins with a smoothness prior\n",
      "'continuity_flex_sfh':\n",
      "  Non-parameteric SFH fitting for mass in flexible time bins with a smoothness prior\n",
      "'continuity_psb_sfh':\n",
      "  Non-parameteric SFH fitting for mass in Nfixed fixed bins and Nflex flexible time bins with a smoothness prior\n",
      "'dirichlet_sfh':\n",
      "  Non-parameteric SFH with Dirichlet prior (fractional SFR)\n",
      "'alpha':\n",
      "  The prospector-alpha model, Leja et al. 2017\n",
      "'beta':\n",
      "  The prospector-beta model; Wang, Leja, et al. 2023\n"
     ]
    }
   ],
   "source": [
    "from prospect.models.templates import TemplateLibrary\n",
    "\n",
    "# Look at all the prepackaged parameter sets\n",
    "TemplateLibrary.show_contents()"
   ]
  },
  {
   "cell_type": "markdown",
   "metadata": {},
   "source": [
    "It looks like the `\"parametric_sfh\"` parameter set will do most of what we want.  Let's look at it in more detail."
   ]
  },
  {
   "cell_type": "code",
   "execution_count": 26,
   "metadata": {},
   "outputs": [
    {
     "name": "stdout",
     "output_type": "stream",
     "text": [
      "Free Parameters: (name: prior) \n",
      "-----------\n",
      "  mass: <class 'prospect.models.priors.LogUniform'>(mini=100000000.0,maxi=1000000000000.0)\n",
      "  logzsol: <class 'prospect.models.priors.TopHat'>(mini=-2,maxi=0.19)\n",
      "  dust2: <class 'prospect.models.priors.TopHat'>(mini=0.0,maxi=2.0)\n",
      "  tage: <class 'prospect.models.priors.TopHat'>(mini=0.001,maxi=13.8)\n",
      "  tau: <class 'prospect.models.priors.LogUniform'>(mini=0.1,maxi=30)\n",
      "\n",
      "Fixed Parameters: (name: value [, depends_on]) \n",
      "-----------\n",
      "  zred: 0.1 \n",
      "  sfh: 4 \n",
      "  imf_type: 2 \n",
      "  dust_type: 0 \n"
     ]
    }
   ],
   "source": [
    "TemplateLibrary.describe(\"parametric_sfh\")"
   ]
  },
  {
   "cell_type": "markdown",
   "metadata": {},
   "source": [
    "That looks pretty good, this model has 5 free parameters:\n",
    "- stellar mass *formed* $M_\\star$,\n",
    "- metallicity $\\log Z/Z_\\odot$, \n",
    "- age $t$ of the galaxy \n",
    "- star formation timescale $\\tau$ for an exponentially declining star formation history (SFH), and\n",
    "- dust attenuation optical depth for a foreground screen, $A_V$.\n",
    "\n",
    "Everything else here is fixed explicitly (e.g. Chabrier IMF via `imf_type:2`).  There are many other `sps` parameters that are set implicitly in the FSPS defaults.  See the python-FSPS documentation for a complete list and details on the default values.\n",
    "\n",
    "Note that by default the stellar mass here refers to the stellar mass *formed* by the given age, which will always be slightly higher than the *surviving* stellar mass, due to mass loss during stellar evolution (winds, SNe, etc.)\n",
    "\n",
    "To tailor this model to our data we'll want to just adjust a couple of the initial values and priors, and add a parameter that will set the distance even though the redshift of theses objects is zero (remember we used absolute magnitudes - these particular very nearby objects are decoupled from the Hubble flow and have very small redshifts, or even blueshifts).\n",
    "\n",
    "However, as for the ``obs`` dictionary we will do all this model building inside a method called ``build_model``.\n",
    "This is useful because then we can control (at run-time) how the model is built via more meta-parameters.  For example the redshift of the model can be specified, or we can decide to change a prior depending on which object the model is fitting. Let's do an example where we change whether the metallicity is a free parameter of the fit or fixed to a particular value, optionally turn on dust emission in the model, and where we can set the redshift by hand as well."
   ]
  },
  {
   "cell_type": "code",
   "execution_count": 27,
   "metadata": {},
   "outputs": [],
   "source": [
    "def build_model(object_redshift=None, ldist=10.0, fixed_metallicity=None, add_duste=False, \n",
    "                **extras):\n",
    "    \"\"\"Build a prospect.models.SedModel object\n",
    "    \n",
    "    :param object_redshift: (optional, default: None)\n",
    "        If given, produce spectra and observed frame photometry appropriate \n",
    "        for this redshift. Otherwise, the redshift will be zero.\n",
    "        \n",
    "    :param ldist: (optional, default: 10)\n",
    "        The luminosity distance (in Mpc) for the model.  Spectra and observed \n",
    "        frame (apparent) photometry will be appropriate for this luminosity distance.\n",
    "        \n",
    "    :param fixed_metallicity: (optional, default: None)\n",
    "        If given, fix the model metallicity (:math:`log(Z/Z_sun)`) to the given value.\n",
    "        \n",
    "    :param add_duste: (optional, default: False)\n",
    "        If `True`, add dust emission and associated (fixed) parameters to the model.\n",
    "        \n",
    "    :returns model:\n",
    "        An instance of prospect.models.SedModel\n",
    "    \"\"\"\n",
    "    from prospect.models.sedmodel import SedModel\n",
    "    from prospect.models.templates import TemplateLibrary\n",
    "    from prospect.models import priors\n",
    "\n",
    "    # Get (a copy of) one of the prepackaged model set dictionaries.\n",
    "    # This is, somewhat confusingly, a dictionary of dictionaries, keyed by parameter name\n",
    "    model_params = TemplateLibrary[\"parametric_sfh\"]\n",
    "    \n",
    "   # Now add the lumdist parameter by hand as another entry in the dictionary.\n",
    "   # This will control the distance since we are setting the redshift to zero.  \n",
    "   # In `build_obs` above we used a distance of 10Mpc to convert from absolute to apparent magnitudes, \n",
    "   # so we use that here too, since the `maggies` are appropriate for that distance.\n",
    "    model_params[\"lumdist\"] = {\"N\": 1, \"isfree\": False, \"init\": ldist, \"units\":\"Mpc\"}\n",
    "    \n",
    "    # Let's make some changes to initial values appropriate for our objects and data\n",
    "    model_params[\"zred\"][\"init\"] = 0.0\n",
    "    model_params[\"dust2\"][\"init\"] = 0.05\n",
    "    model_params[\"logzsol\"][\"init\"] = -0.5\n",
    "    model_params[\"tage\"][\"init\"] = 13.\n",
    "    model_params[\"mass\"][\"init\"] = 1e8\n",
    "    \n",
    "    # These are dwarf galaxies, so lets also adjust the metallicity prior,\n",
    "    # the tau parameter upward, and the mass prior downward\n",
    "    model_params[\"dust2\"][\"prior\"] = priors.TopHat(mini=0.0, maxi=2.0)\n",
    "    model_params[\"tau\"][\"prior\"] = priors.LogUniform(mini=1e-1, maxi=1e2)\n",
    "    model_params[\"mass\"][\"prior\"] = priors.LogUniform(mini=1e6, maxi=1e10)\n",
    "\n",
    "    # If we are going to be using emcee, it is useful to provide a \n",
    "    # minimum scale for the cloud of walkers (the default is 0.1)\n",
    "    model_params[\"mass\"][\"disp_floor\"] = 1e6\n",
    "    model_params[\"tau\"][\"disp_floor\"] = 1.0\n",
    "    model_params[\"tage\"][\"disp_floor\"] = 1.0\n",
    "    \n",
    "    # Change the model parameter specifications based on some keyword arguments\n",
    "    if fixed_metallicity is not None:\n",
    "        # make it a fixed parameter\n",
    "        model_params[\"logzsol\"][\"isfree\"] = False\n",
    "        #And use value supplied by fixed_metallicity keyword\n",
    "        model_params[\"logzsol\"]['init'] = fixed_metallicity \n",
    "\n",
    "    if object_redshift is not None:\n",
    "        # make sure zred is fixed\n",
    "        model_params[\"zred\"]['isfree'] = False\n",
    "        # And set the value to the object_redshift keyword\n",
    "        model_params[\"zred\"]['init'] = object_redshift\n",
    "\n",
    "    if add_duste:\n",
    "        # Add dust emission (with fixed dust SED parameters)\n",
    "        # Since `model_params` is a dictionary of parameter specifications, \n",
    "        # and `TemplateLibrary` returns dictionaries of parameter specifications, \n",
    "        # we can just update `model_params` with the parameters described in the \n",
    "        # pre-packaged `dust_emission` parameter set.\n",
    "        model_params.update(TemplateLibrary[\"dust_emission\"])\n",
    "        \n",
    "    # Now instantiate the model object using this dictionary of parameter specifications\n",
    "    model = SedModel(model_params)\n",
    "\n",
    "    return model\n",
    "\n",
    "\n",
    "run_params[\"object_redshift\"] = object_redshift\n",
    "run_params[\"fixed_metallicity\"] = None\n",
    "run_params[\"add_duste\"] = True"
   ]
  },
  {
   "cell_type": "markdown",
   "metadata": {},
   "source": [
    "Now let's build the model using this function and take a look at it:"
   ]
  },
  {
   "cell_type": "code",
   "execution_count": 28,
   "metadata": {},
   "outputs": [
    {
     "name": "stdout",
     "output_type": "stream",
     "text": [
      ":::::::\n",
      "<class 'prospect.models.sedmodel.SedModel'>\n",
      "\n",
      "Free Parameters: (name: prior) \n",
      "-----------\n",
      "  mass: <class 'prospect.models.priors.LogUniform'>(mini=1000000.0,maxi=10000000000.0)\n",
      "  logzsol: <class 'prospect.models.priors.TopHat'>(mini=-2,maxi=0.19)\n",
      "  dust2: <class 'prospect.models.priors.TopHat'>(mini=0.0,maxi=2.0)\n",
      "  tage: <class 'prospect.models.priors.TopHat'>(mini=0.001,maxi=13.8)\n",
      "  tau: <class 'prospect.models.priors.LogUniform'>(mini=0.1,maxi=100.0)\n",
      "\n",
      "Fixed Parameters: (name: value [, depends_on]) \n",
      "-----------\n",
      "  zred: [0.29266] \n",
      "  sfh: [4] \n",
      "  imf_type: [2] \n",
      "  dust_type: [0] \n",
      "  lumdist: [10.] \n",
      "  add_dust_emission: [ True] \n",
      "  duste_umin: [1.] \n",
      "  duste_qpah: [4.] \n",
      "  duste_gamma: [0.001] \n",
      "\n",
      "Initial free parameter vector theta:\n",
      "  [ 1.0e+08 -5.0e-01  5.0e-02  1.3e+01  1.0e+00]\n",
      "\n",
      "Initial parameter dictionary:\n",
      "{'zred': array([0.29266]), 'mass': array([1.e+08]), 'logzsol': array([-0.5]), 'dust2': array([0.05]), 'sfh': array([4]), 'tage': array([13.]), 'imf_type': array([2]), 'dust_type': array([0]), 'tau': array([1]), 'lumdist': array([10.]), 'add_dust_emission': array([ True]), 'duste_umin': array([1.]), 'duste_qpah': array([4.]), 'duste_gamma': array([0.001])}\n"
     ]
    }
   ],
   "source": [
    "model = build_model(**run_params)\n",
    "print(model)\n",
    "print(\"\\nInitial free parameter vector theta:\\n  {}\\n\".format(model.theta))\n",
    "print(\"Initial parameter dictionary:\\n{}\".format(model.params))"
   ]
  },
  {
   "cell_type": "markdown",
   "metadata": {},
   "source": [
    "## The source object: `build_sps()`\n",
    "\n",
    "We are almost there, but we need an object that will build SEDs for a given set of parameters.  In *prospector* we call these *sps* objects.  Given a dictionary of parameters (provided by the model object), they must be able to return a spectrum and photometry -- corresponding to the data in the `obs` dictionary -- and maybe some ancillary information.  The generation of spectra and photometry is often done using large spectral libraries and, for galaxies, isochrone information.  Typically in *prospector* we use `fsps.StellarPopulation` objects, under thin wrappers that add a little functionality and change the API a bit. The different wrappers correspond to different SFH parameterizations. Here we use `CSPSpecBasis` which works with (linear combinations of) composite stellar populations,  as described in the FSPS manual with `sfh_type` of 1, 4, or 5.  Other `sps` objects can be used for non-parameteric SFH, notably `prospect.sources.FastStepBasis`.\n",
    "\n",
    "Again, it can be helpful to encapsulate the loading of the sps object in a `load_sps` method, with meta-parameters controlling the how the object is instantiated"
   ]
  },
  {
   "cell_type": "code",
   "execution_count": 29,
   "metadata": {},
   "outputs": [],
   "source": [
    "def build_sps(zcontinuous=1, **extras):\n",
    "    \"\"\"\n",
    "    :param zcontinuous: \n",
    "        A vlue of 1 insures that we use interpolation between SSPs to \n",
    "        have a continuous metallicity parameter (`logzsol`)\n",
    "        See python-FSPS documentation for details\n",
    "    \"\"\"\n",
    "    from prospect.sources import CSPSpecBasis\n",
    "    sps = CSPSpecBasis(zcontinuous=zcontinuous)\n",
    "    return sps\n",
    "\n",
    "run_params[\"zcontinuous\"] = 1"
   ]
  },
  {
   "cell_type": "markdown",
   "metadata": {},
   "source": [
    "This object often has a large memory footprint, since it contains all the spectral libraries and isochrones.\n",
    "It has one very important method, `get_spectrum()`.  Indeed, the only definition of an `sps` object (for example if you want to make your own) is that it have this method.  In typical use, any FSPS parameter can be passed to this method as an extra keyword argument and the model will be built using that parameter.  Several additional parameters controlling, e.g., spectral smoothing or the wavelength calibration can also be passed to the default objects."
   ]
  },
  {
   "cell_type": "code",
   "execution_count": 30,
   "metadata": {
    "scrolled": true
   },
   "outputs": [
    {
     "name": "stdout",
     "output_type": "stream",
     "text": [
      "Help on method get_spectrum in module prospect.sources.ssp_basis:\n",
      "\n",
      "get_spectrum(outwave=None, filters=None, peraa=False, **params) method of prospect.sources.galaxy_basis.CSPSpecBasis instance\n",
      "    Get a spectrum and SED for the given params.\n",
      "    \n",
      "    :param outwave: (default: None)\n",
      "        Desired *vacuum* wavelengths.  Defaults to the values in\n",
      "        ``sps.wavelength``.\n",
      "    \n",
      "    :param peraa: (default: False)\n",
      "        If `True`, return the spectrum in erg/s/cm^2/AA instead of AB\n",
      "        maggies.\n",
      "    \n",
      "    :param filters: (default: None)\n",
      "        A list of filter objects for which you'd like photometry to be calculated.\n",
      "    \n",
      "    :param params:\n",
      "        Optional keywords giving parameter values that will be used to\n",
      "        generate the predicted spectrum.\n",
      "    \n",
      "    :returns spec:\n",
      "        Observed frame spectrum in AB maggies, unless ``peraa=True`` in which\n",
      "        case the units are erg/s/cm^2/AA.\n",
      "    \n",
      "    :returns phot:\n",
      "        Observed frame photometry in AB maggies.\n",
      "    \n",
      "    :returns mass_frac:\n",
      "        The ratio of the surviving stellar mass to the total mass formed.\n",
      "\n"
     ]
    }
   ],
   "source": [
    "sps = build_sps(**run_params)\n",
    "help(sps.get_spectrum)"
   ]
  },
  {
   "cell_type": "markdown",
   "metadata": {},
   "source": [
    "## View the model\n",
    "Now that we have the `sps` object we can also generate a prediction for the data from any set of model parameters.  To see how this works, lets make an SED and plot it!  This will use the initial parameter values for the model we built before."
   ]
  },
  {
   "cell_type": "markdown",
   "metadata": {},
   "source": [
    "Note that creating a new model with FSPS is somewhat time-intensive (of order seconds), but once the relevant SSPs have been built they are subsequently stored in cache so similar models can be generated much more quickly (of order milliseconds, unless you are changing parameters that affect the SSPs, like the IMF)"
   ]
  },
  {
   "cell_type": "code",
   "execution_count": 31,
   "metadata": {},
   "outputs": [
    {
     "data": {
      "image/png": "[encoded data removed]",
      "text/plain": [
       "<Figure size 1600x800 with 1 Axes>"
      ]
     },
     "metadata": {},
     "output_type": "display_data"
    }
   ],
   "source": [
    "# Generate the model SED at the initial value of theta\n",
    "theta = model.theta.copy()\n",
    "initial_spec, initial_phot, initial_mfrac = model.sed(theta, obs=obs, sps=sps)\n",
    "title_text = ','.join([\"{}={:.3g}\".format(p, model.params[p][0]) \n",
    "                       for p in model.free_params])\n",
    "\n",
    "a = 1.0 + model.params.get('zred', 0.0) # cosmological redshifting\n",
    "# photometric effective wavelengths\n",
    "wphot = obs[\"phot_wave\"]\n",
    "# spectroscopic wavelengths\n",
    "if obs[\"wavelength\"] is None:\n",
    "    # *restframe* spectral wavelengths, since obs[\"wavelength\"] is None\n",
    "    wspec = sps.wavelengths\n",
    "    wspec *= a #redshift them\n",
    "else:\n",
    "    wspec = obs[\"wavelength\"]\n",
    "\n",
    "# establish bounds\n",
    "xmin, xmax = np.min(wphot)*0.8, np.max(wphot)/0.8\n",
    "temp = np.interp(np.linspace(xmin,xmax,10000), wspec, initial_spec)\n",
    "ymin, ymax = temp.min()*0.8, temp.max()/0.4\n",
    "figure(figsize=(16,8))\n",
    "\n",
    "# plot model + data\n",
    "loglog(wspec, initial_spec, label='Model spectrum', \n",
    "       lw=0.7, color='navy', alpha=0.7)\n",
    "errorbar(wphot, initial_phot, label='Model photometry', \n",
    "         marker='s',markersize=10, alpha=0.8, ls='', lw=3,\n",
    "         markerfacecolor='none', markeredgecolor='blue', \n",
    "         markeredgewidth=3)\n",
    "errorbar(wphot, obs['maggies'], yerr=obs['maggies_unc'], \n",
    "         label='Observed photometry',\n",
    "         marker='o', markersize=10, alpha=0.8, ls='', lw=3,\n",
    "         ecolor='red', markerfacecolor='none', markeredgecolor='red', \n",
    "         markeredgewidth=3)\n",
    "title(title_text)\n",
    "\n",
    "# plot Filters\n",
    "for f in obs['filters']:\n",
    "    w, t = f.wavelength.copy(), f.transmission.copy()\n",
    "    t = t / t.max()\n",
    "    t = 10**(0.2*(np.log10(ymax/ymin)))*t * ymin\n",
    "    loglog(w, t, lw=3, color='gray', alpha=0.7)\n",
    "\n",
    "# prettify\n",
    "xlabel('Wavelength [A]')\n",
    "ylabel('Flux Density [maggies]')\n",
    "xlim([xmin, xmax])\n",
    "ylim([ymin, ymax])\n",
    "legend(loc='best', fontsize=20)\n",
    "tight_layout()\n"
   ]
  },
  {
   "cell_type": "markdown",
   "metadata": {},
   "source": [
    "## Likelihood function\n",
    "Now all we are missing is a likelihood function.  In most cases, this will simply be a function of the **spectral likelihood** and a **photometric likelihood** such that\n",
    "\n",
    "$$\n",
    "\\mathcal{L} = f(\\mathcal{L}_{\\textrm{spec}}, \\mathcal{L}_{\\textrm{phot}}) \\quad .\n",
    "$$\n",
    "\n",
    "Assuming our errors are Normal (i.e. Gaussian), the log-likelihoods for each component are extremely straightforward to define and can be imported directly from *prospector*.  How we choose to combine these likelihoods might vary depending on the particulars of our data. For the demo, our likelihood function for our model parameters $\\boldsymbol{\\theta}$ is just\n",
    "\n",
    "$$\n",
    "\\ln\\mathcal{L}(\\boldsymbol{\\theta}) = \\ln\\mathcal{L}_{\\textrm{spec}}(\\boldsymbol{\\theta}) + \\ln\\mathcal{L}_{\\textrm{phot}}(\\boldsymbol{\\theta}) \\quad .\n",
    "$$\n",
    "\n",
    "Below is a simple version of the likelihood function used in *prospector*.  Note that more complicated likelihoods including covariant noise and fitted noise parameters are possible, using special NoiseModel classes within *prospector*.\n",
    "\n",
    "For nested sampling `lnprobfn(theta, nested=True)` will return the likelihood (since the prior probability is accounted for by drawing proposals from the priors), while for other types of MCMC sampling `lnprobfn(theta, nested=False)` returns the posterior probability."
   ]
  },
  {
   "cell_type": "code",
   "execution_count": 32,
   "metadata": {},
   "outputs": [],
   "source": [
    "from prospect.likelihood import lnlike_spec, lnlike_phot, write_log\n",
    "\n",
    "verbose = False\n",
    "def lnprobfn(theta, model=None, obs=None, sps=None, \n",
    "             nested=False, verbose=verbose):\n",
    "    \"\"\"\n",
    "    Given a parameter vector, a model, a dictionary of observational \n",
    "    data, and an sps object, return the ln of the posterior. \n",
    "    \"\"\"\n",
    "\n",
    "    # Calculate prior probability and exit if not within prior\n",
    "    # Also if doing nested sampling, do not include the basic priors, \n",
    "    # since the drawing method includes the prior probability\n",
    "    lnp_prior = model.prior_product(theta, nested=nested)\n",
    "    if not np.isfinite(lnp_prior):\n",
    "        return -np.infty\n",
    "        \n",
    "    # Generate \"mean\" model\n",
    "    spec, phot, mfrac = model.mean_model(theta, obs, sps=sps)\n",
    " \n",
    "    # Calculate likelihoods\n",
    "    lnp_spec = lnlike_spec(spec, obs=obs)\n",
    "    lnp_phot = lnlike_phot(phot, obs=obs)\n",
    "\n",
    "    return lnp_prior + lnp_phot + lnp_spec\n",
    "\n",
    "run_params[\"verbose\"] = verbose"
   ]
  },
  {
   "cell_type": "markdown",
   "metadata": {},
   "source": [
    "It can also be useful for some optimization methods (i.e. Levenberg-Marquardt) to define a function that returns the vector of chi-square residuals.  Let's do that."
   ]
  },
  {
   "cell_type": "code",
   "execution_count": 33,
   "metadata": {},
   "outputs": [],
   "source": [
    "from prospect.likelihood import chi_spec, chi_phot\n",
    "def chivecfn(theta):\n",
    "    \"\"\"A version of lnprobfn that returns the simple uncertainty \n",
    "    normalized residual instead of the log-posterior, for use with \n",
    "    least-squares optimization methods like Levenburg-Marquardt.\n",
    "    \n",
    "    It's important to note that the returned chi vector does not \n",
    "    include the prior probability.\n",
    "    \"\"\"\n",
    "    lnp_prior = model.prior_product(theta)\n",
    "    if not np.isfinite(lnp_prior):\n",
    "        return np.zeros(model.ndim) - np.infty\n",
    "\n",
    "    # Generate mean model\n",
    "    try:\n",
    "        spec, phot, x = model.mean_model(theta, obs, sps=sps)\n",
    "    except(ValueError):\n",
    "        return np.zeros(model.ndim) - np.infty\n",
    "\n",
    "    chispec = chi_spec(spec, obs)\n",
    "    chiphot = chi_phot(phot, obs)\n",
    "    return np.concatenate([chispec, chiphot])"
   ]
  },
  {
   "cell_type": "markdown",
   "metadata": {},
   "source": [
    "However, *prospector* comes with a pre-built `lnprobfn` that can incorporate more complex noise models, and can be either return ln-probability or chi-square or a vector of residuals depending on the algorithm being used.  So let's use that:"
   ]
  },
  {
   "cell_type": "code",
   "execution_count": 34,
   "metadata": {},
   "outputs": [
    {
     "name": "stdout",
     "output_type": "stream",
     "text": [
      "Help on function lnprobfn in module prospect.fitting.fitting:\n",
      "\n",
      "lnprobfn(theta, model=None, obs=None, sps=None, noise=(None, None), residuals=False, nested=False, negative=False, verbose=False)\n",
      "    Given a parameter vector and optionally a dictionary of observational\n",
      "    ata and a model object, return the matural log of the posterior. This\n",
      "    requires that an sps object (and if using spectra and gaussian processes, a\n",
      "    NoiseModel) be instantiated.\n",
      "    \n",
      "    :param theta:\n",
      "        Input parameter vector, ndarray of shape (ndim,)\n",
      "    \n",
      "    :param model:\n",
      "        SedModel model object, with attributes including ``params``, a\n",
      "        dictionary of model parameter state.  It must also have\n",
      "        :py:func:`prior_product`, and :py:func:`predict` methods\n",
      "        defined.\n",
      "    \n",
      "    :param obs:\n",
      "        A dictionary of observational data.  The keys should be\n",
      "    \n",
      "        + ``\"wavelength\"``  (angstroms)\n",
      "        + ``\"spectrum\"``    (maggies)\n",
      "        + ``\"unc\"``         (maggies)\n",
      "        + ``\"maggies\"``     (photometry in maggies)\n",
      "        + ``\"maggies_unc\"`` (photometry uncertainty in maggies)\n",
      "        + ``\"filters\"``     (:py:class:`sedpy.observate.FilterSet` or iterable of :py:class:`sedpy.observate.Filter`)\n",
      "        +  and optional spectroscopic ``\"mask\"`` and ``\"phot_mask\"`` (same\n",
      "           length as ``spectrum`` and ``maggies`` respectively, True means use\n",
      "           the data points)\n",
      "    \n",
      "    :param sps:\n",
      "        A :py:class:`prospect.sources.SSPBasis` object or subclass thereof, or\n",
      "        any object with a ``get_spectrum`` method that will take a dictionary\n",
      "        of model parameters and return a spectrum, photometry, and ancillary\n",
      "        information.\n",
      "    \n",
      "    :param noise: (optional, default: (None, None))\n",
      "        A 2-element tuple of :py:class:`prospect.likelihood.NoiseModel` objects.\n",
      "    \n",
      "    :param residuals: (optional, default: False)\n",
      "        A switch to allow vectors of :math:`\\chi` values to be returned instead\n",
      "        of a scalar posterior probability.  This can be useful for\n",
      "        least-squares optimization methods. Note that prior probabilities are\n",
      "        not included in this calculation.\n",
      "    \n",
      "    :param nested: (optional, default: False)\n",
      "        If ``True``, do not add the ln-prior probability to the ln-likelihood\n",
      "        when computing the ln-posterior.  For nested sampling algorithms the\n",
      "        prior probability is incorporated in the way samples are drawn, so\n",
      "        should not be included here.\n",
      "    \n",
      "    :param negative: (optiona, default: False)\n",
      "        If ``True`` return the negative on the ln-probability for minimization\n",
      "        purposes.\n",
      "    \n",
      "    :returns lnp:\n",
      "        Ln-probability, unless ``residuals=True`` in which case a vector of\n",
      "        :math:`\\chi` values is returned.\n",
      "\n"
     ]
    }
   ],
   "source": [
    "from prospect.fitting import lnprobfn\n",
    "help(lnprobfn)"
   ]
  },
  {
   "cell_type": "markdown",
   "metadata": {},
   "source": [
    "# Running Prospector\n",
    "Now that we have defined the model and set up the data that we want to fit, we are ready to run *prospector*.  We will do this in a few steps.  First we will run all the convenience functions we made earlier to get the fitting ingredients and set up the output.  Then we will fit the model using 1) $\\chi^2$ minimization; 2) ensemble MCMC sampler around the best location from the minimization 3) dynamic nested sampling with `dynesty`"
   ]
  },
  {
   "cell_type": "code",
   "execution_count": 35,
   "metadata": {},
   "outputs": [
    {
     "name": "stdout",
     "output_type": "stream",
     "text": [
      "(b'mist', b'miles', b'DL07  ')\n"
     ]
    }
   ],
   "source": [
    "# Here we will run all our building functions\n",
    "obs = build_obs(attrs, spectr,**run_params)\n",
    "sps = build_sps(**run_params)\n",
    "model = build_model(**run_params)\n",
    "\n",
    "# For fsps based sources it is useful to \n",
    "# know which stellar isochrone and spectral library\n",
    "# we are using\n",
    "print(sps.ssp.libraries)"
   ]
  },
  {
   "cell_type": "markdown",
   "metadata": {},
   "source": [
    "We will use, appropriately enough, the `fit_model` method (with different options) for each of the three different ways of fitting the model described above.  Let's take a look at this method. "
   ]
  },
  {
   "cell_type": "code",
   "execution_count": 36,
   "metadata": {},
   "outputs": [
    {
     "name": "stdout",
     "output_type": "stream",
     "text": [
      "Help on function fit_model in module prospect.fitting.fitting:\n",
      "\n",
      "fit_model(obs, model, sps, noise=(None, None), lnprobfn=<function lnprobfn at 0x7fcd17eb9af0>, optimize=False, emcee=False, dynesty=True, **kwargs)\n",
      "    Fit a model to observations using a number of different methods\n",
      "    \n",
      "    :param obs:\n",
      "        The ``obs`` dictionary containing the data to fit to, which will be\n",
      "        passed to ``lnprobfn``.\n",
      "    \n",
      "    :param model:\n",
      "        An instance of the :py:class:`prospect.models.SedModel` class\n",
      "        containing the model parameterization and parameter state.  It will be\n",
      "        passed to ``lnprobfn``.\n",
      "    \n",
      "    :param sps:\n",
      "        An instance of a :py:class:`prospect.sources.SSPBasis` (sub-)class.\n",
      "        Alternatively, anything with a compatible :py:func:`get_spectrum` can\n",
      "        be used here. It will be passed to ``lnprobfn``\n",
      "    \n",
      "    :param noise: (optional, default: (None, None))\n",
      "        A tuple of NoiseModel objects for the spectroscopy and photometry\n",
      "        respectively.  Can also be (None, None) in which case simple chi-square\n",
      "        will be used.\n",
      "    \n",
      "    :param lnprobfn: (optional, default: lnprobfn)\n",
      "        A posterior probability function that can take ``obs``, ``model``,\n",
      "        ``sps``, and ``noise`` as keywords. By default use the\n",
      "        :py:func:`lnprobfn` defined above.\n",
      "    \n",
      "    :param optimize: (optional, default: False)\n",
      "        If ``True``, conduct a round of optimization before sampling from the\n",
      "        posterior.  The model state will be set to the best value at the end of\n",
      "        optimization before continuing on to sampling or returning.  Parameters\n",
      "        controlling the optimization can be passed via ``kwargs``, including\n",
      "    \n",
      "        + ``min_method``: 'lm' | 'powell'\n",
      "        + ``nmin``: number of minimizations to do.  Beyond the first, minimizations\n",
      "          will be started from draws from the prior.\n",
      "        + ``min_opts``: dictionary of minimization options passed to the\n",
      "          scipy.optimize.minimize method.\n",
      "    \n",
      "        See :py:func:`run_minimize` for details.\n",
      "    \n",
      "    :param emcee:  (optional, default: False)\n",
      "        If ``True``, sample from the posterior using emcee.  Additonal\n",
      "        parameters controlling emcee can be passed via ``**kwargs``.  These include\n",
      "    \n",
      "        + ``initial_positions``: A set of initial positions for the walkers\n",
      "        + ``hfile``: an open h5py.File file handle for writing result incrementally\n",
      "    \n",
      "        Many additional emcee parameters can be provided here, see\n",
      "        :py:func:`run_emcee` for details.\n",
      "    \n",
      "    :param dynesty:\n",
      "        If ``True``, sample from the posterior using dynesty.  Additonal\n",
      "        parameters controlling dynesty can be passed via ``**kwargs``. See\n",
      "        :py:func:`run_dynesty` for details.\n",
      "    \n",
      "    :returns output:\n",
      "        A dictionary with two keys, ``\"optimization\"`` and ``\"sampling\"``.  The\n",
      "        value of each of these is a 2-tuple with results in the first element\n",
      "        and durations (in seconds) in the second element.\n",
      "\n"
     ]
    }
   ],
   "source": [
    "from prospect.fitting import fit_model\n",
    "help(fit_model)"
   ]
  },
  {
   "cell_type": "markdown",
   "metadata": {},
   "source": [
    "Note in particular that the output is a dictionary with *both* optimization and sampling entries.  This is because one can do both within a single call to `fit_model`, and for ensemble sampling in particular it can be useful to do optimization first to get close to the data before beginnning the sampling."
   ]
  },
  {
   "cell_type": "markdown",
   "metadata": {},
   "source": [
    "## Minimization\n",
    "We can attempt to initialize our model reasonably close to the data by using some numerical minimization routines.\n",
    "Here we will use Levenberg-Marquardt. Keywords that control the optimization algorithm will again be stored in the `run_params` dictionary. Levenberg-Marquardt requires a likelihood function that returns a vector of chi values, not an actual likelihood, but the `lnprobfn` we imported supports that."
   ]
  },
  {
   "cell_type": "code",
   "execution_count": null,
   "metadata": {},
   "outputs": [
    {
     "name": "stderr",
     "output_type": "stream",
     "text": [
      "/Users/dagoret/anaconda3/envs/prospector/lib/python3.8/site-packages/prospect/models/priors.py:120: RuntimeWarning: divide by zero encountered in log\n",
      "  lnp = np.log(p)\n"
     ]
    }
   ],
   "source": [
    "# --- start minimization ----\n",
    "run_params[\"dynesty\"] = False\n",
    "run_params[\"emcee\"] = False\n",
    "run_params[\"optimize\"] = True\n",
    "run_params[\"min_method\"] = 'lm'\n",
    "# We'll start minimization from \"nmin\" separate places, \n",
    "# the first based on the current values of each parameter and the \n",
    "# rest drawn from the prior.  Starting from these extra draws \n",
    "# can guard against local minima, or problems caused by \n",
    "# starting at the edge of a prior (e.g. dust2=0.0)\n",
    "run_params[\"nmin\"] = 2\n",
    "\n",
    "output = fit_model(obs, model, sps, lnprobfn=lnprobfn, **run_params)\n",
    "\n",
    "print(\"Done optmization in {}s\".format(output[\"optimization\"][1]))"
   ]
  },
  {
   "cell_type": "markdown",
   "metadata": {},
   "source": [
    "### View model after minimization\n",
    "Now let's see how our model looks in the data space after minimization. The model should already be set to the result of the best optimization, but we can also find the best run and set the model parameters to that result by hand."
   ]
  },
  {
   "cell_type": "code",
   "execution_count": null,
   "metadata": {},
   "outputs": [],
   "source": [
    "print(model.theta)\n",
    "(results, topt) = output[\"optimization\"]\n",
    "# Find which of the minimizations gave the best result, \n",
    "# and use the parameter vector for that minimization\n",
    "ind_best = np.argmin([r.cost for r in results])\n",
    "print(ind_best)\n",
    "theta_best = results[ind_best].x.copy()\n",
    "print(theta_best)\n",
    "\n",
    "# generate model\n",
    "prediction = model.mean_model(theta_best, obs=obs, sps=sps)\n",
    "pspec, pphot, pfrac = prediction\n",
    "\n",
    "figure(figsize=(16,8))\n",
    "\n",
    "# plot Data, best fit model, and old models\n",
    "loglog(wspec, initial_spec, label='Old model spectrum',\n",
    "       lw=0.7, color='gray', alpha=0.5)\n",
    "errorbar(wphot, initial_phot, label='Old model Photometry', \n",
    "         marker='s', markersize=10, alpha=0.6, ls='', lw=3, \n",
    "         markerfacecolor='none', markeredgecolor='gray', \n",
    "         markeredgewidth=3)\n",
    "loglog(wspec, pspec, label='Model spectrum', \n",
    "       lw=0.7, color='slateblue', alpha=0.7)\n",
    "errorbar(wphot, pphot, label='Model photometry', \n",
    "         marker='s', markersize=10, alpha=0.8, ls='', lw=3,\n",
    "         markerfacecolor='none', markeredgecolor='slateblue', \n",
    "         markeredgewidth=3)\n",
    "errorbar(wphot, obs['maggies'], yerr=obs['maggies_unc'],\n",
    "         label='Observed photometry', \n",
    "         marker='o', markersize=10, alpha=0.8, ls='', lw=3, \n",
    "         ecolor='tomato', markerfacecolor='none', markeredgecolor='tomato', \n",
    "         markeredgewidth=3)\n",
    "\n",
    "# plot filter transmission curves\n",
    "for f in obs['filters']:\n",
    "    w, t = f.wavelength.copy(), f.transmission.copy()\n",
    "    t = t / t.max()\n",
    "    t = 10**(0.2*(np.log10(ymax/ymin)))*t * ymin\n",
    "    loglog(w, t, lw=3, color='gray', alpha=0.7)\n",
    "\n",
    "# Prettify\n",
    "xlabel('Wavelength [A]')\n",
    "ylabel('Flux Density [maggies]')\n",
    "xlim([xmin, xmax])\n",
    "ylim([ymin, ymax])\n",
    "legend(loc='best', fontsize=20)\n",
    "tight_layout()"
   ]
  },
  {
   "cell_type": "markdown",
   "metadata": {},
   "source": [
    "That should look much better, except maybe for the filters that we have masked out.  You can also run the minimization cell multiple times to see if the fit gets better."
   ]
  },
  {
   "cell_type": "markdown",
   "metadata": {},
   "source": [
    "## Sampling the Posterior: Ensemble sampling\n",
    "Now that we're somewhat burned in, we can begin sampling from the posterior using **Markov Chain Monte Carlo** (MCMC).  For this we will use the ensemble sampling agorithms in *emcee*"
   ]
  },
  {
   "cell_type": "markdown",
   "metadata": {},
   "source": [
    "The algorithm used in *emcee* requires several options to be specified, related to the number of walkers, the number of iterations, and to rounds of burn-in.  For convenience we will store these in the `run_params` meta-parameter dictionary that we've been using. Sampling will begin with a cloud of walkers initialized around the current `model.theta` value, but optionally another round of optmization can be done before sampling begins."
   ]
  },
  {
   "cell_type": "code",
   "execution_count": null,
   "metadata": {},
   "outputs": [],
   "source": [
    "# Set this to False if you don't want to do another optimization\n",
    "# before emcee sampling (but note that the \"optimization\" entry \n",
    "# in the output dictionary will be (None, 0.) in this case)\n",
    "# If set to true then another round of optmization will be performed \n",
    "# before sampling begins and the \"optmization\" entry of the output\n",
    "# will be populated.\n",
    "run_params[\"optimize\"] = False\n",
    "run_params[\"emcee\"] = True\n",
    "run_params[\"dynesty\"] = False\n",
    "# Number of emcee walkers\n",
    "run_params[\"nwalkers\"] = 128\n",
    "# Number of iterations of the MCMC sampling\n",
    "run_params[\"niter\"] = 512\n",
    "# Number of iterations in each round of burn-in\n",
    "# After each round, the walkers are reinitialized based on the \n",
    "# locations of the highest probablity half of the walkers.\n",
    "run_params[\"nburn\"] = [16, 32, 64]"
   ]
  },
  {
   "cell_type": "markdown",
   "metadata": {},
   "source": [
    "Let's go ahead and start sampling! (This should take of order 10 minutes)"
   ]
  },
  {
   "cell_type": "code",
   "execution_count": null,
   "metadata": {},
   "outputs": [],
   "source": [
    "output = fit_model(obs, model, sps, lnprobfn=lnprobfn, **run_params)\n",
    "print('done emcee in {0}s'.format(output[\"sampling\"][1]))"
   ]
  },
  {
   "cell_type": "markdown",
   "metadata": {},
   "source": [
    "### Write Output\n",
    "Now that everything's all set, let's save our results to disk.  These will be written to an hdf5 file with the given name."
   ]
  },
  {
   "cell_type": "code",
   "execution_count": null,
   "metadata": {},
   "outputs": [],
   "source": [
    "from prospect.io import write_results as writer\n",
    "hfile = \"demo_emcee_mcmc_\" + output_tag + \".h5\"\n",
    "writer.write_hdf5(hfile, run_params, model, obs,\n",
    "                  output[\"sampling\"][0], output[\"optimization\"][0],\n",
    "                  tsample=output[\"sampling\"][1],\n",
    "                  toptimize=output[\"optimization\"][1],sps=sps)\n",
    "\n",
    "print('Finished')"
   ]
  },
  {
   "cell_type": "markdown",
   "metadata": {},
   "source": [
    "## Sampling the Posterior: Nested sampling\n",
    "Instead of ensemble MCMC sampling we can sample using dynamic nested sampling via *dynesty*.  Dynamic nested sampling works by sampling from within successive iso-likelihood contours, transforming a distribution of live points from the prior to the posterior.  It does not benefit from burn-in via optimization.\n",
    "\n",
    "There are a number of parameters that control the operation of *dynesty*.  A listing and brief description of each is given in the default *prospector* arguments (see below), here we will set just a few of the most important"
   ]
  },
  {
   "cell_type": "code",
   "execution_count": null,
   "metadata": {},
   "outputs": [],
   "source": [
    "run_params[\"dynesty\"] = True\n",
    "run_params[\"optmization\"] = False\n",
    "run_params[\"emcee\"] = False\n",
    "run_params[\"nested_method\"] = \"rwalk\"\n",
    "run_params[\"nlive_init\"] = 400\n",
    "run_params[\"nlive_batch\"] = 200\n",
    "run_params[\"nested_dlogz_init\"] = 0.05\n",
    "run_params[\"nested_posterior_thresh\"] = 0.05\n",
    "run_params[\"nested_maxcall\"] = int(1e7)"
   ]
  },
  {
   "cell_type": "code",
   "execution_count": null,
   "metadata": {},
   "outputs": [],
   "source": [
    "output = fit_model(obs, model, sps, lnprobfn=lnprobfn, **run_params)\n",
    "print('done dynesty in {0}s'.format(output[\"sampling\"][1]))"
   ]
  },
  {
   "cell_type": "code",
   "execution_count": null,
   "metadata": {},
   "outputs": [],
   "source": [
    "from prospect.io import write_results as writer\n",
    "hfile = \"demo_dynesty_mcmc_\" +  output_tag+ \".h5\"\n",
    "writer.write_hdf5(hfile, run_params, model, obs,\n",
    "                  output[\"sampling\"][0], output[\"optimization\"][0],\n",
    "                  tsample=output[\"sampling\"][1],\n",
    "                  toptimize=output[\"optimization\"][1],sps=sps)\n",
    "\n",
    "print('Finished')"
   ]
  },
  {
   "cell_type": "markdown",
   "metadata": {},
   "source": [
    "## Command-line operation\n",
    "\n",
    "The preferred way to use prospector is through command line operation.  This is difficult to demonstrate in a notebook, but essentially one would place the `build_obs`, `build_model`, and `build_sps` methods in a single **parameter file**.  Then, in the `__main__` portion of the **parameter file** the entries of the `run_params` dictionary would be set via command-line arguments (via `argparse`), the `build_*` methods would be run, and `fit_model` would be called. For an example please see `demo_params.py` and `demo_mock_params.py` in the prospector demo directory.\n",
    "\n",
    "A number of options used by the code are available in a prebuilt argument parser, which can be augmented with anything necessary for the `build_*` methods that you create.  Below is an example."
   ]
  },
  {
   "cell_type": "code",
   "execution_count": null,
   "metadata": {},
   "outputs": [],
   "source": [
    "from prospect import prospect_args\n",
    "# - Parser with default arguments -\n",
    "parser = prospect_args.get_parser()\n",
    "# - Add custom arguments -\n",
    "parser.add_argument('--add_duste', action=\"store_true\",\n",
    "                    help=\"If set, add dust emission to the model.\")\n",
    "parser.add_argument('--ldist', type=float, default=10,\n",
    "                    help=(\"Luminosity distance in Mpc. Defaults to 10\"\n",
    "                          \"(for case of absolute mags)\"))\n",
    "args, _ = parser.parse_known_args()\n",
    "cli_run_params = vars(args)\n",
    "print(cli_run_params)"
   ]
  },
  {
   "cell_type": "markdown",
   "metadata": {},
   "source": [
    "# Visualizing the Results\n",
    "There are a few basic plotting tools available to do a quick check on the results available in `prospect.io.read_results` and `prospect.utils.plotting`. But first we need to read the output files we made."
   ]
  },
  {
   "cell_type": "markdown",
   "metadata": {},
   "source": [
    "## Reading output files\n",
    "Reading our results from our HDF5 file is straightforward using the `results_from` method.  This returns a \"results\" dictionary, the `obs` dictionary of data to which the model was fit, and in some situations the `SedModel` object that was used in the fitting.\n",
    "\n",
    "In this example we will look at the *emcee* results file that we created, but you can do the same for the *dynesty* results file.  The main difference is that the chains for each fit type have a different dimensionality, and that the samples in the *dynesty* chains come with associated **weights**.  The weights and different shapes are handled automatically by the plotting functions included in *prospector*, but custom plotting code should take care of the difference.\n",
    "\n",
    "In this notebook we have already defined the `model` (and `sps`) object, but in general one will want to recreate it.  *Prospector* allows you to do this by storing the `build_model` and `build_sps` code as text in the HDF5 file -- this is possible with the use of *parameter files* and command line operation."
   ]
  },
  {
   "cell_type": "code",
   "execution_count": null,
   "metadata": {},
   "outputs": [],
   "source": [
    "import prospect.io.read_results as reader\n",
    "results_type = \"emcee\" # | \"dynesty\"\n",
    "# grab results (dictionary), the obs dictionary, and our corresponding models\n",
    "# When using parameter files set `dangerous=True`\n",
    "result, obs, _ = reader.results_from(\"demo_{}_mcmc_{}.h5\".format(results_type,output_tag), dangerous=False)\n",
    "\n",
    "#The following commented lines reconstruct the model and sps object, \n",
    "# if a parameter file continaing the `build_*` methods was saved along with the results\n",
    "#model = reader.get_model(result)\n",
    "#sps = reader.get_sps(result)\n",
    "\n",
    "# let's look at what's stored in the `result` dictionary\n",
    "print(result.keys())"
   ]
  },
  {
   "cell_type": "markdown",
   "metadata": {},
   "source": [
    "## Plotting parameter traces\n",
    "To see how our MCMC samples look, we can examine a few traces (that is, the evolution of the parameter value with iteration in the MCMC chain.)  You can use these plots (and the chains more generally) to assess whether the MCMC has converged, or if you need to sample for more iterations."
   ]
  },
  {
   "cell_type": "code",
   "execution_count": null,
   "metadata": {},
   "outputs": [],
   "source": [
    "if results_type == \"emcee\":\n",
    "    chosen = np.random.choice(result[\"run_params\"][\"nwalkers\"], size=10, replace=False)\n",
    "    tracefig = reader.traceplot(result, figsize=(20,10), chains=chosen)\n",
    "else:\n",
    "    tracefig = reader.traceplot(result, figsize=(20,10))\n"
   ]
  },
  {
   "cell_type": "markdown",
   "metadata": {},
   "source": [
    "## Making a corner plot\n",
    "Our samples more generally can be shown using a corner/triangle plot.  The `subtriangle()` method below is a very thin wrapper on Dan Foreman-Mackey's **corner.py** code.  We'll overplot the MAP value as blue lines."
   ]
  },
  {
   "cell_type": "code",
   "execution_count": null,
   "metadata": {},
   "outputs": [],
   "source": [
    "# maximum a posteriori (of the locations visited by the MCMC sampler)\n",
    "imax = np.argmax(result['lnprobability'])\n",
    "if results_type == \"emcee\":\n",
    "    i, j = np.unravel_index(imax, result['lnprobability'].shape)\n",
    "    theta_max = result['chain'][i, j, :].copy()\n",
    "    thin = 5\n",
    "else:\n",
    "    theta_max = result[\"chain\"][imax, :]\n",
    "    thin = 1\n",
    "\n",
    "print('Optimization value: {}'.format(theta_best))\n",
    "print('MAP value: {}'.format(theta_max))\n",
    "cornerfig = reader.subcorner(result, start=0, thin=thin, truths=theta_best, \n",
    "                             fig=subplots(5,5,figsize=(27,27))[0])"
   ]
  },
  {
   "cell_type": "markdown",
   "metadata": {},
   "source": [
    "## Look at SEDs and residuals\n",
    "Finally, let's just take a look at a random model drawn from our chains, and at the highest posterior probability model in the chain.  In this notebook we already have the `sps` object instantiated, but in general we may have to regenerate it based on information stored in the output file using the `prospect.io.read_results.get_sps` method."
   ]
  },
  {
   "cell_type": "code",
   "execution_count": null,
   "metadata": {},
   "outputs": [],
   "source": [
    "# randomly chosen parameters from chain\n",
    "randint = np.random.randint\n",
    "if results_type == \"emcee\":\n",
    "    nwalkers, niter = run_params['nwalkers'], run_params['niter']\n",
    "    theta = result['chain'][randint(nwalkers), randint(niter)]\n",
    "else:\n",
    "    theta = result[\"chain\"][randint(len(result[\"chain\"]))]\n",
    "\n",
    "# generate models\n",
    "# sps = reader.get_sps(result)  # this works if using parameter files\n",
    "mspec, mphot, mextra = model.mean_model(theta, obs, sps=sps)\n",
    "mspec_map, mphot_map, _ = model.mean_model(theta_max, obs, sps=sps)\n",
    "\n",
    "# Make plot of data and model\n",
    "figure(figsize=(16,8))\n",
    "\n",
    "loglog(wspec, mspec, label='Model spectrum (random draw)',\n",
    "       lw=0.7, color='navy', alpha=0.7)\n",
    "loglog(wspec, mspec_map, label='Model spectrum (MAP)',\n",
    "       lw=0.7, color='green', alpha=0.7)\n",
    "errorbar(wphot, mphot, label='Model photometry (random draw)',\n",
    "         marker='s', markersize=10, alpha=0.8, ls='', lw=3, \n",
    "         markerfacecolor='none', markeredgecolor='blue', \n",
    "         markeredgewidth=3)\n",
    "errorbar(wphot, mphot_map, label='Model photometry (MAP)',\n",
    "         marker='s', markersize=10, alpha=0.8, ls='', lw=3, \n",
    "         markerfacecolor='none', markeredgecolor='green', \n",
    "         markeredgewidth=3)\n",
    "errorbar(wphot, obs['maggies'], yerr=obs['maggies_unc'], \n",
    "         label='Observed photometry', ecolor='red', \n",
    "         marker='o', markersize=10, ls='', lw=3, alpha=0.8, \n",
    "         markerfacecolor='none', markeredgecolor='red', \n",
    "         markeredgewidth=3)\n",
    "\n",
    "# plot transmission curves\n",
    "for f in obs['filters']:\n",
    "    w, t = f.wavelength.copy(), f.transmission.copy()\n",
    "    t = t / t.max()\n",
    "    t = 10**(0.2*(np.log10(ymax/ymin)))*t * ymin\n",
    "    loglog(w, t, lw=3, color='gray', alpha=0.7)\n",
    "\n",
    "xlabel('Wavelength [A]')\n",
    "ylabel('Flux Density [maggies]')\n",
    "xlim([xmin, xmax])\n",
    "ylim([ymin, ymax])\n",
    "legend(loc='best', fontsize=20)\n",
    "tight_layout()"
   ]
  },
  {
   "cell_type": "code",
   "execution_count": null,
   "metadata": {},
   "outputs": [],
   "source": []
  }
 ],
 "metadata": {
  "anaconda-cloud": {},
  "celltoolbar": "Raw Cell Format",
  "kernelspec": {
   "display_name": "prospector",
   "language": "python",
   "name": "prospector"
  },
  "language_info": {
   "codemirror_mode": {
    "name": "ipython",
    "version": 3
   },
   "file_extension": ".py",
   "mimetype": "text/x-python",
   "name": "python",
   "nbconvert_exporter": "python",
   "pygments_lexer": "ipython3",
   "version": "3.8.16"
  },
  "toc": {
   "nav_menu": {
    "height": "413px",
    "width": "290px"
   },
   "number_sections": true,
   "sideBar": true,
   "skip_h1_title": false,
   "toc_cell": false,
   "toc_position": {},
   "toc_section_display": "block",
   "toc_window_display": false
  }
 },
 "nbformat": 4,
 "nbformat_minor": 4
}
