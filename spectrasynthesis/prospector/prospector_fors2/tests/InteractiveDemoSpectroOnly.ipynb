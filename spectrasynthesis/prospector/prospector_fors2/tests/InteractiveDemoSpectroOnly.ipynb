{
 "cells": [
  {
   "cell_type": "markdown",
   "metadata": {},
   "source": [
    "# Interactive Demo for Spectro and Photometry\n",
    "This is a deconstructed version of the demo that is intended to show a bit more detail about the operation of *prospector*.\n",
    "\n",
    "- author (adaptation) : Sylvie Dagoret-Campagne\n",
    "- creation date : 2023-06-24\n",
    "- 2023-06-19 (set fnu instead of flambda as spectrum)\n",
    "- last update : 2023-06-24 (save sps in output file)"
   ]
  },
  {
   "cell_type": "markdown",
   "metadata": {},
   "source": [
    "First let's set up some environmental dependencies. These just make the numerics easier and adjust some of the plotting defaults to make things more legible."
   ]
  },
  {
   "cell_type": "code",
   "execution_count": 1,
   "metadata": {},
   "outputs": [],
   "source": [
    "import time, sys, os\n",
    "import h5py\n",
    "import numpy as np\n",
    "import scipy\n",
    "from matplotlib.pyplot import *\n",
    "import re\n",
    "import h5py\n",
    "import pandas as pd\n",
    "%matplotlib inline\n",
    "from collections import OrderedDict\n",
    "\n",
    "# re-defining plotting defaults\n",
    "from matplotlib.font_manager import FontProperties\n",
    "from matplotlib import gridspec\n",
    "rcParams.update({'xtick.major.pad': '7.0'})\n",
    "rcParams.update({'xtick.major.size': '7.5'})\n",
    "rcParams.update({'xtick.major.width': '1.5'})\n",
    "rcParams.update({'xtick.minor.pad': '7.0'})\n",
    "rcParams.update({'xtick.minor.size': '3.5'})\n",
    "rcParams.update({'xtick.minor.width': '1.0'})\n",
    "rcParams.update({'ytick.major.pad': '7.0'})\n",
    "rcParams.update({'ytick.major.size': '7.5'})\n",
    "rcParams.update({'ytick.major.width': '1.5'})\n",
    "rcParams.update({'ytick.minor.pad': '7.0'})\n",
    "rcParams.update({'ytick.minor.size': '3.5'})\n",
    "rcParams.update({'ytick.minor.width': '1.0'})\n",
    "rcParams.update({'xtick.color': 'k'})\n",
    "rcParams.update({'ytick.color': 'k'})\n",
    "rcParams.update({'font.size': 30})"
   ]
  },
  {
   "cell_type": "code",
   "execution_count": 2,
   "metadata": {},
   "outputs": [],
   "source": [
    "from astropy import constants as const\n",
    "from astropy import units as u"
   ]
  },
  {
   "cell_type": "code",
   "execution_count": 3,
   "metadata": {},
   "outputs": [],
   "source": [
    "from sklearn.gaussian_process import GaussianProcessRegressor, kernels"
   ]
  },
  {
   "cell_type": "markdown",
   "metadata": {},
   "source": [
    "**Prospector** utilizes three main packages:\n",
    "- **fsps**, which governs the fundamental stellar population synthesis models (via the **python-fsps** package),\n",
    "- **sedpy**, which contains some routines for computing projecting spectra onto filter bandpasses, and\n",
    "- **prospect**, which is where the likelihood evaluations, parameter priors, and posterior sampling takes place.\n",
    "\n",
    "Let's import those now."
   ]
  },
  {
   "cell_type": "code",
   "execution_count": 4,
   "metadata": {},
   "outputs": [],
   "source": [
    "import fsps\n",
    "import sedpy\n",
    "import prospect"
   ]
  },
  {
   "cell_type": "markdown",
   "metadata": {},
   "source": [
    "And now, let's just look at the versions so you know what's working for me"
   ]
  },
  {
   "cell_type": "code",
   "execution_count": 5,
   "metadata": {},
   "outputs": [
    {
     "name": "stdout",
     "output_type": "stream",
     "text": [
      "numpy: 1.24.3\n",
      "scipy: 1.10.1\n",
      "h5py: 3.8.0\n",
      "fsps: 0.4.3\n",
      "prospect: 1.2.1.dev20+g931b4ad.d20230611\n"
     ]
    }
   ],
   "source": [
    "vers = (np.__version__, scipy.__version__, h5py.__version__, fsps.__version__, prospect.__version__)\n",
    "print(\"numpy: {}\\nscipy: {}\\nh5py: {}\\nfsps: {}\\nprospect: {}\".format(*vers))"
   ]
  },
  {
   "cell_type": "markdown",
   "metadata": {},
   "source": [
    "We'll also use external packages for sampling the posterior.  Let's make sure we have those now."
   ]
  },
  {
   "cell_type": "code",
   "execution_count": 6,
   "metadata": {},
   "outputs": [],
   "source": [
    "import emcee\n",
    "import dynesty"
   ]
  },
  {
   "cell_type": "code",
   "execution_count": 7,
   "metadata": {},
   "outputs": [],
   "source": [
    "ordered_keys = ['name','num','ra','dec', 'redshift','Rmag','RT', 'RV','eRV','Nsp','lines',\n",
    "                'ra_galex','dec_galex','fuv_mag', 'fuv_magerr','nuv_mag', 'nuv_magerr', \n",
    "                'fuv_flux', 'fuv_fluxerr','nuv_flux', 'nuv_fluxerr','asep_galex',\n",
    "                'ID', 'KIDS_TILE','RAJ2000','DECJ2000','Z_ML', 'Z_B','asep_kids','CLASS_STAR',\n",
    "                'MAG_GAAP_u','MAG_GAAP_g','MAG_GAAP_r','MAG_GAAP_i','MAG_GAAP_Z','MAG_GAAP_Y','MAG_GAAP_J', 'MAG_GAAP_H','MAG_GAAP_Ks',\n",
    "                'MAGERR_GAAP_u','MAGERR_GAAP_g','MAGERR_GAAP_r','MAGERR_GAAP_i','MAGERR_GAAP_Z','MAGERR_GAAP_Y','MAGERR_GAAP_J','MAGERR_GAAP_H','MAGERR_GAAP_Ks',\n",
    "                'FLUX_GAAP_u','FLUX_GAAP_g','FLUX_GAAP_r','FLUX_GAAP_i','FLUX_GAAP_Z','FLUX_GAAP_Y','FLUX_GAAP_J', 'FLUX_GAAP_H','FLUX_GAAP_Ks',\n",
    "                'FLUXERR_GAAP_u','FLUXERR_GAAP_g','FLUXERR_GAAP_r','FLUXERR_GAAP_i','FLUXERR_GAAP_Z','FLUXERR_GAAP_Y','FLUXERR_GAAP_J','FLUXERR_GAAP_H','FLUXERR_GAAP_Ks',\n",
    "                'FLUX_RADIUS', 'EXTINCTION_u','EXTINCTION_g','EXTINCTION_r', 'EXTINCTION_i',]"
   ]
  },
  {
   "cell_type": "code",
   "execution_count": 8,
   "metadata": {},
   "outputs": [],
   "source": [
    "from astropy import units as u\n",
    "from astropy import constants as const\n",
    "U_FNU = u.def_unit(u'fnu',  u.erg / (u.cm**2 * u.s * u.Hz))\n",
    "U_FL = u.def_unit(u'fl',  u.erg / (u.cm**2 * u.s * u.AA))"
   ]
  },
  {
   "cell_type": "code",
   "execution_count": 9,
   "metadata": {},
   "outputs": [],
   "source": [
    "def ConvertFlambda_to_Fnu(wl, flambda):\n",
    "    \"\"\"\n",
    "    Convert spectra density flambda to fnu.\n",
    "    parameters:\n",
    "        - Flambda : flux density in erg/s/cm2 /AA or W/cm2/AA\n",
    "    return\n",
    "         - Fnu : flux density in erg/s/cm2/Hz or W/cm2/Hz\n",
    "\n",
    "\n",
    "    Compute Fnu = wl**2/c Flambda\n",
    "    check the conversion units with astropy units and constants \n",
    "    \n",
    "    \"\"\"\n",
    "    fnu = (flambda*U_FL*(wl*u.AA)**2/const.c).to(U_FNU)/(1*U_FNU)\n",
    "   \n",
    "    return fnu"
   ]
  },
  {
   "cell_type": "code",
   "execution_count": 10,
   "metadata": {},
   "outputs": [],
   "source": [
    "def flux_norm(wl,fl,wlcenter=6231,wlwdt=50):\n",
    "    lambda_red = wlcenter\n",
    "    lambda_width = wlwdt\n",
    "    lambda_sel_min = lambda_red-lambda_width /2.\n",
    "    lambda_sel_max = lambda_red+lambda_width /2.  \n",
    "\n",
    "    idx_wl_sel = np.where(np.logical_and(wl>= lambda_sel_min,wl<= lambda_sel_max))[0]\n",
    "    flarr_norm = fl[idx_wl_sel]\n",
    "    return np.median(flarr_norm)"
   ]
  },
  {
   "cell_type": "code",
   "execution_count": 11,
   "metadata": {},
   "outputs": [],
   "source": [
    "class Fors2DataAcess(object):\n",
    "    def __init__(self,filename):\n",
    "        if os.path.isfile(filename):\n",
    "            self.hf = h5py.File(filename, 'r')\n",
    "            self.list_of_groupkeys = list(self.hf.keys())      \n",
    "             # pick one key    \n",
    "            key_sel =  self.list_of_groupkeys[0]\n",
    "            # pick one group\n",
    "            group = self.hf.get(key_sel)  \n",
    "            #pickup all attribute names\n",
    "            self.list_of_subgroup_keys = []\n",
    "            for k in group.attrs.keys():\n",
    "                self.list_of_subgroup_keys.append(k)\n",
    "        else:\n",
    "            self.hf = None\n",
    "            self.list_of_groupkeys = []\n",
    "            self.list_of_subgroup_keys = []\n",
    "    def close_file(self):\n",
    "        self.hf.close() \n",
    "        \n",
    "    def get_list_of_groupkeys(self):\n",
    "        return self.list_of_groupkeys \n",
    "    def get_list_subgroup_keys(self):\n",
    "        return self.list_of_subgroup_keys\n",
    "    def getattribdata_fromgroup(self,groupname):\n",
    "        attr_dict = OrderedDict()\n",
    "        if groupname in self.list_of_groupkeys:       \n",
    "            group = self.hf.get(groupname)  \n",
    "            for  nameval in self.list_of_subgroup_keys:\n",
    "                attr_dict[nameval] = group.attrs[nameval]\n",
    "        else:\n",
    "            print(f'getattribdata_fromgroup : No group {groupname}')\n",
    "        return attr_dict\n",
    "    def getspectrum_fromgroup(self,groupname):\n",
    "        spec_dict = {}\n",
    "        if groupname in self.list_of_groupkeys:       \n",
    "            group = self.hf.get(groupname)  \n",
    "            wl = np.array(group.get(\"wl\"))\n",
    "            fl = np.array(group.get(\"fl\")) \n",
    "            spec_dict[\"wl\"] = wl\n",
    "            spec_dict[\"fl\"] = fl\n",
    "\n",
    "            #convert to fnu\n",
    "            fnu = ConvertFlambda_to_Fnu(wl, fl)\n",
    "            fnorm = flux_norm(wl,fnu)\n",
    "            spec_dict[\"fnu\"] = fnu/fnorm\n",
    "            \n",
    "            \n",
    "        else:\n",
    "            print(f'getspectrum_fromgroup : No group {groupname}')\n",
    "        return spec_dict\n",
    "    \n",
    "    #kernel = kernels.RBF(0.5, (8000, 10000.0))\n",
    "    #gp = GaussianProcessRegressor(kernel=kernel ,random_state=0)\n",
    "\n",
    "    def getspectrumcleanedemissionlines_fromgroup(self,groupname,gp,nsigs=8):\n",
    "        spec_dict = {}\n",
    "        if groupname in self.list_of_groupkeys:       \n",
    "            group = self.hf.get(groupname)  \n",
    "            wl = np.array(group.get(\"wl\"))\n",
    "            fl = np.array(group.get(\"fl\")) \n",
    "\n",
    "            #convert to fnu\n",
    "            fnu = ConvertFlambda_to_Fnu(wl, fl)\n",
    "            fnorm = flux_norm(wl,fnu)\n",
    "                       \n",
    "           \n",
    "            # fit gaussian pricess \n",
    "            X = wl\n",
    "            Y = fnu/fnorm\n",
    "            \n",
    "            DeltaY,Z = Y - gp.predict(X[:, None], return_std=True)\n",
    "            background = np.sqrt(np.median(DeltaY**2))\n",
    "            indexes_toremove = np.where(np.logical_or(np.abs(DeltaY)> nsigs * background,Y<=0))[0]\n",
    "            \n",
    "            Xclean = np.delete(X,indexes_toremove)\n",
    "            Yclean  = np.delete(Y,indexes_toremove)\n",
    "            Zclean  = np.delete(Z,indexes_toremove)\n",
    "            \n",
    "            spec_dict[\"wl\"] = Xclean\n",
    "            spec_dict[\"fnu\"] = Yclean\n",
    "            spec_dict[\"bg\"] = np.abs(Zclean) # strange scikit learn bug returning negative std.\n",
    "            spec_dict[\"bg_med\"] = background # overestimated median error\n",
    "    \n",
    "            \n",
    "        else:\n",
    "            print(f'getspectrum_fromgroup : No group {groupname}')\n",
    "        return spec_dict"
   ]
  },
  {
   "cell_type": "markdown",
   "metadata": {},
   "source": [
    "# Setup"
   ]
  },
  {
   "cell_type": "markdown",
   "metadata": {},
   "source": [
    "*Prospector* requires several ingredients to conduct a fit.  These are:\n",
    "  1. An `obs` dictionary (with the data we intend to fit)\n",
    "  2. A stellar population synthesis object (a *source*) to predict spectra from parameters\n",
    "  3. A `model` object (to describe, store, and translate parameters and priors)\n",
    "  4. A likelihood or posterior probability function\n",
    "  \n",
    "It can also useful to collect the meta-parameters controlling how these ingredients are created and how the fit is conducted in a ``run_params`` dictionary. We will do that as we go along.  We will also encapsulate each step of the setup in a series of `build_x()` functions."
   ]
  },
  {
   "cell_type": "markdown",
   "metadata": {},
   "source": [
    "## The data to be fit: `build_obs()`\n",
    "\n",
    "The data to be fit is stored in a dictionary that we will call `obs`.\n",
    "The `obs` dictionary stores the observed fluxes, uncertainties, and information about how those fluxes were measured.\n",
    "For spectra this means the wavelengths at which the fluxes were measured, while for photometry we must know the filters through which the fluxes were measured.\n",
    "This information is passed (via the `obs` dictionary) to the model object to specify which data to predict.  It is also passed to the likelihood functions for calculating the likelihood of the data for a given model.\n",
    "\n",
    "**Units:** The units of the fluxes and uncertainties are assumed to be maggies (i.e Jy/3631).\n",
    "The wavelength units are assumed to be observed frame vacuum angstroms.  Also note that mask values should be `True` for data that you want to fit, and `False` for data that is to be ignored in the likelihood calculation.\n",
    "\n",
    "We will create an `obs` dictionary below, with all of the required keys, starting with photometry.\n",
    "We will do this through a `build_obs` method, that takes some meta-parameters.\n",
    "In this example we use photometry from a row in Table 2 of Johnson et al. 2013"
   ]
  },
  {
   "cell_type": "code",
   "execution_count": 12,
   "metadata": {},
   "outputs": [],
   "source": [
    "input_file_h5  = '../../../../QueryCatalogs/data/FORS2spectraGalexKidsPhotom.hdf5'"
   ]
  },
  {
   "cell_type": "code",
   "execution_count": 13,
   "metadata": {},
   "outputs": [
    {
     "data": {
      "text/plain": [
       "True"
      ]
     },
     "execution_count": 13,
     "metadata": {},
     "output_type": "execute_result"
    }
   ],
   "source": [
    "os.path.isfile(input_file_h5)"
   ]
  },
  {
   "cell_type": "code",
   "execution_count": 14,
   "metadata": {},
   "outputs": [],
   "source": [
    "fors2 = Fors2DataAcess(input_file_h5)"
   ]
  },
  {
   "cell_type": "code",
   "execution_count": 15,
   "metadata": {},
   "outputs": [],
   "source": [
    "list_of_keys = fors2.get_list_of_groupkeys()\n",
    "list_of_attributes = fors2.get_list_subgroup_keys()\n",
    "list_of_keys = np.array(list_of_keys)\n",
    "list_of_keysnum = [ int(re.findall(\"SPEC(.*)\",specname)[0]) for specname in  list_of_keys ]\n",
    "sorted_indexes = np.argsort(list_of_keysnum)\n",
    "list_of_keys = list_of_keys[sorted_indexes]"
   ]
  },
  {
   "cell_type": "code",
   "execution_count": 16,
   "metadata": {},
   "outputs": [],
   "source": [
    "df_info = pd.DataFrame(columns=list_of_attributes)"
   ]
  },
  {
   "cell_type": "code",
   "execution_count": 17,
   "metadata": {},
   "outputs": [],
   "source": [
    "kernel = kernels.RBF(5, (8000, 10000.0))\n",
    "#kernel = kernels.Matern(length_scale=800, length_scale_bounds=(10, 10000.0), nu=1.5)\n",
    "gp = GaussianProcessRegressor(kernel=kernel ,random_state=0)"
   ]
  },
  {
   "cell_type": "code",
   "execution_count": 18,
   "metadata": {},
   "outputs": [
    {
     "data": {
      "text/plain": [
       "\u001b[0;31mSignature:\u001b[0m \u001b[0mgp\u001b[0m\u001b[0;34m.\u001b[0m\u001b[0mpredict\u001b[0m\u001b[0;34m(\u001b[0m\u001b[0mX\u001b[0m\u001b[0;34m,\u001b[0m \u001b[0mreturn_std\u001b[0m\u001b[0;34m=\u001b[0m\u001b[0;32mFalse\u001b[0m\u001b[0;34m,\u001b[0m \u001b[0mreturn_cov\u001b[0m\u001b[0;34m=\u001b[0m\u001b[0;32mFalse\u001b[0m\u001b[0;34m)\u001b[0m\u001b[0;34m\u001b[0m\u001b[0;34m\u001b[0m\u001b[0m\n",
       "\u001b[0;31mDocstring:\u001b[0m\n",
       "Predict using the Gaussian process regression model.\n",
       "\n",
       "We can also predict based on an unfitted model by using the GP prior.\n",
       "In addition to the mean of the predictive distribution, optionally also\n",
       "returns its standard deviation (`return_std=True`) or covariance\n",
       "(`return_cov=True`). Note that at most one of the two can be requested.\n",
       "\n",
       "Parameters\n",
       "----------\n",
       "X : array-like of shape (n_samples, n_features) or list of object\n",
       "    Query points where the GP is evaluated.\n",
       "\n",
       "return_std : bool, default=False\n",
       "    If True, the standard-deviation of the predictive distribution at\n",
       "    the query points is returned along with the mean.\n",
       "\n",
       "return_cov : bool, default=False\n",
       "    If True, the covariance of the joint predictive distribution at\n",
       "    the query points is returned along with the mean.\n",
       "\n",
       "Returns\n",
       "-------\n",
       "y_mean : ndarray of shape (n_samples,) or (n_samples, n_targets)\n",
       "    Mean of predictive distribution a query points.\n",
       "\n",
       "y_std : ndarray of shape (n_samples,) or (n_samples, n_targets), optional\n",
       "    Standard deviation of predictive distribution at query points.\n",
       "    Only returned when `return_std` is True.\n",
       "\n",
       "y_cov : ndarray of shape (n_samples, n_samples) or                 (n_samples, n_samples, n_targets), optional\n",
       "    Covariance of joint predictive distribution a query points.\n",
       "    Only returned when `return_cov` is True.\n",
       "\u001b[0;31mFile:\u001b[0m      ~/anaconda3/envs/prospector/lib/python3.8/site-packages/sklearn/gaussian_process/_gpr.py\n",
       "\u001b[0;31mType:\u001b[0m      method\n"
      ]
     },
     "metadata": {},
     "output_type": "display_data"
    }
   ],
   "source": [
    "gp.predict?"
   ]
  },
  {
   "cell_type": "code",
   "execution_count": 19,
   "metadata": {},
   "outputs": [],
   "source": [
    "selected_key = 'SPEC36'\n",
    "output_tag = selected_key + '_spectrophotom'"
   ]
  },
  {
   "cell_type": "code",
   "execution_count": 20,
   "metadata": {},
   "outputs": [],
   "source": [
    "attrs = fors2.getattribdata_fromgroup(selected_key)\n",
    "spectr = fors2.getspectrumcleanedemissionlines_fromgroup(selected_key,gp,nsigs=3.)\n",
    "df_info.loc[0] = [*attrs.values()] # hope the order of attributes is kept"
   ]
  },
  {
   "cell_type": "code",
   "execution_count": 21,
   "metadata": {},
   "outputs": [
    {
     "data": {
      "text/plain": [
       "array([4539.04, 4542.4 , 4545.76, ..., 9243.04, 9246.4 , 9249.76])"
      ]
     },
     "execution_count": 21,
     "metadata": {},
     "output_type": "execute_result"
    }
   ],
   "source": [
    "spectr[\"wl\"]"
   ]
  },
  {
   "cell_type": "code",
   "execution_count": 22,
   "metadata": {},
   "outputs": [
    {
     "data": {
      "text/latex": [
       "$[0.68652594,~0.74358487,~0.74105379,~\\dots,~2.6130652,~2.8083094,~2.8842709] \\; \\mathrm{}$"
      ],
      "text/plain": [
       "<Quantity [0.68652594, 0.74358487, 0.74105379, ..., 2.61306517, 2.80830944,\n",
       "           2.88427091]>"
      ]
     },
     "execution_count": 22,
     "metadata": {},
     "output_type": "execute_result"
    }
   ],
   "source": [
    "spectr[\"fnu\"]"
   ]
  },
  {
   "cell_type": "code",
   "execution_count": 23,
   "metadata": {},
   "outputs": [
    {
     "data": {
      "text/latex": [
       "$[0.31347406,~0.25641513,~0.25894621,~\\dots,~1.6130652,~1.8083094,~1.8842709] \\; \\mathrm{}$"
      ],
      "text/plain": [
       "<Quantity [0.31347406, 0.25641513, 0.25894621, ..., 1.61306517, 1.80830944,\n",
       "           1.88427091]>"
      ]
     },
     "execution_count": 23,
     "metadata": {},
     "output_type": "execute_result"
    }
   ],
   "source": [
    "spectr[\"bg\"]"
   ]
  },
  {
   "cell_type": "code",
   "execution_count": 24,
   "metadata": {},
   "outputs": [
    {
     "data": {
      "text/latex": [
       "$1.2151276 \\; \\mathrm{}$"
      ],
      "text/plain": [
       "<Quantity 1.21512757>"
      ]
     },
     "execution_count": 24,
     "metadata": {},
     "output_type": "execute_result"
    }
   ],
   "source": [
    "spectr[\"bg_med\"]"
   ]
  },
  {
   "cell_type": "code",
   "execution_count": 25,
   "metadata": {},
   "outputs": [
    {
     "data": {
      "image/png": "[encoded data removed]",
      "text/plain": [
       "<Figure size 1000x600 with 1 Axes>"
      ]
     },
     "metadata": {},
     "output_type": "display_data"
    }
   ],
   "source": [
    "fig = figure(figsize=(10,6))\n",
    "ax= fig.add_subplot(1,1,1)\n",
    "ax.fill_between(spectr[\"wl\"],spectr[\"fnu\"],spectr[\"fnu\"] - spectr[\"bg\"],spectr[\"fnu\"] + spectr[\"bg\"],color=\"grey\",alpha=0.4)\n",
    "ax.plot(spectr[\"wl\"],spectr[\"fnu\"],'r-',label=\"$F_\\\\nu$\")\n",
    "\n",
    "ax.legend(loc=\"upper left\")\n",
    "ax.grid()"
   ]
  },
  {
   "cell_type": "code",
   "execution_count": 26,
   "metadata": {},
   "outputs": [
    {
     "data": {
      "text/plain": [
       "<matplotlib.lines.Line2D at 0x7fcb392bb7f0>"
      ]
     },
     "execution_count": 26,
     "metadata": {},
     "output_type": "execute_result"
    },
    {
     "data": {
      "image/png": "[encoded data removed]",
      "text/plain": [
       "<Figure size 1000x600 with 1 Axes>"
      ]
     },
     "metadata": {},
     "output_type": "display_data"
    }
   ],
   "source": [
    "fig = figure(figsize=(10,6))\n",
    "ax= fig.add_subplot(1,1,1)\n",
    "#ax.fill_between(spectr[\"wl\"],spectr[\"fnu\"],spectr[\"bg\"],spectr[\"bg\"],color=\"grey\",alpha=0.4)\n",
    "ax.plot(spectr[\"wl\"],spectr[\"bg\"],'r-',label=\"$F_\\\\lambda$\")\n",
    "ax.axhline(spectr[\"bg_med\"])"
   ]
  },
  {
   "cell_type": "code",
   "execution_count": 27,
   "metadata": {},
   "outputs": [
    {
     "data": {
      "text/plain": [
       "OrderedDict([('CLASS_STAR', 0.0284506604075431),\n",
       "             ('DECJ2000', -28.431293),\n",
       "             ('EXTINCTION_g', 0.058946318924427),\n",
       "             ('EXTINCTION_i', 0.0303030107170343),\n",
       "             ('EXTINCTION_r', 0.0407787896692752),\n",
       "             ('EXTINCTION_u', 0.0756504535675048),\n",
       "             ('FLUXERR_GAAP_H', 570.9418334960938),\n",
       "             ('FLUXERR_GAAP_J', 277.4721069335937),\n",
       "             ('FLUXERR_GAAP_Ks', 660.5779418945312),\n",
       "             ('FLUXERR_GAAP_Y', 340.0985107421875),\n",
       "             ('FLUXERR_GAAP_Z', 175.89614868164062),\n",
       "             ('FLUXERR_GAAP_g', 3.330000164503133e-11),\n",
       "             ('FLUXERR_GAAP_i', 1.7399999496792162e-10),\n",
       "             ('FLUXERR_GAAP_r', 3.4000000731504436e-11),\n",
       "             ('FLUXERR_GAAP_u', 1.2999999687846042e-10),\n",
       "             ('FLUX_GAAP_H', 22790.65234375),\n",
       "             ('FLUX_GAAP_J', 18433.390625),\n",
       "             ('FLUX_GAAP_Ks', 31244.4921875),\n",
       "             ('FLUX_GAAP_Y', 13152.8935546875),\n",
       "             ('FLUX_GAAP_Z', 12472.619140625),\n",
       "             ('FLUX_GAAP_g', 2.5877999743073588e-09),\n",
       "             ('FLUX_GAAP_i', 7.964099602020271e-09),\n",
       "             ('FLUX_GAAP_r', 4.027500111192239e-09),\n",
       "             ('FLUX_GAAP_u', 2.32479990813772e-09),\n",
       "             ('FLUX_RADIUS', 4.946753978729248),\n",
       "             ('ID', 'KiDSDR4 J005416.476-282552.65 '),\n",
       "             ('KIDS_TILE', 'KIDS_13.5_-28.2 '),\n",
       "             ('MAGERR_GAAP_H', 0.02719940058887),\n",
       "             ('MAGERR_GAAP_J', 0.0163432005792856),\n",
       "             ('MAGERR_GAAP_Ks', 0.0229548998177051),\n",
       "             ('MAGERR_GAAP_Y', 0.0280741993337869),\n",
       "             ('MAGERR_GAAP_Z', 0.0153117002919316),\n",
       "             ('MAGERR_GAAP_g', 0.0139713333919644),\n",
       "             ('MAGERR_GAAP_i', 0.0237212106585502),\n",
       "             ('MAGERR_GAAP_r', 0.0091657424345612),\n",
       "             ('MAGERR_GAAP_u', 0.0607130527496337),\n",
       "             ('MAG_GAAP_H', 19.09758186340332),\n",
       "             ('MAG_GAAP_J', 19.323366165161133),\n",
       "             ('MAG_GAAP_Ks', 18.75772857666016),\n",
       "             ('MAG_GAAP_Y', 19.682958602905277),\n",
       "             ('MAG_GAAP_Z', 19.73755645751953),\n",
       "             ('MAG_GAAP_g', 21.38075828552246),\n",
       "             ('MAG_GAAP_i', 20.298511505126957),\n",
       "             ('MAG_GAAP_r', 20.902856826782227),\n",
       "             ('MAG_GAAP_u', 21.46874618530273),\n",
       "             ('Nsp', 1),\n",
       "             ('RAJ2000', 13.568653),\n",
       "             ('RT', 13.0),\n",
       "             ('RV', 246798),\n",
       "             ('Rmag', 19.96),\n",
       "             ('Z_B', 1.0),\n",
       "             ('Z_ML', 1.0),\n",
       "             ('asep_galex', 1.4095959316914333),\n",
       "             ('asep_kids', 0.1491840055773735),\n",
       "             ('dec', -28.43129),\n",
       "             ('dec_galex', -28.431562841227),\n",
       "             ('eRV', 80),\n",
       "             ('fuv_flux', nan),\n",
       "             ('fuv_fluxerr', nan),\n",
       "             ('fuv_mag', nan),\n",
       "             ('fuv_magerr', nan),\n",
       "             ('lines',\n",
       "              b'[OII],H9,H8,K,H{beta},[OIII]                                                \\r'),\n",
       "             ('name', 'SPEC36'),\n",
       "             ('num', 36),\n",
       "             ('nuv_flux', 7.29337454),\n",
       "             ('nuv_fluxerr', 3.16502881),\n",
       "             ('nuv_mag', 21.7426777),\n",
       "             ('nuv_magerr', 0.471279979),\n",
       "             ('ra', 13.5687),\n",
       "             ('ra_galex', 13.56838063848872),\n",
       "             ('redshift', 0.82266)])"
      ]
     },
     "execution_count": 27,
     "metadata": {},
     "output_type": "execute_result"
    }
   ],
   "source": [
    "attrs"
   ]
  },
  {
   "cell_type": "code",
   "execution_count": 28,
   "metadata": {},
   "outputs": [
    {
     "data": {
      "text/html": [
       "<div>\n",
       "<style scoped>\n",
       "    .dataframe tbody tr th:only-of-type {\n",
       "        vertical-align: middle;\n",
       "    }\n",
       "\n",
       "    .dataframe tbody tr th {\n",
       "        vertical-align: top;\n",
       "    }\n",
       "\n",
       "    .dataframe thead th {\n",
       "        text-align: right;\n",
       "    }\n",
       "</style>\n",
       "<table border=\"1\" class=\"dataframe\">\n",
       "  <thead>\n",
       "    <tr style=\"text-align: right;\">\n",
       "      <th></th>\n",
       "      <th>name</th>\n",
       "      <th>num</th>\n",
       "      <th>ra</th>\n",
       "      <th>dec</th>\n",
       "      <th>redshift</th>\n",
       "      <th>Rmag</th>\n",
       "      <th>RT</th>\n",
       "      <th>RV</th>\n",
       "      <th>eRV</th>\n",
       "      <th>Nsp</th>\n",
       "      <th>...</th>\n",
       "      <th>FLUXERR_GAAP_Z</th>\n",
       "      <th>FLUXERR_GAAP_Y</th>\n",
       "      <th>FLUXERR_GAAP_J</th>\n",
       "      <th>FLUXERR_GAAP_H</th>\n",
       "      <th>FLUXERR_GAAP_Ks</th>\n",
       "      <th>FLUX_RADIUS</th>\n",
       "      <th>EXTINCTION_u</th>\n",
       "      <th>EXTINCTION_g</th>\n",
       "      <th>EXTINCTION_r</th>\n",
       "      <th>EXTINCTION_i</th>\n",
       "    </tr>\n",
       "  </thead>\n",
       "  <tbody>\n",
       "    <tr>\n",
       "      <th>0</th>\n",
       "      <td>SPEC36</td>\n",
       "      <td>36</td>\n",
       "      <td>13.5687</td>\n",
       "      <td>-28.43129</td>\n",
       "      <td>0.82266</td>\n",
       "      <td>19.96</td>\n",
       "      <td>13.0</td>\n",
       "      <td>246798</td>\n",
       "      <td>80</td>\n",
       "      <td>1</td>\n",
       "      <td>...</td>\n",
       "      <td>175.896149</td>\n",
       "      <td>340.098511</td>\n",
       "      <td>277.472107</td>\n",
       "      <td>570.941833</td>\n",
       "      <td>660.577942</td>\n",
       "      <td>4.946754</td>\n",
       "      <td>0.07565</td>\n",
       "      <td>0.058946</td>\n",
       "      <td>0.040779</td>\n",
       "      <td>0.030303</td>\n",
       "    </tr>\n",
       "  </tbody>\n",
       "</table>\n",
       "<p>1 rows × 71 columns</p>\n",
       "</div>"
      ],
      "text/plain": [
       "     name  num       ra       dec  redshift   Rmag    RT      RV  eRV  Nsp  \\\n",
       "0  SPEC36   36  13.5687 -28.43129   0.82266  19.96  13.0  246798   80    1   \n",
       "\n",
       "   ... FLUXERR_GAAP_Z  FLUXERR_GAAP_Y  FLUXERR_GAAP_J  FLUXERR_GAAP_H  \\\n",
       "0  ...     175.896149      340.098511      277.472107      570.941833   \n",
       "\n",
       "   FLUXERR_GAAP_Ks  FLUX_RADIUS  EXTINCTION_u  EXTINCTION_g  EXTINCTION_r  \\\n",
       "0       660.577942     4.946754       0.07565      0.058946      0.040779   \n",
       "\n",
       "   EXTINCTION_i  \n",
       "0      0.030303  \n",
       "\n",
       "[1 rows x 71 columns]"
      ]
     },
     "execution_count": 28,
     "metadata": {},
     "output_type": "execute_result"
    }
   ],
   "source": [
    "df_info = df_info[ordered_keys]\n",
    "df_info"
   ]
  },
  {
   "cell_type": "code",
   "execution_count": 29,
   "metadata": {},
   "outputs": [],
   "source": [
    "object_redshift = df_info[\"redshift\"]"
   ]
  },
  {
   "cell_type": "code",
   "execution_count": 30,
   "metadata": {},
   "outputs": [],
   "source": [
    "def build_obs(attrs, spectr, **extras):\n",
    "    \"\"\"Build a dictionary of observational data.  \n",
    "        into apparent magnitudes.\n",
    "        \n",
    "    :returns obs:\n",
    "        A dictionary of observational data to use in the fit.\n",
    "    \"\"\"\n",
    "    from prospect.utils.obsutils import fix_obs\n",
    "    import sedpy\n",
    "\n",
    "    # The obs dictionary, empty for now\n",
    "    obs = {}\n",
    "\n",
    "    # These are the names of the relevant filters, \n",
    "    # in the same order as the photometric data (see below)\n",
    "    galex = ['galex_FUV', 'galex_NUV']\n",
    "    vista = ['vista_vircam_'+n for n in ['Z','J','H','Ks']]\n",
    "    sdss = ['sdss_{0}0'.format(b) for b in ['u','g','r','i']]\n",
    "    filternames = galex + sdss + vista\n",
    "    # And here we instantiate the `Filter()` objects using methods in `sedpy`,\n",
    "    # and put the resultinf list of Filter objects in the \"filters\" key of the `obs` dictionary\n",
    "    #obs[\"filters\"] = sedpy.observate.load_filters(filternames)\n",
    "  \n",
    "    # Now we store the measured fluxes for a single object, **in the same order as \"filters\"**\n",
    "    # In this example we use a row of absolute AB magnitudes from Johnson et al. 2013 (NGC4163)\n",
    "    # We then turn them into apparent magnitudes based on the supplied `ldist` meta-parameter.\n",
    "    # You could also, e.g. read from a catalog.\n",
    "    # The units of the fluxes need to be maggies (Jy/3631) so we will do the conversion here too.\n",
    "    m_AB = np.array([attrs['fuv_mag'], attrs['nuv_mag'],\n",
    "                     attrs['MAG_GAAP_u'],attrs['MAG_GAAP_g'],attrs['MAG_GAAP_r'],attrs['MAG_GAAP_i'],\n",
    "                     attrs['MAG_GAAP_Z'],attrs['MAG_GAAP_J'],attrs['MAG_GAAP_H'],attrs['MAG_GAAP_Ks']])\n",
    "    merr = np.array([attrs['fuv_magerr'], attrs['nuv_magerr'],\n",
    "                     attrs['MAGERR_GAAP_u'],attrs['MAGERR_GAAP_g'],attrs['MAGERR_GAAP_r'],attrs['MAGERR_GAAP_i'],\n",
    "                     attrs['MAGERR_GAAP_Z'],attrs['MAGERR_GAAP_J'],attrs['MAGERR_GAAP_H'],attrs['MAGERR_GAAP_Ks']])               \n",
    "    \n",
    "    mags = m_AB\n",
    "    #obs[\"maggies\"] = 10**(-0.4*mags)\n",
    "    \n",
    "    # And now we store the uncertainties (again in units of maggies)\n",
    "    # In this example we are going to fudge the uncertainties based on the supplied `snr` meta-parameter.\n",
    "    #obs['maggies_unc'] = np.array([0.9210*merr[i]* obs[\"maggies\"][i] for i in range(len(mags))])\n",
    "    \n",
    "    \n",
    "    # Now we need a mask, which says which flux values to consider in the likelihood.\n",
    "    # IMPORTANT: the mask is *True* for values that you *want* to fit, \n",
    "    # and *False* for values you want to ignore.  Here we ignore the spitzer bands.\n",
    "    #obs[\"phot_mask\"] = np.array([ ~np.isnan(f) for f in obs[\"maggies\"]])\n",
    "\n",
    "    # This is an array of effective wavelengths for each of the filters.  \n",
    "    # It is not necessary, but it can be useful for plotting so we store it here as a convenience\n",
    "    #obs[\"phot_wave\"] = np.array([f.wave_effective for f in obs[\"filters\"]])\n",
    "    \n",
    "\n",
    "    # We do not have a spectrum, so we set some required elements of the obs dictionary to None.\n",
    "    # (this would be a vector of vacuum wavelengths in angstroms)\n",
    "    obs[\"wavelength\"] = spectr[\"wl\"]\n",
    "    # (this would be the spectrum in units of maggies)\n",
    "\n",
    "    fnu = spectr[\"fnu\"]\n",
    "    \n",
    "    \n",
    "    obs[\"spectrum\"] = fnu*10**(-0.4*mags[4])\n",
    "    # (spectral uncertainties are given here)\n",
    "    \n",
    "    obs['unc'] = spectr[\"bg\"]*10**(-0.4*mags[4])\n",
    "    # (again, to ignore a particular wavelength set the value of the \n",
    "    #  corresponding element of the mask to *False*)\n",
    "    \n",
    "    obs['mask'] = np.array(np.ones(len(obs['wavelength']), dtype=bool))\n",
    "    \n",
    "\n",
    "    # This function ensures all required keys are present in the obs dictionary,\n",
    "    # adding default values if necessary\n",
    "\n",
    "    # must renormalise the spectrum with photometry\n",
    "    # take the g band to avoid nebular emission lines\n",
    "    #obs = fix_obs(obs,normalize_spectrum = True,norm_band_name='sdss_r0')\n",
    "    obs = fix_obs(obs)\n",
    "   \n",
    "\n",
    "    return obs"
   ]
  },
  {
   "cell_type": "code",
   "execution_count": 31,
   "metadata": {},
   "outputs": [],
   "source": [
    "galex = ['galex_FUV', 'galex_NUV']\n",
    "vista = ['vista_vircam_'+n for n in ['Z','J','H','Ks']]\n",
    "sdss = ['sdss_{0}0'.format(b) for b in ['u','g','r','i']]\n",
    "filternames = galex + sdss + vista"
   ]
  },
  {
   "cell_type": "code",
   "execution_count": 32,
   "metadata": {},
   "outputs": [
    {
     "data": {
      "text/plain": [
       "['galex_FUV',\n",
       " 'galex_NUV',\n",
       " 'sdss_u0',\n",
       " 'sdss_g0',\n",
       " 'sdss_r0',\n",
       " 'sdss_i0',\n",
       " 'vista_vircam_Z',\n",
       " 'vista_vircam_J',\n",
       " 'vista_vircam_H',\n",
       " 'vista_vircam_Ks']"
      ]
     },
     "execution_count": 32,
     "metadata": {},
     "output_type": "execute_result"
    }
   ],
   "source": [
    "filternames"
   ]
  },
  {
   "cell_type": "markdown",
   "metadata": {},
   "source": [
    "And we will store some meta-parameters that control the input arguments to this method:"
   ]
  },
  {
   "cell_type": "code",
   "execution_count": 33,
   "metadata": {},
   "outputs": [],
   "source": [
    "run_params = {}\n",
    "run_params[\"snr\"] = 10.0\n",
    "run_params[\"ldist\"] = 10.0"
   ]
  },
  {
   "cell_type": "code",
   "execution_count": null,
   "metadata": {},
   "outputs": [],
   "source": []
  },
  {
   "cell_type": "markdown",
   "metadata": {},
   "source": [
    "Let's take a look at the final `obs` disctionary and also plot up our data."
   ]
  },
  {
   "cell_type": "code",
   "execution_count": 37,
   "metadata": {},
   "outputs": [
    {
     "data": {
      "image/png": "[encoded data removed]",
      "text/plain": [
       "<Figure size 1600x800 with 1 Axes>"
      ]
     },
     "metadata": {},
     "output_type": "display_data"
    }
   ],
   "source": [
    "# Build the obs dictionary using the meta-parameters\n",
    "obs = build_obs(attrs, spectr,**run_params)\n",
    "\n",
    "# Look at the contents of the obs dictionary\n",
    "#print(\"Obs Dictionary Keys:\\n\\n{}\\n\".format(obs.keys()))\n",
    "#print(\"--------\\nFilter objects:\\n\")\n",
    "#print(obs[\"filters\"])\n",
    "\n",
    "# --- Plot the Data ----\n",
    "# This is why we stored these...\n",
    "#wphot = obs[\"phot_wave\"]\n",
    "\n",
    "# establish bounds\n",
    "#xmin, xmax = np.min(wphot)*0.8, np.max(wphot)/0.8\n",
    "#index_sel = np.isfinite(obs[\"maggies\"])\n",
    "#ymin, ymax = obs[\"maggies\"][index_sel].min()/10, obs[\"maggies\"][index_sel].max()*10\n",
    "\n",
    "fig = figure(figsize=(16,8))\n",
    "ax = fig.add_subplot(1,1,1)\n",
    "#ax1 = ax.twinx()\n",
    "\n",
    "# plot all the photometric data\n",
    "#ax.plot(wphot, obs['maggies'],\n",
    "#     label='All observed photometry',\n",
    "#     marker='o', markersize=12, alpha=0.8, ls='', lw=3,\n",
    "#     color='slateblue')\n",
    "\n",
    "#plot the spectral data\n",
    "#ax1.plot(obs[\"wavelength\"],obs[\"spectrum\"] / obs['normalization_guess'],'g-',lw=0.3,label=\"observed spectrum\") \n",
    "ax.plot(obs[\"wavelength\"],obs[\"spectrum\"],'g-',lw=0.3,label=\"observed spectrum\") \n",
    "\n",
    "# overplot only the data we intend to fit\n",
    "#mask = obs[\"phot_mask\"]\n",
    "#ax.errorbar(wphot[mask], obs['maggies'][mask], \n",
    "#         yerr=obs['maggies_unc'][mask], \n",
    "#         label='Photometry to fit',\n",
    "#         marker='o', markersize=8, alpha=0.8, ls='', lw=3,\n",
    "#         ecolor='tomato', markerfacecolor='none', markeredgecolor='tomato', \n",
    "#         markeredgewidth=3)\n",
    "\n",
    "# plot Filters\n",
    "#for f in obs['filters']:\n",
    "#    w, t = f.wavelength.copy(), f.transmission.copy()\n",
    "#    t = t / t.max()\n",
    "#    t = 10**(0.2*(np.log10(ymax/ymin)))*t * ymin\n",
    "#    ax.loglog(w, t, lw=3, color='gray', alpha=0.7)\n",
    "\n",
    "# prettify\n",
    "ax.set_xlabel('Wavelength [A]')\n",
    "ax.set_ylabel('Flux Density [maggies]')\n",
    "#ax.set_xlim([xmin, xmax])\n",
    "#ax.set_ylim([ymin, ymax])\n",
    "ax.set_xscale(\"log\")\n",
    "ax.set_yscale(\"log\")\n",
    "ax.legend(loc='best', fontsize=20)\n",
    "#ax1.set_xscale(\"log\")\n",
    "#ax1.set_yscale(\"log\")\n",
    "#ax1.set_ylabel(\"flux in erg/s/cm^2/AA\")\n",
    "tight_layout()"
   ]
  },
  {
   "cell_type": "code",
   "execution_count": 38,
   "metadata": {},
   "outputs": [
    {
     "data": {
      "text/plain": [
       "{'wavelength': array([4539.04, 4542.4 , 4545.76, ..., 9243.04, 9246.4 , 9249.76]),\n",
       " 'spectrum': <Quantity [2.98891951e-09, 3.23733626e-09, 3.22631676e-09, ...,\n",
       "            1.13764696e-08, 1.22265022e-08, 1.25572147e-08]>,\n",
       " 'unc': <Quantity [1.36476815e-09, 1.11635140e-09, 1.12737090e-09, ...,\n",
       "            7.02278195e-09, 7.87281452e-09, 8.20352701e-09]>,\n",
       " 'mask': array([ True,  True,  True, ...,  True,  True,  True]),\n",
       " 'maggies': None,\n",
       " 'maggies_unc': None,\n",
       " 'logify_spectrum': False,\n",
       " 'ndof': 1357}"
      ]
     },
     "execution_count": 38,
     "metadata": {},
     "output_type": "execute_result"
    }
   ],
   "source": [
    "obs"
   ]
  },
  {
   "cell_type": "code",
   "execution_count": 40,
   "metadata": {},
   "outputs": [],
   "source": [
    "#ymin"
   ]
  },
  {
   "cell_type": "markdown",
   "metadata": {},
   "source": [
    "## The model object: `build_model()`\n",
    "\n",
    "Now we need a set of model parameters, which will **define** the model we are tying to fit to the data.  The model object stores the parameters that are used by the SPS object to build a spectrum, as well as infomation about which parameters are to be varied during fitting, and priors on those parameters.  It efficiently converts between a vector of parameter values (the `theta` attribute) used by the MCMC samplers or optimizers and the dictionary of parameter names and values (the `params` attribute) that can be passed to the sps objects' `get_spectrum()` method.\n",
    "\n",
    "To create the model object we need a list or dictionary of model parameters and some infomation about them.  Each parameter must a have a `name`, a length `N` (vector parameters are possible), an initial value `ini`, and must be specified as either a free parameter or a fixed parameter via an `isfree` key.  If it is a free parameter it *must* have a prior specified as well, which we will get from the `priors` module.  Please see the documentation for that module for detaiuls on the available priors."
   ]
  },
  {
   "cell_type": "markdown",
   "metadata": {},
   "source": [
    "Let's start by creating a dictionary that describes a single parameter controlling the stellar mass."
   ]
  },
  {
   "cell_type": "code",
   "execution_count": 41,
   "metadata": {},
   "outputs": [],
   "source": [
    "from prospect.models import priors\n",
    "mass_param = {\"name\": \"mass\",\n",
    "              # The mass parameter here is a scalar, so it has N=1\n",
    "              \"N\": 1,\n",
    "              # We will be fitting for the mass, so it is a free parameter\n",
    "              \"isfree\": True,\n",
    "              # This is the initial value. For fixed parameters this is the\n",
    "              # value that will always be used. \n",
    "              \"init\": 1e8,\n",
    "              # This sets the prior probability for the parameter\n",
    "              \"prior\": priors.LogUniform(mini=1e6, maxi=1e12),\n",
    "              # this sets the initial dispersion to use when generating \n",
    "              # clouds of emcee \"walkers\".  It is not required, but can be very helpful.\n",
    "              \"init_disp\": 1e6, \n",
    "              # this sets the minimum dispersion to use when generating \n",
    "              #clouds of emcee \"walkers\".  It is not required, but can be useful if \n",
    "              # burn-in rounds leave the walker distribution too narrow for some reason.\n",
    "              \"disp_floor\": 1e6, \n",
    "              # This is not required, but can be helpful\n",
    "              \"units\": \"solar masses formed\",\n",
    "              }"
   ]
  },
  {
   "cell_type": "markdown",
   "metadata": {},
   "source": [
    "Ok, that's the description for one parameter.  Let's **build up the rest of our model** as a dictionary of these parameter descriptions, keyed by parameter name.  The type of model you build will depend on your data, the type of object you are looking at,  and your scientific question. For this data, at a minimum we will need some sort of distance or redshift information (which in this example is a fixed parameter), and something descibing the SFH.  We could also add parameters controlling metallicity, dust attenuation and emission, nebular emission, even the IMF. Note that any parameter whose value is not explicitly specified via a model parameter dictionary will be given the default value from python-FSPS."
   ]
  },
  {
   "cell_type": "markdown",
   "metadata": {},
   "source": [
    "While we could keep adding parameters by hand, the easiest way to build up this model is to start with some predefined parameter sets from the `prospect.models.templates` module, and then modify them to suit our needs. First, lets look at what pre-packaged parameter sets are available."
   ]
  },
  {
   "cell_type": "code",
   "execution_count": 42,
   "metadata": {},
   "outputs": [
    {
     "name": "stdout",
     "output_type": "stream",
     "text": [
      "'type_defaults':\n",
      "  Explicitly sets dust amd IMF types.\n",
      "'ssp':\n",
      "  Basic set of (free) parameters for a delta function SFH\n",
      "'parametric_sfh':\n",
      "  Basic set of (free) parameters for a delay-tau SFH.\n",
      "'dust_emission':\n",
      "  The set of (fixed) dust emission parameters.\n",
      "'nebular':\n",
      "  The set of nebular emission parameters, with gas_logz tied to stellar logzsol.\n",
      "'nebular_marginalization':\n",
      "  Marginalize over emission amplitudes line contained inthe observed spectrum\n",
      "'fit_eline_redshift':\n",
      "  Fit for the redshift of the emission lines separatelyfrom the stellar redshift\n",
      "'agn_eline':\n",
      "  Add AGN emission lines\n",
      "'outlier_model':\n",
      "  The set of outlier (mixture) models for spectroscopy and photometry\n",
      "'agn':\n",
      "  The set of (fixed) AGN dusty torus emission parameters.\n",
      "'igm':\n",
      "  The set of (fixed) IGM absorption parameters.\n",
      "'spectral_smoothing':\n",
      "  Set of parameters for spectal smoothing.\n",
      "'optimize_speccal':\n",
      "  Set of parameters (most of which are fixed) for optimizing a polynomial calibration vector.\n",
      "'fit_speccal':\n",
      "  Set of parameters (most of which are free) for sampling the coefficients of a polynomial calibration vector.\n",
      "'burst_sfh':\n",
      "  The set of (fixed) parameters for an SF burst added to a parameteric SFH, with the burst time controlled by `fage_burst`.\n",
      "'logm_sfh':\n",
      "  Non-parameteric SFH fitting for log-mass in fixed time bins\n",
      "'continuity_sfh':\n",
      "  Non-parameteric SFH fitting for mass in fixed time bins with a smoothness prior\n",
      "'continuity_flex_sfh':\n",
      "  Non-parameteric SFH fitting for mass in flexible time bins with a smoothness prior\n",
      "'continuity_psb_sfh':\n",
      "  Non-parameteric SFH fitting for mass in Nfixed fixed bins and Nflex flexible time bins with a smoothness prior\n",
      "'dirichlet_sfh':\n",
      "  Non-parameteric SFH with Dirichlet prior (fractional SFR)\n",
      "'alpha':\n",
      "  The prospector-alpha model, Leja et al. 2017\n",
      "'beta':\n",
      "  The prospector-beta model; Wang, Leja, et al. 2023\n"
     ]
    }
   ],
   "source": [
    "from prospect.models.templates import TemplateLibrary\n",
    "\n",
    "# Look at all the prepackaged parameter sets\n",
    "TemplateLibrary.show_contents()"
   ]
  },
  {
   "cell_type": "markdown",
   "metadata": {},
   "source": [
    "It looks like the `\"parametric_sfh\"` parameter set will do most of what we want.  Let's look at it in more detail."
   ]
  },
  {
   "cell_type": "code",
   "execution_count": 43,
   "metadata": {},
   "outputs": [
    {
     "name": "stdout",
     "output_type": "stream",
     "text": [
      "Free Parameters: (name: prior) \n",
      "-----------\n",
      "  mass: <class 'prospect.models.priors.LogUniform'>(mini=100000000.0,maxi=1000000000000.0)\n",
      "  logzsol: <class 'prospect.models.priors.TopHat'>(mini=-2,maxi=0.19)\n",
      "  dust2: <class 'prospect.models.priors.TopHat'>(mini=0.0,maxi=2.0)\n",
      "  tage: <class 'prospect.models.priors.TopHat'>(mini=0.001,maxi=13.8)\n",
      "  tau: <class 'prospect.models.priors.LogUniform'>(mini=0.1,maxi=30)\n",
      "\n",
      "Fixed Parameters: (name: value [, depends_on]) \n",
      "-----------\n",
      "  zred: 0.1 \n",
      "  sfh: 4 \n",
      "  imf_type: 2 \n",
      "  dust_type: 0 \n"
     ]
    }
   ],
   "source": [
    "TemplateLibrary.describe(\"parametric_sfh\")"
   ]
  },
  {
   "cell_type": "markdown",
   "metadata": {},
   "source": [
    "That looks pretty good, this model has 5 free parameters:\n",
    "- stellar mass *formed* $M_\\star$,\n",
    "- metallicity $\\log Z/Z_\\odot$, \n",
    "- age $t$ of the galaxy \n",
    "- star formation timescale $\\tau$ for an exponentially declining star formation history (SFH), and\n",
    "- dust attenuation optical depth for a foreground screen, $A_V$.\n",
    "\n",
    "Everything else here is fixed explicitly (e.g. Chabrier IMF via `imf_type:2`).  There are many other `sps` parameters that are set implicitly in the FSPS defaults.  See the python-FSPS documentation for a complete list and details on the default values.\n",
    "\n",
    "Note that by default the stellar mass here refers to the stellar mass *formed* by the given age, which will always be slightly higher than the *surviving* stellar mass, due to mass loss during stellar evolution (winds, SNe, etc.)\n",
    "\n",
    "To tailor this model to our data we'll want to just adjust a couple of the initial values and priors, and add a parameter that will set the distance even though the redshift of theses objects is zero (remember we used absolute magnitudes - these particular very nearby objects are decoupled from the Hubble flow and have very small redshifts, or even blueshifts).\n",
    "\n",
    "However, as for the ``obs`` dictionary we will do all this model building inside a method called ``build_model``.\n",
    "This is useful because then we can control (at run-time) how the model is built via more meta-parameters.  For example the redshift of the model can be specified, or we can decide to change a prior depending on which object the model is fitting. Let's do an example where we change whether the metallicity is a free parameter of the fit or fixed to a particular value, optionally turn on dust emission in the model, and where we can set the redshift by hand as well."
   ]
  },
  {
   "cell_type": "code",
   "execution_count": 44,
   "metadata": {},
   "outputs": [],
   "source": [
    "def build_model(object_redshift=None, ldist=10.0, fixed_metallicity=None, add_duste=False, \n",
    "                **extras):\n",
    "    \"\"\"Build a prospect.models.SedModel object\n",
    "    \n",
    "    :param object_redshift: (optional, default: None)\n",
    "        If given, produce spectra and observed frame photometry appropriate \n",
    "        for this redshift. Otherwise, the redshift will be zero.\n",
    "        \n",
    "    :param ldist: (optional, default: 10)\n",
    "        The luminosity distance (in Mpc) for the model.  Spectra and observed \n",
    "        frame (apparent) photometry will be appropriate for this luminosity distance.\n",
    "        \n",
    "    :param fixed_metallicity: (optional, default: None)\n",
    "        If given, fix the model metallicity (:math:`log(Z/Z_sun)`) to the given value.\n",
    "        \n",
    "    :param add_duste: (optional, default: False)\n",
    "        If `True`, add dust emission and associated (fixed) parameters to the model.\n",
    "        \n",
    "    :returns model:\n",
    "        An instance of prospect.models.SedModel\n",
    "    \"\"\"\n",
    "    from prospect.models.sedmodel import SedModel\n",
    "    from prospect.models.templates import TemplateLibrary\n",
    "    from prospect.models import priors\n",
    "\n",
    "    # Get (a copy of) one of the prepackaged model set dictionaries.\n",
    "    # This is, somewhat confusingly, a dictionary of dictionaries, keyed by parameter name\n",
    "    model_params = TemplateLibrary[\"parametric_sfh\"]\n",
    "    \n",
    "   # Now add the lumdist parameter by hand as another entry in the dictionary.\n",
    "   # This will control the distance since we are setting the redshift to zero.  \n",
    "   # In `build_obs` above we used a distance of 10Mpc to convert from absolute to apparent magnitudes, \n",
    "   # so we use that here too, since the `maggies` are appropriate for that distance.\n",
    "    model_params[\"lumdist\"] = {\"N\": 1, \"isfree\": False, \"init\": ldist, \"units\":\"Mpc\"}\n",
    "    \n",
    "    # Let's make some changes to initial values appropriate for our objects and data\n",
    "    model_params[\"zred\"][\"init\"] = 0.0\n",
    "    model_params[\"dust2\"][\"init\"] = 0.05\n",
    "    model_params[\"logzsol\"][\"init\"] = -0.5\n",
    "    model_params[\"tage\"][\"init\"] = 13.\n",
    "    model_params[\"mass\"][\"init\"] = 1e8\n",
    "    \n",
    "    # These are dwarf galaxies, so lets also adjust the metallicity prior,\n",
    "    # the tau parameter upward, and the mass prior downward\n",
    "    model_params[\"dust2\"][\"prior\"] = priors.TopHat(mini=0.0, maxi=2.0)\n",
    "    model_params[\"tau\"][\"prior\"] = priors.LogUniform(mini=1e-1, maxi=1e2)\n",
    "    model_params[\"mass\"][\"prior\"] = priors.LogUniform(mini=1e6, maxi=1e10)\n",
    "\n",
    "    # If we are going to be using emcee, it is useful to provide a \n",
    "    # minimum scale for the cloud of walkers (the default is 0.1)\n",
    "    model_params[\"mass\"][\"disp_floor\"] = 1e6\n",
    "    model_params[\"tau\"][\"disp_floor\"] = 1.0\n",
    "    model_params[\"tage\"][\"disp_floor\"] = 1.0\n",
    "    \n",
    "    # Change the model parameter specifications based on some keyword arguments\n",
    "    if fixed_metallicity is not None:\n",
    "        # make it a fixed parameter\n",
    "        model_params[\"logzsol\"][\"isfree\"] = False\n",
    "        #And use value supplied by fixed_metallicity keyword\n",
    "        model_params[\"logzsol\"]['init'] = fixed_metallicity \n",
    "\n",
    "    if object_redshift is not None:\n",
    "        # make sure zred is fixed\n",
    "        model_params[\"zred\"]['isfree'] = False\n",
    "        # And set the value to the object_redshift keyword\n",
    "        model_params[\"zred\"]['init'] = object_redshift\n",
    "\n",
    "    if add_duste:\n",
    "        # Add dust emission (with fixed dust SED parameters)\n",
    "        # Since `model_params` is a dictionary of parameter specifications, \n",
    "        # and `TemplateLibrary` returns dictionaries of parameter specifications, \n",
    "        # we can just update `model_params` with the parameters described in the \n",
    "        # pre-packaged `dust_emission` parameter set.\n",
    "        model_params.update(TemplateLibrary[\"dust_emission\"])\n",
    "        \n",
    "    # Now instantiate the model object using this dictionary of parameter specifications\n",
    "    model = SedModel(model_params)\n",
    "\n",
    "    return model\n",
    "\n",
    "\n",
    "run_params[\"object_redshift\"] = object_redshift\n",
    "run_params[\"fixed_metallicity\"] = None\n",
    "run_params[\"add_duste\"] = True"
   ]
  },
  {
   "cell_type": "markdown",
   "metadata": {},
   "source": [
    "Now let's build the model using this function and take a look at it:"
   ]
  },
  {
   "cell_type": "code",
   "execution_count": 45,
   "metadata": {},
   "outputs": [
    {
     "name": "stdout",
     "output_type": "stream",
     "text": [
      ":::::::\n",
      "<class 'prospect.models.sedmodel.SedModel'>\n",
      "\n",
      "Free Parameters: (name: prior) \n",
      "-----------\n",
      "  mass: <class 'prospect.models.priors.LogUniform'>(mini=1000000.0,maxi=10000000000.0)\n",
      "  logzsol: <class 'prospect.models.priors.TopHat'>(mini=-2,maxi=0.19)\n",
      "  dust2: <class 'prospect.models.priors.TopHat'>(mini=0.0,maxi=2.0)\n",
      "  tage: <class 'prospect.models.priors.TopHat'>(mini=0.001,maxi=13.8)\n",
      "  tau: <class 'prospect.models.priors.LogUniform'>(mini=0.1,maxi=100.0)\n",
      "\n",
      "Fixed Parameters: (name: value [, depends_on]) \n",
      "-----------\n",
      "  zred: [0.82266] \n",
      "  sfh: [4] \n",
      "  imf_type: [2] \n",
      "  dust_type: [0] \n",
      "  lumdist: [10.] \n",
      "  add_dust_emission: [ True] \n",
      "  duste_umin: [1.] \n",
      "  duste_qpah: [4.] \n",
      "  duste_gamma: [0.001] \n",
      "\n",
      "Initial free parameter vector theta:\n",
      "  [ 1.0e+08 -5.0e-01  5.0e-02  1.3e+01  1.0e+00]\n",
      "\n",
      "Initial parameter dictionary:\n",
      "{'zred': array([0.82266]), 'mass': array([1.e+08]), 'logzsol': array([-0.5]), 'dust2': array([0.05]), 'sfh': array([4]), 'tage': array([13.]), 'imf_type': array([2]), 'dust_type': array([0]), 'tau': array([1]), 'lumdist': array([10.]), 'add_dust_emission': array([ True]), 'duste_umin': array([1.]), 'duste_qpah': array([4.]), 'duste_gamma': array([0.001])}\n"
     ]
    }
   ],
   "source": [
    "model = build_model(**run_params)\n",
    "print(model)\n",
    "print(\"\\nInitial free parameter vector theta:\\n  {}\\n\".format(model.theta))\n",
    "print(\"Initial parameter dictionary:\\n{}\".format(model.params))"
   ]
  },
  {
   "cell_type": "markdown",
   "metadata": {},
   "source": [
    "## The source object: `build_sps()`\n",
    "\n",
    "We are almost there, but we need an object that will build SEDs for a given set of parameters.  In *prospector* we call these *sps* objects.  Given a dictionary of parameters (provided by the model object), they must be able to return a spectrum and photometry -- corresponding to the data in the `obs` dictionary -- and maybe some ancillary information.  The generation of spectra and photometry is often done using large spectral libraries and, for galaxies, isochrone information.  Typically in *prospector* we use `fsps.StellarPopulation` objects, under thin wrappers that add a little functionality and change the API a bit. The different wrappers correspond to different SFH parameterizations. Here we use `CSPSpecBasis` which works with (linear combinations of) composite stellar populations,  as described in the FSPS manual with `sfh_type` of 1, 4, or 5.  Other `sps` objects can be used for non-parameteric SFH, notably `prospect.sources.FastStepBasis`.\n",
    "\n",
    "Again, it can be helpful to encapsulate the loading of the sps object in a `load_sps` method, with meta-parameters controlling the how the object is instantiated"
   ]
  },
  {
   "cell_type": "code",
   "execution_count": 46,
   "metadata": {},
   "outputs": [],
   "source": [
    "def build_sps(zcontinuous=1, **extras):\n",
    "    \"\"\"\n",
    "    :param zcontinuous: \n",
    "        A vlue of 1 insures that we use interpolation between SSPs to \n",
    "        have a continuous metallicity parameter (`logzsol`)\n",
    "        See python-FSPS documentation for details\n",
    "    \"\"\"\n",
    "    from prospect.sources import CSPSpecBasis\n",
    "    sps = CSPSpecBasis(zcontinuous=zcontinuous)\n",
    "    return sps\n",
    "\n",
    "run_params[\"zcontinuous\"] = 1"
   ]
  },
  {
   "cell_type": "markdown",
   "metadata": {},
   "source": [
    "This object often has a large memory footprint, since it contains all the spectral libraries and isochrones.\n",
    "It has one very important method, `get_spectrum()`.  Indeed, the only definition of an `sps` object (for example if you want to make your own) is that it have this method.  In typical use, any FSPS parameter can be passed to this method as an extra keyword argument and the model will be built using that parameter.  Several additional parameters controlling, e.g., spectral smoothing or the wavelength calibration can also be passed to the default objects."
   ]
  },
  {
   "cell_type": "code",
   "execution_count": 47,
   "metadata": {
    "scrolled": true
   },
   "outputs": [
    {
     "name": "stdout",
     "output_type": "stream",
     "text": [
      "Help on method get_spectrum in module prospect.sources.ssp_basis:\n",
      "\n",
      "get_spectrum(outwave=None, filters=None, peraa=False, **params) method of prospect.sources.galaxy_basis.CSPSpecBasis instance\n",
      "    Get a spectrum and SED for the given params.\n",
      "    \n",
      "    :param outwave: (default: None)\n",
      "        Desired *vacuum* wavelengths.  Defaults to the values in\n",
      "        ``sps.wavelength``.\n",
      "    \n",
      "    :param peraa: (default: False)\n",
      "        If `True`, return the spectrum in erg/s/cm^2/AA instead of AB\n",
      "        maggies.\n",
      "    \n",
      "    :param filters: (default: None)\n",
      "        A list of filter objects for which you'd like photometry to be calculated.\n",
      "    \n",
      "    :param params:\n",
      "        Optional keywords giving parameter values that will be used to\n",
      "        generate the predicted spectrum.\n",
      "    \n",
      "    :returns spec:\n",
      "        Observed frame spectrum in AB maggies, unless ``peraa=True`` in which\n",
      "        case the units are erg/s/cm^2/AA.\n",
      "    \n",
      "    :returns phot:\n",
      "        Observed frame photometry in AB maggies.\n",
      "    \n",
      "    :returns mass_frac:\n",
      "        The ratio of the surviving stellar mass to the total mass formed.\n",
      "\n"
     ]
    }
   ],
   "source": [
    "sps = build_sps(**run_params)\n",
    "help(sps.get_spectrum)"
   ]
  },
  {
   "cell_type": "markdown",
   "metadata": {},
   "source": [
    "## View the model\n",
    "Now that we have the `sps` object we can also generate a prediction for the data from any set of model parameters.  To see how this works, lets make an SED and plot it!  This will use the initial parameter values for the model we built before."
   ]
  },
  {
   "cell_type": "markdown",
   "metadata": {},
   "source": [
    "Note that creating a new model with FSPS is somewhat time-intensive (of order seconds), but once the relevant SSPs have been built they are subsequently stored in cache so similar models can be generated much more quickly (of order milliseconds, unless you are changing parameters that affect the SSPs, like the IMF)"
   ]
  },
  {
   "cell_type": "code",
   "execution_count": 48,
   "metadata": {},
   "outputs": [
    {
     "ename": "KeyError",
     "evalue": "'filters'",
     "output_type": "error",
     "traceback": [
      "\u001b[0;31m---------------------------------------------------------------------------\u001b[0m",
      "\u001b[0;31mKeyError\u001b[0m                                  Traceback (most recent call last)",
      "Input \u001b[0;32mIn [48]\u001b[0m, in \u001b[0;36m<cell line: 3>\u001b[0;34m()\u001b[0m\n\u001b[1;32m      1\u001b[0m \u001b[38;5;66;03m# Generate the model SED at the initial value of theta\u001b[39;00m\n\u001b[1;32m      2\u001b[0m theta \u001b[38;5;241m=\u001b[39m model\u001b[38;5;241m.\u001b[39mtheta\u001b[38;5;241m.\u001b[39mcopy()\n\u001b[0;32m----> 3\u001b[0m initial_spec, initial_phot, initial_mfrac \u001b[38;5;241m=\u001b[39m \u001b[43mmodel\u001b[49m\u001b[38;5;241;43m.\u001b[39;49m\u001b[43msed\u001b[49m\u001b[43m(\u001b[49m\u001b[43mtheta\u001b[49m\u001b[43m,\u001b[49m\u001b[43m \u001b[49m\u001b[43mobs\u001b[49m\u001b[38;5;241;43m=\u001b[39;49m\u001b[43mobs\u001b[49m\u001b[43m,\u001b[49m\u001b[43m \u001b[49m\u001b[43msps\u001b[49m\u001b[38;5;241;43m=\u001b[39;49m\u001b[43msps\u001b[49m\u001b[43m)\u001b[49m\n\u001b[1;32m      4\u001b[0m title_text \u001b[38;5;241m=\u001b[39m \u001b[38;5;124m'\u001b[39m\u001b[38;5;124m,\u001b[39m\u001b[38;5;124m'\u001b[39m\u001b[38;5;241m.\u001b[39mjoin([\u001b[38;5;124m\"\u001b[39m\u001b[38;5;132;01m{}\u001b[39;00m\u001b[38;5;124m=\u001b[39m\u001b[38;5;132;01m{:.3g}\u001b[39;00m\u001b[38;5;124m\"\u001b[39m\u001b[38;5;241m.\u001b[39mformat(p, model\u001b[38;5;241m.\u001b[39mparams[p][\u001b[38;5;241m0\u001b[39m]) \n\u001b[1;32m      5\u001b[0m                        \u001b[38;5;28;01mfor\u001b[39;00m p \u001b[38;5;129;01min\u001b[39;00m model\u001b[38;5;241m.\u001b[39mfree_params])\n\u001b[1;32m      7\u001b[0m a \u001b[38;5;241m=\u001b[39m \u001b[38;5;241m1.0\u001b[39m \u001b[38;5;241m+\u001b[39m model\u001b[38;5;241m.\u001b[39mparams\u001b[38;5;241m.\u001b[39mget(\u001b[38;5;124m'\u001b[39m\u001b[38;5;124mzred\u001b[39m\u001b[38;5;124m'\u001b[39m, \u001b[38;5;241m0.0\u001b[39m) \u001b[38;5;66;03m# cosmological redshifting\u001b[39;00m\n",
      "File \u001b[0;32m~/anaconda3/envs/prospector/lib/python3.8/site-packages/prospect/models/sedmodel.py:1145\u001b[0m, in \u001b[0;36mSedModel.sed\u001b[0;34m(self, theta, obs, sps, **kwargs)\u001b[0m\n\u001b[1;32m   1111\u001b[0m \u001b[38;5;250m\u001b[39m\u001b[38;5;124;03m\"\"\"Given a vector of parameters ``theta``, generate a spectrum, photometry,\u001b[39;00m\n\u001b[1;32m   1112\u001b[0m \u001b[38;5;124;03mand any extras (e.g. surviving mass fraction), ***not** including any\u001b[39;00m\n\u001b[1;32m   1113\u001b[0m \u001b[38;5;124;03minstrument calibration effects.  The intrinsic spectrum thus produced is\u001b[39;00m\n\u001b[0;32m   (...)\u001b[0m\n\u001b[1;32m   1141\u001b[0m \u001b[38;5;124;03m    steallr mass formed.\u001b[39;00m\n\u001b[1;32m   1142\u001b[0m \u001b[38;5;124;03m\"\"\"\u001b[39;00m\n\u001b[1;32m   1143\u001b[0m \u001b[38;5;28mself\u001b[39m\u001b[38;5;241m.\u001b[39mset_parameters(theta)\n\u001b[1;32m   1144\u001b[0m spec, phot, extras \u001b[38;5;241m=\u001b[39m sps\u001b[38;5;241m.\u001b[39mget_spectrum(outwave\u001b[38;5;241m=\u001b[39mobs[\u001b[38;5;124m'\u001b[39m\u001b[38;5;124mwavelength\u001b[39m\u001b[38;5;124m'\u001b[39m],\n\u001b[0;32m-> 1145\u001b[0m                                       filters\u001b[38;5;241m=\u001b[39m\u001b[43mobs\u001b[49m\u001b[43m[\u001b[49m\u001b[38;5;124;43m'\u001b[39;49m\u001b[38;5;124;43mfilters\u001b[39;49m\u001b[38;5;124;43m'\u001b[39;49m\u001b[43m]\u001b[49m,\n\u001b[1;32m   1146\u001b[0m                                       component\u001b[38;5;241m=\u001b[39mobs\u001b[38;5;241m.\u001b[39mget(\u001b[38;5;124m'\u001b[39m\u001b[38;5;124mcomponent\u001b[39m\u001b[38;5;124m'\u001b[39m, \u001b[38;5;241m-\u001b[39m\u001b[38;5;241m1\u001b[39m),\n\u001b[1;32m   1147\u001b[0m                                       lnwavegrid\u001b[38;5;241m=\u001b[39mobs\u001b[38;5;241m.\u001b[39mget(\u001b[38;5;124m'\u001b[39m\u001b[38;5;124mlnwavegrid\u001b[39m\u001b[38;5;124m'\u001b[39m, \u001b[38;5;28;01mNone\u001b[39;00m),\n\u001b[1;32m   1148\u001b[0m                                       \u001b[38;5;241m*\u001b[39m\u001b[38;5;241m*\u001b[39m\u001b[38;5;28mself\u001b[39m\u001b[38;5;241m.\u001b[39mparams)\n\u001b[1;32m   1150\u001b[0m spec \u001b[38;5;241m*\u001b[39m\u001b[38;5;241m=\u001b[39m obs\u001b[38;5;241m.\u001b[39mget(\u001b[38;5;124m'\u001b[39m\u001b[38;5;124mnormalization_guess\u001b[39m\u001b[38;5;124m'\u001b[39m, \u001b[38;5;241m1.0\u001b[39m)\n\u001b[1;32m   1151\u001b[0m \u001b[38;5;66;03m# Remove negative fluxes.\u001b[39;00m\n",
      "\u001b[0;31mKeyError\u001b[0m: 'filters'"
     ]
    }
   ],
   "source": [
    "# Generate the model SED at the initial value of theta\n",
    "theta = model.theta.copy()\n",
    "initial_spec, initial_phot, initial_mfrac = model.sed(theta, obs=obs, sps=sps)\n",
    "title_text = ','.join([\"{}={:.3g}\".format(p, model.params[p][0]) \n",
    "                       for p in model.free_params])\n",
    "\n",
    "a = 1.0 + model.params.get('zred', 0.0) # cosmological redshifting\n",
    "# photometric effective wavelengths\n",
    "wphot = obs[\"phot_wave\"]\n",
    "\n",
    "\n",
    "# spectroscopic wavelengths\n",
    "if obs[\"wavelength\"] is None:\n",
    "    # *restframe* spectral wavelengths, since obs[\"wavelength\"] is None\n",
    "    wspec = sps.wavelengths\n",
    "    wspec *= a #redshift them\n",
    "else:\n",
    "    wspec = obs[\"wavelength\"]\n",
    "\n",
    "# establish bounds\n",
    "xmin, xmax = np.min(wphot)*0.8, np.max(wphot)/0.8\n",
    "temp = np.interp(np.linspace(xmin,xmax,10000), wspec, initial_spec)\n",
    "\n",
    "ymin1, ymax1 = temp.min()/100, temp.max()*10\n",
    "\n",
    "index_sel = np.isfinite(obs[\"maggies\"])\n",
    "ymin, ymax = obs[\"maggies\"][index_sel].min()/10, obs[\"maggies\"][index_sel].max()*10\n",
    "\n",
    "\n",
    "fig = figure(figsize=(16,8))\n",
    "\n",
    "ax = fig.add_subplot(1,1,1)\n",
    "ax1 =ax.twinx()\n",
    "\n",
    "# plot model + data\n",
    "ax1.loglog(wspec, initial_spec, label='Model spectrum', lw=0.7, color='navy', alpha=0.7)\n",
    "ax.errorbar(wphot, initial_phot, label='Model photometry', \n",
    "         marker='s',markersize=10, alpha=0.8, ls='', lw=3,\n",
    "         markerfacecolor='none', markeredgecolor='blue', \n",
    "         markeredgewidth=3)\n",
    "ax.errorbar(wphot, obs['maggies'], yerr=obs['maggies_unc'], \n",
    "         label='Observed photometry',\n",
    "         marker='o', markersize=10, alpha=0.8, ls='', lw=3,\n",
    "         ecolor='red', markerfacecolor='none', markeredgecolor='red', \n",
    "         markeredgewidth=3)\n",
    "\n",
    "index_sel = np.isfinite(obs[\"maggies\"])\n",
    "ymin, ymax = obs[\"maggies\"][index_sel].min()/100, obs[\"maggies\"][index_sel].max()*100\n",
    "\n",
    "#plot the spectral data\n",
    "ax1.loglog(obs[\"wavelength\"],obs[\"spectrum\"],'g-',lw=0.3,label=\"observed spectrum\") \n",
    "\n",
    "\n",
    "\n",
    "ax.set_title(title_text)\n",
    "\n",
    "# plot Filters\n",
    "for f in obs['filters']:\n",
    "    w, t = f.wavelength.copy(), f.transmission.copy()\n",
    "    t = t / t.max()\n",
    "    t = 10**(0.2*(np.log10(ymax/ymin)))*t * ymin\n",
    "    ax.loglog(w, t, lw=3, color='gray', alpha=0.7)\n",
    "\n",
    "# prettify\n",
    "ax.set_xlabel('Wavelength [A]')\n",
    "ax.set_ylabel('Flux Density [maggies]')\n",
    "ax.set_xlim([xmin, xmax])\n",
    "ax.set_ylim([ymin, ymax])\n",
    "ax.legend(loc='best', fontsize=20)\n",
    "\n",
    "#ax1.set_yscale('log')\n",
    "ax1.set_ylim(ymin1,ymax1)\n",
    "\n",
    "tight_layout()\n"
   ]
  },
  {
   "cell_type": "code",
   "execution_count": null,
   "metadata": {},
   "outputs": [],
   "source": [
    "initial_spec, initial_phot, initial_mfrac"
   ]
  },
  {
   "cell_type": "code",
   "execution_count": null,
   "metadata": {},
   "outputs": [],
   "source": [
    "sps.wavelengths.shape"
   ]
  },
  {
   "cell_type": "code",
   "execution_count": null,
   "metadata": {},
   "outputs": [],
   "source": [
    "initial_spec.shape"
   ]
  },
  {
   "cell_type": "code",
   "execution_count": null,
   "metadata": {},
   "outputs": [],
   "source": [
    "obs"
   ]
  },
  {
   "cell_type": "code",
   "execution_count": null,
   "metadata": {},
   "outputs": [],
   "source": []
  },
  {
   "cell_type": "markdown",
   "metadata": {},
   "source": [
    "## Likelihood function\n",
    "Now all we are missing is a likelihood function.  In most cases, this will simply be a function of the **spectral likelihood** and a **photometric likelihood** such that\n",
    "\n",
    "$$\n",
    "\\mathcal{L} = f(\\mathcal{L}_{\\textrm{spec}}, \\mathcal{L}_{\\textrm{phot}}) \\quad .\n",
    "$$\n",
    "\n",
    "Assuming our errors are Normal (i.e. Gaussian), the log-likelihoods for each component are extremely straightforward to define and can be imported directly from *prospector*.  How we choose to combine these likelihoods might vary depending on the particulars of our data. For the demo, our likelihood function for our model parameters $\\boldsymbol{\\theta}$ is just\n",
    "\n",
    "$$\n",
    "\\ln\\mathcal{L}(\\boldsymbol{\\theta}) = \\ln\\mathcal{L}_{\\textrm{spec}}(\\boldsymbol{\\theta}) + \\ln\\mathcal{L}_{\\textrm{phot}}(\\boldsymbol{\\theta}) \\quad .\n",
    "$$\n",
    "\n",
    "Below is a simple version of the likelihood function used in *prospector*.  Note that more complicated likelihoods including covariant noise and fitted noise parameters are possible, using special NoiseModel classes within *prospector*.\n",
    "\n",
    "For nested sampling `lnprobfn(theta, nested=True)` will return the likelihood (since the prior probability is accounted for by drawing proposals from the priors), while for other types of MCMC sampling `lnprobfn(theta, nested=False)` returns the posterior probability."
   ]
  },
  {
   "cell_type": "code",
   "execution_count": 49,
   "metadata": {},
   "outputs": [],
   "source": [
    "from prospect.likelihood import lnlike_spec, lnlike_phot, write_log\n",
    "\n",
    "verbose = False\n",
    "def lnprobfn(theta, model=None, obs=None, sps=None, \n",
    "             nested=False, verbose=verbose):\n",
    "    \"\"\"\n",
    "    Given a parameter vector, a model, a dictionary of observational \n",
    "    data, and an sps object, return the ln of the posterior. \n",
    "    \"\"\"\n",
    "\n",
    "    # Calculate prior probability and exit if not within prior\n",
    "    # Also if doing nested sampling, do not include the basic priors, \n",
    "    # since the drawing method includes the prior probability\n",
    "    lnp_prior = model.prior_product(theta, nested=nested)\n",
    "    if not np.isfinite(lnp_prior):\n",
    "        return -np.infty\n",
    "        \n",
    "    # Generate \"mean\" model\n",
    "    spec, phot, mfrac = model.mean_model(theta, obs, sps=sps)\n",
    " \n",
    "    # Calculate likelihoods\n",
    "    lnp_spec = lnlike_spec(spec, obs=obs)\n",
    "    lnp_phot = lnlike_phot(phot, obs=obs)\n",
    "\n",
    "    return lnp_prior + lnp_phot + lnp_spec\n",
    "\n",
    "run_params[\"verbose\"] = verbose"
   ]
  },
  {
   "cell_type": "markdown",
   "metadata": {},
   "source": [
    "It can also be useful for some optimization methods (i.e. Levenberg-Marquardt) to define a function that returns the vector of chi-square residuals.  Let's do that."
   ]
  },
  {
   "cell_type": "code",
   "execution_count": 50,
   "metadata": {},
   "outputs": [],
   "source": [
    "from prospect.likelihood import chi_spec, chi_phot\n",
    "def chivecfn(theta):\n",
    "    \"\"\"A version of lnprobfn that returns the simple uncertainty \n",
    "    normalized residual instead of the log-posterior, for use with \n",
    "    least-squares optimization methods like Levenburg-Marquardt.\n",
    "    \n",
    "    It's important to note that the returned chi vector does not \n",
    "    include the prior probability.\n",
    "    \"\"\"\n",
    "    lnp_prior = model.prior_product(theta)\n",
    "    if not np.isfinite(lnp_prior):\n",
    "        return np.zeros(model.ndim) - np.infty\n",
    "\n",
    "    # Generate mean model\n",
    "    try:\n",
    "        spec, phot, x = model.mean_model(theta, obs, sps=sps)\n",
    "    except(ValueError):\n",
    "        return np.zeros(model.ndim) - np.infty\n",
    "\n",
    "    chispec = chi_spec(spec, obs)\n",
    "    chiphot = chi_phot(phot, obs)\n",
    "    return np.concatenate([chispec, chiphot])"
   ]
  },
  {
   "cell_type": "markdown",
   "metadata": {},
   "source": [
    "However, *prospector* comes with a pre-built `lnprobfn` that can incorporate more complex noise models, and can be either return ln-probability or chi-square or a vector of residuals depending on the algorithm being used.  So let's use that:"
   ]
  },
  {
   "cell_type": "code",
   "execution_count": 51,
   "metadata": {},
   "outputs": [
    {
     "name": "stdout",
     "output_type": "stream",
     "text": [
      "Help on function lnprobfn in module prospect.fitting.fitting:\n",
      "\n",
      "lnprobfn(theta, model=None, obs=None, sps=None, noise=(None, None), residuals=False, nested=False, negative=False, verbose=False)\n",
      "    Given a parameter vector and optionally a dictionary of observational\n",
      "    ata and a model object, return the matural log of the posterior. This\n",
      "    requires that an sps object (and if using spectra and gaussian processes, a\n",
      "    NoiseModel) be instantiated.\n",
      "    \n",
      "    :param theta:\n",
      "        Input parameter vector, ndarray of shape (ndim,)\n",
      "    \n",
      "    :param model:\n",
      "        SedModel model object, with attributes including ``params``, a\n",
      "        dictionary of model parameter state.  It must also have\n",
      "        :py:func:`prior_product`, and :py:func:`predict` methods\n",
      "        defined.\n",
      "    \n",
      "    :param obs:\n",
      "        A dictionary of observational data.  The keys should be\n",
      "    \n",
      "        + ``\"wavelength\"``  (angstroms)\n",
      "        + ``\"spectrum\"``    (maggies)\n",
      "        + ``\"unc\"``         (maggies)\n",
      "        + ``\"maggies\"``     (photometry in maggies)\n",
      "        + ``\"maggies_unc\"`` (photometry uncertainty in maggies)\n",
      "        + ``\"filters\"``     (:py:class:`sedpy.observate.FilterSet` or iterable of :py:class:`sedpy.observate.Filter`)\n",
      "        +  and optional spectroscopic ``\"mask\"`` and ``\"phot_mask\"`` (same\n",
      "           length as ``spectrum`` and ``maggies`` respectively, True means use\n",
      "           the data points)\n",
      "    \n",
      "    :param sps:\n",
      "        A :py:class:`prospect.sources.SSPBasis` object or subclass thereof, or\n",
      "        any object with a ``get_spectrum`` method that will take a dictionary\n",
      "        of model parameters and return a spectrum, photometry, and ancillary\n",
      "        information.\n",
      "    \n",
      "    :param noise: (optional, default: (None, None))\n",
      "        A 2-element tuple of :py:class:`prospect.likelihood.NoiseModel` objects.\n",
      "    \n",
      "    :param residuals: (optional, default: False)\n",
      "        A switch to allow vectors of :math:`\\chi` values to be returned instead\n",
      "        of a scalar posterior probability.  This can be useful for\n",
      "        least-squares optimization methods. Note that prior probabilities are\n",
      "        not included in this calculation.\n",
      "    \n",
      "    :param nested: (optional, default: False)\n",
      "        If ``True``, do not add the ln-prior probability to the ln-likelihood\n",
      "        when computing the ln-posterior.  For nested sampling algorithms the\n",
      "        prior probability is incorporated in the way samples are drawn, so\n",
      "        should not be included here.\n",
      "    \n",
      "    :param negative: (optiona, default: False)\n",
      "        If ``True`` return the negative on the ln-probability for minimization\n",
      "        purposes.\n",
      "    \n",
      "    :returns lnp:\n",
      "        Ln-probability, unless ``residuals=True`` in which case a vector of\n",
      "        :math:`\\chi` values is returned.\n",
      "\n"
     ]
    }
   ],
   "source": [
    "from prospect.fitting import lnprobfn\n",
    "help(lnprobfn)"
   ]
  },
  {
   "cell_type": "markdown",
   "metadata": {},
   "source": [
    "# Running Prospector\n",
    "Now that we have defined the model and set up the data that we want to fit, we are ready to run *prospector*.  We will do this in a few steps.  First we will run all the convenience functions we made earlier to get the fitting ingredients and set up the output.  Then we will fit the model using 1) $\\chi^2$ minimization; 2) ensemble MCMC sampler around the best location from the minimization 3) dynamic nested sampling with `dynesty`"
   ]
  },
  {
   "cell_type": "code",
   "execution_count": 52,
   "metadata": {},
   "outputs": [
    {
     "name": "stdout",
     "output_type": "stream",
     "text": [
      "(b'mist', b'miles', b'DL07  ')\n"
     ]
    }
   ],
   "source": [
    "# Here we will run all our building functions\n",
    "obs = build_obs(attrs, spectr,**run_params)\n",
    "sps = build_sps(**run_params)\n",
    "model = build_model(**run_params)\n",
    "\n",
    "# For fsps based sources it is useful to \n",
    "# know which stellar isochrone and spectral library\n",
    "# we are using\n",
    "print(sps.ssp.libraries)"
   ]
  },
  {
   "cell_type": "markdown",
   "metadata": {},
   "source": [
    "We will use, appropriately enough, the `fit_model` method (with different options) for each of the three different ways of fitting the model described above.  Let's take a look at this method. "
   ]
  },
  {
   "cell_type": "code",
   "execution_count": 53,
   "metadata": {},
   "outputs": [
    {
     "name": "stdout",
     "output_type": "stream",
     "text": [
      "Help on function fit_model in module prospect.fitting.fitting:\n",
      "\n",
      "fit_model(obs, model, sps, noise=(None, None), lnprobfn=<function lnprobfn at 0x7fcb38d7fe50>, optimize=False, emcee=False, dynesty=True, **kwargs)\n",
      "    Fit a model to observations using a number of different methods\n",
      "    \n",
      "    :param obs:\n",
      "        The ``obs`` dictionary containing the data to fit to, which will be\n",
      "        passed to ``lnprobfn``.\n",
      "    \n",
      "    :param model:\n",
      "        An instance of the :py:class:`prospect.models.SedModel` class\n",
      "        containing the model parameterization and parameter state.  It will be\n",
      "        passed to ``lnprobfn``.\n",
      "    \n",
      "    :param sps:\n",
      "        An instance of a :py:class:`prospect.sources.SSPBasis` (sub-)class.\n",
      "        Alternatively, anything with a compatible :py:func:`get_spectrum` can\n",
      "        be used here. It will be passed to ``lnprobfn``\n",
      "    \n",
      "    :param noise: (optional, default: (None, None))\n",
      "        A tuple of NoiseModel objects for the spectroscopy and photometry\n",
      "        respectively.  Can also be (None, None) in which case simple chi-square\n",
      "        will be used.\n",
      "    \n",
      "    :param lnprobfn: (optional, default: lnprobfn)\n",
      "        A posterior probability function that can take ``obs``, ``model``,\n",
      "        ``sps``, and ``noise`` as keywords. By default use the\n",
      "        :py:func:`lnprobfn` defined above.\n",
      "    \n",
      "    :param optimize: (optional, default: False)\n",
      "        If ``True``, conduct a round of optimization before sampling from the\n",
      "        posterior.  The model state will be set to the best value at the end of\n",
      "        optimization before continuing on to sampling or returning.  Parameters\n",
      "        controlling the optimization can be passed via ``kwargs``, including\n",
      "    \n",
      "        + ``min_method``: 'lm' | 'powell'\n",
      "        + ``nmin``: number of minimizations to do.  Beyond the first, minimizations\n",
      "          will be started from draws from the prior.\n",
      "        + ``min_opts``: dictionary of minimization options passed to the\n",
      "          scipy.optimize.minimize method.\n",
      "    \n",
      "        See :py:func:`run_minimize` for details.\n",
      "    \n",
      "    :param emcee:  (optional, default: False)\n",
      "        If ``True``, sample from the posterior using emcee.  Additonal\n",
      "        parameters controlling emcee can be passed via ``**kwargs``.  These include\n",
      "    \n",
      "        + ``initial_positions``: A set of initial positions for the walkers\n",
      "        + ``hfile``: an open h5py.File file handle for writing result incrementally\n",
      "    \n",
      "        Many additional emcee parameters can be provided here, see\n",
      "        :py:func:`run_emcee` for details.\n",
      "    \n",
      "    :param dynesty:\n",
      "        If ``True``, sample from the posterior using dynesty.  Additonal\n",
      "        parameters controlling dynesty can be passed via ``**kwargs``. See\n",
      "        :py:func:`run_dynesty` for details.\n",
      "    \n",
      "    :returns output:\n",
      "        A dictionary with two keys, ``\"optimization\"`` and ``\"sampling\"``.  The\n",
      "        value of each of these is a 2-tuple with results in the first element\n",
      "        and durations (in seconds) in the second element.\n",
      "\n"
     ]
    }
   ],
   "source": [
    "from prospect.fitting import fit_model\n",
    "help(fit_model)"
   ]
  },
  {
   "cell_type": "markdown",
   "metadata": {},
   "source": [
    "Note in particular that the output is a dictionary with *both* optimization and sampling entries.  This is because one can do both within a single call to `fit_model`, and for ensemble sampling in particular it can be useful to do optimization first to get close to the data before beginnning the sampling."
   ]
  },
  {
   "cell_type": "markdown",
   "metadata": {},
   "source": [
    "## Minimization\n",
    "We can attempt to initialize our model reasonably close to the data by using some numerical minimization routines.\n",
    "Here we will use Levenberg-Marquardt. Keywords that control the optimization algorithm will again be stored in the `run_params` dictionary. Levenberg-Marquardt requires a likelihood function that returns a vector of chi values, not an actual likelihood, but the `lnprobfn` we imported supports that."
   ]
  },
  {
   "cell_type": "code",
   "execution_count": 54,
   "metadata": {},
   "outputs": [
    {
     "name": "stdout",
     "output_type": "stream",
     "text": [
      "There was an error during the likelihood call at parameters [ 1.0e+08 -5.0e-01  5.0e-02  1.3e+01  1.0e+00]\n",
      "minimizer: Exception while trying to minimize the function:\n",
      "  params: [ 1.0e+08 -5.0e-01  5.0e-02  1.3e+01  1.0e+00]\n",
      "  args: ()\n",
      "  exception:\n"
     ]
    },
    {
     "name": "stderr",
     "output_type": "stream",
     "text": [
      "Traceback (most recent call last):\n",
      "  File \"/Users/dagoret/anaconda3/envs/prospector/lib/python3.8/site-packages/prospect/fitting/minimizer.py\", line 22, in __call__\n",
      "    return self.f(self.func, x, args=self.args,\n",
      "  File \"/Users/dagoret/anaconda3/envs/prospector/lib/python3.8/site-packages/scipy/optimize/_lsq/least_squares.py\", line 830, in least_squares\n",
      "    f0 = fun_wrapped(x0)\n",
      "  File \"/Users/dagoret/anaconda3/envs/prospector/lib/python3.8/site-packages/scipy/optimize/_lsq/least_squares.py\", line 825, in fun_wrapped\n",
      "    return np.atleast_1d(fun(x, *args, **kwargs))\n",
      "  File \"/Users/dagoret/anaconda3/envs/prospector/lib/python3.8/site-packages/prospect/fitting/fitting.py\", line 114, in lnprobfn\n",
      "    spec, phot, x = model.predict(theta, obs, sps=sps, sigma_spec=sigma_spec)\n",
      "  File \"/Users/dagoret/anaconda3/envs/prospector/lib/python3.8/site-packages/prospect/models/sedmodel.py\", line 1102, in predict\n",
      "    s, p, x = self.sed(theta, obs, sps=sps, **extras)\n",
      "  File \"/Users/dagoret/anaconda3/envs/prospector/lib/python3.8/site-packages/prospect/models/sedmodel.py\", line 1145, in sed\n",
      "    filters=obs['filters'],\n",
      "KeyError: 'filters'\n"
     ]
    },
    {
     "ename": "KeyError",
     "evalue": "'filters'",
     "output_type": "error",
     "traceback": [
      "\u001b[0;31m---------------------------------------------------------------------------\u001b[0m",
      "\u001b[0;31mKeyError\u001b[0m                                  Traceback (most recent call last)",
      "Input \u001b[0;32mIn [54]\u001b[0m, in \u001b[0;36m<cell line: 13>\u001b[0;34m()\u001b[0m\n\u001b[1;32m      6\u001b[0m \u001b[38;5;66;03m# We'll start minimization from \"nmin\" separate places, \u001b[39;00m\n\u001b[1;32m      7\u001b[0m \u001b[38;5;66;03m# the first based on the current values of each parameter and the \u001b[39;00m\n\u001b[1;32m      8\u001b[0m \u001b[38;5;66;03m# rest drawn from the prior.  Starting from these extra draws \u001b[39;00m\n\u001b[1;32m      9\u001b[0m \u001b[38;5;66;03m# can guard against local minima, or problems caused by \u001b[39;00m\n\u001b[1;32m     10\u001b[0m \u001b[38;5;66;03m# starting at the edge of a prior (e.g. dust2=0.0)\u001b[39;00m\n\u001b[1;32m     11\u001b[0m run_params[\u001b[38;5;124m\"\u001b[39m\u001b[38;5;124mnmin\u001b[39m\u001b[38;5;124m\"\u001b[39m] \u001b[38;5;241m=\u001b[39m \u001b[38;5;241m2\u001b[39m\n\u001b[0;32m---> 13\u001b[0m output \u001b[38;5;241m=\u001b[39m \u001b[43mfit_model\u001b[49m\u001b[43m(\u001b[49m\u001b[43mobs\u001b[49m\u001b[43m,\u001b[49m\u001b[43m \u001b[49m\u001b[43mmodel\u001b[49m\u001b[43m,\u001b[49m\u001b[43m \u001b[49m\u001b[43msps\u001b[49m\u001b[43m,\u001b[49m\u001b[43m \u001b[49m\u001b[43mlnprobfn\u001b[49m\u001b[38;5;241;43m=\u001b[39;49m\u001b[43mlnprobfn\u001b[49m\u001b[43m,\u001b[49m\u001b[43m \u001b[49m\u001b[38;5;241;43m*\u001b[39;49m\u001b[38;5;241;43m*\u001b[39;49m\u001b[43mrun_params\u001b[49m\u001b[43m)\u001b[49m\n\u001b[1;32m     15\u001b[0m \u001b[38;5;28mprint\u001b[39m(\u001b[38;5;124m\"\u001b[39m\u001b[38;5;124mDone optmization in \u001b[39m\u001b[38;5;132;01m{}\u001b[39;00m\u001b[38;5;124ms\u001b[39m\u001b[38;5;124m\"\u001b[39m\u001b[38;5;241m.\u001b[39mformat(output[\u001b[38;5;124m\"\u001b[39m\u001b[38;5;124moptimization\u001b[39m\u001b[38;5;124m\"\u001b[39m][\u001b[38;5;241m1\u001b[39m]))\n",
      "File \u001b[0;32m~/anaconda3/envs/prospector/lib/python3.8/site-packages/prospect/fitting/fitting.py:246\u001b[0m, in \u001b[0;36mfit_model\u001b[0;34m(obs, model, sps, noise, lnprobfn, optimize, emcee, dynesty, **kwargs)\u001b[0m\n\u001b[1;32m    242\u001b[0m output \u001b[38;5;241m=\u001b[39m {\u001b[38;5;124m\"\u001b[39m\u001b[38;5;124moptimization\u001b[39m\u001b[38;5;124m\"\u001b[39m: (\u001b[38;5;28;01mNone\u001b[39;00m, \u001b[38;5;241m0.\u001b[39m),\n\u001b[1;32m    243\u001b[0m           \u001b[38;5;124m\"\u001b[39m\u001b[38;5;124msampling\u001b[39m\u001b[38;5;124m\"\u001b[39m: (\u001b[38;5;28;01mNone\u001b[39;00m, \u001b[38;5;241m0.\u001b[39m)}\n\u001b[1;32m    245\u001b[0m \u001b[38;5;28;01mif\u001b[39;00m optimize:\n\u001b[0;32m--> 246\u001b[0m     optres, topt, best \u001b[38;5;241m=\u001b[39m \u001b[43mrun_minimize\u001b[49m\u001b[43m(\u001b[49m\u001b[43mobs\u001b[49m\u001b[43m,\u001b[49m\u001b[43m \u001b[49m\u001b[43mmodel\u001b[49m\u001b[43m,\u001b[49m\u001b[43m \u001b[49m\u001b[43msps\u001b[49m\u001b[43m,\u001b[49m\u001b[43m \u001b[49m\u001b[43mnoise\u001b[49m\u001b[43m,\u001b[49m\n\u001b[1;32m    247\u001b[0m \u001b[43m                                      \u001b[49m\u001b[43mlnprobfn\u001b[49m\u001b[38;5;241;43m=\u001b[39;49m\u001b[43mlnprobfn\u001b[49m\u001b[43m,\u001b[49m\u001b[43m \u001b[49m\u001b[38;5;241;43m*\u001b[39;49m\u001b[38;5;241;43m*\u001b[39;49m\u001b[43mkwargs\u001b[49m\u001b[43m)\u001b[49m\n\u001b[1;32m    248\u001b[0m     \u001b[38;5;66;03m# set to the best\u001b[39;00m\n\u001b[1;32m    249\u001b[0m     model\u001b[38;5;241m.\u001b[39mset_parameters(optres[best]\u001b[38;5;241m.\u001b[39mx)\n",
      "File \u001b[0;32m~/anaconda3/envs/prospector/lib/python3.8/site-packages/prospect/fitting/fitting.py:344\u001b[0m, in \u001b[0;36mrun_minimize\u001b[0;34m(obs, model, sps, noise, lnprobfn, min_method, min_opts, nmin, pool, **extras)\u001b[0m\n\u001b[1;32m    341\u001b[0m     M \u001b[38;5;241m=\u001b[39m \u001b[38;5;28mmap\u001b[39m\n\u001b[1;32m    343\u001b[0m t \u001b[38;5;241m=\u001b[39m time\u001b[38;5;241m.\u001b[39mtime()\n\u001b[0;32m--> 344\u001b[0m results \u001b[38;5;241m=\u001b[39m \u001b[38;5;28;43mlist\u001b[39;49m\u001b[43m(\u001b[49m\u001b[43mM\u001b[49m\u001b[43m(\u001b[49m\u001b[43mminimizer\u001b[49m\u001b[43m,\u001b[49m\u001b[43m \u001b[49m\u001b[43m[\u001b[49m\u001b[43mnp\u001b[49m\u001b[38;5;241;43m.\u001b[39;49m\u001b[43marray\u001b[49m\u001b[43m(\u001b[49m\u001b[43mq\u001b[49m\u001b[43m)\u001b[49m\u001b[43m \u001b[49m\u001b[38;5;28;43;01mfor\u001b[39;49;00m\u001b[43m \u001b[49m\u001b[43mq\u001b[49m\u001b[43m \u001b[49m\u001b[38;5;129;43;01min\u001b[39;49;00m\u001b[43m \u001b[49m\u001b[43mqinit\u001b[49m\u001b[43m]\u001b[49m\u001b[43m)\u001b[49m\u001b[43m)\u001b[49m\n\u001b[1;32m    345\u001b[0m tm \u001b[38;5;241m=\u001b[39m time\u001b[38;5;241m.\u001b[39mtime() \u001b[38;5;241m-\u001b[39m t\n\u001b[1;32m    347\u001b[0m \u001b[38;5;28;01mif\u001b[39;00m min_method \u001b[38;5;129;01min\u001b[39;00m lsq:\n",
      "File \u001b[0;32m~/anaconda3/envs/prospector/lib/python3.8/site-packages/prospect/fitting/minimizer.py:22\u001b[0m, in \u001b[0;36mminimize_wrapper.__call__\u001b[0;34m(self, x)\u001b[0m\n\u001b[1;32m     20\u001b[0m \u001b[38;5;28;01mdef\u001b[39;00m \u001b[38;5;21m__call__\u001b[39m(\u001b[38;5;28mself\u001b[39m, x):\n\u001b[1;32m     21\u001b[0m     \u001b[38;5;28;01mtry\u001b[39;00m:\n\u001b[0;32m---> 22\u001b[0m         \u001b[38;5;28;01mreturn\u001b[39;00m \u001b[38;5;28;43mself\u001b[39;49m\u001b[38;5;241;43m.\u001b[39;49m\u001b[43mf\u001b[49m\u001b[43m(\u001b[49m\u001b[38;5;28;43mself\u001b[39;49m\u001b[38;5;241;43m.\u001b[39;49m\u001b[43mfunc\u001b[49m\u001b[43m,\u001b[49m\u001b[43m \u001b[49m\u001b[43mx\u001b[49m\u001b[43m,\u001b[49m\u001b[43m \u001b[49m\u001b[43margs\u001b[49m\u001b[38;5;241;43m=\u001b[39;49m\u001b[38;5;28;43mself\u001b[39;49m\u001b[38;5;241;43m.\u001b[39;49m\u001b[43margs\u001b[49m\u001b[43m,\u001b[49m\n\u001b[1;32m     23\u001b[0m \u001b[43m                      \u001b[49m\u001b[43mmethod\u001b[49m\u001b[38;5;241;43m=\u001b[39;49m\u001b[38;5;28;43mself\u001b[39;49m\u001b[38;5;241;43m.\u001b[39;49m\u001b[43mmeth\u001b[49m\u001b[43m,\u001b[49m\u001b[43m \u001b[49m\u001b[38;5;241;43m*\u001b[39;49m\u001b[38;5;241;43m*\u001b[39;49m\u001b[38;5;28;43mself\u001b[39;49m\u001b[38;5;241;43m.\u001b[39;49m\u001b[43mopts\u001b[49m\u001b[43m)\u001b[49m\n\u001b[1;32m     24\u001b[0m     \u001b[38;5;28;01mexcept\u001b[39;00m:\n\u001b[1;32m     25\u001b[0m         \u001b[38;5;28;01mimport\u001b[39;00m \u001b[38;5;21;01mtraceback\u001b[39;00m\n",
      "File \u001b[0;32m~/anaconda3/envs/prospector/lib/python3.8/site-packages/scipy/optimize/_lsq/least_squares.py:830\u001b[0m, in \u001b[0;36mleast_squares\u001b[0;34m(fun, x0, jac, bounds, method, ftol, xtol, gtol, x_scale, loss, f_scale, diff_step, tr_solver, tr_options, jac_sparsity, max_nfev, verbose, args, kwargs)\u001b[0m\n\u001b[1;32m    827\u001b[0m \u001b[38;5;28;01mif\u001b[39;00m method \u001b[38;5;241m==\u001b[39m \u001b[38;5;124m'\u001b[39m\u001b[38;5;124mtrf\u001b[39m\u001b[38;5;124m'\u001b[39m:\n\u001b[1;32m    828\u001b[0m     x0 \u001b[38;5;241m=\u001b[39m make_strictly_feasible(x0, lb, ub)\n\u001b[0;32m--> 830\u001b[0m f0 \u001b[38;5;241m=\u001b[39m \u001b[43mfun_wrapped\u001b[49m\u001b[43m(\u001b[49m\u001b[43mx0\u001b[49m\u001b[43m)\u001b[49m\n\u001b[1;32m    832\u001b[0m \u001b[38;5;28;01mif\u001b[39;00m f0\u001b[38;5;241m.\u001b[39mndim \u001b[38;5;241m!=\u001b[39m \u001b[38;5;241m1\u001b[39m:\n\u001b[1;32m    833\u001b[0m     \u001b[38;5;28;01mraise\u001b[39;00m \u001b[38;5;167;01mValueError\u001b[39;00m(\u001b[38;5;124m\"\u001b[39m\u001b[38;5;124m`fun` must return at most 1-d array_like. \u001b[39m\u001b[38;5;124m\"\u001b[39m\n\u001b[1;32m    834\u001b[0m                      \u001b[38;5;124m\"\u001b[39m\u001b[38;5;124mf0.shape: \u001b[39m\u001b[38;5;132;01m{0}\u001b[39;00m\u001b[38;5;124m\"\u001b[39m\u001b[38;5;241m.\u001b[39mformat(f0\u001b[38;5;241m.\u001b[39mshape))\n",
      "File \u001b[0;32m~/anaconda3/envs/prospector/lib/python3.8/site-packages/scipy/optimize/_lsq/least_squares.py:825\u001b[0m, in \u001b[0;36mleast_squares.<locals>.fun_wrapped\u001b[0;34m(x)\u001b[0m\n\u001b[1;32m    824\u001b[0m \u001b[38;5;28;01mdef\u001b[39;00m \u001b[38;5;21mfun_wrapped\u001b[39m(x):\n\u001b[0;32m--> 825\u001b[0m     \u001b[38;5;28;01mreturn\u001b[39;00m np\u001b[38;5;241m.\u001b[39matleast_1d(\u001b[43mfun\u001b[49m\u001b[43m(\u001b[49m\u001b[43mx\u001b[49m\u001b[43m,\u001b[49m\u001b[43m \u001b[49m\u001b[38;5;241;43m*\u001b[39;49m\u001b[43margs\u001b[49m\u001b[43m,\u001b[49m\u001b[43m \u001b[49m\u001b[38;5;241;43m*\u001b[39;49m\u001b[38;5;241;43m*\u001b[39;49m\u001b[43mkwargs\u001b[49m\u001b[43m)\u001b[49m)\n",
      "File \u001b[0;32m~/anaconda3/envs/prospector/lib/python3.8/site-packages/prospect/fitting/fitting.py:114\u001b[0m, in \u001b[0;36mlnprobfn\u001b[0;34m(theta, model, obs, sps, noise, residuals, nested, negative, verbose)\u001b[0m\n\u001b[1;32m    112\u001b[0m \u001b[38;5;28;01mtry\u001b[39;00m:\n\u001b[1;32m    113\u001b[0m     t1 \u001b[38;5;241m=\u001b[39m time\u001b[38;5;241m.\u001b[39mtime()\n\u001b[0;32m--> 114\u001b[0m     spec, phot, x \u001b[38;5;241m=\u001b[39m \u001b[43mmodel\u001b[49m\u001b[38;5;241;43m.\u001b[39;49m\u001b[43mpredict\u001b[49m\u001b[43m(\u001b[49m\u001b[43mtheta\u001b[49m\u001b[43m,\u001b[49m\u001b[43m \u001b[49m\u001b[43mobs\u001b[49m\u001b[43m,\u001b[49m\u001b[43m \u001b[49m\u001b[43msps\u001b[49m\u001b[38;5;241;43m=\u001b[39;49m\u001b[43msps\u001b[49m\u001b[43m,\u001b[49m\u001b[43m \u001b[49m\u001b[43msigma_spec\u001b[49m\u001b[38;5;241;43m=\u001b[39;49m\u001b[43msigma_spec\u001b[49m\u001b[43m)\u001b[49m\n\u001b[1;32m    115\u001b[0m     d1 \u001b[38;5;241m=\u001b[39m time\u001b[38;5;241m.\u001b[39mtime() \u001b[38;5;241m-\u001b[39m t1\n\u001b[1;32m    116\u001b[0m \u001b[38;5;28;01mexcept\u001b[39;00m(\u001b[38;5;167;01mValueError\u001b[39;00m):\n",
      "File \u001b[0;32m~/anaconda3/envs/prospector/lib/python3.8/site-packages/prospect/models/sedmodel.py:1102\u001b[0m, in \u001b[0;36mSedModel.predict\u001b[0;34m(self, theta, obs, sps, **extras)\u001b[0m\n\u001b[1;32m   1067\u001b[0m \u001b[38;5;28;01mdef\u001b[39;00m \u001b[38;5;21mpredict\u001b[39m(\u001b[38;5;28mself\u001b[39m, theta, obs\u001b[38;5;241m=\u001b[39m\u001b[38;5;28;01mNone\u001b[39;00m, sps\u001b[38;5;241m=\u001b[39m\u001b[38;5;28;01mNone\u001b[39;00m, \u001b[38;5;241m*\u001b[39m\u001b[38;5;241m*\u001b[39mextras):\n\u001b[1;32m   1068\u001b[0m \u001b[38;5;250m    \u001b[39m\u001b[38;5;124;03m\"\"\"Given a ``theta`` vector, generate a spectrum, photometry, and any\u001b[39;00m\n\u001b[1;32m   1069\u001b[0m \u001b[38;5;124;03m    extras (e.g. stellar mass), including any calibration effects.\u001b[39;00m\n\u001b[1;32m   1070\u001b[0m \n\u001b[0;32m   (...)\u001b[0m\n\u001b[1;32m   1100\u001b[0m \u001b[38;5;124;03m        stellar mass formed.\u001b[39;00m\n\u001b[1;32m   1101\u001b[0m \u001b[38;5;124;03m    \"\"\"\u001b[39;00m\n\u001b[0;32m-> 1102\u001b[0m     s, p, x \u001b[38;5;241m=\u001b[39m \u001b[38;5;28;43mself\u001b[39;49m\u001b[38;5;241;43m.\u001b[39;49m\u001b[43msed\u001b[49m\u001b[43m(\u001b[49m\u001b[43mtheta\u001b[49m\u001b[43m,\u001b[49m\u001b[43m \u001b[49m\u001b[43mobs\u001b[49m\u001b[43m,\u001b[49m\u001b[43m \u001b[49m\u001b[43msps\u001b[49m\u001b[38;5;241;43m=\u001b[39;49m\u001b[43msps\u001b[49m\u001b[43m,\u001b[49m\u001b[43m \u001b[49m\u001b[38;5;241;43m*\u001b[39;49m\u001b[38;5;241;43m*\u001b[39;49m\u001b[43mextras\u001b[49m\u001b[43m)\u001b[49m\n\u001b[1;32m   1103\u001b[0m     \u001b[38;5;28mself\u001b[39m\u001b[38;5;241m.\u001b[39m_speccal \u001b[38;5;241m=\u001b[39m \u001b[38;5;28mself\u001b[39m\u001b[38;5;241m.\u001b[39mspec_calibration(obs\u001b[38;5;241m=\u001b[39mobs, \u001b[38;5;241m*\u001b[39m\u001b[38;5;241m*\u001b[39mextras)\n\u001b[1;32m   1104\u001b[0m     \u001b[38;5;28;01mif\u001b[39;00m obs\u001b[38;5;241m.\u001b[39mget(\u001b[38;5;124m'\u001b[39m\u001b[38;5;124mlogify_spectrum\u001b[39m\u001b[38;5;124m'\u001b[39m, \u001b[38;5;28;01mFalse\u001b[39;00m):\n",
      "File \u001b[0;32m~/anaconda3/envs/prospector/lib/python3.8/site-packages/prospect/models/sedmodel.py:1145\u001b[0m, in \u001b[0;36mSedModel.sed\u001b[0;34m(self, theta, obs, sps, **kwargs)\u001b[0m\n\u001b[1;32m   1111\u001b[0m \u001b[38;5;250m\u001b[39m\u001b[38;5;124;03m\"\"\"Given a vector of parameters ``theta``, generate a spectrum, photometry,\u001b[39;00m\n\u001b[1;32m   1112\u001b[0m \u001b[38;5;124;03mand any extras (e.g. surviving mass fraction), ***not** including any\u001b[39;00m\n\u001b[1;32m   1113\u001b[0m \u001b[38;5;124;03minstrument calibration effects.  The intrinsic spectrum thus produced is\u001b[39;00m\n\u001b[0;32m   (...)\u001b[0m\n\u001b[1;32m   1141\u001b[0m \u001b[38;5;124;03m    steallr mass formed.\u001b[39;00m\n\u001b[1;32m   1142\u001b[0m \u001b[38;5;124;03m\"\"\"\u001b[39;00m\n\u001b[1;32m   1143\u001b[0m \u001b[38;5;28mself\u001b[39m\u001b[38;5;241m.\u001b[39mset_parameters(theta)\n\u001b[1;32m   1144\u001b[0m spec, phot, extras \u001b[38;5;241m=\u001b[39m sps\u001b[38;5;241m.\u001b[39mget_spectrum(outwave\u001b[38;5;241m=\u001b[39mobs[\u001b[38;5;124m'\u001b[39m\u001b[38;5;124mwavelength\u001b[39m\u001b[38;5;124m'\u001b[39m],\n\u001b[0;32m-> 1145\u001b[0m                                       filters\u001b[38;5;241m=\u001b[39m\u001b[43mobs\u001b[49m\u001b[43m[\u001b[49m\u001b[38;5;124;43m'\u001b[39;49m\u001b[38;5;124;43mfilters\u001b[39;49m\u001b[38;5;124;43m'\u001b[39;49m\u001b[43m]\u001b[49m,\n\u001b[1;32m   1146\u001b[0m                                       component\u001b[38;5;241m=\u001b[39mobs\u001b[38;5;241m.\u001b[39mget(\u001b[38;5;124m'\u001b[39m\u001b[38;5;124mcomponent\u001b[39m\u001b[38;5;124m'\u001b[39m, \u001b[38;5;241m-\u001b[39m\u001b[38;5;241m1\u001b[39m),\n\u001b[1;32m   1147\u001b[0m                                       lnwavegrid\u001b[38;5;241m=\u001b[39mobs\u001b[38;5;241m.\u001b[39mget(\u001b[38;5;124m'\u001b[39m\u001b[38;5;124mlnwavegrid\u001b[39m\u001b[38;5;124m'\u001b[39m, \u001b[38;5;28;01mNone\u001b[39;00m),\n\u001b[1;32m   1148\u001b[0m                                       \u001b[38;5;241m*\u001b[39m\u001b[38;5;241m*\u001b[39m\u001b[38;5;28mself\u001b[39m\u001b[38;5;241m.\u001b[39mparams)\n\u001b[1;32m   1150\u001b[0m spec \u001b[38;5;241m*\u001b[39m\u001b[38;5;241m=\u001b[39m obs\u001b[38;5;241m.\u001b[39mget(\u001b[38;5;124m'\u001b[39m\u001b[38;5;124mnormalization_guess\u001b[39m\u001b[38;5;124m'\u001b[39m, \u001b[38;5;241m1.0\u001b[39m)\n\u001b[1;32m   1151\u001b[0m \u001b[38;5;66;03m# Remove negative fluxes.\u001b[39;00m\n",
      "\u001b[0;31mKeyError\u001b[0m: 'filters'"
     ]
    }
   ],
   "source": [
    "# --- start minimization ----\n",
    "run_params[\"dynesty\"] = False\n",
    "run_params[\"emcee\"] = False\n",
    "run_params[\"optimize\"] = True\n",
    "run_params[\"min_method\"] = 'lm'\n",
    "# We'll start minimization from \"nmin\" separate places, \n",
    "# the first based on the current values of each parameter and the \n",
    "# rest drawn from the prior.  Starting from these extra draws \n",
    "# can guard against local minima, or problems caused by \n",
    "# starting at the edge of a prior (e.g. dust2=0.0)\n",
    "run_params[\"nmin\"] = 2\n",
    "\n",
    "output = fit_model(obs, model, sps, lnprobfn=lnprobfn, **run_params)\n",
    "\n",
    "print(\"Done optmization in {}s\".format(output[\"optimization\"][1]))"
   ]
  },
  {
   "cell_type": "markdown",
   "metadata": {},
   "source": [
    "### View model after minimization\n",
    "Now let's see how our model looks in the data space after minimization. The model should already be set to the result of the best optimization, but we can also find the best run and set the model parameters to that result by hand."
   ]
  },
  {
   "cell_type": "code",
   "execution_count": null,
   "metadata": {},
   "outputs": [],
   "source": [
    "print(model.theta)\n",
    "(results, topt) = output[\"optimization\"]\n",
    "# Find which of the minimizations gave the best result, \n",
    "# and use the parameter vector for that minimization\n",
    "ind_best = np.argmin([r.cost for r in results])\n",
    "print(ind_best)\n",
    "theta_best = results[ind_best].x.copy()\n",
    "print(theta_best)\n",
    "\n",
    "# generate model\n",
    "prediction = model.mean_model(theta_best, obs=obs, sps=sps)\n",
    "pspec, pphot, pfrac = prediction\n",
    "\n",
    "# establish bounds\n",
    "xmin, xmax = np.min(wphot)*0.8, np.max(wphot)/0.8\n",
    "temp = np.interp(np.linspace(xmin,xmax,10000), wspec, initial_spec)\n",
    "\n",
    "ymin1, ymax1 = temp.min()/100, temp.max()*10\n",
    "\n",
    "index_sel = np.isfinite(obs[\"maggies\"])\n",
    "ymin, ymax = obs[\"maggies\"][index_sel].min()/100, obs[\"maggies\"][index_sel].max()*100\n",
    "\n",
    "\n",
    "fig = figure(figsize=(16,8))\n",
    "ax = fig.add_subplot(1,1,1)\n",
    "#ax1=ax.twinx()\n",
    "\n",
    "# plot Data, best fit model, and old models\n",
    "ax.loglog(wspec, initial_spec, label='Old model spectrum',\n",
    "       lw=0.7, color='gray', alpha=0.5)\n",
    "ax.errorbar(wphot, initial_phot, label='Old model Photometry', \n",
    "         marker='s', markersize=10, alpha=0.6, ls='', lw=3, \n",
    "         markerfacecolor='none', markeredgecolor='gray', \n",
    "         markeredgewidth=3)\n",
    "ax.loglog(wspec, pspec, label='Model spectrum', \n",
    "       lw=0.7, color='slateblue', alpha=0.7)\n",
    "ax.errorbar(wphot, pphot, label='Model photometry', \n",
    "         marker='s', markersize=10, alpha=0.8, ls='', lw=3,\n",
    "         markerfacecolor='none', markeredgecolor='slateblue', \n",
    "         markeredgewidth=3)\n",
    "ax.errorbar(wphot, obs['maggies'], yerr=obs['maggies_unc'],\n",
    "         label='Observed photometry', \n",
    "         marker='o', markersize=10, alpha=0.8, ls='', lw=3, \n",
    "         ecolor='tomato', markerfacecolor='none', markeredgecolor='tomato', \n",
    "         markeredgewidth=3)\n",
    "#plot the spectral data\n",
    "ax.loglog(obs[\"wavelength\"],obs[\"spectrum\"],'g-',lw=0.3,label=\"observed spectrum\") \n",
    "\n",
    "# plot filter transmission curves\n",
    "for f in obs['filters']:\n",
    "    w, t = f.wavelength.copy(), f.transmission.copy()\n",
    "    t = t / t.max()\n",
    "    t = 10**(0.2*(np.log10(ymax/ymin)))*t * ymin\n",
    "    ax.loglog(w, t, lw=3, color='gray', alpha=0.7)\n",
    "\n",
    "# Prettify\n",
    "ax.set_xlabel('Wavelength [A]')\n",
    "ax.set_ylabel('Flux Density [maggies]')\n",
    "ax.set_xlim([xmin, xmax])\n",
    "ax.set_ylim([ymin, ymax])\n",
    "ax.legend(loc='best', fontsize=20)\n",
    "tight_layout()\n",
    "\n",
    "#ax1.set_yscale('log')"
   ]
  },
  {
   "cell_type": "markdown",
   "metadata": {},
   "source": [
    "That should look much better, except maybe for the filters that we have masked out.  You can also run the minimization cell multiple times to see if the fit gets better."
   ]
  },
  {
   "cell_type": "markdown",
   "metadata": {},
   "source": [
    "## Sampling the Posterior: Ensemble sampling\n",
    "Now that we're somewhat burned in, we can begin sampling from the posterior using **Markov Chain Monte Carlo** (MCMC).  For this we will use the ensemble sampling agorithms in *emcee*"
   ]
  },
  {
   "cell_type": "markdown",
   "metadata": {},
   "source": [
    "The algorithm used in *emcee* requires several options to be specified, related to the number of walkers, the number of iterations, and to rounds of burn-in.  For convenience we will store these in the `run_params` meta-parameter dictionary that we've been using. Sampling will begin with a cloud of walkers initialized around the current `model.theta` value, but optionally another round of optmization can be done before sampling begins."
   ]
  },
  {
   "cell_type": "code",
   "execution_count": null,
   "metadata": {},
   "outputs": [],
   "source": [
    "# Set this to False if you don't want to do another optimization\n",
    "# before emcee sampling (but note that the \"optimization\" entry \n",
    "# in the output dictionary will be (None, 0.) in this case)\n",
    "# If set to true then another round of optmization will be performed \n",
    "# before sampling begins and the \"optmization\" entry of the output\n",
    "# will be populated.\n",
    "run_params[\"optimize\"] = False\n",
    "run_params[\"emcee\"] = True\n",
    "run_params[\"dynesty\"] = False\n",
    "# Number of emcee walkers\n",
    "run_params[\"nwalkers\"] = 128\n",
    "# Number of iterations of the MCMC sampling\n",
    "run_params[\"niter\"] = 512\n",
    "# Number of iterations in each round of burn-in\n",
    "# After each round, the walkers are reinitialized based on the \n",
    "# locations of the highest probablity half of the walkers.\n",
    "run_params[\"nburn\"] = [16, 32, 64]"
   ]
  },
  {
   "cell_type": "markdown",
   "metadata": {},
   "source": [
    "Let's go ahead and start sampling! (This should take of order 10 minutes)"
   ]
  },
  {
   "cell_type": "code",
   "execution_count": null,
   "metadata": {},
   "outputs": [],
   "source": [
    "output = fit_model(obs, model, sps, lnprobfn=lnprobfn, **run_params)\n",
    "print('done emcee in {0}s'.format(output[\"sampling\"][1]))"
   ]
  },
  {
   "cell_type": "markdown",
   "metadata": {},
   "source": [
    "### Write Output\n",
    "Now that everything's all set, let's save our results to disk.  These will be written to an hdf5 file with the given name."
   ]
  },
  {
   "cell_type": "code",
   "execution_count": null,
   "metadata": {},
   "outputs": [],
   "source": [
    "from prospect.io import write_results as writer\n",
    "hfile = \"demo_emcee_mcmc_\" + output_tag + \".h5\"\n",
    "writer.write_hdf5(hfile, run_params, model, obs,\n",
    "                  output[\"sampling\"][0], output[\"optimization\"][0],\n",
    "                  tsample=output[\"sampling\"][1],\n",
    "                  toptimize=output[\"optimization\"][1],\n",
    "                  #sps=sps\n",
    "                  )\n",
    "\n",
    "print('Finished')"
   ]
  },
  {
   "cell_type": "markdown",
   "metadata": {},
   "source": [
    "## Sampling the Posterior: Nested sampling\n",
    "Instead of ensemble MCMC sampling we can sample using dynamic nested sampling via *dynesty*.  Dynamic nested sampling works by sampling from within successive iso-likelihood contours, transforming a distribution of live points from the prior to the posterior.  It does not benefit from burn-in via optimization.\n",
    "\n",
    "There are a number of parameters that control the operation of *dynesty*.  A listing and brief description of each is given in the default *prospector* arguments (see below), here we will set just a few of the most important"
   ]
  },
  {
   "cell_type": "code",
   "execution_count": null,
   "metadata": {},
   "outputs": [],
   "source": [
    "run_params[\"dynesty\"] = True\n",
    "run_params[\"optmization\"] = False\n",
    "run_params[\"emcee\"] = False\n",
    "run_params[\"nested_method\"] = \"rwalk\"\n",
    "run_params[\"nlive_init\"] = 400\n",
    "run_params[\"nlive_batch\"] = 200\n",
    "run_params[\"nested_dlogz_init\"] = 0.05\n",
    "run_params[\"nested_posterior_thresh\"] = 0.05\n",
    "run_params[\"nested_maxcall\"] = int(1e7)"
   ]
  },
  {
   "cell_type": "code",
   "execution_count": null,
   "metadata": {},
   "outputs": [],
   "source": [
    "output = fit_model(obs, model, sps, lnprobfn=lnprobfn, **run_params)\n",
    "print('done dynesty in {0}s'.format(output[\"sampling\"][1]))"
   ]
  },
  {
   "cell_type": "code",
   "execution_count": null,
   "metadata": {},
   "outputs": [],
   "source": [
    "from prospect.io import write_results as writer\n",
    "hfile = \"demo_dynesty_mcmc_\" +  output_tag+ \".h5\"\n",
    "writer.write_hdf5(hfile, run_params, model, obs,\n",
    "                  output[\"sampling\"][0], output[\"optimization\"][0],\n",
    "                  tsample=output[\"sampling\"][1],\n",
    "                  toptimize=output[\"optimization\"][1],\n",
    "                  #sps=sps\n",
    "                  )\n",
    "\n",
    "print('Finished')"
   ]
  },
  {
   "cell_type": "markdown",
   "metadata": {},
   "source": [
    "## Command-line operation\n",
    "\n",
    "The preferred way to use prospector is through command line operation.  This is difficult to demonstrate in a notebook, but essentially one would place the `build_obs`, `build_model`, and `build_sps` methods in a single **parameter file**.  Then, in the `__main__` portion of the **parameter file** the entries of the `run_params` dictionary would be set via command-line arguments (via `argparse`), the `build_*` methods would be run, and `fit_model` would be called. For an example please see `demo_params.py` and `demo_mock_params.py` in the prospector demo directory.\n",
    "\n",
    "A number of options used by the code are available in a prebuilt argument parser, which can be augmented with anything necessary for the `build_*` methods that you create.  Below is an example."
   ]
  },
  {
   "cell_type": "code",
   "execution_count": null,
   "metadata": {},
   "outputs": [],
   "source": [
    "from prospect import prospect_args\n",
    "# - Parser with default arguments -\n",
    "parser = prospect_args.get_parser()\n",
    "# - Add custom arguments -\n",
    "parser.add_argument('--add_duste', action=\"store_true\",\n",
    "                    help=\"If set, add dust emission to the model.\")\n",
    "parser.add_argument('--ldist', type=float, default=10,\n",
    "                    help=(\"Luminosity distance in Mpc. Defaults to 10\"\n",
    "                          \"(for case of absolute mags)\"))\n",
    "args, _ = parser.parse_known_args()\n",
    "cli_run_params = vars(args)\n",
    "print(cli_run_params)"
   ]
  },
  {
   "cell_type": "markdown",
   "metadata": {},
   "source": [
    "# Visualizing the Results\n",
    "There are a few basic plotting tools available to do a quick check on the results available in `prospect.io.read_results` and `prospect.utils.plotting`. But first we need to read the output files we made."
   ]
  },
  {
   "cell_type": "markdown",
   "metadata": {},
   "source": [
    "## Reading output files\n",
    "Reading our results from our HDF5 file is straightforward using the `results_from` method.  This returns a \"results\" dictionary, the `obs` dictionary of data to which the model was fit, and in some situations the `SedModel` object that was used in the fitting.\n",
    "\n",
    "In this example we will look at the *emcee* results file that we created, but you can do the same for the *dynesty* results file.  The main difference is that the chains for each fit type have a different dimensionality, and that the samples in the *dynesty* chains come with associated **weights**.  The weights and different shapes are handled automatically by the plotting functions included in *prospector*, but custom plotting code should take care of the difference.\n",
    "\n",
    "In this notebook we have already defined the `model` (and `sps`) object, but in general one will want to recreate it.  *Prospector* allows you to do this by storing the `build_model` and `build_sps` code as text in the HDF5 file -- this is possible with the use of *parameter files* and command line operation."
   ]
  },
  {
   "cell_type": "code",
   "execution_count": null,
   "metadata": {},
   "outputs": [],
   "source": []
  },
  {
   "cell_type": "code",
   "execution_count": null,
   "metadata": {},
   "outputs": [],
   "source": [
    "import prospect.io.read_results as reader\n",
    "results_type = \"emcee\" # | \"dynesty\"\n",
    "# grab results (dictionary), the obs dictionary, and our corresponding models\n",
    "# When using parameter files set `dangerous=True`\n",
    "result, obs, _ = reader.results_from(\"demo_{}_mcmc_{}.h5\".format(results_type,output_tag), dangerous=False)\n",
    "\n",
    "#The following commented lines reconstruct the model and sps object, \n",
    "# if a parameter file continaing the `build_*` methods was saved along with the results\n",
    "#model = reader.get_model(result)\n",
    "#sps = reader.get_sps(result)\n",
    "\n",
    "# let's look at what's stored in the `result` dictionary\n",
    "print(result.keys())"
   ]
  },
  {
   "cell_type": "markdown",
   "metadata": {},
   "source": [
    "## Plotting parameter traces\n",
    "To see how our MCMC samples look, we can examine a few traces (that is, the evolution of the parameter value with iteration in the MCMC chain.)  You can use these plots (and the chains more generally) to assess whether the MCMC has converged, or if you need to sample for more iterations."
   ]
  },
  {
   "cell_type": "code",
   "execution_count": null,
   "metadata": {},
   "outputs": [],
   "source": [
    "if results_type == \"emcee\":\n",
    "    chosen = np.random.choice(result[\"run_params\"][\"nwalkers\"], size=10, replace=False)\n",
    "    tracefig = reader.traceplot(result, figsize=(20,10), chains=chosen)\n",
    "else:\n",
    "    tracefig = reader.traceplot(result, figsize=(20,10))\n"
   ]
  },
  {
   "cell_type": "markdown",
   "metadata": {},
   "source": [
    "## Making a corner plot\n",
    "Our samples more generally can be shown using a corner/triangle plot.  The `subtriangle()` method below is a very thin wrapper on Dan Foreman-Mackey's **corner.py** code.  We'll overplot the MAP value as blue lines."
   ]
  },
  {
   "cell_type": "code",
   "execution_count": null,
   "metadata": {},
   "outputs": [],
   "source": [
    "# maximum a posteriori (of the locations visited by the MCMC sampler)\n",
    "imax = np.argmax(result['lnprobability'])\n",
    "if results_type == \"emcee\":\n",
    "    i, j = np.unravel_index(imax, result['lnprobability'].shape)\n",
    "    theta_max = result['chain'][i, j, :].copy()\n",
    "    thin = 5\n",
    "else:\n",
    "    theta_max = result[\"chain\"][imax, :]\n",
    "    thin = 1\n",
    "\n",
    "print('Optimization value: {}'.format(theta_best))\n",
    "print('MAP value: {}'.format(theta_max))\n",
    "cornerfig = reader.subcorner(result, start=0, thin=thin, truths=theta_best, \n",
    "                             fig=subplots(5,5,figsize=(27,27))[0])"
   ]
  },
  {
   "cell_type": "markdown",
   "metadata": {},
   "source": [
    "## Look at SEDs and residuals\n",
    "Finally, let's just take a look at a random model drawn from our chains, and at the highest posterior probability model in the chain.  In this notebook we already have the `sps` object instantiated, but in general we may have to regenerate it based on information stored in the output file using the `prospect.io.read_results.get_sps` method."
   ]
  },
  {
   "cell_type": "code",
   "execution_count": null,
   "metadata": {},
   "outputs": [],
   "source": [
    "flux_fsps = sps.get_spectrum()[0]"
   ]
  },
  {
   "cell_type": "code",
   "execution_count": null,
   "metadata": {},
   "outputs": [],
   "source": [
    "flux_fsps.min()"
   ]
  },
  {
   "cell_type": "code",
   "execution_count": null,
   "metadata": {},
   "outputs": [],
   "source": [
    "sps.wavelengths"
   ]
  },
  {
   "cell_type": "code",
   "execution_count": null,
   "metadata": {},
   "outputs": [],
   "source": [
    "# randomly chosen parameters from chain\n",
    "randint = np.random.randint\n",
    "if results_type == \"emcee\":\n",
    "    nwalkers, niter = run_params['nwalkers'], run_params['niter']\n",
    "    theta = result['chain'][randint(nwalkers), randint(niter)]\n",
    "else:\n",
    "    theta = result[\"chain\"][randint(len(result[\"chain\"]))]\n",
    "\n",
    "# generate models\n",
    "#sps = reader.get_sps(result)  # this works if using parameter files\n",
    "mspec, mphot, mextra = model.mean_model(theta, obs, sps=sps)\n",
    "mspec_map, mphot_map, _ = model.mean_model(theta_max, obs, sps=sps)\n",
    "\n",
    "# Make plot of data and model\n",
    "fig = figure(figsize=(18,12))\n",
    "ax = fig.add_subplot(1,1,1)\n",
    "#ax1 = ax.twinx()\n",
    "\n",
    "#ax.loglog(wspec, mspec, label='Model spectrum (random draw)',\n",
    "#       lw=0.7, color='navy', alpha=0.7)\n",
    "ax.loglog(wspec, mspec_map, label='Model spectrum (MAP)',\n",
    "       lw=0.7, color='green', alpha=0.7)\n",
    "\n",
    "#ax.errorbar(wphot, mphot, label='Model photometry (random draw)',\n",
    "#         marker='s', markersize=10, alpha=0.8, ls='', lw=3, \n",
    "#         markerfacecolor='none', markeredgecolor='blue', \n",
    "#         markeredgewidth=3)\n",
    "ax.errorbar(wphot, mphot_map, label='Model photometry (MAP)',\n",
    "         marker='s', markersize=10, alpha=0.8, ls='', lw=3, \n",
    "         markerfacecolor='none', markeredgecolor='green', \n",
    "         markeredgewidth=3)\n",
    "ax.errorbar(wphot, obs['maggies'], yerr=obs['maggies_unc'], \n",
    "         label='Observed photometry', ecolor='red', \n",
    "         marker='o', markersize=10, ls='', lw=3, alpha=0.8, \n",
    "         markerfacecolor='none', markeredgecolor='red', \n",
    "         markeredgewidth=3)\n",
    "\n",
    "ymin = mphot_map.min()/10.\n",
    "ymax = mphot_map.max()*10\n",
    "\n",
    "# plot transmission curves\n",
    "for f in obs['filters']:\n",
    "    w, t = f.wavelength.copy(), f.transmission.copy()\n",
    "    t = t / t.max()\n",
    "    t = 10**(0.2*(np.log10(ymax/ymin)))*t * ymin\n",
    "    loglog(w, t, lw=3, color='gray', alpha=0.7)\n",
    "\n",
    "ax.set_xlabel('Wavelength [A]')\n",
    "ax.set_ylabel('Flux Density [maggies]')\n",
    "ax.set_xlim([xmin, xmax])\n",
    "ax.set_ylim([ymin, ymax])\n",
    "ax.legend(loc='best', fontsize=20)\n",
    "ax.plot(sps.wavelengths,sps.get_spectrum()[0],'b-',label=\"synthetized spectrum in restframe\")\n",
    "ax.axvline(3646)\n",
    "title = f\"FORS2 spectrum {selected_key} combined spectro-photom fit with {results_type} MCMC\"\n",
    "ax.set_title(title)\n",
    "tight_layout()"
   ]
  },
  {
   "cell_type": "code",
   "execution_count": null,
   "metadata": {},
   "outputs": [],
   "source": [
    "import prospect.io.read_results as reader\n",
    "results_type = \"dynesty\" # | \"dynesty\"\n",
    "# grab results (dictionary), the obs dictionary, and our corresponding models\n",
    "# When using parameter files set `dangerous=True`\n",
    "result, obs, _ = reader.results_from(\"demo_{}_mcmc_{}.h5\".format(results_type,output_tag), dangerous=False)\n",
    "\n",
    "#The following commented lines reconstruct the model and sps object, \n",
    "# if a parameter file continaing the `build_*` methods was saved along with the results\n",
    "#model = reader.get_model(result)\n",
    "#sps = reader.get_sps(result)\n",
    "\n",
    "# let's look at what's stored in the `result` dictionary\n",
    "print(result.keys())"
   ]
  },
  {
   "cell_type": "code",
   "execution_count": null,
   "metadata": {},
   "outputs": [],
   "source": [
    "if results_type == \"emcee\":\n",
    "    chosen = np.random.choice(result[\"run_params\"][\"nwalkers\"], size=10, replace=False)\n",
    "    tracefig = reader.traceplot(result, figsize=(20,10), chains=chosen)\n",
    "else:\n",
    "    tracefig = reader.traceplot(result, figsize=(20,10))\n"
   ]
  },
  {
   "cell_type": "code",
   "execution_count": null,
   "metadata": {},
   "outputs": [],
   "source": [
    "# maximum a posteriori (of the locations visited by the MCMC sampler)\n",
    "imax = np.argmax(result['lnprobability'])\n",
    "if results_type == \"emcee\":\n",
    "    i, j = np.unravel_index(imax, result['lnprobability'].shape)\n",
    "    theta_max = result['chain'][i, j, :].copy()\n",
    "    thin = 5\n",
    "else:\n",
    "    theta_max = result[\"chain\"][imax, :]\n",
    "    thin = 1\n",
    "\n",
    "print('Optimization value: {}'.format(theta_best))\n",
    "print('MAP value: {}'.format(theta_max))\n",
    "cornerfig = reader.subcorner(result, start=0, thin=thin, truths=theta_best, \n",
    "                             fig=subplots(5,5,figsize=(27,27))[0])"
   ]
  },
  {
   "cell_type": "code",
   "execution_count": null,
   "metadata": {},
   "outputs": [],
   "source": []
  },
  {
   "cell_type": "code",
   "execution_count": null,
   "metadata": {},
   "outputs": [],
   "source": []
  },
  {
   "cell_type": "code",
   "execution_count": null,
   "metadata": {},
   "outputs": [],
   "source": []
  },
  {
   "cell_type": "code",
   "execution_count": null,
   "metadata": {},
   "outputs": [],
   "source": [
    "# randomly chosen parameters from chain\n",
    "randint = np.random.randint\n",
    "if results_type == \"emcee\":\n",
    "    nwalkers, niter = run_params['nwalkers'], run_params['niter']\n",
    "    theta = result['chain'][randint(nwalkers), randint(niter)]\n",
    "else:\n",
    "    theta = result[\"chain\"][randint(len(result[\"chain\"]))]\n",
    "\n",
    "# generate models\n",
    "#sps = reader.get_sps(result)  # this works if using parameter files\n",
    "mspec, mphot, mextra = model.mean_model(theta, obs, sps=sps)\n",
    "mspec_map, mphot_map, _ = model.mean_model(theta_max, obs, sps=sps)\n",
    "\n",
    "# Make plot of data and model\n",
    "fig = figure(figsize=(18,12))\n",
    "ax = fig.add_subplot(1,1,1)\n",
    "#ax1 = ax.twinx()\n",
    "\n",
    "#ax.loglog(wspec, mspec, label='Model spectrum (random draw)',\n",
    "#       lw=0.7, color='navy', alpha=0.7)\n",
    "ax.loglog(wspec, mspec_map, label='Model spectrum (MAP)',\n",
    "       lw=0.7, color='green', alpha=0.7)\n",
    "\n",
    "#ax.errorbar(wphot, mphot, label='Model photometry (random draw)',\n",
    "#         marker='s', markersize=10, alpha=0.8, ls='', lw=3, \n",
    "#         markerfacecolor='none', markeredgecolor='blue', \n",
    "#         markeredgewidth=3)\n",
    "ax.errorbar(wphot, mphot_map, label='Model photometry (MAP)',\n",
    "         marker='s', markersize=10, alpha=0.8, ls='', lw=3, \n",
    "         markerfacecolor='none', markeredgecolor='green', \n",
    "         markeredgewidth=3)\n",
    "ax.errorbar(wphot, obs['maggies'], yerr=obs['maggies_unc'], \n",
    "         label='Observed photometry', ecolor='red', \n",
    "         marker='o', markersize=10, ls='', lw=3, alpha=0.8, \n",
    "         markerfacecolor='none', markeredgecolor='red', \n",
    "         markeredgewidth=3)\n",
    "\n",
    "ymin = mphot_map.min()/10.\n",
    "ymax = mphot_map.max()*10\n",
    "\n",
    "# plot transmission curves\n",
    "for f in obs['filters']:\n",
    "    w, t = f.wavelength.copy(), f.transmission.copy()\n",
    "    t = t / t.max()\n",
    "    t = 10**(0.2*(np.log10(ymax/ymin)))*t * ymin\n",
    "    loglog(w, t, lw=3, color='gray', alpha=0.7)\n",
    "\n",
    "ax.set_xlabel('Wavelength [A]')\n",
    "ax.set_ylabel('Flux Density [maggies]')\n",
    "ax.set_xlim([xmin, xmax])\n",
    "ax.set_ylim([ymin, ymax])\n",
    "ax.legend(loc='best', fontsize=20)\n",
    "ax.plot(sps.wavelengths,sps.get_spectrum()[0],'b-',label=\"synthetized spectrum in restframe\")\n",
    "ax.axvline(3646)\n",
    "title = f\"FORS2 spectrum {selected_key} combined spectro-photom fit with {results_type} MCMC\"\n",
    "ax.set_title(title)\n",
    "tight_layout() "
   ]
  },
  {
   "cell_type": "code",
   "execution_count": null,
   "metadata": {},
   "outputs": [],
   "source": []
  }
 ],
 "metadata": {
  "anaconda-cloud": {},
  "celltoolbar": "Raw Cell Format",
  "kernelspec": {
   "display_name": "prospector",
   "language": "python",
   "name": "prospector"
  },
  "language_info": {
   "codemirror_mode": {
    "name": "ipython",
    "version": 3
   },
   "file_extension": ".py",
   "mimetype": "text/x-python",
   "name": "python",
   "nbconvert_exporter": "python",
   "pygments_lexer": "ipython3",
   "version": "3.8.16"
  },
  "toc": {
   "nav_menu": {
    "height": "413px",
    "width": "290px"
   },
   "number_sections": true,
   "sideBar": true,
   "skip_h1_title": false,
   "toc_cell": false,
   "toc_position": {},
   "toc_section_display": "block",
   "toc_window_display": false
  }
 },
 "nbformat": 4,
 "nbformat_minor": 4
}
