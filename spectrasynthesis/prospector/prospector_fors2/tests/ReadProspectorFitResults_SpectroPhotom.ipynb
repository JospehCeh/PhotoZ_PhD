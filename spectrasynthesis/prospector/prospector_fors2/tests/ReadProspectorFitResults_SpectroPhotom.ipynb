{
 "cells": [
  {
   "cell_type": "markdown",
   "metadata": {},
   "source": [
    "# Interactive Demo for Fors2 with Spectro Photometry to Read results\n",
    "\n",
    "\n",
    "\n",
    "- author (adaptation) : Sylvie Dagoret-Campagne\n",
    "- creation date : 2023-06-16\n",
    "- last update : 2023-06-26\n",
    "\n",
    "\n",
    "https://github.com/bd-j/prospector/blob/main/demo/tutorial.rst"
   ]
  },
  {
   "cell_type": "markdown",
   "metadata": {},
   "source": [
    "# Visualizing the Results\n",
    "There are a few basic plotting tools available to do a quick check on the results available in `prospect.io.read_results` and `prospect.utils.plotting`. But first we need to read the output files we made."
   ]
  },
  {
   "cell_type": "markdown",
   "metadata": {},
   "source": [
    "## Reading output files\n",
    "Reading our results from our HDF5 file is straightforward using the `results_from` method.  This returns a \"results\" dictionary, the `obs` dictionary of data to which the model was fit, and in some situations the `SedModel` object that was used in the fitting.\n",
    "\n",
    "In this example we will look at the *emcee* results file that we created, but you can do the same for the *dynesty* results file.  The main difference is that the chains for each fit type have a different dimensionality, and that the samples in the *dynesty* chains come with associated **weights**.  The weights and different shapes are handled automatically by the plotting functions included in *prospector*, but custom plotting code should take care of the difference.\n",
    "\n",
    "In this notebook we have already defined the `model` (and `sps`) object, but in general one will want to recreate it.  *Prospector* allows you to do this by storing the `build_model` and `build_sps` code as text in the HDF5 file -- this is possible with the use of *parameter files* and command line operation."
   ]
  },
  {
   "cell_type": "code",
   "execution_count": 1,
   "metadata": {
    "tags": []
   },
   "outputs": [],
   "source": [
    "import numpy as np\n",
    "import re\n",
    "import os"
   ]
  },
  {
   "cell_type": "code",
   "execution_count": 2,
   "metadata": {},
   "outputs": [],
   "source": [
    "import matplotlib.pyplot as plt\n",
    "from matplotlib import rcParams\n",
    "\n",
    "from matplotlib import cm\n",
    "from matplotlib.colors import ListedColormap, LinearSegmentedColormap"
   ]
  },
  {
   "cell_type": "code",
   "execution_count": 3,
   "metadata": {},
   "outputs": [
    {
     "name": "stdout",
     "output_type": "stream",
     "text": [
      "SPEC36\tSPEC411  SPEC560\n"
     ]
    }
   ],
   "source": [
    "!ls output/spectrophotom"
   ]
  },
  {
   "cell_type": "code",
   "execution_count": 4,
   "metadata": {},
   "outputs": [],
   "source": [
    "SPECNUM=560\n",
    "SPECNAME=f\"SPEC{SPECNUM}\""
   ]
  },
  {
   "cell_type": "code",
   "execution_count": 5,
   "metadata": {},
   "outputs": [],
   "source": [
    "output_path=os.path.join(\"output/spectrophotom\",SPECNAME)"
   ]
  },
  {
   "cell_type": "code",
   "execution_count": 6,
   "metadata": {},
   "outputs": [],
   "source": [
    "all_files = os.listdir(output_path)"
   ]
  },
  {
   "cell_type": "code",
   "execution_count": 7,
   "metadata": {},
   "outputs": [
    {
     "data": {
      "text/plain": [
       "['run_optimize_SPEC560_spectrophotom_23Jun24-05.02_result.h5',\n",
       " 'run_optimize_SPEC560_spectrophotom_23Jun25-22.43_result.h5',\n",
       " 'run_optimize_SPEC560_spectrophotom_23Jun26-11.15_result.h5',\n",
       " 'run_optimize_dynesty_SPEC560_spectrophotom_23Jun24-05.20_result.h5',\n",
       " 'run_optimize_dynesty_SPEC560_spectrophotom_23Jun25-23.09_result.h5',\n",
       " 'run_optimize_dynesty_SPEC560_spectrophotom_23Jun26-11.27_result.h5',\n",
       " 'run_optimize_emcee_SPEC560_spectrophotom_23Jun24-05.09_result.h5',\n",
       " 'run_optimize_emcee_SPEC560_spectrophotom_23Jun25-22.52_result.h5',\n",
       " 'run_optimize_emcee_SPEC560_spectrophotom_23Jun26-11.19_result.h5']"
      ]
     },
     "execution_count": 7,
     "metadata": {},
     "output_type": "execute_result"
    }
   ],
   "source": [
    "all_files = sorted(all_files)\n",
    "all_files"
   ]
  },
  {
   "cell_type": "code",
   "execution_count": 8,
   "metadata": {},
   "outputs": [],
   "source": [
    "file_idx=5"
   ]
  },
  {
   "cell_type": "code",
   "execution_count": 9,
   "metadata": {
    "tags": []
   },
   "outputs": [
    {
     "data": {
      "text/plain": [
       "'output/spectrophotom/SPEC560/run_optimize_dynesty_SPEC560_spectrophotom_23Jun26-11.27_result.h5'"
      ]
     },
     "execution_count": 9,
     "metadata": {},
     "output_type": "execute_result"
    }
   ],
   "source": [
    "filename = os.path.join(output_path,all_files[file_idx])\n",
    "filename"
   ]
  },
  {
   "cell_type": "code",
   "execution_count": 10,
   "metadata": {},
   "outputs": [],
   "source": [
    "test = re.findall(\"dynesty\",filename)\n",
    "if len(test)>0:\n",
    "    results_type = \"dynesty\"\n",
    "test = re.findall(\"emcee\",filename)\n",
    "if len(test)>0:\n",
    "    results_type = \"emcee\""
   ]
  },
  {
   "cell_type": "code",
   "execution_count": 11,
   "metadata": {},
   "outputs": [
    {
     "data": {
      "text/plain": [
       "'dynesty'"
      ]
     },
     "execution_count": 11,
     "metadata": {},
     "output_type": "execute_result"
    }
   ],
   "source": [
    "results_type"
   ]
  },
  {
   "cell_type": "code",
   "execution_count": 13,
   "metadata": {
    "tags": []
   },
   "outputs": [
    {
     "ename": "KeyError",
     "evalue": "'run_params'",
     "output_type": "error",
     "traceback": [
      "\u001b[0;31m---------------------------------------------------------------------------\u001b[0m",
      "\u001b[0;31mKeyError\u001b[0m                                  Traceback (most recent call last)",
      "Cell \u001b[0;32mIn[13], line 6\u001b[0m\n\u001b[1;32m      1\u001b[0m \u001b[38;5;28;01mimport\u001b[39;00m \u001b[38;5;21;01mprospect\u001b[39;00m\u001b[38;5;21;01m.\u001b[39;00m\u001b[38;5;21;01mio\u001b[39;00m\u001b[38;5;21;01m.\u001b[39;00m\u001b[38;5;21;01mread_results\u001b[39;00m \u001b[38;5;28;01mas\u001b[39;00m \u001b[38;5;21;01mreader\u001b[39;00m\n\u001b[1;32m      2\u001b[0m \u001b[38;5;66;03m#results_type = \"emcee\" # | \"dynesty\"\u001b[39;00m\n\u001b[1;32m      3\u001b[0m \u001b[38;5;66;03m#results_type = \"dynesty\" # | \"dynesty\"\u001b[39;00m\n\u001b[1;32m      4\u001b[0m \u001b[38;5;66;03m# grab results (dictionary), the obs dictionary, and our corresponding models\u001b[39;00m\n\u001b[1;32m      5\u001b[0m \u001b[38;5;66;03m# When using parameter files set `dangerous=True`\u001b[39;00m\n\u001b[0;32m----> 6\u001b[0m result, obs, model \u001b[38;5;241m=\u001b[39m \u001b[43mreader\u001b[49m\u001b[38;5;241;43m.\u001b[39;49m\u001b[43mresults_from\u001b[49m\u001b[43m(\u001b[49m\u001b[43mfilename\u001b[49m\u001b[43m,\u001b[49m\u001b[43m \u001b[49m\u001b[43mdangerous\u001b[49m\u001b[38;5;241;43m=\u001b[39;49m\u001b[38;5;28;43;01mTrue\u001b[39;49;00m\u001b[43m)\u001b[49m\n\u001b[1;32m      8\u001b[0m \u001b[38;5;66;03m#The following commented lines reconstruct the model and sps object, \u001b[39;00m\n\u001b[1;32m      9\u001b[0m \u001b[38;5;66;03m# if a parameter file continaing the `build_*` methods was saved along with the results\u001b[39;00m\n\u001b[1;32m     10\u001b[0m model \u001b[38;5;241m=\u001b[39m reader\u001b[38;5;241m.\u001b[39mget_model(result)\n",
      "File \u001b[0;32m/pbs/throng/lsst/users/dagoret/desc/JAX2023/miniconda3/envs/prospector/lib/python3.10/site-packages/prospect/io/read_results.py:88\u001b[0m, in \u001b[0;36mresults_from\u001b[0;34m(filename, model_file, dangerous, **kwargs)\u001b[0m\n\u001b[1;32m     86\u001b[0m \u001b[38;5;28;01melse\u001b[39;00m:\n\u001b[1;32m     87\u001b[0m     mname \u001b[38;5;241m=\u001b[39m model_file\n\u001b[0;32m---> 88\u001b[0m param_file \u001b[38;5;241m=\u001b[39m (\u001b[43mres\u001b[49m\u001b[43m[\u001b[49m\u001b[38;5;124;43m'\u001b[39;49m\u001b[38;5;124;43mrun_params\u001b[39;49m\u001b[38;5;124;43m'\u001b[39;49m\u001b[43m]\u001b[49m\u001b[38;5;241m.\u001b[39mget(\u001b[38;5;124m'\u001b[39m\u001b[38;5;124mparam_file\u001b[39m\u001b[38;5;124m'\u001b[39m, \u001b[38;5;124m'\u001b[39m\u001b[38;5;124m'\u001b[39m),\n\u001b[1;32m     89\u001b[0m               res\u001b[38;5;241m.\u001b[39mget(\u001b[38;5;124m\"\u001b[39m\u001b[38;5;124mparamfile_text\u001b[39m\u001b[38;5;124m\"\u001b[39m, \u001b[38;5;124m'\u001b[39m\u001b[38;5;124m'\u001b[39m))\n\u001b[1;32m     90\u001b[0m model, powell_results \u001b[38;5;241m=\u001b[39m read_model(mname, param_file\u001b[38;5;241m=\u001b[39mparam_file,\n\u001b[1;32m     91\u001b[0m                                    dangerous\u001b[38;5;241m=\u001b[39mdangerous, \u001b[38;5;241m*\u001b[39m\u001b[38;5;241m*\u001b[39mkwargs)\n\u001b[1;32m     92\u001b[0m \u001b[38;5;28;01mif\u001b[39;00m dangerous:\n",
      "\u001b[0;31mKeyError\u001b[0m: 'run_params'"
     ]
    }
   ],
   "source": [
    "import prospect.io.read_results as reader\n",
    "#results_type = \"emcee\" # | \"dynesty\"\n",
    "#results_type = \"dynesty\" # | \"dynesty\"\n",
    "# grab results (dictionary), the obs dictionary, and our corresponding models\n",
    "# When using parameter files set `dangerous=True`\n",
    "result, obs, model = reader.results_from(filename, dangerous=True)\n",
    "\n",
    "#The following commented lines reconstruct the model and sps object, \n",
    "# if a parameter file continaing the `build_*` methods was saved along with the results\n",
    "model = reader.get_model(result)\n",
    "sps = reader.get_sps(result)\n",
    "\n",
    "# let's look at what's stored in the `result` dictionary\n",
    "print(result.keys())"
   ]
  },
  {
   "cell_type": "code",
   "execution_count": null,
   "metadata": {},
   "outputs": [],
   "source": [
    "result['theta_labels']"
   ]
  },
  {
   "cell_type": "code",
   "execution_count": null,
   "metadata": {},
   "outputs": [],
   "source": [
    "result['bestfit']"
   ]
  },
  {
   "cell_type": "code",
   "execution_count": null,
   "metadata": {},
   "outputs": [],
   "source": [
    "obs"
   ]
  },
  {
   "cell_type": "code",
   "execution_count": null,
   "metadata": {},
   "outputs": [],
   "source": [
    "plt.plot(obs['wavelength'],obs[\"spectrum\"],'g-')\n",
    "plt.plot(obs['phot_wave'],obs[\"maggies\"],'or')"
   ]
  },
  {
   "cell_type": "code",
   "execution_count": null,
   "metadata": {},
   "outputs": [],
   "source": [
    "result['theta_labels']"
   ]
  },
  {
   "cell_type": "code",
   "execution_count": null,
   "metadata": {
    "tags": []
   },
   "outputs": [],
   "source": [
    "result['bestfit']['parameter']"
   ]
  },
  {
   "cell_type": "code",
   "execution_count": null,
   "metadata": {},
   "outputs": [],
   "source": [
    "best = result['bestfit']"
   ]
  },
  {
   "cell_type": "code",
   "execution_count": null,
   "metadata": {},
   "outputs": [],
   "source": [
    "all_param_dict = {}\n",
    "idx=0\n",
    "for key in result['theta_labels']:\n",
    "    all_param_dict[key] = result['bestfit']['parameter'][idx]\n",
    "    idx+=1\n",
    "all_param_dict    "
   ]
  },
  {
   "cell_type": "code",
   "execution_count": null,
   "metadata": {},
   "outputs": [],
   "source": [
    "model.fixed_params"
   ]
  },
  {
   "cell_type": "code",
   "execution_count": null,
   "metadata": {},
   "outputs": [],
   "source": [
    "model.free_params"
   ]
  },
  {
   "cell_type": "code",
   "execution_count": null,
   "metadata": {},
   "outputs": [],
   "source": [
    "#result['run_params']"
   ]
  },
  {
   "cell_type": "code",
   "execution_count": null,
   "metadata": {},
   "outputs": [],
   "source": [
    "for the_dict in result['model_params']:\n",
    "    if not the_dict['isfree']:\n",
    "        all_param_dict[the_dict['name']] = the_dict['init']"
   ]
  },
  {
   "cell_type": "code",
   "execution_count": null,
   "metadata": {},
   "outputs": [],
   "source": [
    "sps.update(**all_param_dict)"
   ]
  },
  {
   "cell_type": "code",
   "execution_count": null,
   "metadata": {},
   "outputs": [],
   "source": [
    "sps.params"
   ]
  },
  {
   "cell_type": "code",
   "execution_count": null,
   "metadata": {},
   "outputs": [],
   "source": [
    "zred = sps.params['zred']\n",
    "a= 1+zred"
   ]
  },
  {
   "cell_type": "code",
   "execution_count": null,
   "metadata": {},
   "outputs": [],
   "source": [
    "spectr  = sps.get_spectrum()[0]"
   ]
  },
  {
   "cell_type": "code",
   "execution_count": null,
   "metadata": {},
   "outputs": [],
   "source": [
    "plt.loglog(sps.wavelengths*a,spectr/a,'k-')\n",
    "plt.axvline(3646,color='k')\n",
    "plt.plot(obs['wavelength'],obs[\"spectrum\"],'g-',lw=3)\n",
    "plt.plot(obs['phot_wave'],obs[\"maggies\"],'or',ms=2)"
   ]
  },
  {
   "cell_type": "markdown",
   "metadata": {},
   "source": [
    "## Plotting parameter traces\n",
    "To see how our MCMC samples look, we can examine a few traces (that is, the evolution of the parameter value with iteration in the MCMC chain.)  You can use these plots (and the chains more generally) to assess whether the MCMC has converged, or if you need to sample for more iterations."
   ]
  },
  {
   "cell_type": "code",
   "execution_count": null,
   "metadata": {
    "tags": []
   },
   "outputs": [],
   "source": [
    "if results_type == \"emcee\":\n",
    "    chosen = np.random.choice(result[\"run_params\"][\"nwalkers\"], size=10, replace=False)\n",
    "    tracefig = reader.traceplot(result, figsize=(20,10), chains=chosen)\n",
    "else:\n",
    "    tracefig = reader.traceplot(result, figsize=(20,10))\n"
   ]
  },
  {
   "cell_type": "code",
   "execution_count": null,
   "metadata": {
    "tags": []
   },
   "outputs": [],
   "source": [
    "# Trace plots\n",
    "tfig = reader.traceplot(result)\n",
    "# Corner figure of posterior PDFs\n",
    "cfig = reader.subcorner(result)\n"
   ]
  },
  {
   "cell_type": "code",
   "execution_count": null,
   "metadata": {
    "tags": []
   },
   "outputs": [],
   "source": [
    "# Maximum posterior probability sample\n",
    "imax = np.argmax(result['lnprobability'])\n",
    "csz = result[\"chain\"].shape\n",
    "if result[\"chain\"].ndim > 2:\n",
    "    # emcee\n",
    "    i, j = np.unravel_index(imax, result['lnprobability'].shape)\n",
    "    theta_max = result['chain'][i, j, :].copy()\n",
    "    flatchain = result[\"chain\"].reshape(csz[0] * csz[1], csz[2])\n",
    "else:\n",
    "    # dynesty\n",
    "    theta_max = result['chain'][imax, :].copy()\n",
    "    flatchain = result[\"chain\"]\n",
    "\n",
    "# 16th, 50th, and 84th percentiles of the posterior\n",
    "from prospect.plotting.corner import quantile\n",
    "weights = result.get(\"weights\", None)\n",
    "post_pcts = quantile(flatchain.T, q=[0.16, 0.50, 0.84], weights=weights)"
   ]
  },
  {
   "cell_type": "code",
   "execution_count": null,
   "metadata": {
    "tags": []
   },
   "outputs": [],
   "source": [
    "# Plot the stored maximum ln-probability sample\n",
    "import matplotlib.pyplot as pl\n",
    "\n",
    "best = result[\"bestfit\"]\n",
    "a = model.params[\"zred\"] + 1\n",
    "#pl.plot(a * best[\"restframe_wavelengths\"], best['spectrum'], label=\"MAP spectrum\")\n",
    "pl.plot(obs[\"wavelength\"], best['spectrum'], label=\"MAP spectrum\")\n",
    "pl.plot(obs[\"wavelength\"], obs['spectrum'], label=\"obs spectrum\")\n",
    "if obs['filters'] is not None:\n",
    "    pwave = [f.wave_effective for f in obs[\"filters\"]]\n",
    "    pl.loglog(pwave, best['photometry'],'o' ,label=\"MAP photometry\")\n",
    "    pl.title(best[\"parameter\"])\n",
    "pl.legend()\n"
   ]
  },
  {
   "cell_type": "code",
   "execution_count": null,
   "metadata": {},
   "outputs": [],
   "source": [
    "best"
   ]
  },
  {
   "cell_type": "markdown",
   "metadata": {},
   "source": [
    "## Making a corner plot\n",
    "Our samples more generally can be shown using a corner/triangle plot.  The `subtriangle()` method below is a very thin wrapper on Dan Foreman-Mackey's **corner.py** code.  We'll overplot the MAP value as blue lines."
   ]
  },
  {
   "cell_type": "code",
   "execution_count": null,
   "metadata": {},
   "outputs": [],
   "source": [
    "#ind_best = np.argmin([r.cost for r in result])\n",
    "#print(ind_best)\n",
    "theta_best = best['parameter']\n",
    "print(theta_best)\n",
    "\n",
    "# generate model\n",
    "prediction = model.mean_model(theta_best, obs=obs, sps=sps)\n",
    "pspec, pphot, pfrac = prediction\n"
   ]
  },
  {
   "cell_type": "code",
   "execution_count": null,
   "metadata": {},
   "outputs": [],
   "source": [
    "# maximum a posteriori (of the locations visited by the MCMC sampler)\n",
    "imax = np.argmax(result['lnprobability'])\n",
    "if results_type == \"emcee\":\n",
    "    i, j = np.unravel_index(imax, result['lnprobability'].shape)\n",
    "    theta_max = result['chain'][i, j, :].copy()\n",
    "    thin = 5\n",
    "else:\n",
    "    theta_max = result[\"chain\"][imax, :]\n",
    "    thin = 1\n",
    "\n",
    "#print('Optimization value: {}'.format(theta_best))\n",
    "print('MAP value: {}'.format(theta_max))\n",
    "cornerfig = reader.subcorner(result, start=0, thin=thin, truths=theta_best, \n",
    "                             fig=pl.subplots(5,5,figsize=(27,27))[0])"
   ]
  },
  {
   "cell_type": "markdown",
   "metadata": {},
   "source": [
    "## Look at SEDs and residuals\n",
    "Finally, let's just take a look at a random model drawn from our chains, and at the highest posterior probability model in the chain.  In this notebook we already have the `sps` object instantiated, but in general we may have to regenerate it based on information stored in the output file using the `prospect.io.read_results.get_sps` method."
   ]
  },
  {
   "cell_type": "code",
   "execution_count": null,
   "metadata": {},
   "outputs": [],
   "source": [
    "obs = result[\"obs\"]\n",
    "obs"
   ]
  },
  {
   "cell_type": "code",
   "execution_count": null,
   "metadata": {},
   "outputs": [],
   "source": [
    "a = 1.0 + model.params.get('zred', 0.0) # cosmological redshifting\n",
    "# photometric effective wavelengths\n",
    "wphot = obs[\"phot_wave\"]\n",
    "# spectroscopic wavelengths\n",
    "if obs[\"wavelength\"] is None:\n",
    "    # *restframe* spectral wavelengths, since obs[\"wavelength\"] is None\n",
    "    wspec = sps.wavelengths\n",
    "    wspec *= a #redshift them\n",
    "else:\n",
    "    wspec = obs[\"wavelength\"]"
   ]
  },
  {
   "cell_type": "code",
   "execution_count": null,
   "metadata": {},
   "outputs": [],
   "source": [
    "wspec.shape"
   ]
  },
  {
   "cell_type": "code",
   "execution_count": null,
   "metadata": {},
   "outputs": [],
   "source": [
    "wphot.shape"
   ]
  },
  {
   "cell_type": "code",
   "execution_count": null,
   "metadata": {},
   "outputs": [],
   "source": [
    "run_params = result[\"run_params\"]\n",
    "run_params"
   ]
  },
  {
   "cell_type": "code",
   "execution_count": null,
   "metadata": {},
   "outputs": [],
   "source": [
    "import matplotlib.pyplot as plt\n",
    "\n",
    "# randomly chosen parameters from chain\n",
    "randint = np.random.randint\n",
    "if results_type == \"emcee\":\n",
    "    nwalkers, niter = run_params['nwalkers'], run_params['niter']\n",
    "    theta = result['chain'][randint(nwalkers), randint(niter)]\n",
    "else:\n",
    "    theta = result[\"chain\"][randint(len(result[\"chain\"]))]\n",
    "\n",
    "# generate models\n",
    "# sps = reader.get_sps(result)  # this works if using parameter files\n",
    "mspec, mphot, mextra = model.mean_model(theta, obs, sps=sps)\n",
    "mspec_map, mphot_map, _ = model.mean_model(theta_max, obs, sps=sps)\n",
    "\n",
    "\n",
    "# establish bounds\n",
    "xmin, xmax = np.min(wphot)*0.8, np.max(wphot)/0.8\n",
    "temp = np.interp(np.linspace(xmin,xmax,10000), wspec, mspec_map)\n",
    "ymin, ymax = temp.min()*0.8, temp.max()/0.4\n",
    "\n",
    "# Make plot of data and model\n",
    "plt.figure(figsize=(16,8))\n",
    "\n",
    "#plt.loglog(wspec, mspec, label='Model spectrum (random draw)',\n",
    "#       lw=0.7, color='green', alpha=0.7)\n",
    "plt.loglog(wspec, mspec_map, label='Model spectrum (MAP)',\n",
    "       lw=0.7, color='navy', alpha=0.7)\n",
    "#plt.errorbar(wphot, mphot, label='Model photometry (random draw)',\n",
    "#         marker='s', markersize=10, alpha=0.8, ls='', lw=3, \n",
    "#         markerfacecolor='none', markeredgecolor='green', \n",
    "#         markeredgewidth=3)\n",
    "plt.errorbar(wphot, mphot_map, label='Model photometry (MAP)',\n",
    "         marker='s', markersize=10, alpha=0.8, ls='', lw=3, \n",
    "         markerfacecolor='none', markeredgecolor='blue', \n",
    "         markeredgewidth=3)\n",
    "plt.errorbar(wphot, obs['maggies'], yerr=obs['maggies_unc'], \n",
    "         label='Observed photometry', ecolor='red', \n",
    "         marker='o', markersize=10, ls='', lw=3, alpha=0.8, \n",
    "         markerfacecolor='none', markeredgecolor='red', \n",
    "         markeredgewidth=3)\n",
    "\n",
    "# plot transmission curves\n",
    "for f in obs['filters']:\n",
    "    w, t = f.wavelength.copy(), f.transmission.copy()\n",
    "    t = t / t.max()\n",
    "    t = 10**(0.2*(np.log10(ymax/ymin)))*t * ymin\n",
    "    plt.loglog(w, t, lw=3, color='gray', alpha=0.7)\n",
    "\n",
    "plt.xlabel('Wavelength [A]')\n",
    "plt.ylabel('Flux Density [maggies]')\n",
    "plt.xlim([xmin, xmax])\n",
    "plt.ylim([ymin, ymax])\n",
    "plt.legend(loc='best', fontsize=20)\n",
    "plt.tight_layout()\n",
    "plt.axvline(3646)\n",
    "#plt.loglog(sps.wavelengths*a,sps.get_spectrum()[0])"
   ]
  },
  {
   "cell_type": "code",
   "execution_count": null,
   "metadata": {},
   "outputs": [],
   "source": []
  }
 ],
 "metadata": {
  "anaconda-cloud": {},
  "celltoolbar": "Raw Cell Format",
  "kernelspec": {
   "display_name": "conda_prospector_py310",
   "language": "python",
   "name": "conda_prospector_py310"
  },
  "language_info": {
   "codemirror_mode": {
    "name": "ipython",
    "version": 3
   },
   "file_extension": ".py",
   "mimetype": "text/x-python",
   "name": "python",
   "nbconvert_exporter": "python",
   "pygments_lexer": "ipython3",
   "version": "3.10.0"
  },
  "toc": {
   "nav_menu": {
    "height": "413px",
    "width": "290px"
   },
   "number_sections": true,
   "sideBar": true,
   "skip_h1_title": false,
   "toc_cell": false,
   "toc_position": {},
   "toc_section_display": "block",
   "toc_window_display": false
  }
 },
 "nbformat": 4,
 "nbformat_minor": 4
}
