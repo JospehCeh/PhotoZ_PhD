{
 "cells": [
  {
   "cell_type": "markdown",
   "metadata": {},
   "source": [
    "# Interactive Demo for Fors2 with Spectro Photometry to Read results\n",
    "\n",
    "\n",
    "\n",
    "- author (adaptation) : Sylvie Dagoret-Campagne\n",
    "- creation date : 2023-06-16\n",
    "- last update : 2023-06-26\n",
    "\n",
    "\n",
    "https://github.com/bd-j/prospector/blob/main/demo/tutorial.rst"
   ]
  },
  {
   "cell_type": "markdown",
   "metadata": {},
   "source": [
    "# Visualizing the Results\n",
    "There are a few basic plotting tools available to do a quick check on the results available in `prospect.io.read_results` and `prospect.utils.plotting`. But first we need to read the output files we made."
   ]
  },
  {
   "cell_type": "markdown",
   "metadata": {},
   "source": [
    "## Reading output files\n",
    "Reading our results from our HDF5 file is straightforward using the `results_from` method.  This returns a \"results\" dictionary, the `obs` dictionary of data to which the model was fit, and in some situations the `SedModel` object that was used in the fitting.\n",
    "\n",
    "In this example we will look at the *emcee* results file that we created, but you can do the same for the *dynesty* results file.  The main difference is that the chains for each fit type have a different dimensionality, and that the samples in the *dynesty* chains come with associated **weights**.  The weights and different shapes are handled automatically by the plotting functions included in *prospector*, but custom plotting code should take care of the difference.\n",
    "\n",
    "In this notebook we have already defined the `model` (and `sps`) object, but in general one will want to recreate it.  *Prospector* allows you to do this by storing the `build_model` and `build_sps` code as text in the HDF5 file -- this is possible with the use of *parameter files* and command line operation."
   ]
  },
  {
   "cell_type": "code",
   "execution_count": 1,
   "metadata": {
    "tags": []
   },
   "outputs": [],
   "source": [
    "import numpy as np\n",
    "import re\n",
    "import os"
   ]
  },
  {
   "cell_type": "code",
   "execution_count": 2,
   "metadata": {},
   "outputs": [],
   "source": [
    "import matplotlib.pyplot as plt\n",
    "from matplotlib import rcParams\n",
    "\n",
    "from matplotlib import cm\n",
    "from matplotlib.colors import ListedColormap, LinearSegmentedColormap"
   ]
  },
  {
   "cell_type": "code",
   "execution_count": 3,
   "metadata": {},
   "outputs": [
    {
     "name": "stdout",
     "output_type": "stream",
     "text": [
      "\u001b[1m\u001b[31mSPEC36\u001b[m\u001b[m  \u001b[1m\u001b[31mSPEC411\u001b[m\u001b[m \u001b[1m\u001b[31mSPEC560\u001b[m\u001b[m\n"
     ]
    }
   ],
   "source": [
    "!ls output/spectrophotom"
   ]
  },
  {
   "cell_type": "code",
   "execution_count": 4,
   "metadata": {},
   "outputs": [],
   "source": [
    "SPECNUM=560\n",
    "SPECNAME=f\"SPEC{SPECNUM}\""
   ]
  },
  {
   "cell_type": "code",
   "execution_count": 5,
   "metadata": {},
   "outputs": [],
   "source": [
    "output_path=os.path.join(\"output/spectrophotom\",SPECNAME)"
   ]
  },
  {
   "cell_type": "code",
   "execution_count": 6,
   "metadata": {},
   "outputs": [],
   "source": [
    "all_files = os.listdir(output_path)"
   ]
  },
  {
   "cell_type": "code",
   "execution_count": 7,
   "metadata": {},
   "outputs": [
    {
     "data": {
      "text/plain": [
       "['run_optimize_SPEC560_spectrophotom_23Jun24-05.02_result.h5',\n",
       " 'run_optimize_SPEC560_spectrophotom_23Jun25-22.43_result.h5',\n",
       " 'run_optimize_dynesty_SPEC560_spectrophotom_23Jun24-05.20_result.h5',\n",
       " 'run_optimize_dynesty_SPEC560_spectrophotom_23Jun25-23.09_result.h5',\n",
       " 'run_optimize_dynesty_SPEC560_spectrophotom_23Jun26-11.27_result.h5',\n",
       " 'run_optimize_emcee_SPEC560_spectrophotom_23Jun24-05.09_result.h5',\n",
       " 'run_optimize_emcee_SPEC560_spectrophotom_23Jun25-22.52_result.h5',\n",
       " 'run_optimize_emcee_SPEC560_spectrophotom_23Jun26-11.19_result.h5']"
      ]
     },
     "execution_count": 7,
     "metadata": {},
     "output_type": "execute_result"
    }
   ],
   "source": [
    "all_files = sorted(all_files)\n",
    "all_files"
   ]
  },
  {
   "cell_type": "code",
   "execution_count": 13,
   "metadata": {},
   "outputs": [],
   "source": [
    "file_idx=5"
   ]
  },
  {
   "cell_type": "code",
   "execution_count": 14,
   "metadata": {
    "tags": []
   },
   "outputs": [
    {
     "data": {
      "text/plain": [
       "'output/spectrophotom/SPEC560/run_optimize_emcee_SPEC560_spectrophotom_23Jun24-05.09_result.h5'"
      ]
     },
     "execution_count": 14,
     "metadata": {},
     "output_type": "execute_result"
    }
   ],
   "source": [
    "filename = os.path.join(output_path,all_files[file_idx])\n",
    "filename"
   ]
  },
  {
   "cell_type": "code",
   "execution_count": 15,
   "metadata": {},
   "outputs": [],
   "source": [
    "test = re.findall(\"dynesty\",filename)\n",
    "if len(test)>0:\n",
    "    results_type = \"dynesty\"\n",
    "test = re.findall(\"emcee\",filename)\n",
    "if len(test)>0:\n",
    "    results_type = \"emcee\""
   ]
  },
  {
   "cell_type": "code",
   "execution_count": 16,
   "metadata": {},
   "outputs": [
    {
     "data": {
      "text/plain": [
       "'emcee'"
      ]
     },
     "execution_count": 16,
     "metadata": {},
     "output_type": "execute_result"
    }
   ],
   "source": [
    "results_type"
   ]
  },
  {
   "cell_type": "code",
   "execution_count": 17,
   "metadata": {
    "tags": []
   },
   "outputs": [
    {
     "name": "stdout",
     "output_type": "stream",
     "text": [
      "dict_keys(['model_params', 'optimizer_duration', 'paramfile_text', 'prospector_version', 'run_params', 'acceptance', 'chain', 'initial_theta', 'lnprobability', 'sampling_initial_center', 'rstate', 'sampling_duration', 'theta_labels', 'bestfit', 'optimization', 'obs', 'model'])\n"
     ]
    }
   ],
   "source": [
    "import prospect.io.read_results as reader\n",
    "#results_type = \"emcee\" # | \"dynesty\"\n",
    "#results_type = \"dynesty\" # | \"dynesty\"\n",
    "# grab results (dictionary), the obs dictionary, and our corresponding models\n",
    "# When using parameter files set `dangerous=True`\n",
    "result, obs, model = reader.results_from(filename, dangerous=False)\n",
    "\n",
    "#The following commented lines reconstruct the model and sps object, \n",
    "# if a parameter file continaing the `build_*` methods was saved along with the results\n",
    "model = reader.get_model(result)\n",
    "sps = reader.get_sps(result)\n",
    "\n",
    "# let's look at what's stored in the `result` dictionary\n",
    "print(result.keys())"
   ]
  },
  {
   "cell_type": "code",
   "execution_count": 18,
   "metadata": {},
   "outputs": [
    {
     "data": {
      "text/plain": [
       "['mass', 'logzsol', 'dust2', 'tage', 'tau']"
      ]
     },
     "execution_count": 18,
     "metadata": {},
     "output_type": "execute_result"
    }
   ],
   "source": [
    "result['theta_labels']"
   ]
  },
  {
   "cell_type": "code",
   "execution_count": 19,
   "metadata": {},
   "outputs": [
    {
     "data": {
      "text/plain": [
       "{'parameter': array([ 9.99899190e+09, -2.46844595e-01,  1.99941243e+00,  2.21348014e-01,\n",
       "         1.40931382e+00]),\n",
       " 'photometry': array([4.14132241e-09, 1.27209154e-08, 2.87832813e-08, 6.31292028e-08,\n",
       "        9.40748365e-08, 1.19196169e-07, 1.53846774e-07, 2.36630639e-07,\n",
       "        2.97945431e-07, 3.29870380e-07]),\n",
       " 'spectrum': array([6.29178114e-08, 6.34822022e-08, 6.63907099e-08, ...,\n",
       "        1.67605046e-07, 1.67520632e-07, 1.67436217e-07]),\n",
       " 'mfrac': 0.8228304886776905}"
      ]
     },
     "execution_count": 19,
     "metadata": {},
     "output_type": "execute_result"
    }
   ],
   "source": [
    "result['bestfit']"
   ]
  },
  {
   "cell_type": "code",
   "execution_count": 20,
   "metadata": {},
   "outputs": [
    {
     "data": {
      "text/plain": [
       "{'maggies': array([           nan, 1.30753343e-09, 6.91797185e-09, 3.88481845e-08,\n",
       "        9.76129176e-08, 1.44100240e-07, 1.99241117e-07, 3.01910512e-07,\n",
       "        3.62872604e-07, 3.68948275e-07]),\n",
       " 'maggies_unc': array([           nan, 5.55556343e-10, 1.57178822e-10, 5.32166890e-11,\n",
       "        6.17864692e-11, 2.29440777e-10, 2.44571917e-10, 4.96677271e-10,\n",
       "        9.32728977e-10, 1.04764970e-09]),\n",
       " 'mask': array([ True,  True,  True, ...,  True,  True,  True]),\n",
       " 'phot_mask': array([False,  True,  True,  True,  True,  True,  True,  True,  True,\n",
       "         True]),\n",
       " 'phot_wave': array([ 1528.05975153,  2271.12579359,  3546.00063828,  4669.59393552,\n",
       "         6155.68605117,  7471.57138923,  8766.25131235, 12504.97216854,\n",
       "        16388.56221018, 21452.83223588]),\n",
       " 'spectrum': array([2.94115399e-08, 2.88678420e-08, 2.74446438e-08, ...,\n",
       "        2.28121387e-07, 2.30011258e-07, 2.28699652e-07]),\n",
       " 'unc': array([6.82013776e-08, 6.87450755e-08, 7.01682738e-08, ...,\n",
       "        1.30508469e-07, 1.32398341e-07, 1.31086735e-07]),\n",
       " 'wavelength': array([4505.439998, 4508.799998, 4512.159998, ..., 9243.03985 ,\n",
       "        9246.39985 , 9249.75985 ]),\n",
       " 'filternames': ['galex_FUV',\n",
       "  'galex_NUV',\n",
       "  'sdss_u0',\n",
       "  'sdss_g0',\n",
       "  'sdss_r0',\n",
       "  'sdss_i0',\n",
       "  'vista_vircam_Z',\n",
       "  'vista_vircam_J',\n",
       "  'vista_vircam_H',\n",
       "  'vista_vircam_Ks'],\n",
       " 'filters': [<class 'sedpy.observate.Filter'>(galex_FUV),\n",
       "  <class 'sedpy.observate.Filter'>(galex_NUV),\n",
       "  <class 'sedpy.observate.Filter'>(sdss_u0),\n",
       "  <class 'sedpy.observate.Filter'>(sdss_g0),\n",
       "  <class 'sedpy.observate.Filter'>(sdss_r0),\n",
       "  <class 'sedpy.observate.Filter'>(sdss_i0),\n",
       "  <class 'sedpy.observate.Filter'>(vista_vircam_Z),\n",
       "  <class 'sedpy.observate.Filter'>(vista_vircam_J),\n",
       "  <class 'sedpy.observate.Filter'>(vista_vircam_H),\n",
       "  <class 'sedpy.observate.Filter'>(vista_vircam_Ks)],\n",
       " 'logify_spectrum': False,\n",
       " 'ndof': 1421,\n",
       " 'objid': 560}"
      ]
     },
     "execution_count": 20,
     "metadata": {},
     "output_type": "execute_result"
    }
   ],
   "source": [
    "obs"
   ]
  },
  {
   "cell_type": "code",
   "execution_count": 21,
   "metadata": {},
   "outputs": [
    {
     "data": {
      "text/plain": [
       "[<matplotlib.lines.Line2D at 0x19a0e9060>]"
      ]
     },
     "execution_count": 21,
     "metadata": {},
     "output_type": "execute_result"
    },
    {
     "data": {
      "image/png": "[encoded data removed]",
      "text/plain": [
       "<Figure size 640x480 with 1 Axes>"
      ]
     },
     "metadata": {},
     "output_type": "display_data"
    }
   ],
   "source": [
    "plt.plot(obs['wavelength'],obs[\"spectrum\"],'g-')\n",
    "plt.plot(obs['phot_wave'],obs[\"maggies\"],'or')"
   ]
  },
  {
   "cell_type": "code",
   "execution_count": 22,
   "metadata": {},
   "outputs": [
    {
     "data": {
      "text/plain": [
       "['mass', 'logzsol', 'dust2', 'tage', 'tau']"
      ]
     },
     "execution_count": 22,
     "metadata": {},
     "output_type": "execute_result"
    }
   ],
   "source": [
    "result['theta_labels']"
   ]
  },
  {
   "cell_type": "code",
   "execution_count": 23,
   "metadata": {
    "tags": []
   },
   "outputs": [
    {
     "data": {
      "text/plain": [
       "array([ 9.99899190e+09, -2.46844595e-01,  1.99941243e+00,  2.21348014e-01,\n",
       "        1.40931382e+00])"
      ]
     },
     "execution_count": 23,
     "metadata": {},
     "output_type": "execute_result"
    }
   ],
   "source": [
    "result['bestfit']['parameter']"
   ]
  },
  {
   "cell_type": "code",
   "execution_count": 24,
   "metadata": {},
   "outputs": [],
   "source": [
    "best = result['bestfit']"
   ]
  },
  {
   "cell_type": "code",
   "execution_count": 25,
   "metadata": {},
   "outputs": [
    {
     "data": {
      "text/plain": [
       "{'mass': 9998991902.145666,\n",
       " 'logzsol': -0.24684459486687854,\n",
       " 'dust2': 1.9994124337299495,\n",
       " 'tage': 0.22134801377594623,\n",
       " 'tau': 1.409313819134494}"
      ]
     },
     "execution_count": 25,
     "metadata": {},
     "output_type": "execute_result"
    }
   ],
   "source": [
    "all_param_dict = {}\n",
    "idx=0\n",
    "for key in result['theta_labels']:\n",
    "    all_param_dict[key] = result['bestfit']['parameter'][idx]\n",
    "    idx+=1\n",
    "all_param_dict    "
   ]
  },
  {
   "cell_type": "code",
   "execution_count": 26,
   "metadata": {},
   "outputs": [
    {
     "data": {
      "text/plain": [
       "['zred', 'sfh', 'imf_type', 'dust_type']"
      ]
     },
     "execution_count": 26,
     "metadata": {},
     "output_type": "execute_result"
    }
   ],
   "source": [
    "model.fixed_params"
   ]
  },
  {
   "cell_type": "code",
   "execution_count": 27,
   "metadata": {},
   "outputs": [
    {
     "data": {
      "text/plain": [
       "['mass', 'logzsol', 'dust2', 'tage', 'tau']"
      ]
     },
     "execution_count": 27,
     "metadata": {},
     "output_type": "execute_result"
    }
   ],
   "source": [
    "model.free_params"
   ]
  },
  {
   "cell_type": "code",
   "execution_count": 28,
   "metadata": {},
   "outputs": [],
   "source": [
    "#result['run_params']"
   ]
  },
  {
   "cell_type": "code",
   "execution_count": 29,
   "metadata": {},
   "outputs": [],
   "source": [
    "for the_dict in result['model_params']:\n",
    "    if not the_dict['isfree']:\n",
    "        all_param_dict[the_dict['name']] = the_dict['init']"
   ]
  },
  {
   "cell_type": "code",
   "execution_count": 30,
   "metadata": {},
   "outputs": [],
   "source": [
    "sps.update(**all_param_dict)"
   ]
  },
  {
   "cell_type": "code",
   "execution_count": 31,
   "metadata": {},
   "outputs": [
    {
     "data": {
      "text/plain": [
       "{'mass': 9998991902.145666,\n",
       " 'logzsol': -0.24684459486687854,\n",
       " 'dust2': 1.9994124337299495,\n",
       " 'tage': 0.22134801377594623,\n",
       " 'tau': 1.409313819134494,\n",
       " 'zred': 0.11731,\n",
       " 'sfh': 4,\n",
       " 'imf_type': 2,\n",
       " 'dust_type': 0}"
      ]
     },
     "execution_count": 31,
     "metadata": {},
     "output_type": "execute_result"
    }
   ],
   "source": [
    "sps.params"
   ]
  },
  {
   "cell_type": "code",
   "execution_count": 32,
   "metadata": {},
   "outputs": [],
   "source": [
    "zred = sps.params['zred']\n",
    "a= 1+zred"
   ]
  },
  {
   "cell_type": "code",
   "execution_count": null,
   "metadata": {},
   "outputs": [],
   "source": [
    "spectr  = sps.get_spectrum()[0]"
   ]
  },
  {
   "cell_type": "code",
   "execution_count": null,
   "metadata": {},
   "outputs": [],
   "source": [
    "plt.loglog(sps.wavelengths*a,spectr/a,'k-')\n",
    "plt.axvline(3646,color='k')\n",
    "plt.plot(obs['wavelength'],obs[\"spectrum\"],'g-',lw=3)\n",
    "plt.plot(obs['phot_wave'],obs[\"maggies\"],'or',ms=2)"
   ]
  },
  {
   "cell_type": "markdown",
   "metadata": {},
   "source": [
    "## Plotting parameter traces\n",
    "To see how our MCMC samples look, we can examine a few traces (that is, the evolution of the parameter value with iteration in the MCMC chain.)  You can use these plots (and the chains more generally) to assess whether the MCMC has converged, or if you need to sample for more iterations."
   ]
  },
  {
   "cell_type": "code",
   "execution_count": null,
   "metadata": {
    "tags": []
   },
   "outputs": [],
   "source": [
    "if results_type == \"emcee\":\n",
    "    chosen = np.random.choice(result[\"run_params\"][\"nwalkers\"], size=10, replace=False)\n",
    "    tracefig = reader.traceplot(result, figsize=(20,10), chains=chosen)\n",
    "else:\n",
    "    tracefig = reader.traceplot(result, figsize=(20,10))\n"
   ]
  },
  {
   "cell_type": "code",
   "execution_count": null,
   "metadata": {
    "tags": []
   },
   "outputs": [],
   "source": [
    "# Trace plots\n",
    "tfig = reader.traceplot(result)\n",
    "# Corner figure of posterior PDFs\n",
    "cfig = reader.subcorner(result)\n"
   ]
  },
  {
   "cell_type": "code",
   "execution_count": null,
   "metadata": {
    "tags": []
   },
   "outputs": [],
   "source": [
    "# Maximum posterior probability sample\n",
    "imax = np.argmax(result['lnprobability'])\n",
    "csz = result[\"chain\"].shape\n",
    "if result[\"chain\"].ndim > 2:\n",
    "    # emcee\n",
    "    i, j = np.unravel_index(imax, result['lnprobability'].shape)\n",
    "    theta_max = result['chain'][i, j, :].copy()\n",
    "    flatchain = result[\"chain\"].reshape(csz[0] * csz[1], csz[2])\n",
    "else:\n",
    "    # dynesty\n",
    "    theta_max = result['chain'][imax, :].copy()\n",
    "    flatchain = result[\"chain\"]\n",
    "\n",
    "# 16th, 50th, and 84th percentiles of the posterior\n",
    "from prospect.plotting.corner import quantile\n",
    "weights = result.get(\"weights\", None)\n",
    "post_pcts = quantile(flatchain.T, q=[0.16, 0.50, 0.84], weights=weights)"
   ]
  },
  {
   "cell_type": "code",
   "execution_count": null,
   "metadata": {
    "tags": []
   },
   "outputs": [],
   "source": [
    "# Plot the stored maximum ln-probability sample\n",
    "import matplotlib.pyplot as pl\n",
    "\n",
    "best = result[\"bestfit\"]\n",
    "a = model.params[\"zred\"] + 1\n",
    "#pl.plot(a * best[\"restframe_wavelengths\"], best['spectrum'], label=\"MAP spectrum\")\n",
    "pl.plot(obs[\"wavelength\"], best['spectrum'], label=\"MAP spectrum\")\n",
    "pl.plot(obs[\"wavelength\"], obs['spectrum'], label=\"obs spectrum\")\n",
    "if obs['filters'] is not None:\n",
    "    pwave = [f.wave_effective for f in obs[\"filters\"]]\n",
    "    pl.loglog(pwave, best['photometry'],'o' ,label=\"MAP photometry\")\n",
    "    pl.title(best[\"parameter\"])\n",
    "pl.legend()\n"
   ]
  },
  {
   "cell_type": "code",
   "execution_count": null,
   "metadata": {},
   "outputs": [],
   "source": [
    "best"
   ]
  },
  {
   "cell_type": "markdown",
   "metadata": {},
   "source": [
    "## Making a corner plot\n",
    "Our samples more generally can be shown using a corner/triangle plot.  The `subtriangle()` method below is a very thin wrapper on Dan Foreman-Mackey's **corner.py** code.  We'll overplot the MAP value as blue lines."
   ]
  },
  {
   "cell_type": "code",
   "execution_count": null,
   "metadata": {},
   "outputs": [],
   "source": [
    "#ind_best = np.argmin([r.cost for r in result])\n",
    "#print(ind_best)\n",
    "theta_best = best['parameter']\n",
    "print(theta_best)\n",
    "\n",
    "# generate model\n",
    "prediction = model.mean_model(theta_best, obs=obs, sps=sps)\n",
    "pspec, pphot, pfrac = prediction\n"
   ]
  },
  {
   "cell_type": "code",
   "execution_count": null,
   "metadata": {},
   "outputs": [],
   "source": [
    "# maximum a posteriori (of the locations visited by the MCMC sampler)\n",
    "imax = np.argmax(result['lnprobability'])\n",
    "if results_type == \"emcee\":\n",
    "    i, j = np.unravel_index(imax, result['lnprobability'].shape)\n",
    "    theta_max = result['chain'][i, j, :].copy()\n",
    "    thin = 5\n",
    "else:\n",
    "    theta_max = result[\"chain\"][imax, :]\n",
    "    thin = 1\n",
    "\n",
    "#print('Optimization value: {}'.format(theta_best))\n",
    "print('MAP value: {}'.format(theta_max))\n",
    "cornerfig = reader.subcorner(result, start=0, thin=thin, truths=theta_best, \n",
    "                             fig=pl.subplots(5,5,figsize=(27,27))[0])"
   ]
  },
  {
   "cell_type": "markdown",
   "metadata": {},
   "source": [
    "## Look at SEDs and residuals\n",
    "Finally, let's just take a look at a random model drawn from our chains, and at the highest posterior probability model in the chain.  In this notebook we already have the `sps` object instantiated, but in general we may have to regenerate it based on information stored in the output file using the `prospect.io.read_results.get_sps` method."
   ]
  },
  {
   "cell_type": "code",
   "execution_count": null,
   "metadata": {},
   "outputs": [],
   "source": [
    "obs = result[\"obs\"]\n",
    "obs"
   ]
  },
  {
   "cell_type": "code",
   "execution_count": null,
   "metadata": {},
   "outputs": [],
   "source": [
    "a = 1.0 + model.params.get('zred', 0.0) # cosmological redshifting\n",
    "# photometric effective wavelengths\n",
    "wphot = obs[\"phot_wave\"]\n",
    "# spectroscopic wavelengths\n",
    "if obs[\"wavelength\"] is None:\n",
    "    # *restframe* spectral wavelengths, since obs[\"wavelength\"] is None\n",
    "    wspec = sps.wavelengths\n",
    "    wspec *= a #redshift them\n",
    "else:\n",
    "    wspec = obs[\"wavelength\"]"
   ]
  },
  {
   "cell_type": "code",
   "execution_count": null,
   "metadata": {},
   "outputs": [],
   "source": [
    "wspec.shape"
   ]
  },
  {
   "cell_type": "code",
   "execution_count": null,
   "metadata": {},
   "outputs": [],
   "source": [
    "wphot.shape"
   ]
  },
  {
   "cell_type": "code",
   "execution_count": null,
   "metadata": {},
   "outputs": [],
   "source": [
    "run_params = result[\"run_params\"]\n",
    "run_params"
   ]
  },
  {
   "cell_type": "code",
   "execution_count": null,
   "metadata": {},
   "outputs": [],
   "source": [
    "import matplotlib.pyplot as plt\n",
    "\n",
    "# randomly chosen parameters from chain\n",
    "randint = np.random.randint\n",
    "if results_type == \"emcee\":\n",
    "    nwalkers, niter = run_params['nwalkers'], run_params['niter']\n",
    "    theta = result['chain'][randint(nwalkers), randint(niter)]\n",
    "else:\n",
    "    theta = result[\"chain\"][randint(len(result[\"chain\"]))]\n",
    "\n",
    "# generate models\n",
    "# sps = reader.get_sps(result)  # this works if using parameter files\n",
    "mspec, mphot, mextra = model.mean_model(theta, obs, sps=sps)\n",
    "mspec_map, mphot_map, _ = model.mean_model(theta_max, obs, sps=sps)\n",
    "\n",
    "\n",
    "# establish bounds\n",
    "xmin, xmax = np.min(wphot)*0.8, np.max(wphot)/0.8\n",
    "temp = np.interp(np.linspace(xmin,xmax,10000), wspec, mspec_map)\n",
    "ymin, ymax = temp.min()*0.8, temp.max()/0.4\n",
    "\n",
    "# Make plot of data and model\n",
    "plt.figure(figsize=(16,8))\n",
    "\n",
    "#plt.loglog(wspec, mspec, label='Model spectrum (random draw)',\n",
    "#       lw=0.7, color='green', alpha=0.7)\n",
    "plt.loglog(wspec, mspec_map, label='Model spectrum (MAP)',\n",
    "       lw=0.7, color='navy', alpha=0.7)\n",
    "#plt.errorbar(wphot, mphot, label='Model photometry (random draw)',\n",
    "#         marker='s', markersize=10, alpha=0.8, ls='', lw=3, \n",
    "#         markerfacecolor='none', markeredgecolor='green', \n",
    "#         markeredgewidth=3)\n",
    "plt.errorbar(wphot, mphot_map, label='Model photometry (MAP)',\n",
    "         marker='s', markersize=10, alpha=0.8, ls='', lw=3, \n",
    "         markerfacecolor='none', markeredgecolor='blue', \n",
    "         markeredgewidth=3)\n",
    "plt.errorbar(wphot, obs['maggies'], yerr=obs['maggies_unc'], \n",
    "         label='Observed photometry', ecolor='red', \n",
    "         marker='o', markersize=10, ls='', lw=3, alpha=0.8, \n",
    "         markerfacecolor='none', markeredgecolor='red', \n",
    "         markeredgewidth=3)\n",
    "\n",
    "# plot transmission curves\n",
    "for f in obs['filters']:\n",
    "    w, t = f.wavelength.copy(), f.transmission.copy()\n",
    "    t = t / t.max()\n",
    "    t = 10**(0.2*(np.log10(ymax/ymin)))*t * ymin\n",
    "    plt.loglog(w, t, lw=3, color='gray', alpha=0.7)\n",
    "\n",
    "plt.xlabel('Wavelength [A]')\n",
    "plt.ylabel('Flux Density [maggies]')\n",
    "plt.xlim([xmin, xmax])\n",
    "plt.ylim([ymin, ymax])\n",
    "plt.legend(loc='best', fontsize=20)\n",
    "plt.tight_layout()\n",
    "plt.axvline(3646)\n",
    "#plt.loglog(sps.wavelengths*a,sps.get_spectrum()[0])"
   ]
  },
  {
   "cell_type": "code",
   "execution_count": null,
   "metadata": {},
   "outputs": [],
   "source": []
  }
 ],
 "metadata": {
  "anaconda-cloud": {},
  "celltoolbar": "Raw Cell Format",
  "kernelspec": {
   "display_name": "Python 3 (ipykernel)",
   "language": "python",
   "name": "python3"
  },
  "language_info": {
   "codemirror_mode": {
    "name": "ipython",
    "version": 3
   },
   "file_extension": ".py",
   "mimetype": "text/x-python",
   "name": "python",
   "nbconvert_exporter": "python",
   "pygments_lexer": "ipython3",
   "version": "3.10.9"
  },
  "toc": {
   "nav_menu": {
    "height": "413px",
    "width": "290px"
   },
   "number_sections": true,
   "sideBar": true,
   "skip_h1_title": false,
   "toc_cell": false,
   "toc_position": {},
   "toc_section_display": "block",
   "toc_window_display": false
  }
 },
 "nbformat": 4,
 "nbformat_minor": 4
}
