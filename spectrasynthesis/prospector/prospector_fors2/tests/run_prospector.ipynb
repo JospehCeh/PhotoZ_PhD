{
 "cells": [
  {
   "cell_type": "code",
   "execution_count": 1,
   "id": "366d50c9-b0f3-4e82-8740-7f4cd500994f",
   "metadata": {},
   "outputs": [
    {
     "name": "stdout",
     "output_type": "stream",
     "text": [
      "START MAIN\n",
      "args =  Namespace(add_duste=False, add_neb=False, datamode='photom', debug=False, dynesty=False, emcee=False, initial_disp=0.1, inputfile='../../../../QueryCatalogs/data/FORS2spectraGalexKidsPhotom.hdf5', interval=0.2, min_method='lm', min_opts={}, nburn=[16, 32, 64], nested_bootstrap=0, nested_bound='multi', nested_dlogz_init=0.05, nested_maxbatch=10, nested_maxcall=50000000, nested_maxiter=1000000, nested_nlive_batch=100, nested_nlive_init=100, nested_sample='slice', nested_target_n_effective=10000, nested_walks=48, niter=512, nmin=1, nwalkers=64, object_redshift=0.0, objid=214, optimize=False, outfile='prospector_test_run', output_pickle=False, restart_from='', specnsigs=3.0, verbose=1, zcontinuous=1)\n",
      "Object SPEC214 found in file ../../../../QueryCatalogs/data/FORS2spectraGalexKidsPhotom.hdf5\n",
      "      name  num       ra       dec  redshift  Rmag    RT     RV  eRV  Nsp  \\\n",
      "0  SPEC214  214  13.5485 -28.42296   0.29266  19.8  16.1  87798   23    1   \n",
      "\n",
      "   ... FLUXERR_GAAP_Z  FLUXERR_GAAP_Y  FLUXERR_GAAP_J  FLUXERR_GAAP_H  \\\n",
      "0  ...     178.927719      348.236633      284.142151      584.317017   \n",
      "\n",
      "   FLUXERR_GAAP_Ks  FLUX_RADIUS  EXTINCTION_u  EXTINCTION_g  EXTINCTION_r  \\\n",
      "0       679.517578      4.76632      0.076636      0.059715       0.04131   \n",
      "\n",
      "   EXTINCTION_i  \n",
      "0      0.030698  \n",
      "\n",
      "[1 rows x 71 columns]\n",
      "{'wl': array([4522.24, 4525.6 , 4528.96, ..., 9243.04, 9246.4 , 9249.76]), 'fl': array([8.54806052e-09, 1.57692397e-08, 1.56636041e-08, ...,\n",
      "       1.17441957e-08, 1.19803901e-08, 1.08870623e-08]), 'bg': array([8.54806052e-09, 1.19846816e-08, 1.19846816e-08, ...,\n",
      "       1.17441957e-08, 1.19803901e-08, 1.08870623e-08])}\n",
      "{'verbose': 1, 'debug': False, 'outfile': 'prospector_test_run', 'output_pickle': False, 'zcontinuous': 1, 'optimize': False, 'min_method': 'lm', 'min_opts': {}, 'nmin': 1, 'emcee': False, 'nwalkers': 64, 'niter': 512, 'nburn': [16, 32, 64], 'interval': 0.2, 'restart_from': '', 'initial_disp': 0.1, 'dynesty': False, 'nested_bound': 'multi', 'nested_sample': 'slice', 'nested_walks': 48, 'nested_nlive_init': 100, 'nested_nlive_batch': 100, 'nested_dlogz_init': 0.05, 'nested_maxcall': 50000000, 'nested_maxiter': 1000000, 'nested_maxbatch': 10, 'nested_bootstrap': 0, 'nested_target_n_effective': 10000, 'object_redshift': 0.29266, 'add_neb': False, 'add_duste': False, 'inputfile': '../../../../QueryCatalogs/data/FORS2spectraGalexKidsPhotom.hdf5', 'objid': 214, 'datamode': 'photom', 'specnsigs': 3.0, 'object_number': 214, 'object_name': 'SPEC214', 'input_file': '../../../../QueryCatalogs/data/FORS2spectraGalexKidsPhotom.hdf5', 'specnsig': 3.0}\n",
      "build_obs : Object SPEC214 found in file ../../../../QueryCatalogs/data/FORS2spectraGalexKidsPhotom.hdf5\n"
     ]
    }
   ],
   "source": [
    "%run fit_params_fors2.py --inputfile ../../../../QueryCatalogs/data/FORS2spectraGalexKidsPhotom.hdf5 --objid 214 --datamode photom"
   ]
  },
  {
   "cell_type": "code",
   "execution_count": null,
   "id": "56552605-47cd-403d-a72a-efbc6de0ad18",
   "metadata": {},
   "outputs": [],
   "source": []
  }
 ],
 "metadata": {
  "kernelspec": {
   "display_name": "prospector",
   "language": "python",
   "name": "prospector"
  },
  "language_info": {
   "codemirror_mode": {
    "name": "ipython",
    "version": 3
   },
   "file_extension": ".py",
   "mimetype": "text/x-python",
   "name": "python",
   "nbconvert_exporter": "python",
   "pygments_lexer": "ipython3",
   "version": "3.8.16"
  }
 },
 "nbformat": 4,
 "nbformat_minor": 5
}
