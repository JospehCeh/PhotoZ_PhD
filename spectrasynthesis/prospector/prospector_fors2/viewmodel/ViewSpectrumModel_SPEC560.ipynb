{
 "cells": [
  {
   "cell_type": "markdown",
   "id": "3545fcd5-b4ea-44b2-a9ba-65fbccd7e296",
   "metadata": {},
   "source": [
    "# View the Spectrum model in prospector/fsps Spectrum SPEC560\n",
    "\n",
    "- author : Sylvie Dagoret-Campagne\n",
    "- affiliation : IJCLab\n",
    "- creation date : 2023-06-26\n",
    "- update : 2023-06-26\n",
    "\n",
    "The good way to query FSPS"
   ]
  },
  {
   "cell_type": "code",
   "execution_count": 1,
   "id": "e73115a5-3010-4e6f-ab85-03b7f1b4d964",
   "metadata": {
    "tags": []
   },
   "outputs": [],
   "source": [
    "import time, sys, os\n",
    "import h5py\n",
    "import numpy as np\n",
    "import scipy\n",
    "import matplotlib.pyplot as plt\n",
    "from matplotlib import rcParams\n",
    "\n",
    "from matplotlib import cm\n",
    "from matplotlib.colors import ListedColormap, LinearSegmentedColormap\n",
    "\n",
    "\n",
    "\n",
    "import re\n",
    "import h5py\n",
    "import pandas as pd\n",
    "%matplotlib inline\n",
    "\n",
    "# re-defining plotting defaults\n",
    "from matplotlib.font_manager import FontProperties\n",
    "from matplotlib import gridspec\n",
    "rcParams.update({'xtick.major.pad': '7.0'})\n",
    "rcParams.update({'xtick.major.size': '7.5'})\n",
    "rcParams.update({'xtick.major.width': '1.5'})\n",
    "rcParams.update({'xtick.minor.pad': '7.0'})\n",
    "rcParams.update({'xtick.minor.size': '3.5'})\n",
    "rcParams.update({'xtick.minor.width': '1.0'})\n",
    "rcParams.update({'ytick.major.pad': '7.0'})\n",
    "rcParams.update({'ytick.major.size': '7.5'})\n",
    "rcParams.update({'ytick.major.width': '1.5'})\n",
    "rcParams.update({'ytick.minor.pad': '7.0'})\n",
    "rcParams.update({'ytick.minor.size': '3.5'})\n",
    "rcParams.update({'ytick.minor.width': '1.0'})\n",
    "rcParams.update({'xtick.color': 'k'})\n",
    "rcParams.update({'ytick.color': 'k'})\n",
    "rcParams.update({'font.size': 30})"
   ]
  },
  {
   "cell_type": "code",
   "execution_count": null,
   "id": "55a640ea-9f94-4146-9f88-2bccd78442a7",
   "metadata": {},
   "outputs": [],
   "source": []
  },
  {
   "cell_type": "code",
   "execution_count": 2,
   "id": "d5bb23b6-1104-49a7-8c0d-790c06be2c26",
   "metadata": {
    "tags": []
   },
   "outputs": [],
   "source": [
    "import matplotlib\n",
    "cmap = matplotlib.colors.LinearSegmentedColormap.from_list(\"\", [\"red\",\"violet\",\"blue\"])"
   ]
  },
  {
   "cell_type": "code",
   "execution_count": 3,
   "id": "20b72be9-497a-4168-867e-934a5884f6ad",
   "metadata": {
    "tags": []
   },
   "outputs": [],
   "source": [
    "from astropy import constants as const\n",
    "from astropy import units as u"
   ]
  },
  {
   "cell_type": "code",
   "execution_count": 4,
   "id": "03ffbd92-b00f-4aa1-817a-12f37e5ccf77",
   "metadata": {
    "tags": []
   },
   "outputs": [],
   "source": [
    "import fsps"
   ]
  },
  {
   "cell_type": "markdown",
   "id": "d96a8572-dd7e-4f98-8790-1ba5088f7474",
   "metadata": {},
   "source": [
    "# Constants"
   ]
  },
  {
   "cell_type": "code",
   "execution_count": 5,
   "id": "8f2a8b6f-a53c-4d4a-95bc-c7cb0fdf30be",
   "metadata": {
    "tags": []
   },
   "outputs": [],
   "source": [
    "Wavelength_normalisation = 9000.0"
   ]
  },
  {
   "cell_type": "markdown",
   "id": "10723b6b-3f93-4e3b-9717-a366e28169b3",
   "metadata": {},
   "source": [
    "# read StarLight Spectra"
   ]
  },
  {
   "cell_type": "code",
   "execution_count": 6,
   "id": "395ade75-e4a3-41b2-9bdf-2cfd7cc4ae6d",
   "metadata": {
    "tags": []
   },
   "outputs": [],
   "source": [
    "input_SLfile_h5  = '../../../../QueryCatalogs/data/SLspectra.hdf5'"
   ]
  },
  {
   "cell_type": "code",
   "execution_count": 7,
   "id": "84cf6769-7fc8-47cc-a834-c1a5b29c3a18",
   "metadata": {
    "tags": []
   },
   "outputs": [],
   "source": [
    "with h5py.File(input_SLfile_h5, 'r') as hf:\n",
    "    data_in = hf['flambda'][:]\n",
    "    wl_in = hf['wl'][:]\n",
    "    #target = hf['quantile'][:]\n",
    "\n",
    "    # other data\n",
    "    redshift_sl = hf['redshift'][:]\n",
    "    Rmag_sl = hf['Rmag'][:]\n",
    "    RT_sl = hf['RT'][:]\n",
    "    RV_sl = hf['RV'][:]\n",
    "    ra_sl = hf['ra'][:]\n",
    "    dec_sl = hf['dec'][:]\n",
    "    #fracinfbalmer = hf['fracinfbalmer'][:]\n",
    "    num_sl = hf['num'][:]\n"
   ]
  },
  {
   "cell_type": "code",
   "execution_count": 8,
   "id": "dd42aab9-43cf-4e39-985f-63050db5b28f",
   "metadata": {
    "tags": []
   },
   "outputs": [],
   "source": [
    "spectra_sl = data_in\n",
    "wavelengths_sl = wl_in"
   ]
  },
  {
   "cell_type": "code",
   "execution_count": 9,
   "id": "c5272f74-afe5-4979-9581-26cd62ef2e14",
   "metadata": {
    "tags": []
   },
   "outputs": [
    {
     "data": {
      "text/plain": [
       "(550, 12000)"
      ]
     },
     "execution_count": 9,
     "metadata": {},
     "output_type": "execute_result"
    }
   ],
   "source": [
    "spectra_sl.shape"
   ]
  },
  {
   "cell_type": "code",
   "execution_count": 10,
   "id": "3bd506ce-a48e-4c02-966d-edf5d6d0f0e6",
   "metadata": {
    "tags": []
   },
   "outputs": [],
   "source": [
    "C = 2.99792458e-2 # Angstropersec/s"
   ]
  },
  {
   "cell_type": "code",
   "execution_count": 11,
   "id": "97fbd924-26d3-4e28-86f0-aca5e42b6289",
   "metadata": {
    "tags": []
   },
   "outputs": [],
   "source": [
    "spectra_sl_fnu = spectra_sl*wavelengths_sl**2/C"
   ]
  },
  {
   "cell_type": "code",
   "execution_count": 12,
   "id": "91961794-dc7b-4648-ac91-c61685142d3b",
   "metadata": {
    "tags": []
   },
   "outputs": [],
   "source": [
    "selected_num = 560"
   ]
  },
  {
   "cell_type": "code",
   "execution_count": 13,
   "id": "a4499e28-ecc0-40d1-a12c-80105c9ced55",
   "metadata": {
    "tags": []
   },
   "outputs": [],
   "source": [
    "index_inputsl = np.where(num_sl == selected_num)[0][0]"
   ]
  },
  {
   "cell_type": "code",
   "execution_count": 14,
   "id": "6d22088d-72c2-4698-980c-0ee5dd0545ab",
   "metadata": {
    "tags": []
   },
   "outputs": [],
   "source": [
    "fnu_sl_selected = spectra_sl_fnu[index_inputsl,:] "
   ]
  },
  {
   "cell_type": "code",
   "execution_count": 15,
   "id": "067cf930-f5ff-4f66-837f-2068e09ec8d0",
   "metadata": {
    "tags": []
   },
   "outputs": [],
   "source": [
    "fnu0 = np.interp(Wavelength_normalisation , wavelengths_sl,fnu_sl_selected)"
   ]
  },
  {
   "cell_type": "code",
   "execution_count": 16,
   "id": "fe099307-71f0-4d85-a0be-46a7bd0c0a1a",
   "metadata": {
    "tags": []
   },
   "outputs": [],
   "source": [
    "fnu_sl_selected /= fnu0 "
   ]
  },
  {
   "cell_type": "code",
   "execution_count": 17,
   "id": "8659274f-ae48-4903-ae3b-2286d61977e2",
   "metadata": {
    "tags": []
   },
   "outputs": [
    {
     "data": {
      "text/plain": [
       "<matplotlib.lines.Line2D at 0x7fb67f6948e0>"
      ]
     },
     "execution_count": 17,
     "metadata": {},
     "output_type": "execute_result"
    },
    {
     "data": {
      "image/png": "[encoded data removed]",
      "text/plain": [
       "<Figure size 640x480 with 1 Axes>"
      ]
     },
     "metadata": {},
     "output_type": "display_data"
    }
   ],
   "source": [
    "plt.plot(wavelengths_sl,fnu_sl_selected )\n",
    "plt.axvline(Wavelength_normalisation)"
   ]
  },
  {
   "cell_type": "markdown",
   "id": "ec7d82e1-c104-4eab-a614-7d04454c060c",
   "metadata": {},
   "source": [
    "# FSPS"
   ]
  },
  {
   "cell_type": "code",
   "execution_count": null,
   "id": "9cd8314a-e77a-4354-af7b-4b7c05317dae",
   "metadata": {},
   "outputs": [],
   "source": [
    "sps = fsps.StellarPopulation(zcontinuous=1)\n",
    "ilib, slib, dlib = sps.libraries"
   ]
  },
  {
   "cell_type": "code",
   "execution_count": null,
   "id": "c52236f0-fd8c-45f0-9914-ca1fdd90ecd1",
   "metadata": {
    "tags": []
   },
   "outputs": [],
   "source": [
    "sps.params['sfh'] = 4\n",
    "sps.params['tau'] = 13.79\n",
    "sps.params['logzsol'] = -0.682\n",
    "sps.params['dust_type'] = 4  # kriek and Conroy (4)\n",
    "sps.params['imf_type'] = 2  # kroupa\n",
    "sps.params['imf3'] = 2.3\n",
    "sps.params[\"dust2\"] = 0.906"
   ]
  },
  {
   "cell_type": "code",
   "execution_count": null,
   "id": "067f0872-b9a9-40ab-a8ed-579e0c8ff328",
   "metadata": {
    "tags": []
   },
   "outputs": [],
   "source": [
    "N = 10\n",
    "dust = np.linspace(0,2,N)\n",
    "color = cm.rainbow(np.linspace(0, 1, N))"
   ]
  },
  {
   "cell_type": "code",
   "execution_count": null,
   "id": "0bcb2772-c5b1-4275-a5fa-7ee64c83ebd1",
   "metadata": {},
   "outputs": [],
   "source": [
    "#sps.get_spectrum?"
   ]
  },
  {
   "cell_type": "markdown",
   "id": "7a4bdf3a-166b-4331-9479-94dc58852b79",
   "metadata": {},
   "source": [
    "## Query luminosity per Hz\n",
    "\n",
    "      peraa = False (default)"
   ]
  },
  {
   "cell_type": "code",
   "execution_count": null,
   "id": "b9804a04-4e45-408f-b5c2-e313e594bd8d",
   "metadata": {
    "tags": []
   },
   "outputs": [],
   "source": [
    "list_wl = []\n",
    "list_spec = []\n",
    "for idx in range(N):\n",
    "    sps.params[\"dust2\"]  = dust[idx]\n",
    "    wspec, spectr  = sps.get_spectrum(tage=13.7)\n",
    "    list_wl.append(wspec)\n",
    "    list_spec.append(spectr)"
   ]
  },
  {
   "cell_type": "code",
   "execution_count": null,
   "id": "fb778793-ee8e-41cf-9920-5079814eca50",
   "metadata": {
    "tags": []
   },
   "outputs": [],
   "source": [
    "fig = plt.figure(figsize = (12,6))\n",
    "ax=fig.add_subplot(1,1,1)\n",
    "for idx in range(N):\n",
    "    val = dust[idx]\n",
    "    label = f\"dust = {val:.2f}\"\n",
    "    ax.loglog(list_wl[idx],list_spec[idx],color=color[idx],label=label)\n",
    "    \n",
    "    if idx==0:\n",
    "        fnu0 = np.interp(Wavelength_normalisation ,list_wl[idx],list_spec[idx])\n",
    "\n",
    "ax.loglog(wavelengths_sl,fnu_sl_selected*fnu0,label=\"StarLight SL560\",color=\"k\",lw=3)\n",
    "\n",
    "ax.grid()\n",
    "ax.set_ylim(1e-21,1e-12)\n",
    "ax.legend(fontsize=10)\n",
    "ax.set_xlabel(\"$\\lambda (\\AA)$\")\n",
    "ax.set_ylabel(\"Luminosity $L_\\odot/\\mathrm{Hz}$\")\n",
    "ax.set_title(\"impact of dust\")\n",
    "ax.axvline(3646,color='k')\n"
   ]
  },
  {
   "cell_type": "code",
   "execution_count": null,
   "id": "cd058d56-631e-4d0f-a5bd-cbc9e77aa334",
   "metadata": {
    "tags": []
   },
   "outputs": [],
   "source": [
    "fig = plt.figure(figsize = (12,6))\n",
    "ax=fig.add_subplot(1,1,1)\n",
    "for idx in range(N):\n",
    "    val = dust[idx]\n",
    "    label = f\"dust = {val:.2f}\"\n",
    "    ax.semilogy(list_wl[idx],list_spec[idx],color=color[idx],label=label)\n",
    "\n",
    "ax.grid()\n",
    "ax.set_ylim(1e-21,1e-14)\n",
    "ax.set_xlim(0,10000)\n",
    "ax.legend(fontsize=10)\n",
    "ax.set_xlabel(\"$\\lambda (\\AA)$\")\n",
    "ax.set_ylabel(\"Luminosity $L_\\odot/\\mathrm{Hz}$\")\n",
    "ax.set_title(\"impact of dust\")\n",
    "ax.axvline(3646)"
   ]
  },
  {
   "cell_type": "code",
   "execution_count": null,
   "id": "bbd725ce-1374-401f-8bb6-fcd95fc7e61b",
   "metadata": {},
   "outputs": [],
   "source": [
    "# sps.get_spectrum?"
   ]
  },
  {
   "cell_type": "markdown",
   "id": "e5040df3-3814-4867-aa3a-f436da09a6f9",
   "metadata": {},
   "source": [
    "## Query luminosity per Angstroms\n",
    "\n",
    "    peraa = True"
   ]
  },
  {
   "cell_type": "code",
   "execution_count": null,
   "id": "567ae1c8-741d-4ee7-bf05-13a60e144bb2",
   "metadata": {
    "tags": []
   },
   "outputs": [],
   "source": [
    "list_wl = []\n",
    "list_spec = []\n",
    "for idx in range(N):\n",
    "    sps.params[\"dust2\"]  = dust[idx]\n",
    "    wspec, spectr  = sps.get_spectrum(tage=13.7,peraa=True)\n",
    "    list_wl.append(wspec)\n",
    "    list_spec.append(spectr)\n",
    "    "
   ]
  },
  {
   "cell_type": "code",
   "execution_count": null,
   "id": "5a2ec567-9807-4b19-a495-70627c7dde92",
   "metadata": {
    "tags": []
   },
   "outputs": [],
   "source": [
    "fig = plt.figure(figsize = (12,6))\n",
    "ax=fig.add_subplot(1,1,1)\n",
    "for idx in range(N):\n",
    "    val = dust[idx]\n",
    "    label = f\"dust = {val:.2f}\"\n",
    "    ax.loglog(wspec,list_spec[idx],color=color[idx],label=label)\n",
    "\n",
    "ax.grid()\n",
    "ax.set_ylim(1e-8,1e-3)\n",
    "ax.legend(fontsize=10)\n",
    "ax.set_xlabel(\"$\\lambda (\\AA)$\")\n",
    "ax.set_ylabel(\"Luminosity $L_\\odot/A$\")\n",
    "ax.set_title(\"impact of dust\")\n",
    "ax.axvline(3646)"
   ]
  },
  {
   "cell_type": "code",
   "execution_count": null,
   "id": "dce31289-5c43-4a51-b98a-c2e7b19d4081",
   "metadata": {
    "tags": []
   },
   "outputs": [],
   "source": [
    "fig = plt.figure(figsize = (12,6))\n",
    "ax=fig.add_subplot(1,1,1)\n",
    "for idx in range(N):\n",
    "    val = dust[idx]\n",
    "    label = f\"dust = {val:.2f}\"\n",
    "    ax.semilogy(wspec,list_spec[idx],color=color[idx],label=label)\n",
    "\n",
    "ax.grid()\n",
    "ax.set_ylim(1e-8,1e-3)\n",
    "ax.set_xlim(0,10000)\n",
    "ax.legend(fontsize=10)\n",
    "ax.set_xlabel(\"$\\lambda (\\AA)$\")\n",
    "ax.set_ylabel(\"Luminosity $L_\\odot/A$\")\n",
    "ax.set_title(\"impact of dust\")\n",
    "ax.axvline(3646)"
   ]
  },
  {
   "cell_type": "code",
   "execution_count": null,
   "id": "de5619c2-d569-41d9-a0d9-5c69ecbb0a60",
   "metadata": {},
   "outputs": [],
   "source": []
  }
 ],
 "metadata": {
  "kernelspec": {
   "display_name": "conda_prospector_py310",
   "language": "python",
   "name": "conda_prospector_py310"
  },
  "language_info": {
   "codemirror_mode": {
    "name": "ipython",
    "version": 3
   },
   "file_extension": ".py",
   "mimetype": "text/x-python",
   "name": "python",
   "nbconvert_exporter": "python",
   "pygments_lexer": "ipython3",
   "version": "3.10.0"
  }
 },
 "nbformat": 4,
 "nbformat_minor": 5
}
