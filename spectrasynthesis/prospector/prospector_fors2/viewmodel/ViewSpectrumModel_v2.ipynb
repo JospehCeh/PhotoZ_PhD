{
 "cells": [
  {
   "cell_type": "markdown",
   "id": "3545fcd5-b4ea-44b2-a9ba-65fbccd7e296",
   "metadata": {},
   "source": [
    "# View the Spectrum model in prospector/fsps\n",
    "\n",
    "- author : Sylvie Dagoret-Campagne\n",
    "- affiliation : IJCLab\n",
    "- creation date : 2023-06-18\n",
    "- update : 2023-06-19\n",
    "\n",
    "The good way to query FSPS"
   ]
  },
  {
   "cell_type": "code",
   "execution_count": 1,
   "id": "e73115a5-3010-4e6f-ab85-03b7f1b4d964",
   "metadata": {
    "tags": []
   },
   "outputs": [],
   "source": [
    "import time, sys, os\n",
    "import h5py\n",
    "import numpy as np\n",
    "import scipy\n",
    "import matplotlib.pyplot as plt\n",
    "from matplotlib import rcParams\n",
    "\n",
    "from matplotlib import cm\n",
    "from matplotlib.colors import ListedColormap, LinearSegmentedColormap\n",
    "\n",
    "\n",
    "\n",
    "import re\n",
    "import h5py\n",
    "import pandas as pd\n",
    "%matplotlib inline\n",
    "\n",
    "# re-defining plotting defaults\n",
    "from matplotlib.font_manager import FontProperties\n",
    "from matplotlib import gridspec\n",
    "rcParams.update({'xtick.major.pad': '7.0'})\n",
    "rcParams.update({'xtick.major.size': '7.5'})\n",
    "rcParams.update({'xtick.major.width': '1.5'})\n",
    "rcParams.update({'xtick.minor.pad': '7.0'})\n",
    "rcParams.update({'xtick.minor.size': '3.5'})\n",
    "rcParams.update({'xtick.minor.width': '1.0'})\n",
    "rcParams.update({'ytick.major.pad': '7.0'})\n",
    "rcParams.update({'ytick.major.size': '7.5'})\n",
    "rcParams.update({'ytick.major.width': '1.5'})\n",
    "rcParams.update({'ytick.minor.pad': '7.0'})\n",
    "rcParams.update({'ytick.minor.size': '3.5'})\n",
    "rcParams.update({'ytick.minor.width': '1.0'})\n",
    "rcParams.update({'xtick.color': 'k'})\n",
    "rcParams.update({'ytick.color': 'k'})\n",
    "rcParams.update({'font.size': 30})"
   ]
  },
  {
   "cell_type": "code",
   "execution_count": 2,
   "id": "d5bb23b6-1104-49a7-8c0d-790c06be2c26",
   "metadata": {
    "tags": []
   },
   "outputs": [],
   "source": [
    "import matplotlib\n",
    "cmap = matplotlib.colors.LinearSegmentedColormap.from_list(\"\", [\"red\",\"violet\",\"blue\"])"
   ]
  },
  {
   "cell_type": "code",
   "execution_count": 3,
   "id": "20b72be9-497a-4168-867e-934a5884f6ad",
   "metadata": {
    "tags": []
   },
   "outputs": [],
   "source": [
    "from astropy import constants as const\n",
    "from astropy import units as u"
   ]
  },
  {
   "cell_type": "code",
   "execution_count": 4,
   "id": "03ffbd92-b00f-4aa1-817a-12f37e5ccf77",
   "metadata": {
    "tags": []
   },
   "outputs": [],
   "source": [
    "import fsps"
   ]
  },
  {
   "cell_type": "code",
   "execution_count": 5,
   "id": "9cd8314a-e77a-4354-af7b-4b7c05317dae",
   "metadata": {},
   "outputs": [],
   "source": [
    "sps = fsps.StellarPopulation(zcontinuous=1)\n",
    "ilib, slib, dlib = sps.libraries"
   ]
  },
  {
   "cell_type": "code",
   "execution_count": 6,
   "id": "c52236f0-fd8c-45f0-9914-ca1fdd90ecd1",
   "metadata": {},
   "outputs": [],
   "source": [
    "sps.params['sfh'] = 4\n",
    "sps.params['tau'] = 5.0\n",
    "sps.params['logzsol'] = 0.0\n",
    "sps.params['dust_type'] = 4  # kriek and Conroy (4)\n",
    "sps.params['imf_type'] = 2  # kroupa\n",
    "sps.params['imf3'] = 2.3\n",
    "sps.params[\"dust2\"] = 0.0"
   ]
  },
  {
   "cell_type": "code",
   "execution_count": 7,
   "id": "067f0872-b9a9-40ab-a8ed-579e0c8ff328",
   "metadata": {
    "tags": []
   },
   "outputs": [],
   "source": [
    "N = 10\n",
    "dust = np.linspace(0,2,N)\n",
    "color = cm.rainbow(np.linspace(0, 1, N))"
   ]
  },
  {
   "cell_type": "code",
   "execution_count": 8,
   "id": "0bcb2772-c5b1-4275-a5fa-7ee64c83ebd1",
   "metadata": {},
   "outputs": [],
   "source": [
    "#sps.get_spectrum?"
   ]
  },
  {
   "cell_type": "markdown",
   "id": "7a4bdf3a-166b-4331-9479-94dc58852b79",
   "metadata": {},
   "source": [
    "## Query luminosity per Hz\n",
    "\n",
    "      peraa = False (default)"
   ]
  },
  {
   "cell_type": "code",
   "execution_count": 9,
   "id": "b9804a04-4e45-408f-b5c2-e313e594bd8d",
   "metadata": {
    "tags": []
   },
   "outputs": [],
   "source": [
    "list_wl = []\n",
    "list_spec = []\n",
    "for idx in range(N):\n",
    "    sps.params[\"dust2\"]  = dust[idx]\n",
    "    wspec, spectr  = sps.get_spectrum(tage=13.7)\n",
    "    list_wl.append(wspec)\n",
    "    list_spec.append(spectr)"
   ]
  },
  {
   "cell_type": "code",
   "execution_count": null,
   "id": "fb778793-ee8e-41cf-9920-5079814eca50",
   "metadata": {
    "tags": []
   },
   "outputs": [],
   "source": [
    "fig = plt.figure(figsize = (12,6))\n",
    "ax=fig.add_subplot(1,1,1)\n",
    "for idx in range(N):\n",
    "    val = dust[idx]\n",
    "    label = f\"dust = {val:.2f}\"\n",
    "    ax.loglog(list_wl[idx],list_spec[idx],color=color[idx],label=label)\n",
    "\n",
    "ax.grid()\n",
    "ax.set_ylim(1e-21,1e-12)\n",
    "ax.legend(fontsize=10)\n",
    "ax.set_xlabel(\"$\\lambda (\\AA)$\")\n",
    "ax.set_ylabel(\"Luminosity $L_\\odot/\\mathrm{Hz}$\")\n",
    "ax.set_title(\"impact of dust\")\n",
    "ax.axvline(3646,color='k')"
   ]
  },
  {
   "cell_type": "code",
   "execution_count": null,
   "id": "cd058d56-631e-4d0f-a5bd-cbc9e77aa334",
   "metadata": {
    "tags": []
   },
   "outputs": [],
   "source": [
    "fig = plt.figure(figsize = (12,6))\n",
    "ax=fig.add_subplot(1,1,1)\n",
    "for idx in range(N):\n",
    "    val = dust[idx]\n",
    "    label = f\"dust = {val:.2f}\"\n",
    "    ax.semilogy(list_wl[idx],list_spec[idx],color=color[idx],label=label)\n",
    "\n",
    "ax.grid()\n",
    "ax.set_ylim(1e-21,1e-14)\n",
    "ax.set_xlim(0,10000)\n",
    "ax.legend(fontsize=10)\n",
    "ax.set_xlabel(\"$\\lambda (\\AA)$\")\n",
    "ax.set_ylabel(\"Luminosity $L_\\odot/\\mathrm{Hz}$\")\n",
    "ax.set_title(\"impact of dust\")\n",
    "ax.axvline(3646)"
   ]
  },
  {
   "cell_type": "code",
   "execution_count": null,
   "id": "bbd725ce-1374-401f-8bb6-fcd95fc7e61b",
   "metadata": {},
   "outputs": [],
   "source": [
    "# sps.get_spectrum?"
   ]
  },
  {
   "cell_type": "markdown",
   "id": "e5040df3-3814-4867-aa3a-f436da09a6f9",
   "metadata": {},
   "source": [
    "## Query luminosity per Angstroms\n",
    "\n",
    "    peraa = True"
   ]
  },
  {
   "cell_type": "code",
   "execution_count": null,
   "id": "567ae1c8-741d-4ee7-bf05-13a60e144bb2",
   "metadata": {
    "tags": []
   },
   "outputs": [],
   "source": [
    "list_wl = []\n",
    "list_spec = []\n",
    "for idx in range(N):\n",
    "    sps.params[\"dust2\"]  = dust[idx]\n",
    "    wspec, spectr  = sps.get_spectrum(tage=13.7,peraa=True)\n",
    "    list_wl.append(wspec)\n",
    "    list_spec.append(spectr)\n",
    "    "
   ]
  },
  {
   "cell_type": "code",
   "execution_count": null,
   "id": "5a2ec567-9807-4b19-a495-70627c7dde92",
   "metadata": {
    "tags": []
   },
   "outputs": [],
   "source": [
    "fig = plt.figure(figsize = (12,6))\n",
    "ax=fig.add_subplot(1,1,1)\n",
    "for idx in range(N):\n",
    "    val = dust[idx]\n",
    "    label = f\"dust = {val:.2f}\"\n",
    "    ax.loglog(wspec,list_spec[idx],color=color[idx],label=label)\n",
    "\n",
    "ax.grid()\n",
    "ax.set_ylim(1e-8,1e-3)\n",
    "ax.legend(fontsize=10)\n",
    "ax.set_xlabel(\"$\\lambda (\\AA)$\")\n",
    "ax.set_ylabel(\"Luminosity $L_\\odot/A$\")\n",
    "ax.set_title(\"impact of dust\")\n",
    "ax.axvline(3646)"
   ]
  },
  {
   "cell_type": "code",
   "execution_count": null,
   "id": "dce31289-5c43-4a51-b98a-c2e7b19d4081",
   "metadata": {
    "tags": []
   },
   "outputs": [],
   "source": [
    "fig = plt.figure(figsize = (12,6))\n",
    "ax=fig.add_subplot(1,1,1)\n",
    "for idx in range(N):\n",
    "    val = dust[idx]\n",
    "    label = f\"dust = {val:.2f}\"\n",
    "    ax.semilogy(wspec,list_spec[idx],color=color[idx],label=label)\n",
    "\n",
    "ax.grid()\n",
    "ax.set_ylim(1e-8,1e-3)\n",
    "ax.set_xlim(0,10000)\n",
    "ax.legend(fontsize=10)\n",
    "ax.set_xlabel(\"$\\lambda (\\AA)$\")\n",
    "ax.set_ylabel(\"Luminosity $L_\\odot/A$\")\n",
    "ax.set_title(\"impact of dust\")\n",
    "ax.axvline(3646)"
   ]
  },
  {
   "cell_type": "code",
   "execution_count": null,
   "id": "de5619c2-d569-41d9-a0d9-5c69ecbb0a60",
   "metadata": {},
   "outputs": [],
   "source": []
  }
 ],
 "metadata": {
  "kernelspec": {
   "display_name": "prospector",
   "language": "python",
   "name": "prospector"
  },
  "language_info": {
   "codemirror_mode": {
    "name": "ipython",
    "version": 3
   },
   "file_extension": ".py",
   "mimetype": "text/x-python",
   "name": "python",
   "nbconvert_exporter": "python",
   "pygments_lexer": "ipython3",
   "version": "3.8.16"
  }
 },
 "nbformat": 4,
 "nbformat_minor": 5
}
