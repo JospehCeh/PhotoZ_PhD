{
 "cells": [
  {
   "cell_type": "markdown",
   "id": "e7380c6f-0aed-43ca-ba60-ca4511535852",
   "metadata": {},
   "source": [
    "# Spec_Phot_demo"
   ]
  },
  {
   "cell_type": "code",
   "execution_count": 1,
   "id": "ee6cfdbf-4e0a-4ad5-a997-ddb087d2e55a",
   "metadata": {},
   "outputs": [],
   "source": [
    "#!/usr/bin/env python\n",
    "# -*- coding: utf-8 -*-\n",
    "\n",
    "\"\"\" parametric_mock_specphot.py -  Parametric Spectrum and Photometry fit\n",
    "This is a parameter file with build_* methods for fitting spectra and photometry\n",
    "with a single composite stellar population (tau-model.) We optionally include\n",
    "spectrum or photometry, and can remove the spectral continuum shape by\n",
    "optimizing out a polynomial at each model call, if use_continuum is False\n",
    "\"\"\"\n",
    "\n",
    "import time, sys\n",
    "from copy import deepcopy\n",
    "import numpy as np\n",
    "from sedpy.observate import load_filters\n",
    "\n",
    "from prospect import prospect_args\n",
    "from prospect.fitting import fit_model\n",
    "from prospect.io import write_results as writer\n",
    "\n",
    "from prospect.sources.constants import cosmo\n",
    "\n",
    "try:\n",
    "    from exspect.utils import build_mock\n",
    "    from exspect.utils import set_sdss_lsf, load_sdss\n",
    "    from exspect.utils import fit_continuum, eline_mask\n",
    "except(ImportError):\n",
    "    pass"
   ]
  },
  {
   "cell_type": "code",
   "execution_count": 2,
   "id": "d4ecdd28-30e5-46de-a5a8-b09f99ab4b9a",
   "metadata": {},
   "outputs": [
    {
     "data": {
      "text/plain": [
       "_StoreTrueAction(option_strings=['--mask_elines'], dest='mask_elines', nargs=0, const=True, default=False, type=None, choices=None, help='If set, mask windows around bright emission lines', metavar=None)"
      ]
     },
     "execution_count": 2,
     "metadata": {},
     "output_type": "execute_result"
    }
   ],
   "source": [
    "# Here we are going to put together some filter names\n",
    "# All these filters are available in sedpy.  If you want to use other filters,\n",
    "# add their transmission profiles to sedpy/sedpy/data/filters/ with appropriate\n",
    "# names (and format)\n",
    "galex = ['galex_FUV', 'galex_NUV']\n",
    "sdss = ['sdss_{0}0'.format(b) for b in \"griz\"]\n",
    "twomass = ['twomass_{}'.format(b) for b in ['J', 'H', 'Ks']]\n",
    "bessell = ['bessell_{}'.format(b) for b in \"UBVRI\"]\n",
    "\n",
    "\n",
    "# - Parser with default arguments -\n",
    "parser = prospect_args.get_parser([\"optimize\", \"dynesty\"])\n",
    "# Initial parameters\n",
    "parser.add_argument('--zred', type=float, default=0.0,\n",
    "                    help=\"Redshift for the model.\")\n",
    "parser.add_argument('--zred_disp', type=float, default=1e-3,\n",
    "                    help=\"Redshift for the model (and mock).\")\n",
    "# Fitted Model specification\n",
    "parser.add_argument('--add_neb', action=\"store_true\",\n",
    "                    help=\"If set, add nebular emission in the model (and mock).\")\n",
    "parser.add_argument('--add_realism', action=\"store_true\",\n",
    "                    help=\"If set, Add realistic instrumental dispersion.\")\n",
    "parser.add_argument('--continuum_order', type=int, default=0,\n",
    "                    help=\"If > 0, optimize out the continuum shape.\")\n",
    "parser.add_argument('--outlier_model', action=\"store_true\",\n",
    "                    help=\"If set, add an outlier model for spectroscopy\")\n",
    "parser.add_argument('--jitter_model', action=\"store_true\",\n",
    "                    help=\"If set, fit for spectroscopic noise inflation term\")\n",
    "# Data construction\n",
    "parser.add_argument('--ggc_data', type=str, default=\"data/ggc.h5\",\n",
    "                    help=\"Full path of GGC data HDF5 file\")\n",
    "parser.add_argument('--ggc_id', type=str, default=\"NGC104\",\n",
    "                    help=\"Name of the GGC object.\")\n",
    "parser.add_argument('--ggc_index', type=int, default=-1,\n",
    "                    help=\"Index of the GGC object. Overrides ggc_id if >0\")\n",
    "parser.add_argument('--wave_lo', type=float, default=3800.,\n",
    "                    help=\"Minimum wavelength to fit\")\n",
    "parser.add_argument('--wave_hi', type=float, default=6250.,\n",
    "                    help=\"Maximum wavelength to fit\")\n",
    "parser.add_argument('--snr_phot', type=float, default=20,\n",
    "                    help=\"S/N ratio for the photometry.\")\n",
    "parser.add_argument('--mask_elines', action=\"store_true\",\n",
    "                    help=\"If set, mask windows around bright emission lines\")\n"
   ]
  },
  {
   "cell_type": "code",
   "execution_count": 3,
   "id": "17779744-6574-4b30-bd8d-6e3036182f93",
   "metadata": {},
   "outputs": [],
   "source": [
    "# --------------\n",
    "# MODEL SETUP\n",
    "# --------------\n",
    "\n",
    "\n",
    "def build_model(continuum_order=0, add_neb=False, zred=0., zred_disp=1e-3,\n",
    "                jitter_model=False, outlier_model=False, **kwargs):\n",
    "    \"\"\"Instantiate and return a ProspectorParams model subclass.\n",
    "    \"\"\"\n",
    "    from prospect.models.templates import TemplateLibrary\n",
    "    from prospect.models import priors, sedmodel\n",
    "\n",
    "    # --- Basic SSP at fixed distance (10 kpc) ---\n",
    "    model_params = TemplateLibrary[\"ssp\"]\n",
    "    model_params[\"lumdist\"] = dict(N=1, isfree=False, init=0.01)\n",
    "    model_params[\"tage\"][\"init\"] = 10.0\n",
    "    model_params[\"mass\"][\"prior\"] = priors.LogUniform(mini=1e3, maxi=1e7)\n",
    "    model_params[\"mass\"][\"init\"] = 1e5\n",
    "\n",
    "    # --- Complexify dust attenuation ---\n",
    "    # Cardelli\n",
    "    model_params[\"dust_type\"][\"init\"] = 1\n",
    "    # Slope of the attenuation curve, expressed as R_v\n",
    "    model_params[\"mwr\"] = dict(N=1, isfree=False, init=3.1)\n",
    "\n",
    "    # --- Add smoothing parameters ---\n",
    "    model_params.update(TemplateLibrary[\"spectral_smoothing\"])\n",
    "    model_params[\"sigma_smooth\"][\"prior\"] = priors.TopHat(mini=0, maxi=50)\n",
    "    model_params[\"sigma_smooth\"][\"init\"] = 10.0\n",
    "    # --- Add spectral fitting parameters ---\n",
    "    if continuum_order > 0:\n",
    "        model_params.update(TemplateLibrary[\"optimize_speccal\"])\n",
    "        model_params[\"polyorder\"][\"init\"] = continuum_order\n",
    "\n",
    "    # redshift\n",
    "    model_params['zred'][\"isfree\"] = True\n",
    "    model_params['zred'][\"init\"] = zred\n",
    "    model_params['zred']['prior'] = priors.Normal(mean=zred, sigma=zred_disp)\n",
    "\n",
    "    # Alter parameter values based on keyword arguments\n",
    "    for p in list(model_params.keys()):\n",
    "        if (p in kwargs):\n",
    "            model_params[p][\"init\"] = kwargs[p]\n",
    "\n",
    "    # Alter some priors?\n",
    "    model_params[\"dust2\"][\"prior\"].params[\"maxi\"] = 2.5\n",
    "    model_params[\"logzsol\"][\"prior\"] = priors.TopHat(mini=-2, maxi=0.2)\n",
    "    model_params[\"tage\"][\"prior\"] = priors.TopHat(mini=1, maxi=13.8)\n",
    "\n",
    "    if jitter_model:\n",
    "        #pr = priors.LogNormal(mode=np.log(1.0), sigma=np.log(10))\n",
    "        pr = priors.ClippedNormal(mean=3, sigma=10, mini=0, maxi=100)\n",
    "        jitter = dict(N=1, init=1, isfree=True, prior=pr)\n",
    "        model_params[\"spec_jitter\"] = jitter\n",
    "\n",
    "    if outlier_model:\n",
    "        # just use the defaults\n",
    "        model_params.update(TemplateLibrary[\"outlier_model\"])\n",
    "\n",
    "    if continuum_order > 0:\n",
    "        return sedmodel.PolySpecModel(model_params)\n",
    "    else:\n",
    "        return sedmodel.SpecModel(model_params)\n"
   ]
  },
  {
   "cell_type": "code",
   "execution_count": 4,
   "id": "fc8e672a-10f1-47a7-9224-2551a4278e7e",
   "metadata": {},
   "outputs": [],
   "source": [
    "# --------------\n",
    "# OBS\n",
    "# --------------\n",
    "\n",
    "\n",
    "def build_obs(ggc_data=\"data/ggc/ggc.h5\", ggc_id=\"NGC104\", ggc_index=-1,\n",
    "              snr_spec=0, wave_lo=3800, wave_hi=7200., mask_elines=False,\n",
    "              snr_phot=20., filterset=bessell, norm_band=\"bessell_V\",\n",
    "              continuum_optimize=False, **kwargs):\n",
    "    \"\"\"Load a ggc dataset\n",
    "\n",
    "    :param wave_lo:\n",
    "        The (restframe) minimum wavelength of the spectrum.\n",
    "\n",
    "    :param wave_hi:\n",
    "        The (restframe) maximum wavelength of the spectrum.\n",
    "\n",
    "    :param filterset:\n",
    "        A list of `sedpy` filter names.  Mock photometry will be generated\n",
    "        for these filters.\n",
    "\n",
    "    :param snr_phot:\n",
    "        The S/N of the phock photometry.  This can also be a vector of same\n",
    "        lngth as the number of filters, for heteroscedastic noise.\n",
    "\n",
    "     :returns obs:\n",
    "        Dictionary of observational data.\n",
    "    \"\"\"\n",
    "    import h5py\n",
    "    from prospect.utils.obsutils import fix_obs\n",
    "    with h5py.File(ggc_data, \"r\") as hfile:\n",
    "        if ggc_index >= 0:\n",
    "            ggc_id = list(hfile.keys())[ggc_index]\n",
    "        group = hfile[ggc_id]\n",
    "        info = group[\"info\"][:]\n",
    "        spec = group[\"spec\"][:]\n",
    "\n",
    "    print(ggc_id)\n",
    "\n",
    "    # --- Now fill the obs dictionary ----\n",
    "    obs = dict(cluster=ggc_id, distance_kpc=info[\"dist\"], ebv=info[\"ebv\"], vrad=info[\"vrad\"],\n",
    "               wavelength=spec[\"wavelength\"], spectrum=spec[\"spectrum\"], unc=spec[\"unc\"],\n",
    "               sky=spec[\"sky\"])\n",
    "    obs['mask'] = ((obs[\"wavelength\"] > 0) & (obs[\"unc\"] > 0) &\n",
    "                   (obs[\"wavelength\"] > wave_lo) & (obs[\"wavelength\"] < wave_hi))\n",
    "\n",
    "    bands = [f.split('_')[-1] for f in filterset]\n",
    "    mags = np.squeeze(np.array([info[b] for b in bands]))\n",
    "    # shift to 10 kpc\n",
    "    dm = 5.0 * np.log10(obs[\"distance_kpc\"] / 10.0)\n",
    "    obs[\"filters\"] = load_filters(filterset)\n",
    "    obs[\"maggies\"] = np.squeeze(10**(-0.4 * (mags - dm)))\n",
    "    # The photometry does not come with errors...\n",
    "    obs[\"maggies_unc\"] = obs[\"maggies\"] / snr_phot\n",
    "    obs[\"phot_mask\"] = np.isfinite(obs[\"maggies\"])\n",
    "\n",
    "    obs = normalize_ggc_spec(obs, norm_band=norm_band)\n",
    "\n",
    "    # continuum normalize ?\n",
    "    if continuum_optimize:\n",
    "        pass\n",
    "        # This fits a low order polynomial to the spectrum and then divides by\n",
    "        # that to get a continuum normalized spectrum.\n",
    "        #cont, _ = fit_continuum(obs[\"wavelength\"], spec, normorder=6, nreject=3)\n",
    "        #cont = cont / cont.mean()\n",
    "        #spec = spec / cont\n",
    "        #obs[\"continuum\"] = cont\n",
    "\n",
    "    # Masking\n",
    "    if mask_elines:\n",
    "        a = (1 + obs[\"vrad\"] / 2.998e5)\n",
    "        # vacuum , observed frame\n",
    "        bad_obsframe = [(4152., 4165.), (4540., 4560.),\n",
    "                        (5042., 5057.), (5572., 5587.),  # ?, OI\n",
    "                        (5885., 5905.),  # NaD\n",
    "                        (6055., 6080.), (6220., 6230.),\n",
    "                        (6295., 6310.), (6330., 6380.)]  # OI, OI\n",
    "        lines = [(lo / a, hi/a) for lo, hi in bad_obsframe]\n",
    "\n",
    "        obs['mask'] = obs['mask'] & eline_mask(obs['wavelength'], lines, pad=18.)\n",
    "\n",
    "    obs['phot_wave'] = np.array([f.wave_effective for f in obs['filters']])\n",
    "    obs['phot_mask'] = obs['phot_wave'] < 6e4  # only the two blue WISE filters\n",
    "\n",
    "    return fix_obs(obs)\n"
   ]
  },
  {
   "cell_type": "code",
   "execution_count": 5,
   "id": "c1256118-8a35-404b-99ca-fbeed5d309a2",
   "metadata": {},
   "outputs": [],
   "source": [
    "# --------------\n",
    "# SPS Object\n",
    "# --------------\n",
    "\n",
    "def build_sps(zcontinuous=1, compute_vega_mags=False, add_realism=False, **extras):\n",
    "    \"\"\"Load the SPS object.  If add_realism is True, set up to convolve the\n",
    "    library spectra to an sdss resolution\n",
    "    \"\"\"\n",
    "    from prospect.sources import FastSSPBasis\n",
    "    sps = FastSSPBasis(zcontinuous=zcontinuous,\n",
    "                       compute_vega_mags=compute_vega_mags)\n",
    "    if add_realism:\n",
    "        set_ggc_lsf(sps.ssp, **extras)\n",
    "\n",
    "    return sps\n"
   ]
  },
  {
   "cell_type": "code",
   "execution_count": 6,
   "id": "e1484a3b-a057-4071-9bd0-e533caf9907b",
   "metadata": {},
   "outputs": [],
   "source": [
    "# -----------------\n",
    "# Noise Model\n",
    "# ------------------\n",
    "\n",
    "\n",
    "def build_noise(jitter_model=False, **extras):\n",
    "    if jitter_model:\n",
    "        from prospect.likelihood import NoiseModel\n",
    "        from prospect.likelihood.kernels import Uncorrelated\n",
    "        kernel = Uncorrelated(parnames=[\"spec_jitter\"])\n",
    "        spec_noise = NoiseModel(kernels=[kernel], weight_by=[\"unc\"],\n",
    "                                metric_name=\"unc\")\n",
    "    else:\n",
    "        spec_noise = None\n",
    "\n",
    "    return spec_noise, None"
   ]
  },
  {
   "cell_type": "code",
   "execution_count": 7,
   "id": "4c44731a-6a11-4108-87d0-66498503b516",
   "metadata": {},
   "outputs": [],
   "source": [
    "# -----------\n",
    "# Everything\n",
    "# ------------\n",
    "\n",
    "\n",
    "def build_all(**kwargs):\n",
    "\n",
    "    return (build_obs(**kwargs), build_model(**kwargs),\n",
    "            build_sps(**kwargs), build_noise(**kwargs))\n"
   ]
  },
  {
   "cell_type": "code",
   "execution_count": 8,
   "id": "c71b7b31-0be0-4414-ab2e-abe7cdbcb0df",
   "metadata": {},
   "outputs": [],
   "source": [
    "# -----------------\n",
    "# Helper Functions\n",
    "# ------------------\n",
    "\n",
    "\n",
    "def normalize_ggc_spec(obs, norm_band=\"bessell_B\"):\n",
    "    \"\"\"Normalize the spectrum to a photometric band\n",
    "    \"\"\"\n",
    "    from sedpy.observate import getSED\n",
    "    from prospect.sources.constants import lightspeed, jansky_cgs\n",
    "\n",
    "    bands = list([f.name for f in obs['filters']])\n",
    "    norm_index = bands.index(norm_band)\n",
    "\n",
    "    synphot = getSED(obs['wavelength'], obs['spectrum'], obs['filters'])\n",
    "    synphot = np.atleast_1d(synphot)\n",
    "    # Factor by which the observed spectra should be *divided* to give you the\n",
    "    #  photometry (or the cgs apparent spectrum), using the given filter as\n",
    "    #  truth.  Alternatively, the factor by which the model spectrum (in cgs\n",
    "    #  apparent) should be multiplied to give you the observed spectrum.\n",
    "    norm = 10**(-0.4 * synphot[norm_index]) / obs['maggies'][norm_index]\n",
    "    wave = obs[\"wavelength\"]\n",
    "    flambda_to_maggies = wave * (wave/lightspeed) / jansky_cgs / 3631\n",
    "    maggies = obs[\"spectrum\"] / norm * flambda_to_maggies\n",
    "    obs[\"spectrum\"] = maggies\n",
    "    obs[\"unc\"] = obs[\"unc\"] / norm * flambda_to_maggies\n",
    "    if \"sky\" in obs:\n",
    "        obs[\"sky\"] = obs[\"sky\"] / norm * flambda_to_maggies\n",
    "\n",
    "    obs[\"norm_band\"] = norm_band\n",
    "    return obs\n"
   ]
  },
  {
   "cell_type": "code",
   "execution_count": 12,
   "id": "e9d7deb4-dee7-49a0-8ecb-6730f7eda4bc",
   "metadata": {},
   "outputs": [],
   "source": [
    "#if __name__ == \"__main__\":\n",
    "if __name__ == \"__nb__\":\n",
    "\n",
    "    args = parser.parse_args()\n",
    "    run_params = vars(args)\n",
    "    obs, model, sps, noise = build_all(**run_params)\n",
    "\n",
    "    run_params[\"param_file\"] = __file__\n",
    "    run_params[\"sps_libraries\"] = sps.ssp.libraries\n",
    "\n",
    "    print(model)\n",
    "\n",
    "    if args.debug:\n",
    "        sys.exit()\n",
    "\n",
    "    #hfile = setup_h5(model=model, obs=obs, **run_params)\n",
    "    ts = time.strftime(\"%y%b%d-%H.%M\", time.localtime())\n",
    "    hfile = \"{0}_{1}_mcmc.h5\".format(args.outfile, ts)\n",
    "\n",
    "    output = fit_model(obs, model, sps, noise, **run_params)\n",
    "\n",
    "    print(\"writing to {}\".format(hfile))\n",
    "    writer.write_hdf5(hfile, run_params, model, obs,\n",
    "                      output[\"sampling\"][0], output[\"optimization\"][0],\n",
    "                      sps=sps,\n",
    "                      tsample=output[\"sampling\"][1],\n",
    "                      toptimize=output[\"optimization\"][1])\n",
    "\n",
    "    try:\n",
    "        hfile.close()\n",
    "    except(AttributeError):\n",
    "        pass\n"
   ]
  },
  {
   "cell_type": "code",
   "execution_count": 49,
   "id": "606c6754-01c0-4b9b-a635-44bc48b67d7d",
   "metadata": {},
   "outputs": [],
   "source": [
    "mock=\"--zred=0.1 --tau=4 --tage=12 --logzsol=-0.3 --mass=1e10 --dust2=0.3\"\n",
    "opts=\"--add_duste --add_neb\"\n",
    "data=\"--add_noise --mask_elines --continuum_optimize\"\n",
    "fit=\"--dynesty --nested_method=rwalk\"\n",
    "\n",
    "# photometry only\n",
    "#python specphot_demo.py $fit $mock $opts --zred_disp=1e-3 \\\n",
    "#                        $data --snr_spec=0 --snr_phot=20 \\\n",
    "#                        --outfile=../output/mock_parametric_phot\n",
    "\n",
    "# spectroscopy only\n",
    "#python specphot_demo.py $fit $mock $opts --zred_disp=1e-3 \\\n",
    "#                        $data --snr_spec=10 --snr_phot=0 \\\n",
    "#                        --outfile=../output/mock_parametric_spec\n",
    "\n",
    "# photometry + spectroscopy\n",
    "#python specphot_demo.py $fit $mock $opts --zred_disp=1e-3 \\\n",
    "#                        $data --snr_spec=10 --snr_phot=20 \\\n",
    "#                        --outfile=../output/mock_parametric_specphot\n"
   ]
  },
  {
   "cell_type": "code",
   "execution_count": 70,
   "id": "a69df398-0f48-4d39-859a-bcae914b5dcd",
   "metadata": {},
   "outputs": [],
   "source": [
    "args = parser.parse_args(args=[])"
   ]
  },
  {
   "cell_type": "code",
   "execution_count": 71,
   "id": "4f0d374a-759a-446b-9948-6f94c4b80747",
   "metadata": {},
   "outputs": [
    {
     "data": {
      "text/plain": [
       "Namespace(add_neb=False, add_realism=False, continuum_order=0, debug=False, dynesty=False, ggc_data='data/ggc.h5', ggc_id='NGC104', ggc_index=-1, jitter_model=False, mask_elines=False, min_method='lm', min_opts={}, nested_bootstrap=0, nested_bound='multi', nested_dlogz_init=0.05, nested_maxbatch=10, nested_maxcall=50000000, nested_maxiter=1000000, nested_nlive_batch=100, nested_nlive_init=100, nested_sample='slice', nested_target_n_effective=10000, nested_walks=48, nmin=1, optimize=False, outfile='prospector_test_run', outlier_model=False, output_pickle=False, snr_phot=20, verbose=1, wave_hi=6250.0, wave_lo=3800.0, zcontinuous=1, zred=0.0, zred_disp=0.001)"
      ]
     },
     "execution_count": 71,
     "metadata": {},
     "output_type": "execute_result"
    }
   ],
   "source": [
    "args"
   ]
  },
  {
   "cell_type": "code",
   "execution_count": 31,
   "id": "e7c75f15-6c2b-436d-a6d0-fc4ea8beb11f",
   "metadata": {},
   "outputs": [
    {
     "name": "stdout",
     "output_type": "stream",
     "text": [
      "verbose=1 \n",
      " debug=False \n",
      " outfile=prospector_test_run \n",
      " output_pickle=False \n",
      " zcontinuous=1 \n",
      " optimize=False \n",
      " min_method=lm \n",
      " min_opts={} \n",
      " nmin=1 \n",
      " dynesty=False \n",
      " nested_bound=multi \n",
      " nested_sample=slice \n",
      " nested_walks=48 \n",
      " nested_nlive_init=100 \n",
      " nested_nlive_batch=100 \n",
      " nested_dlogz_init=0.05 \n",
      " nested_maxcall=50000000 \n",
      " nested_maxiter=1000000 \n",
      " nested_maxbatch=10 \n",
      " nested_bootstrap=0 \n",
      " nested_target_n_effective=10000 \n",
      " zred=0.0 \n",
      " zred_disp=0.001 \n",
      " add_neb=False \n",
      " add_realism=False \n",
      " continuum_order=0 \n",
      " outlier_model=False \n",
      " jitter_model=False \n",
      " ggc_data=data/ggc.h5 \n",
      " ggc_id=NGC104 \n",
      " ggc_index=-1 \n",
      " wave_lo=3800.0 \n",
      " wave_hi=6250.0 \n",
      " snr_phot=20 \n",
      " mask_elines=False \n",
      "\n"
     ]
    }
   ],
   "source": [
    "print(' '.join(f'{k}={v} \\n' for k, v in vars(args).items()))"
   ]
  },
  {
   "cell_type": "code",
   "execution_count": 79,
   "id": "c42efa2c-dd39-4584-861b-24dfda5f1c59",
   "metadata": {},
   "outputs": [],
   "source": [
    "mock=\"--zred=0.1 --tau=4 --tage=12 --logzsol=-0.3 --mass=1e10 --dust2=0.3\"\n",
    "opts=\"--add_duste --add_neb\"\n",
    "data=\"--add_noise --mask_elines --continuum_optimize\"\n",
    "fit=\"--dynesty --nested_method=rwalk\""
   ]
  },
  {
   "cell_type": "code",
   "execution_count": 98,
   "id": "a7c1b64e-465f-4521-b1a4-8977bb2174fc",
   "metadata": {},
   "outputs": [],
   "source": [
    "parser.set_defaults(zred=0.1,tau=4,tage=12,logzsol=-0.3,mass=1e10,dust2=0.3)\n",
    "parser.set_defaults(add_duste=True,add_neb=True)\n",
    "parser.set_defaults(add_noise=True,mask_elines=False,continuum_optimize=True)\n",
    "parser.set_defaults(dynesty=True,nested_method='rwalk')\n",
    "parser.set_defaults(zred_disp=1e-3,snr_spec=10,snr_phot=0,outfile=\"../output/mock_parametric_spec\")"
   ]
  },
  {
   "cell_type": "code",
   "execution_count": 99,
   "id": "520849ec-0ab6-4153-8d77-a7b69f11a900",
   "metadata": {},
   "outputs": [],
   "source": [
    "args = parser.parse_args(args=[])"
   ]
  },
  {
   "cell_type": "code",
   "execution_count": 100,
   "id": "7920f736-0e4b-4470-9d98-8c7f311f6d13",
   "metadata": {},
   "outputs": [
    {
     "data": {
      "text/plain": [
       "Namespace(add_duste=True, add_neb=True, add_noise=True, add_realism=False, continuum_optimize=True, continuum_order=0, debug=False, dust2=0.3, dynesty=True, ggc_data='data/ggc.h5', ggc_id='NGC104', ggc_index=-1, jitter_model=False, logzsol=-0.3, mask_elines=False, mass=10000000000.0, min_method='lm', min_opts={}, nested_bootstrap=0, nested_bound='multi', nested_dlogz_init=0.05, nested_maxbatch=10, nested_maxcall=50000000, nested_maxiter=1000000, nested_method='rwalk', nested_nlive_batch=100, nested_nlive_init=100, nested_sample='slice', nested_target_n_effective=10000, nested_walks=48, nmin=1, optimize=False, outfile='../output/mock_parametric_spec', outlier_model=False, output_pickle=False, snr_phot=0, snr_spec=10, tage=12, tau=4, verbose=1, wave_hi=6250.0, wave_lo=3800.0, zcontinuous=1, zred=0.1, zred_disp=0.001)"
      ]
     },
     "execution_count": 100,
     "metadata": {},
     "output_type": "execute_result"
    }
   ],
   "source": [
    "args"
   ]
  },
  {
   "cell_type": "code",
   "execution_count": 101,
   "id": "5cafab29-1759-4be4-b0d8-e2ecff58464f",
   "metadata": {},
   "outputs": [
    {
     "name": "stdout",
     "output_type": "stream",
     "text": [
      "verbose=1 \n",
      " debug=False \n",
      " outfile=../output/mock_parametric_spec \n",
      " output_pickle=False \n",
      " zcontinuous=1 \n",
      " optimize=False \n",
      " min_method=lm \n",
      " min_opts={} \n",
      " nmin=1 \n",
      " dynesty=True \n",
      " nested_bound=multi \n",
      " nested_sample=slice \n",
      " nested_walks=48 \n",
      " nested_nlive_init=100 \n",
      " nested_nlive_batch=100 \n",
      " nested_dlogz_init=0.05 \n",
      " nested_maxcall=50000000 \n",
      " nested_maxiter=1000000 \n",
      " nested_maxbatch=10 \n",
      " nested_bootstrap=0 \n",
      " nested_target_n_effective=10000 \n",
      " zred=0.1 \n",
      " zred_disp=0.001 \n",
      " add_neb=True \n",
      " add_realism=False \n",
      " continuum_order=0 \n",
      " outlier_model=False \n",
      " jitter_model=False \n",
      " ggc_data=data/ggc.h5 \n",
      " ggc_id=NGC104 \n",
      " ggc_index=-1 \n",
      " wave_lo=3800.0 \n",
      " wave_hi=6250.0 \n",
      " snr_phot=0 \n",
      " mask_elines=False \n",
      " tau=4 \n",
      " tage=12 \n",
      " logzsol=-0.3 \n",
      " mass=10000000000.0 \n",
      " dust2=0.3 \n",
      " add_duste=True \n",
      " add_noise=True \n",
      " continuum_optimize=True \n",
      " nested_method=rwalk \n",
      " snr_spec=10 \n",
      "\n"
     ]
    }
   ],
   "source": [
    "print(' '.join(f'{k}={v} \\n' for k, v in vars(args).items()))"
   ]
  },
  {
   "cell_type": "code",
   "execution_count": 102,
   "id": "2b941f11-90d6-4d98-bd88-dbdad584f3ad",
   "metadata": {},
   "outputs": [
    {
     "name": "stdout",
     "output_type": "stream",
     "text": [
      "NGC104\n"
     ]
    },
    {
     "name": "stderr",
     "output_type": "stream",
     "text": [
      "/var/folders/rk/cnrspsj13_3cgmh8p4m_mxww0000gp/T/ipykernel_86558/1865897458.py:54: RuntimeWarning: divide by zero encountered in divide\n",
      "  obs[\"maggies_unc\"] = obs[\"maggies\"] / snr_phot\n"
     ]
    }
   ],
   "source": [
    "run_params = vars(args)\n",
    "obs, model, sps, noise = build_all(**run_params)"
   ]
  },
  {
   "cell_type": "code",
   "execution_count": 104,
   "id": "6e665d05-fa56-47d3-b951-73a540a3ab05",
   "metadata": {},
   "outputs": [
    {
     "name": "stdout",
     "output_type": "stream",
     "text": [
      ":::::::\n",
      "<class 'prospect.models.sedmodel.SpecModel'>\n",
      "\n",
      "Free Parameters: (name: prior) \n",
      "-----------\n",
      "  zred: <class 'prospect.models.priors.Normal'>(mean=0.1,sigma=0.001)\n",
      "  mass: <class 'prospect.models.priors.LogUniform'>(mini=1000.0,maxi=10000000.0)\n",
      "  logzsol: <class 'prospect.models.priors.TopHat'>(mini=-2,maxi=0.2)\n",
      "  dust2: <class 'prospect.models.priors.TopHat'>(mini=0.0,maxi=2.5)\n",
      "  tage: <class 'prospect.models.priors.TopHat'>(mini=1,maxi=13.8)\n",
      "  sigma_smooth: <class 'prospect.models.priors.TopHat'>(mini=0,maxi=50)\n",
      "\n",
      "Fixed Parameters: (name: value [, depends_on]) \n",
      "-----------\n",
      "  sfh: [0] \n",
      "  imf_type: [2] \n",
      "  dust_type: [1] \n",
      "  lumdist: [0.01] \n",
      "  mwr: [3.1] \n",
      "  smoothtype: ['vel'] \n",
      "  fftsmooth: [ True] \n"
     ]
    }
   ],
   "source": [
    "\n",
    "run_params[\"param_file\"] = \"specphot_demo\"\n",
    "run_params[\"sps_libraries\"] = sps.ssp.libraries\n",
    "\n",
    "print(model)\n",
    "\n",
    "if args.debug:\n",
    "    sys.exit()"
   ]
  },
  {
   "cell_type": "code",
   "execution_count": null,
   "id": "9d805a28-5885-4727-a43b-e6ab46948433",
   "metadata": {},
   "outputs": [
    {
     "name": "stderr",
     "output_type": "stream",
     "text": [
      "iter: 6532 | batch: 0 | nc: 1 | ncall: 592006 | eff(%):  1.103 | logz: -31343278.431 +/-  0.731 | dlogz:  0.000 >  0.050          "
     ]
    },
    {
     "name": "stdout",
     "output_type": "stream",
     "text": [
      "\n",
      "done dynesty (initial) in 5262.322297096252s\n"
     ]
    },
    {
     "name": "stderr",
     "output_type": "stream",
     "text": [
      "iter: 10170 | batch: 7 | nc: 97 | ncall: 881455 | eff(%):  1.075 | loglstar: -31343226.383 < -31343225.537 < -31343219.516 | logz: -31343278.117 +/-  0.326 | stop:  2.780     "
     ]
    }
   ],
   "source": [
    "#hfile = setup_h5(model=model, obs=obs, **run_params)\n",
    "ts = time.strftime(\"%y%b%d-%H.%M\", time.localtime())\n",
    "hfile = \"{0}_{1}_mcmc.h5\".format(args.outfile, ts)\n",
    "\n",
    "output = fit_model(obs, model, sps, noise, **run_params)\n",
    "\n",
    "print(\"writing to {}\".format(hfile))\n",
    "writer.write_hdf5(hfile, run_params, model, obs,output[\"sampling\"][0], output[\"optimization\"][0],\n",
    "                      sps=sps,\n",
    "                      tsample=output[\"sampling\"][1],\n",
    "                      toptimize=output[\"optimization\"][1])\n",
    "\n",
    "try:\n",
    "    hfile.close()\n",
    "except(AttributeError):\n",
    "    pass"
   ]
  },
  {
   "cell_type": "code",
   "execution_count": null,
   "id": "83632ce2-2e4e-4f71-b659-02e69363fd32",
   "metadata": {},
   "outputs": [],
   "source": [
    "!ls"
   ]
  },
  {
   "cell_type": "code",
   "execution_count": null,
   "id": "63426827-c70c-4a80-a892-9dad09df4cd1",
   "metadata": {},
   "outputs": [],
   "source": []
  }
 ],
 "metadata": {
  "kernelspec": {
   "display_name": "prospector",
   "language": "python",
   "name": "prospector"
  },
  "language_info": {
   "codemirror_mode": {
    "name": "ipython",
    "version": 3
   },
   "file_extension": ".py",
   "mimetype": "text/x-python",
   "name": "python",
   "nbconvert_exporter": "python",
   "pygments_lexer": "ipython3",
   "version": "3.8.16"
  }
 },
 "nbformat": 4,
 "nbformat_minor": 5
}
