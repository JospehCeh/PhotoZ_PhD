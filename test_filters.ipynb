{
 "cells": [
  {
   "cell_type": "code",
   "execution_count": 1,
   "id": "7c9c8934",
   "metadata": {},
   "outputs": [],
   "source": [
    "from EmuLP import Filter, Template, Cosmology, Extinction, Galaxy\n",
    "import numpy as np\n",
    "import matplotlib.pyplot as plt\n",
    "import sys, os\n",
    "import json\n",
    "import pandas as pd"
   ]
  },
  {
   "cell_type": "code",
   "execution_count": 2,
   "id": "cf75e5f4",
   "metadata": {},
   "outputs": [
    {
     "data": {
      "text/plain": [
       "30"
      ]
     },
     "execution_count": 2,
     "metadata": {},
     "output_type": "execute_result"
    }
   ],
   "source": [
    "cosmos_filt_dir = os.path.abspath('./LEPHARE/filt')\n",
    "cosmos_filt_list = [ os.path.join(cosmos_filt_dir, filt) for filt in [\"cosmos/u_cfht.lowres\",\\\n",
    "                                                                      \"cosmos/u_new.pb\",\\\n",
    "                                                                      \"hsc/gHSC.pb\",\\\n",
    "                                                                      \"hsc/rHSC.pb\",\\\n",
    "                                                                      \"hsc/iHSC.pb\",\\\n",
    "                                                                      \"hsc/zHSC.pb\",\\\n",
    "                                                                      \"hsc/yHSC.pb\",\\\n",
    "                                                                      \"vista/Y.lowres\",\\\n",
    "                                                                      \"vista/J.lowres\",\\\n",
    "                                                                      \"vista/H.lowres\",\\\n",
    "                                                                      \"vista/K.lowres\",\\\n",
    "                                                                      \"cosmos/IB427.lowres\",\\\n",
    "                                                                      \"cosmos/IB464.lowres\",\\\n",
    "                                                                      \"cosmos/IB484.lowres\",\\\n",
    "                                                                      \"cosmos/IB505.lowres\",\\\n",
    "                                                                      \"cosmos/IB527.lowres\",\\\n",
    "                                                                      \"cosmos/IB574.lowres\",\\\n",
    "                                                                      \"cosmos/IB624.lowres\",\\\n",
    "                                                                      \"cosmos/IB679.lowres\",\\\n",
    "                                                                      \"cosmos/IB709.lowres\",\\\n",
    "                                                                      \"cosmos/IB738.lowres\",\\\n",
    "                                                                      \"cosmos/IB767.lowres\",\\\n",
    "                                                                      \"cosmos/IB827.lowres\",\\\n",
    "                                                                      \"cosmos/NB711.lowres\",\\\n",
    "                                                                      \"cosmos/NB816.lowres\",\\\n",
    "                                                                      \"vista/NB118.lowres\",\\\n",
    "                                                                      \"cosmos/irac_ch1.lowres\",\\\n",
    "                                                                      \"cosmos/irac_ch2.lowres\",\\\n",
    "                                                                      \"cosmos/irac_ch3.lowres\",\\\n",
    "                                                                      \"cosmos/irac_ch4.lowres\"]\n",
    "                   ]\n",
    "N_FILT=len(cosmos_filt_list)\n",
    "N_FILT"
   ]
  },
  {
   "cell_type": "code",
   "execution_count": 3,
   "id": "ba89685b",
   "metadata": {},
   "outputs": [
    {
     "name": "stdout",
     "output_type": "stream",
     "text": [
      "30\n"
     ]
    }
   ],
   "source": [
    "filt_trans_type = [1,1,1,1,1,1,1,1,1,1,1,1,1,1,1,1,1,1,1,1,1,1,1,1,1,1,1,1,1,1]\n",
    "assert len(filt_trans_type)==N_FILT\n",
    "print(len(filt_trans_type))\n"
   ]
  },
  {
   "cell_type": "code",
   "execution_count": 4,
   "id": "8ade2b4e",
   "metadata": {},
   "outputs": [
    {
     "data": {
      "text/plain": [
       "{'cosmos_u_cfht': {'path': '/home/joseph/PhotoZ_PhD/LEPHARE/filt/cosmos/u_cfht.lowres',\n",
       "  'transmission': 'photons'},\n",
       " 'cosmos_u_new': {'path': '/home/joseph/PhotoZ_PhD/LEPHARE/filt/cosmos/u_new.pb',\n",
       "  'transmission': 'photons'},\n",
       " 'hsc_gHSC': {'path': '/home/joseph/PhotoZ_PhD/LEPHARE/filt/hsc/gHSC.pb',\n",
       "  'transmission': 'photons'},\n",
       " 'hsc_rHSC': {'path': '/home/joseph/PhotoZ_PhD/LEPHARE/filt/hsc/rHSC.pb',\n",
       "  'transmission': 'photons'},\n",
       " 'hsc_iHSC': {'path': '/home/joseph/PhotoZ_PhD/LEPHARE/filt/hsc/iHSC.pb',\n",
       "  'transmission': 'photons'},\n",
       " 'hsc_zHSC': {'path': '/home/joseph/PhotoZ_PhD/LEPHARE/filt/hsc/zHSC.pb',\n",
       "  'transmission': 'photons'},\n",
       " 'hsc_yHSC': {'path': '/home/joseph/PhotoZ_PhD/LEPHARE/filt/hsc/yHSC.pb',\n",
       "  'transmission': 'photons'},\n",
       " 'vista_Y': {'path': '/home/joseph/PhotoZ_PhD/LEPHARE/filt/vista/Y.lowres',\n",
       "  'transmission': 'photons'},\n",
       " 'vista_J': {'path': '/home/joseph/PhotoZ_PhD/LEPHARE/filt/vista/J.lowres',\n",
       "  'transmission': 'photons'},\n",
       " 'vista_H': {'path': '/home/joseph/PhotoZ_PhD/LEPHARE/filt/vista/H.lowres',\n",
       "  'transmission': 'photons'},\n",
       " 'vista_K': {'path': '/home/joseph/PhotoZ_PhD/LEPHARE/filt/vista/K.lowres',\n",
       "  'transmission': 'photons'},\n",
       " 'cosmos_IB427': {'path': '/home/joseph/PhotoZ_PhD/LEPHARE/filt/cosmos/IB427.lowres',\n",
       "  'transmission': 'photons'},\n",
       " 'cosmos_IB464': {'path': '/home/joseph/PhotoZ_PhD/LEPHARE/filt/cosmos/IB464.lowres',\n",
       "  'transmission': 'photons'},\n",
       " 'cosmos_IB484': {'path': '/home/joseph/PhotoZ_PhD/LEPHARE/filt/cosmos/IB484.lowres',\n",
       "  'transmission': 'photons'},\n",
       " 'cosmos_IB505': {'path': '/home/joseph/PhotoZ_PhD/LEPHARE/filt/cosmos/IB505.lowres',\n",
       "  'transmission': 'photons'},\n",
       " 'cosmos_IB527': {'path': '/home/joseph/PhotoZ_PhD/LEPHARE/filt/cosmos/IB527.lowres',\n",
       "  'transmission': 'photons'},\n",
       " 'cosmos_IB574': {'path': '/home/joseph/PhotoZ_PhD/LEPHARE/filt/cosmos/IB574.lowres',\n",
       "  'transmission': 'photons'},\n",
       " 'cosmos_IB624': {'path': '/home/joseph/PhotoZ_PhD/LEPHARE/filt/cosmos/IB624.lowres',\n",
       "  'transmission': 'photons'},\n",
       " 'cosmos_IB679': {'path': '/home/joseph/PhotoZ_PhD/LEPHARE/filt/cosmos/IB679.lowres',\n",
       "  'transmission': 'photons'},\n",
       " 'cosmos_IB709': {'path': '/home/joseph/PhotoZ_PhD/LEPHARE/filt/cosmos/IB709.lowres',\n",
       "  'transmission': 'photons'},\n",
       " 'cosmos_IB738': {'path': '/home/joseph/PhotoZ_PhD/LEPHARE/filt/cosmos/IB738.lowres',\n",
       "  'transmission': 'photons'},\n",
       " 'cosmos_IB767': {'path': '/home/joseph/PhotoZ_PhD/LEPHARE/filt/cosmos/IB767.lowres',\n",
       "  'transmission': 'photons'},\n",
       " 'cosmos_IB827': {'path': '/home/joseph/PhotoZ_PhD/LEPHARE/filt/cosmos/IB827.lowres',\n",
       "  'transmission': 'photons'},\n",
       " 'cosmos_NB711': {'path': '/home/joseph/PhotoZ_PhD/LEPHARE/filt/cosmos/NB711.lowres',\n",
       "  'transmission': 'photons'},\n",
       " 'cosmos_NB816': {'path': '/home/joseph/PhotoZ_PhD/LEPHARE/filt/cosmos/NB816.lowres',\n",
       "  'transmission': 'photons'},\n",
       " 'vista_NB118': {'path': '/home/joseph/PhotoZ_PhD/LEPHARE/filt/vista/NB118.lowres',\n",
       "  'transmission': 'photons'},\n",
       " 'cosmos_irac_ch1': {'path': '/home/joseph/PhotoZ_PhD/LEPHARE/filt/cosmos/irac_ch1.lowres',\n",
       "  'transmission': 'photons'},\n",
       " 'cosmos_irac_ch2': {'path': '/home/joseph/PhotoZ_PhD/LEPHARE/filt/cosmos/irac_ch2.lowres',\n",
       "  'transmission': 'photons'},\n",
       " 'cosmos_irac_ch3': {'path': '/home/joseph/PhotoZ_PhD/LEPHARE/filt/cosmos/irac_ch3.lowres',\n",
       "  'transmission': 'photons'},\n",
       " 'cosmos_irac_ch4': {'path': '/home/joseph/PhotoZ_PhD/LEPHARE/filt/cosmos/irac_ch4.lowres',\n",
       "  'transmission': 'photons'}}"
      ]
     },
     "execution_count": 4,
     "metadata": {},
     "output_type": "execute_result"
    }
   ],
   "source": [
    "filt_dict = {}\n",
    "for filt, trans_typ in zip(cosmos_filt_list, filt_trans_type):\n",
    "    folder, file = filt.split('/')[-2:]\n",
    "    name=folder+\"_\"+file.split('.')[0]\n",
    "    if trans_typ == 1:\n",
    "        transm = \"photons\"\n",
    "    else:\n",
    "        transm = \"energy\"\n",
    "    filt_dict[name] = {\"path\" : filt, \"transmission\" : transm}\n",
    "filt_dict"
   ]
  },
  {
   "cell_type": "code",
   "execution_count": 5,
   "id": "e713fb14",
   "metadata": {},
   "outputs": [],
   "source": [
    "test_key = 'hsc_gHSC'\n",
    "test_filt = Filter.Filter(test_key, filt_dict[test_key][\"path\"], filt_dict[test_key][\"transmission\"])"
   ]
  },
  {
   "cell_type": "code",
   "execution_count": 6,
   "id": "1e6f7b8a",
   "metadata": {},
   "outputs": [
    {
     "data": {
      "text/plain": [
       "<Filter object : name=hsc_gHSC ; path=/home/joseph/PhotoZ_PhD/LEPHARE/filt/hsc/gHSC.pb>"
      ]
     },
     "execution_count": 6,
     "metadata": {},
     "output_type": "execute_result"
    }
   ],
   "source": [
    "test_filt"
   ]
  },
  {
   "cell_type": "code",
   "execution_count": 7,
   "id": "0fcb28c3",
   "metadata": {},
   "outputs": [
    {
     "name": "stdout",
     "output_type": "stream",
     "text": [
      "hsc_gHSC filter, from file : /home/joseph/PhotoZ_PhD/LEPHARE/filt/hsc/gHSC.pb.\n"
     ]
    }
   ],
   "source": [
    "print(test_filt)"
   ]
  },
  {
   "cell_type": "code",
   "execution_count": 8,
   "id": "2022a535",
   "metadata": {},
   "outputs": [
    {
     "data": {
      "text/plain": [
       "[<matplotlib.lines.Line2D at 0x7ff95e3d1490>]"
      ]
     },
     "execution_count": 8,
     "metadata": {},
     "output_type": "execute_result"
    },
    {
     "data": {
      "image/png": "[encoded data removed]",
      "text/plain": [
       "<Figure size 640x480 with 1 Axes>"
      ]
     },
     "metadata": {},
     "output_type": "display_data"
    }
   ],
   "source": [
    "plt.plot(test_filt.wavelengths, test_filt.transmit)"
   ]
  },
  {
   "cell_type": "code",
   "execution_count": 9,
   "id": "fdbdadab",
   "metadata": {},
   "outputs": [
    {
     "data": {
      "text/plain": [
       "789.3310455941148"
      ]
     },
     "execution_count": 9,
     "metadata": {},
     "output_type": "execute_result"
    }
   ],
   "source": [
    "np.trapz(test_filt.transmit, test_filt.wavelengths)"
   ]
  },
  {
   "cell_type": "code",
   "execution_count": 10,
   "id": "f64d7a25",
   "metadata": {},
   "outputs": [
    {
     "data": {
      "text/plain": [
       "4815.86385739943"
      ]
     },
     "execution_count": 10,
     "metadata": {},
     "output_type": "execute_result"
    }
   ],
   "source": [
    "test_filt.mean_wl"
   ]
  },
  {
   "cell_type": "code",
   "execution_count": 11,
   "id": "7f086238",
   "metadata": {},
   "outputs": [
    {
     "data": {
      "text/plain": [
       "['/home/joseph/PhotoZ_PhD/LEPHARE/sed/GAL/FORS2_KinCalClus_batch5/AVG_CLUST_CWW_Sbc_ext.sed',\n",
       " '/home/joseph/PhotoZ_PhD/LEPHARE/sed/GAL/FORS2_KinCalClus_batch5/AVG_CLUST_CWW_E_ext.sed',\n",
       " '/home/joseph/PhotoZ_PhD/LEPHARE/sed/GAL/FORS2_KinCalClus_batch5/AVG_CLUST_CWW_Im_ext.sed',\n",
       " '/home/joseph/PhotoZ_PhD/LEPHARE/sed/GAL/FORS2_KinCalClus_batch5/AVG_CLUST_CWW_Scd_ext.sed',\n",
       " '/home/joseph/PhotoZ_PhD/LEPHARE/sed/GAL/FORS2_KinCalClus_batch5/AVG_CLUST_KIN_Sb_ext.sed',\n",
       " '/home/joseph/PhotoZ_PhD/LEPHARE/sed/GAL/FORS2_KinCalClus_batch5/AVG_CLUST_KIN_Sa_ext.sed',\n",
       " '/home/joseph/PhotoZ_PhD/LEPHARE/sed/GAL/FORS2_KinCalClus_batch5/Zsup1_CLUST_CWW_Sbc_ext_id226.sed',\n",
       " '/home/joseph/PhotoZ_PhD/LEPHARE/sed/GAL/FORS2_KinCalClus_batch5/Zsup1_CLUST_CWW_Sbc_ext_id227.sed',\n",
       " '/home/joseph/PhotoZ_PhD/LEPHARE/sed/GAL/FORS2_KinCalClus_batch5/Zsup1_CLUST_CWW_Sbc_ext_id451.sed',\n",
       " '/home/joseph/PhotoZ_PhD/LEPHARE/sed/GAL/FORS2_KinCalClus_batch5/Zsup1_CLUST_CWW_Sbc_ext_id714.sed',\n",
       " '/home/joseph/PhotoZ_PhD/LEPHARE/sed/GAL/FORS2_KinCalClus_batch5/EXT1_CLUST_CWW_Sbc_ext_id496.sed',\n",
       " '/home/joseph/PhotoZ_PhD/LEPHARE/sed/GAL/FORS2_KinCalClus_batch5/EXT2_CLUST_CWW_Sbc_ext_id589.sed',\n",
       " '/home/joseph/PhotoZ_PhD/LEPHARE/sed/GAL/FORS2_KinCalClus_batch5/EXT1_CLUST_CWW_E_ext_id304.sed',\n",
       " '/home/joseph/PhotoZ_PhD/LEPHARE/sed/GAL/FORS2_KinCalClus_batch5/EXT2_CLUST_CWW_E_ext_id379.sed',\n",
       " '/home/joseph/PhotoZ_PhD/LEPHARE/sed/GAL/FORS2_KinCalClus_batch5/Zsup1_CLUST_CWW_Im_ext_id87.sed',\n",
       " '/home/joseph/PhotoZ_PhD/LEPHARE/sed/GAL/FORS2_KinCalClus_batch5/Zsup1_CLUST_CWW_Im_ext_id107.sed',\n",
       " '/home/joseph/PhotoZ_PhD/LEPHARE/sed/GAL/FORS2_KinCalClus_batch5/Zsup1_CLUST_CWW_Im_ext_id113.sed',\n",
       " '/home/joseph/PhotoZ_PhD/LEPHARE/sed/GAL/FORS2_KinCalClus_batch5/Zsup1_CLUST_CWW_Im_ext_id114.sed',\n",
       " '/home/joseph/PhotoZ_PhD/LEPHARE/sed/GAL/FORS2_KinCalClus_batch5/Zsup1_CLUST_CWW_Im_ext_id265.sed',\n",
       " '/home/joseph/PhotoZ_PhD/LEPHARE/sed/GAL/FORS2_KinCalClus_batch5/Zsup1_CLUST_CWW_Im_ext_id537.sed',\n",
       " '/home/joseph/PhotoZ_PhD/LEPHARE/sed/GAL/FORS2_KinCalClus_batch5/Zsup1_CLUST_CWW_Im_ext_id546.sed',\n",
       " '/home/joseph/PhotoZ_PhD/LEPHARE/sed/GAL/FORS2_KinCalClus_batch5/EXT1_CLUST_CWW_Im_ext_id344.sed',\n",
       " '/home/joseph/PhotoZ_PhD/LEPHARE/sed/GAL/FORS2_KinCalClus_batch5/EXT2_CLUST_CWW_Im_ext_id699.sed',\n",
       " '/home/joseph/PhotoZ_PhD/LEPHARE/sed/GAL/FORS2_KinCalClus_batch5/Zsup1_CLUST_CWW_Scd_ext_id45.sed',\n",
       " '/home/joseph/PhotoZ_PhD/LEPHARE/sed/GAL/FORS2_KinCalClus_batch5/Zsup1_CLUST_CWW_Scd_ext_id268.sed',\n",
       " '/home/joseph/PhotoZ_PhD/LEPHARE/sed/GAL/FORS2_KinCalClus_batch5/Zsup1_CLUST_CWW_Scd_ext_id291.sed',\n",
       " '/home/joseph/PhotoZ_PhD/LEPHARE/sed/GAL/FORS2_KinCalClus_batch5/Zsup1_CLUST_CWW_Scd_ext_id354.sed',\n",
       " '/home/joseph/PhotoZ_PhD/LEPHARE/sed/GAL/FORS2_KinCalClus_batch5/Zsup1_CLUST_CWW_Scd_ext_id639.sed',\n",
       " '/home/joseph/PhotoZ_PhD/LEPHARE/sed/GAL/FORS2_KinCalClus_batch5/EXT1_CLUST_CWW_Scd_ext_id532.sed',\n",
       " '/home/joseph/PhotoZ_PhD/LEPHARE/sed/GAL/FORS2_KinCalClus_batch5/EXT2_CLUST_CWW_Scd_ext_id585.sed',\n",
       " '/home/joseph/PhotoZ_PhD/LEPHARE/sed/GAL/FORS2_KinCalClus_batch5/Zsup1_CLUST_KIN_Sb_ext_id282.sed',\n",
       " '/home/joseph/PhotoZ_PhD/LEPHARE/sed/GAL/FORS2_KinCalClus_batch5/EXT1_CLUST_KIN_Sb_ext_id497.sed',\n",
       " '/home/joseph/PhotoZ_PhD/LEPHARE/sed/GAL/FORS2_KinCalClus_batch5/EXT2_CLUST_KIN_Sb_ext_id512.sed',\n",
       " '/home/joseph/PhotoZ_PhD/LEPHARE/sed/GAL/FORS2_KinCalClus_batch5/EXT1_CLUST_KIN_Sa_ext_id223.sed',\n",
       " '/home/joseph/PhotoZ_PhD/LEPHARE/sed/GAL/FORS2_KinCalClus_batch5/EXT2_CLUST_KIN_Sa_ext_id674.sed']"
      ]
     },
     "execution_count": 11,
     "metadata": {},
     "output_type": "execute_result"
    }
   ],
   "source": [
    "sed_file=os.path.abspath(\"./lephare_cosmos/SED_FORS2_KinCalClus_SL_v5.list\")\n",
    "sed_list = []\n",
    "with open(sed_file, 'r') as seds:\n",
    "    for sed in seds:\n",
    "        if sed[0] == \"#\":\n",
    "            pass\n",
    "        else:\n",
    "            sed_list.append(os.path.abspath(os.path.join('./LEPHARE/sed/GAL', sed[:-1])))\n",
    "sed_list"
   ]
  },
  {
   "cell_type": "code",
   "execution_count": 12,
   "id": "0d947353",
   "metadata": {},
   "outputs": [
    {
     "data": {
      "text/plain": [
       "{'AVG_CLUST_CWW_Sbc': '/home/joseph/PhotoZ_PhD/LEPHARE/sed/GAL/FORS2_KinCalClus_batch5/AVG_CLUST_CWW_Sbc_ext.sed',\n",
       " 'AVG_CLUST_CWW_E': '/home/joseph/PhotoZ_PhD/LEPHARE/sed/GAL/FORS2_KinCalClus_batch5/AVG_CLUST_CWW_E_ext.sed',\n",
       " 'AVG_CLUST_CWW_Im': '/home/joseph/PhotoZ_PhD/LEPHARE/sed/GAL/FORS2_KinCalClus_batch5/AVG_CLUST_CWW_Im_ext.sed',\n",
       " 'AVG_CLUST_CWW_Scd': '/home/joseph/PhotoZ_PhD/LEPHARE/sed/GAL/FORS2_KinCalClus_batch5/AVG_CLUST_CWW_Scd_ext.sed',\n",
       " 'AVG_CLUST_KIN_Sb': '/home/joseph/PhotoZ_PhD/LEPHARE/sed/GAL/FORS2_KinCalClus_batch5/AVG_CLUST_KIN_Sb_ext.sed',\n",
       " 'AVG_CLUST_KIN_Sa': '/home/joseph/PhotoZ_PhD/LEPHARE/sed/GAL/FORS2_KinCalClus_batch5/AVG_CLUST_KIN_Sa_ext.sed',\n",
       " 'CWW_Sbc-id226': '/home/joseph/PhotoZ_PhD/LEPHARE/sed/GAL/FORS2_KinCalClus_batch5/Zsup1_CLUST_CWW_Sbc_ext_id226.sed',\n",
       " 'CWW_Sbc-id227': '/home/joseph/PhotoZ_PhD/LEPHARE/sed/GAL/FORS2_KinCalClus_batch5/Zsup1_CLUST_CWW_Sbc_ext_id227.sed',\n",
       " 'CWW_Sbc-id451': '/home/joseph/PhotoZ_PhD/LEPHARE/sed/GAL/FORS2_KinCalClus_batch5/Zsup1_CLUST_CWW_Sbc_ext_id451.sed',\n",
       " 'CWW_Sbc-id714': '/home/joseph/PhotoZ_PhD/LEPHARE/sed/GAL/FORS2_KinCalClus_batch5/Zsup1_CLUST_CWW_Sbc_ext_id714.sed',\n",
       " 'CWW_Sbc-id496': '/home/joseph/PhotoZ_PhD/LEPHARE/sed/GAL/FORS2_KinCalClus_batch5/EXT1_CLUST_CWW_Sbc_ext_id496.sed',\n",
       " 'CWW_Sbc-id589': '/home/joseph/PhotoZ_PhD/LEPHARE/sed/GAL/FORS2_KinCalClus_batch5/EXT2_CLUST_CWW_Sbc_ext_id589.sed',\n",
       " 'CWW_E-id304': '/home/joseph/PhotoZ_PhD/LEPHARE/sed/GAL/FORS2_KinCalClus_batch5/EXT1_CLUST_CWW_E_ext_id304.sed',\n",
       " 'CWW_E-id379': '/home/joseph/PhotoZ_PhD/LEPHARE/sed/GAL/FORS2_KinCalClus_batch5/EXT2_CLUST_CWW_E_ext_id379.sed',\n",
       " 'CWW_Im-id87': '/home/joseph/PhotoZ_PhD/LEPHARE/sed/GAL/FORS2_KinCalClus_batch5/Zsup1_CLUST_CWW_Im_ext_id87.sed',\n",
       " 'CWW_Im-id107': '/home/joseph/PhotoZ_PhD/LEPHARE/sed/GAL/FORS2_KinCalClus_batch5/Zsup1_CLUST_CWW_Im_ext_id107.sed',\n",
       " 'CWW_Im-id113': '/home/joseph/PhotoZ_PhD/LEPHARE/sed/GAL/FORS2_KinCalClus_batch5/Zsup1_CLUST_CWW_Im_ext_id113.sed',\n",
       " 'CWW_Im-id114': '/home/joseph/PhotoZ_PhD/LEPHARE/sed/GAL/FORS2_KinCalClus_batch5/Zsup1_CLUST_CWW_Im_ext_id114.sed',\n",
       " 'CWW_Im-id265': '/home/joseph/PhotoZ_PhD/LEPHARE/sed/GAL/FORS2_KinCalClus_batch5/Zsup1_CLUST_CWW_Im_ext_id265.sed',\n",
       " 'CWW_Im-id537': '/home/joseph/PhotoZ_PhD/LEPHARE/sed/GAL/FORS2_KinCalClus_batch5/Zsup1_CLUST_CWW_Im_ext_id537.sed',\n",
       " 'CWW_Im-id546': '/home/joseph/PhotoZ_PhD/LEPHARE/sed/GAL/FORS2_KinCalClus_batch5/Zsup1_CLUST_CWW_Im_ext_id546.sed',\n",
       " 'CWW_Im-id344': '/home/joseph/PhotoZ_PhD/LEPHARE/sed/GAL/FORS2_KinCalClus_batch5/EXT1_CLUST_CWW_Im_ext_id344.sed',\n",
       " 'CWW_Im-id699': '/home/joseph/PhotoZ_PhD/LEPHARE/sed/GAL/FORS2_KinCalClus_batch5/EXT2_CLUST_CWW_Im_ext_id699.sed',\n",
       " 'CWW_Scd-id45': '/home/joseph/PhotoZ_PhD/LEPHARE/sed/GAL/FORS2_KinCalClus_batch5/Zsup1_CLUST_CWW_Scd_ext_id45.sed',\n",
       " 'CWW_Scd-id268': '/home/joseph/PhotoZ_PhD/LEPHARE/sed/GAL/FORS2_KinCalClus_batch5/Zsup1_CLUST_CWW_Scd_ext_id268.sed',\n",
       " 'CWW_Scd-id291': '/home/joseph/PhotoZ_PhD/LEPHARE/sed/GAL/FORS2_KinCalClus_batch5/Zsup1_CLUST_CWW_Scd_ext_id291.sed',\n",
       " 'CWW_Scd-id354': '/home/joseph/PhotoZ_PhD/LEPHARE/sed/GAL/FORS2_KinCalClus_batch5/Zsup1_CLUST_CWW_Scd_ext_id354.sed',\n",
       " 'CWW_Scd-id639': '/home/joseph/PhotoZ_PhD/LEPHARE/sed/GAL/FORS2_KinCalClus_batch5/Zsup1_CLUST_CWW_Scd_ext_id639.sed',\n",
       " 'CWW_Scd-id532': '/home/joseph/PhotoZ_PhD/LEPHARE/sed/GAL/FORS2_KinCalClus_batch5/EXT1_CLUST_CWW_Scd_ext_id532.sed',\n",
       " 'CWW_Scd-id585': '/home/joseph/PhotoZ_PhD/LEPHARE/sed/GAL/FORS2_KinCalClus_batch5/EXT2_CLUST_CWW_Scd_ext_id585.sed',\n",
       " 'KIN_Sb-id282': '/home/joseph/PhotoZ_PhD/LEPHARE/sed/GAL/FORS2_KinCalClus_batch5/Zsup1_CLUST_KIN_Sb_ext_id282.sed',\n",
       " 'KIN_Sb-id497': '/home/joseph/PhotoZ_PhD/LEPHARE/sed/GAL/FORS2_KinCalClus_batch5/EXT1_CLUST_KIN_Sb_ext_id497.sed',\n",
       " 'KIN_Sb-id512': '/home/joseph/PhotoZ_PhD/LEPHARE/sed/GAL/FORS2_KinCalClus_batch5/EXT2_CLUST_KIN_Sb_ext_id512.sed',\n",
       " 'KIN_Sa-id223': '/home/joseph/PhotoZ_PhD/LEPHARE/sed/GAL/FORS2_KinCalClus_batch5/EXT1_CLUST_KIN_Sa_ext_id223.sed',\n",
       " 'KIN_Sa-id674': '/home/joseph/PhotoZ_PhD/LEPHARE/sed/GAL/FORS2_KinCalClus_batch5/EXT2_CLUST_KIN_Sa_ext_id674.sed'}"
      ]
     },
     "execution_count": 12,
     "metadata": {},
     "output_type": "execute_result"
    }
   ],
   "source": [
    "sed_dict = {}\n",
    "for sed in sed_list:\n",
    "    file = sed.split('/')[-1]\n",
    "    attrs = file.split(\"_\")\n",
    "    if attrs[0] == \"AVG\":\n",
    "        name=\"_\".join(attrs[:4])\n",
    "    else:\n",
    "        name=\"_\".join(attrs[2:4])+\"-\"+(attrs[-1]).split('.')[0]\n",
    "    sed_dict[name] = sed\n",
    "sed_dict"
   ]
  },
  {
   "cell_type": "markdown",
   "id": "ea8f5d28",
   "metadata": {},
   "source": [
    "# Sequential test of the main code"
   ]
  },
  {
   "cell_type": "code",
   "execution_count": 13,
   "id": "09f82373",
   "metadata": {},
   "outputs": [
    {
     "name": "stdout",
     "output_type": "stream",
     "text": [
      "LCDM cosmology with h0=70.0 ; Om0=0.3 ; l0=0.7.\n",
      "The Universe was 465531 years old at CMB emission.\n",
      "The Universe is 13471095764 years old now.\n"
     ]
    }
   ],
   "source": [
    "conf_json = os.path.abspath('./EmuLP/COSMOS2020-with-FORS2.json')\n",
    "with open(conf_json, \"r\") as inpfile:\n",
    "        inputs = json.load(inpfile)\n",
    "lcdm = Cosmology.Cosmology(inputs['Cosmology']['h0'], inputs['Cosmology']['om0'], inputs['Cosmology']['l0'])\n",
    "print(lcdm)\n",
    "print(f\"The Universe was {lcdm.time(1100):.0f} years old at CMB emission.\")\n",
    "print(f\"The Universe is {lcdm.time(0):.0f} years old now.\")"
   ]
  },
  {
   "cell_type": "code",
   "execution_count": 14,
   "id": "05efd1f8",
   "metadata": {},
   "outputs": [],
   "source": [
    "templates_dict = inputs['Templates']\n",
    "z_grid = np.arange(inputs['Z_GRID']['z_min'], inputs['Z_GRID']['z_max']+inputs['Z_GRID']['z_step'], inputs['Z_GRID']['z_step'])\n",
    "wl_grid = np.arange(inputs['WL_GRID']['lambda_min'], inputs['WL_GRID']['lambda_max']+inputs['WL_GRID']['lambda_step'], inputs['WL_GRID']['lambda_step'])\n",
    "extlaws_dict = inputs['Extinctions']\n",
    "extlaws_arr = np.array( [ Extinction.Extinction(key, extlaws_dict[key]) for key in extlaws_dict.keys() ] )\n",
    "\n",
    "filters_dict = inputs['Filters']\n",
    "filters_arr = np.array( [ Filter.Filter(key, filters_dict[key][\"path\"], filters_dict[key][\"transmission\"]) for key in filters_dict.keys() ] )\n",
    "N_FILT = len(filters_arr)\n",
    "\n",
    "df_filters = Filter.to_df(filters_arr, wl_grid, inputs[\"save results\"], f\"{inputs['run name']}_filters\")"
   ]
  },
  {
   "cell_type": "code",
   "execution_count": 15,
   "id": "514ad8de",
   "metadata": {},
   "outputs": [
    {
     "data": {
      "text/html": [
       "<div>\n",
       "<style scoped>\n",
       "    .dataframe tbody tr th:only-of-type {\n",
       "        vertical-align: middle;\n",
       "    }\n",
       "\n",
       "    .dataframe tbody tr th {\n",
       "        vertical-align: top;\n",
       "    }\n",
       "\n",
       "    .dataframe thead th {\n",
       "        text-align: right;\n",
       "    }\n",
       "</style>\n",
       "<table border=\"1\" class=\"dataframe\">\n",
       "  <thead>\n",
       "    <tr style=\"text-align: right;\">\n",
       "      <th></th>\n",
       "      <th>cosmos_u_cfht</th>\n",
       "      <th>cosmos_u_new</th>\n",
       "      <th>hsc_gHSC</th>\n",
       "      <th>hsc_rHSC</th>\n",
       "      <th>hsc_iHSC</th>\n",
       "      <th>hsc_zHSC</th>\n",
       "      <th>hsc_yHSC</th>\n",
       "      <th>vista_Y</th>\n",
       "      <th>vista_J</th>\n",
       "      <th>vista_H</th>\n",
       "      <th>...</th>\n",
       "      <th>cosmos_IB738</th>\n",
       "      <th>cosmos_IB767</th>\n",
       "      <th>cosmos_IB827</th>\n",
       "      <th>cosmos_NB711</th>\n",
       "      <th>cosmos_NB816</th>\n",
       "      <th>vista_NB118</th>\n",
       "      <th>cosmos_irac_ch1</th>\n",
       "      <th>cosmos_irac_ch2</th>\n",
       "      <th>cosmos_irac_ch3</th>\n",
       "      <th>cosmos_irac_ch4</th>\n",
       "    </tr>\n",
       "  </thead>\n",
       "  <tbody>\n",
       "    <tr>\n",
       "      <th>100.0</th>\n",
       "      <td>0.0</td>\n",
       "      <td>0.0</td>\n",
       "      <td>0.0</td>\n",
       "      <td>0.0</td>\n",
       "      <td>0.0</td>\n",
       "      <td>0.0</td>\n",
       "      <td>0.0</td>\n",
       "      <td>0.0</td>\n",
       "      <td>0.0</td>\n",
       "      <td>0.0</td>\n",
       "      <td>...</td>\n",
       "      <td>0.0</td>\n",
       "      <td>0.0</td>\n",
       "      <td>0.0</td>\n",
       "      <td>0.0</td>\n",
       "      <td>0.0</td>\n",
       "      <td>0.0</td>\n",
       "      <td>0.0</td>\n",
       "      <td>0.0</td>\n",
       "      <td>0.0</td>\n",
       "      <td>0.0</td>\n",
       "    </tr>\n",
       "    <tr>\n",
       "      <th>110.0</th>\n",
       "      <td>0.0</td>\n",
       "      <td>0.0</td>\n",
       "      <td>0.0</td>\n",
       "      <td>0.0</td>\n",
       "      <td>0.0</td>\n",
       "      <td>0.0</td>\n",
       "      <td>0.0</td>\n",
       "      <td>0.0</td>\n",
       "      <td>0.0</td>\n",
       "      <td>0.0</td>\n",
       "      <td>...</td>\n",
       "      <td>0.0</td>\n",
       "      <td>0.0</td>\n",
       "      <td>0.0</td>\n",
       "      <td>0.0</td>\n",
       "      <td>0.0</td>\n",
       "      <td>0.0</td>\n",
       "      <td>0.0</td>\n",
       "      <td>0.0</td>\n",
       "      <td>0.0</td>\n",
       "      <td>0.0</td>\n",
       "    </tr>\n",
       "    <tr>\n",
       "      <th>120.0</th>\n",
       "      <td>0.0</td>\n",
       "      <td>0.0</td>\n",
       "      <td>0.0</td>\n",
       "      <td>0.0</td>\n",
       "      <td>0.0</td>\n",
       "      <td>0.0</td>\n",
       "      <td>0.0</td>\n",
       "      <td>0.0</td>\n",
       "      <td>0.0</td>\n",
       "      <td>0.0</td>\n",
       "      <td>...</td>\n",
       "      <td>0.0</td>\n",
       "      <td>0.0</td>\n",
       "      <td>0.0</td>\n",
       "      <td>0.0</td>\n",
       "      <td>0.0</td>\n",
       "      <td>0.0</td>\n",
       "      <td>0.0</td>\n",
       "      <td>0.0</td>\n",
       "      <td>0.0</td>\n",
       "      <td>0.0</td>\n",
       "    </tr>\n",
       "    <tr>\n",
       "      <th>130.0</th>\n",
       "      <td>0.0</td>\n",
       "      <td>0.0</td>\n",
       "      <td>0.0</td>\n",
       "      <td>0.0</td>\n",
       "      <td>0.0</td>\n",
       "      <td>0.0</td>\n",
       "      <td>0.0</td>\n",
       "      <td>0.0</td>\n",
       "      <td>0.0</td>\n",
       "      <td>0.0</td>\n",
       "      <td>...</td>\n",
       "      <td>0.0</td>\n",
       "      <td>0.0</td>\n",
       "      <td>0.0</td>\n",
       "      <td>0.0</td>\n",
       "      <td>0.0</td>\n",
       "      <td>0.0</td>\n",
       "      <td>0.0</td>\n",
       "      <td>0.0</td>\n",
       "      <td>0.0</td>\n",
       "      <td>0.0</td>\n",
       "    </tr>\n",
       "    <tr>\n",
       "      <th>140.0</th>\n",
       "      <td>0.0</td>\n",
       "      <td>0.0</td>\n",
       "      <td>0.0</td>\n",
       "      <td>0.0</td>\n",
       "      <td>0.0</td>\n",
       "      <td>0.0</td>\n",
       "      <td>0.0</td>\n",
       "      <td>0.0</td>\n",
       "      <td>0.0</td>\n",
       "      <td>0.0</td>\n",
       "      <td>...</td>\n",
       "      <td>0.0</td>\n",
       "      <td>0.0</td>\n",
       "      <td>0.0</td>\n",
       "      <td>0.0</td>\n",
       "      <td>0.0</td>\n",
       "      <td>0.0</td>\n",
       "      <td>0.0</td>\n",
       "      <td>0.0</td>\n",
       "      <td>0.0</td>\n",
       "      <td>0.0</td>\n",
       "    </tr>\n",
       "    <tr>\n",
       "      <th>...</th>\n",
       "      <td>...</td>\n",
       "      <td>...</td>\n",
       "      <td>...</td>\n",
       "      <td>...</td>\n",
       "      <td>...</td>\n",
       "      <td>...</td>\n",
       "      <td>...</td>\n",
       "      <td>...</td>\n",
       "      <td>...</td>\n",
       "      <td>...</td>\n",
       "      <td>...</td>\n",
       "      <td>...</td>\n",
       "      <td>...</td>\n",
       "      <td>...</td>\n",
       "      <td>...</td>\n",
       "      <td>...</td>\n",
       "      <td>...</td>\n",
       "      <td>...</td>\n",
       "      <td>...</td>\n",
       "      <td>...</td>\n",
       "      <td>...</td>\n",
       "    </tr>\n",
       "    <tr>\n",
       "      <th>99960.0</th>\n",
       "      <td>0.0</td>\n",
       "      <td>0.0</td>\n",
       "      <td>0.0</td>\n",
       "      <td>0.0</td>\n",
       "      <td>0.0</td>\n",
       "      <td>0.0</td>\n",
       "      <td>0.0</td>\n",
       "      <td>0.0</td>\n",
       "      <td>0.0</td>\n",
       "      <td>0.0</td>\n",
       "      <td>...</td>\n",
       "      <td>0.0</td>\n",
       "      <td>0.0</td>\n",
       "      <td>0.0</td>\n",
       "      <td>0.0</td>\n",
       "      <td>0.0</td>\n",
       "      <td>0.0</td>\n",
       "      <td>0.0</td>\n",
       "      <td>0.0</td>\n",
       "      <td>0.0</td>\n",
       "      <td>0.0</td>\n",
       "    </tr>\n",
       "    <tr>\n",
       "      <th>99970.0</th>\n",
       "      <td>0.0</td>\n",
       "      <td>0.0</td>\n",
       "      <td>0.0</td>\n",
       "      <td>0.0</td>\n",
       "      <td>0.0</td>\n",
       "      <td>0.0</td>\n",
       "      <td>0.0</td>\n",
       "      <td>0.0</td>\n",
       "      <td>0.0</td>\n",
       "      <td>0.0</td>\n",
       "      <td>...</td>\n",
       "      <td>0.0</td>\n",
       "      <td>0.0</td>\n",
       "      <td>0.0</td>\n",
       "      <td>0.0</td>\n",
       "      <td>0.0</td>\n",
       "      <td>0.0</td>\n",
       "      <td>0.0</td>\n",
       "      <td>0.0</td>\n",
       "      <td>0.0</td>\n",
       "      <td>0.0</td>\n",
       "    </tr>\n",
       "    <tr>\n",
       "      <th>99980.0</th>\n",
       "      <td>0.0</td>\n",
       "      <td>0.0</td>\n",
       "      <td>0.0</td>\n",
       "      <td>0.0</td>\n",
       "      <td>0.0</td>\n",
       "      <td>0.0</td>\n",
       "      <td>0.0</td>\n",
       "      <td>0.0</td>\n",
       "      <td>0.0</td>\n",
       "      <td>0.0</td>\n",
       "      <td>...</td>\n",
       "      <td>0.0</td>\n",
       "      <td>0.0</td>\n",
       "      <td>0.0</td>\n",
       "      <td>0.0</td>\n",
       "      <td>0.0</td>\n",
       "      <td>0.0</td>\n",
       "      <td>0.0</td>\n",
       "      <td>0.0</td>\n",
       "      <td>0.0</td>\n",
       "      <td>0.0</td>\n",
       "    </tr>\n",
       "    <tr>\n",
       "      <th>99990.0</th>\n",
       "      <td>0.0</td>\n",
       "      <td>0.0</td>\n",
       "      <td>0.0</td>\n",
       "      <td>0.0</td>\n",
       "      <td>0.0</td>\n",
       "      <td>0.0</td>\n",
       "      <td>0.0</td>\n",
       "      <td>0.0</td>\n",
       "      <td>0.0</td>\n",
       "      <td>0.0</td>\n",
       "      <td>...</td>\n",
       "      <td>0.0</td>\n",
       "      <td>0.0</td>\n",
       "      <td>0.0</td>\n",
       "      <td>0.0</td>\n",
       "      <td>0.0</td>\n",
       "      <td>0.0</td>\n",
       "      <td>0.0</td>\n",
       "      <td>0.0</td>\n",
       "      <td>0.0</td>\n",
       "      <td>0.0</td>\n",
       "    </tr>\n",
       "    <tr>\n",
       "      <th>100000.0</th>\n",
       "      <td>0.0</td>\n",
       "      <td>0.0</td>\n",
       "      <td>0.0</td>\n",
       "      <td>0.0</td>\n",
       "      <td>0.0</td>\n",
       "      <td>0.0</td>\n",
       "      <td>0.0</td>\n",
       "      <td>0.0</td>\n",
       "      <td>0.0</td>\n",
       "      <td>0.0</td>\n",
       "      <td>...</td>\n",
       "      <td>0.0</td>\n",
       "      <td>0.0</td>\n",
       "      <td>0.0</td>\n",
       "      <td>0.0</td>\n",
       "      <td>0.0</td>\n",
       "      <td>0.0</td>\n",
       "      <td>0.0</td>\n",
       "      <td>0.0</td>\n",
       "      <td>0.0</td>\n",
       "      <td>0.0</td>\n",
       "    </tr>\n",
       "  </tbody>\n",
       "</table>\n",
       "<p>9991 rows × 30 columns</p>\n",
       "</div>"
      ],
      "text/plain": [
       "          cosmos_u_cfht  cosmos_u_new  hsc_gHSC  hsc_rHSC  hsc_iHSC  hsc_zHSC   \n",
       "100.0               0.0           0.0       0.0       0.0       0.0       0.0  \\\n",
       "110.0               0.0           0.0       0.0       0.0       0.0       0.0   \n",
       "120.0               0.0           0.0       0.0       0.0       0.0       0.0   \n",
       "130.0               0.0           0.0       0.0       0.0       0.0       0.0   \n",
       "140.0               0.0           0.0       0.0       0.0       0.0       0.0   \n",
       "...                 ...           ...       ...       ...       ...       ...   \n",
       "99960.0             0.0           0.0       0.0       0.0       0.0       0.0   \n",
       "99970.0             0.0           0.0       0.0       0.0       0.0       0.0   \n",
       "99980.0             0.0           0.0       0.0       0.0       0.0       0.0   \n",
       "99990.0             0.0           0.0       0.0       0.0       0.0       0.0   \n",
       "100000.0            0.0           0.0       0.0       0.0       0.0       0.0   \n",
       "\n",
       "          hsc_yHSC  vista_Y  vista_J  vista_H  ...  cosmos_IB738   \n",
       "100.0          0.0      0.0      0.0      0.0  ...           0.0  \\\n",
       "110.0          0.0      0.0      0.0      0.0  ...           0.0   \n",
       "120.0          0.0      0.0      0.0      0.0  ...           0.0   \n",
       "130.0          0.0      0.0      0.0      0.0  ...           0.0   \n",
       "140.0          0.0      0.0      0.0      0.0  ...           0.0   \n",
       "...            ...      ...      ...      ...  ...           ...   \n",
       "99960.0        0.0      0.0      0.0      0.0  ...           0.0   \n",
       "99970.0        0.0      0.0      0.0      0.0  ...           0.0   \n",
       "99980.0        0.0      0.0      0.0      0.0  ...           0.0   \n",
       "99990.0        0.0      0.0      0.0      0.0  ...           0.0   \n",
       "100000.0       0.0      0.0      0.0      0.0  ...           0.0   \n",
       "\n",
       "          cosmos_IB767  cosmos_IB827  cosmos_NB711  cosmos_NB816  vista_NB118   \n",
       "100.0              0.0           0.0           0.0           0.0          0.0  \\\n",
       "110.0              0.0           0.0           0.0           0.0          0.0   \n",
       "120.0              0.0           0.0           0.0           0.0          0.0   \n",
       "130.0              0.0           0.0           0.0           0.0          0.0   \n",
       "140.0              0.0           0.0           0.0           0.0          0.0   \n",
       "...                ...           ...           ...           ...          ...   \n",
       "99960.0            0.0           0.0           0.0           0.0          0.0   \n",
       "99970.0            0.0           0.0           0.0           0.0          0.0   \n",
       "99980.0            0.0           0.0           0.0           0.0          0.0   \n",
       "99990.0            0.0           0.0           0.0           0.0          0.0   \n",
       "100000.0           0.0           0.0           0.0           0.0          0.0   \n",
       "\n",
       "          cosmos_irac_ch1  cosmos_irac_ch2  cosmos_irac_ch3  cosmos_irac_ch4  \n",
       "100.0                 0.0              0.0              0.0              0.0  \n",
       "110.0                 0.0              0.0              0.0              0.0  \n",
       "120.0                 0.0              0.0              0.0              0.0  \n",
       "130.0                 0.0              0.0              0.0              0.0  \n",
       "140.0                 0.0              0.0              0.0              0.0  \n",
       "...                   ...              ...              ...              ...  \n",
       "99960.0               0.0              0.0              0.0              0.0  \n",
       "99970.0               0.0              0.0              0.0              0.0  \n",
       "99980.0               0.0              0.0              0.0              0.0  \n",
       "99990.0               0.0              0.0              0.0              0.0  \n",
       "100000.0              0.0              0.0              0.0              0.0  \n",
       "\n",
       "[9991 rows x 30 columns]"
      ]
     },
     "execution_count": 15,
     "metadata": {},
     "output_type": "execute_result"
    }
   ],
   "source": [
    "df_filters"
   ]
  },
  {
   "cell_type": "code",
   "execution_count": 18,
   "id": "0567ae4c",
   "metadata": {},
   "outputs": [
    {
     "data": {
      "text/plain": [
       "(0.0, 1.1)"
      ]
     },
     "execution_count": 18,
     "metadata": {},
     "output_type": "execute_result"
    },
    {
     "data": {
      "image/png": "[encoded data removed]",
      "text/plain": [
       "<Figure size 640x480 with 1 Axes>"
      ]
     },
     "metadata": {},
     "output_type": "display_data"
    }
   ],
   "source": [
    "df_filters.plot()\n",
    "plt.ylim(0., 1.1)\n",
    "#plt.xlim(0., 100000.)"
   ]
  },
  {
   "cell_type": "code",
   "execution_count": 20,
   "id": "5125e5ad",
   "metadata": {},
   "outputs": [
    {
     "name": "stderr",
     "output_type": "stream",
     "text": [
      "/home/joseph/PhotoZ_PhD/EmuLP/Template.py:62: RuntimeWarning: invalid value encountered in divide\n",
      "  self.spec_norm = self.lumins / self.norm\n"
     ]
    },
    {
     "ename": "NameError",
     "evalue": "name 'Estimator' is not defined",
     "output_type": "error",
     "traceback": [
      "\u001b[0;31m---------------------------------------------------------------------------\u001b[0m",
      "\u001b[0;31mNameError\u001b[0m                                 Traceback (most recent call last)",
      "Cell \u001b[0;32mIn[20], line 18\u001b[0m\n\u001b[1;32m     16\u001b[0m estim_method \u001b[38;5;241m=\u001b[39m inputs[\u001b[38;5;124m'\u001b[39m\u001b[38;5;124mEstimator\u001b[39m\u001b[38;5;124m'\u001b[39m]\n\u001b[1;32m     17\u001b[0m \u001b[38;5;28;01mif\u001b[39;00m estim_method\u001b[38;5;241m.\u001b[39mlower() \u001b[38;5;241m==\u001b[39m \u001b[38;5;124m'\u001b[39m\u001b[38;5;124mchi2\u001b[39m\u001b[38;5;124m'\u001b[39m:\n\u001b[0;32m---> 18\u001b[0m     zp_estim \u001b[38;5;241m=\u001b[39m \u001b[43mEstimator\u001b[49m\u001b[38;5;241m.\u001b[39mChi2(estim_method, templates_arr)\n\u001b[1;32m     19\u001b[0m \u001b[38;5;28;01melse\u001b[39;00m:\n\u001b[1;32m     20\u001b[0m     \u001b[38;5;28;01mraise\u001b[39;00m \u001b[38;5;167;01mRuntimeError\u001b[39;00m(\u001b[38;5;124mf\u001b[39m\u001b[38;5;124m\"\u001b[39m\u001b[38;5;124mUnimplemented estimator \u001b[39m\u001b[38;5;132;01m{\u001b[39;00mestim_method\u001b[38;5;132;01m}\u001b[39;00m\u001b[38;5;124m.\u001b[39m\u001b[38;5;130;01m\\n\u001b[39;00m\u001b[38;5;124mPlease specify one of the following: chi2, <more to come>.\u001b[39m\u001b[38;5;124m\"\u001b[39m)\n",
      "\u001b[0;31mNameError\u001b[0m: name 'Estimator' is not defined"
     ]
    }
   ],
   "source": [
    "templates_arr = np.array([])\n",
    "\n",
    "for temp_key in templates_dict:\n",
    "    template = Template.Template(temp_key, templates_dict[temp_key])\n",
    "    for extinction in extlaws_arr:\n",
    "        for ebv in inputs['e_BV']:\n",
    "            template.apply_extinc(extinction, ebv)\n",
    "            for redshift in z_grid:\n",
    "                template.to_redshift(redshift, lcdm)\n",
    "                template.normalize(1000., 10000.)\n",
    "                #print(np.trapz(filters_arr[0].f_transmit(template.wavelengths), template.wavelengths))\n",
    "                template.fill_magnitudes(filters_arr)\n",
    "                #print(template.magnitudes)\n",
    "                templates_arr = np.append(templates_arr, template)\n",
    "\n",
    "estim_method = inputs['Estimator']\n",
    "if estim_method.lower() == 'chi2':\n",
    "    zp_estim = Estimator.Chi2(estim_method, templates_arr)\n",
    "else:\n",
    "    raise RuntimeError(f\"Unimplemented estimator {estim_method}.\\nPlease specify one of the following: chi2, <more to come>.\")"
   ]
  },
  {
   "cell_type": "code",
   "execution_count": null,
   "id": "40f1dbde",
   "metadata": {},
   "outputs": [],
   "source": []
  }
 ],
 "metadata": {
  "kernelspec": {
   "display_name": "Python 3 (ipykernel)",
   "language": "python",
   "name": "python3"
  },
  "language_info": {
   "codemirror_mode": {
    "name": "ipython",
    "version": 3
   },
   "file_extension": ".py",
   "mimetype": "text/x-python",
   "name": "python",
   "nbconvert_exporter": "python",
   "pygments_lexer": "ipython3",
   "version": "3.11.0"
  }
 },
 "nbformat": 4,
 "nbformat_minor": 5
}
